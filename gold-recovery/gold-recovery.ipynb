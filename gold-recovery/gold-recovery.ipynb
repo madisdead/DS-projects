{
 "cells": [
  {
   "cell_type": "markdown",
   "metadata": {},
   "source": [
    "# Восстановление золота из руды"
   ]
  },
  {
   "cell_type": "markdown",
   "metadata": {},
   "source": [
    "Подготовьте прототип модели машинного обучения для «Цифры». Компания разрабатывает решения для эффективной работы промышленных предприятий.\n",
    "\n",
    "Модель должна предсказать коэффициент восстановления золота из золотосодержащей руды. Используйте данные с параметрами добычи и очистки. \n",
    "\n",
    "Модель поможет оптимизировать производство, чтобы не запускать предприятие с убыточными характеристиками.\n",
    "\n",
    "Вам нужно:\n",
    "\n",
    "1. Подготовить данные;\n",
    "2. Провести исследовательский анализ данных;\n",
    "3. Построить и обучить модель.\n",
    "\n",
    "Чтобы выполнить проект, обращайтесь к библиотекам *pandas*, *matplotlib* и *sklearn.* Вам поможет их документация."
   ]
  },
  {
   "cell_type": "code",
   "execution_count": 1,
   "metadata": {},
   "outputs": [],
   "source": [
    "import pandas as pd\n",
    "import seaborn as sns\n",
    "import numpy as np\n",
    "import matplotlib.pyplot as plt\n",
    "from sklearn.model_selection import train_test_split\n",
    "from sklearn.linear_model import LinearRegression\n",
    "from sklearn.tree import DecisionTreeRegressor\n",
    "from sklearn.ensemble import RandomForestRegressor\n",
    "from sklearn.dummy import DummyRegressor\n",
    "from sklearn.metrics import mean_squared_error, mean_absolute_error, make_scorer\n",
    "from sklearn.preprocessing import StandardScaler\n",
    "from numpy.random import RandomState\n",
    "from sklearn.model_selection import cross_val_score"
   ]
  },
  {
   "cell_type": "markdown",
   "metadata": {},
   "source": [
    "## Подготовка данных"
   ]
  },
  {
   "cell_type": "code",
   "execution_count": 2,
   "metadata": {},
   "outputs": [],
   "source": [
    "train = pd.read_csv('/datasets/gold_industry_train.csv')\n",
    "test = pd.read_csv('/datasets/gold_industry_test.csv')\n",
    "data = pd.read_csv('/datasets/gold_industry_full.csv')"
   ]
  },
  {
   "cell_type": "code",
   "execution_count": 3,
   "metadata": {
    "scrolled": true
   },
   "outputs": [
    {
     "name": "stdout",
     "output_type": "stream",
     "text": [
      "<class 'pandas.core.frame.DataFrame'>\n",
      "RangeIndex: 14579 entries, 0 to 14578\n",
      "Data columns (total 87 columns):\n",
      " #   Column                                              Non-Null Count  Dtype  \n",
      "---  ------                                              --------------  -----  \n",
      " 0   date                                                14579 non-null  object \n",
      " 1   rougher.input.feed_au                               14579 non-null  float64\n",
      " 2   rougher.input.feed_ag                               14579 non-null  float64\n",
      " 3   rougher.input.feed_pb                               14507 non-null  float64\n",
      " 4   rougher.input.feed_sol                              14502 non-null  float64\n",
      " 5   rougher.input.feed_rate                             14572 non-null  float64\n",
      " 6   rougher.input.feed_size                             14478 non-null  float64\n",
      " 7   rougher.input.floatbank10_sulfate                   14548 non-null  float64\n",
      " 8   rougher.input.floatbank10_xanthate                  14572 non-null  float64\n",
      " 9   rougher.state.floatbank10_a_air                     14579 non-null  float64\n",
      " 10  rougher.state.floatbank10_a_level                   14579 non-null  float64\n",
      " 11  rougher.state.floatbank10_b_air                     14579 non-null  float64\n",
      " 12  rougher.state.floatbank10_b_level                   14579 non-null  float64\n",
      " 13  rougher.state.floatbank10_c_air                     14579 non-null  float64\n",
      " 14  rougher.state.floatbank10_c_level                   14579 non-null  float64\n",
      " 15  rougher.state.floatbank10_d_air                     14579 non-null  float64\n",
      " 16  rougher.state.floatbank10_d_level                   14579 non-null  float64\n",
      " 17  rougher.state.floatbank10_e_air                     14150 non-null  float64\n",
      " 18  rougher.state.floatbank10_e_level                   14579 non-null  float64\n",
      " 19  rougher.state.floatbank10_f_air                     14579 non-null  float64\n",
      " 20  rougher.state.floatbank10_f_level                   14579 non-null  float64\n",
      " 21  rougher.input.floatbank11_sulfate                   14543 non-null  float64\n",
      " 22  rougher.input.floatbank11_xanthate                  14172 non-null  float64\n",
      " 23  rougher.calculation.sulfate_to_au_concentrate       14578 non-null  float64\n",
      " 24  rougher.calculation.floatbank10_sulfate_to_au_feed  14578 non-null  float64\n",
      " 25  rougher.calculation.floatbank11_sulfate_to_au_feed  14578 non-null  float64\n",
      " 26  rougher.calculation.au_pb_ratio                     14579 non-null  float64\n",
      " 27  rougher.output.concentrate_au                       14579 non-null  float64\n",
      " 28  rougher.output.concentrate_ag                       14579 non-null  float64\n",
      " 29  rougher.output.concentrate_pb                       14579 non-null  float64\n",
      " 30  rougher.output.concentrate_sol                      14561 non-null  float64\n",
      " 31  rougher.output.recovery                             14579 non-null  float64\n",
      " 32  rougher.output.tail_au                              14579 non-null  float64\n",
      " 33  rougher.output.tail_ag                              14578 non-null  float64\n",
      " 34  rougher.output.tail_pb                              14579 non-null  float64\n",
      " 35  rougher.output.tail_sol                             14579 non-null  float64\n",
      " 36  primary_cleaner.input.sulfate                       14556 non-null  float64\n",
      " 37  primary_cleaner.input.depressant                    14551 non-null  float64\n",
      " 38  primary_cleaner.input.feed_size                     14579 non-null  float64\n",
      " 39  primary_cleaner.input.xanthate                      14518 non-null  float64\n",
      " 40  primary_cleaner.state.floatbank8_a_air              14576 non-null  float64\n",
      " 41  primary_cleaner.state.floatbank8_a_level            14579 non-null  float64\n",
      " 42  primary_cleaner.state.floatbank8_b_air              14576 non-null  float64\n",
      " 43  primary_cleaner.state.floatbank8_b_level            14579 non-null  float64\n",
      " 44  primary_cleaner.state.floatbank8_c_air              14579 non-null  float64\n",
      " 45  primary_cleaner.state.floatbank8_c_level            14579 non-null  float64\n",
      " 46  primary_cleaner.state.floatbank8_d_air              14578 non-null  float64\n",
      " 47  primary_cleaner.state.floatbank8_d_level            14579 non-null  float64\n",
      " 48  primary_cleaner.output.concentrate_au               14579 non-null  float64\n",
      " 49  primary_cleaner.output.concentrate_ag               14579 non-null  float64\n",
      " 50  primary_cleaner.output.concentrate_pb               14491 non-null  float64\n",
      " 51  primary_cleaner.output.concentrate_sol              14314 non-null  float64\n",
      " 52  primary_cleaner.output.tail_au                      14579 non-null  float64\n",
      " 53  primary_cleaner.output.tail_ag                      14575 non-null  float64\n",
      " 54  primary_cleaner.output.tail_pb                      14573 non-null  float64\n",
      " 55  primary_cleaner.output.tail_sol                     14534 non-null  float64\n",
      " 56  secondary_cleaner.state.floatbank2_a_air            14485 non-null  float64\n",
      " 57  secondary_cleaner.state.floatbank2_a_level          14579 non-null  float64\n",
      " 58  secondary_cleaner.state.floatbank2_b_air            14557 non-null  float64\n",
      " 59  secondary_cleaner.state.floatbank2_b_level          14579 non-null  float64\n",
      " 60  secondary_cleaner.state.floatbank3_a_air            14567 non-null  float64\n",
      " 61  secondary_cleaner.state.floatbank3_a_level          14579 non-null  float64\n",
      " 62  secondary_cleaner.state.floatbank3_b_air            14579 non-null  float64\n",
      " 63  secondary_cleaner.state.floatbank3_b_level          14579 non-null  float64\n",
      " 64  secondary_cleaner.state.floatbank4_a_air            14574 non-null  float64\n",
      " 65  secondary_cleaner.state.floatbank4_a_level          14579 non-null  float64\n",
      " 66  secondary_cleaner.state.floatbank4_b_air            14579 non-null  float64\n",
      " 67  secondary_cleaner.state.floatbank4_b_level          14579 non-null  float64\n",
      " 68  secondary_cleaner.state.floatbank5_a_air            14579 non-null  float64\n",
      " 69  secondary_cleaner.state.floatbank5_a_level          14579 non-null  float64\n",
      " 70  secondary_cleaner.state.floatbank5_b_air            14579 non-null  float64\n",
      " 71  secondary_cleaner.state.floatbank5_b_level          14579 non-null  float64\n",
      " 72  secondary_cleaner.state.floatbank6_a_air            14578 non-null  float64\n",
      " 73  secondary_cleaner.state.floatbank6_a_level          14579 non-null  float64\n",
      " 74  secondary_cleaner.output.tail_au                    14579 non-null  float64\n",
      " 75  secondary_cleaner.output.tail_ag                    14578 non-null  float64\n",
      " 76  secondary_cleaner.output.tail_pb                    14575 non-null  float64\n",
      " 77  secondary_cleaner.output.tail_sol                   13659 non-null  float64\n",
      " 78  final.output.concentrate_au                         14579 non-null  float64\n",
      " 79  final.output.concentrate_ag                         14578 non-null  float64\n",
      " 80  final.output.concentrate_pb                         14578 non-null  float64\n",
      " 81  final.output.concentrate_sol                        14387 non-null  float64\n",
      " 82  final.output.recovery                               14579 non-null  float64\n",
      " 83  final.output.tail_au                                14579 non-null  float64\n",
      " 84  final.output.tail_ag                                14578 non-null  float64\n",
      " 85  final.output.tail_pb                                14504 non-null  float64\n",
      " 86  final.output.tail_sol                               14574 non-null  float64\n",
      "dtypes: float64(86), object(1)\n",
      "memory usage: 9.7+ MB\n"
     ]
    }
   ],
   "source": [
    "train.info()"
   ]
  },
  {
   "cell_type": "code",
   "execution_count": 4,
   "metadata": {
    "scrolled": true
   },
   "outputs": [
    {
     "name": "stdout",
     "output_type": "stream",
     "text": [
      "<class 'pandas.core.frame.DataFrame'>\n",
      "RangeIndex: 4860 entries, 0 to 4859\n",
      "Data columns (total 53 columns):\n",
      " #   Column                                      Non-Null Count  Dtype  \n",
      "---  ------                                      --------------  -----  \n",
      " 0   date                                        4860 non-null   object \n",
      " 1   rougher.input.feed_au                       4860 non-null   float64\n",
      " 2   rougher.input.feed_ag                       4860 non-null   float64\n",
      " 3   rougher.input.feed_pb                       4832 non-null   float64\n",
      " 4   rougher.input.feed_sol                      4838 non-null   float64\n",
      " 5   rougher.input.feed_rate                     4856 non-null   float64\n",
      " 6   rougher.input.feed_size                     4816 non-null   float64\n",
      " 7   rougher.input.floatbank10_sulfate           4857 non-null   float64\n",
      " 8   rougher.input.floatbank10_xanthate          4859 non-null   float64\n",
      " 9   rougher.state.floatbank10_a_air             4859 non-null   float64\n",
      " 10  rougher.state.floatbank10_a_level           4859 non-null   float64\n",
      " 11  rougher.state.floatbank10_b_air             4859 non-null   float64\n",
      " 12  rougher.state.floatbank10_b_level           4859 non-null   float64\n",
      " 13  rougher.state.floatbank10_c_air             4859 non-null   float64\n",
      " 14  rougher.state.floatbank10_c_level           4859 non-null   float64\n",
      " 15  rougher.state.floatbank10_d_air             4860 non-null   float64\n",
      " 16  rougher.state.floatbank10_d_level           4860 non-null   float64\n",
      " 17  rougher.state.floatbank10_e_air             4853 non-null   float64\n",
      " 18  rougher.state.floatbank10_e_level           4860 non-null   float64\n",
      " 19  rougher.state.floatbank10_f_air             4860 non-null   float64\n",
      " 20  rougher.state.floatbank10_f_level           4860 non-null   float64\n",
      " 21  rougher.input.floatbank11_sulfate           4852 non-null   float64\n",
      " 22  rougher.input.floatbank11_xanthate          4814 non-null   float64\n",
      " 23  primary_cleaner.input.sulfate               4859 non-null   float64\n",
      " 24  primary_cleaner.input.depressant            4851 non-null   float64\n",
      " 25  primary_cleaner.input.feed_size             4860 non-null   float64\n",
      " 26  primary_cleaner.input.xanthate              4817 non-null   float64\n",
      " 27  primary_cleaner.state.floatbank8_a_air      4859 non-null   float64\n",
      " 28  primary_cleaner.state.floatbank8_a_level    4859 non-null   float64\n",
      " 29  primary_cleaner.state.floatbank8_b_air      4859 non-null   float64\n",
      " 30  primary_cleaner.state.floatbank8_b_level    4859 non-null   float64\n",
      " 31  primary_cleaner.state.floatbank8_c_air      4858 non-null   float64\n",
      " 32  primary_cleaner.state.floatbank8_c_level    4859 non-null   float64\n",
      " 33  primary_cleaner.state.floatbank8_d_air      4858 non-null   float64\n",
      " 34  primary_cleaner.state.floatbank8_d_level    4859 non-null   float64\n",
      " 35  secondary_cleaner.state.floatbank2_a_air    4734 non-null   float64\n",
      " 36  secondary_cleaner.state.floatbank2_a_level  4859 non-null   float64\n",
      " 37  secondary_cleaner.state.floatbank2_b_air    4859 non-null   float64\n",
      " 38  secondary_cleaner.state.floatbank2_b_level  4859 non-null   float64\n",
      " 39  secondary_cleaner.state.floatbank3_a_air    4859 non-null   float64\n",
      " 40  secondary_cleaner.state.floatbank3_a_level  4859 non-null   float64\n",
      " 41  secondary_cleaner.state.floatbank3_b_air    4859 non-null   float64\n",
      " 42  secondary_cleaner.state.floatbank3_b_level  4859 non-null   float64\n",
      " 43  secondary_cleaner.state.floatbank4_a_air    4859 non-null   float64\n",
      " 44  secondary_cleaner.state.floatbank4_a_level  4859 non-null   float64\n",
      " 45  secondary_cleaner.state.floatbank4_b_air    4859 non-null   float64\n",
      " 46  secondary_cleaner.state.floatbank4_b_level  4859 non-null   float64\n",
      " 47  secondary_cleaner.state.floatbank5_a_air    4859 non-null   float64\n",
      " 48  secondary_cleaner.state.floatbank5_a_level  4859 non-null   float64\n",
      " 49  secondary_cleaner.state.floatbank5_b_air    4859 non-null   float64\n",
      " 50  secondary_cleaner.state.floatbank5_b_level  4859 non-null   float64\n",
      " 51  secondary_cleaner.state.floatbank6_a_air    4859 non-null   float64\n",
      " 52  secondary_cleaner.state.floatbank6_a_level  4859 non-null   float64\n",
      "dtypes: float64(52), object(1)\n",
      "memory usage: 2.0+ MB\n"
     ]
    }
   ],
   "source": [
    "test.info()"
   ]
  },
  {
   "cell_type": "code",
   "execution_count": 5,
   "metadata": {
    "scrolled": true
   },
   "outputs": [
    {
     "name": "stdout",
     "output_type": "stream",
     "text": [
      "<class 'pandas.core.frame.DataFrame'>\n",
      "RangeIndex: 19439 entries, 0 to 19438\n",
      "Data columns (total 87 columns):\n",
      " #   Column                                              Non-Null Count  Dtype  \n",
      "---  ------                                              --------------  -----  \n",
      " 0   date                                                19439 non-null  object \n",
      " 1   rougher.input.feed_au                               19439 non-null  float64\n",
      " 2   rougher.input.feed_ag                               19439 non-null  float64\n",
      " 3   rougher.input.feed_pb                               19339 non-null  float64\n",
      " 4   rougher.input.feed_sol                              19340 non-null  float64\n",
      " 5   rougher.input.feed_rate                             19428 non-null  float64\n",
      " 6   rougher.input.feed_size                             19294 non-null  float64\n",
      " 7   rougher.input.floatbank10_sulfate                   19405 non-null  float64\n",
      " 8   rougher.input.floatbank10_xanthate                  19431 non-null  float64\n",
      " 9   rougher.state.floatbank10_a_air                     19438 non-null  float64\n",
      " 10  rougher.state.floatbank10_a_level                   19438 non-null  float64\n",
      " 11  rougher.state.floatbank10_b_air                     19438 non-null  float64\n",
      " 12  rougher.state.floatbank10_b_level                   19438 non-null  float64\n",
      " 13  rougher.state.floatbank10_c_air                     19438 non-null  float64\n",
      " 14  rougher.state.floatbank10_c_level                   19438 non-null  float64\n",
      " 15  rougher.state.floatbank10_d_air                     19439 non-null  float64\n",
      " 16  rougher.state.floatbank10_d_level                   19439 non-null  float64\n",
      " 17  rougher.state.floatbank10_e_air                     19003 non-null  float64\n",
      " 18  rougher.state.floatbank10_e_level                   19439 non-null  float64\n",
      " 19  rougher.state.floatbank10_f_air                     19439 non-null  float64\n",
      " 20  rougher.state.floatbank10_f_level                   19439 non-null  float64\n",
      " 21  rougher.input.floatbank11_sulfate                   19395 non-null  float64\n",
      " 22  rougher.input.floatbank11_xanthate                  18986 non-null  float64\n",
      " 23  rougher.calculation.sulfate_to_au_concentrate       19437 non-null  float64\n",
      " 24  rougher.calculation.floatbank10_sulfate_to_au_feed  19437 non-null  float64\n",
      " 25  rougher.calculation.floatbank11_sulfate_to_au_feed  19437 non-null  float64\n",
      " 26  rougher.calculation.au_pb_ratio                     19439 non-null  float64\n",
      " 27  rougher.output.concentrate_au                       19439 non-null  float64\n",
      " 28  rougher.output.concentrate_ag                       19439 non-null  float64\n",
      " 29  rougher.output.concentrate_pb                       19439 non-null  float64\n",
      " 30  rougher.output.concentrate_sol                      19416 non-null  float64\n",
      " 31  rougher.output.recovery                             19439 non-null  float64\n",
      " 32  rougher.output.tail_au                              19439 non-null  float64\n",
      " 33  rougher.output.tail_ag                              19438 non-null  float64\n",
      " 34  rougher.output.tail_pb                              19439 non-null  float64\n",
      " 35  rougher.output.tail_sol                             19439 non-null  float64\n",
      " 36  primary_cleaner.input.sulfate                       19415 non-null  float64\n",
      " 37  primary_cleaner.input.depressant                    19402 non-null  float64\n",
      " 38  primary_cleaner.input.feed_size                     19439 non-null  float64\n",
      " 39  primary_cleaner.input.xanthate                      19335 non-null  float64\n",
      " 40  primary_cleaner.state.floatbank8_a_air              19435 non-null  float64\n",
      " 41  primary_cleaner.state.floatbank8_a_level            19438 non-null  float64\n",
      " 42  primary_cleaner.state.floatbank8_b_air              19435 non-null  float64\n",
      " 43  primary_cleaner.state.floatbank8_b_level            19438 non-null  float64\n",
      " 44  primary_cleaner.state.floatbank8_c_air              19437 non-null  float64\n",
      " 45  primary_cleaner.state.floatbank8_c_level            19438 non-null  float64\n",
      " 46  primary_cleaner.state.floatbank8_d_air              19436 non-null  float64\n",
      " 47  primary_cleaner.state.floatbank8_d_level            19438 non-null  float64\n",
      " 48  primary_cleaner.output.concentrate_au               19439 non-null  float64\n",
      " 49  primary_cleaner.output.concentrate_ag               19439 non-null  float64\n",
      " 50  primary_cleaner.output.concentrate_pb               19323 non-null  float64\n",
      " 51  primary_cleaner.output.concentrate_sol              19069 non-null  float64\n",
      " 52  primary_cleaner.output.tail_au                      19439 non-null  float64\n",
      " 53  primary_cleaner.output.tail_ag                      19435 non-null  float64\n",
      " 54  primary_cleaner.output.tail_pb                      19418 non-null  float64\n",
      " 55  primary_cleaner.output.tail_sol                     19377 non-null  float64\n",
      " 56  secondary_cleaner.state.floatbank2_a_air            19219 non-null  float64\n",
      " 57  secondary_cleaner.state.floatbank2_a_level          19438 non-null  float64\n",
      " 58  secondary_cleaner.state.floatbank2_b_air            19416 non-null  float64\n",
      " 59  secondary_cleaner.state.floatbank2_b_level          19438 non-null  float64\n",
      " 60  secondary_cleaner.state.floatbank3_a_air            19426 non-null  float64\n",
      " 61  secondary_cleaner.state.floatbank3_a_level          19438 non-null  float64\n",
      " 62  secondary_cleaner.state.floatbank3_b_air            19438 non-null  float64\n",
      " 63  secondary_cleaner.state.floatbank3_b_level          19438 non-null  float64\n",
      " 64  secondary_cleaner.state.floatbank4_a_air            19433 non-null  float64\n",
      " 65  secondary_cleaner.state.floatbank4_a_level          19438 non-null  float64\n",
      " 66  secondary_cleaner.state.floatbank4_b_air            19438 non-null  float64\n",
      " 67  secondary_cleaner.state.floatbank4_b_level          19438 non-null  float64\n",
      " 68  secondary_cleaner.state.floatbank5_a_air            19438 non-null  float64\n",
      " 69  secondary_cleaner.state.floatbank5_a_level          19438 non-null  float64\n",
      " 70  secondary_cleaner.state.floatbank5_b_air            19438 non-null  float64\n",
      " 71  secondary_cleaner.state.floatbank5_b_level          19438 non-null  float64\n",
      " 72  secondary_cleaner.state.floatbank6_a_air            19437 non-null  float64\n",
      " 73  secondary_cleaner.state.floatbank6_a_level          19438 non-null  float64\n",
      " 74  secondary_cleaner.output.tail_au                    19439 non-null  float64\n",
      " 75  secondary_cleaner.output.tail_ag                    19437 non-null  float64\n",
      " 76  secondary_cleaner.output.tail_pb                    19427 non-null  float64\n",
      " 77  secondary_cleaner.output.tail_sol                   17691 non-null  float64\n",
      " 78  final.output.concentrate_au                         19439 non-null  float64\n",
      " 79  final.output.concentrate_ag                         19438 non-null  float64\n",
      " 80  final.output.concentrate_pb                         19438 non-null  float64\n",
      " 81  final.output.concentrate_sol                        19228 non-null  float64\n",
      " 82  final.output.recovery                               19439 non-null  float64\n",
      " 83  final.output.tail_au                                19439 non-null  float64\n",
      " 84  final.output.tail_ag                                19438 non-null  float64\n",
      " 85  final.output.tail_pb                                19338 non-null  float64\n",
      " 86  final.output.tail_sol                               19433 non-null  float64\n",
      "dtypes: float64(86), object(1)\n",
      "memory usage: 12.9+ MB\n"
     ]
    }
   ],
   "source": [
    "data.info()"
   ]
  },
  {
   "cell_type": "code",
   "execution_count": 6,
   "metadata": {},
   "outputs": [
    {
     "data": {
      "text/html": [
       "<div>\n",
       "<style scoped>\n",
       "    .dataframe tbody tr th:only-of-type {\n",
       "        vertical-align: middle;\n",
       "    }\n",
       "\n",
       "    .dataframe tbody tr th {\n",
       "        vertical-align: top;\n",
       "    }\n",
       "\n",
       "    .dataframe thead th {\n",
       "        text-align: right;\n",
       "    }\n",
       "</style>\n",
       "<table border=\"1\" class=\"dataframe\">\n",
       "  <thead>\n",
       "    <tr style=\"text-align: right;\">\n",
       "      <th></th>\n",
       "      <th>date</th>\n",
       "      <th>rougher.input.feed_au</th>\n",
       "      <th>rougher.input.feed_ag</th>\n",
       "      <th>rougher.input.feed_pb</th>\n",
       "      <th>rougher.input.feed_sol</th>\n",
       "      <th>rougher.input.feed_rate</th>\n",
       "      <th>rougher.input.feed_size</th>\n",
       "      <th>rougher.input.floatbank10_sulfate</th>\n",
       "      <th>rougher.input.floatbank10_xanthate</th>\n",
       "      <th>rougher.state.floatbank10_a_air</th>\n",
       "      <th>...</th>\n",
       "      <th>secondary_cleaner.state.floatbank4_a_air</th>\n",
       "      <th>secondary_cleaner.state.floatbank4_a_level</th>\n",
       "      <th>secondary_cleaner.state.floatbank4_b_air</th>\n",
       "      <th>secondary_cleaner.state.floatbank4_b_level</th>\n",
       "      <th>secondary_cleaner.state.floatbank5_a_air</th>\n",
       "      <th>secondary_cleaner.state.floatbank5_a_level</th>\n",
       "      <th>secondary_cleaner.state.floatbank5_b_air</th>\n",
       "      <th>secondary_cleaner.state.floatbank5_b_level</th>\n",
       "      <th>secondary_cleaner.state.floatbank6_a_air</th>\n",
       "      <th>secondary_cleaner.state.floatbank6_a_level</th>\n",
       "    </tr>\n",
       "  </thead>\n",
       "  <tbody>\n",
       "    <tr>\n",
       "      <th>0</th>\n",
       "      <td>2017-12-09 14:59:59</td>\n",
       "      <td>4.365491</td>\n",
       "      <td>6.158718</td>\n",
       "      <td>3.875727</td>\n",
       "      <td>39.135119</td>\n",
       "      <td>555.820208</td>\n",
       "      <td>94.544358</td>\n",
       "      <td>6.146982</td>\n",
       "      <td>9.308612</td>\n",
       "      <td>1196.238112</td>\n",
       "      <td>...</td>\n",
       "      <td>23.018622</td>\n",
       "      <td>-500.492702</td>\n",
       "      <td>20.020205</td>\n",
       "      <td>-500.220296</td>\n",
       "      <td>17.963512</td>\n",
       "      <td>-499.939490</td>\n",
       "      <td>12.990306</td>\n",
       "      <td>-500.080993</td>\n",
       "      <td>19.990336</td>\n",
       "      <td>-499.191575</td>\n",
       "    </tr>\n",
       "    <tr>\n",
       "      <th>1</th>\n",
       "      <td>2017-12-09 15:59:59</td>\n",
       "      <td>4.362781</td>\n",
       "      <td>6.048130</td>\n",
       "      <td>3.902537</td>\n",
       "      <td>39.713906</td>\n",
       "      <td>544.731687</td>\n",
       "      <td>123.742430</td>\n",
       "      <td>6.210119</td>\n",
       "      <td>9.297709</td>\n",
       "      <td>1201.904177</td>\n",
       "      <td>...</td>\n",
       "      <td>23.024963</td>\n",
       "      <td>-501.153409</td>\n",
       "      <td>20.054122</td>\n",
       "      <td>-500.314711</td>\n",
       "      <td>17.979515</td>\n",
       "      <td>-499.272871</td>\n",
       "      <td>12.992404</td>\n",
       "      <td>-499.976268</td>\n",
       "      <td>20.013986</td>\n",
       "      <td>-500.625471</td>\n",
       "    </tr>\n",
       "    <tr>\n",
       "      <th>2</th>\n",
       "      <td>2017-12-09 16:59:59</td>\n",
       "      <td>5.081681</td>\n",
       "      <td>6.082745</td>\n",
       "      <td>4.564078</td>\n",
       "      <td>37.208683</td>\n",
       "      <td>558.155110</td>\n",
       "      <td>82.610855</td>\n",
       "      <td>7.363824</td>\n",
       "      <td>9.003562</td>\n",
       "      <td>1200.826926</td>\n",
       "      <td>...</td>\n",
       "      <td>22.993827</td>\n",
       "      <td>-501.559663</td>\n",
       "      <td>20.029144</td>\n",
       "      <td>-500.000662</td>\n",
       "      <td>18.012723</td>\n",
       "      <td>-500.024764</td>\n",
       "      <td>13.016445</td>\n",
       "      <td>-500.058432</td>\n",
       "      <td>19.973767</td>\n",
       "      <td>-501.394155</td>\n",
       "    </tr>\n",
       "    <tr>\n",
       "      <th>3</th>\n",
       "      <td>2017-12-09 17:59:59</td>\n",
       "      <td>5.145949</td>\n",
       "      <td>6.084374</td>\n",
       "      <td>4.768124</td>\n",
       "      <td>36.808874</td>\n",
       "      <td>539.713765</td>\n",
       "      <td>77.984784</td>\n",
       "      <td>6.927072</td>\n",
       "      <td>8.955597</td>\n",
       "      <td>1199.292489</td>\n",
       "      <td>...</td>\n",
       "      <td>23.032807</td>\n",
       "      <td>-501.287889</td>\n",
       "      <td>19.977466</td>\n",
       "      <td>-500.159903</td>\n",
       "      <td>17.980463</td>\n",
       "      <td>-500.504602</td>\n",
       "      <td>12.949071</td>\n",
       "      <td>-500.009937</td>\n",
       "      <td>20.010332</td>\n",
       "      <td>-508.337973</td>\n",
       "    </tr>\n",
       "    <tr>\n",
       "      <th>4</th>\n",
       "      <td>2017-12-09 18:59:59</td>\n",
       "      <td>5.735249</td>\n",
       "      <td>6.165220</td>\n",
       "      <td>4.512346</td>\n",
       "      <td>37.810642</td>\n",
       "      <td>558.713584</td>\n",
       "      <td>86.434874</td>\n",
       "      <td>7.823471</td>\n",
       "      <td>7.490356</td>\n",
       "      <td>1198.005449</td>\n",
       "      <td>...</td>\n",
       "      <td>23.001911</td>\n",
       "      <td>-499.947838</td>\n",
       "      <td>20.023735</td>\n",
       "      <td>-499.713680</td>\n",
       "      <td>17.990955</td>\n",
       "      <td>-500.334769</td>\n",
       "      <td>13.007523</td>\n",
       "      <td>-499.968459</td>\n",
       "      <td>19.995999</td>\n",
       "      <td>-499.788805</td>\n",
       "    </tr>\n",
       "  </tbody>\n",
       "</table>\n",
       "<p>5 rows × 53 columns</p>\n",
       "</div>"
      ],
      "text/plain": [
       "                  date  rougher.input.feed_au  rougher.input.feed_ag  \\\n",
       "0  2017-12-09 14:59:59               4.365491               6.158718   \n",
       "1  2017-12-09 15:59:59               4.362781               6.048130   \n",
       "2  2017-12-09 16:59:59               5.081681               6.082745   \n",
       "3  2017-12-09 17:59:59               5.145949               6.084374   \n",
       "4  2017-12-09 18:59:59               5.735249               6.165220   \n",
       "\n",
       "   rougher.input.feed_pb  rougher.input.feed_sol  rougher.input.feed_rate  \\\n",
       "0               3.875727               39.135119               555.820208   \n",
       "1               3.902537               39.713906               544.731687   \n",
       "2               4.564078               37.208683               558.155110   \n",
       "3               4.768124               36.808874               539.713765   \n",
       "4               4.512346               37.810642               558.713584   \n",
       "\n",
       "   rougher.input.feed_size  rougher.input.floatbank10_sulfate  \\\n",
       "0                94.544358                           6.146982   \n",
       "1               123.742430                           6.210119   \n",
       "2                82.610855                           7.363824   \n",
       "3                77.984784                           6.927072   \n",
       "4                86.434874                           7.823471   \n",
       "\n",
       "   rougher.input.floatbank10_xanthate  rougher.state.floatbank10_a_air  ...  \\\n",
       "0                            9.308612                      1196.238112  ...   \n",
       "1                            9.297709                      1201.904177  ...   \n",
       "2                            9.003562                      1200.826926  ...   \n",
       "3                            8.955597                      1199.292489  ...   \n",
       "4                            7.490356                      1198.005449  ...   \n",
       "\n",
       "   secondary_cleaner.state.floatbank4_a_air  \\\n",
       "0                                 23.018622   \n",
       "1                                 23.024963   \n",
       "2                                 22.993827   \n",
       "3                                 23.032807   \n",
       "4                                 23.001911   \n",
       "\n",
       "   secondary_cleaner.state.floatbank4_a_level  \\\n",
       "0                                 -500.492702   \n",
       "1                                 -501.153409   \n",
       "2                                 -501.559663   \n",
       "3                                 -501.287889   \n",
       "4                                 -499.947838   \n",
       "\n",
       "   secondary_cleaner.state.floatbank4_b_air  \\\n",
       "0                                 20.020205   \n",
       "1                                 20.054122   \n",
       "2                                 20.029144   \n",
       "3                                 19.977466   \n",
       "4                                 20.023735   \n",
       "\n",
       "   secondary_cleaner.state.floatbank4_b_level  \\\n",
       "0                                 -500.220296   \n",
       "1                                 -500.314711   \n",
       "2                                 -500.000662   \n",
       "3                                 -500.159903   \n",
       "4                                 -499.713680   \n",
       "\n",
       "   secondary_cleaner.state.floatbank5_a_air  \\\n",
       "0                                 17.963512   \n",
       "1                                 17.979515   \n",
       "2                                 18.012723   \n",
       "3                                 17.980463   \n",
       "4                                 17.990955   \n",
       "\n",
       "   secondary_cleaner.state.floatbank5_a_level  \\\n",
       "0                                 -499.939490   \n",
       "1                                 -499.272871   \n",
       "2                                 -500.024764   \n",
       "3                                 -500.504602   \n",
       "4                                 -500.334769   \n",
       "\n",
       "   secondary_cleaner.state.floatbank5_b_air  \\\n",
       "0                                 12.990306   \n",
       "1                                 12.992404   \n",
       "2                                 13.016445   \n",
       "3                                 12.949071   \n",
       "4                                 13.007523   \n",
       "\n",
       "   secondary_cleaner.state.floatbank5_b_level  \\\n",
       "0                                 -500.080993   \n",
       "1                                 -499.976268   \n",
       "2                                 -500.058432   \n",
       "3                                 -500.009937   \n",
       "4                                 -499.968459   \n",
       "\n",
       "   secondary_cleaner.state.floatbank6_a_air  \\\n",
       "0                                 19.990336   \n",
       "1                                 20.013986   \n",
       "2                                 19.973767   \n",
       "3                                 20.010332   \n",
       "4                                 19.995999   \n",
       "\n",
       "   secondary_cleaner.state.floatbank6_a_level  \n",
       "0                                 -499.191575  \n",
       "1                                 -500.625471  \n",
       "2                                 -501.394155  \n",
       "3                                 -508.337973  \n",
       "4                                 -499.788805  \n",
       "\n",
       "[5 rows x 53 columns]"
      ]
     },
     "execution_count": 6,
     "metadata": {},
     "output_type": "execute_result"
    }
   ],
   "source": [
    "test.head()"
   ]
  },
  {
   "cell_type": "code",
   "execution_count": 7,
   "metadata": {},
   "outputs": [
    {
     "data": {
      "text/html": [
       "<div>\n",
       "<style scoped>\n",
       "    .dataframe tbody tr th:only-of-type {\n",
       "        vertical-align: middle;\n",
       "    }\n",
       "\n",
       "    .dataframe tbody tr th {\n",
       "        vertical-align: top;\n",
       "    }\n",
       "\n",
       "    .dataframe thead th {\n",
       "        text-align: right;\n",
       "    }\n",
       "</style>\n",
       "<table border=\"1\" class=\"dataframe\">\n",
       "  <thead>\n",
       "    <tr style=\"text-align: right;\">\n",
       "      <th></th>\n",
       "      <th>date</th>\n",
       "      <th>rougher.input.feed_au</th>\n",
       "      <th>rougher.input.feed_ag</th>\n",
       "      <th>rougher.input.feed_pb</th>\n",
       "      <th>rougher.input.feed_sol</th>\n",
       "      <th>rougher.input.feed_rate</th>\n",
       "      <th>rougher.input.feed_size</th>\n",
       "      <th>rougher.input.floatbank10_sulfate</th>\n",
       "      <th>rougher.input.floatbank10_xanthate</th>\n",
       "      <th>rougher.state.floatbank10_a_air</th>\n",
       "      <th>...</th>\n",
       "      <th>secondary_cleaner.output.tail_sol</th>\n",
       "      <th>final.output.concentrate_au</th>\n",
       "      <th>final.output.concentrate_ag</th>\n",
       "      <th>final.output.concentrate_pb</th>\n",
       "      <th>final.output.concentrate_sol</th>\n",
       "      <th>final.output.recovery</th>\n",
       "      <th>final.output.tail_au</th>\n",
       "      <th>final.output.tail_ag</th>\n",
       "      <th>final.output.tail_pb</th>\n",
       "      <th>final.output.tail_sol</th>\n",
       "    </tr>\n",
       "  </thead>\n",
       "  <tbody>\n",
       "    <tr>\n",
       "      <th>0</th>\n",
       "      <td>2016-01-15 00:00:00</td>\n",
       "      <td>6.486150</td>\n",
       "      <td>6.100378</td>\n",
       "      <td>2.284912</td>\n",
       "      <td>36.808594</td>\n",
       "      <td>523.546326</td>\n",
       "      <td>55.486599</td>\n",
       "      <td>11.986616</td>\n",
       "      <td>6.007990</td>\n",
       "      <td>999.706909</td>\n",
       "      <td>...</td>\n",
       "      <td>8.764648</td>\n",
       "      <td>42.192020</td>\n",
       "      <td>6.055403</td>\n",
       "      <td>9.889648</td>\n",
       "      <td>5.507324</td>\n",
       "      <td>70.541216</td>\n",
       "      <td>2.143149</td>\n",
       "      <td>10.411962</td>\n",
       "      <td>0.895447</td>\n",
       "      <td>16.904297</td>\n",
       "    </tr>\n",
       "    <tr>\n",
       "      <th>1</th>\n",
       "      <td>2016-01-15 01:00:00</td>\n",
       "      <td>6.478583</td>\n",
       "      <td>6.161113</td>\n",
       "      <td>2.266033</td>\n",
       "      <td>35.753385</td>\n",
       "      <td>525.290581</td>\n",
       "      <td>57.278666</td>\n",
       "      <td>11.971193</td>\n",
       "      <td>6.005766</td>\n",
       "      <td>1000.286398</td>\n",
       "      <td>...</td>\n",
       "      <td>9.001494</td>\n",
       "      <td>42.701629</td>\n",
       "      <td>6.029369</td>\n",
       "      <td>9.968944</td>\n",
       "      <td>5.257781</td>\n",
       "      <td>69.266198</td>\n",
       "      <td>2.224930</td>\n",
       "      <td>10.462676</td>\n",
       "      <td>0.927452</td>\n",
       "      <td>16.634514</td>\n",
       "    </tr>\n",
       "    <tr>\n",
       "      <th>2</th>\n",
       "      <td>2016-01-15 02:00:00</td>\n",
       "      <td>6.362222</td>\n",
       "      <td>6.116455</td>\n",
       "      <td>2.159622</td>\n",
       "      <td>35.971630</td>\n",
       "      <td>530.026610</td>\n",
       "      <td>57.510649</td>\n",
       "      <td>11.920603</td>\n",
       "      <td>6.197377</td>\n",
       "      <td>999.719565</td>\n",
       "      <td>...</td>\n",
       "      <td>8.842896</td>\n",
       "      <td>42.657501</td>\n",
       "      <td>6.055926</td>\n",
       "      <td>10.213995</td>\n",
       "      <td>5.383759</td>\n",
       "      <td>68.116445</td>\n",
       "      <td>2.257889</td>\n",
       "      <td>10.507046</td>\n",
       "      <td>0.953716</td>\n",
       "      <td>16.208849</td>\n",
       "    </tr>\n",
       "    <tr>\n",
       "      <th>3</th>\n",
       "      <td>2016-01-15 03:00:00</td>\n",
       "      <td>6.118189</td>\n",
       "      <td>6.043309</td>\n",
       "      <td>2.037807</td>\n",
       "      <td>36.862241</td>\n",
       "      <td>542.590390</td>\n",
       "      <td>57.792734</td>\n",
       "      <td>11.630094</td>\n",
       "      <td>6.203177</td>\n",
       "      <td>999.814770</td>\n",
       "      <td>...</td>\n",
       "      <td>9.122857</td>\n",
       "      <td>42.689819</td>\n",
       "      <td>6.047977</td>\n",
       "      <td>9.977019</td>\n",
       "      <td>4.858634</td>\n",
       "      <td>68.347543</td>\n",
       "      <td>2.146849</td>\n",
       "      <td>10.422762</td>\n",
       "      <td>0.883763</td>\n",
       "      <td>16.532835</td>\n",
       "    </tr>\n",
       "    <tr>\n",
       "      <th>4</th>\n",
       "      <td>2016-01-15 04:00:00</td>\n",
       "      <td>5.663707</td>\n",
       "      <td>6.060915</td>\n",
       "      <td>1.786875</td>\n",
       "      <td>34.347666</td>\n",
       "      <td>540.531893</td>\n",
       "      <td>56.047189</td>\n",
       "      <td>10.957755</td>\n",
       "      <td>6.198826</td>\n",
       "      <td>999.678690</td>\n",
       "      <td>...</td>\n",
       "      <td>8.871028</td>\n",
       "      <td>42.774141</td>\n",
       "      <td>6.148599</td>\n",
       "      <td>10.142511</td>\n",
       "      <td>4.939416</td>\n",
       "      <td>66.927016</td>\n",
       "      <td>2.055292</td>\n",
       "      <td>10.360302</td>\n",
       "      <td>0.792826</td>\n",
       "      <td>16.525686</td>\n",
       "    </tr>\n",
       "  </tbody>\n",
       "</table>\n",
       "<p>5 rows × 87 columns</p>\n",
       "</div>"
      ],
      "text/plain": [
       "                  date  rougher.input.feed_au  rougher.input.feed_ag  \\\n",
       "0  2016-01-15 00:00:00               6.486150               6.100378   \n",
       "1  2016-01-15 01:00:00               6.478583               6.161113   \n",
       "2  2016-01-15 02:00:00               6.362222               6.116455   \n",
       "3  2016-01-15 03:00:00               6.118189               6.043309   \n",
       "4  2016-01-15 04:00:00               5.663707               6.060915   \n",
       "\n",
       "   rougher.input.feed_pb  rougher.input.feed_sol  rougher.input.feed_rate  \\\n",
       "0               2.284912               36.808594               523.546326   \n",
       "1               2.266033               35.753385               525.290581   \n",
       "2               2.159622               35.971630               530.026610   \n",
       "3               2.037807               36.862241               542.590390   \n",
       "4               1.786875               34.347666               540.531893   \n",
       "\n",
       "   rougher.input.feed_size  rougher.input.floatbank10_sulfate  \\\n",
       "0                55.486599                          11.986616   \n",
       "1                57.278666                          11.971193   \n",
       "2                57.510649                          11.920603   \n",
       "3                57.792734                          11.630094   \n",
       "4                56.047189                          10.957755   \n",
       "\n",
       "   rougher.input.floatbank10_xanthate  rougher.state.floatbank10_a_air  ...  \\\n",
       "0                            6.007990                       999.706909  ...   \n",
       "1                            6.005766                      1000.286398  ...   \n",
       "2                            6.197377                       999.719565  ...   \n",
       "3                            6.203177                       999.814770  ...   \n",
       "4                            6.198826                       999.678690  ...   \n",
       "\n",
       "   secondary_cleaner.output.tail_sol  final.output.concentrate_au  \\\n",
       "0                           8.764648                    42.192020   \n",
       "1                           9.001494                    42.701629   \n",
       "2                           8.842896                    42.657501   \n",
       "3                           9.122857                    42.689819   \n",
       "4                           8.871028                    42.774141   \n",
       "\n",
       "   final.output.concentrate_ag  final.output.concentrate_pb  \\\n",
       "0                     6.055403                     9.889648   \n",
       "1                     6.029369                     9.968944   \n",
       "2                     6.055926                    10.213995   \n",
       "3                     6.047977                     9.977019   \n",
       "4                     6.148599                    10.142511   \n",
       "\n",
       "   final.output.concentrate_sol  final.output.recovery  final.output.tail_au  \\\n",
       "0                      5.507324              70.541216              2.143149   \n",
       "1                      5.257781              69.266198              2.224930   \n",
       "2                      5.383759              68.116445              2.257889   \n",
       "3                      4.858634              68.347543              2.146849   \n",
       "4                      4.939416              66.927016              2.055292   \n",
       "\n",
       "   final.output.tail_ag  final.output.tail_pb  final.output.tail_sol  \n",
       "0             10.411962              0.895447              16.904297  \n",
       "1             10.462676              0.927452              16.634514  \n",
       "2             10.507046              0.953716              16.208849  \n",
       "3             10.422762              0.883763              16.532835  \n",
       "4             10.360302              0.792826              16.525686  \n",
       "\n",
       "[5 rows x 87 columns]"
      ]
     },
     "execution_count": 7,
     "metadata": {},
     "output_type": "execute_result"
    }
   ],
   "source": [
    "train.head()"
   ]
  },
  {
   "cell_type": "code",
   "execution_count": 8,
   "metadata": {},
   "outputs": [
    {
     "data": {
      "text/html": [
       "<div>\n",
       "<style scoped>\n",
       "    .dataframe tbody tr th:only-of-type {\n",
       "        vertical-align: middle;\n",
       "    }\n",
       "\n",
       "    .dataframe tbody tr th {\n",
       "        vertical-align: top;\n",
       "    }\n",
       "\n",
       "    .dataframe thead th {\n",
       "        text-align: right;\n",
       "    }\n",
       "</style>\n",
       "<table border=\"1\" class=\"dataframe\">\n",
       "  <thead>\n",
       "    <tr style=\"text-align: right;\">\n",
       "      <th></th>\n",
       "      <th>date</th>\n",
       "      <th>rougher.input.feed_au</th>\n",
       "      <th>rougher.input.feed_ag</th>\n",
       "      <th>rougher.input.feed_pb</th>\n",
       "      <th>rougher.input.feed_sol</th>\n",
       "      <th>rougher.input.feed_rate</th>\n",
       "      <th>rougher.input.feed_size</th>\n",
       "      <th>rougher.input.floatbank10_sulfate</th>\n",
       "      <th>rougher.input.floatbank10_xanthate</th>\n",
       "      <th>rougher.state.floatbank10_a_air</th>\n",
       "      <th>...</th>\n",
       "      <th>secondary_cleaner.output.tail_sol</th>\n",
       "      <th>final.output.concentrate_au</th>\n",
       "      <th>final.output.concentrate_ag</th>\n",
       "      <th>final.output.concentrate_pb</th>\n",
       "      <th>final.output.concentrate_sol</th>\n",
       "      <th>final.output.recovery</th>\n",
       "      <th>final.output.tail_au</th>\n",
       "      <th>final.output.tail_ag</th>\n",
       "      <th>final.output.tail_pb</th>\n",
       "      <th>final.output.tail_sol</th>\n",
       "    </tr>\n",
       "  </thead>\n",
       "  <tbody>\n",
       "    <tr>\n",
       "      <th>0</th>\n",
       "      <td>2016-01-15 00:00:00</td>\n",
       "      <td>6.486150</td>\n",
       "      <td>6.100378</td>\n",
       "      <td>2.284912</td>\n",
       "      <td>36.808594</td>\n",
       "      <td>523.546326</td>\n",
       "      <td>55.486599</td>\n",
       "      <td>11.986616</td>\n",
       "      <td>6.007990</td>\n",
       "      <td>999.706909</td>\n",
       "      <td>...</td>\n",
       "      <td>8.764648</td>\n",
       "      <td>42.192020</td>\n",
       "      <td>6.055403</td>\n",
       "      <td>9.889648</td>\n",
       "      <td>5.507324</td>\n",
       "      <td>70.541216</td>\n",
       "      <td>2.143149</td>\n",
       "      <td>10.411962</td>\n",
       "      <td>0.895447</td>\n",
       "      <td>16.904297</td>\n",
       "    </tr>\n",
       "    <tr>\n",
       "      <th>1</th>\n",
       "      <td>2016-01-15 01:00:00</td>\n",
       "      <td>6.478583</td>\n",
       "      <td>6.161113</td>\n",
       "      <td>2.266033</td>\n",
       "      <td>35.753385</td>\n",
       "      <td>525.290581</td>\n",
       "      <td>57.278666</td>\n",
       "      <td>11.971193</td>\n",
       "      <td>6.005766</td>\n",
       "      <td>1000.286398</td>\n",
       "      <td>...</td>\n",
       "      <td>9.001494</td>\n",
       "      <td>42.701629</td>\n",
       "      <td>6.029369</td>\n",
       "      <td>9.968944</td>\n",
       "      <td>5.257781</td>\n",
       "      <td>69.266198</td>\n",
       "      <td>2.224930</td>\n",
       "      <td>10.462676</td>\n",
       "      <td>0.927452</td>\n",
       "      <td>16.634514</td>\n",
       "    </tr>\n",
       "    <tr>\n",
       "      <th>2</th>\n",
       "      <td>2016-01-15 02:00:00</td>\n",
       "      <td>6.362222</td>\n",
       "      <td>6.116455</td>\n",
       "      <td>2.159622</td>\n",
       "      <td>35.971630</td>\n",
       "      <td>530.026610</td>\n",
       "      <td>57.510649</td>\n",
       "      <td>11.920603</td>\n",
       "      <td>6.197377</td>\n",
       "      <td>999.719565</td>\n",
       "      <td>...</td>\n",
       "      <td>8.842896</td>\n",
       "      <td>42.657501</td>\n",
       "      <td>6.055926</td>\n",
       "      <td>10.213995</td>\n",
       "      <td>5.383759</td>\n",
       "      <td>68.116445</td>\n",
       "      <td>2.257889</td>\n",
       "      <td>10.507046</td>\n",
       "      <td>0.953716</td>\n",
       "      <td>16.208849</td>\n",
       "    </tr>\n",
       "    <tr>\n",
       "      <th>3</th>\n",
       "      <td>2016-01-15 03:00:00</td>\n",
       "      <td>6.118189</td>\n",
       "      <td>6.043309</td>\n",
       "      <td>2.037807</td>\n",
       "      <td>36.862241</td>\n",
       "      <td>542.590390</td>\n",
       "      <td>57.792734</td>\n",
       "      <td>11.630094</td>\n",
       "      <td>6.203177</td>\n",
       "      <td>999.814770</td>\n",
       "      <td>...</td>\n",
       "      <td>9.122857</td>\n",
       "      <td>42.689819</td>\n",
       "      <td>6.047977</td>\n",
       "      <td>9.977019</td>\n",
       "      <td>4.858634</td>\n",
       "      <td>68.347543</td>\n",
       "      <td>2.146849</td>\n",
       "      <td>10.422762</td>\n",
       "      <td>0.883763</td>\n",
       "      <td>16.532835</td>\n",
       "    </tr>\n",
       "    <tr>\n",
       "      <th>4</th>\n",
       "      <td>2016-01-15 04:00:00</td>\n",
       "      <td>5.663707</td>\n",
       "      <td>6.060915</td>\n",
       "      <td>1.786875</td>\n",
       "      <td>34.347666</td>\n",
       "      <td>540.531893</td>\n",
       "      <td>56.047189</td>\n",
       "      <td>10.957755</td>\n",
       "      <td>6.198826</td>\n",
       "      <td>999.678690</td>\n",
       "      <td>...</td>\n",
       "      <td>8.871028</td>\n",
       "      <td>42.774141</td>\n",
       "      <td>6.148599</td>\n",
       "      <td>10.142511</td>\n",
       "      <td>4.939416</td>\n",
       "      <td>66.927016</td>\n",
       "      <td>2.055292</td>\n",
       "      <td>10.360302</td>\n",
       "      <td>0.792826</td>\n",
       "      <td>16.525686</td>\n",
       "    </tr>\n",
       "  </tbody>\n",
       "</table>\n",
       "<p>5 rows × 87 columns</p>\n",
       "</div>"
      ],
      "text/plain": [
       "                  date  rougher.input.feed_au  rougher.input.feed_ag  \\\n",
       "0  2016-01-15 00:00:00               6.486150               6.100378   \n",
       "1  2016-01-15 01:00:00               6.478583               6.161113   \n",
       "2  2016-01-15 02:00:00               6.362222               6.116455   \n",
       "3  2016-01-15 03:00:00               6.118189               6.043309   \n",
       "4  2016-01-15 04:00:00               5.663707               6.060915   \n",
       "\n",
       "   rougher.input.feed_pb  rougher.input.feed_sol  rougher.input.feed_rate  \\\n",
       "0               2.284912               36.808594               523.546326   \n",
       "1               2.266033               35.753385               525.290581   \n",
       "2               2.159622               35.971630               530.026610   \n",
       "3               2.037807               36.862241               542.590390   \n",
       "4               1.786875               34.347666               540.531893   \n",
       "\n",
       "   rougher.input.feed_size  rougher.input.floatbank10_sulfate  \\\n",
       "0                55.486599                          11.986616   \n",
       "1                57.278666                          11.971193   \n",
       "2                57.510649                          11.920603   \n",
       "3                57.792734                          11.630094   \n",
       "4                56.047189                          10.957755   \n",
       "\n",
       "   rougher.input.floatbank10_xanthate  rougher.state.floatbank10_a_air  ...  \\\n",
       "0                            6.007990                       999.706909  ...   \n",
       "1                            6.005766                      1000.286398  ...   \n",
       "2                            6.197377                       999.719565  ...   \n",
       "3                            6.203177                       999.814770  ...   \n",
       "4                            6.198826                       999.678690  ...   \n",
       "\n",
       "   secondary_cleaner.output.tail_sol  final.output.concentrate_au  \\\n",
       "0                           8.764648                    42.192020   \n",
       "1                           9.001494                    42.701629   \n",
       "2                           8.842896                    42.657501   \n",
       "3                           9.122857                    42.689819   \n",
       "4                           8.871028                    42.774141   \n",
       "\n",
       "   final.output.concentrate_ag  final.output.concentrate_pb  \\\n",
       "0                     6.055403                     9.889648   \n",
       "1                     6.029369                     9.968944   \n",
       "2                     6.055926                    10.213995   \n",
       "3                     6.047977                     9.977019   \n",
       "4                     6.148599                    10.142511   \n",
       "\n",
       "   final.output.concentrate_sol  final.output.recovery  final.output.tail_au  \\\n",
       "0                      5.507324              70.541216              2.143149   \n",
       "1                      5.257781              69.266198              2.224930   \n",
       "2                      5.383759              68.116445              2.257889   \n",
       "3                      4.858634              68.347543              2.146849   \n",
       "4                      4.939416              66.927016              2.055292   \n",
       "\n",
       "   final.output.tail_ag  final.output.tail_pb  final.output.tail_sol  \n",
       "0             10.411962              0.895447              16.904297  \n",
       "1             10.462676              0.927452              16.634514  \n",
       "2             10.507046              0.953716              16.208849  \n",
       "3             10.422762              0.883763              16.532835  \n",
       "4             10.360302              0.792826              16.525686  \n",
       "\n",
       "[5 rows x 87 columns]"
      ]
     },
     "execution_count": 8,
     "metadata": {},
     "output_type": "execute_result"
    }
   ],
   "source": [
    "data.head()"
   ]
  },
  {
   "cell_type": "markdown",
   "metadata": {},
   "source": [
    "Проверим расчет эффективности обогащения."
   ]
  },
  {
   "cell_type": "code",
   "execution_count": 9,
   "metadata": {},
   "outputs": [
    {
     "data": {
      "text/plain": [
       "82.52119968211336"
      ]
     },
     "execution_count": 9,
     "metadata": {},
     "output_type": "execute_result"
    }
   ],
   "source": [
    "enrichment_efficiency = ((train['rougher.output.concentrate_au'] * \\\n",
    "                         (train['rougher.input.feed_au'] - train['rougher.output.tail_au'])) / \\\n",
    "                         (train['rougher.input.feed_au'] * (train['rougher.output.concentrate_au'] - \\\n",
    "                                                            train['rougher.output.tail_au'])))*100\n",
    "enrichment_efficiency.mean()"
   ]
  },
  {
   "cell_type": "code",
   "execution_count": 10,
   "metadata": {},
   "outputs": [
    {
     "data": {
      "text/plain": [
       "82.52119968211336"
      ]
     },
     "execution_count": 10,
     "metadata": {},
     "output_type": "execute_result"
    }
   ],
   "source": [
    "train['rougher.output.recovery'].mean()"
   ]
  },
  {
   "cell_type": "markdown",
   "metadata": {},
   "source": [
    "Эффективность рассчитана правильно."
   ]
  },
  {
   "cell_type": "markdown",
   "metadata": {},
   "source": [
    "Найдем среднюю абсолютную ошибку между значениями признака и нашими расчетами"
   ]
  },
  {
   "cell_type": "code",
   "execution_count": 11,
   "metadata": {},
   "outputs": [
    {
     "data": {
      "text/plain": [
       "9.83758577644259e-15"
      ]
     },
     "execution_count": 11,
     "metadata": {},
     "output_type": "execute_result"
    }
   ],
   "source": [
    "mean_absolute_error(enrichment_efficiency, train['rougher.output.recovery'])"
   ]
  },
  {
   "cell_type": "markdown",
   "metadata": {},
   "source": [
    "Значение абсолютной ошибки очень мало, а так же средние значения нашего рассчета и rougher.output.recovery равны, что говорит нам о том, что эффективность обогащения рассчитана верно."
   ]
  },
  {
   "cell_type": "markdown",
   "metadata": {},
   "source": [
    "Проверим отличающиеся столбцы в test и train."
   ]
  },
  {
   "cell_type": "code",
   "execution_count": 12,
   "metadata": {
    "scrolled": true
   },
   "outputs": [
    {
     "data": {
      "text/plain": [
       "{'final.output.concentrate_ag',\n",
       " 'final.output.concentrate_au',\n",
       " 'final.output.concentrate_pb',\n",
       " 'final.output.concentrate_sol',\n",
       " 'final.output.recovery',\n",
       " 'final.output.tail_ag',\n",
       " 'final.output.tail_au',\n",
       " 'final.output.tail_pb',\n",
       " 'final.output.tail_sol',\n",
       " 'primary_cleaner.output.concentrate_ag',\n",
       " 'primary_cleaner.output.concentrate_au',\n",
       " 'primary_cleaner.output.concentrate_pb',\n",
       " 'primary_cleaner.output.concentrate_sol',\n",
       " 'primary_cleaner.output.tail_ag',\n",
       " 'primary_cleaner.output.tail_au',\n",
       " 'primary_cleaner.output.tail_pb',\n",
       " 'primary_cleaner.output.tail_sol',\n",
       " 'rougher.calculation.au_pb_ratio',\n",
       " 'rougher.calculation.floatbank10_sulfate_to_au_feed',\n",
       " 'rougher.calculation.floatbank11_sulfate_to_au_feed',\n",
       " 'rougher.calculation.sulfate_to_au_concentrate',\n",
       " 'rougher.output.concentrate_ag',\n",
       " 'rougher.output.concentrate_au',\n",
       " 'rougher.output.concentrate_pb',\n",
       " 'rougher.output.concentrate_sol',\n",
       " 'rougher.output.recovery',\n",
       " 'rougher.output.tail_ag',\n",
       " 'rougher.output.tail_au',\n",
       " 'rougher.output.tail_pb',\n",
       " 'rougher.output.tail_sol',\n",
       " 'secondary_cleaner.output.tail_ag',\n",
       " 'secondary_cleaner.output.tail_au',\n",
       " 'secondary_cleaner.output.tail_pb',\n",
       " 'secondary_cleaner.output.tail_sol'}"
      ]
     },
     "execution_count": 12,
     "metadata": {},
     "output_type": "execute_result"
    }
   ],
   "source": [
    "set(train.columns) - set(test.columns)"
   ]
  },
  {
   "cell_type": "markdown",
   "metadata": {},
   "source": [
    "Видим, что признаки отсутствующие в тестовой выборке это в выходные результаты, поэтому имеет смысл удалить их из тренировочной выборки, так как они могут быть утечкой целевого признака."
   ]
  },
  {
   "cell_type": "code",
   "execution_count": null,
   "metadata": {},
   "outputs": [],
   "source": []
  },
  {
   "cell_type": "markdown",
   "metadata": {},
   "source": [
    "Проведем предобработку данных. Удалим из обучающей выборки столбцы, которых нет в тестовой"
   ]
  },
  {
   "cell_type": "code",
   "execution_count": 13,
   "metadata": {
    "scrolled": true
   },
   "outputs": [
    {
     "name": "stdout",
     "output_type": "stream",
     "text": [
      "<class 'pandas.core.frame.DataFrame'>\n",
      "RangeIndex: 14579 entries, 0 to 14578\n",
      "Data columns (total 53 columns):\n",
      " #   Column                                      Non-Null Count  Dtype  \n",
      "---  ------                                      --------------  -----  \n",
      " 0   date                                        14579 non-null  object \n",
      " 1   rougher.input.feed_au                       14579 non-null  float64\n",
      " 2   rougher.input.feed_ag                       14579 non-null  float64\n",
      " 3   rougher.input.feed_pb                       14507 non-null  float64\n",
      " 4   rougher.input.feed_sol                      14502 non-null  float64\n",
      " 5   rougher.input.feed_rate                     14572 non-null  float64\n",
      " 6   rougher.input.feed_size                     14478 non-null  float64\n",
      " 7   rougher.input.floatbank10_sulfate           14548 non-null  float64\n",
      " 8   rougher.input.floatbank10_xanthate          14572 non-null  float64\n",
      " 9   rougher.state.floatbank10_a_air             14579 non-null  float64\n",
      " 10  rougher.state.floatbank10_a_level           14579 non-null  float64\n",
      " 11  rougher.state.floatbank10_b_air             14579 non-null  float64\n",
      " 12  rougher.state.floatbank10_b_level           14579 non-null  float64\n",
      " 13  rougher.state.floatbank10_c_air             14579 non-null  float64\n",
      " 14  rougher.state.floatbank10_c_level           14579 non-null  float64\n",
      " 15  rougher.state.floatbank10_d_air             14579 non-null  float64\n",
      " 16  rougher.state.floatbank10_d_level           14579 non-null  float64\n",
      " 17  rougher.state.floatbank10_e_air             14150 non-null  float64\n",
      " 18  rougher.state.floatbank10_e_level           14579 non-null  float64\n",
      " 19  rougher.state.floatbank10_f_air             14579 non-null  float64\n",
      " 20  rougher.state.floatbank10_f_level           14579 non-null  float64\n",
      " 21  rougher.input.floatbank11_sulfate           14543 non-null  float64\n",
      " 22  rougher.input.floatbank11_xanthate          14172 non-null  float64\n",
      " 23  primary_cleaner.input.sulfate               14556 non-null  float64\n",
      " 24  primary_cleaner.input.depressant            14551 non-null  float64\n",
      " 25  primary_cleaner.input.feed_size             14579 non-null  float64\n",
      " 26  primary_cleaner.input.xanthate              14518 non-null  float64\n",
      " 27  primary_cleaner.state.floatbank8_a_air      14576 non-null  float64\n",
      " 28  primary_cleaner.state.floatbank8_a_level    14579 non-null  float64\n",
      " 29  primary_cleaner.state.floatbank8_b_air      14576 non-null  float64\n",
      " 30  primary_cleaner.state.floatbank8_b_level    14579 non-null  float64\n",
      " 31  primary_cleaner.state.floatbank8_c_air      14579 non-null  float64\n",
      " 32  primary_cleaner.state.floatbank8_c_level    14579 non-null  float64\n",
      " 33  primary_cleaner.state.floatbank8_d_air      14578 non-null  float64\n",
      " 34  primary_cleaner.state.floatbank8_d_level    14579 non-null  float64\n",
      " 35  secondary_cleaner.state.floatbank2_a_air    14485 non-null  float64\n",
      " 36  secondary_cleaner.state.floatbank2_a_level  14579 non-null  float64\n",
      " 37  secondary_cleaner.state.floatbank2_b_air    14557 non-null  float64\n",
      " 38  secondary_cleaner.state.floatbank2_b_level  14579 non-null  float64\n",
      " 39  secondary_cleaner.state.floatbank3_a_air    14567 non-null  float64\n",
      " 40  secondary_cleaner.state.floatbank3_a_level  14579 non-null  float64\n",
      " 41  secondary_cleaner.state.floatbank3_b_air    14579 non-null  float64\n",
      " 42  secondary_cleaner.state.floatbank3_b_level  14579 non-null  float64\n",
      " 43  secondary_cleaner.state.floatbank4_a_air    14574 non-null  float64\n",
      " 44  secondary_cleaner.state.floatbank4_a_level  14579 non-null  float64\n",
      " 45  secondary_cleaner.state.floatbank4_b_air    14579 non-null  float64\n",
      " 46  secondary_cleaner.state.floatbank4_b_level  14579 non-null  float64\n",
      " 47  secondary_cleaner.state.floatbank5_a_air    14579 non-null  float64\n",
      " 48  secondary_cleaner.state.floatbank5_a_level  14579 non-null  float64\n",
      " 49  secondary_cleaner.state.floatbank5_b_air    14579 non-null  float64\n",
      " 50  secondary_cleaner.state.floatbank5_b_level  14579 non-null  float64\n",
      " 51  secondary_cleaner.state.floatbank6_a_air    14578 non-null  float64\n",
      " 52  secondary_cleaner.state.floatbank6_a_level  14579 non-null  float64\n",
      "dtypes: float64(52), object(1)\n",
      "memory usage: 5.9+ MB\n"
     ]
    }
   ],
   "source": [
    "train_new = train[test.columns]\n",
    "train_new.info()"
   ]
  },
  {
   "cell_type": "code",
   "execution_count": 14,
   "metadata": {
    "scrolled": true
   },
   "outputs": [
    {
     "data": {
      "text/plain": [
       "date                                            0\n",
       "rougher.input.feed_au                           0\n",
       "rougher.input.feed_ag                           0\n",
       "rougher.input.feed_pb                          72\n",
       "rougher.input.feed_sol                         77\n",
       "rougher.input.feed_rate                         7\n",
       "rougher.input.feed_size                       101\n",
       "rougher.input.floatbank10_sulfate              31\n",
       "rougher.input.floatbank10_xanthate              7\n",
       "rougher.state.floatbank10_a_air                 0\n",
       "rougher.state.floatbank10_a_level               0\n",
       "rougher.state.floatbank10_b_air                 0\n",
       "rougher.state.floatbank10_b_level               0\n",
       "rougher.state.floatbank10_c_air                 0\n",
       "rougher.state.floatbank10_c_level               0\n",
       "rougher.state.floatbank10_d_air                 0\n",
       "rougher.state.floatbank10_d_level               0\n",
       "rougher.state.floatbank10_e_air               429\n",
       "rougher.state.floatbank10_e_level               0\n",
       "rougher.state.floatbank10_f_air                 0\n",
       "rougher.state.floatbank10_f_level               0\n",
       "rougher.input.floatbank11_sulfate              36\n",
       "rougher.input.floatbank11_xanthate            407\n",
       "primary_cleaner.input.sulfate                  23\n",
       "primary_cleaner.input.depressant               28\n",
       "primary_cleaner.input.feed_size                 0\n",
       "primary_cleaner.input.xanthate                 61\n",
       "primary_cleaner.state.floatbank8_a_air          3\n",
       "primary_cleaner.state.floatbank8_a_level        0\n",
       "primary_cleaner.state.floatbank8_b_air          3\n",
       "primary_cleaner.state.floatbank8_b_level        0\n",
       "primary_cleaner.state.floatbank8_c_air          0\n",
       "primary_cleaner.state.floatbank8_c_level        0\n",
       "primary_cleaner.state.floatbank8_d_air          1\n",
       "primary_cleaner.state.floatbank8_d_level        0\n",
       "secondary_cleaner.state.floatbank2_a_air       94\n",
       "secondary_cleaner.state.floatbank2_a_level      0\n",
       "secondary_cleaner.state.floatbank2_b_air       22\n",
       "secondary_cleaner.state.floatbank2_b_level      0\n",
       "secondary_cleaner.state.floatbank3_a_air       12\n",
       "secondary_cleaner.state.floatbank3_a_level      0\n",
       "secondary_cleaner.state.floatbank3_b_air        0\n",
       "secondary_cleaner.state.floatbank3_b_level      0\n",
       "secondary_cleaner.state.floatbank4_a_air        5\n",
       "secondary_cleaner.state.floatbank4_a_level      0\n",
       "secondary_cleaner.state.floatbank4_b_air        0\n",
       "secondary_cleaner.state.floatbank4_b_level      0\n",
       "secondary_cleaner.state.floatbank5_a_air        0\n",
       "secondary_cleaner.state.floatbank5_a_level      0\n",
       "secondary_cleaner.state.floatbank5_b_air        0\n",
       "secondary_cleaner.state.floatbank5_b_level      0\n",
       "secondary_cleaner.state.floatbank6_a_air        1\n",
       "secondary_cleaner.state.floatbank6_a_level      0\n",
       "dtype: int64"
      ]
     },
     "execution_count": 14,
     "metadata": {},
     "output_type": "execute_result"
    }
   ],
   "source": [
    "train_new.isna().sum()"
   ]
  },
  {
   "cell_type": "code",
   "execution_count": 15,
   "metadata": {
    "scrolled": true
   },
   "outputs": [
    {
     "data": {
      "text/plain": [
       "date                                            0\n",
       "rougher.input.feed_au                           0\n",
       "rougher.input.feed_ag                           0\n",
       "rougher.input.feed_pb                          28\n",
       "rougher.input.feed_sol                         22\n",
       "rougher.input.feed_rate                         4\n",
       "rougher.input.feed_size                        44\n",
       "rougher.input.floatbank10_sulfate               3\n",
       "rougher.input.floatbank10_xanthate              1\n",
       "rougher.state.floatbank10_a_air                 1\n",
       "rougher.state.floatbank10_a_level               1\n",
       "rougher.state.floatbank10_b_air                 1\n",
       "rougher.state.floatbank10_b_level               1\n",
       "rougher.state.floatbank10_c_air                 1\n",
       "rougher.state.floatbank10_c_level               1\n",
       "rougher.state.floatbank10_d_air                 0\n",
       "rougher.state.floatbank10_d_level               0\n",
       "rougher.state.floatbank10_e_air                 7\n",
       "rougher.state.floatbank10_e_level               0\n",
       "rougher.state.floatbank10_f_air                 0\n",
       "rougher.state.floatbank10_f_level               0\n",
       "rougher.input.floatbank11_sulfate               8\n",
       "rougher.input.floatbank11_xanthate             46\n",
       "primary_cleaner.input.sulfate                   1\n",
       "primary_cleaner.input.depressant                9\n",
       "primary_cleaner.input.feed_size                 0\n",
       "primary_cleaner.input.xanthate                 43\n",
       "primary_cleaner.state.floatbank8_a_air          1\n",
       "primary_cleaner.state.floatbank8_a_level        1\n",
       "primary_cleaner.state.floatbank8_b_air          1\n",
       "primary_cleaner.state.floatbank8_b_level        1\n",
       "primary_cleaner.state.floatbank8_c_air          2\n",
       "primary_cleaner.state.floatbank8_c_level        1\n",
       "primary_cleaner.state.floatbank8_d_air          2\n",
       "primary_cleaner.state.floatbank8_d_level        1\n",
       "secondary_cleaner.state.floatbank2_a_air      126\n",
       "secondary_cleaner.state.floatbank2_a_level      1\n",
       "secondary_cleaner.state.floatbank2_b_air        1\n",
       "secondary_cleaner.state.floatbank2_b_level      1\n",
       "secondary_cleaner.state.floatbank3_a_air        1\n",
       "secondary_cleaner.state.floatbank3_a_level      1\n",
       "secondary_cleaner.state.floatbank3_b_air        1\n",
       "secondary_cleaner.state.floatbank3_b_level      1\n",
       "secondary_cleaner.state.floatbank4_a_air        1\n",
       "secondary_cleaner.state.floatbank4_a_level      1\n",
       "secondary_cleaner.state.floatbank4_b_air        1\n",
       "secondary_cleaner.state.floatbank4_b_level      1\n",
       "secondary_cleaner.state.floatbank5_a_air        1\n",
       "secondary_cleaner.state.floatbank5_a_level      1\n",
       "secondary_cleaner.state.floatbank5_b_air        1\n",
       "secondary_cleaner.state.floatbank5_b_level      1\n",
       "secondary_cleaner.state.floatbank6_a_air        1\n",
       "secondary_cleaner.state.floatbank6_a_level      1\n",
       "dtype: int64"
      ]
     },
     "execution_count": 15,
     "metadata": {},
     "output_type": "execute_result"
    }
   ],
   "source": [
    "test.isna().sum()"
   ]
  },
  {
   "cell_type": "code",
   "execution_count": 16,
   "metadata": {},
   "outputs": [
    {
     "data": {
      "text/plain": [
       "date                        0\n",
       "rougher.input.feed_au       0\n",
       "rougher.input.feed_ag       0\n",
       "rougher.input.feed_pb     100\n",
       "rougher.input.feed_sol     99\n",
       "                         ... \n",
       "final.output.recovery       0\n",
       "final.output.tail_au        0\n",
       "final.output.tail_ag        1\n",
       "final.output.tail_pb      101\n",
       "final.output.tail_sol       6\n",
       "Length: 87, dtype: int64"
      ]
     },
     "execution_count": 16,
     "metadata": {},
     "output_type": "execute_result"
    }
   ],
   "source": [
    "data.isna().sum()"
   ]
  },
  {
   "cell_type": "markdown",
   "metadata": {},
   "source": [
    "Заполним пропущенные значения предыдущими, так как значения у нас распределенны по времени."
   ]
  },
  {
   "cell_type": "code",
   "execution_count": 17,
   "metadata": {
    "scrolled": true
   },
   "outputs": [
    {
     "name": "stderr",
     "output_type": "stream",
     "text": [
      "/opt/conda/lib/python3.9/site-packages/pandas/core/frame.py:4462: SettingWithCopyWarning: \n",
      "A value is trying to be set on a copy of a slice from a DataFrame\n",
      "\n",
      "See the caveats in the documentation: https://pandas.pydata.org/pandas-docs/stable/user_guide/indexing.html#returning-a-view-versus-a-copy\n",
      "  return super().fillna(\n"
     ]
    },
    {
     "data": {
      "text/plain": [
       "date                                          0\n",
       "rougher.input.feed_au                         0\n",
       "rougher.input.feed_ag                         0\n",
       "rougher.input.feed_pb                         0\n",
       "rougher.input.feed_sol                        0\n",
       "rougher.input.feed_rate                       0\n",
       "rougher.input.feed_size                       0\n",
       "rougher.input.floatbank10_sulfate             0\n",
       "rougher.input.floatbank10_xanthate            0\n",
       "rougher.state.floatbank10_a_air               0\n",
       "rougher.state.floatbank10_a_level             0\n",
       "rougher.state.floatbank10_b_air               0\n",
       "rougher.state.floatbank10_b_level             0\n",
       "rougher.state.floatbank10_c_air               0\n",
       "rougher.state.floatbank10_c_level             0\n",
       "rougher.state.floatbank10_d_air               0\n",
       "rougher.state.floatbank10_d_level             0\n",
       "rougher.state.floatbank10_e_air               0\n",
       "rougher.state.floatbank10_e_level             0\n",
       "rougher.state.floatbank10_f_air               0\n",
       "rougher.state.floatbank10_f_level             0\n",
       "rougher.input.floatbank11_sulfate             0\n",
       "rougher.input.floatbank11_xanthate            0\n",
       "primary_cleaner.input.sulfate                 0\n",
       "primary_cleaner.input.depressant              0\n",
       "primary_cleaner.input.feed_size               0\n",
       "primary_cleaner.input.xanthate                0\n",
       "primary_cleaner.state.floatbank8_a_air        0\n",
       "primary_cleaner.state.floatbank8_a_level      0\n",
       "primary_cleaner.state.floatbank8_b_air        0\n",
       "primary_cleaner.state.floatbank8_b_level      0\n",
       "primary_cleaner.state.floatbank8_c_air        0\n",
       "primary_cleaner.state.floatbank8_c_level      0\n",
       "primary_cleaner.state.floatbank8_d_air        0\n",
       "primary_cleaner.state.floatbank8_d_level      0\n",
       "secondary_cleaner.state.floatbank2_a_air      0\n",
       "secondary_cleaner.state.floatbank2_a_level    0\n",
       "secondary_cleaner.state.floatbank2_b_air      0\n",
       "secondary_cleaner.state.floatbank2_b_level    0\n",
       "secondary_cleaner.state.floatbank3_a_air      0\n",
       "secondary_cleaner.state.floatbank3_a_level    0\n",
       "secondary_cleaner.state.floatbank3_b_air      0\n",
       "secondary_cleaner.state.floatbank3_b_level    0\n",
       "secondary_cleaner.state.floatbank4_a_air      0\n",
       "secondary_cleaner.state.floatbank4_a_level    0\n",
       "secondary_cleaner.state.floatbank4_b_air      0\n",
       "secondary_cleaner.state.floatbank4_b_level    0\n",
       "secondary_cleaner.state.floatbank5_a_air      0\n",
       "secondary_cleaner.state.floatbank5_a_level    0\n",
       "secondary_cleaner.state.floatbank5_b_air      0\n",
       "secondary_cleaner.state.floatbank5_b_level    0\n",
       "secondary_cleaner.state.floatbank6_a_air      0\n",
       "secondary_cleaner.state.floatbank6_a_level    0\n",
       "dtype: int64"
      ]
     },
     "execution_count": 17,
     "metadata": {},
     "output_type": "execute_result"
    }
   ],
   "source": [
    "train_new.fillna(method='ffill', inplace=True)\n",
    "train_new.isna().sum()"
   ]
  },
  {
   "cell_type": "code",
   "execution_count": 18,
   "metadata": {
    "scrolled": true
   },
   "outputs": [
    {
     "data": {
      "text/plain": [
       "date                                          0\n",
       "rougher.input.feed_au                         0\n",
       "rougher.input.feed_ag                         0\n",
       "rougher.input.feed_pb                         0\n",
       "rougher.input.feed_sol                        0\n",
       "rougher.input.feed_rate                       0\n",
       "rougher.input.feed_size                       0\n",
       "rougher.input.floatbank10_sulfate             0\n",
       "rougher.input.floatbank10_xanthate            0\n",
       "rougher.state.floatbank10_a_air               0\n",
       "rougher.state.floatbank10_a_level             0\n",
       "rougher.state.floatbank10_b_air               0\n",
       "rougher.state.floatbank10_b_level             0\n",
       "rougher.state.floatbank10_c_air               0\n",
       "rougher.state.floatbank10_c_level             0\n",
       "rougher.state.floatbank10_d_air               0\n",
       "rougher.state.floatbank10_d_level             0\n",
       "rougher.state.floatbank10_e_air               0\n",
       "rougher.state.floatbank10_e_level             0\n",
       "rougher.state.floatbank10_f_air               0\n",
       "rougher.state.floatbank10_f_level             0\n",
       "rougher.input.floatbank11_sulfate             0\n",
       "rougher.input.floatbank11_xanthate            0\n",
       "primary_cleaner.input.sulfate                 0\n",
       "primary_cleaner.input.depressant              0\n",
       "primary_cleaner.input.feed_size               0\n",
       "primary_cleaner.input.xanthate                0\n",
       "primary_cleaner.state.floatbank8_a_air        0\n",
       "primary_cleaner.state.floatbank8_a_level      0\n",
       "primary_cleaner.state.floatbank8_b_air        0\n",
       "primary_cleaner.state.floatbank8_b_level      0\n",
       "primary_cleaner.state.floatbank8_c_air        0\n",
       "primary_cleaner.state.floatbank8_c_level      0\n",
       "primary_cleaner.state.floatbank8_d_air        0\n",
       "primary_cleaner.state.floatbank8_d_level      0\n",
       "secondary_cleaner.state.floatbank2_a_air      0\n",
       "secondary_cleaner.state.floatbank2_a_level    0\n",
       "secondary_cleaner.state.floatbank2_b_air      0\n",
       "secondary_cleaner.state.floatbank2_b_level    0\n",
       "secondary_cleaner.state.floatbank3_a_air      0\n",
       "secondary_cleaner.state.floatbank3_a_level    0\n",
       "secondary_cleaner.state.floatbank3_b_air      0\n",
       "secondary_cleaner.state.floatbank3_b_level    0\n",
       "secondary_cleaner.state.floatbank4_a_air      0\n",
       "secondary_cleaner.state.floatbank4_a_level    0\n",
       "secondary_cleaner.state.floatbank4_b_air      0\n",
       "secondary_cleaner.state.floatbank4_b_level    0\n",
       "secondary_cleaner.state.floatbank5_a_air      0\n",
       "secondary_cleaner.state.floatbank5_a_level    0\n",
       "secondary_cleaner.state.floatbank5_b_air      0\n",
       "secondary_cleaner.state.floatbank5_b_level    0\n",
       "secondary_cleaner.state.floatbank6_a_air      0\n",
       "secondary_cleaner.state.floatbank6_a_level    0\n",
       "dtype: int64"
      ]
     },
     "execution_count": 18,
     "metadata": {},
     "output_type": "execute_result"
    }
   ],
   "source": [
    "test.fillna(method='ffill', inplace=True)\n",
    "test.isna().sum()"
   ]
  },
  {
   "cell_type": "code",
   "execution_count": 19,
   "metadata": {},
   "outputs": [
    {
     "data": {
      "text/plain": [
       "date                      0\n",
       "rougher.input.feed_au     0\n",
       "rougher.input.feed_ag     0\n",
       "rougher.input.feed_pb     0\n",
       "rougher.input.feed_sol    0\n",
       "                         ..\n",
       "final.output.recovery     0\n",
       "final.output.tail_au      0\n",
       "final.output.tail_ag      0\n",
       "final.output.tail_pb      0\n",
       "final.output.tail_sol     0\n",
       "Length: 87, dtype: int64"
      ]
     },
     "execution_count": 19,
     "metadata": {},
     "output_type": "execute_result"
    }
   ],
   "source": [
    "data.fillna(method='ffill', inplace=True)\n",
    "data.isna().sum()"
   ]
  },
  {
   "cell_type": "markdown",
   "metadata": {},
   "source": [
    "На этапе предобработки мы избавились от ненужных столбцов в обучающей выборки и заполнили пропущенные значения."
   ]
  },
  {
   "cell_type": "markdown",
   "metadata": {},
   "source": [
    "## Анализ данных"
   ]
  },
  {
   "cell_type": "markdown",
   "metadata": {},
   "source": [
    "Посмотрим, как меняется концентрация металлов (Au, Ag, Pb) на различных этапах очистки."
   ]
  },
  {
   "cell_type": "markdown",
   "metadata": {},
   "source": [
    "Отфильтруем нужные нам данные для металлов."
   ]
  },
  {
   "cell_type": "code",
   "execution_count": 20,
   "metadata": {},
   "outputs": [],
   "source": [
    "data_au = data[['rougher.input.feed_au', 'rougher.output.concentrate_au', \n",
    "              'primary_cleaner.output.concentrate_au', \n",
    "              'final.output.concentrate_au']]\n",
    "data_ag = data[['rougher.input.feed_ag', 'rougher.output.concentrate_ag', \n",
    "              'primary_cleaner.output.concentrate_ag', \n",
    "              'final.output.concentrate_ag']]\n",
    "data_pb = data[['rougher.input.feed_pb', 'rougher.output.concentrate_pb', \n",
    "              'primary_cleaner.output.concentrate_pb', \n",
    "              'final.output.concentrate_pb']]"
   ]
  },
  {
   "cell_type": "code",
   "execution_count": null,
   "metadata": {},
   "outputs": [],
   "source": []
  },
  {
   "cell_type": "code",
   "execution_count": 21,
   "metadata": {},
   "outputs": [
    {
     "data": {
      "image/png": "[encoded data removed]",
      "text/plain": [
       "<Figure size 864x360 with 1 Axes>"
      ]
     },
     "metadata": {
      "needs_background": "light"
     },
     "output_type": "display_data"
    }
   ],
   "source": [
    "data_au.mean().plot(figsize=(12,5))\n",
    "plt.title('Концентрация золота на разных этапах обработки')\n",
    "plt.ylabel('Концентрация')\n",
    "plt.xlabel('Этап обработки');"
   ]
  },
  {
   "cell_type": "code",
   "execution_count": null,
   "metadata": {},
   "outputs": [],
   "source": []
  },
  {
   "cell_type": "code",
   "execution_count": 22,
   "metadata": {},
   "outputs": [
    {
     "data": {
      "image/png": "[encoded data removed]",
      "text/plain": [
       "<Figure size 593.125x360 with 1 Axes>"
      ]
     },
     "metadata": {
      "needs_background": "light"
     },
     "output_type": "display_data"
    }
   ],
   "source": [
    "sns.displot(data_au);\n",
    "plt.title('Распределения концентрации золота')\n",
    "plt.ylabel('')\n",
    "plt.xlabel('Концентрации');"
   ]
  },
  {
   "cell_type": "code",
   "execution_count": 23,
   "metadata": {},
   "outputs": [
    {
     "data": {
      "image/png": "[encoded data removed]",
      "text/plain": [
       "<Figure size 864x360 with 1 Axes>"
      ]
     },
     "metadata": {
      "needs_background": "light"
     },
     "output_type": "display_data"
    }
   ],
   "source": [
    "data_ag.mean().plot(figsize=(12,5))\n",
    "plt.title('Концентрация серебра на разных этапах обработки')\n",
    "plt.ylabel('Концентрация')\n",
    "plt.xlabel('Этап обработки');"
   ]
  },
  {
   "cell_type": "code",
   "execution_count": 24,
   "metadata": {},
   "outputs": [
    {
     "data": {
      "image/png": "[encoded data removed]",
      "text/plain": [
       "<Figure size 593.125x360 with 1 Axes>"
      ]
     },
     "metadata": {
      "needs_background": "light"
     },
     "output_type": "display_data"
    }
   ],
   "source": [
    "sns.displot(data_ag);\n",
    "plt.title('Распределения концентрации серебра')\n",
    "plt.ylabel('')\n",
    "plt.xlabel('Концентрации');"
   ]
  },
  {
   "cell_type": "code",
   "execution_count": 25,
   "metadata": {},
   "outputs": [
    {
     "data": {
      "image/png": "[encoded data removed]",
      "text/plain": [
       "<Figure size 864x360 with 1 Axes>"
      ]
     },
     "metadata": {
      "needs_background": "light"
     },
     "output_type": "display_data"
    }
   ],
   "source": [
    "data_pb.mean().plot(figsize=(12,5))\n",
    "plt.title('Концентрация свинца на разных этапах обработки')\n",
    "plt.ylabel('Концентрация')\n",
    "plt.xlabel('Этап обработки');"
   ]
  },
  {
   "cell_type": "code",
   "execution_count": 26,
   "metadata": {},
   "outputs": [
    {
     "data": {
      "image/png": "[encoded data removed]",
      "text/plain": [
       "<Figure size 593.125x360 with 1 Axes>"
      ]
     },
     "metadata": {
      "needs_background": "light"
     },
     "output_type": "display_data"
    }
   ],
   "source": [
    "sns.displot(data_pb);\n",
    "plt.title('Распределения концентрации свинца')\n",
    "plt.ylabel('')\n",
    "plt.xlabel('Концентрации');"
   ]
  },
  {
   "cell_type": "markdown",
   "metadata": {},
   "source": [
    "Концентрация золота равномерно растет в процессе очистки. Концентрация серебра растет при переходи от сырья к черновому концентрату и падает в следующих этапах. Концентрация свинца растет при переходе от первой стадии ко второй и чуть медленнее растет при переходе к другим этапам. "
   ]
  },
  {
   "cell_type": "markdown",
   "metadata": {},
   "source": [
    "Так же можем заметить большое количество выбросов в 0 значении. Избавимся от них."
   ]
  },
  {
   "cell_type": "code",
   "execution_count": 27,
   "metadata": {},
   "outputs": [],
   "source": [
    "data_new = data.replace(0, np.nan)\n",
    "data_new = data_new.dropna(how='all', axis=0)"
   ]
  },
  {
   "cell_type": "markdown",
   "metadata": {},
   "source": [
    "Сравним распределения размеров гранул исходного сырья на обучающей и тестовой выборках."
   ]
  },
  {
   "cell_type": "code",
   "execution_count": 28,
   "metadata": {},
   "outputs": [
    {
     "data": {
      "image/png": "[encoded data removed]",
      "text/plain": [
       "<Figure size 360x360 with 1 Axes>"
      ]
     },
     "metadata": {
      "needs_background": "light"
     },
     "output_type": "display_data"
    },
    {
     "data": {
      "image/png": "[encoded data removed]",
      "text/plain": [
       "<Figure size 360x360 with 1 Axes>"
      ]
     },
     "metadata": {
      "needs_background": "light"
     },
     "output_type": "display_data"
    }
   ],
   "source": [
    "sns.displot(test['rougher.input.feed_size'])\n",
    "sns.displot(train_new['rougher.input.feed_size']);"
   ]
  },
  {
   "cell_type": "code",
   "execution_count": 29,
   "metadata": {},
   "outputs": [
    {
     "data": {
      "text/plain": [
       "count    4860.000000\n",
       "mean       59.136150\n",
       "std        19.512497\n",
       "min         0.046369\n",
       "25%        47.610795\n",
       "50%        55.461058\n",
       "75%        66.538910\n",
       "max       363.989699\n",
       "Name: rougher.input.feed_size, dtype: float64"
      ]
     },
     "execution_count": 29,
     "metadata": {},
     "output_type": "execute_result"
    }
   ],
   "source": [
    "test['rougher.input.feed_size'].describe()"
   ]
  },
  {
   "cell_type": "code",
   "execution_count": 30,
   "metadata": {},
   "outputs": [
    {
     "data": {
      "text/plain": [
       "count    14579.000000\n",
       "mean        59.070865\n",
       "std         22.903811\n",
       "min          0.049194\n",
       "25%         47.322462\n",
       "50%         54.464259\n",
       "75%         64.469177\n",
       "max        484.967466\n",
       "Name: rougher.input.feed_size, dtype: float64"
      ]
     },
     "execution_count": 30,
     "metadata": {},
     "output_type": "execute_result"
    }
   ],
   "source": [
    "train_new['rougher.input.feed_size'].describe()"
   ]
  },
  {
   "cell_type": "markdown",
   "metadata": {},
   "source": [
    "Как мы видим из графиков и из describe средние и медианные значения выборок, а так же первый квантиль и третий,  практически одинаковые для них обеих, что говорит нам о том, что распределения практически равны"
   ]
  },
  {
   "cell_type": "code",
   "execution_count": null,
   "metadata": {},
   "outputs": [],
   "source": []
  },
  {
   "cell_type": "markdown",
   "metadata": {},
   "source": [
    "Исследуем суммарную концентрацию металлов на разных стадиях: в сырье, в черновом концентрате, в концентрате после первой очистки и в финальном концентрате."
   ]
  },
  {
   "cell_type": "code",
   "execution_count": 31,
   "metadata": {},
   "outputs": [
    {
     "data": {
      "image/png": "[encoded data removed]",
      "text/plain": [
       "<Figure size 360x360 with 1 Axes>"
      ]
     },
     "metadata": {
      "needs_background": "light"
     },
     "output_type": "display_data"
    }
   ],
   "source": [
    "sns.displot(data['rougher.input.feed_au'] + \\\n",
    "            data['rougher.input.feed_ag'] + \\\n",
    "            data['rougher.input.feed_pb'] + \\\n",
    "            data['rougher.input.feed_sol'])\n",
    "plt.title('Суммарная концентрация всех веществ в сырье');"
   ]
  },
  {
   "cell_type": "code",
   "execution_count": 32,
   "metadata": {},
   "outputs": [
    {
     "data": {
      "image/png": "[encoded data removed]",
      "text/plain": [
       "<Figure size 360x360 with 1 Axes>"
      ]
     },
     "metadata": {
      "needs_background": "light"
     },
     "output_type": "display_data"
    }
   ],
   "source": [
    "sns.displot(data['rougher.output.concentrate_au'] + \\\n",
    "            data['rougher.output.concentrate_ag'] + \\\n",
    "            data['rougher.output.concentrate_pb'] + \\\n",
    "            data['rougher.output.concentrate_sol'])\n",
    "plt.title('Суммарная концентрация всех веществ в черновом концентрате');"
   ]
  },
  {
   "cell_type": "code",
   "execution_count": 33,
   "metadata": {},
   "outputs": [
    {
     "data": {
      "image/png": "[encoded data removed]",
      "text/plain": [
       "<Figure size 360x360 with 1 Axes>"
      ]
     },
     "metadata": {
      "needs_background": "light"
     },
     "output_type": "display_data"
    }
   ],
   "source": [
    "sns.displot(data['final.output.concentrate_au'] + \\\n",
    "            data['final.output.concentrate_ag'] + \\\n",
    "            data['final.output.concentrate_pb'] + \\\n",
    "            data['final.output.concentrate_sol'])\n",
    "plt.title('Суммарная концентрация всех веществ в финальном концентрате');"
   ]
  },
  {
   "cell_type": "markdown",
   "metadata": {},
   "source": [
    "По данным графиками мы можем увидеть аномалии во второй и третьей стадии в 0. Избавимся от них."
   ]
  },
  {
   "cell_type": "code",
   "execution_count": 34,
   "metadata": {},
   "outputs": [],
   "source": [
    "data_new = data.replace(0, np.nan)\n",
    "data_new = data_new.dropna(how='all', axis=0)"
   ]
  },
  {
   "cell_type": "code",
   "execution_count": 35,
   "metadata": {},
   "outputs": [
    {
     "data": {
      "image/png": "[encoded data removed]",
      "text/plain": [
       "<Figure size 360x360 with 1 Axes>"
      ]
     },
     "metadata": {
      "needs_background": "light"
     },
     "output_type": "display_data"
    }
   ],
   "source": [
    "sns.displot(data_new['rougher.output.concentrate_au'] + \\\n",
    "            data_new['rougher.output.concentrate_ag'] + \\\n",
    "            data_new['rougher.output.concentrate_pb'] + \\\n",
    "            data_new['rougher.output.concentrate_sol'])\n",
    "plt.title('Суммарная концентрация всех веществ в черновом концентрате');"
   ]
  },
  {
   "cell_type": "code",
   "execution_count": 36,
   "metadata": {},
   "outputs": [
    {
     "data": {
      "image/png": "[encoded data removed]",
      "text/plain": [
       "<Figure size 360x360 with 1 Axes>"
      ]
     },
     "metadata": {
      "needs_background": "light"
     },
     "output_type": "display_data"
    }
   ],
   "source": [
    "sns.displot(data_new['final.output.concentrate_au'] + \\\n",
    "            data_new['final.output.concentrate_ag'] + \\\n",
    "            data_new['final.output.concentrate_pb'] + \\\n",
    "            data_new['final.output.concentrate_sol'])\n",
    "plt.title('Суммарная концентрация всех веществ в финальном концентрате');"
   ]
  },
  {
   "cell_type": "markdown",
   "metadata": {},
   "source": [
    "Проведя анализ данных мы получили, что:  \n",
    "1. Концентрация золота равномерно растет в процессе очистки. Концентрация серебра растет при переходи от сырья к черновому концентрату и падает в следующих этапах. Концентрация свинца растет при переходе от первой стадии ко второй и чуть медленнее растет при переходе к другим этапам.\n",
    "2. Исходя из графиков и из describe средние и медианные значения выборок, а так же первый квантиль и третий, практически одинаковые для них обеих, что говорит нам о том, что распределения практически равны\n",
    "3. На последней стадии суммарная концентрация металлов уменьшается."
   ]
  },
  {
   "cell_type": "markdown",
   "metadata": {},
   "source": [
    "## Модель"
   ]
  },
  {
   "cell_type": "markdown",
   "metadata": {},
   "source": [
    "Так как в нашей тестовой и обучающей выборках нет целевых признаков - добавим их из полного датасета по дате."
   ]
  },
  {
   "cell_type": "code",
   "execution_count": 37,
   "metadata": {},
   "outputs": [],
   "source": [
    "target_data = data[['date', 'rougher.output.recovery', 'final.output.recovery']]"
   ]
  },
  {
   "cell_type": "code",
   "execution_count": 38,
   "metadata": {},
   "outputs": [],
   "source": [
    "train_new = train_new.merge(target_data, how='left', on='date')\n",
    "test = test.merge(target_data, how='left', on='date')"
   ]
  },
  {
   "cell_type": "markdown",
   "metadata": {},
   "source": [
    "Теперь удалим столбцы с датой, потому что они не нужны нам для построения моделей."
   ]
  },
  {
   "cell_type": "code",
   "execution_count": 39,
   "metadata": {},
   "outputs": [],
   "source": [
    "test.drop(['date'], axis=1, inplace=True)\n",
    "train_new.drop(['date'], axis=1, inplace=True)"
   ]
  },
  {
   "cell_type": "markdown",
   "metadata": {},
   "source": [
    "Напишем функцию для подсчета sMAPE."
   ]
  },
  {
   "cell_type": "code",
   "execution_count": 40,
   "metadata": {},
   "outputs": [],
   "source": [
    "def smape(target, predicted):\n",
    "    return ((1/len(target)) * np.sum(2 * np.abs(target - predicted) / (np.abs(target) + np.abs(predicted)))) * 100"
   ]
  },
  {
   "cell_type": "markdown",
   "metadata": {},
   "source": [
    "Разделим выборки на target и features."
   ]
  },
  {
   "cell_type": "code",
   "execution_count": 41,
   "metadata": {},
   "outputs": [],
   "source": [
    "train_target_rougher = train_new['rougher.output.recovery']\n",
    "train_target_final = train_new['final.output.recovery']\n",
    "train_features = train_new.drop(['rougher.output.recovery', 'final.output.recovery'], axis=1)"
   ]
  },
  {
   "cell_type": "code",
   "execution_count": 42,
   "metadata": {},
   "outputs": [],
   "source": [
    "test_target_rougher = test['rougher.output.recovery']\n",
    "test_target_final = test['final.output.recovery']\n",
    "test_features = test.drop(['rougher.output.recovery', 'final.output.recovery'], axis=1)"
   ]
  },
  {
   "cell_type": "markdown",
   "metadata": {},
   "source": [
    "Маштабируем признаки."
   ]
  },
  {
   "cell_type": "code",
   "execution_count": 43,
   "metadata": {},
   "outputs": [],
   "source": [
    "scaler = StandardScaler()\n",
    "scaler.fit(train_features)\n",
    "\n",
    "train_features = pd.DataFrame(scaler.transform(train_features))\n",
    "test_features = pd.DataFrame(scaler.transform(test_features))"
   ]
  },
  {
   "cell_type": "markdown",
   "metadata": {},
   "source": [
    "Обучим модели."
   ]
  },
  {
   "cell_type": "markdown",
   "metadata": {},
   "source": [
    "Начнем с линейной регрессии."
   ]
  },
  {
   "cell_type": "code",
   "execution_count": 44,
   "metadata": {},
   "outputs": [
    {
     "name": "stdout",
     "output_type": "stream",
     "text": [
      "Финальный sMAPE равен: 11.822250505945679\n"
     ]
    }
   ],
   "source": [
    "model_linear = LinearRegression()\n",
    "smape_score = make_scorer(smape, greater_is_better=False)\n",
    "rougher = cross_val_score(model_linear, train_features, train_target_rougher, scoring=smape_score, cv=5)\n",
    "final = cross_val_score(model_linear, train_features, train_target_final, scoring=smape_score, cv=5)\n",
    "print('Финальный sMAPE равен:', -(0.25 * rougher.mean() + 0.75 * final.mean()))"
   ]
  },
  {
   "cell_type": "markdown",
   "metadata": {},
   "source": [
    "Теперь обучим решающее дерево."
   ]
  },
  {
   "cell_type": "code",
   "execution_count": 45,
   "metadata": {},
   "outputs": [
    {
     "name": "stdout",
     "output_type": "stream",
     "text": [
      "sMAPE лучшей модели: 11.592122036148218 Максимальная глубина: 2\n"
     ]
    }
   ],
   "source": [
    "best_model_tree = None\n",
    "best_smape = -11.822250505945679\n",
    "best_depth = 0\n",
    "for depth in range(1,10):\n",
    "    model = DecisionTreeRegressor(random_state=12345, max_depth=depth)\n",
    "    rougher = cross_val_score(model, train_features, train_target_rougher, scoring=smape_score, cv=5)\n",
    "    final = cross_val_score(model, train_features, train_target_final, scoring=smape_score, cv=5)\n",
    "    smape_final = 0.25 * rougher.mean() + 0.75 * final.mean()\n",
    "    if smape_final > best_smape:\n",
    "        best_model_tree = model\n",
    "        best_smape = smape_final\n",
    "        best_depth = depth\n",
    "print(\"sMAPE лучшей модели:\", -best_smape, \"Максимальная глубина:\", best_depth)  "
   ]
  },
  {
   "cell_type": "markdown",
   "metadata": {},
   "source": [
    "Обучим случайный лес."
   ]
  },
  {
   "cell_type": "code",
   "execution_count": 46,
   "metadata": {},
   "outputs": [
    {
     "name": "stdout",
     "output_type": "stream",
     "text": [
      "sMAPE 11.831519419202987 Количество деревьев: 10 Глубина: 1\n",
      "sMAPE 11.586456042826253 Количество деревьев: 10 Глубина: 2\n",
      "sMAPE 11.579109143961515 Количество деревьев: 10 Глубина: 3\n",
      "sMAPE 11.583609097639284 Количество деревьев: 10 Глубина: 4\n",
      "sMAPE 11.713684309577863 Количество деревьев: 20 Глубина: 1\n",
      "sMAPE 11.502722671732093 Количество деревьев: 20 Глубина: 2\n",
      "sMAPE 11.536162200880753 Количество деревьев: 20 Глубина: 3\n",
      "sMAPE 11.441368955785956 Количество деревьев: 20 Глубина: 4\n",
      "sMAPE 11.71369294005113 Количество деревьев: 30 Глубина: 1\n",
      "sMAPE 11.468078139775791 Количество деревьев: 30 Глубина: 2\n",
      "sMAPE 11.52159258464031 Количество деревьев: 30 Глубина: 3\n",
      "sMAPE 11.400852396354358 Количество деревьев: 30 Глубина: 4\n",
      "sMAPE лучшей модели 11.400852396354358 Количество деревьев: 30 Максимальная глубина: 4\n"
     ]
    }
   ],
   "source": [
    "best_model = None\n",
    "best_smape = -11.822250505945679\n",
    "best_est = 0\n",
    "best_depth = 0\n",
    "for est in range(10, 31, 10):\n",
    "    for depth in range(1, 5):\n",
    "        model = RandomForestRegressor(random_state=12345, n_estimators=est, max_depth=depth)\n",
    "        rougher = cross_val_score(model, train_features, train_target_rougher, scoring=smape_score, cv=5)\n",
    "        final = cross_val_score(model, train_features, train_target_final, scoring=smape_score, cv=5)\n",
    "        smape_final = 0.25 * rougher.mean() + 0.75 * final.mean()\n",
    "        print(\"sMAPE\", -smape_final, \"Количество деревьев:\",\n",
    "              est, \"Глубина:\", depth)    \n",
    "        if smape_final > best_smape:\n",
    "            best_model = model\n",
    "            best_smape = smape_final\n",
    "            best_est = est\n",
    "            best_depth = depth\n",
    "print(\"sMAPE лучшей модели\", -best_smape, \"Количество деревьев:\",\n",
    "      best_est, \"Максимальная глубина:\", best_depth)    "
   ]
  },
  {
   "cell_type": "markdown",
   "metadata": {},
   "source": [
    "Получили лучшую модель. Это случайный лес с количеством деревьев 30 и максимальной глубиной 4."
   ]
  },
  {
   "cell_type": "code",
   "execution_count": 47,
   "metadata": {},
   "outputs": [
    {
     "data": {
      "text/plain": [
       "RandomForestRegressor(max_depth=4, n_estimators=30, random_state=12345)"
      ]
     },
     "execution_count": 47,
     "metadata": {},
     "output_type": "execute_result"
    }
   ],
   "source": [
    "best_model"
   ]
  },
  {
   "cell_type": "markdown",
   "metadata": {},
   "source": [
    "Проверим нашу получившуюся модель на тестовой выборке."
   ]
  },
  {
   "cell_type": "code",
   "execution_count": 48,
   "metadata": {},
   "outputs": [
    {
     "name": "stdout",
     "output_type": "stream",
     "text": [
      "Финальный sMAPE на тестовой выборке равен 7.365071187701435\n"
     ]
    }
   ],
   "source": [
    "best_model_rougher = RandomForestRegressor(max_depth=4, n_estimators=30, random_state=12345)\n",
    "best_model_final = RandomForestRegressor(max_depth=4, n_estimators=30, random_state=12345)\n",
    "best_model_rougher.fit(train_features, train_target_rougher)\n",
    "best_model_final.fit(train_features, train_target_final)\n",
    "predictions_rougher = best_model_rougher.predict(test_features)\n",
    "predictions_final = best_model_final.predict(test_features)\n",
    "print('Финальный sMAPE на тестовой выборке равен', 0.25 * smape(test_target_rougher, predictions_rougher) \\\n",
    "      + 0.75 * smape(test_target_final, predictions_final))"
   ]
  },
  {
   "cell_type": "markdown",
   "metadata": {},
   "source": [
    "Проверим нашу модель на адекватность с помощью DummyRegressor."
   ]
  },
  {
   "cell_type": "code",
   "execution_count": 49,
   "metadata": {},
   "outputs": [
    {
     "name": "stdout",
     "output_type": "stream",
     "text": [
      "Финальный sMAPE DummyRegressor на тестовой выборке равен 8.843396027364125\n"
     ]
    }
   ],
   "source": [
    "model_dummy_rougher = DummyRegressor()\n",
    "model_dummy_final = DummyRegressor()\n",
    "model_dummy_rougher.fit(train_features, train_target_rougher)\n",
    "model_dummy_final.fit(train_features, train_target_final)\n",
    "predictions_rougher_dummy = model_dummy_rougher.predict(test_features)\n",
    "predictions_final_dummy = model_dummy_final.predict(test_features)\n",
    "print('Финальный sMAPE DummyRegressor на тестовой выборке равен', \\\n",
    "      0.25 * smape(test_target_rougher, predictions_rougher_dummy) \\\n",
    "      + 0.75 * smape(test_target_final, predictions_final_dummy))"
   ]
  },
  {
   "cell_type": "markdown",
   "metadata": {},
   "source": [
    "Наша модель прошла проверку на адекватность, так как наш получившийся sMAPE меньше, чем у DummyRegressor. "
   ]
  },
  {
   "cell_type": "markdown",
   "metadata": {},
   "source": [
    "Итого минимальное sMAPE, а именно 7.365071187701435, достигается при использовании модели случайного леса с максимальной глубиной 4 и количеством деревьев равным 30."
   ]
  }
 ],
 "metadata": {
  "ExecuteTimeLog": [
   {
    "duration": 1121,
    "start_time": "2023-10-23T10:31:01.703Z"
   },
   {
    "duration": 3389,
    "start_time": "2023-10-23T10:32:47.817Z"
   },
   {
    "duration": 18,
    "start_time": "2023-10-23T10:33:09.553Z"
   },
   {
    "duration": 12,
    "start_time": "2023-10-23T10:33:18.898Z"
   },
   {
    "duration": 91,
    "start_time": "2023-10-23T10:33:28.034Z"
   },
   {
    "duration": 18,
    "start_time": "2023-10-23T10:33:31.441Z"
   },
   {
    "duration": 25,
    "start_time": "2023-10-23T10:34:09.202Z"
   },
   {
    "duration": 20,
    "start_time": "2023-10-23T10:34:16.610Z"
   },
   {
    "duration": 20,
    "start_time": "2023-10-23T10:34:22.250Z"
   },
   {
    "duration": 121,
    "start_time": "2023-10-23T10:50:13.085Z"
   },
   {
    "duration": 6,
    "start_time": "2023-10-23T10:50:29.209Z"
   },
   {
    "duration": 8,
    "start_time": "2023-10-23T10:50:33.821Z"
   },
   {
    "duration": 6,
    "start_time": "2023-10-23T10:50:39.862Z"
   },
   {
    "duration": 4,
    "start_time": "2023-10-23T10:50:57.997Z"
   },
   {
    "duration": 7,
    "start_time": "2023-10-23T10:51:13.405Z"
   },
   {
    "duration": 11,
    "start_time": "2023-10-23T10:53:57.257Z"
   },
   {
    "duration": 3,
    "start_time": "2023-10-23T10:54:19.445Z"
   },
   {
    "duration": 5,
    "start_time": "2023-10-23T10:54:23.832Z"
   },
   {
    "duration": 5,
    "start_time": "2023-10-23T11:02:22.085Z"
   },
   {
    "duration": 19,
    "start_time": "2023-10-23T11:11:23.201Z"
   },
   {
    "duration": 10,
    "start_time": "2023-10-23T11:12:25.977Z"
   },
   {
    "duration": 8,
    "start_time": "2023-10-23T11:12:35.959Z"
   },
   {
    "duration": 8,
    "start_time": "2023-10-23T11:12:52.426Z"
   },
   {
    "duration": 1200,
    "start_time": "2023-10-23T20:19:53.690Z"
   },
   {
    "duration": 1600,
    "start_time": "2023-10-23T20:19:54.892Z"
   },
   {
    "duration": 17,
    "start_time": "2023-10-23T20:19:56.493Z"
   },
   {
    "duration": 12,
    "start_time": "2023-10-23T20:19:56.511Z"
   },
   {
    "duration": 33,
    "start_time": "2023-10-23T20:19:56.525Z"
   },
   {
    "duration": 26,
    "start_time": "2023-10-23T20:19:56.560Z"
   },
   {
    "duration": 21,
    "start_time": "2023-10-23T20:19:56.588Z"
   },
   {
    "duration": 44,
    "start_time": "2023-10-23T20:19:56.611Z"
   },
   {
    "duration": 15,
    "start_time": "2023-10-23T20:19:56.658Z"
   },
   {
    "duration": 6,
    "start_time": "2023-10-23T20:19:56.674Z"
   },
   {
    "duration": 10,
    "start_time": "2023-10-23T20:19:56.682Z"
   },
   {
    "duration": 7,
    "start_time": "2023-10-23T20:19:56.693Z"
   },
   {
    "duration": 24,
    "start_time": "2023-10-23T20:19:56.702Z"
   },
   {
    "duration": 18,
    "start_time": "2023-10-23T20:19:56.729Z"
   },
   {
    "duration": 7,
    "start_time": "2023-10-23T20:19:56.749Z"
   },
   {
    "duration": 10,
    "start_time": "2023-10-23T20:20:58.856Z"
   },
   {
    "duration": 97,
    "start_time": "2023-10-23T20:21:16.833Z"
   },
   {
    "duration": 8,
    "start_time": "2023-10-23T20:21:29.025Z"
   },
   {
    "duration": 34,
    "start_time": "2023-10-23T20:21:35.233Z"
   },
   {
    "duration": 7,
    "start_time": "2023-10-23T20:21:51.187Z"
   },
   {
    "duration": 14,
    "start_time": "2023-10-23T20:22:01.857Z"
   },
   {
    "duration": 8,
    "start_time": "2023-10-23T20:22:17.442Z"
   },
   {
    "duration": 19,
    "start_time": "2023-10-23T20:22:24.165Z"
   },
   {
    "duration": 12,
    "start_time": "2023-10-23T20:22:32.783Z"
   },
   {
    "duration": 11,
    "start_time": "2023-10-23T20:22:34.865Z"
   },
   {
    "duration": 11,
    "start_time": "2023-10-23T20:22:36.785Z"
   },
   {
    "duration": 11,
    "start_time": "2023-10-23T20:22:37.169Z"
   },
   {
    "duration": 16,
    "start_time": "2023-10-23T20:22:42.034Z"
   },
   {
    "duration": 6,
    "start_time": "2023-10-23T20:22:51.364Z"
   },
   {
    "duration": 6,
    "start_time": "2023-10-23T20:23:01.826Z"
   },
   {
    "duration": 6,
    "start_time": "2023-10-23T20:23:03.538Z"
   },
   {
    "duration": 14,
    "start_time": "2023-10-23T20:23:17.586Z"
   },
   {
    "duration": 1112,
    "start_time": "2023-10-23T20:23:22.367Z"
   },
   {
    "duration": 881,
    "start_time": "2023-10-23T20:23:23.482Z"
   },
   {
    "duration": 16,
    "start_time": "2023-10-23T20:23:24.367Z"
   },
   {
    "duration": 11,
    "start_time": "2023-10-23T20:23:24.385Z"
   },
   {
    "duration": 15,
    "start_time": "2023-10-23T20:23:24.397Z"
   },
   {
    "duration": 47,
    "start_time": "2023-10-23T20:23:24.414Z"
   },
   {
    "duration": 19,
    "start_time": "2023-10-23T20:23:24.463Z"
   },
   {
    "duration": 18,
    "start_time": "2023-10-23T20:23:24.483Z"
   },
   {
    "duration": 10,
    "start_time": "2023-10-23T20:23:24.503Z"
   },
   {
    "duration": 30,
    "start_time": "2023-10-23T20:23:24.514Z"
   },
   {
    "duration": 5,
    "start_time": "2023-10-23T20:23:24.546Z"
   },
   {
    "duration": 4,
    "start_time": "2023-10-23T20:23:24.552Z"
   },
   {
    "duration": 22,
    "start_time": "2023-10-23T20:23:24.557Z"
   },
   {
    "duration": 6,
    "start_time": "2023-10-23T20:23:24.581Z"
   },
   {
    "duration": 5,
    "start_time": "2023-10-23T20:23:24.589Z"
   },
   {
    "duration": 11,
    "start_time": "2023-10-23T20:23:24.596Z"
   },
   {
    "duration": 38,
    "start_time": "2023-10-23T20:23:24.609Z"
   },
   {
    "duration": 8,
    "start_time": "2023-10-23T20:23:24.648Z"
   },
   {
    "duration": 1147,
    "start_time": "2023-10-23T20:23:57.458Z"
   },
   {
    "duration": 868,
    "start_time": "2023-10-23T20:23:58.607Z"
   },
   {
    "duration": 19,
    "start_time": "2023-10-23T20:23:59.477Z"
   },
   {
    "duration": 14,
    "start_time": "2023-10-23T20:23:59.499Z"
   },
   {
    "duration": 39,
    "start_time": "2023-10-23T20:23:59.515Z"
   },
   {
    "duration": 30,
    "start_time": "2023-10-23T20:23:59.556Z"
   },
   {
    "duration": 23,
    "start_time": "2023-10-23T20:23:59.587Z"
   },
   {
    "duration": 49,
    "start_time": "2023-10-23T20:23:59.612Z"
   },
   {
    "duration": 12,
    "start_time": "2023-10-23T20:23:59.663Z"
   },
   {
    "duration": 26,
    "start_time": "2023-10-23T20:23:59.677Z"
   },
   {
    "duration": 8,
    "start_time": "2023-10-23T20:23:59.704Z"
   },
   {
    "duration": 15,
    "start_time": "2023-10-23T20:23:59.713Z"
   },
   {
    "duration": 27,
    "start_time": "2023-10-23T20:23:59.729Z"
   },
   {
    "duration": 8,
    "start_time": "2023-10-23T20:23:59.758Z"
   },
   {
    "duration": 7,
    "start_time": "2023-10-23T20:23:59.767Z"
   },
   {
    "duration": 13,
    "start_time": "2023-10-23T20:27:13.087Z"
   },
   {
    "duration": 8,
    "start_time": "2023-10-23T20:27:35.982Z"
   },
   {
    "duration": 6,
    "start_time": "2023-10-23T20:39:08.787Z"
   },
   {
    "duration": 11,
    "start_time": "2023-10-23T20:39:12.976Z"
   },
   {
    "duration": 522,
    "start_time": "2023-10-23T20:58:51.906Z"
   },
   {
    "duration": 7,
    "start_time": "2023-10-23T20:58:57.162Z"
   },
   {
    "duration": 71,
    "start_time": "2023-10-23T21:00:22.499Z"
   },
   {
    "duration": 421,
    "start_time": "2023-10-23T21:01:48.694Z"
   },
   {
    "duration": 129,
    "start_time": "2023-10-23T21:02:10.276Z"
   },
   {
    "duration": 148,
    "start_time": "2023-10-23T21:02:28.489Z"
   },
   {
    "duration": 230,
    "start_time": "2023-10-23T21:02:33.597Z"
   },
   {
    "duration": 144,
    "start_time": "2023-10-23T21:03:14.269Z"
   },
   {
    "duration": 161,
    "start_time": "2023-10-23T21:03:50.229Z"
   },
   {
    "duration": 148,
    "start_time": "2023-10-23T21:04:01.670Z"
   },
   {
    "duration": 153,
    "start_time": "2023-10-23T21:04:19.335Z"
   },
   {
    "duration": 156,
    "start_time": "2023-10-23T21:04:35.327Z"
   },
   {
    "duration": 165,
    "start_time": "2023-10-23T21:04:38.430Z"
   },
   {
    "duration": 165,
    "start_time": "2023-10-23T21:05:12.086Z"
   },
   {
    "duration": 155,
    "start_time": "2023-10-23T21:05:13.535Z"
   },
   {
    "duration": 456,
    "start_time": "2023-10-23T21:44:41.985Z"
   },
   {
    "duration": 593,
    "start_time": "2023-10-23T21:44:53.334Z"
   },
   {
    "duration": 128,
    "start_time": "2023-10-23T21:45:03.999Z"
   },
   {
    "duration": 116,
    "start_time": "2023-10-23T21:45:14.535Z"
   },
   {
    "duration": 705,
    "start_time": "2023-10-23T21:45:39.520Z"
   },
   {
    "duration": 631,
    "start_time": "2023-10-23T21:45:50.399Z"
   },
   {
    "duration": 126,
    "start_time": "2023-10-23T21:46:26.640Z"
   },
   {
    "duration": 489,
    "start_time": "2023-10-23T21:46:34.169Z"
   },
   {
    "duration": 12,
    "start_time": "2023-10-23T21:46:39.887Z"
   },
   {
    "duration": 551,
    "start_time": "2023-10-23T21:47:38.169Z"
   },
   {
    "duration": 676,
    "start_time": "2023-10-23T21:47:43.193Z"
   },
   {
    "duration": 4023,
    "start_time": "2023-10-23T21:47:51.816Z"
   },
   {
    "duration": 141,
    "start_time": "2023-10-23T21:48:03.145Z"
   },
   {
    "duration": 117,
    "start_time": "2023-10-23T21:48:11.833Z"
   },
   {
    "duration": 12,
    "start_time": "2023-10-23T21:48:28.842Z"
   },
   {
    "duration": 12,
    "start_time": "2023-10-23T21:49:01.947Z"
   },
   {
    "duration": 1456,
    "start_time": "2023-10-23T21:49:05.945Z"
   },
   {
    "duration": 1178,
    "start_time": "2023-10-23T21:49:22.466Z"
   },
   {
    "duration": 1245,
    "start_time": "2023-10-23T21:49:31.203Z"
   },
   {
    "duration": 1489,
    "start_time": "2023-10-23T21:50:17.250Z"
   },
   {
    "duration": 1618,
    "start_time": "2023-10-24T10:34:39.824Z"
   },
   {
    "duration": 2290,
    "start_time": "2023-10-24T10:34:41.445Z"
   },
   {
    "duration": 30,
    "start_time": "2023-10-24T10:34:43.737Z"
   },
   {
    "duration": 13,
    "start_time": "2023-10-24T10:34:43.770Z"
   },
   {
    "duration": 26,
    "start_time": "2023-10-24T10:34:43.785Z"
   },
   {
    "duration": 30,
    "start_time": "2023-10-24T10:34:43.823Z"
   },
   {
    "duration": 32,
    "start_time": "2023-10-24T10:34:43.855Z"
   },
   {
    "duration": 52,
    "start_time": "2023-10-24T10:34:43.889Z"
   },
   {
    "duration": 10,
    "start_time": "2023-10-24T10:34:43.943Z"
   },
   {
    "duration": 5,
    "start_time": "2023-10-24T10:34:43.956Z"
   },
   {
    "duration": 12,
    "start_time": "2023-10-24T10:34:43.963Z"
   },
   {
    "duration": 12,
    "start_time": "2023-10-24T10:34:43.977Z"
   },
   {
    "duration": 43,
    "start_time": "2023-10-24T10:34:43.990Z"
   },
   {
    "duration": 8,
    "start_time": "2023-10-24T10:34:44.035Z"
   },
   {
    "duration": 7,
    "start_time": "2023-10-24T10:34:44.045Z"
   },
   {
    "duration": 12,
    "start_time": "2023-10-24T10:34:44.054Z"
   },
   {
    "duration": 12,
    "start_time": "2023-10-24T10:34:44.068Z"
   },
   {
    "duration": 6,
    "start_time": "2023-10-24T10:34:44.081Z"
   },
   {
    "duration": 197,
    "start_time": "2023-10-24T10:34:44.088Z"
   },
   {
    "duration": 175,
    "start_time": "2023-10-24T10:34:44.287Z"
   },
   {
    "duration": 225,
    "start_time": "2023-10-24T10:34:44.464Z"
   },
   {
    "duration": 1317,
    "start_time": "2023-10-24T10:34:44.690Z"
   },
   {
    "duration": 509,
    "start_time": "2023-10-24T12:30:46.446Z"
   },
   {
    "duration": 577,
    "start_time": "2023-10-24T12:30:54.109Z"
   },
   {
    "duration": 489,
    "start_time": "2023-10-24T12:31:50.209Z"
   },
   {
    "duration": 476,
    "start_time": "2023-10-24T12:34:30.340Z"
   },
   {
    "duration": 486,
    "start_time": "2023-10-24T12:34:49.715Z"
   },
   {
    "duration": 471,
    "start_time": "2023-10-24T12:35:23.420Z"
   },
   {
    "duration": 569,
    "start_time": "2023-10-24T12:35:52.805Z"
   },
   {
    "duration": 916,
    "start_time": "2023-10-24T12:36:13.244Z"
   },
   {
    "duration": 841,
    "start_time": "2023-10-24T12:36:32.941Z"
   },
   {
    "duration": 13,
    "start_time": "2023-10-24T12:38:07.149Z"
   },
   {
    "duration": 16,
    "start_time": "2023-10-24T12:38:37.846Z"
   },
   {
    "duration": 1574,
    "start_time": "2023-10-24T12:38:45.417Z"
   },
   {
    "duration": 885,
    "start_time": "2023-10-24T12:38:46.993Z"
   },
   {
    "duration": 19,
    "start_time": "2023-10-24T12:38:47.880Z"
   },
   {
    "duration": 28,
    "start_time": "2023-10-24T12:38:47.902Z"
   },
   {
    "duration": 29,
    "start_time": "2023-10-24T12:38:47.932Z"
   },
   {
    "duration": 50,
    "start_time": "2023-10-24T12:38:47.963Z"
   },
   {
    "duration": 43,
    "start_time": "2023-10-24T12:38:48.014Z"
   },
   {
    "duration": 41,
    "start_time": "2023-10-24T12:38:48.059Z"
   },
   {
    "duration": 34,
    "start_time": "2023-10-24T12:38:48.101Z"
   },
   {
    "duration": 44,
    "start_time": "2023-10-24T12:38:48.138Z"
   },
   {
    "duration": 26,
    "start_time": "2023-10-24T12:38:48.184Z"
   },
   {
    "duration": 37,
    "start_time": "2023-10-24T12:38:48.211Z"
   },
   {
    "duration": 61,
    "start_time": "2023-10-24T12:38:48.249Z"
   },
   {
    "duration": 7,
    "start_time": "2023-10-24T12:38:48.312Z"
   },
   {
    "duration": 14,
    "start_time": "2023-10-24T12:38:48.321Z"
   },
   {
    "duration": 10,
    "start_time": "2023-10-24T12:38:48.338Z"
   },
   {
    "duration": 14,
    "start_time": "2023-10-24T12:38:48.349Z"
   },
   {
    "duration": 8,
    "start_time": "2023-10-24T12:38:48.364Z"
   },
   {
    "duration": 22,
    "start_time": "2023-10-24T12:38:48.373Z"
   },
   {
    "duration": 6,
    "start_time": "2023-10-24T12:38:48.423Z"
   },
   {
    "duration": 180,
    "start_time": "2023-10-24T12:38:48.431Z"
   },
   {
    "duration": 152,
    "start_time": "2023-10-24T12:38:48.613Z"
   },
   {
    "duration": 169,
    "start_time": "2023-10-24T12:38:48.767Z"
   },
   {
    "duration": 1373,
    "start_time": "2023-10-24T12:38:48.938Z"
   },
   {
    "duration": 515,
    "start_time": "2023-10-24T12:38:50.313Z"
   },
   {
    "duration": 514,
    "start_time": "2023-10-24T12:38:50.830Z"
   },
   {
    "duration": 958,
    "start_time": "2023-10-24T12:38:51.346Z"
   },
   {
    "duration": 36,
    "start_time": "2023-10-24T12:41:57.296Z"
   },
   {
    "duration": 1656,
    "start_time": "2023-10-24T12:42:19.217Z"
   },
   {
    "duration": 62,
    "start_time": "2023-10-24T12:42:28.042Z"
   },
   {
    "duration": 56,
    "start_time": "2023-10-24T12:43:00.574Z"
   },
   {
    "duration": 501,
    "start_time": "2023-10-24T12:43:04.506Z"
   },
   {
    "duration": 28,
    "start_time": "2023-10-24T12:43:12.938Z"
   },
   {
    "duration": 498,
    "start_time": "2023-10-24T12:43:14.729Z"
   },
   {
    "duration": 940,
    "start_time": "2023-10-24T12:43:48.863Z"
   },
   {
    "duration": 829,
    "start_time": "2023-10-24T12:44:00.209Z"
   },
   {
    "duration": 9,
    "start_time": "2023-10-24T12:46:48.901Z"
   },
   {
    "duration": 17,
    "start_time": "2023-10-24T12:46:57.566Z"
   },
   {
    "duration": 5,
    "start_time": "2023-10-24T12:48:31.239Z"
   },
   {
    "duration": 17,
    "start_time": "2023-10-24T12:49:17.535Z"
   },
   {
    "duration": 35,
    "start_time": "2023-10-24T12:49:26.766Z"
   },
   {
    "duration": 26,
    "start_time": "2023-10-24T12:49:37.767Z"
   },
   {
    "duration": 36,
    "start_time": "2023-10-24T12:50:05.048Z"
   },
   {
    "duration": 39,
    "start_time": "2023-10-24T12:50:12.760Z"
   },
   {
    "duration": 53,
    "start_time": "2023-10-24T12:50:16.879Z"
   },
   {
    "duration": 47,
    "start_time": "2023-10-24T12:50:17.720Z"
   },
   {
    "duration": 1572,
    "start_time": "2023-10-24T12:50:38.834Z"
   },
   {
    "duration": 925,
    "start_time": "2023-10-24T12:50:40.409Z"
   },
   {
    "duration": 20,
    "start_time": "2023-10-24T12:50:41.335Z"
   },
   {
    "duration": 14,
    "start_time": "2023-10-24T12:50:41.358Z"
   },
   {
    "duration": 81,
    "start_time": "2023-10-24T12:50:41.374Z"
   },
   {
    "duration": 145,
    "start_time": "2023-10-24T12:50:41.457Z"
   },
   {
    "duration": 257,
    "start_time": "2023-10-24T12:50:41.604Z"
   },
   {
    "duration": 325,
    "start_time": "2023-10-24T12:50:41.863Z"
   },
   {
    "duration": 227,
    "start_time": "2023-10-24T12:50:42.190Z"
   },
   {
    "duration": 171,
    "start_time": "2023-10-24T12:50:42.420Z"
   },
   {
    "duration": 85,
    "start_time": "2023-10-24T12:50:42.593Z"
   },
   {
    "duration": 25,
    "start_time": "2023-10-24T12:50:42.680Z"
   },
   {
    "duration": 57,
    "start_time": "2023-10-24T12:50:42.707Z"
   },
   {
    "duration": 48,
    "start_time": "2023-10-24T12:50:42.766Z"
   },
   {
    "duration": 35,
    "start_time": "2023-10-24T12:50:42.815Z"
   },
   {
    "duration": 62,
    "start_time": "2023-10-24T12:50:42.852Z"
   },
   {
    "duration": 31,
    "start_time": "2023-10-24T12:50:42.916Z"
   },
   {
    "duration": 32,
    "start_time": "2023-10-24T12:50:42.949Z"
   },
   {
    "duration": 18,
    "start_time": "2023-10-24T12:50:42.983Z"
   },
   {
    "duration": 21,
    "start_time": "2023-10-24T12:50:43.004Z"
   },
   {
    "duration": 202,
    "start_time": "2023-10-24T12:50:43.027Z"
   },
   {
    "duration": 180,
    "start_time": "2023-10-24T12:50:43.233Z"
   },
   {
    "duration": 160,
    "start_time": "2023-10-24T12:50:43.415Z"
   },
   {
    "duration": 1473,
    "start_time": "2023-10-24T12:50:43.577Z"
   },
   {
    "duration": 582,
    "start_time": "2023-10-24T12:50:45.053Z"
   },
   {
    "duration": 581,
    "start_time": "2023-10-24T12:50:45.638Z"
   },
   {
    "duration": 923,
    "start_time": "2023-10-24T12:50:46.224Z"
   },
   {
    "duration": 43,
    "start_time": "2023-10-24T12:50:47.150Z"
   },
   {
    "duration": 556,
    "start_time": "2023-10-24T12:50:47.195Z"
   },
   {
    "duration": 823,
    "start_time": "2023-10-24T12:50:47.753Z"
   },
   {
    "duration": 5,
    "start_time": "2023-10-24T12:50:48.578Z"
   },
   {
    "duration": 126,
    "start_time": "2023-10-24T12:50:48.585Z"
   },
   {
    "duration": 16,
    "start_time": "2023-10-24T12:51:49.416Z"
   },
   {
    "duration": 17,
    "start_time": "2023-10-24T12:51:56.593Z"
   },
   {
    "duration": 4,
    "start_time": "2023-10-24T13:30:36.810Z"
   },
   {
    "duration": 4,
    "start_time": "2023-10-24T13:43:03.202Z"
   },
   {
    "duration": 6,
    "start_time": "2023-10-24T13:43:07.498Z"
   },
   {
    "duration": 7,
    "start_time": "2023-10-24T13:43:55.971Z"
   },
   {
    "duration": 47,
    "start_time": "2023-10-24T13:44:00.835Z"
   },
   {
    "duration": 10,
    "start_time": "2023-10-24T13:44:09.307Z"
   },
   {
    "duration": 38,
    "start_time": "2023-10-24T13:44:41.842Z"
   },
   {
    "duration": 34,
    "start_time": "2023-10-24T13:44:52.443Z"
   },
   {
    "duration": 56,
    "start_time": "2023-10-24T13:45:07.635Z"
   },
   {
    "duration": 7,
    "start_time": "2023-10-24T13:45:27.363Z"
   },
   {
    "duration": 10,
    "start_time": "2023-10-24T13:45:30.339Z"
   },
   {
    "duration": 7,
    "start_time": "2023-10-24T13:45:40.699Z"
   },
   {
    "duration": 5,
    "start_time": "2023-10-24T13:47:44.637Z"
   },
   {
    "duration": 10,
    "start_time": "2023-10-24T13:47:47.973Z"
   },
   {
    "duration": 9,
    "start_time": "2023-10-24T13:47:53.485Z"
   },
   {
    "duration": 43,
    "start_time": "2023-10-24T13:47:56.653Z"
   },
   {
    "duration": 6,
    "start_time": "2023-10-24T13:48:01.090Z"
   },
   {
    "duration": 6,
    "start_time": "2023-10-24T13:48:02.237Z"
   },
   {
    "duration": 6,
    "start_time": "2023-10-24T13:54:18.228Z"
   },
   {
    "duration": 110,
    "start_time": "2023-10-24T15:19:55.174Z"
   },
   {
    "duration": 34,
    "start_time": "2023-10-24T15:20:02.533Z"
   },
   {
    "duration": 30,
    "start_time": "2023-10-24T15:20:15.149Z"
   },
   {
    "duration": 10,
    "start_time": "2023-10-24T15:20:43.413Z"
   },
   {
    "duration": 5,
    "start_time": "2023-10-24T15:21:02.774Z"
   },
   {
    "duration": 5,
    "start_time": "2023-10-24T15:21:04.214Z"
   },
   {
    "duration": 40,
    "start_time": "2023-10-24T15:21:09.350Z"
   },
   {
    "duration": 32,
    "start_time": "2023-10-24T15:21:18.215Z"
   },
   {
    "duration": 29,
    "start_time": "2023-10-24T15:25:20.585Z"
   },
   {
    "duration": 46,
    "start_time": "2023-10-24T15:28:53.291Z"
   },
   {
    "duration": 5,
    "start_time": "2023-10-24T15:28:57.736Z"
   },
   {
    "duration": 26,
    "start_time": "2023-10-24T15:29:15.650Z"
   },
   {
    "duration": 39,
    "start_time": "2023-10-24T15:32:08.677Z"
   },
   {
    "duration": 18,
    "start_time": "2023-10-24T15:33:12.605Z"
   },
   {
    "duration": 11,
    "start_time": "2023-10-24T15:34:09.140Z"
   },
   {
    "duration": 10,
    "start_time": "2023-10-24T15:34:13.022Z"
   },
   {
    "duration": 5,
    "start_time": "2023-10-24T15:34:14.197Z"
   },
   {
    "duration": 7,
    "start_time": "2023-10-24T15:34:17.646Z"
   },
   {
    "duration": 10,
    "start_time": "2023-10-24T15:34:27.838Z"
   },
   {
    "duration": 27,
    "start_time": "2023-10-24T15:34:38.886Z"
   },
   {
    "duration": 77,
    "start_time": "2023-10-24T15:34:59.758Z"
   },
   {
    "duration": 41,
    "start_time": "2023-10-24T15:35:07.599Z"
   },
   {
    "duration": 41,
    "start_time": "2023-10-24T15:35:16.616Z"
   },
   {
    "duration": 6,
    "start_time": "2023-10-24T15:35:32.338Z"
   },
   {
    "duration": 1551,
    "start_time": "2023-10-24T15:36:10.801Z"
   },
   {
    "duration": 909,
    "start_time": "2023-10-24T15:36:12.354Z"
   },
   {
    "duration": 20,
    "start_time": "2023-10-24T15:36:13.266Z"
   },
   {
    "duration": 39,
    "start_time": "2023-10-24T15:36:13.288Z"
   },
   {
    "duration": 23,
    "start_time": "2023-10-24T15:36:13.334Z"
   },
   {
    "duration": 23,
    "start_time": "2023-10-24T15:36:13.359Z"
   },
   {
    "duration": 30,
    "start_time": "2023-10-24T15:36:13.384Z"
   },
   {
    "duration": 50,
    "start_time": "2023-10-24T15:36:13.416Z"
   },
   {
    "duration": 8,
    "start_time": "2023-10-24T15:36:13.467Z"
   },
   {
    "duration": 5,
    "start_time": "2023-10-24T15:36:13.478Z"
   },
   {
    "duration": 18,
    "start_time": "2023-10-24T15:36:13.485Z"
   },
   {
    "duration": 15,
    "start_time": "2023-10-24T15:36:13.504Z"
   },
   {
    "duration": 33,
    "start_time": "2023-10-24T15:36:13.520Z"
   },
   {
    "duration": 8,
    "start_time": "2023-10-24T15:36:13.554Z"
   },
   {
    "duration": 18,
    "start_time": "2023-10-24T15:36:13.564Z"
   },
   {
    "duration": 44,
    "start_time": "2023-10-24T15:36:13.583Z"
   },
   {
    "duration": 22,
    "start_time": "2023-10-24T15:36:13.629Z"
   },
   {
    "duration": 10,
    "start_time": "2023-10-24T15:36:13.653Z"
   },
   {
    "duration": 89,
    "start_time": "2023-10-24T15:36:13.665Z"
   },
   {
    "duration": 9,
    "start_time": "2023-10-24T15:36:13.756Z"
   },
   {
    "duration": 238,
    "start_time": "2023-10-24T15:36:13.767Z"
   },
   {
    "duration": 180,
    "start_time": "2023-10-24T15:36:14.007Z"
   },
   {
    "duration": 160,
    "start_time": "2023-10-24T15:36:14.189Z"
   },
   {
    "duration": 1472,
    "start_time": "2023-10-24T15:36:14.350Z"
   },
   {
    "duration": 565,
    "start_time": "2023-10-24T15:36:15.825Z"
   },
   {
    "duration": 557,
    "start_time": "2023-10-24T15:36:16.392Z"
   },
   {
    "duration": 851,
    "start_time": "2023-10-24T15:36:16.951Z"
   },
   {
    "duration": 48,
    "start_time": "2023-10-24T15:36:17.807Z"
   },
   {
    "duration": 511,
    "start_time": "2023-10-24T15:36:17.857Z"
   },
   {
    "duration": 821,
    "start_time": "2023-10-24T15:36:18.370Z"
   },
   {
    "duration": 4,
    "start_time": "2023-10-24T15:36:19.194Z"
   },
   {
    "duration": 62,
    "start_time": "2023-10-24T15:36:19.200Z"
   },
   {
    "duration": 19,
    "start_time": "2023-10-24T15:36:19.263Z"
   },
   {
    "duration": 36,
    "start_time": "2023-10-24T15:36:19.283Z"
   },
   {
    "duration": 35,
    "start_time": "2023-10-24T15:36:19.321Z"
   },
   {
    "duration": 29,
    "start_time": "2023-10-24T15:36:19.358Z"
   },
   {
    "duration": 45,
    "start_time": "2023-10-24T15:36:19.389Z"
   },
   {
    "duration": 5,
    "start_time": "2023-10-24T15:36:19.436Z"
   },
   {
    "duration": 1441,
    "start_time": "2023-10-24T15:39:07.070Z"
   },
   {
    "duration": 899,
    "start_time": "2023-10-24T15:39:08.513Z"
   },
   {
    "duration": 23,
    "start_time": "2023-10-24T15:39:09.414Z"
   },
   {
    "duration": 46,
    "start_time": "2023-10-24T15:39:09.442Z"
   },
   {
    "duration": 48,
    "start_time": "2023-10-24T15:39:09.489Z"
   },
   {
    "duration": 119,
    "start_time": "2023-10-24T15:39:09.539Z"
   },
   {
    "duration": 44,
    "start_time": "2023-10-24T15:39:09.660Z"
   },
   {
    "duration": 42,
    "start_time": "2023-10-24T15:39:09.706Z"
   },
   {
    "duration": 22,
    "start_time": "2023-10-24T15:39:09.750Z"
   },
   {
    "duration": 5,
    "start_time": "2023-10-24T15:39:09.776Z"
   },
   {
    "duration": 20,
    "start_time": "2023-10-24T15:39:09.783Z"
   },
   {
    "duration": 13,
    "start_time": "2023-10-24T15:39:09.806Z"
   },
   {
    "duration": 50,
    "start_time": "2023-10-24T15:39:09.821Z"
   },
   {
    "duration": 22,
    "start_time": "2023-10-24T15:39:09.873Z"
   },
   {
    "duration": 38,
    "start_time": "2023-10-24T15:39:09.897Z"
   },
   {
    "duration": 72,
    "start_time": "2023-10-24T15:39:09.937Z"
   },
   {
    "duration": 106,
    "start_time": "2023-10-24T15:39:10.011Z"
   },
   {
    "duration": 29,
    "start_time": "2023-10-24T15:39:10.118Z"
   },
   {
    "duration": 31,
    "start_time": "2023-10-24T15:39:10.148Z"
   },
   {
    "duration": 21,
    "start_time": "2023-10-24T15:39:10.180Z"
   },
   {
    "duration": 262,
    "start_time": "2023-10-24T15:39:10.203Z"
   },
   {
    "duration": 174,
    "start_time": "2023-10-24T15:39:10.467Z"
   },
   {
    "duration": 152,
    "start_time": "2023-10-24T15:39:10.643Z"
   },
   {
    "duration": 1441,
    "start_time": "2023-10-24T15:39:10.796Z"
   },
   {
    "duration": 498,
    "start_time": "2023-10-24T15:39:12.239Z"
   },
   {
    "duration": 494,
    "start_time": "2023-10-24T15:39:12.742Z"
   },
   {
    "duration": 858,
    "start_time": "2023-10-24T15:39:13.241Z"
   },
   {
    "duration": 47,
    "start_time": "2023-10-24T15:39:14.102Z"
   },
   {
    "duration": 10,
    "start_time": "2023-10-24T15:39:14.151Z"
   },
   {
    "duration": 614,
    "start_time": "2023-10-24T15:39:14.163Z"
   },
   {
    "duration": 818,
    "start_time": "2023-10-24T15:39:14.780Z"
   },
   {
    "duration": 4,
    "start_time": "2023-10-24T15:39:15.600Z"
   },
   {
    "duration": 55,
    "start_time": "2023-10-24T15:39:15.605Z"
   },
   {
    "duration": 37,
    "start_time": "2023-10-24T15:39:15.662Z"
   },
   {
    "duration": 7,
    "start_time": "2023-10-24T15:39:15.700Z"
   },
   {
    "duration": 58,
    "start_time": "2023-10-24T15:39:15.709Z"
   },
   {
    "duration": 32,
    "start_time": "2023-10-24T15:39:15.769Z"
   },
   {
    "duration": 55,
    "start_time": "2023-10-24T15:39:15.802Z"
   },
   {
    "duration": 23,
    "start_time": "2023-10-24T15:39:15.859Z"
   },
   {
    "duration": 10,
    "start_time": "2023-10-24T15:39:29.661Z"
   },
   {
    "duration": 9,
    "start_time": "2023-10-24T15:39:49.506Z"
   },
   {
    "duration": 10,
    "start_time": "2023-10-24T15:39:54.742Z"
   },
   {
    "duration": 1422,
    "start_time": "2023-10-24T15:40:16.979Z"
   },
   {
    "duration": 922,
    "start_time": "2023-10-24T15:40:18.403Z"
   },
   {
    "duration": 24,
    "start_time": "2023-10-24T15:40:19.332Z"
   },
   {
    "duration": 35,
    "start_time": "2023-10-24T15:40:19.358Z"
   },
   {
    "duration": 50,
    "start_time": "2023-10-24T15:40:19.396Z"
   },
   {
    "duration": 41,
    "start_time": "2023-10-24T15:40:19.448Z"
   },
   {
    "duration": 28,
    "start_time": "2023-10-24T15:40:19.491Z"
   },
   {
    "duration": 49,
    "start_time": "2023-10-24T15:40:19.524Z"
   },
   {
    "duration": 15,
    "start_time": "2023-10-24T15:40:19.575Z"
   },
   {
    "duration": 26,
    "start_time": "2023-10-24T15:40:19.594Z"
   },
   {
    "duration": 13,
    "start_time": "2023-10-24T15:40:19.622Z"
   },
   {
    "duration": 35,
    "start_time": "2023-10-24T15:40:19.636Z"
   },
   {
    "duration": 61,
    "start_time": "2023-10-24T15:40:19.673Z"
   },
   {
    "duration": 25,
    "start_time": "2023-10-24T15:40:19.736Z"
   },
   {
    "duration": 53,
    "start_time": "2023-10-24T15:40:19.763Z"
   },
   {
    "duration": 44,
    "start_time": "2023-10-24T15:40:19.818Z"
   },
   {
    "duration": 19,
    "start_time": "2023-10-24T15:40:19.864Z"
   },
   {
    "duration": 15,
    "start_time": "2023-10-24T15:40:19.885Z"
   },
   {
    "duration": 42,
    "start_time": "2023-10-24T15:40:19.902Z"
   },
   {
    "duration": 21,
    "start_time": "2023-10-24T15:40:19.946Z"
   },
   {
    "duration": 227,
    "start_time": "2023-10-24T15:40:19.969Z"
   },
   {
    "duration": 208,
    "start_time": "2023-10-24T15:40:20.198Z"
   },
   {
    "duration": 163,
    "start_time": "2023-10-24T15:40:20.408Z"
   },
   {
    "duration": 1490,
    "start_time": "2023-10-24T15:40:20.572Z"
   },
   {
    "duration": 511,
    "start_time": "2023-10-24T15:40:22.064Z"
   },
   {
    "duration": 565,
    "start_time": "2023-10-24T15:40:22.576Z"
   },
   {
    "duration": 846,
    "start_time": "2023-10-24T15:40:23.143Z"
   },
   {
    "duration": 52,
    "start_time": "2023-10-24T15:40:23.994Z"
   },
   {
    "duration": 509,
    "start_time": "2023-10-24T15:40:24.048Z"
   },
   {
    "duration": 773,
    "start_time": "2023-10-24T15:40:24.559Z"
   },
   {
    "duration": 8,
    "start_time": "2023-10-24T15:40:25.333Z"
   },
   {
    "duration": 68,
    "start_time": "2023-10-24T15:40:25.342Z"
   },
   {
    "duration": 26,
    "start_time": "2023-10-24T15:40:25.411Z"
   },
   {
    "duration": 6,
    "start_time": "2023-10-24T15:40:25.439Z"
   },
   {
    "duration": 23,
    "start_time": "2023-10-24T15:40:25.447Z"
   },
   {
    "duration": 32,
    "start_time": "2023-10-24T15:40:25.472Z"
   },
   {
    "duration": 57,
    "start_time": "2023-10-24T15:40:25.506Z"
   },
   {
    "duration": 5,
    "start_time": "2023-10-24T15:40:25.565Z"
   },
   {
    "duration": 1792,
    "start_time": "2023-10-24T15:40:37.948Z"
   },
   {
    "duration": 2250,
    "start_time": "2023-10-24T15:40:43.783Z"
   },
   {
    "duration": 8415,
    "start_time": "2023-10-24T15:44:36.530Z"
   },
   {
    "duration": 6390,
    "start_time": "2023-10-24T15:44:56.161Z"
   },
   {
    "duration": 130,
    "start_time": "2023-10-24T15:49:35.111Z"
   },
   {
    "duration": 60904,
    "start_time": "2023-10-24T15:50:36.537Z"
   },
   {
    "duration": 1624,
    "start_time": "2023-10-24T15:51:54.771Z"
   },
   {
    "duration": 1002,
    "start_time": "2023-10-24T15:51:56.397Z"
   },
   {
    "duration": 24,
    "start_time": "2023-10-24T15:51:57.401Z"
   },
   {
    "duration": 20,
    "start_time": "2023-10-24T15:51:57.433Z"
   },
   {
    "duration": 37,
    "start_time": "2023-10-24T15:51:57.455Z"
   },
   {
    "duration": 27,
    "start_time": "2023-10-24T15:51:57.494Z"
   },
   {
    "duration": 50,
    "start_time": "2023-10-24T15:51:57.531Z"
   },
   {
    "duration": 55,
    "start_time": "2023-10-24T15:51:57.583Z"
   },
   {
    "duration": 38,
    "start_time": "2023-10-24T15:51:57.639Z"
   },
   {
    "duration": 29,
    "start_time": "2023-10-24T15:51:57.681Z"
   },
   {
    "duration": 29,
    "start_time": "2023-10-24T15:51:57.712Z"
   },
   {
    "duration": 47,
    "start_time": "2023-10-24T15:51:57.743Z"
   },
   {
    "duration": 53,
    "start_time": "2023-10-24T15:51:57.792Z"
   },
   {
    "duration": 16,
    "start_time": "2023-10-24T15:51:57.847Z"
   },
   {
    "duration": 16,
    "start_time": "2023-10-24T15:51:57.865Z"
   },
   {
    "duration": 14,
    "start_time": "2023-10-24T15:51:57.883Z"
   },
   {
    "duration": 58,
    "start_time": "2023-10-24T15:51:57.898Z"
   },
   {
    "duration": 14,
    "start_time": "2023-10-24T15:51:57.958Z"
   },
   {
    "duration": 16,
    "start_time": "2023-10-24T15:51:57.973Z"
   },
   {
    "duration": 6,
    "start_time": "2023-10-24T15:51:57.991Z"
   },
   {
    "duration": 193,
    "start_time": "2023-10-24T15:51:57.999Z"
   },
   {
    "duration": 177,
    "start_time": "2023-10-24T15:51:58.194Z"
   },
   {
    "duration": 173,
    "start_time": "2023-10-24T15:51:58.373Z"
   },
   {
    "duration": 1555,
    "start_time": "2023-10-24T15:51:58.547Z"
   },
   {
    "duration": 536,
    "start_time": "2023-10-24T15:52:00.104Z"
   },
   {
    "duration": 538,
    "start_time": "2023-10-24T15:52:00.642Z"
   },
   {
    "duration": 968,
    "start_time": "2023-10-24T15:52:01.183Z"
   },
   {
    "duration": 44,
    "start_time": "2023-10-24T15:52:02.155Z"
   },
   {
    "duration": 566,
    "start_time": "2023-10-24T15:52:02.201Z"
   },
   {
    "duration": 872,
    "start_time": "2023-10-24T15:52:02.769Z"
   },
   {
    "duration": 5,
    "start_time": "2023-10-24T15:52:03.643Z"
   },
   {
    "duration": 67,
    "start_time": "2023-10-24T15:52:03.650Z"
   },
   {
    "duration": 70,
    "start_time": "2023-10-24T15:52:03.719Z"
   },
   {
    "duration": 17,
    "start_time": "2023-10-24T15:52:03.791Z"
   },
   {
    "duration": 81,
    "start_time": "2023-10-24T15:52:03.810Z"
   },
   {
    "duration": 50,
    "start_time": "2023-10-24T15:52:03.893Z"
   },
   {
    "duration": 4499,
    "start_time": "2023-10-24T15:52:03.945Z"
   },
   {
    "duration": 59406,
    "start_time": "2023-10-24T15:52:08.448Z"
   },
   {
    "duration": 59009,
    "start_time": "2023-10-24T15:53:56.739Z"
   },
   {
    "duration": 27095,
    "start_time": "2023-10-24T15:54:59.874Z"
   },
   {
    "duration": 27409,
    "start_time": "2023-10-24T15:56:34.218Z"
   },
   {
    "duration": 27026,
    "start_time": "2023-10-24T16:01:05.138Z"
   },
   {
    "duration": 4063,
    "start_time": "2023-10-24T16:01:32.167Z"
   },
   {
    "duration": 158,
    "start_time": "2023-10-24T16:03:05.984Z"
   },
   {
    "duration": 1527,
    "start_time": "2023-10-24T16:07:51.270Z"
   },
   {
    "duration": 970,
    "start_time": "2023-10-24T16:07:52.799Z"
   },
   {
    "duration": 20,
    "start_time": "2023-10-24T16:07:53.771Z"
   },
   {
    "duration": 35,
    "start_time": "2023-10-24T16:07:53.793Z"
   },
   {
    "duration": 19,
    "start_time": "2023-10-24T16:07:53.830Z"
   },
   {
    "duration": 24,
    "start_time": "2023-10-24T16:07:53.850Z"
   },
   {
    "duration": 22,
    "start_time": "2023-10-24T16:07:53.876Z"
   },
   {
    "duration": 48,
    "start_time": "2023-10-24T16:07:53.899Z"
   },
   {
    "duration": 8,
    "start_time": "2023-10-24T16:07:53.949Z"
   },
   {
    "duration": 5,
    "start_time": "2023-10-24T16:07:53.959Z"
   },
   {
    "duration": 11,
    "start_time": "2023-10-24T16:07:53.966Z"
   },
   {
    "duration": 6,
    "start_time": "2023-10-24T16:07:53.979Z"
   },
   {
    "duration": 47,
    "start_time": "2023-10-24T16:07:53.987Z"
   },
   {
    "duration": 9,
    "start_time": "2023-10-24T16:07:54.039Z"
   },
   {
    "duration": 8,
    "start_time": "2023-10-24T16:07:54.050Z"
   },
   {
    "duration": 10,
    "start_time": "2023-10-24T16:07:54.060Z"
   },
   {
    "duration": 14,
    "start_time": "2023-10-24T16:07:54.071Z"
   },
   {
    "duration": 8,
    "start_time": "2023-10-24T16:07:54.086Z"
   },
   {
    "duration": 19,
    "start_time": "2023-10-24T16:07:54.126Z"
   },
   {
    "duration": 6,
    "start_time": "2023-10-24T16:07:54.146Z"
   },
   {
    "duration": 189,
    "start_time": "2023-10-24T16:07:54.153Z"
   },
   {
    "duration": 165,
    "start_time": "2023-10-24T16:07:54.344Z"
   },
   {
    "duration": 161,
    "start_time": "2023-10-24T16:07:54.511Z"
   },
   {
    "duration": 1573,
    "start_time": "2023-10-24T16:07:54.674Z"
   },
   {
    "duration": 490,
    "start_time": "2023-10-24T16:07:56.249Z"
   },
   {
    "duration": 500,
    "start_time": "2023-10-24T16:07:56.741Z"
   },
   {
    "duration": 870,
    "start_time": "2023-10-24T16:07:57.243Z"
   },
   {
    "duration": 44,
    "start_time": "2023-10-24T16:07:58.116Z"
   },
   {
    "duration": 584,
    "start_time": "2023-10-24T16:07:58.162Z"
   },
   {
    "duration": 767,
    "start_time": "2023-10-24T16:07:58.748Z"
   },
   {
    "duration": 6,
    "start_time": "2023-10-24T16:07:59.517Z"
   },
   {
    "duration": 45,
    "start_time": "2023-10-24T16:07:59.527Z"
   },
   {
    "duration": 15,
    "start_time": "2023-10-24T16:07:59.574Z"
   },
   {
    "duration": 3,
    "start_time": "2023-10-24T16:07:59.591Z"
   },
   {
    "duration": 39,
    "start_time": "2023-10-24T16:07:59.596Z"
   },
   {
    "duration": 14,
    "start_time": "2023-10-24T16:07:59.637Z"
   },
   {
    "duration": 3998,
    "start_time": "2023-10-24T16:07:59.652Z"
   },
   {
    "duration": 26859,
    "start_time": "2023-10-24T16:08:03.727Z"
   },
   {
    "duration": 1549,
    "start_time": "2023-10-24T16:09:55.640Z"
   },
   {
    "duration": 945,
    "start_time": "2023-10-24T16:09:57.191Z"
   },
   {
    "duration": 21,
    "start_time": "2023-10-24T16:09:58.140Z"
   },
   {
    "duration": 124,
    "start_time": "2023-10-24T16:09:58.164Z"
   },
   {
    "duration": 68,
    "start_time": "2023-10-24T16:09:58.290Z"
   },
   {
    "duration": 94,
    "start_time": "2023-10-24T16:09:58.359Z"
   },
   {
    "duration": 72,
    "start_time": "2023-10-24T16:09:58.455Z"
   },
   {
    "duration": 81,
    "start_time": "2023-10-24T16:09:58.529Z"
   },
   {
    "duration": 117,
    "start_time": "2023-10-24T16:09:58.612Z"
   },
   {
    "duration": 11,
    "start_time": "2023-10-24T16:09:58.734Z"
   },
   {
    "duration": 9,
    "start_time": "2023-10-24T16:09:58.747Z"
   },
   {
    "duration": 33,
    "start_time": "2023-10-24T16:09:58.758Z"
   },
   {
    "duration": 42,
    "start_time": "2023-10-24T16:09:58.793Z"
   },
   {
    "duration": 7,
    "start_time": "2023-10-24T16:09:58.838Z"
   },
   {
    "duration": 24,
    "start_time": "2023-10-24T16:09:58.846Z"
   },
   {
    "duration": 30,
    "start_time": "2023-10-24T16:09:58.872Z"
   },
   {
    "duration": 13,
    "start_time": "2023-10-24T16:09:58.904Z"
   },
   {
    "duration": 41,
    "start_time": "2023-10-24T16:09:58.919Z"
   },
   {
    "duration": 20,
    "start_time": "2023-10-24T16:09:58.963Z"
   },
   {
    "duration": 127,
    "start_time": "2023-10-24T16:09:58.985Z"
   },
   {
    "duration": 184,
    "start_time": "2023-10-24T16:09:59.114Z"
   },
   {
    "duration": 170,
    "start_time": "2023-10-24T16:09:59.299Z"
   },
   {
    "duration": 152,
    "start_time": "2023-10-24T16:09:59.470Z"
   },
   {
    "duration": 1425,
    "start_time": "2023-10-24T16:09:59.624Z"
   },
   {
    "duration": 496,
    "start_time": "2023-10-24T16:10:01.051Z"
   },
   {
    "duration": 500,
    "start_time": "2023-10-24T16:10:01.549Z"
   },
   {
    "duration": 865,
    "start_time": "2023-10-24T16:10:02.051Z"
   },
   {
    "duration": 47,
    "start_time": "2023-10-24T16:10:02.925Z"
   },
   {
    "duration": 699,
    "start_time": "2023-10-24T16:10:02.974Z"
   },
   {
    "duration": 831,
    "start_time": "2023-10-24T16:10:03.675Z"
   },
   {
    "duration": 5,
    "start_time": "2023-10-24T16:10:04.508Z"
   },
   {
    "duration": 79,
    "start_time": "2023-10-24T16:10:04.523Z"
   },
   {
    "duration": 39,
    "start_time": "2023-10-24T16:10:04.603Z"
   },
   {
    "duration": 17,
    "start_time": "2023-10-24T16:10:04.644Z"
   },
   {
    "duration": 27,
    "start_time": "2023-10-24T16:10:04.663Z"
   },
   {
    "duration": 61,
    "start_time": "2023-10-24T16:10:04.692Z"
   },
   {
    "duration": 4992,
    "start_time": "2023-10-24T16:10:04.754Z"
   },
   {
    "duration": 27509,
    "start_time": "2023-10-24T16:10:09.828Z"
   },
   {
    "duration": 236512,
    "start_time": "2023-10-24T16:10:37.338Z"
   },
   {
    "duration": 7,
    "start_time": "2023-10-24T16:15:20.238Z"
   },
   {
    "duration": 3,
    "start_time": "2023-10-24T16:17:14.711Z"
   },
   {
    "duration": 11540,
    "start_time": "2023-10-24T16:20:02.008Z"
   },
   {
    "duration": 11708,
    "start_time": "2023-10-24T16:22:08.833Z"
   },
   {
    "duration": 4,
    "start_time": "2023-10-24T16:23:53.466Z"
   },
   {
    "duration": 9,
    "start_time": "2023-10-24T16:25:31.547Z"
   },
   {
    "duration": 3923,
    "start_time": "2023-10-24T17:56:33.851Z"
   },
   {
    "duration": 4777,
    "start_time": "2023-10-24T17:56:37.777Z"
   },
   {
    "duration": 50,
    "start_time": "2023-10-24T17:56:42.556Z"
   },
   {
    "duration": 23,
    "start_time": "2023-10-24T17:56:42.612Z"
   },
   {
    "duration": 27,
    "start_time": "2023-10-24T17:56:42.638Z"
   },
   {
    "duration": 48,
    "start_time": "2023-10-24T17:56:42.677Z"
   },
   {
    "duration": 23,
    "start_time": "2023-10-24T17:56:42.727Z"
   },
   {
    "duration": 52,
    "start_time": "2023-10-24T17:56:42.752Z"
   },
   {
    "duration": 11,
    "start_time": "2023-10-24T17:56:42.807Z"
   },
   {
    "duration": 29,
    "start_time": "2023-10-24T17:56:42.820Z"
   },
   {
    "duration": 26,
    "start_time": "2023-10-24T17:56:42.851Z"
   },
   {
    "duration": 65,
    "start_time": "2023-10-24T17:56:42.884Z"
   },
   {
    "duration": 53,
    "start_time": "2023-10-24T17:56:42.951Z"
   },
   {
    "duration": 13,
    "start_time": "2023-10-24T17:56:43.009Z"
   },
   {
    "duration": 17,
    "start_time": "2023-10-24T17:56:43.023Z"
   },
   {
    "duration": 11,
    "start_time": "2023-10-24T17:56:43.042Z"
   },
   {
    "duration": 54,
    "start_time": "2023-10-24T17:56:43.055Z"
   },
   {
    "duration": 12,
    "start_time": "2023-10-24T17:56:43.112Z"
   },
   {
    "duration": 50,
    "start_time": "2023-10-24T17:56:43.126Z"
   },
   {
    "duration": 7,
    "start_time": "2023-10-24T17:56:43.179Z"
   },
   {
    "duration": 262,
    "start_time": "2023-10-24T17:56:43.188Z"
   },
   {
    "duration": 247,
    "start_time": "2023-10-24T17:56:43.452Z"
   },
   {
    "duration": 209,
    "start_time": "2023-10-24T17:56:43.707Z"
   },
   {
    "duration": 1826,
    "start_time": "2023-10-24T17:56:43.918Z"
   },
   {
    "duration": 604,
    "start_time": "2023-10-24T17:56:45.746Z"
   },
   {
    "duration": 682,
    "start_time": "2023-10-24T17:56:46.356Z"
   },
   {
    "duration": 1147,
    "start_time": "2023-10-24T17:56:47.040Z"
   },
   {
    "duration": 51,
    "start_time": "2023-10-24T17:56:48.195Z"
   },
   {
    "duration": 719,
    "start_time": "2023-10-24T17:56:48.248Z"
   },
   {
    "duration": 1010,
    "start_time": "2023-10-24T17:56:48.969Z"
   },
   {
    "duration": 6,
    "start_time": "2023-10-24T17:56:49.981Z"
   },
   {
    "duration": 63,
    "start_time": "2023-10-24T17:56:49.989Z"
   },
   {
    "duration": 38,
    "start_time": "2023-10-24T17:56:50.054Z"
   },
   {
    "duration": 13,
    "start_time": "2023-10-24T17:56:50.100Z"
   },
   {
    "duration": 43,
    "start_time": "2023-10-24T17:56:50.116Z"
   },
   {
    "duration": 21,
    "start_time": "2023-10-24T17:56:50.161Z"
   },
   {
    "duration": 12386,
    "start_time": "2023-10-24T17:56:50.191Z"
   },
   {
    "duration": 34231,
    "start_time": "2023-10-24T17:57:02.580Z"
   },
   {
    "duration": 304820,
    "start_time": "2023-10-24T17:57:36.813Z"
   },
   {
    "duration": 5,
    "start_time": "2023-10-24T18:02:41.636Z"
   },
   {
    "duration": 15146,
    "start_time": "2023-10-24T18:02:41.661Z"
   },
   {
    "duration": 13,
    "start_time": "2023-10-24T18:02:56.809Z"
   },
   {
    "duration": 46,
    "start_time": "2023-10-25T21:15:21.361Z"
   },
   {
    "duration": 1516,
    "start_time": "2023-10-25T21:15:28.510Z"
   },
   {
    "duration": 2166,
    "start_time": "2023-10-25T21:15:30.027Z"
   },
   {
    "duration": 17,
    "start_time": "2023-10-25T21:15:32.194Z"
   },
   {
    "duration": 14,
    "start_time": "2023-10-25T21:15:32.212Z"
   },
   {
    "duration": 19,
    "start_time": "2023-10-25T21:15:32.227Z"
   },
   {
    "duration": 33,
    "start_time": "2023-10-25T21:15:32.249Z"
   },
   {
    "duration": 37,
    "start_time": "2023-10-25T21:15:32.283Z"
   },
   {
    "duration": 49,
    "start_time": "2023-10-25T21:15:32.321Z"
   },
   {
    "duration": 19,
    "start_time": "2023-10-25T21:15:32.371Z"
   },
   {
    "duration": 11,
    "start_time": "2023-10-25T21:15:32.392Z"
   },
   {
    "duration": 26,
    "start_time": "2023-10-25T21:15:32.404Z"
   },
   {
    "duration": 28,
    "start_time": "2023-10-25T21:15:32.431Z"
   },
   {
    "duration": 31,
    "start_time": "2023-10-25T21:15:32.461Z"
   },
   {
    "duration": 12,
    "start_time": "2023-10-25T21:15:32.494Z"
   },
   {
    "duration": 13,
    "start_time": "2023-10-25T21:15:32.508Z"
   },
   {
    "duration": 31,
    "start_time": "2023-10-25T21:15:32.522Z"
   },
   {
    "duration": 29,
    "start_time": "2023-10-25T21:15:32.554Z"
   },
   {
    "duration": 11,
    "start_time": "2023-10-25T21:15:32.585Z"
   },
   {
    "duration": 26,
    "start_time": "2023-10-25T21:15:32.597Z"
   },
   {
    "duration": 7,
    "start_time": "2023-10-25T21:15:32.624Z"
   },
   {
    "duration": 192,
    "start_time": "2023-10-25T21:15:32.632Z"
   },
   {
    "duration": 169,
    "start_time": "2023-10-25T21:15:32.826Z"
   },
   {
    "duration": 153,
    "start_time": "2023-10-25T21:15:32.996Z"
   },
   {
    "duration": 1317,
    "start_time": "2023-10-25T21:15:33.150Z"
   },
   {
    "duration": 418,
    "start_time": "2023-10-25T21:15:34.468Z"
   },
   {
    "duration": 433,
    "start_time": "2023-10-25T21:15:34.887Z"
   },
   {
    "duration": 775,
    "start_time": "2023-10-25T21:15:35.322Z"
   },
   {
    "duration": 30,
    "start_time": "2023-10-25T21:15:36.100Z"
   },
   {
    "duration": 483,
    "start_time": "2023-10-25T21:15:36.132Z"
   },
   {
    "duration": 679,
    "start_time": "2023-10-25T21:15:36.616Z"
   },
   {
    "duration": 4,
    "start_time": "2023-10-25T21:15:37.297Z"
   },
   {
    "duration": 22,
    "start_time": "2023-10-25T21:15:37.303Z"
   },
   {
    "duration": 18,
    "start_time": "2023-10-25T21:15:37.339Z"
   },
   {
    "duration": 4,
    "start_time": "2023-10-25T21:15:37.358Z"
   },
   {
    "duration": 15,
    "start_time": "2023-10-25T21:15:37.363Z"
   },
   {
    "duration": 5,
    "start_time": "2023-10-25T21:15:37.379Z"
   },
   {
    "duration": 4587,
    "start_time": "2023-10-25T21:15:37.385Z"
   },
   {
    "duration": 30972,
    "start_time": "2023-10-25T21:15:41.976Z"
   },
   {
    "duration": 265229,
    "start_time": "2023-10-25T21:16:12.949Z"
   },
   {
    "duration": 4,
    "start_time": "2023-10-25T21:20:38.179Z"
   },
   {
    "duration": 12771,
    "start_time": "2023-10-25T21:20:38.185Z"
   },
   {
    "duration": 9,
    "start_time": "2023-10-25T21:20:50.965Z"
   },
   {
    "duration": 110,
    "start_time": "2023-10-25T21:33:10.477Z"
   },
   {
    "duration": 5,
    "start_time": "2023-10-25T21:33:19.298Z"
   },
   {
    "duration": 10,
    "start_time": "2023-10-25T21:33:25.299Z"
   },
   {
    "duration": 5,
    "start_time": "2023-10-25T21:33:40.008Z"
   },
   {
    "duration": 88,
    "start_time": "2023-10-25T21:33:43.902Z"
   },
   {
    "duration": 5,
    "start_time": "2023-10-25T21:33:52.018Z"
   },
   {
    "duration": 5,
    "start_time": "2023-10-25T21:34:02.801Z"
   },
   {
    "duration": 5,
    "start_time": "2023-10-25T21:34:14.394Z"
   },
   {
    "duration": 146,
    "start_time": "2023-10-25T21:34:22.817Z"
   },
   {
    "duration": 5,
    "start_time": "2023-10-25T21:34:47.502Z"
   },
   {
    "duration": 138,
    "start_time": "2023-10-25T21:34:49.033Z"
   },
   {
    "duration": 138,
    "start_time": "2023-10-25T21:34:50.649Z"
   },
   {
    "duration": 157,
    "start_time": "2023-10-25T21:34:52.505Z"
   },
   {
    "duration": 344,
    "start_time": "2023-10-25T21:39:53.618Z"
   },
   {
    "duration": 71,
    "start_time": "2023-10-25T21:40:28.598Z"
   },
   {
    "duration": 119,
    "start_time": "2023-10-25T21:40:32.112Z"
   },
   {
    "duration": 304,
    "start_time": "2023-10-25T21:40:37.110Z"
   },
   {
    "duration": 604,
    "start_time": "2023-10-25T21:43:07.726Z"
   },
   {
    "duration": 1041,
    "start_time": "2023-10-25T21:43:23.454Z"
   },
   {
    "duration": 822,
    "start_time": "2023-10-25T21:43:45.100Z"
   },
   {
    "duration": 835,
    "start_time": "2023-10-25T21:44:16.087Z"
   },
   {
    "duration": 888,
    "start_time": "2023-10-25T21:44:32.006Z"
   },
   {
    "duration": 928,
    "start_time": "2023-10-25T21:45:00.197Z"
   },
   {
    "duration": 98,
    "start_time": "2023-10-25T21:45:05.781Z"
   },
   {
    "duration": 804,
    "start_time": "2023-10-25T21:45:08.607Z"
   },
   {
    "duration": 1237,
    "start_time": "2023-10-25T21:45:23.686Z"
   },
   {
    "duration": 1371,
    "start_time": "2023-10-25T21:45:35.456Z"
   },
   {
    "duration": 862,
    "start_time": "2023-10-25T21:45:47.753Z"
   },
   {
    "duration": 1097,
    "start_time": "2023-10-25T21:45:52.805Z"
   },
   {
    "duration": 73,
    "start_time": "2023-10-25T21:46:27.978Z"
   },
   {
    "duration": 26,
    "start_time": "2023-10-25T21:47:27.838Z"
   },
   {
    "duration": 4,
    "start_time": "2023-10-25T21:50:25.318Z"
   },
   {
    "duration": 5,
    "start_time": "2023-10-25T21:50:39.031Z"
   },
   {
    "duration": 7,
    "start_time": "2023-10-25T21:51:37.656Z"
   },
   {
    "duration": 8,
    "start_time": "2023-10-25T21:51:44.223Z"
   },
   {
    "duration": 29,
    "start_time": "2023-10-25T22:00:25.395Z"
   },
   {
    "duration": 15,
    "start_time": "2023-10-25T22:00:56.570Z"
   },
   {
    "duration": 36,
    "start_time": "2023-10-25T22:01:00.026Z"
   },
   {
    "duration": 16,
    "start_time": "2023-10-25T22:01:37.484Z"
   },
   {
    "duration": 1414,
    "start_time": "2023-10-25T22:02:02.425Z"
   },
   {
    "duration": 681,
    "start_time": "2023-10-25T22:02:03.841Z"
   },
   {
    "duration": 24,
    "start_time": "2023-10-25T22:02:04.523Z"
   },
   {
    "duration": 12,
    "start_time": "2023-10-25T22:02:04.549Z"
   },
   {
    "duration": 16,
    "start_time": "2023-10-25T22:02:04.562Z"
   },
   {
    "duration": 23,
    "start_time": "2023-10-25T22:02:04.579Z"
   },
   {
    "duration": 45,
    "start_time": "2023-10-25T22:02:04.603Z"
   },
   {
    "duration": 16,
    "start_time": "2023-10-25T22:02:04.649Z"
   },
   {
    "duration": 6,
    "start_time": "2023-10-25T22:02:04.666Z"
   },
   {
    "duration": 14,
    "start_time": "2023-10-25T22:02:04.674Z"
   },
   {
    "duration": 6,
    "start_time": "2023-10-25T22:02:04.689Z"
   },
   {
    "duration": 10,
    "start_time": "2023-10-25T22:02:04.696Z"
   },
   {
    "duration": 33,
    "start_time": "2023-10-25T22:02:04.707Z"
   },
   {
    "duration": 10,
    "start_time": "2023-10-25T22:02:04.741Z"
   },
   {
    "duration": 5,
    "start_time": "2023-10-25T22:02:04.752Z"
   },
   {
    "duration": 10,
    "start_time": "2023-10-25T22:02:04.759Z"
   },
   {
    "duration": 12,
    "start_time": "2023-10-25T22:02:04.770Z"
   },
   {
    "duration": 21,
    "start_time": "2023-10-25T22:02:04.784Z"
   },
   {
    "duration": 12,
    "start_time": "2023-10-25T22:02:04.806Z"
   },
   {
    "duration": 24,
    "start_time": "2023-10-25T22:02:04.819Z"
   },
   {
    "duration": 166,
    "start_time": "2023-10-25T22:02:04.845Z"
   },
   {
    "duration": 792,
    "start_time": "2023-10-25T22:02:05.013Z"
   },
   {
    "duration": 197,
    "start_time": "2023-10-25T22:02:05.807Z"
   },
   {
    "duration": 1237,
    "start_time": "2023-10-25T22:02:06.005Z"
   },
   {
    "duration": 139,
    "start_time": "2023-10-25T22:02:07.243Z"
   },
   {
    "duration": 1094,
    "start_time": "2023-10-25T22:02:07.383Z"
   },
   {
    "duration": 27,
    "start_time": "2023-10-25T22:02:08.478Z"
   },
   {
    "duration": 1129,
    "start_time": "2023-10-25T22:02:08.508Z"
   },
   {
    "duration": 7,
    "start_time": "2023-10-25T22:02:09.639Z"
   },
   {
    "duration": 8,
    "start_time": "2023-10-25T22:02:09.647Z"
   },
   {
    "duration": 414,
    "start_time": "2023-10-25T22:02:09.656Z"
   },
   {
    "duration": 522,
    "start_time": "2023-10-25T22:02:10.072Z"
   },
   {
    "duration": 661,
    "start_time": "2023-10-25T22:02:10.596Z"
   },
   {
    "duration": 25,
    "start_time": "2023-10-25T22:02:11.258Z"
   },
   {
    "duration": 436,
    "start_time": "2023-10-25T22:02:11.284Z"
   },
   {
    "duration": 807,
    "start_time": "2023-10-25T22:02:11.721Z"
   },
   {
    "duration": 9,
    "start_time": "2023-10-25T22:02:12.530Z"
   },
   {
    "duration": 29,
    "start_time": "2023-10-25T22:02:12.541Z"
   },
   {
    "duration": 14,
    "start_time": "2023-10-25T22:02:12.573Z"
   },
   {
    "duration": 4,
    "start_time": "2023-10-25T22:02:12.588Z"
   },
   {
    "duration": 11,
    "start_time": "2023-10-25T22:02:12.593Z"
   },
   {
    "duration": 5,
    "start_time": "2023-10-25T22:02:12.606Z"
   },
   {
    "duration": 49,
    "start_time": "2023-10-25T22:02:12.613Z"
   },
   {
    "duration": 3079,
    "start_time": "2023-10-25T22:02:12.663Z"
   },
   {
    "duration": 28624,
    "start_time": "2023-10-25T22:02:15.743Z"
   },
   {
    "duration": 249987,
    "start_time": "2023-10-25T22:02:44.368Z"
   },
   {
    "duration": 5,
    "start_time": "2023-10-25T22:06:54.357Z"
   },
   {
    "duration": 12145,
    "start_time": "2023-10-25T22:06:54.363Z"
   },
   {
    "duration": 7,
    "start_time": "2023-10-25T22:07:06.509Z"
   }
  ],
  "kernelspec": {
   "display_name": "Python 3 (ipykernel)",
   "language": "python",
   "name": "python3"
  },
  "language_info": {
   "codemirror_mode": {
    "name": "ipython",
    "version": 3
   },
   "file_extension": ".py",
   "mimetype": "text/x-python",
   "name": "python",
   "nbconvert_exporter": "python",
   "pygments_lexer": "ipython3",
   "version": "3.9.18"
  },
  "toc": {
   "base_numbering": 1,
   "nav_menu": {},
   "number_sections": true,
   "sideBar": true,
   "skip_h1_title": true,
   "title_cell": "Содержание",
   "title_sidebar": "Contents",
   "toc_cell": true,
   "toc_position": {},
   "toc_section_display": true,
   "toc_window_display": true
  }
 },
 "nbformat": 4,
 "nbformat_minor": 4
}
