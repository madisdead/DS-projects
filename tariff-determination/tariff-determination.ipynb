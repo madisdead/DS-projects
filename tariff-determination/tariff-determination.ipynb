{
 "cells": [
  {
   "cell_type": "markdown",
   "id": "bc73e85b",
   "metadata": {},
   "source": [
    "# Проект по статистическому анализу \n",
    "\n",
    "Вы аналитик популярного сервиса аренды самокатов GoFast. Вам передали данные о некоторых пользователях из нескольких городов, а также об их поездках. Проанализируйте данные и проверьте некоторые гипотезы, которые могут помочь бизнесу вырасти.\n",
    "\n",
    "Основная цель проекта:  \n",
    "Выяснить являются ли пользователи с платной подпиской более выгодные, с точки зрения выручки, для компании\n",
    "\n",
    "План работы.  \n",
    "1. Краткое ознакомление с данными\n",
    "2. Предобработка данных\n",
    "3. Исследовательский анализ данных\n",
    "4. Объединение данных\n",
    "5. Подсчёт выручки\n",
    "6. Проверка гипотез\n",
    "7. Распределения\n",
    "\n",
    "Описание данных.  \n",
    "1. Пользователи - users_go.csv\n",
    "    1. user_id\t- уникальный идентификатор пользователя\n",
    "    2. name -\tимя пользователя\n",
    "    3. age - возраст\n",
    "    4. city - город\n",
    "    5. subscription_type - тип подписки (free, ultra)\n",
    "2. Поездки — rides_go.csv\n",
    "    1. user_id - уникальный идентификатор пользователя\n",
    "    2. distance - расстояние, которое пользователь проехал в текущей сессии (в метрах)\n",
    "    3. duration - продолжительность сессии (в минутах) — время с того момента, как пользователь нажал кнопку «Начать поездку» до момента, как он нажал кнопку «Завершить поездку»\n",
    "    4. date - дата совершения поездки\n",
    "3. Подписки - subscriptions_go.csv\n",
    "    1. subscription_type - тип подписки\n",
    "    2. minute_price\t- стоимость одной минуты поездки по данной подписке\n",
    "    3. start_ride_price\t- стоимость начала поездки\n",
    "    4. subscription_fee - стоимость ежемесячного платежа"
   ]
  },
  {
   "cell_type": "code",
   "execution_count": 1,
   "id": "72576667",
   "metadata": {},
   "outputs": [],
   "source": [
    "from math import sqrt\n",
    "import pandas as pd\n",
    "import matplotlib.pyplot as plt\n",
    "import numpy as np\n",
    "from scipy import stats as st"
   ]
  },
  {
   "cell_type": "markdown",
   "id": "c42cbe00",
   "metadata": {},
   "source": [
    "#### Шаг 1. Загрузка данных"
   ]
  },
  {
   "cell_type": "code",
   "execution_count": 2,
   "id": "eff9f206",
   "metadata": {},
   "outputs": [],
   "source": [
    "pd.set_option('display.max_columns', None)\n",
    "users = pd.read_csv('/datasets/users_go.csv')\n",
    "rides = pd.read_csv('/datasets/rides_go.csv')\n",
    "subscriptions = pd.read_csv('/datasets/subscriptions_go.csv')"
   ]
  },
  {
   "cell_type": "code",
   "execution_count": 3,
   "id": "5119f38c",
   "metadata": {},
   "outputs": [
    {
     "data": {
      "text/html": [
       "<div>\n",
       "<style scoped>\n",
       "    .dataframe tbody tr th:only-of-type {\n",
       "        vertical-align: middle;\n",
       "    }\n",
       "\n",
       "    .dataframe tbody tr th {\n",
       "        vertical-align: top;\n",
       "    }\n",
       "\n",
       "    .dataframe thead th {\n",
       "        text-align: right;\n",
       "    }\n",
       "</style>\n",
       "<table border=\"1\" class=\"dataframe\">\n",
       "  <thead>\n",
       "    <tr style=\"text-align: right;\">\n",
       "      <th></th>\n",
       "      <th>user_id</th>\n",
       "      <th>name</th>\n",
       "      <th>age</th>\n",
       "      <th>city</th>\n",
       "      <th>subscription_type</th>\n",
       "    </tr>\n",
       "  </thead>\n",
       "  <tbody>\n",
       "    <tr>\n",
       "      <th>0</th>\n",
       "      <td>1</td>\n",
       "      <td>Кира</td>\n",
       "      <td>22</td>\n",
       "      <td>Тюмень</td>\n",
       "      <td>ultra</td>\n",
       "    </tr>\n",
       "    <tr>\n",
       "      <th>1</th>\n",
       "      <td>2</td>\n",
       "      <td>Станислав</td>\n",
       "      <td>31</td>\n",
       "      <td>Омск</td>\n",
       "      <td>ultra</td>\n",
       "    </tr>\n",
       "    <tr>\n",
       "      <th>2</th>\n",
       "      <td>3</td>\n",
       "      <td>Алексей</td>\n",
       "      <td>20</td>\n",
       "      <td>Москва</td>\n",
       "      <td>ultra</td>\n",
       "    </tr>\n",
       "    <tr>\n",
       "      <th>3</th>\n",
       "      <td>4</td>\n",
       "      <td>Константин</td>\n",
       "      <td>26</td>\n",
       "      <td>Ростов-на-Дону</td>\n",
       "      <td>ultra</td>\n",
       "    </tr>\n",
       "    <tr>\n",
       "      <th>4</th>\n",
       "      <td>5</td>\n",
       "      <td>Адель</td>\n",
       "      <td>28</td>\n",
       "      <td>Омск</td>\n",
       "      <td>ultra</td>\n",
       "    </tr>\n",
       "    <tr>\n",
       "      <th>5</th>\n",
       "      <td>6</td>\n",
       "      <td>Регина</td>\n",
       "      <td>25</td>\n",
       "      <td>Краснодар</td>\n",
       "      <td>ultra</td>\n",
       "    </tr>\n",
       "    <tr>\n",
       "      <th>6</th>\n",
       "      <td>7</td>\n",
       "      <td>Игорь</td>\n",
       "      <td>23</td>\n",
       "      <td>Омск</td>\n",
       "      <td>ultra</td>\n",
       "    </tr>\n",
       "    <tr>\n",
       "      <th>7</th>\n",
       "      <td>8</td>\n",
       "      <td>Юрий</td>\n",
       "      <td>23</td>\n",
       "      <td>Краснодар</td>\n",
       "      <td>ultra</td>\n",
       "    </tr>\n",
       "    <tr>\n",
       "      <th>8</th>\n",
       "      <td>9</td>\n",
       "      <td>Ян</td>\n",
       "      <td>21</td>\n",
       "      <td>Пятигорск</td>\n",
       "      <td>ultra</td>\n",
       "    </tr>\n",
       "    <tr>\n",
       "      <th>9</th>\n",
       "      <td>10</td>\n",
       "      <td>Валерий</td>\n",
       "      <td>18</td>\n",
       "      <td>Екатеринбург</td>\n",
       "      <td>ultra</td>\n",
       "    </tr>\n",
       "  </tbody>\n",
       "</table>\n",
       "</div>"
      ],
      "text/plain": [
       "   user_id        name  age            city subscription_type\n",
       "0        1        Кира   22          Тюмень             ultra\n",
       "1        2   Станислав   31            Омск             ultra\n",
       "2        3     Алексей   20          Москва             ultra\n",
       "3        4  Константин   26  Ростов-на-Дону             ultra\n",
       "4        5       Адель   28            Омск             ultra\n",
       "5        6      Регина   25       Краснодар             ultra\n",
       "6        7       Игорь   23            Омск             ultra\n",
       "7        8        Юрий   23       Краснодар             ultra\n",
       "8        9          Ян   21       Пятигорск             ultra\n",
       "9       10     Валерий   18    Екатеринбург             ultra"
      ]
     },
     "execution_count": 3,
     "metadata": {},
     "output_type": "execute_result"
    }
   ],
   "source": [
    "users.head(10)"
   ]
  },
  {
   "cell_type": "code",
   "execution_count": 4,
   "id": "a2354f49",
   "metadata": {},
   "outputs": [
    {
     "name": "stdout",
     "output_type": "stream",
     "text": [
      "<class 'pandas.core.frame.DataFrame'>\n",
      "RangeIndex: 1565 entries, 0 to 1564\n",
      "Data columns (total 5 columns):\n",
      " #   Column             Non-Null Count  Dtype \n",
      "---  ------             --------------  ----- \n",
      " 0   user_id            1565 non-null   int64 \n",
      " 1   name               1565 non-null   object\n",
      " 2   age                1565 non-null   int64 \n",
      " 3   city               1565 non-null   object\n",
      " 4   subscription_type  1565 non-null   object\n",
      "dtypes: int64(2), object(3)\n",
      "memory usage: 61.3+ KB\n"
     ]
    }
   ],
   "source": [
    "users.info()"
   ]
  },
  {
   "cell_type": "code",
   "execution_count": 5,
   "id": "c5f4ad48",
   "metadata": {},
   "outputs": [
    {
     "data": {
      "text/html": [
       "<div>\n",
       "<style scoped>\n",
       "    .dataframe tbody tr th:only-of-type {\n",
       "        vertical-align: middle;\n",
       "    }\n",
       "\n",
       "    .dataframe tbody tr th {\n",
       "        vertical-align: top;\n",
       "    }\n",
       "\n",
       "    .dataframe thead th {\n",
       "        text-align: right;\n",
       "    }\n",
       "</style>\n",
       "<table border=\"1\" class=\"dataframe\">\n",
       "  <thead>\n",
       "    <tr style=\"text-align: right;\">\n",
       "      <th></th>\n",
       "      <th>user_id</th>\n",
       "      <th>distance</th>\n",
       "      <th>duration</th>\n",
       "      <th>date</th>\n",
       "    </tr>\n",
       "  </thead>\n",
       "  <tbody>\n",
       "    <tr>\n",
       "      <th>0</th>\n",
       "      <td>1</td>\n",
       "      <td>4409.919140</td>\n",
       "      <td>25.599769</td>\n",
       "      <td>2021-01-01</td>\n",
       "    </tr>\n",
       "    <tr>\n",
       "      <th>1</th>\n",
       "      <td>1</td>\n",
       "      <td>2617.592153</td>\n",
       "      <td>15.816871</td>\n",
       "      <td>2021-01-18</td>\n",
       "    </tr>\n",
       "    <tr>\n",
       "      <th>2</th>\n",
       "      <td>1</td>\n",
       "      <td>754.159807</td>\n",
       "      <td>6.232113</td>\n",
       "      <td>2021-04-20</td>\n",
       "    </tr>\n",
       "    <tr>\n",
       "      <th>3</th>\n",
       "      <td>1</td>\n",
       "      <td>2694.783254</td>\n",
       "      <td>18.511000</td>\n",
       "      <td>2021-08-11</td>\n",
       "    </tr>\n",
       "    <tr>\n",
       "      <th>4</th>\n",
       "      <td>1</td>\n",
       "      <td>4028.687306</td>\n",
       "      <td>26.265803</td>\n",
       "      <td>2021-08-28</td>\n",
       "    </tr>\n",
       "    <tr>\n",
       "      <th>5</th>\n",
       "      <td>1</td>\n",
       "      <td>2770.890808</td>\n",
       "      <td>16.650138</td>\n",
       "      <td>2021-10-09</td>\n",
       "    </tr>\n",
       "    <tr>\n",
       "      <th>6</th>\n",
       "      <td>1</td>\n",
       "      <td>3039.020292</td>\n",
       "      <td>14.927879</td>\n",
       "      <td>2021-10-19</td>\n",
       "    </tr>\n",
       "    <tr>\n",
       "      <th>7</th>\n",
       "      <td>1</td>\n",
       "      <td>2842.118050</td>\n",
       "      <td>23.117468</td>\n",
       "      <td>2021-11-06</td>\n",
       "    </tr>\n",
       "    <tr>\n",
       "      <th>8</th>\n",
       "      <td>1</td>\n",
       "      <td>3412.690668</td>\n",
       "      <td>15.238072</td>\n",
       "      <td>2021-11-14</td>\n",
       "    </tr>\n",
       "    <tr>\n",
       "      <th>9</th>\n",
       "      <td>1</td>\n",
       "      <td>748.690645</td>\n",
       "      <td>15.041884</td>\n",
       "      <td>2021-11-22</td>\n",
       "    </tr>\n",
       "  </tbody>\n",
       "</table>\n",
       "</div>"
      ],
      "text/plain": [
       "   user_id     distance   duration        date\n",
       "0        1  4409.919140  25.599769  2021-01-01\n",
       "1        1  2617.592153  15.816871  2021-01-18\n",
       "2        1   754.159807   6.232113  2021-04-20\n",
       "3        1  2694.783254  18.511000  2021-08-11\n",
       "4        1  4028.687306  26.265803  2021-08-28\n",
       "5        1  2770.890808  16.650138  2021-10-09\n",
       "6        1  3039.020292  14.927879  2021-10-19\n",
       "7        1  2842.118050  23.117468  2021-11-06\n",
       "8        1  3412.690668  15.238072  2021-11-14\n",
       "9        1   748.690645  15.041884  2021-11-22"
      ]
     },
     "execution_count": 5,
     "metadata": {},
     "output_type": "execute_result"
    }
   ],
   "source": [
    "rides.head(10)"
   ]
  },
  {
   "cell_type": "code",
   "execution_count": 6,
   "id": "927fb77b",
   "metadata": {},
   "outputs": [
    {
     "name": "stdout",
     "output_type": "stream",
     "text": [
      "<class 'pandas.core.frame.DataFrame'>\n",
      "RangeIndex: 18068 entries, 0 to 18067\n",
      "Data columns (total 4 columns):\n",
      " #   Column    Non-Null Count  Dtype  \n",
      "---  ------    --------------  -----  \n",
      " 0   user_id   18068 non-null  int64  \n",
      " 1   distance  18068 non-null  float64\n",
      " 2   duration  18068 non-null  float64\n",
      " 3   date      18068 non-null  object \n",
      "dtypes: float64(2), int64(1), object(1)\n",
      "memory usage: 564.8+ KB\n"
     ]
    }
   ],
   "source": [
    "rides.info()"
   ]
  },
  {
   "cell_type": "code",
   "execution_count": 7,
   "id": "bda701c1",
   "metadata": {},
   "outputs": [
    {
     "data": {
      "text/html": [
       "<div>\n",
       "<style scoped>\n",
       "    .dataframe tbody tr th:only-of-type {\n",
       "        vertical-align: middle;\n",
       "    }\n",
       "\n",
       "    .dataframe tbody tr th {\n",
       "        vertical-align: top;\n",
       "    }\n",
       "\n",
       "    .dataframe thead th {\n",
       "        text-align: right;\n",
       "    }\n",
       "</style>\n",
       "<table border=\"1\" class=\"dataframe\">\n",
       "  <thead>\n",
       "    <tr style=\"text-align: right;\">\n",
       "      <th></th>\n",
       "      <th>subscription_type</th>\n",
       "      <th>minute_price</th>\n",
       "      <th>start_ride_price</th>\n",
       "      <th>subscription_fee</th>\n",
       "    </tr>\n",
       "  </thead>\n",
       "  <tbody>\n",
       "    <tr>\n",
       "      <th>0</th>\n",
       "      <td>free</td>\n",
       "      <td>8</td>\n",
       "      <td>50</td>\n",
       "      <td>0</td>\n",
       "    </tr>\n",
       "    <tr>\n",
       "      <th>1</th>\n",
       "      <td>ultra</td>\n",
       "      <td>6</td>\n",
       "      <td>0</td>\n",
       "      <td>199</td>\n",
       "    </tr>\n",
       "  </tbody>\n",
       "</table>\n",
       "</div>"
      ],
      "text/plain": [
       "  subscription_type  minute_price  start_ride_price  subscription_fee\n",
       "0              free             8                50                 0\n",
       "1             ultra             6                 0               199"
      ]
     },
     "execution_count": 7,
     "metadata": {},
     "output_type": "execute_result"
    }
   ],
   "source": [
    "subscriptions"
   ]
  },
  {
   "cell_type": "code",
   "execution_count": 8,
   "id": "745fb7f0",
   "metadata": {},
   "outputs": [
    {
     "name": "stdout",
     "output_type": "stream",
     "text": [
      "<class 'pandas.core.frame.DataFrame'>\n",
      "RangeIndex: 2 entries, 0 to 1\n",
      "Data columns (total 4 columns):\n",
      " #   Column             Non-Null Count  Dtype \n",
      "---  ------             --------------  ----- \n",
      " 0   subscription_type  2 non-null      object\n",
      " 1   minute_price       2 non-null      int64 \n",
      " 2   start_ride_price   2 non-null      int64 \n",
      " 3   subscription_fee   2 non-null      int64 \n",
      "dtypes: int64(3), object(1)\n",
      "memory usage: 192.0+ bytes\n"
     ]
    }
   ],
   "source": [
    "subscriptions.info()"
   ]
  },
  {
   "cell_type": "markdown",
   "id": "4ee0baae",
   "metadata": {},
   "source": [
    "Из предварительного просмотра на данные самое важное, что можем отметить - это неправильный тип данных у стобца date датафрейма rides. Исправим это в предообработке вместе с избавлением от дубликатов и заполнением пустых значений."
   ]
  },
  {
   "cell_type": "markdown",
   "id": "e95ebca7",
   "metadata": {},
   "source": [
    "#### Шаг 2. Предобработка данных"
   ]
  },
  {
   "cell_type": "code",
   "execution_count": 9,
   "id": "af6d202c",
   "metadata": {},
   "outputs": [
    {
     "data": {
      "text/plain": [
       "user_id              0\n",
       "name                 0\n",
       "age                  0\n",
       "city                 0\n",
       "subscription_type    0\n",
       "dtype: int64"
      ]
     },
     "execution_count": 9,
     "metadata": {},
     "output_type": "execute_result"
    }
   ],
   "source": [
    "users.isna().sum()"
   ]
  },
  {
   "cell_type": "code",
   "execution_count": 10,
   "id": "a880d61c",
   "metadata": {},
   "outputs": [
    {
     "data": {
      "text/plain": [
       "user_id     0\n",
       "distance    0\n",
       "duration    0\n",
       "date        0\n",
       "dtype: int64"
      ]
     },
     "execution_count": 10,
     "metadata": {},
     "output_type": "execute_result"
    }
   ],
   "source": [
    "rides.isna().sum()"
   ]
  },
  {
   "cell_type": "markdown",
   "id": "6a3d656d",
   "metadata": {},
   "source": [
    "Пропущенных значений нет. Замечательно."
   ]
  },
  {
   "cell_type": "code",
   "execution_count": 11,
   "id": "a0257d42",
   "metadata": {},
   "outputs": [
    {
     "data": {
      "text/plain": [
       "31"
      ]
     },
     "execution_count": 11,
     "metadata": {},
     "output_type": "execute_result"
    }
   ],
   "source": [
    "users.duplicated().sum()"
   ]
  },
  {
   "cell_type": "code",
   "execution_count": 12,
   "id": "5516d71f",
   "metadata": {},
   "outputs": [
    {
     "data": {
      "text/plain": [
       "0"
      ]
     },
     "execution_count": 12,
     "metadata": {},
     "output_type": "execute_result"
    }
   ],
   "source": [
    "users = users.drop_duplicates()\n",
    "users.duplicated().sum()"
   ]
  },
  {
   "cell_type": "code",
   "execution_count": 13,
   "id": "22c73f00",
   "metadata": {},
   "outputs": [
    {
     "data": {
      "text/plain": [
       "0"
      ]
     },
     "execution_count": 13,
     "metadata": {},
     "output_type": "execute_result"
    }
   ],
   "source": [
    "rides.duplicated().sum()"
   ]
  },
  {
   "cell_type": "markdown",
   "id": "c1c1dfd0",
   "metadata": {},
   "source": [
    "Дубликаты в датафрейме users убраны!"
   ]
  },
  {
   "cell_type": "code",
   "execution_count": 14,
   "id": "5edf1e1a",
   "metadata": {},
   "outputs": [
    {
     "name": "stdout",
     "output_type": "stream",
     "text": [
      "<class 'pandas.core.frame.DataFrame'>\n",
      "RangeIndex: 18068 entries, 0 to 18067\n",
      "Data columns (total 4 columns):\n",
      " #   Column    Non-Null Count  Dtype         \n",
      "---  ------    --------------  -----         \n",
      " 0   user_id   18068 non-null  int64         \n",
      " 1   distance  18068 non-null  float64       \n",
      " 2   duration  18068 non-null  float64       \n",
      " 3   date      18068 non-null  datetime64[ns]\n",
      "dtypes: datetime64[ns](1), float64(2), int64(1)\n",
      "memory usage: 564.8 KB\n"
     ]
    }
   ],
   "source": [
    "rides['date'] = pd.to_datetime(rides['date'], format='%Y-%m-%d')\n",
    "rides.info()"
   ]
  },
  {
   "cell_type": "code",
   "execution_count": 15,
   "id": "c35b128d",
   "metadata": {},
   "outputs": [
    {
     "name": "stdout",
     "output_type": "stream",
     "text": [
      "<class 'pandas.core.frame.DataFrame'>\n",
      "RangeIndex: 18068 entries, 0 to 18067\n",
      "Data columns (total 5 columns):\n",
      " #   Column    Non-Null Count  Dtype         \n",
      "---  ------    --------------  -----         \n",
      " 0   user_id   18068 non-null  int64         \n",
      " 1   distance  18068 non-null  float64       \n",
      " 2   duration  18068 non-null  float64       \n",
      " 3   date      18068 non-null  datetime64[ns]\n",
      " 4   month     18068 non-null  int64         \n",
      "dtypes: datetime64[ns](1), float64(2), int64(2)\n",
      "memory usage: 705.9 KB\n"
     ]
    }
   ],
   "source": [
    "rides['month'] = rides['date'].dt.month\n",
    "rides.info()"
   ]
  },
  {
   "cell_type": "markdown",
   "id": "07b035da",
   "metadata": {},
   "source": [
    "Предобработка завершена. Пропущенных значений не нашлось. Дубликаты обработаны. Дата приведена к правильному типу данных. Новый столбец с номером месяца поездки создан."
   ]
  },
  {
   "cell_type": "markdown",
   "id": "212593c7",
   "metadata": {},
   "source": [
    "#### Шаг 3. Исследовательский анализ данных"
   ]
  },
  {
   "cell_type": "code",
   "execution_count": 16,
   "id": "e3a4274c",
   "metadata": {},
   "outputs": [
    {
     "data": {
      "text/plain": [
       "count          1534\n",
       "unique            8\n",
       "top       Пятигорск\n",
       "freq            219\n",
       "Name: city, dtype: object"
      ]
     },
     "execution_count": 16,
     "metadata": {},
     "output_type": "execute_result"
    }
   ],
   "source": [
    "users['city'].describe()"
   ]
  },
  {
   "cell_type": "code",
   "execution_count": 17,
   "id": "1b8f93c7",
   "metadata": {},
   "outputs": [
    {
     "data": {
      "image/png": "[encoded data removed]",
      "text/plain": [
       "<Figure size 1080x504 with 1 Axes>"
      ]
     },
     "metadata": {
      "needs_background": "light"
     },
     "output_type": "display_data"
    }
   ],
   "source": [
    "users['city'].hist(bins=15, figsize=(15,7));\n",
    "plt.rcParams['font.size'] = '10'\n",
    "plt.title('Распределение по городам', fontsize=30);\n",
    "plt.xlabel('Города', fontsize=20);\n",
    "plt.ylabel('Кол-во пользователей', fontsize=20);"
   ]
  },
  {
   "cell_type": "markdown",
   "id": "fbf29921",
   "metadata": {},
   "source": [
    "Примерно равное распределение клиентов по городам. Как ни странно, меньше всего клиентов в Москве, больше всего в Пятигорске."
   ]
  },
  {
   "cell_type": "code",
   "execution_count": 18,
   "id": "67f70f36",
   "metadata": {},
   "outputs": [
    {
     "data": {
      "image/png": "[encoded data removed]",
      "text/plain": [
       "<Figure size 432x288 with 1 Axes>"
      ]
     },
     "metadata": {},
     "output_type": "display_data"
    }
   ],
   "source": [
    "users.groupby(['subscription_type']).count().plot(kind='pie', autopct='%.2f', y='user_id');\n",
    "plt.title('Распределение пользователей по подпискам');"
   ]
  },
  {
   "cell_type": "markdown",
   "id": "f0f6fcbb",
   "metadata": {},
   "source": [
    "Больше пользователей без платной подписки."
   ]
  },
  {
   "cell_type": "code",
   "execution_count": 19,
   "id": "dc59c425",
   "metadata": {},
   "outputs": [
    {
     "data": {
      "text/plain": [
       "count    1534.000000\n",
       "mean       24.903520\n",
       "std         4.572367\n",
       "min        12.000000\n",
       "25%        22.000000\n",
       "50%        25.000000\n",
       "75%        28.000000\n",
       "max        43.000000\n",
       "Name: age, dtype: float64"
      ]
     },
     "execution_count": 19,
     "metadata": {},
     "output_type": "execute_result"
    }
   ],
   "source": [
    "users['age'].describe()"
   ]
  },
  {
   "cell_type": "code",
   "execution_count": 20,
   "id": "119ac6cf",
   "metadata": {},
   "outputs": [
    {
     "data": {
      "image/png": "[encoded data removed]",
      "text/plain": [
       "<Figure size 432x288 with 1 Axes>"
      ]
     },
     "metadata": {
      "needs_background": "light"
     },
     "output_type": "display_data"
    }
   ],
   "source": [
    "users['age'].hist(bins=30);\n",
    "plt.title('Распределение по возрасту');\n",
    "plt.xlabel('Возраст');\n",
    "plt.ylabel('Кол-во пользователей');"
   ]
  },
  {
   "cell_type": "markdown",
   "id": "e2cf5f81",
   "metadata": {},
   "source": [
    "Самому старому пользователю 43 года, самому молодому - 12. Средний возраст пользователей 24,9 лет, медианный - 25."
   ]
  },
  {
   "cell_type": "code",
   "execution_count": 21,
   "id": "5573001c",
   "metadata": {},
   "outputs": [
    {
     "data": {
      "text/plain": [
       "count    18068.000000\n",
       "mean      3070.659976\n",
       "std       1116.831209\n",
       "min          0.855683\n",
       "25%       2543.226360\n",
       "50%       3133.609994\n",
       "75%       3776.222735\n",
       "max       7211.007745\n",
       "Name: distance, dtype: float64"
      ]
     },
     "execution_count": 21,
     "metadata": {},
     "output_type": "execute_result"
    }
   ],
   "source": [
    "rides['distance'].describe()"
   ]
  },
  {
   "cell_type": "code",
   "execution_count": 22,
   "id": "fad9cb77",
   "metadata": {},
   "outputs": [
    {
     "data": {
      "image/png": "[encoded data removed]",
      "text/plain": [
       "<Figure size 432x288 with 1 Axes>"
      ]
     },
     "metadata": {
      "needs_background": "light"
     },
     "output_type": "display_data"
    }
   ],
   "source": [
    "rides['distance'].hist(bins=30);\n",
    "plt.title('Распределение по расстоянию');\n",
    "plt.xlabel('Расстояние');\n",
    "plt.ylabel('Кол-во поездок');"
   ]
  },
  {
   "cell_type": "code",
   "execution_count": 23,
   "id": "908d181d",
   "metadata": {},
   "outputs": [
    {
     "data": {
      "image/png": "[encoded data removed]",
      "text/plain": [
       "<Figure size 432x288 with 1 Axes>"
      ]
     },
     "metadata": {
      "needs_background": "light"
     },
     "output_type": "display_data"
    }
   ],
   "source": [
    "rides['distance'].hist(bins=30, range=(-100, 1500));\n",
    "plt.title('Распределение по расстоянию для коротких');\n",
    "plt.xlabel('Расстояние');\n",
    "plt.ylabel('Кол-во поездок');"
   ]
  },
  {
   "cell_type": "code",
   "execution_count": 24,
   "id": "da065407",
   "metadata": {},
   "outputs": [
    {
     "data": {
      "image/png": "[encoded data removed]",
      "text/plain": [
       "<Figure size 432x288 with 1 Axes>"
      ]
     },
     "metadata": {
      "needs_background": "light"
     },
     "output_type": "display_data"
    }
   ],
   "source": [
    "rides['distance'].hist(bins=30, range=(1500, 6000));\n",
    "plt.title('Распределение по расстоянию для длинных');\n",
    "plt.xlabel('Расстояние');\n",
    "plt.ylabel('Кол-во поездок');"
   ]
  },
  {
   "cell_type": "markdown",
   "id": "53e53cd9",
   "metadata": {},
   "source": [
    "Максимальная дистанция поездки составила 7211 метров, минимальная чуть меньше метра(0,86 метра). Средняя дистанция поездки 3070 метров, медиана - 3133 метра."
   ]
  },
  {
   "cell_type": "code",
   "execution_count": 25,
   "id": "72877aad",
   "metadata": {},
   "outputs": [
    {
     "data": {
      "text/plain": [
       "count    18068.000000\n",
       "mean        17.805011\n",
       "std          6.091051\n",
       "min          0.500000\n",
       "25%         13.597563\n",
       "50%         17.678395\n",
       "75%         21.724800\n",
       "max         40.823963\n",
       "Name: duration, dtype: float64"
      ]
     },
     "execution_count": 25,
     "metadata": {},
     "output_type": "execute_result"
    }
   ],
   "source": [
    "rides['duration'].describe()"
   ]
  },
  {
   "cell_type": "code",
   "execution_count": 26,
   "id": "934a0252",
   "metadata": {},
   "outputs": [
    {
     "data": {
      "image/png": "[encoded data removed]",
      "text/plain": [
       "<Figure size 432x288 with 1 Axes>"
      ]
     },
     "metadata": {
      "needs_background": "light"
     },
     "output_type": "display_data"
    }
   ],
   "source": [
    "rides['duration'].hist(bins=8);\n",
    "plt.title('Распределение по длительности');\n",
    "plt.xlabel('Длительность');\n",
    "plt.ylabel('Кол-во поездок');"
   ]
  },
  {
   "cell_type": "markdown",
   "id": "0eac0767",
   "metadata": {},
   "source": [
    "Максимальная длительность поездки - почти 41 минута, минимальная - 30 секунд. Средняя длительность 17.81 минут, медианная - 17.7."
   ]
  },
  {
   "cell_type": "markdown",
   "id": "4e879bca",
   "metadata": {},
   "source": [
    "Общий вывод по исследовательскому анализу.  \n",
    "1. По городам примерно равное распределение, однако можем выделить пятигорск, с наибольшим кол-вом пользователей(219).\n",
    "2. По распределению пользователей по подпискам: незначительно больше пользователей без подписики\n",
    "3. По возрасту: самому старому пользователю 43 года, самому молодому - 12. Средний возраст пользователей 24,9 лет, медианный - 25 \n",
    "4. По расстоянию: максимальная дистанция поездки составила 7211 метров, минимальная чуть меньше метра(0,86 метра). Средняя дистанция поездки 3070 метров, медиана - 3133 метра.\n",
    "5. По длительности: максимальная длительность поездки - почти 41 минута, минимальная - 30 секунд. Средняя длительность 17.81 минут, медианная - 17.7."
   ]
  },
  {
   "cell_type": "markdown",
   "id": "4ef51331",
   "metadata": {},
   "source": [
    "#### Шаг 4. Объединение данных"
   ]
  },
  {
   "cell_type": "code",
   "execution_count": 27,
   "id": "6bf288b5",
   "metadata": {
    "scrolled": true
   },
   "outputs": [
    {
     "data": {
      "text/html": [
       "<div>\n",
       "<style scoped>\n",
       "    .dataframe tbody tr th:only-of-type {\n",
       "        vertical-align: middle;\n",
       "    }\n",
       "\n",
       "    .dataframe tbody tr th {\n",
       "        vertical-align: top;\n",
       "    }\n",
       "\n",
       "    .dataframe thead th {\n",
       "        text-align: right;\n",
       "    }\n",
       "</style>\n",
       "<table border=\"1\" class=\"dataframe\">\n",
       "  <thead>\n",
       "    <tr style=\"text-align: right;\">\n",
       "      <th></th>\n",
       "      <th>user_id</th>\n",
       "      <th>name</th>\n",
       "      <th>age</th>\n",
       "      <th>city</th>\n",
       "      <th>subscription_type</th>\n",
       "      <th>distance</th>\n",
       "      <th>duration</th>\n",
       "      <th>date</th>\n",
       "      <th>month</th>\n",
       "      <th>minute_price</th>\n",
       "      <th>start_ride_price</th>\n",
       "      <th>subscription_fee</th>\n",
       "    </tr>\n",
       "  </thead>\n",
       "  <tbody>\n",
       "    <tr>\n",
       "      <th>0</th>\n",
       "      <td>1</td>\n",
       "      <td>Кира</td>\n",
       "      <td>22</td>\n",
       "      <td>Тюмень</td>\n",
       "      <td>ultra</td>\n",
       "      <td>4409.919140</td>\n",
       "      <td>25.599769</td>\n",
       "      <td>2021-01-01</td>\n",
       "      <td>1</td>\n",
       "      <td>6</td>\n",
       "      <td>0</td>\n",
       "      <td>199</td>\n",
       "    </tr>\n",
       "    <tr>\n",
       "      <th>1</th>\n",
       "      <td>1</td>\n",
       "      <td>Кира</td>\n",
       "      <td>22</td>\n",
       "      <td>Тюмень</td>\n",
       "      <td>ultra</td>\n",
       "      <td>2617.592153</td>\n",
       "      <td>15.816871</td>\n",
       "      <td>2021-01-18</td>\n",
       "      <td>1</td>\n",
       "      <td>6</td>\n",
       "      <td>0</td>\n",
       "      <td>199</td>\n",
       "    </tr>\n",
       "    <tr>\n",
       "      <th>2</th>\n",
       "      <td>1</td>\n",
       "      <td>Кира</td>\n",
       "      <td>22</td>\n",
       "      <td>Тюмень</td>\n",
       "      <td>ultra</td>\n",
       "      <td>754.159807</td>\n",
       "      <td>6.232113</td>\n",
       "      <td>2021-04-20</td>\n",
       "      <td>4</td>\n",
       "      <td>6</td>\n",
       "      <td>0</td>\n",
       "      <td>199</td>\n",
       "    </tr>\n",
       "    <tr>\n",
       "      <th>3</th>\n",
       "      <td>1</td>\n",
       "      <td>Кира</td>\n",
       "      <td>22</td>\n",
       "      <td>Тюмень</td>\n",
       "      <td>ultra</td>\n",
       "      <td>2694.783254</td>\n",
       "      <td>18.511000</td>\n",
       "      <td>2021-08-11</td>\n",
       "      <td>8</td>\n",
       "      <td>6</td>\n",
       "      <td>0</td>\n",
       "      <td>199</td>\n",
       "    </tr>\n",
       "    <tr>\n",
       "      <th>4</th>\n",
       "      <td>1</td>\n",
       "      <td>Кира</td>\n",
       "      <td>22</td>\n",
       "      <td>Тюмень</td>\n",
       "      <td>ultra</td>\n",
       "      <td>4028.687306</td>\n",
       "      <td>26.265803</td>\n",
       "      <td>2021-08-28</td>\n",
       "      <td>8</td>\n",
       "      <td>6</td>\n",
       "      <td>0</td>\n",
       "      <td>199</td>\n",
       "    </tr>\n",
       "    <tr>\n",
       "      <th>5</th>\n",
       "      <td>1</td>\n",
       "      <td>Кира</td>\n",
       "      <td>22</td>\n",
       "      <td>Тюмень</td>\n",
       "      <td>ultra</td>\n",
       "      <td>2770.890808</td>\n",
       "      <td>16.650138</td>\n",
       "      <td>2021-10-09</td>\n",
       "      <td>10</td>\n",
       "      <td>6</td>\n",
       "      <td>0</td>\n",
       "      <td>199</td>\n",
       "    </tr>\n",
       "    <tr>\n",
       "      <th>6</th>\n",
       "      <td>1</td>\n",
       "      <td>Кира</td>\n",
       "      <td>22</td>\n",
       "      <td>Тюмень</td>\n",
       "      <td>ultra</td>\n",
       "      <td>3039.020292</td>\n",
       "      <td>14.927879</td>\n",
       "      <td>2021-10-19</td>\n",
       "      <td>10</td>\n",
       "      <td>6</td>\n",
       "      <td>0</td>\n",
       "      <td>199</td>\n",
       "    </tr>\n",
       "    <tr>\n",
       "      <th>7</th>\n",
       "      <td>1</td>\n",
       "      <td>Кира</td>\n",
       "      <td>22</td>\n",
       "      <td>Тюмень</td>\n",
       "      <td>ultra</td>\n",
       "      <td>2842.118050</td>\n",
       "      <td>23.117468</td>\n",
       "      <td>2021-11-06</td>\n",
       "      <td>11</td>\n",
       "      <td>6</td>\n",
       "      <td>0</td>\n",
       "      <td>199</td>\n",
       "    </tr>\n",
       "    <tr>\n",
       "      <th>8</th>\n",
       "      <td>1</td>\n",
       "      <td>Кира</td>\n",
       "      <td>22</td>\n",
       "      <td>Тюмень</td>\n",
       "      <td>ultra</td>\n",
       "      <td>3412.690668</td>\n",
       "      <td>15.238072</td>\n",
       "      <td>2021-11-14</td>\n",
       "      <td>11</td>\n",
       "      <td>6</td>\n",
       "      <td>0</td>\n",
       "      <td>199</td>\n",
       "    </tr>\n",
       "    <tr>\n",
       "      <th>9</th>\n",
       "      <td>1</td>\n",
       "      <td>Кира</td>\n",
       "      <td>22</td>\n",
       "      <td>Тюмень</td>\n",
       "      <td>ultra</td>\n",
       "      <td>748.690645</td>\n",
       "      <td>15.041884</td>\n",
       "      <td>2021-11-22</td>\n",
       "      <td>11</td>\n",
       "      <td>6</td>\n",
       "      <td>0</td>\n",
       "      <td>199</td>\n",
       "    </tr>\n",
       "    <tr>\n",
       "      <th>10</th>\n",
       "      <td>1</td>\n",
       "      <td>Кира</td>\n",
       "      <td>22</td>\n",
       "      <td>Тюмень</td>\n",
       "      <td>ultra</td>\n",
       "      <td>4031.020195</td>\n",
       "      <td>17.674448</td>\n",
       "      <td>2021-12-14</td>\n",
       "      <td>12</td>\n",
       "      <td>6</td>\n",
       "      <td>0</td>\n",
       "      <td>199</td>\n",
       "    </tr>\n",
       "    <tr>\n",
       "      <th>11</th>\n",
       "      <td>1</td>\n",
       "      <td>Кира</td>\n",
       "      <td>22</td>\n",
       "      <td>Тюмень</td>\n",
       "      <td>ultra</td>\n",
       "      <td>2720.609748</td>\n",
       "      <td>9.529463</td>\n",
       "      <td>2021-12-22</td>\n",
       "      <td>12</td>\n",
       "      <td>6</td>\n",
       "      <td>0</td>\n",
       "      <td>199</td>\n",
       "    </tr>\n",
       "    <tr>\n",
       "      <th>12</th>\n",
       "      <td>2</td>\n",
       "      <td>Станислав</td>\n",
       "      <td>31</td>\n",
       "      <td>Омск</td>\n",
       "      <td>ultra</td>\n",
       "      <td>3105.086678</td>\n",
       "      <td>24.307514</td>\n",
       "      <td>2021-03-15</td>\n",
       "      <td>3</td>\n",
       "      <td>6</td>\n",
       "      <td>0</td>\n",
       "      <td>199</td>\n",
       "    </tr>\n",
       "    <tr>\n",
       "      <th>13</th>\n",
       "      <td>2</td>\n",
       "      <td>Станислав</td>\n",
       "      <td>31</td>\n",
       "      <td>Омск</td>\n",
       "      <td>ultra</td>\n",
       "      <td>3053.519401</td>\n",
       "      <td>11.543256</td>\n",
       "      <td>2021-03-18</td>\n",
       "      <td>3</td>\n",
       "      <td>6</td>\n",
       "      <td>0</td>\n",
       "      <td>199</td>\n",
       "    </tr>\n",
       "    <tr>\n",
       "      <th>14</th>\n",
       "      <td>2</td>\n",
       "      <td>Станислав</td>\n",
       "      <td>31</td>\n",
       "      <td>Омск</td>\n",
       "      <td>ultra</td>\n",
       "      <td>4029.116927</td>\n",
       "      <td>25.109188</td>\n",
       "      <td>2021-03-23</td>\n",
       "      <td>3</td>\n",
       "      <td>6</td>\n",
       "      <td>0</td>\n",
       "      <td>199</td>\n",
       "    </tr>\n",
       "    <tr>\n",
       "      <th>15</th>\n",
       "      <td>2</td>\n",
       "      <td>Станислав</td>\n",
       "      <td>31</td>\n",
       "      <td>Омск</td>\n",
       "      <td>ultra</td>\n",
       "      <td>2805.786329</td>\n",
       "      <td>20.652145</td>\n",
       "      <td>2021-04-08</td>\n",
       "      <td>4</td>\n",
       "      <td>6</td>\n",
       "      <td>0</td>\n",
       "      <td>199</td>\n",
       "    </tr>\n",
       "    <tr>\n",
       "      <th>16</th>\n",
       "      <td>2</td>\n",
       "      <td>Станислав</td>\n",
       "      <td>31</td>\n",
       "      <td>Омск</td>\n",
       "      <td>ultra</td>\n",
       "      <td>3358.595495</td>\n",
       "      <td>18.396489</td>\n",
       "      <td>2021-04-13</td>\n",
       "      <td>4</td>\n",
       "      <td>6</td>\n",
       "      <td>0</td>\n",
       "      <td>199</td>\n",
       "    </tr>\n",
       "    <tr>\n",
       "      <th>17</th>\n",
       "      <td>2</td>\n",
       "      <td>Станислав</td>\n",
       "      <td>31</td>\n",
       "      <td>Омск</td>\n",
       "      <td>ultra</td>\n",
       "      <td>3255.338202</td>\n",
       "      <td>13.851127</td>\n",
       "      <td>2021-06-20</td>\n",
       "      <td>6</td>\n",
       "      <td>6</td>\n",
       "      <td>0</td>\n",
       "      <td>199</td>\n",
       "    </tr>\n",
       "    <tr>\n",
       "      <th>18</th>\n",
       "      <td>2</td>\n",
       "      <td>Станислав</td>\n",
       "      <td>31</td>\n",
       "      <td>Омск</td>\n",
       "      <td>ultra</td>\n",
       "      <td>3942.817648</td>\n",
       "      <td>20.142725</td>\n",
       "      <td>2021-07-02</td>\n",
       "      <td>7</td>\n",
       "      <td>6</td>\n",
       "      <td>0</td>\n",
       "      <td>199</td>\n",
       "    </tr>\n",
       "    <tr>\n",
       "      <th>19</th>\n",
       "      <td>2</td>\n",
       "      <td>Станислав</td>\n",
       "      <td>31</td>\n",
       "      <td>Омск</td>\n",
       "      <td>ultra</td>\n",
       "      <td>2837.905316</td>\n",
       "      <td>26.027432</td>\n",
       "      <td>2021-07-18</td>\n",
       "      <td>7</td>\n",
       "      <td>6</td>\n",
       "      <td>0</td>\n",
       "      <td>199</td>\n",
       "    </tr>\n",
       "    <tr>\n",
       "      <th>20</th>\n",
       "      <td>2</td>\n",
       "      <td>Станислав</td>\n",
       "      <td>31</td>\n",
       "      <td>Омск</td>\n",
       "      <td>ultra</td>\n",
       "      <td>923.007439</td>\n",
       "      <td>6.914760</td>\n",
       "      <td>2021-08-03</td>\n",
       "      <td>8</td>\n",
       "      <td>6</td>\n",
       "      <td>0</td>\n",
       "      <td>199</td>\n",
       "    </tr>\n",
       "    <tr>\n",
       "      <th>21</th>\n",
       "      <td>2</td>\n",
       "      <td>Станислав</td>\n",
       "      <td>31</td>\n",
       "      <td>Омск</td>\n",
       "      <td>ultra</td>\n",
       "      <td>2824.636598</td>\n",
       "      <td>18.779128</td>\n",
       "      <td>2021-10-27</td>\n",
       "      <td>10</td>\n",
       "      <td>6</td>\n",
       "      <td>0</td>\n",
       "      <td>199</td>\n",
       "    </tr>\n",
       "    <tr>\n",
       "      <th>22</th>\n",
       "      <td>2</td>\n",
       "      <td>Станислав</td>\n",
       "      <td>31</td>\n",
       "      <td>Омск</td>\n",
       "      <td>ultra</td>\n",
       "      <td>3828.248580</td>\n",
       "      <td>11.920514</td>\n",
       "      <td>2021-12-18</td>\n",
       "      <td>12</td>\n",
       "      <td>6</td>\n",
       "      <td>0</td>\n",
       "      <td>199</td>\n",
       "    </tr>\n",
       "    <tr>\n",
       "      <th>23</th>\n",
       "      <td>3</td>\n",
       "      <td>Алексей</td>\n",
       "      <td>20</td>\n",
       "      <td>Москва</td>\n",
       "      <td>ultra</td>\n",
       "      <td>3061.777147</td>\n",
       "      <td>12.654443</td>\n",
       "      <td>2021-01-31</td>\n",
       "      <td>1</td>\n",
       "      <td>6</td>\n",
       "      <td>0</td>\n",
       "      <td>199</td>\n",
       "    </tr>\n",
       "    <tr>\n",
       "      <th>24</th>\n",
       "      <td>3</td>\n",
       "      <td>Алексей</td>\n",
       "      <td>20</td>\n",
       "      <td>Москва</td>\n",
       "      <td>ultra</td>\n",
       "      <td>2560.495330</td>\n",
       "      <td>16.534984</td>\n",
       "      <td>2021-02-24</td>\n",
       "      <td>2</td>\n",
       "      <td>6</td>\n",
       "      <td>0</td>\n",
       "      <td>199</td>\n",
       "    </tr>\n",
       "    <tr>\n",
       "      <th>25</th>\n",
       "      <td>3</td>\n",
       "      <td>Алексей</td>\n",
       "      <td>20</td>\n",
       "      <td>Москва</td>\n",
       "      <td>ultra</td>\n",
       "      <td>2860.656686</td>\n",
       "      <td>21.033653</td>\n",
       "      <td>2021-02-26</td>\n",
       "      <td>2</td>\n",
       "      <td>6</td>\n",
       "      <td>0</td>\n",
       "      <td>199</td>\n",
       "    </tr>\n",
       "    <tr>\n",
       "      <th>26</th>\n",
       "      <td>3</td>\n",
       "      <td>Алексей</td>\n",
       "      <td>20</td>\n",
       "      <td>Москва</td>\n",
       "      <td>ultra</td>\n",
       "      <td>2956.651632</td>\n",
       "      <td>20.671364</td>\n",
       "      <td>2021-04-12</td>\n",
       "      <td>4</td>\n",
       "      <td>6</td>\n",
       "      <td>0</td>\n",
       "      <td>199</td>\n",
       "    </tr>\n",
       "    <tr>\n",
       "      <th>27</th>\n",
       "      <td>3</td>\n",
       "      <td>Алексей</td>\n",
       "      <td>20</td>\n",
       "      <td>Москва</td>\n",
       "      <td>ultra</td>\n",
       "      <td>2756.975841</td>\n",
       "      <td>18.519025</td>\n",
       "      <td>2021-05-07</td>\n",
       "      <td>5</td>\n",
       "      <td>6</td>\n",
       "      <td>0</td>\n",
       "      <td>199</td>\n",
       "    </tr>\n",
       "    <tr>\n",
       "      <th>28</th>\n",
       "      <td>3</td>\n",
       "      <td>Алексей</td>\n",
       "      <td>20</td>\n",
       "      <td>Москва</td>\n",
       "      <td>ultra</td>\n",
       "      <td>2837.317332</td>\n",
       "      <td>24.476276</td>\n",
       "      <td>2021-05-21</td>\n",
       "      <td>5</td>\n",
       "      <td>6</td>\n",
       "      <td>0</td>\n",
       "      <td>199</td>\n",
       "    </tr>\n",
       "    <tr>\n",
       "      <th>29</th>\n",
       "      <td>3</td>\n",
       "      <td>Алексей</td>\n",
       "      <td>20</td>\n",
       "      <td>Москва</td>\n",
       "      <td>ultra</td>\n",
       "      <td>3469.733745</td>\n",
       "      <td>18.409201</td>\n",
       "      <td>2021-05-22</td>\n",
       "      <td>5</td>\n",
       "      <td>6</td>\n",
       "      <td>0</td>\n",
       "      <td>199</td>\n",
       "    </tr>\n",
       "  </tbody>\n",
       "</table>\n",
       "</div>"
      ],
      "text/plain": [
       "    user_id       name  age    city subscription_type     distance   duration  \\\n",
       "0         1       Кира   22  Тюмень             ultra  4409.919140  25.599769   \n",
       "1         1       Кира   22  Тюмень             ultra  2617.592153  15.816871   \n",
       "2         1       Кира   22  Тюмень             ultra   754.159807   6.232113   \n",
       "3         1       Кира   22  Тюмень             ultra  2694.783254  18.511000   \n",
       "4         1       Кира   22  Тюмень             ultra  4028.687306  26.265803   \n",
       "5         1       Кира   22  Тюмень             ultra  2770.890808  16.650138   \n",
       "6         1       Кира   22  Тюмень             ultra  3039.020292  14.927879   \n",
       "7         1       Кира   22  Тюмень             ultra  2842.118050  23.117468   \n",
       "8         1       Кира   22  Тюмень             ultra  3412.690668  15.238072   \n",
       "9         1       Кира   22  Тюмень             ultra   748.690645  15.041884   \n",
       "10        1       Кира   22  Тюмень             ultra  4031.020195  17.674448   \n",
       "11        1       Кира   22  Тюмень             ultra  2720.609748   9.529463   \n",
       "12        2  Станислав   31    Омск             ultra  3105.086678  24.307514   \n",
       "13        2  Станислав   31    Омск             ultra  3053.519401  11.543256   \n",
       "14        2  Станислав   31    Омск             ultra  4029.116927  25.109188   \n",
       "15        2  Станислав   31    Омск             ultra  2805.786329  20.652145   \n",
       "16        2  Станислав   31    Омск             ultra  3358.595495  18.396489   \n",
       "17        2  Станислав   31    Омск             ultra  3255.338202  13.851127   \n",
       "18        2  Станислав   31    Омск             ultra  3942.817648  20.142725   \n",
       "19        2  Станислав   31    Омск             ultra  2837.905316  26.027432   \n",
       "20        2  Станислав   31    Омск             ultra   923.007439   6.914760   \n",
       "21        2  Станислав   31    Омск             ultra  2824.636598  18.779128   \n",
       "22        2  Станислав   31    Омск             ultra  3828.248580  11.920514   \n",
       "23        3    Алексей   20  Москва             ultra  3061.777147  12.654443   \n",
       "24        3    Алексей   20  Москва             ultra  2560.495330  16.534984   \n",
       "25        3    Алексей   20  Москва             ultra  2860.656686  21.033653   \n",
       "26        3    Алексей   20  Москва             ultra  2956.651632  20.671364   \n",
       "27        3    Алексей   20  Москва             ultra  2756.975841  18.519025   \n",
       "28        3    Алексей   20  Москва             ultra  2837.317332  24.476276   \n",
       "29        3    Алексей   20  Москва             ultra  3469.733745  18.409201   \n",
       "\n",
       "         date  month  minute_price  start_ride_price  subscription_fee  \n",
       "0  2021-01-01      1             6                 0               199  \n",
       "1  2021-01-18      1             6                 0               199  \n",
       "2  2021-04-20      4             6                 0               199  \n",
       "3  2021-08-11      8             6                 0               199  \n",
       "4  2021-08-28      8             6                 0               199  \n",
       "5  2021-10-09     10             6                 0               199  \n",
       "6  2021-10-19     10             6                 0               199  \n",
       "7  2021-11-06     11             6                 0               199  \n",
       "8  2021-11-14     11             6                 0               199  \n",
       "9  2021-11-22     11             6                 0               199  \n",
       "10 2021-12-14     12             6                 0               199  \n",
       "11 2021-12-22     12             6                 0               199  \n",
       "12 2021-03-15      3             6                 0               199  \n",
       "13 2021-03-18      3             6                 0               199  \n",
       "14 2021-03-23      3             6                 0               199  \n",
       "15 2021-04-08      4             6                 0               199  \n",
       "16 2021-04-13      4             6                 0               199  \n",
       "17 2021-06-20      6             6                 0               199  \n",
       "18 2021-07-02      7             6                 0               199  \n",
       "19 2021-07-18      7             6                 0               199  \n",
       "20 2021-08-03      8             6                 0               199  \n",
       "21 2021-10-27     10             6                 0               199  \n",
       "22 2021-12-18     12             6                 0               199  \n",
       "23 2021-01-31      1             6                 0               199  \n",
       "24 2021-02-24      2             6                 0               199  \n",
       "25 2021-02-26      2             6                 0               199  \n",
       "26 2021-04-12      4             6                 0               199  \n",
       "27 2021-05-07      5             6                 0               199  \n",
       "28 2021-05-21      5             6                 0               199  \n",
       "29 2021-05-22      5             6                 0               199  "
      ]
     },
     "execution_count": 27,
     "metadata": {},
     "output_type": "execute_result"
    }
   ],
   "source": [
    "df = users.merge(rides, on=['user_id'], how='outer')\n",
    "df = df.merge(subscriptions, on=['subscription_type'], how='outer')\n",
    "df.head(30)"
   ]
  },
  {
   "cell_type": "code",
   "execution_count": 28,
   "id": "7050199f",
   "metadata": {},
   "outputs": [
    {
     "name": "stdout",
     "output_type": "stream",
     "text": [
      "<class 'pandas.core.frame.DataFrame'>\n",
      "Int64Index: 18068 entries, 0 to 18067\n",
      "Data columns (total 12 columns):\n",
      " #   Column             Non-Null Count  Dtype         \n",
      "---  ------             --------------  -----         \n",
      " 0   user_id            18068 non-null  int64         \n",
      " 1   name               18068 non-null  object        \n",
      " 2   age                18068 non-null  int64         \n",
      " 3   city               18068 non-null  object        \n",
      " 4   subscription_type  18068 non-null  object        \n",
      " 5   distance           18068 non-null  float64       \n",
      " 6   duration           18068 non-null  float64       \n",
      " 7   date               18068 non-null  datetime64[ns]\n",
      " 8   month              18068 non-null  int64         \n",
      " 9   minute_price       18068 non-null  int64         \n",
      " 10  start_ride_price   18068 non-null  int64         \n",
      " 11  subscription_fee   18068 non-null  int64         \n",
      "dtypes: datetime64[ns](1), float64(2), int64(6), object(3)\n",
      "memory usage: 1.8+ MB\n"
     ]
    }
   ],
   "source": [
    "df.info()"
   ]
  },
  {
   "cell_type": "code",
   "execution_count": 29,
   "id": "6d437d37",
   "metadata": {},
   "outputs": [
    {
     "data": {
      "text/plain": [
       "user_id              0\n",
       "name                 0\n",
       "age                  0\n",
       "city                 0\n",
       "subscription_type    0\n",
       "distance             0\n",
       "duration             0\n",
       "date                 0\n",
       "month                0\n",
       "minute_price         0\n",
       "start_ride_price     0\n",
       "subscription_fee     0\n",
       "dtype: int64"
      ]
     },
     "execution_count": 29,
     "metadata": {},
     "output_type": "execute_result"
    }
   ],
   "source": [
    "df.isna().sum()"
   ]
  },
  {
   "cell_type": "markdown",
   "id": "c88bc36f",
   "metadata": {},
   "source": [
    "Пропусков в нашем датафрейме нет! Размерность - 18067 строк."
   ]
  },
  {
   "cell_type": "markdown",
   "id": "3dc8e034",
   "metadata": {},
   "source": [
    "Таблицы объеденины."
   ]
  },
  {
   "cell_type": "code",
   "execution_count": 30,
   "id": "b0890dd3",
   "metadata": {},
   "outputs": [
    {
     "data": {
      "text/html": [
       "<div>\n",
       "<style scoped>\n",
       "    .dataframe tbody tr th:only-of-type {\n",
       "        vertical-align: middle;\n",
       "    }\n",
       "\n",
       "    .dataframe tbody tr th {\n",
       "        vertical-align: top;\n",
       "    }\n",
       "\n",
       "    .dataframe thead th {\n",
       "        text-align: right;\n",
       "    }\n",
       "</style>\n",
       "<table border=\"1\" class=\"dataframe\">\n",
       "  <thead>\n",
       "    <tr style=\"text-align: right;\">\n",
       "      <th></th>\n",
       "      <th>user_id</th>\n",
       "      <th>name</th>\n",
       "      <th>age</th>\n",
       "      <th>city</th>\n",
       "      <th>subscription_type</th>\n",
       "      <th>distance</th>\n",
       "      <th>duration</th>\n",
       "      <th>date</th>\n",
       "      <th>month</th>\n",
       "      <th>minute_price</th>\n",
       "      <th>start_ride_price</th>\n",
       "      <th>subscription_fee</th>\n",
       "    </tr>\n",
       "  </thead>\n",
       "  <tbody>\n",
       "    <tr>\n",
       "      <th>6500</th>\n",
       "      <td>700</td>\n",
       "      <td>Айдар</td>\n",
       "      <td>22</td>\n",
       "      <td>Омск</td>\n",
       "      <td>free</td>\n",
       "      <td>2515.690719</td>\n",
       "      <td>14.944286</td>\n",
       "      <td>2021-01-02</td>\n",
       "      <td>1</td>\n",
       "      <td>8</td>\n",
       "      <td>50</td>\n",
       "      <td>0</td>\n",
       "    </tr>\n",
       "    <tr>\n",
       "      <th>6501</th>\n",
       "      <td>700</td>\n",
       "      <td>Айдар</td>\n",
       "      <td>22</td>\n",
       "      <td>Омск</td>\n",
       "      <td>free</td>\n",
       "      <td>846.932642</td>\n",
       "      <td>16.234663</td>\n",
       "      <td>2021-02-01</td>\n",
       "      <td>2</td>\n",
       "      <td>8</td>\n",
       "      <td>50</td>\n",
       "      <td>0</td>\n",
       "    </tr>\n",
       "    <tr>\n",
       "      <th>6502</th>\n",
       "      <td>700</td>\n",
       "      <td>Айдар</td>\n",
       "      <td>22</td>\n",
       "      <td>Омск</td>\n",
       "      <td>free</td>\n",
       "      <td>4004.434142</td>\n",
       "      <td>20.016628</td>\n",
       "      <td>2021-02-04</td>\n",
       "      <td>2</td>\n",
       "      <td>8</td>\n",
       "      <td>50</td>\n",
       "      <td>0</td>\n",
       "    </tr>\n",
       "    <tr>\n",
       "      <th>6503</th>\n",
       "      <td>700</td>\n",
       "      <td>Айдар</td>\n",
       "      <td>22</td>\n",
       "      <td>Омск</td>\n",
       "      <td>free</td>\n",
       "      <td>1205.911290</td>\n",
       "      <td>9.782872</td>\n",
       "      <td>2021-02-10</td>\n",
       "      <td>2</td>\n",
       "      <td>8</td>\n",
       "      <td>50</td>\n",
       "      <td>0</td>\n",
       "    </tr>\n",
       "    <tr>\n",
       "      <th>6504</th>\n",
       "      <td>700</td>\n",
       "      <td>Айдар</td>\n",
       "      <td>22</td>\n",
       "      <td>Омск</td>\n",
       "      <td>free</td>\n",
       "      <td>3047.379435</td>\n",
       "      <td>17.427673</td>\n",
       "      <td>2021-02-14</td>\n",
       "      <td>2</td>\n",
       "      <td>8</td>\n",
       "      <td>50</td>\n",
       "      <td>0</td>\n",
       "    </tr>\n",
       "    <tr>\n",
       "      <th>6505</th>\n",
       "      <td>700</td>\n",
       "      <td>Айдар</td>\n",
       "      <td>22</td>\n",
       "      <td>Омск</td>\n",
       "      <td>free</td>\n",
       "      <td>4342.002254</td>\n",
       "      <td>22.368009</td>\n",
       "      <td>2021-02-23</td>\n",
       "      <td>2</td>\n",
       "      <td>8</td>\n",
       "      <td>50</td>\n",
       "      <td>0</td>\n",
       "    </tr>\n",
       "    <tr>\n",
       "      <th>6506</th>\n",
       "      <td>700</td>\n",
       "      <td>Айдар</td>\n",
       "      <td>22</td>\n",
       "      <td>Омск</td>\n",
       "      <td>free</td>\n",
       "      <td>3798.334905</td>\n",
       "      <td>18.243756</td>\n",
       "      <td>2021-03-03</td>\n",
       "      <td>3</td>\n",
       "      <td>8</td>\n",
       "      <td>50</td>\n",
       "      <td>0</td>\n",
       "    </tr>\n",
       "    <tr>\n",
       "      <th>6507</th>\n",
       "      <td>700</td>\n",
       "      <td>Айдар</td>\n",
       "      <td>22</td>\n",
       "      <td>Омск</td>\n",
       "      <td>free</td>\n",
       "      <td>2984.551206</td>\n",
       "      <td>15.424899</td>\n",
       "      <td>2021-04-09</td>\n",
       "      <td>4</td>\n",
       "      <td>8</td>\n",
       "      <td>50</td>\n",
       "      <td>0</td>\n",
       "    </tr>\n",
       "    <tr>\n",
       "      <th>6508</th>\n",
       "      <td>700</td>\n",
       "      <td>Айдар</td>\n",
       "      <td>22</td>\n",
       "      <td>Омск</td>\n",
       "      <td>free</td>\n",
       "      <td>3360.107141</td>\n",
       "      <td>16.765497</td>\n",
       "      <td>2021-06-12</td>\n",
       "      <td>6</td>\n",
       "      <td>8</td>\n",
       "      <td>50</td>\n",
       "      <td>0</td>\n",
       "    </tr>\n",
       "    <tr>\n",
       "      <th>6509</th>\n",
       "      <td>700</td>\n",
       "      <td>Айдар</td>\n",
       "      <td>22</td>\n",
       "      <td>Омск</td>\n",
       "      <td>free</td>\n",
       "      <td>2567.543847</td>\n",
       "      <td>11.312160</td>\n",
       "      <td>2021-06-23</td>\n",
       "      <td>6</td>\n",
       "      <td>8</td>\n",
       "      <td>50</td>\n",
       "      <td>0</td>\n",
       "    </tr>\n",
       "    <tr>\n",
       "      <th>6510</th>\n",
       "      <td>700</td>\n",
       "      <td>Айдар</td>\n",
       "      <td>22</td>\n",
       "      <td>Омск</td>\n",
       "      <td>free</td>\n",
       "      <td>4110.232038</td>\n",
       "      <td>15.807640</td>\n",
       "      <td>2021-07-08</td>\n",
       "      <td>7</td>\n",
       "      <td>8</td>\n",
       "      <td>50</td>\n",
       "      <td>0</td>\n",
       "    </tr>\n",
       "    <tr>\n",
       "      <th>6511</th>\n",
       "      <td>700</td>\n",
       "      <td>Айдар</td>\n",
       "      <td>22</td>\n",
       "      <td>Омск</td>\n",
       "      <td>free</td>\n",
       "      <td>288.974241</td>\n",
       "      <td>4.788112</td>\n",
       "      <td>2021-07-18</td>\n",
       "      <td>7</td>\n",
       "      <td>8</td>\n",
       "      <td>50</td>\n",
       "      <td>0</td>\n",
       "    </tr>\n",
       "    <tr>\n",
       "      <th>6512</th>\n",
       "      <td>700</td>\n",
       "      <td>Айдар</td>\n",
       "      <td>22</td>\n",
       "      <td>Омск</td>\n",
       "      <td>free</td>\n",
       "      <td>4071.654669</td>\n",
       "      <td>16.370546</td>\n",
       "      <td>2021-08-17</td>\n",
       "      <td>8</td>\n",
       "      <td>8</td>\n",
       "      <td>50</td>\n",
       "      <td>0</td>\n",
       "    </tr>\n",
       "    <tr>\n",
       "      <th>6513</th>\n",
       "      <td>700</td>\n",
       "      <td>Айдар</td>\n",
       "      <td>22</td>\n",
       "      <td>Омск</td>\n",
       "      <td>free</td>\n",
       "      <td>1920.188901</td>\n",
       "      <td>9.608453</td>\n",
       "      <td>2021-10-08</td>\n",
       "      <td>10</td>\n",
       "      <td>8</td>\n",
       "      <td>50</td>\n",
       "      <td>0</td>\n",
       "    </tr>\n",
       "    <tr>\n",
       "      <th>6514</th>\n",
       "      <td>700</td>\n",
       "      <td>Айдар</td>\n",
       "      <td>22</td>\n",
       "      <td>Омск</td>\n",
       "      <td>free</td>\n",
       "      <td>4402.389717</td>\n",
       "      <td>33.013035</td>\n",
       "      <td>2021-10-15</td>\n",
       "      <td>10</td>\n",
       "      <td>8</td>\n",
       "      <td>50</td>\n",
       "      <td>0</td>\n",
       "    </tr>\n",
       "    <tr>\n",
       "      <th>6515</th>\n",
       "      <td>700</td>\n",
       "      <td>Айдар</td>\n",
       "      <td>22</td>\n",
       "      <td>Омск</td>\n",
       "      <td>free</td>\n",
       "      <td>2409.555418</td>\n",
       "      <td>8.560513</td>\n",
       "      <td>2021-11-03</td>\n",
       "      <td>11</td>\n",
       "      <td>8</td>\n",
       "      <td>50</td>\n",
       "      <td>0</td>\n",
       "    </tr>\n",
       "    <tr>\n",
       "      <th>6516</th>\n",
       "      <td>700</td>\n",
       "      <td>Айдар</td>\n",
       "      <td>22</td>\n",
       "      <td>Омск</td>\n",
       "      <td>free</td>\n",
       "      <td>2639.817512</td>\n",
       "      <td>8.656752</td>\n",
       "      <td>2021-11-14</td>\n",
       "      <td>11</td>\n",
       "      <td>8</td>\n",
       "      <td>50</td>\n",
       "      <td>0</td>\n",
       "    </tr>\n",
       "    <tr>\n",
       "      <th>6517</th>\n",
       "      <td>700</td>\n",
       "      <td>Айдар</td>\n",
       "      <td>22</td>\n",
       "      <td>Омск</td>\n",
       "      <td>free</td>\n",
       "      <td>3686.409695</td>\n",
       "      <td>13.899449</td>\n",
       "      <td>2021-11-21</td>\n",
       "      <td>11</td>\n",
       "      <td>8</td>\n",
       "      <td>50</td>\n",
       "      <td>0</td>\n",
       "    </tr>\n",
       "    <tr>\n",
       "      <th>6518</th>\n",
       "      <td>701</td>\n",
       "      <td>Иван</td>\n",
       "      <td>31</td>\n",
       "      <td>Екатеринбург</td>\n",
       "      <td>free</td>\n",
       "      <td>2676.472894</td>\n",
       "      <td>17.470598</td>\n",
       "      <td>2021-01-23</td>\n",
       "      <td>1</td>\n",
       "      <td>8</td>\n",
       "      <td>50</td>\n",
       "      <td>0</td>\n",
       "    </tr>\n",
       "    <tr>\n",
       "      <th>6519</th>\n",
       "      <td>701</td>\n",
       "      <td>Иван</td>\n",
       "      <td>31</td>\n",
       "      <td>Екатеринбург</td>\n",
       "      <td>free</td>\n",
       "      <td>2743.677431</td>\n",
       "      <td>14.974710</td>\n",
       "      <td>2021-02-13</td>\n",
       "      <td>2</td>\n",
       "      <td>8</td>\n",
       "      <td>50</td>\n",
       "      <td>0</td>\n",
       "    </tr>\n",
       "  </tbody>\n",
       "</table>\n",
       "</div>"
      ],
      "text/plain": [
       "      user_id   name  age          city subscription_type     distance  \\\n",
       "6500      700  Айдар   22          Омск              free  2515.690719   \n",
       "6501      700  Айдар   22          Омск              free   846.932642   \n",
       "6502      700  Айдар   22          Омск              free  4004.434142   \n",
       "6503      700  Айдар   22          Омск              free  1205.911290   \n",
       "6504      700  Айдар   22          Омск              free  3047.379435   \n",
       "6505      700  Айдар   22          Омск              free  4342.002254   \n",
       "6506      700  Айдар   22          Омск              free  3798.334905   \n",
       "6507      700  Айдар   22          Омск              free  2984.551206   \n",
       "6508      700  Айдар   22          Омск              free  3360.107141   \n",
       "6509      700  Айдар   22          Омск              free  2567.543847   \n",
       "6510      700  Айдар   22          Омск              free  4110.232038   \n",
       "6511      700  Айдар   22          Омск              free   288.974241   \n",
       "6512      700  Айдар   22          Омск              free  4071.654669   \n",
       "6513      700  Айдар   22          Омск              free  1920.188901   \n",
       "6514      700  Айдар   22          Омск              free  4402.389717   \n",
       "6515      700  Айдар   22          Омск              free  2409.555418   \n",
       "6516      700  Айдар   22          Омск              free  2639.817512   \n",
       "6517      700  Айдар   22          Омск              free  3686.409695   \n",
       "6518      701   Иван   31  Екатеринбург              free  2676.472894   \n",
       "6519      701   Иван   31  Екатеринбург              free  2743.677431   \n",
       "\n",
       "       duration       date  month  minute_price  start_ride_price  \\\n",
       "6500  14.944286 2021-01-02      1             8                50   \n",
       "6501  16.234663 2021-02-01      2             8                50   \n",
       "6502  20.016628 2021-02-04      2             8                50   \n",
       "6503   9.782872 2021-02-10      2             8                50   \n",
       "6504  17.427673 2021-02-14      2             8                50   \n",
       "6505  22.368009 2021-02-23      2             8                50   \n",
       "6506  18.243756 2021-03-03      3             8                50   \n",
       "6507  15.424899 2021-04-09      4             8                50   \n",
       "6508  16.765497 2021-06-12      6             8                50   \n",
       "6509  11.312160 2021-06-23      6             8                50   \n",
       "6510  15.807640 2021-07-08      7             8                50   \n",
       "6511   4.788112 2021-07-18      7             8                50   \n",
       "6512  16.370546 2021-08-17      8             8                50   \n",
       "6513   9.608453 2021-10-08     10             8                50   \n",
       "6514  33.013035 2021-10-15     10             8                50   \n",
       "6515   8.560513 2021-11-03     11             8                50   \n",
       "6516   8.656752 2021-11-14     11             8                50   \n",
       "6517  13.899449 2021-11-21     11             8                50   \n",
       "6518  17.470598 2021-01-23      1             8                50   \n",
       "6519  14.974710 2021-02-13      2             8                50   \n",
       "\n",
       "      subscription_fee  \n",
       "6500                 0  \n",
       "6501                 0  \n",
       "6502                 0  \n",
       "6503                 0  \n",
       "6504                 0  \n",
       "6505                 0  \n",
       "6506                 0  \n",
       "6507                 0  \n",
       "6508                 0  \n",
       "6509                 0  \n",
       "6510                 0  \n",
       "6511                 0  \n",
       "6512                 0  \n",
       "6513                 0  \n",
       "6514                 0  \n",
       "6515                 0  \n",
       "6516                 0  \n",
       "6517                 0  \n",
       "6518                 0  \n",
       "6519                 0  "
      ]
     },
     "execution_count": 30,
     "metadata": {},
     "output_type": "execute_result"
    }
   ],
   "source": [
    "df_free = df.query('subscription_type == \"free\"')\n",
    "df_free.head(20)"
   ]
  },
  {
   "cell_type": "code",
   "execution_count": 31,
   "id": "e0dfd966",
   "metadata": {},
   "outputs": [
    {
     "data": {
      "text/html": [
       "<div>\n",
       "<style scoped>\n",
       "    .dataframe tbody tr th:only-of-type {\n",
       "        vertical-align: middle;\n",
       "    }\n",
       "\n",
       "    .dataframe tbody tr th {\n",
       "        vertical-align: top;\n",
       "    }\n",
       "\n",
       "    .dataframe thead th {\n",
       "        text-align: right;\n",
       "    }\n",
       "</style>\n",
       "<table border=\"1\" class=\"dataframe\">\n",
       "  <thead>\n",
       "    <tr style=\"text-align: right;\">\n",
       "      <th></th>\n",
       "      <th>user_id</th>\n",
       "      <th>name</th>\n",
       "      <th>age</th>\n",
       "      <th>city</th>\n",
       "      <th>subscription_type</th>\n",
       "      <th>distance</th>\n",
       "      <th>duration</th>\n",
       "      <th>date</th>\n",
       "      <th>month</th>\n",
       "      <th>minute_price</th>\n",
       "      <th>start_ride_price</th>\n",
       "      <th>subscription_fee</th>\n",
       "    </tr>\n",
       "  </thead>\n",
       "  <tbody>\n",
       "    <tr>\n",
       "      <th>0</th>\n",
       "      <td>1</td>\n",
       "      <td>Кира</td>\n",
       "      <td>22</td>\n",
       "      <td>Тюмень</td>\n",
       "      <td>ultra</td>\n",
       "      <td>4409.919140</td>\n",
       "      <td>25.599769</td>\n",
       "      <td>2021-01-01</td>\n",
       "      <td>1</td>\n",
       "      <td>6</td>\n",
       "      <td>0</td>\n",
       "      <td>199</td>\n",
       "    </tr>\n",
       "    <tr>\n",
       "      <th>1</th>\n",
       "      <td>1</td>\n",
       "      <td>Кира</td>\n",
       "      <td>22</td>\n",
       "      <td>Тюмень</td>\n",
       "      <td>ultra</td>\n",
       "      <td>2617.592153</td>\n",
       "      <td>15.816871</td>\n",
       "      <td>2021-01-18</td>\n",
       "      <td>1</td>\n",
       "      <td>6</td>\n",
       "      <td>0</td>\n",
       "      <td>199</td>\n",
       "    </tr>\n",
       "    <tr>\n",
       "      <th>2</th>\n",
       "      <td>1</td>\n",
       "      <td>Кира</td>\n",
       "      <td>22</td>\n",
       "      <td>Тюмень</td>\n",
       "      <td>ultra</td>\n",
       "      <td>754.159807</td>\n",
       "      <td>6.232113</td>\n",
       "      <td>2021-04-20</td>\n",
       "      <td>4</td>\n",
       "      <td>6</td>\n",
       "      <td>0</td>\n",
       "      <td>199</td>\n",
       "    </tr>\n",
       "    <tr>\n",
       "      <th>3</th>\n",
       "      <td>1</td>\n",
       "      <td>Кира</td>\n",
       "      <td>22</td>\n",
       "      <td>Тюмень</td>\n",
       "      <td>ultra</td>\n",
       "      <td>2694.783254</td>\n",
       "      <td>18.511000</td>\n",
       "      <td>2021-08-11</td>\n",
       "      <td>8</td>\n",
       "      <td>6</td>\n",
       "      <td>0</td>\n",
       "      <td>199</td>\n",
       "    </tr>\n",
       "    <tr>\n",
       "      <th>4</th>\n",
       "      <td>1</td>\n",
       "      <td>Кира</td>\n",
       "      <td>22</td>\n",
       "      <td>Тюмень</td>\n",
       "      <td>ultra</td>\n",
       "      <td>4028.687306</td>\n",
       "      <td>26.265803</td>\n",
       "      <td>2021-08-28</td>\n",
       "      <td>8</td>\n",
       "      <td>6</td>\n",
       "      <td>0</td>\n",
       "      <td>199</td>\n",
       "    </tr>\n",
       "    <tr>\n",
       "      <th>5</th>\n",
       "      <td>1</td>\n",
       "      <td>Кира</td>\n",
       "      <td>22</td>\n",
       "      <td>Тюмень</td>\n",
       "      <td>ultra</td>\n",
       "      <td>2770.890808</td>\n",
       "      <td>16.650138</td>\n",
       "      <td>2021-10-09</td>\n",
       "      <td>10</td>\n",
       "      <td>6</td>\n",
       "      <td>0</td>\n",
       "      <td>199</td>\n",
       "    </tr>\n",
       "    <tr>\n",
       "      <th>6</th>\n",
       "      <td>1</td>\n",
       "      <td>Кира</td>\n",
       "      <td>22</td>\n",
       "      <td>Тюмень</td>\n",
       "      <td>ultra</td>\n",
       "      <td>3039.020292</td>\n",
       "      <td>14.927879</td>\n",
       "      <td>2021-10-19</td>\n",
       "      <td>10</td>\n",
       "      <td>6</td>\n",
       "      <td>0</td>\n",
       "      <td>199</td>\n",
       "    </tr>\n",
       "    <tr>\n",
       "      <th>7</th>\n",
       "      <td>1</td>\n",
       "      <td>Кира</td>\n",
       "      <td>22</td>\n",
       "      <td>Тюмень</td>\n",
       "      <td>ultra</td>\n",
       "      <td>2842.118050</td>\n",
       "      <td>23.117468</td>\n",
       "      <td>2021-11-06</td>\n",
       "      <td>11</td>\n",
       "      <td>6</td>\n",
       "      <td>0</td>\n",
       "      <td>199</td>\n",
       "    </tr>\n",
       "    <tr>\n",
       "      <th>8</th>\n",
       "      <td>1</td>\n",
       "      <td>Кира</td>\n",
       "      <td>22</td>\n",
       "      <td>Тюмень</td>\n",
       "      <td>ultra</td>\n",
       "      <td>3412.690668</td>\n",
       "      <td>15.238072</td>\n",
       "      <td>2021-11-14</td>\n",
       "      <td>11</td>\n",
       "      <td>6</td>\n",
       "      <td>0</td>\n",
       "      <td>199</td>\n",
       "    </tr>\n",
       "    <tr>\n",
       "      <th>9</th>\n",
       "      <td>1</td>\n",
       "      <td>Кира</td>\n",
       "      <td>22</td>\n",
       "      <td>Тюмень</td>\n",
       "      <td>ultra</td>\n",
       "      <td>748.690645</td>\n",
       "      <td>15.041884</td>\n",
       "      <td>2021-11-22</td>\n",
       "      <td>11</td>\n",
       "      <td>6</td>\n",
       "      <td>0</td>\n",
       "      <td>199</td>\n",
       "    </tr>\n",
       "    <tr>\n",
       "      <th>10</th>\n",
       "      <td>1</td>\n",
       "      <td>Кира</td>\n",
       "      <td>22</td>\n",
       "      <td>Тюмень</td>\n",
       "      <td>ultra</td>\n",
       "      <td>4031.020195</td>\n",
       "      <td>17.674448</td>\n",
       "      <td>2021-12-14</td>\n",
       "      <td>12</td>\n",
       "      <td>6</td>\n",
       "      <td>0</td>\n",
       "      <td>199</td>\n",
       "    </tr>\n",
       "    <tr>\n",
       "      <th>11</th>\n",
       "      <td>1</td>\n",
       "      <td>Кира</td>\n",
       "      <td>22</td>\n",
       "      <td>Тюмень</td>\n",
       "      <td>ultra</td>\n",
       "      <td>2720.609748</td>\n",
       "      <td>9.529463</td>\n",
       "      <td>2021-12-22</td>\n",
       "      <td>12</td>\n",
       "      <td>6</td>\n",
       "      <td>0</td>\n",
       "      <td>199</td>\n",
       "    </tr>\n",
       "    <tr>\n",
       "      <th>12</th>\n",
       "      <td>2</td>\n",
       "      <td>Станислав</td>\n",
       "      <td>31</td>\n",
       "      <td>Омск</td>\n",
       "      <td>ultra</td>\n",
       "      <td>3105.086678</td>\n",
       "      <td>24.307514</td>\n",
       "      <td>2021-03-15</td>\n",
       "      <td>3</td>\n",
       "      <td>6</td>\n",
       "      <td>0</td>\n",
       "      <td>199</td>\n",
       "    </tr>\n",
       "    <tr>\n",
       "      <th>13</th>\n",
       "      <td>2</td>\n",
       "      <td>Станислав</td>\n",
       "      <td>31</td>\n",
       "      <td>Омск</td>\n",
       "      <td>ultra</td>\n",
       "      <td>3053.519401</td>\n",
       "      <td>11.543256</td>\n",
       "      <td>2021-03-18</td>\n",
       "      <td>3</td>\n",
       "      <td>6</td>\n",
       "      <td>0</td>\n",
       "      <td>199</td>\n",
       "    </tr>\n",
       "    <tr>\n",
       "      <th>14</th>\n",
       "      <td>2</td>\n",
       "      <td>Станислав</td>\n",
       "      <td>31</td>\n",
       "      <td>Омск</td>\n",
       "      <td>ultra</td>\n",
       "      <td>4029.116927</td>\n",
       "      <td>25.109188</td>\n",
       "      <td>2021-03-23</td>\n",
       "      <td>3</td>\n",
       "      <td>6</td>\n",
       "      <td>0</td>\n",
       "      <td>199</td>\n",
       "    </tr>\n",
       "    <tr>\n",
       "      <th>15</th>\n",
       "      <td>2</td>\n",
       "      <td>Станислав</td>\n",
       "      <td>31</td>\n",
       "      <td>Омск</td>\n",
       "      <td>ultra</td>\n",
       "      <td>2805.786329</td>\n",
       "      <td>20.652145</td>\n",
       "      <td>2021-04-08</td>\n",
       "      <td>4</td>\n",
       "      <td>6</td>\n",
       "      <td>0</td>\n",
       "      <td>199</td>\n",
       "    </tr>\n",
       "    <tr>\n",
       "      <th>16</th>\n",
       "      <td>2</td>\n",
       "      <td>Станислав</td>\n",
       "      <td>31</td>\n",
       "      <td>Омск</td>\n",
       "      <td>ultra</td>\n",
       "      <td>3358.595495</td>\n",
       "      <td>18.396489</td>\n",
       "      <td>2021-04-13</td>\n",
       "      <td>4</td>\n",
       "      <td>6</td>\n",
       "      <td>0</td>\n",
       "      <td>199</td>\n",
       "    </tr>\n",
       "    <tr>\n",
       "      <th>17</th>\n",
       "      <td>2</td>\n",
       "      <td>Станислав</td>\n",
       "      <td>31</td>\n",
       "      <td>Омск</td>\n",
       "      <td>ultra</td>\n",
       "      <td>3255.338202</td>\n",
       "      <td>13.851127</td>\n",
       "      <td>2021-06-20</td>\n",
       "      <td>6</td>\n",
       "      <td>6</td>\n",
       "      <td>0</td>\n",
       "      <td>199</td>\n",
       "    </tr>\n",
       "    <tr>\n",
       "      <th>18</th>\n",
       "      <td>2</td>\n",
       "      <td>Станислав</td>\n",
       "      <td>31</td>\n",
       "      <td>Омск</td>\n",
       "      <td>ultra</td>\n",
       "      <td>3942.817648</td>\n",
       "      <td>20.142725</td>\n",
       "      <td>2021-07-02</td>\n",
       "      <td>7</td>\n",
       "      <td>6</td>\n",
       "      <td>0</td>\n",
       "      <td>199</td>\n",
       "    </tr>\n",
       "    <tr>\n",
       "      <th>19</th>\n",
       "      <td>2</td>\n",
       "      <td>Станислав</td>\n",
       "      <td>31</td>\n",
       "      <td>Омск</td>\n",
       "      <td>ultra</td>\n",
       "      <td>2837.905316</td>\n",
       "      <td>26.027432</td>\n",
       "      <td>2021-07-18</td>\n",
       "      <td>7</td>\n",
       "      <td>6</td>\n",
       "      <td>0</td>\n",
       "      <td>199</td>\n",
       "    </tr>\n",
       "  </tbody>\n",
       "</table>\n",
       "</div>"
      ],
      "text/plain": [
       "    user_id       name  age    city subscription_type     distance   duration  \\\n",
       "0         1       Кира   22  Тюмень             ultra  4409.919140  25.599769   \n",
       "1         1       Кира   22  Тюмень             ultra  2617.592153  15.816871   \n",
       "2         1       Кира   22  Тюмень             ultra   754.159807   6.232113   \n",
       "3         1       Кира   22  Тюмень             ultra  2694.783254  18.511000   \n",
       "4         1       Кира   22  Тюмень             ultra  4028.687306  26.265803   \n",
       "5         1       Кира   22  Тюмень             ultra  2770.890808  16.650138   \n",
       "6         1       Кира   22  Тюмень             ultra  3039.020292  14.927879   \n",
       "7         1       Кира   22  Тюмень             ultra  2842.118050  23.117468   \n",
       "8         1       Кира   22  Тюмень             ultra  3412.690668  15.238072   \n",
       "9         1       Кира   22  Тюмень             ultra   748.690645  15.041884   \n",
       "10        1       Кира   22  Тюмень             ultra  4031.020195  17.674448   \n",
       "11        1       Кира   22  Тюмень             ultra  2720.609748   9.529463   \n",
       "12        2  Станислав   31    Омск             ultra  3105.086678  24.307514   \n",
       "13        2  Станислав   31    Омск             ultra  3053.519401  11.543256   \n",
       "14        2  Станислав   31    Омск             ultra  4029.116927  25.109188   \n",
       "15        2  Станислав   31    Омск             ultra  2805.786329  20.652145   \n",
       "16        2  Станислав   31    Омск             ultra  3358.595495  18.396489   \n",
       "17        2  Станислав   31    Омск             ultra  3255.338202  13.851127   \n",
       "18        2  Станислав   31    Омск             ultra  3942.817648  20.142725   \n",
       "19        2  Станислав   31    Омск             ultra  2837.905316  26.027432   \n",
       "\n",
       "         date  month  minute_price  start_ride_price  subscription_fee  \n",
       "0  2021-01-01      1             6                 0               199  \n",
       "1  2021-01-18      1             6                 0               199  \n",
       "2  2021-04-20      4             6                 0               199  \n",
       "3  2021-08-11      8             6                 0               199  \n",
       "4  2021-08-28      8             6                 0               199  \n",
       "5  2021-10-09     10             6                 0               199  \n",
       "6  2021-10-19     10             6                 0               199  \n",
       "7  2021-11-06     11             6                 0               199  \n",
       "8  2021-11-14     11             6                 0               199  \n",
       "9  2021-11-22     11             6                 0               199  \n",
       "10 2021-12-14     12             6                 0               199  \n",
       "11 2021-12-22     12             6                 0               199  \n",
       "12 2021-03-15      3             6                 0               199  \n",
       "13 2021-03-18      3             6                 0               199  \n",
       "14 2021-03-23      3             6                 0               199  \n",
       "15 2021-04-08      4             6                 0               199  \n",
       "16 2021-04-13      4             6                 0               199  \n",
       "17 2021-06-20      6             6                 0               199  \n",
       "18 2021-07-02      7             6                 0               199  \n",
       "19 2021-07-18      7             6                 0               199  "
      ]
     },
     "execution_count": 31,
     "metadata": {},
     "output_type": "execute_result"
    }
   ],
   "source": [
    "df_ultra = df.query('subscription_type == \"ultra\"')\n",
    "df_ultra.head(20)"
   ]
  },
  {
   "cell_type": "markdown",
   "id": "e4aa66dc",
   "metadata": {},
   "source": [
    "Датафреймы по типу подписки пользователей созданы."
   ]
  },
  {
   "cell_type": "code",
   "execution_count": 32,
   "id": "4281aed8",
   "metadata": {},
   "outputs": [
    {
     "data": {
      "image/png": "[encoded data removed]",
      "text/plain": [
       "<Figure size 432x288 with 1 Axes>"
      ]
     },
     "metadata": {
      "needs_background": "light"
     },
     "output_type": "display_data"
    }
   ],
   "source": [
    "df_free['duration'].hist(bins=30);"
   ]
  },
  {
   "cell_type": "code",
   "execution_count": 33,
   "id": "a49e36ef",
   "metadata": {},
   "outputs": [
    {
     "data": {
      "text/plain": [
       "count    11568.000000\n",
       "mean        17.390909\n",
       "std          6.326803\n",
       "min          0.500000\n",
       "25%         12.958437\n",
       "50%         17.326890\n",
       "75%         21.594071\n",
       "max         34.948498\n",
       "Name: duration, dtype: float64"
      ]
     },
     "execution_count": 33,
     "metadata": {},
     "output_type": "execute_result"
    }
   ],
   "source": [
    "df_free['duration'].describe()"
   ]
  },
  {
   "cell_type": "code",
   "execution_count": 34,
   "id": "0fce11e7",
   "metadata": {},
   "outputs": [
    {
     "data": {
      "image/png": "[encoded data removed]",
      "text/plain": [
       "<Figure size 432x288 with 1 Axes>"
      ]
     },
     "metadata": {
      "needs_background": "light"
     },
     "output_type": "display_data"
    }
   ],
   "source": [
    "df_free['distance'].hist(bins=30);"
   ]
  },
  {
   "cell_type": "code",
   "execution_count": 35,
   "id": "0ccd94a5",
   "metadata": {},
   "outputs": [
    {
     "data": {
      "text/plain": [
       "count    11568.000000\n",
       "mean      3045.495282\n",
       "std       1246.173806\n",
       "min          0.855683\n",
       "25%       2366.562689\n",
       "50%       3114.648465\n",
       "75%       3905.697894\n",
       "max       7211.007745\n",
       "Name: distance, dtype: float64"
      ]
     },
     "execution_count": 35,
     "metadata": {},
     "output_type": "execute_result"
    }
   ],
   "source": [
    "df_free['distance'].describe()"
   ]
  },
  {
   "cell_type": "code",
   "execution_count": 36,
   "id": "ce2f84e5",
   "metadata": {},
   "outputs": [
    {
     "data": {
      "image/png": "[encoded data removed]",
      "text/plain": [
       "<Figure size 432x288 with 1 Axes>"
      ]
     },
     "metadata": {
      "needs_background": "light"
     },
     "output_type": "display_data"
    }
   ],
   "source": [
    "df_ultra['duration'].hist(bins=30);"
   ]
  },
  {
   "cell_type": "code",
   "execution_count": 37,
   "id": "b6380b8a",
   "metadata": {},
   "outputs": [
    {
     "data": {
      "text/plain": [
       "count    6500.000000\n",
       "mean       18.541985\n",
       "std         5.572048\n",
       "min         3.760353\n",
       "25%        14.524654\n",
       "50%        18.178153\n",
       "75%        21.884129\n",
       "max        40.823963\n",
       "Name: duration, dtype: float64"
      ]
     },
     "execution_count": 37,
     "metadata": {},
     "output_type": "execute_result"
    }
   ],
   "source": [
    "df_ultra['duration'].describe()"
   ]
  },
  {
   "cell_type": "code",
   "execution_count": 38,
   "id": "275fa3a0",
   "metadata": {},
   "outputs": [
    {
     "data": {
      "image/png": "[encoded data removed]",
      "text/plain": [
       "<Figure size 432x288 with 1 Axes>"
      ]
     },
     "metadata": {
      "needs_background": "light"
     },
     "output_type": "display_data"
    }
   ],
   "source": [
    "df_ultra['distance'].hist(bins=30);"
   ]
  },
  {
   "cell_type": "code",
   "execution_count": 39,
   "id": "eae785ef",
   "metadata": {},
   "outputs": [
    {
     "data": {
      "text/plain": [
       "count    6500.000000\n",
       "mean     3115.445388\n",
       "std       836.895330\n",
       "min       244.210438\n",
       "25%      2785.444017\n",
       "50%      3148.637229\n",
       "75%      3560.574425\n",
       "max      5699.769662\n",
       "Name: distance, dtype: float64"
      ]
     },
     "execution_count": 39,
     "metadata": {},
     "output_type": "execute_result"
    }
   ],
   "source": [
    "df_ultra['distance'].describe()"
   ]
  },
  {
   "cell_type": "markdown",
   "id": "f5a48eed",
   "metadata": {},
   "source": [
    "Cреднее время поездки у пользователей без платной подписки 17.4 минут, медианное - 17.3. У платных подписчиков среднее 18.5, медианное 18.2. Средняя дистанции у бесплатных - 3045 метров, медианная - 3114. У платных средняя 3114, медианная 3148.  Разница между ними не так и велика!"
   ]
  },
  {
   "cell_type": "markdown",
   "id": "6c714a1f",
   "metadata": {},
   "source": [
    "Общий вывод по объединению данных.  \n",
    "1. Создан общий датафрейм df состоящий из 3 изначальных датафреймов users, rides, subscriptions.  \n",
    "2. На его основе создано 2 дата фрейма для платных и бесплатных пользователей.  \n",
    "3. Для двух этих датафреймов построены гистограммы и вычислены средниеи медианные значиние, а именно:  \n",
    "Cреднее время поездки у пользователей без платной подписки 17.4 минут, медианное - 17.3. У платных подписчиков среднее 18.5, медианное 18.2. Средняя дистанции у бесплатных - 3045 метров, медианная - 3114. У платных средняя 3114, медианная 3148."
   ]
  },
  {
   "cell_type": "markdown",
   "id": "402d620f",
   "metadata": {},
   "source": [
    "#### Шаг 5. Подсчёт выручки"
   ]
  },
  {
   "cell_type": "code",
   "execution_count": 40,
   "id": "5ffe0db3",
   "metadata": {},
   "outputs": [],
   "source": [
    "df['duration'] = np.ceil(df['duration'])\n",
    "#Округлим все минуты поездок в большую сторону, для корректных рассчетов"
   ]
  },
  {
   "cell_type": "code",
   "execution_count": 41,
   "id": "53049e0a",
   "metadata": {},
   "outputs": [
    {
     "data": {
      "text/html": [
       "<div>\n",
       "<style scoped>\n",
       "    .dataframe tbody tr th:only-of-type {\n",
       "        vertical-align: middle;\n",
       "    }\n",
       "\n",
       "    .dataframe tbody tr th {\n",
       "        vertical-align: top;\n",
       "    }\n",
       "\n",
       "    .dataframe thead th {\n",
       "        text-align: right;\n",
       "    }\n",
       "</style>\n",
       "<table border=\"1\" class=\"dataframe\">\n",
       "  <thead>\n",
       "    <tr style=\"text-align: right;\">\n",
       "      <th></th>\n",
       "      <th></th>\n",
       "      <th>duration_per_month</th>\n",
       "    </tr>\n",
       "    <tr>\n",
       "      <th>user_id</th>\n",
       "      <th>month</th>\n",
       "      <th></th>\n",
       "    </tr>\n",
       "  </thead>\n",
       "  <tbody>\n",
       "    <tr>\n",
       "      <th rowspan=\"6\" valign=\"top\">1</th>\n",
       "      <th>1</th>\n",
       "      <td>42.0</td>\n",
       "    </tr>\n",
       "    <tr>\n",
       "      <th>4</th>\n",
       "      <td>7.0</td>\n",
       "    </tr>\n",
       "    <tr>\n",
       "      <th>8</th>\n",
       "      <td>46.0</td>\n",
       "    </tr>\n",
       "    <tr>\n",
       "      <th>10</th>\n",
       "      <td>32.0</td>\n",
       "    </tr>\n",
       "    <tr>\n",
       "      <th>11</th>\n",
       "      <td>56.0</td>\n",
       "    </tr>\n",
       "    <tr>\n",
       "      <th>12</th>\n",
       "      <td>28.0</td>\n",
       "    </tr>\n",
       "    <tr>\n",
       "      <th rowspan=\"4\" valign=\"top\">2</th>\n",
       "      <th>3</th>\n",
       "      <td>63.0</td>\n",
       "    </tr>\n",
       "    <tr>\n",
       "      <th>4</th>\n",
       "      <td>40.0</td>\n",
       "    </tr>\n",
       "    <tr>\n",
       "      <th>6</th>\n",
       "      <td>14.0</td>\n",
       "    </tr>\n",
       "    <tr>\n",
       "      <th>7</th>\n",
       "      <td>48.0</td>\n",
       "    </tr>\n",
       "  </tbody>\n",
       "</table>\n",
       "</div>"
      ],
      "text/plain": [
       "               duration_per_month\n",
       "user_id month                    \n",
       "1       1                    42.0\n",
       "        4                     7.0\n",
       "        8                    46.0\n",
       "        10                   32.0\n",
       "        11                   56.0\n",
       "        12                   28.0\n",
       "2       3                    63.0\n",
       "        4                    40.0\n",
       "        6                    14.0\n",
       "        7                    48.0"
      ]
     },
     "execution_count": 41,
     "metadata": {},
     "output_type": "execute_result"
    }
   ],
   "source": [
    "duration_per_month = df.groupby(['user_id', 'month']).agg(duration_per_month=('duration', 'sum'))\n",
    "duration_per_month.head(10)"
   ]
  },
  {
   "cell_type": "code",
   "execution_count": 42,
   "id": "32175abd",
   "metadata": {},
   "outputs": [
    {
     "data": {
      "text/html": [
       "<div>\n",
       "<style scoped>\n",
       "    .dataframe tbody tr th:only-of-type {\n",
       "        vertical-align: middle;\n",
       "    }\n",
       "\n",
       "    .dataframe tbody tr th {\n",
       "        vertical-align: top;\n",
       "    }\n",
       "\n",
       "    .dataframe thead th {\n",
       "        text-align: right;\n",
       "    }\n",
       "</style>\n",
       "<table border=\"1\" class=\"dataframe\">\n",
       "  <thead>\n",
       "    <tr style=\"text-align: right;\">\n",
       "      <th></th>\n",
       "      <th></th>\n",
       "      <th>distance_per_month</th>\n",
       "    </tr>\n",
       "    <tr>\n",
       "      <th>user_id</th>\n",
       "      <th>month</th>\n",
       "      <th></th>\n",
       "    </tr>\n",
       "  </thead>\n",
       "  <tbody>\n",
       "    <tr>\n",
       "      <th rowspan=\"6\" valign=\"top\">1</th>\n",
       "      <th>1</th>\n",
       "      <td>7027.511294</td>\n",
       "    </tr>\n",
       "    <tr>\n",
       "      <th>4</th>\n",
       "      <td>754.159807</td>\n",
       "    </tr>\n",
       "    <tr>\n",
       "      <th>8</th>\n",
       "      <td>6723.470560</td>\n",
       "    </tr>\n",
       "    <tr>\n",
       "      <th>10</th>\n",
       "      <td>5809.911100</td>\n",
       "    </tr>\n",
       "    <tr>\n",
       "      <th>11</th>\n",
       "      <td>7003.499363</td>\n",
       "    </tr>\n",
       "    <tr>\n",
       "      <th>12</th>\n",
       "      <td>6751.629942</td>\n",
       "    </tr>\n",
       "    <tr>\n",
       "      <th rowspan=\"4\" valign=\"top\">2</th>\n",
       "      <th>3</th>\n",
       "      <td>10187.723006</td>\n",
       "    </tr>\n",
       "    <tr>\n",
       "      <th>4</th>\n",
       "      <td>6164.381824</td>\n",
       "    </tr>\n",
       "    <tr>\n",
       "      <th>6</th>\n",
       "      <td>3255.338202</td>\n",
       "    </tr>\n",
       "    <tr>\n",
       "      <th>7</th>\n",
       "      <td>6780.722964</td>\n",
       "    </tr>\n",
       "  </tbody>\n",
       "</table>\n",
       "</div>"
      ],
      "text/plain": [
       "               distance_per_month\n",
       "user_id month                    \n",
       "1       1             7027.511294\n",
       "        4              754.159807\n",
       "        8             6723.470560\n",
       "        10            5809.911100\n",
       "        11            7003.499363\n",
       "        12            6751.629942\n",
       "2       3            10187.723006\n",
       "        4             6164.381824\n",
       "        6             3255.338202\n",
       "        7             6780.722964"
      ]
     },
     "execution_count": 42,
     "metadata": {},
     "output_type": "execute_result"
    }
   ],
   "source": [
    "distance_per_month = df.groupby(['user_id', 'month']).agg(distance_per_month=('distance', 'sum'))\n",
    "distance_per_month.head(10)"
   ]
  },
  {
   "cell_type": "code",
   "execution_count": 43,
   "id": "453910c1",
   "metadata": {},
   "outputs": [
    {
     "data": {
      "text/html": [
       "<div>\n",
       "<style scoped>\n",
       "    .dataframe tbody tr th:only-of-type {\n",
       "        vertical-align: middle;\n",
       "    }\n",
       "\n",
       "    .dataframe tbody tr th {\n",
       "        vertical-align: top;\n",
       "    }\n",
       "\n",
       "    .dataframe thead th {\n",
       "        text-align: right;\n",
       "    }\n",
       "</style>\n",
       "<table border=\"1\" class=\"dataframe\">\n",
       "  <thead>\n",
       "    <tr style=\"text-align: right;\">\n",
       "      <th></th>\n",
       "      <th></th>\n",
       "      <th>count_per_month</th>\n",
       "    </tr>\n",
       "    <tr>\n",
       "      <th>user_id</th>\n",
       "      <th>month</th>\n",
       "      <th></th>\n",
       "    </tr>\n",
       "  </thead>\n",
       "  <tbody>\n",
       "    <tr>\n",
       "      <th rowspan=\"6\" valign=\"top\">1</th>\n",
       "      <th>1</th>\n",
       "      <td>2</td>\n",
       "    </tr>\n",
       "    <tr>\n",
       "      <th>4</th>\n",
       "      <td>1</td>\n",
       "    </tr>\n",
       "    <tr>\n",
       "      <th>8</th>\n",
       "      <td>2</td>\n",
       "    </tr>\n",
       "    <tr>\n",
       "      <th>10</th>\n",
       "      <td>2</td>\n",
       "    </tr>\n",
       "    <tr>\n",
       "      <th>11</th>\n",
       "      <td>3</td>\n",
       "    </tr>\n",
       "    <tr>\n",
       "      <th>12</th>\n",
       "      <td>2</td>\n",
       "    </tr>\n",
       "    <tr>\n",
       "      <th rowspan=\"4\" valign=\"top\">2</th>\n",
       "      <th>3</th>\n",
       "      <td>3</td>\n",
       "    </tr>\n",
       "    <tr>\n",
       "      <th>4</th>\n",
       "      <td>2</td>\n",
       "    </tr>\n",
       "    <tr>\n",
       "      <th>6</th>\n",
       "      <td>1</td>\n",
       "    </tr>\n",
       "    <tr>\n",
       "      <th>7</th>\n",
       "      <td>2</td>\n",
       "    </tr>\n",
       "  </tbody>\n",
       "</table>\n",
       "</div>"
      ],
      "text/plain": [
       "               count_per_month\n",
       "user_id month                 \n",
       "1       1                    2\n",
       "        4                    1\n",
       "        8                    2\n",
       "        10                   2\n",
       "        11                   3\n",
       "        12                   2\n",
       "2       3                    3\n",
       "        4                    2\n",
       "        6                    1\n",
       "        7                    2"
      ]
     },
     "execution_count": 43,
     "metadata": {},
     "output_type": "execute_result"
    }
   ],
   "source": [
    "count_per_month = df.groupby(['user_id', 'month']).agg(count_per_month=('distance', 'count'))\n",
    "count_per_month.head(10)"
   ]
  },
  {
   "cell_type": "code",
   "execution_count": 44,
   "id": "4b15f847",
   "metadata": {},
   "outputs": [
    {
     "data": {
      "text/html": [
       "<div>\n",
       "<style scoped>\n",
       "    .dataframe tbody tr th:only-of-type {\n",
       "        vertical-align: middle;\n",
       "    }\n",
       "\n",
       "    .dataframe tbody tr th {\n",
       "        vertical-align: top;\n",
       "    }\n",
       "\n",
       "    .dataframe thead th {\n",
       "        text-align: right;\n",
       "    }\n",
       "</style>\n",
       "<table border=\"1\" class=\"dataframe\">\n",
       "  <thead>\n",
       "    <tr style=\"text-align: right;\">\n",
       "      <th></th>\n",
       "      <th>user_id</th>\n",
       "      <th>month</th>\n",
       "      <th>count_per_month</th>\n",
       "      <th>distance_per_month</th>\n",
       "      <th>duration_per_month</th>\n",
       "      <th>name</th>\n",
       "      <th>age</th>\n",
       "      <th>city</th>\n",
       "      <th>subscription_type</th>\n",
       "      <th>minute_price</th>\n",
       "      <th>start_ride_price</th>\n",
       "      <th>subscription_fee</th>\n",
       "    </tr>\n",
       "  </thead>\n",
       "  <tbody>\n",
       "    <tr>\n",
       "      <th>0</th>\n",
       "      <td>1</td>\n",
       "      <td>1</td>\n",
       "      <td>2</td>\n",
       "      <td>7027.511294</td>\n",
       "      <td>42.0</td>\n",
       "      <td>Кира</td>\n",
       "      <td>22</td>\n",
       "      <td>Тюмень</td>\n",
       "      <td>ultra</td>\n",
       "      <td>6</td>\n",
       "      <td>0</td>\n",
       "      <td>199</td>\n",
       "    </tr>\n",
       "    <tr>\n",
       "      <th>1</th>\n",
       "      <td>1</td>\n",
       "      <td>4</td>\n",
       "      <td>1</td>\n",
       "      <td>754.159807</td>\n",
       "      <td>7.0</td>\n",
       "      <td>Кира</td>\n",
       "      <td>22</td>\n",
       "      <td>Тюмень</td>\n",
       "      <td>ultra</td>\n",
       "      <td>6</td>\n",
       "      <td>0</td>\n",
       "      <td>199</td>\n",
       "    </tr>\n",
       "    <tr>\n",
       "      <th>2</th>\n",
       "      <td>1</td>\n",
       "      <td>8</td>\n",
       "      <td>2</td>\n",
       "      <td>6723.470560</td>\n",
       "      <td>46.0</td>\n",
       "      <td>Кира</td>\n",
       "      <td>22</td>\n",
       "      <td>Тюмень</td>\n",
       "      <td>ultra</td>\n",
       "      <td>6</td>\n",
       "      <td>0</td>\n",
       "      <td>199</td>\n",
       "    </tr>\n",
       "    <tr>\n",
       "      <th>3</th>\n",
       "      <td>1</td>\n",
       "      <td>10</td>\n",
       "      <td>2</td>\n",
       "      <td>5809.911100</td>\n",
       "      <td>32.0</td>\n",
       "      <td>Кира</td>\n",
       "      <td>22</td>\n",
       "      <td>Тюмень</td>\n",
       "      <td>ultra</td>\n",
       "      <td>6</td>\n",
       "      <td>0</td>\n",
       "      <td>199</td>\n",
       "    </tr>\n",
       "    <tr>\n",
       "      <th>4</th>\n",
       "      <td>1</td>\n",
       "      <td>11</td>\n",
       "      <td>3</td>\n",
       "      <td>7003.499363</td>\n",
       "      <td>56.0</td>\n",
       "      <td>Кира</td>\n",
       "      <td>22</td>\n",
       "      <td>Тюмень</td>\n",
       "      <td>ultra</td>\n",
       "      <td>6</td>\n",
       "      <td>0</td>\n",
       "      <td>199</td>\n",
       "    </tr>\n",
       "    <tr>\n",
       "      <th>5</th>\n",
       "      <td>1</td>\n",
       "      <td>12</td>\n",
       "      <td>2</td>\n",
       "      <td>6751.629942</td>\n",
       "      <td>28.0</td>\n",
       "      <td>Кира</td>\n",
       "      <td>22</td>\n",
       "      <td>Тюмень</td>\n",
       "      <td>ultra</td>\n",
       "      <td>6</td>\n",
       "      <td>0</td>\n",
       "      <td>199</td>\n",
       "    </tr>\n",
       "    <tr>\n",
       "      <th>6</th>\n",
       "      <td>2</td>\n",
       "      <td>3</td>\n",
       "      <td>3</td>\n",
       "      <td>10187.723006</td>\n",
       "      <td>63.0</td>\n",
       "      <td>Станислав</td>\n",
       "      <td>31</td>\n",
       "      <td>Омск</td>\n",
       "      <td>ultra</td>\n",
       "      <td>6</td>\n",
       "      <td>0</td>\n",
       "      <td>199</td>\n",
       "    </tr>\n",
       "    <tr>\n",
       "      <th>7</th>\n",
       "      <td>2</td>\n",
       "      <td>4</td>\n",
       "      <td>2</td>\n",
       "      <td>6164.381824</td>\n",
       "      <td>40.0</td>\n",
       "      <td>Станислав</td>\n",
       "      <td>31</td>\n",
       "      <td>Омск</td>\n",
       "      <td>ultra</td>\n",
       "      <td>6</td>\n",
       "      <td>0</td>\n",
       "      <td>199</td>\n",
       "    </tr>\n",
       "    <tr>\n",
       "      <th>8</th>\n",
       "      <td>2</td>\n",
       "      <td>6</td>\n",
       "      <td>1</td>\n",
       "      <td>3255.338202</td>\n",
       "      <td>14.0</td>\n",
       "      <td>Станислав</td>\n",
       "      <td>31</td>\n",
       "      <td>Омск</td>\n",
       "      <td>ultra</td>\n",
       "      <td>6</td>\n",
       "      <td>0</td>\n",
       "      <td>199</td>\n",
       "    </tr>\n",
       "    <tr>\n",
       "      <th>9</th>\n",
       "      <td>2</td>\n",
       "      <td>7</td>\n",
       "      <td>2</td>\n",
       "      <td>6780.722964</td>\n",
       "      <td>48.0</td>\n",
       "      <td>Станислав</td>\n",
       "      <td>31</td>\n",
       "      <td>Омск</td>\n",
       "      <td>ultra</td>\n",
       "      <td>6</td>\n",
       "      <td>0</td>\n",
       "      <td>199</td>\n",
       "    </tr>\n",
       "    <tr>\n",
       "      <th>10</th>\n",
       "      <td>2</td>\n",
       "      <td>8</td>\n",
       "      <td>1</td>\n",
       "      <td>923.007439</td>\n",
       "      <td>7.0</td>\n",
       "      <td>Станислав</td>\n",
       "      <td>31</td>\n",
       "      <td>Омск</td>\n",
       "      <td>ultra</td>\n",
       "      <td>6</td>\n",
       "      <td>0</td>\n",
       "      <td>199</td>\n",
       "    </tr>\n",
       "    <tr>\n",
       "      <th>11</th>\n",
       "      <td>2</td>\n",
       "      <td>10</td>\n",
       "      <td>1</td>\n",
       "      <td>2824.636598</td>\n",
       "      <td>19.0</td>\n",
       "      <td>Станислав</td>\n",
       "      <td>31</td>\n",
       "      <td>Омск</td>\n",
       "      <td>ultra</td>\n",
       "      <td>6</td>\n",
       "      <td>0</td>\n",
       "      <td>199</td>\n",
       "    </tr>\n",
       "    <tr>\n",
       "      <th>12</th>\n",
       "      <td>2</td>\n",
       "      <td>12</td>\n",
       "      <td>1</td>\n",
       "      <td>3828.248580</td>\n",
       "      <td>12.0</td>\n",
       "      <td>Станислав</td>\n",
       "      <td>31</td>\n",
       "      <td>Омск</td>\n",
       "      <td>ultra</td>\n",
       "      <td>6</td>\n",
       "      <td>0</td>\n",
       "      <td>199</td>\n",
       "    </tr>\n",
       "    <tr>\n",
       "      <th>13</th>\n",
       "      <td>3</td>\n",
       "      <td>1</td>\n",
       "      <td>1</td>\n",
       "      <td>3061.777147</td>\n",
       "      <td>13.0</td>\n",
       "      <td>Алексей</td>\n",
       "      <td>20</td>\n",
       "      <td>Москва</td>\n",
       "      <td>ultra</td>\n",
       "      <td>6</td>\n",
       "      <td>0</td>\n",
       "      <td>199</td>\n",
       "    </tr>\n",
       "    <tr>\n",
       "      <th>14</th>\n",
       "      <td>3</td>\n",
       "      <td>2</td>\n",
       "      <td>2</td>\n",
       "      <td>5421.152016</td>\n",
       "      <td>39.0</td>\n",
       "      <td>Алексей</td>\n",
       "      <td>20</td>\n",
       "      <td>Москва</td>\n",
       "      <td>ultra</td>\n",
       "      <td>6</td>\n",
       "      <td>0</td>\n",
       "      <td>199</td>\n",
       "    </tr>\n",
       "    <tr>\n",
       "      <th>15</th>\n",
       "      <td>3</td>\n",
       "      <td>4</td>\n",
       "      <td>1</td>\n",
       "      <td>2956.651632</td>\n",
       "      <td>21.0</td>\n",
       "      <td>Алексей</td>\n",
       "      <td>20</td>\n",
       "      <td>Москва</td>\n",
       "      <td>ultra</td>\n",
       "      <td>6</td>\n",
       "      <td>0</td>\n",
       "      <td>199</td>\n",
       "    </tr>\n",
       "    <tr>\n",
       "      <th>16</th>\n",
       "      <td>3</td>\n",
       "      <td>5</td>\n",
       "      <td>3</td>\n",
       "      <td>9064.026918</td>\n",
       "      <td>63.0</td>\n",
       "      <td>Алексей</td>\n",
       "      <td>20</td>\n",
       "      <td>Москва</td>\n",
       "      <td>ultra</td>\n",
       "      <td>6</td>\n",
       "      <td>0</td>\n",
       "      <td>199</td>\n",
       "    </tr>\n",
       "    <tr>\n",
       "      <th>17</th>\n",
       "      <td>3</td>\n",
       "      <td>7</td>\n",
       "      <td>3</td>\n",
       "      <td>10919.595403</td>\n",
       "      <td>67.0</td>\n",
       "      <td>Алексей</td>\n",
       "      <td>20</td>\n",
       "      <td>Москва</td>\n",
       "      <td>ultra</td>\n",
       "      <td>6</td>\n",
       "      <td>0</td>\n",
       "      <td>199</td>\n",
       "    </tr>\n",
       "    <tr>\n",
       "      <th>18</th>\n",
       "      <td>3</td>\n",
       "      <td>9</td>\n",
       "      <td>1</td>\n",
       "      <td>2891.012822</td>\n",
       "      <td>23.0</td>\n",
       "      <td>Алексей</td>\n",
       "      <td>20</td>\n",
       "      <td>Москва</td>\n",
       "      <td>ultra</td>\n",
       "      <td>6</td>\n",
       "      <td>0</td>\n",
       "      <td>199</td>\n",
       "    </tr>\n",
       "    <tr>\n",
       "      <th>19</th>\n",
       "      <td>3</td>\n",
       "      <td>12</td>\n",
       "      <td>1</td>\n",
       "      <td>2593.381928</td>\n",
       "      <td>13.0</td>\n",
       "      <td>Алексей</td>\n",
       "      <td>20</td>\n",
       "      <td>Москва</td>\n",
       "      <td>ultra</td>\n",
       "      <td>6</td>\n",
       "      <td>0</td>\n",
       "      <td>199</td>\n",
       "    </tr>\n",
       "  </tbody>\n",
       "</table>\n",
       "</div>"
      ],
      "text/plain": [
       "    user_id  month  count_per_month  distance_per_month  duration_per_month  \\\n",
       "0         1      1                2         7027.511294                42.0   \n",
       "1         1      4                1          754.159807                 7.0   \n",
       "2         1      8                2         6723.470560                46.0   \n",
       "3         1     10                2         5809.911100                32.0   \n",
       "4         1     11                3         7003.499363                56.0   \n",
       "5         1     12                2         6751.629942                28.0   \n",
       "6         2      3                3        10187.723006                63.0   \n",
       "7         2      4                2         6164.381824                40.0   \n",
       "8         2      6                1         3255.338202                14.0   \n",
       "9         2      7                2         6780.722964                48.0   \n",
       "10        2      8                1          923.007439                 7.0   \n",
       "11        2     10                1         2824.636598                19.0   \n",
       "12        2     12                1         3828.248580                12.0   \n",
       "13        3      1                1         3061.777147                13.0   \n",
       "14        3      2                2         5421.152016                39.0   \n",
       "15        3      4                1         2956.651632                21.0   \n",
       "16        3      5                3         9064.026918                63.0   \n",
       "17        3      7                3        10919.595403                67.0   \n",
       "18        3      9                1         2891.012822                23.0   \n",
       "19        3     12                1         2593.381928                13.0   \n",
       "\n",
       "         name  age    city subscription_type  minute_price  start_ride_price  \\\n",
       "0        Кира   22  Тюмень             ultra             6                 0   \n",
       "1        Кира   22  Тюмень             ultra             6                 0   \n",
       "2        Кира   22  Тюмень             ultra             6                 0   \n",
       "3        Кира   22  Тюмень             ultra             6                 0   \n",
       "4        Кира   22  Тюмень             ultra             6                 0   \n",
       "5        Кира   22  Тюмень             ultra             6                 0   \n",
       "6   Станислав   31    Омск             ultra             6                 0   \n",
       "7   Станислав   31    Омск             ultra             6                 0   \n",
       "8   Станислав   31    Омск             ultra             6                 0   \n",
       "9   Станислав   31    Омск             ultra             6                 0   \n",
       "10  Станислав   31    Омск             ultra             6                 0   \n",
       "11  Станислав   31    Омск             ultra             6                 0   \n",
       "12  Станислав   31    Омск             ultra             6                 0   \n",
       "13    Алексей   20  Москва             ultra             6                 0   \n",
       "14    Алексей   20  Москва             ultra             6                 0   \n",
       "15    Алексей   20  Москва             ultra             6                 0   \n",
       "16    Алексей   20  Москва             ultra             6                 0   \n",
       "17    Алексей   20  Москва             ultra             6                 0   \n",
       "18    Алексей   20  Москва             ultra             6                 0   \n",
       "19    Алексей   20  Москва             ultra             6                 0   \n",
       "\n",
       "    subscription_fee  \n",
       "0                199  \n",
       "1                199  \n",
       "2                199  \n",
       "3                199  \n",
       "4                199  \n",
       "5                199  \n",
       "6                199  \n",
       "7                199  \n",
       "8                199  \n",
       "9                199  \n",
       "10               199  \n",
       "11               199  \n",
       "12               199  \n",
       "13               199  \n",
       "14               199  \n",
       "15               199  \n",
       "16               199  \n",
       "17               199  \n",
       "18               199  \n",
       "19               199  "
      ]
     },
     "execution_count": 44,
     "metadata": {},
     "output_type": "execute_result"
    }
   ],
   "source": [
    "df_agg = count_per_month.merge(distance_per_month, how='outer', on=['user_id', 'month'])\\\n",
    "    .merge(duration_per_month, how='outer', on=['user_id', 'month'])\\\n",
    "    .reset_index()\\\n",
    "    .merge(users, how='outer', on=['user_id'])\\\n",
    "    .merge(subscriptions, on=['subscription_type'])\n",
    "df_agg.head(20)"
   ]
  },
  {
   "cell_type": "code",
   "execution_count": 45,
   "id": "4421adec",
   "metadata": {},
   "outputs": [
    {
     "data": {
      "text/html": [
       "<div>\n",
       "<style scoped>\n",
       "    .dataframe tbody tr th:only-of-type {\n",
       "        vertical-align: middle;\n",
       "    }\n",
       "\n",
       "    .dataframe tbody tr th {\n",
       "        vertical-align: top;\n",
       "    }\n",
       "\n",
       "    .dataframe thead th {\n",
       "        text-align: right;\n",
       "    }\n",
       "</style>\n",
       "<table border=\"1\" class=\"dataframe\">\n",
       "  <thead>\n",
       "    <tr style=\"text-align: right;\">\n",
       "      <th></th>\n",
       "      <th>user_id</th>\n",
       "      <th>month</th>\n",
       "      <th>count_per_month</th>\n",
       "      <th>distance_per_month</th>\n",
       "      <th>duration_per_month</th>\n",
       "      <th>name</th>\n",
       "      <th>age</th>\n",
       "      <th>city</th>\n",
       "      <th>subscription_type</th>\n",
       "      <th>minute_price</th>\n",
       "      <th>start_ride_price</th>\n",
       "      <th>subscription_fee</th>\n",
       "      <th>earnings_per_month</th>\n",
       "    </tr>\n",
       "  </thead>\n",
       "  <tbody>\n",
       "    <tr>\n",
       "      <th>0</th>\n",
       "      <td>1</td>\n",
       "      <td>1</td>\n",
       "      <td>2</td>\n",
       "      <td>7027.511294</td>\n",
       "      <td>42.0</td>\n",
       "      <td>Кира</td>\n",
       "      <td>22</td>\n",
       "      <td>Тюмень</td>\n",
       "      <td>ultra</td>\n",
       "      <td>6</td>\n",
       "      <td>0</td>\n",
       "      <td>199</td>\n",
       "      <td>451.0</td>\n",
       "    </tr>\n",
       "    <tr>\n",
       "      <th>1</th>\n",
       "      <td>1</td>\n",
       "      <td>4</td>\n",
       "      <td>1</td>\n",
       "      <td>754.159807</td>\n",
       "      <td>7.0</td>\n",
       "      <td>Кира</td>\n",
       "      <td>22</td>\n",
       "      <td>Тюмень</td>\n",
       "      <td>ultra</td>\n",
       "      <td>6</td>\n",
       "      <td>0</td>\n",
       "      <td>199</td>\n",
       "      <td>241.0</td>\n",
       "    </tr>\n",
       "    <tr>\n",
       "      <th>2</th>\n",
       "      <td>1</td>\n",
       "      <td>8</td>\n",
       "      <td>2</td>\n",
       "      <td>6723.470560</td>\n",
       "      <td>46.0</td>\n",
       "      <td>Кира</td>\n",
       "      <td>22</td>\n",
       "      <td>Тюмень</td>\n",
       "      <td>ultra</td>\n",
       "      <td>6</td>\n",
       "      <td>0</td>\n",
       "      <td>199</td>\n",
       "      <td>475.0</td>\n",
       "    </tr>\n",
       "    <tr>\n",
       "      <th>3</th>\n",
       "      <td>1</td>\n",
       "      <td>10</td>\n",
       "      <td>2</td>\n",
       "      <td>5809.911100</td>\n",
       "      <td>32.0</td>\n",
       "      <td>Кира</td>\n",
       "      <td>22</td>\n",
       "      <td>Тюмень</td>\n",
       "      <td>ultra</td>\n",
       "      <td>6</td>\n",
       "      <td>0</td>\n",
       "      <td>199</td>\n",
       "      <td>391.0</td>\n",
       "    </tr>\n",
       "    <tr>\n",
       "      <th>4</th>\n",
       "      <td>1</td>\n",
       "      <td>11</td>\n",
       "      <td>3</td>\n",
       "      <td>7003.499363</td>\n",
       "      <td>56.0</td>\n",
       "      <td>Кира</td>\n",
       "      <td>22</td>\n",
       "      <td>Тюмень</td>\n",
       "      <td>ultra</td>\n",
       "      <td>6</td>\n",
       "      <td>0</td>\n",
       "      <td>199</td>\n",
       "      <td>535.0</td>\n",
       "    </tr>\n",
       "    <tr>\n",
       "      <th>5</th>\n",
       "      <td>1</td>\n",
       "      <td>12</td>\n",
       "      <td>2</td>\n",
       "      <td>6751.629942</td>\n",
       "      <td>28.0</td>\n",
       "      <td>Кира</td>\n",
       "      <td>22</td>\n",
       "      <td>Тюмень</td>\n",
       "      <td>ultra</td>\n",
       "      <td>6</td>\n",
       "      <td>0</td>\n",
       "      <td>199</td>\n",
       "      <td>367.0</td>\n",
       "    </tr>\n",
       "    <tr>\n",
       "      <th>6</th>\n",
       "      <td>2</td>\n",
       "      <td>3</td>\n",
       "      <td>3</td>\n",
       "      <td>10187.723006</td>\n",
       "      <td>63.0</td>\n",
       "      <td>Станислав</td>\n",
       "      <td>31</td>\n",
       "      <td>Омск</td>\n",
       "      <td>ultra</td>\n",
       "      <td>6</td>\n",
       "      <td>0</td>\n",
       "      <td>199</td>\n",
       "      <td>577.0</td>\n",
       "    </tr>\n",
       "    <tr>\n",
       "      <th>7</th>\n",
       "      <td>2</td>\n",
       "      <td>4</td>\n",
       "      <td>2</td>\n",
       "      <td>6164.381824</td>\n",
       "      <td>40.0</td>\n",
       "      <td>Станислав</td>\n",
       "      <td>31</td>\n",
       "      <td>Омск</td>\n",
       "      <td>ultra</td>\n",
       "      <td>6</td>\n",
       "      <td>0</td>\n",
       "      <td>199</td>\n",
       "      <td>439.0</td>\n",
       "    </tr>\n",
       "    <tr>\n",
       "      <th>8</th>\n",
       "      <td>2</td>\n",
       "      <td>6</td>\n",
       "      <td>1</td>\n",
       "      <td>3255.338202</td>\n",
       "      <td>14.0</td>\n",
       "      <td>Станислав</td>\n",
       "      <td>31</td>\n",
       "      <td>Омск</td>\n",
       "      <td>ultra</td>\n",
       "      <td>6</td>\n",
       "      <td>0</td>\n",
       "      <td>199</td>\n",
       "      <td>283.0</td>\n",
       "    </tr>\n",
       "    <tr>\n",
       "      <th>9</th>\n",
       "      <td>2</td>\n",
       "      <td>7</td>\n",
       "      <td>2</td>\n",
       "      <td>6780.722964</td>\n",
       "      <td>48.0</td>\n",
       "      <td>Станислав</td>\n",
       "      <td>31</td>\n",
       "      <td>Омск</td>\n",
       "      <td>ultra</td>\n",
       "      <td>6</td>\n",
       "      <td>0</td>\n",
       "      <td>199</td>\n",
       "      <td>487.0</td>\n",
       "    </tr>\n",
       "    <tr>\n",
       "      <th>10</th>\n",
       "      <td>2</td>\n",
       "      <td>8</td>\n",
       "      <td>1</td>\n",
       "      <td>923.007439</td>\n",
       "      <td>7.0</td>\n",
       "      <td>Станислав</td>\n",
       "      <td>31</td>\n",
       "      <td>Омск</td>\n",
       "      <td>ultra</td>\n",
       "      <td>6</td>\n",
       "      <td>0</td>\n",
       "      <td>199</td>\n",
       "      <td>241.0</td>\n",
       "    </tr>\n",
       "    <tr>\n",
       "      <th>11</th>\n",
       "      <td>2</td>\n",
       "      <td>10</td>\n",
       "      <td>1</td>\n",
       "      <td>2824.636598</td>\n",
       "      <td>19.0</td>\n",
       "      <td>Станислав</td>\n",
       "      <td>31</td>\n",
       "      <td>Омск</td>\n",
       "      <td>ultra</td>\n",
       "      <td>6</td>\n",
       "      <td>0</td>\n",
       "      <td>199</td>\n",
       "      <td>313.0</td>\n",
       "    </tr>\n",
       "    <tr>\n",
       "      <th>12</th>\n",
       "      <td>2</td>\n",
       "      <td>12</td>\n",
       "      <td>1</td>\n",
       "      <td>3828.248580</td>\n",
       "      <td>12.0</td>\n",
       "      <td>Станислав</td>\n",
       "      <td>31</td>\n",
       "      <td>Омск</td>\n",
       "      <td>ultra</td>\n",
       "      <td>6</td>\n",
       "      <td>0</td>\n",
       "      <td>199</td>\n",
       "      <td>271.0</td>\n",
       "    </tr>\n",
       "    <tr>\n",
       "      <th>13</th>\n",
       "      <td>3</td>\n",
       "      <td>1</td>\n",
       "      <td>1</td>\n",
       "      <td>3061.777147</td>\n",
       "      <td>13.0</td>\n",
       "      <td>Алексей</td>\n",
       "      <td>20</td>\n",
       "      <td>Москва</td>\n",
       "      <td>ultra</td>\n",
       "      <td>6</td>\n",
       "      <td>0</td>\n",
       "      <td>199</td>\n",
       "      <td>277.0</td>\n",
       "    </tr>\n",
       "    <tr>\n",
       "      <th>14</th>\n",
       "      <td>3</td>\n",
       "      <td>2</td>\n",
       "      <td>2</td>\n",
       "      <td>5421.152016</td>\n",
       "      <td>39.0</td>\n",
       "      <td>Алексей</td>\n",
       "      <td>20</td>\n",
       "      <td>Москва</td>\n",
       "      <td>ultra</td>\n",
       "      <td>6</td>\n",
       "      <td>0</td>\n",
       "      <td>199</td>\n",
       "      <td>433.0</td>\n",
       "    </tr>\n",
       "    <tr>\n",
       "      <th>15</th>\n",
       "      <td>3</td>\n",
       "      <td>4</td>\n",
       "      <td>1</td>\n",
       "      <td>2956.651632</td>\n",
       "      <td>21.0</td>\n",
       "      <td>Алексей</td>\n",
       "      <td>20</td>\n",
       "      <td>Москва</td>\n",
       "      <td>ultra</td>\n",
       "      <td>6</td>\n",
       "      <td>0</td>\n",
       "      <td>199</td>\n",
       "      <td>325.0</td>\n",
       "    </tr>\n",
       "    <tr>\n",
       "      <th>16</th>\n",
       "      <td>3</td>\n",
       "      <td>5</td>\n",
       "      <td>3</td>\n",
       "      <td>9064.026918</td>\n",
       "      <td>63.0</td>\n",
       "      <td>Алексей</td>\n",
       "      <td>20</td>\n",
       "      <td>Москва</td>\n",
       "      <td>ultra</td>\n",
       "      <td>6</td>\n",
       "      <td>0</td>\n",
       "      <td>199</td>\n",
       "      <td>577.0</td>\n",
       "    </tr>\n",
       "    <tr>\n",
       "      <th>17</th>\n",
       "      <td>3</td>\n",
       "      <td>7</td>\n",
       "      <td>3</td>\n",
       "      <td>10919.595403</td>\n",
       "      <td>67.0</td>\n",
       "      <td>Алексей</td>\n",
       "      <td>20</td>\n",
       "      <td>Москва</td>\n",
       "      <td>ultra</td>\n",
       "      <td>6</td>\n",
       "      <td>0</td>\n",
       "      <td>199</td>\n",
       "      <td>601.0</td>\n",
       "    </tr>\n",
       "    <tr>\n",
       "      <th>18</th>\n",
       "      <td>3</td>\n",
       "      <td>9</td>\n",
       "      <td>1</td>\n",
       "      <td>2891.012822</td>\n",
       "      <td>23.0</td>\n",
       "      <td>Алексей</td>\n",
       "      <td>20</td>\n",
       "      <td>Москва</td>\n",
       "      <td>ultra</td>\n",
       "      <td>6</td>\n",
       "      <td>0</td>\n",
       "      <td>199</td>\n",
       "      <td>337.0</td>\n",
       "    </tr>\n",
       "    <tr>\n",
       "      <th>19</th>\n",
       "      <td>3</td>\n",
       "      <td>12</td>\n",
       "      <td>1</td>\n",
       "      <td>2593.381928</td>\n",
       "      <td>13.0</td>\n",
       "      <td>Алексей</td>\n",
       "      <td>20</td>\n",
       "      <td>Москва</td>\n",
       "      <td>ultra</td>\n",
       "      <td>6</td>\n",
       "      <td>0</td>\n",
       "      <td>199</td>\n",
       "      <td>277.0</td>\n",
       "    </tr>\n",
       "  </tbody>\n",
       "</table>\n",
       "</div>"
      ],
      "text/plain": [
       "    user_id  month  count_per_month  distance_per_month  duration_per_month  \\\n",
       "0         1      1                2         7027.511294                42.0   \n",
       "1         1      4                1          754.159807                 7.0   \n",
       "2         1      8                2         6723.470560                46.0   \n",
       "3         1     10                2         5809.911100                32.0   \n",
       "4         1     11                3         7003.499363                56.0   \n",
       "5         1     12                2         6751.629942                28.0   \n",
       "6         2      3                3        10187.723006                63.0   \n",
       "7         2      4                2         6164.381824                40.0   \n",
       "8         2      6                1         3255.338202                14.0   \n",
       "9         2      7                2         6780.722964                48.0   \n",
       "10        2      8                1          923.007439                 7.0   \n",
       "11        2     10                1         2824.636598                19.0   \n",
       "12        2     12                1         3828.248580                12.0   \n",
       "13        3      1                1         3061.777147                13.0   \n",
       "14        3      2                2         5421.152016                39.0   \n",
       "15        3      4                1         2956.651632                21.0   \n",
       "16        3      5                3         9064.026918                63.0   \n",
       "17        3      7                3        10919.595403                67.0   \n",
       "18        3      9                1         2891.012822                23.0   \n",
       "19        3     12                1         2593.381928                13.0   \n",
       "\n",
       "         name  age    city subscription_type  minute_price  start_ride_price  \\\n",
       "0        Кира   22  Тюмень             ultra             6                 0   \n",
       "1        Кира   22  Тюмень             ultra             6                 0   \n",
       "2        Кира   22  Тюмень             ultra             6                 0   \n",
       "3        Кира   22  Тюмень             ultra             6                 0   \n",
       "4        Кира   22  Тюмень             ultra             6                 0   \n",
       "5        Кира   22  Тюмень             ultra             6                 0   \n",
       "6   Станислав   31    Омск             ultra             6                 0   \n",
       "7   Станислав   31    Омск             ultra             6                 0   \n",
       "8   Станислав   31    Омск             ultra             6                 0   \n",
       "9   Станислав   31    Омск             ultra             6                 0   \n",
       "10  Станислав   31    Омск             ultra             6                 0   \n",
       "11  Станислав   31    Омск             ultra             6                 0   \n",
       "12  Станислав   31    Омск             ultra             6                 0   \n",
       "13    Алексей   20  Москва             ultra             6                 0   \n",
       "14    Алексей   20  Москва             ultra             6                 0   \n",
       "15    Алексей   20  Москва             ultra             6                 0   \n",
       "16    Алексей   20  Москва             ultra             6                 0   \n",
       "17    Алексей   20  Москва             ultra             6                 0   \n",
       "18    Алексей   20  Москва             ultra             6                 0   \n",
       "19    Алексей   20  Москва             ultra             6                 0   \n",
       "\n",
       "    subscription_fee  earnings_per_month  \n",
       "0                199               451.0  \n",
       "1                199               241.0  \n",
       "2                199               475.0  \n",
       "3                199               391.0  \n",
       "4                199               535.0  \n",
       "5                199               367.0  \n",
       "6                199               577.0  \n",
       "7                199               439.0  \n",
       "8                199               283.0  \n",
       "9                199               487.0  \n",
       "10               199               241.0  \n",
       "11               199               313.0  \n",
       "12               199               271.0  \n",
       "13               199               277.0  \n",
       "14               199               433.0  \n",
       "15               199               325.0  \n",
       "16               199               577.0  \n",
       "17               199               601.0  \n",
       "18               199               337.0  \n",
       "19               199               277.0  "
      ]
     },
     "execution_count": 45,
     "metadata": {},
     "output_type": "execute_result"
    }
   ],
   "source": [
    "df_agg['earnings_per_month'] = df_agg['start_ride_price'] * df_agg['count_per_month'] +\\\n",
    "    df_agg['minute_price'] * df_agg['duration_per_month'] + df_agg['subscription_fee']\n",
    "df_agg.head(20)"
   ]
  },
  {
   "cell_type": "markdown",
   "id": "04a956ca",
   "metadata": {},
   "source": [
    "Дата фрейм из агрегированных данных создан, выручка за месяц посчитана."
   ]
  },
  {
   "cell_type": "markdown",
   "id": "41545ac0",
   "metadata": {},
   "source": [
    "#### Шаг 6. Проверка гипотез"
   ]
  },
  {
   "cell_type": "markdown",
   "id": "7cbb9d6f",
   "metadata": {},
   "source": [
    "Установим уровень статистической значимости 0.05"
   ]
  },
  {
   "cell_type": "code",
   "execution_count": 46,
   "id": "e8ae6063",
   "metadata": {},
   "outputs": [],
   "source": [
    "alpha = .05"
   ]
  },
  {
   "cell_type": "markdown",
   "id": "a41461a9",
   "metadata": {},
   "source": [
    "Проверяем гипотезу о времени поездки пользователей.  \n",
    "H0: Пользователи с подпиской тратят столько же времени на поездки, как и пользователи без подписки (=)  \n",
    "H1: Пользователи с подпиской тратят больше времени на поездки, чем пользователи без подписки (>)"
   ]
  },
  {
   "cell_type": "code",
   "execution_count": 47,
   "id": "95878f3c",
   "metadata": {},
   "outputs": [
    {
     "data": {
      "text/plain": [
       "1.2804098316645618e-34"
      ]
     },
     "execution_count": 47,
     "metadata": {},
     "output_type": "execute_result"
    }
   ],
   "source": [
    "ultras_duration = df_ultra['duration']\n",
    "frees_duration = df_free['duration']\n",
    "\n",
    "result_duration = st.ttest_ind(ultras_duration, frees_duration, alternative='greater')\n",
    "\n",
    "result_duration.pvalue"
   ]
  },
  {
   "cell_type": "code",
   "execution_count": 48,
   "id": "9e3dd152",
   "metadata": {
    "scrolled": true
   },
   "outputs": [
    {
     "name": "stdout",
     "output_type": "stream",
     "text": [
      "Отвергаем нулевую гипотезу\n"
     ]
    }
   ],
   "source": [
    "if result_duration.pvalue < alpha:\n",
    "    print('Отвергаем нулевую гипотезу')\n",
    "else:\n",
    "    print('Не получилось отвергнуть нулевую гипотезу')"
   ]
  },
  {
   "cell_type": "code",
   "execution_count": 49,
   "id": "2e3b5435",
   "metadata": {},
   "outputs": [
    {
     "name": "stdout",
     "output_type": "stream",
     "text": [
      "Среднее время поездки пользователей с подпиской: 18.54198516280583\n",
      "Среднее время поездки пользователей без подпиской: 17.39090929866399\n"
     ]
    }
   ],
   "source": [
    "print('Среднее время поездки пользователей с подпиской:', ultras_duration.mean())\n",
    "print('Среднее время поездки пользователей без подпиской:', frees_duration.mean())"
   ]
  },
  {
   "cell_type": "markdown",
   "id": "0388f2ee",
   "metadata": {},
   "source": [
    "Отвергаем гипотезу о том, что пользователи с подпиской тратят больше времени на поездки"
   ]
  },
  {
   "cell_type": "markdown",
   "id": "2fbb7073",
   "metadata": {},
   "source": [
    "Проверим гипотезу о том, что среднее расстояния поездки пользователей с подпиской не первышает 3130 метров.  \n",
    "H0: Среднее расстояние, которое преодолевают пользователи с подпиской равна оптимальным 3130 метрам.  \n",
    "H1: Среднее расстояние, которое преодолевают пользователи с подпиской превышает оптимальные 3130 метров.  "
   ]
  },
  {
   "cell_type": "code",
   "execution_count": 50,
   "id": "04ff438e",
   "metadata": {},
   "outputs": [
    {
     "data": {
      "text/plain": [
       "0.9195368847849785"
      ]
     },
     "execution_count": 50,
     "metadata": {},
     "output_type": "execute_result"
    }
   ],
   "source": [
    "avg_distance_value = 3130\n",
    "\n",
    "ultra_distance = df_ultra['distance']\n",
    "\n",
    "result_distance = st.ttest_1samp(ultra_distance, avg_distance_value, alternative = 'greater')\n",
    "\n",
    "result_distance.pvalue"
   ]
  },
  {
   "cell_type": "code",
   "execution_count": 51,
   "id": "f10bae86",
   "metadata": {},
   "outputs": [
    {
     "name": "stdout",
     "output_type": "stream",
     "text": [
      "Не отвергаем нулевую гипотезу\n"
     ]
    }
   ],
   "source": [
    "if (result_distance.pvalue < alpha):\n",
    "    print('Отвергаем нулевую гипотезу')\n",
    "else:\n",
    "    print('Не отвергаем нулевую гипотезу')"
   ]
  },
  {
   "cell_type": "code",
   "execution_count": 52,
   "id": "9fbd1a22",
   "metadata": {},
   "outputs": [
    {
     "name": "stdout",
     "output_type": "stream",
     "text": [
      "Средняя дальность поездки пользователей с подпиской: 3115.4453880370247\n"
     ]
    }
   ],
   "source": [
    "print('Средняя дальность поездки пользователей с подпиской:', ultra_distance.mean())"
   ]
  },
  {
   "cell_type": "markdown",
   "id": "7f8cf953",
   "metadata": {},
   "source": [
    "Не отвергаем данную гипотезу, после проверки. Подвердить мы ее так же не можем, однако можем сказать, что велика вероятность того, что средняя поездка пользователей с подпиской не превышает 3130 метров"
   ]
  },
  {
   "cell_type": "markdown",
   "id": "caa111fd",
   "metadata": {},
   "source": [
    "Проверяем гипотезу о том, что средняя помесячная выручка пользователей с подпиской будет больше, чем у пользователей без подписки  \n",
    "H0: средняя помесячная выручка пользователей с подпиской такая же, как и у пользователей без подписки  \n",
    "H1: средняя помесячная выручка пользователей с подпиской больше, чем пользователей без подписки"
   ]
  },
  {
   "cell_type": "code",
   "execution_count": 53,
   "id": "496dc432",
   "metadata": {},
   "outputs": [
    {
     "data": {
      "text/plain": [
       "1.8850394384715216e-31"
      ]
     },
     "execution_count": 53,
     "metadata": {},
     "output_type": "execute_result"
    }
   ],
   "source": [
    "ultras_earnings_per_month = df_agg.query('subscription_type == \"ultra\"')['earnings_per_month']\n",
    "frees_earnings_per_month = df_agg.query('subscription_type == \"free\"')['earnings_per_month']\n",
    "\n",
    "result_earnings = st.ttest_ind(ultras_earnings_per_month, frees_earnings_per_month, alternative='greater')\n",
    "\n",
    "result_earnings.pvalue"
   ]
  },
  {
   "cell_type": "code",
   "execution_count": 54,
   "id": "6d2fb229",
   "metadata": {},
   "outputs": [
    {
     "data": {
      "text/plain": [
       "0       451.0\n",
       "1       241.0\n",
       "2       475.0\n",
       "3       391.0\n",
       "4       535.0\n",
       "        ...  \n",
       "4528    301.0\n",
       "4529    469.0\n",
       "4530    385.0\n",
       "4531    295.0\n",
       "4532    355.0\n",
       "Name: earnings_per_month, Length: 4533, dtype: float64"
      ]
     },
     "execution_count": 54,
     "metadata": {},
     "output_type": "execute_result"
    }
   ],
   "source": [
    "ultras_earnings_per_month"
   ]
  },
  {
   "cell_type": "code",
   "execution_count": 55,
   "id": "b4d019f4",
   "metadata": {},
   "outputs": [
    {
     "name": "stdout",
     "output_type": "stream",
     "text": [
      "Отвергаем нулевую гипотезу\n"
     ]
    }
   ],
   "source": [
    "if (result_earnings.pvalue < alpha):\n",
    "    print('Отвергаем нулевую гипотезу')\n",
    "else:\n",
    "    print('Не отвергаем нулевую гипотезу')"
   ]
  },
  {
   "cell_type": "code",
   "execution_count": 56,
   "id": "b5898c92",
   "metadata": {},
   "outputs": [
    {
     "name": "stdout",
     "output_type": "stream",
     "text": [
      "Средняя ежемесячная выручка с пользователей с подпиской: 362.7921906022502\n",
      "Средняя ежемесячная выручка с пользователей без подпиской: 328.6413651073845\n"
     ]
    }
   ],
   "source": [
    "print('Средняя ежемесячная выручка с пользователей с подпиской:', ultras_earnings_per_month.mean())\n",
    "print('Средняя ежемесячная выручка с пользователей без подпиской:', frees_earnings_per_month.mean())"
   ]
  },
  {
   "cell_type": "markdown",
   "id": "a8a2736a",
   "metadata": {},
   "source": [
    "Можем смело опровергнуть данную гипотезу. Помесячная выручка с пользователей без подписки может превышать выручку от пользователей с подпиской."
   ]
  },
  {
   "cell_type": "markdown",
   "id": "065fe15f",
   "metadata": {},
   "source": [
    "6.4 Представьте такую ситуацию: техническая команда сервиса обновила сервера, с которыми взаимодействует мобильное приложение. Она надеется, что из-за этого количество обращений в техподдержку значимо снизилось. Некоторый файл содержит для каждого пользователя данные о количестве обращений до обновления и после него. Какой тест вам понадобился бы для проверки этой гипотезы?"
   ]
  },
  {
   "cell_type": "markdown",
   "id": "08486979",
   "metadata": {},
   "source": [
    "t-тест scipy.stats.ttest_rel()"
   ]
  },
  {
   "cell_type": "markdown",
   "id": "61213c5e",
   "metadata": {},
   "source": [
    "#### Шаг 7. Распределения"
   ]
  },
  {
   "cell_type": "code",
   "execution_count": 57,
   "id": "95cd1d51",
   "metadata": {},
   "outputs": [
    {
     "data": {
      "text/plain": [
       "0.04971489312694162"
      ]
     },
     "execution_count": 57,
     "metadata": {},
     "output_type": "execute_result"
    }
   ],
   "source": [
    "# задаём параметры биномиального распределения\n",
    "n = 1169\n",
    "p = 0.1\n",
    "avg = 100\n",
    "\n",
    "mu = n * p\n",
    "sigma = sqrt(n * p * (1 - p))\n",
    " \n",
    "distr = st.norm(mu, sigma)\n",
    "\n",
    "result = distr.cdf(avg)\n",
    "result"
   ]
  },
  {
   "cell_type": "markdown",
   "id": "daddc1cf",
   "metadata": {},
   "source": [
    "Для нужно нам результата нужно разослать примерно 1169 промокодов"
   ]
  },
  {
   "cell_type": "code",
   "execution_count": 58,
   "id": "1ab520be",
   "metadata": {},
   "outputs": [
    {
     "data": {
      "text/plain": [
       "0.15371708296369768"
      ]
     },
     "execution_count": 58,
     "metadata": {},
     "output_type": "execute_result"
    }
   ],
   "source": [
    "n1 = 1000000\n",
    "p1 = 0.4\n",
    "avg1 = 399500\n",
    "\n",
    "mu1 = n1 * p1\n",
    "sigma1 = sqrt(n1 * p1 * (1 - p1))\n",
    "\n",
    "distr1 = st.norm(mu1, sigma1) \n",
    "\n",
    "result1 = distr1.cdf(avg1)\n",
    "result1"
   ]
  },
  {
   "cell_type": "markdown",
   "id": "fa4eb2f2",
   "metadata": {},
   "source": [
    "Вероятность того, что уведомление откроют не более 399500 пользователей составляет 15%."
   ]
  },
  {
   "cell_type": "markdown",
   "id": "bcb04c53",
   "metadata": {},
   "source": [
    "**Общий вывод**  \n",
    "1. На этапе предобработки были удалены явные дубликаты, и изменен тип данных у даты датафрейма rides, так же был добавлен столбец с номером месяца.\n",
    "2. Были исследованы следующие данные:\n",
    "    1. Распределение пользователей по городам, так с наибольшим количеством пользователей оказался Пятигорск, а с наименьшим - Москва\n",
    "    2. Распределение пользователей по подпискам. Выяснилось, что в целом количество пользователей с подпиской и без примерно равное(доля от общего 45.47% и 54.43% соответственно), однако без подписки пользователей все же больше.\n",
    "    3. Распределение по возрасту. Самому старому пользователю 43 года, самому молодому - 12. Средний возраст пользователей 24,9 лет, медианный - 25\n",
    "    4. Распределение по расстоянию. Максимальная дистанция поездки составила 7211 метров, минимальная чуть меньше метра(0,86 метра). Средняя дистанция поездки 3070 метров, медиана - 3133 метра.\n",
    "    5. Распределение по длительности. Максимальная длительность поездки - почти 41 минута, минимальная - 30 секунд. Средняя длительность 17.81 минут, медианная - 17.7\n",
    "3. Далее был создан датафрейм df в которой вошли все наших исходных датафрейма(users, rides, subscriptions). И на его основе были созданы датафреймы с пользователями без подписки(df_free) и пользователями с подпиской(df_ultra).\n",
    "4. На основе датафреймов df_free и df_ultra были изучены следующие показатели для платных пользователей и бесплатных(условно бесплатных):\n",
    "    1. Cреднее время поездки у пользователей без платной подписки 17.4 минут, медианное - 17.3. У платных подписчиков среднее 18.5, медианное 18.2. \n",
    "    2. Средняя дистанция у бесплатных - 3045 метров, медианная - 3114. У платных средняя 3114, медианная 3148.\n",
    "5. Была создана таблица df_agg в которую основными столбцами вошли посчитанные данные для каждого пользователя по:\n",
    "    1. Количетсву поездок в месяц\n",
    "    2. Дистанции преодоленной за месяц\n",
    "    3. Времени поездок за месяц.\n",
    "6. Были выдвинуты и проверены несколько гипотез:\n",
    "    1. H0: Пользователи с подпиской тратят столько же времени на поездки, как и пользователи без подписки (=)  \n",
    "       H1: Пользователи с подпиской тратят больше времени на поездки, чем пользователи без подписки (>)  \n",
    "       Нулевая гипотеза была отвергнута.\n",
    "    2. H0: Среднее расстояние, которое преодолевают пользователи с подпиской равна оптимальным 3130 метрам.  \n",
    "       H1: Среднее расстояние, которое преодолевают пользователи с подпиской превышает оптимальные 3130 метров.  \n",
    "       Нулевую гипотезу не удалось опровернуть, значит вероятность того, что она правильная повысилась\n",
    "    3. H0: средняя помесячная выручка пользователей с подпиской такая же, как и у пользователей без подписки  \n",
    "       H1: средняя помесячная выручка пользователей с подпиской больше, чем пользователей без подписки  \n",
    "       Нулевая гипотеза была отвергнута.  \n",
    "       \n",
    "В целом по результатам нашего исследования можно сказать, что пользователи без подписки важны не меньше, чем пользователи с подпиской, так как они приносят примерно такую же(сопостовимую) прибыль, как и пользователи с подпиской."
   ]
  }
 ],
 "metadata": {
  "ExecuteTimeLog": [
   {
    "duration": 1494,
    "start_time": "2023-09-12T11:23:46.127Z"
   },
   {
    "duration": 131,
    "start_time": "2023-09-12T11:24:55.561Z"
   },
   {
    "duration": 163,
    "start_time": "2023-09-12T11:25:52.438Z"
   },
   {
    "duration": 84,
    "start_time": "2023-09-12T11:25:58.295Z"
   },
   {
    "duration": 68,
    "start_time": "2023-09-12T11:26:36.966Z"
   },
   {
    "duration": 13,
    "start_time": "2023-09-12T11:26:51.878Z"
   },
   {
    "duration": 9,
    "start_time": "2023-09-12T11:26:57.937Z"
   },
   {
    "duration": 11,
    "start_time": "2023-09-12T11:27:03.302Z"
   },
   {
    "duration": 11,
    "start_time": "2023-09-12T11:27:23.362Z"
   },
   {
    "duration": 12,
    "start_time": "2023-09-12T11:27:36.967Z"
   },
   {
    "duration": 7,
    "start_time": "2023-09-12T11:28:18.015Z"
   },
   {
    "duration": 11,
    "start_time": "2023-09-12T11:28:25.866Z"
   },
   {
    "duration": 9,
    "start_time": "2023-09-12T11:31:02.697Z"
   },
   {
    "duration": 6,
    "start_time": "2023-09-12T11:31:29.161Z"
   },
   {
    "duration": 9,
    "start_time": "2023-09-12T11:31:30.361Z"
   },
   {
    "duration": 9,
    "start_time": "2023-09-12T11:33:02.554Z"
   },
   {
    "duration": 7,
    "start_time": "2023-09-12T11:33:09.914Z"
   },
   {
    "duration": 10,
    "start_time": "2023-09-12T11:33:18.314Z"
   },
   {
    "duration": 7,
    "start_time": "2023-09-12T11:33:48.662Z"
   },
   {
    "duration": 7,
    "start_time": "2023-09-12T11:33:53.362Z"
   },
   {
    "duration": 11,
    "start_time": "2023-09-12T11:35:27.549Z"
   },
   {
    "duration": 24,
    "start_time": "2023-09-12T11:35:36.531Z"
   },
   {
    "duration": 9,
    "start_time": "2023-09-12T11:35:47.626Z"
   },
   {
    "duration": 8,
    "start_time": "2023-09-12T11:35:48.297Z"
   },
   {
    "duration": 23,
    "start_time": "2023-09-12T11:35:49.303Z"
   },
   {
    "duration": 12,
    "start_time": "2023-09-12T11:37:01.061Z"
   },
   {
    "duration": 1345,
    "start_time": "2023-09-12T16:01:51.032Z"
   },
   {
    "duration": 209,
    "start_time": "2023-09-12T16:01:52.379Z"
   },
   {
    "duration": 14,
    "start_time": "2023-09-12T16:01:52.591Z"
   },
   {
    "duration": 55,
    "start_time": "2023-09-12T16:01:52.607Z"
   },
   {
    "duration": 10,
    "start_time": "2023-09-12T16:01:54.277Z"
   },
   {
    "duration": 13,
    "start_time": "2023-09-12T16:01:55.277Z"
   },
   {
    "duration": 7,
    "start_time": "2023-09-12T16:01:55.854Z"
   },
   {
    "duration": 11,
    "start_time": "2023-09-12T16:01:56.437Z"
   },
   {
    "duration": 7,
    "start_time": "2023-09-12T16:01:58.510Z"
   },
   {
    "duration": 8,
    "start_time": "2023-09-12T16:01:58.957Z"
   },
   {
    "duration": 6,
    "start_time": "2023-09-12T16:01:59.777Z"
   },
   {
    "duration": 10,
    "start_time": "2023-09-12T16:02:00.253Z"
   },
   {
    "duration": 10,
    "start_time": "2023-09-12T16:02:00.925Z"
   },
   {
    "duration": 18,
    "start_time": "2023-09-12T16:02:02.182Z"
   },
   {
    "duration": 14,
    "start_time": "2023-09-12T16:02:03.670Z"
   },
   {
    "duration": 256,
    "start_time": "2023-09-12T18:00:03.997Z"
   },
   {
    "duration": 155,
    "start_time": "2023-09-12T18:00:15.109Z"
   },
   {
    "duration": 129,
    "start_time": "2023-09-12T18:00:22.757Z"
   },
   {
    "duration": 134,
    "start_time": "2023-09-12T18:00:29.942Z"
   },
   {
    "duration": 124,
    "start_time": "2023-09-12T18:00:36.513Z"
   },
   {
    "duration": 140,
    "start_time": "2023-09-12T18:00:39.710Z"
   },
   {
    "duration": 140,
    "start_time": "2023-09-12T18:00:45.191Z"
   },
   {
    "duration": 5,
    "start_time": "2023-09-12T18:00:55.014Z"
   },
   {
    "duration": 126,
    "start_time": "2023-09-12T18:01:08.022Z"
   },
   {
    "duration": 165,
    "start_time": "2023-09-12T18:01:32.230Z"
   },
   {
    "duration": 199,
    "start_time": "2023-09-12T18:01:48.838Z"
   },
   {
    "duration": 156,
    "start_time": "2023-09-12T18:01:53.783Z"
   },
   {
    "duration": 129,
    "start_time": "2023-09-12T18:02:02.703Z"
   },
   {
    "duration": 10,
    "start_time": "2023-09-12T18:02:21.517Z"
   },
   {
    "duration": 137,
    "start_time": "2023-09-12T18:02:37.560Z"
   },
   {
    "duration": 6,
    "start_time": "2023-09-12T18:02:38.281Z"
   },
   {
    "duration": 110,
    "start_time": "2023-09-12T18:04:08.321Z"
   },
   {
    "duration": 108,
    "start_time": "2023-09-12T18:04:13.593Z"
   },
   {
    "duration": 111,
    "start_time": "2023-09-12T18:04:17.553Z"
   },
   {
    "duration": 111,
    "start_time": "2023-09-12T18:05:22.210Z"
   },
   {
    "duration": 20,
    "start_time": "2023-09-12T18:05:28.059Z"
   },
   {
    "duration": 103,
    "start_time": "2023-09-12T18:05:44.922Z"
   },
   {
    "duration": 180,
    "start_time": "2023-09-12T18:06:49.931Z"
   },
   {
    "duration": 105,
    "start_time": "2023-09-12T18:06:56.124Z"
   },
   {
    "duration": 196,
    "start_time": "2023-09-12T18:07:00.332Z"
   },
   {
    "duration": 252,
    "start_time": "2023-09-12T18:07:05.467Z"
   },
   {
    "duration": 145,
    "start_time": "2023-09-12T18:07:10.460Z"
   },
   {
    "duration": 8,
    "start_time": "2023-09-12T18:07:22.196Z"
   },
   {
    "duration": 8,
    "start_time": "2023-09-12T18:09:29.494Z"
   },
   {
    "duration": 127,
    "start_time": "2023-09-12T18:09:42.446Z"
   },
   {
    "duration": 8,
    "start_time": "2023-09-12T18:11:10.423Z"
   },
   {
    "duration": 125,
    "start_time": "2023-09-12T18:11:44.231Z"
   },
   {
    "duration": 133,
    "start_time": "2023-09-12T18:11:51.096Z"
   },
   {
    "duration": 1307,
    "start_time": "2023-09-13T12:16:34.099Z"
   },
   {
    "duration": 197,
    "start_time": "2023-09-13T12:16:35.408Z"
   },
   {
    "duration": 12,
    "start_time": "2023-09-13T12:16:36.283Z"
   },
   {
    "duration": 13,
    "start_time": "2023-09-13T12:16:38.523Z"
   },
   {
    "duration": 10,
    "start_time": "2023-09-13T12:16:40.067Z"
   },
   {
    "duration": 12,
    "start_time": "2023-09-13T12:16:41.130Z"
   },
   {
    "duration": 7,
    "start_time": "2023-09-13T12:16:41.971Z"
   },
   {
    "duration": 10,
    "start_time": "2023-09-13T12:16:42.611Z"
   },
   {
    "duration": 6,
    "start_time": "2023-09-13T12:16:44.042Z"
   },
   {
    "duration": 7,
    "start_time": "2023-09-13T12:16:44.698Z"
   },
   {
    "duration": 7,
    "start_time": "2023-09-13T12:16:46.067Z"
   },
   {
    "duration": 9,
    "start_time": "2023-09-13T12:16:46.515Z"
   },
   {
    "duration": 9,
    "start_time": "2023-09-13T12:16:47.026Z"
   },
   {
    "duration": 17,
    "start_time": "2023-09-13T12:16:48.307Z"
   },
   {
    "duration": 12,
    "start_time": "2023-09-13T12:16:49.163Z"
   },
   {
    "duration": 8,
    "start_time": "2023-09-13T12:16:50.691Z"
   },
   {
    "duration": 147,
    "start_time": "2023-09-13T12:16:51.475Z"
   },
   {
    "duration": 101,
    "start_time": "2023-09-13T12:16:52.843Z"
   },
   {
    "duration": 11,
    "start_time": "2023-09-13T12:16:54.210Z"
   },
   {
    "duration": 146,
    "start_time": "2023-09-13T12:16:54.771Z"
   },
   {
    "duration": 10,
    "start_time": "2023-09-13T12:16:56.163Z"
   },
   {
    "duration": 126,
    "start_time": "2023-09-13T12:16:57.083Z"
   },
   {
    "duration": 9,
    "start_time": "2023-09-13T12:16:58.411Z"
   },
   {
    "duration": 134,
    "start_time": "2023-09-13T12:16:59.467Z"
   },
   {
    "duration": 22,
    "start_time": "2023-09-13T12:19:14.060Z"
   },
   {
    "duration": 30,
    "start_time": "2023-09-13T12:21:31.322Z"
   },
   {
    "duration": 132,
    "start_time": "2023-09-13T12:22:18.271Z"
   },
   {
    "duration": 38,
    "start_time": "2023-09-13T12:22:23.483Z"
   },
   {
    "duration": 28,
    "start_time": "2023-09-13T12:22:31.358Z"
   },
   {
    "duration": 21,
    "start_time": "2023-09-13T12:24:58.691Z"
   },
   {
    "duration": 19,
    "start_time": "2023-09-13T12:25:42.950Z"
   },
   {
    "duration": 172,
    "start_time": "2023-09-13T12:29:10.289Z"
   },
   {
    "duration": 133,
    "start_time": "2023-09-13T12:29:13.642Z"
   },
   {
    "duration": 129,
    "start_time": "2023-09-13T12:29:17.562Z"
   },
   {
    "duration": 6,
    "start_time": "2023-09-13T12:29:18.797Z"
   },
   {
    "duration": 8,
    "start_time": "2023-09-13T12:29:20.633Z"
   },
   {
    "duration": 129,
    "start_time": "2023-09-13T12:29:23.066Z"
   },
   {
    "duration": 244,
    "start_time": "2023-09-13T12:29:36.714Z"
   },
   {
    "duration": 9,
    "start_time": "2023-09-13T12:29:45.178Z"
   },
   {
    "duration": 149,
    "start_time": "2023-09-13T12:30:09.434Z"
   },
   {
    "duration": 8,
    "start_time": "2023-09-13T12:30:37.443Z"
   },
   {
    "duration": 148,
    "start_time": "2023-09-13T12:31:23.731Z"
   },
   {
    "duration": 172,
    "start_time": "2023-09-13T12:31:30.072Z"
   },
   {
    "duration": 145,
    "start_time": "2023-09-13T12:31:34.323Z"
   },
   {
    "duration": 8,
    "start_time": "2023-09-13T12:31:52.668Z"
   },
   {
    "duration": 148,
    "start_time": "2023-09-13T12:32:30.946Z"
   },
   {
    "duration": 131,
    "start_time": "2023-09-13T12:32:33.700Z"
   },
   {
    "duration": 8,
    "start_time": "2023-09-13T12:32:58.620Z"
   },
   {
    "duration": 2,
    "start_time": "2023-09-13T12:41:58.586Z"
   },
   {
    "duration": 9,
    "start_time": "2023-09-13T12:43:59.287Z"
   },
   {
    "duration": 10,
    "start_time": "2023-09-13T15:11:07.109Z"
   },
   {
    "duration": 10,
    "start_time": "2023-09-13T15:11:11.316Z"
   },
   {
    "duration": 14,
    "start_time": "2023-09-13T15:49:44.008Z"
   },
   {
    "duration": 4,
    "start_time": "2023-09-13T16:07:58.474Z"
   },
   {
    "duration": 22,
    "start_time": "2023-09-13T16:08:03.697Z"
   },
   {
    "duration": 17,
    "start_time": "2023-09-13T16:08:40.297Z"
   },
   {
    "duration": 16,
    "start_time": "2023-09-13T16:08:49.474Z"
   },
   {
    "duration": 13,
    "start_time": "2023-09-13T16:12:27.405Z"
   },
   {
    "duration": 18,
    "start_time": "2023-09-13T16:12:37.709Z"
   },
   {
    "duration": 18,
    "start_time": "2023-09-13T16:12:55.277Z"
   },
   {
    "duration": 25,
    "start_time": "2023-09-13T16:13:35.766Z"
   },
   {
    "duration": 4,
    "start_time": "2023-09-13T16:13:43.269Z"
   },
   {
    "duration": 8,
    "start_time": "2023-09-13T16:13:50.206Z"
   },
   {
    "duration": 4,
    "start_time": "2023-09-13T16:13:54.734Z"
   },
   {
    "duration": 4,
    "start_time": "2023-09-13T16:13:57.901Z"
   },
   {
    "duration": 23,
    "start_time": "2023-09-13T16:14:09.421Z"
   },
   {
    "duration": 23,
    "start_time": "2023-09-13T16:14:10.694Z"
   },
   {
    "duration": 3,
    "start_time": "2023-09-13T16:14:19.484Z"
   },
   {
    "duration": 26,
    "start_time": "2023-09-13T16:14:22.890Z"
   },
   {
    "duration": 21,
    "start_time": "2023-09-13T16:14:27.341Z"
   },
   {
    "duration": 13,
    "start_time": "2023-09-13T16:14:54.639Z"
   },
   {
    "duration": 18,
    "start_time": "2023-09-13T16:15:13.542Z"
   },
   {
    "duration": 16,
    "start_time": "2023-09-13T16:15:28.336Z"
   },
   {
    "duration": 15,
    "start_time": "2023-09-13T16:17:09.936Z"
   },
   {
    "duration": 17,
    "start_time": "2023-09-13T16:17:36.288Z"
   },
   {
    "duration": 15,
    "start_time": "2023-09-13T16:18:29.346Z"
   },
   {
    "duration": 11,
    "start_time": "2023-09-13T16:18:47.290Z"
   },
   {
    "duration": 14,
    "start_time": "2023-09-13T16:18:50.809Z"
   },
   {
    "duration": 12,
    "start_time": "2023-09-13T16:20:23.195Z"
   },
   {
    "duration": 23,
    "start_time": "2023-09-13T16:22:04.037Z"
   },
   {
    "duration": 22,
    "start_time": "2023-09-13T16:22:22.294Z"
   },
   {
    "duration": 3,
    "start_time": "2023-09-13T16:34:36.462Z"
   },
   {
    "duration": 86,
    "start_time": "2023-09-13T16:35:07.528Z"
   },
   {
    "duration": 73,
    "start_time": "2023-09-13T16:35:16.399Z"
   },
   {
    "duration": 38,
    "start_time": "2023-09-13T16:35:44.576Z"
   },
   {
    "duration": 39,
    "start_time": "2023-09-13T16:36:17.793Z"
   },
   {
    "duration": 42,
    "start_time": "2023-09-13T16:36:29.104Z"
   },
   {
    "duration": 23,
    "start_time": "2023-09-13T16:36:37.136Z"
   },
   {
    "duration": 38,
    "start_time": "2023-09-13T16:36:42.129Z"
   },
   {
    "duration": 27,
    "start_time": "2023-09-13T16:36:57.872Z"
   },
   {
    "duration": 28,
    "start_time": "2023-09-13T16:37:04.497Z"
   },
   {
    "duration": 24,
    "start_time": "2023-09-13T16:37:30.106Z"
   },
   {
    "duration": 33,
    "start_time": "2023-09-13T16:37:50.281Z"
   },
   {
    "duration": 36,
    "start_time": "2023-09-13T16:38:22.209Z"
   },
   {
    "duration": 22,
    "start_time": "2023-09-13T16:40:12.396Z"
   },
   {
    "duration": 25,
    "start_time": "2023-09-13T16:40:21.403Z"
   },
   {
    "duration": 35,
    "start_time": "2023-09-13T16:40:25.724Z"
   },
   {
    "duration": 35,
    "start_time": "2023-09-13T16:40:41.133Z"
   },
   {
    "duration": 27,
    "start_time": "2023-09-13T16:40:57.828Z"
   },
   {
    "duration": 27,
    "start_time": "2023-09-13T16:41:06.288Z"
   },
   {
    "duration": 37,
    "start_time": "2023-09-13T16:41:09.441Z"
   },
   {
    "duration": 26,
    "start_time": "2023-09-13T16:41:12.717Z"
   },
   {
    "duration": 26,
    "start_time": "2023-09-13T16:41:14.304Z"
   },
   {
    "duration": 38,
    "start_time": "2023-09-13T16:41:16.677Z"
   },
   {
    "duration": 36,
    "start_time": "2023-09-13T16:41:35.094Z"
   },
   {
    "duration": 26,
    "start_time": "2023-09-13T16:42:09.658Z"
   },
   {
    "duration": 36,
    "start_time": "2023-09-13T16:42:16.517Z"
   },
   {
    "duration": 34,
    "start_time": "2023-09-13T16:42:23.733Z"
   },
   {
    "duration": 12,
    "start_time": "2023-09-13T16:43:03.170Z"
   },
   {
    "duration": 6,
    "start_time": "2023-09-13T16:43:09.701Z"
   },
   {
    "duration": 36,
    "start_time": "2023-09-13T16:43:44.445Z"
   },
   {
    "duration": 99,
    "start_time": "2023-09-13T16:44:03.798Z"
   },
   {
    "duration": 34,
    "start_time": "2023-09-13T16:44:08.126Z"
   },
   {
    "duration": 78,
    "start_time": "2023-09-13T16:44:13.541Z"
   },
   {
    "duration": 36,
    "start_time": "2023-09-13T16:44:16.277Z"
   },
   {
    "duration": 37,
    "start_time": "2023-09-13T16:44:22.982Z"
   },
   {
    "duration": 5,
    "start_time": "2023-09-13T16:44:35.493Z"
   },
   {
    "duration": 22,
    "start_time": "2023-09-13T16:46:55.903Z"
   },
   {
    "duration": 21,
    "start_time": "2023-09-13T16:48:54.663Z"
   },
   {
    "duration": 9,
    "start_time": "2023-09-13T20:11:42.233Z"
   },
   {
    "duration": 9,
    "start_time": "2023-09-13T20:12:09.971Z"
   },
   {
    "duration": 3,
    "start_time": "2023-09-13T20:14:19.690Z"
   },
   {
    "duration": 4,
    "start_time": "2023-09-13T20:14:25.347Z"
   },
   {
    "duration": 3,
    "start_time": "2023-09-13T20:14:28.690Z"
   },
   {
    "duration": 10,
    "start_time": "2023-09-13T20:14:39.195Z"
   },
   {
    "duration": 14,
    "start_time": "2023-09-13T20:14:51.779Z"
   },
   {
    "duration": 12,
    "start_time": "2023-09-13T20:14:55.098Z"
   },
   {
    "duration": 4,
    "start_time": "2023-09-13T20:15:19.036Z"
   },
   {
    "duration": 3,
    "start_time": "2023-09-13T20:15:50.595Z"
   },
   {
    "duration": 2,
    "start_time": "2023-09-13T20:15:58.236Z"
   },
   {
    "duration": 3,
    "start_time": "2023-09-13T20:16:03.036Z"
   },
   {
    "duration": 6,
    "start_time": "2023-09-13T20:25:15.802Z"
   },
   {
    "duration": 8,
    "start_time": "2023-09-13T20:25:18.313Z"
   },
   {
    "duration": 9,
    "start_time": "2023-09-13T20:25:27.281Z"
   },
   {
    "duration": 8,
    "start_time": "2023-09-13T20:25:31.433Z"
   },
   {
    "duration": 12,
    "start_time": "2023-09-13T20:26:27.986Z"
   },
   {
    "duration": 8,
    "start_time": "2023-09-13T20:26:40.938Z"
   },
   {
    "duration": 8,
    "start_time": "2023-09-13T20:26:54.618Z"
   },
   {
    "duration": 4,
    "start_time": "2023-09-13T20:26:58.588Z"
   },
   {
    "duration": 8,
    "start_time": "2023-09-13T20:34:37.678Z"
   },
   {
    "duration": 6,
    "start_time": "2023-09-13T20:34:42.471Z"
   },
   {
    "duration": 3,
    "start_time": "2023-09-13T20:34:44.327Z"
   },
   {
    "duration": 5,
    "start_time": "2023-09-13T20:34:56.680Z"
   },
   {
    "duration": 7,
    "start_time": "2023-09-13T20:35:31.598Z"
   },
   {
    "duration": 9,
    "start_time": "2023-09-13T20:35:35.075Z"
   },
   {
    "duration": 8,
    "start_time": "2023-09-13T20:35:59.087Z"
   },
   {
    "duration": 11,
    "start_time": "2023-09-13T20:36:04.583Z"
   },
   {
    "duration": 8,
    "start_time": "2023-09-13T20:36:07.831Z"
   },
   {
    "duration": 10,
    "start_time": "2023-09-13T20:36:47.344Z"
   },
   {
    "duration": 3,
    "start_time": "2023-09-13T20:36:58.048Z"
   },
   {
    "duration": 15,
    "start_time": "2023-09-13T21:20:26.543Z"
   },
   {
    "duration": 2,
    "start_time": "2023-09-13T21:20:54.513Z"
   },
   {
    "duration": 676,
    "start_time": "2023-09-13T21:20:56.878Z"
   },
   {
    "duration": 183,
    "start_time": "2023-09-13T21:21:10.752Z"
   },
   {
    "duration": 674,
    "start_time": "2023-09-13T21:21:28.345Z"
   },
   {
    "duration": 709,
    "start_time": "2023-09-13T21:21:33.026Z"
   },
   {
    "duration": 703,
    "start_time": "2023-09-13T21:21:36.312Z"
   },
   {
    "duration": 836,
    "start_time": "2023-09-13T21:21:40.241Z"
   },
   {
    "duration": 6,
    "start_time": "2023-09-13T21:23:26.411Z"
   },
   {
    "duration": 6,
    "start_time": "2023-09-13T21:23:44.492Z"
   },
   {
    "duration": 8,
    "start_time": "2023-09-13T21:23:52.531Z"
   },
   {
    "duration": 6,
    "start_time": "2023-09-13T21:24:09.795Z"
   },
   {
    "duration": 6,
    "start_time": "2023-09-13T21:24:23.107Z"
   },
   {
    "duration": 6,
    "start_time": "2023-09-13T21:24:26.203Z"
   },
   {
    "duration": 6,
    "start_time": "2023-09-13T21:24:29.907Z"
   },
   {
    "duration": 6,
    "start_time": "2023-09-13T21:24:34.141Z"
   },
   {
    "duration": 7,
    "start_time": "2023-09-13T21:24:37.944Z"
   },
   {
    "duration": 7,
    "start_time": "2023-09-13T21:24:42.542Z"
   },
   {
    "duration": 8,
    "start_time": "2023-09-13T21:24:45.234Z"
   },
   {
    "duration": 7,
    "start_time": "2023-09-13T21:24:48.260Z"
   },
   {
    "duration": 5,
    "start_time": "2023-09-13T21:24:51.316Z"
   },
   {
    "duration": 6,
    "start_time": "2023-09-13T21:24:53.784Z"
   },
   {
    "duration": 5,
    "start_time": "2023-09-13T21:28:59.958Z"
   },
   {
    "duration": 13,
    "start_time": "2023-09-13T21:29:18.028Z"
   },
   {
    "duration": 5,
    "start_time": "2023-09-13T21:29:20.414Z"
   },
   {
    "duration": 5,
    "start_time": "2023-09-13T21:29:24.607Z"
   },
   {
    "duration": 6,
    "start_time": "2023-09-13T21:29:28.207Z"
   },
   {
    "duration": 5,
    "start_time": "2023-09-13T21:29:34.388Z"
   },
   {
    "duration": 5,
    "start_time": "2023-09-13T21:29:44.295Z"
   },
   {
    "duration": 5,
    "start_time": "2023-09-13T21:29:47.159Z"
   },
   {
    "duration": 5,
    "start_time": "2023-09-13T21:29:50.551Z"
   },
   {
    "duration": 5,
    "start_time": "2023-09-13T21:29:53.295Z"
   },
   {
    "duration": 5,
    "start_time": "2023-09-13T21:29:55.392Z"
   },
   {
    "duration": 4,
    "start_time": "2023-09-13T21:30:03.585Z"
   },
   {
    "duration": 5,
    "start_time": "2023-09-13T21:30:07.215Z"
   },
   {
    "duration": 17,
    "start_time": "2023-09-13T21:30:29.119Z"
   },
   {
    "duration": 4,
    "start_time": "2023-09-13T21:30:33.387Z"
   },
   {
    "duration": 9,
    "start_time": "2023-09-13T21:30:40.816Z"
   },
   {
    "duration": 5,
    "start_time": "2023-09-13T21:30:41.888Z"
   },
   {
    "duration": 5,
    "start_time": "2023-09-13T21:30:55.151Z"
   },
   {
    "duration": 5,
    "start_time": "2023-09-13T21:31:15.490Z"
   },
   {
    "duration": 6,
    "start_time": "2023-09-13T21:31:25.784Z"
   },
   {
    "duration": 6,
    "start_time": "2023-09-13T21:31:45.881Z"
   },
   {
    "duration": 5,
    "start_time": "2023-09-13T21:32:58.601Z"
   },
   {
    "duration": 5,
    "start_time": "2023-09-13T21:33:01.589Z"
   },
   {
    "duration": 5,
    "start_time": "2023-09-13T21:33:06.989Z"
   },
   {
    "duration": 4,
    "start_time": "2023-09-13T21:33:07.633Z"
   },
   {
    "duration": 5,
    "start_time": "2023-09-13T21:33:07.793Z"
   },
   {
    "duration": 5,
    "start_time": "2023-09-13T21:33:07.954Z"
   },
   {
    "duration": 5,
    "start_time": "2023-09-13T21:33:08.113Z"
   },
   {
    "duration": 7,
    "start_time": "2023-09-13T21:34:44.003Z"
   },
   {
    "duration": 5,
    "start_time": "2023-09-13T21:35:02.459Z"
   },
   {
    "duration": 6,
    "start_time": "2023-09-13T21:35:30.852Z"
   },
   {
    "duration": 1263,
    "start_time": "2023-09-14T08:31:30.131Z"
   },
   {
    "duration": 194,
    "start_time": "2023-09-14T08:31:31.397Z"
   },
   {
    "duration": 12,
    "start_time": "2023-09-14T08:31:31.594Z"
   },
   {
    "duration": 43,
    "start_time": "2023-09-14T08:31:31.608Z"
   },
   {
    "duration": 69,
    "start_time": "2023-09-14T08:31:31.653Z"
   },
   {
    "duration": 53,
    "start_time": "2023-09-14T08:31:31.724Z"
   },
   {
    "duration": 36,
    "start_time": "2023-09-14T08:31:31.779Z"
   },
   {
    "duration": 36,
    "start_time": "2023-09-14T08:31:31.817Z"
   },
   {
    "duration": 47,
    "start_time": "2023-09-14T08:31:31.855Z"
   },
   {
    "duration": 24,
    "start_time": "2023-09-14T08:31:31.904Z"
   },
   {
    "duration": 29,
    "start_time": "2023-09-14T08:31:31.931Z"
   },
   {
    "duration": 35,
    "start_time": "2023-09-14T08:31:31.962Z"
   },
   {
    "duration": 23,
    "start_time": "2023-09-14T08:31:31.999Z"
   },
   {
    "duration": 37,
    "start_time": "2023-09-14T08:31:32.024Z"
   },
   {
    "duration": 35,
    "start_time": "2023-09-14T08:31:32.063Z"
   },
   {
    "duration": 41,
    "start_time": "2023-09-14T08:31:32.099Z"
   },
   {
    "duration": 193,
    "start_time": "2023-09-14T08:31:32.141Z"
   },
   {
    "duration": 127,
    "start_time": "2023-09-14T08:31:32.336Z"
   },
   {
    "duration": 27,
    "start_time": "2023-09-14T08:31:32.465Z"
   },
   {
    "duration": 163,
    "start_time": "2023-09-14T08:31:32.496Z"
   },
   {
    "duration": 8,
    "start_time": "2023-09-14T08:31:32.661Z"
   },
   {
    "duration": 141,
    "start_time": "2023-09-14T08:31:32.681Z"
   },
   {
    "duration": 8,
    "start_time": "2023-09-14T08:31:32.824Z"
   },
   {
    "duration": 170,
    "start_time": "2023-09-14T08:31:32.834Z"
   },
   {
    "duration": 33,
    "start_time": "2023-09-14T08:31:33.006Z"
   },
   {
    "duration": 47,
    "start_time": "2023-09-14T08:31:33.041Z"
   },
   {
    "duration": 20,
    "start_time": "2023-09-14T08:31:33.092Z"
   },
   {
    "duration": 202,
    "start_time": "2023-09-14T08:31:33.115Z"
   },
   {
    "duration": 9,
    "start_time": "2023-09-14T08:31:33.318Z"
   },
   {
    "duration": 178,
    "start_time": "2023-09-14T08:31:33.328Z"
   },
   {
    "duration": 7,
    "start_time": "2023-09-14T08:31:33.508Z"
   },
   {
    "duration": 180,
    "start_time": "2023-09-14T08:31:33.517Z"
   },
   {
    "duration": 9,
    "start_time": "2023-09-14T08:31:33.699Z"
   },
   {
    "duration": 162,
    "start_time": "2023-09-14T08:31:33.709Z"
   },
   {
    "duration": 18,
    "start_time": "2023-09-14T08:31:33.873Z"
   },
   {
    "duration": 21,
    "start_time": "2023-09-14T08:31:33.894Z"
   },
   {
    "duration": 16,
    "start_time": "2023-09-14T08:31:33.917Z"
   },
   {
    "duration": 21,
    "start_time": "2023-09-14T08:31:33.935Z"
   },
   {
    "duration": 160,
    "start_time": "2023-09-14T08:31:33.958Z"
   },
   {
    "duration": 20,
    "start_time": "2023-09-14T08:31:34.119Z"
   },
   {
    "duration": 2,
    "start_time": "2023-09-14T08:31:34.141Z"
   },
   {
    "duration": 11,
    "start_time": "2023-09-14T08:31:34.145Z"
   },
   {
    "duration": 4,
    "start_time": "2023-09-14T08:31:34.158Z"
   },
   {
    "duration": 10,
    "start_time": "2023-09-14T08:31:34.181Z"
   },
   {
    "duration": 6,
    "start_time": "2023-09-14T08:31:34.195Z"
   },
   {
    "duration": 15,
    "start_time": "2023-09-14T08:31:34.202Z"
   },
   {
    "duration": 3,
    "start_time": "2023-09-14T08:31:34.219Z"
   },
   {
    "duration": 7,
    "start_time": "2023-09-14T08:31:34.224Z"
   },
   {
    "duration": 18,
    "start_time": "2023-09-14T08:31:34.233Z"
   },
   {
    "duration": 1513,
    "start_time": "2023-09-14T10:24:37.933Z"
   },
   {
    "duration": 207,
    "start_time": "2023-09-14T10:24:39.448Z"
   },
   {
    "duration": 14,
    "start_time": "2023-09-14T10:24:39.657Z"
   },
   {
    "duration": 12,
    "start_time": "2023-09-14T10:24:39.674Z"
   },
   {
    "duration": 24,
    "start_time": "2023-09-14T10:24:39.688Z"
   },
   {
    "duration": 14,
    "start_time": "2023-09-14T10:24:39.714Z"
   },
   {
    "duration": 7,
    "start_time": "2023-09-14T10:24:39.731Z"
   },
   {
    "duration": 23,
    "start_time": "2023-09-14T10:24:39.740Z"
   },
   {
    "duration": 22,
    "start_time": "2023-09-14T10:24:39.765Z"
   },
   {
    "duration": 35,
    "start_time": "2023-09-14T10:24:39.790Z"
   },
   {
    "duration": 13,
    "start_time": "2023-09-14T10:24:39.827Z"
   },
   {
    "duration": 13,
    "start_time": "2023-09-14T10:24:39.842Z"
   },
   {
    "duration": 9,
    "start_time": "2023-09-14T10:24:39.857Z"
   },
   {
    "duration": 25,
    "start_time": "2023-09-14T10:24:39.868Z"
   },
   {
    "duration": 21,
    "start_time": "2023-09-14T10:24:39.903Z"
   },
   {
    "duration": 19,
    "start_time": "2023-09-14T10:24:39.926Z"
   },
   {
    "duration": 210,
    "start_time": "2023-09-14T10:24:39.947Z"
   },
   {
    "duration": 120,
    "start_time": "2023-09-14T10:24:40.158Z"
   },
   {
    "duration": 24,
    "start_time": "2023-09-14T10:24:40.281Z"
   },
   {
    "duration": 189,
    "start_time": "2023-09-14T10:24:40.308Z"
   },
   {
    "duration": 10,
    "start_time": "2023-09-14T10:24:40.499Z"
   },
   {
    "duration": 158,
    "start_time": "2023-09-14T10:24:40.512Z"
   },
   {
    "duration": 10,
    "start_time": "2023-09-14T10:24:40.672Z"
   },
   {
    "duration": 194,
    "start_time": "2023-09-14T10:24:40.684Z"
   },
   {
    "duration": 52,
    "start_time": "2023-09-14T10:24:40.880Z"
   },
   {
    "duration": 23,
    "start_time": "2023-09-14T10:24:40.934Z"
   },
   {
    "duration": 19,
    "start_time": "2023-09-14T10:24:40.959Z"
   },
   {
    "duration": 215,
    "start_time": "2023-09-14T10:24:41.003Z"
   },
   {
    "duration": 10,
    "start_time": "2023-09-14T10:24:41.220Z"
   },
   {
    "duration": 212,
    "start_time": "2023-09-14T10:24:41.231Z"
   },
   {
    "duration": 10,
    "start_time": "2023-09-14T10:24:41.445Z"
   },
   {
    "duration": 192,
    "start_time": "2023-09-14T10:24:41.457Z"
   },
   {
    "duration": 8,
    "start_time": "2023-09-14T10:24:41.651Z"
   },
   {
    "duration": 177,
    "start_time": "2023-09-14T10:24:41.661Z"
   },
   {
    "duration": 9,
    "start_time": "2023-09-14T10:24:41.840Z"
   },
   {
    "duration": 21,
    "start_time": "2023-09-14T10:24:41.851Z"
   },
   {
    "duration": 47,
    "start_time": "2023-09-14T10:24:41.874Z"
   },
   {
    "duration": 16,
    "start_time": "2023-09-14T10:24:41.923Z"
   },
   {
    "duration": 149,
    "start_time": "2023-09-14T10:24:41.941Z"
   },
   {
    "duration": 31,
    "start_time": "2023-09-14T10:24:42.092Z"
   },
   {
    "duration": 3,
    "start_time": "2023-09-14T10:24:42.125Z"
   },
   {
    "duration": 10,
    "start_time": "2023-09-14T10:24:42.129Z"
   },
   {
    "duration": 9,
    "start_time": "2023-09-14T10:24:42.140Z"
   },
   {
    "duration": 7,
    "start_time": "2023-09-14T10:24:42.150Z"
   },
   {
    "duration": 11,
    "start_time": "2023-09-14T10:24:42.159Z"
   },
   {
    "duration": 19,
    "start_time": "2023-09-14T10:24:42.202Z"
   },
   {
    "duration": 11,
    "start_time": "2023-09-14T10:24:42.223Z"
   },
   {
    "duration": 36,
    "start_time": "2023-09-14T10:24:42.236Z"
   },
   {
    "duration": 19,
    "start_time": "2023-09-14T10:24:42.273Z"
   },
   {
    "duration": 1278,
    "start_time": "2023-09-14T10:31:32.945Z"
   },
   {
    "duration": 80,
    "start_time": "2023-09-14T10:31:34.225Z"
   },
   {
    "duration": 21,
    "start_time": "2023-09-14T10:31:34.308Z"
   },
   {
    "duration": 43,
    "start_time": "2023-09-14T10:31:34.335Z"
   },
   {
    "duration": 34,
    "start_time": "2023-09-14T10:31:34.381Z"
   },
   {
    "duration": 66,
    "start_time": "2023-09-14T10:31:34.421Z"
   },
   {
    "duration": 59,
    "start_time": "2023-09-14T10:31:34.489Z"
   },
   {
    "duration": 42,
    "start_time": "2023-09-14T10:31:34.551Z"
   },
   {
    "duration": 54,
    "start_time": "2023-09-14T10:31:34.594Z"
   },
   {
    "duration": 47,
    "start_time": "2023-09-14T10:31:34.651Z"
   },
   {
    "duration": 47,
    "start_time": "2023-09-14T10:31:34.700Z"
   },
   {
    "duration": 47,
    "start_time": "2023-09-14T10:31:34.749Z"
   },
   {
    "duration": 35,
    "start_time": "2023-09-14T10:31:34.799Z"
   },
   {
    "duration": 56,
    "start_time": "2023-09-14T10:31:34.836Z"
   },
   {
    "duration": 54,
    "start_time": "2023-09-14T10:31:34.894Z"
   },
   {
    "duration": 36,
    "start_time": "2023-09-14T10:31:34.951Z"
   },
   {
    "duration": 264,
    "start_time": "2023-09-14T10:31:34.990Z"
   },
   {
    "duration": 154,
    "start_time": "2023-09-14T10:31:35.256Z"
   },
   {
    "duration": 12,
    "start_time": "2023-09-14T10:31:35.415Z"
   },
   {
    "duration": 217,
    "start_time": "2023-09-14T10:31:35.428Z"
   },
   {
    "duration": 10,
    "start_time": "2023-09-14T10:31:35.647Z"
   },
   {
    "duration": 217,
    "start_time": "2023-09-14T10:31:35.658Z"
   },
   {
    "duration": 10,
    "start_time": "2023-09-14T10:31:35.877Z"
   },
   {
    "duration": 226,
    "start_time": "2023-09-14T10:31:35.889Z"
   },
   {
    "duration": 52,
    "start_time": "2023-09-14T10:31:36.117Z"
   },
   {
    "duration": 53,
    "start_time": "2023-09-14T10:31:36.172Z"
   },
   {
    "duration": 36,
    "start_time": "2023-09-14T10:31:36.227Z"
   },
   {
    "duration": 213,
    "start_time": "2023-09-14T10:31:36.267Z"
   },
   {
    "duration": 21,
    "start_time": "2023-09-14T10:31:36.482Z"
   },
   {
    "duration": 211,
    "start_time": "2023-09-14T10:31:36.505Z"
   },
   {
    "duration": 11,
    "start_time": "2023-09-14T10:31:36.718Z"
   },
   {
    "duration": 304,
    "start_time": "2023-09-14T10:31:36.731Z"
   },
   {
    "duration": 12,
    "start_time": "2023-09-14T10:31:37.037Z"
   },
   {
    "duration": 210,
    "start_time": "2023-09-14T10:31:37.051Z"
   },
   {
    "duration": 10,
    "start_time": "2023-09-14T10:31:37.263Z"
   },
   {
    "duration": 52,
    "start_time": "2023-09-14T10:31:37.275Z"
   },
   {
    "duration": 48,
    "start_time": "2023-09-14T10:31:37.329Z"
   },
   {
    "duration": 62,
    "start_time": "2023-09-14T10:31:37.379Z"
   },
   {
    "duration": 153,
    "start_time": "2023-09-14T10:31:37.443Z"
   },
   {
    "duration": 31,
    "start_time": "2023-09-14T10:31:37.611Z"
   },
   {
    "duration": 31,
    "start_time": "2023-09-14T10:31:37.644Z"
   },
   {
    "duration": 32,
    "start_time": "2023-09-14T10:31:37.677Z"
   },
   {
    "duration": 18,
    "start_time": "2023-09-14T10:31:37.711Z"
   },
   {
    "duration": 59,
    "start_time": "2023-09-14T10:31:37.731Z"
   },
   {
    "duration": 32,
    "start_time": "2023-09-14T10:31:37.792Z"
   },
   {
    "duration": 45,
    "start_time": "2023-09-14T10:31:37.826Z"
   },
   {
    "duration": 26,
    "start_time": "2023-09-14T10:31:37.873Z"
   },
   {
    "duration": 51,
    "start_time": "2023-09-14T10:31:37.901Z"
   },
   {
    "duration": 29,
    "start_time": "2023-09-14T10:31:37.954Z"
   },
   {
    "duration": 13,
    "start_time": "2023-09-14T10:44:33.217Z"
   },
   {
    "duration": 13,
    "start_time": "2023-09-14T10:44:44.077Z"
   },
   {
    "duration": 18,
    "start_time": "2023-09-14T10:45:08.015Z"
   },
   {
    "duration": 158,
    "start_time": "2023-09-14T10:48:03.515Z"
   },
   {
    "duration": 221,
    "start_time": "2023-09-14T10:48:09.359Z"
   },
   {
    "duration": 146,
    "start_time": "2023-09-14T10:48:13.944Z"
   },
   {
    "duration": 117,
    "start_time": "2023-09-14T10:48:29.212Z"
   },
   {
    "duration": 162,
    "start_time": "2023-09-14T10:48:54.872Z"
   },
   {
    "duration": 156,
    "start_time": "2023-09-14T10:49:03.079Z"
   },
   {
    "duration": 161,
    "start_time": "2023-09-14T10:52:31.424Z"
   },
   {
    "duration": 7,
    "start_time": "2023-09-14T10:52:45.532Z"
   },
   {
    "duration": 196,
    "start_time": "2023-09-14T10:53:02.416Z"
   },
   {
    "duration": 9,
    "start_time": "2023-09-14T10:53:26.789Z"
   },
   {
    "duration": 193,
    "start_time": "2023-09-14T10:55:03.327Z"
   },
   {
    "duration": 169,
    "start_time": "2023-09-14T10:56:55.448Z"
   },
   {
    "duration": 169,
    "start_time": "2023-09-14T10:57:18.871Z"
   },
   {
    "duration": 191,
    "start_time": "2023-09-14T11:00:05.443Z"
   },
   {
    "duration": 277,
    "start_time": "2023-09-14T11:00:15.884Z"
   },
   {
    "duration": 127,
    "start_time": "2023-09-14T11:00:21.920Z"
   },
   {
    "duration": 986,
    "start_time": "2023-09-14T11:00:50.709Z"
   },
   {
    "duration": 565,
    "start_time": "2023-09-14T11:01:09.020Z"
   },
   {
    "duration": 0,
    "start_time": "2023-09-14T11:02:34.537Z"
   },
   {
    "duration": 0,
    "start_time": "2023-09-14T11:02:39.872Z"
   },
   {
    "duration": 194,
    "start_time": "2023-09-14T11:02:52.597Z"
   },
   {
    "duration": 232,
    "start_time": "2023-09-14T11:02:54.599Z"
   },
   {
    "duration": 178,
    "start_time": "2023-09-14T11:03:04.616Z"
   },
   {
    "duration": 324,
    "start_time": "2023-09-14T11:03:47.158Z"
   },
   {
    "duration": 312,
    "start_time": "2023-09-14T11:04:51.551Z"
   },
   {
    "duration": 406,
    "start_time": "2023-09-14T11:04:56.350Z"
   },
   {
    "duration": 352,
    "start_time": "2023-09-14T11:05:04.212Z"
   },
   {
    "duration": 586,
    "start_time": "2023-09-14T11:05:10.591Z"
   },
   {
    "duration": 621,
    "start_time": "2023-09-14T11:06:21.971Z"
   },
   {
    "duration": 563,
    "start_time": "2023-09-14T11:06:27.151Z"
   },
   {
    "duration": 585,
    "start_time": "2023-09-14T11:06:38.719Z"
   },
   {
    "duration": 623,
    "start_time": "2023-09-14T11:06:47.185Z"
   },
   {
    "duration": 97,
    "start_time": "2023-09-14T11:06:51.192Z"
   },
   {
    "duration": 142,
    "start_time": "2023-09-14T11:06:56.616Z"
   },
   {
    "duration": 576,
    "start_time": "2023-09-14T11:07:07.418Z"
   },
   {
    "duration": 113,
    "start_time": "2023-09-14T11:07:13.160Z"
   },
   {
    "duration": 608,
    "start_time": "2023-09-14T11:09:54.594Z"
   },
   {
    "duration": 19,
    "start_time": "2023-09-14T11:10:22.420Z"
   },
   {
    "duration": 12,
    "start_time": "2023-09-14T11:10:39.540Z"
   },
   {
    "duration": 12,
    "start_time": "2023-09-14T11:10:59.531Z"
   },
   {
    "duration": 248,
    "start_time": "2023-09-14T11:11:16.118Z"
   },
   {
    "duration": 446,
    "start_time": "2023-09-14T11:11:59.717Z"
   },
   {
    "duration": 156,
    "start_time": "2023-09-14T11:12:05.214Z"
   },
   {
    "duration": 156,
    "start_time": "2023-09-14T11:12:11.125Z"
   },
   {
    "duration": 153,
    "start_time": "2023-09-14T11:12:13.902Z"
   },
   {
    "duration": 158,
    "start_time": "2023-09-14T11:12:37.845Z"
   },
   {
    "duration": 171,
    "start_time": "2023-09-14T11:13:15.990Z"
   },
   {
    "duration": 184,
    "start_time": "2023-09-14T11:13:52.830Z"
   },
   {
    "duration": 168,
    "start_time": "2023-09-14T11:14:20.598Z"
   },
   {
    "duration": 197,
    "start_time": "2023-09-14T11:14:28.674Z"
   },
   {
    "duration": 179,
    "start_time": "2023-09-14T11:16:22.590Z"
   },
   {
    "duration": 289,
    "start_time": "2023-09-14T11:16:28.409Z"
   },
   {
    "duration": 179,
    "start_time": "2023-09-14T11:16:58.371Z"
   },
   {
    "duration": 173,
    "start_time": "2023-09-14T11:17:02.046Z"
   },
   {
    "duration": 188,
    "start_time": "2023-09-14T11:17:23.598Z"
   },
   {
    "duration": 215,
    "start_time": "2023-09-14T11:17:58.305Z"
   },
   {
    "duration": 199,
    "start_time": "2023-09-14T11:18:03.293Z"
   },
   {
    "duration": 186,
    "start_time": "2023-09-14T11:18:22.782Z"
   },
   {
    "duration": 197,
    "start_time": "2023-09-14T11:18:24.919Z"
   },
   {
    "duration": 182,
    "start_time": "2023-09-14T11:19:52.391Z"
   },
   {
    "duration": 21,
    "start_time": "2023-09-14T11:25:48.673Z"
   },
   {
    "duration": 10,
    "start_time": "2023-09-14T11:26:16.818Z"
   },
   {
    "duration": 8,
    "start_time": "2023-09-14T11:32:28.198Z"
   },
   {
    "duration": 3,
    "start_time": "2023-09-14T11:32:32.681Z"
   },
   {
    "duration": 3,
    "start_time": "2023-09-14T11:32:57.281Z"
   },
   {
    "duration": 1213,
    "start_time": "2023-09-14T11:33:06.024Z"
   },
   {
    "duration": 77,
    "start_time": "2023-09-14T11:33:07.239Z"
   },
   {
    "duration": 24,
    "start_time": "2023-09-14T11:33:07.321Z"
   },
   {
    "duration": 66,
    "start_time": "2023-09-14T11:33:07.347Z"
   },
   {
    "duration": 217,
    "start_time": "2023-09-14T11:33:07.420Z"
   },
   {
    "duration": 40,
    "start_time": "2023-09-14T11:33:07.639Z"
   },
   {
    "duration": 39,
    "start_time": "2023-09-14T11:33:07.681Z"
   },
   {
    "duration": 22,
    "start_time": "2023-09-14T11:33:07.723Z"
   },
   {
    "duration": 40,
    "start_time": "2023-09-14T11:33:07.747Z"
   },
   {
    "duration": 30,
    "start_time": "2023-09-14T11:33:07.791Z"
   },
   {
    "duration": 23,
    "start_time": "2023-09-14T11:33:07.823Z"
   },
   {
    "duration": 13,
    "start_time": "2023-09-14T11:33:07.848Z"
   },
   {
    "duration": 30,
    "start_time": "2023-09-14T11:33:07.863Z"
   },
   {
    "duration": 36,
    "start_time": "2023-09-14T11:33:07.895Z"
   },
   {
    "duration": 12,
    "start_time": "2023-09-14T11:33:07.934Z"
   },
   {
    "duration": 15,
    "start_time": "2023-09-14T11:33:07.947Z"
   },
   {
    "duration": 729,
    "start_time": "2023-09-14T11:33:07.964Z"
   },
   {
    "duration": 168,
    "start_time": "2023-09-14T11:33:08.696Z"
   },
   {
    "duration": 13,
    "start_time": "2023-09-14T11:33:08.866Z"
   },
   {
    "duration": 282,
    "start_time": "2023-09-14T11:33:08.880Z"
   },
   {
    "duration": 39,
    "start_time": "2023-09-14T11:33:09.164Z"
   },
   {
    "duration": 238,
    "start_time": "2023-09-14T11:33:09.210Z"
   },
   {
    "duration": 206,
    "start_time": "2023-09-14T11:33:09.450Z"
   },
   {
    "duration": 196,
    "start_time": "2023-09-14T11:33:09.658Z"
   },
   {
    "duration": 9,
    "start_time": "2023-09-14T11:33:09.856Z"
   },
   {
    "duration": 187,
    "start_time": "2023-09-14T11:33:09.866Z"
   },
   {
    "duration": 61,
    "start_time": "2023-09-14T11:33:10.056Z"
   },
   {
    "duration": 16,
    "start_time": "2023-09-14T11:33:10.122Z"
   },
   {
    "duration": 44,
    "start_time": "2023-09-14T11:33:10.139Z"
   },
   {
    "duration": 36,
    "start_time": "2023-09-14T11:33:10.185Z"
   },
   {
    "duration": 67,
    "start_time": "2023-09-14T11:33:10.223Z"
   },
   {
    "duration": 220,
    "start_time": "2023-09-14T11:33:10.292Z"
   },
   {
    "duration": 9,
    "start_time": "2023-09-14T11:33:10.517Z"
   },
   {
    "duration": 200,
    "start_time": "2023-09-14T11:33:10.527Z"
   },
   {
    "duration": 10,
    "start_time": "2023-09-14T11:33:10.729Z"
   },
   {
    "duration": 293,
    "start_time": "2023-09-14T11:33:10.741Z"
   },
   {
    "duration": 9,
    "start_time": "2023-09-14T11:33:11.035Z"
   },
   {
    "duration": 178,
    "start_time": "2023-09-14T11:33:11.046Z"
   },
   {
    "duration": 13,
    "start_time": "2023-09-14T11:33:11.226Z"
   },
   {
    "duration": 6,
    "start_time": "2023-09-14T11:33:11.241Z"
   },
   {
    "duration": 33,
    "start_time": "2023-09-14T11:33:11.249Z"
   },
   {
    "duration": 35,
    "start_time": "2023-09-14T11:33:11.284Z"
   },
   {
    "duration": 18,
    "start_time": "2023-09-14T11:33:11.321Z"
   },
   {
    "duration": 71,
    "start_time": "2023-09-14T11:33:11.341Z"
   },
   {
    "duration": 24,
    "start_time": "2023-09-14T11:33:11.417Z"
   },
   {
    "duration": 7,
    "start_time": "2023-09-14T11:33:11.443Z"
   },
   {
    "duration": 20,
    "start_time": "2023-09-14T11:33:11.451Z"
   },
   {
    "duration": 44,
    "start_time": "2023-09-14T11:33:11.472Z"
   },
   {
    "duration": 28,
    "start_time": "2023-09-14T11:33:11.518Z"
   },
   {
    "duration": 41,
    "start_time": "2023-09-14T11:33:11.548Z"
   },
   {
    "duration": 47,
    "start_time": "2023-09-14T11:33:11.591Z"
   },
   {
    "duration": 17,
    "start_time": "2023-09-14T11:33:11.640Z"
   },
   {
    "duration": 27,
    "start_time": "2023-09-14T11:33:11.659Z"
   },
   {
    "duration": 32,
    "start_time": "2023-09-14T11:33:11.688Z"
   },
   {
    "duration": 560,
    "start_time": "2023-09-14T11:33:36.030Z"
   },
   {
    "duration": 576,
    "start_time": "2023-09-14T11:33:54.781Z"
   },
   {
    "duration": 498,
    "start_time": "2023-09-14T11:34:05.993Z"
   },
   {
    "duration": 454,
    "start_time": "2023-09-14T11:34:12.315Z"
   },
   {
    "duration": 205,
    "start_time": "2023-09-14T11:34:19.847Z"
   },
   {
    "duration": 298,
    "start_time": "2023-09-14T11:34:55.419Z"
   },
   {
    "duration": 22,
    "start_time": "2023-09-14T11:35:26.519Z"
   },
   {
    "duration": 7,
    "start_time": "2023-09-14T12:11:13.174Z"
   },
   {
    "duration": 4,
    "start_time": "2023-09-14T12:11:14.687Z"
   },
   {
    "duration": 6,
    "start_time": "2023-09-14T12:11:20.382Z"
   },
   {
    "duration": 5,
    "start_time": "2023-09-14T12:11:27.059Z"
   },
   {
    "duration": 3,
    "start_time": "2023-09-14T12:11:27.782Z"
   },
   {
    "duration": 53,
    "start_time": "2023-09-14T15:56:30.232Z"
   },
   {
    "duration": 1479,
    "start_time": "2023-09-14T15:56:48.619Z"
   },
   {
    "duration": 222,
    "start_time": "2023-09-14T15:56:50.101Z"
   },
   {
    "duration": 12,
    "start_time": "2023-09-14T15:56:50.325Z"
   },
   {
    "duration": 13,
    "start_time": "2023-09-14T15:56:50.340Z"
   },
   {
    "duration": 25,
    "start_time": "2023-09-14T15:56:50.354Z"
   },
   {
    "duration": 30,
    "start_time": "2023-09-14T15:56:50.384Z"
   },
   {
    "duration": 17,
    "start_time": "2023-09-14T15:56:50.415Z"
   },
   {
    "duration": 16,
    "start_time": "2023-09-14T15:56:50.434Z"
   },
   {
    "duration": 22,
    "start_time": "2023-09-14T15:56:50.452Z"
   },
   {
    "duration": 30,
    "start_time": "2023-09-14T15:56:50.477Z"
   },
   {
    "duration": 9,
    "start_time": "2023-09-14T15:56:50.509Z"
   },
   {
    "duration": 15,
    "start_time": "2023-09-14T15:56:50.520Z"
   },
   {
    "duration": 35,
    "start_time": "2023-09-14T15:56:50.536Z"
   },
   {
    "duration": 40,
    "start_time": "2023-09-14T15:56:50.573Z"
   },
   {
    "duration": 24,
    "start_time": "2023-09-14T15:56:50.615Z"
   },
   {
    "duration": 12,
    "start_time": "2023-09-14T15:56:50.640Z"
   },
   {
    "duration": 242,
    "start_time": "2023-09-14T15:56:50.654Z"
   },
   {
    "duration": 157,
    "start_time": "2023-09-14T15:56:50.898Z"
   },
   {
    "duration": 8,
    "start_time": "2023-09-14T15:56:51.057Z"
   },
   {
    "duration": 240,
    "start_time": "2023-09-14T15:56:51.066Z"
   },
   {
    "duration": 10,
    "start_time": "2023-09-14T15:56:51.308Z"
   },
   {
    "duration": 224,
    "start_time": "2023-09-14T15:56:51.319Z"
   },
   {
    "duration": 202,
    "start_time": "2023-09-14T15:56:51.545Z"
   },
   {
    "duration": 184,
    "start_time": "2023-09-14T15:56:51.749Z"
   },
   {
    "duration": 9,
    "start_time": "2023-09-14T15:56:51.934Z"
   },
   {
    "duration": 186,
    "start_time": "2023-09-14T15:56:51.945Z"
   },
   {
    "duration": 36,
    "start_time": "2023-09-14T15:56:52.132Z"
   },
   {
    "duration": 34,
    "start_time": "2023-09-14T15:56:52.171Z"
   },
   {
    "duration": 9,
    "start_time": "2023-09-14T15:56:52.210Z"
   },
   {
    "duration": 22,
    "start_time": "2023-09-14T15:56:52.221Z"
   },
   {
    "duration": 52,
    "start_time": "2023-09-14T15:56:52.245Z"
   },
   {
    "duration": 214,
    "start_time": "2023-09-14T15:56:52.298Z"
   },
   {
    "duration": 9,
    "start_time": "2023-09-14T15:56:52.514Z"
   },
   {
    "duration": 197,
    "start_time": "2023-09-14T15:56:52.525Z"
   },
   {
    "duration": 8,
    "start_time": "2023-09-14T15:56:52.724Z"
   },
   {
    "duration": 291,
    "start_time": "2023-09-14T15:56:52.733Z"
   },
   {
    "duration": 9,
    "start_time": "2023-09-14T15:56:53.026Z"
   },
   {
    "duration": 184,
    "start_time": "2023-09-14T15:56:53.036Z"
   },
   {
    "duration": 8,
    "start_time": "2023-09-14T15:56:53.222Z"
   },
   {
    "duration": 11,
    "start_time": "2023-09-14T15:56:53.232Z"
   },
   {
    "duration": 38,
    "start_time": "2023-09-14T15:56:53.244Z"
   },
   {
    "duration": 31,
    "start_time": "2023-09-14T15:56:53.283Z"
   },
   {
    "duration": 15,
    "start_time": "2023-09-14T15:56:53.316Z"
   },
   {
    "duration": 40,
    "start_time": "2023-09-14T15:56:53.333Z"
   },
   {
    "duration": 38,
    "start_time": "2023-09-14T15:56:53.374Z"
   },
   {
    "duration": 10,
    "start_time": "2023-09-14T15:56:53.414Z"
   },
   {
    "duration": 9,
    "start_time": "2023-09-14T15:56:53.426Z"
   },
   {
    "duration": 4,
    "start_time": "2023-09-14T15:56:53.436Z"
   },
   {
    "duration": 11,
    "start_time": "2023-09-14T15:56:53.442Z"
   },
   {
    "duration": 28,
    "start_time": "2023-09-14T15:56:53.454Z"
   },
   {
    "duration": 6,
    "start_time": "2023-09-14T15:56:53.484Z"
   },
   {
    "duration": 21,
    "start_time": "2023-09-14T15:56:53.492Z"
   },
   {
    "duration": 3,
    "start_time": "2023-09-14T15:56:53.515Z"
   },
   {
    "duration": 7,
    "start_time": "2023-09-14T15:56:53.520Z"
   },
   {
    "duration": 5,
    "start_time": "2023-09-14T15:56:53.529Z"
   },
   {
    "duration": 5,
    "start_time": "2023-09-14T15:57:21.121Z"
   },
   {
    "duration": 5,
    "start_time": "2023-09-14T16:01:35.578Z"
   },
   {
    "duration": 4,
    "start_time": "2023-09-14T16:02:48.875Z"
   },
   {
    "duration": 1224,
    "start_time": "2023-09-14T22:38:56.170Z"
   },
   {
    "duration": 77,
    "start_time": "2023-09-14T22:38:57.397Z"
   },
   {
    "duration": 15,
    "start_time": "2023-09-14T22:38:57.476Z"
   },
   {
    "duration": 13,
    "start_time": "2023-09-14T22:38:57.494Z"
   },
   {
    "duration": 14,
    "start_time": "2023-09-14T22:38:57.510Z"
   },
   {
    "duration": 30,
    "start_time": "2023-09-14T22:38:57.526Z"
   },
   {
    "duration": 8,
    "start_time": "2023-09-14T22:38:57.560Z"
   },
   {
    "duration": 13,
    "start_time": "2023-09-14T22:38:57.570Z"
   },
   {
    "duration": 10,
    "start_time": "2023-09-14T22:38:57.584Z"
   },
   {
    "duration": 13,
    "start_time": "2023-09-14T22:38:57.596Z"
   },
   {
    "duration": 8,
    "start_time": "2023-09-14T22:38:57.610Z"
   },
   {
    "duration": 37,
    "start_time": "2023-09-14T22:38:57.620Z"
   },
   {
    "duration": 14,
    "start_time": "2023-09-14T22:38:57.659Z"
   },
   {
    "duration": 20,
    "start_time": "2023-09-14T22:38:57.678Z"
   },
   {
    "duration": 14,
    "start_time": "2023-09-14T22:38:57.700Z"
   },
   {
    "duration": 42,
    "start_time": "2023-09-14T22:38:57.716Z"
   },
   {
    "duration": 219,
    "start_time": "2023-09-14T22:38:57.760Z"
   },
   {
    "duration": 169,
    "start_time": "2023-09-14T22:38:57.981Z"
   },
   {
    "duration": 10,
    "start_time": "2023-09-14T22:38:58.156Z"
   },
   {
    "duration": 191,
    "start_time": "2023-09-14T22:38:58.167Z"
   },
   {
    "duration": 10,
    "start_time": "2023-09-14T22:38:58.360Z"
   },
   {
    "duration": 206,
    "start_time": "2023-09-14T22:38:58.371Z"
   },
   {
    "duration": 188,
    "start_time": "2023-09-14T22:38:58.579Z"
   },
   {
    "duration": 232,
    "start_time": "2023-09-14T22:38:58.769Z"
   },
   {
    "duration": 10,
    "start_time": "2023-09-14T22:38:59.003Z"
   },
   {
    "duration": 169,
    "start_time": "2023-09-14T22:38:59.015Z"
   },
   {
    "duration": 35,
    "start_time": "2023-09-14T22:38:59.186Z"
   },
   {
    "duration": 34,
    "start_time": "2023-09-14T22:38:59.223Z"
   },
   {
    "duration": 11,
    "start_time": "2023-09-14T22:38:59.259Z"
   },
   {
    "duration": 30,
    "start_time": "2023-09-14T22:38:59.272Z"
   },
   {
    "duration": 19,
    "start_time": "2023-09-14T22:38:59.304Z"
   },
   {
    "duration": 197,
    "start_time": "2023-09-14T22:38:59.325Z"
   },
   {
    "duration": 9,
    "start_time": "2023-09-14T22:38:59.523Z"
   },
   {
    "duration": 168,
    "start_time": "2023-09-14T22:38:59.534Z"
   },
   {
    "duration": 10,
    "start_time": "2023-09-14T22:38:59.704Z"
   },
   {
    "duration": 284,
    "start_time": "2023-09-14T22:38:59.715Z"
   },
   {
    "duration": 12,
    "start_time": "2023-09-14T22:39:00.002Z"
   },
   {
    "duration": 178,
    "start_time": "2023-09-14T22:39:00.016Z"
   },
   {
    "duration": 9,
    "start_time": "2023-09-14T22:39:00.196Z"
   },
   {
    "duration": 38,
    "start_time": "2023-09-14T22:39:00.208Z"
   },
   {
    "duration": 93,
    "start_time": "2023-09-14T22:39:00.250Z"
   },
   {
    "duration": 67,
    "start_time": "2023-09-14T22:39:00.345Z"
   },
   {
    "duration": 51,
    "start_time": "2023-09-14T22:39:00.414Z"
   },
   {
    "duration": 59,
    "start_time": "2023-09-14T22:39:00.467Z"
   },
   {
    "duration": 35,
    "start_time": "2023-09-14T22:39:00.528Z"
   },
   {
    "duration": 31,
    "start_time": "2023-09-14T22:39:00.565Z"
   },
   {
    "duration": 39,
    "start_time": "2023-09-14T22:39:00.598Z"
   },
   {
    "duration": 96,
    "start_time": "2023-09-14T22:39:00.639Z"
   },
   {
    "duration": 86,
    "start_time": "2023-09-14T22:39:00.737Z"
   },
   {
    "duration": 47,
    "start_time": "2023-09-14T22:39:00.825Z"
   },
   {
    "duration": 64,
    "start_time": "2023-09-14T22:39:00.874Z"
   },
   {
    "duration": 167,
    "start_time": "2023-09-14T22:39:00.940Z"
   },
   {
    "duration": 54,
    "start_time": "2023-09-14T22:39:01.109Z"
   },
   {
    "duration": 27,
    "start_time": "2023-09-14T22:39:01.165Z"
   },
   {
    "duration": 38,
    "start_time": "2023-09-14T22:39:01.194Z"
   },
   {
    "duration": 43,
    "start_time": "2023-09-14T22:39:01.234Z"
   },
   {
    "duration": 50,
    "start_time": "2023-09-14T22:39:01.279Z"
   },
   {
    "duration": 68,
    "start_time": "2023-09-19T15:44:45.980Z"
   },
   {
    "duration": 1450,
    "start_time": "2023-09-19T15:44:52.215Z"
   },
   {
    "duration": 482,
    "start_time": "2023-09-19T15:44:53.667Z"
   },
   {
    "duration": 33,
    "start_time": "2023-09-19T15:44:54.151Z"
   },
   {
    "duration": 23,
    "start_time": "2023-09-19T15:44:54.186Z"
   },
   {
    "duration": 25,
    "start_time": "2023-09-19T15:44:54.212Z"
   },
   {
    "duration": 29,
    "start_time": "2023-09-19T15:44:54.238Z"
   },
   {
    "duration": 17,
    "start_time": "2023-09-19T15:44:54.270Z"
   },
   {
    "duration": 31,
    "start_time": "2023-09-19T15:44:54.289Z"
   },
   {
    "duration": 6,
    "start_time": "2023-09-19T15:44:54.322Z"
   },
   {
    "duration": 25,
    "start_time": "2023-09-19T15:44:54.330Z"
   },
   {
    "duration": 35,
    "start_time": "2023-09-19T15:44:54.358Z"
   },
   {
    "duration": 20,
    "start_time": "2023-09-19T15:44:54.395Z"
   },
   {
    "duration": 9,
    "start_time": "2023-09-19T15:44:54.417Z"
   },
   {
    "duration": 15,
    "start_time": "2023-09-19T15:44:54.429Z"
   },
   {
    "duration": 14,
    "start_time": "2023-09-19T15:44:54.445Z"
   },
   {
    "duration": 22,
    "start_time": "2023-09-19T15:44:54.465Z"
   },
   {
    "duration": 250,
    "start_time": "2023-09-19T15:44:54.490Z"
   },
   {
    "duration": 212,
    "start_time": "2023-09-19T15:44:54.743Z"
   },
   {
    "duration": 14,
    "start_time": "2023-09-19T15:44:54.957Z"
   },
   {
    "duration": 233,
    "start_time": "2023-09-19T15:44:54.975Z"
   },
   {
    "duration": 12,
    "start_time": "2023-09-19T15:44:55.210Z"
   },
   {
    "duration": 277,
    "start_time": "2023-09-19T15:44:55.224Z"
   },
   {
    "duration": 221,
    "start_time": "2023-09-19T15:44:55.507Z"
   },
   {
    "duration": 213,
    "start_time": "2023-09-19T15:44:55.729Z"
   },
   {
    "duration": 29,
    "start_time": "2023-09-19T15:44:55.944Z"
   },
   {
    "duration": 197,
    "start_time": "2023-09-19T15:44:55.975Z"
   },
   {
    "duration": 51,
    "start_time": "2023-09-19T15:44:56.179Z"
   },
   {
    "duration": 15,
    "start_time": "2023-09-19T15:44:56.232Z"
   },
   {
    "duration": 25,
    "start_time": "2023-09-19T15:44:56.260Z"
   },
   {
    "duration": 37,
    "start_time": "2023-09-19T15:44:56.286Z"
   },
   {
    "duration": 22,
    "start_time": "2023-09-19T15:44:56.325Z"
   },
   {
    "duration": 252,
    "start_time": "2023-09-19T15:44:56.348Z"
   },
   {
    "duration": 18,
    "start_time": "2023-09-19T15:44:56.603Z"
   },
   {
    "duration": 554,
    "start_time": "2023-09-19T15:44:56.622Z"
   },
   {
    "duration": 11,
    "start_time": "2023-09-19T15:44:57.178Z"
   },
   {
    "duration": 600,
    "start_time": "2023-09-19T15:44:57.191Z"
   },
   {
    "duration": 12,
    "start_time": "2023-09-19T15:44:57.793Z"
   },
   {
    "duration": 270,
    "start_time": "2023-09-19T15:44:57.813Z"
   },
   {
    "duration": 17,
    "start_time": "2023-09-19T15:44:58.086Z"
   },
   {
    "duration": 10,
    "start_time": "2023-09-19T15:44:58.105Z"
   },
   {
    "duration": 73,
    "start_time": "2023-09-19T15:44:58.123Z"
   },
   {
    "duration": 36,
    "start_time": "2023-09-19T15:44:58.198Z"
   },
   {
    "duration": 43,
    "start_time": "2023-09-19T15:44:58.236Z"
   },
   {
    "duration": 51,
    "start_time": "2023-09-19T15:44:58.284Z"
   },
   {
    "duration": 34,
    "start_time": "2023-09-19T15:44:58.337Z"
   },
   {
    "duration": 9,
    "start_time": "2023-09-19T15:44:58.373Z"
   },
   {
    "duration": 30,
    "start_time": "2023-09-19T15:44:58.384Z"
   },
   {
    "duration": 18,
    "start_time": "2023-09-19T15:44:58.416Z"
   },
   {
    "duration": 14,
    "start_time": "2023-09-19T15:44:58.435Z"
   },
   {
    "duration": 17,
    "start_time": "2023-09-19T15:44:58.451Z"
   },
   {
    "duration": 13,
    "start_time": "2023-09-19T15:44:58.469Z"
   },
   {
    "duration": 9,
    "start_time": "2023-09-19T15:44:58.484Z"
   },
   {
    "duration": 25,
    "start_time": "2023-09-19T15:44:58.495Z"
   },
   {
    "duration": 6,
    "start_time": "2023-09-19T15:44:58.522Z"
   },
   {
    "duration": 7,
    "start_time": "2023-09-19T15:44:58.530Z"
   },
   {
    "duration": 14,
    "start_time": "2023-09-19T15:44:58.538Z"
   },
   {
    "duration": 27,
    "start_time": "2023-09-19T15:44:58.564Z"
   },
   {
    "duration": 33,
    "start_time": "2023-09-19T15:44:58.594Z"
   }
  ],
  "kernelspec": {
   "display_name": "Python 3 (ipykernel)",
   "language": "python",
   "name": "python3"
  },
  "language_info": {
   "codemirror_mode": {
    "name": "ipython",
    "version": 3
   },
   "file_extension": ".py",
   "mimetype": "text/x-python",
   "name": "python",
   "nbconvert_exporter": "python",
   "pygments_lexer": "ipython3",
   "version": "3.9.18"
  },
  "toc": {
   "base_numbering": 1,
   "nav_menu": {},
   "number_sections": true,
   "sideBar": true,
   "skip_h1_title": true,
   "title_cell": "Table of Contents",
   "title_sidebar": "Contents",
   "toc_cell": false,
   "toc_position": {},
   "toc_section_display": true,
   "toc_window_display": true
  }
 },
 "nbformat": 4,
 "nbformat_minor": 5
}
