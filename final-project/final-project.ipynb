{
 "cells": [
  {
   "cell_type": "markdown",
   "id": "cf11a252",
   "metadata": {},
   "source": [
    "# Выпускной проект: промышленность"
   ]
  },
  {
   "cell_type": "markdown",
   "id": "5e754b72",
   "metadata": {},
   "source": [
    "Чтобы оптимизировать производственные расходы, металлургический комбинат «Стальная птица» решил уменьшить потребление электроэнергии на этапе обработки стали. Для этого комбинату нужно контролировать температуру сплава. Ваша задача — построить модель, которая будет её предсказывать. "
   ]
  },
  {
   "cell_type": "markdown",
   "id": "ad2893a3",
   "metadata": {},
   "source": [
    "### Описание этапа обработки"
   ]
  },
  {
   "cell_type": "markdown",
   "id": "ebc38c97",
   "metadata": {},
   "source": [
    "Сталь обрабатывают в металлическом ковше вместимостью около 100 тонн. Чтобы ковш выдерживал высокие температуры, изнутри его облицовывают огнеупорным кирпичом. Расплавленную сталь заливают в ковш и подогревают до нужной температуры графитовыми   электродами. Они установлены в крышке ковша.   \n",
    "  \n",
    "Из сплава выводится сера (этот процесс — десульфурация), добавлением примесей корректируется химический состав и отбираются пробы. Сталь легируют — изменяют её состав — подавая куски сплава из бункера для сыпучих материалов или проволоку через специальный трайб-аппарат (от англ. tribe — «масса»).  \n",
    "  \n",
    "Перед тем как первый раз ввести легирующие добавки, измеряют температуру стали и производят её химический анализ. Потом температуру на несколько минут повышают, добавляют легирующие материалы и продувают сплав инертным газом. Затем его перемешивают и снова проводят измерения. Такой цикл повторяется до достижения целевого химического состава и оптимальной температуры плавки.  \n",
    "  \n",
    "Тогда расплавленная сталь отправляется на доводку металла или поступает в машину непрерывной разливки. Оттуда готовый продукт выходит в виде заготовок-слябов (от англ. slab — «плита»)."
   ]
  },
  {
   "cell_type": "markdown",
   "id": "5cc26538",
   "metadata": {},
   "source": [
    "### Описание данных"
   ]
  },
  {
   "cell_type": "markdown",
   "id": "640d7f6d",
   "metadata": {},
   "source": [
    "Данные состоят из нескольких файлов, полученных из разных источников:\n",
    "1. data_arc_new.csv — данные об электродах;\n",
    "2. data_bulk_new.csv — данные о подаче сыпучих материалов (объём);\n",
    "3. data_bulk_time_new.csv — данные о подаче сыпучих материалов (время);\n",
    "4. data_gas_new.csv — данные о продувке сплава газом;\n",
    "5. data_temp_new.csv — результаты измерения температуры;\n",
    "6. data_wire_new.csv — данные о проволочных материалах (объём);\n",
    "7. data_wire_time_new.csv — данные о проволочных материалах (время)."
   ]
  },
  {
   "cell_type": "markdown",
   "id": "6c36151c",
   "metadata": {},
   "source": [
    "### План работы"
   ]
  },
  {
   "cell_type": "markdown",
   "id": "b04aca29",
   "metadata": {},
   "source": [
    "1. Загрузка данных\n",
    "2. Исследовательский анализ и предобработка данных\n",
    "3. Объединение данных\n",
    "4. Исследовательский анализ и предобработка данных объединённого датафрейма\n",
    "5. Подготовка данных\n",
    "6. Обучение моделей машинного обучения\n",
    "7. Выбор лучшей модели\n",
    "8. Общий вывод и рекомендации заказчику"
   ]
  },
  {
   "cell_type": "code",
   "execution_count": 1,
   "id": "9d2dd118",
   "metadata": {},
   "outputs": [],
   "source": [
    "import pandas as pd\n",
    "import numpy as np\n",
    "from sklearn.model_selection import train_test_split\n",
    "from sklearn.metrics import mean_absolute_error\n",
    "from sklearn.model_selection import GridSearchCV\n",
    "from sklearn.linear_model import LinearRegression\n",
    "from sklearn.ensemble import RandomForestRegressor\n",
    "from catboost import CatBoostRegressor\n",
    "from lightgbm import LGBMRegressor\n",
    "from sklearn.preprocessing import StandardScaler"
   ]
  },
  {
   "cell_type": "markdown",
   "id": "528bda86",
   "metadata": {},
   "source": [
    "## Загрузка данных"
   ]
  },
  {
   "cell_type": "markdown",
   "id": "6136797e",
   "metadata": {},
   "source": [
    "### Изучим датафрейм с данными об электродах"
   ]
  },
  {
   "cell_type": "code",
   "execution_count": 2,
   "id": "39cae9cb",
   "metadata": {},
   "outputs": [],
   "source": [
    "data_arc = pd.read_csv('/datasets/data_arc_new.csv')"
   ]
  },
  {
   "cell_type": "code",
   "execution_count": 3,
   "id": "055d3e2e",
   "metadata": {},
   "outputs": [
    {
     "data": {
      "text/html": [
       "<div>\n",
       "<style scoped>\n",
       "    .dataframe tbody tr th:only-of-type {\n",
       "        vertical-align: middle;\n",
       "    }\n",
       "\n",
       "    .dataframe tbody tr th {\n",
       "        vertical-align: top;\n",
       "    }\n",
       "\n",
       "    .dataframe thead th {\n",
       "        text-align: right;\n",
       "    }\n",
       "</style>\n",
       "<table border=\"1\" class=\"dataframe\">\n",
       "  <thead>\n",
       "    <tr style=\"text-align: right;\">\n",
       "      <th></th>\n",
       "      <th>key</th>\n",
       "      <th>Начало нагрева дугой</th>\n",
       "      <th>Конец нагрева дугой</th>\n",
       "      <th>Активная мощность</th>\n",
       "      <th>Реактивная мощность</th>\n",
       "    </tr>\n",
       "  </thead>\n",
       "  <tbody>\n",
       "    <tr>\n",
       "      <th>0</th>\n",
       "      <td>1</td>\n",
       "      <td>2019-05-03 11:02:14</td>\n",
       "      <td>2019-05-03 11:06:02</td>\n",
       "      <td>0.305130</td>\n",
       "      <td>0.211253</td>\n",
       "    </tr>\n",
       "    <tr>\n",
       "      <th>1</th>\n",
       "      <td>1</td>\n",
       "      <td>2019-05-03 11:07:28</td>\n",
       "      <td>2019-05-03 11:10:33</td>\n",
       "      <td>0.765658</td>\n",
       "      <td>0.477438</td>\n",
       "    </tr>\n",
       "    <tr>\n",
       "      <th>2</th>\n",
       "      <td>1</td>\n",
       "      <td>2019-05-03 11:11:44</td>\n",
       "      <td>2019-05-03 11:14:36</td>\n",
       "      <td>0.580313</td>\n",
       "      <td>0.430460</td>\n",
       "    </tr>\n",
       "    <tr>\n",
       "      <th>3</th>\n",
       "      <td>1</td>\n",
       "      <td>2019-05-03 11:18:14</td>\n",
       "      <td>2019-05-03 11:24:19</td>\n",
       "      <td>0.518496</td>\n",
       "      <td>0.379979</td>\n",
       "    </tr>\n",
       "    <tr>\n",
       "      <th>4</th>\n",
       "      <td>1</td>\n",
       "      <td>2019-05-03 11:26:09</td>\n",
       "      <td>2019-05-03 11:28:37</td>\n",
       "      <td>0.867133</td>\n",
       "      <td>0.643691</td>\n",
       "    </tr>\n",
       "    <tr>\n",
       "      <th>5</th>\n",
       "      <td>2</td>\n",
       "      <td>2019-05-03 11:34:14</td>\n",
       "      <td>2019-05-03 11:36:31</td>\n",
       "      <td>0.381124</td>\n",
       "      <td>0.220351</td>\n",
       "    </tr>\n",
       "    <tr>\n",
       "      <th>6</th>\n",
       "      <td>2</td>\n",
       "      <td>2019-05-03 11:38:50</td>\n",
       "      <td>2019-05-03 11:44:28</td>\n",
       "      <td>0.261665</td>\n",
       "      <td>0.205527</td>\n",
       "    </tr>\n",
       "    <tr>\n",
       "      <th>7</th>\n",
       "      <td>2</td>\n",
       "      <td>2019-05-03 11:46:19</td>\n",
       "      <td>2019-05-03 11:48:25</td>\n",
       "      <td>0.710297</td>\n",
       "      <td>0.484962</td>\n",
       "    </tr>\n",
       "    <tr>\n",
       "      <th>8</th>\n",
       "      <td>2</td>\n",
       "      <td>2019-05-03 11:49:48</td>\n",
       "      <td>2019-05-03 11:53:18</td>\n",
       "      <td>0.786322</td>\n",
       "      <td>0.542517</td>\n",
       "    </tr>\n",
       "    <tr>\n",
       "      <th>9</th>\n",
       "      <td>3</td>\n",
       "      <td>2019-05-03 12:06:54</td>\n",
       "      <td>2019-05-03 12:11:34</td>\n",
       "      <td>1.101678</td>\n",
       "      <td>0.820856</td>\n",
       "    </tr>\n",
       "  </tbody>\n",
       "</table>\n",
       "</div>"
      ],
      "text/plain": [
       "   key Начало нагрева дугой  Конец нагрева дугой  Активная мощность  \\\n",
       "0    1  2019-05-03 11:02:14  2019-05-03 11:06:02           0.305130   \n",
       "1    1  2019-05-03 11:07:28  2019-05-03 11:10:33           0.765658   \n",
       "2    1  2019-05-03 11:11:44  2019-05-03 11:14:36           0.580313   \n",
       "3    1  2019-05-03 11:18:14  2019-05-03 11:24:19           0.518496   \n",
       "4    1  2019-05-03 11:26:09  2019-05-03 11:28:37           0.867133   \n",
       "5    2  2019-05-03 11:34:14  2019-05-03 11:36:31           0.381124   \n",
       "6    2  2019-05-03 11:38:50  2019-05-03 11:44:28           0.261665   \n",
       "7    2  2019-05-03 11:46:19  2019-05-03 11:48:25           0.710297   \n",
       "8    2  2019-05-03 11:49:48  2019-05-03 11:53:18           0.786322   \n",
       "9    3  2019-05-03 12:06:54  2019-05-03 12:11:34           1.101678   \n",
       "\n",
       "   Реактивная мощность  \n",
       "0             0.211253  \n",
       "1             0.477438  \n",
       "2             0.430460  \n",
       "3             0.379979  \n",
       "4             0.643691  \n",
       "5             0.220351  \n",
       "6             0.205527  \n",
       "7             0.484962  \n",
       "8             0.542517  \n",
       "9             0.820856  "
      ]
     },
     "execution_count": 3,
     "metadata": {},
     "output_type": "execute_result"
    }
   ],
   "source": [
    "data_arc.head(10)"
   ]
  },
  {
   "cell_type": "code",
   "execution_count": 4,
   "id": "b4857606",
   "metadata": {},
   "outputs": [
    {
     "name": "stdout",
     "output_type": "stream",
     "text": [
      "<class 'pandas.core.frame.DataFrame'>\n",
      "RangeIndex: 14876 entries, 0 to 14875\n",
      "Data columns (total 5 columns):\n",
      " #   Column                Non-Null Count  Dtype  \n",
      "---  ------                --------------  -----  \n",
      " 0   key                   14876 non-null  int64  \n",
      " 1   Начало нагрева дугой  14876 non-null  object \n",
      " 2   Конец нагрева дугой   14876 non-null  object \n",
      " 3   Активная мощность     14876 non-null  float64\n",
      " 4   Реактивная мощность   14876 non-null  float64\n",
      "dtypes: float64(2), int64(1), object(2)\n",
      "memory usage: 581.2+ KB\n"
     ]
    }
   ],
   "source": [
    "data_arc.info()"
   ]
  },
  {
   "cell_type": "markdown",
   "id": "9a793f91",
   "metadata": {},
   "source": [
    "Из первичного осмотра можем сказать, что пропусков нет, однако на этапе предобработки нужно будет поменять тип данных у столбцов с датами."
   ]
  },
  {
   "cell_type": "code",
   "execution_count": 5,
   "id": "3400fedb",
   "metadata": {},
   "outputs": [
    {
     "data": {
      "text/html": [
       "<div>\n",
       "<style scoped>\n",
       "    .dataframe tbody tr th:only-of-type {\n",
       "        vertical-align: middle;\n",
       "    }\n",
       "\n",
       "    .dataframe tbody tr th {\n",
       "        vertical-align: top;\n",
       "    }\n",
       "\n",
       "    .dataframe thead th {\n",
       "        text-align: right;\n",
       "    }\n",
       "</style>\n",
       "<table border=\"1\" class=\"dataframe\">\n",
       "  <thead>\n",
       "    <tr style=\"text-align: right;\">\n",
       "      <th></th>\n",
       "      <th>key</th>\n",
       "      <th>Активная мощность</th>\n",
       "      <th>Реактивная мощность</th>\n",
       "    </tr>\n",
       "  </thead>\n",
       "  <tbody>\n",
       "    <tr>\n",
       "      <th>count</th>\n",
       "      <td>14876.000000</td>\n",
       "      <td>14876.000000</td>\n",
       "      <td>14876.000000</td>\n",
       "    </tr>\n",
       "    <tr>\n",
       "      <th>mean</th>\n",
       "      <td>1615.220422</td>\n",
       "      <td>0.662752</td>\n",
       "      <td>0.438986</td>\n",
       "    </tr>\n",
       "    <tr>\n",
       "      <th>std</th>\n",
       "      <td>934.571502</td>\n",
       "      <td>0.258885</td>\n",
       "      <td>5.873485</td>\n",
       "    </tr>\n",
       "    <tr>\n",
       "      <th>min</th>\n",
       "      <td>1.000000</td>\n",
       "      <td>0.223120</td>\n",
       "      <td>-715.479924</td>\n",
       "    </tr>\n",
       "    <tr>\n",
       "      <th>25%</th>\n",
       "      <td>806.000000</td>\n",
       "      <td>0.467115</td>\n",
       "      <td>0.337175</td>\n",
       "    </tr>\n",
       "    <tr>\n",
       "      <th>50%</th>\n",
       "      <td>1617.000000</td>\n",
       "      <td>0.599587</td>\n",
       "      <td>0.441639</td>\n",
       "    </tr>\n",
       "    <tr>\n",
       "      <th>75%</th>\n",
       "      <td>2429.000000</td>\n",
       "      <td>0.830070</td>\n",
       "      <td>0.608201</td>\n",
       "    </tr>\n",
       "    <tr>\n",
       "      <th>max</th>\n",
       "      <td>3241.000000</td>\n",
       "      <td>1.463773</td>\n",
       "      <td>1.270284</td>\n",
       "    </tr>\n",
       "  </tbody>\n",
       "</table>\n",
       "</div>"
      ],
      "text/plain": [
       "                key  Активная мощность  Реактивная мощность\n",
       "count  14876.000000       14876.000000         14876.000000\n",
       "mean    1615.220422           0.662752             0.438986\n",
       "std      934.571502           0.258885             5.873485\n",
       "min        1.000000           0.223120          -715.479924\n",
       "25%      806.000000           0.467115             0.337175\n",
       "50%     1617.000000           0.599587             0.441639\n",
       "75%     2429.000000           0.830070             0.608201\n",
       "max     3241.000000           1.463773             1.270284"
      ]
     },
     "execution_count": 5,
     "metadata": {},
     "output_type": "execute_result"
    }
   ],
   "source": [
    "data_arc.describe()"
   ]
  },
  {
   "cell_type": "markdown",
   "id": "373869c3",
   "metadata": {},
   "source": [
    "Очевидно что минимально значение в стобце реактивная мощность - выброс и придется избавиться от него на этапе предобработки."
   ]
  },
  {
   "cell_type": "markdown",
   "id": "ecbed9c7",
   "metadata": {},
   "source": [
    "### Изучим датафрейм с данными о подаче сыпучих материалов (объём)"
   ]
  },
  {
   "cell_type": "code",
   "execution_count": 6,
   "id": "11552833",
   "metadata": {},
   "outputs": [],
   "source": [
    "data_bulk = pd.read_csv('/datasets/data_bulk_new.csv')"
   ]
  },
  {
   "cell_type": "code",
   "execution_count": 7,
   "id": "9bc53738",
   "metadata": {},
   "outputs": [
    {
     "data": {
      "text/html": [
       "<div>\n",
       "<style scoped>\n",
       "    .dataframe tbody tr th:only-of-type {\n",
       "        vertical-align: middle;\n",
       "    }\n",
       "\n",
       "    .dataframe tbody tr th {\n",
       "        vertical-align: top;\n",
       "    }\n",
       "\n",
       "    .dataframe thead th {\n",
       "        text-align: right;\n",
       "    }\n",
       "</style>\n",
       "<table border=\"1\" class=\"dataframe\">\n",
       "  <thead>\n",
       "    <tr style=\"text-align: right;\">\n",
       "      <th></th>\n",
       "      <th>key</th>\n",
       "      <th>Bulk 1</th>\n",
       "      <th>Bulk 2</th>\n",
       "      <th>Bulk 3</th>\n",
       "      <th>Bulk 4</th>\n",
       "      <th>Bulk 5</th>\n",
       "      <th>Bulk 6</th>\n",
       "      <th>Bulk 7</th>\n",
       "      <th>Bulk 8</th>\n",
       "      <th>Bulk 9</th>\n",
       "      <th>Bulk 10</th>\n",
       "      <th>Bulk 11</th>\n",
       "      <th>Bulk 12</th>\n",
       "      <th>Bulk 13</th>\n",
       "      <th>Bulk 14</th>\n",
       "      <th>Bulk 15</th>\n",
       "    </tr>\n",
       "  </thead>\n",
       "  <tbody>\n",
       "    <tr>\n",
       "      <th>0</th>\n",
       "      <td>1</td>\n",
       "      <td>NaN</td>\n",
       "      <td>NaN</td>\n",
       "      <td>NaN</td>\n",
       "      <td>43.0</td>\n",
       "      <td>NaN</td>\n",
       "      <td>NaN</td>\n",
       "      <td>NaN</td>\n",
       "      <td>NaN</td>\n",
       "      <td>NaN</td>\n",
       "      <td>NaN</td>\n",
       "      <td>NaN</td>\n",
       "      <td>206.0</td>\n",
       "      <td>NaN</td>\n",
       "      <td>150.0</td>\n",
       "      <td>154.0</td>\n",
       "    </tr>\n",
       "    <tr>\n",
       "      <th>1</th>\n",
       "      <td>2</td>\n",
       "      <td>NaN</td>\n",
       "      <td>NaN</td>\n",
       "      <td>NaN</td>\n",
       "      <td>73.0</td>\n",
       "      <td>NaN</td>\n",
       "      <td>NaN</td>\n",
       "      <td>NaN</td>\n",
       "      <td>NaN</td>\n",
       "      <td>NaN</td>\n",
       "      <td>NaN</td>\n",
       "      <td>NaN</td>\n",
       "      <td>206.0</td>\n",
       "      <td>NaN</td>\n",
       "      <td>149.0</td>\n",
       "      <td>154.0</td>\n",
       "    </tr>\n",
       "    <tr>\n",
       "      <th>2</th>\n",
       "      <td>3</td>\n",
       "      <td>NaN</td>\n",
       "      <td>NaN</td>\n",
       "      <td>NaN</td>\n",
       "      <td>34.0</td>\n",
       "      <td>NaN</td>\n",
       "      <td>NaN</td>\n",
       "      <td>NaN</td>\n",
       "      <td>NaN</td>\n",
       "      <td>NaN</td>\n",
       "      <td>NaN</td>\n",
       "      <td>NaN</td>\n",
       "      <td>205.0</td>\n",
       "      <td>NaN</td>\n",
       "      <td>152.0</td>\n",
       "      <td>153.0</td>\n",
       "    </tr>\n",
       "    <tr>\n",
       "      <th>3</th>\n",
       "      <td>4</td>\n",
       "      <td>NaN</td>\n",
       "      <td>NaN</td>\n",
       "      <td>NaN</td>\n",
       "      <td>81.0</td>\n",
       "      <td>NaN</td>\n",
       "      <td>NaN</td>\n",
       "      <td>NaN</td>\n",
       "      <td>NaN</td>\n",
       "      <td>NaN</td>\n",
       "      <td>NaN</td>\n",
       "      <td>NaN</td>\n",
       "      <td>207.0</td>\n",
       "      <td>NaN</td>\n",
       "      <td>153.0</td>\n",
       "      <td>154.0</td>\n",
       "    </tr>\n",
       "    <tr>\n",
       "      <th>4</th>\n",
       "      <td>5</td>\n",
       "      <td>NaN</td>\n",
       "      <td>NaN</td>\n",
       "      <td>NaN</td>\n",
       "      <td>78.0</td>\n",
       "      <td>NaN</td>\n",
       "      <td>NaN</td>\n",
       "      <td>NaN</td>\n",
       "      <td>NaN</td>\n",
       "      <td>NaN</td>\n",
       "      <td>NaN</td>\n",
       "      <td>NaN</td>\n",
       "      <td>203.0</td>\n",
       "      <td>NaN</td>\n",
       "      <td>151.0</td>\n",
       "      <td>152.0</td>\n",
       "    </tr>\n",
       "  </tbody>\n",
       "</table>\n",
       "</div>"
      ],
      "text/plain": [
       "   key  Bulk 1  Bulk 2  Bulk 3  Bulk 4  Bulk 5  Bulk 6  Bulk 7  Bulk 8  \\\n",
       "0    1     NaN     NaN     NaN    43.0     NaN     NaN     NaN     NaN   \n",
       "1    2     NaN     NaN     NaN    73.0     NaN     NaN     NaN     NaN   \n",
       "2    3     NaN     NaN     NaN    34.0     NaN     NaN     NaN     NaN   \n",
       "3    4     NaN     NaN     NaN    81.0     NaN     NaN     NaN     NaN   \n",
       "4    5     NaN     NaN     NaN    78.0     NaN     NaN     NaN     NaN   \n",
       "\n",
       "   Bulk 9  Bulk 10  Bulk 11  Bulk 12  Bulk 13  Bulk 14  Bulk 15  \n",
       "0     NaN      NaN      NaN    206.0      NaN    150.0    154.0  \n",
       "1     NaN      NaN      NaN    206.0      NaN    149.0    154.0  \n",
       "2     NaN      NaN      NaN    205.0      NaN    152.0    153.0  \n",
       "3     NaN      NaN      NaN    207.0      NaN    153.0    154.0  \n",
       "4     NaN      NaN      NaN    203.0      NaN    151.0    152.0  "
      ]
     },
     "execution_count": 7,
     "metadata": {},
     "output_type": "execute_result"
    }
   ],
   "source": [
    "data_bulk.head()"
   ]
  },
  {
   "cell_type": "code",
   "execution_count": 8,
   "id": "6ad30d67",
   "metadata": {},
   "outputs": [
    {
     "name": "stdout",
     "output_type": "stream",
     "text": [
      "<class 'pandas.core.frame.DataFrame'>\n",
      "RangeIndex: 3129 entries, 0 to 3128\n",
      "Data columns (total 16 columns):\n",
      " #   Column   Non-Null Count  Dtype  \n",
      "---  ------   --------------  -----  \n",
      " 0   key      3129 non-null   int64  \n",
      " 1   Bulk 1   252 non-null    float64\n",
      " 2   Bulk 2   22 non-null     float64\n",
      " 3   Bulk 3   1298 non-null   float64\n",
      " 4   Bulk 4   1014 non-null   float64\n",
      " 5   Bulk 5   77 non-null     float64\n",
      " 6   Bulk 6   576 non-null    float64\n",
      " 7   Bulk 7   25 non-null     float64\n",
      " 8   Bulk 8   1 non-null      float64\n",
      " 9   Bulk 9   19 non-null     float64\n",
      " 10  Bulk 10  176 non-null    float64\n",
      " 11  Bulk 11  177 non-null    float64\n",
      " 12  Bulk 12  2450 non-null   float64\n",
      " 13  Bulk 13  18 non-null     float64\n",
      " 14  Bulk 14  2806 non-null   float64\n",
      " 15  Bulk 15  2248 non-null   float64\n",
      "dtypes: float64(15), int64(1)\n",
      "memory usage: 391.2 KB\n"
     ]
    }
   ],
   "source": [
    "data_bulk.info()"
   ]
  },
  {
   "cell_type": "code",
   "execution_count": 9,
   "id": "3f37598e",
   "metadata": {},
   "outputs": [
    {
     "data": {
      "text/html": [
       "<div>\n",
       "<style scoped>\n",
       "    .dataframe tbody tr th:only-of-type {\n",
       "        vertical-align: middle;\n",
       "    }\n",
       "\n",
       "    .dataframe tbody tr th {\n",
       "        vertical-align: top;\n",
       "    }\n",
       "\n",
       "    .dataframe thead th {\n",
       "        text-align: right;\n",
       "    }\n",
       "</style>\n",
       "<table border=\"1\" class=\"dataframe\">\n",
       "  <thead>\n",
       "    <tr style=\"text-align: right;\">\n",
       "      <th></th>\n",
       "      <th>key</th>\n",
       "      <th>Bulk 1</th>\n",
       "      <th>Bulk 2</th>\n",
       "      <th>Bulk 3</th>\n",
       "      <th>Bulk 4</th>\n",
       "      <th>Bulk 5</th>\n",
       "      <th>Bulk 6</th>\n",
       "      <th>Bulk 7</th>\n",
       "      <th>Bulk 8</th>\n",
       "      <th>Bulk 9</th>\n",
       "      <th>Bulk 10</th>\n",
       "      <th>Bulk 11</th>\n",
       "      <th>Bulk 12</th>\n",
       "      <th>Bulk 13</th>\n",
       "      <th>Bulk 14</th>\n",
       "      <th>Bulk 15</th>\n",
       "    </tr>\n",
       "  </thead>\n",
       "  <tbody>\n",
       "    <tr>\n",
       "      <th>count</th>\n",
       "      <td>3129.000000</td>\n",
       "      <td>252.000000</td>\n",
       "      <td>22.000000</td>\n",
       "      <td>1298.000000</td>\n",
       "      <td>1014.000000</td>\n",
       "      <td>77.000000</td>\n",
       "      <td>576.000000</td>\n",
       "      <td>25.000000</td>\n",
       "      <td>1.0</td>\n",
       "      <td>19.000000</td>\n",
       "      <td>176.000000</td>\n",
       "      <td>177.000000</td>\n",
       "      <td>2450.000000</td>\n",
       "      <td>18.000000</td>\n",
       "      <td>2806.000000</td>\n",
       "      <td>2248.000000</td>\n",
       "    </tr>\n",
       "    <tr>\n",
       "      <th>mean</th>\n",
       "      <td>1624.383509</td>\n",
       "      <td>39.242063</td>\n",
       "      <td>253.045455</td>\n",
       "      <td>113.879045</td>\n",
       "      <td>104.394477</td>\n",
       "      <td>107.025974</td>\n",
       "      <td>118.925347</td>\n",
       "      <td>305.600000</td>\n",
       "      <td>49.0</td>\n",
       "      <td>76.315789</td>\n",
       "      <td>83.284091</td>\n",
       "      <td>76.819209</td>\n",
       "      <td>260.471020</td>\n",
       "      <td>181.111111</td>\n",
       "      <td>170.284747</td>\n",
       "      <td>160.513345</td>\n",
       "    </tr>\n",
       "    <tr>\n",
       "      <th>std</th>\n",
       "      <td>933.337642</td>\n",
       "      <td>18.277654</td>\n",
       "      <td>21.180578</td>\n",
       "      <td>75.483494</td>\n",
       "      <td>48.184126</td>\n",
       "      <td>81.790646</td>\n",
       "      <td>72.057776</td>\n",
       "      <td>191.022904</td>\n",
       "      <td>NaN</td>\n",
       "      <td>21.720581</td>\n",
       "      <td>26.060347</td>\n",
       "      <td>59.655365</td>\n",
       "      <td>120.649269</td>\n",
       "      <td>46.088009</td>\n",
       "      <td>65.868652</td>\n",
       "      <td>51.765319</td>\n",
       "    </tr>\n",
       "    <tr>\n",
       "      <th>min</th>\n",
       "      <td>1.000000</td>\n",
       "      <td>10.000000</td>\n",
       "      <td>228.000000</td>\n",
       "      <td>6.000000</td>\n",
       "      <td>12.000000</td>\n",
       "      <td>11.000000</td>\n",
       "      <td>17.000000</td>\n",
       "      <td>47.000000</td>\n",
       "      <td>49.0</td>\n",
       "      <td>63.000000</td>\n",
       "      <td>24.000000</td>\n",
       "      <td>8.000000</td>\n",
       "      <td>53.000000</td>\n",
       "      <td>151.000000</td>\n",
       "      <td>16.000000</td>\n",
       "      <td>1.000000</td>\n",
       "    </tr>\n",
       "    <tr>\n",
       "      <th>25%</th>\n",
       "      <td>816.000000</td>\n",
       "      <td>27.000000</td>\n",
       "      <td>242.000000</td>\n",
       "      <td>58.000000</td>\n",
       "      <td>72.000000</td>\n",
       "      <td>70.000000</td>\n",
       "      <td>69.750000</td>\n",
       "      <td>155.000000</td>\n",
       "      <td>49.0</td>\n",
       "      <td>66.000000</td>\n",
       "      <td>64.000000</td>\n",
       "      <td>25.000000</td>\n",
       "      <td>204.000000</td>\n",
       "      <td>153.250000</td>\n",
       "      <td>119.000000</td>\n",
       "      <td>105.000000</td>\n",
       "    </tr>\n",
       "    <tr>\n",
       "      <th>50%</th>\n",
       "      <td>1622.000000</td>\n",
       "      <td>31.000000</td>\n",
       "      <td>251.500000</td>\n",
       "      <td>97.500000</td>\n",
       "      <td>102.000000</td>\n",
       "      <td>86.000000</td>\n",
       "      <td>100.000000</td>\n",
       "      <td>298.000000</td>\n",
       "      <td>49.0</td>\n",
       "      <td>68.000000</td>\n",
       "      <td>86.500000</td>\n",
       "      <td>64.000000</td>\n",
       "      <td>208.000000</td>\n",
       "      <td>155.500000</td>\n",
       "      <td>151.000000</td>\n",
       "      <td>160.000000</td>\n",
       "    </tr>\n",
       "    <tr>\n",
       "      <th>75%</th>\n",
       "      <td>2431.000000</td>\n",
       "      <td>46.000000</td>\n",
       "      <td>257.750000</td>\n",
       "      <td>152.000000</td>\n",
       "      <td>133.000000</td>\n",
       "      <td>132.000000</td>\n",
       "      <td>157.000000</td>\n",
       "      <td>406.000000</td>\n",
       "      <td>49.0</td>\n",
       "      <td>70.500000</td>\n",
       "      <td>102.000000</td>\n",
       "      <td>106.000000</td>\n",
       "      <td>316.000000</td>\n",
       "      <td>203.500000</td>\n",
       "      <td>205.750000</td>\n",
       "      <td>205.000000</td>\n",
       "    </tr>\n",
       "    <tr>\n",
       "      <th>max</th>\n",
       "      <td>3241.000000</td>\n",
       "      <td>185.000000</td>\n",
       "      <td>325.000000</td>\n",
       "      <td>454.000000</td>\n",
       "      <td>281.000000</td>\n",
       "      <td>603.000000</td>\n",
       "      <td>503.000000</td>\n",
       "      <td>772.000000</td>\n",
       "      <td>49.0</td>\n",
       "      <td>147.000000</td>\n",
       "      <td>159.000000</td>\n",
       "      <td>313.000000</td>\n",
       "      <td>1849.000000</td>\n",
       "      <td>305.000000</td>\n",
       "      <td>636.000000</td>\n",
       "      <td>405.000000</td>\n",
       "    </tr>\n",
       "  </tbody>\n",
       "</table>\n",
       "</div>"
      ],
      "text/plain": [
       "               key      Bulk 1      Bulk 2       Bulk 3       Bulk 4  \\\n",
       "count  3129.000000  252.000000   22.000000  1298.000000  1014.000000   \n",
       "mean   1624.383509   39.242063  253.045455   113.879045   104.394477   \n",
       "std     933.337642   18.277654   21.180578    75.483494    48.184126   \n",
       "min       1.000000   10.000000  228.000000     6.000000    12.000000   \n",
       "25%     816.000000   27.000000  242.000000    58.000000    72.000000   \n",
       "50%    1622.000000   31.000000  251.500000    97.500000   102.000000   \n",
       "75%    2431.000000   46.000000  257.750000   152.000000   133.000000   \n",
       "max    3241.000000  185.000000  325.000000   454.000000   281.000000   \n",
       "\n",
       "           Bulk 5      Bulk 6      Bulk 7  Bulk 8      Bulk 9     Bulk 10  \\\n",
       "count   77.000000  576.000000   25.000000     1.0   19.000000  176.000000   \n",
       "mean   107.025974  118.925347  305.600000    49.0   76.315789   83.284091   \n",
       "std     81.790646   72.057776  191.022904     NaN   21.720581   26.060347   \n",
       "min     11.000000   17.000000   47.000000    49.0   63.000000   24.000000   \n",
       "25%     70.000000   69.750000  155.000000    49.0   66.000000   64.000000   \n",
       "50%     86.000000  100.000000  298.000000    49.0   68.000000   86.500000   \n",
       "75%    132.000000  157.000000  406.000000    49.0   70.500000  102.000000   \n",
       "max    603.000000  503.000000  772.000000    49.0  147.000000  159.000000   \n",
       "\n",
       "          Bulk 11      Bulk 12     Bulk 13      Bulk 14      Bulk 15  \n",
       "count  177.000000  2450.000000   18.000000  2806.000000  2248.000000  \n",
       "mean    76.819209   260.471020  181.111111   170.284747   160.513345  \n",
       "std     59.655365   120.649269   46.088009    65.868652    51.765319  \n",
       "min      8.000000    53.000000  151.000000    16.000000     1.000000  \n",
       "25%     25.000000   204.000000  153.250000   119.000000   105.000000  \n",
       "50%     64.000000   208.000000  155.500000   151.000000   160.000000  \n",
       "75%    106.000000   316.000000  203.500000   205.750000   205.000000  \n",
       "max    313.000000  1849.000000  305.000000   636.000000   405.000000  "
      ]
     },
     "execution_count": 9,
     "metadata": {},
     "output_type": "execute_result"
    }
   ],
   "source": [
    "data_bulk.describe()"
   ]
  },
  {
   "cell_type": "markdown",
   "id": "46588e30",
   "metadata": {},
   "source": [
    "Пропусков очень много, однако эти пропуски могут говорить о том, что конкретный сыпучий материал не использовался."
   ]
  },
  {
   "cell_type": "markdown",
   "id": "e0c61074",
   "metadata": {},
   "source": [
    "### Изучим датафрейм с данными о подаче сыпучих материалов (время)"
   ]
  },
  {
   "cell_type": "code",
   "execution_count": 10,
   "id": "03875d4c",
   "metadata": {},
   "outputs": [],
   "source": [
    "data_bulk_time = pd.read_csv('/datasets/data_bulk_time_new.csv')"
   ]
  },
  {
   "cell_type": "code",
   "execution_count": 11,
   "id": "6a670c4a",
   "metadata": {},
   "outputs": [
    {
     "data": {
      "text/html": [
       "<div>\n",
       "<style scoped>\n",
       "    .dataframe tbody tr th:only-of-type {\n",
       "        vertical-align: middle;\n",
       "    }\n",
       "\n",
       "    .dataframe tbody tr th {\n",
       "        vertical-align: top;\n",
       "    }\n",
       "\n",
       "    .dataframe thead th {\n",
       "        text-align: right;\n",
       "    }\n",
       "</style>\n",
       "<table border=\"1\" class=\"dataframe\">\n",
       "  <thead>\n",
       "    <tr style=\"text-align: right;\">\n",
       "      <th></th>\n",
       "      <th>key</th>\n",
       "      <th>Bulk 1</th>\n",
       "      <th>Bulk 2</th>\n",
       "      <th>Bulk 3</th>\n",
       "      <th>Bulk 4</th>\n",
       "      <th>Bulk 5</th>\n",
       "      <th>Bulk 6</th>\n",
       "      <th>Bulk 7</th>\n",
       "      <th>Bulk 8</th>\n",
       "      <th>Bulk 9</th>\n",
       "      <th>Bulk 10</th>\n",
       "      <th>Bulk 11</th>\n",
       "      <th>Bulk 12</th>\n",
       "      <th>Bulk 13</th>\n",
       "      <th>Bulk 14</th>\n",
       "      <th>Bulk 15</th>\n",
       "    </tr>\n",
       "  </thead>\n",
       "  <tbody>\n",
       "    <tr>\n",
       "      <th>0</th>\n",
       "      <td>1</td>\n",
       "      <td>NaN</td>\n",
       "      <td>NaN</td>\n",
       "      <td>NaN</td>\n",
       "      <td>2019-05-03 11:28:48</td>\n",
       "      <td>NaN</td>\n",
       "      <td>NaN</td>\n",
       "      <td>NaN</td>\n",
       "      <td>NaN</td>\n",
       "      <td>NaN</td>\n",
       "      <td>NaN</td>\n",
       "      <td>NaN</td>\n",
       "      <td>2019-05-03 11:24:31</td>\n",
       "      <td>NaN</td>\n",
       "      <td>2019-05-03 11:14:50</td>\n",
       "      <td>2019-05-03 11:10:43</td>\n",
       "    </tr>\n",
       "    <tr>\n",
       "      <th>1</th>\n",
       "      <td>2</td>\n",
       "      <td>NaN</td>\n",
       "      <td>NaN</td>\n",
       "      <td>NaN</td>\n",
       "      <td>2019-05-03 11:36:50</td>\n",
       "      <td>NaN</td>\n",
       "      <td>NaN</td>\n",
       "      <td>NaN</td>\n",
       "      <td>NaN</td>\n",
       "      <td>NaN</td>\n",
       "      <td>NaN</td>\n",
       "      <td>NaN</td>\n",
       "      <td>2019-05-03 11:53:30</td>\n",
       "      <td>NaN</td>\n",
       "      <td>2019-05-03 11:48:37</td>\n",
       "      <td>2019-05-03 11:44:39</td>\n",
       "    </tr>\n",
       "    <tr>\n",
       "      <th>2</th>\n",
       "      <td>3</td>\n",
       "      <td>NaN</td>\n",
       "      <td>NaN</td>\n",
       "      <td>NaN</td>\n",
       "      <td>2019-05-03 12:32:39</td>\n",
       "      <td>NaN</td>\n",
       "      <td>NaN</td>\n",
       "      <td>NaN</td>\n",
       "      <td>NaN</td>\n",
       "      <td>NaN</td>\n",
       "      <td>NaN</td>\n",
       "      <td>NaN</td>\n",
       "      <td>2019-05-03 12:27:13</td>\n",
       "      <td>NaN</td>\n",
       "      <td>2019-05-03 12:21:01</td>\n",
       "      <td>2019-05-03 12:16:16</td>\n",
       "    </tr>\n",
       "    <tr>\n",
       "      <th>3</th>\n",
       "      <td>4</td>\n",
       "      <td>NaN</td>\n",
       "      <td>NaN</td>\n",
       "      <td>NaN</td>\n",
       "      <td>2019-05-03 12:43:22</td>\n",
       "      <td>NaN</td>\n",
       "      <td>NaN</td>\n",
       "      <td>NaN</td>\n",
       "      <td>NaN</td>\n",
       "      <td>NaN</td>\n",
       "      <td>NaN</td>\n",
       "      <td>NaN</td>\n",
       "      <td>2019-05-03 12:58:00</td>\n",
       "      <td>NaN</td>\n",
       "      <td>2019-05-03 12:51:11</td>\n",
       "      <td>2019-05-03 12:46:36</td>\n",
       "    </tr>\n",
       "    <tr>\n",
       "      <th>4</th>\n",
       "      <td>5</td>\n",
       "      <td>NaN</td>\n",
       "      <td>NaN</td>\n",
       "      <td>NaN</td>\n",
       "      <td>2019-05-03 13:30:47</td>\n",
       "      <td>NaN</td>\n",
       "      <td>NaN</td>\n",
       "      <td>NaN</td>\n",
       "      <td>NaN</td>\n",
       "      <td>NaN</td>\n",
       "      <td>NaN</td>\n",
       "      <td>NaN</td>\n",
       "      <td>2019-05-03 13:30:47</td>\n",
       "      <td>NaN</td>\n",
       "      <td>2019-05-03 13:34:12</td>\n",
       "      <td>2019-05-03 13:30:47</td>\n",
       "    </tr>\n",
       "  </tbody>\n",
       "</table>\n",
       "</div>"
      ],
      "text/plain": [
       "   key Bulk 1 Bulk 2 Bulk 3               Bulk 4 Bulk 5 Bulk 6 Bulk 7 Bulk 8  \\\n",
       "0    1    NaN    NaN    NaN  2019-05-03 11:28:48    NaN    NaN    NaN    NaN   \n",
       "1    2    NaN    NaN    NaN  2019-05-03 11:36:50    NaN    NaN    NaN    NaN   \n",
       "2    3    NaN    NaN    NaN  2019-05-03 12:32:39    NaN    NaN    NaN    NaN   \n",
       "3    4    NaN    NaN    NaN  2019-05-03 12:43:22    NaN    NaN    NaN    NaN   \n",
       "4    5    NaN    NaN    NaN  2019-05-03 13:30:47    NaN    NaN    NaN    NaN   \n",
       "\n",
       "  Bulk 9 Bulk 10 Bulk 11              Bulk 12 Bulk 13              Bulk 14  \\\n",
       "0    NaN     NaN     NaN  2019-05-03 11:24:31     NaN  2019-05-03 11:14:50   \n",
       "1    NaN     NaN     NaN  2019-05-03 11:53:30     NaN  2019-05-03 11:48:37   \n",
       "2    NaN     NaN     NaN  2019-05-03 12:27:13     NaN  2019-05-03 12:21:01   \n",
       "3    NaN     NaN     NaN  2019-05-03 12:58:00     NaN  2019-05-03 12:51:11   \n",
       "4    NaN     NaN     NaN  2019-05-03 13:30:47     NaN  2019-05-03 13:34:12   \n",
       "\n",
       "               Bulk 15  \n",
       "0  2019-05-03 11:10:43  \n",
       "1  2019-05-03 11:44:39  \n",
       "2  2019-05-03 12:16:16  \n",
       "3  2019-05-03 12:46:36  \n",
       "4  2019-05-03 13:30:47  "
      ]
     },
     "execution_count": 11,
     "metadata": {},
     "output_type": "execute_result"
    }
   ],
   "source": [
    "data_bulk_time.head()"
   ]
  },
  {
   "cell_type": "code",
   "execution_count": 12,
   "id": "d3bf5f41",
   "metadata": {},
   "outputs": [
    {
     "name": "stdout",
     "output_type": "stream",
     "text": [
      "<class 'pandas.core.frame.DataFrame'>\n",
      "RangeIndex: 3129 entries, 0 to 3128\n",
      "Data columns (total 16 columns):\n",
      " #   Column   Non-Null Count  Dtype \n",
      "---  ------   --------------  ----- \n",
      " 0   key      3129 non-null   int64 \n",
      " 1   Bulk 1   252 non-null    object\n",
      " 2   Bulk 2   22 non-null     object\n",
      " 3   Bulk 3   1298 non-null   object\n",
      " 4   Bulk 4   1014 non-null   object\n",
      " 5   Bulk 5   77 non-null     object\n",
      " 6   Bulk 6   576 non-null    object\n",
      " 7   Bulk 7   25 non-null     object\n",
      " 8   Bulk 8   1 non-null      object\n",
      " 9   Bulk 9   19 non-null     object\n",
      " 10  Bulk 10  176 non-null    object\n",
      " 11  Bulk 11  177 non-null    object\n",
      " 12  Bulk 12  2450 non-null   object\n",
      " 13  Bulk 13  18 non-null     object\n",
      " 14  Bulk 14  2806 non-null   object\n",
      " 15  Bulk 15  2248 non-null   object\n",
      "dtypes: int64(1), object(15)\n",
      "memory usage: 391.2+ KB\n"
     ]
    }
   ],
   "source": [
    "data_bulk_time.info()"
   ]
  },
  {
   "cell_type": "markdown",
   "id": "8b675e8e",
   "metadata": {},
   "source": [
    "Видим, что ситуация с пропусками тут такая же, как и в предыдущем датафрейме, что подтверждает наш довод. А также даты нужно привести к правильному типу данных."
   ]
  },
  {
   "cell_type": "markdown",
   "id": "f77d563b",
   "metadata": {},
   "source": [
    "### Изучим датафрейм с данными о продувке сплава газом"
   ]
  },
  {
   "cell_type": "code",
   "execution_count": 13,
   "id": "b2b61f54",
   "metadata": {},
   "outputs": [],
   "source": [
    "data_gas = pd.read_csv('/datasets/data_gas_new.csv')"
   ]
  },
  {
   "cell_type": "code",
   "execution_count": 14,
   "id": "3b09a04d",
   "metadata": {},
   "outputs": [
    {
     "data": {
      "text/html": [
       "<div>\n",
       "<style scoped>\n",
       "    .dataframe tbody tr th:only-of-type {\n",
       "        vertical-align: middle;\n",
       "    }\n",
       "\n",
       "    .dataframe tbody tr th {\n",
       "        vertical-align: top;\n",
       "    }\n",
       "\n",
       "    .dataframe thead th {\n",
       "        text-align: right;\n",
       "    }\n",
       "</style>\n",
       "<table border=\"1\" class=\"dataframe\">\n",
       "  <thead>\n",
       "    <tr style=\"text-align: right;\">\n",
       "      <th></th>\n",
       "      <th>key</th>\n",
       "      <th>Газ 1</th>\n",
       "    </tr>\n",
       "  </thead>\n",
       "  <tbody>\n",
       "    <tr>\n",
       "      <th>0</th>\n",
       "      <td>1</td>\n",
       "      <td>29.749986</td>\n",
       "    </tr>\n",
       "    <tr>\n",
       "      <th>1</th>\n",
       "      <td>2</td>\n",
       "      <td>12.555561</td>\n",
       "    </tr>\n",
       "    <tr>\n",
       "      <th>2</th>\n",
       "      <td>3</td>\n",
       "      <td>28.554793</td>\n",
       "    </tr>\n",
       "    <tr>\n",
       "      <th>3</th>\n",
       "      <td>4</td>\n",
       "      <td>18.841219</td>\n",
       "    </tr>\n",
       "    <tr>\n",
       "      <th>4</th>\n",
       "      <td>5</td>\n",
       "      <td>5.413692</td>\n",
       "    </tr>\n",
       "  </tbody>\n",
       "</table>\n",
       "</div>"
      ],
      "text/plain": [
       "   key      Газ 1\n",
       "0    1  29.749986\n",
       "1    2  12.555561\n",
       "2    3  28.554793\n",
       "3    4  18.841219\n",
       "4    5   5.413692"
      ]
     },
     "execution_count": 14,
     "metadata": {},
     "output_type": "execute_result"
    }
   ],
   "source": [
    "data_gas.head()"
   ]
  },
  {
   "cell_type": "code",
   "execution_count": 15,
   "id": "2fcd0949",
   "metadata": {},
   "outputs": [
    {
     "name": "stdout",
     "output_type": "stream",
     "text": [
      "<class 'pandas.core.frame.DataFrame'>\n",
      "RangeIndex: 3239 entries, 0 to 3238\n",
      "Data columns (total 2 columns):\n",
      " #   Column  Non-Null Count  Dtype  \n",
      "---  ------  --------------  -----  \n",
      " 0   key     3239 non-null   int64  \n",
      " 1   Газ 1   3239 non-null   float64\n",
      "dtypes: float64(1), int64(1)\n",
      "memory usage: 50.7 KB\n"
     ]
    }
   ],
   "source": [
    "data_gas.info()"
   ]
  },
  {
   "cell_type": "markdown",
   "id": "3ad5d6a2",
   "metadata": {},
   "source": [
    "Переименнуем столбец Газ 1 в нормальный вид."
   ]
  },
  {
   "cell_type": "code",
   "execution_count": 16,
   "id": "87582241",
   "metadata": {},
   "outputs": [],
   "source": [
    "data_gas.columns = ['key', 'gas_1']"
   ]
  },
  {
   "cell_type": "code",
   "execution_count": 17,
   "id": "636260eb",
   "metadata": {},
   "outputs": [
    {
     "data": {
      "text/plain": [
       "count    3239.000000\n",
       "mean       11.002062\n",
       "std         6.220327\n",
       "min         0.008399\n",
       "25%         7.043089\n",
       "50%         9.836267\n",
       "75%        13.769915\n",
       "max        77.995040\n",
       "Name: gas_1, dtype: float64"
      ]
     },
     "execution_count": 17,
     "metadata": {},
     "output_type": "execute_result"
    }
   ],
   "source": [
    "data_gas['gas_1'].describe()"
   ]
  },
  {
   "cell_type": "markdown",
   "id": "4860b7f7",
   "metadata": {},
   "source": [
    "С данными в этом датафрейме все в порядке."
   ]
  },
  {
   "cell_type": "markdown",
   "id": "41eb20da",
   "metadata": {},
   "source": [
    "### Изучим датафрейм с результатами измерения температуры"
   ]
  },
  {
   "cell_type": "code",
   "execution_count": 18,
   "id": "6e7efd1b",
   "metadata": {},
   "outputs": [],
   "source": [
    "data_temp = pd.read_csv('/datasets/data_temp_new.csv')"
   ]
  },
  {
   "cell_type": "code",
   "execution_count": 19,
   "id": "e3718433",
   "metadata": {},
   "outputs": [
    {
     "data": {
      "text/html": [
       "<div>\n",
       "<style scoped>\n",
       "    .dataframe tbody tr th:only-of-type {\n",
       "        vertical-align: middle;\n",
       "    }\n",
       "\n",
       "    .dataframe tbody tr th {\n",
       "        vertical-align: top;\n",
       "    }\n",
       "\n",
       "    .dataframe thead th {\n",
       "        text-align: right;\n",
       "    }\n",
       "</style>\n",
       "<table border=\"1\" class=\"dataframe\">\n",
       "  <thead>\n",
       "    <tr style=\"text-align: right;\">\n",
       "      <th></th>\n",
       "      <th>key</th>\n",
       "      <th>Время замера</th>\n",
       "      <th>Температура</th>\n",
       "    </tr>\n",
       "  </thead>\n",
       "  <tbody>\n",
       "    <tr>\n",
       "      <th>0</th>\n",
       "      <td>1</td>\n",
       "      <td>2019-05-03 11:02:04</td>\n",
       "      <td>1571.0</td>\n",
       "    </tr>\n",
       "    <tr>\n",
       "      <th>1</th>\n",
       "      <td>1</td>\n",
       "      <td>2019-05-03 11:07:18</td>\n",
       "      <td>1604.0</td>\n",
       "    </tr>\n",
       "    <tr>\n",
       "      <th>2</th>\n",
       "      <td>1</td>\n",
       "      <td>2019-05-03 11:11:34</td>\n",
       "      <td>1618.0</td>\n",
       "    </tr>\n",
       "    <tr>\n",
       "      <th>3</th>\n",
       "      <td>1</td>\n",
       "      <td>2019-05-03 11:18:04</td>\n",
       "      <td>1601.0</td>\n",
       "    </tr>\n",
       "    <tr>\n",
       "      <th>4</th>\n",
       "      <td>1</td>\n",
       "      <td>2019-05-03 11:25:59</td>\n",
       "      <td>1606.0</td>\n",
       "    </tr>\n",
       "  </tbody>\n",
       "</table>\n",
       "</div>"
      ],
      "text/plain": [
       "   key         Время замера  Температура\n",
       "0    1  2019-05-03 11:02:04       1571.0\n",
       "1    1  2019-05-03 11:07:18       1604.0\n",
       "2    1  2019-05-03 11:11:34       1618.0\n",
       "3    1  2019-05-03 11:18:04       1601.0\n",
       "4    1  2019-05-03 11:25:59       1606.0"
      ]
     },
     "execution_count": 19,
     "metadata": {},
     "output_type": "execute_result"
    }
   ],
   "source": [
    "data_temp.head()"
   ]
  },
  {
   "cell_type": "code",
   "execution_count": 20,
   "id": "fff0203a",
   "metadata": {},
   "outputs": [
    {
     "name": "stdout",
     "output_type": "stream",
     "text": [
      "<class 'pandas.core.frame.DataFrame'>\n",
      "RangeIndex: 18092 entries, 0 to 18091\n",
      "Data columns (total 3 columns):\n",
      " #   Column        Non-Null Count  Dtype  \n",
      "---  ------        --------------  -----  \n",
      " 0   key           18092 non-null  int64  \n",
      " 1   Время замера  18092 non-null  object \n",
      " 2   Температура   14665 non-null  float64\n",
      "dtypes: float64(1), int64(1), object(1)\n",
      "memory usage: 424.2+ KB\n"
     ]
    }
   ],
   "source": [
    "data_temp.info()"
   ]
  },
  {
   "cell_type": "code",
   "execution_count": 21,
   "id": "31cc09ee",
   "metadata": {},
   "outputs": [
    {
     "data": {
      "text/plain": [
       "count    14665.000000\n",
       "mean      1590.722741\n",
       "std         20.394381\n",
       "min       1191.000000\n",
       "25%       1580.000000\n",
       "50%       1590.000000\n",
       "75%       1599.000000\n",
       "max       1705.000000\n",
       "Name: Температура, dtype: float64"
      ]
     },
     "execution_count": 21,
     "metadata": {},
     "output_type": "execute_result"
    }
   ],
   "source": [
    "data_temp['Температура'].describe()"
   ]
  },
  {
   "cell_type": "markdown",
   "id": "2c1c812f",
   "metadata": {},
   "source": [
    "Видим пропущенные значения в столбце с температурой, а так же неправильный тип данных у столбца с датой."
   ]
  },
  {
   "cell_type": "markdown",
   "id": "41154480",
   "metadata": {},
   "source": [
    "### Изучим датафрейм с данными о проволочных материалах (объём)"
   ]
  },
  {
   "cell_type": "code",
   "execution_count": 22,
   "id": "bf7f5f6b",
   "metadata": {},
   "outputs": [],
   "source": [
    "data_wire = pd.read_csv('/datasets/data_wire_new.csv')"
   ]
  },
  {
   "cell_type": "code",
   "execution_count": 23,
   "id": "01ea0dd1",
   "metadata": {},
   "outputs": [
    {
     "data": {
      "text/html": [
       "<div>\n",
       "<style scoped>\n",
       "    .dataframe tbody tr th:only-of-type {\n",
       "        vertical-align: middle;\n",
       "    }\n",
       "\n",
       "    .dataframe tbody tr th {\n",
       "        vertical-align: top;\n",
       "    }\n",
       "\n",
       "    .dataframe thead th {\n",
       "        text-align: right;\n",
       "    }\n",
       "</style>\n",
       "<table border=\"1\" class=\"dataframe\">\n",
       "  <thead>\n",
       "    <tr style=\"text-align: right;\">\n",
       "      <th></th>\n",
       "      <th>key</th>\n",
       "      <th>Wire 1</th>\n",
       "      <th>Wire 2</th>\n",
       "      <th>Wire 3</th>\n",
       "      <th>Wire 4</th>\n",
       "      <th>Wire 5</th>\n",
       "      <th>Wire 6</th>\n",
       "      <th>Wire 7</th>\n",
       "      <th>Wire 8</th>\n",
       "      <th>Wire 9</th>\n",
       "    </tr>\n",
       "  </thead>\n",
       "  <tbody>\n",
       "    <tr>\n",
       "      <th>0</th>\n",
       "      <td>1</td>\n",
       "      <td>60.059998</td>\n",
       "      <td>NaN</td>\n",
       "      <td>NaN</td>\n",
       "      <td>NaN</td>\n",
       "      <td>NaN</td>\n",
       "      <td>NaN</td>\n",
       "      <td>NaN</td>\n",
       "      <td>NaN</td>\n",
       "      <td>NaN</td>\n",
       "    </tr>\n",
       "    <tr>\n",
       "      <th>1</th>\n",
       "      <td>2</td>\n",
       "      <td>96.052315</td>\n",
       "      <td>NaN</td>\n",
       "      <td>NaN</td>\n",
       "      <td>NaN</td>\n",
       "      <td>NaN</td>\n",
       "      <td>NaN</td>\n",
       "      <td>NaN</td>\n",
       "      <td>NaN</td>\n",
       "      <td>NaN</td>\n",
       "    </tr>\n",
       "    <tr>\n",
       "      <th>2</th>\n",
       "      <td>3</td>\n",
       "      <td>91.160157</td>\n",
       "      <td>NaN</td>\n",
       "      <td>NaN</td>\n",
       "      <td>NaN</td>\n",
       "      <td>NaN</td>\n",
       "      <td>NaN</td>\n",
       "      <td>NaN</td>\n",
       "      <td>NaN</td>\n",
       "      <td>NaN</td>\n",
       "    </tr>\n",
       "    <tr>\n",
       "      <th>3</th>\n",
       "      <td>4</td>\n",
       "      <td>89.063515</td>\n",
       "      <td>NaN</td>\n",
       "      <td>NaN</td>\n",
       "      <td>NaN</td>\n",
       "      <td>NaN</td>\n",
       "      <td>NaN</td>\n",
       "      <td>NaN</td>\n",
       "      <td>NaN</td>\n",
       "      <td>NaN</td>\n",
       "    </tr>\n",
       "    <tr>\n",
       "      <th>4</th>\n",
       "      <td>5</td>\n",
       "      <td>89.238236</td>\n",
       "      <td>9.11456</td>\n",
       "      <td>NaN</td>\n",
       "      <td>NaN</td>\n",
       "      <td>NaN</td>\n",
       "      <td>NaN</td>\n",
       "      <td>NaN</td>\n",
       "      <td>NaN</td>\n",
       "      <td>NaN</td>\n",
       "    </tr>\n",
       "  </tbody>\n",
       "</table>\n",
       "</div>"
      ],
      "text/plain": [
       "   key     Wire 1   Wire 2  Wire 3  Wire 4  Wire 5  Wire 6  Wire 7  Wire 8  \\\n",
       "0    1  60.059998      NaN     NaN     NaN     NaN     NaN     NaN     NaN   \n",
       "1    2  96.052315      NaN     NaN     NaN     NaN     NaN     NaN     NaN   \n",
       "2    3  91.160157      NaN     NaN     NaN     NaN     NaN     NaN     NaN   \n",
       "3    4  89.063515      NaN     NaN     NaN     NaN     NaN     NaN     NaN   \n",
       "4    5  89.238236  9.11456     NaN     NaN     NaN     NaN     NaN     NaN   \n",
       "\n",
       "   Wire 9  \n",
       "0     NaN  \n",
       "1     NaN  \n",
       "2     NaN  \n",
       "3     NaN  \n",
       "4     NaN  "
      ]
     },
     "execution_count": 23,
     "metadata": {},
     "output_type": "execute_result"
    }
   ],
   "source": [
    "data_wire.head()"
   ]
  },
  {
   "cell_type": "code",
   "execution_count": 24,
   "id": "5540120e",
   "metadata": {},
   "outputs": [
    {
     "name": "stdout",
     "output_type": "stream",
     "text": [
      "<class 'pandas.core.frame.DataFrame'>\n",
      "RangeIndex: 3081 entries, 0 to 3080\n",
      "Data columns (total 10 columns):\n",
      " #   Column  Non-Null Count  Dtype  \n",
      "---  ------  --------------  -----  \n",
      " 0   key     3081 non-null   int64  \n",
      " 1   Wire 1  3055 non-null   float64\n",
      " 2   Wire 2  1079 non-null   float64\n",
      " 3   Wire 3  63 non-null     float64\n",
      " 4   Wire 4  14 non-null     float64\n",
      " 5   Wire 5  1 non-null      float64\n",
      " 6   Wire 6  73 non-null     float64\n",
      " 7   Wire 7  11 non-null     float64\n",
      " 8   Wire 8  19 non-null     float64\n",
      " 9   Wire 9  29 non-null     float64\n",
      "dtypes: float64(9), int64(1)\n",
      "memory usage: 240.8 KB\n"
     ]
    }
   ],
   "source": [
    "data_wire.info()"
   ]
  },
  {
   "cell_type": "code",
   "execution_count": 25,
   "id": "6156c967",
   "metadata": {},
   "outputs": [
    {
     "data": {
      "text/html": [
       "<div>\n",
       "<style scoped>\n",
       "    .dataframe tbody tr th:only-of-type {\n",
       "        vertical-align: middle;\n",
       "    }\n",
       "\n",
       "    .dataframe tbody tr th {\n",
       "        vertical-align: top;\n",
       "    }\n",
       "\n",
       "    .dataframe thead th {\n",
       "        text-align: right;\n",
       "    }\n",
       "</style>\n",
       "<table border=\"1\" class=\"dataframe\">\n",
       "  <thead>\n",
       "    <tr style=\"text-align: right;\">\n",
       "      <th></th>\n",
       "      <th>key</th>\n",
       "      <th>Wire 1</th>\n",
       "      <th>Wire 2</th>\n",
       "      <th>Wire 3</th>\n",
       "      <th>Wire 4</th>\n",
       "      <th>Wire 5</th>\n",
       "      <th>Wire 6</th>\n",
       "      <th>Wire 7</th>\n",
       "      <th>Wire 8</th>\n",
       "      <th>Wire 9</th>\n",
       "    </tr>\n",
       "  </thead>\n",
       "  <tbody>\n",
       "    <tr>\n",
       "      <th>count</th>\n",
       "      <td>3081.000000</td>\n",
       "      <td>3055.000000</td>\n",
       "      <td>1079.000000</td>\n",
       "      <td>63.000000</td>\n",
       "      <td>14.000000</td>\n",
       "      <td>1.000</td>\n",
       "      <td>73.000000</td>\n",
       "      <td>11.000000</td>\n",
       "      <td>19.000000</td>\n",
       "      <td>29.000000</td>\n",
       "    </tr>\n",
       "    <tr>\n",
       "      <th>mean</th>\n",
       "      <td>1623.426485</td>\n",
       "      <td>100.895853</td>\n",
       "      <td>50.577323</td>\n",
       "      <td>189.482681</td>\n",
       "      <td>57.442841</td>\n",
       "      <td>15.132</td>\n",
       "      <td>48.016974</td>\n",
       "      <td>10.039007</td>\n",
       "      <td>53.625193</td>\n",
       "      <td>34.155752</td>\n",
       "    </tr>\n",
       "    <tr>\n",
       "      <th>std</th>\n",
       "      <td>932.996726</td>\n",
       "      <td>42.012518</td>\n",
       "      <td>39.320216</td>\n",
       "      <td>99.513444</td>\n",
       "      <td>28.824667</td>\n",
       "      <td>NaN</td>\n",
       "      <td>33.919845</td>\n",
       "      <td>8.610584</td>\n",
       "      <td>16.881728</td>\n",
       "      <td>19.931616</td>\n",
       "    </tr>\n",
       "    <tr>\n",
       "      <th>min</th>\n",
       "      <td>1.000000</td>\n",
       "      <td>1.918800</td>\n",
       "      <td>0.030160</td>\n",
       "      <td>0.144144</td>\n",
       "      <td>24.148801</td>\n",
       "      <td>15.132</td>\n",
       "      <td>0.034320</td>\n",
       "      <td>0.234208</td>\n",
       "      <td>45.076721</td>\n",
       "      <td>4.622800</td>\n",
       "    </tr>\n",
       "    <tr>\n",
       "      <th>25%</th>\n",
       "      <td>823.000000</td>\n",
       "      <td>72.115684</td>\n",
       "      <td>20.193680</td>\n",
       "      <td>95.135044</td>\n",
       "      <td>40.807002</td>\n",
       "      <td>15.132</td>\n",
       "      <td>25.053600</td>\n",
       "      <td>6.762756</td>\n",
       "      <td>46.094879</td>\n",
       "      <td>22.058401</td>\n",
       "    </tr>\n",
       "    <tr>\n",
       "      <th>50%</th>\n",
       "      <td>1619.000000</td>\n",
       "      <td>100.158234</td>\n",
       "      <td>40.142956</td>\n",
       "      <td>235.194977</td>\n",
       "      <td>45.234282</td>\n",
       "      <td>15.132</td>\n",
       "      <td>42.076324</td>\n",
       "      <td>9.017009</td>\n",
       "      <td>46.279999</td>\n",
       "      <td>30.066399</td>\n",
       "    </tr>\n",
       "    <tr>\n",
       "      <th>75%</th>\n",
       "      <td>2434.000000</td>\n",
       "      <td>126.060483</td>\n",
       "      <td>70.227558</td>\n",
       "      <td>276.252014</td>\n",
       "      <td>76.124619</td>\n",
       "      <td>15.132</td>\n",
       "      <td>64.212723</td>\n",
       "      <td>11.886057</td>\n",
       "      <td>48.089603</td>\n",
       "      <td>43.862003</td>\n",
       "    </tr>\n",
       "    <tr>\n",
       "      <th>max</th>\n",
       "      <td>3241.000000</td>\n",
       "      <td>330.314424</td>\n",
       "      <td>282.780152</td>\n",
       "      <td>385.008668</td>\n",
       "      <td>113.231044</td>\n",
       "      <td>15.132</td>\n",
       "      <td>180.454575</td>\n",
       "      <td>32.847674</td>\n",
       "      <td>102.762401</td>\n",
       "      <td>90.053604</td>\n",
       "    </tr>\n",
       "  </tbody>\n",
       "</table>\n",
       "</div>"
      ],
      "text/plain": [
       "               key       Wire 1       Wire 2      Wire 3      Wire 4  Wire 5  \\\n",
       "count  3081.000000  3055.000000  1079.000000   63.000000   14.000000   1.000   \n",
       "mean   1623.426485   100.895853    50.577323  189.482681   57.442841  15.132   \n",
       "std     932.996726    42.012518    39.320216   99.513444   28.824667     NaN   \n",
       "min       1.000000     1.918800     0.030160    0.144144   24.148801  15.132   \n",
       "25%     823.000000    72.115684    20.193680   95.135044   40.807002  15.132   \n",
       "50%    1619.000000   100.158234    40.142956  235.194977   45.234282  15.132   \n",
       "75%    2434.000000   126.060483    70.227558  276.252014   76.124619  15.132   \n",
       "max    3241.000000   330.314424   282.780152  385.008668  113.231044  15.132   \n",
       "\n",
       "           Wire 6     Wire 7      Wire 8     Wire 9  \n",
       "count   73.000000  11.000000   19.000000  29.000000  \n",
       "mean    48.016974  10.039007   53.625193  34.155752  \n",
       "std     33.919845   8.610584   16.881728  19.931616  \n",
       "min      0.034320   0.234208   45.076721   4.622800  \n",
       "25%     25.053600   6.762756   46.094879  22.058401  \n",
       "50%     42.076324   9.017009   46.279999  30.066399  \n",
       "75%     64.212723  11.886057   48.089603  43.862003  \n",
       "max    180.454575  32.847674  102.762401  90.053604  "
      ]
     },
     "execution_count": 25,
     "metadata": {},
     "output_type": "execute_result"
    }
   ],
   "source": [
    "data_wire.describe()"
   ]
  },
  {
   "cell_type": "markdown",
   "id": "c1887388",
   "metadata": {},
   "source": [
    "Здесь все обстоит так же как и с данными о подаче сыпучих материалов."
   ]
  },
  {
   "cell_type": "markdown",
   "id": "b0c15a5d",
   "metadata": {},
   "source": [
    "### Изучим датафрейм с данными о проволочных материалах (время)"
   ]
  },
  {
   "cell_type": "code",
   "execution_count": 26,
   "id": "4a274e82",
   "metadata": {},
   "outputs": [],
   "source": [
    "data_wire_time = pd.read_csv('/datasets/data_wire_time_new.csv')"
   ]
  },
  {
   "cell_type": "code",
   "execution_count": 27,
   "id": "d19dc8f4",
   "metadata": {},
   "outputs": [
    {
     "data": {
      "text/html": [
       "<div>\n",
       "<style scoped>\n",
       "    .dataframe tbody tr th:only-of-type {\n",
       "        vertical-align: middle;\n",
       "    }\n",
       "\n",
       "    .dataframe tbody tr th {\n",
       "        vertical-align: top;\n",
       "    }\n",
       "\n",
       "    .dataframe thead th {\n",
       "        text-align: right;\n",
       "    }\n",
       "</style>\n",
       "<table border=\"1\" class=\"dataframe\">\n",
       "  <thead>\n",
       "    <tr style=\"text-align: right;\">\n",
       "      <th></th>\n",
       "      <th>key</th>\n",
       "      <th>Wire 1</th>\n",
       "      <th>Wire 2</th>\n",
       "      <th>Wire 3</th>\n",
       "      <th>Wire 4</th>\n",
       "      <th>Wire 5</th>\n",
       "      <th>Wire 6</th>\n",
       "      <th>Wire 7</th>\n",
       "      <th>Wire 8</th>\n",
       "      <th>Wire 9</th>\n",
       "    </tr>\n",
       "  </thead>\n",
       "  <tbody>\n",
       "    <tr>\n",
       "      <th>0</th>\n",
       "      <td>1</td>\n",
       "      <td>2019-05-03 11:06:19</td>\n",
       "      <td>NaN</td>\n",
       "      <td>NaN</td>\n",
       "      <td>NaN</td>\n",
       "      <td>NaN</td>\n",
       "      <td>NaN</td>\n",
       "      <td>NaN</td>\n",
       "      <td>NaN</td>\n",
       "      <td>NaN</td>\n",
       "    </tr>\n",
       "    <tr>\n",
       "      <th>1</th>\n",
       "      <td>2</td>\n",
       "      <td>2019-05-03 11:36:50</td>\n",
       "      <td>NaN</td>\n",
       "      <td>NaN</td>\n",
       "      <td>NaN</td>\n",
       "      <td>NaN</td>\n",
       "      <td>NaN</td>\n",
       "      <td>NaN</td>\n",
       "      <td>NaN</td>\n",
       "      <td>NaN</td>\n",
       "    </tr>\n",
       "    <tr>\n",
       "      <th>2</th>\n",
       "      <td>3</td>\n",
       "      <td>2019-05-03 12:11:46</td>\n",
       "      <td>NaN</td>\n",
       "      <td>NaN</td>\n",
       "      <td>NaN</td>\n",
       "      <td>NaN</td>\n",
       "      <td>NaN</td>\n",
       "      <td>NaN</td>\n",
       "      <td>NaN</td>\n",
       "      <td>NaN</td>\n",
       "    </tr>\n",
       "    <tr>\n",
       "      <th>3</th>\n",
       "      <td>4</td>\n",
       "      <td>2019-05-03 12:43:22</td>\n",
       "      <td>NaN</td>\n",
       "      <td>NaN</td>\n",
       "      <td>NaN</td>\n",
       "      <td>NaN</td>\n",
       "      <td>NaN</td>\n",
       "      <td>NaN</td>\n",
       "      <td>NaN</td>\n",
       "      <td>NaN</td>\n",
       "    </tr>\n",
       "    <tr>\n",
       "      <th>4</th>\n",
       "      <td>5</td>\n",
       "      <td>2019-05-03 13:20:44</td>\n",
       "      <td>2019-05-03 13:15:34</td>\n",
       "      <td>NaN</td>\n",
       "      <td>NaN</td>\n",
       "      <td>NaN</td>\n",
       "      <td>NaN</td>\n",
       "      <td>NaN</td>\n",
       "      <td>NaN</td>\n",
       "      <td>NaN</td>\n",
       "    </tr>\n",
       "  </tbody>\n",
       "</table>\n",
       "</div>"
      ],
      "text/plain": [
       "   key               Wire 1               Wire 2 Wire 3 Wire 4 Wire 5 Wire 6  \\\n",
       "0    1  2019-05-03 11:06:19                  NaN    NaN    NaN    NaN    NaN   \n",
       "1    2  2019-05-03 11:36:50                  NaN    NaN    NaN    NaN    NaN   \n",
       "2    3  2019-05-03 12:11:46                  NaN    NaN    NaN    NaN    NaN   \n",
       "3    4  2019-05-03 12:43:22                  NaN    NaN    NaN    NaN    NaN   \n",
       "4    5  2019-05-03 13:20:44  2019-05-03 13:15:34    NaN    NaN    NaN    NaN   \n",
       "\n",
       "  Wire 7 Wire 8 Wire 9  \n",
       "0    NaN    NaN    NaN  \n",
       "1    NaN    NaN    NaN  \n",
       "2    NaN    NaN    NaN  \n",
       "3    NaN    NaN    NaN  \n",
       "4    NaN    NaN    NaN  "
      ]
     },
     "execution_count": 27,
     "metadata": {},
     "output_type": "execute_result"
    }
   ],
   "source": [
    "data_wire_time.head()"
   ]
  },
  {
   "cell_type": "code",
   "execution_count": 28,
   "id": "2307987d",
   "metadata": {},
   "outputs": [
    {
     "name": "stdout",
     "output_type": "stream",
     "text": [
      "<class 'pandas.core.frame.DataFrame'>\n",
      "RangeIndex: 3081 entries, 0 to 3080\n",
      "Data columns (total 10 columns):\n",
      " #   Column  Non-Null Count  Dtype \n",
      "---  ------  --------------  ----- \n",
      " 0   key     3081 non-null   int64 \n",
      " 1   Wire 1  3055 non-null   object\n",
      " 2   Wire 2  1079 non-null   object\n",
      " 3   Wire 3  63 non-null     object\n",
      " 4   Wire 4  14 non-null     object\n",
      " 5   Wire 5  1 non-null      object\n",
      " 6   Wire 6  73 non-null     object\n",
      " 7   Wire 7  11 non-null     object\n",
      " 8   Wire 8  19 non-null     object\n",
      " 9   Wire 9  29 non-null     object\n",
      "dtypes: int64(1), object(9)\n",
      "memory usage: 240.8+ KB\n"
     ]
    }
   ],
   "source": [
    "data_wire_time.info()"
   ]
  },
  {
   "cell_type": "markdown",
   "id": "19b8e171",
   "metadata": {},
   "source": [
    "## Исследовательский анализ и предобработка данных"
   ]
  },
  {
   "cell_type": "markdown",
   "id": "fe9f3c80",
   "metadata": {},
   "source": [
    "### Предобработка data_arc"
   ]
  },
  {
   "cell_type": "markdown",
   "id": "79208cfd",
   "metadata": {},
   "source": [
    "Начнем с датафрейма data_arc. Избавимся от аномального значения, переведем даты в нужный тип и приведем названия столбцов к нормальному виду. "
   ]
  },
  {
   "cell_type": "code",
   "execution_count": 29,
   "id": "feeac87d",
   "metadata": {},
   "outputs": [],
   "source": [
    "data_arc.columns = ['key', 'start_time','end_time', 'active_power', 'reactive_power']"
   ]
  },
  {
   "cell_type": "markdown",
   "id": "bbabc63c",
   "metadata": {},
   "source": [
    "Узнаем партию с аномалией, чтобы удалить всю партию."
   ]
  },
  {
   "cell_type": "code",
   "execution_count": 30,
   "id": "a9f5af7f",
   "metadata": {},
   "outputs": [
    {
     "data": {
      "text/html": [
       "<div>\n",
       "<style scoped>\n",
       "    .dataframe tbody tr th:only-of-type {\n",
       "        vertical-align: middle;\n",
       "    }\n",
       "\n",
       "    .dataframe tbody tr th {\n",
       "        vertical-align: top;\n",
       "    }\n",
       "\n",
       "    .dataframe thead th {\n",
       "        text-align: right;\n",
       "    }\n",
       "</style>\n",
       "<table border=\"1\" class=\"dataframe\">\n",
       "  <thead>\n",
       "    <tr style=\"text-align: right;\">\n",
       "      <th></th>\n",
       "      <th>key</th>\n",
       "      <th>start_time</th>\n",
       "      <th>end_time</th>\n",
       "      <th>active_power</th>\n",
       "      <th>reactive_power</th>\n",
       "    </tr>\n",
       "  </thead>\n",
       "  <tbody>\n",
       "    <tr>\n",
       "      <th>9780</th>\n",
       "      <td>2116</td>\n",
       "      <td>2019-07-28 02:22:08</td>\n",
       "      <td>2019-07-28 02:23:57</td>\n",
       "      <td>0.705344</td>\n",
       "      <td>-715.479924</td>\n",
       "    </tr>\n",
       "  </tbody>\n",
       "</table>\n",
       "</div>"
      ],
      "text/plain": [
       "       key           start_time             end_time  active_power  \\\n",
       "9780  2116  2019-07-28 02:22:08  2019-07-28 02:23:57      0.705344   \n",
       "\n",
       "      reactive_power  \n",
       "9780     -715.479924  "
      ]
     },
     "execution_count": 30,
     "metadata": {},
     "output_type": "execute_result"
    }
   ],
   "source": [
    "data_arc[data_arc['reactive_power'] < 0]"
   ]
  },
  {
   "cell_type": "code",
   "execution_count": 31,
   "id": "aefde27a",
   "metadata": {},
   "outputs": [],
   "source": [
    "data_arc = data_arc.query('key != 2116')"
   ]
  },
  {
   "cell_type": "code",
   "execution_count": 32,
   "id": "1d46bbd8",
   "metadata": {},
   "outputs": [],
   "source": [
    "data_arc['start_time'] = pd.to_datetime(data_arc['start_time'])\n",
    "data_arc['end_time'] = pd.to_datetime(data_arc['end_time'])"
   ]
  },
  {
   "cell_type": "code",
   "execution_count": 33,
   "id": "42657b0e",
   "metadata": {},
   "outputs": [
    {
     "name": "stdout",
     "output_type": "stream",
     "text": [
      "<class 'pandas.core.frame.DataFrame'>\n",
      "Int64Index: 14872 entries, 0 to 14875\n",
      "Data columns (total 5 columns):\n",
      " #   Column          Non-Null Count  Dtype         \n",
      "---  ------          --------------  -----         \n",
      " 0   key             14872 non-null  int64         \n",
      " 1   start_time      14872 non-null  datetime64[ns]\n",
      " 2   end_time        14872 non-null  datetime64[ns]\n",
      " 3   active_power    14872 non-null  float64       \n",
      " 4   reactive_power  14872 non-null  float64       \n",
      "dtypes: datetime64[ns](2), float64(2), int64(1)\n",
      "memory usage: 697.1 KB\n"
     ]
    }
   ],
   "source": [
    "data_arc.info()"
   ]
  },
  {
   "cell_type": "markdown",
   "id": "5f25e79b",
   "metadata": {},
   "source": [
    "### data_bulk и data_bulk_time"
   ]
  },
  {
   "cell_type": "markdown",
   "id": "00d62d0b",
   "metadata": {},
   "source": [
    "Для начала еще раз вглянем на кол-во пропущенных в data_bulk"
   ]
  },
  {
   "cell_type": "code",
   "execution_count": 34,
   "id": "8db24c4b",
   "metadata": {},
   "outputs": [
    {
     "name": "stdout",
     "output_type": "stream",
     "text": [
      "<class 'pandas.core.frame.DataFrame'>\n",
      "RangeIndex: 3129 entries, 0 to 3128\n",
      "Data columns (total 16 columns):\n",
      " #   Column   Non-Null Count  Dtype  \n",
      "---  ------   --------------  -----  \n",
      " 0   key      3129 non-null   int64  \n",
      " 1   Bulk 1   252 non-null    float64\n",
      " 2   Bulk 2   22 non-null     float64\n",
      " 3   Bulk 3   1298 non-null   float64\n",
      " 4   Bulk 4   1014 non-null   float64\n",
      " 5   Bulk 5   77 non-null     float64\n",
      " 6   Bulk 6   576 non-null    float64\n",
      " 7   Bulk 7   25 non-null     float64\n",
      " 8   Bulk 8   1 non-null      float64\n",
      " 9   Bulk 9   19 non-null     float64\n",
      " 10  Bulk 10  176 non-null    float64\n",
      " 11  Bulk 11  177 non-null    float64\n",
      " 12  Bulk 12  2450 non-null   float64\n",
      " 13  Bulk 13  18 non-null     float64\n",
      " 14  Bulk 14  2806 non-null   float64\n",
      " 15  Bulk 15  2248 non-null   float64\n",
      "dtypes: float64(15), int64(1)\n",
      "memory usage: 391.2 KB\n"
     ]
    }
   ],
   "source": [
    "data_bulk.info()"
   ]
  },
  {
   "cell_type": "markdown",
   "id": "2a0cf5a9",
   "metadata": {},
   "source": [
    "Значений в некоторых столбцах очень мало(меньше 10% от общего кол-ва), а это плохо скажется на обучении модели. Поэтому предлагается удалить такие столбцы, а именно Bulk 1, 2, 5, 7, 8, 9, 10, 11, 13"
   ]
  },
  {
   "cell_type": "code",
   "execution_count": 35,
   "id": "5bda659a",
   "metadata": {},
   "outputs": [],
   "source": [
    "columns_to_drop = ['Bulk 1', 'Bulk 2', 'Bulk 5', 'Bulk 7', 'Bulk 8', 'Bulk 9', 'Bulk 10', 'Bulk 11', 'Bulk 13']\n",
    "\n",
    "for i in data_bulk.columns:\n",
    "    if i in columns_to_drop:\n",
    "        data_bulk = data_bulk.drop(i, axis=1)"
   ]
  },
  {
   "cell_type": "code",
   "execution_count": 36,
   "id": "da3c7adc",
   "metadata": {},
   "outputs": [
    {
     "name": "stdout",
     "output_type": "stream",
     "text": [
      "<class 'pandas.core.frame.DataFrame'>\n",
      "RangeIndex: 3129 entries, 0 to 3128\n",
      "Data columns (total 7 columns):\n",
      " #   Column   Non-Null Count  Dtype  \n",
      "---  ------   --------------  -----  \n",
      " 0   key      3129 non-null   int64  \n",
      " 1   Bulk 3   1298 non-null   float64\n",
      " 2   Bulk 4   1014 non-null   float64\n",
      " 3   Bulk 6   576 non-null    float64\n",
      " 4   Bulk 12  2450 non-null   float64\n",
      " 5   Bulk 14  2806 non-null   float64\n",
      " 6   Bulk 15  2248 non-null   float64\n",
      "dtypes: float64(6), int64(1)\n",
      "memory usage: 171.2 KB\n"
     ]
    }
   ],
   "source": [
    "data_bulk.info()"
   ]
  },
  {
   "cell_type": "markdown",
   "id": "a6e53bc0",
   "metadata": {},
   "source": [
    "Так же заменим все пропущенные значения на 0"
   ]
  },
  {
   "cell_type": "code",
   "execution_count": 37,
   "id": "99ce3f8a",
   "metadata": {},
   "outputs": [],
   "source": [
    "data_bulk = data_bulk.fillna(0)"
   ]
  },
  {
   "cell_type": "markdown",
   "id": "16ada1ab",
   "metadata": {},
   "source": [
    "Удалим данные по этим материал так же и из таблицы data_bulk_time, а так же приведем даты к правильному формату."
   ]
  },
  {
   "cell_type": "code",
   "execution_count": 38,
   "id": "8584f7a8",
   "metadata": {},
   "outputs": [],
   "source": [
    "for i in data_bulk_time.columns:\n",
    "    if i in columns_to_drop:\n",
    "        data_bulk_time = data_bulk_time.drop(i, axis=1)"
   ]
  },
  {
   "cell_type": "code",
   "execution_count": 39,
   "id": "8951b278",
   "metadata": {},
   "outputs": [],
   "source": [
    "for i in data_bulk_time.columns:\n",
    "    if i != 'key':\n",
    "        data_bulk_time[i] = pd.to_datetime(data_bulk_time[i])"
   ]
  },
  {
   "cell_type": "code",
   "execution_count": 40,
   "id": "88a10666",
   "metadata": {},
   "outputs": [
    {
     "name": "stdout",
     "output_type": "stream",
     "text": [
      "<class 'pandas.core.frame.DataFrame'>\n",
      "RangeIndex: 3129 entries, 0 to 3128\n",
      "Data columns (total 7 columns):\n",
      " #   Column   Non-Null Count  Dtype         \n",
      "---  ------   --------------  -----         \n",
      " 0   key      3129 non-null   int64         \n",
      " 1   Bulk 3   1298 non-null   datetime64[ns]\n",
      " 2   Bulk 4   1014 non-null   datetime64[ns]\n",
      " 3   Bulk 6   576 non-null    datetime64[ns]\n",
      " 4   Bulk 12  2450 non-null   datetime64[ns]\n",
      " 5   Bulk 14  2806 non-null   datetime64[ns]\n",
      " 6   Bulk 15  2248 non-null   datetime64[ns]\n",
      "dtypes: datetime64[ns](6), int64(1)\n",
      "memory usage: 171.2 KB\n"
     ]
    }
   ],
   "source": [
    "data_bulk_time.info()"
   ]
  },
  {
   "cell_type": "markdown",
   "id": "363c9322",
   "metadata": {},
   "source": [
    "### Займемся датафреймом с целевым признаком data_temp"
   ]
  },
  {
   "cell_type": "markdown",
   "id": "ac9224ed",
   "metadata": {},
   "source": [
    "Приведем назания стобцов к правильному виду, а так же дату к правильному типу. И сформируем датафрейм с начальной и конечной температурой, а так же нас интересуют только те key, где есть хотя бы 2 измерения температуры."
   ]
  },
  {
   "cell_type": "code",
   "execution_count": 41,
   "id": "381e23b2",
   "metadata": {},
   "outputs": [],
   "source": [
    "data_temp.columns = ['key', 'time', 'temp']"
   ]
  },
  {
   "cell_type": "code",
   "execution_count": 42,
   "id": "fa98043d",
   "metadata": {},
   "outputs": [],
   "source": [
    "data_temp['time'] = pd.to_datetime(data_temp['time'])"
   ]
  },
  {
   "cell_type": "code",
   "execution_count": 43,
   "id": "00d09c95",
   "metadata": {},
   "outputs": [
    {
     "name": "stdout",
     "output_type": "stream",
     "text": [
      "<class 'pandas.core.frame.DataFrame'>\n",
      "RangeIndex: 18092 entries, 0 to 18091\n",
      "Data columns (total 3 columns):\n",
      " #   Column  Non-Null Count  Dtype         \n",
      "---  ------  --------------  -----         \n",
      " 0   key     18092 non-null  int64         \n",
      " 1   time    18092 non-null  datetime64[ns]\n",
      " 2   temp    14665 non-null  float64       \n",
      "dtypes: datetime64[ns](1), float64(1), int64(1)\n",
      "memory usage: 424.2 KB\n"
     ]
    }
   ],
   "source": [
    "data_temp.info()"
   ]
  },
  {
   "cell_type": "markdown",
   "id": "f6dd6b64",
   "metadata": {},
   "source": [
    "Для каждого ключа найдем время первого и последнего замера температуры."
   ]
  },
  {
   "cell_type": "code",
   "execution_count": 44,
   "id": "7a78cac0",
   "metadata": {},
   "outputs": [],
   "source": [
    "date_temp_time = pd.pivot_table(data_temp, values='time', index='key', aggfunc={'time': [np.min, np.max]})"
   ]
  },
  {
   "cell_type": "code",
   "execution_count": 45,
   "id": "9e7d36ef",
   "metadata": {},
   "outputs": [
    {
     "data": {
      "text/html": [
       "<div>\n",
       "<style scoped>\n",
       "    .dataframe tbody tr th:only-of-type {\n",
       "        vertical-align: middle;\n",
       "    }\n",
       "\n",
       "    .dataframe tbody tr th {\n",
       "        vertical-align: top;\n",
       "    }\n",
       "\n",
       "    .dataframe thead th {\n",
       "        text-align: right;\n",
       "    }\n",
       "</style>\n",
       "<table border=\"1\" class=\"dataframe\">\n",
       "  <thead>\n",
       "    <tr style=\"text-align: right;\">\n",
       "      <th></th>\n",
       "      <th>amax</th>\n",
       "      <th>amin</th>\n",
       "    </tr>\n",
       "    <tr>\n",
       "      <th>key</th>\n",
       "      <th></th>\n",
       "      <th></th>\n",
       "    </tr>\n",
       "  </thead>\n",
       "  <tbody>\n",
       "    <tr>\n",
       "      <th>1</th>\n",
       "      <td>2019-05-03 11:30:38</td>\n",
       "      <td>2019-05-03 11:02:04</td>\n",
       "    </tr>\n",
       "    <tr>\n",
       "      <th>2</th>\n",
       "      <td>2019-05-03 11:55:09</td>\n",
       "      <td>2019-05-03 11:34:04</td>\n",
       "    </tr>\n",
       "    <tr>\n",
       "      <th>3</th>\n",
       "      <td>2019-05-03 12:35:57</td>\n",
       "      <td>2019-05-03 12:06:44</td>\n",
       "    </tr>\n",
       "    <tr>\n",
       "      <th>4</th>\n",
       "      <td>2019-05-03 12:59:47</td>\n",
       "      <td>2019-05-03 12:39:27</td>\n",
       "    </tr>\n",
       "    <tr>\n",
       "      <th>5</th>\n",
       "      <td>2019-05-03 13:36:39</td>\n",
       "      <td>2019-05-03 13:11:03</td>\n",
       "    </tr>\n",
       "  </tbody>\n",
       "</table>\n",
       "</div>"
      ],
      "text/plain": [
       "                   amax                amin\n",
       "key                                        \n",
       "1   2019-05-03 11:30:38 2019-05-03 11:02:04\n",
       "2   2019-05-03 11:55:09 2019-05-03 11:34:04\n",
       "3   2019-05-03 12:35:57 2019-05-03 12:06:44\n",
       "4   2019-05-03 12:59:47 2019-05-03 12:39:27\n",
       "5   2019-05-03 13:36:39 2019-05-03 13:11:03"
      ]
     },
     "execution_count": 45,
     "metadata": {},
     "output_type": "execute_result"
    }
   ],
   "source": [
    "date_temp_time.head()"
   ]
  },
  {
   "cell_type": "code",
   "execution_count": 46,
   "id": "05264616",
   "metadata": {},
   "outputs": [],
   "source": [
    "date_temp_time['heat_time'] = date_temp_time['amax'] - date_temp_time['amin']"
   ]
  },
  {
   "cell_type": "markdown",
   "id": "10e13ac0",
   "metadata": {},
   "source": [
    "Теперь на основе этого датафрейма создадим датафрейм с температурой первого и последнего замера."
   ]
  },
  {
   "cell_type": "code",
   "execution_count": 47,
   "id": "9a901956",
   "metadata": {},
   "outputs": [],
   "source": [
    "first = list(date_temp_time['amin'])\n",
    "last = list(date_temp_time['amax'])"
   ]
  },
  {
   "cell_type": "code",
   "execution_count": 48,
   "id": "8f10c9a2",
   "metadata": {},
   "outputs": [],
   "source": [
    "first_temp = data_temp.query('time in @first')"
   ]
  },
  {
   "cell_type": "code",
   "execution_count": 49,
   "id": "3286b5b9",
   "metadata": {},
   "outputs": [
    {
     "data": {
      "text/html": [
       "<div>\n",
       "<style scoped>\n",
       "    .dataframe tbody tr th:only-of-type {\n",
       "        vertical-align: middle;\n",
       "    }\n",
       "\n",
       "    .dataframe tbody tr th {\n",
       "        vertical-align: top;\n",
       "    }\n",
       "\n",
       "    .dataframe thead th {\n",
       "        text-align: right;\n",
       "    }\n",
       "</style>\n",
       "<table border=\"1\" class=\"dataframe\">\n",
       "  <thead>\n",
       "    <tr style=\"text-align: right;\">\n",
       "      <th></th>\n",
       "      <th>key</th>\n",
       "      <th>time</th>\n",
       "      <th>temp</th>\n",
       "    </tr>\n",
       "  </thead>\n",
       "  <tbody>\n",
       "    <tr>\n",
       "      <th>0</th>\n",
       "      <td>1</td>\n",
       "      <td>2019-05-03 11:02:04</td>\n",
       "      <td>1571.0</td>\n",
       "    </tr>\n",
       "    <tr>\n",
       "      <th>6</th>\n",
       "      <td>2</td>\n",
       "      <td>2019-05-03 11:34:04</td>\n",
       "      <td>1581.0</td>\n",
       "    </tr>\n",
       "    <tr>\n",
       "      <th>11</th>\n",
       "      <td>3</td>\n",
       "      <td>2019-05-03 12:06:44</td>\n",
       "      <td>1596.0</td>\n",
       "    </tr>\n",
       "    <tr>\n",
       "      <th>17</th>\n",
       "      <td>4</td>\n",
       "      <td>2019-05-03 12:39:27</td>\n",
       "      <td>1601.0</td>\n",
       "    </tr>\n",
       "    <tr>\n",
       "      <th>22</th>\n",
       "      <td>5</td>\n",
       "      <td>2019-05-03 13:11:03</td>\n",
       "      <td>1576.0</td>\n",
       "    </tr>\n",
       "    <tr>\n",
       "      <th>...</th>\n",
       "      <td>...</td>\n",
       "      <td>...</td>\n",
       "      <td>...</td>\n",
       "    </tr>\n",
       "    <tr>\n",
       "      <th>18061</th>\n",
       "      <td>3237</td>\n",
       "      <td>2019-09-06 11:31:15</td>\n",
       "      <td>1569.0</td>\n",
       "    </tr>\n",
       "    <tr>\n",
       "      <th>18067</th>\n",
       "      <td>3238</td>\n",
       "      <td>2019-09-06 12:16:15</td>\n",
       "      <td>1584.0</td>\n",
       "    </tr>\n",
       "    <tr>\n",
       "      <th>18071</th>\n",
       "      <td>3239</td>\n",
       "      <td>2019-09-06 14:16:50</td>\n",
       "      <td>1598.0</td>\n",
       "    </tr>\n",
       "    <tr>\n",
       "      <th>18080</th>\n",
       "      <td>3240</td>\n",
       "      <td>2019-09-06 15:25:21</td>\n",
       "      <td>1617.0</td>\n",
       "    </tr>\n",
       "    <tr>\n",
       "      <th>18086</th>\n",
       "      <td>3241</td>\n",
       "      <td>2019-09-06 16:48:55</td>\n",
       "      <td>1586.0</td>\n",
       "    </tr>\n",
       "  </tbody>\n",
       "</table>\n",
       "<p>3216 rows × 3 columns</p>\n",
       "</div>"
      ],
      "text/plain": [
       "        key                time    temp\n",
       "0         1 2019-05-03 11:02:04  1571.0\n",
       "6         2 2019-05-03 11:34:04  1581.0\n",
       "11        3 2019-05-03 12:06:44  1596.0\n",
       "17        4 2019-05-03 12:39:27  1601.0\n",
       "22        5 2019-05-03 13:11:03  1576.0\n",
       "...     ...                 ...     ...\n",
       "18061  3237 2019-09-06 11:31:15  1569.0\n",
       "18067  3238 2019-09-06 12:16:15  1584.0\n",
       "18071  3239 2019-09-06 14:16:50  1598.0\n",
       "18080  3240 2019-09-06 15:25:21  1617.0\n",
       "18086  3241 2019-09-06 16:48:55  1586.0\n",
       "\n",
       "[3216 rows x 3 columns]"
      ]
     },
     "execution_count": 49,
     "metadata": {},
     "output_type": "execute_result"
    }
   ],
   "source": [
    "first_temp"
   ]
  },
  {
   "cell_type": "code",
   "execution_count": 50,
   "id": "d61aa943",
   "metadata": {},
   "outputs": [],
   "source": [
    "last_temp = data_temp.query('time in @last')"
   ]
  },
  {
   "cell_type": "code",
   "execution_count": 51,
   "id": "f971cb75",
   "metadata": {},
   "outputs": [
    {
     "data": {
      "text/html": [
       "<div>\n",
       "<style scoped>\n",
       "    .dataframe tbody tr th:only-of-type {\n",
       "        vertical-align: middle;\n",
       "    }\n",
       "\n",
       "    .dataframe tbody tr th {\n",
       "        vertical-align: top;\n",
       "    }\n",
       "\n",
       "    .dataframe thead th {\n",
       "        text-align: right;\n",
       "    }\n",
       "</style>\n",
       "<table border=\"1\" class=\"dataframe\">\n",
       "  <thead>\n",
       "    <tr style=\"text-align: right;\">\n",
       "      <th></th>\n",
       "      <th>key</th>\n",
       "      <th>time</th>\n",
       "      <th>temp</th>\n",
       "    </tr>\n",
       "  </thead>\n",
       "  <tbody>\n",
       "    <tr>\n",
       "      <th>5</th>\n",
       "      <td>1</td>\n",
       "      <td>2019-05-03 11:30:38</td>\n",
       "      <td>1613.0</td>\n",
       "    </tr>\n",
       "    <tr>\n",
       "      <th>10</th>\n",
       "      <td>2</td>\n",
       "      <td>2019-05-03 11:55:09</td>\n",
       "      <td>1602.0</td>\n",
       "    </tr>\n",
       "    <tr>\n",
       "      <th>16</th>\n",
       "      <td>3</td>\n",
       "      <td>2019-05-03 12:35:57</td>\n",
       "      <td>1599.0</td>\n",
       "    </tr>\n",
       "    <tr>\n",
       "      <th>21</th>\n",
       "      <td>4</td>\n",
       "      <td>2019-05-03 12:59:47</td>\n",
       "      <td>1625.0</td>\n",
       "    </tr>\n",
       "    <tr>\n",
       "      <th>26</th>\n",
       "      <td>5</td>\n",
       "      <td>2019-05-03 13:36:39</td>\n",
       "      <td>1602.0</td>\n",
       "    </tr>\n",
       "    <tr>\n",
       "      <th>...</th>\n",
       "      <td>...</td>\n",
       "      <td>...</td>\n",
       "      <td>...</td>\n",
       "    </tr>\n",
       "    <tr>\n",
       "      <th>18066</th>\n",
       "      <td>3237</td>\n",
       "      <td>2019-09-06 11:55:45</td>\n",
       "      <td>NaN</td>\n",
       "    </tr>\n",
       "    <tr>\n",
       "      <th>18070</th>\n",
       "      <td>3238</td>\n",
       "      <td>2019-09-06 12:34:37</td>\n",
       "      <td>NaN</td>\n",
       "    </tr>\n",
       "    <tr>\n",
       "      <th>18079</th>\n",
       "      <td>3239</td>\n",
       "      <td>2019-09-06 15:09:55</td>\n",
       "      <td>NaN</td>\n",
       "    </tr>\n",
       "    <tr>\n",
       "      <th>18085</th>\n",
       "      <td>3240</td>\n",
       "      <td>2019-09-06 16:35:26</td>\n",
       "      <td>NaN</td>\n",
       "    </tr>\n",
       "    <tr>\n",
       "      <th>18091</th>\n",
       "      <td>3241</td>\n",
       "      <td>2019-09-06 17:30:05</td>\n",
       "      <td>NaN</td>\n",
       "    </tr>\n",
       "  </tbody>\n",
       "</table>\n",
       "<p>3216 rows × 3 columns</p>\n",
       "</div>"
      ],
      "text/plain": [
       "        key                time    temp\n",
       "5         1 2019-05-03 11:30:38  1613.0\n",
       "10        2 2019-05-03 11:55:09  1602.0\n",
       "16        3 2019-05-03 12:35:57  1599.0\n",
       "21        4 2019-05-03 12:59:47  1625.0\n",
       "26        5 2019-05-03 13:36:39  1602.0\n",
       "...     ...                 ...     ...\n",
       "18066  3237 2019-09-06 11:55:45     NaN\n",
       "18070  3238 2019-09-06 12:34:37     NaN\n",
       "18079  3239 2019-09-06 15:09:55     NaN\n",
       "18085  3240 2019-09-06 16:35:26     NaN\n",
       "18091  3241 2019-09-06 17:30:05     NaN\n",
       "\n",
       "[3216 rows x 3 columns]"
      ]
     },
     "execution_count": 51,
     "metadata": {},
     "output_type": "execute_result"
    }
   ],
   "source": [
    "last_temp"
   ]
  },
  {
   "cell_type": "code",
   "execution_count": 52,
   "id": "37ed9663",
   "metadata": {},
   "outputs": [],
   "source": [
    "first_temp = first_temp.set_index('key')\n",
    "last_temp = last_temp.set_index('key')"
   ]
  },
  {
   "cell_type": "code",
   "execution_count": 53,
   "id": "d2120d7a",
   "metadata": {},
   "outputs": [],
   "source": [
    "data_temp_new = first_temp.copy()\n",
    "data_temp_new.columns = ['time', 'first_temp']"
   ]
  },
  {
   "cell_type": "code",
   "execution_count": 54,
   "id": "d9440d8b",
   "metadata": {},
   "outputs": [],
   "source": [
    "data_temp_new = data_temp_new.drop('time', axis=1)"
   ]
  },
  {
   "cell_type": "code",
   "execution_count": 55,
   "id": "4671102f",
   "metadata": {},
   "outputs": [],
   "source": [
    "data_temp_new['last_temp'] = last_temp['temp']"
   ]
  },
  {
   "cell_type": "code",
   "execution_count": 56,
   "id": "fac0e729",
   "metadata": {},
   "outputs": [],
   "source": [
    "#data_temp_new['heat_time'] = date_temp_time['heat_time']"
   ]
  },
  {
   "cell_type": "code",
   "execution_count": 57,
   "id": "19c3ee90",
   "metadata": {},
   "outputs": [],
   "source": [
    "#data_temp_new['heat_time'] =  pd.to_numeric(data_temp_new['heat_time'])"
   ]
  },
  {
   "cell_type": "markdown",
   "id": "3434011d",
   "metadata": {},
   "source": [
    "Избавимся от пропусков."
   ]
  },
  {
   "cell_type": "code",
   "execution_count": 58,
   "id": "1d705063",
   "metadata": {},
   "outputs": [],
   "source": [
    "data_temp_new = data_temp_new.dropna()"
   ]
  },
  {
   "cell_type": "code",
   "execution_count": 59,
   "id": "082a2697",
   "metadata": {},
   "outputs": [
    {
     "data": {
      "text/html": [
       "<div>\n",
       "<style scoped>\n",
       "    .dataframe tbody tr th:only-of-type {\n",
       "        vertical-align: middle;\n",
       "    }\n",
       "\n",
       "    .dataframe tbody tr th {\n",
       "        vertical-align: top;\n",
       "    }\n",
       "\n",
       "    .dataframe thead th {\n",
       "        text-align: right;\n",
       "    }\n",
       "</style>\n",
       "<table border=\"1\" class=\"dataframe\">\n",
       "  <thead>\n",
       "    <tr style=\"text-align: right;\">\n",
       "      <th></th>\n",
       "      <th>first_temp</th>\n",
       "      <th>last_temp</th>\n",
       "    </tr>\n",
       "    <tr>\n",
       "      <th>key</th>\n",
       "      <th></th>\n",
       "      <th></th>\n",
       "    </tr>\n",
       "  </thead>\n",
       "  <tbody>\n",
       "    <tr>\n",
       "      <th>1</th>\n",
       "      <td>1571.0</td>\n",
       "      <td>1613.0</td>\n",
       "    </tr>\n",
       "    <tr>\n",
       "      <th>2</th>\n",
       "      <td>1581.0</td>\n",
       "      <td>1602.0</td>\n",
       "    </tr>\n",
       "    <tr>\n",
       "      <th>3</th>\n",
       "      <td>1596.0</td>\n",
       "      <td>1599.0</td>\n",
       "    </tr>\n",
       "    <tr>\n",
       "      <th>4</th>\n",
       "      <td>1601.0</td>\n",
       "      <td>1625.0</td>\n",
       "    </tr>\n",
       "    <tr>\n",
       "      <th>5</th>\n",
       "      <td>1576.0</td>\n",
       "      <td>1602.0</td>\n",
       "    </tr>\n",
       "    <tr>\n",
       "      <th>...</th>\n",
       "      <td>...</td>\n",
       "      <td>...</td>\n",
       "    </tr>\n",
       "    <tr>\n",
       "      <th>2495</th>\n",
       "      <td>1570.0</td>\n",
       "      <td>1591.0</td>\n",
       "    </tr>\n",
       "    <tr>\n",
       "      <th>2496</th>\n",
       "      <td>1554.0</td>\n",
       "      <td>1591.0</td>\n",
       "    </tr>\n",
       "    <tr>\n",
       "      <th>2497</th>\n",
       "      <td>1571.0</td>\n",
       "      <td>1589.0</td>\n",
       "    </tr>\n",
       "    <tr>\n",
       "      <th>2498</th>\n",
       "      <td>1591.0</td>\n",
       "      <td>1594.0</td>\n",
       "    </tr>\n",
       "    <tr>\n",
       "      <th>2499</th>\n",
       "      <td>1569.0</td>\n",
       "      <td>1603.0</td>\n",
       "    </tr>\n",
       "  </tbody>\n",
       "</table>\n",
       "<p>2477 rows × 2 columns</p>\n",
       "</div>"
      ],
      "text/plain": [
       "      first_temp  last_temp\n",
       "key                        \n",
       "1         1571.0     1613.0\n",
       "2         1581.0     1602.0\n",
       "3         1596.0     1599.0\n",
       "4         1601.0     1625.0\n",
       "5         1576.0     1602.0\n",
       "...          ...        ...\n",
       "2495      1570.0     1591.0\n",
       "2496      1554.0     1591.0\n",
       "2497      1571.0     1589.0\n",
       "2498      1591.0     1594.0\n",
       "2499      1569.0     1603.0\n",
       "\n",
       "[2477 rows x 2 columns]"
      ]
     },
     "execution_count": 59,
     "metadata": {},
     "output_type": "execute_result"
    }
   ],
   "source": [
    "data_temp_new"
   ]
  },
  {
   "cell_type": "markdown",
   "id": "be96d8ce",
   "metadata": {},
   "source": [
    "### data_wire и data_wire_time"
   ]
  },
  {
   "cell_type": "code",
   "execution_count": 60,
   "id": "70f424c1",
   "metadata": {},
   "outputs": [
    {
     "name": "stdout",
     "output_type": "stream",
     "text": [
      "<class 'pandas.core.frame.DataFrame'>\n",
      "RangeIndex: 3081 entries, 0 to 3080\n",
      "Data columns (total 10 columns):\n",
      " #   Column  Non-Null Count  Dtype  \n",
      "---  ------  --------------  -----  \n",
      " 0   key     3081 non-null   int64  \n",
      " 1   Wire 1  3055 non-null   float64\n",
      " 2   Wire 2  1079 non-null   float64\n",
      " 3   Wire 3  63 non-null     float64\n",
      " 4   Wire 4  14 non-null     float64\n",
      " 5   Wire 5  1 non-null      float64\n",
      " 6   Wire 6  73 non-null     float64\n",
      " 7   Wire 7  11 non-null     float64\n",
      " 8   Wire 8  19 non-null     float64\n",
      " 9   Wire 9  29 non-null     float64\n",
      "dtypes: float64(9), int64(1)\n",
      "memory usage: 240.8 KB\n"
     ]
    }
   ],
   "source": [
    "data_wire.info()"
   ]
  },
  {
   "cell_type": "markdown",
   "id": "d79fa0d7",
   "metadata": {},
   "source": [
    "Поступим так же, как и с data_bulk, а именно избавимся от Wire 3, 4, 5, 6, 7, 8, 9."
   ]
  },
  {
   "cell_type": "code",
   "execution_count": 61,
   "id": "0dcf2496",
   "metadata": {},
   "outputs": [],
   "source": [
    "columns_to_drop = ['Wire 3', 'Wire 4', 'Wire 5', 'Wire 6', 'Wire 7', 'Wire 8', 'Wire 9']\n",
    "\n",
    "for i in data_wire.columns:\n",
    "    if i in columns_to_drop:\n",
    "        data_wire = data_wire.drop(i, axis=1)"
   ]
  },
  {
   "cell_type": "code",
   "execution_count": 62,
   "id": "596099c5",
   "metadata": {},
   "outputs": [
    {
     "name": "stdout",
     "output_type": "stream",
     "text": [
      "<class 'pandas.core.frame.DataFrame'>\n",
      "RangeIndex: 3081 entries, 0 to 3080\n",
      "Data columns (total 3 columns):\n",
      " #   Column  Non-Null Count  Dtype  \n",
      "---  ------  --------------  -----  \n",
      " 0   key     3081 non-null   int64  \n",
      " 1   Wire 1  3055 non-null   float64\n",
      " 2   Wire 2  1079 non-null   float64\n",
      "dtypes: float64(2), int64(1)\n",
      "memory usage: 72.3 KB\n"
     ]
    }
   ],
   "source": [
    "data_wire.info()"
   ]
  },
  {
   "cell_type": "code",
   "execution_count": 63,
   "id": "1e6983a7",
   "metadata": {},
   "outputs": [],
   "source": [
    "data_wire = data_wire.fillna(0)"
   ]
  },
  {
   "cell_type": "code",
   "execution_count": 64,
   "id": "3cd93de8",
   "metadata": {},
   "outputs": [],
   "source": [
    "for i in data_wire_time.columns:\n",
    "    if i in columns_to_drop:\n",
    "        data_wire_time = data_wire_time.drop(i, axis=1)"
   ]
  },
  {
   "cell_type": "code",
   "execution_count": 65,
   "id": "5bcdf213",
   "metadata": {},
   "outputs": [],
   "source": [
    "for i in data_wire_time.columns:\n",
    "    if i != 'key':\n",
    "        data_wire_time[i] = pd.to_datetime(data_wire_time[i])"
   ]
  },
  {
   "cell_type": "code",
   "execution_count": 66,
   "id": "58feb6fe",
   "metadata": {},
   "outputs": [
    {
     "name": "stdout",
     "output_type": "stream",
     "text": [
      "<class 'pandas.core.frame.DataFrame'>\n",
      "RangeIndex: 3081 entries, 0 to 3080\n",
      "Data columns (total 3 columns):\n",
      " #   Column  Non-Null Count  Dtype         \n",
      "---  ------  --------------  -----         \n",
      " 0   key     3081 non-null   int64         \n",
      " 1   Wire 1  3055 non-null   datetime64[ns]\n",
      " 2   Wire 2  1079 non-null   datetime64[ns]\n",
      "dtypes: datetime64[ns](2), int64(1)\n",
      "memory usage: 72.3 KB\n"
     ]
    }
   ],
   "source": [
    "data_wire_time.info()"
   ]
  },
  {
   "cell_type": "markdown",
   "id": "45d013d7",
   "metadata": {},
   "source": [
    "## Объединение данных"
   ]
  },
  {
   "cell_type": "markdown",
   "id": "d2faf1e9",
   "metadata": {},
   "source": [
    "### Добавим в data_arc полную мощность"
   ]
  },
  {
   "cell_type": "markdown",
   "id": "8bcf1e87",
   "metadata": {},
   "source": [
    "Добавим в датафрейм data_arc столбец с полной мощностью"
   ]
  },
  {
   "cell_type": "code",
   "execution_count": 67,
   "id": "992243b5",
   "metadata": {},
   "outputs": [],
   "source": [
    "data_arc['full_power'] = (data_arc['active_power']**2 + data_arc['reactive_power']**2)**.5"
   ]
  },
  {
   "cell_type": "code",
   "execution_count": 68,
   "id": "a97ddd51",
   "metadata": {},
   "outputs": [
    {
     "data": {
      "text/html": [
       "<div>\n",
       "<style scoped>\n",
       "    .dataframe tbody tr th:only-of-type {\n",
       "        vertical-align: middle;\n",
       "    }\n",
       "\n",
       "    .dataframe tbody tr th {\n",
       "        vertical-align: top;\n",
       "    }\n",
       "\n",
       "    .dataframe thead th {\n",
       "        text-align: right;\n",
       "    }\n",
       "</style>\n",
       "<table border=\"1\" class=\"dataframe\">\n",
       "  <thead>\n",
       "    <tr style=\"text-align: right;\">\n",
       "      <th></th>\n",
       "      <th>key</th>\n",
       "      <th>start_time</th>\n",
       "      <th>end_time</th>\n",
       "      <th>active_power</th>\n",
       "      <th>reactive_power</th>\n",
       "      <th>full_power</th>\n",
       "    </tr>\n",
       "  </thead>\n",
       "  <tbody>\n",
       "    <tr>\n",
       "      <th>0</th>\n",
       "      <td>1</td>\n",
       "      <td>2019-05-03 11:02:14</td>\n",
       "      <td>2019-05-03 11:06:02</td>\n",
       "      <td>0.305130</td>\n",
       "      <td>0.211253</td>\n",
       "      <td>0.371123</td>\n",
       "    </tr>\n",
       "    <tr>\n",
       "      <th>1</th>\n",
       "      <td>1</td>\n",
       "      <td>2019-05-03 11:07:28</td>\n",
       "      <td>2019-05-03 11:10:33</td>\n",
       "      <td>0.765658</td>\n",
       "      <td>0.477438</td>\n",
       "      <td>0.902319</td>\n",
       "    </tr>\n",
       "    <tr>\n",
       "      <th>2</th>\n",
       "      <td>1</td>\n",
       "      <td>2019-05-03 11:11:44</td>\n",
       "      <td>2019-05-03 11:14:36</td>\n",
       "      <td>0.580313</td>\n",
       "      <td>0.430460</td>\n",
       "      <td>0.722536</td>\n",
       "    </tr>\n",
       "    <tr>\n",
       "      <th>3</th>\n",
       "      <td>1</td>\n",
       "      <td>2019-05-03 11:18:14</td>\n",
       "      <td>2019-05-03 11:24:19</td>\n",
       "      <td>0.518496</td>\n",
       "      <td>0.379979</td>\n",
       "      <td>0.642824</td>\n",
       "    </tr>\n",
       "    <tr>\n",
       "      <th>4</th>\n",
       "      <td>1</td>\n",
       "      <td>2019-05-03 11:26:09</td>\n",
       "      <td>2019-05-03 11:28:37</td>\n",
       "      <td>0.867133</td>\n",
       "      <td>0.643691</td>\n",
       "      <td>1.079934</td>\n",
       "    </tr>\n",
       "  </tbody>\n",
       "</table>\n",
       "</div>"
      ],
      "text/plain": [
       "   key          start_time            end_time  active_power  reactive_power  \\\n",
       "0    1 2019-05-03 11:02:14 2019-05-03 11:06:02      0.305130        0.211253   \n",
       "1    1 2019-05-03 11:07:28 2019-05-03 11:10:33      0.765658        0.477438   \n",
       "2    1 2019-05-03 11:11:44 2019-05-03 11:14:36      0.580313        0.430460   \n",
       "3    1 2019-05-03 11:18:14 2019-05-03 11:24:19      0.518496        0.379979   \n",
       "4    1 2019-05-03 11:26:09 2019-05-03 11:28:37      0.867133        0.643691   \n",
       "\n",
       "   full_power  \n",
       "0    0.371123  \n",
       "1    0.902319  \n",
       "2    0.722536  \n",
       "3    0.642824  \n",
       "4    1.079934  "
      ]
     },
     "execution_count": 68,
     "metadata": {},
     "output_type": "execute_result"
    }
   ],
   "source": [
    "data_arc.head()"
   ]
  },
  {
   "cell_type": "code",
   "execution_count": 69,
   "id": "c64d727c",
   "metadata": {},
   "outputs": [],
   "source": [
    "data_arc['heat_time'] = data_arc['end_time'] - data_arc['start_time']"
   ]
  },
  {
   "cell_type": "code",
   "execution_count": 70,
   "id": "9cf1391d",
   "metadata": {},
   "outputs": [],
   "source": [
    "data_arc['heat_time'] =  data_arc['heat_time'].dt.total_seconds()"
   ]
  },
  {
   "cell_type": "code",
   "execution_count": 71,
   "id": "e83c8726",
   "metadata": {},
   "outputs": [
    {
     "data": {
      "text/html": [
       "<div>\n",
       "<style scoped>\n",
       "    .dataframe tbody tr th:only-of-type {\n",
       "        vertical-align: middle;\n",
       "    }\n",
       "\n",
       "    .dataframe tbody tr th {\n",
       "        vertical-align: top;\n",
       "    }\n",
       "\n",
       "    .dataframe thead th {\n",
       "        text-align: right;\n",
       "    }\n",
       "</style>\n",
       "<table border=\"1\" class=\"dataframe\">\n",
       "  <thead>\n",
       "    <tr style=\"text-align: right;\">\n",
       "      <th></th>\n",
       "      <th>key</th>\n",
       "      <th>start_time</th>\n",
       "      <th>end_time</th>\n",
       "      <th>active_power</th>\n",
       "      <th>reactive_power</th>\n",
       "      <th>full_power</th>\n",
       "      <th>heat_time</th>\n",
       "    </tr>\n",
       "  </thead>\n",
       "  <tbody>\n",
       "    <tr>\n",
       "      <th>0</th>\n",
       "      <td>1</td>\n",
       "      <td>2019-05-03 11:02:14</td>\n",
       "      <td>2019-05-03 11:06:02</td>\n",
       "      <td>0.305130</td>\n",
       "      <td>0.211253</td>\n",
       "      <td>0.371123</td>\n",
       "      <td>228.0</td>\n",
       "    </tr>\n",
       "    <tr>\n",
       "      <th>1</th>\n",
       "      <td>1</td>\n",
       "      <td>2019-05-03 11:07:28</td>\n",
       "      <td>2019-05-03 11:10:33</td>\n",
       "      <td>0.765658</td>\n",
       "      <td>0.477438</td>\n",
       "      <td>0.902319</td>\n",
       "      <td>185.0</td>\n",
       "    </tr>\n",
       "    <tr>\n",
       "      <th>2</th>\n",
       "      <td>1</td>\n",
       "      <td>2019-05-03 11:11:44</td>\n",
       "      <td>2019-05-03 11:14:36</td>\n",
       "      <td>0.580313</td>\n",
       "      <td>0.430460</td>\n",
       "      <td>0.722536</td>\n",
       "      <td>172.0</td>\n",
       "    </tr>\n",
       "    <tr>\n",
       "      <th>3</th>\n",
       "      <td>1</td>\n",
       "      <td>2019-05-03 11:18:14</td>\n",
       "      <td>2019-05-03 11:24:19</td>\n",
       "      <td>0.518496</td>\n",
       "      <td>0.379979</td>\n",
       "      <td>0.642824</td>\n",
       "      <td>365.0</td>\n",
       "    </tr>\n",
       "    <tr>\n",
       "      <th>4</th>\n",
       "      <td>1</td>\n",
       "      <td>2019-05-03 11:26:09</td>\n",
       "      <td>2019-05-03 11:28:37</td>\n",
       "      <td>0.867133</td>\n",
       "      <td>0.643691</td>\n",
       "      <td>1.079934</td>\n",
       "      <td>148.0</td>\n",
       "    </tr>\n",
       "  </tbody>\n",
       "</table>\n",
       "</div>"
      ],
      "text/plain": [
       "   key          start_time            end_time  active_power  reactive_power  \\\n",
       "0    1 2019-05-03 11:02:14 2019-05-03 11:06:02      0.305130        0.211253   \n",
       "1    1 2019-05-03 11:07:28 2019-05-03 11:10:33      0.765658        0.477438   \n",
       "2    1 2019-05-03 11:11:44 2019-05-03 11:14:36      0.580313        0.430460   \n",
       "3    1 2019-05-03 11:18:14 2019-05-03 11:24:19      0.518496        0.379979   \n",
       "4    1 2019-05-03 11:26:09 2019-05-03 11:28:37      0.867133        0.643691   \n",
       "\n",
       "   full_power  heat_time  \n",
       "0    0.371123      228.0  \n",
       "1    0.902319      185.0  \n",
       "2    0.722536      172.0  \n",
       "3    0.642824      365.0  \n",
       "4    1.079934      148.0  "
      ]
     },
     "execution_count": 71,
     "metadata": {},
     "output_type": "execute_result"
    }
   ],
   "source": [
    "data_arc.head()"
   ]
  },
  {
   "cell_type": "code",
   "execution_count": 72,
   "id": "03475f3d",
   "metadata": {},
   "outputs": [
    {
     "name": "stdout",
     "output_type": "stream",
     "text": [
      "<class 'pandas.core.frame.DataFrame'>\n",
      "Int64Index: 14872 entries, 0 to 14875\n",
      "Data columns (total 7 columns):\n",
      " #   Column          Non-Null Count  Dtype         \n",
      "---  ------          --------------  -----         \n",
      " 0   key             14872 non-null  int64         \n",
      " 1   start_time      14872 non-null  datetime64[ns]\n",
      " 2   end_time        14872 non-null  datetime64[ns]\n",
      " 3   active_power    14872 non-null  float64       \n",
      " 4   reactive_power  14872 non-null  float64       \n",
      " 5   full_power      14872 non-null  float64       \n",
      " 6   heat_time       14872 non-null  float64       \n",
      "dtypes: datetime64[ns](2), float64(4), int64(1)\n",
      "memory usage: 929.5 KB\n"
     ]
    }
   ],
   "source": [
    "data_arc.info()"
   ]
  },
  {
   "cell_type": "markdown",
   "id": "1b5c3ac4",
   "metadata": {},
   "source": [
    "Теперь сгруппируем по ключу и посчитаем суммы мощностей."
   ]
  },
  {
   "cell_type": "code",
   "execution_count": 73,
   "id": "eb1e3f1e",
   "metadata": {},
   "outputs": [],
   "source": [
    "data_arc_powers = pd.pivot_table(data_arc, values=['active_power', 'reactive_power', 'full_power', 'heat_time'],\n",
    "                                 index='key', aggfunc={sum})\n",
    "data_arc_powers.columns = ['active_power_sum', 'reactive_power_sum', 'full_power_sum', 'heat_time_sum']"
   ]
  },
  {
   "cell_type": "code",
   "execution_count": 74,
   "id": "f7de2b6c",
   "metadata": {},
   "outputs": [
    {
     "data": {
      "text/html": [
       "<div>\n",
       "<style scoped>\n",
       "    .dataframe tbody tr th:only-of-type {\n",
       "        vertical-align: middle;\n",
       "    }\n",
       "\n",
       "    .dataframe tbody tr th {\n",
       "        vertical-align: top;\n",
       "    }\n",
       "\n",
       "    .dataframe thead th {\n",
       "        text-align: right;\n",
       "    }\n",
       "</style>\n",
       "<table border=\"1\" class=\"dataframe\">\n",
       "  <thead>\n",
       "    <tr style=\"text-align: right;\">\n",
       "      <th></th>\n",
       "      <th>active_power_sum</th>\n",
       "      <th>reactive_power_sum</th>\n",
       "      <th>full_power_sum</th>\n",
       "      <th>heat_time_sum</th>\n",
       "    </tr>\n",
       "    <tr>\n",
       "      <th>key</th>\n",
       "      <th></th>\n",
       "      <th></th>\n",
       "      <th></th>\n",
       "      <th></th>\n",
       "    </tr>\n",
       "  </thead>\n",
       "  <tbody>\n",
       "    <tr>\n",
       "      <th>1</th>\n",
       "      <td>3.036730</td>\n",
       "      <td>3.718736</td>\n",
       "      <td>1098.0</td>\n",
       "      <td>2.142821</td>\n",
       "    </tr>\n",
       "    <tr>\n",
       "      <th>2</th>\n",
       "      <td>2.139408</td>\n",
       "      <td>2.588349</td>\n",
       "      <td>811.0</td>\n",
       "      <td>1.453357</td>\n",
       "    </tr>\n",
       "    <tr>\n",
       "      <th>3</th>\n",
       "      <td>4.063641</td>\n",
       "      <td>5.019223</td>\n",
       "      <td>655.0</td>\n",
       "      <td>2.937457</td>\n",
       "    </tr>\n",
       "    <tr>\n",
       "      <th>4</th>\n",
       "      <td>2.706489</td>\n",
       "      <td>3.400038</td>\n",
       "      <td>741.0</td>\n",
       "      <td>2.056992</td>\n",
       "    </tr>\n",
       "    <tr>\n",
       "      <th>5</th>\n",
       "      <td>2.252950</td>\n",
       "      <td>2.816980</td>\n",
       "      <td>869.0</td>\n",
       "      <td>1.687991</td>\n",
       "    </tr>\n",
       "  </tbody>\n",
       "</table>\n",
       "</div>"
      ],
      "text/plain": [
       "     active_power_sum  reactive_power_sum  full_power_sum  heat_time_sum\n",
       "key                                                                     \n",
       "1            3.036730            3.718736          1098.0       2.142821\n",
       "2            2.139408            2.588349           811.0       1.453357\n",
       "3            4.063641            5.019223           655.0       2.937457\n",
       "4            2.706489            3.400038           741.0       2.056992\n",
       "5            2.252950            2.816980           869.0       1.687991"
      ]
     },
     "execution_count": 74,
     "metadata": {},
     "output_type": "execute_result"
    }
   ],
   "source": [
    "data_arc_powers.head()"
   ]
  },
  {
   "cell_type": "markdown",
   "id": "460240d7",
   "metadata": {},
   "source": [
    "### Начнем объединение"
   ]
  },
  {
   "cell_type": "markdown",
   "id": "3284a49a",
   "metadata": {},
   "source": [
    "Для начала сделаем 'key' индексами всех наших датафреймов, которые мы будем объдинять"
   ]
  },
  {
   "cell_type": "code",
   "execution_count": 75,
   "id": "60f36be8",
   "metadata": {},
   "outputs": [],
   "source": [
    "data_bulk = data_bulk.set_index('key')\n",
    "data_wire = data_wire.set_index('key')\n",
    "data_gas = data_gas.set_index('key')"
   ]
  },
  {
   "cell_type": "code",
   "execution_count": 76,
   "id": "6b2c855a",
   "metadata": {},
   "outputs": [],
   "source": [
    "data = pd.concat([data_temp_new, data_bulk, data_wire, data_gas, data_arc_powers], axis=1)"
   ]
  },
  {
   "cell_type": "code",
   "execution_count": 77,
   "id": "a03f67b7",
   "metadata": {},
   "outputs": [
    {
     "name": "stdout",
     "output_type": "stream",
     "text": [
      "<class 'pandas.core.frame.DataFrame'>\n",
      "Int64Index: 3241 entries, 1 to 3241\n",
      "Data columns (total 15 columns):\n",
      " #   Column              Non-Null Count  Dtype  \n",
      "---  ------              --------------  -----  \n",
      " 0   first_temp          2477 non-null   float64\n",
      " 1   last_temp           2477 non-null   float64\n",
      " 2   Bulk 3              3129 non-null   float64\n",
      " 3   Bulk 4              3129 non-null   float64\n",
      " 4   Bulk 6              3129 non-null   float64\n",
      " 5   Bulk 12             3129 non-null   float64\n",
      " 6   Bulk 14             3129 non-null   float64\n",
      " 7   Bulk 15             3129 non-null   float64\n",
      " 8   Wire 1              3081 non-null   float64\n",
      " 9   Wire 2              3081 non-null   float64\n",
      " 10  gas_1               3239 non-null   float64\n",
      " 11  active_power_sum    3213 non-null   float64\n",
      " 12  reactive_power_sum  3213 non-null   float64\n",
      " 13  full_power_sum      3213 non-null   float64\n",
      " 14  heat_time_sum       3213 non-null   float64\n",
      "dtypes: float64(15)\n",
      "memory usage: 405.1 KB\n"
     ]
    }
   ],
   "source": [
    "data.info()"
   ]
  },
  {
   "cell_type": "markdown",
   "id": "5e8363df",
   "metadata": {},
   "source": [
    "## Исследовательский анализ и предобработка данных объединённого датафрейма"
   ]
  },
  {
   "cell_type": "markdown",
   "id": "44495089",
   "metadata": {},
   "source": [
    "Удалим строки, где нет данных о температуре, так как это наш целевой признак. А так же заполним все пропуски нулями."
   ]
  },
  {
   "cell_type": "code",
   "execution_count": 78,
   "id": "5e01c8db",
   "metadata": {},
   "outputs": [],
   "source": [
    "data = data.dropna(subset=['last_temp'])"
   ]
  },
  {
   "cell_type": "code",
   "execution_count": 79,
   "id": "c23d9d5c",
   "metadata": {},
   "outputs": [],
   "source": [
    "data = data.dropna()"
   ]
  },
  {
   "cell_type": "code",
   "execution_count": 80,
   "id": "e88858ac",
   "metadata": {},
   "outputs": [
    {
     "data": {
      "text/html": [
       "<div>\n",
       "<style scoped>\n",
       "    .dataframe tbody tr th:only-of-type {\n",
       "        vertical-align: middle;\n",
       "    }\n",
       "\n",
       "    .dataframe tbody tr th {\n",
       "        vertical-align: top;\n",
       "    }\n",
       "\n",
       "    .dataframe thead th {\n",
       "        text-align: right;\n",
       "    }\n",
       "</style>\n",
       "<table border=\"1\" class=\"dataframe\">\n",
       "  <thead>\n",
       "    <tr style=\"text-align: right;\">\n",
       "      <th></th>\n",
       "      <th>first_temp</th>\n",
       "      <th>last_temp</th>\n",
       "      <th>Bulk 3</th>\n",
       "      <th>Bulk 4</th>\n",
       "      <th>Bulk 6</th>\n",
       "      <th>Bulk 12</th>\n",
       "      <th>Bulk 14</th>\n",
       "      <th>Bulk 15</th>\n",
       "      <th>Wire 1</th>\n",
       "      <th>Wire 2</th>\n",
       "      <th>gas_1</th>\n",
       "      <th>active_power_sum</th>\n",
       "      <th>reactive_power_sum</th>\n",
       "      <th>full_power_sum</th>\n",
       "      <th>heat_time_sum</th>\n",
       "    </tr>\n",
       "    <tr>\n",
       "      <th>key</th>\n",
       "      <th></th>\n",
       "      <th></th>\n",
       "      <th></th>\n",
       "      <th></th>\n",
       "      <th></th>\n",
       "      <th></th>\n",
       "      <th></th>\n",
       "      <th></th>\n",
       "      <th></th>\n",
       "      <th></th>\n",
       "      <th></th>\n",
       "      <th></th>\n",
       "      <th></th>\n",
       "      <th></th>\n",
       "      <th></th>\n",
       "    </tr>\n",
       "  </thead>\n",
       "  <tbody>\n",
       "    <tr>\n",
       "      <th>1</th>\n",
       "      <td>1571.0</td>\n",
       "      <td>1613.0</td>\n",
       "      <td>0.0</td>\n",
       "      <td>43.0</td>\n",
       "      <td>0.0</td>\n",
       "      <td>206.0</td>\n",
       "      <td>150.0</td>\n",
       "      <td>154.0</td>\n",
       "      <td>60.059998</td>\n",
       "      <td>0.00000</td>\n",
       "      <td>29.749986</td>\n",
       "      <td>3.036730</td>\n",
       "      <td>3.718736</td>\n",
       "      <td>1098.0</td>\n",
       "      <td>2.142821</td>\n",
       "    </tr>\n",
       "    <tr>\n",
       "      <th>2</th>\n",
       "      <td>1581.0</td>\n",
       "      <td>1602.0</td>\n",
       "      <td>0.0</td>\n",
       "      <td>73.0</td>\n",
       "      <td>0.0</td>\n",
       "      <td>206.0</td>\n",
       "      <td>149.0</td>\n",
       "      <td>154.0</td>\n",
       "      <td>96.052315</td>\n",
       "      <td>0.00000</td>\n",
       "      <td>12.555561</td>\n",
       "      <td>2.139408</td>\n",
       "      <td>2.588349</td>\n",
       "      <td>811.0</td>\n",
       "      <td>1.453357</td>\n",
       "    </tr>\n",
       "    <tr>\n",
       "      <th>3</th>\n",
       "      <td>1596.0</td>\n",
       "      <td>1599.0</td>\n",
       "      <td>0.0</td>\n",
       "      <td>34.0</td>\n",
       "      <td>0.0</td>\n",
       "      <td>205.0</td>\n",
       "      <td>152.0</td>\n",
       "      <td>153.0</td>\n",
       "      <td>91.160157</td>\n",
       "      <td>0.00000</td>\n",
       "      <td>28.554793</td>\n",
       "      <td>4.063641</td>\n",
       "      <td>5.019223</td>\n",
       "      <td>655.0</td>\n",
       "      <td>2.937457</td>\n",
       "    </tr>\n",
       "    <tr>\n",
       "      <th>4</th>\n",
       "      <td>1601.0</td>\n",
       "      <td>1625.0</td>\n",
       "      <td>0.0</td>\n",
       "      <td>81.0</td>\n",
       "      <td>0.0</td>\n",
       "      <td>207.0</td>\n",
       "      <td>153.0</td>\n",
       "      <td>154.0</td>\n",
       "      <td>89.063515</td>\n",
       "      <td>0.00000</td>\n",
       "      <td>18.841219</td>\n",
       "      <td>2.706489</td>\n",
       "      <td>3.400038</td>\n",
       "      <td>741.0</td>\n",
       "      <td>2.056992</td>\n",
       "    </tr>\n",
       "    <tr>\n",
       "      <th>5</th>\n",
       "      <td>1576.0</td>\n",
       "      <td>1602.0</td>\n",
       "      <td>0.0</td>\n",
       "      <td>78.0</td>\n",
       "      <td>0.0</td>\n",
       "      <td>203.0</td>\n",
       "      <td>151.0</td>\n",
       "      <td>152.0</td>\n",
       "      <td>89.238236</td>\n",
       "      <td>9.11456</td>\n",
       "      <td>5.413692</td>\n",
       "      <td>2.252950</td>\n",
       "      <td>2.816980</td>\n",
       "      <td>869.0</td>\n",
       "      <td>1.687991</td>\n",
       "    </tr>\n",
       "  </tbody>\n",
       "</table>\n",
       "</div>"
      ],
      "text/plain": [
       "     first_temp  last_temp  Bulk 3  Bulk 4  Bulk 6  Bulk 12  Bulk 14  Bulk 15  \\\n",
       "key                                                                             \n",
       "1        1571.0     1613.0     0.0    43.0     0.0    206.0    150.0    154.0   \n",
       "2        1581.0     1602.0     0.0    73.0     0.0    206.0    149.0    154.0   \n",
       "3        1596.0     1599.0     0.0    34.0     0.0    205.0    152.0    153.0   \n",
       "4        1601.0     1625.0     0.0    81.0     0.0    207.0    153.0    154.0   \n",
       "5        1576.0     1602.0     0.0    78.0     0.0    203.0    151.0    152.0   \n",
       "\n",
       "        Wire 1   Wire 2      gas_1  active_power_sum  reactive_power_sum  \\\n",
       "key                                                                        \n",
       "1    60.059998  0.00000  29.749986          3.036730            3.718736   \n",
       "2    96.052315  0.00000  12.555561          2.139408            2.588349   \n",
       "3    91.160157  0.00000  28.554793          4.063641            5.019223   \n",
       "4    89.063515  0.00000  18.841219          2.706489            3.400038   \n",
       "5    89.238236  9.11456   5.413692          2.252950            2.816980   \n",
       "\n",
       "     full_power_sum  heat_time_sum  \n",
       "key                                 \n",
       "1            1098.0       2.142821  \n",
       "2             811.0       1.453357  \n",
       "3             655.0       2.937457  \n",
       "4             741.0       2.056992  \n",
       "5             869.0       1.687991  "
      ]
     },
     "execution_count": 80,
     "metadata": {},
     "output_type": "execute_result"
    }
   ],
   "source": [
    "data.head()"
   ]
  },
  {
   "cell_type": "code",
   "execution_count": 81,
   "id": "095a4dca",
   "metadata": {},
   "outputs": [
    {
     "name": "stdout",
     "output_type": "stream",
     "text": [
      "<class 'pandas.core.frame.DataFrame'>\n",
      "Int64Index: 2328 entries, 1 to 2499\n",
      "Data columns (total 15 columns):\n",
      " #   Column              Non-Null Count  Dtype  \n",
      "---  ------              --------------  -----  \n",
      " 0   first_temp          2328 non-null   float64\n",
      " 1   last_temp           2328 non-null   float64\n",
      " 2   Bulk 3              2328 non-null   float64\n",
      " 3   Bulk 4              2328 non-null   float64\n",
      " 4   Bulk 6              2328 non-null   float64\n",
      " 5   Bulk 12             2328 non-null   float64\n",
      " 6   Bulk 14             2328 non-null   float64\n",
      " 7   Bulk 15             2328 non-null   float64\n",
      " 8   Wire 1              2328 non-null   float64\n",
      " 9   Wire 2              2328 non-null   float64\n",
      " 10  gas_1               2328 non-null   float64\n",
      " 11  active_power_sum    2328 non-null   float64\n",
      " 12  reactive_power_sum  2328 non-null   float64\n",
      " 13  full_power_sum      2328 non-null   float64\n",
      " 14  heat_time_sum       2328 non-null   float64\n",
      "dtypes: float64(15)\n",
      "memory usage: 291.0 KB\n"
     ]
    }
   ],
   "source": [
    "data.info()"
   ]
  },
  {
   "cell_type": "code",
   "execution_count": null,
   "id": "bfc28213",
   "metadata": {},
   "outputs": [],
   "source": []
  },
  {
   "cell_type": "code",
   "execution_count": 82,
   "id": "bc4f2821",
   "metadata": {},
   "outputs": [
    {
     "data": {
      "text/html": [
       "<div>\n",
       "<style scoped>\n",
       "    .dataframe tbody tr th:only-of-type {\n",
       "        vertical-align: middle;\n",
       "    }\n",
       "\n",
       "    .dataframe tbody tr th {\n",
       "        vertical-align: top;\n",
       "    }\n",
       "\n",
       "    .dataframe thead th {\n",
       "        text-align: right;\n",
       "    }\n",
       "</style>\n",
       "<table border=\"1\" class=\"dataframe\">\n",
       "  <thead>\n",
       "    <tr style=\"text-align: right;\">\n",
       "      <th></th>\n",
       "      <th>first_temp</th>\n",
       "      <th>last_temp</th>\n",
       "      <th>Bulk 3</th>\n",
       "      <th>Bulk 4</th>\n",
       "      <th>Bulk 6</th>\n",
       "      <th>Bulk 12</th>\n",
       "      <th>Bulk 14</th>\n",
       "      <th>Bulk 15</th>\n",
       "      <th>Wire 1</th>\n",
       "      <th>Wire 2</th>\n",
       "      <th>gas_1</th>\n",
       "      <th>active_power_sum</th>\n",
       "      <th>reactive_power_sum</th>\n",
       "      <th>full_power_sum</th>\n",
       "      <th>heat_time_sum</th>\n",
       "    </tr>\n",
       "  </thead>\n",
       "  <tbody>\n",
       "    <tr>\n",
       "      <th>first_temp</th>\n",
       "      <td>1.000000</td>\n",
       "      <td>0.252389</td>\n",
       "      <td>-0.104478</td>\n",
       "      <td>0.144715</td>\n",
       "      <td>-0.096800</td>\n",
       "      <td>-0.058673</td>\n",
       "      <td>-0.130971</td>\n",
       "      <td>-0.040533</td>\n",
       "      <td>0.209392</td>\n",
       "      <td>-0.086157</td>\n",
       "      <td>0.037345</td>\n",
       "      <td>-0.119865</td>\n",
       "      <td>-0.120336</td>\n",
       "      <td>-0.305299</td>\n",
       "      <td>-0.120518</td>\n",
       "    </tr>\n",
       "    <tr>\n",
       "      <th>last_temp</th>\n",
       "      <td>0.252389</td>\n",
       "      <td>1.000000</td>\n",
       "      <td>-0.036365</td>\n",
       "      <td>0.187687</td>\n",
       "      <td>-0.180843</td>\n",
       "      <td>0.266851</td>\n",
       "      <td>0.114991</td>\n",
       "      <td>0.265801</td>\n",
       "      <td>0.317362</td>\n",
       "      <td>-0.207076</td>\n",
       "      <td>0.059203</td>\n",
       "      <td>0.176871</td>\n",
       "      <td>0.175218</td>\n",
       "      <td>0.278112</td>\n",
       "      <td>0.171462</td>\n",
       "    </tr>\n",
       "    <tr>\n",
       "      <th>Bulk 3</th>\n",
       "      <td>-0.104478</td>\n",
       "      <td>-0.036365</td>\n",
       "      <td>1.000000</td>\n",
       "      <td>-0.295654</td>\n",
       "      <td>0.065904</td>\n",
       "      <td>0.018021</td>\n",
       "      <td>0.010920</td>\n",
       "      <td>-0.013250</td>\n",
       "      <td>0.039475</td>\n",
       "      <td>0.095595</td>\n",
       "      <td>0.059641</td>\n",
       "      <td>0.103007</td>\n",
       "      <td>0.102412</td>\n",
       "      <td>0.092347</td>\n",
       "      <td>0.100739</td>\n",
       "    </tr>\n",
       "    <tr>\n",
       "      <th>Bulk 4</th>\n",
       "      <td>0.144715</td>\n",
       "      <td>0.187687</td>\n",
       "      <td>-0.295654</td>\n",
       "      <td>1.000000</td>\n",
       "      <td>-0.251250</td>\n",
       "      <td>0.105477</td>\n",
       "      <td>-0.090467</td>\n",
       "      <td>0.101180</td>\n",
       "      <td>0.297471</td>\n",
       "      <td>-0.268325</td>\n",
       "      <td>0.017589</td>\n",
       "      <td>0.005297</td>\n",
       "      <td>0.004980</td>\n",
       "      <td>-0.028640</td>\n",
       "      <td>0.004410</td>\n",
       "    </tr>\n",
       "    <tr>\n",
       "      <th>Bulk 6</th>\n",
       "      <td>-0.096800</td>\n",
       "      <td>-0.180843</td>\n",
       "      <td>0.065904</td>\n",
       "      <td>-0.251250</td>\n",
       "      <td>1.000000</td>\n",
       "      <td>-0.111874</td>\n",
       "      <td>0.177184</td>\n",
       "      <td>-0.108210</td>\n",
       "      <td>-0.235474</td>\n",
       "      <td>0.205287</td>\n",
       "      <td>0.139723</td>\n",
       "      <td>0.133920</td>\n",
       "      <td>0.133768</td>\n",
       "      <td>0.163067</td>\n",
       "      <td>0.133034</td>\n",
       "    </tr>\n",
       "    <tr>\n",
       "      <th>Bulk 12</th>\n",
       "      <td>-0.058673</td>\n",
       "      <td>0.266851</td>\n",
       "      <td>0.018021</td>\n",
       "      <td>0.105477</td>\n",
       "      <td>-0.111874</td>\n",
       "      <td>1.000000</td>\n",
       "      <td>0.482063</td>\n",
       "      <td>0.614169</td>\n",
       "      <td>0.169889</td>\n",
       "      <td>-0.098605</td>\n",
       "      <td>0.217433</td>\n",
       "      <td>0.285683</td>\n",
       "      <td>0.286050</td>\n",
       "      <td>0.466359</td>\n",
       "      <td>0.285379</td>\n",
       "    </tr>\n",
       "    <tr>\n",
       "      <th>Bulk 14</th>\n",
       "      <td>-0.130971</td>\n",
       "      <td>0.114991</td>\n",
       "      <td>0.010920</td>\n",
       "      <td>-0.090467</td>\n",
       "      <td>0.177184</td>\n",
       "      <td>0.482063</td>\n",
       "      <td>1.000000</td>\n",
       "      <td>0.265816</td>\n",
       "      <td>-0.053698</td>\n",
       "      <td>0.036436</td>\n",
       "      <td>0.268898</td>\n",
       "      <td>0.300354</td>\n",
       "      <td>0.299385</td>\n",
       "      <td>0.461740</td>\n",
       "      <td>0.296199</td>\n",
       "    </tr>\n",
       "    <tr>\n",
       "      <th>Bulk 15</th>\n",
       "      <td>-0.040533</td>\n",
       "      <td>0.265801</td>\n",
       "      <td>-0.013250</td>\n",
       "      <td>0.101180</td>\n",
       "      <td>-0.108210</td>\n",
       "      <td>0.614169</td>\n",
       "      <td>0.265816</td>\n",
       "      <td>1.000000</td>\n",
       "      <td>0.118117</td>\n",
       "      <td>-0.096781</td>\n",
       "      <td>0.043662</td>\n",
       "      <td>0.169358</td>\n",
       "      <td>0.169039</td>\n",
       "      <td>0.295245</td>\n",
       "      <td>0.167678</td>\n",
       "    </tr>\n",
       "    <tr>\n",
       "      <th>Wire 1</th>\n",
       "      <td>0.209392</td>\n",
       "      <td>0.317362</td>\n",
       "      <td>0.039475</td>\n",
       "      <td>0.297471</td>\n",
       "      <td>-0.235474</td>\n",
       "      <td>0.169889</td>\n",
       "      <td>-0.053698</td>\n",
       "      <td>0.118117</td>\n",
       "      <td>1.000000</td>\n",
       "      <td>-0.068451</td>\n",
       "      <td>0.117331</td>\n",
       "      <td>0.137700</td>\n",
       "      <td>0.138132</td>\n",
       "      <td>0.055142</td>\n",
       "      <td>0.138165</td>\n",
       "    </tr>\n",
       "    <tr>\n",
       "      <th>Wire 2</th>\n",
       "      <td>-0.086157</td>\n",
       "      <td>-0.207076</td>\n",
       "      <td>0.095595</td>\n",
       "      <td>-0.268325</td>\n",
       "      <td>0.205287</td>\n",
       "      <td>-0.098605</td>\n",
       "      <td>0.036436</td>\n",
       "      <td>-0.096781</td>\n",
       "      <td>-0.068451</td>\n",
       "      <td>1.000000</td>\n",
       "      <td>0.104261</td>\n",
       "      <td>0.062259</td>\n",
       "      <td>0.062173</td>\n",
       "      <td>0.054251</td>\n",
       "      <td>0.061666</td>\n",
       "    </tr>\n",
       "    <tr>\n",
       "      <th>gas_1</th>\n",
       "      <td>0.037345</td>\n",
       "      <td>0.059203</td>\n",
       "      <td>0.059641</td>\n",
       "      <td>0.017589</td>\n",
       "      <td>0.139723</td>\n",
       "      <td>0.217433</td>\n",
       "      <td>0.268898</td>\n",
       "      <td>0.043662</td>\n",
       "      <td>0.117331</td>\n",
       "      <td>0.104261</td>\n",
       "      <td>1.000000</td>\n",
       "      <td>0.371075</td>\n",
       "      <td>0.370638</td>\n",
       "      <td>0.396497</td>\n",
       "      <td>0.368026</td>\n",
       "    </tr>\n",
       "    <tr>\n",
       "      <th>active_power_sum</th>\n",
       "      <td>-0.119865</td>\n",
       "      <td>0.176871</td>\n",
       "      <td>0.103007</td>\n",
       "      <td>0.005297</td>\n",
       "      <td>0.133920</td>\n",
       "      <td>0.285683</td>\n",
       "      <td>0.300354</td>\n",
       "      <td>0.169358</td>\n",
       "      <td>0.137700</td>\n",
       "      <td>0.062259</td>\n",
       "      <td>0.371075</td>\n",
       "      <td>1.000000</td>\n",
       "      <td>0.999030</td>\n",
       "      <td>0.721113</td>\n",
       "      <td>0.992424</td>\n",
       "    </tr>\n",
       "    <tr>\n",
       "      <th>reactive_power_sum</th>\n",
       "      <td>-0.120336</td>\n",
       "      <td>0.175218</td>\n",
       "      <td>0.102412</td>\n",
       "      <td>0.004980</td>\n",
       "      <td>0.133768</td>\n",
       "      <td>0.286050</td>\n",
       "      <td>0.299385</td>\n",
       "      <td>0.169039</td>\n",
       "      <td>0.138132</td>\n",
       "      <td>0.062173</td>\n",
       "      <td>0.370638</td>\n",
       "      <td>0.999030</td>\n",
       "      <td>1.000000</td>\n",
       "      <td>0.719609</td>\n",
       "      <td>0.996868</td>\n",
       "    </tr>\n",
       "    <tr>\n",
       "      <th>full_power_sum</th>\n",
       "      <td>-0.305299</td>\n",
       "      <td>0.278112</td>\n",
       "      <td>0.092347</td>\n",
       "      <td>-0.028640</td>\n",
       "      <td>0.163067</td>\n",
       "      <td>0.466359</td>\n",
       "      <td>0.461740</td>\n",
       "      <td>0.295245</td>\n",
       "      <td>0.055142</td>\n",
       "      <td>0.054251</td>\n",
       "      <td>0.396497</td>\n",
       "      <td>0.721113</td>\n",
       "      <td>0.719609</td>\n",
       "      <td>1.000000</td>\n",
       "      <td>0.713316</td>\n",
       "    </tr>\n",
       "    <tr>\n",
       "      <th>heat_time_sum</th>\n",
       "      <td>-0.120518</td>\n",
       "      <td>0.171462</td>\n",
       "      <td>0.100739</td>\n",
       "      <td>0.004410</td>\n",
       "      <td>0.133034</td>\n",
       "      <td>0.285379</td>\n",
       "      <td>0.296199</td>\n",
       "      <td>0.167678</td>\n",
       "      <td>0.138165</td>\n",
       "      <td>0.061666</td>\n",
       "      <td>0.368026</td>\n",
       "      <td>0.992424</td>\n",
       "      <td>0.996868</td>\n",
       "      <td>0.713316</td>\n",
       "      <td>1.000000</td>\n",
       "    </tr>\n",
       "  </tbody>\n",
       "</table>\n",
       "</div>"
      ],
      "text/plain": [
       "                    first_temp  last_temp    Bulk 3    Bulk 4    Bulk 6  \\\n",
       "first_temp            1.000000   0.252389 -0.104478  0.144715 -0.096800   \n",
       "last_temp             0.252389   1.000000 -0.036365  0.187687 -0.180843   \n",
       "Bulk 3               -0.104478  -0.036365  1.000000 -0.295654  0.065904   \n",
       "Bulk 4                0.144715   0.187687 -0.295654  1.000000 -0.251250   \n",
       "Bulk 6               -0.096800  -0.180843  0.065904 -0.251250  1.000000   \n",
       "Bulk 12              -0.058673   0.266851  0.018021  0.105477 -0.111874   \n",
       "Bulk 14              -0.130971   0.114991  0.010920 -0.090467  0.177184   \n",
       "Bulk 15              -0.040533   0.265801 -0.013250  0.101180 -0.108210   \n",
       "Wire 1                0.209392   0.317362  0.039475  0.297471 -0.235474   \n",
       "Wire 2               -0.086157  -0.207076  0.095595 -0.268325  0.205287   \n",
       "gas_1                 0.037345   0.059203  0.059641  0.017589  0.139723   \n",
       "active_power_sum     -0.119865   0.176871  0.103007  0.005297  0.133920   \n",
       "reactive_power_sum   -0.120336   0.175218  0.102412  0.004980  0.133768   \n",
       "full_power_sum       -0.305299   0.278112  0.092347 -0.028640  0.163067   \n",
       "heat_time_sum        -0.120518   0.171462  0.100739  0.004410  0.133034   \n",
       "\n",
       "                     Bulk 12   Bulk 14   Bulk 15    Wire 1    Wire 2  \\\n",
       "first_temp         -0.058673 -0.130971 -0.040533  0.209392 -0.086157   \n",
       "last_temp           0.266851  0.114991  0.265801  0.317362 -0.207076   \n",
       "Bulk 3              0.018021  0.010920 -0.013250  0.039475  0.095595   \n",
       "Bulk 4              0.105477 -0.090467  0.101180  0.297471 -0.268325   \n",
       "Bulk 6             -0.111874  0.177184 -0.108210 -0.235474  0.205287   \n",
       "Bulk 12             1.000000  0.482063  0.614169  0.169889 -0.098605   \n",
       "Bulk 14             0.482063  1.000000  0.265816 -0.053698  0.036436   \n",
       "Bulk 15             0.614169  0.265816  1.000000  0.118117 -0.096781   \n",
       "Wire 1              0.169889 -0.053698  0.118117  1.000000 -0.068451   \n",
       "Wire 2             -0.098605  0.036436 -0.096781 -0.068451  1.000000   \n",
       "gas_1               0.217433  0.268898  0.043662  0.117331  0.104261   \n",
       "active_power_sum    0.285683  0.300354  0.169358  0.137700  0.062259   \n",
       "reactive_power_sum  0.286050  0.299385  0.169039  0.138132  0.062173   \n",
       "full_power_sum      0.466359  0.461740  0.295245  0.055142  0.054251   \n",
       "heat_time_sum       0.285379  0.296199  0.167678  0.138165  0.061666   \n",
       "\n",
       "                       gas_1  active_power_sum  reactive_power_sum  \\\n",
       "first_temp          0.037345         -0.119865           -0.120336   \n",
       "last_temp           0.059203          0.176871            0.175218   \n",
       "Bulk 3              0.059641          0.103007            0.102412   \n",
       "Bulk 4              0.017589          0.005297            0.004980   \n",
       "Bulk 6              0.139723          0.133920            0.133768   \n",
       "Bulk 12             0.217433          0.285683            0.286050   \n",
       "Bulk 14             0.268898          0.300354            0.299385   \n",
       "Bulk 15             0.043662          0.169358            0.169039   \n",
       "Wire 1              0.117331          0.137700            0.138132   \n",
       "Wire 2              0.104261          0.062259            0.062173   \n",
       "gas_1               1.000000          0.371075            0.370638   \n",
       "active_power_sum    0.371075          1.000000            0.999030   \n",
       "reactive_power_sum  0.370638          0.999030            1.000000   \n",
       "full_power_sum      0.396497          0.721113            0.719609   \n",
       "heat_time_sum       0.368026          0.992424            0.996868   \n",
       "\n",
       "                    full_power_sum  heat_time_sum  \n",
       "first_temp               -0.305299      -0.120518  \n",
       "last_temp                 0.278112       0.171462  \n",
       "Bulk 3                    0.092347       0.100739  \n",
       "Bulk 4                   -0.028640       0.004410  \n",
       "Bulk 6                    0.163067       0.133034  \n",
       "Bulk 12                   0.466359       0.285379  \n",
       "Bulk 14                   0.461740       0.296199  \n",
       "Bulk 15                   0.295245       0.167678  \n",
       "Wire 1                    0.055142       0.138165  \n",
       "Wire 2                    0.054251       0.061666  \n",
       "gas_1                     0.396497       0.368026  \n",
       "active_power_sum          0.721113       0.992424  \n",
       "reactive_power_sum        0.719609       0.996868  \n",
       "full_power_sum            1.000000       0.713316  \n",
       "heat_time_sum             0.713316       1.000000  "
      ]
     },
     "execution_count": 82,
     "metadata": {},
     "output_type": "execute_result"
    }
   ],
   "source": [
    "data.corr()"
   ]
  },
  {
   "cell_type": "markdown",
   "id": "287af3d1",
   "metadata": {},
   "source": [
    "Видим сильную корелляцию между мощностями, поэтому будет уместно оставить только одну из них, оставим full_power_sum."
   ]
  },
  {
   "cell_type": "markdown",
   "id": "ac7334fc",
   "metadata": {},
   "source": [
    "Спасибо за совет, принято!"
   ]
  },
  {
   "cell_type": "code",
   "execution_count": 83,
   "id": "9fb18143",
   "metadata": {},
   "outputs": [],
   "source": [
    "import matplotlib.pyplot as plt\n",
    "import seaborn as sns"
   ]
  },
  {
   "cell_type": "code",
   "execution_count": 84,
   "id": "bff35189",
   "metadata": {},
   "outputs": [
    {
     "data": {
      "image/png": "[encoded data removed]",
      "text/plain": [
       "<Figure size 1440x864 with 2 Axes>"
      ]
     },
     "metadata": {
      "needs_background": "light"
     },
     "output_type": "display_data"
    }
   ],
   "source": [
    "plt.figure(figsize=(20, 12))\n",
    "plt.title('Корреляция признаков')\n",
    "sns.heatmap(data.corr(method='spearman'), annot = True, cmap=\"coolwarm\")\n",
    "plt.show()"
   ]
  },
  {
   "cell_type": "code",
   "execution_count": 85,
   "id": "45e90087",
   "metadata": {},
   "outputs": [],
   "source": [
    "data = data.drop(['active_power_sum', 'reactive_power_sum'], axis=1)"
   ]
  },
  {
   "cell_type": "code",
   "execution_count": 86,
   "id": "ae5d17c5",
   "metadata": {},
   "outputs": [
    {
     "name": "stdout",
     "output_type": "stream",
     "text": [
      "<class 'pandas.core.frame.DataFrame'>\n",
      "Int64Index: 2328 entries, 1 to 2499\n",
      "Data columns (total 13 columns):\n",
      " #   Column          Non-Null Count  Dtype  \n",
      "---  ------          --------------  -----  \n",
      " 0   first_temp      2328 non-null   float64\n",
      " 1   last_temp       2328 non-null   float64\n",
      " 2   Bulk 3          2328 non-null   float64\n",
      " 3   Bulk 4          2328 non-null   float64\n",
      " 4   Bulk 6          2328 non-null   float64\n",
      " 5   Bulk 12         2328 non-null   float64\n",
      " 6   Bulk 14         2328 non-null   float64\n",
      " 7   Bulk 15         2328 non-null   float64\n",
      " 8   Wire 1          2328 non-null   float64\n",
      " 9   Wire 2          2328 non-null   float64\n",
      " 10  gas_1           2328 non-null   float64\n",
      " 11  full_power_sum  2328 non-null   float64\n",
      " 12  heat_time_sum   2328 non-null   float64\n",
      "dtypes: float64(13)\n",
      "memory usage: 254.6 KB\n"
     ]
    }
   ],
   "source": [
    "data.info()"
   ]
  },
  {
   "cell_type": "code",
   "execution_count": 87,
   "id": "35b0c44b",
   "metadata": {},
   "outputs": [
    {
     "data": {
      "text/plain": [
       "first_temp        0.252389\n",
       "last_temp         1.000000\n",
       "Bulk 3           -0.036365\n",
       "Bulk 4            0.187687\n",
       "Bulk 6           -0.180843\n",
       "Bulk 12           0.266851\n",
       "Bulk 14           0.114991\n",
       "Bulk 15           0.265801\n",
       "Wire 1            0.317362\n",
       "Wire 2           -0.207076\n",
       "gas_1             0.059203\n",
       "full_power_sum    0.278112\n",
       "heat_time_sum     0.171462\n",
       "Name: last_temp, dtype: float64"
      ]
     },
     "execution_count": 87,
     "metadata": {},
     "output_type": "execute_result"
    }
   ],
   "source": [
    "data.corr()['last_temp']"
   ]
  },
  {
   "cell_type": "code",
   "execution_count": null,
   "id": "df87f608",
   "metadata": {},
   "outputs": [],
   "source": []
  },
  {
   "cell_type": "markdown",
   "id": "7f51ad44",
   "metadata": {},
   "source": [
    "## Подготовка данных"
   ]
  },
  {
   "cell_type": "markdown",
   "id": "5685dfe0",
   "metadata": {},
   "source": [
    "Разобьем данные на обучающую и тестовую выборки."
   ]
  },
  {
   "cell_type": "code",
   "execution_count": 88,
   "id": "fbbdf87d",
   "metadata": {},
   "outputs": [],
   "source": [
    "features = data.drop('last_temp', axis=1)\n",
    "target = data['last_temp']"
   ]
  },
  {
   "cell_type": "code",
   "execution_count": 89,
   "id": "1b2d6b2d",
   "metadata": {},
   "outputs": [],
   "source": [
    "features_train, features_test, target_train, target_test = train_test_split(features, target, test_size=0.25, \n",
    "                                                                            random_state=281223)"
   ]
  },
  {
   "cell_type": "code",
   "execution_count": 90,
   "id": "ca6bfce8",
   "metadata": {},
   "outputs": [
    {
     "data": {
      "text/plain": [
       "(1746, 12)"
      ]
     },
     "execution_count": 90,
     "metadata": {},
     "output_type": "execute_result"
    }
   ],
   "source": [
    "features_train.shape"
   ]
  },
  {
   "cell_type": "code",
   "execution_count": 91,
   "id": "b7236469",
   "metadata": {},
   "outputs": [
    {
     "data": {
      "text/plain": [
       "1746"
      ]
     },
     "execution_count": 91,
     "metadata": {},
     "output_type": "execute_result"
    }
   ],
   "source": [
    "len(target_train)"
   ]
  },
  {
   "cell_type": "code",
   "execution_count": 92,
   "id": "abbc8c1c",
   "metadata": {},
   "outputs": [
    {
     "data": {
      "text/plain": [
       "(582, 12)"
      ]
     },
     "execution_count": 92,
     "metadata": {},
     "output_type": "execute_result"
    }
   ],
   "source": [
    "features_test.shape"
   ]
  },
  {
   "cell_type": "code",
   "execution_count": 93,
   "id": "96a2e50f",
   "metadata": {},
   "outputs": [
    {
     "data": {
      "text/plain": [
       "582"
      ]
     },
     "execution_count": 93,
     "metadata": {},
     "output_type": "execute_result"
    }
   ],
   "source": [
    "len(target_test)"
   ]
  },
  {
   "cell_type": "markdown",
   "id": "30fb30f7",
   "metadata": {},
   "source": [
    "Маштабируем признаки с помощью StandardScaler"
   ]
  },
  {
   "cell_type": "code",
   "execution_count": 94,
   "id": "22438690",
   "metadata": {},
   "outputs": [],
   "source": [
    "scaler = StandardScaler()\n",
    "scaler.fit(features_train)\n",
    "features_train = pd.DataFrame(scaler.transform(features_train))\n",
    "features_test = pd.DataFrame(scaler.transform(features_test))\n"
   ]
  },
  {
   "cell_type": "markdown",
   "id": "a7a7d7ab",
   "metadata": {},
   "source": [
    "## Обучение моделей машинного обучения"
   ]
  },
  {
   "cell_type": "markdown",
   "id": "e3809109",
   "metadata": {},
   "source": [
    "### Начнем с модели линейной регрессии"
   ]
  },
  {
   "cell_type": "code",
   "execution_count": 95,
   "id": "f454daf7",
   "metadata": {},
   "outputs": [
    {
     "name": "stdout",
     "output_type": "stream",
     "text": [
      "Fitting 5 folds for each of 1 candidates, totalling 5 fits\n",
      "[CV 1/5] END ................................................ total time=   0.0s\n",
      "[CV 2/5] END ................................................ total time=   0.0s\n",
      "[CV 3/5] END ................................................ total time=   0.0s\n",
      "[CV 4/5] END ................................................ total time=   0.0s\n",
      "[CV 5/5] END ................................................ total time=   0.0s\n"
     ]
    },
    {
     "data": {
      "text/plain": [
       "GridSearchCV(cv=5, estimator=LinearRegression(), param_grid={},\n",
       "             scoring='neg_mean_absolute_error', verbose=3)"
      ]
     },
     "execution_count": 95,
     "metadata": {},
     "output_type": "execute_result"
    }
   ],
   "source": [
    "model_lin = LinearRegression()\n",
    "m_l = GridSearchCV(estimator=model_lin, param_grid={}, scoring='neg_mean_absolute_error', cv=5, verbose=3)\n",
    "m_l.fit(features_train, target_train)"
   ]
  },
  {
   "cell_type": "code",
   "execution_count": 96,
   "id": "6a07196f",
   "metadata": {},
   "outputs": [
    {
     "data": {
      "text/plain": [
       "-6.727712223971766"
      ]
     },
     "execution_count": 96,
     "metadata": {},
     "output_type": "execute_result"
    }
   ],
   "source": [
    "m_l.best_score_"
   ]
  },
  {
   "cell_type": "markdown",
   "id": "0d9ad5d5",
   "metadata": {},
   "source": [
    "Получили MAE равное 6.727712223971766"
   ]
  },
  {
   "cell_type": "code",
   "execution_count": null,
   "id": "c1ee9bea",
   "metadata": {},
   "outputs": [],
   "source": []
  },
  {
   "cell_type": "markdown",
   "id": "60c8998c",
   "metadata": {},
   "source": [
    "### Теперь обучим случайный лес"
   ]
  },
  {
   "cell_type": "code",
   "execution_count": 97,
   "id": "fb073fa1",
   "metadata": {},
   "outputs": [
    {
     "data": {
      "text/plain": [
       "GridSearchCV(cv=2, estimator=RandomForestRegressor(random_state=281223),\n",
       "             param_grid={'max_depth': range(5, 10),\n",
       "                         'n_estimators': range(50, 351, 50)},\n",
       "             scoring='neg_mean_absolute_error')"
      ]
     },
     "execution_count": 97,
     "metadata": {},
     "output_type": "execute_result"
    }
   ],
   "source": [
    "model_forest = RandomForestRegressor(random_state=281223)\n",
    "params_forest = {'max_depth': range(5, 10), 'n_estimators': range(50, 351, 50)}\n",
    "m_f = GridSearchCV(estimator=model_forest, param_grid=params_forest, scoring='neg_mean_absolute_error', cv=2)\n",
    "m_f.fit(features_train, target_train)"
   ]
  },
  {
   "cell_type": "code",
   "execution_count": 98,
   "id": "24b7d59d",
   "metadata": {},
   "outputs": [
    {
     "data": {
      "text/plain": [
       "RandomForestRegressor(max_depth=9, n_estimators=350, random_state=281223)"
      ]
     },
     "execution_count": 98,
     "metadata": {},
     "output_type": "execute_result"
    }
   ],
   "source": [
    "m_f.best_estimator_"
   ]
  },
  {
   "cell_type": "code",
   "execution_count": 99,
   "id": "62d97a21",
   "metadata": {},
   "outputs": [
    {
     "data": {
      "text/plain": [
       "-6.421022494465365"
      ]
     },
     "execution_count": 99,
     "metadata": {},
     "output_type": "execute_result"
    }
   ],
   "source": [
    "m_f.best_score_"
   ]
  },
  {
   "cell_type": "markdown",
   "id": "17e6ff64",
   "metadata": {},
   "source": [
    "Для случайного леса получили MAE 6.421022494465365"
   ]
  },
  {
   "cell_type": "markdown",
   "id": "595a4357",
   "metadata": {},
   "source": [
    "### CatBoost"
   ]
  },
  {
   "cell_type": "code",
   "execution_count": 100,
   "id": "47bde99e",
   "metadata": {},
   "outputs": [
    {
     "data": {
      "text/plain": [
       "GridSearchCV(cv=5,\n",
       "             estimator=<catboost.core.CatBoostRegressor object at 0x7f0d7293cee0>,\n",
       "             param_grid={'loss_function': ['MAE'], 'max_depth': range(1, 5),\n",
       "                         'n_estimators': range(100, 501, 100),\n",
       "                         'random_state': [281223], 'verbose': [False]},\n",
       "             scoring='neg_mean_absolute_error')"
      ]
     },
     "execution_count": 100,
     "metadata": {},
     "output_type": "execute_result"
    }
   ],
   "source": [
    "model_cat = CatBoostRegressor()\n",
    "params_cat = {'loss_function': [\"MAE\"], 'verbose': [False], 'random_state': [281223], 'max_depth': range(1, 5),\n",
    "          'n_estimators': range(100, 501, 100)}\n",
    "m_cat = GridSearchCV(estimator=model_cat, param_grid=params_cat, scoring='neg_mean_absolute_error', cv=5)\n",
    "m_cat.fit(features_train, target_train)"
   ]
  },
  {
   "cell_type": "code",
   "execution_count": 101,
   "id": "af6911eb",
   "metadata": {},
   "outputs": [
    {
     "data": {
      "text/plain": [
       "-6.09730319046421"
      ]
     },
     "execution_count": 101,
     "metadata": {},
     "output_type": "execute_result"
    }
   ],
   "source": [
    "m_cat.best_score_"
   ]
  },
  {
   "cell_type": "code",
   "execution_count": 109,
   "id": "679a9751",
   "metadata": {},
   "outputs": [
    {
     "data": {
      "text/plain": [
       "{'loss_function': 'MAE',\n",
       " 'max_depth': 3,\n",
       " 'n_estimators': 500,\n",
       " 'random_state': 281223,\n",
       " 'verbose': False}"
      ]
     },
     "execution_count": 109,
     "metadata": {},
     "output_type": "execute_result"
    }
   ],
   "source": [
    "m_cat.best_params_"
   ]
  },
  {
   "cell_type": "markdown",
   "id": "c4368e7a",
   "metadata": {},
   "source": [
    "Для CatBoost получили MAE 6.09730319046421"
   ]
  },
  {
   "cell_type": "markdown",
   "id": "8d2a3a22",
   "metadata": {},
   "source": [
    "## Выбор лучшей модели"
   ]
  },
  {
   "cell_type": "markdown",
   "id": "5773fd2b",
   "metadata": {},
   "source": [
    "Теперь проверим лучшую модель на тестовой выборке"
   ]
  },
  {
   "cell_type": "code",
   "execution_count": 104,
   "id": "6bbf06c3",
   "metadata": {},
   "outputs": [
    {
     "data": {
      "text/plain": [
       "6.403953325945593"
      ]
     },
     "execution_count": 104,
     "metadata": {},
     "output_type": "execute_result"
    }
   ],
   "source": [
    "predictions_cat = m_cat.predict(features_test)\n",
    "mean_absolute_error(target_test, predictions_cat)"
   ]
  },
  {
   "cell_type": "markdown",
   "id": "97341aa8",
   "metadata": {},
   "source": [
    "Получили на тестовой выборке значние MAE 6.403953325945593"
   ]
  },
  {
   "cell_type": "markdown",
   "id": "0808b5f8",
   "metadata": {},
   "source": [
    "## Отчет"
   ]
  },
  {
   "cell_type": "markdown",
   "id": "8d37acf2",
   "metadata": {},
   "source": [
    "Ответы на вопросы:  \n",
    "  1. Какие пункты плана были выполнены, а какие — нет (поясните, почему)? Все запланированные пункты были мною выполнены.\n",
    "  2. Какие трудности возникли и как вы их преодалели? Не получалось достигнуть нужную метрику, однако добавив новый признак время нагрева ковша все получилось.\n",
    "  3. Какие ключевые шаги в решении задачи выделили? Анализ, предобработка, создание моделей.\n",
    "  \n",
    "Список признаков, используемых для обучения лучшей модели\n",
    "и описание их предобработки.  \n",
    "first_temp, Bulk 3, Bulk 4, Bulk 6, Bulk 12, Bulk 14, Bulk 15, Wire 1, Wire 2, gas_1, full_power_sum, heat_time_sum\n",
    "  \n",
    "Лучшая модель CatBoostRegressor c параметрами  \n",
    "{'loss_function': 'MAE',\n",
    " 'max_depth': 3,\n",
    " 'n_estimators': 500,\n",
    " 'random_state': 281223,\n",
    " 'verbose': False}"
   ]
  },
  {
   "cell_type": "code",
   "execution_count": null,
   "id": "8f9fd6ed",
   "metadata": {},
   "outputs": [],
   "source": []
  }
 ],
 "metadata": {
  "ExecuteTimeLog": [
   {
    "duration": 372,
    "start_time": "2023-12-28T08:58:48.537Z"
   },
   {
    "duration": 114,
    "start_time": "2023-12-28T14:10:11.848Z"
   },
   {
    "duration": 91,
    "start_time": "2023-12-28T14:10:35.698Z"
   },
   {
    "duration": 15,
    "start_time": "2023-12-28T14:10:44.866Z"
   },
   {
    "duration": 13,
    "start_time": "2023-12-28T14:11:01.387Z"
   },
   {
    "duration": 19,
    "start_time": "2023-12-28T14:14:35.205Z"
   },
   {
    "duration": 101,
    "start_time": "2023-12-28T14:20:31.590Z"
   },
   {
    "duration": 16,
    "start_time": "2023-12-28T14:21:12.610Z"
   },
   {
    "duration": 13,
    "start_time": "2023-12-28T14:21:43.546Z"
   },
   {
    "duration": 93,
    "start_time": "2023-12-28T14:28:16.580Z"
   },
   {
    "duration": 14,
    "start_time": "2023-12-28T14:28:21.343Z"
   },
   {
    "duration": 13,
    "start_time": "2023-12-28T14:28:28.622Z"
   },
   {
    "duration": 12,
    "start_time": "2023-12-28T14:28:43.464Z"
   },
   {
    "duration": 43,
    "start_time": "2023-12-28T14:34:04.523Z"
   },
   {
    "duration": 82,
    "start_time": "2023-12-28T14:34:09.398Z"
   },
   {
    "duration": 6,
    "start_time": "2023-12-28T14:34:16.813Z"
   },
   {
    "duration": 10,
    "start_time": "2023-12-28T14:34:55.123Z"
   },
   {
    "duration": 15,
    "start_time": "2023-12-28T14:35:07.291Z"
   },
   {
    "duration": 8,
    "start_time": "2023-12-28T14:35:35.860Z"
   },
   {
    "duration": 143,
    "start_time": "2023-12-28T14:38:02.322Z"
   },
   {
    "duration": 6,
    "start_time": "2023-12-28T14:38:10.414Z"
   },
   {
    "duration": 8,
    "start_time": "2023-12-28T14:38:14.979Z"
   },
   {
    "duration": 7,
    "start_time": "2023-12-28T14:40:37.895Z"
   },
   {
    "duration": 13,
    "start_time": "2023-12-28T14:40:41.960Z"
   },
   {
    "duration": 8,
    "start_time": "2023-12-28T14:42:01.281Z"
   },
   {
    "duration": 59,
    "start_time": "2023-12-28T14:43:35.999Z"
   },
   {
    "duration": 12,
    "start_time": "2023-12-28T14:44:10.385Z"
   },
   {
    "duration": 11,
    "start_time": "2023-12-28T15:13:01.017Z"
   },
   {
    "duration": 102,
    "start_time": "2023-12-28T15:13:22.777Z"
   },
   {
    "duration": 12,
    "start_time": "2023-12-28T15:13:32.825Z"
   },
   {
    "duration": 13,
    "start_time": "2023-12-28T15:13:34.400Z"
   },
   {
    "duration": 378,
    "start_time": "2023-12-30T14:55:14.618Z"
   },
   {
    "duration": 95,
    "start_time": "2023-12-30T14:55:14.999Z"
   },
   {
    "duration": 15,
    "start_time": "2023-12-30T14:55:15.095Z"
   },
   {
    "duration": 24,
    "start_time": "2023-12-30T14:55:15.111Z"
   },
   {
    "duration": 53,
    "start_time": "2023-12-30T14:55:15.136Z"
   },
   {
    "duration": 99,
    "start_time": "2023-12-30T14:55:15.192Z"
   },
   {
    "duration": 15,
    "start_time": "2023-12-30T14:55:15.293Z"
   },
   {
    "duration": 24,
    "start_time": "2023-12-30T14:55:15.310Z"
   },
   {
    "duration": 90,
    "start_time": "2023-12-30T14:55:15.335Z"
   },
   {
    "duration": 12,
    "start_time": "2023-12-30T14:55:15.428Z"
   },
   {
    "duration": 18,
    "start_time": "2023-12-30T14:55:15.441Z"
   },
   {
    "duration": 63,
    "start_time": "2023-12-30T14:55:15.460Z"
   },
   {
    "duration": 7,
    "start_time": "2023-12-30T14:55:15.524Z"
   },
   {
    "duration": 14,
    "start_time": "2023-12-30T14:55:15.532Z"
   },
   {
    "duration": 13,
    "start_time": "2023-12-30T14:55:15.548Z"
   },
   {
    "duration": 114,
    "start_time": "2023-12-30T14:55:15.563Z"
   },
   {
    "duration": 11,
    "start_time": "2023-12-30T14:55:15.679Z"
   },
   {
    "duration": 12,
    "start_time": "2023-12-30T14:55:15.691Z"
   },
   {
    "duration": 23,
    "start_time": "2023-12-30T14:55:15.704Z"
   },
   {
    "duration": 56,
    "start_time": "2023-12-30T14:55:15.728Z"
   },
   {
    "duration": 14,
    "start_time": "2023-12-30T14:55:15.790Z"
   },
   {
    "duration": 12,
    "start_time": "2023-12-30T14:55:15.805Z"
   },
   {
    "duration": 73,
    "start_time": "2023-12-30T14:55:15.819Z"
   },
   {
    "duration": 10,
    "start_time": "2023-12-30T14:55:15.893Z"
   },
   {
    "duration": 10,
    "start_time": "2023-12-30T14:55:15.904Z"
   },
   {
    "duration": 67,
    "start_time": "2023-12-30T14:55:44.233Z"
   },
   {
    "duration": 46,
    "start_time": "2023-12-30T14:56:00.090Z"
   },
   {
    "duration": 32,
    "start_time": "2023-12-30T14:58:20.603Z"
   },
   {
    "duration": 47,
    "start_time": "2023-12-30T17:46:36.839Z"
   },
   {
    "duration": 75,
    "start_time": "2023-12-30T17:46:42.576Z"
   },
   {
    "duration": 75,
    "start_time": "2023-12-30T17:47:07.622Z"
   },
   {
    "duration": 3,
    "start_time": "2023-12-30T17:47:48.414Z"
   },
   {
    "duration": 8,
    "start_time": "2023-12-30T17:47:55.518Z"
   },
   {
    "duration": 23,
    "start_time": "2023-12-30T17:48:06.847Z"
   },
   {
    "duration": 11,
    "start_time": "2023-12-30T17:56:45.221Z"
   },
   {
    "duration": 76,
    "start_time": "2023-12-30T17:56:53.013Z"
   },
   {
    "duration": 10,
    "start_time": "2023-12-30T17:56:57.413Z"
   },
   {
    "duration": 18,
    "start_time": "2023-12-30T17:58:48.359Z"
   },
   {
    "duration": 10,
    "start_time": "2023-12-30T17:58:51.847Z"
   },
   {
    "duration": 364,
    "start_time": "2023-12-30T17:59:27.324Z"
   },
   {
    "duration": 47,
    "start_time": "2023-12-30T17:59:27.690Z"
   },
   {
    "duration": 17,
    "start_time": "2023-12-30T17:59:27.739Z"
   },
   {
    "duration": 18,
    "start_time": "2023-12-30T17:59:27.758Z"
   },
   {
    "duration": 18,
    "start_time": "2023-12-30T17:59:27.785Z"
   },
   {
    "duration": 18,
    "start_time": "2023-12-30T17:59:27.804Z"
   },
   {
    "duration": 13,
    "start_time": "2023-12-30T17:59:27.824Z"
   },
   {
    "duration": 10,
    "start_time": "2023-12-30T17:59:27.839Z"
   },
   {
    "duration": 50,
    "start_time": "2023-12-30T17:59:27.850Z"
   },
   {
    "duration": 24,
    "start_time": "2023-12-30T17:59:27.903Z"
   },
   {
    "duration": 12,
    "start_time": "2023-12-30T17:59:27.929Z"
   },
   {
    "duration": 32,
    "start_time": "2023-12-30T17:59:27.942Z"
   },
   {
    "duration": 40,
    "start_time": "2023-12-30T17:59:27.977Z"
   },
   {
    "duration": 7,
    "start_time": "2023-12-30T17:59:28.018Z"
   },
   {
    "duration": 13,
    "start_time": "2023-12-30T17:59:28.026Z"
   },
   {
    "duration": 9,
    "start_time": "2023-12-30T17:59:28.040Z"
   },
   {
    "duration": 39,
    "start_time": "2023-12-30T17:59:28.052Z"
   },
   {
    "duration": 8,
    "start_time": "2023-12-30T17:59:28.093Z"
   },
   {
    "duration": 10,
    "start_time": "2023-12-30T17:59:28.103Z"
   },
   {
    "duration": 8,
    "start_time": "2023-12-30T17:59:28.114Z"
   },
   {
    "duration": 17,
    "start_time": "2023-12-30T17:59:28.124Z"
   },
   {
    "duration": 34,
    "start_time": "2023-12-30T17:59:28.143Z"
   },
   {
    "duration": 10,
    "start_time": "2023-12-30T17:59:28.180Z"
   },
   {
    "duration": 40,
    "start_time": "2023-12-30T17:59:28.192Z"
   },
   {
    "duration": 20,
    "start_time": "2023-12-30T17:59:28.233Z"
   },
   {
    "duration": 10,
    "start_time": "2023-12-30T17:59:28.255Z"
   },
   {
    "duration": 26,
    "start_time": "2023-12-30T17:59:28.266Z"
   },
   {
    "duration": 3,
    "start_time": "2023-12-30T17:59:28.297Z"
   },
   {
    "duration": 9,
    "start_time": "2023-12-30T17:59:28.302Z"
   },
   {
    "duration": 14,
    "start_time": "2023-12-30T17:59:28.313Z"
   },
   {
    "duration": 9,
    "start_time": "2023-12-30T17:59:28.329Z"
   },
   {
    "duration": 43,
    "start_time": "2023-12-30T17:59:28.339Z"
   },
   {
    "duration": 10,
    "start_time": "2023-12-30T17:59:28.384Z"
   },
   {
    "duration": 12,
    "start_time": "2023-12-30T18:00:11.463Z"
   },
   {
    "duration": 14,
    "start_time": "2023-12-30T18:07:17.319Z"
   },
   {
    "duration": 7,
    "start_time": "2023-12-30T18:07:19.189Z"
   },
   {
    "duration": 392,
    "start_time": "2024-01-06T10:27:28.779Z"
   },
   {
    "duration": 86,
    "start_time": "2024-01-06T10:27:29.173Z"
   },
   {
    "duration": 14,
    "start_time": "2024-01-06T10:27:29.260Z"
   },
   {
    "duration": 11,
    "start_time": "2024-01-06T10:27:29.276Z"
   },
   {
    "duration": 17,
    "start_time": "2024-01-06T10:27:29.288Z"
   },
   {
    "duration": 92,
    "start_time": "2024-01-06T10:27:29.307Z"
   },
   {
    "duration": 15,
    "start_time": "2024-01-06T10:27:29.400Z"
   },
   {
    "duration": 11,
    "start_time": "2024-01-06T10:27:29.416Z"
   },
   {
    "duration": 59,
    "start_time": "2024-01-06T10:27:29.429Z"
   },
   {
    "duration": 86,
    "start_time": "2024-01-06T10:27:29.490Z"
   },
   {
    "duration": 12,
    "start_time": "2024-01-06T10:27:29.577Z"
   },
   {
    "duration": 10,
    "start_time": "2024-01-06T10:27:29.591Z"
   },
   {
    "duration": 53,
    "start_time": "2024-01-06T10:27:29.603Z"
   },
   {
    "duration": 6,
    "start_time": "2024-01-06T10:27:29.658Z"
   },
   {
    "duration": 12,
    "start_time": "2024-01-06T10:27:29.666Z"
   },
   {
    "duration": 10,
    "start_time": "2024-01-06T10:27:29.680Z"
   },
   {
    "duration": 94,
    "start_time": "2024-01-06T10:27:29.691Z"
   },
   {
    "duration": 8,
    "start_time": "2024-01-06T10:27:29.786Z"
   },
   {
    "duration": 18,
    "start_time": "2024-01-06T10:27:29.796Z"
   },
   {
    "duration": 8,
    "start_time": "2024-01-06T10:27:29.815Z"
   },
   {
    "duration": 50,
    "start_time": "2024-01-06T10:27:29.824Z"
   },
   {
    "duration": 10,
    "start_time": "2024-01-06T10:27:29.876Z"
   },
   {
    "duration": 9,
    "start_time": "2024-01-06T10:27:29.887Z"
   },
   {
    "duration": 30,
    "start_time": "2024-01-06T10:27:29.897Z"
   },
   {
    "duration": 62,
    "start_time": "2024-01-06T10:27:29.928Z"
   },
   {
    "duration": 9,
    "start_time": "2024-01-06T10:27:29.992Z"
   },
   {
    "duration": 49,
    "start_time": "2024-01-06T10:27:30.002Z"
   },
   {
    "duration": 77,
    "start_time": "2024-01-06T10:27:30.054Z"
   },
   {
    "duration": 53,
    "start_time": "2024-01-06T10:27:30.133Z"
   },
   {
    "duration": 36,
    "start_time": "2024-01-06T10:27:30.188Z"
   },
   {
    "duration": 46,
    "start_time": "2024-01-06T10:27:30.226Z"
   },
   {
    "duration": 40,
    "start_time": "2024-01-06T10:27:30.273Z"
   },
   {
    "duration": 14,
    "start_time": "2024-01-06T10:27:30.315Z"
   },
   {
    "duration": 422,
    "start_time": "2024-01-07T12:26:36.384Z"
   },
   {
    "duration": 94,
    "start_time": "2024-01-07T12:26:36.807Z"
   },
   {
    "duration": 16,
    "start_time": "2024-01-07T12:26:36.903Z"
   },
   {
    "duration": 11,
    "start_time": "2024-01-07T12:26:36.920Z"
   },
   {
    "duration": 17,
    "start_time": "2024-01-07T12:26:36.933Z"
   },
   {
    "duration": 93,
    "start_time": "2024-01-07T12:26:36.951Z"
   },
   {
    "duration": 15,
    "start_time": "2024-01-07T12:26:37.045Z"
   },
   {
    "duration": 12,
    "start_time": "2024-01-07T12:26:37.062Z"
   },
   {
    "duration": 46,
    "start_time": "2024-01-07T12:26:37.076Z"
   },
   {
    "duration": 83,
    "start_time": "2024-01-07T12:26:37.125Z"
   },
   {
    "duration": 13,
    "start_time": "2024-01-07T12:26:37.210Z"
   },
   {
    "duration": 11,
    "start_time": "2024-01-07T12:26:37.225Z"
   },
   {
    "duration": 54,
    "start_time": "2024-01-07T12:26:37.238Z"
   },
   {
    "duration": 7,
    "start_time": "2024-01-07T12:26:37.293Z"
   },
   {
    "duration": 11,
    "start_time": "2024-01-07T12:26:37.302Z"
   },
   {
    "duration": 8,
    "start_time": "2024-01-07T12:26:37.315Z"
   },
   {
    "duration": 110,
    "start_time": "2024-01-07T12:26:37.324Z"
   },
   {
    "duration": 7,
    "start_time": "2024-01-07T12:26:37.436Z"
   },
   {
    "duration": 11,
    "start_time": "2024-01-07T12:26:37.445Z"
   },
   {
    "duration": 8,
    "start_time": "2024-01-07T12:26:37.458Z"
   },
   {
    "duration": 48,
    "start_time": "2024-01-07T12:26:37.468Z"
   },
   {
    "duration": 11,
    "start_time": "2024-01-07T12:26:37.518Z"
   },
   {
    "duration": 10,
    "start_time": "2024-01-07T12:26:37.531Z"
   },
   {
    "duration": 33,
    "start_time": "2024-01-07T12:26:37.543Z"
   },
   {
    "duration": 67,
    "start_time": "2024-01-07T12:26:37.577Z"
   },
   {
    "duration": 10,
    "start_time": "2024-01-07T12:26:37.646Z"
   },
   {
    "duration": 12,
    "start_time": "2024-01-07T12:26:37.658Z"
   },
   {
    "duration": 2,
    "start_time": "2024-01-07T12:26:37.674Z"
   },
   {
    "duration": 10,
    "start_time": "2024-01-07T12:26:37.678Z"
   },
   {
    "duration": 11,
    "start_time": "2024-01-07T12:26:37.690Z"
   },
   {
    "duration": 10,
    "start_time": "2024-01-07T12:26:37.703Z"
   },
   {
    "duration": 16,
    "start_time": "2024-01-07T12:26:37.715Z"
   },
   {
    "duration": 8,
    "start_time": "2024-01-07T12:26:37.732Z"
   },
   {
    "duration": 358,
    "start_time": "2024-01-07T12:30:56.563Z"
   },
   {
    "duration": 47,
    "start_time": "2024-01-07T12:30:56.923Z"
   },
   {
    "duration": 16,
    "start_time": "2024-01-07T12:30:56.972Z"
   },
   {
    "duration": 12,
    "start_time": "2024-01-07T12:30:56.990Z"
   },
   {
    "duration": 19,
    "start_time": "2024-01-07T12:30:57.004Z"
   },
   {
    "duration": 18,
    "start_time": "2024-01-07T12:30:57.024Z"
   },
   {
    "duration": 15,
    "start_time": "2024-01-07T12:30:57.043Z"
   },
   {
    "duration": 14,
    "start_time": "2024-01-07T12:30:57.059Z"
   },
   {
    "duration": 54,
    "start_time": "2024-01-07T12:30:57.075Z"
   },
   {
    "duration": 24,
    "start_time": "2024-01-07T12:30:57.132Z"
   },
   {
    "duration": 12,
    "start_time": "2024-01-07T12:30:57.158Z"
   },
   {
    "duration": 12,
    "start_time": "2024-01-07T12:30:57.172Z"
   },
   {
    "duration": 36,
    "start_time": "2024-01-07T12:30:57.185Z"
   },
   {
    "duration": 7,
    "start_time": "2024-01-07T12:30:57.223Z"
   },
   {
    "duration": 12,
    "start_time": "2024-01-07T12:30:57.232Z"
   },
   {
    "duration": 3,
    "start_time": "2024-01-07T12:30:57.246Z"
   },
   {
    "duration": 24,
    "start_time": "2024-01-07T12:30:57.251Z"
   },
   {
    "duration": 32,
    "start_time": "2024-01-07T12:30:57.276Z"
   },
   {
    "duration": 8,
    "start_time": "2024-01-07T12:30:57.309Z"
   },
   {
    "duration": 11,
    "start_time": "2024-01-07T12:30:57.318Z"
   },
   {
    "duration": 9,
    "start_time": "2024-01-07T12:30:57.331Z"
   },
   {
    "duration": 16,
    "start_time": "2024-01-07T12:30:57.342Z"
   },
   {
    "duration": 11,
    "start_time": "2024-01-07T12:30:57.360Z"
   },
   {
    "duration": 9,
    "start_time": "2024-01-07T12:30:57.372Z"
   },
   {
    "duration": 56,
    "start_time": "2024-01-07T12:30:57.382Z"
   },
   {
    "duration": 19,
    "start_time": "2024-01-07T12:30:57.440Z"
   },
   {
    "duration": 9,
    "start_time": "2024-01-07T12:30:57.461Z"
   },
   {
    "duration": 10,
    "start_time": "2024-01-07T12:30:57.473Z"
   },
   {
    "duration": 3,
    "start_time": "2024-01-07T12:30:57.484Z"
   },
   {
    "duration": 26,
    "start_time": "2024-01-07T12:30:57.488Z"
   },
   {
    "duration": 10,
    "start_time": "2024-01-07T12:30:57.515Z"
   },
   {
    "duration": 10,
    "start_time": "2024-01-07T12:30:57.527Z"
   },
   {
    "duration": 8,
    "start_time": "2024-01-07T12:34:33.141Z"
   },
   {
    "duration": 70,
    "start_time": "2024-01-07T12:40:04.411Z"
   },
   {
    "duration": 4,
    "start_time": "2024-01-07T12:40:16.100Z"
   },
   {
    "duration": 11,
    "start_time": "2024-01-07T12:40:23.410Z"
   },
   {
    "duration": 8,
    "start_time": "2024-01-07T12:41:06.556Z"
   },
   {
    "duration": 9,
    "start_time": "2024-01-07T12:41:07.516Z"
   },
   {
    "duration": 3,
    "start_time": "2024-01-07T12:45:53.312Z"
   },
   {
    "duration": 15,
    "start_time": "2024-01-07T12:45:57.984Z"
   },
   {
    "duration": 10,
    "start_time": "2024-01-07T12:46:06.280Z"
   },
   {
    "duration": 10,
    "start_time": "2024-01-07T12:46:28.153Z"
   },
   {
    "duration": 11,
    "start_time": "2024-01-07T12:46:36.976Z"
   },
   {
    "duration": 8,
    "start_time": "2024-01-07T12:48:09.425Z"
   },
   {
    "duration": 14,
    "start_time": "2024-01-07T12:48:30.719Z"
   },
   {
    "duration": 13,
    "start_time": "2024-01-07T12:48:33.512Z"
   },
   {
    "duration": 15,
    "start_time": "2024-01-07T12:48:37.712Z"
   },
   {
    "duration": 422,
    "start_time": "2024-01-07T12:48:44.788Z"
   },
   {
    "duration": 48,
    "start_time": "2024-01-07T12:48:45.212Z"
   },
   {
    "duration": 16,
    "start_time": "2024-01-07T12:48:45.261Z"
   },
   {
    "duration": 12,
    "start_time": "2024-01-07T12:48:45.279Z"
   },
   {
    "duration": 30,
    "start_time": "2024-01-07T12:48:45.292Z"
   },
   {
    "duration": 24,
    "start_time": "2024-01-07T12:48:45.324Z"
   },
   {
    "duration": 14,
    "start_time": "2024-01-07T12:48:45.350Z"
   },
   {
    "duration": 18,
    "start_time": "2024-01-07T12:48:45.366Z"
   },
   {
    "duration": 61,
    "start_time": "2024-01-07T12:48:45.386Z"
   },
   {
    "duration": 30,
    "start_time": "2024-01-07T12:48:45.450Z"
   },
   {
    "duration": 19,
    "start_time": "2024-01-07T12:48:45.482Z"
   },
   {
    "duration": 22,
    "start_time": "2024-01-07T12:48:45.503Z"
   },
   {
    "duration": 36,
    "start_time": "2024-01-07T12:48:45.527Z"
   },
   {
    "duration": 6,
    "start_time": "2024-01-07T12:48:45.566Z"
   },
   {
    "duration": 21,
    "start_time": "2024-01-07T12:48:45.574Z"
   },
   {
    "duration": 8,
    "start_time": "2024-01-07T12:48:45.596Z"
   },
   {
    "duration": 14,
    "start_time": "2024-01-07T12:48:45.605Z"
   },
   {
    "duration": 28,
    "start_time": "2024-01-07T12:48:45.621Z"
   },
   {
    "duration": 7,
    "start_time": "2024-01-07T12:48:45.651Z"
   },
   {
    "duration": 15,
    "start_time": "2024-01-07T12:48:45.660Z"
   },
   {
    "duration": 8,
    "start_time": "2024-01-07T12:48:45.676Z"
   },
   {
    "duration": 28,
    "start_time": "2024-01-07T12:48:45.686Z"
   },
   {
    "duration": 10,
    "start_time": "2024-01-07T12:48:45.715Z"
   },
   {
    "duration": 12,
    "start_time": "2024-01-07T12:48:45.726Z"
   },
   {
    "duration": 67,
    "start_time": "2024-01-07T12:48:45.739Z"
   },
   {
    "duration": 25,
    "start_time": "2024-01-07T12:48:45.808Z"
   },
   {
    "duration": 11,
    "start_time": "2024-01-07T12:48:45.835Z"
   },
   {
    "duration": 13,
    "start_time": "2024-01-07T12:48:45.849Z"
   },
   {
    "duration": 20,
    "start_time": "2024-01-07T12:48:45.863Z"
   },
   {
    "duration": 12,
    "start_time": "2024-01-07T12:48:45.885Z"
   },
   {
    "duration": 19,
    "start_time": "2024-01-07T12:48:45.898Z"
   },
   {
    "duration": 17,
    "start_time": "2024-01-07T12:48:45.919Z"
   },
   {
    "duration": 10,
    "start_time": "2024-01-07T12:48:45.937Z"
   },
   {
    "duration": 12,
    "start_time": "2024-01-07T12:48:45.949Z"
   },
   {
    "duration": 12,
    "start_time": "2024-01-07T12:48:45.962Z"
   },
   {
    "duration": 3,
    "start_time": "2024-01-07T12:48:45.975Z"
   },
   {
    "duration": 14,
    "start_time": "2024-01-07T12:48:45.979Z"
   },
   {
    "duration": 11,
    "start_time": "2024-01-07T12:48:46.011Z"
   },
   {
    "duration": 15,
    "start_time": "2024-01-07T12:48:46.023Z"
   },
   {
    "duration": 10,
    "start_time": "2024-01-07T12:48:46.040Z"
   },
   {
    "duration": 7,
    "start_time": "2024-01-07T12:49:44.510Z"
   },
   {
    "duration": 73,
    "start_time": "2024-01-07T12:50:16.069Z"
   },
   {
    "duration": 397,
    "start_time": "2024-01-07T12:51:41.956Z"
   },
   {
    "duration": 2,
    "start_time": "2024-01-07T12:51:51.404Z"
   },
   {
    "duration": 10,
    "start_time": "2024-01-07T12:51:54.691Z"
   },
   {
    "duration": 10,
    "start_time": "2024-01-07T12:52:04.755Z"
   },
   {
    "duration": 386,
    "start_time": "2024-01-07T12:52:39.610Z"
   },
   {
    "duration": 46,
    "start_time": "2024-01-07T12:52:39.998Z"
   },
   {
    "duration": 16,
    "start_time": "2024-01-07T12:52:40.046Z"
   },
   {
    "duration": 24,
    "start_time": "2024-01-07T12:52:40.064Z"
   },
   {
    "duration": 17,
    "start_time": "2024-01-07T12:52:40.090Z"
   },
   {
    "duration": 18,
    "start_time": "2024-01-07T12:52:40.109Z"
   },
   {
    "duration": 14,
    "start_time": "2024-01-07T12:52:40.128Z"
   },
   {
    "duration": 14,
    "start_time": "2024-01-07T12:52:40.143Z"
   },
   {
    "duration": 53,
    "start_time": "2024-01-07T12:52:40.158Z"
   },
   {
    "duration": 24,
    "start_time": "2024-01-07T12:52:40.213Z"
   },
   {
    "duration": 13,
    "start_time": "2024-01-07T12:52:40.238Z"
   },
   {
    "duration": 21,
    "start_time": "2024-01-07T12:52:40.252Z"
   },
   {
    "duration": 36,
    "start_time": "2024-01-07T12:52:40.275Z"
   },
   {
    "duration": 7,
    "start_time": "2024-01-07T12:52:40.312Z"
   },
   {
    "duration": 16,
    "start_time": "2024-01-07T12:52:40.321Z"
   },
   {
    "duration": 3,
    "start_time": "2024-01-07T12:52:40.339Z"
   },
   {
    "duration": 33,
    "start_time": "2024-01-07T12:52:40.343Z"
   },
   {
    "duration": 28,
    "start_time": "2024-01-07T12:52:40.378Z"
   },
   {
    "duration": 7,
    "start_time": "2024-01-07T12:52:40.407Z"
   },
   {
    "duration": 26,
    "start_time": "2024-01-07T12:52:40.416Z"
   },
   {
    "duration": 15,
    "start_time": "2024-01-07T12:52:40.444Z"
   },
   {
    "duration": 22,
    "start_time": "2024-01-07T12:52:40.460Z"
   },
   {
    "duration": 10,
    "start_time": "2024-01-07T12:52:40.483Z"
   },
   {
    "duration": 17,
    "start_time": "2024-01-07T12:52:40.494Z"
   },
   {
    "duration": 39,
    "start_time": "2024-01-07T12:52:40.512Z"
   },
   {
    "duration": 20,
    "start_time": "2024-01-07T12:52:40.552Z"
   },
   {
    "duration": 10,
    "start_time": "2024-01-07T12:52:40.574Z"
   },
   {
    "duration": 25,
    "start_time": "2024-01-07T12:52:40.587Z"
   },
   {
    "duration": 2,
    "start_time": "2024-01-07T12:52:40.614Z"
   },
   {
    "duration": 7,
    "start_time": "2024-01-07T12:52:40.618Z"
   },
   {
    "duration": 11,
    "start_time": "2024-01-07T12:52:40.626Z"
   },
   {
    "duration": 10,
    "start_time": "2024-01-07T12:52:40.638Z"
   },
   {
    "duration": 9,
    "start_time": "2024-01-07T12:52:40.650Z"
   },
   {
    "duration": 8,
    "start_time": "2024-01-07T12:52:40.661Z"
   },
   {
    "duration": 43,
    "start_time": "2024-01-07T12:52:40.671Z"
   },
   {
    "duration": 3,
    "start_time": "2024-01-07T12:52:40.715Z"
   },
   {
    "duration": 11,
    "start_time": "2024-01-07T12:52:40.720Z"
   },
   {
    "duration": 10,
    "start_time": "2024-01-07T12:52:40.732Z"
   },
   {
    "duration": 14,
    "start_time": "2024-01-07T12:52:40.743Z"
   },
   {
    "duration": 10,
    "start_time": "2024-01-07T12:52:40.758Z"
   },
   {
    "duration": 9,
    "start_time": "2024-01-07T12:52:40.769Z"
   },
   {
    "duration": 33,
    "start_time": "2024-01-07T12:52:40.779Z"
   },
   {
    "duration": 9,
    "start_time": "2024-01-07T12:52:40.814Z"
   },
   {
    "duration": 73,
    "start_time": "2024-01-07T12:54:57.113Z"
   },
   {
    "duration": 11,
    "start_time": "2024-01-07T12:55:14.296Z"
   },
   {
    "duration": 7,
    "start_time": "2024-01-07T12:55:31.312Z"
   },
   {
    "duration": 10,
    "start_time": "2024-01-07T12:55:44.720Z"
   },
   {
    "duration": 5,
    "start_time": "2024-01-07T12:55:51.296Z"
   },
   {
    "duration": 8,
    "start_time": "2024-01-07T12:55:54.431Z"
   },
   {
    "duration": 11,
    "start_time": "2024-01-07T12:55:58.376Z"
   },
   {
    "duration": 9,
    "start_time": "2024-01-07T12:56:13.311Z"
   },
   {
    "duration": 13,
    "start_time": "2024-01-07T13:05:32.191Z"
   },
   {
    "duration": 7,
    "start_time": "2024-01-07T13:05:43.646Z"
   },
   {
    "duration": 9,
    "start_time": "2024-01-07T13:05:52.655Z"
   },
   {
    "duration": 4,
    "start_time": "2024-01-07T13:06:14.407Z"
   },
   {
    "duration": 4,
    "start_time": "2024-01-07T13:06:21.655Z"
   },
   {
    "duration": 334,
    "start_time": "2024-01-07T13:06:48.467Z"
   },
   {
    "duration": 46,
    "start_time": "2024-01-07T13:06:48.803Z"
   },
   {
    "duration": 17,
    "start_time": "2024-01-07T13:06:48.851Z"
   },
   {
    "duration": 12,
    "start_time": "2024-01-07T13:06:48.870Z"
   },
   {
    "duration": 17,
    "start_time": "2024-01-07T13:06:48.884Z"
   },
   {
    "duration": 19,
    "start_time": "2024-01-07T13:06:48.902Z"
   },
   {
    "duration": 15,
    "start_time": "2024-01-07T13:06:48.922Z"
   },
   {
    "duration": 17,
    "start_time": "2024-01-07T13:06:48.938Z"
   },
   {
    "duration": 59,
    "start_time": "2024-01-07T13:06:48.956Z"
   },
   {
    "duration": 25,
    "start_time": "2024-01-07T13:06:49.018Z"
   },
   {
    "duration": 13,
    "start_time": "2024-01-07T13:06:49.044Z"
   },
   {
    "duration": 12,
    "start_time": "2024-01-07T13:06:49.058Z"
   },
   {
    "duration": 36,
    "start_time": "2024-01-07T13:06:49.072Z"
   },
   {
    "duration": 7,
    "start_time": "2024-01-07T13:06:49.109Z"
   },
   {
    "duration": 11,
    "start_time": "2024-01-07T13:06:49.117Z"
   },
   {
    "duration": 3,
    "start_time": "2024-01-07T13:06:49.130Z"
   },
   {
    "duration": 9,
    "start_time": "2024-01-07T13:06:49.135Z"
   },
   {
    "duration": 29,
    "start_time": "2024-01-07T13:06:49.145Z"
   },
   {
    "duration": 7,
    "start_time": "2024-01-07T13:06:49.176Z"
   },
   {
    "duration": 28,
    "start_time": "2024-01-07T13:06:49.184Z"
   },
   {
    "duration": 8,
    "start_time": "2024-01-07T13:06:49.213Z"
   },
   {
    "duration": 16,
    "start_time": "2024-01-07T13:06:49.223Z"
   },
   {
    "duration": 11,
    "start_time": "2024-01-07T13:06:49.240Z"
   },
   {
    "duration": 22,
    "start_time": "2024-01-07T13:06:49.253Z"
   },
   {
    "duration": 38,
    "start_time": "2024-01-07T13:06:49.276Z"
   },
   {
    "duration": 19,
    "start_time": "2024-01-07T13:06:49.316Z"
   },
   {
    "duration": 9,
    "start_time": "2024-01-07T13:06:49.337Z"
   },
   {
    "duration": 15,
    "start_time": "2024-01-07T13:06:49.349Z"
   },
   {
    "duration": 4,
    "start_time": "2024-01-07T13:06:49.365Z"
   },
   {
    "duration": 8,
    "start_time": "2024-01-07T13:06:49.370Z"
   },
   {
    "duration": 10,
    "start_time": "2024-01-07T13:06:49.379Z"
   },
   {
    "duration": 27,
    "start_time": "2024-01-07T13:06:49.390Z"
   },
   {
    "duration": 10,
    "start_time": "2024-01-07T13:06:49.418Z"
   },
   {
    "duration": 9,
    "start_time": "2024-01-07T13:06:49.429Z"
   },
   {
    "duration": 9,
    "start_time": "2024-01-07T13:06:49.439Z"
   },
   {
    "duration": 3,
    "start_time": "2024-01-07T13:06:49.449Z"
   },
   {
    "duration": 10,
    "start_time": "2024-01-07T13:06:49.453Z"
   },
   {
    "duration": 50,
    "start_time": "2024-01-07T13:06:49.464Z"
   },
   {
    "duration": 14,
    "start_time": "2024-01-07T13:06:49.516Z"
   },
   {
    "duration": 10,
    "start_time": "2024-01-07T13:06:49.531Z"
   },
   {
    "duration": 15,
    "start_time": "2024-01-07T13:06:49.542Z"
   },
   {
    "duration": 8,
    "start_time": "2024-01-07T13:06:49.558Z"
   },
   {
    "duration": 18,
    "start_time": "2024-01-07T13:06:49.568Z"
   },
   {
    "duration": 4,
    "start_time": "2024-01-07T13:06:49.588Z"
   },
   {
    "duration": 22,
    "start_time": "2024-01-07T13:06:49.593Z"
   },
   {
    "duration": 4,
    "start_time": "2024-01-07T13:06:49.617Z"
   },
   {
    "duration": 9,
    "start_time": "2024-01-07T13:07:05.455Z"
   },
   {
    "duration": 58,
    "start_time": "2024-01-07T13:17:35.333Z"
   },
   {
    "duration": 2,
    "start_time": "2024-01-07T13:17:48.307Z"
   },
   {
    "duration": 12,
    "start_time": "2024-01-07T13:17:52.052Z"
   },
   {
    "duration": 8,
    "start_time": "2024-01-07T13:17:54.491Z"
   },
   {
    "duration": 9,
    "start_time": "2024-01-07T13:18:03.204Z"
   },
   {
    "duration": 11,
    "start_time": "2024-01-07T13:18:13.748Z"
   },
   {
    "duration": 11,
    "start_time": "2024-01-07T13:18:15.715Z"
   },
   {
    "duration": 9,
    "start_time": "2024-01-07T13:18:16.427Z"
   },
   {
    "duration": 9,
    "start_time": "2024-01-07T13:18:18.996Z"
   },
   {
    "duration": 14,
    "start_time": "2024-01-07T13:18:23.652Z"
   },
   {
    "duration": 9,
    "start_time": "2024-01-07T13:18:24.196Z"
   },
   {
    "duration": 10,
    "start_time": "2024-01-07T13:19:52.485Z"
   },
   {
    "duration": 7,
    "start_time": "2024-01-07T13:31:29.038Z"
   },
   {
    "duration": 48,
    "start_time": "2024-01-07T13:31:37.774Z"
   },
   {
    "duration": 9,
    "start_time": "2024-01-07T13:31:39.158Z"
   },
   {
    "duration": 89,
    "start_time": "2024-01-07T13:32:14.423Z"
   },
   {
    "duration": 24,
    "start_time": "2024-01-07T13:32:27.662Z"
   },
   {
    "duration": 19,
    "start_time": "2024-01-07T13:32:38.783Z"
   },
   {
    "duration": 10,
    "start_time": "2024-01-07T13:32:39.942Z"
   },
   {
    "duration": 17,
    "start_time": "2024-01-07T13:32:52.391Z"
   },
   {
    "duration": 11,
    "start_time": "2024-01-07T13:32:53.256Z"
   },
   {
    "duration": 25,
    "start_time": "2024-01-07T13:43:16.442Z"
   },
   {
    "duration": 17,
    "start_time": "2024-01-07T13:43:27.857Z"
   },
   {
    "duration": 11,
    "start_time": "2024-01-07T13:43:30.426Z"
   },
   {
    "duration": 7,
    "start_time": "2024-01-07T13:44:08.298Z"
   },
   {
    "duration": 16,
    "start_time": "2024-01-07T13:44:11.978Z"
   },
   {
    "duration": 13,
    "start_time": "2024-01-07T13:44:26.939Z"
   },
   {
    "duration": 10,
    "start_time": "2024-01-07T13:44:27.394Z"
   },
   {
    "duration": 3,
    "start_time": "2024-01-07T13:44:52.187Z"
   },
   {
    "duration": 9,
    "start_time": "2024-01-07T13:44:54.227Z"
   },
   {
    "duration": 7,
    "start_time": "2024-01-07T13:45:59.365Z"
   },
   {
    "duration": 8,
    "start_time": "2024-01-07T13:46:01.699Z"
   },
   {
    "duration": 345,
    "start_time": "2024-01-07T13:46:08.866Z"
   },
   {
    "duration": 47,
    "start_time": "2024-01-07T13:46:09.213Z"
   },
   {
    "duration": 17,
    "start_time": "2024-01-07T13:46:09.262Z"
   },
   {
    "duration": 14,
    "start_time": "2024-01-07T13:46:09.281Z"
   },
   {
    "duration": 20,
    "start_time": "2024-01-07T13:46:09.297Z"
   },
   {
    "duration": 19,
    "start_time": "2024-01-07T13:46:09.319Z"
   },
   {
    "duration": 18,
    "start_time": "2024-01-07T13:46:09.339Z"
   },
   {
    "duration": 27,
    "start_time": "2024-01-07T13:46:09.359Z"
   },
   {
    "duration": 51,
    "start_time": "2024-01-07T13:46:09.387Z"
   },
   {
    "duration": 26,
    "start_time": "2024-01-07T13:46:09.441Z"
   },
   {
    "duration": 15,
    "start_time": "2024-01-07T13:46:09.468Z"
   },
   {
    "duration": 12,
    "start_time": "2024-01-07T13:46:09.485Z"
   },
   {
    "duration": 36,
    "start_time": "2024-01-07T13:46:09.499Z"
   },
   {
    "duration": 7,
    "start_time": "2024-01-07T13:46:09.537Z"
   },
   {
    "duration": 13,
    "start_time": "2024-01-07T13:46:09.545Z"
   },
   {
    "duration": 3,
    "start_time": "2024-01-07T13:46:09.560Z"
   },
   {
    "duration": 10,
    "start_time": "2024-01-07T13:46:09.565Z"
   },
   {
    "duration": 36,
    "start_time": "2024-01-07T13:46:09.577Z"
   },
   {
    "duration": 9,
    "start_time": "2024-01-07T13:46:09.615Z"
   },
   {
    "duration": 12,
    "start_time": "2024-01-07T13:46:09.626Z"
   },
   {
    "duration": 9,
    "start_time": "2024-01-07T13:46:09.640Z"
   },
   {
    "duration": 18,
    "start_time": "2024-01-07T13:46:09.652Z"
   },
   {
    "duration": 15,
    "start_time": "2024-01-07T13:46:09.672Z"
   },
   {
    "duration": 32,
    "start_time": "2024-01-07T13:46:09.689Z"
   },
   {
    "duration": 34,
    "start_time": "2024-01-07T13:46:09.723Z"
   },
   {
    "duration": 24,
    "start_time": "2024-01-07T13:46:09.759Z"
   },
   {
    "duration": 27,
    "start_time": "2024-01-07T13:46:09.785Z"
   },
   {
    "duration": 15,
    "start_time": "2024-01-07T13:46:09.817Z"
   },
   {
    "duration": 3,
    "start_time": "2024-01-07T13:46:09.833Z"
   },
   {
    "duration": 11,
    "start_time": "2024-01-07T13:46:09.838Z"
   },
   {
    "duration": 10,
    "start_time": "2024-01-07T13:46:09.850Z"
   },
   {
    "duration": 16,
    "start_time": "2024-01-07T13:46:09.862Z"
   },
   {
    "duration": 33,
    "start_time": "2024-01-07T13:46:09.879Z"
   },
   {
    "duration": 10,
    "start_time": "2024-01-07T13:46:09.914Z"
   },
   {
    "duration": 9,
    "start_time": "2024-01-07T13:46:09.926Z"
   },
   {
    "duration": 3,
    "start_time": "2024-01-07T13:46:09.936Z"
   },
   {
    "duration": 9,
    "start_time": "2024-01-07T13:46:09.940Z"
   },
   {
    "duration": 9,
    "start_time": "2024-01-07T13:46:09.951Z"
   },
   {
    "duration": 12,
    "start_time": "2024-01-07T13:46:09.961Z"
   },
   {
    "duration": 44,
    "start_time": "2024-01-07T13:46:09.975Z"
   },
   {
    "duration": 14,
    "start_time": "2024-01-07T13:46:10.020Z"
   },
   {
    "duration": 14,
    "start_time": "2024-01-07T13:46:10.036Z"
   },
   {
    "duration": 18,
    "start_time": "2024-01-07T13:46:10.052Z"
   },
   {
    "duration": 6,
    "start_time": "2024-01-07T13:46:10.071Z"
   },
   {
    "duration": 12,
    "start_time": "2024-01-07T13:46:10.078Z"
   },
   {
    "duration": 10,
    "start_time": "2024-01-07T13:46:10.092Z"
   },
   {
    "duration": 10,
    "start_time": "2024-01-07T13:46:10.104Z"
   },
   {
    "duration": 43,
    "start_time": "2024-01-07T13:46:10.115Z"
   },
   {
    "duration": 23,
    "start_time": "2024-01-07T13:46:10.160Z"
   },
   {
    "duration": 10,
    "start_time": "2024-01-07T13:46:10.184Z"
   },
   {
    "duration": 34,
    "start_time": "2024-01-07T13:46:10.196Z"
   },
   {
    "duration": 11,
    "start_time": "2024-01-07T13:46:10.231Z"
   },
   {
    "duration": 381,
    "start_time": "2024-01-07T13:46:10.243Z"
   },
   {
    "duration": 0,
    "start_time": "2024-01-07T13:46:10.626Z"
   },
   {
    "duration": 8,
    "start_time": "2024-01-07T13:46:19.068Z"
   },
   {
    "duration": 9,
    "start_time": "2024-01-07T13:46:22.588Z"
   },
   {
    "duration": 8,
    "start_time": "2024-01-07T13:46:32.268Z"
   },
   {
    "duration": 400,
    "start_time": "2024-01-07T13:46:36.408Z"
   },
   {
    "duration": 46,
    "start_time": "2024-01-07T13:46:36.812Z"
   },
   {
    "duration": 15,
    "start_time": "2024-01-07T13:46:36.861Z"
   },
   {
    "duration": 20,
    "start_time": "2024-01-07T13:46:36.878Z"
   },
   {
    "duration": 23,
    "start_time": "2024-01-07T13:46:36.899Z"
   },
   {
    "duration": 25,
    "start_time": "2024-01-07T13:46:36.923Z"
   },
   {
    "duration": 13,
    "start_time": "2024-01-07T13:46:36.949Z"
   },
   {
    "duration": 11,
    "start_time": "2024-01-07T13:46:36.963Z"
   },
   {
    "duration": 46,
    "start_time": "2024-01-07T13:46:36.976Z"
   },
   {
    "duration": 24,
    "start_time": "2024-01-07T13:46:37.024Z"
   },
   {
    "duration": 12,
    "start_time": "2024-01-07T13:46:37.049Z"
   },
   {
    "duration": 33,
    "start_time": "2024-01-07T13:46:37.063Z"
   },
   {
    "duration": 52,
    "start_time": "2024-01-07T13:46:37.097Z"
   },
   {
    "duration": 6,
    "start_time": "2024-01-07T13:46:37.151Z"
   },
   {
    "duration": 26,
    "start_time": "2024-01-07T13:46:37.158Z"
   },
   {
    "duration": 16,
    "start_time": "2024-01-07T13:46:37.185Z"
   },
   {
    "duration": 26,
    "start_time": "2024-01-07T13:46:37.202Z"
   },
   {
    "duration": 34,
    "start_time": "2024-01-07T13:46:37.229Z"
   },
   {
    "duration": 6,
    "start_time": "2024-01-07T13:46:37.265Z"
   },
   {
    "duration": 16,
    "start_time": "2024-01-07T13:46:37.272Z"
   },
   {
    "duration": 30,
    "start_time": "2024-01-07T13:46:37.290Z"
   },
   {
    "duration": 41,
    "start_time": "2024-01-07T13:46:37.322Z"
   },
   {
    "duration": 12,
    "start_time": "2024-01-07T13:46:37.364Z"
   },
   {
    "duration": 22,
    "start_time": "2024-01-07T13:46:37.377Z"
   },
   {
    "duration": 34,
    "start_time": "2024-01-07T13:46:37.400Z"
   },
   {
    "duration": 20,
    "start_time": "2024-01-07T13:46:37.435Z"
   },
   {
    "duration": 13,
    "start_time": "2024-01-07T13:46:37.460Z"
   },
   {
    "duration": 26,
    "start_time": "2024-01-07T13:46:37.475Z"
   },
   {
    "duration": 13,
    "start_time": "2024-01-07T13:46:37.503Z"
   },
   {
    "duration": 26,
    "start_time": "2024-01-07T13:46:37.518Z"
   },
   {
    "duration": 27,
    "start_time": "2024-01-07T13:46:37.546Z"
   },
   {
    "duration": 20,
    "start_time": "2024-01-07T13:46:37.576Z"
   },
   {
    "duration": 14,
    "start_time": "2024-01-07T13:46:37.598Z"
   },
   {
    "duration": 25,
    "start_time": "2024-01-07T13:46:37.613Z"
   },
   {
    "duration": 24,
    "start_time": "2024-01-07T13:46:37.640Z"
   },
   {
    "duration": 31,
    "start_time": "2024-01-07T13:46:37.665Z"
   },
   {
    "duration": 36,
    "start_time": "2024-01-07T13:46:37.698Z"
   },
   {
    "duration": 24,
    "start_time": "2024-01-07T13:46:37.735Z"
   },
   {
    "duration": 44,
    "start_time": "2024-01-07T13:46:37.761Z"
   },
   {
    "duration": 28,
    "start_time": "2024-01-07T13:46:37.807Z"
   },
   {
    "duration": 23,
    "start_time": "2024-01-07T13:46:37.836Z"
   },
   {
    "duration": 43,
    "start_time": "2024-01-07T13:46:37.861Z"
   },
   {
    "duration": 21,
    "start_time": "2024-01-07T13:46:37.905Z"
   },
   {
    "duration": 27,
    "start_time": "2024-01-07T13:46:37.927Z"
   },
   {
    "duration": 36,
    "start_time": "2024-01-07T13:46:37.955Z"
   },
   {
    "duration": 32,
    "start_time": "2024-01-07T13:46:37.993Z"
   },
   {
    "duration": 17,
    "start_time": "2024-01-07T13:46:38.027Z"
   },
   {
    "duration": 55,
    "start_time": "2024-01-07T13:46:38.046Z"
   },
   {
    "duration": 36,
    "start_time": "2024-01-07T13:46:38.102Z"
   },
   {
    "duration": 20,
    "start_time": "2024-01-07T13:46:38.139Z"
   },
   {
    "duration": 39,
    "start_time": "2024-01-07T13:46:38.160Z"
   },
   {
    "duration": 54,
    "start_time": "2024-01-07T13:46:38.200Z"
   },
   {
    "duration": 32,
    "start_time": "2024-01-07T13:46:38.256Z"
   },
   {
    "duration": 25,
    "start_time": "2024-01-07T13:46:38.290Z"
   },
   {
    "duration": 339,
    "start_time": "2024-01-07T13:46:44.716Z"
   },
   {
    "duration": 3,
    "start_time": "2024-01-07T13:46:50.621Z"
   },
   {
    "duration": 9,
    "start_time": "2024-01-07T13:46:52.165Z"
   },
   {
    "duration": 305,
    "start_time": "2024-01-07T13:47:01.349Z"
   },
   {
    "duration": 10,
    "start_time": "2024-01-07T13:47:06.644Z"
   },
   {
    "duration": 415,
    "start_time": "2024-01-07T13:50:13.186Z"
   },
   {
    "duration": 48,
    "start_time": "2024-01-07T13:50:13.603Z"
   },
   {
    "duration": 16,
    "start_time": "2024-01-07T13:50:13.653Z"
   },
   {
    "duration": 13,
    "start_time": "2024-01-07T13:50:13.671Z"
   },
   {
    "duration": 31,
    "start_time": "2024-01-07T13:50:13.685Z"
   },
   {
    "duration": 18,
    "start_time": "2024-01-07T13:50:13.717Z"
   },
   {
    "duration": 17,
    "start_time": "2024-01-07T13:50:13.737Z"
   },
   {
    "duration": 14,
    "start_time": "2024-01-07T13:50:13.756Z"
   },
   {
    "duration": 70,
    "start_time": "2024-01-07T13:50:13.772Z"
   },
   {
    "duration": 24,
    "start_time": "2024-01-07T13:50:13.846Z"
   },
   {
    "duration": 14,
    "start_time": "2024-01-07T13:50:13.872Z"
   },
   {
    "duration": 15,
    "start_time": "2024-01-07T13:50:13.887Z"
   },
   {
    "duration": 36,
    "start_time": "2024-01-07T13:50:13.911Z"
   },
   {
    "duration": 7,
    "start_time": "2024-01-07T13:50:13.948Z"
   },
   {
    "duration": 10,
    "start_time": "2024-01-07T13:50:13.956Z"
   },
   {
    "duration": 6,
    "start_time": "2024-01-07T13:50:13.968Z"
   },
   {
    "duration": 9,
    "start_time": "2024-01-07T13:50:13.975Z"
   },
   {
    "duration": 33,
    "start_time": "2024-01-07T13:50:13.986Z"
   },
   {
    "duration": 8,
    "start_time": "2024-01-07T13:50:14.020Z"
   },
   {
    "duration": 12,
    "start_time": "2024-01-07T13:50:14.029Z"
   },
   {
    "duration": 8,
    "start_time": "2024-01-07T13:50:14.042Z"
   },
   {
    "duration": 20,
    "start_time": "2024-01-07T13:50:14.051Z"
   },
   {
    "duration": 11,
    "start_time": "2024-01-07T13:50:14.073Z"
   },
   {
    "duration": 19,
    "start_time": "2024-01-07T13:50:14.085Z"
   },
   {
    "duration": 34,
    "start_time": "2024-01-07T13:50:14.106Z"
   },
   {
    "duration": 20,
    "start_time": "2024-01-07T13:50:14.142Z"
   },
   {
    "duration": 9,
    "start_time": "2024-01-07T13:50:14.164Z"
   },
   {
    "duration": 11,
    "start_time": "2024-01-07T13:50:14.177Z"
   },
   {
    "duration": 22,
    "start_time": "2024-01-07T13:50:14.189Z"
   },
   {
    "duration": 7,
    "start_time": "2024-01-07T13:50:14.212Z"
   },
   {
    "duration": 9,
    "start_time": "2024-01-07T13:50:14.220Z"
   },
   {
    "duration": 12,
    "start_time": "2024-01-07T13:50:14.231Z"
   },
   {
    "duration": 9,
    "start_time": "2024-01-07T13:50:14.244Z"
   },
   {
    "duration": 16,
    "start_time": "2024-01-07T13:50:14.255Z"
   },
   {
    "duration": 12,
    "start_time": "2024-01-07T13:50:14.273Z"
   },
   {
    "duration": 3,
    "start_time": "2024-01-07T13:50:14.311Z"
   },
   {
    "duration": 17,
    "start_time": "2024-01-07T13:50:14.315Z"
   },
   {
    "duration": 13,
    "start_time": "2024-01-07T13:50:14.333Z"
   },
   {
    "duration": 19,
    "start_time": "2024-01-07T13:50:14.348Z"
   },
   {
    "duration": 12,
    "start_time": "2024-01-07T13:50:14.369Z"
   },
   {
    "duration": 28,
    "start_time": "2024-01-07T13:50:14.384Z"
   },
   {
    "duration": 7,
    "start_time": "2024-01-07T13:50:14.413Z"
   },
   {
    "duration": 10,
    "start_time": "2024-01-07T13:50:14.422Z"
   },
   {
    "duration": 7,
    "start_time": "2024-01-07T13:50:14.433Z"
   },
   {
    "duration": 11,
    "start_time": "2024-01-07T13:50:14.441Z"
   },
   {
    "duration": 12,
    "start_time": "2024-01-07T13:50:14.453Z"
   },
   {
    "duration": 7,
    "start_time": "2024-01-07T13:50:14.467Z"
   },
   {
    "duration": 38,
    "start_time": "2024-01-07T13:50:14.512Z"
   },
   {
    "duration": 14,
    "start_time": "2024-01-07T13:50:14.552Z"
   },
   {
    "duration": 9,
    "start_time": "2024-01-07T13:50:14.567Z"
   },
   {
    "duration": 11,
    "start_time": "2024-01-07T13:50:14.578Z"
   },
   {
    "duration": 10,
    "start_time": "2024-01-07T13:50:14.611Z"
   },
   {
    "duration": 5,
    "start_time": "2024-01-07T13:50:14.623Z"
   },
   {
    "duration": 14,
    "start_time": "2024-01-07T13:50:14.629Z"
   },
   {
    "duration": 3,
    "start_time": "2024-01-07T14:02:29.481Z"
   },
   {
    "duration": 2,
    "start_time": "2024-01-07T14:03:11.499Z"
   },
   {
    "duration": 3,
    "start_time": "2024-01-07T14:03:47.282Z"
   },
   {
    "duration": 10,
    "start_time": "2024-01-07T14:03:50.785Z"
   },
   {
    "duration": 4,
    "start_time": "2024-01-07T14:04:39.505Z"
   },
   {
    "duration": 11,
    "start_time": "2024-01-07T14:04:43.433Z"
   },
   {
    "duration": 3,
    "start_time": "2024-01-07T14:05:04.170Z"
   },
   {
    "duration": 10,
    "start_time": "2024-01-07T14:05:07.657Z"
   },
   {
    "duration": 11,
    "start_time": "2024-01-07T14:06:28.562Z"
   },
   {
    "duration": 7,
    "start_time": "2024-01-07T14:08:57.812Z"
   },
   {
    "duration": 10,
    "start_time": "2024-01-07T14:09:02.981Z"
   },
   {
    "duration": 3,
    "start_time": "2024-01-07T14:09:24.749Z"
   },
   {
    "duration": 8,
    "start_time": "2024-01-07T14:16:04.689Z"
   },
   {
    "duration": 9,
    "start_time": "2024-01-07T14:16:07.938Z"
   },
   {
    "duration": 6,
    "start_time": "2024-01-07T14:17:03.698Z"
   },
   {
    "duration": 10,
    "start_time": "2024-01-07T14:17:04.258Z"
   },
   {
    "duration": 379,
    "start_time": "2024-01-07T14:17:18.522Z"
   },
   {
    "duration": 47,
    "start_time": "2024-01-07T14:17:18.903Z"
   },
   {
    "duration": 15,
    "start_time": "2024-01-07T14:17:18.952Z"
   },
   {
    "duration": 11,
    "start_time": "2024-01-07T14:17:18.969Z"
   },
   {
    "duration": 16,
    "start_time": "2024-01-07T14:17:18.982Z"
   },
   {
    "duration": 18,
    "start_time": "2024-01-07T14:17:19.000Z"
   },
   {
    "duration": 14,
    "start_time": "2024-01-07T14:17:19.020Z"
   },
   {
    "duration": 13,
    "start_time": "2024-01-07T14:17:19.035Z"
   },
   {
    "duration": 47,
    "start_time": "2024-01-07T14:17:19.049Z"
   },
   {
    "duration": 24,
    "start_time": "2024-01-07T14:17:19.110Z"
   },
   {
    "duration": 12,
    "start_time": "2024-01-07T14:17:19.135Z"
   },
   {
    "duration": 14,
    "start_time": "2024-01-07T14:17:19.149Z"
   },
   {
    "duration": 37,
    "start_time": "2024-01-07T14:17:19.164Z"
   },
   {
    "duration": 8,
    "start_time": "2024-01-07T14:17:19.202Z"
   },
   {
    "duration": 17,
    "start_time": "2024-01-07T14:17:19.211Z"
   },
   {
    "duration": 17,
    "start_time": "2024-01-07T14:17:19.230Z"
   },
   {
    "duration": 14,
    "start_time": "2024-01-07T14:17:19.249Z"
   },
   {
    "duration": 37,
    "start_time": "2024-01-07T14:17:19.265Z"
   },
   {
    "duration": 7,
    "start_time": "2024-01-07T14:17:19.304Z"
   },
   {
    "duration": 12,
    "start_time": "2024-01-07T14:17:19.312Z"
   },
   {
    "duration": 8,
    "start_time": "2024-01-07T14:17:19.325Z"
   },
   {
    "duration": 15,
    "start_time": "2024-01-07T14:17:19.334Z"
   },
   {
    "duration": 9,
    "start_time": "2024-01-07T14:17:19.351Z"
   },
   {
    "duration": 15,
    "start_time": "2024-01-07T14:17:19.362Z"
   },
   {
    "duration": 61,
    "start_time": "2024-01-07T14:17:19.378Z"
   },
   {
    "duration": 20,
    "start_time": "2024-01-07T14:17:19.440Z"
   },
   {
    "duration": 10,
    "start_time": "2024-01-07T14:17:19.461Z"
   },
   {
    "duration": 9,
    "start_time": "2024-01-07T14:17:19.474Z"
   },
   {
    "duration": 7,
    "start_time": "2024-01-07T14:17:19.485Z"
   },
   {
    "duration": 18,
    "start_time": "2024-01-07T14:17:19.493Z"
   },
   {
    "duration": 11,
    "start_time": "2024-01-07T14:17:19.512Z"
   },
   {
    "duration": 11,
    "start_time": "2024-01-07T14:17:19.524Z"
   },
   {
    "duration": 8,
    "start_time": "2024-01-07T14:17:19.537Z"
   },
   {
    "duration": 8,
    "start_time": "2024-01-07T14:17:19.547Z"
   },
   {
    "duration": 26,
    "start_time": "2024-01-07T14:17:19.556Z"
   },
   {
    "duration": 3,
    "start_time": "2024-01-07T14:17:19.584Z"
   },
   {
    "duration": 29,
    "start_time": "2024-01-07T14:17:19.589Z"
   },
   {
    "duration": 18,
    "start_time": "2024-01-07T14:17:19.620Z"
   },
   {
    "duration": 11,
    "start_time": "2024-01-07T14:17:19.640Z"
   },
   {
    "duration": 6,
    "start_time": "2024-01-07T14:17:19.652Z"
   },
   {
    "duration": 10,
    "start_time": "2024-01-07T14:17:19.659Z"
   },
   {
    "duration": 10,
    "start_time": "2024-01-07T14:17:19.670Z"
   },
   {
    "duration": 5,
    "start_time": "2024-01-07T14:17:19.681Z"
   },
   {
    "duration": 27,
    "start_time": "2024-01-07T14:17:19.687Z"
   },
   {
    "duration": 12,
    "start_time": "2024-01-07T14:17:19.716Z"
   },
   {
    "duration": 7,
    "start_time": "2024-01-07T14:17:19.729Z"
   },
   {
    "duration": 41,
    "start_time": "2024-01-07T14:17:19.737Z"
   },
   {
    "duration": 34,
    "start_time": "2024-01-07T14:17:19.779Z"
   },
   {
    "duration": 10,
    "start_time": "2024-01-07T14:17:19.815Z"
   },
   {
    "duration": 11,
    "start_time": "2024-01-07T14:17:19.827Z"
   },
   {
    "duration": 12,
    "start_time": "2024-01-07T14:17:19.840Z"
   },
   {
    "duration": 3,
    "start_time": "2024-01-07T14:17:19.854Z"
   },
   {
    "duration": 5,
    "start_time": "2024-01-07T14:17:19.858Z"
   },
   {
    "duration": 5,
    "start_time": "2024-01-07T14:17:19.864Z"
   },
   {
    "duration": 4,
    "start_time": "2024-01-07T14:17:19.870Z"
   },
   {
    "duration": 36,
    "start_time": "2024-01-07T14:17:19.876Z"
   },
   {
    "duration": 9,
    "start_time": "2024-01-07T14:17:19.913Z"
   },
   {
    "duration": 9,
    "start_time": "2024-01-07T14:17:19.924Z"
   },
   {
    "duration": 11,
    "start_time": "2024-01-07T14:17:19.935Z"
   },
   {
    "duration": 3,
    "start_time": "2024-01-07T14:17:19.947Z"
   },
   {
    "duration": 8,
    "start_time": "2024-01-07T14:17:19.951Z"
   },
   {
    "duration": 8,
    "start_time": "2024-01-07T14:17:19.960Z"
   },
   {
    "duration": 16,
    "start_time": "2024-01-07T14:17:19.969Z"
   },
   {
    "duration": 385,
    "start_time": "2024-01-07T14:27:44.021Z"
   },
   {
    "duration": 45,
    "start_time": "2024-01-07T14:27:44.408Z"
   },
   {
    "duration": 14,
    "start_time": "2024-01-07T14:27:44.455Z"
   },
   {
    "duration": 10,
    "start_time": "2024-01-07T14:27:44.470Z"
   },
   {
    "duration": 16,
    "start_time": "2024-01-07T14:27:44.482Z"
   },
   {
    "duration": 18,
    "start_time": "2024-01-07T14:27:44.500Z"
   },
   {
    "duration": 14,
    "start_time": "2024-01-07T14:27:44.519Z"
   },
   {
    "duration": 14,
    "start_time": "2024-01-07T14:27:44.535Z"
   },
   {
    "duration": 44,
    "start_time": "2024-01-07T14:27:44.551Z"
   },
   {
    "duration": 24,
    "start_time": "2024-01-07T14:27:44.610Z"
   },
   {
    "duration": 12,
    "start_time": "2024-01-07T14:27:44.636Z"
   },
   {
    "duration": 18,
    "start_time": "2024-01-07T14:27:44.649Z"
   },
   {
    "duration": 39,
    "start_time": "2024-01-07T14:27:44.668Z"
   },
   {
    "duration": 6,
    "start_time": "2024-01-07T14:27:44.709Z"
   },
   {
    "duration": 9,
    "start_time": "2024-01-07T14:27:44.716Z"
   },
   {
    "duration": 16,
    "start_time": "2024-01-07T14:27:44.726Z"
   },
   {
    "duration": 16,
    "start_time": "2024-01-07T14:27:44.743Z"
   },
   {
    "duration": 30,
    "start_time": "2024-01-07T14:27:44.760Z"
   },
   {
    "duration": 8,
    "start_time": "2024-01-07T14:27:44.792Z"
   },
   {
    "duration": 21,
    "start_time": "2024-01-07T14:27:44.802Z"
   },
   {
    "duration": 8,
    "start_time": "2024-01-07T14:27:44.825Z"
   },
   {
    "duration": 16,
    "start_time": "2024-01-07T14:27:44.834Z"
   },
   {
    "duration": 11,
    "start_time": "2024-01-07T14:27:44.852Z"
   },
   {
    "duration": 12,
    "start_time": "2024-01-07T14:27:44.864Z"
   },
   {
    "duration": 41,
    "start_time": "2024-01-07T14:27:44.878Z"
   },
   {
    "duration": 20,
    "start_time": "2024-01-07T14:27:44.921Z"
   },
   {
    "duration": 10,
    "start_time": "2024-01-07T14:27:44.942Z"
   },
   {
    "duration": 11,
    "start_time": "2024-01-07T14:27:44.956Z"
   },
   {
    "duration": 6,
    "start_time": "2024-01-07T14:27:44.968Z"
   },
   {
    "duration": 10,
    "start_time": "2024-01-07T14:27:44.975Z"
   },
   {
    "duration": 26,
    "start_time": "2024-01-07T14:27:44.986Z"
   },
   {
    "duration": 10,
    "start_time": "2024-01-07T14:27:45.013Z"
   },
   {
    "duration": 31,
    "start_time": "2024-01-07T14:27:45.024Z"
   },
   {
    "duration": 14,
    "start_time": "2024-01-07T14:27:45.056Z"
   },
   {
    "duration": 15,
    "start_time": "2024-01-07T14:27:45.072Z"
   },
   {
    "duration": 5,
    "start_time": "2024-01-07T14:27:45.088Z"
   },
   {
    "duration": 24,
    "start_time": "2024-01-07T14:27:45.094Z"
   },
   {
    "duration": 18,
    "start_time": "2024-01-07T14:27:45.119Z"
   },
   {
    "duration": 27,
    "start_time": "2024-01-07T14:27:45.138Z"
   },
   {
    "duration": 9,
    "start_time": "2024-01-07T14:27:45.166Z"
   },
   {
    "duration": 17,
    "start_time": "2024-01-07T14:27:45.176Z"
   },
   {
    "duration": 27,
    "start_time": "2024-01-07T14:27:45.195Z"
   },
   {
    "duration": 28,
    "start_time": "2024-01-07T14:27:45.224Z"
   },
   {
    "duration": 43,
    "start_time": "2024-01-07T14:27:45.254Z"
   },
   {
    "duration": 43,
    "start_time": "2024-01-07T14:27:45.299Z"
   },
   {
    "duration": 8,
    "start_time": "2024-01-07T14:27:45.344Z"
   },
   {
    "duration": 45,
    "start_time": "2024-01-07T14:27:45.353Z"
   },
   {
    "duration": 15,
    "start_time": "2024-01-07T14:27:45.400Z"
   },
   {
    "duration": 11,
    "start_time": "2024-01-07T14:27:45.416Z"
   },
   {
    "duration": 13,
    "start_time": "2024-01-07T14:27:45.428Z"
   },
   {
    "duration": 19,
    "start_time": "2024-01-07T14:27:45.442Z"
   },
   {
    "duration": 11,
    "start_time": "2024-01-07T14:27:45.462Z"
   },
   {
    "duration": 14,
    "start_time": "2024-01-07T14:27:45.475Z"
   },
   {
    "duration": 16,
    "start_time": "2024-01-07T14:27:45.490Z"
   },
   {
    "duration": 15,
    "start_time": "2024-01-07T14:27:45.507Z"
   },
   {
    "duration": 20,
    "start_time": "2024-01-07T14:27:45.523Z"
   },
   {
    "duration": 14,
    "start_time": "2024-01-07T14:27:45.545Z"
   },
   {
    "duration": 7,
    "start_time": "2024-01-07T14:27:45.560Z"
   },
   {
    "duration": 13,
    "start_time": "2024-01-07T14:27:45.569Z"
   },
   {
    "duration": 2,
    "start_time": "2024-01-07T14:27:45.584Z"
   },
   {
    "duration": 12,
    "start_time": "2024-01-07T14:27:45.588Z"
   },
   {
    "duration": 17,
    "start_time": "2024-01-07T14:27:45.602Z"
   },
   {
    "duration": 33,
    "start_time": "2024-01-07T14:27:45.620Z"
   },
   {
    "duration": 71,
    "start_time": "2024-01-07T14:28:15.697Z"
   },
   {
    "duration": 419,
    "start_time": "2024-01-07T14:28:22.811Z"
   },
   {
    "duration": 46,
    "start_time": "2024-01-07T14:28:23.232Z"
   },
   {
    "duration": 15,
    "start_time": "2024-01-07T14:28:23.279Z"
   },
   {
    "duration": 32,
    "start_time": "2024-01-07T14:28:23.296Z"
   },
   {
    "duration": 16,
    "start_time": "2024-01-07T14:28:23.330Z"
   },
   {
    "duration": 18,
    "start_time": "2024-01-07T14:28:23.347Z"
   },
   {
    "duration": 13,
    "start_time": "2024-01-07T14:28:23.367Z"
   },
   {
    "duration": 19,
    "start_time": "2024-01-07T14:28:23.382Z"
   },
   {
    "duration": 45,
    "start_time": "2024-01-07T14:28:23.403Z"
   },
   {
    "duration": 24,
    "start_time": "2024-01-07T14:28:23.450Z"
   },
   {
    "duration": 12,
    "start_time": "2024-01-07T14:28:23.476Z"
   },
   {
    "duration": 14,
    "start_time": "2024-01-07T14:28:23.490Z"
   },
   {
    "duration": 36,
    "start_time": "2024-01-07T14:28:23.511Z"
   },
   {
    "duration": 6,
    "start_time": "2024-01-07T14:28:23.548Z"
   },
   {
    "duration": 10,
    "start_time": "2024-01-07T14:28:23.555Z"
   },
   {
    "duration": 3,
    "start_time": "2024-01-07T14:28:23.566Z"
   },
   {
    "duration": 8,
    "start_time": "2024-01-07T14:28:23.570Z"
   },
   {
    "duration": 28,
    "start_time": "2024-01-07T14:28:23.579Z"
   },
   {
    "duration": 7,
    "start_time": "2024-01-07T14:28:23.609Z"
   },
   {
    "duration": 11,
    "start_time": "2024-01-07T14:28:23.617Z"
   },
   {
    "duration": 8,
    "start_time": "2024-01-07T14:28:23.629Z"
   },
   {
    "duration": 16,
    "start_time": "2024-01-07T14:28:23.639Z"
   },
   {
    "duration": 10,
    "start_time": "2024-01-07T14:28:23.656Z"
   },
   {
    "duration": 11,
    "start_time": "2024-01-07T14:28:23.668Z"
   },
   {
    "duration": 55,
    "start_time": "2024-01-07T14:28:23.681Z"
   },
   {
    "duration": 21,
    "start_time": "2024-01-07T14:28:23.738Z"
   },
   {
    "duration": 11,
    "start_time": "2024-01-07T14:28:23.760Z"
   },
   {
    "duration": 11,
    "start_time": "2024-01-07T14:28:23.776Z"
   },
   {
    "duration": 22,
    "start_time": "2024-01-07T14:28:23.789Z"
   },
   {
    "duration": 8,
    "start_time": "2024-01-07T14:28:23.813Z"
   },
   {
    "duration": 9,
    "start_time": "2024-01-07T14:28:23.822Z"
   },
   {
    "duration": 10,
    "start_time": "2024-01-07T14:28:23.833Z"
   },
   {
    "duration": 9,
    "start_time": "2024-01-07T14:28:23.845Z"
   },
   {
    "duration": 9,
    "start_time": "2024-01-07T14:28:23.855Z"
   },
   {
    "duration": 11,
    "start_time": "2024-01-07T14:28:23.865Z"
   },
   {
    "duration": 3,
    "start_time": "2024-01-07T14:28:23.877Z"
   },
   {
    "duration": 16,
    "start_time": "2024-01-07T14:28:23.910Z"
   },
   {
    "duration": 20,
    "start_time": "2024-01-07T14:28:23.928Z"
   },
   {
    "duration": 14,
    "start_time": "2024-01-07T14:28:23.950Z"
   },
   {
    "duration": 3,
    "start_time": "2024-01-07T14:28:23.966Z"
   },
   {
    "duration": 8,
    "start_time": "2024-01-07T14:28:23.970Z"
   },
   {
    "duration": 38,
    "start_time": "2024-01-07T14:28:23.980Z"
   },
   {
    "duration": 6,
    "start_time": "2024-01-07T14:28:24.020Z"
   },
   {
    "duration": 9,
    "start_time": "2024-01-07T14:28:24.028Z"
   },
   {
    "duration": 11,
    "start_time": "2024-01-07T14:28:24.038Z"
   },
   {
    "duration": 6,
    "start_time": "2024-01-07T14:28:24.050Z"
   },
   {
    "duration": 68,
    "start_time": "2024-01-07T14:28:24.057Z"
   },
   {
    "duration": 14,
    "start_time": "2024-01-07T14:28:24.126Z"
   },
   {
    "duration": 10,
    "start_time": "2024-01-07T14:28:24.142Z"
   },
   {
    "duration": 16,
    "start_time": "2024-01-07T14:28:24.153Z"
   },
   {
    "duration": 10,
    "start_time": "2024-01-07T14:28:24.171Z"
   },
   {
    "duration": 32,
    "start_time": "2024-01-07T14:28:24.183Z"
   },
   {
    "duration": 15,
    "start_time": "2024-01-07T14:28:24.216Z"
   },
   {
    "duration": 6,
    "start_time": "2024-01-07T14:28:24.232Z"
   },
   {
    "duration": 6,
    "start_time": "2024-01-07T14:28:24.239Z"
   },
   {
    "duration": 10,
    "start_time": "2024-01-07T14:28:24.247Z"
   },
   {
    "duration": 15,
    "start_time": "2024-01-07T14:28:24.259Z"
   },
   {
    "duration": 7,
    "start_time": "2024-01-07T14:28:24.275Z"
   },
   {
    "duration": 32,
    "start_time": "2024-01-07T14:28:24.283Z"
   },
   {
    "duration": 3,
    "start_time": "2024-01-07T14:28:24.317Z"
   },
   {
    "duration": 8,
    "start_time": "2024-01-07T14:28:24.322Z"
   },
   {
    "duration": 8,
    "start_time": "2024-01-07T14:28:24.332Z"
   },
   {
    "duration": 13,
    "start_time": "2024-01-07T14:28:24.342Z"
   },
   {
    "duration": 13,
    "start_time": "2024-01-07T16:33:43.376Z"
   },
   {
    "duration": 5,
    "start_time": "2024-01-07T16:35:52.640Z"
   },
   {
    "duration": 18,
    "start_time": "2024-01-07T16:35:56.049Z"
   },
   {
    "duration": 14,
    "start_time": "2024-01-07T16:36:44.506Z"
   },
   {
    "duration": 84,
    "start_time": "2024-01-07T16:39:20.139Z"
   },
   {
    "duration": 58,
    "start_time": "2024-01-07T16:39:25.011Z"
   },
   {
    "duration": 16,
    "start_time": "2024-01-07T16:39:30.731Z"
   },
   {
    "duration": 10,
    "start_time": "2024-01-07T16:39:32.870Z"
   },
   {
    "duration": 16,
    "start_time": "2024-01-07T16:39:44.731Z"
   },
   {
    "duration": 11,
    "start_time": "2024-01-07T16:39:46.154Z"
   },
   {
    "duration": 16,
    "start_time": "2024-01-07T16:40:21.435Z"
   },
   {
    "duration": 3,
    "start_time": "2024-01-07T16:40:21.980Z"
   },
   {
    "duration": 14,
    "start_time": "2024-01-07T16:40:27.164Z"
   },
   {
    "duration": 9,
    "start_time": "2024-01-07T16:40:28.987Z"
   },
   {
    "duration": 8,
    "start_time": "2024-01-07T16:40:49.429Z"
   },
   {
    "duration": 9,
    "start_time": "2024-01-07T16:41:43.548Z"
   },
   {
    "duration": 9,
    "start_time": "2024-01-07T16:42:16.597Z"
   },
   {
    "duration": 3,
    "start_time": "2024-01-07T16:44:17.502Z"
   },
   {
    "duration": 9,
    "start_time": "2024-01-07T16:44:22.390Z"
   },
   {
    "duration": 426,
    "start_time": "2024-01-07T16:45:07.280Z"
   },
   {
    "duration": 46,
    "start_time": "2024-01-07T16:45:07.708Z"
   },
   {
    "duration": 16,
    "start_time": "2024-01-07T16:45:07.756Z"
   },
   {
    "duration": 11,
    "start_time": "2024-01-07T16:45:07.774Z"
   },
   {
    "duration": 16,
    "start_time": "2024-01-07T16:45:07.787Z"
   },
   {
    "duration": 19,
    "start_time": "2024-01-07T16:45:07.804Z"
   },
   {
    "duration": 15,
    "start_time": "2024-01-07T16:45:07.824Z"
   },
   {
    "duration": 14,
    "start_time": "2024-01-07T16:45:07.840Z"
   },
   {
    "duration": 59,
    "start_time": "2024-01-07T16:45:07.856Z"
   },
   {
    "duration": 25,
    "start_time": "2024-01-07T16:45:07.917Z"
   },
   {
    "duration": 12,
    "start_time": "2024-01-07T16:45:07.943Z"
   },
   {
    "duration": 12,
    "start_time": "2024-01-07T16:45:07.957Z"
   },
   {
    "duration": 43,
    "start_time": "2024-01-07T16:45:07.970Z"
   },
   {
    "duration": 6,
    "start_time": "2024-01-07T16:45:08.014Z"
   },
   {
    "duration": 10,
    "start_time": "2024-01-07T16:45:08.022Z"
   },
   {
    "duration": 7,
    "start_time": "2024-01-07T16:45:08.033Z"
   },
   {
    "duration": 9,
    "start_time": "2024-01-07T16:45:08.041Z"
   },
   {
    "duration": 28,
    "start_time": "2024-01-07T16:45:08.051Z"
   },
   {
    "duration": 7,
    "start_time": "2024-01-07T16:45:08.081Z"
   },
   {
    "duration": 24,
    "start_time": "2024-01-07T16:45:08.089Z"
   },
   {
    "duration": 8,
    "start_time": "2024-01-07T16:45:08.115Z"
   },
   {
    "duration": 16,
    "start_time": "2024-01-07T16:45:08.125Z"
   },
   {
    "duration": 11,
    "start_time": "2024-01-07T16:45:08.142Z"
   },
   {
    "duration": 10,
    "start_time": "2024-01-07T16:45:08.155Z"
   },
   {
    "duration": 52,
    "start_time": "2024-01-07T16:45:08.166Z"
   },
   {
    "duration": 20,
    "start_time": "2024-01-07T16:45:08.219Z"
   },
   {
    "duration": 10,
    "start_time": "2024-01-07T16:45:08.241Z"
   },
   {
    "duration": 10,
    "start_time": "2024-01-07T16:45:08.255Z"
   },
   {
    "duration": 4,
    "start_time": "2024-01-07T16:45:08.266Z"
   },
   {
    "duration": 8,
    "start_time": "2024-01-07T16:45:08.271Z"
   },
   {
    "duration": 11,
    "start_time": "2024-01-07T16:45:08.280Z"
   },
   {
    "duration": 10,
    "start_time": "2024-01-07T16:45:08.310Z"
   },
   {
    "duration": 10,
    "start_time": "2024-01-07T16:45:08.321Z"
   },
   {
    "duration": 9,
    "start_time": "2024-01-07T16:45:08.332Z"
   },
   {
    "duration": 13,
    "start_time": "2024-01-07T16:45:08.343Z"
   },
   {
    "duration": 3,
    "start_time": "2024-01-07T16:45:08.358Z"
   },
   {
    "duration": 10,
    "start_time": "2024-01-07T16:45:08.363Z"
   },
   {
    "duration": 48,
    "start_time": "2024-01-07T16:45:08.375Z"
   },
   {
    "duration": 12,
    "start_time": "2024-01-07T16:45:08.424Z"
   },
   {
    "duration": 4,
    "start_time": "2024-01-07T16:45:08.437Z"
   },
   {
    "duration": 8,
    "start_time": "2024-01-07T16:45:08.442Z"
   },
   {
    "duration": 9,
    "start_time": "2024-01-07T16:45:08.452Z"
   },
   {
    "duration": 7,
    "start_time": "2024-01-07T16:45:08.463Z"
   },
   {
    "duration": 41,
    "start_time": "2024-01-07T16:45:08.471Z"
   },
   {
    "duration": 13,
    "start_time": "2024-01-07T16:45:08.514Z"
   },
   {
    "duration": 7,
    "start_time": "2024-01-07T16:45:08.528Z"
   },
   {
    "duration": 43,
    "start_time": "2024-01-07T16:45:08.537Z"
   },
   {
    "duration": 33,
    "start_time": "2024-01-07T16:45:08.582Z"
   },
   {
    "duration": 10,
    "start_time": "2024-01-07T16:45:08.617Z"
   },
   {
    "duration": 12,
    "start_time": "2024-01-07T16:45:08.628Z"
   },
   {
    "duration": 11,
    "start_time": "2024-01-07T16:45:08.641Z"
   },
   {
    "duration": 4,
    "start_time": "2024-01-07T16:45:08.653Z"
   },
   {
    "duration": 3,
    "start_time": "2024-01-07T16:45:08.658Z"
   },
   {
    "duration": 5,
    "start_time": "2024-01-07T16:45:08.663Z"
   },
   {
    "duration": 16,
    "start_time": "2024-01-07T16:45:08.669Z"
   },
   {
    "duration": 30,
    "start_time": "2024-01-07T16:45:08.687Z"
   },
   {
    "duration": 9,
    "start_time": "2024-01-07T16:45:08.718Z"
   },
   {
    "duration": 6,
    "start_time": "2024-01-07T16:45:08.729Z"
   },
   {
    "duration": 13,
    "start_time": "2024-01-07T16:45:08.736Z"
   },
   {
    "duration": 3,
    "start_time": "2024-01-07T16:45:08.750Z"
   },
   {
    "duration": 10,
    "start_time": "2024-01-07T16:45:08.754Z"
   },
   {
    "duration": 6,
    "start_time": "2024-01-07T16:45:08.765Z"
   },
   {
    "duration": 45,
    "start_time": "2024-01-07T16:45:08.772Z"
   },
   {
    "duration": 4,
    "start_time": "2024-01-07T16:45:08.819Z"
   },
   {
    "duration": 9,
    "start_time": "2024-01-07T16:45:08.824Z"
   },
   {
    "duration": 18,
    "start_time": "2024-01-07T16:45:08.834Z"
   },
   {
    "duration": 4,
    "start_time": "2024-01-07T16:45:08.854Z"
   },
   {
    "duration": 14,
    "start_time": "2024-01-07T16:45:13.414Z"
   },
   {
    "duration": 10,
    "start_time": "2024-01-07T16:45:15.711Z"
   },
   {
    "duration": 11,
    "start_time": "2024-01-07T16:45:18.344Z"
   },
   {
    "duration": 6,
    "start_time": "2024-01-07T16:48:21.186Z"
   },
   {
    "duration": 21,
    "start_time": "2024-01-07T16:48:24.106Z"
   },
   {
    "duration": 15,
    "start_time": "2024-01-07T16:48:34.746Z"
   },
   {
    "duration": 10,
    "start_time": "2024-01-07T16:48:40.266Z"
   },
   {
    "duration": 16,
    "start_time": "2024-01-07T16:49:20.850Z"
   },
   {
    "duration": 17,
    "start_time": "2024-01-07T16:49:29.835Z"
   },
   {
    "duration": 15,
    "start_time": "2024-01-07T16:49:40.571Z"
   },
   {
    "duration": 6,
    "start_time": "2024-01-07T16:51:20.476Z"
   },
   {
    "duration": 10,
    "start_time": "2024-01-07T16:51:26.923Z"
   },
   {
    "duration": 3,
    "start_time": "2024-01-07T16:52:11.876Z"
   },
   {
    "duration": 12,
    "start_time": "2024-01-07T16:52:14.261Z"
   },
   {
    "duration": 3,
    "start_time": "2024-01-07T16:52:19.668Z"
   },
   {
    "duration": 9,
    "start_time": "2024-01-07T16:52:20.205Z"
   },
   {
    "duration": 405,
    "start_time": "2024-01-07T16:52:26.209Z"
   },
   {
    "duration": 46,
    "start_time": "2024-01-07T16:52:26.615Z"
   },
   {
    "duration": 15,
    "start_time": "2024-01-07T16:52:26.663Z"
   },
   {
    "duration": 11,
    "start_time": "2024-01-07T16:52:26.680Z"
   },
   {
    "duration": 19,
    "start_time": "2024-01-07T16:52:26.692Z"
   },
   {
    "duration": 17,
    "start_time": "2024-01-07T16:52:26.713Z"
   },
   {
    "duration": 13,
    "start_time": "2024-01-07T16:52:26.731Z"
   },
   {
    "duration": 11,
    "start_time": "2024-01-07T16:52:26.746Z"
   },
   {
    "duration": 54,
    "start_time": "2024-01-07T16:52:26.758Z"
   },
   {
    "duration": 24,
    "start_time": "2024-01-07T16:52:26.814Z"
   },
   {
    "duration": 12,
    "start_time": "2024-01-07T16:52:26.840Z"
   },
   {
    "duration": 20,
    "start_time": "2024-01-07T16:52:26.853Z"
   },
   {
    "duration": 35,
    "start_time": "2024-01-07T16:52:26.874Z"
   },
   {
    "duration": 7,
    "start_time": "2024-01-07T16:52:26.910Z"
   },
   {
    "duration": 13,
    "start_time": "2024-01-07T16:52:26.919Z"
   },
   {
    "duration": 7,
    "start_time": "2024-01-07T16:52:26.934Z"
   },
   {
    "duration": 8,
    "start_time": "2024-01-07T16:52:26.943Z"
   },
   {
    "duration": 27,
    "start_time": "2024-01-07T16:52:26.953Z"
   },
   {
    "duration": 8,
    "start_time": "2024-01-07T16:52:26.981Z"
   },
   {
    "duration": 26,
    "start_time": "2024-01-07T16:52:26.991Z"
   },
   {
    "duration": 8,
    "start_time": "2024-01-07T16:52:27.019Z"
   },
   {
    "duration": 16,
    "start_time": "2024-01-07T16:52:27.028Z"
   },
   {
    "duration": 13,
    "start_time": "2024-01-07T16:52:27.045Z"
   },
   {
    "duration": 13,
    "start_time": "2024-01-07T16:52:27.060Z"
   },
   {
    "duration": 50,
    "start_time": "2024-01-07T16:52:27.074Z"
   },
   {
    "duration": 20,
    "start_time": "2024-01-07T16:52:27.125Z"
   },
   {
    "duration": 10,
    "start_time": "2024-01-07T16:52:27.146Z"
   },
   {
    "duration": 11,
    "start_time": "2024-01-07T16:52:27.159Z"
   },
   {
    "duration": 6,
    "start_time": "2024-01-07T16:52:27.171Z"
   },
   {
    "duration": 7,
    "start_time": "2024-01-07T16:52:27.178Z"
   },
   {
    "duration": 29,
    "start_time": "2024-01-07T16:52:27.187Z"
   },
   {
    "duration": 9,
    "start_time": "2024-01-07T16:52:27.218Z"
   },
   {
    "duration": 9,
    "start_time": "2024-01-07T16:52:27.229Z"
   },
   {
    "duration": 8,
    "start_time": "2024-01-07T16:52:27.240Z"
   },
   {
    "duration": 10,
    "start_time": "2024-01-07T16:52:27.249Z"
   },
   {
    "duration": 14,
    "start_time": "2024-01-07T16:52:27.260Z"
   },
   {
    "duration": 16,
    "start_time": "2024-01-07T16:52:27.275Z"
   },
   {
    "duration": 29,
    "start_time": "2024-01-07T16:52:27.292Z"
   },
   {
    "duration": 10,
    "start_time": "2024-01-07T16:52:27.322Z"
   },
   {
    "duration": 3,
    "start_time": "2024-01-07T16:52:27.333Z"
   },
   {
    "duration": 8,
    "start_time": "2024-01-07T16:52:27.337Z"
   },
   {
    "duration": 9,
    "start_time": "2024-01-07T16:52:27.346Z"
   },
   {
    "duration": 5,
    "start_time": "2024-01-07T16:52:27.357Z"
   },
   {
    "duration": 9,
    "start_time": "2024-01-07T16:52:27.364Z"
   },
   {
    "duration": 43,
    "start_time": "2024-01-07T16:52:27.374Z"
   },
   {
    "duration": 7,
    "start_time": "2024-01-07T16:52:27.419Z"
   },
   {
    "duration": 44,
    "start_time": "2024-01-07T16:52:27.427Z"
   },
   {
    "duration": 15,
    "start_time": "2024-01-07T16:52:27.472Z"
   },
   {
    "duration": 26,
    "start_time": "2024-01-07T16:52:27.489Z"
   },
   {
    "duration": 13,
    "start_time": "2024-01-07T16:52:27.517Z"
   },
   {
    "duration": 11,
    "start_time": "2024-01-07T16:52:27.531Z"
   },
   {
    "duration": 4,
    "start_time": "2024-01-07T16:52:27.543Z"
   },
   {
    "duration": 7,
    "start_time": "2024-01-07T16:52:27.548Z"
   },
   {
    "duration": 8,
    "start_time": "2024-01-07T16:52:27.556Z"
   },
   {
    "duration": 5,
    "start_time": "2024-01-07T16:52:27.566Z"
   },
   {
    "duration": 10,
    "start_time": "2024-01-07T16:52:27.572Z"
   },
   {
    "duration": 35,
    "start_time": "2024-01-07T16:52:27.583Z"
   },
   {
    "duration": 13,
    "start_time": "2024-01-07T16:52:27.619Z"
   },
   {
    "duration": 9,
    "start_time": "2024-01-07T16:52:27.633Z"
   },
   {
    "duration": 2,
    "start_time": "2024-01-07T16:52:27.644Z"
   },
   {
    "duration": 11,
    "start_time": "2024-01-07T16:52:27.648Z"
   },
   {
    "duration": 9,
    "start_time": "2024-01-07T16:52:27.661Z"
   },
   {
    "duration": 21,
    "start_time": "2024-01-07T16:52:27.672Z"
   },
   {
    "duration": 18,
    "start_time": "2024-01-07T16:52:27.695Z"
   },
   {
    "duration": 12,
    "start_time": "2024-01-07T16:52:27.714Z"
   },
   {
    "duration": 17,
    "start_time": "2024-01-07T16:52:27.728Z"
   },
   {
    "duration": 6,
    "start_time": "2024-01-07T16:52:27.747Z"
   },
   {
    "duration": 5,
    "start_time": "2024-01-07T16:52:27.754Z"
   },
   {
    "duration": 10,
    "start_time": "2024-01-07T16:52:27.761Z"
   },
   {
    "duration": 5,
    "start_time": "2024-01-07T16:52:27.772Z"
   },
   {
    "duration": 34,
    "start_time": "2024-01-07T16:52:27.778Z"
   },
   {
    "duration": 10,
    "start_time": "2024-01-07T16:52:27.814Z"
   },
   {
    "duration": 17,
    "start_time": "2024-01-07T16:52:40.469Z"
   },
   {
    "duration": 26,
    "start_time": "2024-01-07T16:55:16.199Z"
   },
   {
    "duration": 82,
    "start_time": "2024-01-07T16:58:25.065Z"
   },
   {
    "duration": 4,
    "start_time": "2024-01-07T16:58:31.737Z"
   },
   {
    "duration": 17,
    "start_time": "2024-01-07T16:58:34.249Z"
   },
   {
    "duration": 13,
    "start_time": "2024-01-07T16:59:46.651Z"
   },
   {
    "duration": 775,
    "start_time": "2024-01-07T17:01:26.203Z"
   },
   {
    "duration": 4,
    "start_time": "2024-01-07T17:09:06.634Z"
   },
   {
    "duration": 18,
    "start_time": "2024-01-07T17:09:08.977Z"
   },
   {
    "duration": 5,
    "start_time": "2024-01-07T17:09:11.289Z"
   },
   {
    "duration": 5,
    "start_time": "2024-01-07T17:10:05.274Z"
   },
   {
    "duration": 4,
    "start_time": "2024-01-07T17:10:12.714Z"
   },
   {
    "duration": 4,
    "start_time": "2024-01-07T17:10:20.586Z"
   },
   {
    "duration": 4,
    "start_time": "2024-01-07T17:10:28.762Z"
   },
   {
    "duration": 3,
    "start_time": "2024-01-07T17:10:34.050Z"
   },
   {
    "duration": 94,
    "start_time": "2024-01-07T17:26:56.126Z"
   },
   {
    "duration": 13,
    "start_time": "2024-01-07T17:27:04.238Z"
   },
   {
    "duration": 34,
    "start_time": "2024-01-07T17:28:19.935Z"
   },
   {
    "duration": 8,
    "start_time": "2024-01-07T17:28:46.536Z"
   },
   {
    "duration": 4,
    "start_time": "2024-01-07T17:28:49.960Z"
   },
   {
    "duration": 32,
    "start_time": "2024-01-07T17:29:44.137Z"
   },
   {
    "duration": 4,
    "start_time": "2024-01-07T17:29:45.216Z"
   },
   {
    "duration": 28,
    "start_time": "2024-01-07T17:30:07.369Z"
   },
   {
    "duration": 12,
    "start_time": "2024-01-07T17:31:48.674Z"
   },
   {
    "duration": 43606,
    "start_time": "2024-01-07T17:31:54.307Z"
   },
   {
    "duration": 4,
    "start_time": "2024-01-07T17:32:52.251Z"
   },
   {
    "duration": 8,
    "start_time": "2024-01-07T17:32:57.260Z"
   },
   {
    "duration": 4,
    "start_time": "2024-01-07T17:33:11.300Z"
   },
   {
    "duration": 43447,
    "start_time": "2024-01-07T17:33:13.292Z"
   },
   {
    "duration": 1140,
    "start_time": "2024-01-07T17:34:03.305Z"
   },
   {
    "duration": 46,
    "start_time": "2024-01-07T17:34:04.447Z"
   },
   {
    "duration": 15,
    "start_time": "2024-01-07T17:34:04.494Z"
   },
   {
    "duration": 12,
    "start_time": "2024-01-07T17:34:04.511Z"
   },
   {
    "duration": 17,
    "start_time": "2024-01-07T17:34:04.525Z"
   },
   {
    "duration": 18,
    "start_time": "2024-01-07T17:34:04.544Z"
   },
   {
    "duration": 14,
    "start_time": "2024-01-07T17:34:04.563Z"
   },
   {
    "duration": 18,
    "start_time": "2024-01-07T17:34:04.579Z"
   },
   {
    "duration": 47,
    "start_time": "2024-01-07T17:34:04.611Z"
   },
   {
    "duration": 24,
    "start_time": "2024-01-07T17:34:04.661Z"
   },
   {
    "duration": 13,
    "start_time": "2024-01-07T17:34:04.687Z"
   },
   {
    "duration": 19,
    "start_time": "2024-01-07T17:34:04.701Z"
   },
   {
    "duration": 41,
    "start_time": "2024-01-07T17:34:04.721Z"
   },
   {
    "duration": 6,
    "start_time": "2024-01-07T17:34:04.764Z"
   },
   {
    "duration": 10,
    "start_time": "2024-01-07T17:34:04.771Z"
   },
   {
    "duration": 3,
    "start_time": "2024-01-07T17:34:04.782Z"
   },
   {
    "duration": 9,
    "start_time": "2024-01-07T17:34:04.786Z"
   },
   {
    "duration": 29,
    "start_time": "2024-01-07T17:34:04.796Z"
   },
   {
    "duration": 8,
    "start_time": "2024-01-07T17:34:04.826Z"
   },
   {
    "duration": 10,
    "start_time": "2024-01-07T17:34:04.835Z"
   },
   {
    "duration": 7,
    "start_time": "2024-01-07T17:34:04.847Z"
   },
   {
    "duration": 15,
    "start_time": "2024-01-07T17:34:04.856Z"
   },
   {
    "duration": 10,
    "start_time": "2024-01-07T17:34:04.873Z"
   },
   {
    "duration": 27,
    "start_time": "2024-01-07T17:34:04.884Z"
   },
   {
    "duration": 32,
    "start_time": "2024-01-07T17:34:04.913Z"
   },
   {
    "duration": 19,
    "start_time": "2024-01-07T17:34:04.947Z"
   },
   {
    "duration": 10,
    "start_time": "2024-01-07T17:34:04.967Z"
   },
   {
    "duration": 10,
    "start_time": "2024-01-07T17:34:04.981Z"
   },
   {
    "duration": 19,
    "start_time": "2024-01-07T17:34:04.992Z"
   },
   {
    "duration": 67,
    "start_time": "2024-01-07T17:34:05.012Z"
   },
   {
    "duration": 9,
    "start_time": "2024-01-07T17:34:05.081Z"
   },
   {
    "duration": 19,
    "start_time": "2024-01-07T17:34:05.092Z"
   },
   {
    "duration": 10,
    "start_time": "2024-01-07T17:34:05.113Z"
   },
   {
    "duration": 11,
    "start_time": "2024-01-07T17:34:05.124Z"
   },
   {
    "duration": 12,
    "start_time": "2024-01-07T17:34:05.137Z"
   },
   {
    "duration": 3,
    "start_time": "2024-01-07T17:34:05.151Z"
   },
   {
    "duration": 12,
    "start_time": "2024-01-07T17:34:05.155Z"
   },
   {
    "duration": 14,
    "start_time": "2024-01-07T17:34:05.169Z"
   },
   {
    "duration": 37,
    "start_time": "2024-01-07T17:34:05.185Z"
   },
   {
    "duration": 3,
    "start_time": "2024-01-07T17:34:05.224Z"
   },
   {
    "duration": 11,
    "start_time": "2024-01-07T17:34:05.228Z"
   },
   {
    "duration": 13,
    "start_time": "2024-01-07T17:34:05.241Z"
   },
   {
    "duration": 5,
    "start_time": "2024-01-07T17:34:05.255Z"
   },
   {
    "duration": 13,
    "start_time": "2024-01-07T17:34:05.262Z"
   },
   {
    "duration": 41,
    "start_time": "2024-01-07T17:34:05.276Z"
   },
   {
    "duration": 7,
    "start_time": "2024-01-07T17:34:05.319Z"
   },
   {
    "duration": 8,
    "start_time": "2024-01-07T17:34:05.328Z"
   },
   {
    "duration": 18,
    "start_time": "2024-01-07T17:34:05.337Z"
   },
   {
    "duration": 11,
    "start_time": "2024-01-07T17:34:05.357Z"
   },
   {
    "duration": 15,
    "start_time": "2024-01-07T17:34:05.369Z"
   },
   {
    "duration": 32,
    "start_time": "2024-01-07T17:34:05.385Z"
   },
   {
    "duration": 4,
    "start_time": "2024-01-07T17:34:05.419Z"
   },
   {
    "duration": 4,
    "start_time": "2024-01-07T17:34:05.424Z"
   },
   {
    "duration": 7,
    "start_time": "2024-01-07T17:34:05.429Z"
   },
   {
    "duration": 5,
    "start_time": "2024-01-07T17:34:05.438Z"
   },
   {
    "duration": 16,
    "start_time": "2024-01-07T17:34:05.444Z"
   },
   {
    "duration": 11,
    "start_time": "2024-01-07T17:34:05.461Z"
   },
   {
    "duration": 12,
    "start_time": "2024-01-07T17:34:05.474Z"
   },
   {
    "duration": 30,
    "start_time": "2024-01-07T17:34:05.488Z"
   },
   {
    "duration": 3,
    "start_time": "2024-01-07T17:34:05.519Z"
   },
   {
    "duration": 13,
    "start_time": "2024-01-07T17:34:05.524Z"
   },
   {
    "duration": 6,
    "start_time": "2024-01-07T17:34:05.539Z"
   },
   {
    "duration": 14,
    "start_time": "2024-01-07T17:34:05.546Z"
   },
   {
    "duration": 5,
    "start_time": "2024-01-07T17:34:05.561Z"
   },
   {
    "duration": 18,
    "start_time": "2024-01-07T17:34:05.567Z"
   },
   {
    "duration": 32,
    "start_time": "2024-01-07T17:34:05.587Z"
   },
   {
    "duration": 5,
    "start_time": "2024-01-07T17:34:05.621Z"
   },
   {
    "duration": 25,
    "start_time": "2024-01-07T17:34:05.628Z"
   },
   {
    "duration": 21,
    "start_time": "2024-01-07T17:34:05.654Z"
   },
   {
    "duration": 4,
    "start_time": "2024-01-07T17:34:05.677Z"
   },
   {
    "duration": 3,
    "start_time": "2024-01-07T17:34:05.683Z"
   },
   {
    "duration": 18,
    "start_time": "2024-01-07T17:34:05.687Z"
   },
   {
    "duration": 19,
    "start_time": "2024-01-07T17:34:05.706Z"
   },
   {
    "duration": 4,
    "start_time": "2024-01-07T17:34:05.726Z"
   },
   {
    "duration": 18,
    "start_time": "2024-01-07T17:34:05.731Z"
   },
   {
    "duration": 46,
    "start_time": "2024-01-07T17:34:05.750Z"
   },
   {
    "duration": 6,
    "start_time": "2024-01-07T17:34:05.797Z"
   },
   {
    "duration": 5,
    "start_time": "2024-01-07T17:34:05.804Z"
   },
   {
    "duration": 4,
    "start_time": "2024-01-07T17:34:05.810Z"
   },
   {
    "duration": 4,
    "start_time": "2024-01-07T17:34:05.816Z"
   },
   {
    "duration": 4,
    "start_time": "2024-01-07T17:34:05.821Z"
   },
   {
    "duration": 91,
    "start_time": "2024-01-07T17:34:05.829Z"
   },
   {
    "duration": 4,
    "start_time": "2024-01-07T17:34:05.921Z"
   },
   {
    "duration": 25397,
    "start_time": "2024-01-07T17:34:05.926Z"
   },
   {
    "duration": 4,
    "start_time": "2024-01-07T17:34:31.325Z"
   },
   {
    "duration": 3,
    "start_time": "2024-01-07T17:35:13.629Z"
   },
   {
    "duration": 12429,
    "start_time": "2024-01-07T17:38:14.519Z"
   },
   {
    "duration": 3,
    "start_time": "2024-01-07T17:38:36.143Z"
   },
   {
    "duration": 3,
    "start_time": "2024-01-07T17:40:08.769Z"
   },
   {
    "duration": 1177,
    "start_time": "2024-01-07T17:40:12.908Z"
   },
   {
    "duration": 48,
    "start_time": "2024-01-07T17:40:14.089Z"
   },
   {
    "duration": 16,
    "start_time": "2024-01-07T17:40:14.139Z"
   },
   {
    "duration": 33,
    "start_time": "2024-01-07T17:40:14.157Z"
   },
   {
    "duration": 18,
    "start_time": "2024-01-07T17:40:14.192Z"
   },
   {
    "duration": 18,
    "start_time": "2024-01-07T17:40:14.212Z"
   },
   {
    "duration": 14,
    "start_time": "2024-01-07T17:40:14.231Z"
   },
   {
    "duration": 34,
    "start_time": "2024-01-07T17:40:14.246Z"
   },
   {
    "duration": 52,
    "start_time": "2024-01-07T17:40:14.282Z"
   },
   {
    "duration": 24,
    "start_time": "2024-01-07T17:40:14.336Z"
   },
   {
    "duration": 12,
    "start_time": "2024-01-07T17:40:14.362Z"
   },
   {
    "duration": 20,
    "start_time": "2024-01-07T17:40:14.376Z"
   },
   {
    "duration": 44,
    "start_time": "2024-01-07T17:40:14.397Z"
   },
   {
    "duration": 7,
    "start_time": "2024-01-07T17:40:14.442Z"
   },
   {
    "duration": 27,
    "start_time": "2024-01-07T17:40:14.450Z"
   },
   {
    "duration": 4,
    "start_time": "2024-01-07T17:40:14.478Z"
   },
   {
    "duration": 8,
    "start_time": "2024-01-07T17:40:14.483Z"
   },
   {
    "duration": 27,
    "start_time": "2024-01-07T17:40:14.492Z"
   },
   {
    "duration": 7,
    "start_time": "2024-01-07T17:40:14.521Z"
   },
   {
    "duration": 14,
    "start_time": "2024-01-07T17:40:14.529Z"
   },
   {
    "duration": 7,
    "start_time": "2024-01-07T17:40:14.545Z"
   },
   {
    "duration": 18,
    "start_time": "2024-01-07T17:40:14.554Z"
   },
   {
    "duration": 10,
    "start_time": "2024-01-07T17:40:14.573Z"
   },
   {
    "duration": 15,
    "start_time": "2024-01-07T17:40:14.585Z"
   },
   {
    "duration": 39,
    "start_time": "2024-01-07T17:40:14.601Z"
   },
   {
    "duration": 19,
    "start_time": "2024-01-07T17:40:14.641Z"
   },
   {
    "duration": 9,
    "start_time": "2024-01-07T17:40:14.664Z"
   },
   {
    "duration": 10,
    "start_time": "2024-01-07T17:40:14.675Z"
   },
   {
    "duration": 2,
    "start_time": "2024-01-07T17:40:14.687Z"
   },
   {
    "duration": 20,
    "start_time": "2024-01-07T17:40:14.691Z"
   },
   {
    "duration": 10,
    "start_time": "2024-01-07T17:40:14.712Z"
   },
   {
    "duration": 12,
    "start_time": "2024-01-07T17:40:14.724Z"
   },
   {
    "duration": 9,
    "start_time": "2024-01-07T17:40:14.737Z"
   },
   {
    "duration": 8,
    "start_time": "2024-01-07T17:40:14.748Z"
   },
   {
    "duration": 15,
    "start_time": "2024-01-07T17:40:14.757Z"
   },
   {
    "duration": 3,
    "start_time": "2024-01-07T17:40:14.773Z"
   },
   {
    "duration": 35,
    "start_time": "2024-01-07T17:40:14.777Z"
   },
   {
    "duration": 12,
    "start_time": "2024-01-07T17:40:14.814Z"
   },
   {
    "duration": 12,
    "start_time": "2024-01-07T17:40:14.827Z"
   },
   {
    "duration": 4,
    "start_time": "2024-01-07T17:40:14.840Z"
   },
   {
    "duration": 6,
    "start_time": "2024-01-07T17:40:14.845Z"
   },
   {
    "duration": 11,
    "start_time": "2024-01-07T17:40:14.852Z"
   },
   {
    "duration": 5,
    "start_time": "2024-01-07T17:40:14.864Z"
   },
   {
    "duration": 13,
    "start_time": "2024-01-07T17:40:14.870Z"
   },
   {
    "duration": 86,
    "start_time": "2024-01-07T17:40:14.884Z"
   },
   {
    "duration": 7,
    "start_time": "2024-01-07T17:40:14.971Z"
   },
   {
    "duration": 7,
    "start_time": "2024-01-07T17:40:14.979Z"
   },
   {
    "duration": 29,
    "start_time": "2024-01-07T17:40:14.988Z"
   },
   {
    "duration": 23,
    "start_time": "2024-01-07T17:40:15.019Z"
   },
   {
    "duration": 44,
    "start_time": "2024-01-07T17:40:15.044Z"
   },
   {
    "duration": 37,
    "start_time": "2024-01-07T17:40:15.090Z"
   },
   {
    "duration": 21,
    "start_time": "2024-01-07T17:40:15.128Z"
   },
   {
    "duration": 27,
    "start_time": "2024-01-07T17:40:15.150Z"
   },
   {
    "duration": 24,
    "start_time": "2024-01-07T17:40:15.178Z"
   },
   {
    "duration": 16,
    "start_time": "2024-01-07T17:40:15.203Z"
   },
   {
    "duration": 39,
    "start_time": "2024-01-07T17:40:15.221Z"
   },
   {
    "duration": 33,
    "start_time": "2024-01-07T17:40:15.261Z"
   },
   {
    "duration": 9,
    "start_time": "2024-01-07T17:40:15.296Z"
   },
   {
    "duration": 41,
    "start_time": "2024-01-07T17:40:15.307Z"
   },
   {
    "duration": 10,
    "start_time": "2024-01-07T17:40:15.350Z"
   },
   {
    "duration": 8,
    "start_time": "2024-01-07T17:40:15.361Z"
   },
   {
    "duration": 12,
    "start_time": "2024-01-07T17:40:15.371Z"
   },
   {
    "duration": 18,
    "start_time": "2024-01-07T17:40:15.384Z"
   },
   {
    "duration": 7,
    "start_time": "2024-01-07T17:40:15.403Z"
   },
   {
    "duration": 21,
    "start_time": "2024-01-07T17:40:15.411Z"
   },
   {
    "duration": 19,
    "start_time": "2024-01-07T17:40:15.433Z"
   },
   {
    "duration": 4,
    "start_time": "2024-01-07T17:40:15.454Z"
   },
   {
    "duration": 7,
    "start_time": "2024-01-07T17:40:15.459Z"
   },
   {
    "duration": 10,
    "start_time": "2024-01-07T17:40:15.468Z"
   },
   {
    "duration": 5,
    "start_time": "2024-01-07T17:40:15.479Z"
   },
   {
    "duration": 4,
    "start_time": "2024-01-07T17:40:15.485Z"
   },
   {
    "duration": 37,
    "start_time": "2024-01-07T17:40:15.490Z"
   },
   {
    "duration": 38,
    "start_time": "2024-01-07T17:40:15.528Z"
   },
   {
    "duration": 3,
    "start_time": "2024-01-07T17:40:15.567Z"
   },
   {
    "duration": 30,
    "start_time": "2024-01-07T17:40:15.572Z"
   },
   {
    "duration": 19,
    "start_time": "2024-01-07T17:40:15.603Z"
   },
   {
    "duration": 5,
    "start_time": "2024-01-07T17:40:15.624Z"
   },
   {
    "duration": 4,
    "start_time": "2024-01-07T17:40:15.630Z"
   },
   {
    "duration": 7,
    "start_time": "2024-01-07T17:40:15.636Z"
   },
   {
    "duration": 11,
    "start_time": "2024-01-07T17:40:15.644Z"
   },
   {
    "duration": 4,
    "start_time": "2024-01-07T17:40:15.661Z"
   },
   {
    "duration": 62,
    "start_time": "2024-01-07T17:40:15.666Z"
   },
   {
    "duration": 4,
    "start_time": "2024-01-07T17:40:15.729Z"
   },
   {
    "duration": 25383,
    "start_time": "2024-01-07T17:40:15.734Z"
   },
   {
    "duration": 4,
    "start_time": "2024-01-07T17:40:41.119Z"
   },
   {
    "duration": 22,
    "start_time": "2024-01-07T17:40:41.125Z"
   },
   {
    "duration": 12492,
    "start_time": "2024-01-07T17:40:41.148Z"
   },
   {
    "duration": 4,
    "start_time": "2024-01-07T17:40:53.642Z"
   },
   {
    "duration": 4,
    "start_time": "2024-01-07T17:42:41.649Z"
   },
   {
    "duration": 7,
    "start_time": "2024-01-07T17:43:09.946Z"
   },
   {
    "duration": 1097,
    "start_time": "2024-01-07T17:52:45.937Z"
   },
   {
    "duration": 46,
    "start_time": "2024-01-07T17:52:47.036Z"
   },
   {
    "duration": 15,
    "start_time": "2024-01-07T17:52:47.086Z"
   },
   {
    "duration": 11,
    "start_time": "2024-01-07T17:52:47.102Z"
   },
   {
    "duration": 16,
    "start_time": "2024-01-07T17:52:47.115Z"
   },
   {
    "duration": 18,
    "start_time": "2024-01-07T17:52:47.132Z"
   },
   {
    "duration": 14,
    "start_time": "2024-01-07T17:52:47.152Z"
   },
   {
    "duration": 12,
    "start_time": "2024-01-07T17:52:47.168Z"
   },
   {
    "duration": 63,
    "start_time": "2024-01-07T17:52:47.182Z"
   },
   {
    "duration": 24,
    "start_time": "2024-01-07T17:52:47.247Z"
   },
   {
    "duration": 12,
    "start_time": "2024-01-07T17:52:47.272Z"
   },
   {
    "duration": 13,
    "start_time": "2024-01-07T17:52:47.286Z"
   },
   {
    "duration": 36,
    "start_time": "2024-01-07T17:52:47.300Z"
   },
   {
    "duration": 6,
    "start_time": "2024-01-07T17:52:47.338Z"
   },
   {
    "duration": 9,
    "start_time": "2024-01-07T17:52:47.346Z"
   },
   {
    "duration": 3,
    "start_time": "2024-01-07T17:52:47.356Z"
   },
   {
    "duration": 15,
    "start_time": "2024-01-07T17:52:47.360Z"
   },
   {
    "duration": 28,
    "start_time": "2024-01-07T17:52:47.376Z"
   },
   {
    "duration": 7,
    "start_time": "2024-01-07T17:52:47.405Z"
   },
   {
    "duration": 14,
    "start_time": "2024-01-07T17:52:47.413Z"
   },
   {
    "duration": 7,
    "start_time": "2024-01-07T17:52:47.429Z"
   },
   {
    "duration": 16,
    "start_time": "2024-01-07T17:52:47.438Z"
   },
   {
    "duration": 10,
    "start_time": "2024-01-07T17:52:47.455Z"
   },
   {
    "duration": 10,
    "start_time": "2024-01-07T17:52:47.467Z"
   },
   {
    "duration": 47,
    "start_time": "2024-01-07T17:52:47.479Z"
   },
   {
    "duration": 21,
    "start_time": "2024-01-07T17:52:47.527Z"
   },
   {
    "duration": 21,
    "start_time": "2024-01-07T17:52:47.552Z"
   },
   {
    "duration": 12,
    "start_time": "2024-01-07T17:52:47.575Z"
   },
   {
    "duration": 5,
    "start_time": "2024-01-07T17:52:47.588Z"
   },
   {
    "duration": 19,
    "start_time": "2024-01-07T17:52:47.594Z"
   },
   {
    "duration": 10,
    "start_time": "2024-01-07T17:52:47.615Z"
   },
   {
    "duration": 12,
    "start_time": "2024-01-07T17:52:47.627Z"
   },
   {
    "duration": 11,
    "start_time": "2024-01-07T17:52:47.640Z"
   },
   {
    "duration": 8,
    "start_time": "2024-01-07T17:52:47.653Z"
   },
   {
    "duration": 10,
    "start_time": "2024-01-07T17:52:47.663Z"
   },
   {
    "duration": 3,
    "start_time": "2024-01-07T17:52:47.675Z"
   },
   {
    "duration": 11,
    "start_time": "2024-01-07T17:52:47.710Z"
   },
   {
    "duration": 15,
    "start_time": "2024-01-07T17:52:47.722Z"
   },
   {
    "duration": 10,
    "start_time": "2024-01-07T17:52:47.739Z"
   },
   {
    "duration": 3,
    "start_time": "2024-01-07T17:52:47.751Z"
   },
   {
    "duration": 8,
    "start_time": "2024-01-07T17:52:47.756Z"
   },
   {
    "duration": 13,
    "start_time": "2024-01-07T17:52:47.765Z"
   },
   {
    "duration": 34,
    "start_time": "2024-01-07T17:52:47.780Z"
   },
   {
    "duration": 31,
    "start_time": "2024-01-07T17:52:47.816Z"
   },
   {
    "duration": 75,
    "start_time": "2024-01-07T17:52:47.848Z"
   },
   {
    "duration": 7,
    "start_time": "2024-01-07T17:52:47.925Z"
   },
   {
    "duration": 15,
    "start_time": "2024-01-07T17:52:47.933Z"
   },
   {
    "duration": 20,
    "start_time": "2024-01-07T17:52:47.949Z"
   },
   {
    "duration": 10,
    "start_time": "2024-01-07T17:52:47.970Z"
   },
   {
    "duration": 13,
    "start_time": "2024-01-07T17:52:47.981Z"
   },
   {
    "duration": 20,
    "start_time": "2024-01-07T17:52:47.995Z"
   },
   {
    "duration": 8,
    "start_time": "2024-01-07T17:52:48.016Z"
   },
   {
    "duration": 5,
    "start_time": "2024-01-07T17:52:48.025Z"
   },
   {
    "duration": 11,
    "start_time": "2024-01-07T17:52:48.031Z"
   },
   {
    "duration": 8,
    "start_time": "2024-01-07T17:52:48.043Z"
   },
   {
    "duration": 10,
    "start_time": "2024-01-07T17:52:48.052Z"
   },
   {
    "duration": 9,
    "start_time": "2024-01-07T17:52:48.063Z"
   },
   {
    "duration": 8,
    "start_time": "2024-01-07T17:52:48.073Z"
   },
   {
    "duration": 9,
    "start_time": "2024-01-07T17:52:48.083Z"
   },
   {
    "duration": 18,
    "start_time": "2024-01-07T17:52:48.093Z"
   },
   {
    "duration": 7,
    "start_time": "2024-01-07T17:52:48.113Z"
   },
   {
    "duration": 9,
    "start_time": "2024-01-07T17:52:48.121Z"
   },
   {
    "duration": 12,
    "start_time": "2024-01-07T17:52:48.131Z"
   },
   {
    "duration": 7,
    "start_time": "2024-01-07T17:52:48.144Z"
   },
   {
    "duration": 11,
    "start_time": "2024-01-07T17:52:48.153Z"
   },
   {
    "duration": 16,
    "start_time": "2024-01-07T17:52:48.166Z"
   },
   {
    "duration": 4,
    "start_time": "2024-01-07T17:52:48.183Z"
   },
   {
    "duration": 25,
    "start_time": "2024-01-07T17:52:48.189Z"
   },
   {
    "duration": 24,
    "start_time": "2024-01-07T17:52:48.215Z"
   },
   {
    "duration": 20,
    "start_time": "2024-01-07T17:52:48.241Z"
   },
   {
    "duration": 13,
    "start_time": "2024-01-07T17:52:48.263Z"
   },
   {
    "duration": 33,
    "start_time": "2024-01-07T17:52:48.277Z"
   },
   {
    "duration": 32,
    "start_time": "2024-01-07T17:52:48.311Z"
   },
   {
    "duration": 4,
    "start_time": "2024-01-07T17:52:48.344Z"
   },
   {
    "duration": 16,
    "start_time": "2024-01-07T17:52:48.349Z"
   },
   {
    "duration": 9,
    "start_time": "2024-01-07T17:52:48.366Z"
   },
   {
    "duration": 6,
    "start_time": "2024-01-07T17:52:48.377Z"
   },
   {
    "duration": 5,
    "start_time": "2024-01-07T17:52:48.384Z"
   },
   {
    "duration": 5,
    "start_time": "2024-01-07T17:52:48.390Z"
   },
   {
    "duration": 4,
    "start_time": "2024-01-07T17:52:48.396Z"
   },
   {
    "duration": 3,
    "start_time": "2024-01-07T17:52:48.416Z"
   },
   {
    "duration": 97,
    "start_time": "2024-01-07T17:52:48.421Z"
   },
   {
    "duration": 5,
    "start_time": "2024-01-07T17:52:48.520Z"
   },
   {
    "duration": 24732,
    "start_time": "2024-01-07T17:52:48.526Z"
   },
   {
    "duration": 3,
    "start_time": "2024-01-07T17:53:13.260Z"
   },
   {
    "duration": 14,
    "start_time": "2024-01-07T17:53:13.265Z"
   },
   {
    "duration": 12139,
    "start_time": "2024-01-07T17:53:13.280Z"
   },
   {
    "duration": 4,
    "start_time": "2024-01-07T17:53:25.421Z"
   },
   {
    "duration": 8,
    "start_time": "2024-01-07T17:53:25.426Z"
   },
   {
    "duration": 1095,
    "start_time": "2024-01-07T18:09:21.829Z"
   },
   {
    "duration": 47,
    "start_time": "2024-01-07T18:09:22.926Z"
   },
   {
    "duration": 15,
    "start_time": "2024-01-07T18:09:22.975Z"
   },
   {
    "duration": 11,
    "start_time": "2024-01-07T18:09:22.992Z"
   },
   {
    "duration": 23,
    "start_time": "2024-01-07T18:09:23.004Z"
   },
   {
    "duration": 18,
    "start_time": "2024-01-07T18:09:23.028Z"
   },
   {
    "duration": 14,
    "start_time": "2024-01-07T18:09:23.048Z"
   },
   {
    "duration": 9,
    "start_time": "2024-01-07T18:09:23.064Z"
   },
   {
    "duration": 56,
    "start_time": "2024-01-07T18:09:23.075Z"
   },
   {
    "duration": 25,
    "start_time": "2024-01-07T18:09:23.134Z"
   },
   {
    "duration": 13,
    "start_time": "2024-01-07T18:09:23.161Z"
   },
   {
    "duration": 12,
    "start_time": "2024-01-07T18:09:23.176Z"
   },
   {
    "duration": 36,
    "start_time": "2024-01-07T18:09:23.190Z"
   },
   {
    "duration": 15,
    "start_time": "2024-01-07T18:09:23.228Z"
   },
   {
    "duration": 17,
    "start_time": "2024-01-07T18:09:23.244Z"
   },
   {
    "duration": 3,
    "start_time": "2024-01-07T18:09:23.262Z"
   },
   {
    "duration": 10,
    "start_time": "2024-01-07T18:09:23.266Z"
   },
   {
    "duration": 28,
    "start_time": "2024-01-07T18:09:23.277Z"
   },
   {
    "duration": 7,
    "start_time": "2024-01-07T18:09:23.307Z"
   },
   {
    "duration": 10,
    "start_time": "2024-01-07T18:09:23.316Z"
   },
   {
    "duration": 8,
    "start_time": "2024-01-07T18:09:23.328Z"
   },
   {
    "duration": 25,
    "start_time": "2024-01-07T18:09:23.337Z"
   },
   {
    "duration": 13,
    "start_time": "2024-01-07T18:09:23.363Z"
   },
   {
    "duration": 18,
    "start_time": "2024-01-07T18:09:23.377Z"
   },
   {
    "duration": 45,
    "start_time": "2024-01-07T18:09:23.396Z"
   },
   {
    "duration": 20,
    "start_time": "2024-01-07T18:09:23.443Z"
   },
   {
    "duration": 10,
    "start_time": "2024-01-07T18:09:23.465Z"
   },
   {
    "duration": 9,
    "start_time": "2024-01-07T18:09:23.479Z"
   },
   {
    "duration": 4,
    "start_time": "2024-01-07T18:09:23.490Z"
   },
   {
    "duration": 8,
    "start_time": "2024-01-07T18:09:23.510Z"
   },
   {
    "duration": 20,
    "start_time": "2024-01-07T18:09:23.519Z"
   },
   {
    "duration": 26,
    "start_time": "2024-01-07T18:09:23.540Z"
   },
   {
    "duration": 12,
    "start_time": "2024-01-07T18:09:23.568Z"
   },
   {
    "duration": 14,
    "start_time": "2024-01-07T18:09:23.582Z"
   },
   {
    "duration": 28,
    "start_time": "2024-01-07T18:09:23.597Z"
   },
   {
    "duration": 3,
    "start_time": "2024-01-07T18:09:23.626Z"
   },
   {
    "duration": 19,
    "start_time": "2024-01-07T18:09:23.630Z"
   },
   {
    "duration": 19,
    "start_time": "2024-01-07T18:09:23.650Z"
   },
   {
    "duration": 18,
    "start_time": "2024-01-07T18:09:23.670Z"
   },
   {
    "duration": 13,
    "start_time": "2024-01-07T18:09:23.690Z"
   },
   {
    "duration": 18,
    "start_time": "2024-01-07T18:09:23.704Z"
   },
   {
    "duration": 9,
    "start_time": "2024-01-07T18:09:23.724Z"
   },
   {
    "duration": 5,
    "start_time": "2024-01-07T18:09:23.734Z"
   },
   {
    "duration": 13,
    "start_time": "2024-01-07T18:09:23.741Z"
   },
   {
    "duration": 70,
    "start_time": "2024-01-07T18:09:23.756Z"
   },
   {
    "duration": 7,
    "start_time": "2024-01-07T18:09:23.828Z"
   },
   {
    "duration": 14,
    "start_time": "2024-01-07T18:09:23.836Z"
   },
   {
    "duration": 26,
    "start_time": "2024-01-07T18:09:23.852Z"
   },
   {
    "duration": 19,
    "start_time": "2024-01-07T18:09:23.880Z"
   },
   {
    "duration": 15,
    "start_time": "2024-01-07T18:09:23.900Z"
   },
   {
    "duration": 10,
    "start_time": "2024-01-07T18:09:23.917Z"
   },
   {
    "duration": 22,
    "start_time": "2024-01-07T18:09:23.928Z"
   },
   {
    "duration": 7,
    "start_time": "2024-01-07T18:09:23.952Z"
   },
   {
    "duration": 19,
    "start_time": "2024-01-07T18:09:23.960Z"
   },
   {
    "duration": 5,
    "start_time": "2024-01-07T18:09:23.981Z"
   },
   {
    "duration": 14,
    "start_time": "2024-01-07T18:09:23.988Z"
   },
   {
    "duration": 20,
    "start_time": "2024-01-07T18:09:24.003Z"
   },
   {
    "duration": 20,
    "start_time": "2024-01-07T18:09:24.025Z"
   },
   {
    "duration": 18,
    "start_time": "2024-01-07T18:09:24.046Z"
   },
   {
    "duration": 21,
    "start_time": "2024-01-07T18:09:24.066Z"
   },
   {
    "duration": 24,
    "start_time": "2024-01-07T18:09:24.088Z"
   },
   {
    "duration": 16,
    "start_time": "2024-01-07T18:09:24.113Z"
   },
   {
    "duration": 16,
    "start_time": "2024-01-07T18:09:24.131Z"
   },
   {
    "duration": 4,
    "start_time": "2024-01-07T18:09:24.148Z"
   },
   {
    "duration": 18,
    "start_time": "2024-01-07T18:09:24.154Z"
   },
   {
    "duration": 28,
    "start_time": "2024-01-07T18:09:24.174Z"
   },
   {
    "duration": 4,
    "start_time": "2024-01-07T18:09:24.204Z"
   },
   {
    "duration": 34,
    "start_time": "2024-01-07T18:09:24.209Z"
   },
   {
    "duration": 11,
    "start_time": "2024-01-07T18:09:24.244Z"
   },
   {
    "duration": 5,
    "start_time": "2024-01-07T18:09:24.256Z"
   },
   {
    "duration": 14,
    "start_time": "2024-01-07T18:09:24.262Z"
   },
   {
    "duration": 24,
    "start_time": "2024-01-07T18:09:24.277Z"
   },
   {
    "duration": 32,
    "start_time": "2024-01-07T18:09:24.303Z"
   },
   {
    "duration": 4,
    "start_time": "2024-01-07T18:09:24.337Z"
   },
   {
    "duration": 28,
    "start_time": "2024-01-07T18:09:24.342Z"
   },
   {
    "duration": 5,
    "start_time": "2024-01-07T18:09:24.372Z"
   },
   {
    "duration": 18,
    "start_time": "2024-01-07T18:09:24.379Z"
   },
   {
    "duration": 9,
    "start_time": "2024-01-07T18:09:24.399Z"
   },
   {
    "duration": 3,
    "start_time": "2024-01-07T18:09:24.410Z"
   },
   {
    "duration": 6,
    "start_time": "2024-01-07T18:09:24.414Z"
   },
   {
    "duration": 5,
    "start_time": "2024-01-07T18:09:24.422Z"
   },
   {
    "duration": 99,
    "start_time": "2024-01-07T18:09:24.432Z"
   },
   {
    "duration": 5,
    "start_time": "2024-01-07T18:09:24.532Z"
   },
   {
    "duration": 1091,
    "start_time": "2024-01-07T18:13:59.248Z"
   },
   {
    "duration": 47,
    "start_time": "2024-01-07T18:14:00.341Z"
   },
   {
    "duration": 15,
    "start_time": "2024-01-07T18:14:00.390Z"
   },
   {
    "duration": 26,
    "start_time": "2024-01-07T18:14:00.406Z"
   },
   {
    "duration": 34,
    "start_time": "2024-01-07T18:14:00.434Z"
   },
   {
    "duration": 39,
    "start_time": "2024-01-07T18:14:00.470Z"
   },
   {
    "duration": 19,
    "start_time": "2024-01-07T18:14:00.510Z"
   },
   {
    "duration": 56,
    "start_time": "2024-01-07T18:14:00.531Z"
   },
   {
    "duration": 73,
    "start_time": "2024-01-07T18:14:00.588Z"
   },
   {
    "duration": 25,
    "start_time": "2024-01-07T18:14:00.664Z"
   },
   {
    "duration": 26,
    "start_time": "2024-01-07T18:14:00.690Z"
   },
   {
    "duration": 39,
    "start_time": "2024-01-07T18:14:00.717Z"
   },
   {
    "duration": 57,
    "start_time": "2024-01-07T18:14:00.758Z"
   },
   {
    "duration": 7,
    "start_time": "2024-01-07T18:14:00.816Z"
   },
   {
    "duration": 30,
    "start_time": "2024-01-07T18:14:00.825Z"
   },
   {
    "duration": 38,
    "start_time": "2024-01-07T18:14:00.857Z"
   },
   {
    "duration": 25,
    "start_time": "2024-01-07T18:14:00.897Z"
   },
   {
    "duration": 42,
    "start_time": "2024-01-07T18:14:00.924Z"
   },
   {
    "duration": 8,
    "start_time": "2024-01-07T18:14:00.968Z"
   },
   {
    "duration": 32,
    "start_time": "2024-01-07T18:14:00.977Z"
   },
   {
    "duration": 31,
    "start_time": "2024-01-07T18:14:01.010Z"
   },
   {
    "duration": 34,
    "start_time": "2024-01-07T18:14:01.043Z"
   },
   {
    "duration": 18,
    "start_time": "2024-01-07T18:14:01.078Z"
   },
   {
    "duration": 23,
    "start_time": "2024-01-07T18:14:01.098Z"
   },
   {
    "duration": 55,
    "start_time": "2024-01-07T18:14:01.123Z"
   },
   {
    "duration": 21,
    "start_time": "2024-01-07T18:14:01.180Z"
   },
   {
    "duration": 15,
    "start_time": "2024-01-07T18:14:01.202Z"
   },
   {
    "duration": 42,
    "start_time": "2024-01-07T18:14:01.224Z"
   },
   {
    "duration": 17,
    "start_time": "2024-01-07T18:14:01.268Z"
   },
   {
    "duration": 68,
    "start_time": "2024-01-07T18:14:01.287Z"
   },
   {
    "duration": 10,
    "start_time": "2024-01-07T18:14:01.356Z"
   },
   {
    "duration": 28,
    "start_time": "2024-01-07T18:14:01.368Z"
   },
   {
    "duration": 17,
    "start_time": "2024-01-07T18:14:01.397Z"
   },
   {
    "duration": 20,
    "start_time": "2024-01-07T18:14:01.416Z"
   },
   {
    "duration": 34,
    "start_time": "2024-01-07T18:14:01.437Z"
   },
   {
    "duration": 16,
    "start_time": "2024-01-07T18:14:01.473Z"
   },
   {
    "duration": 29,
    "start_time": "2024-01-07T18:14:01.490Z"
   },
   {
    "duration": 21,
    "start_time": "2024-01-07T18:14:01.520Z"
   },
   {
    "duration": 13,
    "start_time": "2024-01-07T18:14:01.542Z"
   },
   {
    "duration": 11,
    "start_time": "2024-01-07T18:14:01.556Z"
   },
   {
    "duration": 34,
    "start_time": "2024-01-07T18:14:01.568Z"
   },
   {
    "duration": 26,
    "start_time": "2024-01-07T18:14:01.604Z"
   },
   {
    "duration": 6,
    "start_time": "2024-01-07T18:14:01.632Z"
   },
   {
    "duration": 32,
    "start_time": "2024-01-07T18:14:01.640Z"
   },
   {
    "duration": 25,
    "start_time": "2024-01-07T18:14:01.673Z"
   },
   {
    "duration": 34,
    "start_time": "2024-01-07T18:14:01.699Z"
   },
   {
    "duration": 20,
    "start_time": "2024-01-07T18:14:01.734Z"
   },
   {
    "duration": 34,
    "start_time": "2024-01-07T18:14:01.755Z"
   },
   {
    "duration": 19,
    "start_time": "2024-01-07T18:14:01.791Z"
   },
   {
    "duration": 21,
    "start_time": "2024-01-07T18:14:01.812Z"
   },
   {
    "duration": 19,
    "start_time": "2024-01-07T18:14:01.834Z"
   },
   {
    "duration": 15,
    "start_time": "2024-01-07T18:14:01.855Z"
   },
   {
    "duration": 28,
    "start_time": "2024-01-07T18:14:01.871Z"
   },
   {
    "duration": 25,
    "start_time": "2024-01-07T18:14:01.900Z"
   },
   {
    "duration": 47,
    "start_time": "2024-01-07T18:14:01.927Z"
   },
   {
    "duration": 37,
    "start_time": "2024-01-07T18:14:01.976Z"
   },
   {
    "duration": 22,
    "start_time": "2024-01-07T18:14:02.014Z"
   },
   {
    "duration": 15,
    "start_time": "2024-01-07T18:14:02.037Z"
   },
   {
    "duration": 31,
    "start_time": "2024-01-07T18:14:02.053Z"
   },
   {
    "duration": 8,
    "start_time": "2024-01-07T18:14:02.086Z"
   },
   {
    "duration": 14,
    "start_time": "2024-01-07T18:14:02.096Z"
   },
   {
    "duration": 5,
    "start_time": "2024-01-07T18:14:02.112Z"
   },
   {
    "duration": 10,
    "start_time": "2024-01-07T18:14:02.119Z"
   },
   {
    "duration": 4,
    "start_time": "2024-01-07T18:14:02.131Z"
   },
   {
    "duration": 34,
    "start_time": "2024-01-07T18:14:02.136Z"
   },
   {
    "duration": 23,
    "start_time": "2024-01-07T18:14:02.171Z"
   },
   {
    "duration": 4,
    "start_time": "2024-01-07T18:14:02.196Z"
   },
   {
    "duration": 18,
    "start_time": "2024-01-07T18:14:02.201Z"
   },
   {
    "duration": 10,
    "start_time": "2024-01-07T18:14:02.221Z"
   },
   {
    "duration": 5,
    "start_time": "2024-01-07T18:14:02.233Z"
   },
   {
    "duration": 7,
    "start_time": "2024-01-07T18:14:02.239Z"
   },
   {
    "duration": 27,
    "start_time": "2024-01-07T18:14:02.247Z"
   },
   {
    "duration": 34,
    "start_time": "2024-01-07T18:14:02.276Z"
   },
   {
    "duration": 3,
    "start_time": "2024-01-07T18:14:02.312Z"
   },
   {
    "duration": 18,
    "start_time": "2024-01-07T18:14:02.316Z"
   },
   {
    "duration": 4,
    "start_time": "2024-01-07T18:14:02.336Z"
   },
   {
    "duration": 5,
    "start_time": "2024-01-07T18:14:02.341Z"
   },
   {
    "duration": 9,
    "start_time": "2024-01-07T18:14:02.348Z"
   },
   {
    "duration": 5,
    "start_time": "2024-01-07T18:14:02.358Z"
   },
   {
    "duration": 9,
    "start_time": "2024-01-07T18:14:02.364Z"
   },
   {
    "duration": 6,
    "start_time": "2024-01-07T18:14:02.374Z"
   },
   {
    "duration": 113,
    "start_time": "2024-01-07T18:14:02.412Z"
   },
   {
    "duration": 4,
    "start_time": "2024-01-07T18:14:02.526Z"
   },
   {
    "duration": 1089,
    "start_time": "2024-01-07T18:16:31.461Z"
   },
   {
    "duration": 47,
    "start_time": "2024-01-07T18:16:32.551Z"
   },
   {
    "duration": 16,
    "start_time": "2024-01-07T18:16:32.599Z"
   },
   {
    "duration": 13,
    "start_time": "2024-01-07T18:16:32.617Z"
   },
   {
    "duration": 16,
    "start_time": "2024-01-07T18:16:32.632Z"
   },
   {
    "duration": 18,
    "start_time": "2024-01-07T18:16:32.649Z"
   },
   {
    "duration": 14,
    "start_time": "2024-01-07T18:16:32.669Z"
   },
   {
    "duration": 17,
    "start_time": "2024-01-07T18:16:32.684Z"
   },
   {
    "duration": 46,
    "start_time": "2024-01-07T18:16:32.711Z"
   },
   {
    "duration": 24,
    "start_time": "2024-01-07T18:16:32.761Z"
   },
   {
    "duration": 12,
    "start_time": "2024-01-07T18:16:32.786Z"
   },
   {
    "duration": 12,
    "start_time": "2024-01-07T18:16:32.810Z"
   },
   {
    "duration": 38,
    "start_time": "2024-01-07T18:16:32.823Z"
   },
   {
    "duration": 6,
    "start_time": "2024-01-07T18:16:32.862Z"
   },
   {
    "duration": 11,
    "start_time": "2024-01-07T18:16:32.869Z"
   },
   {
    "duration": 4,
    "start_time": "2024-01-07T18:16:32.881Z"
   },
   {
    "duration": 9,
    "start_time": "2024-01-07T18:16:32.886Z"
   },
   {
    "duration": 27,
    "start_time": "2024-01-07T18:16:32.896Z"
   },
   {
    "duration": 7,
    "start_time": "2024-01-07T18:16:32.925Z"
   },
   {
    "duration": 11,
    "start_time": "2024-01-07T18:16:32.933Z"
   },
   {
    "duration": 10,
    "start_time": "2024-01-07T18:16:32.945Z"
   },
   {
    "duration": 20,
    "start_time": "2024-01-07T18:16:32.956Z"
   },
   {
    "duration": 10,
    "start_time": "2024-01-07T18:16:32.977Z"
   },
   {
    "duration": 23,
    "start_time": "2024-01-07T18:16:32.989Z"
   },
   {
    "duration": 31,
    "start_time": "2024-01-07T18:16:33.013Z"
   },
   {
    "duration": 19,
    "start_time": "2024-01-07T18:16:33.046Z"
   },
   {
    "duration": 9,
    "start_time": "2024-01-07T18:16:33.067Z"
   },
   {
    "duration": 10,
    "start_time": "2024-01-07T18:16:33.081Z"
   },
   {
    "duration": 9,
    "start_time": "2024-01-07T18:16:33.092Z"
   },
   {
    "duration": 57,
    "start_time": "2024-01-07T18:16:33.111Z"
   },
   {
    "duration": 10,
    "start_time": "2024-01-07T18:16:33.170Z"
   },
   {
    "duration": 14,
    "start_time": "2024-01-07T18:16:33.181Z"
   },
   {
    "duration": 9,
    "start_time": "2024-01-07T18:16:33.210Z"
   },
   {
    "duration": 8,
    "start_time": "2024-01-07T18:16:33.221Z"
   },
   {
    "duration": 11,
    "start_time": "2024-01-07T18:16:33.230Z"
   },
   {
    "duration": 3,
    "start_time": "2024-01-07T18:16:33.242Z"
   },
   {
    "duration": 10,
    "start_time": "2024-01-07T18:16:33.246Z"
   },
   {
    "duration": 14,
    "start_time": "2024-01-07T18:16:33.257Z"
   },
   {
    "duration": 41,
    "start_time": "2024-01-07T18:16:33.272Z"
   },
   {
    "duration": 2,
    "start_time": "2024-01-07T18:16:33.315Z"
   },
   {
    "duration": 10,
    "start_time": "2024-01-07T18:16:33.319Z"
   },
   {
    "duration": 12,
    "start_time": "2024-01-07T18:16:33.331Z"
   },
   {
    "duration": 5,
    "start_time": "2024-01-07T18:16:33.345Z"
   },
   {
    "duration": 8,
    "start_time": "2024-01-07T18:16:33.352Z"
   },
   {
    "duration": 11,
    "start_time": "2024-01-07T18:16:33.361Z"
   },
   {
    "duration": 7,
    "start_time": "2024-01-07T18:16:33.373Z"
   },
   {
    "duration": 36,
    "start_time": "2024-01-07T18:16:33.381Z"
   },
   {
    "duration": 12,
    "start_time": "2024-01-07T18:16:33.418Z"
   },
   {
    "duration": 26,
    "start_time": "2024-01-07T18:16:33.432Z"
   },
   {
    "duration": 13,
    "start_time": "2024-01-07T18:16:33.460Z"
   },
   {
    "duration": 10,
    "start_time": "2024-01-07T18:16:33.474Z"
   },
   {
    "duration": 4,
    "start_time": "2024-01-07T18:16:33.486Z"
   },
   {
    "duration": 20,
    "start_time": "2024-01-07T18:16:33.491Z"
   },
   {
    "duration": 3,
    "start_time": "2024-01-07T18:16:33.513Z"
   },
   {
    "duration": 4,
    "start_time": "2024-01-07T18:16:33.517Z"
   },
   {
    "duration": 12,
    "start_time": "2024-01-07T18:16:33.523Z"
   },
   {
    "duration": 11,
    "start_time": "2024-01-07T18:16:33.536Z"
   },
   {
    "duration": 7,
    "start_time": "2024-01-07T18:16:33.548Z"
   },
   {
    "duration": 13,
    "start_time": "2024-01-07T18:16:33.557Z"
   },
   {
    "duration": 5,
    "start_time": "2024-01-07T18:16:33.572Z"
   },
   {
    "duration": 35,
    "start_time": "2024-01-07T18:16:33.579Z"
   },
   {
    "duration": 6,
    "start_time": "2024-01-07T18:16:33.616Z"
   },
   {
    "duration": 30,
    "start_time": "2024-01-07T18:16:33.623Z"
   },
   {
    "duration": 5,
    "start_time": "2024-01-07T18:16:33.655Z"
   },
   {
    "duration": 11,
    "start_time": "2024-01-07T18:16:33.662Z"
   },
   {
    "duration": 17,
    "start_time": "2024-01-07T18:16:33.674Z"
   },
   {
    "duration": 4,
    "start_time": "2024-01-07T18:16:33.693Z"
   },
   {
    "duration": 7,
    "start_time": "2024-01-07T18:16:33.710Z"
   },
   {
    "duration": 11,
    "start_time": "2024-01-07T18:16:33.719Z"
   },
   {
    "duration": 19,
    "start_time": "2024-01-07T18:16:33.732Z"
   },
   {
    "duration": 8,
    "start_time": "2024-01-07T18:16:33.753Z"
   },
   {
    "duration": 23,
    "start_time": "2024-01-07T18:16:33.762Z"
   },
   {
    "duration": 27,
    "start_time": "2024-01-07T18:16:33.787Z"
   },
   {
    "duration": 3,
    "start_time": "2024-01-07T18:16:33.816Z"
   },
   {
    "duration": 27,
    "start_time": "2024-01-07T18:16:33.820Z"
   },
   {
    "duration": 5,
    "start_time": "2024-01-07T18:16:33.848Z"
   },
   {
    "duration": 5,
    "start_time": "2024-01-07T18:16:33.854Z"
   },
   {
    "duration": 5,
    "start_time": "2024-01-07T18:16:33.860Z"
   },
   {
    "duration": 6,
    "start_time": "2024-01-07T18:16:33.866Z"
   },
   {
    "duration": 4,
    "start_time": "2024-01-07T18:16:33.873Z"
   },
   {
    "duration": 4,
    "start_time": "2024-01-07T18:16:33.878Z"
   },
   {
    "duration": 105,
    "start_time": "2024-01-07T18:16:33.911Z"
   },
   {
    "duration": 3,
    "start_time": "2024-01-07T18:16:34.017Z"
   },
   {
    "duration": 1066,
    "start_time": "2024-01-07T18:17:28.060Z"
   },
   {
    "duration": 48,
    "start_time": "2024-01-07T18:17:29.128Z"
   },
   {
    "duration": 15,
    "start_time": "2024-01-07T18:17:29.178Z"
   },
   {
    "duration": 11,
    "start_time": "2024-01-07T18:17:29.195Z"
   },
   {
    "duration": 16,
    "start_time": "2024-01-07T18:17:29.208Z"
   },
   {
    "duration": 18,
    "start_time": "2024-01-07T18:17:29.226Z"
   },
   {
    "duration": 14,
    "start_time": "2024-01-07T18:17:29.245Z"
   },
   {
    "duration": 11,
    "start_time": "2024-01-07T18:17:29.260Z"
   },
   {
    "duration": 57,
    "start_time": "2024-01-07T18:17:29.272Z"
   },
   {
    "duration": 23,
    "start_time": "2024-01-07T18:17:29.332Z"
   },
   {
    "duration": 12,
    "start_time": "2024-01-07T18:17:29.357Z"
   },
   {
    "duration": 12,
    "start_time": "2024-01-07T18:17:29.370Z"
   },
   {
    "duration": 35,
    "start_time": "2024-01-07T18:17:29.383Z"
   },
   {
    "duration": 6,
    "start_time": "2024-01-07T18:17:29.420Z"
   },
   {
    "duration": 10,
    "start_time": "2024-01-07T18:17:29.428Z"
   },
   {
    "duration": 3,
    "start_time": "2024-01-07T18:17:29.440Z"
   },
   {
    "duration": 9,
    "start_time": "2024-01-07T18:17:29.445Z"
   },
   {
    "duration": 28,
    "start_time": "2024-01-07T18:17:29.455Z"
   },
   {
    "duration": 7,
    "start_time": "2024-01-07T18:17:29.484Z"
   },
   {
    "duration": 11,
    "start_time": "2024-01-07T18:17:29.511Z"
   },
   {
    "duration": 8,
    "start_time": "2024-01-07T18:17:29.523Z"
   },
   {
    "duration": 16,
    "start_time": "2024-01-07T18:17:29.532Z"
   },
   {
    "duration": 14,
    "start_time": "2024-01-07T18:17:29.549Z"
   },
   {
    "duration": 13,
    "start_time": "2024-01-07T18:17:29.564Z"
   },
   {
    "duration": 60,
    "start_time": "2024-01-07T18:17:29.578Z"
   },
   {
    "duration": 22,
    "start_time": "2024-01-07T18:17:29.640Z"
   },
   {
    "duration": 10,
    "start_time": "2024-01-07T18:17:29.663Z"
   },
   {
    "duration": 10,
    "start_time": "2024-01-07T18:17:29.679Z"
   },
   {
    "duration": 30,
    "start_time": "2024-01-07T18:17:29.691Z"
   },
   {
    "duration": 59,
    "start_time": "2024-01-07T18:17:29.723Z"
   },
   {
    "duration": 10,
    "start_time": "2024-01-07T18:17:29.783Z"
   },
   {
    "duration": 13,
    "start_time": "2024-01-07T18:17:29.794Z"
   },
   {
    "duration": 9,
    "start_time": "2024-01-07T18:17:29.808Z"
   },
   {
    "duration": 9,
    "start_time": "2024-01-07T18:17:29.818Z"
   },
   {
    "duration": 10,
    "start_time": "2024-01-07T18:17:29.828Z"
   },
   {
    "duration": 3,
    "start_time": "2024-01-07T18:17:29.839Z"
   },
   {
    "duration": 12,
    "start_time": "2024-01-07T18:17:29.844Z"
   },
   {
    "duration": 12,
    "start_time": "2024-01-07T18:17:29.857Z"
   },
   {
    "duration": 13,
    "start_time": "2024-01-07T18:17:29.871Z"
   },
   {
    "duration": 26,
    "start_time": "2024-01-07T18:17:29.885Z"
   },
   {
    "duration": 7,
    "start_time": "2024-01-07T18:17:29.912Z"
   },
   {
    "duration": 11,
    "start_time": "2024-01-07T18:17:29.920Z"
   },
   {
    "duration": 5,
    "start_time": "2024-01-07T18:17:29.932Z"
   },
   {
    "duration": 9,
    "start_time": "2024-01-07T18:17:29.939Z"
   },
   {
    "duration": 11,
    "start_time": "2024-01-07T18:17:29.950Z"
   },
   {
    "duration": 7,
    "start_time": "2024-01-07T18:17:29.963Z"
   },
   {
    "duration": 44,
    "start_time": "2024-01-07T18:17:29.972Z"
   },
   {
    "duration": 57,
    "start_time": "2024-01-07T18:17:30.018Z"
   },
   {
    "duration": 52,
    "start_time": "2024-01-07T18:17:30.076Z"
   },
   {
    "duration": 45,
    "start_time": "2024-01-07T18:17:30.130Z"
   },
   {
    "duration": 42,
    "start_time": "2024-01-07T18:17:30.177Z"
   },
   {
    "duration": 44,
    "start_time": "2024-01-07T18:17:30.221Z"
   },
   {
    "duration": 47,
    "start_time": "2024-01-07T18:17:30.266Z"
   },
   {
    "duration": 37,
    "start_time": "2024-01-07T18:17:30.315Z"
   },
   {
    "duration": 39,
    "start_time": "2024-01-07T18:17:30.353Z"
   },
   {
    "duration": 53,
    "start_time": "2024-01-07T18:17:30.394Z"
   },
   {
    "duration": 33,
    "start_time": "2024-01-07T18:17:30.449Z"
   },
   {
    "duration": 25,
    "start_time": "2024-01-07T18:17:30.483Z"
   },
   {
    "duration": 52,
    "start_time": "2024-01-07T18:17:30.510Z"
   },
   {
    "duration": 39,
    "start_time": "2024-01-07T18:17:30.563Z"
   },
   {
    "duration": 53,
    "start_time": "2024-01-07T18:17:30.604Z"
   },
   {
    "duration": 34,
    "start_time": "2024-01-07T18:17:30.659Z"
   },
   {
    "duration": 47,
    "start_time": "2024-01-07T18:17:30.694Z"
   },
   {
    "duration": 22,
    "start_time": "2024-01-07T18:17:30.743Z"
   },
   {
    "duration": 29,
    "start_time": "2024-01-07T18:17:30.767Z"
   },
   {
    "duration": 74,
    "start_time": "2024-01-07T18:17:30.797Z"
   },
   {
    "duration": 11,
    "start_time": "2024-01-07T18:17:30.873Z"
   },
   {
    "duration": 34,
    "start_time": "2024-01-07T18:17:30.885Z"
   },
   {
    "duration": 42,
    "start_time": "2024-01-07T18:17:30.920Z"
   },
   {
    "duration": 36,
    "start_time": "2024-01-07T18:17:30.964Z"
   },
   {
    "duration": 31,
    "start_time": "2024-01-07T18:17:31.002Z"
   },
   {
    "duration": 38,
    "start_time": "2024-01-07T18:17:31.035Z"
   },
   {
    "duration": 34,
    "start_time": "2024-01-07T18:17:31.074Z"
   },
   {
    "duration": 5,
    "start_time": "2024-01-07T18:17:31.109Z"
   },
   {
    "duration": 30,
    "start_time": "2024-01-07T18:17:31.115Z"
   },
   {
    "duration": 26,
    "start_time": "2024-01-07T18:17:31.147Z"
   },
   {
    "duration": 23,
    "start_time": "2024-01-07T18:17:31.175Z"
   },
   {
    "duration": 19,
    "start_time": "2024-01-07T18:17:31.199Z"
   },
   {
    "duration": 31,
    "start_time": "2024-01-07T18:17:31.220Z"
   },
   {
    "duration": 46,
    "start_time": "2024-01-07T18:17:31.252Z"
   },
   {
    "duration": 28,
    "start_time": "2024-01-07T18:17:31.299Z"
   },
   {
    "duration": 80,
    "start_time": "2024-01-07T18:17:31.332Z"
   },
   {
    "duration": 4,
    "start_time": "2024-01-07T18:17:31.413Z"
   },
   {
    "duration": 49029,
    "start_time": "2024-01-07T18:17:31.418Z"
   },
   {
    "duration": 3,
    "start_time": "2024-01-07T18:18:20.449Z"
   },
   {
    "duration": 6,
    "start_time": "2024-01-07T18:18:20.453Z"
   },
   {
    "duration": 12871,
    "start_time": "2024-01-07T18:18:20.460Z"
   },
   {
    "duration": 4,
    "start_time": "2024-01-07T18:18:33.332Z"
   },
   {
    "duration": 11,
    "start_time": "2024-01-07T18:18:33.337Z"
   },
   {
    "duration": 89,
    "start_time": "2024-01-07T18:19:12.619Z"
   },
   {
    "duration": 3,
    "start_time": "2024-01-07T18:21:30.694Z"
   },
   {
    "duration": 4,
    "start_time": "2024-01-07T18:21:52.405Z"
   },
   {
    "duration": 3,
    "start_time": "2024-01-07T18:21:55.989Z"
   },
   {
    "duration": 3,
    "start_time": "2024-01-07T18:21:57.349Z"
   },
   {
    "duration": 1204,
    "start_time": "2024-01-07T18:22:01.957Z"
   },
   {
    "duration": 47,
    "start_time": "2024-01-07T18:22:03.163Z"
   },
   {
    "duration": 15,
    "start_time": "2024-01-07T18:22:03.212Z"
   },
   {
    "duration": 12,
    "start_time": "2024-01-07T18:22:03.229Z"
   },
   {
    "duration": 17,
    "start_time": "2024-01-07T18:22:03.243Z"
   },
   {
    "duration": 19,
    "start_time": "2024-01-07T18:22:03.261Z"
   },
   {
    "duration": 31,
    "start_time": "2024-01-07T18:22:03.281Z"
   },
   {
    "duration": 23,
    "start_time": "2024-01-07T18:22:03.314Z"
   },
   {
    "duration": 44,
    "start_time": "2024-01-07T18:22:03.339Z"
   },
   {
    "duration": 24,
    "start_time": "2024-01-07T18:22:03.385Z"
   },
   {
    "duration": 12,
    "start_time": "2024-01-07T18:22:03.410Z"
   },
   {
    "duration": 11,
    "start_time": "2024-01-07T18:22:03.423Z"
   },
   {
    "duration": 35,
    "start_time": "2024-01-07T18:22:03.435Z"
   },
   {
    "duration": 6,
    "start_time": "2024-01-07T18:22:03.471Z"
   },
   {
    "duration": 8,
    "start_time": "2024-01-07T18:22:03.478Z"
   },
   {
    "duration": 2,
    "start_time": "2024-01-07T18:22:03.488Z"
   },
   {
    "duration": 7,
    "start_time": "2024-01-07T18:22:03.491Z"
   },
   {
    "duration": 26,
    "start_time": "2024-01-07T18:22:03.499Z"
   },
   {
    "duration": 6,
    "start_time": "2024-01-07T18:22:03.526Z"
   },
   {
    "duration": 11,
    "start_time": "2024-01-07T18:22:03.533Z"
   },
   {
    "duration": 6,
    "start_time": "2024-01-07T18:22:03.545Z"
   },
   {
    "duration": 15,
    "start_time": "2024-01-07T18:22:03.553Z"
   },
   {
    "duration": 9,
    "start_time": "2024-01-07T18:22:03.570Z"
   },
   {
    "duration": 9,
    "start_time": "2024-01-07T18:22:03.580Z"
   },
   {
    "duration": 48,
    "start_time": "2024-01-07T18:22:03.591Z"
   },
   {
    "duration": 20,
    "start_time": "2024-01-07T18:22:03.641Z"
   },
   {
    "duration": 9,
    "start_time": "2024-01-07T18:22:03.663Z"
   },
   {
    "duration": 10,
    "start_time": "2024-01-07T18:22:03.676Z"
   },
   {
    "duration": 7,
    "start_time": "2024-01-07T18:22:03.688Z"
   },
   {
    "duration": 19,
    "start_time": "2024-01-07T18:22:03.697Z"
   },
   {
    "duration": 14,
    "start_time": "2024-01-07T18:22:03.717Z"
   },
   {
    "duration": 11,
    "start_time": "2024-01-07T18:22:03.733Z"
   },
   {
    "duration": 10,
    "start_time": "2024-01-07T18:22:03.746Z"
   },
   {
    "duration": 8,
    "start_time": "2024-01-07T18:22:03.758Z"
   },
   {
    "duration": 42,
    "start_time": "2024-01-07T18:22:03.768Z"
   },
   {
    "duration": 4,
    "start_time": "2024-01-07T18:22:03.812Z"
   },
   {
    "duration": 17,
    "start_time": "2024-01-07T18:22:03.818Z"
   },
   {
    "duration": 15,
    "start_time": "2024-01-07T18:22:03.836Z"
   },
   {
    "duration": 11,
    "start_time": "2024-01-07T18:22:03.852Z"
   },
   {
    "duration": 3,
    "start_time": "2024-01-07T18:22:03.864Z"
   },
   {
    "duration": 9,
    "start_time": "2024-01-07T18:22:03.868Z"
   },
   {
    "duration": 11,
    "start_time": "2024-01-07T18:22:03.878Z"
   },
   {
    "duration": 5,
    "start_time": "2024-01-07T18:22:03.911Z"
   },
   {
    "duration": 8,
    "start_time": "2024-01-07T18:22:03.918Z"
   },
   {
    "duration": 11,
    "start_time": "2024-01-07T18:22:03.928Z"
   },
   {
    "duration": 6,
    "start_time": "2024-01-07T18:22:03.940Z"
   },
   {
    "duration": 8,
    "start_time": "2024-01-07T18:22:03.947Z"
   },
   {
    "duration": 14,
    "start_time": "2024-01-07T18:22:03.956Z"
   },
   {
    "duration": 10,
    "start_time": "2024-01-07T18:22:03.971Z"
   },
   {
    "duration": 12,
    "start_time": "2024-01-07T18:22:04.011Z"
   },
   {
    "duration": 10,
    "start_time": "2024-01-07T18:22:04.024Z"
   },
   {
    "duration": 4,
    "start_time": "2024-01-07T18:22:04.035Z"
   },
   {
    "duration": 4,
    "start_time": "2024-01-07T18:22:04.041Z"
   },
   {
    "duration": 6,
    "start_time": "2024-01-07T18:22:04.046Z"
   },
   {
    "duration": 5,
    "start_time": "2024-01-07T18:22:04.053Z"
   },
   {
    "duration": 10,
    "start_time": "2024-01-07T18:22:04.060Z"
   },
   {
    "duration": 17,
    "start_time": "2024-01-07T18:22:04.071Z"
   },
   {
    "duration": 27,
    "start_time": "2024-01-07T18:22:04.090Z"
   },
   {
    "duration": 13,
    "start_time": "2024-01-07T18:22:04.118Z"
   },
   {
    "duration": 22,
    "start_time": "2024-01-07T18:22:04.133Z"
   },
   {
    "duration": 9,
    "start_time": "2024-01-07T18:22:04.157Z"
   },
   {
    "duration": 6,
    "start_time": "2024-01-07T18:22:04.168Z"
   },
   {
    "duration": 11,
    "start_time": "2024-01-07T18:22:04.175Z"
   },
   {
    "duration": 4,
    "start_time": "2024-01-07T18:22:04.187Z"
   },
   {
    "duration": 14,
    "start_time": "2024-01-07T18:22:04.193Z"
   },
   {
    "duration": 16,
    "start_time": "2024-01-07T18:22:04.211Z"
   },
   {
    "duration": 4,
    "start_time": "2024-01-07T18:22:04.228Z"
   },
   {
    "duration": 5,
    "start_time": "2024-01-07T18:22:04.233Z"
   },
   {
    "duration": 9,
    "start_time": "2024-01-07T18:22:04.240Z"
   },
   {
    "duration": 5,
    "start_time": "2024-01-07T18:22:04.250Z"
   },
   {
    "duration": 4,
    "start_time": "2024-01-07T18:22:04.256Z"
   },
   {
    "duration": 18,
    "start_time": "2024-01-07T18:22:04.262Z"
   },
   {
    "duration": 44,
    "start_time": "2024-01-07T18:22:04.281Z"
   },
   {
    "duration": 4,
    "start_time": "2024-01-07T18:22:04.326Z"
   },
   {
    "duration": 16,
    "start_time": "2024-01-07T18:22:04.331Z"
   },
   {
    "duration": 27,
    "start_time": "2024-01-07T18:22:04.349Z"
   },
   {
    "duration": 13,
    "start_time": "2024-01-07T18:22:04.377Z"
   },
   {
    "duration": 4,
    "start_time": "2024-01-07T18:22:04.391Z"
   },
   {
    "duration": 8,
    "start_time": "2024-01-07T18:22:04.396Z"
   },
   {
    "duration": 4,
    "start_time": "2024-01-07T18:22:04.405Z"
   },
   {
    "duration": 3,
    "start_time": "2024-01-07T18:22:04.411Z"
   },
   {
    "duration": 105,
    "start_time": "2024-01-07T18:22:04.419Z"
   },
   {
    "duration": 4,
    "start_time": "2024-01-07T18:22:04.526Z"
   },
   {
    "duration": 49264,
    "start_time": "2024-01-07T18:22:04.532Z"
   },
   {
    "duration": 4,
    "start_time": "2024-01-07T18:22:53.798Z"
   },
   {
    "duration": 10,
    "start_time": "2024-01-07T18:22:53.803Z"
   },
   {
    "duration": 12925,
    "start_time": "2024-01-07T18:22:53.815Z"
   },
   {
    "duration": 3,
    "start_time": "2024-01-07T18:23:06.742Z"
   },
   {
    "duration": 6,
    "start_time": "2024-01-07T18:23:06.746Z"
   },
   {
    "duration": 8,
    "start_time": "2024-01-07T18:23:06.753Z"
   },
   {
    "duration": 3,
    "start_time": "2024-01-07T18:23:18.790Z"
   },
   {
    "duration": 3,
    "start_time": "2024-01-07T18:23:24.998Z"
   },
   {
    "duration": 97,
    "start_time": "2024-01-07T18:25:07.344Z"
   },
   {
    "duration": 88,
    "start_time": "2024-01-07T18:25:14.559Z"
   },
   {
    "duration": 3,
    "start_time": "2024-01-07T18:25:16.968Z"
   },
   {
    "duration": 37777,
    "start_time": "2024-01-07T18:25:42.744Z"
   },
   {
    "duration": 13535,
    "start_time": "2024-01-07T18:26:20.523Z"
   },
   {
    "duration": 4,
    "start_time": "2024-01-07T18:26:35.480Z"
   },
   {
    "duration": 4,
    "start_time": "2024-01-07T18:26:47.569Z"
   },
   {
    "duration": 64,
    "start_time": "2024-01-07T18:28:40.234Z"
   },
   {
    "duration": 13,
    "start_time": "2024-01-07T18:28:51.866Z"
   },
   {
    "duration": 37447,
    "start_time": "2024-01-07T18:28:56.931Z"
   },
   {
    "duration": 4,
    "start_time": "2024-01-07T18:29:40.419Z"
   },
   {
    "duration": 3,
    "start_time": "2024-01-07T18:29:49.243Z"
   },
   {
    "duration": 7,
    "start_time": "2024-01-07T18:29:50.708Z"
   },
   {
    "duration": 3,
    "start_time": "2024-01-07T18:30:20.867Z"
   },
   {
    "duration": 64741,
    "start_time": "2024-01-07T18:30:22.276Z"
   },
   {
    "duration": 4,
    "start_time": "2024-01-07T18:31:29.060Z"
   },
   {
    "duration": 4,
    "start_time": "2024-01-07T18:31:32.956Z"
   },
   {
    "duration": 4,
    "start_time": "2024-01-07T18:31:35.788Z"
   },
   {
    "duration": 4,
    "start_time": "2024-01-07T18:34:43.862Z"
   },
   {
    "duration": 1203,
    "start_time": "2024-01-07T18:38:19.064Z"
   },
   {
    "duration": 47,
    "start_time": "2024-01-07T18:38:20.268Z"
   },
   {
    "duration": 14,
    "start_time": "2024-01-07T18:38:20.316Z"
   },
   {
    "duration": 11,
    "start_time": "2024-01-07T18:38:20.332Z"
   },
   {
    "duration": 21,
    "start_time": "2024-01-07T18:38:20.345Z"
   },
   {
    "duration": 19,
    "start_time": "2024-01-07T18:38:20.368Z"
   },
   {
    "duration": 29,
    "start_time": "2024-01-07T18:38:20.388Z"
   },
   {
    "duration": 10,
    "start_time": "2024-01-07T18:38:20.418Z"
   },
   {
    "duration": 49,
    "start_time": "2024-01-07T18:38:20.429Z"
   },
   {
    "duration": 37,
    "start_time": "2024-01-07T18:38:20.481Z"
   },
   {
    "duration": 13,
    "start_time": "2024-01-07T18:38:20.519Z"
   },
   {
    "duration": 12,
    "start_time": "2024-01-07T18:38:20.534Z"
   },
   {
    "duration": 36,
    "start_time": "2024-01-07T18:38:20.548Z"
   },
   {
    "duration": 7,
    "start_time": "2024-01-07T18:38:20.585Z"
   },
   {
    "duration": 10,
    "start_time": "2024-01-07T18:38:20.594Z"
   },
   {
    "duration": 7,
    "start_time": "2024-01-07T18:38:20.605Z"
   },
   {
    "duration": 8,
    "start_time": "2024-01-07T18:38:20.614Z"
   },
   {
    "duration": 28,
    "start_time": "2024-01-07T18:38:20.623Z"
   },
   {
    "duration": 8,
    "start_time": "2024-01-07T18:38:20.653Z"
   },
   {
    "duration": 11,
    "start_time": "2024-01-07T18:38:20.662Z"
   },
   {
    "duration": 8,
    "start_time": "2024-01-07T18:38:20.675Z"
   },
   {
    "duration": 16,
    "start_time": "2024-01-07T18:38:20.711Z"
   },
   {
    "duration": 11,
    "start_time": "2024-01-07T18:38:20.729Z"
   },
   {
    "duration": 10,
    "start_time": "2024-01-07T18:38:20.742Z"
   },
   {
    "duration": 33,
    "start_time": "2024-01-07T18:38:20.754Z"
   },
   {
    "duration": 29,
    "start_time": "2024-01-07T18:38:20.788Z"
   },
   {
    "duration": 9,
    "start_time": "2024-01-07T18:38:20.819Z"
   },
   {
    "duration": 10,
    "start_time": "2024-01-07T18:38:20.832Z"
   },
   {
    "duration": 3,
    "start_time": "2024-01-07T18:38:20.843Z"
   },
   {
    "duration": 12,
    "start_time": "2024-01-07T18:38:20.847Z"
   },
   {
    "duration": 13,
    "start_time": "2024-01-07T18:38:20.860Z"
   },
   {
    "duration": 9,
    "start_time": "2024-01-07T18:38:20.874Z"
   },
   {
    "duration": 33,
    "start_time": "2024-01-07T18:38:20.885Z"
   },
   {
    "duration": 9,
    "start_time": "2024-01-07T18:38:20.919Z"
   },
   {
    "duration": 19,
    "start_time": "2024-01-07T18:38:20.929Z"
   },
   {
    "duration": 5,
    "start_time": "2024-01-07T18:38:20.949Z"
   },
   {
    "duration": 11,
    "start_time": "2024-01-07T18:38:20.955Z"
   },
   {
    "duration": 13,
    "start_time": "2024-01-07T18:38:20.967Z"
   },
   {
    "duration": 13,
    "start_time": "2024-01-07T18:38:20.982Z"
   },
   {
    "duration": 3,
    "start_time": "2024-01-07T18:38:21.010Z"
   },
   {
    "duration": 8,
    "start_time": "2024-01-07T18:38:21.015Z"
   },
   {
    "duration": 12,
    "start_time": "2024-01-07T18:38:21.024Z"
   },
   {
    "duration": 6,
    "start_time": "2024-01-07T18:38:21.038Z"
   },
   {
    "duration": 10,
    "start_time": "2024-01-07T18:38:21.046Z"
   },
   {
    "duration": 13,
    "start_time": "2024-01-07T18:38:21.057Z"
   },
   {
    "duration": 45,
    "start_time": "2024-01-07T18:38:21.071Z"
   },
   {
    "duration": 10,
    "start_time": "2024-01-07T18:38:21.117Z"
   },
   {
    "duration": 13,
    "start_time": "2024-01-07T18:38:21.128Z"
   },
   {
    "duration": 10,
    "start_time": "2024-01-07T18:38:21.142Z"
   },
   {
    "duration": 12,
    "start_time": "2024-01-07T18:38:21.153Z"
   },
   {
    "duration": 9,
    "start_time": "2024-01-07T18:38:21.166Z"
   },
   {
    "duration": 3,
    "start_time": "2024-01-07T18:38:21.176Z"
   },
   {
    "duration": 33,
    "start_time": "2024-01-07T18:38:21.180Z"
   },
   {
    "duration": 4,
    "start_time": "2024-01-07T18:38:21.215Z"
   },
   {
    "duration": 4,
    "start_time": "2024-01-07T18:38:21.220Z"
   },
   {
    "duration": 9,
    "start_time": "2024-01-07T18:38:21.225Z"
   },
   {
    "duration": 13,
    "start_time": "2024-01-07T18:38:21.235Z"
   },
   {
    "duration": 7,
    "start_time": "2024-01-07T18:38:21.249Z"
   },
   {
    "duration": 9,
    "start_time": "2024-01-07T18:38:21.257Z"
   },
   {
    "duration": 3,
    "start_time": "2024-01-07T18:38:21.267Z"
   },
   {
    "duration": 43,
    "start_time": "2024-01-07T18:38:21.272Z"
   },
   {
    "duration": 6,
    "start_time": "2024-01-07T18:38:21.317Z"
   },
   {
    "duration": 10,
    "start_time": "2024-01-07T18:38:21.325Z"
   },
   {
    "duration": 4,
    "start_time": "2024-01-07T18:38:21.336Z"
   },
   {
    "duration": 9,
    "start_time": "2024-01-07T18:38:21.341Z"
   },
   {
    "duration": 18,
    "start_time": "2024-01-07T18:38:21.351Z"
   },
   {
    "duration": 4,
    "start_time": "2024-01-07T18:38:21.370Z"
   },
   {
    "duration": 39,
    "start_time": "2024-01-07T18:38:21.375Z"
   },
   {
    "duration": 10,
    "start_time": "2024-01-07T18:38:21.416Z"
   },
   {
    "duration": 4,
    "start_time": "2024-01-07T18:38:21.428Z"
   },
   {
    "duration": 3,
    "start_time": "2024-01-07T18:38:21.434Z"
   },
   {
    "duration": 15,
    "start_time": "2024-01-07T18:38:21.439Z"
   },
   {
    "duration": 24,
    "start_time": "2024-01-07T18:38:21.455Z"
   },
   {
    "duration": 4,
    "start_time": "2024-01-07T18:38:21.511Z"
   },
   {
    "duration": 15,
    "start_time": "2024-01-07T18:38:21.516Z"
   },
   {
    "duration": 5,
    "start_time": "2024-01-07T18:38:21.532Z"
   },
   {
    "duration": 4,
    "start_time": "2024-01-07T18:38:21.538Z"
   },
   {
    "duration": 4,
    "start_time": "2024-01-07T18:38:21.543Z"
   },
   {
    "duration": 4,
    "start_time": "2024-01-07T18:38:21.548Z"
   },
   {
    "duration": 3,
    "start_time": "2024-01-07T18:38:21.553Z"
   },
   {
    "duration": 4,
    "start_time": "2024-01-07T18:38:21.557Z"
   },
   {
    "duration": 151,
    "start_time": "2024-01-07T18:38:21.566Z"
   },
   {
    "duration": 4,
    "start_time": "2024-01-07T18:38:21.719Z"
   },
   {
    "duration": 49749,
    "start_time": "2024-01-07T18:38:21.725Z"
   },
   {
    "duration": 4,
    "start_time": "2024-01-07T18:39:11.475Z"
   },
   {
    "duration": 5,
    "start_time": "2024-01-07T18:39:11.480Z"
   },
   {
    "duration": 36392,
    "start_time": "2024-01-07T18:39:11.487Z"
   },
   {
    "duration": 4,
    "start_time": "2024-01-07T18:39:47.880Z"
   },
   {
    "duration": 5,
    "start_time": "2024-01-07T18:39:47.885Z"
   },
   {
    "duration": 1246,
    "start_time": "2024-01-07T18:41:04.724Z"
   },
   {
    "duration": 47,
    "start_time": "2024-01-07T18:41:05.972Z"
   },
   {
    "duration": 15,
    "start_time": "2024-01-07T18:41:06.021Z"
   },
   {
    "duration": 11,
    "start_time": "2024-01-07T18:41:06.038Z"
   },
   {
    "duration": 16,
    "start_time": "2024-01-07T18:41:06.051Z"
   },
   {
    "duration": 18,
    "start_time": "2024-01-07T18:41:06.068Z"
   },
   {
    "duration": 24,
    "start_time": "2024-01-07T18:41:06.088Z"
   },
   {
    "duration": 10,
    "start_time": "2024-01-07T18:41:06.114Z"
   },
   {
    "duration": 45,
    "start_time": "2024-01-07T18:41:06.125Z"
   },
   {
    "duration": 23,
    "start_time": "2024-01-07T18:41:06.173Z"
   },
   {
    "duration": 22,
    "start_time": "2024-01-07T18:41:06.198Z"
   },
   {
    "duration": 13,
    "start_time": "2024-01-07T18:41:06.221Z"
   },
   {
    "duration": 36,
    "start_time": "2024-01-07T18:41:06.236Z"
   },
   {
    "duration": 6,
    "start_time": "2024-01-07T18:41:06.273Z"
   },
   {
    "duration": 12,
    "start_time": "2024-01-07T18:41:06.281Z"
   },
   {
    "duration": 3,
    "start_time": "2024-01-07T18:41:06.295Z"
   },
   {
    "duration": 14,
    "start_time": "2024-01-07T18:41:06.299Z"
   },
   {
    "duration": 28,
    "start_time": "2024-01-07T18:41:06.314Z"
   },
   {
    "duration": 7,
    "start_time": "2024-01-07T18:41:06.343Z"
   },
   {
    "duration": 11,
    "start_time": "2024-01-07T18:41:06.352Z"
   },
   {
    "duration": 7,
    "start_time": "2024-01-07T18:41:06.364Z"
   },
   {
    "duration": 17,
    "start_time": "2024-01-07T18:41:06.373Z"
   },
   {
    "duration": 22,
    "start_time": "2024-01-07T18:41:06.392Z"
   },
   {
    "duration": 9,
    "start_time": "2024-01-07T18:41:06.416Z"
   },
   {
    "duration": 35,
    "start_time": "2024-01-07T18:41:06.427Z"
   },
   {
    "duration": 20,
    "start_time": "2024-01-07T18:41:06.463Z"
   },
   {
    "duration": 10,
    "start_time": "2024-01-07T18:41:06.485Z"
   },
   {
    "duration": 11,
    "start_time": "2024-01-07T18:41:06.515Z"
   },
   {
    "duration": 4,
    "start_time": "2024-01-07T18:41:06.528Z"
   },
   {
    "duration": 7,
    "start_time": "2024-01-07T18:41:06.534Z"
   },
   {
    "duration": 11,
    "start_time": "2024-01-07T18:41:06.542Z"
   },
   {
    "duration": 11,
    "start_time": "2024-01-07T18:41:06.554Z"
   },
   {
    "duration": 10,
    "start_time": "2024-01-07T18:41:06.566Z"
   },
   {
    "duration": 9,
    "start_time": "2024-01-07T18:41:06.611Z"
   },
   {
    "duration": 17,
    "start_time": "2024-01-07T18:41:06.622Z"
   },
   {
    "duration": 3,
    "start_time": "2024-01-07T18:41:06.641Z"
   },
   {
    "duration": 10,
    "start_time": "2024-01-07T18:41:06.646Z"
   },
   {
    "duration": 15,
    "start_time": "2024-01-07T18:41:06.657Z"
   },
   {
    "duration": 11,
    "start_time": "2024-01-07T18:41:06.673Z"
   },
   {
    "duration": 3,
    "start_time": "2024-01-07T18:41:06.711Z"
   },
   {
    "duration": 20,
    "start_time": "2024-01-07T18:41:06.716Z"
   },
   {
    "duration": 26,
    "start_time": "2024-01-07T18:41:06.737Z"
   },
   {
    "duration": 5,
    "start_time": "2024-01-07T18:41:06.764Z"
   },
   {
    "duration": 14,
    "start_time": "2024-01-07T18:41:06.770Z"
   },
   {
    "duration": 11,
    "start_time": "2024-01-07T18:41:06.786Z"
   },
   {
    "duration": 10,
    "start_time": "2024-01-07T18:41:06.799Z"
   },
   {
    "duration": 13,
    "start_time": "2024-01-07T18:41:06.810Z"
   },
   {
    "duration": 15,
    "start_time": "2024-01-07T18:41:06.824Z"
   },
   {
    "duration": 10,
    "start_time": "2024-01-07T18:41:06.841Z"
   },
   {
    "duration": 15,
    "start_time": "2024-01-07T18:41:06.852Z"
   },
   {
    "duration": 19,
    "start_time": "2024-01-07T18:41:06.869Z"
   },
   {
    "duration": 4,
    "start_time": "2024-01-07T18:41:06.889Z"
   },
   {
    "duration": 17,
    "start_time": "2024-01-07T18:41:06.894Z"
   },
   {
    "duration": 5,
    "start_time": "2024-01-07T18:41:06.912Z"
   },
   {
    "duration": 8,
    "start_time": "2024-01-07T18:41:06.918Z"
   },
   {
    "duration": 19,
    "start_time": "2024-01-07T18:41:06.927Z"
   },
   {
    "duration": 12,
    "start_time": "2024-01-07T18:41:06.948Z"
   },
   {
    "duration": 7,
    "start_time": "2024-01-07T18:41:06.961Z"
   },
   {
    "duration": 10,
    "start_time": "2024-01-07T18:41:06.969Z"
   },
   {
    "duration": 3,
    "start_time": "2024-01-07T18:41:06.980Z"
   },
   {
    "duration": 7,
    "start_time": "2024-01-07T18:41:06.984Z"
   },
   {
    "duration": 23,
    "start_time": "2024-01-07T18:41:06.992Z"
   },
   {
    "duration": 9,
    "start_time": "2024-01-07T18:41:07.016Z"
   },
   {
    "duration": 4,
    "start_time": "2024-01-07T18:41:07.026Z"
   },
   {
    "duration": 9,
    "start_time": "2024-01-07T18:41:07.031Z"
   },
   {
    "duration": 18,
    "start_time": "2024-01-07T18:41:07.041Z"
   },
   {
    "duration": 4,
    "start_time": "2024-01-07T18:41:07.060Z"
   },
   {
    "duration": 5,
    "start_time": "2024-01-07T18:41:07.065Z"
   },
   {
    "duration": 41,
    "start_time": "2024-01-07T18:41:07.072Z"
   },
   {
    "duration": 5,
    "start_time": "2024-01-07T18:41:07.115Z"
   },
   {
    "duration": 2,
    "start_time": "2024-01-07T18:41:07.122Z"
   },
   {
    "duration": 17,
    "start_time": "2024-01-07T18:41:07.126Z"
   },
   {
    "duration": 20,
    "start_time": "2024-01-07T18:41:07.145Z"
   },
   {
    "duration": 4,
    "start_time": "2024-01-07T18:41:07.167Z"
   },
   {
    "duration": 49,
    "start_time": "2024-01-07T18:41:07.173Z"
   },
   {
    "duration": 4,
    "start_time": "2024-01-07T18:41:07.224Z"
   },
   {
    "duration": 9,
    "start_time": "2024-01-07T18:41:07.229Z"
   },
   {
    "duration": 9,
    "start_time": "2024-01-07T18:41:07.240Z"
   },
   {
    "duration": 7,
    "start_time": "2024-01-07T18:41:07.250Z"
   },
   {
    "duration": 5,
    "start_time": "2024-01-07T18:41:07.258Z"
   },
   {
    "duration": 3,
    "start_time": "2024-01-07T18:41:07.265Z"
   },
   {
    "duration": 63,
    "start_time": "2024-01-07T18:41:07.273Z"
   },
   {
    "duration": 73,
    "start_time": "2024-01-07T18:41:07.338Z"
   },
   {
    "duration": 27499,
    "start_time": "2024-01-07T18:41:07.413Z"
   },
   {
    "duration": 4,
    "start_time": "2024-01-07T18:41:34.913Z"
   },
   {
    "duration": 13,
    "start_time": "2024-01-07T18:41:34.918Z"
   },
   {
    "duration": 37110,
    "start_time": "2024-01-07T18:41:34.932Z"
   },
   {
    "duration": 4,
    "start_time": "2024-01-07T18:42:12.044Z"
   },
   {
    "duration": 5,
    "start_time": "2024-01-07T18:42:12.049Z"
   },
   {
    "duration": 100566,
    "start_time": "2024-01-07T18:42:12.055Z"
   },
   {
    "duration": 4,
    "start_time": "2024-01-07T18:43:52.622Z"
   },
   {
    "duration": 88,
    "start_time": "2024-01-07T18:43:52.627Z"
   },
   {
    "duration": 4,
    "start_time": "2024-01-07T18:46:36.447Z"
   },
   {
    "duration": 3,
    "start_time": "2024-01-07T18:47:04.799Z"
   },
   {
    "duration": 10,
    "start_time": "2024-01-07T18:48:27.817Z"
   },
   {
    "duration": 25,
    "start_time": "2024-01-07T18:48:29.272Z"
   },
   {
    "duration": 4,
    "start_time": "2024-01-07T18:48:30.979Z"
   },
   {
    "duration": 27098,
    "start_time": "2024-01-07T18:48:34.752Z"
   },
   {
    "duration": 4,
    "start_time": "2024-01-07T18:49:01.851Z"
   },
   {
    "duration": 1221,
    "start_time": "2024-01-07T18:49:03.153Z"
   },
   {
    "duration": 48,
    "start_time": "2024-01-07T18:49:04.375Z"
   },
   {
    "duration": 15,
    "start_time": "2024-01-07T18:49:04.424Z"
   },
   {
    "duration": 12,
    "start_time": "2024-01-07T18:49:04.441Z"
   },
   {
    "duration": 17,
    "start_time": "2024-01-07T18:49:04.454Z"
   },
   {
    "duration": 38,
    "start_time": "2024-01-07T18:49:04.473Z"
   },
   {
    "duration": 14,
    "start_time": "2024-01-07T18:49:04.513Z"
   },
   {
    "duration": 10,
    "start_time": "2024-01-07T18:49:04.528Z"
   },
   {
    "duration": 75,
    "start_time": "2024-01-07T18:49:04.539Z"
   },
   {
    "duration": 26,
    "start_time": "2024-01-07T18:49:04.616Z"
   },
   {
    "duration": 12,
    "start_time": "2024-01-07T18:49:04.644Z"
   },
   {
    "duration": 19,
    "start_time": "2024-01-07T18:49:04.658Z"
   },
   {
    "duration": 36,
    "start_time": "2024-01-07T18:49:04.678Z"
   },
   {
    "duration": 6,
    "start_time": "2024-01-07T18:49:04.716Z"
   },
   {
    "duration": 10,
    "start_time": "2024-01-07T18:49:04.723Z"
   },
   {
    "duration": 2,
    "start_time": "2024-01-07T18:49:04.735Z"
   },
   {
    "duration": 8,
    "start_time": "2024-01-07T18:49:04.738Z"
   },
   {
    "duration": 27,
    "start_time": "2024-01-07T18:49:04.748Z"
   },
   {
    "duration": 7,
    "start_time": "2024-01-07T18:49:04.776Z"
   },
   {
    "duration": 27,
    "start_time": "2024-01-07T18:49:04.785Z"
   },
   {
    "duration": 8,
    "start_time": "2024-01-07T18:49:04.813Z"
   },
   {
    "duration": 16,
    "start_time": "2024-01-07T18:49:04.822Z"
   },
   {
    "duration": 11,
    "start_time": "2024-01-07T18:49:04.840Z"
   },
   {
    "duration": 11,
    "start_time": "2024-01-07T18:49:04.852Z"
   },
   {
    "duration": 55,
    "start_time": "2024-01-07T18:49:04.865Z"
   },
   {
    "duration": 20,
    "start_time": "2024-01-07T18:49:04.922Z"
   },
   {
    "duration": 10,
    "start_time": "2024-01-07T18:49:04.944Z"
   },
   {
    "duration": 12,
    "start_time": "2024-01-07T18:49:04.959Z"
   },
   {
    "duration": 3,
    "start_time": "2024-01-07T18:49:04.973Z"
   },
   {
    "duration": 34,
    "start_time": "2024-01-07T18:49:04.977Z"
   },
   {
    "duration": 11,
    "start_time": "2024-01-07T18:49:05.013Z"
   },
   {
    "duration": 10,
    "start_time": "2024-01-07T18:49:05.025Z"
   },
   {
    "duration": 10,
    "start_time": "2024-01-07T18:49:05.036Z"
   },
   {
    "duration": 10,
    "start_time": "2024-01-07T18:49:05.047Z"
   },
   {
    "duration": 16,
    "start_time": "2024-01-07T18:49:05.058Z"
   },
   {
    "duration": 3,
    "start_time": "2024-01-07T18:49:05.075Z"
   },
   {
    "duration": 39,
    "start_time": "2024-01-07T18:49:05.079Z"
   },
   {
    "duration": 14,
    "start_time": "2024-01-07T18:49:05.119Z"
   },
   {
    "duration": 10,
    "start_time": "2024-01-07T18:49:05.134Z"
   },
   {
    "duration": 2,
    "start_time": "2024-01-07T18:49:05.146Z"
   },
   {
    "duration": 10,
    "start_time": "2024-01-07T18:49:05.150Z"
   },
   {
    "duration": 11,
    "start_time": "2024-01-07T18:49:05.161Z"
   },
   {
    "duration": 6,
    "start_time": "2024-01-07T18:49:05.173Z"
   },
   {
    "duration": 37,
    "start_time": "2024-01-07T18:49:05.180Z"
   },
   {
    "duration": 22,
    "start_time": "2024-01-07T18:49:05.219Z"
   },
   {
    "duration": 24,
    "start_time": "2024-01-07T18:49:05.242Z"
   },
   {
    "duration": 13,
    "start_time": "2024-01-07T18:49:05.268Z"
   },
   {
    "duration": 19,
    "start_time": "2024-01-07T18:49:05.282Z"
   },
   {
    "duration": 10,
    "start_time": "2024-01-07T18:49:05.303Z"
   },
   {
    "duration": 21,
    "start_time": "2024-01-07T18:49:05.315Z"
   },
   {
    "duration": 12,
    "start_time": "2024-01-07T18:49:05.337Z"
   },
   {
    "duration": 8,
    "start_time": "2024-01-07T18:49:05.350Z"
   },
   {
    "duration": 30,
    "start_time": "2024-01-07T18:49:05.360Z"
   },
   {
    "duration": 4,
    "start_time": "2024-01-07T18:49:05.392Z"
   },
   {
    "duration": 20,
    "start_time": "2024-01-07T18:49:05.397Z"
   },
   {
    "duration": 13,
    "start_time": "2024-01-07T18:49:05.418Z"
   },
   {
    "duration": 12,
    "start_time": "2024-01-07T18:49:05.432Z"
   },
   {
    "duration": 6,
    "start_time": "2024-01-07T18:49:05.446Z"
   },
   {
    "duration": 11,
    "start_time": "2024-01-07T18:49:05.454Z"
   },
   {
    "duration": 2,
    "start_time": "2024-01-07T18:49:05.467Z"
   },
   {
    "duration": 14,
    "start_time": "2024-01-07T18:49:05.471Z"
   },
   {
    "duration": 12,
    "start_time": "2024-01-07T18:49:05.486Z"
   },
   {
    "duration": 17,
    "start_time": "2024-01-07T18:49:05.499Z"
   },
   {
    "duration": 4,
    "start_time": "2024-01-07T18:49:05.517Z"
   },
   {
    "duration": 12,
    "start_time": "2024-01-07T18:49:05.523Z"
   },
   {
    "duration": 16,
    "start_time": "2024-01-07T18:49:05.537Z"
   },
   {
    "duration": 4,
    "start_time": "2024-01-07T18:49:05.555Z"
   },
   {
    "duration": 4,
    "start_time": "2024-01-07T18:49:05.561Z"
   },
   {
    "duration": 10,
    "start_time": "2024-01-07T18:49:05.566Z"
   },
   {
    "duration": 34,
    "start_time": "2024-01-07T18:49:05.577Z"
   },
   {
    "duration": 4,
    "start_time": "2024-01-07T18:49:05.612Z"
   },
   {
    "duration": 33,
    "start_time": "2024-01-07T18:49:05.617Z"
   },
   {
    "duration": 23,
    "start_time": "2024-01-07T18:49:05.652Z"
   },
   {
    "duration": 4,
    "start_time": "2024-01-07T18:49:05.676Z"
   },
   {
    "duration": 36,
    "start_time": "2024-01-07T18:49:05.681Z"
   },
   {
    "duration": 7,
    "start_time": "2024-01-07T18:49:05.718Z"
   },
   {
    "duration": 17,
    "start_time": "2024-01-07T18:49:05.726Z"
   },
   {
    "duration": 8,
    "start_time": "2024-01-07T18:49:05.744Z"
   },
   {
    "duration": 6,
    "start_time": "2024-01-07T18:49:05.753Z"
   },
   {
    "duration": 4,
    "start_time": "2024-01-07T18:49:05.760Z"
   },
   {
    "duration": 5,
    "start_time": "2024-01-07T18:49:05.765Z"
   },
   {
    "duration": 8,
    "start_time": "2024-01-07T18:49:05.774Z"
   },
   {
    "duration": 5,
    "start_time": "2024-01-07T18:49:05.783Z"
   },
   {
    "duration": 38,
    "start_time": "2024-01-07T18:49:05.789Z"
   },
   {
    "duration": 6,
    "start_time": "2024-01-07T18:49:05.829Z"
   },
   {
    "duration": 27320,
    "start_time": "2024-01-07T18:49:05.837Z"
   },
   {
    "duration": 3,
    "start_time": "2024-01-07T18:49:33.159Z"
   },
   {
    "duration": 4,
    "start_time": "2024-01-07T18:49:33.164Z"
   },
   {
    "duration": 1198,
    "start_time": "2024-01-07T18:49:54.158Z"
   },
   {
    "duration": 47,
    "start_time": "2024-01-07T18:49:55.357Z"
   },
   {
    "duration": 15,
    "start_time": "2024-01-07T18:49:55.405Z"
   },
   {
    "duration": 10,
    "start_time": "2024-01-07T18:49:55.423Z"
   },
   {
    "duration": 24,
    "start_time": "2024-01-07T18:49:55.435Z"
   },
   {
    "duration": 18,
    "start_time": "2024-01-07T18:49:55.460Z"
   },
   {
    "duration": 14,
    "start_time": "2024-01-07T18:49:55.480Z"
   },
   {
    "duration": 18,
    "start_time": "2024-01-07T18:49:55.496Z"
   },
   {
    "duration": 50,
    "start_time": "2024-01-07T18:49:55.516Z"
   },
   {
    "duration": 24,
    "start_time": "2024-01-07T18:49:55.569Z"
   },
   {
    "duration": 24,
    "start_time": "2024-01-07T18:49:55.594Z"
   },
   {
    "duration": 11,
    "start_time": "2024-01-07T18:49:55.620Z"
   },
   {
    "duration": 36,
    "start_time": "2024-01-07T18:49:55.633Z"
   },
   {
    "duration": 7,
    "start_time": "2024-01-07T18:49:55.670Z"
   },
   {
    "duration": 13,
    "start_time": "2024-01-07T18:49:55.678Z"
   },
   {
    "duration": 4,
    "start_time": "2024-01-07T18:49:55.692Z"
   },
   {
    "duration": 11,
    "start_time": "2024-01-07T18:49:55.697Z"
   },
   {
    "duration": 29,
    "start_time": "2024-01-07T18:49:55.711Z"
   },
   {
    "duration": 8,
    "start_time": "2024-01-07T18:49:55.741Z"
   },
   {
    "duration": 23,
    "start_time": "2024-01-07T18:49:55.750Z"
   },
   {
    "duration": 7,
    "start_time": "2024-01-07T18:49:55.775Z"
   },
   {
    "duration": 17,
    "start_time": "2024-01-07T18:49:55.783Z"
   },
   {
    "duration": 11,
    "start_time": "2024-01-07T18:49:55.801Z"
   },
   {
    "duration": 10,
    "start_time": "2024-01-07T18:49:55.813Z"
   },
   {
    "duration": 33,
    "start_time": "2024-01-07T18:49:55.824Z"
   },
   {
    "duration": 20,
    "start_time": "2024-01-07T18:49:55.858Z"
   },
   {
    "duration": 18,
    "start_time": "2024-01-07T18:49:55.879Z"
   },
   {
    "duration": 20,
    "start_time": "2024-01-07T18:49:55.901Z"
   },
   {
    "duration": 2,
    "start_time": "2024-01-07T18:49:55.923Z"
   },
   {
    "duration": 17,
    "start_time": "2024-01-07T18:49:55.927Z"
   },
   {
    "duration": 32,
    "start_time": "2024-01-07T18:49:55.945Z"
   },
   {
    "duration": 15,
    "start_time": "2024-01-07T18:49:55.979Z"
   },
   {
    "duration": 9,
    "start_time": "2024-01-07T18:49:55.995Z"
   },
   {
    "duration": 28,
    "start_time": "2024-01-07T18:49:56.005Z"
   },
   {
    "duration": 17,
    "start_time": "2024-01-07T18:49:56.034Z"
   },
   {
    "duration": 3,
    "start_time": "2024-01-07T18:49:56.052Z"
   },
   {
    "duration": 10,
    "start_time": "2024-01-07T18:49:56.056Z"
   },
   {
    "duration": 13,
    "start_time": "2024-01-07T18:49:56.068Z"
   },
   {
    "duration": 11,
    "start_time": "2024-01-07T18:49:56.082Z"
   },
   {
    "duration": 7,
    "start_time": "2024-01-07T18:49:56.095Z"
   },
   {
    "duration": 8,
    "start_time": "2024-01-07T18:49:56.104Z"
   },
   {
    "duration": 10,
    "start_time": "2024-01-07T18:49:56.113Z"
   },
   {
    "duration": 5,
    "start_time": "2024-01-07T18:49:56.124Z"
   },
   {
    "duration": 19,
    "start_time": "2024-01-07T18:49:56.130Z"
   },
   {
    "duration": 12,
    "start_time": "2024-01-07T18:49:56.150Z"
   },
   {
    "duration": 6,
    "start_time": "2024-01-07T18:49:56.163Z"
   },
   {
    "duration": 11,
    "start_time": "2024-01-07T18:49:56.171Z"
   },
   {
    "duration": 38,
    "start_time": "2024-01-07T18:49:56.183Z"
   },
   {
    "duration": 11,
    "start_time": "2024-01-07T18:49:56.223Z"
   },
   {
    "duration": 11,
    "start_time": "2024-01-07T18:49:56.236Z"
   },
   {
    "duration": 11,
    "start_time": "2024-01-07T18:49:56.248Z"
   },
   {
    "duration": 4,
    "start_time": "2024-01-07T18:49:56.261Z"
   },
   {
    "duration": 3,
    "start_time": "2024-01-07T18:49:56.266Z"
   },
   {
    "duration": 3,
    "start_time": "2024-01-07T18:49:56.271Z"
   },
   {
    "duration": 4,
    "start_time": "2024-01-07T18:49:56.276Z"
   },
   {
    "duration": 35,
    "start_time": "2024-01-07T18:49:56.281Z"
   },
   {
    "duration": 10,
    "start_time": "2024-01-07T18:49:56.317Z"
   },
   {
    "duration": 9,
    "start_time": "2024-01-07T18:49:56.328Z"
   },
   {
    "duration": 9,
    "start_time": "2024-01-07T18:49:56.338Z"
   },
   {
    "duration": 2,
    "start_time": "2024-01-07T18:49:56.349Z"
   },
   {
    "duration": 11,
    "start_time": "2024-01-07T18:49:56.352Z"
   },
   {
    "duration": 11,
    "start_time": "2024-01-07T18:49:56.364Z"
   },
   {
    "duration": 11,
    "start_time": "2024-01-07T18:49:56.376Z"
   },
   {
    "duration": 4,
    "start_time": "2024-01-07T18:49:56.410Z"
   },
   {
    "duration": 10,
    "start_time": "2024-01-07T18:49:56.415Z"
   },
   {
    "duration": 28,
    "start_time": "2024-01-07T18:49:56.426Z"
   },
   {
    "duration": 4,
    "start_time": "2024-01-07T18:49:56.455Z"
   },
   {
    "duration": 13,
    "start_time": "2024-01-07T18:49:56.460Z"
   },
   {
    "duration": 23,
    "start_time": "2024-01-07T18:49:56.474Z"
   },
   {
    "duration": 12,
    "start_time": "2024-01-07T18:49:56.498Z"
   },
   {
    "duration": 4,
    "start_time": "2024-01-07T18:49:56.511Z"
   },
   {
    "duration": 24,
    "start_time": "2024-01-07T18:49:56.516Z"
   },
   {
    "duration": 30,
    "start_time": "2024-01-07T18:49:56.541Z"
   },
   {
    "duration": 3,
    "start_time": "2024-01-07T18:49:56.573Z"
   },
   {
    "duration": 22,
    "start_time": "2024-01-07T18:49:56.578Z"
   },
   {
    "duration": 17,
    "start_time": "2024-01-07T18:49:56.602Z"
   },
   {
    "duration": 13,
    "start_time": "2024-01-07T18:49:56.620Z"
   },
   {
    "duration": 7,
    "start_time": "2024-01-07T18:49:56.635Z"
   },
   {
    "duration": 4,
    "start_time": "2024-01-07T18:49:56.644Z"
   },
   {
    "duration": 10,
    "start_time": "2024-01-07T18:49:56.649Z"
   },
   {
    "duration": 5,
    "start_time": "2024-01-07T18:49:56.660Z"
   },
   {
    "duration": 8,
    "start_time": "2024-01-07T18:49:56.671Z"
   },
   {
    "duration": 14,
    "start_time": "2024-01-07T18:49:56.680Z"
   },
   {
    "duration": 121,
    "start_time": "2024-01-07T18:49:56.696Z"
   },
   {
    "duration": 5,
    "start_time": "2024-01-07T18:49:56.819Z"
   },
   {
    "duration": 27537,
    "start_time": "2024-01-07T18:49:56.826Z"
   },
   {
    "duration": 3,
    "start_time": "2024-01-07T18:50:24.365Z"
   },
   {
    "duration": 14,
    "start_time": "2024-01-07T18:50:24.370Z"
   },
   {
    "duration": 36885,
    "start_time": "2024-01-07T18:50:24.385Z"
   },
   {
    "duration": 4,
    "start_time": "2024-01-07T18:51:01.272Z"
   },
   {
    "duration": 20,
    "start_time": "2024-01-07T18:51:01.277Z"
   },
   {
    "duration": 87821,
    "start_time": "2024-01-07T18:51:01.298Z"
   },
   {
    "duration": 3,
    "start_time": "2024-01-07T18:52:29.121Z"
   },
   {
    "duration": 14,
    "start_time": "2024-01-07T18:52:29.125Z"
   },
   {
    "duration": 10,
    "start_time": "2024-01-07T19:02:50.523Z"
   },
   {
    "duration": 7,
    "start_time": "2024-01-07T19:03:51.980Z"
   },
   {
    "duration": 1197,
    "start_time": "2024-01-07T19:06:58.369Z"
   },
   {
    "duration": 54,
    "start_time": "2024-01-07T19:06:59.567Z"
   },
   {
    "duration": 15,
    "start_time": "2024-01-07T19:06:59.622Z"
   },
   {
    "duration": 12,
    "start_time": "2024-01-07T19:06:59.639Z"
   },
   {
    "duration": 17,
    "start_time": "2024-01-07T19:06:59.653Z"
   },
   {
    "duration": 18,
    "start_time": "2024-01-07T19:06:59.671Z"
   },
   {
    "duration": 26,
    "start_time": "2024-01-07T19:06:59.690Z"
   },
   {
    "duration": 10,
    "start_time": "2024-01-07T19:06:59.717Z"
   },
   {
    "duration": 49,
    "start_time": "2024-01-07T19:06:59.729Z"
   },
   {
    "duration": 35,
    "start_time": "2024-01-07T19:06:59.782Z"
   },
   {
    "duration": 12,
    "start_time": "2024-01-07T19:06:59.819Z"
   },
   {
    "duration": 10,
    "start_time": "2024-01-07T19:06:59.833Z"
   },
   {
    "duration": 35,
    "start_time": "2024-01-07T19:06:59.844Z"
   },
   {
    "duration": 6,
    "start_time": "2024-01-07T19:06:59.880Z"
   },
   {
    "duration": 11,
    "start_time": "2024-01-07T19:06:59.887Z"
   },
   {
    "duration": 6,
    "start_time": "2024-01-07T19:06:59.899Z"
   },
   {
    "duration": 8,
    "start_time": "2024-01-07T19:06:59.906Z"
   },
   {
    "duration": 28,
    "start_time": "2024-01-07T19:06:59.915Z"
   },
   {
    "duration": 7,
    "start_time": "2024-01-07T19:06:59.945Z"
   },
   {
    "duration": 11,
    "start_time": "2024-01-07T19:06:59.953Z"
   },
   {
    "duration": 8,
    "start_time": "2024-01-07T19:06:59.965Z"
   },
   {
    "duration": 22,
    "start_time": "2024-01-07T19:06:59.974Z"
   },
   {
    "duration": 20,
    "start_time": "2024-01-07T19:06:59.998Z"
   },
   {
    "duration": 44,
    "start_time": "2024-01-07T19:07:00.020Z"
   },
   {
    "duration": 55,
    "start_time": "2024-01-07T19:07:00.066Z"
   },
   {
    "duration": 22,
    "start_time": "2024-01-07T19:07:00.122Z"
   },
   {
    "duration": 26,
    "start_time": "2024-01-07T19:07:00.145Z"
   },
   {
    "duration": 31,
    "start_time": "2024-01-07T19:07:00.175Z"
   },
   {
    "duration": 32,
    "start_time": "2024-01-07T19:07:00.208Z"
   },
   {
    "duration": 21,
    "start_time": "2024-01-07T19:07:00.241Z"
   },
   {
    "duration": 31,
    "start_time": "2024-01-07T19:07:00.264Z"
   },
   {
    "duration": 37,
    "start_time": "2024-01-07T19:07:00.297Z"
   },
   {
    "duration": 28,
    "start_time": "2024-01-07T19:07:00.336Z"
   },
   {
    "duration": 22,
    "start_time": "2024-01-07T19:07:00.366Z"
   },
   {
    "duration": 55,
    "start_time": "2024-01-07T19:07:00.389Z"
   },
   {
    "duration": 20,
    "start_time": "2024-01-07T19:07:00.446Z"
   },
   {
    "duration": 23,
    "start_time": "2024-01-07T19:07:00.468Z"
   },
   {
    "duration": 54,
    "start_time": "2024-01-07T19:07:00.493Z"
   },
   {
    "duration": 67,
    "start_time": "2024-01-07T19:07:00.548Z"
   },
   {
    "duration": 38,
    "start_time": "2024-01-07T19:07:00.616Z"
   },
   {
    "duration": 34,
    "start_time": "2024-01-07T19:07:00.656Z"
   },
   {
    "duration": 32,
    "start_time": "2024-01-07T19:07:00.692Z"
   },
   {
    "duration": 44,
    "start_time": "2024-01-07T19:07:00.725Z"
   },
   {
    "duration": 42,
    "start_time": "2024-01-07T19:07:00.770Z"
   },
   {
    "duration": 31,
    "start_time": "2024-01-07T19:07:00.814Z"
   },
   {
    "duration": 31,
    "start_time": "2024-01-07T19:07:00.847Z"
   },
   {
    "duration": 50,
    "start_time": "2024-01-07T19:07:00.880Z"
   },
   {
    "duration": 90,
    "start_time": "2024-01-07T19:07:00.931Z"
   },
   {
    "duration": 40,
    "start_time": "2024-01-07T19:07:01.022Z"
   },
   {
    "duration": 36,
    "start_time": "2024-01-07T19:07:01.064Z"
   },
   {
    "duration": 37,
    "start_time": "2024-01-07T19:07:01.101Z"
   },
   {
    "duration": 27,
    "start_time": "2024-01-07T19:07:01.139Z"
   },
   {
    "duration": 30,
    "start_time": "2024-01-07T19:07:01.167Z"
   },
   {
    "duration": 48,
    "start_time": "2024-01-07T19:07:01.198Z"
   },
   {
    "duration": 30,
    "start_time": "2024-01-07T19:07:01.248Z"
   },
   {
    "duration": 43,
    "start_time": "2024-01-07T19:07:01.279Z"
   },
   {
    "duration": 57,
    "start_time": "2024-01-07T19:07:01.323Z"
   },
   {
    "duration": 20,
    "start_time": "2024-01-07T19:07:01.381Z"
   },
   {
    "duration": 79,
    "start_time": "2024-01-07T19:07:01.403Z"
   },
   {
    "duration": 18,
    "start_time": "2024-01-07T19:07:01.483Z"
   },
   {
    "duration": 33,
    "start_time": "2024-01-07T19:07:01.503Z"
   },
   {
    "duration": 30,
    "start_time": "2024-01-07T19:07:01.537Z"
   },
   {
    "duration": 32,
    "start_time": "2024-01-07T19:07:01.569Z"
   },
   {
    "duration": 40,
    "start_time": "2024-01-07T19:07:01.602Z"
   },
   {
    "duration": 57,
    "start_time": "2024-01-07T19:07:01.644Z"
   },
   {
    "duration": 52,
    "start_time": "2024-01-07T19:07:01.702Z"
   },
   {
    "duration": 15,
    "start_time": "2024-01-07T19:07:01.756Z"
   },
   {
    "duration": 30,
    "start_time": "2024-01-07T19:07:01.773Z"
   },
   {
    "duration": 32,
    "start_time": "2024-01-07T19:07:01.804Z"
   },
   {
    "duration": 17,
    "start_time": "2024-01-07T19:07:01.837Z"
   },
   {
    "duration": 43,
    "start_time": "2024-01-07T19:07:01.856Z"
   },
   {
    "duration": 33,
    "start_time": "2024-01-07T19:07:01.900Z"
   },
   {
    "duration": 62,
    "start_time": "2024-01-07T19:07:01.934Z"
   },
   {
    "duration": 19,
    "start_time": "2024-01-07T19:07:01.998Z"
   },
   {
    "duration": 31,
    "start_time": "2024-01-07T19:07:02.018Z"
   },
   {
    "duration": 26,
    "start_time": "2024-01-07T19:07:02.051Z"
   },
   {
    "duration": 14,
    "start_time": "2024-01-07T19:07:02.079Z"
   },
   {
    "duration": 18,
    "start_time": "2024-01-07T19:07:02.094Z"
   },
   {
    "duration": 22,
    "start_time": "2024-01-07T19:07:02.114Z"
   },
   {
    "duration": 14,
    "start_time": "2024-01-07T19:07:02.137Z"
   },
   {
    "duration": 14,
    "start_time": "2024-01-07T19:07:02.153Z"
   },
   {
    "duration": 9,
    "start_time": "2024-01-07T19:07:02.172Z"
   },
   {
    "duration": 12,
    "start_time": "2024-01-07T19:07:02.183Z"
   },
   {
    "duration": 41,
    "start_time": "2024-01-07T19:07:02.197Z"
   },
   {
    "duration": 72,
    "start_time": "2024-01-07T19:07:02.240Z"
   },
   {
    "duration": 27543,
    "start_time": "2024-01-07T19:07:02.313Z"
   },
   {
    "duration": 4,
    "start_time": "2024-01-07T19:07:29.857Z"
   },
   {
    "duration": 4,
    "start_time": "2024-01-07T19:07:29.862Z"
   },
   {
    "duration": 39175,
    "start_time": "2024-01-07T19:07:29.867Z"
   },
   {
    "duration": 3,
    "start_time": "2024-01-07T19:08:09.044Z"
   },
   {
    "duration": 3,
    "start_time": "2024-01-07T19:08:09.049Z"
   },
   {
    "duration": 88264,
    "start_time": "2024-01-07T19:08:09.053Z"
   },
   {
    "duration": 3,
    "start_time": "2024-01-07T19:09:37.319Z"
   },
   {
    "duration": 14,
    "start_time": "2024-01-07T19:09:37.324Z"
   },
   {
    "duration": 1281,
    "start_time": "2024-01-07T19:13:56.574Z"
   },
   {
    "duration": 47,
    "start_time": "2024-01-07T19:13:57.857Z"
   },
   {
    "duration": 14,
    "start_time": "2024-01-07T19:13:57.906Z"
   },
   {
    "duration": 12,
    "start_time": "2024-01-07T19:13:57.922Z"
   },
   {
    "duration": 17,
    "start_time": "2024-01-07T19:13:57.936Z"
   },
   {
    "duration": 18,
    "start_time": "2024-01-07T19:13:57.955Z"
   },
   {
    "duration": 14,
    "start_time": "2024-01-07T19:13:57.975Z"
   },
   {
    "duration": 27,
    "start_time": "2024-01-07T19:13:57.991Z"
   },
   {
    "duration": 50,
    "start_time": "2024-01-07T19:13:58.019Z"
   },
   {
    "duration": 24,
    "start_time": "2024-01-07T19:13:58.071Z"
   },
   {
    "duration": 21,
    "start_time": "2024-01-07T19:13:58.097Z"
   },
   {
    "duration": 11,
    "start_time": "2024-01-07T19:13:58.120Z"
   },
   {
    "duration": 44,
    "start_time": "2024-01-07T19:13:58.132Z"
   },
   {
    "duration": 7,
    "start_time": "2024-01-07T19:13:58.178Z"
   },
   {
    "duration": 10,
    "start_time": "2024-01-07T19:13:58.187Z"
   },
   {
    "duration": 3,
    "start_time": "2024-01-07T19:13:58.198Z"
   },
   {
    "duration": 10,
    "start_time": "2024-01-07T19:13:58.203Z"
   },
   {
    "duration": 28,
    "start_time": "2024-01-07T19:13:58.214Z"
   },
   {
    "duration": 7,
    "start_time": "2024-01-07T19:13:58.244Z"
   },
   {
    "duration": 12,
    "start_time": "2024-01-07T19:13:58.252Z"
   },
   {
    "duration": 8,
    "start_time": "2024-01-07T19:13:58.265Z"
   },
   {
    "duration": 16,
    "start_time": "2024-01-07T19:13:58.275Z"
   },
   {
    "duration": 23,
    "start_time": "2024-01-07T19:13:58.292Z"
   },
   {
    "duration": 9,
    "start_time": "2024-01-07T19:13:58.316Z"
   },
   {
    "duration": 31,
    "start_time": "2024-01-07T19:13:58.327Z"
   },
   {
    "duration": 20,
    "start_time": "2024-01-07T19:13:58.359Z"
   },
   {
    "duration": 9,
    "start_time": "2024-01-07T19:13:58.380Z"
   },
   {
    "duration": 11,
    "start_time": "2024-01-07T19:13:58.410Z"
   },
   {
    "duration": 4,
    "start_time": "2024-01-07T19:13:58.422Z"
   },
   {
    "duration": 6,
    "start_time": "2024-01-07T19:13:58.428Z"
   },
   {
    "duration": 10,
    "start_time": "2024-01-07T19:13:58.436Z"
   },
   {
    "duration": 10,
    "start_time": "2024-01-07T19:13:58.448Z"
   },
   {
    "duration": 11,
    "start_time": "2024-01-07T19:13:58.459Z"
   },
   {
    "duration": 47,
    "start_time": "2024-01-07T19:13:58.471Z"
   },
   {
    "duration": 11,
    "start_time": "2024-01-07T19:13:58.519Z"
   },
   {
    "duration": 3,
    "start_time": "2024-01-07T19:13:58.532Z"
   },
   {
    "duration": 17,
    "start_time": "2024-01-07T19:13:58.537Z"
   },
   {
    "duration": 20,
    "start_time": "2024-01-07T19:13:58.556Z"
   },
   {
    "duration": 35,
    "start_time": "2024-01-07T19:13:58.577Z"
   },
   {
    "duration": 3,
    "start_time": "2024-01-07T19:13:58.613Z"
   },
   {
    "duration": 7,
    "start_time": "2024-01-07T19:13:58.618Z"
   },
   {
    "duration": 9,
    "start_time": "2024-01-07T19:13:58.626Z"
   },
   {
    "duration": 9,
    "start_time": "2024-01-07T19:13:58.637Z"
   },
   {
    "duration": 10,
    "start_time": "2024-01-07T19:13:58.647Z"
   },
   {
    "duration": 6,
    "start_time": "2024-01-07T19:13:58.659Z"
   },
   {
    "duration": 11,
    "start_time": "2024-01-07T19:13:58.666Z"
   },
   {
    "duration": 12,
    "start_time": "2024-01-07T19:13:58.711Z"
   },
   {
    "duration": 12,
    "start_time": "2024-01-07T19:13:58.724Z"
   },
   {
    "duration": 13,
    "start_time": "2024-01-07T19:13:58.737Z"
   },
   {
    "duration": 10,
    "start_time": "2024-01-07T19:13:58.751Z"
   },
   {
    "duration": 5,
    "start_time": "2024-01-07T19:13:58.762Z"
   },
   {
    "duration": 3,
    "start_time": "2024-01-07T19:13:58.768Z"
   },
   {
    "duration": 4,
    "start_time": "2024-01-07T19:13:58.772Z"
   },
   {
    "duration": 34,
    "start_time": "2024-01-07T19:13:58.777Z"
   },
   {
    "duration": 10,
    "start_time": "2024-01-07T19:13:58.812Z"
   },
   {
    "duration": 9,
    "start_time": "2024-01-07T19:13:58.824Z"
   },
   {
    "duration": 6,
    "start_time": "2024-01-07T19:13:58.834Z"
   },
   {
    "duration": 8,
    "start_time": "2024-01-07T19:13:58.842Z"
   },
   {
    "duration": 4,
    "start_time": "2024-01-07T19:13:58.851Z"
   },
   {
    "duration": 8,
    "start_time": "2024-01-07T19:13:58.856Z"
   },
   {
    "duration": 6,
    "start_time": "2024-01-07T19:13:58.865Z"
   },
   {
    "duration": 44,
    "start_time": "2024-01-07T19:13:58.873Z"
   },
   {
    "duration": 4,
    "start_time": "2024-01-07T19:13:58.918Z"
   },
   {
    "duration": 11,
    "start_time": "2024-01-07T19:13:58.923Z"
   },
   {
    "duration": 17,
    "start_time": "2024-01-07T19:13:58.935Z"
   },
   {
    "duration": 4,
    "start_time": "2024-01-07T19:13:58.954Z"
   },
   {
    "duration": 5,
    "start_time": "2024-01-07T19:13:58.959Z"
   },
   {
    "duration": 9,
    "start_time": "2024-01-07T19:13:58.966Z"
   },
   {
    "duration": 34,
    "start_time": "2024-01-07T19:13:58.977Z"
   },
   {
    "duration": 3,
    "start_time": "2024-01-07T19:13:59.012Z"
   },
   {
    "duration": 15,
    "start_time": "2024-01-07T19:13:59.017Z"
   },
   {
    "duration": 18,
    "start_time": "2024-01-07T19:13:59.034Z"
   },
   {
    "duration": 3,
    "start_time": "2024-01-07T19:13:59.053Z"
   },
   {
    "duration": 11,
    "start_time": "2024-01-07T19:13:59.057Z"
   },
   {
    "duration": 5,
    "start_time": "2024-01-07T19:13:59.070Z"
   },
   {
    "duration": 35,
    "start_time": "2024-01-07T19:13:59.076Z"
   },
   {
    "duration": 8,
    "start_time": "2024-01-07T19:13:59.112Z"
   },
   {
    "duration": 13,
    "start_time": "2024-01-07T19:13:59.121Z"
   },
   {
    "duration": 8,
    "start_time": "2024-01-07T19:13:59.136Z"
   },
   {
    "duration": 15,
    "start_time": "2024-01-07T19:13:59.145Z"
   },
   {
    "duration": 5,
    "start_time": "2024-01-07T19:13:59.162Z"
   },
   {
    "duration": 7,
    "start_time": "2024-01-07T19:13:59.172Z"
   },
   {
    "duration": 49,
    "start_time": "2024-01-07T19:13:59.180Z"
   },
   {
    "duration": 4,
    "start_time": "2024-01-07T19:13:59.230Z"
   },
   {
    "duration": 21802,
    "start_time": "2024-01-07T19:13:59.235Z"
   },
   {
    "duration": 3,
    "start_time": "2024-01-07T19:14:21.039Z"
   },
   {
    "duration": 9,
    "start_time": "2024-01-07T19:14:21.043Z"
   },
   {
    "duration": 36981,
    "start_time": "2024-01-07T19:14:21.053Z"
   },
   {
    "duration": 3,
    "start_time": "2024-01-07T19:14:58.035Z"
   },
   {
    "duration": 3,
    "start_time": "2024-01-07T19:14:58.039Z"
   },
   {
    "duration": 82480,
    "start_time": "2024-01-07T19:14:58.044Z"
   },
   {
    "duration": 87,
    "start_time": "2024-01-07T19:16:20.525Z"
   },
   {
    "duration": 9,
    "start_time": "2024-01-07T19:16:20.614Z"
   },
   {
    "duration": 10,
    "start_time": "2024-01-07T19:16:35.229Z"
   },
   {
    "duration": 33,
    "start_time": "2024-01-07T19:16:45.101Z"
   },
   {
    "duration": 6,
    "start_time": "2024-01-07T19:16:56.789Z"
   },
   {
    "duration": 12,
    "start_time": "2024-01-07T19:18:32.311Z"
   },
   {
    "duration": 5,
    "start_time": "2024-01-07T19:22:15.217Z"
   },
   {
    "duration": 9,
    "start_time": "2024-01-07T19:22:17.033Z"
   },
   {
    "duration": 1232,
    "start_time": "2024-01-07T19:22:24.148Z"
   },
   {
    "duration": 47,
    "start_time": "2024-01-07T19:22:25.381Z"
   },
   {
    "duration": 15,
    "start_time": "2024-01-07T19:22:25.429Z"
   },
   {
    "duration": 12,
    "start_time": "2024-01-07T19:22:25.446Z"
   },
   {
    "duration": 16,
    "start_time": "2024-01-07T19:22:25.459Z"
   },
   {
    "duration": 18,
    "start_time": "2024-01-07T19:22:25.476Z"
   },
   {
    "duration": 27,
    "start_time": "2024-01-07T19:22:25.495Z"
   },
   {
    "duration": 11,
    "start_time": "2024-01-07T19:22:25.523Z"
   },
   {
    "duration": 77,
    "start_time": "2024-01-07T19:22:25.535Z"
   },
   {
    "duration": 25,
    "start_time": "2024-01-07T19:22:25.615Z"
   },
   {
    "duration": 13,
    "start_time": "2024-01-07T19:22:25.641Z"
   },
   {
    "duration": 13,
    "start_time": "2024-01-07T19:22:25.655Z"
   },
   {
    "duration": 36,
    "start_time": "2024-01-07T19:22:25.669Z"
   },
   {
    "duration": 7,
    "start_time": "2024-01-07T19:22:25.707Z"
   },
   {
    "duration": 9,
    "start_time": "2024-01-07T19:22:25.716Z"
   },
   {
    "duration": 7,
    "start_time": "2024-01-07T19:22:25.727Z"
   },
   {
    "duration": 9,
    "start_time": "2024-01-07T19:22:25.735Z"
   },
   {
    "duration": 29,
    "start_time": "2024-01-07T19:22:25.745Z"
   },
   {
    "duration": 8,
    "start_time": "2024-01-07T19:22:25.775Z"
   },
   {
    "duration": 42,
    "start_time": "2024-01-07T19:22:25.785Z"
   },
   {
    "duration": 7,
    "start_time": "2024-01-07T19:22:25.829Z"
   },
   {
    "duration": 16,
    "start_time": "2024-01-07T19:22:25.837Z"
   },
   {
    "duration": 10,
    "start_time": "2024-01-07T19:22:25.855Z"
   },
   {
    "duration": 15,
    "start_time": "2024-01-07T19:22:25.867Z"
   },
   {
    "duration": 41,
    "start_time": "2024-01-07T19:22:25.883Z"
   },
   {
    "duration": 23,
    "start_time": "2024-01-07T19:22:25.926Z"
   },
   {
    "duration": 13,
    "start_time": "2024-01-07T19:22:25.951Z"
   },
   {
    "duration": 16,
    "start_time": "2024-01-07T19:22:25.970Z"
   },
   {
    "duration": 3,
    "start_time": "2024-01-07T19:22:25.987Z"
   },
   {
    "duration": 22,
    "start_time": "2024-01-07T19:22:25.992Z"
   },
   {
    "duration": 13,
    "start_time": "2024-01-07T19:22:26.016Z"
   },
   {
    "duration": 11,
    "start_time": "2024-01-07T19:22:26.031Z"
   },
   {
    "duration": 9,
    "start_time": "2024-01-07T19:22:26.043Z"
   },
   {
    "duration": 8,
    "start_time": "2024-01-07T19:22:26.053Z"
   },
   {
    "duration": 8,
    "start_time": "2024-01-07T19:22:26.062Z"
   },
   {
    "duration": 2,
    "start_time": "2024-01-07T19:22:26.072Z"
   },
   {
    "duration": 43,
    "start_time": "2024-01-07T19:22:26.075Z"
   },
   {
    "duration": 15,
    "start_time": "2024-01-07T19:22:26.119Z"
   },
   {
    "duration": 9,
    "start_time": "2024-01-07T19:22:26.135Z"
   },
   {
    "duration": 7,
    "start_time": "2024-01-07T19:22:26.145Z"
   },
   {
    "duration": 8,
    "start_time": "2024-01-07T19:22:26.153Z"
   },
   {
    "duration": 10,
    "start_time": "2024-01-07T19:22:26.162Z"
   },
   {
    "duration": 11,
    "start_time": "2024-01-07T19:22:26.173Z"
   },
   {
    "duration": 32,
    "start_time": "2024-01-07T19:22:26.185Z"
   },
   {
    "duration": 11,
    "start_time": "2024-01-07T19:22:26.218Z"
   },
   {
    "duration": 16,
    "start_time": "2024-01-07T19:22:26.230Z"
   },
   {
    "duration": 26,
    "start_time": "2024-01-07T19:22:26.247Z"
   },
   {
    "duration": 26,
    "start_time": "2024-01-07T19:22:26.274Z"
   },
   {
    "duration": 14,
    "start_time": "2024-01-07T19:22:26.301Z"
   },
   {
    "duration": 9,
    "start_time": "2024-01-07T19:22:26.316Z"
   },
   {
    "duration": 10,
    "start_time": "2024-01-07T19:22:26.326Z"
   },
   {
    "duration": 8,
    "start_time": "2024-01-07T19:22:26.337Z"
   },
   {
    "duration": 6,
    "start_time": "2024-01-07T19:22:26.346Z"
   },
   {
    "duration": 8,
    "start_time": "2024-01-07T19:22:26.353Z"
   },
   {
    "duration": 16,
    "start_time": "2024-01-07T19:22:26.362Z"
   },
   {
    "duration": 26,
    "start_time": "2024-01-07T19:22:26.380Z"
   },
   {
    "duration": 6,
    "start_time": "2024-01-07T19:22:26.408Z"
   },
   {
    "duration": 15,
    "start_time": "2024-01-07T19:22:26.415Z"
   },
   {
    "duration": 3,
    "start_time": "2024-01-07T19:22:26.431Z"
   },
   {
    "duration": 6,
    "start_time": "2024-01-07T19:22:26.435Z"
   },
   {
    "duration": 5,
    "start_time": "2024-01-07T19:22:26.443Z"
   },
   {
    "duration": 11,
    "start_time": "2024-01-07T19:22:26.449Z"
   },
   {
    "duration": 16,
    "start_time": "2024-01-07T19:22:26.461Z"
   },
   {
    "duration": 9,
    "start_time": "2024-01-07T19:22:26.478Z"
   },
   {
    "duration": 33,
    "start_time": "2024-01-07T19:22:26.488Z"
   },
   {
    "duration": 5,
    "start_time": "2024-01-07T19:22:26.522Z"
   },
   {
    "duration": 8,
    "start_time": "2024-01-07T19:22:26.528Z"
   },
   {
    "duration": 9,
    "start_time": "2024-01-07T19:22:26.537Z"
   },
   {
    "duration": 5,
    "start_time": "2024-01-07T19:22:26.548Z"
   },
   {
    "duration": 3,
    "start_time": "2024-01-07T19:22:26.554Z"
   },
   {
    "duration": 19,
    "start_time": "2024-01-07T19:22:26.558Z"
   },
   {
    "duration": 51,
    "start_time": "2024-01-07T19:22:26.578Z"
   },
   {
    "duration": 3,
    "start_time": "2024-01-07T19:22:26.631Z"
   },
   {
    "duration": 11,
    "start_time": "2024-01-07T19:22:26.635Z"
   },
   {
    "duration": 6,
    "start_time": "2024-01-07T19:22:26.647Z"
   },
   {
    "duration": 3,
    "start_time": "2024-01-07T19:22:26.655Z"
   },
   {
    "duration": 8,
    "start_time": "2024-01-07T19:22:26.660Z"
   },
   {
    "duration": 8,
    "start_time": "2024-01-07T19:22:26.670Z"
   },
   {
    "duration": 4,
    "start_time": "2024-01-07T19:22:26.680Z"
   },
   {
    "duration": 27,
    "start_time": "2024-01-07T19:22:26.685Z"
   },
   {
    "duration": 3,
    "start_time": "2024-01-07T19:22:26.713Z"
   },
   {
    "duration": 7,
    "start_time": "2024-01-07T19:22:26.721Z"
   },
   {
    "duration": 89,
    "start_time": "2024-01-07T19:22:26.730Z"
   },
   {
    "duration": 4,
    "start_time": "2024-01-07T19:22:26.821Z"
   },
   {
    "duration": 21823,
    "start_time": "2024-01-07T19:22:26.826Z"
   },
   {
    "duration": 5,
    "start_time": "2024-01-07T19:22:48.650Z"
   },
   {
    "duration": 6,
    "start_time": "2024-01-07T19:22:48.656Z"
   },
   {
    "duration": 36285,
    "start_time": "2024-01-07T19:22:48.663Z"
   },
   {
    "duration": 4,
    "start_time": "2024-01-07T19:23:24.950Z"
   },
   {
    "duration": 3,
    "start_time": "2024-01-07T19:23:24.955Z"
   },
   {
    "duration": 116956,
    "start_time": "2024-01-07T19:23:24.960Z"
   },
   {
    "duration": 3,
    "start_time": "2024-01-07T19:25:21.918Z"
   },
   {
    "duration": 6,
    "start_time": "2024-01-07T19:25:21.923Z"
   },
   {
    "duration": 11,
    "start_time": "2024-01-07T19:25:27.548Z"
   },
   {
    "duration": 4,
    "start_time": "2024-01-07T19:25:35.540Z"
   },
   {
    "duration": 4,
    "start_time": "2024-01-07T19:25:39.707Z"
   },
   {
    "duration": 33,
    "start_time": "2024-01-07T19:25:41.603Z"
   },
   {
    "duration": 96,
    "start_time": "2024-01-07T19:26:08.068Z"
   },
   {
    "duration": 1301,
    "start_time": "2024-01-07T19:29:32.087Z"
   },
   {
    "duration": 47,
    "start_time": "2024-01-07T19:29:33.389Z"
   },
   {
    "duration": 15,
    "start_time": "2024-01-07T19:29:33.437Z"
   },
   {
    "duration": 14,
    "start_time": "2024-01-07T19:29:33.454Z"
   },
   {
    "duration": 17,
    "start_time": "2024-01-07T19:29:33.469Z"
   },
   {
    "duration": 24,
    "start_time": "2024-01-07T19:29:33.487Z"
   },
   {
    "duration": 14,
    "start_time": "2024-01-07T19:29:33.513Z"
   },
   {
    "duration": 11,
    "start_time": "2024-01-07T19:29:33.528Z"
   },
   {
    "duration": 50,
    "start_time": "2024-01-07T19:29:33.540Z"
   },
   {
    "duration": 26,
    "start_time": "2024-01-07T19:29:33.610Z"
   },
   {
    "duration": 13,
    "start_time": "2024-01-07T19:29:33.638Z"
   },
   {
    "duration": 22,
    "start_time": "2024-01-07T19:29:33.652Z"
   },
   {
    "duration": 38,
    "start_time": "2024-01-07T19:29:33.676Z"
   },
   {
    "duration": 6,
    "start_time": "2024-01-07T19:29:33.716Z"
   },
   {
    "duration": 9,
    "start_time": "2024-01-07T19:29:33.724Z"
   },
   {
    "duration": 2,
    "start_time": "2024-01-07T19:29:33.735Z"
   },
   {
    "duration": 7,
    "start_time": "2024-01-07T19:29:33.739Z"
   },
   {
    "duration": 28,
    "start_time": "2024-01-07T19:29:33.748Z"
   },
   {
    "duration": 7,
    "start_time": "2024-01-07T19:29:33.778Z"
   },
   {
    "duration": 32,
    "start_time": "2024-01-07T19:29:33.787Z"
   },
   {
    "duration": 8,
    "start_time": "2024-01-07T19:29:33.821Z"
   },
   {
    "duration": 16,
    "start_time": "2024-01-07T19:29:33.831Z"
   },
   {
    "duration": 11,
    "start_time": "2024-01-07T19:29:33.848Z"
   },
   {
    "duration": 10,
    "start_time": "2024-01-07T19:29:33.861Z"
   },
   {
    "duration": 60,
    "start_time": "2024-01-07T19:29:33.872Z"
   },
   {
    "duration": 20,
    "start_time": "2024-01-07T19:29:33.934Z"
   },
   {
    "duration": 9,
    "start_time": "2024-01-07T19:29:33.956Z"
   },
   {
    "duration": 11,
    "start_time": "2024-01-07T19:29:33.971Z"
   },
   {
    "duration": 11,
    "start_time": "2024-01-07T19:29:33.983Z"
   },
   {
    "duration": 15,
    "start_time": "2024-01-07T19:29:33.995Z"
   },
   {
    "duration": 12,
    "start_time": "2024-01-07T19:29:34.011Z"
   },
   {
    "duration": 16,
    "start_time": "2024-01-07T19:29:34.024Z"
   },
   {
    "duration": 9,
    "start_time": "2024-01-07T19:29:34.042Z"
   },
   {
    "duration": 9,
    "start_time": "2024-01-07T19:29:34.052Z"
   },
   {
    "duration": 10,
    "start_time": "2024-01-07T19:29:34.062Z"
   },
   {
    "duration": 4,
    "start_time": "2024-01-07T19:29:34.073Z"
   },
   {
    "duration": 35,
    "start_time": "2024-01-07T19:29:34.079Z"
   },
   {
    "duration": 14,
    "start_time": "2024-01-07T19:29:34.116Z"
   },
   {
    "duration": 12,
    "start_time": "2024-01-07T19:29:34.132Z"
   },
   {
    "duration": 3,
    "start_time": "2024-01-07T19:29:34.145Z"
   },
   {
    "duration": 7,
    "start_time": "2024-01-07T19:29:34.149Z"
   },
   {
    "duration": 13,
    "start_time": "2024-01-07T19:29:34.157Z"
   },
   {
    "duration": 40,
    "start_time": "2024-01-07T19:29:34.176Z"
   },
   {
    "duration": 7,
    "start_time": "2024-01-07T19:29:34.217Z"
   },
   {
    "duration": 9,
    "start_time": "2024-01-07T19:29:34.226Z"
   },
   {
    "duration": 25,
    "start_time": "2024-01-07T19:29:34.236Z"
   },
   {
    "duration": 11,
    "start_time": "2024-01-07T19:29:34.263Z"
   },
   {
    "duration": 16,
    "start_time": "2024-01-07T19:29:34.276Z"
   },
   {
    "duration": 25,
    "start_time": "2024-01-07T19:29:34.293Z"
   },
   {
    "duration": 5,
    "start_time": "2024-01-07T19:29:34.320Z"
   },
   {
    "duration": 4,
    "start_time": "2024-01-07T19:29:34.327Z"
   },
   {
    "duration": 6,
    "start_time": "2024-01-07T19:29:34.333Z"
   },
   {
    "duration": 6,
    "start_time": "2024-01-07T19:29:34.341Z"
   },
   {
    "duration": 6,
    "start_time": "2024-01-07T19:29:34.348Z"
   },
   {
    "duration": 17,
    "start_time": "2024-01-07T19:29:34.355Z"
   },
   {
    "duration": 13,
    "start_time": "2024-01-07T19:29:34.374Z"
   },
   {
    "duration": 8,
    "start_time": "2024-01-07T19:29:34.410Z"
   },
   {
    "duration": 11,
    "start_time": "2024-01-07T19:29:34.420Z"
   },
   {
    "duration": 4,
    "start_time": "2024-01-07T19:29:34.432Z"
   },
   {
    "duration": 12,
    "start_time": "2024-01-07T19:29:34.438Z"
   },
   {
    "duration": 6,
    "start_time": "2024-01-07T19:29:34.452Z"
   },
   {
    "duration": 14,
    "start_time": "2024-01-07T19:29:34.459Z"
   },
   {
    "duration": 7,
    "start_time": "2024-01-07T19:29:34.474Z"
   },
   {
    "duration": 30,
    "start_time": "2024-01-07T19:29:34.483Z"
   },
   {
    "duration": 20,
    "start_time": "2024-01-07T19:29:34.514Z"
   },
   {
    "duration": 5,
    "start_time": "2024-01-07T19:29:34.535Z"
   },
   {
    "duration": 6,
    "start_time": "2024-01-07T19:29:34.541Z"
   },
   {
    "duration": 10,
    "start_time": "2024-01-07T19:29:34.549Z"
   },
   {
    "duration": 6,
    "start_time": "2024-01-07T19:29:34.560Z"
   },
   {
    "duration": 4,
    "start_time": "2024-01-07T19:29:34.567Z"
   },
   {
    "duration": 48,
    "start_time": "2024-01-07T19:29:34.573Z"
   },
   {
    "duration": 21,
    "start_time": "2024-01-07T19:29:34.622Z"
   },
   {
    "duration": 4,
    "start_time": "2024-01-07T19:29:34.644Z"
   },
   {
    "duration": 10,
    "start_time": "2024-01-07T19:29:34.649Z"
   },
   {
    "duration": 9,
    "start_time": "2024-01-07T19:29:34.661Z"
   },
   {
    "duration": 4,
    "start_time": "2024-01-07T19:29:34.671Z"
   },
   {
    "duration": 7,
    "start_time": "2024-01-07T19:29:34.676Z"
   },
   {
    "duration": 28,
    "start_time": "2024-01-07T19:29:34.684Z"
   },
   {
    "duration": 3,
    "start_time": "2024-01-07T19:29:34.713Z"
   },
   {
    "duration": 4,
    "start_time": "2024-01-07T19:29:34.717Z"
   },
   {
    "duration": 4,
    "start_time": "2024-01-07T19:29:34.722Z"
   },
   {
    "duration": 9,
    "start_time": "2024-01-07T19:29:34.730Z"
   },
   {
    "duration": 84,
    "start_time": "2024-01-07T19:29:34.740Z"
   },
   {
    "duration": 5,
    "start_time": "2024-01-07T19:29:34.826Z"
   },
   {
    "duration": 21955,
    "start_time": "2024-01-07T19:29:34.833Z"
   },
   {
    "duration": 4,
    "start_time": "2024-01-07T19:29:56.790Z"
   },
   {
    "duration": 21,
    "start_time": "2024-01-07T19:29:56.795Z"
   },
   {
    "duration": 1281,
    "start_time": "2024-01-07T19:30:36.586Z"
   },
   {
    "duration": 47,
    "start_time": "2024-01-07T19:30:37.869Z"
   },
   {
    "duration": 15,
    "start_time": "2024-01-07T19:30:37.918Z"
   },
   {
    "duration": 12,
    "start_time": "2024-01-07T19:30:37.934Z"
   },
   {
    "duration": 20,
    "start_time": "2024-01-07T19:30:37.947Z"
   },
   {
    "duration": 19,
    "start_time": "2024-01-07T19:30:37.969Z"
   },
   {
    "duration": 26,
    "start_time": "2024-01-07T19:30:37.989Z"
   },
   {
    "duration": 11,
    "start_time": "2024-01-07T19:30:38.016Z"
   },
   {
    "duration": 47,
    "start_time": "2024-01-07T19:30:38.028Z"
   },
   {
    "duration": 36,
    "start_time": "2024-01-07T19:30:38.077Z"
   },
   {
    "duration": 11,
    "start_time": "2024-01-07T19:30:38.115Z"
   },
   {
    "duration": 11,
    "start_time": "2024-01-07T19:30:38.127Z"
   },
   {
    "duration": 36,
    "start_time": "2024-01-07T19:30:38.140Z"
   },
   {
    "duration": 6,
    "start_time": "2024-01-07T19:30:38.177Z"
   },
   {
    "duration": 10,
    "start_time": "2024-01-07T19:30:38.184Z"
   },
   {
    "duration": 3,
    "start_time": "2024-01-07T19:30:38.195Z"
   },
   {
    "duration": 13,
    "start_time": "2024-01-07T19:30:38.199Z"
   },
   {
    "duration": 26,
    "start_time": "2024-01-07T19:30:38.213Z"
   },
   {
    "duration": 7,
    "start_time": "2024-01-07T19:30:38.241Z"
   },
   {
    "duration": 10,
    "start_time": "2024-01-07T19:30:38.249Z"
   },
   {
    "duration": 7,
    "start_time": "2024-01-07T19:30:38.260Z"
   },
   {
    "duration": 16,
    "start_time": "2024-01-07T19:30:38.268Z"
   },
   {
    "duration": 9,
    "start_time": "2024-01-07T19:30:38.285Z"
   },
   {
    "duration": 21,
    "start_time": "2024-01-07T19:30:38.296Z"
   },
   {
    "duration": 31,
    "start_time": "2024-01-07T19:30:38.318Z"
   },
   {
    "duration": 20,
    "start_time": "2024-01-07T19:30:38.350Z"
   },
   {
    "duration": 10,
    "start_time": "2024-01-07T19:30:38.372Z"
   },
   {
    "duration": 11,
    "start_time": "2024-01-07T19:30:38.385Z"
   },
   {
    "duration": 3,
    "start_time": "2024-01-07T19:30:38.411Z"
   },
   {
    "duration": 10,
    "start_time": "2024-01-07T19:30:38.415Z"
   },
   {
    "duration": 10,
    "start_time": "2024-01-07T19:30:38.426Z"
   },
   {
    "duration": 11,
    "start_time": "2024-01-07T19:30:38.438Z"
   },
   {
    "duration": 10,
    "start_time": "2024-01-07T19:30:38.451Z"
   },
   {
    "duration": 14,
    "start_time": "2024-01-07T19:30:38.462Z"
   },
   {
    "duration": 40,
    "start_time": "2024-01-07T19:30:38.477Z"
   },
   {
    "duration": 4,
    "start_time": "2024-01-07T19:30:38.519Z"
   },
   {
    "duration": 13,
    "start_time": "2024-01-07T19:30:38.524Z"
   },
   {
    "duration": 20,
    "start_time": "2024-01-07T19:30:38.539Z"
   },
   {
    "duration": 14,
    "start_time": "2024-01-07T19:30:38.561Z"
   },
   {
    "duration": 4,
    "start_time": "2024-01-07T19:30:38.576Z"
   },
   {
    "duration": 34,
    "start_time": "2024-01-07T19:30:38.582Z"
   },
   {
    "duration": 11,
    "start_time": "2024-01-07T19:30:38.617Z"
   },
   {
    "duration": 11,
    "start_time": "2024-01-07T19:30:38.629Z"
   },
   {
    "duration": 7,
    "start_time": "2024-01-07T19:30:38.641Z"
   },
   {
    "duration": 11,
    "start_time": "2024-01-07T19:30:38.649Z"
   },
   {
    "duration": 13,
    "start_time": "2024-01-07T19:30:38.662Z"
   },
   {
    "duration": 36,
    "start_time": "2024-01-07T19:30:38.676Z"
   },
   {
    "duration": 14,
    "start_time": "2024-01-07T19:30:38.714Z"
   },
   {
    "duration": 10,
    "start_time": "2024-01-07T19:30:38.729Z"
   },
   {
    "duration": 6,
    "start_time": "2024-01-07T19:30:38.741Z"
   },
   {
    "duration": 4,
    "start_time": "2024-01-07T19:30:38.748Z"
   },
   {
    "duration": 5,
    "start_time": "2024-01-07T19:30:38.753Z"
   },
   {
    "duration": 4,
    "start_time": "2024-01-07T19:30:38.759Z"
   },
   {
    "duration": 11,
    "start_time": "2024-01-07T19:30:38.765Z"
   },
   {
    "duration": 35,
    "start_time": "2024-01-07T19:30:38.777Z"
   },
   {
    "duration": 9,
    "start_time": "2024-01-07T19:30:38.813Z"
   },
   {
    "duration": 7,
    "start_time": "2024-01-07T19:30:38.824Z"
   },
   {
    "duration": 10,
    "start_time": "2024-01-07T19:30:38.832Z"
   },
   {
    "duration": 3,
    "start_time": "2024-01-07T19:30:38.843Z"
   },
   {
    "duration": 14,
    "start_time": "2024-01-07T19:30:38.847Z"
   },
   {
    "duration": 14,
    "start_time": "2024-01-07T19:30:38.863Z"
   },
   {
    "duration": 33,
    "start_time": "2024-01-07T19:30:38.879Z"
   },
   {
    "duration": 6,
    "start_time": "2024-01-07T19:30:38.914Z"
   },
   {
    "duration": 33,
    "start_time": "2024-01-07T19:30:38.922Z"
   },
   {
    "duration": 21,
    "start_time": "2024-01-07T19:30:38.957Z"
   },
   {
    "duration": 9,
    "start_time": "2024-01-07T19:30:38.979Z"
   },
   {
    "duration": 8,
    "start_time": "2024-01-07T19:30:38.989Z"
   },
   {
    "duration": 13,
    "start_time": "2024-01-07T19:30:38.998Z"
   },
   {
    "duration": 5,
    "start_time": "2024-01-07T19:30:39.012Z"
   },
   {
    "duration": 3,
    "start_time": "2024-01-07T19:30:39.018Z"
   },
   {
    "duration": 14,
    "start_time": "2024-01-07T19:30:39.022Z"
   },
   {
    "duration": 18,
    "start_time": "2024-01-07T19:30:39.038Z"
   },
   {
    "duration": 3,
    "start_time": "2024-01-07T19:30:39.058Z"
   },
   {
    "duration": 14,
    "start_time": "2024-01-07T19:30:39.062Z"
   },
   {
    "duration": 40,
    "start_time": "2024-01-07T19:30:39.077Z"
   },
   {
    "duration": 22,
    "start_time": "2024-01-07T19:30:39.118Z"
   },
   {
    "duration": 5,
    "start_time": "2024-01-07T19:30:39.142Z"
   },
   {
    "duration": 5,
    "start_time": "2024-01-07T19:30:39.149Z"
   },
   {
    "duration": 8,
    "start_time": "2024-01-07T19:30:39.156Z"
   },
   {
    "duration": 5,
    "start_time": "2024-01-07T19:30:39.165Z"
   },
   {
    "duration": 11,
    "start_time": "2024-01-07T19:30:39.172Z"
   },
   {
    "duration": 11,
    "start_time": "2024-01-07T19:30:39.188Z"
   },
   {
    "duration": 112,
    "start_time": "2024-01-07T19:30:39.200Z"
   },
   {
    "duration": 5,
    "start_time": "2024-01-07T19:30:39.314Z"
   },
   {
    "duration": 22144,
    "start_time": "2024-01-07T19:30:39.321Z"
   },
   {
    "duration": 4,
    "start_time": "2024-01-07T19:31:01.467Z"
   },
   {
    "duration": 35,
    "start_time": "2024-01-07T19:31:01.472Z"
   },
   {
    "duration": 36872,
    "start_time": "2024-01-07T19:31:01.509Z"
   },
   {
    "duration": 4,
    "start_time": "2024-01-07T19:31:38.382Z"
   },
   {
    "duration": 8,
    "start_time": "2024-01-07T19:31:38.387Z"
   },
   {
    "duration": 1222,
    "start_time": "2024-01-07T19:33:05.643Z"
   },
   {
    "duration": 48,
    "start_time": "2024-01-07T19:33:06.867Z"
   },
   {
    "duration": 15,
    "start_time": "2024-01-07T19:33:06.917Z"
   },
   {
    "duration": 11,
    "start_time": "2024-01-07T19:33:06.934Z"
   },
   {
    "duration": 18,
    "start_time": "2024-01-07T19:33:06.947Z"
   },
   {
    "duration": 18,
    "start_time": "2024-01-07T19:33:06.966Z"
   },
   {
    "duration": 26,
    "start_time": "2024-01-07T19:33:06.986Z"
   },
   {
    "duration": 14,
    "start_time": "2024-01-07T19:33:07.013Z"
   },
   {
    "duration": 56,
    "start_time": "2024-01-07T19:33:07.028Z"
   },
   {
    "duration": 25,
    "start_time": "2024-01-07T19:33:07.087Z"
   },
   {
    "duration": 13,
    "start_time": "2024-01-07T19:33:07.113Z"
   },
   {
    "duration": 12,
    "start_time": "2024-01-07T19:33:07.128Z"
   },
   {
    "duration": 36,
    "start_time": "2024-01-07T19:33:07.142Z"
   },
   {
    "duration": 7,
    "start_time": "2024-01-07T19:33:07.179Z"
   },
   {
    "duration": 16,
    "start_time": "2024-01-07T19:33:07.187Z"
   },
   {
    "duration": 4,
    "start_time": "2024-01-07T19:33:07.205Z"
   },
   {
    "duration": 8,
    "start_time": "2024-01-07T19:33:07.210Z"
   },
   {
    "duration": 27,
    "start_time": "2024-01-07T19:33:07.220Z"
   },
   {
    "duration": 8,
    "start_time": "2024-01-07T19:33:07.249Z"
   },
   {
    "duration": 10,
    "start_time": "2024-01-07T19:33:07.258Z"
   },
   {
    "duration": 9,
    "start_time": "2024-01-07T19:33:07.270Z"
   },
   {
    "duration": 16,
    "start_time": "2024-01-07T19:33:07.281Z"
   },
   {
    "duration": 19,
    "start_time": "2024-01-07T19:33:07.298Z"
   },
   {
    "duration": 10,
    "start_time": "2024-01-07T19:33:07.318Z"
   },
   {
    "duration": 33,
    "start_time": "2024-01-07T19:33:07.330Z"
   },
   {
    "duration": 20,
    "start_time": "2024-01-07T19:33:07.365Z"
   },
   {
    "duration": 10,
    "start_time": "2024-01-07T19:33:07.386Z"
   },
   {
    "duration": 11,
    "start_time": "2024-01-07T19:33:07.413Z"
   },
   {
    "duration": 5,
    "start_time": "2024-01-07T19:33:07.425Z"
   },
   {
    "duration": 9,
    "start_time": "2024-01-07T19:33:07.431Z"
   },
   {
    "duration": 18,
    "start_time": "2024-01-07T19:33:07.441Z"
   },
   {
    "duration": 10,
    "start_time": "2024-01-07T19:33:07.460Z"
   },
   {
    "duration": 8,
    "start_time": "2024-01-07T19:33:07.472Z"
   },
   {
    "duration": 31,
    "start_time": "2024-01-07T19:33:07.482Z"
   },
   {
    "duration": 14,
    "start_time": "2024-01-07T19:33:07.514Z"
   },
   {
    "duration": 3,
    "start_time": "2024-01-07T19:33:07.529Z"
   },
   {
    "duration": 9,
    "start_time": "2024-01-07T19:33:07.533Z"
   },
   {
    "duration": 12,
    "start_time": "2024-01-07T19:33:07.544Z"
   },
   {
    "duration": 11,
    "start_time": "2024-01-07T19:33:07.558Z"
   },
   {
    "duration": 3,
    "start_time": "2024-01-07T19:33:07.571Z"
   },
   {
    "duration": 45,
    "start_time": "2024-01-07T19:33:07.575Z"
   },
   {
    "duration": 12,
    "start_time": "2024-01-07T19:33:07.621Z"
   },
   {
    "duration": 13,
    "start_time": "2024-01-07T19:33:07.634Z"
   },
   {
    "duration": 7,
    "start_time": "2024-01-07T19:33:07.649Z"
   },
   {
    "duration": 10,
    "start_time": "2024-01-07T19:33:07.658Z"
   },
   {
    "duration": 25,
    "start_time": "2024-01-07T19:33:07.670Z"
   },
   {
    "duration": 11,
    "start_time": "2024-01-07T19:33:07.710Z"
   },
   {
    "duration": 17,
    "start_time": "2024-01-07T19:33:07.722Z"
   },
   {
    "duration": 11,
    "start_time": "2024-01-07T19:33:07.740Z"
   },
   {
    "duration": 11,
    "start_time": "2024-01-07T19:33:07.753Z"
   },
   {
    "duration": 16,
    "start_time": "2024-01-07T19:33:07.766Z"
   },
   {
    "duration": 18,
    "start_time": "2024-01-07T19:33:07.783Z"
   },
   {
    "duration": 7,
    "start_time": "2024-01-07T19:33:07.803Z"
   },
   {
    "duration": 12,
    "start_time": "2024-01-07T19:33:07.811Z"
   },
   {
    "duration": 11,
    "start_time": "2024-01-07T19:33:07.824Z"
   },
   {
    "duration": 14,
    "start_time": "2024-01-07T19:33:07.837Z"
   },
   {
    "duration": 7,
    "start_time": "2024-01-07T19:33:07.853Z"
   },
   {
    "duration": 11,
    "start_time": "2024-01-07T19:33:07.862Z"
   },
   {
    "duration": 2,
    "start_time": "2024-01-07T19:33:07.874Z"
   },
   {
    "duration": 17,
    "start_time": "2024-01-07T19:33:07.878Z"
   },
   {
    "duration": 6,
    "start_time": "2024-01-07T19:33:07.910Z"
   },
   {
    "duration": 10,
    "start_time": "2024-01-07T19:33:07.918Z"
   },
   {
    "duration": 6,
    "start_time": "2024-01-07T19:33:07.930Z"
   },
   {
    "duration": 9,
    "start_time": "2024-01-07T19:33:07.937Z"
   },
   {
    "duration": 18,
    "start_time": "2024-01-07T19:33:07.948Z"
   },
   {
    "duration": 5,
    "start_time": "2024-01-07T19:33:07.968Z"
   },
   {
    "duration": 4,
    "start_time": "2024-01-07T19:33:07.974Z"
   },
   {
    "duration": 39,
    "start_time": "2024-01-07T19:33:07.980Z"
   },
   {
    "duration": 5,
    "start_time": "2024-01-07T19:33:08.020Z"
   },
   {
    "duration": 10,
    "start_time": "2024-01-07T19:33:08.026Z"
   },
   {
    "duration": 21,
    "start_time": "2024-01-07T19:33:08.037Z"
   },
   {
    "duration": 23,
    "start_time": "2024-01-07T19:33:08.059Z"
   },
   {
    "duration": 3,
    "start_time": "2024-01-07T19:33:08.083Z"
   },
   {
    "duration": 27,
    "start_time": "2024-01-07T19:33:08.087Z"
   },
   {
    "duration": 5,
    "start_time": "2024-01-07T19:33:08.116Z"
   },
   {
    "duration": 6,
    "start_time": "2024-01-07T19:33:08.123Z"
   },
   {
    "duration": 5,
    "start_time": "2024-01-07T19:33:08.131Z"
   },
   {
    "duration": 6,
    "start_time": "2024-01-07T19:33:08.137Z"
   },
   {
    "duration": 5,
    "start_time": "2024-01-07T19:33:08.145Z"
   },
   {
    "duration": 5,
    "start_time": "2024-01-07T19:33:08.151Z"
   },
   {
    "duration": 7,
    "start_time": "2024-01-07T19:33:08.157Z"
   },
   {
    "duration": 8,
    "start_time": "2024-01-07T19:33:08.170Z"
   },
   {
    "duration": 104,
    "start_time": "2024-01-07T19:33:08.211Z"
   },
   {
    "duration": 5,
    "start_time": "2024-01-07T19:33:08.317Z"
   },
   {
    "duration": 21963,
    "start_time": "2024-01-07T19:33:08.323Z"
   },
   {
    "duration": 4,
    "start_time": "2024-01-07T19:33:30.288Z"
   },
   {
    "duration": 42,
    "start_time": "2024-01-07T19:33:30.294Z"
   },
   {
    "duration": 36335,
    "start_time": "2024-01-07T19:33:30.337Z"
   },
   {
    "duration": 3,
    "start_time": "2024-01-07T19:34:06.674Z"
   },
   {
    "duration": 4,
    "start_time": "2024-01-07T19:34:06.678Z"
   },
   {
    "duration": 82536,
    "start_time": "2024-01-07T19:34:06.684Z"
   },
   {
    "duration": 3,
    "start_time": "2024-01-07T19:35:29.221Z"
   },
   {
    "duration": 114,
    "start_time": "2024-01-07T19:35:29.226Z"
   },
   {
    "duration": 5,
    "start_time": "2024-01-07T19:35:42.907Z"
   },
   {
    "duration": 15,
    "start_time": "2024-01-07T19:35:47.835Z"
   },
   {
    "duration": 34,
    "start_time": "2024-01-07T19:35:49.698Z"
   },
   {
    "duration": 2912,
    "start_time": "2024-01-08T13:23:04.757Z"
   },
   {
    "duration": 89,
    "start_time": "2024-01-08T13:23:08.121Z"
   },
   {
    "duration": 15,
    "start_time": "2024-01-08T13:23:08.588Z"
   },
   {
    "duration": 13,
    "start_time": "2024-01-08T13:23:09.813Z"
   },
   {
    "duration": 21,
    "start_time": "2024-01-08T13:23:15.635Z"
   },
   {
    "duration": 103,
    "start_time": "2024-01-08T13:24:44.329Z"
   },
   {
    "duration": 15,
    "start_time": "2024-01-08T13:24:44.827Z"
   },
   {
    "duration": 10,
    "start_time": "2024-01-08T13:24:45.370Z"
   },
   {
    "duration": 51,
    "start_time": "2024-01-08T13:24:45.923Z"
   },
   {
    "duration": 90,
    "start_time": "2024-01-08T13:28:54.479Z"
   },
   {
    "duration": 13,
    "start_time": "2024-01-08T13:28:55.074Z"
   },
   {
    "duration": 16,
    "start_time": "2024-01-08T13:28:55.734Z"
   },
   {
    "duration": 85,
    "start_time": "2024-01-08T13:29:47.119Z"
   },
   {
    "duration": 7,
    "start_time": "2024-01-08T13:29:47.761Z"
   },
   {
    "duration": 9,
    "start_time": "2024-01-08T13:29:50.495Z"
   },
   {
    "duration": 3,
    "start_time": "2024-01-08T13:29:51.678Z"
   },
   {
    "duration": 8,
    "start_time": "2024-01-08T13:29:52.180Z"
   },
   {
    "duration": 145,
    "start_time": "2024-01-08T13:30:23.043Z"
   },
   {
    "duration": 7,
    "start_time": "2024-01-08T13:30:23.679Z"
   },
   {
    "duration": 11,
    "start_time": "2024-01-08T13:30:24.197Z"
   },
   {
    "duration": 8,
    "start_time": "2024-01-08T13:30:24.753Z"
   },
   {
    "duration": 61,
    "start_time": "2024-01-08T13:30:55.839Z"
   },
   {
    "duration": 11,
    "start_time": "2024-01-08T13:30:56.269Z"
   },
   {
    "duration": 11,
    "start_time": "2024-01-08T13:30:56.459Z"
   },
   {
    "duration": 34,
    "start_time": "2024-01-08T13:30:57.602Z"
   },
   {
    "duration": 105,
    "start_time": "2024-01-08T13:30:58.697Z"
   },
   {
    "duration": 12,
    "start_time": "2024-01-08T13:31:00.740Z"
   },
   {
    "duration": 11,
    "start_time": "2024-01-08T13:31:00.944Z"
   },
   {
    "duration": 3,
    "start_time": "2024-01-08T13:31:01.933Z"
   },
   {
    "duration": 8,
    "start_time": "2024-01-08T13:31:11.263Z"
   },
   {
    "duration": 11,
    "start_time": "2024-01-08T13:31:16.253Z"
   },
   {
    "duration": 10,
    "start_time": "2024-01-08T13:31:16.753Z"
   },
   {
    "duration": 15,
    "start_time": "2024-01-08T13:33:08.791Z"
   },
   {
    "duration": 12,
    "start_time": "2024-01-08T13:33:18.963Z"
   },
   {
    "duration": 14,
    "start_time": "2024-01-08T13:33:22.328Z"
   },
   {
    "duration": 3,
    "start_time": "2024-01-08T13:33:27.403Z"
   },
   {
    "duration": 13,
    "start_time": "2024-01-08T13:33:28.038Z"
   },
   {
    "duration": 21,
    "start_time": "2024-01-08T13:33:28.224Z"
   },
   {
    "duration": 15,
    "start_time": "2024-01-08T13:33:28.414Z"
   },
   {
    "duration": 4,
    "start_time": "2024-01-08T13:33:29.141Z"
   },
   {
    "duration": 7,
    "start_time": "2024-01-08T13:33:30.052Z"
   },
   {
    "duration": 10,
    "start_time": "2024-01-08T13:33:30.224Z"
   },
   {
    "duration": 12,
    "start_time": "2024-01-08T13:33:30.560Z"
   },
   {
    "duration": 7,
    "start_time": "2024-01-08T13:33:30.719Z"
   },
   {
    "duration": 7,
    "start_time": "2024-01-08T13:33:31.071Z"
   },
   {
    "duration": 15,
    "start_time": "2024-01-08T13:33:31.236Z"
   },
   {
    "duration": 12,
    "start_time": "2024-01-08T13:33:31.423Z"
   },
   {
    "duration": 19,
    "start_time": "2024-01-08T13:33:31.588Z"
   },
   {
    "duration": 13,
    "start_time": "2024-01-08T13:33:31.745Z"
   },
   {
    "duration": 4,
    "start_time": "2024-01-08T13:33:31.924Z"
   },
   {
    "duration": 3,
    "start_time": "2024-01-08T13:33:32.121Z"
   },
   {
    "duration": 3,
    "start_time": "2024-01-08T13:33:32.294Z"
   },
   {
    "duration": 3,
    "start_time": "2024-01-08T13:33:32.490Z"
   },
   {
    "duration": 6,
    "start_time": "2024-01-08T13:33:33.366Z"
   },
   {
    "duration": 12,
    "start_time": "2024-01-08T13:33:33.572Z"
   },
   {
    "duration": 11,
    "start_time": "2024-01-08T13:33:36.437Z"
   },
   {
    "duration": 9,
    "start_time": "2024-01-08T13:33:37.578Z"
   },
   {
    "duration": 11,
    "start_time": "2024-01-08T13:33:37.760Z"
   },
   {
    "duration": 4,
    "start_time": "2024-01-08T13:33:37.939Z"
   },
   {
    "duration": 10,
    "start_time": "2024-01-08T13:33:38.081Z"
   },
   {
    "duration": 9,
    "start_time": "2024-01-08T13:33:38.269Z"
   },
   {
    "duration": 14,
    "start_time": "2024-01-08T13:33:38.919Z"
   },
   {
    "duration": 6,
    "start_time": "2024-01-08T13:38:52.696Z"
   },
   {
    "duration": 13,
    "start_time": "2024-01-08T13:38:53.591Z"
   },
   {
    "duration": 19,
    "start_time": "2024-01-08T13:38:55.105Z"
   },
   {
    "duration": 5,
    "start_time": "2024-01-08T13:39:42.557Z"
   },
   {
    "duration": 5,
    "start_time": "2024-01-08T13:39:44.522Z"
   },
   {
    "duration": 11,
    "start_time": "2024-01-08T13:39:45.016Z"
   },
   {
    "duration": 5,
    "start_time": "2024-01-08T13:40:27.400Z"
   },
   {
    "duration": 3,
    "start_time": "2024-01-08T13:40:29.057Z"
   },
   {
    "duration": 19,
    "start_time": "2024-01-08T13:40:29.523Z"
   },
   {
    "duration": 21,
    "start_time": "2024-01-08T13:40:41.456Z"
   },
   {
    "duration": 130,
    "start_time": "2024-01-08T13:45:43.240Z"
   },
   {
    "duration": 293,
    "start_time": "2024-01-08T13:46:22.008Z"
   },
   {
    "duration": 190,
    "start_time": "2024-01-08T13:46:23.037Z"
   },
   {
    "duration": 36,
    "start_time": "2024-01-08T13:47:22.535Z"
   },
   {
    "duration": 1632,
    "start_time": "2024-01-08T13:47:23.354Z"
   },
   {
    "duration": 4,
    "start_time": "2024-01-08T13:47:34.206Z"
   },
   {
    "duration": 10,
    "start_time": "2024-01-08T13:47:39.484Z"
   },
   {
    "duration": 4,
    "start_time": "2024-01-08T13:48:06.850Z"
   },
   {
    "duration": 5,
    "start_time": "2024-01-08T13:48:08.221Z"
   },
   {
    "duration": 4,
    "start_time": "2024-01-08T13:48:11.063Z"
   },
   {
    "duration": 4,
    "start_time": "2024-01-08T13:48:11.362Z"
   },
   {
    "duration": 5,
    "start_time": "2024-01-08T13:48:11.542Z"
   },
   {
    "duration": 3,
    "start_time": "2024-01-08T13:48:11.716Z"
   },
   {
    "duration": 9,
    "start_time": "2024-01-08T13:48:15.594Z"
   },
   {
    "duration": 208,
    "start_time": "2024-01-08T13:49:02.040Z"
   },
   {
    "duration": 4,
    "start_time": "2024-01-08T13:49:03.033Z"
   },
   {
    "duration": 10013,
    "start_time": "2024-01-08T13:50:48.278Z"
   },
   {
    "duration": 4,
    "start_time": "2024-01-08T13:50:58.292Z"
   },
   {
    "duration": 22,
    "start_time": "2024-01-08T13:50:58.297Z"
   },
   {
    "duration": 40019,
    "start_time": "2024-01-08T13:52:01.340Z"
   },
   {
    "duration": 4,
    "start_time": "2024-01-08T13:52:41.361Z"
   },
   {
    "duration": 1434,
    "start_time": "2024-01-09T12:14:16.407Z"
   },
   {
    "duration": 92,
    "start_time": "2024-01-09T12:14:17.843Z"
   },
   {
    "duration": 19,
    "start_time": "2024-01-09T12:14:17.937Z"
   },
   {
    "duration": 14,
    "start_time": "2024-01-09T12:14:17.958Z"
   },
   {
    "duration": 24,
    "start_time": "2024-01-09T12:14:17.973Z"
   },
   {
    "duration": 91,
    "start_time": "2024-01-09T12:14:17.999Z"
   },
   {
    "duration": 17,
    "start_time": "2024-01-09T12:14:18.092Z"
   },
   {
    "duration": 11,
    "start_time": "2024-01-09T12:14:18.110Z"
   },
   {
    "duration": 52,
    "start_time": "2024-01-09T12:14:18.122Z"
   },
   {
    "duration": 85,
    "start_time": "2024-01-09T12:14:18.176Z"
   },
   {
    "duration": 16,
    "start_time": "2024-01-09T12:14:18.262Z"
   },
   {
    "duration": 19,
    "start_time": "2024-01-09T12:14:18.280Z"
   },
   {
    "duration": 55,
    "start_time": "2024-01-09T12:14:18.300Z"
   },
   {
    "duration": 10,
    "start_time": "2024-01-09T12:14:18.357Z"
   },
   {
    "duration": 11,
    "start_time": "2024-01-09T12:14:18.369Z"
   },
   {
    "duration": 5,
    "start_time": "2024-01-09T12:14:18.382Z"
   },
   {
    "duration": 10,
    "start_time": "2024-01-09T12:14:18.389Z"
   },
   {
    "duration": 93,
    "start_time": "2024-01-09T12:14:18.400Z"
   },
   {
    "duration": 7,
    "start_time": "2024-01-09T12:14:18.495Z"
   },
   {
    "duration": 18,
    "start_time": "2024-01-09T12:14:18.503Z"
   },
   {
    "duration": 8,
    "start_time": "2024-01-09T12:14:18.522Z"
   },
   {
    "duration": 49,
    "start_time": "2024-01-09T12:14:18.531Z"
   },
   {
    "duration": 12,
    "start_time": "2024-01-09T12:14:18.581Z"
   },
   {
    "duration": 11,
    "start_time": "2024-01-09T12:14:18.594Z"
   },
   {
    "duration": 37,
    "start_time": "2024-01-09T12:14:18.606Z"
   },
   {
    "duration": 66,
    "start_time": "2024-01-09T12:14:18.644Z"
   },
   {
    "duration": 10,
    "start_time": "2024-01-09T12:14:18.712Z"
   },
   {
    "duration": 11,
    "start_time": "2024-01-09T12:14:18.726Z"
   },
   {
    "duration": 16,
    "start_time": "2024-01-09T12:14:18.739Z"
   },
   {
    "duration": 109,
    "start_time": "2024-01-09T12:14:18.757Z"
   },
   {
    "duration": 0,
    "start_time": "2024-01-09T12:14:18.870Z"
   },
   {
    "duration": 0,
    "start_time": "2024-01-09T12:14:18.871Z"
   },
   {
    "duration": 0,
    "start_time": "2024-01-09T12:14:18.873Z"
   },
   {
    "duration": 0,
    "start_time": "2024-01-09T12:14:18.874Z"
   },
   {
    "duration": 0,
    "start_time": "2024-01-09T12:14:18.875Z"
   },
   {
    "duration": 0,
    "start_time": "2024-01-09T12:14:18.877Z"
   },
   {
    "duration": 0,
    "start_time": "2024-01-09T12:14:18.878Z"
   },
   {
    "duration": 0,
    "start_time": "2024-01-09T12:14:18.880Z"
   },
   {
    "duration": 0,
    "start_time": "2024-01-09T12:14:18.881Z"
   },
   {
    "duration": 0,
    "start_time": "2024-01-09T12:14:18.882Z"
   },
   {
    "duration": 0,
    "start_time": "2024-01-09T12:14:18.884Z"
   },
   {
    "duration": 0,
    "start_time": "2024-01-09T12:14:18.885Z"
   },
   {
    "duration": 0,
    "start_time": "2024-01-09T12:14:18.886Z"
   },
   {
    "duration": 0,
    "start_time": "2024-01-09T12:14:18.888Z"
   },
   {
    "duration": 0,
    "start_time": "2024-01-09T12:14:18.889Z"
   },
   {
    "duration": 0,
    "start_time": "2024-01-09T12:14:18.891Z"
   },
   {
    "duration": 0,
    "start_time": "2024-01-09T12:14:18.892Z"
   },
   {
    "duration": 0,
    "start_time": "2024-01-09T12:14:18.893Z"
   },
   {
    "duration": 0,
    "start_time": "2024-01-09T12:14:18.895Z"
   },
   {
    "duration": 0,
    "start_time": "2024-01-09T12:14:18.896Z"
   },
   {
    "duration": 0,
    "start_time": "2024-01-09T12:14:18.897Z"
   },
   {
    "duration": 0,
    "start_time": "2024-01-09T12:14:18.899Z"
   },
   {
    "duration": 0,
    "start_time": "2024-01-09T12:14:18.901Z"
   },
   {
    "duration": 0,
    "start_time": "2024-01-09T12:14:18.902Z"
   },
   {
    "duration": 0,
    "start_time": "2024-01-09T12:14:18.943Z"
   },
   {
    "duration": 0,
    "start_time": "2024-01-09T12:14:18.944Z"
   },
   {
    "duration": 0,
    "start_time": "2024-01-09T12:14:18.945Z"
   },
   {
    "duration": 0,
    "start_time": "2024-01-09T12:14:18.947Z"
   },
   {
    "duration": 0,
    "start_time": "2024-01-09T12:14:18.949Z"
   },
   {
    "duration": 0,
    "start_time": "2024-01-09T12:14:18.951Z"
   },
   {
    "duration": 0,
    "start_time": "2024-01-09T12:14:18.952Z"
   },
   {
    "duration": 0,
    "start_time": "2024-01-09T12:14:18.954Z"
   },
   {
    "duration": 0,
    "start_time": "2024-01-09T12:14:18.955Z"
   },
   {
    "duration": 0,
    "start_time": "2024-01-09T12:14:18.957Z"
   },
   {
    "duration": 0,
    "start_time": "2024-01-09T12:14:18.959Z"
   },
   {
    "duration": 0,
    "start_time": "2024-01-09T12:14:18.960Z"
   },
   {
    "duration": 0,
    "start_time": "2024-01-09T12:14:18.962Z"
   },
   {
    "duration": 0,
    "start_time": "2024-01-09T12:14:18.964Z"
   },
   {
    "duration": 0,
    "start_time": "2024-01-09T12:14:18.965Z"
   },
   {
    "duration": 0,
    "start_time": "2024-01-09T12:14:18.967Z"
   },
   {
    "duration": 0,
    "start_time": "2024-01-09T12:14:18.968Z"
   },
   {
    "duration": 0,
    "start_time": "2024-01-09T12:14:18.970Z"
   },
   {
    "duration": 0,
    "start_time": "2024-01-09T12:14:18.971Z"
   },
   {
    "duration": 0,
    "start_time": "2024-01-09T12:14:18.973Z"
   },
   {
    "duration": 0,
    "start_time": "2024-01-09T12:14:18.975Z"
   },
   {
    "duration": 0,
    "start_time": "2024-01-09T12:14:18.976Z"
   },
   {
    "duration": 0,
    "start_time": "2024-01-09T12:14:18.978Z"
   },
   {
    "duration": 0,
    "start_time": "2024-01-09T12:14:18.980Z"
   },
   {
    "duration": 0,
    "start_time": "2024-01-09T12:14:18.980Z"
   },
   {
    "duration": 0,
    "start_time": "2024-01-09T12:14:19.042Z"
   },
   {
    "duration": 0,
    "start_time": "2024-01-09T12:14:19.044Z"
   },
   {
    "duration": 0,
    "start_time": "2024-01-09T12:14:19.045Z"
   },
   {
    "duration": 0,
    "start_time": "2024-01-09T12:14:19.047Z"
   },
   {
    "duration": 0,
    "start_time": "2024-01-09T12:14:19.048Z"
   },
   {
    "duration": 0,
    "start_time": "2024-01-09T12:14:19.049Z"
   },
   {
    "duration": 0,
    "start_time": "2024-01-09T12:14:19.051Z"
   },
   {
    "duration": 0,
    "start_time": "2024-01-09T12:14:19.052Z"
   },
   {
    "duration": 0,
    "start_time": "2024-01-09T12:14:19.054Z"
   },
   {
    "duration": 0,
    "start_time": "2024-01-09T12:14:19.055Z"
   },
   {
    "duration": 0,
    "start_time": "2024-01-09T12:14:19.056Z"
   },
   {
    "duration": 0,
    "start_time": "2024-01-09T12:14:19.058Z"
   },
   {
    "duration": 0,
    "start_time": "2024-01-09T12:14:19.059Z"
   },
   {
    "duration": 0,
    "start_time": "2024-01-09T12:14:19.060Z"
   },
   {
    "duration": 0,
    "start_time": "2024-01-09T12:14:19.061Z"
   },
   {
    "duration": 0,
    "start_time": "2024-01-09T12:14:19.063Z"
   },
   {
    "duration": 0,
    "start_time": "2024-01-09T12:14:19.064Z"
   },
   {
    "duration": 0,
    "start_time": "2024-01-09T12:14:19.065Z"
   },
   {
    "duration": 15,
    "start_time": "2024-01-09T12:14:45.778Z"
   },
   {
    "duration": 10,
    "start_time": "2024-01-09T12:15:03.266Z"
   },
   {
    "duration": 8,
    "start_time": "2024-01-09T12:16:23.645Z"
   },
   {
    "duration": 1372,
    "start_time": "2024-01-09T12:16:45.638Z"
   },
   {
    "duration": 49,
    "start_time": "2024-01-09T12:16:47.012Z"
   },
   {
    "duration": 16,
    "start_time": "2024-01-09T12:16:47.063Z"
   },
   {
    "duration": 13,
    "start_time": "2024-01-09T12:16:47.081Z"
   },
   {
    "duration": 19,
    "start_time": "2024-01-09T12:16:47.095Z"
   },
   {
    "duration": 37,
    "start_time": "2024-01-09T12:16:47.115Z"
   },
   {
    "duration": 21,
    "start_time": "2024-01-09T12:16:47.154Z"
   },
   {
    "duration": 10,
    "start_time": "2024-01-09T12:16:47.176Z"
   },
   {
    "duration": 73,
    "start_time": "2024-01-09T12:16:47.188Z"
   },
   {
    "duration": 25,
    "start_time": "2024-01-09T12:16:47.264Z"
   },
   {
    "duration": 13,
    "start_time": "2024-01-09T12:16:47.291Z"
   },
   {
    "duration": 12,
    "start_time": "2024-01-09T12:16:47.305Z"
   },
   {
    "duration": 37,
    "start_time": "2024-01-09T12:16:47.318Z"
   },
   {
    "duration": 7,
    "start_time": "2024-01-09T12:16:47.357Z"
   },
   {
    "duration": 10,
    "start_time": "2024-01-09T12:16:47.366Z"
   },
   {
    "duration": 3,
    "start_time": "2024-01-09T12:16:47.378Z"
   },
   {
    "duration": 11,
    "start_time": "2024-01-09T12:16:47.382Z"
   },
   {
    "duration": 28,
    "start_time": "2024-01-09T12:16:47.395Z"
   },
   {
    "duration": 7,
    "start_time": "2024-01-09T12:16:47.425Z"
   },
   {
    "duration": 12,
    "start_time": "2024-01-09T12:16:47.443Z"
   },
   {
    "duration": 9,
    "start_time": "2024-01-09T12:16:47.456Z"
   },
   {
    "duration": 17,
    "start_time": "2024-01-09T12:16:47.466Z"
   },
   {
    "duration": 12,
    "start_time": "2024-01-09T12:16:47.485Z"
   },
   {
    "duration": 11,
    "start_time": "2024-01-09T12:16:47.498Z"
   },
   {
    "duration": 61,
    "start_time": "2024-01-09T12:16:47.511Z"
   },
   {
    "duration": 21,
    "start_time": "2024-01-09T12:16:47.574Z"
   },
   {
    "duration": 10,
    "start_time": "2024-01-09T12:16:47.596Z"
   },
   {
    "duration": 11,
    "start_time": "2024-01-09T12:16:47.611Z"
   },
   {
    "duration": 4,
    "start_time": "2024-01-09T12:16:47.623Z"
   },
   {
    "duration": 10,
    "start_time": "2024-01-09T12:16:47.643Z"
   },
   {
    "duration": 6,
    "start_time": "2024-01-09T12:16:47.654Z"
   },
   {
    "duration": 9,
    "start_time": "2024-01-09T12:16:47.662Z"
   },
   {
    "duration": 9,
    "start_time": "2024-01-09T12:16:47.673Z"
   },
   {
    "duration": 9,
    "start_time": "2024-01-09T12:16:47.684Z"
   },
   {
    "duration": 47,
    "start_time": "2024-01-09T12:16:47.695Z"
   },
   {
    "duration": 10,
    "start_time": "2024-01-09T12:16:47.744Z"
   },
   {
    "duration": 3,
    "start_time": "2024-01-09T12:16:47.755Z"
   },
   {
    "duration": 10,
    "start_time": "2024-01-09T12:16:47.760Z"
   },
   {
    "duration": 16,
    "start_time": "2024-01-09T12:16:47.772Z"
   },
   {
    "duration": 13,
    "start_time": "2024-01-09T12:16:47.790Z"
   },
   {
    "duration": 38,
    "start_time": "2024-01-09T12:16:47.805Z"
   },
   {
    "duration": 7,
    "start_time": "2024-01-09T12:16:47.845Z"
   },
   {
    "duration": 11,
    "start_time": "2024-01-09T12:16:47.854Z"
   },
   {
    "duration": 12,
    "start_time": "2024-01-09T12:16:47.867Z"
   },
   {
    "duration": 7,
    "start_time": "2024-01-09T12:16:47.880Z"
   },
   {
    "duration": 8,
    "start_time": "2024-01-09T12:16:47.888Z"
   },
   {
    "duration": 47,
    "start_time": "2024-01-09T12:16:47.898Z"
   },
   {
    "duration": 11,
    "start_time": "2024-01-09T12:16:47.947Z"
   },
   {
    "duration": 13,
    "start_time": "2024-01-09T12:16:47.960Z"
   },
   {
    "duration": 11,
    "start_time": "2024-01-09T12:16:47.975Z"
   },
   {
    "duration": 5,
    "start_time": "2024-01-09T12:16:47.988Z"
   },
   {
    "duration": 4,
    "start_time": "2024-01-09T12:16:47.994Z"
   },
   {
    "duration": 10,
    "start_time": "2024-01-09T12:16:48.000Z"
   },
   {
    "duration": 32,
    "start_time": "2024-01-09T12:16:48.013Z"
   },
   {
    "duration": 6,
    "start_time": "2024-01-09T12:16:48.047Z"
   },
   {
    "duration": 13,
    "start_time": "2024-01-09T12:16:48.055Z"
   },
   {
    "duration": 10,
    "start_time": "2024-01-09T12:16:48.070Z"
   },
   {
    "duration": 7,
    "start_time": "2024-01-09T12:16:48.082Z"
   },
   {
    "duration": 11,
    "start_time": "2024-01-09T12:16:48.091Z"
   },
   {
    "duration": 3,
    "start_time": "2024-01-09T12:16:48.103Z"
   },
   {
    "duration": 39,
    "start_time": "2024-01-09T12:16:48.108Z"
   },
   {
    "duration": 6,
    "start_time": "2024-01-09T12:16:48.149Z"
   },
   {
    "duration": 12,
    "start_time": "2024-01-09T12:16:48.158Z"
   },
   {
    "duration": 6,
    "start_time": "2024-01-09T12:16:48.172Z"
   },
   {
    "duration": 10,
    "start_time": "2024-01-09T12:16:48.181Z"
   },
   {
    "duration": 59,
    "start_time": "2024-01-09T12:16:48.193Z"
   },
   {
    "duration": 104,
    "start_time": "2024-01-09T12:16:48.254Z"
   },
   {
    "duration": 0,
    "start_time": "2024-01-09T12:16:48.361Z"
   },
   {
    "duration": 0,
    "start_time": "2024-01-09T12:16:48.362Z"
   },
   {
    "duration": 0,
    "start_time": "2024-01-09T12:16:48.364Z"
   },
   {
    "duration": 0,
    "start_time": "2024-01-09T12:16:48.364Z"
   },
   {
    "duration": 0,
    "start_time": "2024-01-09T12:16:48.365Z"
   },
   {
    "duration": 0,
    "start_time": "2024-01-09T12:16:48.366Z"
   },
   {
    "duration": 0,
    "start_time": "2024-01-09T12:16:48.367Z"
   },
   {
    "duration": 0,
    "start_time": "2024-01-09T12:16:48.368Z"
   },
   {
    "duration": 0,
    "start_time": "2024-01-09T12:16:48.369Z"
   },
   {
    "duration": 0,
    "start_time": "2024-01-09T12:16:48.371Z"
   },
   {
    "duration": 0,
    "start_time": "2024-01-09T12:16:48.372Z"
   },
   {
    "duration": 1,
    "start_time": "2024-01-09T12:16:48.373Z"
   },
   {
    "duration": 1,
    "start_time": "2024-01-09T12:16:48.374Z"
   },
   {
    "duration": 0,
    "start_time": "2024-01-09T12:16:48.376Z"
   },
   {
    "duration": 0,
    "start_time": "2024-01-09T12:16:48.377Z"
   },
   {
    "duration": 0,
    "start_time": "2024-01-09T12:16:48.378Z"
   },
   {
    "duration": 0,
    "start_time": "2024-01-09T12:16:48.379Z"
   },
   {
    "duration": 0,
    "start_time": "2024-01-09T12:16:48.380Z"
   },
   {
    "duration": 0,
    "start_time": "2024-01-09T12:16:48.381Z"
   },
   {
    "duration": 0,
    "start_time": "2024-01-09T12:16:48.382Z"
   },
   {
    "duration": 0,
    "start_time": "2024-01-09T12:16:48.383Z"
   },
   {
    "duration": 0,
    "start_time": "2024-01-09T12:16:48.385Z"
   },
   {
    "duration": 0,
    "start_time": "2024-01-09T12:16:48.386Z"
   },
   {
    "duration": 0,
    "start_time": "2024-01-09T12:16:48.387Z"
   },
   {
    "duration": 0,
    "start_time": "2024-01-09T12:16:48.388Z"
   },
   {
    "duration": 0,
    "start_time": "2024-01-09T12:16:48.441Z"
   },
   {
    "duration": 0,
    "start_time": "2024-01-09T12:16:48.442Z"
   },
   {
    "duration": 0,
    "start_time": "2024-01-09T12:16:48.444Z"
   },
   {
    "duration": 0,
    "start_time": "2024-01-09T12:16:48.445Z"
   },
   {
    "duration": 0,
    "start_time": "2024-01-09T12:16:48.446Z"
   },
   {
    "duration": 0,
    "start_time": "2024-01-09T12:16:48.447Z"
   },
   {
    "duration": 20,
    "start_time": "2024-01-09T12:17:20.038Z"
   },
   {
    "duration": 1331,
    "start_time": "2024-01-09T12:20:05.337Z"
   },
   {
    "duration": 50,
    "start_time": "2024-01-09T12:20:06.670Z"
   },
   {
    "duration": 17,
    "start_time": "2024-01-09T12:20:06.722Z"
   },
   {
    "duration": 12,
    "start_time": "2024-01-09T12:20:06.741Z"
   },
   {
    "duration": 25,
    "start_time": "2024-01-09T12:20:06.755Z"
   },
   {
    "duration": 19,
    "start_time": "2024-01-09T12:20:06.782Z"
   },
   {
    "duration": 16,
    "start_time": "2024-01-09T12:20:06.802Z"
   },
   {
    "duration": 11,
    "start_time": "2024-01-09T12:20:06.819Z"
   },
   {
    "duration": 56,
    "start_time": "2024-01-09T12:20:06.832Z"
   },
   {
    "duration": 26,
    "start_time": "2024-01-09T12:20:06.889Z"
   },
   {
    "duration": 13,
    "start_time": "2024-01-09T12:20:06.917Z"
   },
   {
    "duration": 13,
    "start_time": "2024-01-09T12:20:06.942Z"
   },
   {
    "duration": 40,
    "start_time": "2024-01-09T12:20:06.956Z"
   },
   {
    "duration": 6,
    "start_time": "2024-01-09T12:20:06.999Z"
   },
   {
    "duration": 12,
    "start_time": "2024-01-09T12:20:07.007Z"
   },
   {
    "duration": 9,
    "start_time": "2024-01-09T12:20:07.020Z"
   },
   {
    "duration": 11,
    "start_time": "2024-01-09T12:20:07.030Z"
   },
   {
    "duration": 28,
    "start_time": "2024-01-09T12:20:07.042Z"
   },
   {
    "duration": 8,
    "start_time": "2024-01-09T12:20:07.072Z"
   },
   {
    "duration": 16,
    "start_time": "2024-01-09T12:20:07.081Z"
   },
   {
    "duration": 10,
    "start_time": "2024-01-09T12:20:07.098Z"
   },
   {
    "duration": 25,
    "start_time": "2024-01-09T12:20:07.110Z"
   },
   {
    "duration": 11,
    "start_time": "2024-01-09T12:20:07.136Z"
   },
   {
    "duration": 23,
    "start_time": "2024-01-09T12:20:07.148Z"
   },
   {
    "duration": 41,
    "start_time": "2024-01-09T12:20:07.173Z"
   },
   {
    "duration": 21,
    "start_time": "2024-01-09T12:20:07.215Z"
   },
   {
    "duration": 10,
    "start_time": "2024-01-09T12:20:07.238Z"
   },
   {
    "duration": 25,
    "start_time": "2024-01-09T12:20:07.249Z"
   },
   {
    "duration": 5,
    "start_time": "2024-01-09T12:20:07.275Z"
   },
   {
    "duration": 10,
    "start_time": "2024-01-09T12:20:07.281Z"
   },
   {
    "duration": 5,
    "start_time": "2024-01-09T12:20:07.293Z"
   },
   {
    "duration": 12,
    "start_time": "2024-01-09T12:20:07.299Z"
   },
   {
    "duration": 9,
    "start_time": "2024-01-09T12:20:07.312Z"
   },
   {
    "duration": 21,
    "start_time": "2024-01-09T12:20:07.323Z"
   },
   {
    "duration": 9,
    "start_time": "2024-01-09T12:20:07.345Z"
   },
   {
    "duration": 11,
    "start_time": "2024-01-09T12:20:07.355Z"
   },
   {
    "duration": 2,
    "start_time": "2024-01-09T12:20:07.368Z"
   },
   {
    "duration": 12,
    "start_time": "2024-01-09T12:20:07.372Z"
   },
   {
    "duration": 13,
    "start_time": "2024-01-09T12:20:07.385Z"
   },
   {
    "duration": 44,
    "start_time": "2024-01-09T12:20:07.399Z"
   },
   {
    "duration": 2,
    "start_time": "2024-01-09T12:20:07.448Z"
   },
   {
    "duration": 10,
    "start_time": "2024-01-09T12:20:07.452Z"
   },
   {
    "duration": 41,
    "start_time": "2024-01-09T12:20:07.464Z"
   },
   {
    "duration": 30,
    "start_time": "2024-01-09T12:20:07.507Z"
   },
   {
    "duration": 8,
    "start_time": "2024-01-09T12:20:07.539Z"
   },
   {
    "duration": 13,
    "start_time": "2024-01-09T12:20:07.549Z"
   },
   {
    "duration": 16,
    "start_time": "2024-01-09T12:20:07.564Z"
   },
   {
    "duration": 20,
    "start_time": "2024-01-09T12:20:07.581Z"
   },
   {
    "duration": 20,
    "start_time": "2024-01-09T12:20:07.602Z"
   },
   {
    "duration": 20,
    "start_time": "2024-01-09T12:20:07.624Z"
   },
   {
    "duration": 10,
    "start_time": "2024-01-09T12:20:07.645Z"
   },
   {
    "duration": 9,
    "start_time": "2024-01-09T12:20:07.657Z"
   },
   {
    "duration": 21,
    "start_time": "2024-01-09T12:20:07.667Z"
   },
   {
    "duration": 5,
    "start_time": "2024-01-09T12:20:07.690Z"
   },
   {
    "duration": 8,
    "start_time": "2024-01-09T12:20:07.696Z"
   },
   {
    "duration": 10,
    "start_time": "2024-01-09T12:20:07.706Z"
   },
   {
    "duration": 14,
    "start_time": "2024-01-09T12:20:07.718Z"
   },
   {
    "duration": 7,
    "start_time": "2024-01-09T12:20:07.734Z"
   },
   {
    "duration": 23,
    "start_time": "2024-01-09T12:20:07.743Z"
   },
   {
    "duration": 5,
    "start_time": "2024-01-09T12:20:07.767Z"
   },
   {
    "duration": 9,
    "start_time": "2024-01-09T12:20:07.774Z"
   },
   {
    "duration": 6,
    "start_time": "2024-01-09T12:20:07.785Z"
   },
   {
    "duration": 23,
    "start_time": "2024-01-09T12:20:07.793Z"
   },
   {
    "duration": 6,
    "start_time": "2024-01-09T12:20:07.818Z"
   },
   {
    "duration": 23,
    "start_time": "2024-01-09T12:20:07.826Z"
   },
   {
    "duration": 19,
    "start_time": "2024-01-09T12:20:07.851Z"
   },
   {
    "duration": 5,
    "start_time": "2024-01-09T12:20:07.871Z"
   },
   {
    "duration": 14,
    "start_time": "2024-01-09T12:20:07.877Z"
   },
   {
    "duration": 10,
    "start_time": "2024-01-09T12:20:07.893Z"
   },
   {
    "duration": 9,
    "start_time": "2024-01-09T12:20:07.904Z"
   },
   {
    "duration": 7,
    "start_time": "2024-01-09T12:20:07.914Z"
   },
   {
    "duration": 38,
    "start_time": "2024-01-09T12:20:07.923Z"
   },
   {
    "duration": 23,
    "start_time": "2024-01-09T12:20:07.963Z"
   },
   {
    "duration": 21,
    "start_time": "2024-01-09T12:20:07.988Z"
   },
   {
    "duration": 343,
    "start_time": "2024-01-09T12:20:08.010Z"
   },
   {
    "duration": 1563,
    "start_time": "2024-01-09T12:20:08.355Z"
   },
   {
    "duration": 4,
    "start_time": "2024-01-09T12:20:09.920Z"
   },
   {
    "duration": 34,
    "start_time": "2024-01-09T12:20:09.925Z"
   },
   {
    "duration": 25,
    "start_time": "2024-01-09T12:20:09.961Z"
   },
   {
    "duration": 17,
    "start_time": "2024-01-09T12:20:09.988Z"
   },
   {
    "duration": 45,
    "start_time": "2024-01-09T12:20:10.007Z"
   },
   {
    "duration": 32,
    "start_time": "2024-01-09T12:20:10.054Z"
   },
   {
    "duration": 27,
    "start_time": "2024-01-09T12:20:10.087Z"
   },
   {
    "duration": 23,
    "start_time": "2024-01-09T12:20:10.116Z"
   },
   {
    "duration": 20,
    "start_time": "2024-01-09T12:20:10.141Z"
   },
   {
    "duration": 26,
    "start_time": "2024-01-09T12:20:10.162Z"
   },
   {
    "duration": 164,
    "start_time": "2024-01-09T12:20:10.189Z"
   },
   {
    "duration": 16,
    "start_time": "2024-01-09T12:20:10.355Z"
   },
   {
    "duration": 21427,
    "start_time": "2024-01-09T12:20:10.443Z"
   },
   {
    "duration": 4,
    "start_time": "2024-01-09T12:20:31.871Z"
   },
   {
    "duration": 15,
    "start_time": "2024-01-09T12:20:31.876Z"
   },
   {
    "duration": 1302,
    "start_time": "2024-01-09T12:20:46.226Z"
   },
   {
    "duration": 47,
    "start_time": "2024-01-09T12:20:47.530Z"
   },
   {
    "duration": 14,
    "start_time": "2024-01-09T12:20:47.581Z"
   },
   {
    "duration": 31,
    "start_time": "2024-01-09T12:20:47.597Z"
   },
   {
    "duration": 38,
    "start_time": "2024-01-09T12:20:47.629Z"
   },
   {
    "duration": 19,
    "start_time": "2024-01-09T12:20:47.668Z"
   },
   {
    "duration": 15,
    "start_time": "2024-01-09T12:20:47.689Z"
   },
   {
    "duration": 31,
    "start_time": "2024-01-09T12:20:47.705Z"
   },
   {
    "duration": 59,
    "start_time": "2024-01-09T12:20:47.739Z"
   },
   {
    "duration": 26,
    "start_time": "2024-01-09T12:20:47.800Z"
   },
   {
    "duration": 19,
    "start_time": "2024-01-09T12:20:47.828Z"
   },
   {
    "duration": 15,
    "start_time": "2024-01-09T12:20:47.849Z"
   },
   {
    "duration": 37,
    "start_time": "2024-01-09T12:20:47.865Z"
   },
   {
    "duration": 7,
    "start_time": "2024-01-09T12:20:47.904Z"
   },
   {
    "duration": 11,
    "start_time": "2024-01-09T12:20:47.912Z"
   },
   {
    "duration": 5,
    "start_time": "2024-01-09T12:20:47.924Z"
   },
   {
    "duration": 25,
    "start_time": "2024-01-09T12:20:47.930Z"
   },
   {
    "duration": 29,
    "start_time": "2024-01-09T12:20:47.957Z"
   },
   {
    "duration": 8,
    "start_time": "2024-01-09T12:20:47.987Z"
   },
   {
    "duration": 10,
    "start_time": "2024-01-09T12:20:47.997Z"
   },
   {
    "duration": 22,
    "start_time": "2024-01-09T12:20:48.009Z"
   },
   {
    "duration": 23,
    "start_time": "2024-01-09T12:20:48.033Z"
   },
   {
    "duration": 66,
    "start_time": "2024-01-09T12:20:48.058Z"
   },
   {
    "duration": 28,
    "start_time": "2024-01-09T12:20:48.126Z"
   },
   {
    "duration": 48,
    "start_time": "2024-01-09T12:20:48.155Z"
   },
   {
    "duration": 21,
    "start_time": "2024-01-09T12:20:48.204Z"
   },
   {
    "duration": 10,
    "start_time": "2024-01-09T12:20:48.229Z"
   },
   {
    "duration": 20,
    "start_time": "2024-01-09T12:20:48.240Z"
   },
   {
    "duration": 15,
    "start_time": "2024-01-09T12:20:48.261Z"
   },
   {
    "duration": 23,
    "start_time": "2024-01-09T12:20:48.277Z"
   },
   {
    "duration": 6,
    "start_time": "2024-01-09T12:20:48.301Z"
   },
   {
    "duration": 10,
    "start_time": "2024-01-09T12:20:48.308Z"
   },
   {
    "duration": 10,
    "start_time": "2024-01-09T12:20:48.320Z"
   },
   {
    "duration": 10,
    "start_time": "2024-01-09T12:20:48.331Z"
   },
   {
    "duration": 13,
    "start_time": "2024-01-09T12:20:48.342Z"
   },
   {
    "duration": 12,
    "start_time": "2024-01-09T12:20:48.357Z"
   },
   {
    "duration": 13,
    "start_time": "2024-01-09T12:20:48.370Z"
   },
   {
    "duration": 10,
    "start_time": "2024-01-09T12:20:48.384Z"
   },
   {
    "duration": 15,
    "start_time": "2024-01-09T12:20:48.395Z"
   },
   {
    "duration": 11,
    "start_time": "2024-01-09T12:20:48.411Z"
   },
   {
    "duration": 3,
    "start_time": "2024-01-09T12:20:48.442Z"
   },
   {
    "duration": 12,
    "start_time": "2024-01-09T12:20:48.446Z"
   },
   {
    "duration": 16,
    "start_time": "2024-01-09T12:20:48.459Z"
   },
   {
    "duration": 11,
    "start_time": "2024-01-09T12:20:48.476Z"
   },
   {
    "duration": 7,
    "start_time": "2024-01-09T12:20:48.488Z"
   },
   {
    "duration": 10,
    "start_time": "2024-01-09T12:20:48.496Z"
   },
   {
    "duration": 20,
    "start_time": "2024-01-09T12:20:48.507Z"
   },
   {
    "duration": 10,
    "start_time": "2024-01-09T12:20:48.543Z"
   },
   {
    "duration": 13,
    "start_time": "2024-01-09T12:20:48.554Z"
   },
   {
    "duration": 9,
    "start_time": "2024-01-09T12:20:48.569Z"
   },
   {
    "duration": 4,
    "start_time": "2024-01-09T12:20:48.579Z"
   },
   {
    "duration": 5,
    "start_time": "2024-01-09T12:20:48.584Z"
   },
   {
    "duration": 6,
    "start_time": "2024-01-09T12:20:48.590Z"
   },
   {
    "duration": 5,
    "start_time": "2024-01-09T12:20:48.597Z"
   },
   {
    "duration": 6,
    "start_time": "2024-01-09T12:20:48.603Z"
   },
   {
    "duration": 34,
    "start_time": "2024-01-09T12:20:48.611Z"
   },
   {
    "duration": 14,
    "start_time": "2024-01-09T12:20:48.646Z"
   },
   {
    "duration": 6,
    "start_time": "2024-01-09T12:20:48.662Z"
   },
   {
    "duration": 12,
    "start_time": "2024-01-09T12:20:48.670Z"
   },
   {
    "duration": 23,
    "start_time": "2024-01-09T12:20:48.684Z"
   },
   {
    "duration": 12,
    "start_time": "2024-01-09T12:20:48.709Z"
   },
   {
    "duration": 10,
    "start_time": "2024-01-09T12:20:48.723Z"
   },
   {
    "duration": 32,
    "start_time": "2024-01-09T12:20:48.735Z"
   },
   {
    "duration": 15,
    "start_time": "2024-01-09T12:20:48.769Z"
   },
   {
    "duration": 34,
    "start_time": "2024-01-09T12:20:48.785Z"
   },
   {
    "duration": 29,
    "start_time": "2024-01-09T12:20:48.820Z"
   },
   {
    "duration": 7,
    "start_time": "2024-01-09T12:20:48.850Z"
   },
   {
    "duration": 23,
    "start_time": "2024-01-09T12:20:48.859Z"
   },
   {
    "duration": 19,
    "start_time": "2024-01-09T12:20:48.883Z"
   },
   {
    "duration": 23,
    "start_time": "2024-01-09T12:20:48.904Z"
   },
   {
    "duration": 14,
    "start_time": "2024-01-09T12:20:48.929Z"
   },
   {
    "duration": 30,
    "start_time": "2024-01-09T12:20:48.945Z"
   },
   {
    "duration": 14,
    "start_time": "2024-01-09T12:20:48.977Z"
   },
   {
    "duration": 24,
    "start_time": "2024-01-09T12:20:48.992Z"
   },
   {
    "duration": 194,
    "start_time": "2024-01-09T12:20:49.018Z"
   },
   {
    "duration": 1552,
    "start_time": "2024-01-09T12:20:49.214Z"
   },
   {
    "duration": 4,
    "start_time": "2024-01-09T12:20:50.768Z"
   },
   {
    "duration": 12,
    "start_time": "2024-01-09T12:20:50.773Z"
   },
   {
    "duration": 6,
    "start_time": "2024-01-09T12:20:50.787Z"
   },
   {
    "duration": 9,
    "start_time": "2024-01-09T12:20:50.794Z"
   },
   {
    "duration": 11,
    "start_time": "2024-01-09T12:20:50.809Z"
   },
   {
    "duration": 8,
    "start_time": "2024-01-09T12:20:50.822Z"
   },
   {
    "duration": 7,
    "start_time": "2024-01-09T12:20:50.832Z"
   },
   {
    "duration": 13,
    "start_time": "2024-01-09T12:20:50.841Z"
   },
   {
    "duration": 11,
    "start_time": "2024-01-09T12:20:50.855Z"
   },
   {
    "duration": 24,
    "start_time": "2024-01-09T12:20:50.868Z"
   },
   {
    "duration": 68,
    "start_time": "2024-01-09T12:20:50.894Z"
   },
   {
    "duration": 4,
    "start_time": "2024-01-09T12:20:50.964Z"
   },
   {
    "duration": 21558,
    "start_time": "2024-01-09T12:20:50.970Z"
   },
   {
    "duration": 4,
    "start_time": "2024-01-09T12:21:12.529Z"
   },
   {
    "duration": 4,
    "start_time": "2024-01-09T12:21:12.542Z"
   },
   {
    "duration": 40338,
    "start_time": "2024-01-09T12:21:12.547Z"
   },
   {
    "duration": 4,
    "start_time": "2024-01-09T12:21:52.887Z"
   },
   {
    "duration": 4,
    "start_time": "2024-01-09T12:21:52.892Z"
   },
   {
    "duration": 94459,
    "start_time": "2024-01-09T12:21:52.898Z"
   },
   {
    "duration": 87,
    "start_time": "2024-01-09T12:23:27.358Z"
   },
   {
    "duration": 32,
    "start_time": "2024-01-09T12:23:27.446Z"
   },
   {
    "duration": 75,
    "start_time": "2024-01-09T12:24:37.879Z"
   },
   {
    "duration": 7969,
    "start_time": "2024-01-09T12:26:33.587Z"
   },
   {
    "duration": 6,
    "start_time": "2024-01-09T12:26:46.775Z"
   },
   {
    "duration": 7628,
    "start_time": "2024-01-09T12:26:53.433Z"
   },
   {
    "duration": 8104,
    "start_time": "2024-01-09T12:27:09.952Z"
   },
   {
    "duration": 4,
    "start_time": "2024-01-09T12:27:20.064Z"
   },
   {
    "duration": 7660,
    "start_time": "2024-01-09T12:27:26.704Z"
   },
   {
    "duration": 4,
    "start_time": "2024-01-09T12:27:36.320Z"
   },
   {
    "duration": 10247,
    "start_time": "2024-01-09T12:27:41.928Z"
   },
   {
    "duration": 4,
    "start_time": "2024-01-09T12:27:53.745Z"
   },
   {
    "duration": 10167,
    "start_time": "2024-01-09T12:27:58.977Z"
   },
   {
    "duration": 4,
    "start_time": "2024-01-09T12:28:11.033Z"
   },
   {
    "duration": 10392,
    "start_time": "2024-01-09T12:28:16.585Z"
   },
   {
    "duration": 5,
    "start_time": "2024-01-09T12:28:29.233Z"
   },
   {
    "duration": 12617,
    "start_time": "2024-01-09T12:28:32.457Z"
   },
   {
    "duration": 4,
    "start_time": "2024-01-09T12:28:47.449Z"
   },
   {
    "duration": 9979,
    "start_time": "2024-01-09T12:28:50.464Z"
   },
   {
    "duration": 3,
    "start_time": "2024-01-09T12:29:04.026Z"
   },
   {
    "duration": 9608,
    "start_time": "2024-01-09T12:29:07.864Z"
   },
   {
    "duration": 4,
    "start_time": "2024-01-09T12:29:20.386Z"
   },
   {
    "duration": 4,
    "start_time": "2024-01-09T12:29:34.657Z"
   },
   {
    "duration": 4,
    "start_time": "2024-01-09T12:31:11.778Z"
   },
   {
    "duration": 1427,
    "start_time": "2024-01-09T12:37:09.429Z"
   },
   {
    "duration": 49,
    "start_time": "2024-01-09T12:37:10.858Z"
   },
   {
    "duration": 15,
    "start_time": "2024-01-09T12:37:10.909Z"
   },
   {
    "duration": 12,
    "start_time": "2024-01-09T12:37:10.926Z"
   },
   {
    "duration": 17,
    "start_time": "2024-01-09T12:37:10.940Z"
   },
   {
    "duration": 20,
    "start_time": "2024-01-09T12:37:10.958Z"
   },
   {
    "duration": 16,
    "start_time": "2024-01-09T12:37:10.979Z"
   },
   {
    "duration": 10,
    "start_time": "2024-01-09T12:37:10.996Z"
   },
   {
    "duration": 56,
    "start_time": "2024-01-09T12:37:11.008Z"
   },
   {
    "duration": 27,
    "start_time": "2024-01-09T12:37:11.066Z"
   },
   {
    "duration": 16,
    "start_time": "2024-01-09T12:37:11.094Z"
   },
   {
    "duration": 24,
    "start_time": "2024-01-09T12:37:11.111Z"
   },
   {
    "duration": 56,
    "start_time": "2024-01-09T12:37:11.137Z"
   },
   {
    "duration": 12,
    "start_time": "2024-01-09T12:37:11.195Z"
   },
   {
    "duration": 24,
    "start_time": "2024-01-09T12:37:11.209Z"
   },
   {
    "duration": 24,
    "start_time": "2024-01-09T12:37:11.234Z"
   },
   {
    "duration": 32,
    "start_time": "2024-01-09T12:37:11.260Z"
   },
   {
    "duration": 51,
    "start_time": "2024-01-09T12:37:11.294Z"
   },
   {
    "duration": 9,
    "start_time": "2024-01-09T12:37:11.346Z"
   },
   {
    "duration": 23,
    "start_time": "2024-01-09T12:37:11.356Z"
   },
   {
    "duration": 22,
    "start_time": "2024-01-09T12:37:11.380Z"
   },
   {
    "duration": 22,
    "start_time": "2024-01-09T12:37:11.403Z"
   },
   {
    "duration": 13,
    "start_time": "2024-01-09T12:37:11.426Z"
   },
   {
    "duration": 23,
    "start_time": "2024-01-09T12:37:11.440Z"
   },
   {
    "duration": 50,
    "start_time": "2024-01-09T12:37:11.465Z"
   },
   {
    "duration": 22,
    "start_time": "2024-01-09T12:37:11.516Z"
   },
   {
    "duration": 25,
    "start_time": "2024-01-09T12:37:11.539Z"
   },
   {
    "duration": 44,
    "start_time": "2024-01-09T12:37:11.569Z"
   },
   {
    "duration": 22,
    "start_time": "2024-01-09T12:37:11.615Z"
   },
   {
    "duration": 23,
    "start_time": "2024-01-09T12:37:11.638Z"
   },
   {
    "duration": 18,
    "start_time": "2024-01-09T12:37:11.662Z"
   },
   {
    "duration": 27,
    "start_time": "2024-01-09T12:37:11.682Z"
   },
   {
    "duration": 21,
    "start_time": "2024-01-09T12:37:11.710Z"
   },
   {
    "duration": 19,
    "start_time": "2024-01-09T12:37:11.733Z"
   },
   {
    "duration": 15,
    "start_time": "2024-01-09T12:37:11.754Z"
   },
   {
    "duration": 14,
    "start_time": "2024-01-09T12:37:11.770Z"
   },
   {
    "duration": 12,
    "start_time": "2024-01-09T12:37:11.786Z"
   },
   {
    "duration": 26,
    "start_time": "2024-01-09T12:37:11.799Z"
   },
   {
    "duration": 24,
    "start_time": "2024-01-09T12:37:11.826Z"
   },
   {
    "duration": 23,
    "start_time": "2024-01-09T12:37:11.852Z"
   },
   {
    "duration": 28,
    "start_time": "2024-01-09T12:37:11.877Z"
   },
   {
    "duration": 18,
    "start_time": "2024-01-09T12:37:11.907Z"
   },
   {
    "duration": 31,
    "start_time": "2024-01-09T12:37:11.926Z"
   },
   {
    "duration": 21,
    "start_time": "2024-01-09T12:37:11.959Z"
   },
   {
    "duration": 17,
    "start_time": "2024-01-09T12:37:11.982Z"
   },
   {
    "duration": 47,
    "start_time": "2024-01-09T12:37:12.001Z"
   },
   {
    "duration": 32,
    "start_time": "2024-01-09T12:37:12.049Z"
   },
   {
    "duration": 14,
    "start_time": "2024-01-09T12:37:12.083Z"
   },
   {
    "duration": 27,
    "start_time": "2024-01-09T12:37:12.099Z"
   },
   {
    "duration": 16,
    "start_time": "2024-01-09T12:37:12.127Z"
   },
   {
    "duration": 15,
    "start_time": "2024-01-09T12:37:12.145Z"
   },
   {
    "duration": 5,
    "start_time": "2024-01-09T12:37:12.162Z"
   },
   {
    "duration": 18,
    "start_time": "2024-01-09T12:37:12.169Z"
   },
   {
    "duration": 31,
    "start_time": "2024-01-09T12:37:12.188Z"
   },
   {
    "duration": 21,
    "start_time": "2024-01-09T12:37:12.220Z"
   },
   {
    "duration": 27,
    "start_time": "2024-01-09T12:37:12.243Z"
   },
   {
    "duration": 16,
    "start_time": "2024-01-09T12:37:12.272Z"
   },
   {
    "duration": 26,
    "start_time": "2024-01-09T12:37:12.290Z"
   },
   {
    "duration": 21,
    "start_time": "2024-01-09T12:37:12.318Z"
   },
   {
    "duration": 16,
    "start_time": "2024-01-09T12:37:12.341Z"
   },
   {
    "duration": 23,
    "start_time": "2024-01-09T12:37:12.359Z"
   },
   {
    "duration": 8,
    "start_time": "2024-01-09T12:37:12.384Z"
   },
   {
    "duration": 10,
    "start_time": "2024-01-09T12:37:12.394Z"
   },
   {
    "duration": 7,
    "start_time": "2024-01-09T12:37:12.406Z"
   },
   {
    "duration": 10,
    "start_time": "2024-01-09T12:37:12.414Z"
   },
   {
    "duration": 28,
    "start_time": "2024-01-09T12:37:12.426Z"
   },
   {
    "duration": 109,
    "start_time": "2024-01-09T12:37:12.455Z"
   },
   {
    "duration": 0,
    "start_time": "2024-01-09T12:37:12.566Z"
   },
   {
    "duration": 0,
    "start_time": "2024-01-09T12:37:12.567Z"
   },
   {
    "duration": 0,
    "start_time": "2024-01-09T12:37:12.568Z"
   },
   {
    "duration": 0,
    "start_time": "2024-01-09T12:37:12.568Z"
   },
   {
    "duration": 0,
    "start_time": "2024-01-09T12:37:12.569Z"
   },
   {
    "duration": 0,
    "start_time": "2024-01-09T12:37:12.570Z"
   },
   {
    "duration": 0,
    "start_time": "2024-01-09T12:37:12.571Z"
   },
   {
    "duration": 0,
    "start_time": "2024-01-09T12:37:12.573Z"
   },
   {
    "duration": 0,
    "start_time": "2024-01-09T12:37:12.573Z"
   },
   {
    "duration": 0,
    "start_time": "2024-01-09T12:37:12.574Z"
   },
   {
    "duration": 0,
    "start_time": "2024-01-09T12:37:12.575Z"
   },
   {
    "duration": 0,
    "start_time": "2024-01-09T12:37:12.576Z"
   },
   {
    "duration": 0,
    "start_time": "2024-01-09T12:37:12.577Z"
   },
   {
    "duration": 0,
    "start_time": "2024-01-09T12:37:12.578Z"
   },
   {
    "duration": 0,
    "start_time": "2024-01-09T12:37:12.578Z"
   },
   {
    "duration": 0,
    "start_time": "2024-01-09T12:37:12.579Z"
   },
   {
    "duration": 0,
    "start_time": "2024-01-09T12:37:12.580Z"
   },
   {
    "duration": 0,
    "start_time": "2024-01-09T12:37:12.581Z"
   },
   {
    "duration": 0,
    "start_time": "2024-01-09T12:37:12.582Z"
   },
   {
    "duration": 0,
    "start_time": "2024-01-09T12:37:12.583Z"
   },
   {
    "duration": 0,
    "start_time": "2024-01-09T12:37:12.584Z"
   },
   {
    "duration": 0,
    "start_time": "2024-01-09T12:37:12.584Z"
   },
   {
    "duration": 0,
    "start_time": "2024-01-09T12:37:12.585Z"
   },
   {
    "duration": 0,
    "start_time": "2024-01-09T12:37:12.586Z"
   },
   {
    "duration": 0,
    "start_time": "2024-01-09T12:37:12.587Z"
   },
   {
    "duration": 0,
    "start_time": "2024-01-09T12:37:12.588Z"
   },
   {
    "duration": 0,
    "start_time": "2024-01-09T12:37:12.589Z"
   },
   {
    "duration": 0,
    "start_time": "2024-01-09T12:37:12.590Z"
   },
   {
    "duration": 0,
    "start_time": "2024-01-09T12:37:12.591Z"
   },
   {
    "duration": 0,
    "start_time": "2024-01-09T12:37:12.592Z"
   },
   {
    "duration": 0,
    "start_time": "2024-01-09T12:37:12.593Z"
   },
   {
    "duration": 0,
    "start_time": "2024-01-09T12:37:12.594Z"
   },
   {
    "duration": 0,
    "start_time": "2024-01-09T12:37:12.642Z"
   },
   {
    "duration": 1369,
    "start_time": "2024-01-09T12:37:29.071Z"
   },
   {
    "duration": 53,
    "start_time": "2024-01-09T12:37:30.442Z"
   },
   {
    "duration": 18,
    "start_time": "2024-01-09T12:37:30.497Z"
   },
   {
    "duration": 39,
    "start_time": "2024-01-09T12:37:30.517Z"
   },
   {
    "duration": 52,
    "start_time": "2024-01-09T12:37:30.558Z"
   },
   {
    "duration": 42,
    "start_time": "2024-01-09T12:37:30.611Z"
   },
   {
    "duration": 47,
    "start_time": "2024-01-09T12:37:30.654Z"
   },
   {
    "duration": 56,
    "start_time": "2024-01-09T12:37:30.703Z"
   },
   {
    "duration": 98,
    "start_time": "2024-01-09T12:37:30.760Z"
   },
   {
    "duration": 25,
    "start_time": "2024-01-09T12:37:30.860Z"
   },
   {
    "duration": 23,
    "start_time": "2024-01-09T12:37:30.887Z"
   },
   {
    "duration": 54,
    "start_time": "2024-01-09T12:37:30.912Z"
   },
   {
    "duration": 70,
    "start_time": "2024-01-09T12:37:30.967Z"
   },
   {
    "duration": 7,
    "start_time": "2024-01-09T12:37:31.039Z"
   },
   {
    "duration": 64,
    "start_time": "2024-01-09T12:37:31.047Z"
   },
   {
    "duration": 40,
    "start_time": "2024-01-09T12:37:31.112Z"
   },
   {
    "duration": 44,
    "start_time": "2024-01-09T12:37:31.153Z"
   },
   {
    "duration": 53,
    "start_time": "2024-01-09T12:37:31.199Z"
   },
   {
    "duration": 9,
    "start_time": "2024-01-09T12:37:31.254Z"
   },
   {
    "duration": 40,
    "start_time": "2024-01-09T12:37:31.264Z"
   },
   {
    "duration": 43,
    "start_time": "2024-01-09T12:37:31.306Z"
   },
   {
    "duration": 53,
    "start_time": "2024-01-09T12:37:31.351Z"
   },
   {
    "duration": 24,
    "start_time": "2024-01-09T12:37:31.406Z"
   },
   {
    "duration": 39,
    "start_time": "2024-01-09T12:37:31.432Z"
   },
   {
    "duration": 40,
    "start_time": "2024-01-09T12:37:31.473Z"
   },
   {
    "duration": 34,
    "start_time": "2024-01-09T12:37:31.515Z"
   },
   {
    "duration": 11,
    "start_time": "2024-01-09T12:37:31.551Z"
   },
   {
    "duration": 30,
    "start_time": "2024-01-09T12:37:31.567Z"
   },
   {
    "duration": 10,
    "start_time": "2024-01-09T12:37:31.599Z"
   },
   {
    "duration": 39,
    "start_time": "2024-01-09T12:37:31.611Z"
   },
   {
    "duration": 9,
    "start_time": "2024-01-09T12:37:31.652Z"
   },
   {
    "duration": 34,
    "start_time": "2024-01-09T12:37:31.662Z"
   },
   {
    "duration": 61,
    "start_time": "2024-01-09T12:37:31.698Z"
   },
   {
    "duration": 18,
    "start_time": "2024-01-09T12:37:31.761Z"
   },
   {
    "duration": 15,
    "start_time": "2024-01-09T12:37:31.781Z"
   },
   {
    "duration": 23,
    "start_time": "2024-01-09T12:37:31.797Z"
   },
   {
    "duration": 27,
    "start_time": "2024-01-09T12:37:31.822Z"
   },
   {
    "duration": 46,
    "start_time": "2024-01-09T12:37:31.850Z"
   },
   {
    "duration": 56,
    "start_time": "2024-01-09T12:37:31.898Z"
   },
   {
    "duration": 24,
    "start_time": "2024-01-09T12:37:31.955Z"
   },
   {
    "duration": 38,
    "start_time": "2024-01-09T12:37:31.981Z"
   },
   {
    "duration": 84,
    "start_time": "2024-01-09T12:37:32.021Z"
   },
   {
    "duration": 26,
    "start_time": "2024-01-09T12:37:32.107Z"
   },
   {
    "duration": 12,
    "start_time": "2024-01-09T12:37:32.134Z"
   },
   {
    "duration": 18,
    "start_time": "2024-01-09T12:37:32.147Z"
   },
   {
    "duration": 53,
    "start_time": "2024-01-09T12:37:32.167Z"
   },
   {
    "duration": 26,
    "start_time": "2024-01-09T12:37:32.222Z"
   },
   {
    "duration": 19,
    "start_time": "2024-01-09T12:37:32.250Z"
   },
   {
    "duration": 29,
    "start_time": "2024-01-09T12:37:32.270Z"
   },
   {
    "duration": 28,
    "start_time": "2024-01-09T12:37:32.301Z"
   },
   {
    "duration": 17,
    "start_time": "2024-01-09T12:37:32.331Z"
   },
   {
    "duration": 21,
    "start_time": "2024-01-09T12:37:32.350Z"
   },
   {
    "duration": 23,
    "start_time": "2024-01-09T12:37:32.373Z"
   },
   {
    "duration": 4,
    "start_time": "2024-01-09T12:37:32.398Z"
   },
   {
    "duration": 19,
    "start_time": "2024-01-09T12:37:32.404Z"
   },
   {
    "duration": 17,
    "start_time": "2024-01-09T12:37:32.424Z"
   },
   {
    "duration": 134,
    "start_time": "2024-01-09T12:37:32.443Z"
   },
   {
    "duration": 40,
    "start_time": "2024-01-09T12:37:32.579Z"
   },
   {
    "duration": 78,
    "start_time": "2024-01-09T12:37:32.621Z"
   },
   {
    "duration": 53,
    "start_time": "2024-01-09T12:37:32.700Z"
   },
   {
    "duration": 66,
    "start_time": "2024-01-09T12:37:32.755Z"
   },
   {
    "duration": 36,
    "start_time": "2024-01-09T12:37:32.822Z"
   },
   {
    "duration": 82,
    "start_time": "2024-01-09T12:37:32.859Z"
   },
   {
    "duration": 32,
    "start_time": "2024-01-09T12:37:32.942Z"
   },
   {
    "duration": 33,
    "start_time": "2024-01-09T12:37:32.976Z"
   },
   {
    "duration": 49,
    "start_time": "2024-01-09T12:37:33.011Z"
   },
   {
    "duration": 6,
    "start_time": "2024-01-09T12:37:33.063Z"
   },
   {
    "duration": 33,
    "start_time": "2024-01-09T12:37:33.071Z"
   },
   {
    "duration": 44,
    "start_time": "2024-01-09T12:37:33.106Z"
   },
   {
    "duration": 105,
    "start_time": "2024-01-09T12:37:33.152Z"
   },
   {
    "duration": 110,
    "start_time": "2024-01-09T12:37:33.259Z"
   },
   {
    "duration": 20,
    "start_time": "2024-01-09T12:37:33.370Z"
   },
   {
    "duration": 27,
    "start_time": "2024-01-09T12:37:33.392Z"
   },
   {
    "duration": 27,
    "start_time": "2024-01-09T12:37:33.420Z"
   },
   {
    "duration": 169,
    "start_time": "2024-01-09T12:37:33.449Z"
   },
   {
    "duration": 1555,
    "start_time": "2024-01-09T12:37:33.619Z"
   },
   {
    "duration": 4,
    "start_time": "2024-01-09T12:37:35.176Z"
   },
   {
    "duration": 14,
    "start_time": "2024-01-09T12:37:35.182Z"
   },
   {
    "duration": 6,
    "start_time": "2024-01-09T12:37:35.198Z"
   },
   {
    "duration": 4,
    "start_time": "2024-01-09T12:37:35.205Z"
   },
   {
    "duration": 6,
    "start_time": "2024-01-09T12:37:35.210Z"
   },
   {
    "duration": 3,
    "start_time": "2024-01-09T12:37:35.222Z"
   },
   {
    "duration": 16,
    "start_time": "2024-01-09T12:37:35.227Z"
   },
   {
    "duration": 4,
    "start_time": "2024-01-09T12:37:35.244Z"
   },
   {
    "duration": 7,
    "start_time": "2024-01-09T12:37:35.249Z"
   },
   {
    "duration": 10,
    "start_time": "2024-01-09T12:37:35.258Z"
   },
   {
    "duration": 81,
    "start_time": "2024-01-09T12:37:35.270Z"
   },
   {
    "duration": 4,
    "start_time": "2024-01-09T12:37:35.353Z"
   },
   {
    "duration": 21696,
    "start_time": "2024-01-09T12:37:35.359Z"
   },
   {
    "duration": 4,
    "start_time": "2024-01-09T12:37:57.057Z"
   },
   {
    "duration": 29,
    "start_time": "2024-01-09T12:37:57.062Z"
   },
   {
    "duration": 43494,
    "start_time": "2024-01-09T12:37:57.093Z"
   },
   {
    "duration": 11,
    "start_time": "2024-01-09T12:38:40.589Z"
   },
   {
    "duration": 40,
    "start_time": "2024-01-09T12:38:40.602Z"
   },
   {
    "duration": 91898,
    "start_time": "2024-01-09T12:38:40.644Z"
   },
   {
    "duration": 4,
    "start_time": "2024-01-09T12:40:12.544Z"
   },
   {
    "duration": 90542,
    "start_time": "2024-01-09T12:40:12.550Z"
   },
   {
    "duration": 0,
    "start_time": "2024-01-09T12:41:43.094Z"
   },
   {
    "duration": 0,
    "start_time": "2024-01-09T12:41:43.095Z"
   },
   {
    "duration": 4,
    "start_time": "2024-01-09T12:42:13.690Z"
   },
   {
    "duration": 4,
    "start_time": "2024-01-09T12:42:30.203Z"
   },
   {
    "duration": 3,
    "start_time": "2024-01-09T12:42:52.962Z"
   },
   {
    "duration": 4,
    "start_time": "2024-01-09T12:42:57.002Z"
   },
   {
    "duration": 8,
    "start_time": "2024-01-09T12:43:03.891Z"
   },
   {
    "duration": 9,
    "start_time": "2024-01-09T12:43:07.011Z"
   },
   {
    "duration": 71589,
    "start_time": "2024-01-09T12:43:35.451Z"
   },
   {
    "duration": 3,
    "start_time": "2024-01-09T12:44:47.041Z"
   },
   {
    "duration": 87815,
    "start_time": "2024-01-09T12:45:09.989Z"
   },
   {
    "duration": 3,
    "start_time": "2024-01-09T12:46:37.806Z"
   },
   {
    "duration": 77008,
    "start_time": "2024-01-09T12:46:40.782Z"
   },
   {
    "duration": 3,
    "start_time": "2024-01-09T12:47:57.792Z"
   },
   {
    "duration": 66197,
    "start_time": "2024-01-09T12:48:32.687Z"
   },
   {
    "duration": 3,
    "start_time": "2024-01-09T12:49:38.886Z"
   },
   {
    "duration": 5002,
    "start_time": "2024-01-09T12:49:53.768Z"
   },
   {
    "duration": 1315,
    "start_time": "2024-01-09T12:52:46.023Z"
   },
   {
    "duration": 50,
    "start_time": "2024-01-09T12:52:47.340Z"
   },
   {
    "duration": 17,
    "start_time": "2024-01-09T12:52:47.391Z"
   },
   {
    "duration": 12,
    "start_time": "2024-01-09T12:52:47.410Z"
   },
   {
    "duration": 29,
    "start_time": "2024-01-09T12:52:47.423Z"
   },
   {
    "duration": 20,
    "start_time": "2024-01-09T12:52:47.454Z"
   },
   {
    "duration": 16,
    "start_time": "2024-01-09T12:52:47.475Z"
   },
   {
    "duration": 76,
    "start_time": "2024-01-09T12:52:47.493Z"
   },
   {
    "duration": 52,
    "start_time": "2024-01-09T12:52:47.570Z"
   },
   {
    "duration": 26,
    "start_time": "2024-01-09T12:52:47.624Z"
   },
   {
    "duration": 14,
    "start_time": "2024-01-09T12:52:47.653Z"
   },
   {
    "duration": 20,
    "start_time": "2024-01-09T12:52:47.668Z"
   },
   {
    "duration": 41,
    "start_time": "2024-01-09T12:52:47.690Z"
   },
   {
    "duration": 7,
    "start_time": "2024-01-09T12:52:47.733Z"
   },
   {
    "duration": 15,
    "start_time": "2024-01-09T12:52:47.742Z"
   },
   {
    "duration": 5,
    "start_time": "2024-01-09T12:52:47.759Z"
   },
   {
    "duration": 15,
    "start_time": "2024-01-09T12:52:47.765Z"
   },
   {
    "duration": 37,
    "start_time": "2024-01-09T12:52:47.782Z"
   },
   {
    "duration": 9,
    "start_time": "2024-01-09T12:52:47.820Z"
   },
   {
    "duration": 17,
    "start_time": "2024-01-09T12:52:47.830Z"
   },
   {
    "duration": 23,
    "start_time": "2024-01-09T12:52:47.849Z"
   },
   {
    "duration": 20,
    "start_time": "2024-01-09T12:52:47.874Z"
   },
   {
    "duration": 11,
    "start_time": "2024-01-09T12:52:47.895Z"
   },
   {
    "duration": 19,
    "start_time": "2024-01-09T12:52:47.908Z"
   },
   {
    "duration": 33,
    "start_time": "2024-01-09T12:52:47.929Z"
   },
   {
    "duration": 21,
    "start_time": "2024-01-09T12:52:47.964Z"
   },
   {
    "duration": 11,
    "start_time": "2024-01-09T12:52:47.987Z"
   },
   {
    "duration": 12,
    "start_time": "2024-01-09T12:52:48.003Z"
   },
   {
    "duration": 12,
    "start_time": "2024-01-09T12:52:48.016Z"
   },
   {
    "duration": 18,
    "start_time": "2024-01-09T12:52:48.029Z"
   },
   {
    "duration": 7,
    "start_time": "2024-01-09T12:52:48.049Z"
   },
   {
    "duration": 13,
    "start_time": "2024-01-09T12:52:48.058Z"
   },
   {
    "duration": 30,
    "start_time": "2024-01-09T12:52:48.073Z"
   },
   {
    "duration": 11,
    "start_time": "2024-01-09T12:52:48.104Z"
   },
   {
    "duration": 23,
    "start_time": "2024-01-09T12:52:48.116Z"
   },
   {
    "duration": 10,
    "start_time": "2024-01-09T12:52:48.143Z"
   },
   {
    "duration": 3,
    "start_time": "2024-01-09T12:52:48.155Z"
   },
   {
    "duration": 12,
    "start_time": "2024-01-09T12:52:48.160Z"
   },
   {
    "duration": 16,
    "start_time": "2024-01-09T12:52:48.174Z"
   },
   {
    "duration": 13,
    "start_time": "2024-01-09T12:52:48.191Z"
   },
   {
    "duration": 3,
    "start_time": "2024-01-09T12:52:48.206Z"
   },
   {
    "duration": 9,
    "start_time": "2024-01-09T12:52:48.241Z"
   },
   {
    "duration": 24,
    "start_time": "2024-01-09T12:52:48.251Z"
   },
   {
    "duration": 17,
    "start_time": "2024-01-09T12:52:48.276Z"
   },
   {
    "duration": 7,
    "start_time": "2024-01-09T12:52:48.294Z"
   },
   {
    "duration": 28,
    "start_time": "2024-01-09T12:52:48.303Z"
   },
   {
    "duration": 40,
    "start_time": "2024-01-09T12:52:48.332Z"
   },
   {
    "duration": 12,
    "start_time": "2024-01-09T12:52:48.373Z"
   },
   {
    "duration": 25,
    "start_time": "2024-01-09T12:52:48.387Z"
   },
   {
    "duration": 14,
    "start_time": "2024-01-09T12:52:48.414Z"
   },
   {
    "duration": 8,
    "start_time": "2024-01-09T12:52:48.429Z"
   },
   {
    "duration": 4,
    "start_time": "2024-01-09T12:52:48.438Z"
   },
   {
    "duration": 4,
    "start_time": "2024-01-09T12:52:48.444Z"
   },
   {
    "duration": 5,
    "start_time": "2024-01-09T12:52:48.449Z"
   },
   {
    "duration": 9,
    "start_time": "2024-01-09T12:52:48.455Z"
   },
   {
    "duration": 18,
    "start_time": "2024-01-09T12:52:48.465Z"
   },
   {
    "duration": 10,
    "start_time": "2024-01-09T12:52:48.485Z"
   },
   {
    "duration": 7,
    "start_time": "2024-01-09T12:52:48.497Z"
   },
   {
    "duration": 12,
    "start_time": "2024-01-09T12:52:48.505Z"
   },
   {
    "duration": 3,
    "start_time": "2024-01-09T12:52:48.519Z"
   },
   {
    "duration": 24,
    "start_time": "2024-01-09T12:52:48.523Z"
   },
   {
    "duration": 18,
    "start_time": "2024-01-09T12:52:48.549Z"
   },
   {
    "duration": 11,
    "start_time": "2024-01-09T12:52:48.568Z"
   },
   {
    "duration": 20,
    "start_time": "2024-01-09T12:52:48.580Z"
   },
   {
    "duration": 10,
    "start_time": "2024-01-09T12:52:48.601Z"
   },
   {
    "duration": 22,
    "start_time": "2024-01-09T12:52:48.613Z"
   },
   {
    "duration": 8,
    "start_time": "2024-01-09T12:52:48.636Z"
   },
   {
    "duration": 10,
    "start_time": "2024-01-09T12:52:48.646Z"
   },
   {
    "duration": 9,
    "start_time": "2024-01-09T12:52:48.657Z"
   },
   {
    "duration": 5,
    "start_time": "2024-01-09T12:52:48.668Z"
   },
   {
    "duration": 30,
    "start_time": "2024-01-09T12:52:48.674Z"
   },
   {
    "duration": 22,
    "start_time": "2024-01-09T12:52:48.705Z"
   },
   {
    "duration": 22,
    "start_time": "2024-01-09T12:52:48.728Z"
   },
   {
    "duration": 29,
    "start_time": "2024-01-09T12:52:48.751Z"
   },
   {
    "duration": 155,
    "start_time": "2024-01-09T12:52:48.781Z"
   },
   {
    "duration": 1513,
    "start_time": "2024-01-09T12:52:48.937Z"
   },
   {
    "duration": 4,
    "start_time": "2024-01-09T12:52:50.452Z"
   },
   {
    "duration": 14,
    "start_time": "2024-01-09T12:52:50.458Z"
   },
   {
    "duration": 6,
    "start_time": "2024-01-09T12:52:50.474Z"
   },
   {
    "duration": 4,
    "start_time": "2024-01-09T12:52:50.481Z"
   },
   {
    "duration": 8,
    "start_time": "2024-01-09T12:52:50.486Z"
   },
   {
    "duration": 12,
    "start_time": "2024-01-09T12:52:50.499Z"
   },
   {
    "duration": 5,
    "start_time": "2024-01-09T12:52:50.512Z"
   },
   {
    "duration": 24,
    "start_time": "2024-01-09T12:52:50.519Z"
   },
   {
    "duration": 16,
    "start_time": "2024-01-09T12:52:50.545Z"
   },
   {
    "duration": 10,
    "start_time": "2024-01-09T12:52:50.563Z"
   },
   {
    "duration": 93,
    "start_time": "2024-01-09T12:52:50.574Z"
   },
   {
    "duration": 74,
    "start_time": "2024-01-09T12:52:50.669Z"
   },
   {
    "duration": 21430,
    "start_time": "2024-01-09T12:52:50.745Z"
   },
   {
    "duration": 4,
    "start_time": "2024-01-09T12:53:12.176Z"
   },
   {
    "duration": 7,
    "start_time": "2024-01-09T12:53:12.182Z"
   },
   {
    "duration": 69074,
    "start_time": "2024-01-09T12:53:12.191Z"
   },
   {
    "duration": 4,
    "start_time": "2024-01-09T12:54:21.266Z"
   },
   {
    "duration": 20,
    "start_time": "2024-01-09T12:54:21.271Z"
   },
   {
    "duration": 14548,
    "start_time": "2024-01-09T12:54:21.293Z"
   },
   {
    "duration": 0,
    "start_time": "2024-01-09T12:54:35.843Z"
   },
   {
    "duration": 0,
    "start_time": "2024-01-09T12:54:35.845Z"
   },
   {
    "duration": 9,
    "start_time": "2024-01-09T12:54:38.522Z"
   },
   {
    "duration": 11,
    "start_time": "2024-01-09T12:55:25.195Z"
   },
   {
    "duration": 19,
    "start_time": "2024-01-09T12:55:34.771Z"
   },
   {
    "duration": 10,
    "start_time": "2024-01-09T13:00:54.304Z"
   },
   {
    "duration": 1339,
    "start_time": "2024-01-09T13:01:24.534Z"
   },
   {
    "duration": 49,
    "start_time": "2024-01-09T13:01:25.875Z"
   },
   {
    "duration": 17,
    "start_time": "2024-01-09T13:01:25.929Z"
   },
   {
    "duration": 35,
    "start_time": "2024-01-09T13:01:25.948Z"
   },
   {
    "duration": 34,
    "start_time": "2024-01-09T13:01:25.985Z"
   },
   {
    "duration": 51,
    "start_time": "2024-01-09T13:01:26.020Z"
   },
   {
    "duration": 45,
    "start_time": "2024-01-09T13:01:26.073Z"
   },
   {
    "duration": 38,
    "start_time": "2024-01-09T13:01:26.120Z"
   },
   {
    "duration": 74,
    "start_time": "2024-01-09T13:01:26.160Z"
   },
   {
    "duration": 26,
    "start_time": "2024-01-09T13:01:26.235Z"
   },
   {
    "duration": 19,
    "start_time": "2024-01-09T13:01:26.263Z"
   },
   {
    "duration": 26,
    "start_time": "2024-01-09T13:01:26.284Z"
   },
   {
    "duration": 53,
    "start_time": "2024-01-09T13:01:26.311Z"
   },
   {
    "duration": 6,
    "start_time": "2024-01-09T13:01:26.366Z"
   },
   {
    "duration": 19,
    "start_time": "2024-01-09T13:01:26.373Z"
   },
   {
    "duration": 26,
    "start_time": "2024-01-09T13:01:26.394Z"
   },
   {
    "duration": 20,
    "start_time": "2024-01-09T13:01:26.422Z"
   },
   {
    "duration": 50,
    "start_time": "2024-01-09T13:01:26.444Z"
   },
   {
    "duration": 7,
    "start_time": "2024-01-09T13:01:26.496Z"
   },
   {
    "duration": 47,
    "start_time": "2024-01-09T13:01:26.504Z"
   },
   {
    "duration": 21,
    "start_time": "2024-01-09T13:01:26.552Z"
   },
   {
    "duration": 34,
    "start_time": "2024-01-09T13:01:26.575Z"
   },
   {
    "duration": 20,
    "start_time": "2024-01-09T13:01:26.610Z"
   },
   {
    "duration": 38,
    "start_time": "2024-01-09T13:01:26.632Z"
   },
   {
    "duration": 67,
    "start_time": "2024-01-09T13:01:26.671Z"
   },
   {
    "duration": 29,
    "start_time": "2024-01-09T13:01:26.740Z"
   },
   {
    "duration": 60,
    "start_time": "2024-01-09T13:01:26.772Z"
   },
   {
    "duration": 34,
    "start_time": "2024-01-09T13:01:26.833Z"
   },
   {
    "duration": 33,
    "start_time": "2024-01-09T13:01:26.869Z"
   },
   {
    "duration": 46,
    "start_time": "2024-01-09T13:01:26.904Z"
   },
   {
    "duration": 26,
    "start_time": "2024-01-09T13:01:26.952Z"
   },
   {
    "duration": 31,
    "start_time": "2024-01-09T13:01:26.980Z"
   },
   {
    "duration": 46,
    "start_time": "2024-01-09T13:01:27.013Z"
   },
   {
    "duration": 28,
    "start_time": "2024-01-09T13:01:27.061Z"
   },
   {
    "duration": 40,
    "start_time": "2024-01-09T13:01:27.090Z"
   },
   {
    "duration": 40,
    "start_time": "2024-01-09T13:01:27.132Z"
   },
   {
    "duration": 23,
    "start_time": "2024-01-09T13:01:27.174Z"
   },
   {
    "duration": 57,
    "start_time": "2024-01-09T13:01:27.198Z"
   },
   {
    "duration": 38,
    "start_time": "2024-01-09T13:01:27.257Z"
   },
   {
    "duration": 30,
    "start_time": "2024-01-09T13:01:27.297Z"
   },
   {
    "duration": 23,
    "start_time": "2024-01-09T13:01:27.329Z"
   },
   {
    "duration": 30,
    "start_time": "2024-01-09T13:01:27.354Z"
   },
   {
    "duration": 38,
    "start_time": "2024-01-09T13:01:27.386Z"
   },
   {
    "duration": 22,
    "start_time": "2024-01-09T13:01:27.426Z"
   },
   {
    "duration": 122,
    "start_time": "2024-01-09T13:01:27.450Z"
   },
   {
    "duration": 0,
    "start_time": "2024-01-09T13:01:27.575Z"
   },
   {
    "duration": 1,
    "start_time": "2024-01-09T13:01:27.576Z"
   },
   {
    "duration": 0,
    "start_time": "2024-01-09T13:01:27.578Z"
   },
   {
    "duration": 0,
    "start_time": "2024-01-09T13:01:27.579Z"
   },
   {
    "duration": 0,
    "start_time": "2024-01-09T13:01:27.580Z"
   },
   {
    "duration": 0,
    "start_time": "2024-01-09T13:01:27.582Z"
   },
   {
    "duration": 0,
    "start_time": "2024-01-09T13:01:27.583Z"
   },
   {
    "duration": 0,
    "start_time": "2024-01-09T13:01:27.585Z"
   },
   {
    "duration": 0,
    "start_time": "2024-01-09T13:01:27.586Z"
   },
   {
    "duration": 0,
    "start_time": "2024-01-09T13:01:27.588Z"
   },
   {
    "duration": 0,
    "start_time": "2024-01-09T13:01:27.589Z"
   },
   {
    "duration": 0,
    "start_time": "2024-01-09T13:01:27.591Z"
   },
   {
    "duration": 0,
    "start_time": "2024-01-09T13:01:27.592Z"
   },
   {
    "duration": 0,
    "start_time": "2024-01-09T13:01:27.593Z"
   },
   {
    "duration": 0,
    "start_time": "2024-01-09T13:01:27.595Z"
   },
   {
    "duration": 0,
    "start_time": "2024-01-09T13:01:27.596Z"
   },
   {
    "duration": 0,
    "start_time": "2024-01-09T13:01:27.598Z"
   },
   {
    "duration": 0,
    "start_time": "2024-01-09T13:01:27.599Z"
   },
   {
    "duration": 0,
    "start_time": "2024-01-09T13:01:27.600Z"
   },
   {
    "duration": 0,
    "start_time": "2024-01-09T13:01:27.601Z"
   },
   {
    "duration": 0,
    "start_time": "2024-01-09T13:01:27.602Z"
   },
   {
    "duration": 1,
    "start_time": "2024-01-09T13:01:27.642Z"
   },
   {
    "duration": 0,
    "start_time": "2024-01-09T13:01:27.644Z"
   },
   {
    "duration": 0,
    "start_time": "2024-01-09T13:01:27.645Z"
   },
   {
    "duration": 0,
    "start_time": "2024-01-09T13:01:27.646Z"
   },
   {
    "duration": 0,
    "start_time": "2024-01-09T13:01:27.647Z"
   },
   {
    "duration": 0,
    "start_time": "2024-01-09T13:01:27.647Z"
   },
   {
    "duration": 0,
    "start_time": "2024-01-09T13:01:27.648Z"
   },
   {
    "duration": 0,
    "start_time": "2024-01-09T13:01:27.649Z"
   },
   {
    "duration": 0,
    "start_time": "2024-01-09T13:01:27.650Z"
   },
   {
    "duration": 0,
    "start_time": "2024-01-09T13:01:27.651Z"
   },
   {
    "duration": 0,
    "start_time": "2024-01-09T13:01:27.652Z"
   },
   {
    "duration": 0,
    "start_time": "2024-01-09T13:01:27.653Z"
   },
   {
    "duration": 0,
    "start_time": "2024-01-09T13:01:27.654Z"
   },
   {
    "duration": 0,
    "start_time": "2024-01-09T13:01:27.655Z"
   },
   {
    "duration": 0,
    "start_time": "2024-01-09T13:01:27.656Z"
   },
   {
    "duration": 0,
    "start_time": "2024-01-09T13:01:27.657Z"
   },
   {
    "duration": 0,
    "start_time": "2024-01-09T13:01:27.658Z"
   },
   {
    "duration": 0,
    "start_time": "2024-01-09T13:01:27.659Z"
   },
   {
    "duration": 0,
    "start_time": "2024-01-09T13:01:27.660Z"
   },
   {
    "duration": 0,
    "start_time": "2024-01-09T13:01:27.661Z"
   },
   {
    "duration": 0,
    "start_time": "2024-01-09T13:01:27.662Z"
   },
   {
    "duration": 0,
    "start_time": "2024-01-09T13:01:27.663Z"
   },
   {
    "duration": 0,
    "start_time": "2024-01-09T13:01:27.664Z"
   },
   {
    "duration": 0,
    "start_time": "2024-01-09T13:01:27.665Z"
   },
   {
    "duration": 0,
    "start_time": "2024-01-09T13:01:27.666Z"
   },
   {
    "duration": 0,
    "start_time": "2024-01-09T13:01:27.667Z"
   },
   {
    "duration": 0,
    "start_time": "2024-01-09T13:01:27.667Z"
   },
   {
    "duration": 0,
    "start_time": "2024-01-09T13:01:27.668Z"
   },
   {
    "duration": 0,
    "start_time": "2024-01-09T13:01:27.669Z"
   },
   {
    "duration": 0,
    "start_time": "2024-01-09T13:01:27.671Z"
   },
   {
    "duration": 1,
    "start_time": "2024-01-09T13:01:27.671Z"
   },
   {
    "duration": 0,
    "start_time": "2024-01-09T13:01:27.672Z"
   },
   {
    "duration": 0,
    "start_time": "2024-01-09T13:01:27.674Z"
   },
   {
    "duration": 8,
    "start_time": "2024-01-09T13:01:32.629Z"
   },
   {
    "duration": 9,
    "start_time": "2024-01-09T13:01:34.014Z"
   },
   {
    "duration": 5,
    "start_time": "2024-01-09T13:01:40.468Z"
   },
   {
    "duration": 8,
    "start_time": "2024-01-09T13:01:52.205Z"
   },
   {
    "duration": 1392,
    "start_time": "2024-01-09T13:02:53.510Z"
   },
   {
    "duration": 50,
    "start_time": "2024-01-09T13:02:54.904Z"
   },
   {
    "duration": 16,
    "start_time": "2024-01-09T13:02:54.955Z"
   },
   {
    "duration": 27,
    "start_time": "2024-01-09T13:02:54.973Z"
   },
   {
    "duration": 49,
    "start_time": "2024-01-09T13:02:55.002Z"
   },
   {
    "duration": 30,
    "start_time": "2024-01-09T13:02:55.053Z"
   },
   {
    "duration": 24,
    "start_time": "2024-01-09T13:02:55.085Z"
   },
   {
    "duration": 24,
    "start_time": "2024-01-09T13:02:55.111Z"
   },
   {
    "duration": 65,
    "start_time": "2024-01-09T13:02:55.137Z"
   },
   {
    "duration": 26,
    "start_time": "2024-01-09T13:02:55.206Z"
   },
   {
    "duration": 14,
    "start_time": "2024-01-09T13:02:55.233Z"
   },
   {
    "duration": 22,
    "start_time": "2024-01-09T13:02:55.249Z"
   },
   {
    "duration": 55,
    "start_time": "2024-01-09T13:02:55.273Z"
   },
   {
    "duration": 7,
    "start_time": "2024-01-09T13:02:55.330Z"
   },
   {
    "duration": 30,
    "start_time": "2024-01-09T13:02:55.339Z"
   },
   {
    "duration": 43,
    "start_time": "2024-01-09T13:02:55.371Z"
   },
   {
    "duration": 50,
    "start_time": "2024-01-09T13:02:55.416Z"
   },
   {
    "duration": 56,
    "start_time": "2024-01-09T13:02:55.467Z"
   },
   {
    "duration": 7,
    "start_time": "2024-01-09T13:02:55.525Z"
   },
   {
    "duration": 20,
    "start_time": "2024-01-09T13:02:55.534Z"
   },
   {
    "duration": 14,
    "start_time": "2024-01-09T13:02:55.555Z"
   },
   {
    "duration": 26,
    "start_time": "2024-01-09T13:02:55.571Z"
   },
   {
    "duration": 12,
    "start_time": "2024-01-09T13:02:55.599Z"
   },
   {
    "duration": 28,
    "start_time": "2024-01-09T13:02:55.612Z"
   },
   {
    "duration": 42,
    "start_time": "2024-01-09T13:02:55.641Z"
   },
   {
    "duration": 22,
    "start_time": "2024-01-09T13:02:55.685Z"
   },
   {
    "duration": 13,
    "start_time": "2024-01-09T13:02:55.708Z"
   },
   {
    "duration": 43,
    "start_time": "2024-01-09T13:02:55.725Z"
   },
   {
    "duration": 12,
    "start_time": "2024-01-09T13:02:55.769Z"
   },
   {
    "duration": 33,
    "start_time": "2024-01-09T13:02:55.782Z"
   },
   {
    "duration": 21,
    "start_time": "2024-01-09T13:02:55.816Z"
   },
   {
    "duration": 21,
    "start_time": "2024-01-09T13:02:55.838Z"
   },
   {
    "duration": 9,
    "start_time": "2024-01-09T13:02:55.861Z"
   },
   {
    "duration": 10,
    "start_time": "2024-01-09T13:02:55.872Z"
   },
   {
    "duration": 39,
    "start_time": "2024-01-09T13:02:55.883Z"
   },
   {
    "duration": 15,
    "start_time": "2024-01-09T13:02:55.923Z"
   },
   {
    "duration": 14,
    "start_time": "2024-01-09T13:02:55.940Z"
   },
   {
    "duration": 18,
    "start_time": "2024-01-09T13:02:55.956Z"
   },
   {
    "duration": 22,
    "start_time": "2024-01-09T13:02:55.976Z"
   },
   {
    "duration": 27,
    "start_time": "2024-01-09T13:02:55.999Z"
   },
   {
    "duration": 27,
    "start_time": "2024-01-09T13:02:56.028Z"
   },
   {
    "duration": 37,
    "start_time": "2024-01-09T13:02:56.056Z"
   },
   {
    "duration": 22,
    "start_time": "2024-01-09T13:02:56.095Z"
   },
   {
    "duration": 11,
    "start_time": "2024-01-09T13:02:56.119Z"
   },
   {
    "duration": 7,
    "start_time": "2024-01-09T13:02:56.131Z"
   },
   {
    "duration": 29,
    "start_time": "2024-01-09T13:02:56.140Z"
   },
   {
    "duration": 31,
    "start_time": "2024-01-09T13:02:56.171Z"
   },
   {
    "duration": 24,
    "start_time": "2024-01-09T13:02:56.204Z"
   },
   {
    "duration": 21,
    "start_time": "2024-01-09T13:02:56.230Z"
   },
   {
    "duration": 36,
    "start_time": "2024-01-09T13:02:56.252Z"
   },
   {
    "duration": 36,
    "start_time": "2024-01-09T13:02:56.291Z"
   },
   {
    "duration": 29,
    "start_time": "2024-01-09T13:02:56.329Z"
   },
   {
    "duration": 30,
    "start_time": "2024-01-09T13:02:56.360Z"
   },
   {
    "duration": 22,
    "start_time": "2024-01-09T13:02:56.392Z"
   },
   {
    "duration": 39,
    "start_time": "2024-01-09T13:02:56.415Z"
   },
   {
    "duration": 31,
    "start_time": "2024-01-09T13:02:56.455Z"
   },
   {
    "duration": 26,
    "start_time": "2024-01-09T13:02:56.487Z"
   },
   {
    "duration": 43,
    "start_time": "2024-01-09T13:02:56.514Z"
   },
   {
    "duration": 23,
    "start_time": "2024-01-09T13:02:56.558Z"
   },
   {
    "duration": 28,
    "start_time": "2024-01-09T13:02:56.583Z"
   },
   {
    "duration": 56,
    "start_time": "2024-01-09T13:02:56.612Z"
   },
   {
    "duration": 31,
    "start_time": "2024-01-09T13:02:56.670Z"
   },
   {
    "duration": 40,
    "start_time": "2024-01-09T13:02:56.703Z"
   },
   {
    "duration": 26,
    "start_time": "2024-01-09T13:02:56.745Z"
   },
   {
    "duration": 30,
    "start_time": "2024-01-09T13:02:56.772Z"
   },
   {
    "duration": 29,
    "start_time": "2024-01-09T13:02:56.804Z"
   },
   {
    "duration": 37,
    "start_time": "2024-01-09T13:02:56.834Z"
   },
   {
    "duration": 29,
    "start_time": "2024-01-09T13:02:56.872Z"
   },
   {
    "duration": 13,
    "start_time": "2024-01-09T13:02:56.903Z"
   },
   {
    "duration": 21,
    "start_time": "2024-01-09T13:02:56.917Z"
   },
   {
    "duration": 36,
    "start_time": "2024-01-09T13:02:56.940Z"
   },
   {
    "duration": 34,
    "start_time": "2024-01-09T13:02:56.978Z"
   },
   {
    "duration": 25,
    "start_time": "2024-01-09T13:02:57.013Z"
   },
   {
    "duration": 32,
    "start_time": "2024-01-09T13:02:57.039Z"
   },
   {
    "duration": 36,
    "start_time": "2024-01-09T13:02:57.073Z"
   },
   {
    "duration": 34,
    "start_time": "2024-01-09T13:02:57.111Z"
   },
   {
    "duration": 148,
    "start_time": "2024-01-09T13:02:57.147Z"
   },
   {
    "duration": 1551,
    "start_time": "2024-01-09T13:02:57.296Z"
   },
   {
    "duration": 5,
    "start_time": "2024-01-09T13:02:58.849Z"
   },
   {
    "duration": 27,
    "start_time": "2024-01-09T13:02:58.856Z"
   },
   {
    "duration": 23,
    "start_time": "2024-01-09T13:02:58.885Z"
   },
   {
    "duration": 26,
    "start_time": "2024-01-09T13:02:58.914Z"
   },
   {
    "duration": 11,
    "start_time": "2024-01-09T13:02:58.942Z"
   },
   {
    "duration": 20,
    "start_time": "2024-01-09T13:02:58.954Z"
   },
   {
    "duration": 12,
    "start_time": "2024-01-09T13:02:58.975Z"
   },
   {
    "duration": 13,
    "start_time": "2024-01-09T13:02:58.989Z"
   },
   {
    "duration": 40,
    "start_time": "2024-01-09T13:02:59.003Z"
   },
   {
    "duration": 274,
    "start_time": "2024-01-09T13:02:59.044Z"
   },
   {
    "duration": 0,
    "start_time": "2024-01-09T13:02:59.319Z"
   },
   {
    "duration": 0,
    "start_time": "2024-01-09T13:02:59.320Z"
   },
   {
    "duration": 0,
    "start_time": "2024-01-09T13:02:59.321Z"
   },
   {
    "duration": 0,
    "start_time": "2024-01-09T13:02:59.322Z"
   },
   {
    "duration": 0,
    "start_time": "2024-01-09T13:02:59.323Z"
   },
   {
    "duration": 0,
    "start_time": "2024-01-09T13:02:59.324Z"
   },
   {
    "duration": 0,
    "start_time": "2024-01-09T13:02:59.325Z"
   },
   {
    "duration": 0,
    "start_time": "2024-01-09T13:02:59.326Z"
   },
   {
    "duration": 0,
    "start_time": "2024-01-09T13:02:59.327Z"
   },
   {
    "duration": 0,
    "start_time": "2024-01-09T13:02:59.329Z"
   },
   {
    "duration": 0,
    "start_time": "2024-01-09T13:02:59.330Z"
   },
   {
    "duration": 1476,
    "start_time": "2024-01-09T13:05:51.610Z"
   },
   {
    "duration": 49,
    "start_time": "2024-01-09T13:05:53.087Z"
   },
   {
    "duration": 26,
    "start_time": "2024-01-09T13:05:53.140Z"
   },
   {
    "duration": 12,
    "start_time": "2024-01-09T13:05:53.167Z"
   },
   {
    "duration": 19,
    "start_time": "2024-01-09T13:05:53.181Z"
   },
   {
    "duration": 19,
    "start_time": "2024-01-09T13:05:53.202Z"
   },
   {
    "duration": 42,
    "start_time": "2024-01-09T13:05:53.222Z"
   },
   {
    "duration": 14,
    "start_time": "2024-01-09T13:05:53.270Z"
   },
   {
    "duration": 80,
    "start_time": "2024-01-09T13:05:53.288Z"
   },
   {
    "duration": 27,
    "start_time": "2024-01-09T13:05:53.369Z"
   },
   {
    "duration": 15,
    "start_time": "2024-01-09T13:05:53.397Z"
   },
   {
    "duration": 26,
    "start_time": "2024-01-09T13:05:53.414Z"
   },
   {
    "duration": 38,
    "start_time": "2024-01-09T13:05:53.443Z"
   },
   {
    "duration": 8,
    "start_time": "2024-01-09T13:05:53.483Z"
   },
   {
    "duration": 26,
    "start_time": "2024-01-09T13:05:53.493Z"
   },
   {
    "duration": 27,
    "start_time": "2024-01-09T13:05:53.521Z"
   },
   {
    "duration": 13,
    "start_time": "2024-01-09T13:05:53.550Z"
   },
   {
    "duration": 30,
    "start_time": "2024-01-09T13:05:53.567Z"
   },
   {
    "duration": 8,
    "start_time": "2024-01-09T13:05:53.599Z"
   },
   {
    "duration": 18,
    "start_time": "2024-01-09T13:05:53.608Z"
   },
   {
    "duration": 16,
    "start_time": "2024-01-09T13:05:53.628Z"
   },
   {
    "duration": 19,
    "start_time": "2024-01-09T13:05:53.647Z"
   },
   {
    "duration": 11,
    "start_time": "2024-01-09T13:05:53.668Z"
   },
   {
    "duration": 14,
    "start_time": "2024-01-09T13:05:53.681Z"
   },
   {
    "duration": 50,
    "start_time": "2024-01-09T13:05:53.696Z"
   },
   {
    "duration": 24,
    "start_time": "2024-01-09T13:05:53.749Z"
   },
   {
    "duration": 12,
    "start_time": "2024-01-09T13:05:53.777Z"
   },
   {
    "duration": 12,
    "start_time": "2024-01-09T13:05:53.790Z"
   },
   {
    "duration": 10,
    "start_time": "2024-01-09T13:05:53.803Z"
   },
   {
    "duration": 33,
    "start_time": "2024-01-09T13:05:53.815Z"
   },
   {
    "duration": 26,
    "start_time": "2024-01-09T13:05:53.850Z"
   },
   {
    "duration": 16,
    "start_time": "2024-01-09T13:05:53.877Z"
   },
   {
    "duration": 15,
    "start_time": "2024-01-09T13:05:53.895Z"
   },
   {
    "duration": 13,
    "start_time": "2024-01-09T13:05:53.912Z"
   },
   {
    "duration": 15,
    "start_time": "2024-01-09T13:05:53.927Z"
   },
   {
    "duration": 20,
    "start_time": "2024-01-09T13:05:53.945Z"
   },
   {
    "duration": 8,
    "start_time": "2024-01-09T13:05:53.966Z"
   },
   {
    "duration": 16,
    "start_time": "2024-01-09T13:05:53.976Z"
   },
   {
    "duration": 13,
    "start_time": "2024-01-09T13:05:53.994Z"
   },
   {
    "duration": 22,
    "start_time": "2024-01-09T13:05:54.008Z"
   },
   {
    "duration": 14,
    "start_time": "2024-01-09T13:05:54.032Z"
   },
   {
    "duration": 10,
    "start_time": "2024-01-09T13:05:54.048Z"
   },
   {
    "duration": 11,
    "start_time": "2024-01-09T13:05:54.061Z"
   },
   {
    "duration": 12,
    "start_time": "2024-01-09T13:05:54.074Z"
   },
   {
    "duration": 9,
    "start_time": "2024-01-09T13:05:54.088Z"
   },
   {
    "duration": 12,
    "start_time": "2024-01-09T13:05:54.099Z"
   },
   {
    "duration": 33,
    "start_time": "2024-01-09T13:05:54.113Z"
   },
   {
    "duration": 27,
    "start_time": "2024-01-09T13:05:54.148Z"
   },
   {
    "duration": 13,
    "start_time": "2024-01-09T13:05:54.176Z"
   },
   {
    "duration": 15,
    "start_time": "2024-01-09T13:05:54.190Z"
   },
   {
    "duration": 12,
    "start_time": "2024-01-09T13:05:54.206Z"
   },
   {
    "duration": 22,
    "start_time": "2024-01-09T13:05:54.220Z"
   },
   {
    "duration": 15,
    "start_time": "2024-01-09T13:05:54.244Z"
   },
   {
    "duration": 5,
    "start_time": "2024-01-09T13:05:54.261Z"
   },
   {
    "duration": 5,
    "start_time": "2024-01-09T13:05:54.267Z"
   },
   {
    "duration": 4,
    "start_time": "2024-01-09T13:05:54.274Z"
   },
   {
    "duration": 125,
    "start_time": "2024-01-09T13:05:54.280Z"
   },
   {
    "duration": 0,
    "start_time": "2024-01-09T13:05:54.407Z"
   },
   {
    "duration": 0,
    "start_time": "2024-01-09T13:05:54.409Z"
   },
   {
    "duration": 0,
    "start_time": "2024-01-09T13:05:54.410Z"
   },
   {
    "duration": 0,
    "start_time": "2024-01-09T13:05:54.411Z"
   },
   {
    "duration": 0,
    "start_time": "2024-01-09T13:05:54.412Z"
   },
   {
    "duration": 0,
    "start_time": "2024-01-09T13:05:54.413Z"
   },
   {
    "duration": 0,
    "start_time": "2024-01-09T13:05:54.414Z"
   },
   {
    "duration": 0,
    "start_time": "2024-01-09T13:05:54.415Z"
   },
   {
    "duration": 0,
    "start_time": "2024-01-09T13:05:54.416Z"
   },
   {
    "duration": 0,
    "start_time": "2024-01-09T13:05:54.416Z"
   },
   {
    "duration": 0,
    "start_time": "2024-01-09T13:05:54.418Z"
   },
   {
    "duration": 0,
    "start_time": "2024-01-09T13:05:54.418Z"
   },
   {
    "duration": 0,
    "start_time": "2024-01-09T13:05:54.419Z"
   },
   {
    "duration": 0,
    "start_time": "2024-01-09T13:05:54.420Z"
   },
   {
    "duration": 0,
    "start_time": "2024-01-09T13:05:54.442Z"
   },
   {
    "duration": 1,
    "start_time": "2024-01-09T13:05:54.443Z"
   },
   {
    "duration": 0,
    "start_time": "2024-01-09T13:05:54.445Z"
   },
   {
    "duration": 0,
    "start_time": "2024-01-09T13:05:54.446Z"
   },
   {
    "duration": 0,
    "start_time": "2024-01-09T13:05:54.450Z"
   },
   {
    "duration": 0,
    "start_time": "2024-01-09T13:05:54.451Z"
   },
   {
    "duration": 0,
    "start_time": "2024-01-09T13:05:54.451Z"
   },
   {
    "duration": 0,
    "start_time": "2024-01-09T13:05:54.452Z"
   },
   {
    "duration": 0,
    "start_time": "2024-01-09T13:05:54.453Z"
   },
   {
    "duration": 0,
    "start_time": "2024-01-09T13:05:54.454Z"
   },
   {
    "duration": 0,
    "start_time": "2024-01-09T13:05:54.455Z"
   },
   {
    "duration": 0,
    "start_time": "2024-01-09T13:05:54.456Z"
   },
   {
    "duration": 0,
    "start_time": "2024-01-09T13:05:54.457Z"
   },
   {
    "duration": 0,
    "start_time": "2024-01-09T13:05:54.458Z"
   },
   {
    "duration": 0,
    "start_time": "2024-01-09T13:05:54.458Z"
   },
   {
    "duration": 0,
    "start_time": "2024-01-09T13:05:54.459Z"
   },
   {
    "duration": 0,
    "start_time": "2024-01-09T13:05:54.461Z"
   },
   {
    "duration": 0,
    "start_time": "2024-01-09T13:05:54.462Z"
   },
   {
    "duration": 0,
    "start_time": "2024-01-09T13:05:54.470Z"
   },
   {
    "duration": 0,
    "start_time": "2024-01-09T13:05:54.470Z"
   },
   {
    "duration": 0,
    "start_time": "2024-01-09T13:05:54.472Z"
   },
   {
    "duration": 0,
    "start_time": "2024-01-09T13:05:54.473Z"
   },
   {
    "duration": 0,
    "start_time": "2024-01-09T13:05:54.474Z"
   },
   {
    "duration": 0,
    "start_time": "2024-01-09T13:05:54.475Z"
   },
   {
    "duration": 0,
    "start_time": "2024-01-09T13:05:54.476Z"
   },
   {
    "duration": 0,
    "start_time": "2024-01-09T13:05:54.478Z"
   },
   {
    "duration": 0,
    "start_time": "2024-01-09T13:05:54.479Z"
   },
   {
    "duration": 0,
    "start_time": "2024-01-09T13:05:54.480Z"
   },
   {
    "duration": 0,
    "start_time": "2024-01-09T13:05:54.481Z"
   },
   {
    "duration": 3,
    "start_time": "2024-01-09T13:07:06.896Z"
   },
   {
    "duration": 6,
    "start_time": "2024-01-09T13:07:07.968Z"
   },
   {
    "duration": 11,
    "start_time": "2024-01-09T13:07:08.591Z"
   },
   {
    "duration": 1535,
    "start_time": "2024-01-09T13:07:22.619Z"
   },
   {
    "duration": 51,
    "start_time": "2024-01-09T13:07:24.156Z"
   },
   {
    "duration": 16,
    "start_time": "2024-01-09T13:07:24.209Z"
   },
   {
    "duration": 15,
    "start_time": "2024-01-09T13:07:24.227Z"
   },
   {
    "duration": 19,
    "start_time": "2024-01-09T13:07:24.244Z"
   },
   {
    "duration": 20,
    "start_time": "2024-01-09T13:07:24.265Z"
   },
   {
    "duration": 15,
    "start_time": "2024-01-09T13:07:24.287Z"
   },
   {
    "duration": 22,
    "start_time": "2024-01-09T13:07:24.304Z"
   },
   {
    "duration": 79,
    "start_time": "2024-01-09T13:07:24.328Z"
   },
   {
    "duration": 25,
    "start_time": "2024-01-09T13:07:24.410Z"
   },
   {
    "duration": 25,
    "start_time": "2024-01-09T13:07:24.437Z"
   },
   {
    "duration": 17,
    "start_time": "2024-01-09T13:07:24.464Z"
   },
   {
    "duration": 51,
    "start_time": "2024-01-09T13:07:24.482Z"
   },
   {
    "duration": 6,
    "start_time": "2024-01-09T13:07:24.534Z"
   },
   {
    "duration": 33,
    "start_time": "2024-01-09T13:07:24.542Z"
   },
   {
    "duration": 30,
    "start_time": "2024-01-09T13:07:24.577Z"
   },
   {
    "duration": 24,
    "start_time": "2024-01-09T13:07:24.608Z"
   },
   {
    "duration": 39,
    "start_time": "2024-01-09T13:07:24.634Z"
   },
   {
    "duration": 8,
    "start_time": "2024-01-09T13:07:24.675Z"
   },
   {
    "duration": 31,
    "start_time": "2024-01-09T13:07:24.684Z"
   },
   {
    "duration": 14,
    "start_time": "2024-01-09T13:07:24.716Z"
   },
   {
    "duration": 26,
    "start_time": "2024-01-09T13:07:24.732Z"
   },
   {
    "duration": 16,
    "start_time": "2024-01-09T13:07:24.760Z"
   },
   {
    "duration": 17,
    "start_time": "2024-01-09T13:07:24.778Z"
   },
   {
    "duration": 40,
    "start_time": "2024-01-09T13:07:24.797Z"
   },
   {
    "duration": 27,
    "start_time": "2024-01-09T13:07:24.838Z"
   },
   {
    "duration": 11,
    "start_time": "2024-01-09T13:07:24.866Z"
   },
   {
    "duration": 29,
    "start_time": "2024-01-09T13:07:24.881Z"
   },
   {
    "duration": 15,
    "start_time": "2024-01-09T13:07:24.912Z"
   },
   {
    "duration": 30,
    "start_time": "2024-01-09T13:07:24.928Z"
   },
   {
    "duration": 25,
    "start_time": "2024-01-09T13:07:24.960Z"
   },
   {
    "duration": 24,
    "start_time": "2024-01-09T13:07:24.987Z"
   },
   {
    "duration": 40,
    "start_time": "2024-01-09T13:07:25.013Z"
   },
   {
    "duration": 13,
    "start_time": "2024-01-09T13:07:25.055Z"
   },
   {
    "duration": 27,
    "start_time": "2024-01-09T13:07:25.070Z"
   },
   {
    "duration": 27,
    "start_time": "2024-01-09T13:07:25.098Z"
   },
   {
    "duration": 29,
    "start_time": "2024-01-09T13:07:25.126Z"
   },
   {
    "duration": 23,
    "start_time": "2024-01-09T13:07:25.156Z"
   },
   {
    "duration": 14,
    "start_time": "2024-01-09T13:07:25.180Z"
   },
   {
    "duration": 11,
    "start_time": "2024-01-09T13:07:25.196Z"
   },
   {
    "duration": 15,
    "start_time": "2024-01-09T13:07:25.208Z"
   },
   {
    "duration": 8,
    "start_time": "2024-01-09T13:07:25.225Z"
   },
   {
    "duration": 22,
    "start_time": "2024-01-09T13:07:25.234Z"
   },
   {
    "duration": 15,
    "start_time": "2024-01-09T13:07:25.258Z"
   },
   {
    "duration": 8,
    "start_time": "2024-01-09T13:07:25.274Z"
   },
   {
    "duration": 9,
    "start_time": "2024-01-09T13:07:25.283Z"
   },
   {
    "duration": 10,
    "start_time": "2024-01-09T13:07:25.294Z"
   },
   {
    "duration": 15,
    "start_time": "2024-01-09T13:07:25.305Z"
   },
   {
    "duration": 36,
    "start_time": "2024-01-09T13:07:25.321Z"
   },
   {
    "duration": 21,
    "start_time": "2024-01-09T13:07:25.358Z"
   },
   {
    "duration": 15,
    "start_time": "2024-01-09T13:07:25.381Z"
   },
   {
    "duration": 12,
    "start_time": "2024-01-09T13:07:25.397Z"
   },
   {
    "duration": 4,
    "start_time": "2024-01-09T13:07:25.410Z"
   },
   {
    "duration": 30,
    "start_time": "2024-01-09T13:07:25.415Z"
   },
   {
    "duration": 11,
    "start_time": "2024-01-09T13:07:25.447Z"
   },
   {
    "duration": 49,
    "start_time": "2024-01-09T13:07:25.460Z"
   },
   {
    "duration": 24,
    "start_time": "2024-01-09T13:07:25.511Z"
   },
   {
    "duration": 33,
    "start_time": "2024-01-09T13:07:25.537Z"
   },
   {
    "duration": 11,
    "start_time": "2024-01-09T13:07:25.571Z"
   },
   {
    "duration": 18,
    "start_time": "2024-01-09T13:07:25.584Z"
   },
   {
    "duration": 31,
    "start_time": "2024-01-09T13:07:25.603Z"
   },
   {
    "duration": 33,
    "start_time": "2024-01-09T13:07:25.636Z"
   },
   {
    "duration": 12,
    "start_time": "2024-01-09T13:07:25.670Z"
   },
   {
    "duration": 32,
    "start_time": "2024-01-09T13:07:25.683Z"
   },
   {
    "duration": 15,
    "start_time": "2024-01-09T13:07:25.716Z"
   },
   {
    "duration": 66,
    "start_time": "2024-01-09T13:07:25.733Z"
   },
   {
    "duration": 10,
    "start_time": "2024-01-09T13:07:25.802Z"
   },
   {
    "duration": 33,
    "start_time": "2024-01-09T13:07:25.813Z"
   },
   {
    "duration": 23,
    "start_time": "2024-01-09T13:07:25.848Z"
   },
   {
    "duration": 5,
    "start_time": "2024-01-09T13:07:25.873Z"
   },
   {
    "duration": 12,
    "start_time": "2024-01-09T13:07:25.880Z"
   },
   {
    "duration": 15,
    "start_time": "2024-01-09T13:07:25.894Z"
   },
   {
    "duration": 8,
    "start_time": "2024-01-09T13:07:25.910Z"
   },
   {
    "duration": 7,
    "start_time": "2024-01-09T13:07:25.920Z"
   },
   {
    "duration": 33,
    "start_time": "2024-01-09T13:07:25.928Z"
   },
   {
    "duration": 11,
    "start_time": "2024-01-09T13:07:25.962Z"
   },
   {
    "duration": 31,
    "start_time": "2024-01-09T13:07:25.976Z"
   },
   {
    "duration": 170,
    "start_time": "2024-01-09T13:07:26.008Z"
   },
   {
    "duration": 1718,
    "start_time": "2024-01-09T13:07:26.180Z"
   },
   {
    "duration": 5,
    "start_time": "2024-01-09T13:07:27.900Z"
   },
   {
    "duration": 13,
    "start_time": "2024-01-09T13:07:27.907Z"
   },
   {
    "duration": 11,
    "start_time": "2024-01-09T13:07:27.927Z"
   },
   {
    "duration": 107,
    "start_time": "2024-01-09T13:07:27.940Z"
   },
   {
    "duration": 64,
    "start_time": "2024-01-09T13:07:28.048Z"
   },
   {
    "duration": 5,
    "start_time": "2024-01-09T13:07:28.114Z"
   },
   {
    "duration": 4,
    "start_time": "2024-01-09T13:07:28.121Z"
   },
   {
    "duration": 5,
    "start_time": "2024-01-09T13:07:28.126Z"
   },
   {
    "duration": 11,
    "start_time": "2024-01-09T13:07:28.132Z"
   },
   {
    "duration": 15,
    "start_time": "2024-01-09T13:07:28.144Z"
   },
   {
    "duration": 86,
    "start_time": "2024-01-09T13:07:28.161Z"
   },
   {
    "duration": 5,
    "start_time": "2024-01-09T13:07:28.249Z"
   },
   {
    "duration": 23787,
    "start_time": "2024-01-09T13:07:28.256Z"
   },
   {
    "duration": 5,
    "start_time": "2024-01-09T13:07:52.045Z"
   },
   {
    "duration": 25,
    "start_time": "2024-01-09T13:07:52.052Z"
   },
   {
    "duration": 76717,
    "start_time": "2024-01-09T13:07:52.079Z"
   },
   {
    "duration": 3,
    "start_time": "2024-01-09T13:09:08.797Z"
   },
   {
    "duration": 9,
    "start_time": "2024-01-09T13:09:08.802Z"
   },
   {
    "duration": 76972,
    "start_time": "2024-01-09T13:09:08.812Z"
   },
   {
    "duration": 0,
    "start_time": "2024-01-09T13:10:25.786Z"
   },
   {
    "duration": 0,
    "start_time": "2024-01-09T13:10:25.787Z"
   },
   {
    "duration": 52289,
    "start_time": "2024-01-09T13:10:29.024Z"
   },
   {
    "duration": 4,
    "start_time": "2024-01-09T13:11:21.315Z"
   },
   {
    "duration": 127802,
    "start_time": "2024-01-09T13:11:29.226Z"
   },
   {
    "duration": 0,
    "start_time": "2024-01-09T13:13:37.030Z"
   },
   {
    "duration": 9442,
    "start_time": "2024-01-09T13:13:39.250Z"
   },
   {
    "duration": 0,
    "start_time": "2024-01-09T13:13:48.694Z"
   },
   {
    "duration": 1347,
    "start_time": "2024-01-09T13:13:53.436Z"
   },
   {
    "duration": 49,
    "start_time": "2024-01-09T13:13:54.785Z"
   },
   {
    "duration": 21,
    "start_time": "2024-01-09T13:13:54.836Z"
   },
   {
    "duration": 12,
    "start_time": "2024-01-09T13:13:54.859Z"
   },
   {
    "duration": 17,
    "start_time": "2024-01-09T13:13:54.873Z"
   },
   {
    "duration": 20,
    "start_time": "2024-01-09T13:13:54.892Z"
   },
   {
    "duration": 36,
    "start_time": "2024-01-09T13:13:54.913Z"
   },
   {
    "duration": 21,
    "start_time": "2024-01-09T13:13:54.951Z"
   },
   {
    "duration": 51,
    "start_time": "2024-01-09T13:13:54.974Z"
   },
   {
    "duration": 32,
    "start_time": "2024-01-09T13:13:55.028Z"
   },
   {
    "duration": 14,
    "start_time": "2024-01-09T13:13:55.061Z"
   },
   {
    "duration": 24,
    "start_time": "2024-01-09T13:13:55.077Z"
   },
   {
    "duration": 98,
    "start_time": "2024-01-09T13:13:55.102Z"
   },
   {
    "duration": 7,
    "start_time": "2024-01-09T13:13:55.202Z"
   },
   {
    "duration": 97,
    "start_time": "2024-01-09T13:13:55.210Z"
   },
   {
    "duration": 35,
    "start_time": "2024-01-09T13:13:55.308Z"
   },
   {
    "duration": 173,
    "start_time": "2024-01-09T13:13:55.345Z"
   },
   {
    "duration": 52,
    "start_time": "2024-01-09T13:13:55.520Z"
   },
   {
    "duration": 8,
    "start_time": "2024-01-09T13:13:55.573Z"
   },
   {
    "duration": 52,
    "start_time": "2024-01-09T13:13:55.583Z"
   },
   {
    "duration": 21,
    "start_time": "2024-01-09T13:13:55.637Z"
   },
   {
    "duration": 17,
    "start_time": "2024-01-09T13:13:55.660Z"
   },
   {
    "duration": 14,
    "start_time": "2024-01-09T13:13:55.678Z"
   },
   {
    "duration": 31,
    "start_time": "2024-01-09T13:13:55.694Z"
   },
   {
    "duration": 69,
    "start_time": "2024-01-09T13:13:55.726Z"
   },
   {
    "duration": 21,
    "start_time": "2024-01-09T13:13:55.797Z"
   },
   {
    "duration": 17,
    "start_time": "2024-01-09T13:13:55.820Z"
   },
   {
    "duration": 41,
    "start_time": "2024-01-09T13:13:55.844Z"
   },
   {
    "duration": 32,
    "start_time": "2024-01-09T13:13:55.886Z"
   },
   {
    "duration": 76,
    "start_time": "2024-01-09T13:13:55.919Z"
   },
   {
    "duration": 33,
    "start_time": "2024-01-09T13:13:55.997Z"
   },
   {
    "duration": 30,
    "start_time": "2024-01-09T13:13:56.031Z"
   },
   {
    "duration": 10,
    "start_time": "2024-01-09T13:13:56.063Z"
   },
   {
    "duration": 21,
    "start_time": "2024-01-09T13:13:56.075Z"
   },
   {
    "duration": 36,
    "start_time": "2024-01-09T13:13:56.097Z"
   },
   {
    "duration": 37,
    "start_time": "2024-01-09T13:13:56.135Z"
   },
   {
    "duration": 12,
    "start_time": "2024-01-09T13:13:56.174Z"
   },
   {
    "duration": 29,
    "start_time": "2024-01-09T13:13:56.188Z"
   },
   {
    "duration": 42,
    "start_time": "2024-01-09T13:13:56.219Z"
   },
   {
    "duration": 114,
    "start_time": "2024-01-09T13:13:56.262Z"
   },
   {
    "duration": 14,
    "start_time": "2024-01-09T13:13:56.378Z"
   },
   {
    "duration": 37,
    "start_time": "2024-01-09T13:13:56.393Z"
   },
   {
    "duration": 32,
    "start_time": "2024-01-09T13:13:56.432Z"
   },
   {
    "duration": 26,
    "start_time": "2024-01-09T13:13:56.466Z"
   },
   {
    "duration": 37,
    "start_time": "2024-01-09T13:13:56.493Z"
   },
   {
    "duration": 61,
    "start_time": "2024-01-09T13:13:56.531Z"
   },
   {
    "duration": 13,
    "start_time": "2024-01-09T13:13:56.594Z"
   },
   {
    "duration": 32,
    "start_time": "2024-01-09T13:13:56.608Z"
   },
   {
    "duration": 17,
    "start_time": "2024-01-09T13:13:56.642Z"
   },
   {
    "duration": 32,
    "start_time": "2024-01-09T13:13:56.661Z"
   },
   {
    "duration": 24,
    "start_time": "2024-01-09T13:13:56.695Z"
   },
   {
    "duration": 19,
    "start_time": "2024-01-09T13:13:56.720Z"
   },
   {
    "duration": 29,
    "start_time": "2024-01-09T13:13:56.741Z"
   },
   {
    "duration": 24,
    "start_time": "2024-01-09T13:13:56.772Z"
   },
   {
    "duration": 30,
    "start_time": "2024-01-09T13:13:56.798Z"
   },
   {
    "duration": 10,
    "start_time": "2024-01-09T13:13:56.829Z"
   },
   {
    "duration": 27,
    "start_time": "2024-01-09T13:13:56.841Z"
   },
   {
    "duration": 36,
    "start_time": "2024-01-09T13:13:56.869Z"
   },
   {
    "duration": 27,
    "start_time": "2024-01-09T13:13:56.906Z"
   },
   {
    "duration": 25,
    "start_time": "2024-01-09T13:13:56.935Z"
   },
   {
    "duration": 32,
    "start_time": "2024-01-09T13:13:56.962Z"
   },
   {
    "duration": 20,
    "start_time": "2024-01-09T13:13:56.996Z"
   },
   {
    "duration": 21,
    "start_time": "2024-01-09T13:13:57.018Z"
   },
   {
    "duration": 32,
    "start_time": "2024-01-09T13:13:57.041Z"
   },
   {
    "duration": 26,
    "start_time": "2024-01-09T13:13:57.074Z"
   },
   {
    "duration": 55,
    "start_time": "2024-01-09T13:13:57.102Z"
   },
   {
    "duration": 32,
    "start_time": "2024-01-09T13:13:57.160Z"
   },
   {
    "duration": 19,
    "start_time": "2024-01-09T13:13:57.193Z"
   },
   {
    "duration": 39,
    "start_time": "2024-01-09T13:13:57.214Z"
   },
   {
    "duration": 19,
    "start_time": "2024-01-09T13:13:57.255Z"
   },
   {
    "duration": 19,
    "start_time": "2024-01-09T13:13:57.275Z"
   },
   {
    "duration": 13,
    "start_time": "2024-01-09T13:13:57.295Z"
   },
   {
    "duration": 12,
    "start_time": "2024-01-09T13:13:57.309Z"
   },
   {
    "duration": 30,
    "start_time": "2024-01-09T13:13:57.322Z"
   },
   {
    "duration": 39,
    "start_time": "2024-01-09T13:13:57.355Z"
   },
   {
    "duration": 13,
    "start_time": "2024-01-09T13:13:57.395Z"
   },
   {
    "duration": 19,
    "start_time": "2024-01-09T13:13:57.409Z"
   },
   {
    "duration": 171,
    "start_time": "2024-01-09T13:13:57.430Z"
   },
   {
    "duration": 1815,
    "start_time": "2024-01-09T13:13:57.603Z"
   },
   {
    "duration": 4,
    "start_time": "2024-01-09T13:13:59.420Z"
   },
   {
    "duration": 40,
    "start_time": "2024-01-09T13:13:59.426Z"
   },
   {
    "duration": 8,
    "start_time": "2024-01-09T13:13:59.472Z"
   },
   {
    "duration": 12,
    "start_time": "2024-01-09T13:13:59.482Z"
   },
   {
    "duration": 14,
    "start_time": "2024-01-09T13:13:59.495Z"
   },
   {
    "duration": 52,
    "start_time": "2024-01-09T13:13:59.510Z"
   },
   {
    "duration": 5,
    "start_time": "2024-01-09T13:13:59.564Z"
   },
   {
    "duration": 14,
    "start_time": "2024-01-09T13:13:59.570Z"
   },
   {
    "duration": 24,
    "start_time": "2024-01-09T13:13:59.586Z"
   },
   {
    "duration": 14,
    "start_time": "2024-01-09T13:13:59.612Z"
   },
   {
    "duration": 123,
    "start_time": "2024-01-09T13:13:59.628Z"
   },
   {
    "duration": 7,
    "start_time": "2024-01-09T13:13:59.753Z"
   },
   {
    "duration": 25021,
    "start_time": "2024-01-09T13:13:59.762Z"
   },
   {
    "duration": 3,
    "start_time": "2024-01-09T13:14:24.785Z"
   },
   {
    "duration": 6,
    "start_time": "2024-01-09T13:14:24.790Z"
   },
   {
    "duration": 1357,
    "start_time": "2024-01-09T13:14:59.627Z"
   },
   {
    "duration": 49,
    "start_time": "2024-01-09T13:15:00.986Z"
   },
   {
    "duration": 99,
    "start_time": "2024-01-09T13:15:01.037Z"
   },
   {
    "duration": 190,
    "start_time": "2024-01-09T13:15:01.139Z"
   },
   {
    "duration": 45,
    "start_time": "2024-01-09T13:15:01.331Z"
   },
   {
    "duration": 81,
    "start_time": "2024-01-09T13:15:01.378Z"
   },
   {
    "duration": 128,
    "start_time": "2024-01-09T13:15:01.461Z"
   },
   {
    "duration": 64,
    "start_time": "2024-01-09T13:15:01.590Z"
   },
   {
    "duration": 99,
    "start_time": "2024-01-09T13:15:01.656Z"
   },
   {
    "duration": 30,
    "start_time": "2024-01-09T13:15:01.757Z"
   },
   {
    "duration": 40,
    "start_time": "2024-01-09T13:15:01.789Z"
   },
   {
    "duration": 30,
    "start_time": "2024-01-09T13:15:01.831Z"
   },
   {
    "duration": 223,
    "start_time": "2024-01-09T13:15:01.864Z"
   },
   {
    "duration": 27,
    "start_time": "2024-01-09T13:15:02.088Z"
   },
   {
    "duration": 227,
    "start_time": "2024-01-09T13:15:02.116Z"
   },
   {
    "duration": 216,
    "start_time": "2024-01-09T13:15:02.345Z"
   },
   {
    "duration": 76,
    "start_time": "2024-01-09T13:15:02.562Z"
   },
   {
    "duration": 40,
    "start_time": "2024-01-09T13:15:02.640Z"
   },
   {
    "duration": 12,
    "start_time": "2024-01-09T13:15:02.682Z"
   },
   {
    "duration": 31,
    "start_time": "2024-01-09T13:15:02.695Z"
   },
   {
    "duration": 8,
    "start_time": "2024-01-09T13:15:02.728Z"
   },
   {
    "duration": 17,
    "start_time": "2024-01-09T13:15:02.738Z"
   },
   {
    "duration": 23,
    "start_time": "2024-01-09T13:15:02.756Z"
   },
   {
    "duration": 40,
    "start_time": "2024-01-09T13:15:02.781Z"
   },
   {
    "duration": 44,
    "start_time": "2024-01-09T13:15:02.823Z"
   },
   {
    "duration": 25,
    "start_time": "2024-01-09T13:15:02.870Z"
   },
   {
    "duration": 21,
    "start_time": "2024-01-09T13:15:02.897Z"
   },
   {
    "duration": 22,
    "start_time": "2024-01-09T13:15:02.922Z"
   },
   {
    "duration": 75,
    "start_time": "2024-01-09T13:15:02.945Z"
   },
   {
    "duration": 22,
    "start_time": "2024-01-09T13:15:03.022Z"
   },
   {
    "duration": 50,
    "start_time": "2024-01-09T13:15:03.046Z"
   },
   {
    "duration": 47,
    "start_time": "2024-01-09T13:15:03.098Z"
   },
   {
    "duration": 36,
    "start_time": "2024-01-09T13:15:03.147Z"
   },
   {
    "duration": 30,
    "start_time": "2024-01-09T13:15:03.185Z"
   },
   {
    "duration": 14,
    "start_time": "2024-01-09T13:15:03.216Z"
   },
   {
    "duration": 29,
    "start_time": "2024-01-09T13:15:03.231Z"
   },
   {
    "duration": 19,
    "start_time": "2024-01-09T13:15:03.261Z"
   },
   {
    "duration": 31,
    "start_time": "2024-01-09T13:15:03.282Z"
   },
   {
    "duration": 18,
    "start_time": "2024-01-09T13:15:03.314Z"
   },
   {
    "duration": 24,
    "start_time": "2024-01-09T13:15:03.333Z"
   },
   {
    "duration": 12,
    "start_time": "2024-01-09T13:15:03.358Z"
   },
   {
    "duration": 16,
    "start_time": "2024-01-09T13:15:03.372Z"
   },
   {
    "duration": 29,
    "start_time": "2024-01-09T13:15:03.390Z"
   },
   {
    "duration": 22,
    "start_time": "2024-01-09T13:15:03.421Z"
   },
   {
    "duration": 20,
    "start_time": "2024-01-09T13:15:03.445Z"
   },
   {
    "duration": 37,
    "start_time": "2024-01-09T13:15:03.467Z"
   },
   {
    "duration": 42,
    "start_time": "2024-01-09T13:15:03.505Z"
   },
   {
    "duration": 63,
    "start_time": "2024-01-09T13:15:03.548Z"
   },
   {
    "duration": 12,
    "start_time": "2024-01-09T13:15:03.613Z"
   },
   {
    "duration": 21,
    "start_time": "2024-01-09T13:15:03.626Z"
   },
   {
    "duration": 21,
    "start_time": "2024-01-09T13:15:03.649Z"
   },
   {
    "duration": 14,
    "start_time": "2024-01-09T13:15:03.672Z"
   },
   {
    "duration": 15,
    "start_time": "2024-01-09T13:15:03.687Z"
   },
   {
    "duration": 16,
    "start_time": "2024-01-09T13:15:03.703Z"
   },
   {
    "duration": 30,
    "start_time": "2024-01-09T13:15:03.720Z"
   },
   {
    "duration": 24,
    "start_time": "2024-01-09T13:15:03.752Z"
   },
   {
    "duration": 16,
    "start_time": "2024-01-09T13:15:03.778Z"
   },
   {
    "duration": 16,
    "start_time": "2024-01-09T13:15:03.795Z"
   },
   {
    "duration": 23,
    "start_time": "2024-01-09T13:15:03.813Z"
   },
   {
    "duration": 52,
    "start_time": "2024-01-09T13:15:03.838Z"
   },
   {
    "duration": 18,
    "start_time": "2024-01-09T13:15:03.892Z"
   },
   {
    "duration": 48,
    "start_time": "2024-01-09T13:15:03.911Z"
   },
   {
    "duration": 16,
    "start_time": "2024-01-09T13:15:03.961Z"
   },
   {
    "duration": 45,
    "start_time": "2024-01-09T13:15:03.979Z"
   },
   {
    "duration": 225,
    "start_time": "2024-01-09T13:15:04.026Z"
   },
   {
    "duration": 25,
    "start_time": "2024-01-09T13:15:04.253Z"
   },
   {
    "duration": 6,
    "start_time": "2024-01-09T13:15:04.280Z"
   },
   {
    "duration": 16,
    "start_time": "2024-01-09T13:15:04.288Z"
   },
   {
    "duration": 23,
    "start_time": "2024-01-09T13:15:04.306Z"
   },
   {
    "duration": 14,
    "start_time": "2024-01-09T13:15:04.330Z"
   },
   {
    "duration": 6,
    "start_time": "2024-01-09T13:15:04.345Z"
   },
   {
    "duration": 12,
    "start_time": "2024-01-09T13:15:04.353Z"
   },
   {
    "duration": 5,
    "start_time": "2024-01-09T13:15:04.367Z"
   },
   {
    "duration": 5,
    "start_time": "2024-01-09T13:15:04.374Z"
   },
   {
    "duration": 28,
    "start_time": "2024-01-09T13:15:04.381Z"
   },
   {
    "duration": 34,
    "start_time": "2024-01-09T13:15:04.410Z"
   },
   {
    "duration": 23,
    "start_time": "2024-01-09T13:15:04.446Z"
   },
   {
    "duration": 185,
    "start_time": "2024-01-09T13:15:04.471Z"
   },
   {
    "duration": 1745,
    "start_time": "2024-01-09T13:15:04.658Z"
   },
   {
    "duration": 3,
    "start_time": "2024-01-09T13:15:06.405Z"
   },
   {
    "duration": 14,
    "start_time": "2024-01-09T13:15:06.410Z"
   },
   {
    "duration": 7,
    "start_time": "2024-01-09T13:15:06.431Z"
   },
   {
    "duration": 4,
    "start_time": "2024-01-09T13:15:06.439Z"
   },
   {
    "duration": 6,
    "start_time": "2024-01-09T13:15:06.444Z"
   },
   {
    "duration": 6,
    "start_time": "2024-01-09T13:15:06.451Z"
   },
   {
    "duration": 7,
    "start_time": "2024-01-09T13:15:06.458Z"
   },
   {
    "duration": 5,
    "start_time": "2024-01-09T13:15:06.466Z"
   },
   {
    "duration": 5,
    "start_time": "2024-01-09T13:15:06.472Z"
   },
   {
    "duration": 9,
    "start_time": "2024-01-09T13:15:06.478Z"
   },
   {
    "duration": 159,
    "start_time": "2024-01-09T13:15:06.489Z"
   },
   {
    "duration": 5,
    "start_time": "2024-01-09T13:15:06.649Z"
   },
   {
    "duration": 66547,
    "start_time": "2024-01-09T13:15:06.657Z"
   },
   {
    "duration": 4,
    "start_time": "2024-01-09T13:16:13.205Z"
   },
   {
    "duration": 29,
    "start_time": "2024-01-09T13:16:13.211Z"
   },
   {
    "duration": 1356,
    "start_time": "2024-01-09T13:16:25.117Z"
   },
   {
    "duration": 50,
    "start_time": "2024-01-09T13:16:26.475Z"
   },
   {
    "duration": 16,
    "start_time": "2024-01-09T13:16:26.527Z"
   },
   {
    "duration": 12,
    "start_time": "2024-01-09T13:16:26.545Z"
   },
   {
    "duration": 19,
    "start_time": "2024-01-09T13:16:26.558Z"
   },
   {
    "duration": 19,
    "start_time": "2024-01-09T13:16:26.578Z"
   },
   {
    "duration": 16,
    "start_time": "2024-01-09T13:16:26.599Z"
   },
   {
    "duration": 34,
    "start_time": "2024-01-09T13:16:26.617Z"
   },
   {
    "duration": 52,
    "start_time": "2024-01-09T13:16:26.653Z"
   },
   {
    "duration": 26,
    "start_time": "2024-01-09T13:16:26.708Z"
   },
   {
    "duration": 18,
    "start_time": "2024-01-09T13:16:26.736Z"
   },
   {
    "duration": 12,
    "start_time": "2024-01-09T13:16:26.756Z"
   },
   {
    "duration": 45,
    "start_time": "2024-01-09T13:16:26.769Z"
   },
   {
    "duration": 8,
    "start_time": "2024-01-09T13:16:26.816Z"
   },
   {
    "duration": 16,
    "start_time": "2024-01-09T13:16:26.825Z"
   },
   {
    "duration": 3,
    "start_time": "2024-01-09T13:16:26.842Z"
   },
   {
    "duration": 9,
    "start_time": "2024-01-09T13:16:26.847Z"
   },
   {
    "duration": 30,
    "start_time": "2024-01-09T13:16:26.858Z"
   },
   {
    "duration": 8,
    "start_time": "2024-01-09T13:16:26.889Z"
   },
   {
    "duration": 13,
    "start_time": "2024-01-09T13:16:26.899Z"
   },
   {
    "duration": 8,
    "start_time": "2024-01-09T13:16:26.914Z"
   },
   {
    "duration": 17,
    "start_time": "2024-01-09T13:16:26.943Z"
   },
   {
    "duration": 13,
    "start_time": "2024-01-09T13:16:26.962Z"
   },
   {
    "duration": 13,
    "start_time": "2024-01-09T13:16:26.976Z"
   },
   {
    "duration": 35,
    "start_time": "2024-01-09T13:16:26.991Z"
   },
   {
    "duration": 22,
    "start_time": "2024-01-09T13:16:27.042Z"
   },
   {
    "duration": 11,
    "start_time": "2024-01-09T13:16:27.065Z"
   },
   {
    "duration": 12,
    "start_time": "2024-01-09T13:16:27.082Z"
   },
   {
    "duration": 3,
    "start_time": "2024-01-09T13:16:27.096Z"
   },
   {
    "duration": 11,
    "start_time": "2024-01-09T13:16:27.101Z"
   },
   {
    "duration": 32,
    "start_time": "2024-01-09T13:16:27.114Z"
   },
   {
    "duration": 11,
    "start_time": "2024-01-09T13:16:27.148Z"
   },
   {
    "duration": 10,
    "start_time": "2024-01-09T13:16:27.161Z"
   },
   {
    "duration": 9,
    "start_time": "2024-01-09T13:16:27.173Z"
   },
   {
    "duration": 17,
    "start_time": "2024-01-09T13:16:27.184Z"
   },
   {
    "duration": 41,
    "start_time": "2024-01-09T13:16:27.202Z"
   },
   {
    "duration": 4,
    "start_time": "2024-01-09T13:16:27.245Z"
   },
   {
    "duration": 11,
    "start_time": "2024-01-09T13:16:27.250Z"
   },
   {
    "duration": 14,
    "start_time": "2024-01-09T13:16:27.262Z"
   },
   {
    "duration": 10,
    "start_time": "2024-01-09T13:16:27.277Z"
   },
   {
    "duration": 18,
    "start_time": "2024-01-09T13:16:27.289Z"
   },
   {
    "duration": 9,
    "start_time": "2024-01-09T13:16:27.309Z"
   },
   {
    "duration": 22,
    "start_time": "2024-01-09T13:16:27.320Z"
   },
   {
    "duration": 12,
    "start_time": "2024-01-09T13:16:27.344Z"
   },
   {
    "duration": 6,
    "start_time": "2024-01-09T13:16:27.358Z"
   },
   {
    "duration": 9,
    "start_time": "2024-01-09T13:16:27.365Z"
   },
   {
    "duration": 18,
    "start_time": "2024-01-09T13:16:27.376Z"
   },
   {
    "duration": 15,
    "start_time": "2024-01-09T13:16:27.395Z"
   },
   {
    "duration": 12,
    "start_time": "2024-01-09T13:16:27.412Z"
   },
   {
    "duration": 14,
    "start_time": "2024-01-09T13:16:27.444Z"
   },
   {
    "duration": 12,
    "start_time": "2024-01-09T13:16:27.460Z"
   },
   {
    "duration": 5,
    "start_time": "2024-01-09T13:16:27.474Z"
   },
   {
    "duration": 3,
    "start_time": "2024-01-09T13:16:27.480Z"
   },
   {
    "duration": 7,
    "start_time": "2024-01-09T13:16:27.485Z"
   },
   {
    "duration": 5,
    "start_time": "2024-01-09T13:16:27.493Z"
   },
   {
    "duration": 4,
    "start_time": "2024-01-09T13:16:27.499Z"
   },
   {
    "duration": 39,
    "start_time": "2024-01-09T13:16:27.504Z"
   },
   {
    "duration": 5,
    "start_time": "2024-01-09T13:16:27.545Z"
   },
   {
    "duration": 10,
    "start_time": "2024-01-09T13:16:27.551Z"
   },
   {
    "duration": 10,
    "start_time": "2024-01-09T13:16:27.562Z"
   },
   {
    "duration": 7,
    "start_time": "2024-01-09T13:16:27.573Z"
   },
   {
    "duration": 11,
    "start_time": "2024-01-09T13:16:27.581Z"
   },
   {
    "duration": 17,
    "start_time": "2024-01-09T13:16:27.593Z"
   },
   {
    "duration": 30,
    "start_time": "2024-01-09T13:16:27.612Z"
   },
   {
    "duration": 7,
    "start_time": "2024-01-09T13:16:27.644Z"
   },
   {
    "duration": 10,
    "start_time": "2024-01-09T13:16:27.652Z"
   },
   {
    "duration": 4,
    "start_time": "2024-01-09T13:16:27.663Z"
   },
   {
    "duration": 13,
    "start_time": "2024-01-09T13:16:27.668Z"
   },
   {
    "duration": 23,
    "start_time": "2024-01-09T13:16:27.682Z"
   },
   {
    "duration": 5,
    "start_time": "2024-01-09T13:16:27.707Z"
   },
   {
    "duration": 31,
    "start_time": "2024-01-09T13:16:27.713Z"
   },
   {
    "duration": 11,
    "start_time": "2024-01-09T13:16:27.746Z"
   },
   {
    "duration": 5,
    "start_time": "2024-01-09T13:16:27.758Z"
   },
   {
    "duration": 4,
    "start_time": "2024-01-09T13:16:27.765Z"
   },
   {
    "duration": 20,
    "start_time": "2024-01-09T13:16:27.770Z"
   },
   {
    "duration": 11,
    "start_time": "2024-01-09T13:16:27.792Z"
   },
   {
    "duration": 58,
    "start_time": "2024-01-09T13:16:27.805Z"
   },
   {
    "duration": 158,
    "start_time": "2024-01-09T13:16:27.864Z"
   },
   {
    "duration": 1686,
    "start_time": "2024-01-09T13:16:28.024Z"
   },
   {
    "duration": 4,
    "start_time": "2024-01-09T13:16:29.712Z"
   },
   {
    "duration": 48,
    "start_time": "2024-01-09T13:16:29.718Z"
   },
   {
    "duration": 8,
    "start_time": "2024-01-09T13:16:29.774Z"
   },
   {
    "duration": 4,
    "start_time": "2024-01-09T13:16:29.784Z"
   },
   {
    "duration": 8,
    "start_time": "2024-01-09T13:16:29.790Z"
   },
   {
    "duration": 10,
    "start_time": "2024-01-09T13:16:29.799Z"
   },
   {
    "duration": 6,
    "start_time": "2024-01-09T13:16:29.811Z"
   },
   {
    "duration": 26,
    "start_time": "2024-01-09T13:16:29.819Z"
   },
   {
    "duration": 8,
    "start_time": "2024-01-09T13:16:29.847Z"
   },
   {
    "duration": 19,
    "start_time": "2024-01-09T13:16:29.857Z"
   },
   {
    "duration": 79,
    "start_time": "2024-01-09T13:16:29.877Z"
   },
   {
    "duration": 4,
    "start_time": "2024-01-09T13:16:29.958Z"
   },
   {
    "duration": 48637,
    "start_time": "2024-01-09T13:16:29.964Z"
   },
   {
    "duration": 4,
    "start_time": "2024-01-09T13:17:18.603Z"
   },
   {
    "duration": 44,
    "start_time": "2024-01-09T13:17:18.608Z"
   },
   {
    "duration": 155540,
    "start_time": "2024-01-09T13:17:18.653Z"
   },
   {
    "duration": 4,
    "start_time": "2024-01-09T13:19:54.195Z"
   },
   {
    "duration": 5,
    "start_time": "2024-01-09T13:19:54.200Z"
   },
   {
    "duration": 110643,
    "start_time": "2024-01-09T13:19:54.206Z"
   },
   {
    "duration": 4,
    "start_time": "2024-01-09T13:21:44.851Z"
   },
   {
    "duration": 90,
    "start_time": "2024-01-09T13:21:44.856Z"
   },
   {
    "duration": 44629,
    "start_time": "2024-01-09T13:21:44.948Z"
   },
   {
    "duration": 0,
    "start_time": "2024-01-09T13:22:29.579Z"
   },
   {
    "duration": 0,
    "start_time": "2024-01-09T13:22:47.955Z"
   },
   {
    "duration": 4588,
    "start_time": "2024-01-09T13:23:03.240Z"
   },
   {
    "duration": 1361,
    "start_time": "2024-01-09T13:23:10.373Z"
   },
   {
    "duration": 51,
    "start_time": "2024-01-09T13:23:11.736Z"
   },
   {
    "duration": 17,
    "start_time": "2024-01-09T13:23:11.789Z"
   },
   {
    "duration": 31,
    "start_time": "2024-01-09T13:23:11.808Z"
   },
   {
    "duration": 26,
    "start_time": "2024-01-09T13:23:11.841Z"
   },
   {
    "duration": 20,
    "start_time": "2024-01-09T13:23:11.869Z"
   },
   {
    "duration": 15,
    "start_time": "2024-01-09T13:23:11.891Z"
   },
   {
    "duration": 41,
    "start_time": "2024-01-09T13:23:11.907Z"
   },
   {
    "duration": 57,
    "start_time": "2024-01-09T13:23:11.950Z"
   },
   {
    "duration": 25,
    "start_time": "2024-01-09T13:23:12.010Z"
   },
   {
    "duration": 16,
    "start_time": "2024-01-09T13:23:12.037Z"
   },
   {
    "duration": 19,
    "start_time": "2024-01-09T13:23:12.054Z"
   },
   {
    "duration": 40,
    "start_time": "2024-01-09T13:23:12.075Z"
   },
   {
    "duration": 6,
    "start_time": "2024-01-09T13:23:12.117Z"
   },
   {
    "duration": 15,
    "start_time": "2024-01-09T13:23:12.125Z"
   },
   {
    "duration": 3,
    "start_time": "2024-01-09T13:23:12.141Z"
   },
   {
    "duration": 23,
    "start_time": "2024-01-09T13:23:12.145Z"
   },
   {
    "duration": 30,
    "start_time": "2024-01-09T13:23:12.170Z"
   },
   {
    "duration": 8,
    "start_time": "2024-01-09T13:23:12.201Z"
   },
   {
    "duration": 12,
    "start_time": "2024-01-09T13:23:12.210Z"
   },
   {
    "duration": 37,
    "start_time": "2024-01-09T13:23:12.223Z"
   },
   {
    "duration": 21,
    "start_time": "2024-01-09T13:23:12.261Z"
   },
   {
    "duration": 11,
    "start_time": "2024-01-09T13:23:12.284Z"
   },
   {
    "duration": 18,
    "start_time": "2024-01-09T13:23:12.296Z"
   },
   {
    "duration": 51,
    "start_time": "2024-01-09T13:23:12.315Z"
   },
   {
    "duration": 22,
    "start_time": "2024-01-09T13:23:12.368Z"
   },
   {
    "duration": 11,
    "start_time": "2024-01-09T13:23:12.391Z"
   },
   {
    "duration": 16,
    "start_time": "2024-01-09T13:23:12.406Z"
   },
   {
    "duration": 16,
    "start_time": "2024-01-09T13:23:12.424Z"
   },
   {
    "duration": 24,
    "start_time": "2024-01-09T13:23:12.441Z"
   },
   {
    "duration": 8,
    "start_time": "2024-01-09T13:23:12.467Z"
   },
   {
    "duration": 11,
    "start_time": "2024-01-09T13:23:12.476Z"
   },
   {
    "duration": 22,
    "start_time": "2024-01-09T13:23:12.488Z"
   },
   {
    "duration": 9,
    "start_time": "2024-01-09T13:23:12.512Z"
   },
   {
    "duration": 24,
    "start_time": "2024-01-09T13:23:12.523Z"
   },
   {
    "duration": 23,
    "start_time": "2024-01-09T13:23:12.549Z"
   },
   {
    "duration": 19,
    "start_time": "2024-01-09T13:23:12.573Z"
   },
   {
    "duration": 14,
    "start_time": "2024-01-09T13:23:12.594Z"
   },
   {
    "duration": 22,
    "start_time": "2024-01-09T13:23:12.610Z"
   },
   {
    "duration": 27,
    "start_time": "2024-01-09T13:23:12.633Z"
   },
   {
    "duration": 3,
    "start_time": "2024-01-09T13:23:12.661Z"
   },
   {
    "duration": 20,
    "start_time": "2024-01-09T13:23:12.666Z"
   },
   {
    "duration": 30,
    "start_time": "2024-01-09T13:23:12.687Z"
   },
   {
    "duration": 13,
    "start_time": "2024-01-09T13:23:12.719Z"
   },
   {
    "duration": 22,
    "start_time": "2024-01-09T13:23:12.733Z"
   },
   {
    "duration": 7,
    "start_time": "2024-01-09T13:23:12.757Z"
   },
   {
    "duration": 9,
    "start_time": "2024-01-09T13:23:12.765Z"
   },
   {
    "duration": 16,
    "start_time": "2024-01-09T13:23:12.776Z"
   },
   {
    "duration": 12,
    "start_time": "2024-01-09T13:23:12.793Z"
   },
   {
    "duration": 18,
    "start_time": "2024-01-09T13:23:12.806Z"
   },
   {
    "duration": 25,
    "start_time": "2024-01-09T13:23:12.826Z"
   },
   {
    "duration": 12,
    "start_time": "2024-01-09T13:23:12.852Z"
   },
   {
    "duration": 8,
    "start_time": "2024-01-09T13:23:12.865Z"
   },
   {
    "duration": 17,
    "start_time": "2024-01-09T13:23:12.875Z"
   },
   {
    "duration": 7,
    "start_time": "2024-01-09T13:23:12.894Z"
   },
   {
    "duration": 7,
    "start_time": "2024-01-09T13:23:12.903Z"
   },
   {
    "duration": 9,
    "start_time": "2024-01-09T13:23:12.912Z"
   },
   {
    "duration": 9,
    "start_time": "2024-01-09T13:23:12.923Z"
   },
   {
    "duration": 13,
    "start_time": "2024-01-09T13:23:12.933Z"
   },
   {
    "duration": 19,
    "start_time": "2024-01-09T13:23:12.948Z"
   },
   {
    "duration": 9,
    "start_time": "2024-01-09T13:23:12.969Z"
   },
   {
    "duration": 16,
    "start_time": "2024-01-09T13:23:12.979Z"
   },
   {
    "duration": 9,
    "start_time": "2024-01-09T13:23:12.996Z"
   },
   {
    "duration": 12,
    "start_time": "2024-01-09T13:23:13.006Z"
   },
   {
    "duration": 7,
    "start_time": "2024-01-09T13:23:13.019Z"
   },
   {
    "duration": 22,
    "start_time": "2024-01-09T13:23:13.027Z"
   },
   {
    "duration": 6,
    "start_time": "2024-01-09T13:23:13.051Z"
   },
   {
    "duration": 14,
    "start_time": "2024-01-09T13:23:13.059Z"
   },
   {
    "duration": 29,
    "start_time": "2024-01-09T13:23:13.075Z"
   },
   {
    "duration": 5,
    "start_time": "2024-01-09T13:23:13.106Z"
   },
   {
    "duration": 11,
    "start_time": "2024-01-09T13:23:13.112Z"
   },
   {
    "duration": 40,
    "start_time": "2024-01-09T13:23:13.125Z"
   },
   {
    "duration": 5,
    "start_time": "2024-01-09T13:23:13.167Z"
   },
   {
    "duration": 12,
    "start_time": "2024-01-09T13:23:13.174Z"
   },
   {
    "duration": 36,
    "start_time": "2024-01-09T13:23:13.188Z"
   },
   {
    "duration": 15,
    "start_time": "2024-01-09T13:23:13.226Z"
   },
   {
    "duration": 30,
    "start_time": "2024-01-09T13:23:13.243Z"
   },
   {
    "duration": 167,
    "start_time": "2024-01-09T13:23:13.275Z"
   },
   {
    "duration": 1706,
    "start_time": "2024-01-09T13:23:13.444Z"
   },
   {
    "duration": 4,
    "start_time": "2024-01-09T13:23:15.152Z"
   },
   {
    "duration": 39,
    "start_time": "2024-01-09T13:23:15.158Z"
   },
   {
    "duration": 30,
    "start_time": "2024-01-09T13:23:15.203Z"
   },
   {
    "duration": 20,
    "start_time": "2024-01-09T13:23:15.234Z"
   },
   {
    "duration": 53,
    "start_time": "2024-01-09T13:23:15.256Z"
   },
   {
    "duration": 26,
    "start_time": "2024-01-09T13:23:15.311Z"
   },
   {
    "duration": 19,
    "start_time": "2024-01-09T13:23:15.339Z"
   },
   {
    "duration": 68,
    "start_time": "2024-01-09T13:23:15.360Z"
   },
   {
    "duration": 23,
    "start_time": "2024-01-09T13:23:15.430Z"
   },
   {
    "duration": 24,
    "start_time": "2024-01-09T13:23:15.455Z"
   },
   {
    "duration": 72,
    "start_time": "2024-01-09T13:23:15.480Z"
   },
   {
    "duration": 4,
    "start_time": "2024-01-09T13:23:15.554Z"
   },
   {
    "duration": 47199,
    "start_time": "2024-01-09T13:23:15.560Z"
   },
   {
    "duration": 4,
    "start_time": "2024-01-09T13:24:02.761Z"
   },
   {
    "duration": 42,
    "start_time": "2024-01-09T13:24:02.766Z"
   },
   {
    "duration": 1354,
    "start_time": "2024-01-09T13:29:42.604Z"
   },
   {
    "duration": 49,
    "start_time": "2024-01-09T13:29:43.960Z"
   },
   {
    "duration": 15,
    "start_time": "2024-01-09T13:29:44.011Z"
   },
   {
    "duration": 14,
    "start_time": "2024-01-09T13:29:44.028Z"
   },
   {
    "duration": 24,
    "start_time": "2024-01-09T13:29:44.044Z"
   },
   {
    "duration": 20,
    "start_time": "2024-01-09T13:29:44.069Z"
   },
   {
    "duration": 23,
    "start_time": "2024-01-09T13:29:44.090Z"
   },
   {
    "duration": 12,
    "start_time": "2024-01-09T13:29:44.114Z"
   },
   {
    "duration": 62,
    "start_time": "2024-01-09T13:29:44.128Z"
   },
   {
    "duration": 26,
    "start_time": "2024-01-09T13:29:44.193Z"
   },
   {
    "duration": 26,
    "start_time": "2024-01-09T13:29:44.221Z"
   },
   {
    "duration": 14,
    "start_time": "2024-01-09T13:29:44.249Z"
   },
   {
    "duration": 38,
    "start_time": "2024-01-09T13:29:44.265Z"
   },
   {
    "duration": 8,
    "start_time": "2024-01-09T13:29:44.305Z"
   },
   {
    "duration": 15,
    "start_time": "2024-01-09T13:29:44.315Z"
   },
   {
    "duration": 8,
    "start_time": "2024-01-09T13:29:44.332Z"
   },
   {
    "duration": 9,
    "start_time": "2024-01-09T13:29:44.341Z"
   },
   {
    "duration": 31,
    "start_time": "2024-01-09T13:29:44.352Z"
   },
   {
    "duration": 8,
    "start_time": "2024-01-09T13:29:44.384Z"
   },
   {
    "duration": 14,
    "start_time": "2024-01-09T13:29:44.394Z"
   },
   {
    "duration": 16,
    "start_time": "2024-01-09T13:29:44.410Z"
   },
   {
    "duration": 19,
    "start_time": "2024-01-09T13:29:44.428Z"
   },
   {
    "duration": 12,
    "start_time": "2024-01-09T13:29:44.449Z"
   },
   {
    "duration": 13,
    "start_time": "2024-01-09T13:29:44.462Z"
   },
   {
    "duration": 35,
    "start_time": "2024-01-09T13:29:44.477Z"
   },
   {
    "duration": 37,
    "start_time": "2024-01-09T13:29:44.514Z"
   },
   {
    "duration": 10,
    "start_time": "2024-01-09T13:29:44.552Z"
   },
   {
    "duration": 11,
    "start_time": "2024-01-09T13:29:44.566Z"
   },
   {
    "duration": 4,
    "start_time": "2024-01-09T13:29:44.579Z"
   },
   {
    "duration": 11,
    "start_time": "2024-01-09T13:29:44.584Z"
   },
   {
    "duration": 6,
    "start_time": "2024-01-09T13:29:44.596Z"
   },
   {
    "duration": 44,
    "start_time": "2024-01-09T13:29:44.604Z"
   },
   {
    "duration": 10,
    "start_time": "2024-01-09T13:29:44.650Z"
   },
   {
    "duration": 13,
    "start_time": "2024-01-09T13:29:44.661Z"
   },
   {
    "duration": 17,
    "start_time": "2024-01-09T13:29:44.676Z"
   },
   {
    "duration": 13,
    "start_time": "2024-01-09T13:29:44.694Z"
   },
   {
    "duration": 10,
    "start_time": "2024-01-09T13:29:44.708Z"
   },
   {
    "duration": 27,
    "start_time": "2024-01-09T13:29:44.720Z"
   },
   {
    "duration": 14,
    "start_time": "2024-01-09T13:29:44.749Z"
   },
   {
    "duration": 14,
    "start_time": "2024-01-09T13:29:44.764Z"
   },
   {
    "duration": 12,
    "start_time": "2024-01-09T13:29:44.780Z"
   },
   {
    "duration": 11,
    "start_time": "2024-01-09T13:29:44.795Z"
   },
   {
    "duration": 15,
    "start_time": "2024-01-09T13:29:44.808Z"
   },
   {
    "duration": 21,
    "start_time": "2024-01-09T13:29:44.842Z"
   },
   {
    "duration": 10,
    "start_time": "2024-01-09T13:29:44.866Z"
   },
   {
    "duration": 5,
    "start_time": "2024-01-09T13:29:44.879Z"
   },
   {
    "duration": 14,
    "start_time": "2024-01-09T13:29:44.886Z"
   },
   {
    "duration": 40,
    "start_time": "2024-01-09T13:29:44.902Z"
   },
   {
    "duration": 12,
    "start_time": "2024-01-09T13:29:44.944Z"
   },
   {
    "duration": 17,
    "start_time": "2024-01-09T13:29:44.957Z"
   },
   {
    "duration": 11,
    "start_time": "2024-01-09T13:29:44.976Z"
   },
   {
    "duration": 7,
    "start_time": "2024-01-09T13:29:44.988Z"
   },
   {
    "duration": 16,
    "start_time": "2024-01-09T13:29:44.997Z"
   },
   {
    "duration": 44,
    "start_time": "2024-01-09T13:29:45.015Z"
   },
   {
    "duration": 67,
    "start_time": "2024-01-09T13:29:45.060Z"
   },
   {
    "duration": 31,
    "start_time": "2024-01-09T13:29:45.129Z"
   },
   {
    "duration": 38,
    "start_time": "2024-01-09T13:29:45.162Z"
   },
   {
    "duration": 24,
    "start_time": "2024-01-09T13:29:45.202Z"
   },
   {
    "duration": 11,
    "start_time": "2024-01-09T13:29:45.227Z"
   },
   {
    "duration": 15,
    "start_time": "2024-01-09T13:29:45.240Z"
   },
   {
    "duration": 16,
    "start_time": "2024-01-09T13:29:45.256Z"
   },
   {
    "duration": 33,
    "start_time": "2024-01-09T13:29:45.274Z"
   },
   {
    "duration": 11,
    "start_time": "2024-01-09T13:29:45.308Z"
   },
   {
    "duration": 9,
    "start_time": "2024-01-09T13:29:45.321Z"
   },
   {
    "duration": 24,
    "start_time": "2024-01-09T13:29:45.332Z"
   },
   {
    "duration": 13,
    "start_time": "2024-01-09T13:29:45.357Z"
   },
   {
    "duration": 12,
    "start_time": "2024-01-09T13:29:45.372Z"
   },
   {
    "duration": 16,
    "start_time": "2024-01-09T13:29:45.386Z"
   },
   {
    "duration": 24,
    "start_time": "2024-01-09T13:29:45.404Z"
   },
   {
    "duration": 5,
    "start_time": "2024-01-09T13:29:45.429Z"
   },
   {
    "duration": 12,
    "start_time": "2024-01-09T13:29:45.435Z"
   },
   {
    "duration": 21,
    "start_time": "2024-01-09T13:29:45.449Z"
   },
   {
    "duration": 6,
    "start_time": "2024-01-09T13:29:45.471Z"
   },
   {
    "duration": 9,
    "start_time": "2024-01-09T13:29:45.478Z"
   },
   {
    "duration": 21,
    "start_time": "2024-01-09T13:29:45.488Z"
   },
   {
    "duration": 12,
    "start_time": "2024-01-09T13:29:45.510Z"
   },
   {
    "duration": 36,
    "start_time": "2024-01-09T13:29:45.524Z"
   },
   {
    "duration": 178,
    "start_time": "2024-01-09T13:29:45.562Z"
   },
   {
    "duration": 1657,
    "start_time": "2024-01-09T13:29:45.742Z"
   },
   {
    "duration": 5,
    "start_time": "2024-01-09T13:29:47.401Z"
   },
   {
    "duration": 13,
    "start_time": "2024-01-09T13:29:47.407Z"
   },
   {
    "duration": 6,
    "start_time": "2024-01-09T13:29:47.427Z"
   },
   {
    "duration": 3,
    "start_time": "2024-01-09T13:29:47.435Z"
   },
   {
    "duration": 6,
    "start_time": "2024-01-09T13:29:47.442Z"
   },
   {
    "duration": 3,
    "start_time": "2024-01-09T13:29:47.450Z"
   },
   {
    "duration": 6,
    "start_time": "2024-01-09T13:29:47.455Z"
   },
   {
    "duration": 16,
    "start_time": "2024-01-09T13:29:47.462Z"
   },
   {
    "duration": 11,
    "start_time": "2024-01-09T13:29:47.480Z"
   },
   {
    "duration": 16,
    "start_time": "2024-01-09T13:29:47.493Z"
   },
   {
    "duration": 59,
    "start_time": "2024-01-09T13:29:47.510Z"
   },
   {
    "duration": 74,
    "start_time": "2024-01-09T13:29:47.571Z"
   },
   {
    "duration": 47623,
    "start_time": "2024-01-09T13:29:47.647Z"
   },
   {
    "duration": 4,
    "start_time": "2024-01-09T13:30:35.272Z"
   },
   {
    "duration": 11,
    "start_time": "2024-01-09T13:30:35.277Z"
   },
   {
    "duration": 177668,
    "start_time": "2024-01-09T13:30:35.289Z"
   },
   {
    "duration": 5,
    "start_time": "2024-01-09T13:33:32.958Z"
   },
   {
    "duration": 17,
    "start_time": "2024-01-09T13:33:32.965Z"
   },
   {
    "duration": 203817,
    "start_time": "2024-01-09T13:33:32.984Z"
   },
   {
    "duration": 0,
    "start_time": "2024-01-09T13:36:56.803Z"
   },
   {
    "duration": 0,
    "start_time": "2024-01-09T13:36:56.805Z"
   },
   {
    "duration": 1415,
    "start_time": "2024-01-09T13:40:23.927Z"
   },
   {
    "duration": 51,
    "start_time": "2024-01-09T13:40:25.344Z"
   },
   {
    "duration": 17,
    "start_time": "2024-01-09T13:40:25.397Z"
   },
   {
    "duration": 20,
    "start_time": "2024-01-09T13:40:25.415Z"
   },
   {
    "duration": 29,
    "start_time": "2024-01-09T13:40:25.436Z"
   },
   {
    "duration": 46,
    "start_time": "2024-01-09T13:40:25.467Z"
   },
   {
    "duration": 16,
    "start_time": "2024-01-09T13:40:25.515Z"
   },
   {
    "duration": 40,
    "start_time": "2024-01-09T13:40:25.533Z"
   },
   {
    "duration": 72,
    "start_time": "2024-01-09T13:40:25.575Z"
   },
   {
    "duration": 27,
    "start_time": "2024-01-09T13:40:25.651Z"
   },
   {
    "duration": 13,
    "start_time": "2024-01-09T13:40:25.680Z"
   },
   {
    "duration": 45,
    "start_time": "2024-01-09T13:40:25.694Z"
   },
   {
    "duration": 50,
    "start_time": "2024-01-09T13:40:25.740Z"
   },
   {
    "duration": 8,
    "start_time": "2024-01-09T13:40:25.791Z"
   },
   {
    "duration": 23,
    "start_time": "2024-01-09T13:40:25.800Z"
   },
   {
    "duration": 9,
    "start_time": "2024-01-09T13:40:25.824Z"
   },
   {
    "duration": 10,
    "start_time": "2024-01-09T13:40:25.835Z"
   },
   {
    "duration": 41,
    "start_time": "2024-01-09T13:40:25.846Z"
   },
   {
    "duration": 8,
    "start_time": "2024-01-09T13:40:25.889Z"
   },
   {
    "duration": 19,
    "start_time": "2024-01-09T13:40:25.898Z"
   },
   {
    "duration": 8,
    "start_time": "2024-01-09T13:40:25.918Z"
   },
   {
    "duration": 17,
    "start_time": "2024-01-09T13:40:25.927Z"
   },
   {
    "duration": 12,
    "start_time": "2024-01-09T13:40:25.946Z"
   },
   {
    "duration": 31,
    "start_time": "2024-01-09T13:40:25.959Z"
   },
   {
    "duration": 35,
    "start_time": "2024-01-09T13:40:25.992Z"
   },
   {
    "duration": 21,
    "start_time": "2024-01-09T13:40:26.029Z"
   },
   {
    "duration": 9,
    "start_time": "2024-01-09T13:40:26.052Z"
   },
   {
    "duration": 17,
    "start_time": "2024-01-09T13:40:26.066Z"
   },
   {
    "duration": 4,
    "start_time": "2024-01-09T13:40:26.084Z"
   },
   {
    "duration": 12,
    "start_time": "2024-01-09T13:40:26.090Z"
   },
   {
    "duration": 6,
    "start_time": "2024-01-09T13:40:26.104Z"
   },
   {
    "duration": 43,
    "start_time": "2024-01-09T13:40:26.111Z"
   },
   {
    "duration": 19,
    "start_time": "2024-01-09T13:40:26.156Z"
   },
   {
    "duration": 13,
    "start_time": "2024-01-09T13:40:26.176Z"
   },
   {
    "duration": 9,
    "start_time": "2024-01-09T13:40:26.191Z"
   },
   {
    "duration": 14,
    "start_time": "2024-01-09T13:40:26.202Z"
   },
   {
    "duration": 27,
    "start_time": "2024-01-09T13:40:26.217Z"
   },
   {
    "duration": 10,
    "start_time": "2024-01-09T13:40:26.246Z"
   },
   {
    "duration": 14,
    "start_time": "2024-01-09T13:40:26.258Z"
   },
   {
    "duration": 15,
    "start_time": "2024-01-09T13:40:26.274Z"
   },
   {
    "duration": 7,
    "start_time": "2024-01-09T13:40:26.291Z"
   },
   {
    "duration": 12,
    "start_time": "2024-01-09T13:40:26.299Z"
   },
   {
    "duration": 33,
    "start_time": "2024-01-09T13:40:26.312Z"
   },
   {
    "duration": 13,
    "start_time": "2024-01-09T13:40:26.347Z"
   },
   {
    "duration": 8,
    "start_time": "2024-01-09T13:40:26.362Z"
   },
   {
    "duration": 5,
    "start_time": "2024-01-09T13:40:26.372Z"
   },
   {
    "duration": 8,
    "start_time": "2024-01-09T13:40:26.379Z"
   },
   {
    "duration": 15,
    "start_time": "2024-01-09T13:40:26.389Z"
   },
   {
    "duration": 45,
    "start_time": "2024-01-09T13:40:26.406Z"
   },
   {
    "duration": 15,
    "start_time": "2024-01-09T13:40:26.453Z"
   },
   {
    "duration": 10,
    "start_time": "2024-01-09T13:40:26.470Z"
   },
   {
    "duration": 5,
    "start_time": "2024-01-09T13:40:26.481Z"
   },
   {
    "duration": 3,
    "start_time": "2024-01-09T13:40:26.487Z"
   },
   {
    "duration": 7,
    "start_time": "2024-01-09T13:40:26.492Z"
   },
   {
    "duration": 9,
    "start_time": "2024-01-09T13:40:26.500Z"
   },
   {
    "duration": 32,
    "start_time": "2024-01-09T13:40:26.510Z"
   },
   {
    "duration": 2,
    "start_time": "2024-01-09T13:40:26.544Z"
   },
   {
    "duration": 6,
    "start_time": "2024-01-09T13:40:26.548Z"
   },
   {
    "duration": 11,
    "start_time": "2024-01-09T13:40:26.555Z"
   },
   {
    "duration": 21,
    "start_time": "2024-01-09T13:40:26.568Z"
   },
   {
    "duration": 10,
    "start_time": "2024-01-09T13:40:26.590Z"
   },
   {
    "duration": 12,
    "start_time": "2024-01-09T13:40:26.601Z"
   },
   {
    "duration": 3,
    "start_time": "2024-01-09T13:40:26.642Z"
   },
   {
    "duration": 10,
    "start_time": "2024-01-09T13:40:26.646Z"
   },
   {
    "duration": 6,
    "start_time": "2024-01-09T13:40:26.658Z"
   },
   {
    "duration": 11,
    "start_time": "2024-01-09T13:40:26.665Z"
   },
   {
    "duration": 5,
    "start_time": "2024-01-09T13:40:26.677Z"
   },
   {
    "duration": 10,
    "start_time": "2024-01-09T13:40:26.684Z"
   },
   {
    "duration": 139,
    "start_time": "2024-01-09T13:40:26.696Z"
   },
   {
    "duration": 0,
    "start_time": "2024-01-09T13:40:26.843Z"
   },
   {
    "duration": 0,
    "start_time": "2024-01-09T13:40:26.845Z"
   },
   {
    "duration": 0,
    "start_time": "2024-01-09T13:40:26.846Z"
   },
   {
    "duration": 0,
    "start_time": "2024-01-09T13:40:26.848Z"
   },
   {
    "duration": 0,
    "start_time": "2024-01-09T13:40:26.849Z"
   },
   {
    "duration": 0,
    "start_time": "2024-01-09T13:40:26.851Z"
   },
   {
    "duration": 0,
    "start_time": "2024-01-09T13:40:26.853Z"
   },
   {
    "duration": 0,
    "start_time": "2024-01-09T13:40:26.855Z"
   },
   {
    "duration": 0,
    "start_time": "2024-01-09T13:40:26.856Z"
   },
   {
    "duration": 0,
    "start_time": "2024-01-09T13:40:26.857Z"
   },
   {
    "duration": 0,
    "start_time": "2024-01-09T13:40:26.859Z"
   },
   {
    "duration": 0,
    "start_time": "2024-01-09T13:40:26.860Z"
   },
   {
    "duration": 0,
    "start_time": "2024-01-09T13:40:26.862Z"
   },
   {
    "duration": 0,
    "start_time": "2024-01-09T13:40:26.864Z"
   },
   {
    "duration": 0,
    "start_time": "2024-01-09T13:40:26.865Z"
   },
   {
    "duration": 0,
    "start_time": "2024-01-09T13:40:26.866Z"
   },
   {
    "duration": 0,
    "start_time": "2024-01-09T13:40:26.868Z"
   },
   {
    "duration": 0,
    "start_time": "2024-01-09T13:40:26.869Z"
   },
   {
    "duration": 0,
    "start_time": "2024-01-09T13:40:26.870Z"
   },
   {
    "duration": 0,
    "start_time": "2024-01-09T13:40:26.871Z"
   },
   {
    "duration": 0,
    "start_time": "2024-01-09T13:40:26.872Z"
   },
   {
    "duration": 0,
    "start_time": "2024-01-09T13:40:26.873Z"
   },
   {
    "duration": 0,
    "start_time": "2024-01-09T13:40:26.875Z"
   },
   {
    "duration": 0,
    "start_time": "2024-01-09T13:40:26.876Z"
   },
   {
    "duration": 0,
    "start_time": "2024-01-09T13:40:26.877Z"
   },
   {
    "duration": 0,
    "start_time": "2024-01-09T13:40:26.878Z"
   },
   {
    "duration": 0,
    "start_time": "2024-01-09T13:40:26.879Z"
   },
   {
    "duration": 0,
    "start_time": "2024-01-09T13:40:26.881Z"
   },
   {
    "duration": 0,
    "start_time": "2024-01-09T13:40:26.882Z"
   },
   {
    "duration": 0,
    "start_time": "2024-01-09T13:40:26.943Z"
   },
   {
    "duration": 0,
    "start_time": "2024-01-09T13:40:26.944Z"
   },
   {
    "duration": 0,
    "start_time": "2024-01-09T13:40:26.945Z"
   },
   {
    "duration": 0,
    "start_time": "2024-01-09T13:40:26.947Z"
   },
   {
    "duration": 4,
    "start_time": "2024-01-09T13:41:14.810Z"
   },
   {
    "duration": 11,
    "start_time": "2024-01-09T13:41:19.129Z"
   },
   {
    "duration": 4,
    "start_time": "2024-01-09T13:42:14.882Z"
   },
   {
    "duration": 11,
    "start_time": "2024-01-09T13:42:15.595Z"
   },
   {
    "duration": 3,
    "start_time": "2024-01-09T13:42:33.636Z"
   },
   {
    "duration": 10,
    "start_time": "2024-01-09T13:42:34.987Z"
   },
   {
    "duration": 1339,
    "start_time": "2024-01-09T13:42:45.905Z"
   },
   {
    "duration": 50,
    "start_time": "2024-01-09T13:42:47.246Z"
   },
   {
    "duration": 16,
    "start_time": "2024-01-09T13:42:47.298Z"
   },
   {
    "duration": 12,
    "start_time": "2024-01-09T13:42:47.317Z"
   },
   {
    "duration": 28,
    "start_time": "2024-01-09T13:42:47.330Z"
   },
   {
    "duration": 32,
    "start_time": "2024-01-09T13:42:47.360Z"
   },
   {
    "duration": 26,
    "start_time": "2024-01-09T13:42:47.393Z"
   },
   {
    "duration": 25,
    "start_time": "2024-01-09T13:42:47.421Z"
   },
   {
    "duration": 65,
    "start_time": "2024-01-09T13:42:47.448Z"
   },
   {
    "duration": 29,
    "start_time": "2024-01-09T13:42:47.516Z"
   },
   {
    "duration": 14,
    "start_time": "2024-01-09T13:42:47.547Z"
   },
   {
    "duration": 21,
    "start_time": "2024-01-09T13:42:47.562Z"
   },
   {
    "duration": 43,
    "start_time": "2024-01-09T13:42:47.584Z"
   },
   {
    "duration": 6,
    "start_time": "2024-01-09T13:42:47.629Z"
   },
   {
    "duration": 9,
    "start_time": "2024-01-09T13:42:47.637Z"
   },
   {
    "duration": 6,
    "start_time": "2024-01-09T13:42:47.648Z"
   },
   {
    "duration": 11,
    "start_time": "2024-01-09T13:42:47.655Z"
   },
   {
    "duration": 29,
    "start_time": "2024-01-09T13:42:47.667Z"
   },
   {
    "duration": 8,
    "start_time": "2024-01-09T13:42:47.697Z"
   },
   {
    "duration": 21,
    "start_time": "2024-01-09T13:42:47.707Z"
   },
   {
    "duration": 18,
    "start_time": "2024-01-09T13:42:47.730Z"
   },
   {
    "duration": 18,
    "start_time": "2024-01-09T13:42:47.750Z"
   },
   {
    "duration": 18,
    "start_time": "2024-01-09T13:42:47.770Z"
   },
   {
    "duration": 19,
    "start_time": "2024-01-09T13:42:47.790Z"
   },
   {
    "duration": 66,
    "start_time": "2024-01-09T13:42:47.811Z"
   },
   {
    "duration": 21,
    "start_time": "2024-01-09T13:42:47.878Z"
   },
   {
    "duration": 11,
    "start_time": "2024-01-09T13:42:47.900Z"
   },
   {
    "duration": 11,
    "start_time": "2024-01-09T13:42:47.915Z"
   },
   {
    "duration": 14,
    "start_time": "2024-01-09T13:42:47.928Z"
   },
   {
    "duration": 9,
    "start_time": "2024-01-09T13:42:47.944Z"
   },
   {
    "duration": 6,
    "start_time": "2024-01-09T13:42:47.954Z"
   },
   {
    "duration": 18,
    "start_time": "2024-01-09T13:42:47.961Z"
   },
   {
    "duration": 11,
    "start_time": "2024-01-09T13:42:47.981Z"
   },
   {
    "duration": 11,
    "start_time": "2024-01-09T13:42:47.993Z"
   },
   {
    "duration": 44,
    "start_time": "2024-01-09T13:42:48.006Z"
   },
   {
    "duration": 13,
    "start_time": "2024-01-09T13:42:48.052Z"
   },
   {
    "duration": 3,
    "start_time": "2024-01-09T13:42:48.067Z"
   },
   {
    "duration": 14,
    "start_time": "2024-01-09T13:42:48.072Z"
   },
   {
    "duration": 33,
    "start_time": "2024-01-09T13:42:48.088Z"
   },
   {
    "duration": 25,
    "start_time": "2024-01-09T13:42:48.123Z"
   },
   {
    "duration": 4,
    "start_time": "2024-01-09T13:42:48.150Z"
   },
   {
    "duration": 11,
    "start_time": "2024-01-09T13:42:48.156Z"
   },
   {
    "duration": 15,
    "start_time": "2024-01-09T13:42:48.170Z"
   },
   {
    "duration": 15,
    "start_time": "2024-01-09T13:42:48.187Z"
   },
   {
    "duration": 7,
    "start_time": "2024-01-09T13:42:48.204Z"
   },
   {
    "duration": 32,
    "start_time": "2024-01-09T13:42:48.213Z"
   },
   {
    "duration": 10,
    "start_time": "2024-01-09T13:42:48.247Z"
   },
   {
    "duration": 16,
    "start_time": "2024-01-09T13:42:48.259Z"
   },
   {
    "duration": 12,
    "start_time": "2024-01-09T13:42:48.276Z"
   },
   {
    "duration": 36,
    "start_time": "2024-01-09T13:42:48.289Z"
   },
   {
    "duration": 16,
    "start_time": "2024-01-09T13:42:48.326Z"
   },
   {
    "duration": 10,
    "start_time": "2024-01-09T13:42:48.344Z"
   },
   {
    "duration": 4,
    "start_time": "2024-01-09T13:42:48.356Z"
   },
   {
    "duration": 17,
    "start_time": "2024-01-09T13:42:48.362Z"
   },
   {
    "duration": 14,
    "start_time": "2024-01-09T13:42:48.381Z"
   },
   {
    "duration": 16,
    "start_time": "2024-01-09T13:42:48.396Z"
   },
   {
    "duration": 12,
    "start_time": "2024-01-09T13:42:48.413Z"
   },
   {
    "duration": 16,
    "start_time": "2024-01-09T13:42:48.427Z"
   },
   {
    "duration": 21,
    "start_time": "2024-01-09T13:42:48.445Z"
   },
   {
    "duration": 13,
    "start_time": "2024-01-09T13:42:48.468Z"
   },
   {
    "duration": 26,
    "start_time": "2024-01-09T13:42:48.483Z"
   },
   {
    "duration": 16,
    "start_time": "2024-01-09T13:42:48.511Z"
   },
   {
    "duration": 3,
    "start_time": "2024-01-09T13:42:48.529Z"
   },
   {
    "duration": 20,
    "start_time": "2024-01-09T13:42:48.534Z"
   },
   {
    "duration": 10,
    "start_time": "2024-01-09T13:42:48.556Z"
   },
   {
    "duration": 16,
    "start_time": "2024-01-09T13:42:48.568Z"
   },
   {
    "duration": 5,
    "start_time": "2024-01-09T13:42:48.586Z"
   },
   {
    "duration": 19,
    "start_time": "2024-01-09T13:42:48.593Z"
   },
   {
    "duration": 5,
    "start_time": "2024-01-09T13:42:48.614Z"
   },
   {
    "duration": 143,
    "start_time": "2024-01-09T13:42:48.621Z"
   },
   {
    "duration": 0,
    "start_time": "2024-01-09T13:42:48.767Z"
   },
   {
    "duration": 0,
    "start_time": "2024-01-09T13:42:48.768Z"
   },
   {
    "duration": 0,
    "start_time": "2024-01-09T13:42:48.770Z"
   },
   {
    "duration": 0,
    "start_time": "2024-01-09T13:42:48.771Z"
   },
   {
    "duration": 0,
    "start_time": "2024-01-09T13:42:48.772Z"
   },
   {
    "duration": 0,
    "start_time": "2024-01-09T13:42:48.774Z"
   },
   {
    "duration": 0,
    "start_time": "2024-01-09T13:42:48.776Z"
   },
   {
    "duration": 0,
    "start_time": "2024-01-09T13:42:48.777Z"
   },
   {
    "duration": 0,
    "start_time": "2024-01-09T13:42:48.779Z"
   },
   {
    "duration": 0,
    "start_time": "2024-01-09T13:42:48.780Z"
   },
   {
    "duration": 0,
    "start_time": "2024-01-09T13:42:48.782Z"
   },
   {
    "duration": 0,
    "start_time": "2024-01-09T13:42:48.783Z"
   },
   {
    "duration": 0,
    "start_time": "2024-01-09T13:42:48.785Z"
   },
   {
    "duration": 0,
    "start_time": "2024-01-09T13:42:48.787Z"
   },
   {
    "duration": 0,
    "start_time": "2024-01-09T13:42:48.788Z"
   },
   {
    "duration": 0,
    "start_time": "2024-01-09T13:42:48.790Z"
   },
   {
    "duration": 0,
    "start_time": "2024-01-09T13:42:48.791Z"
   },
   {
    "duration": 0,
    "start_time": "2024-01-09T13:42:48.793Z"
   },
   {
    "duration": 0,
    "start_time": "2024-01-09T13:42:48.794Z"
   },
   {
    "duration": 0,
    "start_time": "2024-01-09T13:42:48.795Z"
   },
   {
    "duration": 0,
    "start_time": "2024-01-09T13:42:48.843Z"
   },
   {
    "duration": 0,
    "start_time": "2024-01-09T13:42:48.845Z"
   },
   {
    "duration": 0,
    "start_time": "2024-01-09T13:42:48.846Z"
   },
   {
    "duration": 0,
    "start_time": "2024-01-09T13:42:48.848Z"
   },
   {
    "duration": 0,
    "start_time": "2024-01-09T13:42:48.849Z"
   },
   {
    "duration": 0,
    "start_time": "2024-01-09T13:42:48.851Z"
   },
   {
    "duration": 0,
    "start_time": "2024-01-09T13:42:48.852Z"
   },
   {
    "duration": 0,
    "start_time": "2024-01-09T13:42:48.854Z"
   },
   {
    "duration": 0,
    "start_time": "2024-01-09T13:42:48.855Z"
   },
   {
    "duration": 0,
    "start_time": "2024-01-09T13:42:48.857Z"
   },
   {
    "duration": 0,
    "start_time": "2024-01-09T13:42:48.858Z"
   },
   {
    "duration": 0,
    "start_time": "2024-01-09T13:42:48.860Z"
   },
   {
    "duration": 0,
    "start_time": "2024-01-09T13:42:48.861Z"
   },
   {
    "duration": 0,
    "start_time": "2024-01-09T13:42:48.863Z"
   },
   {
    "duration": 4,
    "start_time": "2024-01-09T13:43:06.234Z"
   },
   {
    "duration": 11,
    "start_time": "2024-01-09T13:43:07.756Z"
   },
   {
    "duration": 10,
    "start_time": "2024-01-09T13:43:15.579Z"
   },
   {
    "duration": 1310,
    "start_time": "2024-01-09T13:43:47.574Z"
   },
   {
    "duration": 48,
    "start_time": "2024-01-09T13:43:48.886Z"
   },
   {
    "duration": 14,
    "start_time": "2024-01-09T13:43:48.936Z"
   },
   {
    "duration": 15,
    "start_time": "2024-01-09T13:43:48.952Z"
   },
   {
    "duration": 20,
    "start_time": "2024-01-09T13:43:48.968Z"
   },
   {
    "duration": 19,
    "start_time": "2024-01-09T13:43:48.990Z"
   },
   {
    "duration": 15,
    "start_time": "2024-01-09T13:43:49.010Z"
   },
   {
    "duration": 27,
    "start_time": "2024-01-09T13:43:49.026Z"
   },
   {
    "duration": 65,
    "start_time": "2024-01-09T13:43:49.055Z"
   },
   {
    "duration": 29,
    "start_time": "2024-01-09T13:43:49.123Z"
   },
   {
    "duration": 14,
    "start_time": "2024-01-09T13:43:49.153Z"
   },
   {
    "duration": 17,
    "start_time": "2024-01-09T13:43:49.168Z"
   },
   {
    "duration": 37,
    "start_time": "2024-01-09T13:43:49.187Z"
   },
   {
    "duration": 7,
    "start_time": "2024-01-09T13:43:49.226Z"
   },
   {
    "duration": 12,
    "start_time": "2024-01-09T13:43:49.235Z"
   },
   {
    "duration": 9,
    "start_time": "2024-01-09T13:43:49.248Z"
   },
   {
    "duration": 8,
    "start_time": "2024-01-09T13:43:49.259Z"
   },
   {
    "duration": 28,
    "start_time": "2024-01-09T13:43:49.269Z"
   },
   {
    "duration": 8,
    "start_time": "2024-01-09T13:43:49.299Z"
   },
   {
    "duration": 12,
    "start_time": "2024-01-09T13:43:49.308Z"
   },
   {
    "duration": 8,
    "start_time": "2024-01-09T13:43:49.322Z"
   },
   {
    "duration": 16,
    "start_time": "2024-01-09T13:43:49.343Z"
   },
   {
    "duration": 11,
    "start_time": "2024-01-09T13:43:49.361Z"
   },
   {
    "duration": 10,
    "start_time": "2024-01-09T13:43:49.374Z"
   },
   {
    "duration": 33,
    "start_time": "2024-01-09T13:43:49.386Z"
   },
   {
    "duration": 21,
    "start_time": "2024-01-09T13:43:49.443Z"
   },
   {
    "duration": 10,
    "start_time": "2024-01-09T13:43:49.465Z"
   },
   {
    "duration": 11,
    "start_time": "2024-01-09T13:43:49.479Z"
   },
   {
    "duration": 3,
    "start_time": "2024-01-09T13:43:49.492Z"
   },
   {
    "duration": 11,
    "start_time": "2024-01-09T13:43:49.496Z"
   },
   {
    "duration": 35,
    "start_time": "2024-01-09T13:43:49.508Z"
   },
   {
    "duration": 11,
    "start_time": "2024-01-09T13:43:49.545Z"
   },
   {
    "duration": 11,
    "start_time": "2024-01-09T13:43:49.557Z"
   },
   {
    "duration": 10,
    "start_time": "2024-01-09T13:43:49.570Z"
   },
   {
    "duration": 10,
    "start_time": "2024-01-09T13:43:49.582Z"
   },
   {
    "duration": 10,
    "start_time": "2024-01-09T13:43:49.593Z"
   },
   {
    "duration": 41,
    "start_time": "2024-01-09T13:43:49.604Z"
   },
   {
    "duration": 38,
    "start_time": "2024-01-09T13:43:49.646Z"
   },
   {
    "duration": 14,
    "start_time": "2024-01-09T13:43:49.686Z"
   },
   {
    "duration": 17,
    "start_time": "2024-01-09T13:43:49.702Z"
   },
   {
    "duration": 3,
    "start_time": "2024-01-09T13:43:49.721Z"
   },
   {
    "duration": 11,
    "start_time": "2024-01-09T13:43:49.726Z"
   },
   {
    "duration": 25,
    "start_time": "2024-01-09T13:43:49.738Z"
   },
   {
    "duration": 13,
    "start_time": "2024-01-09T13:43:49.765Z"
   },
   {
    "duration": 8,
    "start_time": "2024-01-09T13:43:49.780Z"
   },
   {
    "duration": 6,
    "start_time": "2024-01-09T13:43:49.790Z"
   },
   {
    "duration": 13,
    "start_time": "2024-01-09T13:43:49.798Z"
   },
   {
    "duration": 45,
    "start_time": "2024-01-09T13:43:49.812Z"
   },
   {
    "duration": 14,
    "start_time": "2024-01-09T13:43:49.859Z"
   },
   {
    "duration": 19,
    "start_time": "2024-01-09T13:43:49.874Z"
   },
   {
    "duration": 11,
    "start_time": "2024-01-09T13:43:49.895Z"
   },
   {
    "duration": 34,
    "start_time": "2024-01-09T13:43:49.908Z"
   },
   {
    "duration": 3,
    "start_time": "2024-01-09T13:43:49.944Z"
   },
   {
    "duration": 9,
    "start_time": "2024-01-09T13:43:49.949Z"
   },
   {
    "duration": 8,
    "start_time": "2024-01-09T13:43:49.959Z"
   },
   {
    "duration": 3,
    "start_time": "2024-01-09T13:43:49.968Z"
   },
   {
    "duration": 6,
    "start_time": "2024-01-09T13:43:49.972Z"
   },
   {
    "duration": 12,
    "start_time": "2024-01-09T13:43:49.979Z"
   },
   {
    "duration": 16,
    "start_time": "2024-01-09T13:43:49.992Z"
   },
   {
    "duration": 29,
    "start_time": "2024-01-09T13:43:50.010Z"
   },
   {
    "duration": 44,
    "start_time": "2024-01-09T13:43:50.041Z"
   },
   {
    "duration": 11,
    "start_time": "2024-01-09T13:43:50.086Z"
   },
   {
    "duration": 3,
    "start_time": "2024-01-09T13:43:50.098Z"
   },
   {
    "duration": 18,
    "start_time": "2024-01-09T13:43:50.102Z"
   },
   {
    "duration": 8,
    "start_time": "2024-01-09T13:43:50.122Z"
   },
   {
    "duration": 12,
    "start_time": "2024-01-09T13:43:50.131Z"
   },
   {
    "duration": 12,
    "start_time": "2024-01-09T13:43:50.144Z"
   },
   {
    "duration": 14,
    "start_time": "2024-01-09T13:43:50.157Z"
   },
   {
    "duration": 11,
    "start_time": "2024-01-09T13:43:50.172Z"
   },
   {
    "duration": 4,
    "start_time": "2024-01-09T13:43:50.184Z"
   },
   {
    "duration": 12,
    "start_time": "2024-01-09T13:43:50.189Z"
   },
   {
    "duration": 23,
    "start_time": "2024-01-09T13:43:50.203Z"
   },
   {
    "duration": 106,
    "start_time": "2024-01-09T13:43:50.228Z"
   },
   {
    "duration": 0,
    "start_time": "2024-01-09T13:43:50.343Z"
   },
   {
    "duration": 0,
    "start_time": "2024-01-09T13:43:50.344Z"
   },
   {
    "duration": 1,
    "start_time": "2024-01-09T13:43:50.345Z"
   },
   {
    "duration": 0,
    "start_time": "2024-01-09T13:43:50.347Z"
   },
   {
    "duration": 0,
    "start_time": "2024-01-09T13:43:50.349Z"
   },
   {
    "duration": 0,
    "start_time": "2024-01-09T13:43:50.350Z"
   },
   {
    "duration": 0,
    "start_time": "2024-01-09T13:43:50.352Z"
   },
   {
    "duration": 0,
    "start_time": "2024-01-09T13:43:50.353Z"
   },
   {
    "duration": 0,
    "start_time": "2024-01-09T13:43:50.354Z"
   },
   {
    "duration": 0,
    "start_time": "2024-01-09T13:43:50.356Z"
   },
   {
    "duration": 1,
    "start_time": "2024-01-09T13:43:50.357Z"
   },
   {
    "duration": 0,
    "start_time": "2024-01-09T13:43:50.359Z"
   },
   {
    "duration": 0,
    "start_time": "2024-01-09T13:43:50.360Z"
   },
   {
    "duration": 0,
    "start_time": "2024-01-09T13:43:50.361Z"
   },
   {
    "duration": 0,
    "start_time": "2024-01-09T13:43:50.362Z"
   },
   {
    "duration": 0,
    "start_time": "2024-01-09T13:43:50.364Z"
   },
   {
    "duration": 0,
    "start_time": "2024-01-09T13:43:50.365Z"
   },
   {
    "duration": 0,
    "start_time": "2024-01-09T13:43:50.367Z"
   },
   {
    "duration": 0,
    "start_time": "2024-01-09T13:43:50.368Z"
   },
   {
    "duration": 0,
    "start_time": "2024-01-09T13:43:50.369Z"
   },
   {
    "duration": 0,
    "start_time": "2024-01-09T13:43:50.371Z"
   },
   {
    "duration": 0,
    "start_time": "2024-01-09T13:43:50.372Z"
   },
   {
    "duration": 0,
    "start_time": "2024-01-09T13:43:50.373Z"
   },
   {
    "duration": 0,
    "start_time": "2024-01-09T13:43:50.374Z"
   },
   {
    "duration": 0,
    "start_time": "2024-01-09T13:43:50.375Z"
   },
   {
    "duration": 0,
    "start_time": "2024-01-09T13:43:50.376Z"
   },
   {
    "duration": 0,
    "start_time": "2024-01-09T13:43:50.377Z"
   },
   {
    "duration": 0,
    "start_time": "2024-01-09T13:43:50.378Z"
   },
   {
    "duration": 0,
    "start_time": "2024-01-09T13:43:50.379Z"
   },
   {
    "duration": 0,
    "start_time": "2024-01-09T13:43:50.380Z"
   },
   {
    "duration": 0,
    "start_time": "2024-01-09T13:43:50.381Z"
   },
   {
    "duration": 0,
    "start_time": "2024-01-09T13:43:50.382Z"
   },
   {
    "duration": 4,
    "start_time": "2024-01-09T13:45:24.405Z"
   },
   {
    "duration": 5,
    "start_time": "2024-01-09T13:46:47.965Z"
   },
   {
    "duration": 11,
    "start_time": "2024-01-09T13:46:49.093Z"
   },
   {
    "duration": 1323,
    "start_time": "2024-01-09T13:47:04.671Z"
   },
   {
    "duration": 50,
    "start_time": "2024-01-09T13:47:05.995Z"
   },
   {
    "duration": 15,
    "start_time": "2024-01-09T13:47:06.047Z"
   },
   {
    "duration": 13,
    "start_time": "2024-01-09T13:47:06.064Z"
   },
   {
    "duration": 17,
    "start_time": "2024-01-09T13:47:06.079Z"
   },
   {
    "duration": 20,
    "start_time": "2024-01-09T13:47:06.098Z"
   },
   {
    "duration": 36,
    "start_time": "2024-01-09T13:47:06.119Z"
   },
   {
    "duration": 29,
    "start_time": "2024-01-09T13:47:06.157Z"
   },
   {
    "duration": 49,
    "start_time": "2024-01-09T13:47:06.188Z"
   },
   {
    "duration": 25,
    "start_time": "2024-01-09T13:47:06.240Z"
   },
   {
    "duration": 14,
    "start_time": "2024-01-09T13:47:06.267Z"
   },
   {
    "duration": 13,
    "start_time": "2024-01-09T13:47:06.282Z"
   },
   {
    "duration": 45,
    "start_time": "2024-01-09T13:47:06.296Z"
   },
   {
    "duration": 7,
    "start_time": "2024-01-09T13:47:06.342Z"
   },
   {
    "duration": 29,
    "start_time": "2024-01-09T13:47:06.350Z"
   },
   {
    "duration": 6,
    "start_time": "2024-01-09T13:47:06.381Z"
   },
   {
    "duration": 8,
    "start_time": "2024-01-09T13:47:06.389Z"
   },
   {
    "duration": 30,
    "start_time": "2024-01-09T13:47:06.399Z"
   },
   {
    "duration": 9,
    "start_time": "2024-01-09T13:47:06.430Z"
   },
   {
    "duration": 28,
    "start_time": "2024-01-09T13:47:06.441Z"
   },
   {
    "duration": 13,
    "start_time": "2024-01-09T13:47:06.471Z"
   },
   {
    "duration": 34,
    "start_time": "2024-01-09T13:47:06.486Z"
   },
   {
    "duration": 18,
    "start_time": "2024-01-09T13:47:06.523Z"
   },
   {
    "duration": 11,
    "start_time": "2024-01-09T13:47:06.543Z"
   },
   {
    "duration": 33,
    "start_time": "2024-01-09T13:47:06.556Z"
   },
   {
    "duration": 22,
    "start_time": "2024-01-09T13:47:06.590Z"
   },
   {
    "duration": 10,
    "start_time": "2024-01-09T13:47:06.614Z"
   },
   {
    "duration": 12,
    "start_time": "2024-01-09T13:47:06.642Z"
   },
   {
    "duration": 8,
    "start_time": "2024-01-09T13:47:06.655Z"
   },
   {
    "duration": 13,
    "start_time": "2024-01-09T13:47:06.664Z"
   },
   {
    "duration": 7,
    "start_time": "2024-01-09T13:47:06.678Z"
   },
   {
    "duration": 16,
    "start_time": "2024-01-09T13:47:06.687Z"
   },
   {
    "duration": 13,
    "start_time": "2024-01-09T13:47:06.705Z"
   },
   {
    "duration": 12,
    "start_time": "2024-01-09T13:47:06.742Z"
   },
   {
    "duration": 10,
    "start_time": "2024-01-09T13:47:06.757Z"
   },
   {
    "duration": 15,
    "start_time": "2024-01-09T13:47:06.769Z"
   },
   {
    "duration": 9,
    "start_time": "2024-01-09T13:47:06.786Z"
   },
   {
    "duration": 14,
    "start_time": "2024-01-09T13:47:06.796Z"
   },
   {
    "duration": 40,
    "start_time": "2024-01-09T13:47:06.812Z"
   },
   {
    "duration": 25,
    "start_time": "2024-01-09T13:47:06.854Z"
   },
   {
    "duration": 10,
    "start_time": "2024-01-09T13:47:06.881Z"
   },
   {
    "duration": 13,
    "start_time": "2024-01-09T13:47:06.893Z"
   },
   {
    "duration": 11,
    "start_time": "2024-01-09T13:47:06.908Z"
   },
   {
    "duration": 22,
    "start_time": "2024-01-09T13:47:06.921Z"
   },
   {
    "duration": 8,
    "start_time": "2024-01-09T13:47:06.944Z"
   },
   {
    "duration": 9,
    "start_time": "2024-01-09T13:47:06.953Z"
   },
   {
    "duration": 8,
    "start_time": "2024-01-09T13:47:06.964Z"
   },
   {
    "duration": 14,
    "start_time": "2024-01-09T13:47:06.973Z"
   },
   {
    "duration": 11,
    "start_time": "2024-01-09T13:47:06.988Z"
   },
   {
    "duration": 16,
    "start_time": "2024-01-09T13:47:07.001Z"
   },
   {
    "duration": 31,
    "start_time": "2024-01-09T13:47:07.019Z"
   },
   {
    "duration": 4,
    "start_time": "2024-01-09T13:47:07.051Z"
   },
   {
    "duration": 11,
    "start_time": "2024-01-09T13:47:07.057Z"
   },
   {
    "duration": 19,
    "start_time": "2024-01-09T13:47:07.070Z"
   },
   {
    "duration": 6,
    "start_time": "2024-01-09T13:47:07.091Z"
   },
   {
    "duration": 5,
    "start_time": "2024-01-09T13:47:07.098Z"
   },
   {
    "duration": 7,
    "start_time": "2024-01-09T13:47:07.104Z"
   },
   {
    "duration": 11,
    "start_time": "2024-01-09T13:47:07.112Z"
   },
   {
    "duration": 13,
    "start_time": "2024-01-09T13:47:07.124Z"
   },
   {
    "duration": 20,
    "start_time": "2024-01-09T13:47:07.138Z"
   },
   {
    "duration": 8,
    "start_time": "2024-01-09T13:47:07.160Z"
   },
   {
    "duration": 11,
    "start_time": "2024-01-09T13:47:07.169Z"
   },
   {
    "duration": 2,
    "start_time": "2024-01-09T13:47:07.182Z"
   },
   {
    "duration": 11,
    "start_time": "2024-01-09T13:47:07.186Z"
   },
   {
    "duration": 7,
    "start_time": "2024-01-09T13:47:07.199Z"
   },
   {
    "duration": 11,
    "start_time": "2024-01-09T13:47:07.208Z"
   },
   {
    "duration": 24,
    "start_time": "2024-01-09T13:47:07.221Z"
   },
   {
    "duration": 12,
    "start_time": "2024-01-09T13:47:07.247Z"
   },
   {
    "duration": 23,
    "start_time": "2024-01-09T13:47:07.260Z"
   },
   {
    "duration": 20,
    "start_time": "2024-01-09T13:47:07.285Z"
   },
   {
    "duration": 104,
    "start_time": "2024-01-09T13:47:07.307Z"
   },
   {
    "duration": 0,
    "start_time": "2024-01-09T13:47:07.415Z"
   },
   {
    "duration": 0,
    "start_time": "2024-01-09T13:47:07.416Z"
   },
   {
    "duration": 0,
    "start_time": "2024-01-09T13:47:07.417Z"
   },
   {
    "duration": 0,
    "start_time": "2024-01-09T13:47:07.418Z"
   },
   {
    "duration": 0,
    "start_time": "2024-01-09T13:47:07.420Z"
   },
   {
    "duration": 0,
    "start_time": "2024-01-09T13:47:07.421Z"
   },
   {
    "duration": 0,
    "start_time": "2024-01-09T13:47:07.423Z"
   },
   {
    "duration": 0,
    "start_time": "2024-01-09T13:47:07.424Z"
   },
   {
    "duration": 0,
    "start_time": "2024-01-09T13:47:07.425Z"
   },
   {
    "duration": 0,
    "start_time": "2024-01-09T13:47:07.442Z"
   },
   {
    "duration": 0,
    "start_time": "2024-01-09T13:47:07.444Z"
   },
   {
    "duration": 0,
    "start_time": "2024-01-09T13:47:07.445Z"
   },
   {
    "duration": 0,
    "start_time": "2024-01-09T13:47:07.446Z"
   },
   {
    "duration": 0,
    "start_time": "2024-01-09T13:47:07.448Z"
   },
   {
    "duration": 0,
    "start_time": "2024-01-09T13:47:07.449Z"
   },
   {
    "duration": 0,
    "start_time": "2024-01-09T13:47:07.450Z"
   },
   {
    "duration": 0,
    "start_time": "2024-01-09T13:47:07.451Z"
   },
   {
    "duration": 0,
    "start_time": "2024-01-09T13:47:07.452Z"
   },
   {
    "duration": 0,
    "start_time": "2024-01-09T13:47:07.453Z"
   },
   {
    "duration": 0,
    "start_time": "2024-01-09T13:47:07.454Z"
   },
   {
    "duration": 0,
    "start_time": "2024-01-09T13:47:07.455Z"
   },
   {
    "duration": 0,
    "start_time": "2024-01-09T13:47:07.457Z"
   },
   {
    "duration": 0,
    "start_time": "2024-01-09T13:47:07.458Z"
   },
   {
    "duration": 0,
    "start_time": "2024-01-09T13:47:07.459Z"
   },
   {
    "duration": 0,
    "start_time": "2024-01-09T13:47:07.460Z"
   },
   {
    "duration": 0,
    "start_time": "2024-01-09T13:47:07.462Z"
   },
   {
    "duration": 0,
    "start_time": "2024-01-09T13:47:07.463Z"
   },
   {
    "duration": 0,
    "start_time": "2024-01-09T13:47:07.464Z"
   },
   {
    "duration": 0,
    "start_time": "2024-01-09T13:47:07.466Z"
   },
   {
    "duration": 0,
    "start_time": "2024-01-09T13:47:07.467Z"
   },
   {
    "duration": 0,
    "start_time": "2024-01-09T13:47:07.468Z"
   },
   {
    "duration": 0,
    "start_time": "2024-01-09T13:47:07.469Z"
   },
   {
    "duration": 0,
    "start_time": "2024-01-09T13:47:07.470Z"
   },
   {
    "duration": 0,
    "start_time": "2024-01-09T13:47:07.471Z"
   },
   {
    "duration": 14,
    "start_time": "2024-01-09T13:47:13.157Z"
   },
   {
    "duration": 4,
    "start_time": "2024-01-09T13:47:22.285Z"
   },
   {
    "duration": 11,
    "start_time": "2024-01-09T13:47:23.134Z"
   },
   {
    "duration": 9,
    "start_time": "2024-01-09T13:48:03.462Z"
   },
   {
    "duration": 21,
    "start_time": "2024-01-09T13:48:05.125Z"
   },
   {
    "duration": 8,
    "start_time": "2024-01-09T13:48:06.173Z"
   },
   {
    "duration": 10,
    "start_time": "2024-01-09T13:48:11.782Z"
   },
   {
    "duration": 1429,
    "start_time": "2024-01-09T13:48:19.401Z"
   },
   {
    "duration": 54,
    "start_time": "2024-01-09T13:48:20.833Z"
   },
   {
    "duration": 17,
    "start_time": "2024-01-09T13:48:20.888Z"
   },
   {
    "duration": 12,
    "start_time": "2024-01-09T13:48:20.907Z"
   },
   {
    "duration": 24,
    "start_time": "2024-01-09T13:48:20.921Z"
   },
   {
    "duration": 23,
    "start_time": "2024-01-09T13:48:20.946Z"
   },
   {
    "duration": 21,
    "start_time": "2024-01-09T13:48:20.971Z"
   },
   {
    "duration": 16,
    "start_time": "2024-01-09T13:48:20.994Z"
   },
   {
    "duration": 109,
    "start_time": "2024-01-09T13:48:21.012Z"
   },
   {
    "duration": 25,
    "start_time": "2024-01-09T13:48:21.125Z"
   },
   {
    "duration": 15,
    "start_time": "2024-01-09T13:48:21.152Z"
   },
   {
    "duration": 15,
    "start_time": "2024-01-09T13:48:21.168Z"
   },
   {
    "duration": 37,
    "start_time": "2024-01-09T13:48:21.185Z"
   },
   {
    "duration": 8,
    "start_time": "2024-01-09T13:48:21.224Z"
   },
   {
    "duration": 17,
    "start_time": "2024-01-09T13:48:21.234Z"
   },
   {
    "duration": 11,
    "start_time": "2024-01-09T13:48:21.254Z"
   },
   {
    "duration": 12,
    "start_time": "2024-01-09T13:48:21.267Z"
   },
   {
    "duration": 37,
    "start_time": "2024-01-09T13:48:21.281Z"
   },
   {
    "duration": 11,
    "start_time": "2024-01-09T13:48:21.321Z"
   },
   {
    "duration": 19,
    "start_time": "2024-01-09T13:48:21.333Z"
   },
   {
    "duration": 26,
    "start_time": "2024-01-09T13:48:21.354Z"
   },
   {
    "duration": 17,
    "start_time": "2024-01-09T13:48:21.381Z"
   },
   {
    "duration": 12,
    "start_time": "2024-01-09T13:48:21.399Z"
   },
   {
    "duration": 11,
    "start_time": "2024-01-09T13:48:21.412Z"
   },
   {
    "duration": 54,
    "start_time": "2024-01-09T13:48:21.425Z"
   },
   {
    "duration": 20,
    "start_time": "2024-01-09T13:48:21.481Z"
   },
   {
    "duration": 10,
    "start_time": "2024-01-09T13:48:21.503Z"
   },
   {
    "duration": 11,
    "start_time": "2024-01-09T13:48:21.518Z"
   },
   {
    "duration": 5,
    "start_time": "2024-01-09T13:48:21.543Z"
   },
   {
    "duration": 40,
    "start_time": "2024-01-09T13:48:21.550Z"
   },
   {
    "duration": 27,
    "start_time": "2024-01-09T13:48:21.592Z"
   },
   {
    "duration": 39,
    "start_time": "2024-01-09T13:48:21.621Z"
   },
   {
    "duration": 29,
    "start_time": "2024-01-09T13:48:21.662Z"
   },
   {
    "duration": 33,
    "start_time": "2024-01-09T13:48:21.694Z"
   },
   {
    "duration": 37,
    "start_time": "2024-01-09T13:48:21.728Z"
   },
   {
    "duration": 30,
    "start_time": "2024-01-09T13:48:21.767Z"
   },
   {
    "duration": 29,
    "start_time": "2024-01-09T13:48:21.799Z"
   },
   {
    "duration": 45,
    "start_time": "2024-01-09T13:48:21.829Z"
   },
   {
    "duration": 26,
    "start_time": "2024-01-09T13:48:21.876Z"
   },
   {
    "duration": 19,
    "start_time": "2024-01-09T13:48:21.904Z"
   },
   {
    "duration": 22,
    "start_time": "2024-01-09T13:48:21.925Z"
   },
   {
    "duration": 25,
    "start_time": "2024-01-09T13:48:21.949Z"
   },
   {
    "duration": 26,
    "start_time": "2024-01-09T13:48:21.976Z"
   },
   {
    "duration": 21,
    "start_time": "2024-01-09T13:48:22.004Z"
   },
   {
    "duration": 18,
    "start_time": "2024-01-09T13:48:22.027Z"
   },
   {
    "duration": 18,
    "start_time": "2024-01-09T13:48:22.047Z"
   },
   {
    "duration": 32,
    "start_time": "2024-01-09T13:48:22.068Z"
   },
   {
    "duration": 26,
    "start_time": "2024-01-09T13:48:22.102Z"
   },
   {
    "duration": 26,
    "start_time": "2024-01-09T13:48:22.130Z"
   },
   {
    "duration": 35,
    "start_time": "2024-01-09T13:48:22.159Z"
   },
   {
    "duration": 32,
    "start_time": "2024-01-09T13:48:22.197Z"
   },
   {
    "duration": 25,
    "start_time": "2024-01-09T13:48:22.231Z"
   },
   {
    "duration": 26,
    "start_time": "2024-01-09T13:48:22.259Z"
   },
   {
    "duration": 11,
    "start_time": "2024-01-09T13:48:22.287Z"
   },
   {
    "duration": 41,
    "start_time": "2024-01-09T13:48:22.300Z"
   },
   {
    "duration": 20,
    "start_time": "2024-01-09T13:48:22.343Z"
   },
   {
    "duration": 21,
    "start_time": "2024-01-09T13:48:22.365Z"
   },
   {
    "duration": 23,
    "start_time": "2024-01-09T13:48:22.387Z"
   },
   {
    "duration": 24,
    "start_time": "2024-01-09T13:48:22.412Z"
   },
   {
    "duration": 29,
    "start_time": "2024-01-09T13:48:22.438Z"
   },
   {
    "duration": 18,
    "start_time": "2024-01-09T13:48:22.469Z"
   },
   {
    "duration": 25,
    "start_time": "2024-01-09T13:48:22.489Z"
   },
   {
    "duration": 8,
    "start_time": "2024-01-09T13:48:22.516Z"
   },
   {
    "duration": 32,
    "start_time": "2024-01-09T13:48:22.526Z"
   },
   {
    "duration": 74,
    "start_time": "2024-01-09T13:48:22.560Z"
   },
   {
    "duration": 36,
    "start_time": "2024-01-09T13:48:22.635Z"
   },
   {
    "duration": 48,
    "start_time": "2024-01-09T13:48:22.673Z"
   },
   {
    "duration": 47,
    "start_time": "2024-01-09T13:48:22.723Z"
   },
   {
    "duration": 35,
    "start_time": "2024-01-09T13:48:22.772Z"
   },
   {
    "duration": 19,
    "start_time": "2024-01-09T13:48:22.809Z"
   },
   {
    "duration": 46,
    "start_time": "2024-01-09T13:48:22.830Z"
   },
   {
    "duration": 37,
    "start_time": "2024-01-09T13:48:22.878Z"
   },
   {
    "duration": 59,
    "start_time": "2024-01-09T13:48:22.918Z"
   },
   {
    "duration": 28,
    "start_time": "2024-01-09T13:48:22.979Z"
   },
   {
    "duration": 30,
    "start_time": "2024-01-09T13:48:23.009Z"
   },
   {
    "duration": 56,
    "start_time": "2024-01-09T13:48:23.042Z"
   },
   {
    "duration": 26,
    "start_time": "2024-01-09T13:48:23.099Z"
   },
   {
    "duration": 31,
    "start_time": "2024-01-09T13:48:23.127Z"
   },
   {
    "duration": 12,
    "start_time": "2024-01-09T13:48:23.161Z"
   },
   {
    "duration": 54,
    "start_time": "2024-01-09T13:48:23.174Z"
   },
   {
    "duration": 27,
    "start_time": "2024-01-09T13:48:23.230Z"
   },
   {
    "duration": 47,
    "start_time": "2024-01-09T13:48:23.264Z"
   },
   {
    "duration": 197,
    "start_time": "2024-01-09T13:48:23.313Z"
   },
   {
    "duration": 1947,
    "start_time": "2024-01-09T13:48:23.511Z"
   },
   {
    "duration": 6,
    "start_time": "2024-01-09T13:48:25.459Z"
   },
   {
    "duration": 27,
    "start_time": "2024-01-09T13:48:25.467Z"
   },
   {
    "duration": 33,
    "start_time": "2024-01-09T13:48:25.496Z"
   },
   {
    "duration": 33,
    "start_time": "2024-01-09T13:48:25.530Z"
   },
   {
    "duration": 35,
    "start_time": "2024-01-09T13:48:25.565Z"
   },
   {
    "duration": 45,
    "start_time": "2024-01-09T13:48:25.601Z"
   },
   {
    "duration": 40,
    "start_time": "2024-01-09T13:48:25.648Z"
   },
   {
    "duration": 31,
    "start_time": "2024-01-09T13:48:25.690Z"
   },
   {
    "duration": 31,
    "start_time": "2024-01-09T13:48:25.723Z"
   },
   {
    "duration": 57,
    "start_time": "2024-01-09T13:48:25.757Z"
   },
   {
    "duration": 141,
    "start_time": "2024-01-09T13:48:25.816Z"
   },
   {
    "duration": 9,
    "start_time": "2024-01-09T13:48:25.959Z"
   },
   {
    "duration": 53253,
    "start_time": "2024-01-09T13:48:25.973Z"
   },
   {
    "duration": 5,
    "start_time": "2024-01-09T13:49:19.227Z"
   },
   {
    "duration": 16,
    "start_time": "2024-01-09T13:49:19.233Z"
   },
   {
    "duration": 131070,
    "start_time": "2024-01-09T13:49:19.250Z"
   },
   {
    "duration": 4,
    "start_time": "2024-01-09T13:51:30.321Z"
   },
   {
    "duration": 24,
    "start_time": "2024-01-09T13:51:30.326Z"
   },
   {
    "duration": 152503,
    "start_time": "2024-01-09T13:51:30.352Z"
   },
   {
    "duration": 0,
    "start_time": "2024-01-09T13:54:02.856Z"
   },
   {
    "duration": 0,
    "start_time": "2024-01-09T13:54:02.858Z"
   },
   {
    "duration": 7,
    "start_time": "2024-01-09T13:54:13.782Z"
   },
   {
    "duration": 6,
    "start_time": "2024-01-09T13:54:53.529Z"
   },
   {
    "duration": 13,
    "start_time": "2024-01-09T13:55:04.034Z"
   },
   {
    "duration": 10,
    "start_time": "2024-01-09T14:02:55.895Z"
   },
   {
    "duration": 4,
    "start_time": "2024-01-09T14:02:59.262Z"
   },
   {
    "duration": 4,
    "start_time": "2024-01-09T14:04:02.839Z"
   }
  ],
  "kernelspec": {
   "display_name": "Python 3 (ipykernel)",
   "language": "python",
   "name": "python3"
  },
  "language_info": {
   "codemirror_mode": {
    "name": "ipython",
    "version": 3
   },
   "file_extension": ".py",
   "mimetype": "text/x-python",
   "name": "python",
   "nbconvert_exporter": "python",
   "pygments_lexer": "ipython3",
   "version": "3.9.18"
  },
  "toc": {
   "base_numbering": 1,
   "nav_menu": {},
   "number_sections": true,
   "sideBar": true,
   "skip_h1_title": true,
   "title_cell": "Table of Contents",
   "title_sidebar": "Contents",
   "toc_cell": false,
   "toc_position": {},
   "toc_section_display": true,
   "toc_window_display": false
  }
 },
 "nbformat": 4,
 "nbformat_minor": 5
}
