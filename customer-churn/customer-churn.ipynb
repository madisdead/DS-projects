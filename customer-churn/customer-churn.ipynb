{
 "cells": [
  {
   "cell_type": "markdown",
   "metadata": {
    "toc": true
   },
   "source": [
    "<h1>Содержание<span class=\"tocSkip\"></span></h1>\n",
    "<div class=\"toc\"><ul class=\"toc-item\"><li><span><a href=\"#Подготовка-данных\" data-toc-modified-id=\"Подготовка-данных-1\"><span class=\"toc-item-num\">1&nbsp;&nbsp;</span>Подготовка данных</a></span></li><li><span><a href=\"#Исследование-задачи\" data-toc-modified-id=\"Исследование-задачи-2\"><span class=\"toc-item-num\">2&nbsp;&nbsp;</span>Исследование задачи</a></span></li><li><span><a href=\"#Борьба-с-дисбалансом\" data-toc-modified-id=\"Борьба-с-дисбалансом-3\"><span class=\"toc-item-num\">3&nbsp;&nbsp;</span>Борьба с дисбалансом</a></span></li><li><span><a href=\"#Тестирование-модели\" data-toc-modified-id=\"Тестирование-модели-4\"><span class=\"toc-item-num\">4&nbsp;&nbsp;</span>Тестирование модели</a></span></li></ul></div>"
   ]
  },
  {
   "cell_type": "markdown",
   "metadata": {},
   "source": [
    "# Отток клиентов"
   ]
  },
  {
   "cell_type": "markdown",
   "metadata": {},
   "source": [
    "Из «Бета-Банка» стали уходить клиенты. Каждый месяц. Немного, но заметно. Банковские маркетологи посчитали: сохранять текущих клиентов дешевле, чем привлекать новых.\n",
    "\n",
    "Нужно спрогнозировать, уйдёт клиент из банка в ближайшее время или нет. Вам предоставлены исторические данные о поведении клиентов и расторжении договоров с банком. \n",
    "\n",
    "Постройте модель с предельно большим значением *F1*-меры. Чтобы сдать проект успешно, нужно довести метрику до 0.59. Проверьте *F1*-меру на тестовой выборке самостоятельно.\n",
    "\n",
    "Дополнительно измеряйте *AUC-ROC*, сравнивайте её значение с *F1*-мерой.\n",
    "\n",
    "Источник данных: [https://www.kaggle.com/barelydedicated/bank-customer-churn-modeling](https://www.kaggle.com/barelydedicated/bank-customer-churn-modeling)  \n",
    "  \n",
    "1. Признаки\n",
    "    1. RowNumber — индекс строки в данных\n",
    "    2. CustomerId — уникальный идентификатор клиента\n",
    "    3. Surname — фамилия\n",
    "    4. CreditScore — кредитный рейтинг\n",
    "    5. Geography — страна проживания\n",
    "    6. Gender — пол\n",
    "    7. Age — возраст\n",
    "    8.Tenure — сколько лет человек является клиентом банка\n",
    "    9.Balance — баланс на счёте\n",
    "    10.NumOfProducts — количество продуктов банка, используемых клиентом\n",
    "    11.HasCrCard — наличие кредитной карты\n",
    "    12.IsActiveMember — активность клиента\n",
    "    13.EstimatedSalary — предполагаемая зарплата\n",
    "2. Целевой признак\n",
    "    1. Exited — факт ухода клиента"
   ]
  },
  {
   "cell_type": "code",
   "execution_count": 1,
   "metadata": {},
   "outputs": [],
   "source": [
    "import pandas as pd\n",
    "import numpy as np\n",
    "from sklearn.utils import shuffle\n",
    "from sklearn.model_selection import train_test_split\n",
    "from sklearn.metrics import accuracy_score, f1_score\n",
    "from sklearn.linear_model import LogisticRegression\n",
    "from sklearn.ensemble import RandomForestClassifier\n",
    "from sklearn.tree import DecisionTreeClassifier\n",
    "from sklearn.dummy import DummyClassifier\n",
    "from sklearn.preprocessing import StandardScaler, OneHotEncoder\n",
    "from sklearn.metrics import roc_auc_score, roc_curve\n",
    "from sklearn.compose import make_column_transformer\n",
    "from sklearn.pipeline import make_pipeline\n",
    "import warnings\n",
    "warnings.filterwarnings(\"ignore\")"
   ]
  },
  {
   "cell_type": "markdown",
   "metadata": {},
   "source": [
    "## Подготовка данных"
   ]
  },
  {
   "cell_type": "code",
   "execution_count": 2,
   "metadata": {},
   "outputs": [
    {
     "data": {
      "text/html": [
       "<div>\n",
       "<style scoped>\n",
       "    .dataframe tbody tr th:only-of-type {\n",
       "        vertical-align: middle;\n",
       "    }\n",
       "\n",
       "    .dataframe tbody tr th {\n",
       "        vertical-align: top;\n",
       "    }\n",
       "\n",
       "    .dataframe thead th {\n",
       "        text-align: right;\n",
       "    }\n",
       "</style>\n",
       "<table border=\"1\" class=\"dataframe\">\n",
       "  <thead>\n",
       "    <tr style=\"text-align: right;\">\n",
       "      <th></th>\n",
       "      <th>RowNumber</th>\n",
       "      <th>CustomerId</th>\n",
       "      <th>Surname</th>\n",
       "      <th>CreditScore</th>\n",
       "      <th>Geography</th>\n",
       "      <th>Gender</th>\n",
       "      <th>Age</th>\n",
       "      <th>Tenure</th>\n",
       "      <th>Balance</th>\n",
       "      <th>NumOfProducts</th>\n",
       "      <th>HasCrCard</th>\n",
       "      <th>IsActiveMember</th>\n",
       "      <th>EstimatedSalary</th>\n",
       "      <th>Exited</th>\n",
       "    </tr>\n",
       "  </thead>\n",
       "  <tbody>\n",
       "    <tr>\n",
       "      <th>0</th>\n",
       "      <td>1</td>\n",
       "      <td>15634602</td>\n",
       "      <td>Hargrave</td>\n",
       "      <td>619</td>\n",
       "      <td>France</td>\n",
       "      <td>Female</td>\n",
       "      <td>42</td>\n",
       "      <td>2.0</td>\n",
       "      <td>0.00</td>\n",
       "      <td>1</td>\n",
       "      <td>1</td>\n",
       "      <td>1</td>\n",
       "      <td>101348.88</td>\n",
       "      <td>1</td>\n",
       "    </tr>\n",
       "    <tr>\n",
       "      <th>1</th>\n",
       "      <td>2</td>\n",
       "      <td>15647311</td>\n",
       "      <td>Hill</td>\n",
       "      <td>608</td>\n",
       "      <td>Spain</td>\n",
       "      <td>Female</td>\n",
       "      <td>41</td>\n",
       "      <td>1.0</td>\n",
       "      <td>83807.86</td>\n",
       "      <td>1</td>\n",
       "      <td>0</td>\n",
       "      <td>1</td>\n",
       "      <td>112542.58</td>\n",
       "      <td>0</td>\n",
       "    </tr>\n",
       "    <tr>\n",
       "      <th>2</th>\n",
       "      <td>3</td>\n",
       "      <td>15619304</td>\n",
       "      <td>Onio</td>\n",
       "      <td>502</td>\n",
       "      <td>France</td>\n",
       "      <td>Female</td>\n",
       "      <td>42</td>\n",
       "      <td>8.0</td>\n",
       "      <td>159660.80</td>\n",
       "      <td>3</td>\n",
       "      <td>1</td>\n",
       "      <td>0</td>\n",
       "      <td>113931.57</td>\n",
       "      <td>1</td>\n",
       "    </tr>\n",
       "    <tr>\n",
       "      <th>3</th>\n",
       "      <td>4</td>\n",
       "      <td>15701354</td>\n",
       "      <td>Boni</td>\n",
       "      <td>699</td>\n",
       "      <td>France</td>\n",
       "      <td>Female</td>\n",
       "      <td>39</td>\n",
       "      <td>1.0</td>\n",
       "      <td>0.00</td>\n",
       "      <td>2</td>\n",
       "      <td>0</td>\n",
       "      <td>0</td>\n",
       "      <td>93826.63</td>\n",
       "      <td>0</td>\n",
       "    </tr>\n",
       "    <tr>\n",
       "      <th>4</th>\n",
       "      <td>5</td>\n",
       "      <td>15737888</td>\n",
       "      <td>Mitchell</td>\n",
       "      <td>850</td>\n",
       "      <td>Spain</td>\n",
       "      <td>Female</td>\n",
       "      <td>43</td>\n",
       "      <td>2.0</td>\n",
       "      <td>125510.82</td>\n",
       "      <td>1</td>\n",
       "      <td>1</td>\n",
       "      <td>1</td>\n",
       "      <td>79084.10</td>\n",
       "      <td>0</td>\n",
       "    </tr>\n",
       "  </tbody>\n",
       "</table>\n",
       "</div>"
      ],
      "text/plain": [
       "   RowNumber  CustomerId   Surname  CreditScore Geography  Gender  Age  \\\n",
       "0          1    15634602  Hargrave          619    France  Female   42   \n",
       "1          2    15647311      Hill          608     Spain  Female   41   \n",
       "2          3    15619304      Onio          502    France  Female   42   \n",
       "3          4    15701354      Boni          699    France  Female   39   \n",
       "4          5    15737888  Mitchell          850     Spain  Female   43   \n",
       "\n",
       "   Tenure    Balance  NumOfProducts  HasCrCard  IsActiveMember  \\\n",
       "0     2.0       0.00              1          1               1   \n",
       "1     1.0   83807.86              1          0               1   \n",
       "2     8.0  159660.80              3          1               0   \n",
       "3     1.0       0.00              2          0               0   \n",
       "4     2.0  125510.82              1          1               1   \n",
       "\n",
       "   EstimatedSalary  Exited  \n",
       "0        101348.88       1  \n",
       "1        112542.58       0  \n",
       "2        113931.57       1  \n",
       "3         93826.63       0  \n",
       "4         79084.10       0  "
      ]
     },
     "execution_count": 2,
     "metadata": {},
     "output_type": "execute_result"
    }
   ],
   "source": [
    "data = pd.read_csv('/datasets/Churn.csv')\n",
    "data.head()"
   ]
  },
  {
   "cell_type": "code",
   "execution_count": 3,
   "metadata": {},
   "outputs": [
    {
     "name": "stdout",
     "output_type": "stream",
     "text": [
      "<class 'pandas.core.frame.DataFrame'>\n",
      "RangeIndex: 10000 entries, 0 to 9999\n",
      "Data columns (total 14 columns):\n",
      " #   Column           Non-Null Count  Dtype  \n",
      "---  ------           --------------  -----  \n",
      " 0   RowNumber        10000 non-null  int64  \n",
      " 1   CustomerId       10000 non-null  int64  \n",
      " 2   Surname          10000 non-null  object \n",
      " 3   CreditScore      10000 non-null  int64  \n",
      " 4   Geography        10000 non-null  object \n",
      " 5   Gender           10000 non-null  object \n",
      " 6   Age              10000 non-null  int64  \n",
      " 7   Tenure           9091 non-null   float64\n",
      " 8   Balance          10000 non-null  float64\n",
      " 9   NumOfProducts    10000 non-null  int64  \n",
      " 10  HasCrCard        10000 non-null  int64  \n",
      " 11  IsActiveMember   10000 non-null  int64  \n",
      " 12  EstimatedSalary  10000 non-null  float64\n",
      " 13  Exited           10000 non-null  int64  \n",
      "dtypes: float64(3), int64(8), object(3)\n",
      "memory usage: 1.1+ MB\n"
     ]
    }
   ],
   "source": [
    "data.info()"
   ]
  },
  {
   "cell_type": "code",
   "execution_count": 4,
   "metadata": {},
   "outputs": [
    {
     "data": {
      "text/plain": [
       "RowNumber            0\n",
       "CustomerId           0\n",
       "Surname              0\n",
       "CreditScore          0\n",
       "Geography            0\n",
       "Gender               0\n",
       "Age                  0\n",
       "Tenure             909\n",
       "Balance              0\n",
       "NumOfProducts        0\n",
       "HasCrCard            0\n",
       "IsActiveMember       0\n",
       "EstimatedSalary      0\n",
       "Exited               0\n",
       "dtype: int64"
      ]
     },
     "execution_count": 4,
     "metadata": {},
     "output_type": "execute_result"
    }
   ],
   "source": [
    "data.isna().sum()"
   ]
  },
  {
   "cell_type": "code",
   "execution_count": 5,
   "metadata": {},
   "outputs": [
    {
     "data": {
      "text/plain": [
       "0"
      ]
     },
     "execution_count": 5,
     "metadata": {},
     "output_type": "execute_result"
    }
   ],
   "source": [
    "data.duplicated().sum()"
   ]
  },
  {
   "cell_type": "markdown",
   "metadata": {},
   "source": [
    "Взгялнув на наш dataframe можем сделать вывод о том, что для дальнейший работы нам не потребуются столбцы CusctomerId, Surname и RowNumber(потому что это столбцы идентификаторы, которые не нужны для алгоритма и не имеют влияния на результат), а так же есть немного пропусков в столбце Tenure. Так как пропусков примерно 10%, это может привести к изменению результата, поэтому для точности просто удалим их."
   ]
  },
  {
   "cell_type": "code",
   "execution_count": 6,
   "metadata": {
    "scrolled": true
   },
   "outputs": [
    {
     "data": {
      "text/html": [
       "<div>\n",
       "<style scoped>\n",
       "    .dataframe tbody tr th:only-of-type {\n",
       "        vertical-align: middle;\n",
       "    }\n",
       "\n",
       "    .dataframe tbody tr th {\n",
       "        vertical-align: top;\n",
       "    }\n",
       "\n",
       "    .dataframe thead th {\n",
       "        text-align: right;\n",
       "    }\n",
       "</style>\n",
       "<table border=\"1\" class=\"dataframe\">\n",
       "  <thead>\n",
       "    <tr style=\"text-align: right;\">\n",
       "      <th></th>\n",
       "      <th>CreditScore</th>\n",
       "      <th>Geography</th>\n",
       "      <th>Gender</th>\n",
       "      <th>Age</th>\n",
       "      <th>Tenure</th>\n",
       "      <th>Balance</th>\n",
       "      <th>NumOfProducts</th>\n",
       "      <th>HasCrCard</th>\n",
       "      <th>IsActiveMember</th>\n",
       "      <th>EstimatedSalary</th>\n",
       "      <th>Exited</th>\n",
       "    </tr>\n",
       "  </thead>\n",
       "  <tbody>\n",
       "    <tr>\n",
       "      <th>0</th>\n",
       "      <td>619</td>\n",
       "      <td>France</td>\n",
       "      <td>Female</td>\n",
       "      <td>42</td>\n",
       "      <td>2.0</td>\n",
       "      <td>0.00</td>\n",
       "      <td>1</td>\n",
       "      <td>1</td>\n",
       "      <td>1</td>\n",
       "      <td>101348.88</td>\n",
       "      <td>1</td>\n",
       "    </tr>\n",
       "    <tr>\n",
       "      <th>1</th>\n",
       "      <td>608</td>\n",
       "      <td>Spain</td>\n",
       "      <td>Female</td>\n",
       "      <td>41</td>\n",
       "      <td>1.0</td>\n",
       "      <td>83807.86</td>\n",
       "      <td>1</td>\n",
       "      <td>0</td>\n",
       "      <td>1</td>\n",
       "      <td>112542.58</td>\n",
       "      <td>0</td>\n",
       "    </tr>\n",
       "    <tr>\n",
       "      <th>2</th>\n",
       "      <td>502</td>\n",
       "      <td>France</td>\n",
       "      <td>Female</td>\n",
       "      <td>42</td>\n",
       "      <td>8.0</td>\n",
       "      <td>159660.80</td>\n",
       "      <td>3</td>\n",
       "      <td>1</td>\n",
       "      <td>0</td>\n",
       "      <td>113931.57</td>\n",
       "      <td>1</td>\n",
       "    </tr>\n",
       "    <tr>\n",
       "      <th>3</th>\n",
       "      <td>699</td>\n",
       "      <td>France</td>\n",
       "      <td>Female</td>\n",
       "      <td>39</td>\n",
       "      <td>1.0</td>\n",
       "      <td>0.00</td>\n",
       "      <td>2</td>\n",
       "      <td>0</td>\n",
       "      <td>0</td>\n",
       "      <td>93826.63</td>\n",
       "      <td>0</td>\n",
       "    </tr>\n",
       "    <tr>\n",
       "      <th>4</th>\n",
       "      <td>850</td>\n",
       "      <td>Spain</td>\n",
       "      <td>Female</td>\n",
       "      <td>43</td>\n",
       "      <td>2.0</td>\n",
       "      <td>125510.82</td>\n",
       "      <td>1</td>\n",
       "      <td>1</td>\n",
       "      <td>1</td>\n",
       "      <td>79084.10</td>\n",
       "      <td>0</td>\n",
       "    </tr>\n",
       "  </tbody>\n",
       "</table>\n",
       "</div>"
      ],
      "text/plain": [
       "   CreditScore Geography  Gender  Age  Tenure    Balance  NumOfProducts  \\\n",
       "0          619    France  Female   42     2.0       0.00              1   \n",
       "1          608     Spain  Female   41     1.0   83807.86              1   \n",
       "2          502    France  Female   42     8.0  159660.80              3   \n",
       "3          699    France  Female   39     1.0       0.00              2   \n",
       "4          850     Spain  Female   43     2.0  125510.82              1   \n",
       "\n",
       "   HasCrCard  IsActiveMember  EstimatedSalary  Exited  \n",
       "0          1               1        101348.88       1  \n",
       "1          0               1        112542.58       0  \n",
       "2          1               0        113931.57       1  \n",
       "3          0               0         93826.63       0  \n",
       "4          1               1         79084.10       0  "
      ]
     },
     "execution_count": 6,
     "metadata": {},
     "output_type": "execute_result"
    }
   ],
   "source": [
    "data = data.drop(['RowNumber', 'CustomerId', 'Surname'], axis=1)\n",
    "data.head()"
   ]
  },
  {
   "cell_type": "code",
   "execution_count": 7,
   "metadata": {},
   "outputs": [
    {
     "name": "stdout",
     "output_type": "stream",
     "text": [
      "<class 'pandas.core.frame.DataFrame'>\n",
      "Int64Index: 9091 entries, 0 to 9998\n",
      "Data columns (total 11 columns):\n",
      " #   Column           Non-Null Count  Dtype  \n",
      "---  ------           --------------  -----  \n",
      " 0   CreditScore      9091 non-null   int64  \n",
      " 1   Geography        9091 non-null   object \n",
      " 2   Gender           9091 non-null   object \n",
      " 3   Age              9091 non-null   int64  \n",
      " 4   Tenure           9091 non-null   float64\n",
      " 5   Balance          9091 non-null   float64\n",
      " 6   NumOfProducts    9091 non-null   int64  \n",
      " 7   HasCrCard        9091 non-null   int64  \n",
      " 8   IsActiveMember   9091 non-null   int64  \n",
      " 9   EstimatedSalary  9091 non-null   float64\n",
      " 10  Exited           9091 non-null   int64  \n",
      "dtypes: float64(3), int64(6), object(2)\n",
      "memory usage: 852.3+ KB\n"
     ]
    }
   ],
   "source": [
    "data = data.dropna(subset = ['Tenure'])\n",
    "data.info()"
   ]
  },
  {
   "cell_type": "markdown",
   "metadata": {},
   "source": [
    "Изменим тип данных в столбцах Tenure и NumOfProducts на object"
   ]
  },
  {
   "cell_type": "code",
   "execution_count": 9,
   "metadata": {},
   "outputs": [],
   "source": [
    "data['Tenure'] = data['Tenure'].astype('object')\n",
    "data['NumOfProducts'] = data['NumOfProducts'].astype('object')"
   ]
  },
  {
   "cell_type": "code",
   "execution_count": 10,
   "metadata": {},
   "outputs": [
    {
     "name": "stdout",
     "output_type": "stream",
     "text": [
      "<class 'pandas.core.frame.DataFrame'>\n",
      "Int64Index: 9091 entries, 0 to 9998\n",
      "Data columns (total 11 columns):\n",
      " #   Column           Non-Null Count  Dtype  \n",
      "---  ------           --------------  -----  \n",
      " 0   CreditScore      9091 non-null   int64  \n",
      " 1   Geography        9091 non-null   object \n",
      " 2   Gender           9091 non-null   object \n",
      " 3   Age              9091 non-null   int64  \n",
      " 4   Tenure           9091 non-null   object \n",
      " 5   Balance          9091 non-null   float64\n",
      " 6   NumOfProducts    9091 non-null   object \n",
      " 7   HasCrCard        9091 non-null   int64  \n",
      " 8   IsActiveMember   9091 non-null   int64  \n",
      " 9   EstimatedSalary  9091 non-null   float64\n",
      " 10  Exited           9091 non-null   int64  \n",
      "dtypes: float64(2), int64(5), object(4)\n",
      "memory usage: 852.3+ KB\n"
     ]
    }
   ],
   "source": [
    "data.info()"
   ]
  },
  {
   "cell_type": "markdown",
   "metadata": {},
   "source": [
    "Разделим данные на features и target."
   ]
  },
  {
   "cell_type": "code",
   "execution_count": 11,
   "metadata": {},
   "outputs": [],
   "source": [
    "features = data.drop('Exited', axis=1)\n",
    "target = data['Exited']"
   ]
  },
  {
   "cell_type": "markdown",
   "metadata": {},
   "source": [
    "Разделим наши данные на обучающую, валидационную и тестовую выборки"
   ]
  },
  {
   "cell_type": "code",
   "execution_count": 12,
   "metadata": {},
   "outputs": [],
   "source": [
    "features_train, features_test, target_train, target_test = train_test_split(features, target, test_size=0.4, random_state=12345)\n",
    "features_valid, features_test, target_valid, target_test = train_test_split(features_test, target_test,\n",
    "                                                                            test_size=0.5, random_state=12345)"
   ]
  },
  {
   "cell_type": "code",
   "execution_count": 13,
   "metadata": {},
   "outputs": [
    {
     "name": "stdout",
     "output_type": "stream",
     "text": [
      "<class 'pandas.core.frame.DataFrame'>\n",
      "Int64Index: 5454 entries, 9344 to 5056\n",
      "Data columns (total 10 columns):\n",
      " #   Column           Non-Null Count  Dtype  \n",
      "---  ------           --------------  -----  \n",
      " 0   CreditScore      5454 non-null   int64  \n",
      " 1   Geography        5454 non-null   object \n",
      " 2   Gender           5454 non-null   object \n",
      " 3   Age              5454 non-null   int64  \n",
      " 4   Tenure           5454 non-null   object \n",
      " 5   Balance          5454 non-null   float64\n",
      " 6   NumOfProducts    5454 non-null   object \n",
      " 7   HasCrCard        5454 non-null   int64  \n",
      " 8   IsActiveMember   5454 non-null   int64  \n",
      " 9   EstimatedSalary  5454 non-null   float64\n",
      "dtypes: float64(2), int64(4), object(4)\n",
      "memory usage: 468.7+ KB\n"
     ]
    }
   ],
   "source": [
    "features_train.info()"
   ]
  },
  {
   "cell_type": "code",
   "execution_count": 14,
   "metadata": {},
   "outputs": [
    {
     "name": "stdout",
     "output_type": "stream",
     "text": [
      "<class 'pandas.core.frame.DataFrame'>\n",
      "Int64Index: 1819 entries, 5170 to 7755\n",
      "Data columns (total 10 columns):\n",
      " #   Column           Non-Null Count  Dtype  \n",
      "---  ------           --------------  -----  \n",
      " 0   CreditScore      1819 non-null   int64  \n",
      " 1   Geography        1819 non-null   object \n",
      " 2   Gender           1819 non-null   object \n",
      " 3   Age              1819 non-null   int64  \n",
      " 4   Tenure           1819 non-null   object \n",
      " 5   Balance          1819 non-null   float64\n",
      " 6   NumOfProducts    1819 non-null   object \n",
      " 7   HasCrCard        1819 non-null   int64  \n",
      " 8   IsActiveMember   1819 non-null   int64  \n",
      " 9   EstimatedSalary  1819 non-null   float64\n",
      "dtypes: float64(2), int64(4), object(4)\n",
      "memory usage: 156.3+ KB\n"
     ]
    }
   ],
   "source": [
    "features_test.info()"
   ]
  },
  {
   "cell_type": "code",
   "execution_count": 15,
   "metadata": {},
   "outputs": [
    {
     "name": "stdout",
     "output_type": "stream",
     "text": [
      "<class 'pandas.core.frame.DataFrame'>\n",
      "Int64Index: 1818 entries, 7445 to 2460\n",
      "Data columns (total 10 columns):\n",
      " #   Column           Non-Null Count  Dtype  \n",
      "---  ------           --------------  -----  \n",
      " 0   CreditScore      1818 non-null   int64  \n",
      " 1   Geography        1818 non-null   object \n",
      " 2   Gender           1818 non-null   object \n",
      " 3   Age              1818 non-null   int64  \n",
      " 4   Tenure           1818 non-null   object \n",
      " 5   Balance          1818 non-null   float64\n",
      " 6   NumOfProducts    1818 non-null   object \n",
      " 7   HasCrCard        1818 non-null   int64  \n",
      " 8   IsActiveMember   1818 non-null   int64  \n",
      " 9   EstimatedSalary  1818 non-null   float64\n",
      "dtypes: float64(2), int64(4), object(4)\n",
      "memory usage: 156.2+ KB\n"
     ]
    }
   ],
   "source": [
    "features_valid.info()"
   ]
  },
  {
   "cell_type": "code",
   "execution_count": 16,
   "metadata": {},
   "outputs": [
    {
     "data": {
      "text/plain": [
       "5454"
      ]
     },
     "execution_count": 16,
     "metadata": {},
     "output_type": "execute_result"
    }
   ],
   "source": [
    "target_train.count()"
   ]
  },
  {
   "cell_type": "code",
   "execution_count": 17,
   "metadata": {},
   "outputs": [
    {
     "data": {
      "text/plain": [
       "1819"
      ]
     },
     "execution_count": 17,
     "metadata": {},
     "output_type": "execute_result"
    }
   ],
   "source": [
    "target_test.count()"
   ]
  },
  {
   "cell_type": "code",
   "execution_count": 18,
   "metadata": {
    "scrolled": true
   },
   "outputs": [
    {
     "data": {
      "text/plain": [
       "1818"
      ]
     },
     "execution_count": 18,
     "metadata": {},
     "output_type": "execute_result"
    }
   ],
   "source": [
    "target_valid.count()"
   ]
  },
  {
   "cell_type": "code",
   "execution_count": 19,
   "metadata": {},
   "outputs": [
    {
     "data": {
      "text/html": [
       "<div>\n",
       "<style scoped>\n",
       "    .dataframe tbody tr th:only-of-type {\n",
       "        vertical-align: middle;\n",
       "    }\n",
       "\n",
       "    .dataframe tbody tr th {\n",
       "        vertical-align: top;\n",
       "    }\n",
       "\n",
       "    .dataframe thead th {\n",
       "        text-align: right;\n",
       "    }\n",
       "</style>\n",
       "<table border=\"1\" class=\"dataframe\">\n",
       "  <thead>\n",
       "    <tr style=\"text-align: right;\">\n",
       "      <th></th>\n",
       "      <th>CreditScore</th>\n",
       "      <th>Geography</th>\n",
       "      <th>Gender</th>\n",
       "      <th>Age</th>\n",
       "      <th>Tenure</th>\n",
       "      <th>Balance</th>\n",
       "      <th>NumOfProducts</th>\n",
       "      <th>HasCrCard</th>\n",
       "      <th>IsActiveMember</th>\n",
       "      <th>EstimatedSalary</th>\n",
       "    </tr>\n",
       "  </thead>\n",
       "  <tbody>\n",
       "    <tr>\n",
       "      <th>9344</th>\n",
       "      <td>727</td>\n",
       "      <td>France</td>\n",
       "      <td>Female</td>\n",
       "      <td>28</td>\n",
       "      <td>2.0</td>\n",
       "      <td>110997.76</td>\n",
       "      <td>1</td>\n",
       "      <td>1</td>\n",
       "      <td>0</td>\n",
       "      <td>101433.76</td>\n",
       "    </tr>\n",
       "    <tr>\n",
       "      <th>3796</th>\n",
       "      <td>537</td>\n",
       "      <td>France</td>\n",
       "      <td>Male</td>\n",
       "      <td>26</td>\n",
       "      <td>7.0</td>\n",
       "      <td>106397.75</td>\n",
       "      <td>1</td>\n",
       "      <td>0</td>\n",
       "      <td>0</td>\n",
       "      <td>103563.23</td>\n",
       "    </tr>\n",
       "    <tr>\n",
       "      <th>7462</th>\n",
       "      <td>610</td>\n",
       "      <td>France</td>\n",
       "      <td>Male</td>\n",
       "      <td>40</td>\n",
       "      <td>9.0</td>\n",
       "      <td>0.00</td>\n",
       "      <td>1</td>\n",
       "      <td>1</td>\n",
       "      <td>1</td>\n",
       "      <td>149602.54</td>\n",
       "    </tr>\n",
       "    <tr>\n",
       "      <th>1508</th>\n",
       "      <td>576</td>\n",
       "      <td>France</td>\n",
       "      <td>Male</td>\n",
       "      <td>36</td>\n",
       "      <td>6.0</td>\n",
       "      <td>0.00</td>\n",
       "      <td>2</td>\n",
       "      <td>1</td>\n",
       "      <td>1</td>\n",
       "      <td>48314.00</td>\n",
       "    </tr>\n",
       "    <tr>\n",
       "      <th>4478</th>\n",
       "      <td>549</td>\n",
       "      <td>France</td>\n",
       "      <td>Male</td>\n",
       "      <td>31</td>\n",
       "      <td>4.0</td>\n",
       "      <td>0.00</td>\n",
       "      <td>2</td>\n",
       "      <td>0</td>\n",
       "      <td>1</td>\n",
       "      <td>25684.85</td>\n",
       "    </tr>\n",
       "  </tbody>\n",
       "</table>\n",
       "</div>"
      ],
      "text/plain": [
       "      CreditScore Geography  Gender  Age Tenure    Balance NumOfProducts  \\\n",
       "9344          727    France  Female   28    2.0  110997.76             1   \n",
       "3796          537    France    Male   26    7.0  106397.75             1   \n",
       "7462          610    France    Male   40    9.0       0.00             1   \n",
       "1508          576    France    Male   36    6.0       0.00             2   \n",
       "4478          549    France    Male   31    4.0       0.00             2   \n",
       "\n",
       "      HasCrCard  IsActiveMember  EstimatedSalary  \n",
       "9344          1               0        101433.76  \n",
       "3796          0               0        103563.23  \n",
       "7462          1               1        149602.54  \n",
       "1508          1               1         48314.00  \n",
       "4478          0               1         25684.85  "
      ]
     },
     "execution_count": 19,
     "metadata": {},
     "output_type": "execute_result"
    }
   ],
   "source": [
    "features_train.head()"
   ]
  },
  {
   "cell_type": "markdown",
   "metadata": {},
   "source": [
    "При первичном анализе данных мы избавились от ненужных столбцов, удалили строки с пропущенными значениями, проверили на явные дубликаты и разделили выборку на обучающую, валидационную и тестовую."
   ]
  },
  {
   "cell_type": "markdown",
   "metadata": {},
   "source": [
    "Применим OneHotEncoder для категориальных столбцов"
   ]
  },
  {
   "cell_type": "code",
   "execution_count": 20,
   "metadata": {},
   "outputs": [
    {
     "name": "stdout",
     "output_type": "stream",
     "text": [
      "<class 'pandas.core.frame.DataFrame'>\n",
      "Int64Index: 5454 entries, 9344 to 5056\n",
      "Data columns (total 10 columns):\n",
      " #   Column           Non-Null Count  Dtype  \n",
      "---  ------           --------------  -----  \n",
      " 0   CreditScore      5454 non-null   int64  \n",
      " 1   Geography        5454 non-null   object \n",
      " 2   Gender           5454 non-null   object \n",
      " 3   Age              5454 non-null   int64  \n",
      " 4   Tenure           5454 non-null   object \n",
      " 5   Balance          5454 non-null   float64\n",
      " 6   NumOfProducts    5454 non-null   object \n",
      " 7   HasCrCard        5454 non-null   int64  \n",
      " 8   IsActiveMember   5454 non-null   int64  \n",
      " 9   EstimatedSalary  5454 non-null   float64\n",
      "dtypes: float64(2), int64(4), object(4)\n",
      "memory usage: 468.7+ KB\n"
     ]
    }
   ],
   "source": [
    "features_train.info()"
   ]
  },
  {
   "cell_type": "code",
   "execution_count": 21,
   "metadata": {},
   "outputs": [],
   "source": [
    "encoder_ohe = OneHotEncoder(handle_unknown='ignore', sparse=False)\n",
    "categorical = ['Tenure', 'NumOfProducts', 'Geography', 'Gender']\n",
    "encoder_ohe.fit(features_train[categorical])\n",
    "features_train[encoder_ohe.get_feature_names()] = encoder_ohe.transform(features_train[categorical])\n",
    "features_train = features_train.drop(categorical, axis=1)"
   ]
  },
  {
   "cell_type": "code",
   "execution_count": 22,
   "metadata": {},
   "outputs": [],
   "source": [
    "features_valid[encoder_ohe.get_feature_names()] = encoder_ohe.transform(features_valid[categorical])\n",
    "features_valid = features_valid.drop(categorical, axis=1)\n",
    "features_test[encoder_ohe.get_feature_names()] = encoder_ohe.transform(features_test[categorical])\n",
    "features_test = features_test.drop(categorical, axis=1)"
   ]
  },
  {
   "cell_type": "markdown",
   "metadata": {},
   "source": [
    "## Исследование задачи"
   ]
  },
  {
   "cell_type": "code",
   "execution_count": 23,
   "metadata": {},
   "outputs": [
    {
     "data": {
      "text/plain": [
       "0.2039379606203938"
      ]
     },
     "execution_count": 23,
     "metadata": {},
     "output_type": "execute_result"
    }
   ],
   "source": [
    "target.sum()/target.count()"
   ]
  },
  {
   "cell_type": "code",
   "execution_count": 24,
   "metadata": {},
   "outputs": [
    {
     "data": {
      "text/plain": [
       "0.7960620393796062"
      ]
     },
     "execution_count": 24,
     "metadata": {},
     "output_type": "execute_result"
    }
   ],
   "source": [
    "1 - target.sum()/target.count()"
   ]
  },
  {
   "cell_type": "markdown",
   "metadata": {},
   "source": [
    "Данные несбаналансированны. Количество клиентов, которые отказались от услуг банка примерно в 4 раза меньше, чем тех, кто осталася. Исправим данный дисбаланс дальше, в соответствующем пункте."
   ]
  },
  {
   "cell_type": "markdown",
   "metadata": {},
   "source": [
    "Стандартизируем данные."
   ]
  },
  {
   "cell_type": "code",
   "execution_count": 25,
   "metadata": {},
   "outputs": [],
   "source": [
    "pd.options.mode.chained_assignment = None\n",
    "scaler = StandardScaler()\n",
    "numerical = ['CreditScore', 'Age', 'Balance', 'EstimatedSalary']\n",
    "scaler.fit(features_train[numerical])\n",
    "features_train[numerical] = scaler.transform(features_train[numerical])"
   ]
  },
  {
   "cell_type": "code",
   "execution_count": 26,
   "metadata": {},
   "outputs": [],
   "source": [
    "features_valid[numerical] = scaler.transform(features_valid[numerical])\n",
    "features_test[numerical] = scaler.transform(features_test[numerical])"
   ]
  },
  {
   "cell_type": "markdown",
   "metadata": {},
   "source": [
    "Обучим дерево решений"
   ]
  },
  {
   "cell_type": "code",
   "execution_count": 27,
   "metadata": {},
   "outputs": [
    {
     "name": "stdout",
     "output_type": "stream",
     "text": [
      "f1_score лучшей модели на валидационной выборке: 0.5641711229946524 Максимальная глубина: 2\n"
     ]
    }
   ],
   "source": [
    "best_model = None\n",
    "best_accuracy = 0\n",
    "best_depth = 0\n",
    "for depth in range(1,15):\n",
    "    model = DecisionTreeClassifier(random_state=12345, max_depth=depth)\n",
    "    model.fit(features_train, target_train)\n",
    "    predictions_valid = model.predict(features_valid)\n",
    "    accuracy = f1_score(target_valid, predictions_valid)\n",
    "    if accuracy > best_accuracy:\n",
    "        best_model = model\n",
    "        best_accuracy = accuracy\n",
    "        best_depth = depth\n",
    "print(\"f1_score лучшей модели на валидационной выборке:\", best_accuracy, \"Максимальная глубина:\", best_depth)  "
   ]
  },
  {
   "cell_type": "markdown",
   "metadata": {},
   "source": [
    "Обучим случайный лес"
   ]
  },
  {
   "cell_type": "code",
   "execution_count": 28,
   "metadata": {},
   "outputs": [
    {
     "name": "stdout",
     "output_type": "stream",
     "text": [
      "f1_score лучшей модели на валидационной выборке: 0.5834738617200674 Количество деревьев: 20 Максимальная глубина: 10\n"
     ]
    }
   ],
   "source": [
    "best_model = None\n",
    "best_accuracy = 0\n",
    "best_est = 0\n",
    "best_depth = 0\n",
    "for est in range(10, 51, 10):\n",
    "    for depth in range(1, 11):\n",
    "        model = RandomForestClassifier(random_state=12345, n_estimators=est, max_depth=depth)\n",
    "        model.fit(features_train, target_train)\n",
    "        predictions_valid = model.predict(features_valid)\n",
    "        accuracy = f1_score(target_valid, predictions_valid)\n",
    "        if accuracy > best_accuracy:\n",
    "            best_model = model\n",
    "            best_accuracy = accuracy\n",
    "            best_est = est\n",
    "            best_depth = depth\n",
    "print(\"f1_score лучшей модели на валидационной выборке:\", best_accuracy, \"Количество деревьев:\",\n",
    "      best_est, \"Максимальная глубина:\", best_depth)    "
   ]
  },
  {
   "cell_type": "markdown",
   "metadata": {},
   "source": [
    "Обучим логистическую регрессию"
   ]
  },
  {
   "cell_type": "code",
   "execution_count": 29,
   "metadata": {},
   "outputs": [
    {
     "name": "stdout",
     "output_type": "stream",
     "text": [
      "f1_score логистической регрессии: 0.5137931034482758\n"
     ]
    }
   ],
   "source": [
    "model_lr = LogisticRegression(random_state=12345, solver='lbfgs', max_iter=1000)\n",
    "model_lr.fit(features_train, target_train)\n",
    "predicted_valid = model_lr.predict(features_valid)\n",
    "print('f1_score логистической регрессии:', f1_score(target_valid, predicted_valid))"
   ]
  },
  {
   "cell_type": "markdown",
   "metadata": {},
   "source": [
    "Лучшие модель из исследования - это случайный лес с максимальной глубиной 10 и количеством деревьем 20. Однако мы провели исследование не избавившись от дисбаналанса. Посмотрим на результаты после его устранения."
   ]
  },
  {
   "cell_type": "markdown",
   "metadata": {},
   "source": [
    "## Борьба с дисбалансом"
   ]
  },
  {
   "cell_type": "markdown",
   "metadata": {},
   "source": [
    "Начнем с Upsampling'а."
   ]
  },
  {
   "cell_type": "code",
   "execution_count": 30,
   "metadata": {},
   "outputs": [],
   "source": [
    "def upsample(features, target, repeat):\n",
    "    features_zeros = features[target == 0]\n",
    "    features_ones = features[target == 1]\n",
    "    target_zeros = target[target == 0]\n",
    "    target_ones = target[target == 1]\n",
    "    \n",
    "    features_upsampled = pd.concat([features_zeros] + [features_ones] * repeat)\n",
    "    target_upsampled = pd.concat([target_zeros] + [target_ones] * repeat)\n",
    "    \n",
    "    return shuffle(features_upsampled, target_upsampled, random_state=12345)"
   ]
  },
  {
   "cell_type": "code",
   "execution_count": 31,
   "metadata": {},
   "outputs": [],
   "source": [
    "features_upsampled_train, target_upsampled_train = upsample(features_train, target_train, 4)"
   ]
  },
  {
   "cell_type": "markdown",
   "metadata": {},
   "source": [
    "Обучим случайный лес на новых данных и найдем лучшую модель."
   ]
  },
  {
   "cell_type": "code",
   "execution_count": 32,
   "metadata": {},
   "outputs": [
    {
     "name": "stdout",
     "output_type": "stream",
     "text": [
      "f1_score лучшей модели на валидационной выборке: 0.635897435897436 Количество деревьев: 90 Максимальная глубина: 14\n"
     ]
    }
   ],
   "source": [
    "best_model = None\n",
    "best_accuracy = 0\n",
    "best_est = 0\n",
    "best_depth = 0\n",
    "for est in range(10, 101, 10):\n",
    "    for depth in range(1, 21):\n",
    "        model = RandomForestClassifier(random_state=12345, n_estimators=est, max_depth=depth)\n",
    "        model.fit(features_upsampled_train, target_upsampled_train)\n",
    "        predictions_valid = model.predict(features_valid)\n",
    "        accuracy = f1_score(target_valid, predictions_valid)\n",
    "        if accuracy > best_accuracy:\n",
    "            best_model = model\n",
    "            best_accuracy = accuracy\n",
    "            best_est = est\n",
    "            best_depth = depth\n",
    "print(\"f1_score лучшей модели на валидационной выборке:\", best_accuracy, \"Количество деревьев:\",\n",
    "      best_est, \"Максимальная глубина:\", best_depth)    "
   ]
  },
  {
   "cell_type": "markdown",
   "metadata": {},
   "source": [
    "Теперь разберемся с downsampling'ом."
   ]
  },
  {
   "cell_type": "code",
   "execution_count": 33,
   "metadata": {},
   "outputs": [],
   "source": [
    "def downsample(features, target, fraction):\n",
    "    features_zeros = features[target == 0]\n",
    "    features_ones = features[target == 1]\n",
    "    target_zeros = target[target == 0]\n",
    "    target_ones = target[target == 1]\n",
    "    \n",
    "    features_downsampled = pd.concat([features_zeros.sample(frac=fraction, random_state=12345)] + [features_ones])\n",
    "    target_downsampled = pd.concat([target_zeros.sample(frac=fraction, random_state=12345)] + [target_ones])\n",
    "    \n",
    "    return shuffle(features_downsampled, target_downsampled, random_state=12345)"
   ]
  },
  {
   "cell_type": "code",
   "execution_count": 34,
   "metadata": {},
   "outputs": [],
   "source": [
    "features_downsampled_train, target_downsampled_train = downsample(features_train, target_train, 0.25)"
   ]
  },
  {
   "cell_type": "code",
   "execution_count": 35,
   "metadata": {},
   "outputs": [
    {
     "data": {
      "text/plain": [
       "6296    0\n",
       "9131    0\n",
       "4643    1\n",
       "3084    0\n",
       "9624    1\n",
       "       ..\n",
       "5134    1\n",
       "2018    0\n",
       "2649    0\n",
       "6519    1\n",
       "8702    0\n",
       "Name: Exited, Length: 2208, dtype: int64"
      ]
     },
     "execution_count": 35,
     "metadata": {},
     "output_type": "execute_result"
    }
   ],
   "source": [
    "target_downsampled_train"
   ]
  },
  {
   "cell_type": "markdown",
   "metadata": {},
   "source": [
    "Теперь то же самое для этих данных."
   ]
  },
  {
   "cell_type": "code",
   "execution_count": 36,
   "metadata": {},
   "outputs": [
    {
     "name": "stdout",
     "output_type": "stream",
     "text": [
      "f1_score лучшей модели на валидационной выборке: 0.5920155793573515 Количество деревьев: 80 Максимальная глубина: 9\n"
     ]
    }
   ],
   "source": [
    "best_model_ds = None\n",
    "best_accuracy_ds = 0\n",
    "best_est_ds = 0\n",
    "best_depth_ds = 0\n",
    "for est in range(10, 101, 10):\n",
    "    for depth in range(1, 21):\n",
    "        model = RandomForestClassifier(random_state=12345, n_estimators=est, max_depth=depth)\n",
    "        model.fit(features_downsampled_train, target_downsampled_train)\n",
    "        predictions_valid = model.predict(features_valid)\n",
    "        accuracy = f1_score(target_valid, predictions_valid)\n",
    "        if accuracy > best_accuracy_ds:\n",
    "            best_model_ds = model\n",
    "            best_accuracy_ds = accuracy\n",
    "            best_est_ds = est\n",
    "            best_depth_ds = depth\n",
    "print(\"f1_score лучшей модели на валидационной выборке:\", best_accuracy_ds, \"Количество деревьев:\",\n",
    "      best_est_ds, \"Максимальная глубина:\", best_depth_ds)"
   ]
  },
  {
   "cell_type": "markdown",
   "metadata": {},
   "source": [
    "Проведя downsampling и upsampling - мы улучшили качество модели и получили f1_score больший 0.59 для увелечиния и для уменьшения выборок. Для тестирования будем импользовать случайный лес с upsampling'ом с количеством деревьев 90 и максимальной глубиной 14."
   ]
  },
  {
   "cell_type": "markdown",
   "metadata": {},
   "source": [
    "## Тестирование модели"
   ]
  },
  {
   "cell_type": "code",
   "execution_count": 37,
   "metadata": {},
   "outputs": [
    {
     "data": {
      "text/plain": [
       "RandomForestClassifier(max_depth=14, n_estimators=90, random_state=12345)"
      ]
     },
     "execution_count": 37,
     "metadata": {},
     "output_type": "execute_result"
    }
   ],
   "source": [
    "best_model"
   ]
  },
  {
   "cell_type": "code",
   "execution_count": 38,
   "metadata": {},
   "outputs": [
    {
     "data": {
      "text/plain": [
       "0.6175115207373272"
      ]
     },
     "execution_count": 38,
     "metadata": {},
     "output_type": "execute_result"
    }
   ],
   "source": [
    "features_test1 = pd.concat([features_valid, features_test])\n",
    "target_test1 = pd.concat([target_valid, target_test])\n",
    "predicted_test = best_model.predict(features_test1)\n",
    "f1_score(target_test1, predicted_test)"
   ]
  },
  {
   "cell_type": "code",
   "execution_count": 39,
   "metadata": {},
   "outputs": [
    {
     "data": {
      "text/plain": [
       "0.860214510480925"
      ]
     },
     "execution_count": 39,
     "metadata": {},
     "output_type": "execute_result"
    }
   ],
   "source": [
    "probabilities_test = best_model.predict_proba(features_test1)\n",
    "probabilities_one_test = probabilities_test[:, 1]\n",
    "auc_roc = roc_auc_score(target_test1, probabilities_one_test)\n",
    "auc_roc"
   ]
  },
  {
   "cell_type": "markdown",
   "metadata": {},
   "source": [
    "AUC-ROC нашей модели существенно выше случайной, соответственно это показывают высокую точность определения положительных результатов."
   ]
  },
  {
   "cell_type": "markdown",
   "metadata": {},
   "source": [
    "Проведем проверку на адекватность с помощью DummyClassifier."
   ]
  },
  {
   "cell_type": "code",
   "execution_count": 40,
   "metadata": {},
   "outputs": [
    {
     "name": "stdout",
     "output_type": "stream",
     "text": [
      "Accuracy данной модели получился 0.7998350288699477\n"
     ]
    }
   ],
   "source": [
    "model_dummy = DummyClassifier()\n",
    "model_dummy.fit(features_train, target_train)\n",
    "predictions_dummy = model_dummy.predict(features_test1)\n",
    "print(\"Accuracy данной модели получился\", accuracy_score(target_test1, predictions_dummy))"
   ]
  },
  {
   "cell_type": "code",
   "execution_count": 41,
   "metadata": {},
   "outputs": [
    {
     "name": "stdout",
     "output_type": "stream",
     "text": [
      "Accuracy нашей модели получился 0.8402529557327467\n"
     ]
    }
   ],
   "source": [
    "print(\"Accuracy нашей модели получился\", accuracy_score(target_test1, predicted_test))"
   ]
  },
  {
   "cell_type": "markdown",
   "metadata": {},
   "source": [
    "Соответственно проверка на адекватность пройдена."
   ]
  },
  {
   "cell_type": "markdown",
   "metadata": {},
   "source": [
    "Вывод.  \n",
    "  \n",
    "Мы исследовали модели 3 модели для несбалансированных классов. Затем избавились от дисбаланса двумя способами downsampling'ом и upsampling'ом. Обучили случайный лес для них и получили значение метрики f1_score выше того, что нам требовалось. Для финального теста была выбрана модель обученная на данных umpsampling'а(случайный лес с количеством деревьев 90 и максимальной глубиной 14). Для тестовых данных был получен результат f1_score = 0.6175115207373272. Так же была исследована метрика AUC-ROC, которая оказалась равна 0.860214510480925, что говорит нам о высокой точности определения нашей моделью положительных результатов."
   ]
  }
 ],
 "metadata": {
  "ExecuteTimeLog": [
   {
    "duration": 1153,
    "start_time": "2023-10-09T19:56:08.820Z"
   },
   {
    "duration": 190,
    "start_time": "2023-10-09T19:56:44.127Z"
   },
   {
    "duration": 12,
    "start_time": "2023-10-09T19:57:37.817Z"
   },
   {
    "duration": 9,
    "start_time": "2023-10-09T19:57:51.407Z"
   },
   {
    "duration": 109,
    "start_time": "2023-10-09T19:58:11.516Z"
   },
   {
    "duration": 11,
    "start_time": "2023-10-09T20:01:29.529Z"
   },
   {
    "duration": 4,
    "start_time": "2023-10-09T21:37:27.751Z"
   },
   {
    "duration": 15,
    "start_time": "2023-10-09T21:37:33.515Z"
   },
   {
    "duration": 9,
    "start_time": "2023-10-09T21:37:46.122Z"
   },
   {
    "duration": 1128,
    "start_time": "2023-10-09T21:37:51.314Z"
   },
   {
    "duration": 56,
    "start_time": "2023-10-09T21:37:52.443Z"
   },
   {
    "duration": 13,
    "start_time": "2023-10-09T21:37:52.501Z"
   },
   {
    "duration": 8,
    "start_time": "2023-10-09T21:37:52.516Z"
   },
   {
    "duration": 24,
    "start_time": "2023-10-09T21:37:52.526Z"
   },
   {
    "duration": 13,
    "start_time": "2023-10-09T21:37:52.552Z"
   },
   {
    "duration": 7,
    "start_time": "2023-10-09T21:38:27.731Z"
   },
   {
    "duration": 22,
    "start_time": "2023-10-09T21:38:39.012Z"
   },
   {
    "duration": 10,
    "start_time": "2023-10-09T21:38:42.573Z"
   },
   {
    "duration": 13,
    "start_time": "2023-10-09T21:38:52.339Z"
   },
   {
    "duration": 18,
    "start_time": "2023-10-09T21:44:38.846Z"
   },
   {
    "duration": 16,
    "start_time": "2023-10-09T21:44:53.927Z"
   },
   {
    "duration": 22,
    "start_time": "2023-10-09T21:45:38.935Z"
   },
   {
    "duration": 5,
    "start_time": "2023-10-09T21:47:05.312Z"
   },
   {
    "duration": 17,
    "start_time": "2023-10-09T21:47:10.488Z"
   },
   {
    "duration": 5,
    "start_time": "2023-10-09T21:47:17.032Z"
   },
   {
    "duration": 7,
    "start_time": "2023-10-09T21:51:48.923Z"
   },
   {
    "duration": 10,
    "start_time": "2023-10-09T21:52:01.099Z"
   },
   {
    "duration": 11,
    "start_time": "2023-10-09T21:52:09.755Z"
   },
   {
    "duration": 97,
    "start_time": "2023-10-09T21:52:23.627Z"
   },
   {
    "duration": 11,
    "start_time": "2023-10-09T21:52:26.427Z"
   },
   {
    "duration": 9,
    "start_time": "2023-10-09T21:52:49.869Z"
   },
   {
    "duration": 5,
    "start_time": "2023-10-09T21:53:06.299Z"
   },
   {
    "duration": 4,
    "start_time": "2023-10-09T21:53:15.547Z"
   },
   {
    "duration": 4,
    "start_time": "2023-10-09T21:53:35.539Z"
   },
   {
    "duration": 4,
    "start_time": "2023-10-09T21:53:36.577Z"
   },
   {
    "duration": 1465,
    "start_time": "2023-10-10T13:35:25.821Z"
   },
   {
    "duration": 1384,
    "start_time": "2023-10-10T13:35:32.300Z"
   },
   {
    "duration": 120,
    "start_time": "2023-10-10T13:35:33.687Z"
   },
   {
    "duration": 14,
    "start_time": "2023-10-10T13:35:33.809Z"
   },
   {
    "duration": 8,
    "start_time": "2023-10-10T13:35:33.826Z"
   },
   {
    "duration": 53,
    "start_time": "2023-10-10T13:35:33.836Z"
   },
   {
    "duration": 60,
    "start_time": "2023-10-10T13:35:33.891Z"
   },
   {
    "duration": 110,
    "start_time": "2023-10-10T13:35:33.954Z"
   },
   {
    "duration": 49,
    "start_time": "2023-10-10T13:35:34.066Z"
   },
   {
    "duration": 25,
    "start_time": "2023-10-10T13:35:34.117Z"
   },
   {
    "duration": 15,
    "start_time": "2023-10-10T13:35:34.146Z"
   },
   {
    "duration": 22,
    "start_time": "2023-10-10T13:35:34.165Z"
   },
   {
    "duration": 30,
    "start_time": "2023-10-10T13:35:34.189Z"
   },
   {
    "duration": 35,
    "start_time": "2023-10-10T13:35:34.221Z"
   },
   {
    "duration": 16,
    "start_time": "2023-10-10T13:35:34.258Z"
   },
   {
    "duration": 24,
    "start_time": "2023-10-10T13:35:34.276Z"
   },
   {
    "duration": 16,
    "start_time": "2023-10-10T13:35:34.302Z"
   },
   {
    "duration": 142,
    "start_time": "2023-10-10T13:38:03.439Z"
   },
   {
    "duration": 10,
    "start_time": "2023-10-10T13:38:11.735Z"
   },
   {
    "duration": 12,
    "start_time": "2023-10-10T13:38:23.376Z"
   },
   {
    "duration": 8,
    "start_time": "2023-10-10T13:38:32.688Z"
   },
   {
    "duration": 13,
    "start_time": "2023-10-10T13:41:09.087Z"
   },
   {
    "duration": 1332,
    "start_time": "2023-10-10T13:41:15.053Z"
   },
   {
    "duration": 67,
    "start_time": "2023-10-10T13:41:16.388Z"
   },
   {
    "duration": 21,
    "start_time": "2023-10-10T13:41:16.458Z"
   },
   {
    "duration": 9,
    "start_time": "2023-10-10T13:41:16.482Z"
   },
   {
    "duration": 27,
    "start_time": "2023-10-10T13:41:16.493Z"
   },
   {
    "duration": 27,
    "start_time": "2023-10-10T13:41:16.522Z"
   },
   {
    "duration": 27,
    "start_time": "2023-10-10T13:41:16.552Z"
   },
   {
    "duration": 21,
    "start_time": "2023-10-10T13:41:16.581Z"
   },
   {
    "duration": 47,
    "start_time": "2023-10-10T13:41:16.604Z"
   },
   {
    "duration": 15,
    "start_time": "2023-10-10T13:41:16.660Z"
   },
   {
    "duration": 18,
    "start_time": "2023-10-10T13:41:16.677Z"
   },
   {
    "duration": 20,
    "start_time": "2023-10-10T13:41:16.697Z"
   },
   {
    "duration": 38,
    "start_time": "2023-10-10T13:41:16.720Z"
   },
   {
    "duration": 13,
    "start_time": "2023-10-10T13:41:16.760Z"
   },
   {
    "duration": 10,
    "start_time": "2023-10-10T13:41:16.775Z"
   },
   {
    "duration": 12,
    "start_time": "2023-10-10T13:41:16.787Z"
   },
   {
    "duration": 18,
    "start_time": "2023-10-10T13:41:16.801Z"
   },
   {
    "duration": 37,
    "start_time": "2023-10-10T13:41:16.821Z"
   },
   {
    "duration": 9,
    "start_time": "2023-10-10T13:44:33.366Z"
   },
   {
    "duration": 30,
    "start_time": "2023-10-10T13:44:39.501Z"
   },
   {
    "duration": 1286,
    "start_time": "2023-10-10T13:44:50.611Z"
   },
   {
    "duration": 76,
    "start_time": "2023-10-10T13:44:51.900Z"
   },
   {
    "duration": 14,
    "start_time": "2023-10-10T13:44:51.978Z"
   },
   {
    "duration": 33,
    "start_time": "2023-10-10T13:44:51.995Z"
   },
   {
    "duration": 51,
    "start_time": "2023-10-10T13:44:52.030Z"
   },
   {
    "duration": 52,
    "start_time": "2023-10-10T13:44:52.083Z"
   },
   {
    "duration": 47,
    "start_time": "2023-10-10T13:44:52.137Z"
   },
   {
    "duration": 53,
    "start_time": "2023-10-10T13:44:52.185Z"
   },
   {
    "duration": 13,
    "start_time": "2023-10-10T13:44:52.240Z"
   },
   {
    "duration": 20,
    "start_time": "2023-10-10T13:44:52.257Z"
   },
   {
    "duration": 34,
    "start_time": "2023-10-10T13:44:52.279Z"
   },
   {
    "duration": 60,
    "start_time": "2023-10-10T13:44:52.315Z"
   },
   {
    "duration": 50,
    "start_time": "2023-10-10T13:44:52.378Z"
   },
   {
    "duration": 21,
    "start_time": "2023-10-10T13:44:52.431Z"
   },
   {
    "duration": 47,
    "start_time": "2023-10-10T13:44:52.455Z"
   },
   {
    "duration": 20,
    "start_time": "2023-10-10T13:44:52.503Z"
   },
   {
    "duration": 44,
    "start_time": "2023-10-10T13:44:52.525Z"
   },
   {
    "duration": 42,
    "start_time": "2023-10-10T13:44:52.572Z"
   },
   {
    "duration": 9,
    "start_time": "2023-10-10T13:45:37.925Z"
   },
   {
    "duration": 11,
    "start_time": "2023-10-10T13:45:42.614Z"
   },
   {
    "duration": 21,
    "start_time": "2023-10-10T13:45:48.021Z"
   },
   {
    "duration": 14,
    "start_time": "2023-10-10T13:46:27.351Z"
   },
   {
    "duration": 10,
    "start_time": "2023-10-10T13:47:03.029Z"
   },
   {
    "duration": 7,
    "start_time": "2023-10-10T13:47:03.774Z"
   },
   {
    "duration": 3,
    "start_time": "2023-10-10T13:50:00.176Z"
   },
   {
    "duration": 300,
    "start_time": "2023-10-10T13:50:43.479Z"
   },
   {
    "duration": 341,
    "start_time": "2023-10-10T13:51:36.071Z"
   },
   {
    "duration": 6943,
    "start_time": "2023-10-10T13:54:32.329Z"
   },
   {
    "duration": 7317,
    "start_time": "2023-10-10T13:55:22.194Z"
   },
   {
    "duration": 234,
    "start_time": "2023-10-10T14:57:51.414Z"
   },
   {
    "duration": 5,
    "start_time": "2023-10-10T15:05:01.683Z"
   },
   {
    "duration": 6,
    "start_time": "2023-10-10T15:05:10.660Z"
   },
   {
    "duration": 5,
    "start_time": "2023-10-10T15:05:23.900Z"
   },
   {
    "duration": 5,
    "start_time": "2023-10-10T15:05:38.987Z"
   },
   {
    "duration": 20,
    "start_time": "2023-10-10T15:16:40.351Z"
   },
   {
    "duration": 4,
    "start_time": "2023-10-10T16:21:21.177Z"
   },
   {
    "duration": 5,
    "start_time": "2023-10-10T16:21:51.689Z"
   },
   {
    "duration": 11,
    "start_time": "2023-10-10T16:22:42.850Z"
   },
   {
    "duration": 8526,
    "start_time": "2023-10-10T16:24:24.610Z"
   },
   {
    "duration": 5,
    "start_time": "2023-10-10T16:29:23.866Z"
   },
   {
    "duration": 8,
    "start_time": "2023-10-10T16:29:57.835Z"
   },
   {
    "duration": 8614,
    "start_time": "2023-10-10T16:31:11.603Z"
   },
   {
    "duration": 4209,
    "start_time": "2023-10-10T16:31:31.027Z"
   },
   {
    "duration": 17,
    "start_time": "2023-10-10T16:31:46.619Z"
   },
   {
    "duration": 6,
    "start_time": "2023-10-10T16:31:51.719Z"
   },
   {
    "duration": 8588,
    "start_time": "2023-10-10T16:32:37.388Z"
   },
   {
    "duration": 4148,
    "start_time": "2023-10-10T16:33:03.524Z"
   },
   {
    "duration": 28,
    "start_time": "2023-10-10T16:36:38.357Z"
   },
   {
    "duration": 5,
    "start_time": "2023-10-10T16:36:50.941Z"
   },
   {
    "duration": 22,
    "start_time": "2023-10-10T16:37:18.013Z"
   },
   {
    "duration": 82342,
    "start_time": "2023-10-10T16:37:42.405Z"
   },
   {
    "duration": 35749,
    "start_time": "2023-10-10T16:39:11.694Z"
   },
   {
    "duration": 4,
    "start_time": "2023-10-10T16:39:47.447Z"
   },
   {
    "duration": 44,
    "start_time": "2023-10-10T16:39:54.918Z"
   },
   {
    "duration": 4,
    "start_time": "2023-10-10T16:45:53.841Z"
   },
   {
    "duration": 4,
    "start_time": "2023-10-10T16:46:40.345Z"
   },
   {
    "duration": 4,
    "start_time": "2023-10-10T16:46:48.602Z"
   },
   {
    "duration": 44,
    "start_time": "2023-10-10T16:49:40.363Z"
   },
   {
    "duration": 1249,
    "start_time": "2023-10-11T14:18:10.305Z"
   },
   {
    "duration": 1105,
    "start_time": "2023-10-11T14:18:30.554Z"
   },
   {
    "duration": 103,
    "start_time": "2023-10-11T14:18:31.661Z"
   },
   {
    "duration": 14,
    "start_time": "2023-10-11T14:18:31.766Z"
   },
   {
    "duration": 25,
    "start_time": "2023-10-11T14:18:31.783Z"
   },
   {
    "duration": 35,
    "start_time": "2023-10-11T14:18:31.810Z"
   },
   {
    "duration": 21,
    "start_time": "2023-10-11T14:18:31.846Z"
   },
   {
    "duration": 58,
    "start_time": "2023-10-11T14:18:31.869Z"
   },
   {
    "duration": 45,
    "start_time": "2023-10-11T14:18:31.929Z"
   },
   {
    "duration": 47,
    "start_time": "2023-10-11T14:18:31.976Z"
   },
   {
    "duration": 28,
    "start_time": "2023-10-11T14:18:32.026Z"
   },
   {
    "duration": 22,
    "start_time": "2023-10-11T14:18:32.056Z"
   },
   {
    "duration": 26,
    "start_time": "2023-10-11T14:18:32.080Z"
   },
   {
    "duration": 30,
    "start_time": "2023-10-11T14:18:32.107Z"
   },
   {
    "duration": 14,
    "start_time": "2023-10-11T14:18:32.139Z"
   },
   {
    "duration": 24,
    "start_time": "2023-10-11T14:18:32.154Z"
   },
   {
    "duration": 55,
    "start_time": "2023-10-11T14:18:32.179Z"
   },
   {
    "duration": 44,
    "start_time": "2023-10-11T14:18:32.236Z"
   },
   {
    "duration": 20,
    "start_time": "2023-10-11T14:18:32.283Z"
   },
   {
    "duration": 30,
    "start_time": "2023-10-11T14:18:32.305Z"
   },
   {
    "duration": 131,
    "start_time": "2023-10-11T14:18:32.337Z"
   },
   {
    "duration": 0,
    "start_time": "2023-10-11T14:18:32.471Z"
   },
   {
    "duration": 0,
    "start_time": "2023-10-11T14:18:32.472Z"
   },
   {
    "duration": 0,
    "start_time": "2023-10-11T14:18:32.473Z"
   },
   {
    "duration": 0,
    "start_time": "2023-10-11T14:18:32.474Z"
   },
   {
    "duration": 0,
    "start_time": "2023-10-11T14:18:32.475Z"
   },
   {
    "duration": 0,
    "start_time": "2023-10-11T14:18:32.476Z"
   },
   {
    "duration": 0,
    "start_time": "2023-10-11T14:18:32.477Z"
   },
   {
    "duration": 1,
    "start_time": "2023-10-11T14:18:32.478Z"
   },
   {
    "duration": 0,
    "start_time": "2023-10-11T14:18:32.480Z"
   },
   {
    "duration": 0,
    "start_time": "2023-10-11T14:18:32.480Z"
   },
   {
    "duration": 0,
    "start_time": "2023-10-11T14:18:32.481Z"
   },
   {
    "duration": 0,
    "start_time": "2023-10-11T14:18:32.482Z"
   },
   {
    "duration": 0,
    "start_time": "2023-10-11T14:18:32.483Z"
   },
   {
    "duration": 0,
    "start_time": "2023-10-11T14:18:32.485Z"
   },
   {
    "duration": 0,
    "start_time": "2023-10-11T14:18:32.486Z"
   },
   {
    "duration": 12,
    "start_time": "2023-10-11T14:21:26.659Z"
   },
   {
    "duration": 11,
    "start_time": "2023-10-11T14:21:33.459Z"
   },
   {
    "duration": 6,
    "start_time": "2023-10-11T14:23:32.345Z"
   },
   {
    "duration": 13,
    "start_time": "2023-10-11T14:23:40.696Z"
   },
   {
    "duration": 12,
    "start_time": "2023-10-11T14:24:05.135Z"
   },
   {
    "duration": 3,
    "start_time": "2023-10-11T14:25:19.439Z"
   },
   {
    "duration": 13,
    "start_time": "2023-10-11T14:29:39.324Z"
   },
   {
    "duration": 12,
    "start_time": "2023-10-11T14:30:26.772Z"
   },
   {
    "duration": 1147,
    "start_time": "2023-10-11T14:30:42.013Z"
   },
   {
    "duration": 60,
    "start_time": "2023-10-11T14:30:43.162Z"
   },
   {
    "duration": 13,
    "start_time": "2023-10-11T14:30:43.226Z"
   },
   {
    "duration": 21,
    "start_time": "2023-10-11T14:30:43.241Z"
   },
   {
    "duration": 23,
    "start_time": "2023-10-11T14:30:43.263Z"
   },
   {
    "duration": 40,
    "start_time": "2023-10-11T14:30:43.287Z"
   },
   {
    "duration": 16,
    "start_time": "2023-10-11T14:30:43.328Z"
   },
   {
    "duration": 8,
    "start_time": "2023-10-11T14:30:43.345Z"
   },
   {
    "duration": 13,
    "start_time": "2023-10-11T14:30:43.355Z"
   },
   {
    "duration": 31,
    "start_time": "2023-10-11T14:30:43.369Z"
   },
   {
    "duration": 5,
    "start_time": "2023-10-11T14:30:43.402Z"
   },
   {
    "duration": 12,
    "start_time": "2023-10-11T14:30:43.408Z"
   },
   {
    "duration": 27,
    "start_time": "2023-10-11T14:30:43.422Z"
   },
   {
    "duration": 41,
    "start_time": "2023-10-11T14:30:43.450Z"
   },
   {
    "duration": 49,
    "start_time": "2023-10-11T14:30:43.493Z"
   },
   {
    "duration": 26,
    "start_time": "2023-10-11T14:30:43.543Z"
   },
   {
    "duration": 44,
    "start_time": "2023-10-11T14:30:43.570Z"
   },
   {
    "duration": 14,
    "start_time": "2023-10-11T14:30:43.616Z"
   },
   {
    "duration": 18,
    "start_time": "2023-10-11T14:30:43.631Z"
   },
   {
    "duration": 23,
    "start_time": "2023-10-11T14:30:43.651Z"
   },
   {
    "duration": 111,
    "start_time": "2023-10-11T14:30:43.676Z"
   },
   {
    "duration": 0,
    "start_time": "2023-10-11T14:30:43.790Z"
   },
   {
    "duration": 1,
    "start_time": "2023-10-11T14:30:43.791Z"
   },
   {
    "duration": 0,
    "start_time": "2023-10-11T14:30:43.793Z"
   },
   {
    "duration": 0,
    "start_time": "2023-10-11T14:30:43.794Z"
   },
   {
    "duration": 0,
    "start_time": "2023-10-11T14:30:43.795Z"
   },
   {
    "duration": 0,
    "start_time": "2023-10-11T14:30:43.797Z"
   },
   {
    "duration": 0,
    "start_time": "2023-10-11T14:30:43.799Z"
   },
   {
    "duration": 0,
    "start_time": "2023-10-11T14:30:43.800Z"
   },
   {
    "duration": 0,
    "start_time": "2023-10-11T14:30:43.801Z"
   },
   {
    "duration": 0,
    "start_time": "2023-10-11T14:30:43.823Z"
   },
   {
    "duration": 0,
    "start_time": "2023-10-11T14:30:43.824Z"
   },
   {
    "duration": 0,
    "start_time": "2023-10-11T14:30:43.826Z"
   },
   {
    "duration": 0,
    "start_time": "2023-10-11T14:30:43.828Z"
   },
   {
    "duration": 0,
    "start_time": "2023-10-11T14:30:43.829Z"
   },
   {
    "duration": 0,
    "start_time": "2023-10-11T14:30:43.831Z"
   },
   {
    "duration": 0,
    "start_time": "2023-10-11T14:30:43.832Z"
   },
   {
    "duration": 0,
    "start_time": "2023-10-11T14:30:43.833Z"
   },
   {
    "duration": 0,
    "start_time": "2023-10-11T14:30:43.834Z"
   },
   {
    "duration": 8,
    "start_time": "2023-10-11T14:31:16.412Z"
   },
   {
    "duration": 23,
    "start_time": "2023-10-11T14:31:31.268Z"
   },
   {
    "duration": 21,
    "start_time": "2023-10-11T14:33:09.733Z"
   },
   {
    "duration": 18,
    "start_time": "2023-10-11T14:33:26.005Z"
   },
   {
    "duration": 6,
    "start_time": "2023-10-11T14:34:45.812Z"
   },
   {
    "duration": 19,
    "start_time": "2023-10-11T14:34:53.133Z"
   },
   {
    "duration": 17,
    "start_time": "2023-10-11T14:34:54.069Z"
   },
   {
    "duration": 3,
    "start_time": "2023-10-11T14:35:14.437Z"
   },
   {
    "duration": 1122,
    "start_time": "2023-10-11T14:35:21.452Z"
   },
   {
    "duration": 60,
    "start_time": "2023-10-11T14:35:22.577Z"
   },
   {
    "duration": 13,
    "start_time": "2023-10-11T14:35:22.638Z"
   },
   {
    "duration": 39,
    "start_time": "2023-10-11T14:35:22.653Z"
   },
   {
    "duration": 42,
    "start_time": "2023-10-11T14:35:22.694Z"
   },
   {
    "duration": 54,
    "start_time": "2023-10-11T14:35:22.738Z"
   },
   {
    "duration": 126,
    "start_time": "2023-10-11T14:35:22.794Z"
   },
   {
    "duration": 97,
    "start_time": "2023-10-11T14:35:22.922Z"
   },
   {
    "duration": 56,
    "start_time": "2023-10-11T14:35:23.021Z"
   },
   {
    "duration": 108,
    "start_time": "2023-10-11T14:35:23.080Z"
   },
   {
    "duration": 95,
    "start_time": "2023-10-11T14:35:23.190Z"
   },
   {
    "duration": 55,
    "start_time": "2023-10-11T14:35:23.287Z"
   },
   {
    "duration": 44,
    "start_time": "2023-10-11T14:35:23.344Z"
   },
   {
    "duration": 18,
    "start_time": "2023-10-11T14:35:23.389Z"
   },
   {
    "duration": 21,
    "start_time": "2023-10-11T14:35:23.409Z"
   },
   {
    "duration": 12,
    "start_time": "2023-10-11T14:35:23.432Z"
   },
   {
    "duration": 32,
    "start_time": "2023-10-11T14:35:23.445Z"
   },
   {
    "duration": 25,
    "start_time": "2023-10-11T14:35:23.479Z"
   },
   {
    "duration": 48,
    "start_time": "2023-10-11T14:35:23.505Z"
   },
   {
    "duration": 75,
    "start_time": "2023-10-11T14:35:23.555Z"
   },
   {
    "duration": 144,
    "start_time": "2023-10-11T14:35:23.632Z"
   },
   {
    "duration": 0,
    "start_time": "2023-10-11T14:35:23.778Z"
   },
   {
    "duration": 0,
    "start_time": "2023-10-11T14:35:23.779Z"
   },
   {
    "duration": 0,
    "start_time": "2023-10-11T14:35:23.780Z"
   },
   {
    "duration": 0,
    "start_time": "2023-10-11T14:35:23.781Z"
   },
   {
    "duration": 0,
    "start_time": "2023-10-11T14:35:23.782Z"
   },
   {
    "duration": 0,
    "start_time": "2023-10-11T14:35:23.783Z"
   },
   {
    "duration": 0,
    "start_time": "2023-10-11T14:35:23.784Z"
   },
   {
    "duration": 0,
    "start_time": "2023-10-11T14:35:23.785Z"
   },
   {
    "duration": 0,
    "start_time": "2023-10-11T14:35:23.786Z"
   },
   {
    "duration": 0,
    "start_time": "2023-10-11T14:35:23.787Z"
   },
   {
    "duration": 0,
    "start_time": "2023-10-11T14:35:23.788Z"
   },
   {
    "duration": 0,
    "start_time": "2023-10-11T14:35:23.789Z"
   },
   {
    "duration": 0,
    "start_time": "2023-10-11T14:35:23.790Z"
   },
   {
    "duration": 0,
    "start_time": "2023-10-11T14:35:23.791Z"
   },
   {
    "duration": 0,
    "start_time": "2023-10-11T14:35:23.792Z"
   },
   {
    "duration": 0,
    "start_time": "2023-10-11T14:35:23.824Z"
   },
   {
    "duration": 0,
    "start_time": "2023-10-11T14:35:23.826Z"
   },
   {
    "duration": 0,
    "start_time": "2023-10-11T14:35:23.827Z"
   },
   {
    "duration": 4,
    "start_time": "2023-10-11T14:39:04.765Z"
   },
   {
    "duration": 23,
    "start_time": "2023-10-11T14:39:15.798Z"
   },
   {
    "duration": 9,
    "start_time": "2023-10-11T14:41:46.527Z"
   },
   {
    "duration": 13,
    "start_time": "2023-10-11T14:41:55.006Z"
   },
   {
    "duration": 19,
    "start_time": "2023-10-11T14:42:18.303Z"
   },
   {
    "duration": 31,
    "start_time": "2023-10-11T14:42:41.367Z"
   },
   {
    "duration": 15,
    "start_time": "2023-10-11T14:43:07.327Z"
   },
   {
    "duration": 10,
    "start_time": "2023-10-11T14:43:13.495Z"
   },
   {
    "duration": 11,
    "start_time": "2023-10-11T14:43:18.400Z"
   },
   {
    "duration": 4,
    "start_time": "2023-10-11T14:43:28.007Z"
   },
   {
    "duration": 5,
    "start_time": "2023-10-11T17:50:34.759Z"
   },
   {
    "duration": 1153,
    "start_time": "2023-10-11T17:51:19.599Z"
   },
   {
    "duration": 71,
    "start_time": "2023-10-11T17:51:20.755Z"
   },
   {
    "duration": 13,
    "start_time": "2023-10-11T17:51:20.828Z"
   },
   {
    "duration": 22,
    "start_time": "2023-10-11T17:51:20.844Z"
   },
   {
    "duration": 12,
    "start_time": "2023-10-11T17:51:20.868Z"
   },
   {
    "duration": 20,
    "start_time": "2023-10-11T17:51:20.882Z"
   },
   {
    "duration": 32,
    "start_time": "2023-10-11T17:51:20.904Z"
   },
   {
    "duration": 2,
    "start_time": "2023-10-11T17:51:20.938Z"
   },
   {
    "duration": 27,
    "start_time": "2023-10-11T17:51:20.942Z"
   },
   {
    "duration": 27,
    "start_time": "2023-10-11T17:51:20.972Z"
   },
   {
    "duration": 5,
    "start_time": "2023-10-11T17:51:21.001Z"
   },
   {
    "duration": 19,
    "start_time": "2023-10-11T17:51:21.007Z"
   },
   {
    "duration": 19,
    "start_time": "2023-10-11T17:51:21.028Z"
   },
   {
    "duration": 17,
    "start_time": "2023-10-11T17:51:21.049Z"
   },
   {
    "duration": 33,
    "start_time": "2023-10-11T17:51:21.067Z"
   },
   {
    "duration": 18,
    "start_time": "2023-10-11T17:51:21.102Z"
   },
   {
    "duration": 8,
    "start_time": "2023-10-11T17:51:21.122Z"
   },
   {
    "duration": 8,
    "start_time": "2023-10-11T17:51:21.132Z"
   },
   {
    "duration": 14,
    "start_time": "2023-10-11T17:51:21.142Z"
   },
   {
    "duration": 25,
    "start_time": "2023-10-11T17:51:21.157Z"
   },
   {
    "duration": 21,
    "start_time": "2023-10-11T17:51:21.184Z"
   },
   {
    "duration": 33,
    "start_time": "2023-10-11T17:51:21.207Z"
   },
   {
    "duration": 13,
    "start_time": "2023-10-11T17:51:21.242Z"
   },
   {
    "duration": 10,
    "start_time": "2023-10-11T17:51:21.257Z"
   },
   {
    "duration": 24,
    "start_time": "2023-10-11T17:51:21.269Z"
   },
   {
    "duration": 114,
    "start_time": "2023-10-11T17:51:21.295Z"
   },
   {
    "duration": 0,
    "start_time": "2023-10-11T17:51:21.411Z"
   },
   {
    "duration": 0,
    "start_time": "2023-10-11T17:51:21.413Z"
   },
   {
    "duration": 0,
    "start_time": "2023-10-11T17:51:21.414Z"
   },
   {
    "duration": 0,
    "start_time": "2023-10-11T17:51:21.415Z"
   },
   {
    "duration": 0,
    "start_time": "2023-10-11T17:51:21.416Z"
   },
   {
    "duration": 0,
    "start_time": "2023-10-11T17:51:21.424Z"
   },
   {
    "duration": 0,
    "start_time": "2023-10-11T17:51:21.426Z"
   },
   {
    "duration": 0,
    "start_time": "2023-10-11T17:51:21.427Z"
   },
   {
    "duration": 0,
    "start_time": "2023-10-11T17:51:21.428Z"
   },
   {
    "duration": 0,
    "start_time": "2023-10-11T17:51:21.429Z"
   },
   {
    "duration": 0,
    "start_time": "2023-10-11T17:51:21.431Z"
   },
   {
    "duration": 0,
    "start_time": "2023-10-11T17:51:21.433Z"
   },
   {
    "duration": 1,
    "start_time": "2023-10-11T17:51:21.433Z"
   },
   {
    "duration": 0,
    "start_time": "2023-10-11T17:51:21.434Z"
   },
   {
    "duration": 15,
    "start_time": "2023-10-11T17:51:40.966Z"
   },
   {
    "duration": 1127,
    "start_time": "2023-10-11T17:51:48.062Z"
   },
   {
    "duration": 61,
    "start_time": "2023-10-11T17:51:49.192Z"
   },
   {
    "duration": 14,
    "start_time": "2023-10-11T17:51:49.255Z"
   },
   {
    "duration": 25,
    "start_time": "2023-10-11T17:51:49.272Z"
   },
   {
    "duration": 28,
    "start_time": "2023-10-11T17:51:49.299Z"
   },
   {
    "duration": 27,
    "start_time": "2023-10-11T17:51:49.329Z"
   },
   {
    "duration": 38,
    "start_time": "2023-10-11T17:51:49.358Z"
   },
   {
    "duration": 31,
    "start_time": "2023-10-11T17:51:49.397Z"
   },
   {
    "duration": 99,
    "start_time": "2023-10-11T17:51:49.429Z"
   },
   {
    "duration": 38,
    "start_time": "2023-10-11T17:51:49.531Z"
   },
   {
    "duration": 16,
    "start_time": "2023-10-11T17:51:49.571Z"
   },
   {
    "duration": 39,
    "start_time": "2023-10-11T17:51:49.589Z"
   },
   {
    "duration": 55,
    "start_time": "2023-10-11T17:51:49.630Z"
   },
   {
    "duration": 35,
    "start_time": "2023-10-11T17:51:49.686Z"
   },
   {
    "duration": 37,
    "start_time": "2023-10-11T17:51:49.722Z"
   },
   {
    "duration": 28,
    "start_time": "2023-10-11T17:51:49.761Z"
   },
   {
    "duration": 27,
    "start_time": "2023-10-11T17:51:49.791Z"
   },
   {
    "duration": 31,
    "start_time": "2023-10-11T17:51:49.819Z"
   },
   {
    "duration": 40,
    "start_time": "2023-10-11T17:51:49.852Z"
   },
   {
    "duration": 36,
    "start_time": "2023-10-11T17:51:49.895Z"
   },
   {
    "duration": 144,
    "start_time": "2023-10-11T17:51:49.933Z"
   },
   {
    "duration": 0,
    "start_time": "2023-10-11T17:51:50.079Z"
   },
   {
    "duration": 0,
    "start_time": "2023-10-11T17:51:50.080Z"
   },
   {
    "duration": 0,
    "start_time": "2023-10-11T17:51:50.081Z"
   },
   {
    "duration": 0,
    "start_time": "2023-10-11T17:51:50.083Z"
   },
   {
    "duration": 0,
    "start_time": "2023-10-11T17:51:50.083Z"
   },
   {
    "duration": 0,
    "start_time": "2023-10-11T17:51:50.084Z"
   },
   {
    "duration": 0,
    "start_time": "2023-10-11T17:51:50.085Z"
   },
   {
    "duration": 0,
    "start_time": "2023-10-11T17:51:50.086Z"
   },
   {
    "duration": 0,
    "start_time": "2023-10-11T17:51:50.087Z"
   },
   {
    "duration": 0,
    "start_time": "2023-10-11T17:51:50.088Z"
   },
   {
    "duration": 0,
    "start_time": "2023-10-11T17:51:50.089Z"
   },
   {
    "duration": 0,
    "start_time": "2023-10-11T17:51:50.090Z"
   },
   {
    "duration": 0,
    "start_time": "2023-10-11T17:51:50.091Z"
   },
   {
    "duration": 0,
    "start_time": "2023-10-11T17:51:50.092Z"
   },
   {
    "duration": 0,
    "start_time": "2023-10-11T17:51:50.093Z"
   },
   {
    "duration": 0,
    "start_time": "2023-10-11T17:51:50.094Z"
   },
   {
    "duration": 0,
    "start_time": "2023-10-11T17:51:50.095Z"
   },
   {
    "duration": 0,
    "start_time": "2023-10-11T17:51:50.124Z"
   },
   {
    "duration": 0,
    "start_time": "2023-10-11T17:51:50.125Z"
   },
   {
    "duration": 15,
    "start_time": "2023-10-11T17:52:20.135Z"
   },
   {
    "duration": 21,
    "start_time": "2023-10-11T17:53:53.201Z"
   },
   {
    "duration": 13,
    "start_time": "2023-10-11T17:54:01.408Z"
   },
   {
    "duration": 4,
    "start_time": "2023-10-11T17:54:48.226Z"
   },
   {
    "duration": 12,
    "start_time": "2023-10-11T17:54:53.674Z"
   },
   {
    "duration": 12,
    "start_time": "2023-10-11T17:54:54.482Z"
   },
   {
    "duration": 12,
    "start_time": "2023-10-11T17:54:54.674Z"
   },
   {
    "duration": 12,
    "start_time": "2023-10-11T17:54:54.765Z"
   },
   {
    "duration": 12,
    "start_time": "2023-10-11T17:54:54.914Z"
   },
   {
    "duration": 8,
    "start_time": "2023-10-11T17:56:24.187Z"
   },
   {
    "duration": 34,
    "start_time": "2023-10-11T17:56:36.738Z"
   },
   {
    "duration": 33,
    "start_time": "2023-10-11T17:56:38.636Z"
   },
   {
    "duration": 30,
    "start_time": "2023-10-11T17:57:17.263Z"
   },
   {
    "duration": 12,
    "start_time": "2023-10-11T17:58:05.569Z"
   },
   {
    "duration": 4,
    "start_time": "2023-10-11T17:58:08.741Z"
   },
   {
    "duration": 34,
    "start_time": "2023-10-11T17:59:11.362Z"
   },
   {
    "duration": 29,
    "start_time": "2023-10-11T17:59:18.775Z"
   },
   {
    "duration": 6,
    "start_time": "2023-10-11T17:59:20.046Z"
   },
   {
    "duration": 33,
    "start_time": "2023-10-11T17:59:39.006Z"
   },
   {
    "duration": 16,
    "start_time": "2023-10-11T18:00:51.566Z"
   },
   {
    "duration": 1061,
    "start_time": "2023-10-11T18:01:07.278Z"
   },
   {
    "duration": 62,
    "start_time": "2023-10-11T18:01:08.342Z"
   },
   {
    "duration": 60,
    "start_time": "2023-10-11T18:01:08.406Z"
   },
   {
    "duration": 31,
    "start_time": "2023-10-11T18:01:08.468Z"
   },
   {
    "duration": 38,
    "start_time": "2023-10-11T18:01:08.501Z"
   },
   {
    "duration": 14,
    "start_time": "2023-10-11T18:01:08.540Z"
   },
   {
    "duration": 38,
    "start_time": "2023-10-11T18:01:08.555Z"
   },
   {
    "duration": 24,
    "start_time": "2023-10-11T18:01:08.594Z"
   },
   {
    "duration": 34,
    "start_time": "2023-10-11T18:01:08.620Z"
   },
   {
    "duration": 63,
    "start_time": "2023-10-11T18:01:08.656Z"
   },
   {
    "duration": 65,
    "start_time": "2023-10-11T18:01:08.721Z"
   },
   {
    "duration": 183,
    "start_time": "2023-10-11T18:01:08.787Z"
   },
   {
    "duration": 46,
    "start_time": "2023-10-11T18:01:08.972Z"
   },
   {
    "duration": 35,
    "start_time": "2023-10-11T18:01:09.021Z"
   },
   {
    "duration": 180,
    "start_time": "2023-10-11T18:01:09.057Z"
   },
   {
    "duration": 35,
    "start_time": "2023-10-11T18:01:09.238Z"
   },
   {
    "duration": 62,
    "start_time": "2023-10-11T18:01:09.275Z"
   },
   {
    "duration": 53,
    "start_time": "2023-10-11T18:01:09.338Z"
   },
   {
    "duration": 105,
    "start_time": "2023-10-11T18:01:09.393Z"
   },
   {
    "duration": 118,
    "start_time": "2023-10-11T18:01:09.500Z"
   },
   {
    "duration": 77,
    "start_time": "2023-10-11T18:01:09.620Z"
   },
   {
    "duration": 188,
    "start_time": "2023-10-11T18:01:09.698Z"
   },
   {
    "duration": 79,
    "start_time": "2023-10-11T18:01:09.888Z"
   },
   {
    "duration": 51,
    "start_time": "2023-10-11T18:01:09.968Z"
   },
   {
    "duration": 49,
    "start_time": "2023-10-11T18:01:10.020Z"
   },
   {
    "duration": 201,
    "start_time": "2023-10-11T18:01:10.070Z"
   },
   {
    "duration": 0,
    "start_time": "2023-10-11T18:01:10.274Z"
   },
   {
    "duration": 0,
    "start_time": "2023-10-11T18:01:10.275Z"
   },
   {
    "duration": 0,
    "start_time": "2023-10-11T18:01:10.276Z"
   },
   {
    "duration": 0,
    "start_time": "2023-10-11T18:01:10.277Z"
   },
   {
    "duration": 0,
    "start_time": "2023-10-11T18:01:10.278Z"
   },
   {
    "duration": 0,
    "start_time": "2023-10-11T18:01:10.281Z"
   },
   {
    "duration": 0,
    "start_time": "2023-10-11T18:01:10.282Z"
   },
   {
    "duration": 0,
    "start_time": "2023-10-11T18:01:10.283Z"
   },
   {
    "duration": 0,
    "start_time": "2023-10-11T18:01:10.284Z"
   },
   {
    "duration": 0,
    "start_time": "2023-10-11T18:01:10.286Z"
   },
   {
    "duration": 0,
    "start_time": "2023-10-11T18:01:10.287Z"
   },
   {
    "duration": 0,
    "start_time": "2023-10-11T18:01:10.289Z"
   },
   {
    "duration": 0,
    "start_time": "2023-10-11T18:01:10.291Z"
   },
   {
    "duration": 0,
    "start_time": "2023-10-11T18:01:10.292Z"
   },
   {
    "duration": 47,
    "start_time": "2023-10-11T18:01:52.497Z"
   },
   {
    "duration": 15,
    "start_time": "2023-10-11T18:02:18.073Z"
   },
   {
    "duration": 1159,
    "start_time": "2023-10-11T18:02:25.495Z"
   },
   {
    "duration": 61,
    "start_time": "2023-10-11T18:02:26.655Z"
   },
   {
    "duration": 13,
    "start_time": "2023-10-11T18:02:26.717Z"
   },
   {
    "duration": 43,
    "start_time": "2023-10-11T18:02:26.731Z"
   },
   {
    "duration": 23,
    "start_time": "2023-10-11T18:02:26.776Z"
   },
   {
    "duration": 21,
    "start_time": "2023-10-11T18:02:26.800Z"
   },
   {
    "duration": 66,
    "start_time": "2023-10-11T18:02:26.823Z"
   },
   {
    "duration": 17,
    "start_time": "2023-10-11T18:02:26.891Z"
   },
   {
    "duration": 59,
    "start_time": "2023-10-11T18:02:26.910Z"
   },
   {
    "duration": 25,
    "start_time": "2023-10-11T18:02:26.972Z"
   },
   {
    "duration": 7,
    "start_time": "2023-10-11T18:02:26.999Z"
   },
   {
    "duration": 48,
    "start_time": "2023-10-11T18:02:27.007Z"
   },
   {
    "duration": 49,
    "start_time": "2023-10-11T18:02:27.057Z"
   },
   {
    "duration": 26,
    "start_time": "2023-10-11T18:02:27.108Z"
   },
   {
    "duration": 47,
    "start_time": "2023-10-11T18:02:27.136Z"
   },
   {
    "duration": 20,
    "start_time": "2023-10-11T18:02:27.185Z"
   },
   {
    "duration": 11,
    "start_time": "2023-10-11T18:02:27.207Z"
   },
   {
    "duration": 22,
    "start_time": "2023-10-11T18:02:27.220Z"
   },
   {
    "duration": 37,
    "start_time": "2023-10-11T18:02:27.244Z"
   },
   {
    "duration": 20,
    "start_time": "2023-10-11T18:02:27.283Z"
   },
   {
    "duration": 41,
    "start_time": "2023-10-11T18:02:27.305Z"
   },
   {
    "duration": 58,
    "start_time": "2023-10-11T18:02:27.348Z"
   },
   {
    "duration": 4,
    "start_time": "2023-10-11T18:02:27.408Z"
   },
   {
    "duration": 28,
    "start_time": "2023-10-11T18:02:27.414Z"
   },
   {
    "duration": 68,
    "start_time": "2023-10-11T18:02:27.443Z"
   },
   {
    "duration": 20,
    "start_time": "2023-10-11T18:02:27.512Z"
   },
   {
    "duration": 35,
    "start_time": "2023-10-11T18:02:27.533Z"
   },
   {
    "duration": 290,
    "start_time": "2023-10-11T18:02:27.571Z"
   },
   {
    "duration": 5359,
    "start_time": "2023-10-11T18:02:27.863Z"
   },
   {
    "duration": 205,
    "start_time": "2023-10-11T18:02:33.224Z"
   },
   {
    "duration": 203,
    "start_time": "2023-10-11T18:02:33.432Z"
   },
   {
    "duration": 258,
    "start_time": "2023-10-11T18:02:33.637Z"
   },
   {
    "duration": 66938,
    "start_time": "2023-10-11T18:02:33.897Z"
   },
   {
    "duration": 4,
    "start_time": "2023-10-11T18:03:40.837Z"
   },
   {
    "duration": 106,
    "start_time": "2023-10-11T18:03:40.843Z"
   },
   {
    "duration": 59,
    "start_time": "2023-10-11T18:03:40.951Z"
   },
   {
    "duration": 29630,
    "start_time": "2023-10-11T18:03:41.012Z"
   },
   {
    "duration": 5,
    "start_time": "2023-10-11T18:04:10.643Z"
   },
   {
    "duration": 123,
    "start_time": "2023-10-11T18:04:10.650Z"
   },
   {
    "duration": 99,
    "start_time": "2023-10-11T18:04:10.775Z"
   },
   {
    "duration": 4,
    "start_time": "2023-10-11T18:07:53.781Z"
   },
   {
    "duration": 1173,
    "start_time": "2023-10-11T18:07:58.803Z"
   },
   {
    "duration": 60,
    "start_time": "2023-10-11T18:07:59.978Z"
   },
   {
    "duration": 13,
    "start_time": "2023-10-11T18:08:00.040Z"
   },
   {
    "duration": 74,
    "start_time": "2023-10-11T18:08:00.055Z"
   },
   {
    "duration": 41,
    "start_time": "2023-10-11T18:08:00.131Z"
   },
   {
    "duration": 40,
    "start_time": "2023-10-11T18:08:00.174Z"
   },
   {
    "duration": 70,
    "start_time": "2023-10-11T18:08:00.216Z"
   },
   {
    "duration": 57,
    "start_time": "2023-10-11T18:08:00.288Z"
   },
   {
    "duration": 154,
    "start_time": "2023-10-11T18:08:00.347Z"
   },
   {
    "duration": 201,
    "start_time": "2023-10-11T18:08:00.504Z"
   },
   {
    "duration": 80,
    "start_time": "2023-10-11T18:08:00.707Z"
   },
   {
    "duration": 113,
    "start_time": "2023-10-11T18:08:00.789Z"
   },
   {
    "duration": 55,
    "start_time": "2023-10-11T18:08:00.903Z"
   },
   {
    "duration": 81,
    "start_time": "2023-10-11T18:08:00.960Z"
   },
   {
    "duration": 99,
    "start_time": "2023-10-11T18:08:01.043Z"
   },
   {
    "duration": 78,
    "start_time": "2023-10-11T18:08:01.144Z"
   },
   {
    "duration": 239,
    "start_time": "2023-10-11T18:08:01.224Z"
   },
   {
    "duration": 247,
    "start_time": "2023-10-11T18:08:01.465Z"
   },
   {
    "duration": 149,
    "start_time": "2023-10-11T18:08:01.714Z"
   },
   {
    "duration": 214,
    "start_time": "2023-10-11T18:08:01.865Z"
   },
   {
    "duration": 54,
    "start_time": "2023-10-11T18:08:02.080Z"
   },
   {
    "duration": 28,
    "start_time": "2023-10-11T18:08:02.136Z"
   },
   {
    "duration": 62,
    "start_time": "2023-10-11T18:08:02.165Z"
   },
   {
    "duration": 37,
    "start_time": "2023-10-11T18:08:02.228Z"
   },
   {
    "duration": 62,
    "start_time": "2023-10-11T18:08:02.269Z"
   },
   {
    "duration": 65,
    "start_time": "2023-10-11T18:08:02.333Z"
   },
   {
    "duration": 77,
    "start_time": "2023-10-11T18:08:02.400Z"
   },
   {
    "duration": 344,
    "start_time": "2023-10-11T18:08:02.480Z"
   },
   {
    "duration": 5277,
    "start_time": "2023-10-11T18:08:02.826Z"
   },
   {
    "duration": 223,
    "start_time": "2023-10-11T18:08:08.105Z"
   },
   {
    "duration": 93,
    "start_time": "2023-10-11T18:08:08.332Z"
   },
   {
    "duration": 31,
    "start_time": "2023-10-11T18:08:08.426Z"
   },
   {
    "duration": 66574,
    "start_time": "2023-10-11T18:08:08.459Z"
   },
   {
    "duration": 3,
    "start_time": "2023-10-11T18:09:15.035Z"
   },
   {
    "duration": 54,
    "start_time": "2023-10-11T18:09:15.039Z"
   },
   {
    "duration": 87,
    "start_time": "2023-10-11T18:09:15.095Z"
   },
   {
    "duration": 29940,
    "start_time": "2023-10-11T18:09:15.184Z"
   },
   {
    "duration": 4,
    "start_time": "2023-10-11T18:09:45.126Z"
   },
   {
    "duration": 71,
    "start_time": "2023-10-11T18:09:45.132Z"
   },
   {
    "duration": 51,
    "start_time": "2023-10-11T18:09:45.205Z"
   },
   {
    "duration": 279,
    "start_time": "2023-10-11T18:09:45.258Z"
   },
   {
    "duration": 1108,
    "start_time": "2023-10-11T18:12:52.929Z"
   },
   {
    "duration": 59,
    "start_time": "2023-10-11T18:12:54.039Z"
   },
   {
    "duration": 13,
    "start_time": "2023-10-11T18:12:54.099Z"
   },
   {
    "duration": 6,
    "start_time": "2023-10-11T18:12:54.114Z"
   },
   {
    "duration": 11,
    "start_time": "2023-10-11T18:12:54.122Z"
   },
   {
    "duration": 17,
    "start_time": "2023-10-11T18:12:54.134Z"
   },
   {
    "duration": 17,
    "start_time": "2023-10-11T18:12:54.152Z"
   },
   {
    "duration": 2,
    "start_time": "2023-10-11T18:12:54.170Z"
   },
   {
    "duration": 10,
    "start_time": "2023-10-11T18:12:54.173Z"
   },
   {
    "duration": 23,
    "start_time": "2023-10-11T18:12:54.185Z"
   },
   {
    "duration": 19,
    "start_time": "2023-10-11T18:12:54.210Z"
   },
   {
    "duration": 19,
    "start_time": "2023-10-11T18:12:54.230Z"
   },
   {
    "duration": 21,
    "start_time": "2023-10-11T18:12:54.251Z"
   },
   {
    "duration": 21,
    "start_time": "2023-10-11T18:12:54.273Z"
   },
   {
    "duration": 15,
    "start_time": "2023-10-11T18:12:54.295Z"
   },
   {
    "duration": 4,
    "start_time": "2023-10-11T18:12:54.311Z"
   },
   {
    "duration": 6,
    "start_time": "2023-10-11T18:12:54.316Z"
   },
   {
    "duration": 7,
    "start_time": "2023-10-11T18:12:54.323Z"
   },
   {
    "duration": 18,
    "start_time": "2023-10-11T18:12:54.331Z"
   },
   {
    "duration": 23,
    "start_time": "2023-10-11T18:12:54.351Z"
   },
   {
    "duration": 100,
    "start_time": "2023-10-11T18:12:54.375Z"
   },
   {
    "duration": 0,
    "start_time": "2023-10-11T18:12:54.477Z"
   },
   {
    "duration": 0,
    "start_time": "2023-10-11T18:12:54.478Z"
   },
   {
    "duration": 0,
    "start_time": "2023-10-11T18:12:54.479Z"
   },
   {
    "duration": 0,
    "start_time": "2023-10-11T18:12:54.480Z"
   },
   {
    "duration": 0,
    "start_time": "2023-10-11T18:12:54.481Z"
   },
   {
    "duration": 0,
    "start_time": "2023-10-11T18:12:54.482Z"
   },
   {
    "duration": 0,
    "start_time": "2023-10-11T18:12:54.483Z"
   },
   {
    "duration": 0,
    "start_time": "2023-10-11T18:12:54.484Z"
   },
   {
    "duration": 0,
    "start_time": "2023-10-11T18:12:54.485Z"
   },
   {
    "duration": 0,
    "start_time": "2023-10-11T18:12:54.486Z"
   },
   {
    "duration": 0,
    "start_time": "2023-10-11T18:12:54.487Z"
   },
   {
    "duration": 0,
    "start_time": "2023-10-11T18:12:54.488Z"
   },
   {
    "duration": 0,
    "start_time": "2023-10-11T18:12:54.489Z"
   },
   {
    "duration": 0,
    "start_time": "2023-10-11T18:12:54.490Z"
   },
   {
    "duration": 0,
    "start_time": "2023-10-11T18:12:54.490Z"
   },
   {
    "duration": 0,
    "start_time": "2023-10-11T18:12:54.491Z"
   },
   {
    "duration": 0,
    "start_time": "2023-10-11T18:12:54.492Z"
   },
   {
    "duration": 0,
    "start_time": "2023-10-11T18:12:54.493Z"
   },
   {
    "duration": 0,
    "start_time": "2023-10-11T18:12:54.494Z"
   },
   {
    "duration": 1141,
    "start_time": "2023-10-11T18:13:16.704Z"
   },
   {
    "duration": 57,
    "start_time": "2023-10-11T18:13:17.847Z"
   },
   {
    "duration": 13,
    "start_time": "2023-10-11T18:13:17.906Z"
   },
   {
    "duration": 8,
    "start_time": "2023-10-11T18:13:17.921Z"
   },
   {
    "duration": 31,
    "start_time": "2023-10-11T18:13:17.931Z"
   },
   {
    "duration": 13,
    "start_time": "2023-10-11T18:13:17.964Z"
   },
   {
    "duration": 44,
    "start_time": "2023-10-11T18:13:17.979Z"
   },
   {
    "duration": 21,
    "start_time": "2023-10-11T18:13:18.025Z"
   },
   {
    "duration": 19,
    "start_time": "2023-10-11T18:13:18.047Z"
   },
   {
    "duration": 15,
    "start_time": "2023-10-11T18:13:18.069Z"
   },
   {
    "duration": 6,
    "start_time": "2023-10-11T18:13:18.085Z"
   },
   {
    "duration": 9,
    "start_time": "2023-10-11T18:13:18.092Z"
   },
   {
    "duration": 20,
    "start_time": "2023-10-11T18:13:18.102Z"
   },
   {
    "duration": 10,
    "start_time": "2023-10-11T18:13:18.124Z"
   },
   {
    "duration": 12,
    "start_time": "2023-10-11T18:13:18.135Z"
   },
   {
    "duration": 17,
    "start_time": "2023-10-11T18:13:18.149Z"
   },
   {
    "duration": 20,
    "start_time": "2023-10-11T18:13:18.167Z"
   },
   {
    "duration": 5,
    "start_time": "2023-10-11T18:13:18.189Z"
   },
   {
    "duration": 39,
    "start_time": "2023-10-11T18:13:18.195Z"
   },
   {
    "duration": 19,
    "start_time": "2023-10-11T18:13:18.236Z"
   },
   {
    "duration": 48,
    "start_time": "2023-10-11T18:13:18.256Z"
   },
   {
    "duration": 39,
    "start_time": "2023-10-11T18:13:18.306Z"
   },
   {
    "duration": 4,
    "start_time": "2023-10-11T18:13:18.347Z"
   },
   {
    "duration": 34,
    "start_time": "2023-10-11T18:13:18.352Z"
   },
   {
    "duration": 47,
    "start_time": "2023-10-11T18:13:18.387Z"
   },
   {
    "duration": 12,
    "start_time": "2023-10-11T18:13:18.436Z"
   },
   {
    "duration": 18,
    "start_time": "2023-10-11T18:13:18.450Z"
   },
   {
    "duration": 282,
    "start_time": "2023-10-11T18:13:18.471Z"
   },
   {
    "duration": 5245,
    "start_time": "2023-10-11T18:13:18.754Z"
   },
   {
    "duration": 225,
    "start_time": "2023-10-11T18:13:24.001Z"
   },
   {
    "duration": 5,
    "start_time": "2023-10-11T18:13:24.228Z"
   },
   {
    "duration": 11,
    "start_time": "2023-10-11T18:13:24.325Z"
   },
   {
    "duration": 66081,
    "start_time": "2023-10-11T18:13:24.338Z"
   },
   {
    "duration": 4,
    "start_time": "2023-10-11T18:14:30.423Z"
   },
   {
    "duration": 34,
    "start_time": "2023-10-11T18:14:30.429Z"
   },
   {
    "duration": 54,
    "start_time": "2023-10-11T18:14:30.465Z"
   },
   {
    "duration": 30085,
    "start_time": "2023-10-11T18:14:30.520Z"
   },
   {
    "duration": 5,
    "start_time": "2023-10-11T18:15:00.607Z"
   },
   {
    "duration": 94,
    "start_time": "2023-10-11T18:15:00.613Z"
   },
   {
    "duration": 53,
    "start_time": "2023-10-11T18:15:00.709Z"
   },
   {
    "duration": 42,
    "start_time": "2023-10-11T18:15:00.765Z"
   },
   {
    "duration": 24,
    "start_time": "2023-10-11T18:15:19.904Z"
   },
   {
    "duration": 1059,
    "start_time": "2023-10-11T18:15:42.076Z"
   },
   {
    "duration": 60,
    "start_time": "2023-10-11T18:15:43.137Z"
   },
   {
    "duration": 13,
    "start_time": "2023-10-11T18:15:43.201Z"
   },
   {
    "duration": 43,
    "start_time": "2023-10-11T18:15:43.217Z"
   },
   {
    "duration": 86,
    "start_time": "2023-10-11T18:15:43.262Z"
   },
   {
    "duration": 37,
    "start_time": "2023-10-11T18:15:43.349Z"
   },
   {
    "duration": 107,
    "start_time": "2023-10-11T18:15:43.387Z"
   },
   {
    "duration": 273,
    "start_time": "2023-10-11T18:15:43.496Z"
   },
   {
    "duration": 92,
    "start_time": "2023-10-11T18:15:43.771Z"
   },
   {
    "duration": 126,
    "start_time": "2023-10-11T18:15:43.864Z"
   },
   {
    "duration": 25,
    "start_time": "2023-10-11T18:15:43.991Z"
   },
   {
    "duration": 43,
    "start_time": "2023-10-11T18:15:44.017Z"
   },
   {
    "duration": 40,
    "start_time": "2023-10-11T18:15:44.063Z"
   },
   {
    "duration": 70,
    "start_time": "2023-10-11T18:15:44.104Z"
   },
   {
    "duration": 48,
    "start_time": "2023-10-11T18:15:44.175Z"
   },
   {
    "duration": 86,
    "start_time": "2023-10-11T18:15:44.225Z"
   },
   {
    "duration": 91,
    "start_time": "2023-10-11T18:15:44.313Z"
   },
   {
    "duration": 37,
    "start_time": "2023-10-11T18:15:44.406Z"
   },
   {
    "duration": 33,
    "start_time": "2023-10-11T18:15:44.444Z"
   },
   {
    "duration": 87,
    "start_time": "2023-10-11T18:15:44.479Z"
   },
   {
    "duration": 114,
    "start_time": "2023-10-11T18:15:44.567Z"
   },
   {
    "duration": 28,
    "start_time": "2023-10-11T18:15:44.683Z"
   },
   {
    "duration": 33,
    "start_time": "2023-10-11T18:15:44.712Z"
   },
   {
    "duration": 105,
    "start_time": "2023-10-11T18:15:44.747Z"
   },
   {
    "duration": 0,
    "start_time": "2023-10-11T18:15:44.854Z"
   },
   {
    "duration": 0,
    "start_time": "2023-10-11T18:15:44.855Z"
   },
   {
    "duration": 0,
    "start_time": "2023-10-11T18:15:44.856Z"
   },
   {
    "duration": 0,
    "start_time": "2023-10-11T18:15:44.857Z"
   },
   {
    "duration": 0,
    "start_time": "2023-10-11T18:15:44.858Z"
   },
   {
    "duration": 0,
    "start_time": "2023-10-11T18:15:44.859Z"
   },
   {
    "duration": 0,
    "start_time": "2023-10-11T18:15:44.860Z"
   },
   {
    "duration": 0,
    "start_time": "2023-10-11T18:15:44.861Z"
   },
   {
    "duration": 0,
    "start_time": "2023-10-11T18:15:44.862Z"
   },
   {
    "duration": 0,
    "start_time": "2023-10-11T18:15:44.863Z"
   },
   {
    "duration": 0,
    "start_time": "2023-10-11T18:15:44.864Z"
   },
   {
    "duration": 0,
    "start_time": "2023-10-11T18:15:44.865Z"
   },
   {
    "duration": 0,
    "start_time": "2023-10-11T18:15:44.866Z"
   },
   {
    "duration": 0,
    "start_time": "2023-10-11T18:15:44.866Z"
   },
   {
    "duration": 0,
    "start_time": "2023-10-11T18:15:44.867Z"
   },
   {
    "duration": 0,
    "start_time": "2023-10-11T18:15:44.869Z"
   },
   {
    "duration": 0,
    "start_time": "2023-10-11T18:15:44.869Z"
   },
   {
    "duration": 0,
    "start_time": "2023-10-11T18:15:44.870Z"
   },
   {
    "duration": 5,
    "start_time": "2023-10-11T18:15:53.427Z"
   },
   {
    "duration": 7,
    "start_time": "2023-10-11T18:15:55.780Z"
   },
   {
    "duration": 8,
    "start_time": "2023-10-11T18:16:01.580Z"
   },
   {
    "duration": 11,
    "start_time": "2023-10-11T18:16:07.891Z"
   },
   {
    "duration": 39,
    "start_time": "2023-10-11T18:17:52.004Z"
   },
   {
    "duration": 10,
    "start_time": "2023-10-11T18:18:11.614Z"
   },
   {
    "duration": 42,
    "start_time": "2023-10-11T18:18:57.006Z"
   },
   {
    "duration": 15,
    "start_time": "2023-10-11T18:19:04.718Z"
   },
   {
    "duration": 39,
    "start_time": "2023-10-11T18:19:07.678Z"
   },
   {
    "duration": 12,
    "start_time": "2023-10-11T18:19:13.670Z"
   },
   {
    "duration": 14,
    "start_time": "2023-10-11T18:20:42.103Z"
   },
   {
    "duration": 13,
    "start_time": "2023-10-11T18:20:57.072Z"
   },
   {
    "duration": 34,
    "start_time": "2023-10-11T18:21:02.438Z"
   },
   {
    "duration": 32,
    "start_time": "2023-10-11T18:21:08.130Z"
   },
   {
    "duration": 5,
    "start_time": "2023-10-11T18:21:17.125Z"
   },
   {
    "duration": 89,
    "start_time": "2023-10-11T18:21:29.541Z"
   },
   {
    "duration": 1168,
    "start_time": "2023-10-11T18:26:10.309Z"
   },
   {
    "duration": 59,
    "start_time": "2023-10-11T18:26:11.479Z"
   },
   {
    "duration": 44,
    "start_time": "2023-10-11T18:26:11.540Z"
   },
   {
    "duration": 22,
    "start_time": "2023-10-11T18:26:11.587Z"
   },
   {
    "duration": 35,
    "start_time": "2023-10-11T18:26:11.611Z"
   },
   {
    "duration": 11,
    "start_time": "2023-10-11T18:26:11.648Z"
   },
   {
    "duration": 32,
    "start_time": "2023-10-11T18:26:11.661Z"
   },
   {
    "duration": 3,
    "start_time": "2023-10-11T18:26:11.694Z"
   },
   {
    "duration": 27,
    "start_time": "2023-10-11T18:26:11.698Z"
   },
   {
    "duration": 31,
    "start_time": "2023-10-11T18:26:11.727Z"
   },
   {
    "duration": 11,
    "start_time": "2023-10-11T18:26:11.759Z"
   },
   {
    "duration": 22,
    "start_time": "2023-10-11T18:26:11.772Z"
   },
   {
    "duration": 16,
    "start_time": "2023-10-11T18:26:11.796Z"
   },
   {
    "duration": 14,
    "start_time": "2023-10-11T18:26:11.813Z"
   },
   {
    "duration": 30,
    "start_time": "2023-10-11T18:26:11.828Z"
   },
   {
    "duration": 27,
    "start_time": "2023-10-11T18:26:11.860Z"
   },
   {
    "duration": 20,
    "start_time": "2023-10-11T18:26:11.889Z"
   },
   {
    "duration": 38,
    "start_time": "2023-10-11T18:26:11.911Z"
   },
   {
    "duration": 35,
    "start_time": "2023-10-11T18:26:11.951Z"
   },
   {
    "duration": 57,
    "start_time": "2023-10-11T18:26:11.988Z"
   },
   {
    "duration": 154,
    "start_time": "2023-10-11T18:26:12.047Z"
   },
   {
    "duration": 108,
    "start_time": "2023-10-11T18:26:12.202Z"
   },
   {
    "duration": 50,
    "start_time": "2023-10-11T18:26:12.311Z"
   },
   {
    "duration": 73,
    "start_time": "2023-10-11T18:26:12.363Z"
   },
   {
    "duration": 82,
    "start_time": "2023-10-11T18:26:12.438Z"
   },
   {
    "duration": 118,
    "start_time": "2023-10-11T18:26:12.522Z"
   },
   {
    "duration": 35,
    "start_time": "2023-10-11T18:26:12.642Z"
   },
   {
    "duration": 333,
    "start_time": "2023-10-11T18:26:12.681Z"
   },
   {
    "duration": 5229,
    "start_time": "2023-10-11T18:26:13.015Z"
   },
   {
    "duration": 683,
    "start_time": "2023-10-11T18:26:18.246Z"
   },
   {
    "duration": 94,
    "start_time": "2023-10-11T18:26:18.931Z"
   },
   {
    "duration": 101,
    "start_time": "2023-10-11T18:26:19.028Z"
   },
   {
    "duration": 66660,
    "start_time": "2023-10-11T18:26:19.131Z"
   },
   {
    "duration": 5,
    "start_time": "2023-10-11T18:27:25.793Z"
   },
   {
    "duration": 26,
    "start_time": "2023-10-11T18:27:25.799Z"
   },
   {
    "duration": 6,
    "start_time": "2023-10-11T18:27:25.828Z"
   },
   {
    "duration": 29635,
    "start_time": "2023-10-11T18:27:25.836Z"
   },
   {
    "duration": 4,
    "start_time": "2023-10-11T18:27:55.473Z"
   },
   {
    "duration": 105,
    "start_time": "2023-10-11T18:27:55.479Z"
   },
   {
    "duration": 0,
    "start_time": "2023-10-11T18:27:55.585Z"
   },
   {
    "duration": 73,
    "start_time": "2023-10-11T18:28:18.817Z"
   },
   {
    "duration": 69,
    "start_time": "2023-10-11T18:28:21.866Z"
   },
   {
    "duration": 4,
    "start_time": "2023-10-11T18:29:36.514Z"
   },
   {
    "duration": 5,
    "start_time": "2023-10-11T18:30:07.762Z"
   },
   {
    "duration": 7,
    "start_time": "2023-10-11T18:30:36.770Z"
   },
   {
    "duration": 6,
    "start_time": "2023-10-11T18:31:02.058Z"
   },
   {
    "duration": 9,
    "start_time": "2023-10-11T18:31:10.195Z"
   },
   {
    "duration": 6,
    "start_time": "2023-10-11T18:31:16.467Z"
   },
   {
    "duration": 6,
    "start_time": "2023-10-11T18:31:55.315Z"
   },
   {
    "duration": 80,
    "start_time": "2023-10-11T18:32:38.715Z"
   },
   {
    "duration": 74,
    "start_time": "2023-10-11T18:32:39.738Z"
   },
   {
    "duration": 7,
    "start_time": "2023-10-11T18:32:40.738Z"
   },
   {
    "duration": 7,
    "start_time": "2023-10-11T18:32:41.371Z"
   },
   {
    "duration": 8,
    "start_time": "2023-10-11T18:32:41.683Z"
   },
   {
    "duration": 8,
    "start_time": "2023-10-11T18:32:41.958Z"
   },
   {
    "duration": 8,
    "start_time": "2023-10-11T18:32:47.451Z"
   },
   {
    "duration": 6,
    "start_time": "2023-10-11T18:32:57.396Z"
   },
   {
    "duration": 8,
    "start_time": "2023-10-11T18:33:07.490Z"
   },
   {
    "duration": 80,
    "start_time": "2023-10-11T18:35:28.101Z"
   },
   {
    "duration": 84,
    "start_time": "2023-10-11T18:35:33.770Z"
   },
   {
    "duration": 6,
    "start_time": "2023-10-11T18:35:43.715Z"
   },
   {
    "duration": 7,
    "start_time": "2023-10-11T18:35:52.884Z"
   },
   {
    "duration": 4,
    "start_time": "2023-10-11T18:36:15.284Z"
   },
   {
    "duration": 1153,
    "start_time": "2023-10-11T18:38:29.721Z"
   },
   {
    "duration": 84,
    "start_time": "2023-10-11T18:38:30.877Z"
   },
   {
    "duration": 168,
    "start_time": "2023-10-11T18:38:30.963Z"
   },
   {
    "duration": 51,
    "start_time": "2023-10-11T18:38:31.134Z"
   },
   {
    "duration": 70,
    "start_time": "2023-10-11T18:38:31.187Z"
   },
   {
    "duration": 67,
    "start_time": "2023-10-11T18:38:31.260Z"
   },
   {
    "duration": 97,
    "start_time": "2023-10-11T18:38:31.330Z"
   },
   {
    "duration": 42,
    "start_time": "2023-10-11T18:38:31.429Z"
   },
   {
    "duration": 54,
    "start_time": "2023-10-11T18:38:31.474Z"
   },
   {
    "duration": 68,
    "start_time": "2023-10-11T18:38:31.532Z"
   },
   {
    "duration": 20,
    "start_time": "2023-10-11T18:38:31.602Z"
   },
   {
    "duration": 196,
    "start_time": "2023-10-11T18:38:31.625Z"
   },
   {
    "duration": 217,
    "start_time": "2023-10-11T18:38:31.824Z"
   },
   {
    "duration": 110,
    "start_time": "2023-10-11T18:38:32.043Z"
   },
   {
    "duration": 29,
    "start_time": "2023-10-11T18:38:32.155Z"
   },
   {
    "duration": 27,
    "start_time": "2023-10-11T18:38:32.186Z"
   },
   {
    "duration": 20,
    "start_time": "2023-10-11T18:38:32.216Z"
   },
   {
    "duration": 30,
    "start_time": "2023-10-11T18:38:32.238Z"
   },
   {
    "duration": 33,
    "start_time": "2023-10-11T18:38:32.271Z"
   },
   {
    "duration": 30,
    "start_time": "2023-10-11T18:38:32.306Z"
   },
   {
    "duration": 81,
    "start_time": "2023-10-11T18:38:32.339Z"
   },
   {
    "duration": 38,
    "start_time": "2023-10-11T18:38:32.422Z"
   },
   {
    "duration": 6,
    "start_time": "2023-10-11T18:38:32.461Z"
   },
   {
    "duration": 57,
    "start_time": "2023-10-11T18:38:32.469Z"
   },
   {
    "duration": 23,
    "start_time": "2023-10-11T18:38:32.528Z"
   },
   {
    "duration": 31,
    "start_time": "2023-10-11T18:38:32.553Z"
   },
   {
    "duration": 289,
    "start_time": "2023-10-11T18:38:32.586Z"
   },
   {
    "duration": 5432,
    "start_time": "2023-10-11T18:38:32.879Z"
   },
   {
    "duration": 516,
    "start_time": "2023-10-11T18:38:38.313Z"
   },
   {
    "duration": 6,
    "start_time": "2023-10-11T18:38:38.831Z"
   },
   {
    "duration": 108,
    "start_time": "2023-10-11T18:38:38.928Z"
   },
   {
    "duration": 70647,
    "start_time": "2023-10-11T18:38:39.038Z"
   },
   {
    "duration": 4,
    "start_time": "2023-10-11T18:39:49.686Z"
   },
   {
    "duration": 12,
    "start_time": "2023-10-11T18:39:49.692Z"
   },
   {
    "duration": 19,
    "start_time": "2023-10-11T18:39:49.706Z"
   },
   {
    "duration": 30824,
    "start_time": "2023-10-11T18:39:49.727Z"
   },
   {
    "duration": 6,
    "start_time": "2023-10-11T18:40:20.554Z"
   },
   {
    "duration": 95,
    "start_time": "2023-10-11T18:40:20.561Z"
   },
   {
    "duration": 81,
    "start_time": "2023-10-11T18:40:20.658Z"
   },
   {
    "duration": 5,
    "start_time": "2023-10-11T18:40:20.741Z"
   },
   {
    "duration": 7,
    "start_time": "2023-10-11T18:40:20.748Z"
   }
  ],
  "kernelspec": {
   "display_name": "Python 3 (ipykernel)",
   "language": "python",
   "name": "python3"
  },
  "language_info": {
   "codemirror_mode": {
    "name": "ipython",
    "version": 3
   },
   "file_extension": ".py",
   "mimetype": "text/x-python",
   "name": "python",
   "nbconvert_exporter": "python",
   "pygments_lexer": "ipython3",
   "version": "3.9.18"
  },
  "toc": {
   "base_numbering": 1,
   "nav_menu": {},
   "number_sections": true,
   "sideBar": true,
   "skip_h1_title": true,
   "title_cell": "Содержание",
   "title_sidebar": "Contents",
   "toc_cell": true,
   "toc_position": {},
   "toc_section_display": true,
   "toc_window_display": true
  }
 },
 "nbformat": 4,
 "nbformat_minor": 4
}
