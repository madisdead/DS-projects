{
 "cells": [
  {
   "cell_type": "markdown",
   "metadata": {},
   "source": [
    "# Определение стоимости автомобилей"
   ]
  },
  {
   "cell_type": "markdown",
   "metadata": {},
   "source": [
    "Сервис по продаже автомобилей с пробегом «Не бит, не крашен» разрабатывает приложение для привлечения новых клиентов. В нём можно быстро узнать рыночную стоимость своего автомобиля. В вашем распоряжении исторические данные: технические характеристики, комплектации и цены автомобилей. Вам нужно построить модель для определения стоимости. \n",
    "\n",
    "Заказчику важны:\n",
    "\n",
    "- качество предсказания;\n",
    "- скорость предсказания;\n",
    "- время обучения."
   ]
  },
  {
   "cell_type": "code",
   "execution_count": 1,
   "metadata": {},
   "outputs": [],
   "source": [
    "import pandas as pd\n",
    "import numpy as np\n",
    "from sklearn.model_selection import train_test_split\n",
    "from sklearn.preprocessing import StandardScaler\n",
    "import lightgbm as lgb\n",
    "from sklearn.metrics import mean_squared_error\n",
    "from sklearn.ensemble import RandomForestRegressor\n",
    "from sklearn.preprocessing import OrdinalEncoder\n",
    "from sklearn.model_selection import GridSearchCV\n",
    "import warnings\n",
    "\n",
    "warnings.filterwarnings('ignore')"
   ]
  },
  {
   "cell_type": "markdown",
   "metadata": {},
   "source": [
    "## Подготовка данных"
   ]
  },
  {
   "cell_type": "code",
   "execution_count": 2,
   "metadata": {},
   "outputs": [
    {
     "data": {
      "text/html": [
       "<div>\n",
       "<style scoped>\n",
       "    .dataframe tbody tr th:only-of-type {\n",
       "        vertical-align: middle;\n",
       "    }\n",
       "\n",
       "    .dataframe tbody tr th {\n",
       "        vertical-align: top;\n",
       "    }\n",
       "\n",
       "    .dataframe thead th {\n",
       "        text-align: right;\n",
       "    }\n",
       "</style>\n",
       "<table border=\"1\" class=\"dataframe\">\n",
       "  <thead>\n",
       "    <tr style=\"text-align: right;\">\n",
       "      <th></th>\n",
       "      <th>DateCrawled</th>\n",
       "      <th>Price</th>\n",
       "      <th>VehicleType</th>\n",
       "      <th>RegistrationYear</th>\n",
       "      <th>Gearbox</th>\n",
       "      <th>Power</th>\n",
       "      <th>Model</th>\n",
       "      <th>Kilometer</th>\n",
       "      <th>RegistrationMonth</th>\n",
       "      <th>FuelType</th>\n",
       "      <th>Brand</th>\n",
       "      <th>Repaired</th>\n",
       "      <th>DateCreated</th>\n",
       "      <th>NumberOfPictures</th>\n",
       "      <th>PostalCode</th>\n",
       "      <th>LastSeen</th>\n",
       "    </tr>\n",
       "  </thead>\n",
       "  <tbody>\n",
       "    <tr>\n",
       "      <th>0</th>\n",
       "      <td>2016-03-24 11:52:17</td>\n",
       "      <td>480</td>\n",
       "      <td>NaN</td>\n",
       "      <td>1993</td>\n",
       "      <td>manual</td>\n",
       "      <td>0</td>\n",
       "      <td>golf</td>\n",
       "      <td>150000</td>\n",
       "      <td>0</td>\n",
       "      <td>petrol</td>\n",
       "      <td>volkswagen</td>\n",
       "      <td>NaN</td>\n",
       "      <td>2016-03-24 00:00:00</td>\n",
       "      <td>0</td>\n",
       "      <td>70435</td>\n",
       "      <td>2016-04-07 03:16:57</td>\n",
       "    </tr>\n",
       "    <tr>\n",
       "      <th>1</th>\n",
       "      <td>2016-03-24 10:58:45</td>\n",
       "      <td>18300</td>\n",
       "      <td>coupe</td>\n",
       "      <td>2011</td>\n",
       "      <td>manual</td>\n",
       "      <td>190</td>\n",
       "      <td>NaN</td>\n",
       "      <td>125000</td>\n",
       "      <td>5</td>\n",
       "      <td>gasoline</td>\n",
       "      <td>audi</td>\n",
       "      <td>yes</td>\n",
       "      <td>2016-03-24 00:00:00</td>\n",
       "      <td>0</td>\n",
       "      <td>66954</td>\n",
       "      <td>2016-04-07 01:46:50</td>\n",
       "    </tr>\n",
       "    <tr>\n",
       "      <th>2</th>\n",
       "      <td>2016-03-14 12:52:21</td>\n",
       "      <td>9800</td>\n",
       "      <td>suv</td>\n",
       "      <td>2004</td>\n",
       "      <td>auto</td>\n",
       "      <td>163</td>\n",
       "      <td>grand</td>\n",
       "      <td>125000</td>\n",
       "      <td>8</td>\n",
       "      <td>gasoline</td>\n",
       "      <td>jeep</td>\n",
       "      <td>NaN</td>\n",
       "      <td>2016-03-14 00:00:00</td>\n",
       "      <td>0</td>\n",
       "      <td>90480</td>\n",
       "      <td>2016-04-05 12:47:46</td>\n",
       "    </tr>\n",
       "    <tr>\n",
       "      <th>3</th>\n",
       "      <td>2016-03-17 16:54:04</td>\n",
       "      <td>1500</td>\n",
       "      <td>small</td>\n",
       "      <td>2001</td>\n",
       "      <td>manual</td>\n",
       "      <td>75</td>\n",
       "      <td>golf</td>\n",
       "      <td>150000</td>\n",
       "      <td>6</td>\n",
       "      <td>petrol</td>\n",
       "      <td>volkswagen</td>\n",
       "      <td>no</td>\n",
       "      <td>2016-03-17 00:00:00</td>\n",
       "      <td>0</td>\n",
       "      <td>91074</td>\n",
       "      <td>2016-03-17 17:40:17</td>\n",
       "    </tr>\n",
       "    <tr>\n",
       "      <th>4</th>\n",
       "      <td>2016-03-31 17:25:20</td>\n",
       "      <td>3600</td>\n",
       "      <td>small</td>\n",
       "      <td>2008</td>\n",
       "      <td>manual</td>\n",
       "      <td>69</td>\n",
       "      <td>fabia</td>\n",
       "      <td>90000</td>\n",
       "      <td>7</td>\n",
       "      <td>gasoline</td>\n",
       "      <td>skoda</td>\n",
       "      <td>no</td>\n",
       "      <td>2016-03-31 00:00:00</td>\n",
       "      <td>0</td>\n",
       "      <td>60437</td>\n",
       "      <td>2016-04-06 10:17:21</td>\n",
       "    </tr>\n",
       "  </tbody>\n",
       "</table>\n",
       "</div>"
      ],
      "text/plain": [
       "           DateCrawled  Price VehicleType  RegistrationYear Gearbox  Power  \\\n",
       "0  2016-03-24 11:52:17    480         NaN              1993  manual      0   \n",
       "1  2016-03-24 10:58:45  18300       coupe              2011  manual    190   \n",
       "2  2016-03-14 12:52:21   9800         suv              2004    auto    163   \n",
       "3  2016-03-17 16:54:04   1500       small              2001  manual     75   \n",
       "4  2016-03-31 17:25:20   3600       small              2008  manual     69   \n",
       "\n",
       "   Model  Kilometer  RegistrationMonth  FuelType       Brand Repaired  \\\n",
       "0   golf     150000                  0    petrol  volkswagen      NaN   \n",
       "1    NaN     125000                  5  gasoline        audi      yes   \n",
       "2  grand     125000                  8  gasoline        jeep      NaN   \n",
       "3   golf     150000                  6    petrol  volkswagen       no   \n",
       "4  fabia      90000                  7  gasoline       skoda       no   \n",
       "\n",
       "           DateCreated  NumberOfPictures  PostalCode             LastSeen  \n",
       "0  2016-03-24 00:00:00                 0       70435  2016-04-07 03:16:57  \n",
       "1  2016-03-24 00:00:00                 0       66954  2016-04-07 01:46:50  \n",
       "2  2016-03-14 00:00:00                 0       90480  2016-04-05 12:47:46  \n",
       "3  2016-03-17 00:00:00                 0       91074  2016-03-17 17:40:17  \n",
       "4  2016-03-31 00:00:00                 0       60437  2016-04-06 10:17:21  "
      ]
     },
     "execution_count": 2,
     "metadata": {},
     "output_type": "execute_result"
    }
   ],
   "source": [
    "data = pd.read_csv('/datasets/autos.csv')\n",
    "data.head()"
   ]
  },
  {
   "cell_type": "code",
   "execution_count": 3,
   "metadata": {},
   "outputs": [
    {
     "name": "stdout",
     "output_type": "stream",
     "text": [
      "<class 'pandas.core.frame.DataFrame'>\n",
      "RangeIndex: 354369 entries, 0 to 354368\n",
      "Data columns (total 16 columns):\n",
      " #   Column             Non-Null Count   Dtype \n",
      "---  ------             --------------   ----- \n",
      " 0   DateCrawled        354369 non-null  object\n",
      " 1   Price              354369 non-null  int64 \n",
      " 2   VehicleType        316879 non-null  object\n",
      " 3   RegistrationYear   354369 non-null  int64 \n",
      " 4   Gearbox            334536 non-null  object\n",
      " 5   Power              354369 non-null  int64 \n",
      " 6   Model              334664 non-null  object\n",
      " 7   Kilometer          354369 non-null  int64 \n",
      " 8   RegistrationMonth  354369 non-null  int64 \n",
      " 9   FuelType           321474 non-null  object\n",
      " 10  Brand              354369 non-null  object\n",
      " 11  Repaired           283215 non-null  object\n",
      " 12  DateCreated        354369 non-null  object\n",
      " 13  NumberOfPictures   354369 non-null  int64 \n",
      " 14  PostalCode         354369 non-null  int64 \n",
      " 15  LastSeen           354369 non-null  object\n",
      "dtypes: int64(7), object(9)\n",
      "memory usage: 43.3+ MB\n"
     ]
    }
   ],
   "source": [
    "data.info()"
   ]
  },
  {
   "cell_type": "markdown",
   "metadata": {},
   "source": [
    "Проверим данные на дубликаты и удалим их."
   ]
  },
  {
   "cell_type": "code",
   "execution_count": 4,
   "metadata": {},
   "outputs": [
    {
     "data": {
      "text/plain": [
       "4"
      ]
     },
     "execution_count": 4,
     "metadata": {},
     "output_type": "execute_result"
    }
   ],
   "source": [
    "data.duplicated().sum()"
   ]
  },
  {
   "cell_type": "code",
   "execution_count": 5,
   "metadata": {},
   "outputs": [
    {
     "data": {
      "text/plain": [
       "0"
      ]
     },
     "execution_count": 5,
     "metadata": {},
     "output_type": "execute_result"
    }
   ],
   "source": [
    "data = data.drop_duplicates()\n",
    "data.duplicated().sum()"
   ]
  },
  {
   "cell_type": "markdown",
   "metadata": {},
   "source": [
    "Удалим неинформативные стобцы(которые не потребуются для модели)"
   ]
  },
  {
   "cell_type": "code",
   "execution_count": 6,
   "metadata": {},
   "outputs": [
    {
     "data": {
      "text/html": [
       "<div>\n",
       "<style scoped>\n",
       "    .dataframe tbody tr th:only-of-type {\n",
       "        vertical-align: middle;\n",
       "    }\n",
       "\n",
       "    .dataframe tbody tr th {\n",
       "        vertical-align: top;\n",
       "    }\n",
       "\n",
       "    .dataframe thead th {\n",
       "        text-align: right;\n",
       "    }\n",
       "</style>\n",
       "<table border=\"1\" class=\"dataframe\">\n",
       "  <thead>\n",
       "    <tr style=\"text-align: right;\">\n",
       "      <th></th>\n",
       "      <th>Price</th>\n",
       "      <th>VehicleType</th>\n",
       "      <th>RegistrationYear</th>\n",
       "      <th>Gearbox</th>\n",
       "      <th>Power</th>\n",
       "      <th>Model</th>\n",
       "      <th>Kilometer</th>\n",
       "      <th>FuelType</th>\n",
       "      <th>Brand</th>\n",
       "      <th>Repaired</th>\n",
       "    </tr>\n",
       "  </thead>\n",
       "  <tbody>\n",
       "    <tr>\n",
       "      <th>0</th>\n",
       "      <td>480</td>\n",
       "      <td>NaN</td>\n",
       "      <td>1993</td>\n",
       "      <td>manual</td>\n",
       "      <td>0</td>\n",
       "      <td>golf</td>\n",
       "      <td>150000</td>\n",
       "      <td>petrol</td>\n",
       "      <td>volkswagen</td>\n",
       "      <td>NaN</td>\n",
       "    </tr>\n",
       "    <tr>\n",
       "      <th>1</th>\n",
       "      <td>18300</td>\n",
       "      <td>coupe</td>\n",
       "      <td>2011</td>\n",
       "      <td>manual</td>\n",
       "      <td>190</td>\n",
       "      <td>NaN</td>\n",
       "      <td>125000</td>\n",
       "      <td>gasoline</td>\n",
       "      <td>audi</td>\n",
       "      <td>yes</td>\n",
       "    </tr>\n",
       "    <tr>\n",
       "      <th>2</th>\n",
       "      <td>9800</td>\n",
       "      <td>suv</td>\n",
       "      <td>2004</td>\n",
       "      <td>auto</td>\n",
       "      <td>163</td>\n",
       "      <td>grand</td>\n",
       "      <td>125000</td>\n",
       "      <td>gasoline</td>\n",
       "      <td>jeep</td>\n",
       "      <td>NaN</td>\n",
       "    </tr>\n",
       "    <tr>\n",
       "      <th>3</th>\n",
       "      <td>1500</td>\n",
       "      <td>small</td>\n",
       "      <td>2001</td>\n",
       "      <td>manual</td>\n",
       "      <td>75</td>\n",
       "      <td>golf</td>\n",
       "      <td>150000</td>\n",
       "      <td>petrol</td>\n",
       "      <td>volkswagen</td>\n",
       "      <td>no</td>\n",
       "    </tr>\n",
       "    <tr>\n",
       "      <th>4</th>\n",
       "      <td>3600</td>\n",
       "      <td>small</td>\n",
       "      <td>2008</td>\n",
       "      <td>manual</td>\n",
       "      <td>69</td>\n",
       "      <td>fabia</td>\n",
       "      <td>90000</td>\n",
       "      <td>gasoline</td>\n",
       "      <td>skoda</td>\n",
       "      <td>no</td>\n",
       "    </tr>\n",
       "  </tbody>\n",
       "</table>\n",
       "</div>"
      ],
      "text/plain": [
       "   Price VehicleType  RegistrationYear Gearbox  Power  Model  Kilometer  \\\n",
       "0    480         NaN              1993  manual      0   golf     150000   \n",
       "1  18300       coupe              2011  manual    190    NaN     125000   \n",
       "2   9800         suv              2004    auto    163  grand     125000   \n",
       "3   1500       small              2001  manual     75   golf     150000   \n",
       "4   3600       small              2008  manual     69  fabia      90000   \n",
       "\n",
       "   FuelType       Brand Repaired  \n",
       "0    petrol  volkswagen      NaN  \n",
       "1  gasoline        audi      yes  \n",
       "2  gasoline        jeep      NaN  \n",
       "3    petrol  volkswagen       no  \n",
       "4  gasoline       skoda       no  "
      ]
     },
     "execution_count": 6,
     "metadata": {},
     "output_type": "execute_result"
    }
   ],
   "source": [
    "data = data.drop(['DateCrawled', 'RegistrationMonth', 'DateCreated', 'NumberOfPictures', 'PostalCode', 'LastSeen'], axis=1)\n",
    "data.head()"
   ]
  },
  {
   "cell_type": "markdown",
   "metadata": {},
   "source": []
  },
  {
   "cell_type": "markdown",
   "metadata": {},
   "source": [
    "Обработаем пропуски"
   ]
  },
  {
   "cell_type": "code",
   "execution_count": 7,
   "metadata": {},
   "outputs": [
    {
     "data": {
      "text/plain": [
       "Price                   0\n",
       "VehicleType         37490\n",
       "RegistrationYear        0\n",
       "Gearbox             19833\n",
       "Power                   0\n",
       "Model               19705\n",
       "Kilometer               0\n",
       "FuelType            32895\n",
       "Brand                   0\n",
       "Repaired            71154\n",
       "dtype: int64"
      ]
     },
     "execution_count": 7,
     "metadata": {},
     "output_type": "execute_result"
    }
   ],
   "source": [
    "data.isna().sum()"
   ]
  },
  {
   "cell_type": "markdown",
   "metadata": {},
   "source": [
    "Поставим заглушки на места пропусков в этих столбцах."
   ]
  },
  {
   "cell_type": "code",
   "execution_count": 8,
   "metadata": {},
   "outputs": [],
   "source": [
    "data['VehicleType'] = data['VehicleType'].fillna('unknown')\n",
    "data['Gearbox'] = data['Gearbox'].fillna('unknown')\n",
    "data['Model'] = data['Model'].fillna('unknown')\n",
    "data['FuelType'] = data['FuelType'].fillna('unknown')\n",
    "data['Repaired'] = data['Repaired'].fillna('unknown')"
   ]
  },
  {
   "cell_type": "code",
   "execution_count": 9,
   "metadata": {},
   "outputs": [
    {
     "data": {
      "text/plain": [
       "Price               0\n",
       "VehicleType         0\n",
       "RegistrationYear    0\n",
       "Gearbox             0\n",
       "Power               0\n",
       "Model               0\n",
       "Kilometer           0\n",
       "FuelType            0\n",
       "Brand               0\n",
       "Repaired            0\n",
       "dtype: int64"
      ]
     },
     "execution_count": 9,
     "metadata": {},
     "output_type": "execute_result"
    }
   ],
   "source": [
    "data.isna().sum()"
   ]
  },
  {
   "cell_type": "code",
   "execution_count": 10,
   "metadata": {},
   "outputs": [
    {
     "name": "stdout",
     "output_type": "stream",
     "text": [
      "<class 'pandas.core.frame.DataFrame'>\n",
      "Int64Index: 354365 entries, 0 to 354368\n",
      "Data columns (total 10 columns):\n",
      " #   Column            Non-Null Count   Dtype \n",
      "---  ------            --------------   ----- \n",
      " 0   Price             354365 non-null  int64 \n",
      " 1   VehicleType       354365 non-null  object\n",
      " 2   RegistrationYear  354365 non-null  int64 \n",
      " 3   Gearbox           354365 non-null  object\n",
      " 4   Power             354365 non-null  int64 \n",
      " 5   Model             354365 non-null  object\n",
      " 6   Kilometer         354365 non-null  int64 \n",
      " 7   FuelType          354365 non-null  object\n",
      " 8   Brand             354365 non-null  object\n",
      " 9   Repaired          354365 non-null  object\n",
      "dtypes: int64(4), object(6)\n",
      "memory usage: 29.7+ MB\n"
     ]
    }
   ],
   "source": [
    "data.info()"
   ]
  },
  {
   "cell_type": "markdown",
   "metadata": {},
   "source": [
    "Проверим аномальные значения."
   ]
  },
  {
   "cell_type": "code",
   "execution_count": 11,
   "metadata": {},
   "outputs": [
    {
     "data": {
      "text/html": [
       "<div>\n",
       "<style scoped>\n",
       "    .dataframe tbody tr th:only-of-type {\n",
       "        vertical-align: middle;\n",
       "    }\n",
       "\n",
       "    .dataframe tbody tr th {\n",
       "        vertical-align: top;\n",
       "    }\n",
       "\n",
       "    .dataframe thead th {\n",
       "        text-align: right;\n",
       "    }\n",
       "</style>\n",
       "<table border=\"1\" class=\"dataframe\">\n",
       "  <thead>\n",
       "    <tr style=\"text-align: right;\">\n",
       "      <th></th>\n",
       "      <th>Price</th>\n",
       "      <th>RegistrationYear</th>\n",
       "      <th>Power</th>\n",
       "      <th>Kilometer</th>\n",
       "    </tr>\n",
       "  </thead>\n",
       "  <tbody>\n",
       "    <tr>\n",
       "      <th>count</th>\n",
       "      <td>354365.000000</td>\n",
       "      <td>354365.000000</td>\n",
       "      <td>354365.000000</td>\n",
       "      <td>354365.000000</td>\n",
       "    </tr>\n",
       "    <tr>\n",
       "      <th>mean</th>\n",
       "      <td>4416.679830</td>\n",
       "      <td>2004.234481</td>\n",
       "      <td>110.093816</td>\n",
       "      <td>128211.363989</td>\n",
       "    </tr>\n",
       "    <tr>\n",
       "      <th>std</th>\n",
       "      <td>4514.176349</td>\n",
       "      <td>90.228466</td>\n",
       "      <td>189.851330</td>\n",
       "      <td>37905.083858</td>\n",
       "    </tr>\n",
       "    <tr>\n",
       "      <th>min</th>\n",
       "      <td>0.000000</td>\n",
       "      <td>1000.000000</td>\n",
       "      <td>0.000000</td>\n",
       "      <td>5000.000000</td>\n",
       "    </tr>\n",
       "    <tr>\n",
       "      <th>25%</th>\n",
       "      <td>1050.000000</td>\n",
       "      <td>1999.000000</td>\n",
       "      <td>69.000000</td>\n",
       "      <td>125000.000000</td>\n",
       "    </tr>\n",
       "    <tr>\n",
       "      <th>50%</th>\n",
       "      <td>2700.000000</td>\n",
       "      <td>2003.000000</td>\n",
       "      <td>105.000000</td>\n",
       "      <td>150000.000000</td>\n",
       "    </tr>\n",
       "    <tr>\n",
       "      <th>75%</th>\n",
       "      <td>6400.000000</td>\n",
       "      <td>2008.000000</td>\n",
       "      <td>143.000000</td>\n",
       "      <td>150000.000000</td>\n",
       "    </tr>\n",
       "    <tr>\n",
       "      <th>max</th>\n",
       "      <td>20000.000000</td>\n",
       "      <td>9999.000000</td>\n",
       "      <td>20000.000000</td>\n",
       "      <td>150000.000000</td>\n",
       "    </tr>\n",
       "  </tbody>\n",
       "</table>\n",
       "</div>"
      ],
      "text/plain": [
       "               Price  RegistrationYear          Power      Kilometer\n",
       "count  354365.000000     354365.000000  354365.000000  354365.000000\n",
       "mean     4416.679830       2004.234481     110.093816  128211.363989\n",
       "std      4514.176349         90.228466     189.851330   37905.083858\n",
       "min         0.000000       1000.000000       0.000000    5000.000000\n",
       "25%      1050.000000       1999.000000      69.000000  125000.000000\n",
       "50%      2700.000000       2003.000000     105.000000  150000.000000\n",
       "75%      6400.000000       2008.000000     143.000000  150000.000000\n",
       "max     20000.000000       9999.000000   20000.000000  150000.000000"
      ]
     },
     "execution_count": 11,
     "metadata": {},
     "output_type": "execute_result"
    }
   ],
   "source": [
    "data.describe()"
   ]
  },
  {
   "cell_type": "markdown",
   "metadata": {},
   "source": [
    "Можем заметить аномальные значения в стобцах RegistrationYear и Power. Обработаем их."
   ]
  },
  {
   "cell_type": "code",
   "execution_count": 12,
   "metadata": {},
   "outputs": [],
   "source": [
    "data = data.query('RegistrationYear > 1900 and RegistrationYear < 2017')"
   ]
  },
  {
   "cell_type": "code",
   "execution_count": 13,
   "metadata": {},
   "outputs": [],
   "source": [
    "data = data.query('Power < 2000')"
   ]
  },
  {
   "cell_type": "markdown",
   "metadata": {},
   "source": [
    "Нулевую мощность и нулевую цену заменим на медианное значение этих стобоцов, потому что удаление строк привело бы к большой потери данных."
   ]
  },
  {
   "cell_type": "code",
   "execution_count": 14,
   "metadata": {},
   "outputs": [],
   "source": [
    "data['Power'] = data['Power'].replace(0, data['Power'].median())\n",
    "data['Price'] = data['Price'].replace(0, data['Price'].median())"
   ]
  },
  {
   "cell_type": "code",
   "execution_count": 15,
   "metadata": {},
   "outputs": [
    {
     "name": "stdout",
     "output_type": "stream",
     "text": [
      "<class 'pandas.core.frame.DataFrame'>\n",
      "Int64Index: 339657 entries, 0 to 354368\n",
      "Data columns (total 10 columns):\n",
      " #   Column            Non-Null Count   Dtype  \n",
      "---  ------            --------------   -----  \n",
      " 0   Price             339657 non-null  float64\n",
      " 1   VehicleType       339657 non-null  object \n",
      " 2   RegistrationYear  339657 non-null  int64  \n",
      " 3   Gearbox           339657 non-null  object \n",
      " 4   Power             339657 non-null  float64\n",
      " 5   Model             339657 non-null  object \n",
      " 6   Kilometer         339657 non-null  int64  \n",
      " 7   FuelType          339657 non-null  object \n",
      " 8   Brand             339657 non-null  object \n",
      " 9   Repaired          339657 non-null  object \n",
      "dtypes: float64(2), int64(2), object(6)\n",
      "memory usage: 28.5+ MB\n"
     ]
    }
   ],
   "source": [
    "data.info()"
   ]
  },
  {
   "cell_type": "code",
   "execution_count": 16,
   "metadata": {},
   "outputs": [
    {
     "data": {
      "text/html": [
       "<div>\n",
       "<style scoped>\n",
       "    .dataframe tbody tr th:only-of-type {\n",
       "        vertical-align: middle;\n",
       "    }\n",
       "\n",
       "    .dataframe tbody tr th {\n",
       "        vertical-align: top;\n",
       "    }\n",
       "\n",
       "    .dataframe thead th {\n",
       "        text-align: right;\n",
       "    }\n",
       "</style>\n",
       "<table border=\"1\" class=\"dataframe\">\n",
       "  <thead>\n",
       "    <tr style=\"text-align: right;\">\n",
       "      <th></th>\n",
       "      <th>Price</th>\n",
       "      <th>RegistrationYear</th>\n",
       "      <th>Power</th>\n",
       "      <th>Kilometer</th>\n",
       "    </tr>\n",
       "  </thead>\n",
       "  <tbody>\n",
       "    <tr>\n",
       "      <th>count</th>\n",
       "      <td>339657.000000</td>\n",
       "      <td>339657.000000</td>\n",
       "      <td>339657.000000</td>\n",
       "      <td>339657.000000</td>\n",
       "    </tr>\n",
       "    <tr>\n",
       "      <th>mean</th>\n",
       "      <td>4554.084579</td>\n",
       "      <td>2002.482519</td>\n",
       "      <td>119.615927</td>\n",
       "      <td>128088.277292</td>\n",
       "    </tr>\n",
       "    <tr>\n",
       "      <th>std</th>\n",
       "      <td>4489.445806</td>\n",
       "      <td>7.090961</td>\n",
       "      <td>60.238615</td>\n",
       "      <td>37891.546696</td>\n",
       "    </tr>\n",
       "    <tr>\n",
       "      <th>min</th>\n",
       "      <td>1.000000</td>\n",
       "      <td>1910.000000</td>\n",
       "      <td>1.000000</td>\n",
       "      <td>5000.000000</td>\n",
       "    </tr>\n",
       "    <tr>\n",
       "      <th>25%</th>\n",
       "      <td>1240.000000</td>\n",
       "      <td>1999.000000</td>\n",
       "      <td>84.000000</td>\n",
       "      <td>125000.000000</td>\n",
       "    </tr>\n",
       "    <tr>\n",
       "      <th>50%</th>\n",
       "      <td>2799.000000</td>\n",
       "      <td>2003.000000</td>\n",
       "      <td>105.000000</td>\n",
       "      <td>150000.000000</td>\n",
       "    </tr>\n",
       "    <tr>\n",
       "      <th>75%</th>\n",
       "      <td>6500.000000</td>\n",
       "      <td>2007.000000</td>\n",
       "      <td>143.000000</td>\n",
       "      <td>150000.000000</td>\n",
       "    </tr>\n",
       "    <tr>\n",
       "      <th>max</th>\n",
       "      <td>20000.000000</td>\n",
       "      <td>2016.000000</td>\n",
       "      <td>1999.000000</td>\n",
       "      <td>150000.000000</td>\n",
       "    </tr>\n",
       "  </tbody>\n",
       "</table>\n",
       "</div>"
      ],
      "text/plain": [
       "               Price  RegistrationYear          Power      Kilometer\n",
       "count  339657.000000     339657.000000  339657.000000  339657.000000\n",
       "mean     4554.084579       2002.482519     119.615927  128088.277292\n",
       "std      4489.445806          7.090961      60.238615   37891.546696\n",
       "min         1.000000       1910.000000       1.000000    5000.000000\n",
       "25%      1240.000000       1999.000000      84.000000  125000.000000\n",
       "50%      2799.000000       2003.000000     105.000000  150000.000000\n",
       "75%      6500.000000       2007.000000     143.000000  150000.000000\n",
       "max     20000.000000       2016.000000    1999.000000  150000.000000"
      ]
     },
     "execution_count": 16,
     "metadata": {},
     "output_type": "execute_result"
    }
   ],
   "source": [
    "data.describe()"
   ]
  },
  {
   "cell_type": "markdown",
   "metadata": {},
   "source": [
    "В столбце FuelType заменим gasoline на petrol т.к. они обозначают бензин."
   ]
  },
  {
   "cell_type": "code",
   "execution_count": 17,
   "metadata": {},
   "outputs": [
    {
     "data": {
      "text/plain": [
       "petrol      209939\n",
       "gasoline     96283\n",
       "unknown      27227\n",
       "lpg           5158\n",
       "cng            541\n",
       "hybrid         225\n",
       "other          195\n",
       "electric        89\n",
       "Name: FuelType, dtype: int64"
      ]
     },
     "execution_count": 17,
     "metadata": {},
     "output_type": "execute_result"
    }
   ],
   "source": [
    "data['FuelType'].value_counts()"
   ]
  },
  {
   "cell_type": "code",
   "execution_count": 18,
   "metadata": {},
   "outputs": [],
   "source": [
    "data['FuelType'] = data['FuelType'].replace(['gasoline'], 'petrol')"
   ]
  },
  {
   "cell_type": "markdown",
   "metadata": {},
   "source": [
    "На этапе предобработки мы избавились от ненужных столбцов, удалили дубликаты, заполнили пропущенные значения и избавились от аномалий."
   ]
  },
  {
   "cell_type": "markdown",
   "metadata": {},
   "source": [
    "## Обучение моделей"
   ]
  },
  {
   "cell_type": "markdown",
   "metadata": {},
   "source": [
    "С помощью get_dummeis приведем категориальные значения стобцов."
   ]
  },
  {
   "cell_type": "code",
   "execution_count": 19,
   "metadata": {},
   "outputs": [],
   "source": [
    "#data_ohe = pd.get_dummies(data, drop_first=True)"
   ]
  },
  {
   "cell_type": "code",
   "execution_count": 20,
   "metadata": {},
   "outputs": [],
   "source": [
    "features_oe = data.drop('Price', axis=1)\n",
    "target_oe = data['Price']"
   ]
  },
  {
   "cell_type": "code",
   "execution_count": 21,
   "metadata": {},
   "outputs": [],
   "source": [
    "enc = OrdinalEncoder()\n",
    "enc.fit(features_oe)\n",
    "features_oe = pd.DataFrame(enc.transform(features_oe))"
   ]
  },
  {
   "cell_type": "code",
   "execution_count": 22,
   "metadata": {},
   "outputs": [],
   "source": [
    "#features_ohe = data_ohe.drop('Price', axis=1)\n",
    "#target_ohe = data_ohe['Price']"
   ]
  },
  {
   "cell_type": "code",
   "execution_count": 23,
   "metadata": {},
   "outputs": [],
   "source": [
    "features_train_oe, features_test_oe, target_train_oe, target_test_oe = train_test_split(features_oe, target_oe,\n",
    "                                                                           test_size=0.25, random_state=12345)"
   ]
  },
  {
   "cell_type": "code",
   "execution_count": 24,
   "metadata": {},
   "outputs": [
    {
     "data": {
      "text/plain": [
       "(254742, 9)"
      ]
     },
     "execution_count": 24,
     "metadata": {},
     "output_type": "execute_result"
    }
   ],
   "source": [
    "features_train_oe.shape"
   ]
  },
  {
   "cell_type": "code",
   "execution_count": 25,
   "metadata": {},
   "outputs": [
    {
     "data": {
      "text/plain": [
       "254742"
      ]
     },
     "execution_count": 25,
     "metadata": {},
     "output_type": "execute_result"
    }
   ],
   "source": [
    "len(target_train_oe)"
   ]
  },
  {
   "cell_type": "code",
   "execution_count": 26,
   "metadata": {},
   "outputs": [
    {
     "data": {
      "text/plain": [
       "(84915, 9)"
      ]
     },
     "execution_count": 26,
     "metadata": {},
     "output_type": "execute_result"
    }
   ],
   "source": [
    "features_test_oe.shape"
   ]
  },
  {
   "cell_type": "code",
   "execution_count": 27,
   "metadata": {},
   "outputs": [
    {
     "data": {
      "text/plain": [
       "84915"
      ]
     },
     "execution_count": 27,
     "metadata": {},
     "output_type": "execute_result"
    }
   ],
   "source": [
    "len(target_test_oe)"
   ]
  },
  {
   "cell_type": "code",
   "execution_count": 29,
   "metadata": {},
   "outputs": [],
   "source": [
    "features = data.drop('Price', axis=1)\n",
    "target = data['Price']"
   ]
  },
  {
   "cell_type": "markdown",
   "metadata": {},
   "source": [
    "Для модели LightGBM нам потребуется изменить тип категориальных переменных"
   ]
  },
  {
   "cell_type": "code",
   "execution_count": 30,
   "metadata": {},
   "outputs": [
    {
     "name": "stdout",
     "output_type": "stream",
     "text": [
      "<class 'pandas.core.frame.DataFrame'>\n",
      "Int64Index: 339657 entries, 0 to 354368\n",
      "Data columns (total 9 columns):\n",
      " #   Column            Non-Null Count   Dtype  \n",
      "---  ------            --------------   -----  \n",
      " 0   VehicleType       339657 non-null  object \n",
      " 1   RegistrationYear  339657 non-null  int64  \n",
      " 2   Gearbox           339657 non-null  object \n",
      " 3   Power             339657 non-null  float64\n",
      " 4   Model             339657 non-null  object \n",
      " 5   Kilometer         339657 non-null  int64  \n",
      " 6   FuelType          339657 non-null  object \n",
      " 7   Brand             339657 non-null  object \n",
      " 8   Repaired          339657 non-null  object \n",
      "dtypes: float64(1), int64(2), object(6)\n",
      "memory usage: 25.9+ MB\n"
     ]
    }
   ],
   "source": [
    "features.info()"
   ]
  },
  {
   "cell_type": "code",
   "execution_count": 31,
   "metadata": {},
   "outputs": [],
   "source": [
    "categorical = ['VehicleType', 'Gearbox', 'Model', 'FuelType', 'Brand', 'Repaired']\n",
    "features[categorical] = features[categorical].astype('category')"
   ]
  },
  {
   "cell_type": "code",
   "execution_count": 32,
   "metadata": {},
   "outputs": [
    {
     "name": "stdout",
     "output_type": "stream",
     "text": [
      "<class 'pandas.core.frame.DataFrame'>\n",
      "Int64Index: 339657 entries, 0 to 354368\n",
      "Data columns (total 9 columns):\n",
      " #   Column            Non-Null Count   Dtype   \n",
      "---  ------            --------------   -----   \n",
      " 0   VehicleType       339657 non-null  category\n",
      " 1   RegistrationYear  339657 non-null  int64   \n",
      " 2   Gearbox           339657 non-null  category\n",
      " 3   Power             339657 non-null  float64 \n",
      " 4   Model             339657 non-null  category\n",
      " 5   Kilometer         339657 non-null  int64   \n",
      " 6   FuelType          339657 non-null  category\n",
      " 7   Brand             339657 non-null  category\n",
      " 8   Repaired          339657 non-null  category\n",
      "dtypes: category(6), float64(1), int64(2)\n",
      "memory usage: 12.6 MB\n"
     ]
    }
   ],
   "source": [
    "features.info()"
   ]
  },
  {
   "cell_type": "code",
   "execution_count": 33,
   "metadata": {},
   "outputs": [],
   "source": [
    "features_train, features_test, target_train, target_test = train_test_split(features, target,\n",
    "                                                                           test_size=0.25, random_state=12345)"
   ]
  },
  {
   "cell_type": "markdown",
   "metadata": {},
   "source": [
    "## Анализ моделей"
   ]
  },
  {
   "cell_type": "markdown",
   "metadata": {},
   "source": [
    "Начнем с обучения моделей LightGBM. Для этого воспользуемся GridSearchCV."
   ]
  },
  {
   "cell_type": "code",
   "execution_count": 34,
   "metadata": {},
   "outputs": [
    {
     "name": "stdout",
     "output_type": "stream",
     "text": [
      "Fitting 2 folds for each of 2 candidates, totalling 4 fits\n",
      "[CV 1/2] END .................n_estimators=50, num_leaves=25; total time= 2.7min\n",
      "[CV 2/2] END .................n_estimators=50, num_leaves=25; total time= 2.7min\n",
      "[CV 1/2] END .................n_estimators=50, num_leaves=50; total time= 5.2min\n",
      "[CV 2/2] END .................n_estimators=50, num_leaves=50; total time= 2.3min\n"
     ]
    },
    {
     "data": {
      "text/plain": [
       "GridSearchCV(cv=2, estimator=LGBMRegressor(random_state=12345),\n",
       "             param_grid={'n_estimators': [50], 'num_leaves': [25, 50]},\n",
       "             scoring='neg_root_mean_squared_error', verbose=3)"
      ]
     },
     "execution_count": 34,
     "metadata": {},
     "output_type": "execute_result"
    }
   ],
   "source": [
    "model_lgb = lgb.LGBMRegressor(random_state=12345)\n",
    "params = {'num_leaves': [25, 50], 'n_estimators': [50]}\n",
    "m = GridSearchCV(estimator=model_lgb, param_grid=params, scoring='neg_root_mean_squared_error', cv=2, verbose=3)\n",
    "m.fit(features_train, target_train)"
   ]
  },
  {
   "cell_type": "code",
   "execution_count": 35,
   "metadata": {},
   "outputs": [
    {
     "data": {
      "text/plain": [
       "LGBMRegressor(n_estimators=50, num_leaves=50, random_state=12345)"
      ]
     },
     "execution_count": 35,
     "metadata": {},
     "output_type": "execute_result"
    }
   ],
   "source": [
    "m.best_estimator_"
   ]
  },
  {
   "cell_type": "code",
   "execution_count": 36,
   "metadata": {},
   "outputs": [
    {
     "data": {
      "text/plain": [
       "-1736.2909283276144"
      ]
     },
     "execution_count": 36,
     "metadata": {},
     "output_type": "execute_result"
    }
   ],
   "source": [
    "m.best_score_"
   ]
  },
  {
   "cell_type": "markdown",
   "metadata": {},
   "source": [
    "Получили оценку RMSE для LightGMB 1736.2909283276144. Что удовлетворяют условию нашей задачи. Оценка достигается при n_estimators=50 и num_leaves=50"
   ]
  },
  {
   "cell_type": "markdown",
   "metadata": {},
   "source": [
    "Случайный лес."
   ]
  },
  {
   "cell_type": "code",
   "execution_count": 37,
   "metadata": {},
   "outputs": [
    {
     "name": "stdout",
     "output_type": "stream",
     "text": [
      "Fitting 2 folds for each of 4 candidates, totalling 8 fits\n",
      "[CV 1/2] END ...................max_depth=5, n_estimators=50; total time=   4.7s\n",
      "[CV 2/2] END ...................max_depth=5, n_estimators=50; total time=   4.7s\n",
      "[CV 1/2] END ..................max_depth=5, n_estimators=100; total time=   9.4s\n",
      "[CV 2/2] END ..................max_depth=5, n_estimators=100; total time=   9.5s\n",
      "[CV 1/2] END ..................max_depth=10, n_estimators=50; total time=   8.4s\n",
      "[CV 2/2] END ..................max_depth=10, n_estimators=50; total time=   8.4s\n",
      "[CV 1/2] END .................max_depth=10, n_estimators=100; total time=  16.6s\n",
      "[CV 2/2] END .................max_depth=10, n_estimators=100; total time=  16.7s\n"
     ]
    },
    {
     "data": {
      "text/plain": [
       "GridSearchCV(cv=2, estimator=RandomForestRegressor(random_state=12345),\n",
       "             param_grid={'max_depth': [5, 10], 'n_estimators': [50, 100]},\n",
       "             scoring='neg_root_mean_squared_error', verbose=3)"
      ]
     },
     "execution_count": 37,
     "metadata": {},
     "output_type": "execute_result"
    }
   ],
   "source": [
    "model_forest = RandomForestRegressor(random_state=12345)\n",
    "params2 = {'max_depth': [5,10], 'n_estimators': [50, 100]}\n",
    "m2 = GridSearchCV(estimator=model_forest, param_grid=params2, scoring='neg_root_mean_squared_error', cv=2, verbose=3)\n",
    "m2.fit(features_train_oe, target_train_oe)"
   ]
  },
  {
   "cell_type": "code",
   "execution_count": 38,
   "metadata": {},
   "outputs": [
    {
     "data": {
      "text/plain": [
       "RandomForestRegressor(max_depth=10, random_state=12345)"
      ]
     },
     "execution_count": 38,
     "metadata": {},
     "output_type": "execute_result"
    }
   ],
   "source": [
    "m2.best_estimator_"
   ]
  },
  {
   "cell_type": "code",
   "execution_count": 39,
   "metadata": {},
   "outputs": [
    {
     "data": {
      "text/plain": [
       "-1953.3769419057007"
      ]
     },
     "execution_count": 39,
     "metadata": {},
     "output_type": "execute_result"
    }
   ],
   "source": [
    "m2.best_score_"
   ]
  },
  {
   "cell_type": "markdown",
   "metadata": {},
   "source": [
    "Для случайного леса так же получили нужную нам оценку качества, хотя и чуть ниже чем у LightGBM. Оценка достагается при max_depth = 10."
   ]
  },
  {
   "cell_type": "markdown",
   "metadata": {},
   "source": [
    "Посмотрим сколько времени занимает обучение и предсказание лучших моделей."
   ]
  },
  {
   "cell_type": "code",
   "execution_count": 40,
   "metadata": {},
   "outputs": [
    {
     "name": "stdout",
     "output_type": "stream",
     "text": [
      "CPU times: user 5.44 s, sys: 32.7 ms, total: 5.47 s\n",
      "Wall time: 5.44 s\n"
     ]
    },
    {
     "data": {
      "text/plain": [
       "LGBMRegressor(n_estimators=50, num_leaves=50, random_state=12345)"
      ]
     },
     "execution_count": 40,
     "metadata": {},
     "output_type": "execute_result"
    }
   ],
   "source": [
    "%%time\n",
    "best_model_lgb = m.best_estimator_\n",
    "best_model_lgb.fit(features_train, target_train)"
   ]
  },
  {
   "cell_type": "code",
   "execution_count": 41,
   "metadata": {},
   "outputs": [
    {
     "name": "stdout",
     "output_type": "stream",
     "text": [
      "CPU times: user 559 ms, sys: 2.7 ms, total: 562 ms\n",
      "Wall time: 598 ms\n"
     ]
    }
   ],
   "source": [
    "%%time\n",
    "predictions_lgb = best_model_lgb.predict(features_test)"
   ]
  },
  {
   "cell_type": "code",
   "execution_count": 42,
   "metadata": {},
   "outputs": [
    {
     "data": {
      "text/plain": [
       "1721.537990222616"
      ]
     },
     "execution_count": 42,
     "metadata": {},
     "output_type": "execute_result"
    }
   ],
   "source": [
    "mean_squared_error(target_test, predictions_lgb)**0.5"
   ]
  },
  {
   "cell_type": "code",
   "execution_count": 43,
   "metadata": {},
   "outputs": [
    {
     "name": "stdout",
     "output_type": "stream",
     "text": [
      "CPU times: user 37.7 s, sys: 34.7 ms, total: 37.7 s\n",
      "Wall time: 37.8 s\n"
     ]
    },
    {
     "data": {
      "text/plain": [
       "RandomForestRegressor(max_depth=10, random_state=12345)"
      ]
     },
     "execution_count": 43,
     "metadata": {},
     "output_type": "execute_result"
    }
   ],
   "source": [
    "%%time\n",
    "best_model_forest = m2.best_estimator_\n",
    "best_model_forest.fit(features_train_oe, target_train_oe)"
   ]
  },
  {
   "cell_type": "code",
   "execution_count": 44,
   "metadata": {},
   "outputs": [
    {
     "name": "stdout",
     "output_type": "stream",
     "text": [
      "CPU times: user 760 ms, sys: 391 µs, total: 761 ms\n",
      "Wall time: 767 ms\n"
     ]
    }
   ],
   "source": [
    "%%time\n",
    "predictions_forest = best_model_forest.predict(features_test_oe)"
   ]
  },
  {
   "cell_type": "code",
   "execution_count": 45,
   "metadata": {},
   "outputs": [
    {
     "data": {
      "text/plain": [
       "1944.6699489501673"
      ]
     },
     "execution_count": 45,
     "metadata": {},
     "output_type": "execute_result"
    }
   ],
   "source": [
    "mean_squared_error(target_test_oe, predictions_forest)**0.5"
   ]
  },
  {
   "cell_type": "markdown",
   "metadata": {},
   "source": [
    "Провели обучение и посчитали RMSE на тестовых выборках для двух лучших моделей LightGBM и RandomForestRegressor. Обучение заняло меньше времени у LightGBM, а так же метрика качества оказалась лучше. Время предсказания примерно одинаковое."
   ]
  },
  {
   "cell_type": "markdown",
   "metadata": {},
   "source": [
    "Вывод.  \n",
    "  \n",
    "1. Была проведена предобработка данных. Удалены дубликаты, обработаны пропуски и аномалии, удалены лишние столбцы.  \n",
    "2. Данные были подготовлены для обучения ими моделей. Для RandomForestRegressor был применен OrdinalEncoder(), а для LightGBM категориальные столбцы были приведены к правильному для него типу.  \n",
    "3. С помощью GridSearchCV были найдены лучшие модели LightGBM и RandomForestRegressor. Ими оказались LGBMRegressor(n_estimators=50, num_leaves=50, random_state=12345) и RandomForestRegressor(max_depth=10, random_state=12345) соотвественно.  \n",
    "4. Лучшие модели были заново обучены и проверилась метрика качества на тестовых данных. Получили, что обучение лучшей модели LightGBM заняло  5.47 s, а RandomForestRegressor 37.7 s. Предсказание для обоих моделей заняло меньше секунды, а результаты подсчета RMSE оказали следующие: для LightGBM 1721.537990222616, для RandomForestRegressor 1944.6699489501673."
   ]
  },
  {
   "cell_type": "code",
   "execution_count": null,
   "metadata": {},
   "outputs": [],
   "source": []
  }
 ],
 "metadata": {
  "ExecuteTimeLog": [
   {
    "duration": 1082,
    "start_time": "2023-11-12T14:58:59.210Z"
   },
   {
    "duration": 1276,
    "start_time": "2023-11-12T15:00:12.254Z"
   },
   {
    "duration": 959,
    "start_time": "2023-11-12T15:00:17.637Z"
   },
   {
    "duration": 148,
    "start_time": "2023-11-12T15:00:34.900Z"
   },
   {
    "duration": 134,
    "start_time": "2023-11-12T15:01:01.326Z"
   },
   {
    "duration": 47,
    "start_time": "2023-11-12T15:06:02.273Z"
   },
   {
    "duration": 31,
    "start_time": "2023-11-12T15:06:11.813Z"
   },
   {
    "duration": 210,
    "start_time": "2023-11-12T15:07:01.585Z"
   },
   {
    "duration": 1213,
    "start_time": "2023-11-12T15:07:25.818Z"
   },
   {
    "duration": 951,
    "start_time": "2023-11-12T15:07:27.033Z"
   },
   {
    "duration": 153,
    "start_time": "2023-11-12T15:07:27.986Z"
   },
   {
    "duration": 514,
    "start_time": "2023-11-12T15:07:28.141Z"
   },
   {
    "duration": 37,
    "start_time": "2023-11-12T15:07:28.656Z"
   },
   {
    "duration": 240,
    "start_time": "2023-11-12T15:07:28.694Z"
   },
   {
    "duration": 1057,
    "start_time": "2023-11-12T15:08:19.232Z"
   },
   {
    "duration": 988,
    "start_time": "2023-11-12T15:08:20.291Z"
   },
   {
    "duration": 159,
    "start_time": "2023-11-12T15:08:21.281Z"
   },
   {
    "duration": 493,
    "start_time": "2023-11-12T15:08:21.442Z"
   },
   {
    "duration": 113,
    "start_time": "2023-11-12T15:08:21.937Z"
   },
   {
    "duration": 0,
    "start_time": "2023-11-12T15:08:22.051Z"
   },
   {
    "duration": 1033,
    "start_time": "2023-11-12T15:08:35.251Z"
   },
   {
    "duration": 52,
    "start_time": "2023-11-12T15:08:49.052Z"
   },
   {
    "duration": 93,
    "start_time": "2023-11-12T15:08:59.750Z"
   },
   {
    "duration": 1213,
    "start_time": "2023-11-12T15:09:54.320Z"
   },
   {
    "duration": 1241,
    "start_time": "2023-11-12T15:09:58.284Z"
   },
   {
    "duration": 36,
    "start_time": "2023-11-12T15:10:05.492Z"
   },
   {
    "duration": 20,
    "start_time": "2023-11-12T15:11:49.388Z"
   },
   {
    "duration": 19,
    "start_time": "2023-11-12T15:11:52.316Z"
   },
   {
    "duration": 98,
    "start_time": "2023-11-12T15:11:58.020Z"
   },
   {
    "duration": 106,
    "start_time": "2023-11-12T15:15:19.526Z"
   },
   {
    "duration": 122,
    "start_time": "2023-11-12T15:15:25.773Z"
   },
   {
    "duration": 99,
    "start_time": "2023-11-12T15:16:06.518Z"
   },
   {
    "duration": 82,
    "start_time": "2023-11-12T15:17:01.561Z"
   },
   {
    "duration": 41,
    "start_time": "2023-11-12T15:22:50.739Z"
   },
   {
    "duration": 10,
    "start_time": "2023-11-12T15:22:59.715Z"
   },
   {
    "duration": 126,
    "start_time": "2023-11-12T15:23:07.819Z"
   },
   {
    "duration": 38,
    "start_time": "2023-11-12T15:24:20.693Z"
   },
   {
    "duration": 109,
    "start_time": "2023-11-12T15:24:29.284Z"
   },
   {
    "duration": 73,
    "start_time": "2023-11-12T15:24:51.524Z"
   },
   {
    "duration": 10,
    "start_time": "2023-11-12T15:26:18.142Z"
   },
   {
    "duration": 19,
    "start_time": "2023-11-12T15:28:45.007Z"
   },
   {
    "duration": 17,
    "start_time": "2023-11-12T15:28:48.422Z"
   },
   {
    "duration": 4,
    "start_time": "2023-11-12T15:28:52.960Z"
   },
   {
    "duration": 88,
    "start_time": "2023-11-12T15:29:25.552Z"
   },
   {
    "duration": 80,
    "start_time": "2023-11-12T15:29:36.088Z"
   },
   {
    "duration": 8,
    "start_time": "2023-11-12T15:29:48.969Z"
   },
   {
    "duration": 30,
    "start_time": "2023-11-12T15:29:56.586Z"
   },
   {
    "duration": 6,
    "start_time": "2023-11-12T15:30:06.185Z"
   },
   {
    "duration": 3,
    "start_time": "2023-11-12T15:31:03.761Z"
   },
   {
    "duration": 5,
    "start_time": "2023-11-12T15:33:22.981Z"
   },
   {
    "duration": 92,
    "start_time": "2023-11-12T15:33:27.472Z"
   },
   {
    "duration": 72,
    "start_time": "2023-11-12T15:33:45.483Z"
   },
   {
    "duration": 56,
    "start_time": "2023-11-12T15:33:48.395Z"
   },
   {
    "duration": 73,
    "start_time": "2023-11-12T15:34:00.722Z"
   },
   {
    "duration": 1171,
    "start_time": "2023-11-12T15:34:10.012Z"
   },
   {
    "duration": 938,
    "start_time": "2023-11-12T15:34:11.188Z"
   },
   {
    "duration": 164,
    "start_time": "2023-11-12T15:34:12.127Z"
   },
   {
    "duration": 508,
    "start_time": "2023-11-12T15:34:12.293Z"
   },
   {
    "duration": 1069,
    "start_time": "2023-11-12T15:34:12.803Z"
   },
   {
    "duration": 49,
    "start_time": "2023-11-12T15:34:13.874Z"
   },
   {
    "duration": 100,
    "start_time": "2023-11-12T15:34:13.924Z"
   },
   {
    "duration": 125,
    "start_time": "2023-11-12T15:34:14.026Z"
   },
   {
    "duration": 98,
    "start_time": "2023-11-12T15:34:14.153Z"
   },
   {
    "duration": 116,
    "start_time": "2023-11-12T15:34:14.254Z"
   },
   {
    "duration": 63,
    "start_time": "2023-11-12T15:34:14.372Z"
   },
   {
    "duration": 39,
    "start_time": "2023-11-12T15:34:14.437Z"
   },
   {
    "duration": 39,
    "start_time": "2023-11-12T15:34:14.479Z"
   },
   {
    "duration": 105,
    "start_time": "2023-11-12T15:34:14.520Z"
   },
   {
    "duration": 71,
    "start_time": "2023-11-12T15:34:14.626Z"
   },
   {
    "duration": 14,
    "start_time": "2023-11-12T15:34:14.699Z"
   },
   {
    "duration": 94,
    "start_time": "2023-11-12T15:34:14.714Z"
   },
   {
    "duration": 72,
    "start_time": "2023-11-12T15:34:14.809Z"
   },
   {
    "duration": 5,
    "start_time": "2023-11-12T15:34:14.883Z"
   },
   {
    "duration": 70,
    "start_time": "2023-11-12T15:34:14.889Z"
   },
   {
    "duration": 12,
    "start_time": "2023-11-12T15:34:14.960Z"
   },
   {
    "duration": 246,
    "start_time": "2023-11-12T15:34:14.974Z"
   },
   {
    "duration": 1138,
    "start_time": "2023-11-12T15:38:43.136Z"
   },
   {
    "duration": 941,
    "start_time": "2023-11-12T15:38:44.277Z"
   },
   {
    "duration": 165,
    "start_time": "2023-11-12T15:38:45.220Z"
   },
   {
    "duration": 513,
    "start_time": "2023-11-12T15:38:45.387Z"
   },
   {
    "duration": 1016,
    "start_time": "2023-11-12T15:38:45.904Z"
   },
   {
    "duration": 67,
    "start_time": "2023-11-12T15:38:46.922Z"
   },
   {
    "duration": 85,
    "start_time": "2023-11-12T15:38:46.991Z"
   },
   {
    "duration": 93,
    "start_time": "2023-11-12T15:38:47.080Z"
   },
   {
    "duration": 99,
    "start_time": "2023-11-12T15:38:47.174Z"
   },
   {
    "duration": 95,
    "start_time": "2023-11-12T15:38:47.276Z"
   },
   {
    "duration": 65,
    "start_time": "2023-11-12T15:38:47.372Z"
   },
   {
    "duration": 39,
    "start_time": "2023-11-12T15:38:47.439Z"
   },
   {
    "duration": 38,
    "start_time": "2023-11-12T15:38:47.480Z"
   },
   {
    "duration": 105,
    "start_time": "2023-11-12T15:38:47.519Z"
   },
   {
    "duration": 63,
    "start_time": "2023-11-12T15:38:47.625Z"
   },
   {
    "duration": 737,
    "start_time": "2023-11-12T15:38:47.689Z"
   },
   {
    "duration": 219,
    "start_time": "2023-11-12T15:38:48.428Z"
   },
   {
    "duration": 350,
    "start_time": "2023-11-12T15:38:48.648Z"
   },
   {
    "duration": 17,
    "start_time": "2023-11-12T15:38:49.000Z"
   },
   {
    "duration": 6,
    "start_time": "2023-11-12T15:38:49.018Z"
   },
   {
    "duration": 34,
    "start_time": "2023-11-12T15:38:49.025Z"
   },
   {
    "duration": 35,
    "start_time": "2023-11-12T15:38:49.060Z"
   },
   {
    "duration": 3191,
    "start_time": "2023-11-12T15:38:49.096Z"
   },
   {
    "duration": 4,
    "start_time": "2023-11-12T15:39:00.055Z"
   },
   {
    "duration": 1023,
    "start_time": "2023-11-12T15:39:23.119Z"
   },
   {
    "duration": 891,
    "start_time": "2023-11-12T15:39:24.144Z"
   },
   {
    "duration": 180,
    "start_time": "2023-11-12T15:39:25.037Z"
   },
   {
    "duration": 502,
    "start_time": "2023-11-12T15:39:25.219Z"
   },
   {
    "duration": 1040,
    "start_time": "2023-11-12T15:39:25.722Z"
   },
   {
    "duration": 48,
    "start_time": "2023-11-12T15:39:26.765Z"
   },
   {
    "duration": 107,
    "start_time": "2023-11-12T15:39:26.815Z"
   },
   {
    "duration": 108,
    "start_time": "2023-11-12T15:39:26.923Z"
   },
   {
    "duration": 99,
    "start_time": "2023-11-12T15:39:27.032Z"
   },
   {
    "duration": 110,
    "start_time": "2023-11-12T15:39:27.134Z"
   },
   {
    "duration": 70,
    "start_time": "2023-11-12T15:39:27.246Z"
   },
   {
    "duration": 28,
    "start_time": "2023-11-12T15:39:27.318Z"
   },
   {
    "duration": 55,
    "start_time": "2023-11-12T15:39:27.348Z"
   },
   {
    "duration": 106,
    "start_time": "2023-11-12T15:39:27.405Z"
   },
   {
    "duration": 80,
    "start_time": "2023-11-12T15:39:27.513Z"
   },
   {
    "duration": 796,
    "start_time": "2023-11-12T15:39:27.595Z"
   },
   {
    "duration": 223,
    "start_time": "2023-11-12T15:39:28.393Z"
   },
   {
    "duration": 346,
    "start_time": "2023-11-12T15:39:28.617Z"
   },
   {
    "duration": 30,
    "start_time": "2023-11-12T15:39:28.964Z"
   },
   {
    "duration": 21,
    "start_time": "2023-11-12T15:39:28.997Z"
   },
   {
    "duration": 25,
    "start_time": "2023-11-12T15:39:29.020Z"
   },
   {
    "duration": 42,
    "start_time": "2023-11-12T15:39:29.047Z"
   },
   {
    "duration": 3295,
    "start_time": "2023-11-12T15:39:29.093Z"
   },
   {
    "duration": 41,
    "start_time": "2023-11-12T15:39:32.390Z"
   },
   {
    "duration": 37,
    "start_time": "2023-11-12T15:39:50.711Z"
   },
   {
    "duration": 54,
    "start_time": "2023-11-12T15:39:55.768Z"
   },
   {
    "duration": 27,
    "start_time": "2023-11-12T15:40:00.191Z"
   },
   {
    "duration": 114,
    "start_time": "2023-11-12T15:43:52.370Z"
   },
   {
    "duration": 3,
    "start_time": "2023-11-12T15:47:42.852Z"
   },
   {
    "duration": 1218,
    "start_time": "2023-11-12T15:49:29.283Z"
   },
   {
    "duration": 1004,
    "start_time": "2023-11-12T15:49:30.502Z"
   },
   {
    "duration": 141,
    "start_time": "2023-11-12T15:49:31.507Z"
   },
   {
    "duration": 504,
    "start_time": "2023-11-12T15:49:31.650Z"
   },
   {
    "duration": 1005,
    "start_time": "2023-11-12T15:49:32.156Z"
   },
   {
    "duration": 56,
    "start_time": "2023-11-12T15:49:33.165Z"
   },
   {
    "duration": 100,
    "start_time": "2023-11-12T15:49:33.223Z"
   },
   {
    "duration": 107,
    "start_time": "2023-11-12T15:49:33.325Z"
   },
   {
    "duration": 98,
    "start_time": "2023-11-12T15:49:33.434Z"
   },
   {
    "duration": 105,
    "start_time": "2023-11-12T15:49:33.534Z"
   },
   {
    "duration": 73,
    "start_time": "2023-11-12T15:49:33.640Z"
   },
   {
    "duration": 29,
    "start_time": "2023-11-12T15:49:33.714Z"
   },
   {
    "duration": 53,
    "start_time": "2023-11-12T15:49:33.744Z"
   },
   {
    "duration": 109,
    "start_time": "2023-11-12T15:49:33.798Z"
   },
   {
    "duration": 64,
    "start_time": "2023-11-12T15:49:33.909Z"
   },
   {
    "duration": 748,
    "start_time": "2023-11-12T15:49:33.979Z"
   },
   {
    "duration": 227,
    "start_time": "2023-11-12T15:49:34.728Z"
   },
   {
    "duration": 358,
    "start_time": "2023-11-12T15:49:34.957Z"
   },
   {
    "duration": 20,
    "start_time": "2023-11-12T15:49:35.316Z"
   },
   {
    "duration": 11,
    "start_time": "2023-11-12T15:49:35.338Z"
   },
   {
    "duration": 41,
    "start_time": "2023-11-12T15:49:35.350Z"
   },
   {
    "duration": 3,
    "start_time": "2023-11-12T15:49:35.393Z"
   },
   {
    "duration": 30,
    "start_time": "2023-11-12T15:49:35.397Z"
   },
   {
    "duration": 8,
    "start_time": "2023-11-12T15:51:44.575Z"
   },
   {
    "duration": 4,
    "start_time": "2023-11-12T15:51:45.673Z"
   },
   {
    "duration": 3177,
    "start_time": "2023-11-12T15:53:21.864Z"
   },
   {
    "duration": 1168,
    "start_time": "2023-11-12T19:59:25.509Z"
   },
   {
    "duration": 870,
    "start_time": "2023-11-12T19:59:26.680Z"
   },
   {
    "duration": 141,
    "start_time": "2023-11-12T19:59:27.551Z"
   },
   {
    "duration": 505,
    "start_time": "2023-11-12T19:59:27.695Z"
   },
   {
    "duration": 960,
    "start_time": "2023-11-12T19:59:28.201Z"
   },
   {
    "duration": 47,
    "start_time": "2023-11-12T19:59:29.165Z"
   },
   {
    "duration": 100,
    "start_time": "2023-11-12T19:59:29.214Z"
   },
   {
    "duration": 105,
    "start_time": "2023-11-12T19:59:29.316Z"
   },
   {
    "duration": 89,
    "start_time": "2023-11-12T19:59:29.422Z"
   },
   {
    "duration": 101,
    "start_time": "2023-11-12T19:59:29.514Z"
   },
   {
    "duration": 67,
    "start_time": "2023-11-12T19:59:29.617Z"
   },
   {
    "duration": 28,
    "start_time": "2023-11-12T19:59:29.686Z"
   },
   {
    "duration": 33,
    "start_time": "2023-11-12T19:59:29.716Z"
   },
   {
    "duration": 101,
    "start_time": "2023-11-12T19:59:29.767Z"
   },
   {
    "duration": 57,
    "start_time": "2023-11-12T19:59:29.874Z"
   },
   {
    "duration": 804,
    "start_time": "2023-11-12T19:59:29.933Z"
   },
   {
    "duration": 224,
    "start_time": "2023-11-12T19:59:30.739Z"
   },
   {
    "duration": 354,
    "start_time": "2023-11-12T19:59:30.965Z"
   },
   {
    "duration": 4,
    "start_time": "2023-11-12T19:59:31.321Z"
   },
   {
    "duration": 74,
    "start_time": "2023-11-12T19:59:31.326Z"
   },
   {
    "duration": 35,
    "start_time": "2023-11-12T19:59:31.402Z"
   },
   {
    "duration": 18,
    "start_time": "2023-11-12T19:59:31.438Z"
   },
   {
    "duration": 3210,
    "start_time": "2023-11-12T19:59:31.458Z"
   },
   {
    "duration": 18,
    "start_time": "2023-11-12T20:00:14.016Z"
   },
   {
    "duration": 91,
    "start_time": "2023-11-12T20:00:35.012Z"
   },
   {
    "duration": 3,
    "start_time": "2023-11-12T20:00:41.635Z"
   },
   {
    "duration": 3,
    "start_time": "2023-11-12T20:00:47.431Z"
   },
   {
    "duration": 144,
    "start_time": "2023-11-12T20:00:51.123Z"
   },
   {
    "duration": 69,
    "start_time": "2023-11-12T20:05:03.888Z"
   },
   {
    "duration": 1176,
    "start_time": "2023-11-12T20:05:18.918Z"
   },
   {
    "duration": 889,
    "start_time": "2023-11-12T20:05:20.096Z"
   },
   {
    "duration": 141,
    "start_time": "2023-11-12T20:05:20.987Z"
   },
   {
    "duration": 486,
    "start_time": "2023-11-12T20:05:21.130Z"
   },
   {
    "duration": 1006,
    "start_time": "2023-11-12T20:05:21.617Z"
   },
   {
    "duration": 58,
    "start_time": "2023-11-12T20:05:22.625Z"
   },
   {
    "duration": 88,
    "start_time": "2023-11-12T20:05:22.684Z"
   },
   {
    "duration": 108,
    "start_time": "2023-11-12T20:05:22.777Z"
   },
   {
    "duration": 79,
    "start_time": "2023-11-12T20:05:22.887Z"
   },
   {
    "duration": 97,
    "start_time": "2023-11-12T20:05:22.970Z"
   },
   {
    "duration": 56,
    "start_time": "2023-11-12T20:05:23.070Z"
   },
   {
    "duration": 41,
    "start_time": "2023-11-12T20:05:23.128Z"
   },
   {
    "duration": 36,
    "start_time": "2023-11-12T20:05:23.172Z"
   },
   {
    "duration": 97,
    "start_time": "2023-11-12T20:05:23.210Z"
   },
   {
    "duration": 67,
    "start_time": "2023-11-12T20:05:23.308Z"
   },
   {
    "duration": 699,
    "start_time": "2023-11-12T20:05:23.378Z"
   },
   {
    "duration": 218,
    "start_time": "2023-11-12T20:05:24.079Z"
   },
   {
    "duration": 341,
    "start_time": "2023-11-12T20:05:24.299Z"
   },
   {
    "duration": 5,
    "start_time": "2023-11-12T20:05:24.642Z"
   },
   {
    "duration": 29,
    "start_time": "2023-11-12T20:05:24.648Z"
   },
   {
    "duration": 11,
    "start_time": "2023-11-12T20:05:24.679Z"
   },
   {
    "duration": 28,
    "start_time": "2023-11-12T20:05:24.692Z"
   },
   {
    "duration": 3186,
    "start_time": "2023-11-12T20:05:24.722Z"
   },
   {
    "duration": 15,
    "start_time": "2023-11-12T20:05:27.910Z"
   },
   {
    "duration": 15,
    "start_time": "2023-11-12T20:05:27.927Z"
   },
   {
    "duration": 122,
    "start_time": "2023-11-12T20:05:27.943Z"
   },
   {
    "duration": 100,
    "start_time": "2023-11-12T20:05:50.847Z"
   },
   {
    "duration": 3,
    "start_time": "2023-11-12T20:06:51.055Z"
   },
   {
    "duration": 183,
    "start_time": "2023-11-12T20:07:20.959Z"
   },
   {
    "duration": 26,
    "start_time": "2023-11-12T20:07:24.536Z"
   },
   {
    "duration": 37,
    "start_time": "2023-11-12T20:07:32.792Z"
   },
   {
    "duration": 39046,
    "start_time": "2023-11-12T20:07:37.448Z"
   },
   {
    "duration": 1233,
    "start_time": "2023-11-12T23:12:19.269Z"
   },
   {
    "duration": 966,
    "start_time": "2023-11-12T23:12:20.504Z"
   },
   {
    "duration": 179,
    "start_time": "2023-11-12T23:12:21.472Z"
   },
   {
    "duration": 524,
    "start_time": "2023-11-12T23:12:21.653Z"
   },
   {
    "duration": 1051,
    "start_time": "2023-11-12T23:12:22.179Z"
   },
   {
    "duration": 64,
    "start_time": "2023-11-12T23:12:23.232Z"
   },
   {
    "duration": 118,
    "start_time": "2023-11-12T23:12:23.299Z"
   },
   {
    "duration": 128,
    "start_time": "2023-11-12T23:12:23.418Z"
   },
   {
    "duration": 142,
    "start_time": "2023-11-12T23:12:23.548Z"
   },
   {
    "duration": 113,
    "start_time": "2023-11-12T23:12:23.699Z"
   },
   {
    "duration": 70,
    "start_time": "2023-11-12T23:12:23.813Z"
   },
   {
    "duration": 40,
    "start_time": "2023-11-12T23:12:23.887Z"
   },
   {
    "duration": 47,
    "start_time": "2023-11-12T23:12:23.928Z"
   },
   {
    "duration": 100,
    "start_time": "2023-11-12T23:12:23.978Z"
   },
   {
    "duration": 56,
    "start_time": "2023-11-12T23:12:24.079Z"
   },
   {
    "duration": 780,
    "start_time": "2023-11-12T23:12:24.137Z"
   },
   {
    "duration": 229,
    "start_time": "2023-11-12T23:12:24.918Z"
   },
   {
    "duration": 356,
    "start_time": "2023-11-12T23:12:25.149Z"
   },
   {
    "duration": 5,
    "start_time": "2023-11-12T23:12:25.507Z"
   },
   {
    "duration": 4,
    "start_time": "2023-11-12T23:12:25.514Z"
   },
   {
    "duration": 5,
    "start_time": "2023-11-12T23:12:25.520Z"
   },
   {
    "duration": 6,
    "start_time": "2023-11-12T23:12:25.526Z"
   },
   {
    "duration": 3253,
    "start_time": "2023-11-12T23:12:25.533Z"
   },
   {
    "duration": 17,
    "start_time": "2023-11-12T23:12:28.788Z"
   },
   {
    "duration": 124,
    "start_time": "2023-11-12T23:12:28.807Z"
   },
   {
    "duration": 192,
    "start_time": "2023-11-12T23:12:28.932Z"
   },
   {
    "duration": 19,
    "start_time": "2023-11-12T23:12:29.125Z"
   },
   {
    "duration": 54,
    "start_time": "2023-11-12T23:12:29.147Z"
   },
   {
    "duration": 1251,
    "start_time": "2023-11-12T23:16:30.970Z"
   },
   {
    "duration": 911,
    "start_time": "2023-11-12T23:16:32.222Z"
   },
   {
    "duration": 156,
    "start_time": "2023-11-12T23:16:33.134Z"
   },
   {
    "duration": 542,
    "start_time": "2023-11-12T23:16:33.297Z"
   },
   {
    "duration": 1042,
    "start_time": "2023-11-12T23:16:33.841Z"
   },
   {
    "duration": 44,
    "start_time": "2023-11-12T23:16:34.888Z"
   },
   {
    "duration": 110,
    "start_time": "2023-11-12T23:16:34.934Z"
   },
   {
    "duration": 104,
    "start_time": "2023-11-12T23:16:35.045Z"
   },
   {
    "duration": 98,
    "start_time": "2023-11-12T23:16:35.151Z"
   },
   {
    "duration": 106,
    "start_time": "2023-11-12T23:16:35.251Z"
   },
   {
    "duration": 73,
    "start_time": "2023-11-12T23:16:35.358Z"
   },
   {
    "duration": 45,
    "start_time": "2023-11-12T23:16:35.433Z"
   },
   {
    "duration": 43,
    "start_time": "2023-11-12T23:16:35.480Z"
   },
   {
    "duration": 115,
    "start_time": "2023-11-12T23:16:35.526Z"
   },
   {
    "duration": 68,
    "start_time": "2023-11-12T23:16:35.642Z"
   },
   {
    "duration": 795,
    "start_time": "2023-11-12T23:16:35.712Z"
   },
   {
    "duration": 229,
    "start_time": "2023-11-12T23:16:36.509Z"
   },
   {
    "duration": 350,
    "start_time": "2023-11-12T23:16:36.740Z"
   },
   {
    "duration": 7,
    "start_time": "2023-11-12T23:16:37.092Z"
   },
   {
    "duration": 20,
    "start_time": "2023-11-12T23:16:37.101Z"
   },
   {
    "duration": 20,
    "start_time": "2023-11-12T23:16:37.122Z"
   },
   {
    "duration": 25,
    "start_time": "2023-11-12T23:16:37.143Z"
   },
   {
    "duration": 3250,
    "start_time": "2023-11-12T23:16:37.172Z"
   },
   {
    "duration": 14,
    "start_time": "2023-11-12T23:16:40.424Z"
   },
   {
    "duration": 114,
    "start_time": "2023-11-12T23:16:40.439Z"
   },
   {
    "duration": 198,
    "start_time": "2023-11-12T23:16:40.554Z"
   },
   {
    "duration": 43,
    "start_time": "2023-11-12T23:16:40.754Z"
   },
   {
    "duration": 37,
    "start_time": "2023-11-12T23:16:40.799Z"
   },
   {
    "duration": 1227,
    "start_time": "2023-11-12T23:18:25.074Z"
   },
   {
    "duration": 903,
    "start_time": "2023-11-12T23:18:26.302Z"
   },
   {
    "duration": 144,
    "start_time": "2023-11-12T23:18:27.207Z"
   },
   {
    "duration": 493,
    "start_time": "2023-11-12T23:18:27.353Z"
   },
   {
    "duration": 986,
    "start_time": "2023-11-12T23:18:27.847Z"
   },
   {
    "duration": 61,
    "start_time": "2023-11-12T23:18:28.835Z"
   },
   {
    "duration": 96,
    "start_time": "2023-11-12T23:18:28.897Z"
   },
   {
    "duration": 104,
    "start_time": "2023-11-12T23:18:28.995Z"
   },
   {
    "duration": 87,
    "start_time": "2023-11-12T23:18:29.101Z"
   },
   {
    "duration": 99,
    "start_time": "2023-11-12T23:18:29.191Z"
   },
   {
    "duration": 57,
    "start_time": "2023-11-12T23:18:29.292Z"
   },
   {
    "duration": 50,
    "start_time": "2023-11-12T23:18:29.351Z"
   },
   {
    "duration": 34,
    "start_time": "2023-11-12T23:18:29.403Z"
   },
   {
    "duration": 110,
    "start_time": "2023-11-12T23:18:29.439Z"
   },
   {
    "duration": 72,
    "start_time": "2023-11-12T23:18:29.551Z"
   },
   {
    "duration": 782,
    "start_time": "2023-11-12T23:18:29.625Z"
   },
   {
    "duration": 227,
    "start_time": "2023-11-12T23:18:30.408Z"
   },
   {
    "duration": 347,
    "start_time": "2023-11-12T23:18:30.637Z"
   },
   {
    "duration": 6,
    "start_time": "2023-11-12T23:18:30.986Z"
   },
   {
    "duration": 50,
    "start_time": "2023-11-12T23:18:30.993Z"
   },
   {
    "duration": 53,
    "start_time": "2023-11-12T23:18:31.045Z"
   },
   {
    "duration": 47,
    "start_time": "2023-11-12T23:18:31.100Z"
   },
   {
    "duration": 3177,
    "start_time": "2023-11-12T23:18:31.148Z"
   },
   {
    "duration": 15,
    "start_time": "2023-11-12T23:18:34.326Z"
   },
   {
    "duration": 109,
    "start_time": "2023-11-12T23:18:34.343Z"
   },
   {
    "duration": 210,
    "start_time": "2023-11-12T23:18:34.453Z"
   },
   {
    "duration": 22,
    "start_time": "2023-11-12T23:18:34.665Z"
   },
   {
    "duration": 36,
    "start_time": "2023-11-12T23:18:34.690Z"
   },
   {
    "duration": 1328,
    "start_time": "2023-11-12T23:19:16.679Z"
   },
   {
    "duration": 909,
    "start_time": "2023-11-12T23:19:18.008Z"
   },
   {
    "duration": 140,
    "start_time": "2023-11-12T23:19:18.918Z"
   },
   {
    "duration": 485,
    "start_time": "2023-11-12T23:19:19.071Z"
   },
   {
    "duration": 1011,
    "start_time": "2023-11-12T23:19:19.558Z"
   },
   {
    "duration": 50,
    "start_time": "2023-11-12T23:19:20.571Z"
   },
   {
    "duration": 113,
    "start_time": "2023-11-12T23:19:20.623Z"
   },
   {
    "duration": 123,
    "start_time": "2023-11-12T23:19:20.737Z"
   },
   {
    "duration": 103,
    "start_time": "2023-11-12T23:19:20.861Z"
   },
   {
    "duration": 112,
    "start_time": "2023-11-12T23:19:20.973Z"
   },
   {
    "duration": 62,
    "start_time": "2023-11-12T23:19:21.087Z"
   },
   {
    "duration": 44,
    "start_time": "2023-11-12T23:19:21.150Z"
   },
   {
    "duration": 34,
    "start_time": "2023-11-12T23:19:21.196Z"
   },
   {
    "duration": 112,
    "start_time": "2023-11-12T23:19:21.232Z"
   },
   {
    "duration": 71,
    "start_time": "2023-11-12T23:19:21.346Z"
   },
   {
    "duration": 808,
    "start_time": "2023-11-12T23:19:21.419Z"
   },
   {
    "duration": 219,
    "start_time": "2023-11-12T23:19:22.228Z"
   },
   {
    "duration": 383,
    "start_time": "2023-11-12T23:19:22.449Z"
   },
   {
    "duration": 4,
    "start_time": "2023-11-12T23:19:22.834Z"
   },
   {
    "duration": 16,
    "start_time": "2023-11-12T23:19:22.839Z"
   },
   {
    "duration": 22,
    "start_time": "2023-11-12T23:19:22.856Z"
   },
   {
    "duration": 4,
    "start_time": "2023-11-12T23:19:22.880Z"
   },
   {
    "duration": 3151,
    "start_time": "2023-11-12T23:19:22.885Z"
   },
   {
    "duration": 17,
    "start_time": "2023-11-12T23:19:26.038Z"
   },
   {
    "duration": 159,
    "start_time": "2023-11-12T23:19:26.056Z"
   },
   {
    "duration": 202,
    "start_time": "2023-11-12T23:19:26.217Z"
   },
   {
    "duration": 20,
    "start_time": "2023-11-12T23:19:26.421Z"
   },
   {
    "duration": 63,
    "start_time": "2023-11-12T23:19:26.444Z"
   },
   {
    "duration": 1198,
    "start_time": "2023-11-12T23:20:08.331Z"
   },
   {
    "duration": 899,
    "start_time": "2023-11-12T23:20:09.530Z"
   },
   {
    "duration": 168,
    "start_time": "2023-11-12T23:20:10.431Z"
   },
   {
    "duration": 505,
    "start_time": "2023-11-12T23:20:10.601Z"
   },
   {
    "duration": 1021,
    "start_time": "2023-11-12T23:20:11.108Z"
   },
   {
    "duration": 61,
    "start_time": "2023-11-12T23:20:12.130Z"
   },
   {
    "duration": 82,
    "start_time": "2023-11-12T23:20:12.193Z"
   },
   {
    "duration": 117,
    "start_time": "2023-11-12T23:20:12.278Z"
   },
   {
    "duration": 98,
    "start_time": "2023-11-12T23:20:12.396Z"
   },
   {
    "duration": 99,
    "start_time": "2023-11-12T23:20:12.500Z"
   },
   {
    "duration": 73,
    "start_time": "2023-11-12T23:20:12.600Z"
   },
   {
    "duration": 35,
    "start_time": "2023-11-12T23:20:12.676Z"
   },
   {
    "duration": 33,
    "start_time": "2023-11-12T23:20:12.713Z"
   },
   {
    "duration": 122,
    "start_time": "2023-11-12T23:20:12.747Z"
   },
   {
    "duration": 68,
    "start_time": "2023-11-12T23:20:12.871Z"
   },
   {
    "duration": 797,
    "start_time": "2023-11-12T23:20:12.940Z"
   },
   {
    "duration": 220,
    "start_time": "2023-11-12T23:20:13.739Z"
   },
   {
    "duration": 348,
    "start_time": "2023-11-12T23:20:13.960Z"
   },
   {
    "duration": 4,
    "start_time": "2023-11-12T23:20:14.309Z"
   },
   {
    "duration": 21,
    "start_time": "2023-11-12T23:20:14.314Z"
   },
   {
    "duration": 30,
    "start_time": "2023-11-12T23:20:14.337Z"
   },
   {
    "duration": 32,
    "start_time": "2023-11-12T23:20:14.369Z"
   },
   {
    "duration": 3223,
    "start_time": "2023-11-12T23:20:14.402Z"
   },
   {
    "duration": 14,
    "start_time": "2023-11-12T23:20:17.627Z"
   },
   {
    "duration": 111,
    "start_time": "2023-11-12T23:20:17.643Z"
   },
   {
    "duration": 200,
    "start_time": "2023-11-12T23:20:17.755Z"
   },
   {
    "duration": 38,
    "start_time": "2023-11-12T23:20:17.957Z"
   },
   {
    "duration": 34,
    "start_time": "2023-11-12T23:20:17.999Z"
   },
   {
    "duration": 94939,
    "start_time": "2023-11-12T23:20:18.035Z"
   },
   {
    "duration": 1169,
    "start_time": "2023-11-13T10:45:35.517Z"
   },
   {
    "duration": 1118,
    "start_time": "2023-11-13T10:45:36.688Z"
   },
   {
    "duration": 149,
    "start_time": "2023-11-13T10:45:37.808Z"
   },
   {
    "duration": 439,
    "start_time": "2023-11-13T10:45:37.958Z"
   },
   {
    "duration": 909,
    "start_time": "2023-11-13T10:45:38.398Z"
   },
   {
    "duration": 48,
    "start_time": "2023-11-13T10:45:39.309Z"
   },
   {
    "duration": 95,
    "start_time": "2023-11-13T10:45:39.358Z"
   },
   {
    "duration": 86,
    "start_time": "2023-11-13T10:45:39.455Z"
   },
   {
    "duration": 89,
    "start_time": "2023-11-13T10:45:39.551Z"
   },
   {
    "duration": 104,
    "start_time": "2023-11-13T10:45:39.642Z"
   },
   {
    "duration": 57,
    "start_time": "2023-11-13T10:45:39.752Z"
   },
   {
    "duration": 41,
    "start_time": "2023-11-13T10:45:39.811Z"
   },
   {
    "duration": 32,
    "start_time": "2023-11-13T10:45:39.853Z"
   },
   {
    "duration": 104,
    "start_time": "2023-11-13T10:45:39.887Z"
   },
   {
    "duration": 64,
    "start_time": "2023-11-13T10:45:39.993Z"
   },
   {
    "duration": 681,
    "start_time": "2023-11-13T10:45:40.059Z"
   },
   {
    "duration": 218,
    "start_time": "2023-11-13T10:45:40.741Z"
   },
   {
    "duration": 323,
    "start_time": "2023-11-13T10:45:40.960Z"
   },
   {
    "duration": 5,
    "start_time": "2023-11-13T10:45:41.284Z"
   },
   {
    "duration": 6,
    "start_time": "2023-11-13T10:45:41.290Z"
   },
   {
    "duration": 9,
    "start_time": "2023-11-13T10:45:41.298Z"
   },
   {
    "duration": 9,
    "start_time": "2023-11-13T10:45:41.308Z"
   },
   {
    "duration": 3055,
    "start_time": "2023-11-13T10:45:41.319Z"
   },
   {
    "duration": 14,
    "start_time": "2023-11-13T10:45:44.375Z"
   },
   {
    "duration": 98,
    "start_time": "2023-11-13T10:45:44.391Z"
   },
   {
    "duration": 181,
    "start_time": "2023-11-13T10:45:44.491Z"
   },
   {
    "duration": 21,
    "start_time": "2023-11-13T10:45:44.674Z"
   },
   {
    "duration": 59,
    "start_time": "2023-11-13T10:45:44.698Z"
   },
   {
    "duration": 908634,
    "start_time": "2023-11-13T10:45:44.758Z"
   },
   {
    "duration": 47,
    "start_time": "2023-11-13T17:18:45.840Z"
   },
   {
    "duration": 72,
    "start_time": "2023-11-13T17:19:03.478Z"
   },
   {
    "duration": 1381,
    "start_time": "2023-11-13T17:19:43.511Z"
   },
   {
    "duration": 1155,
    "start_time": "2023-11-13T17:21:32.049Z"
   },
   {
    "duration": 2938,
    "start_time": "2023-11-13T17:21:33.206Z"
   },
   {
    "duration": 138,
    "start_time": "2023-11-13T17:21:36.145Z"
   },
   {
    "duration": 470,
    "start_time": "2023-11-13T17:21:36.285Z"
   },
   {
    "duration": 943,
    "start_time": "2023-11-13T17:21:36.757Z"
   },
   {
    "duration": 44,
    "start_time": "2023-11-13T17:21:37.701Z"
   },
   {
    "duration": 97,
    "start_time": "2023-11-13T17:21:37.746Z"
   },
   {
    "duration": 107,
    "start_time": "2023-11-13T17:21:37.845Z"
   },
   {
    "duration": 93,
    "start_time": "2023-11-13T17:21:37.953Z"
   },
   {
    "duration": 98,
    "start_time": "2023-11-13T17:21:38.049Z"
   },
   {
    "duration": 68,
    "start_time": "2023-11-13T17:21:38.149Z"
   },
   {
    "duration": 30,
    "start_time": "2023-11-13T17:21:38.218Z"
   },
   {
    "duration": 35,
    "start_time": "2023-11-13T17:21:38.249Z"
   },
   {
    "duration": 101,
    "start_time": "2023-11-13T17:21:38.300Z"
   },
   {
    "duration": 112,
    "start_time": "2023-11-13T17:21:38.403Z"
   },
   {
    "duration": 821,
    "start_time": "2023-11-13T17:21:38.516Z"
   },
   {
    "duration": 220,
    "start_time": "2023-11-13T17:21:39.339Z"
   },
   {
    "duration": 314,
    "start_time": "2023-11-13T17:21:39.561Z"
   },
   {
    "duration": 4,
    "start_time": "2023-11-13T17:21:39.876Z"
   },
   {
    "duration": 6,
    "start_time": "2023-11-13T17:21:39.881Z"
   },
   {
    "duration": 3,
    "start_time": "2023-11-13T17:21:39.899Z"
   },
   {
    "duration": 7,
    "start_time": "2023-11-13T17:21:39.904Z"
   },
   {
    "duration": 3015,
    "start_time": "2023-11-13T17:21:39.913Z"
   },
   {
    "duration": 15,
    "start_time": "2023-11-13T17:21:42.930Z"
   },
   {
    "duration": 106,
    "start_time": "2023-11-13T17:21:42.946Z"
   },
   {
    "duration": 182,
    "start_time": "2023-11-13T17:21:43.054Z"
   },
   {
    "duration": 22,
    "start_time": "2023-11-13T17:21:43.238Z"
   },
   {
    "duration": 50,
    "start_time": "2023-11-13T17:21:43.262Z"
   },
   {
    "duration": 5890,
    "start_time": "2023-11-13T17:21:43.313Z"
   },
   {
    "duration": 2421,
    "start_time": "2023-11-13T17:21:49.204Z"
   },
   {
    "duration": 150,
    "start_time": "2023-11-13T17:21:51.626Z"
   },
   {
    "duration": 10185,
    "start_time": "2023-11-13T17:22:42.033Z"
   },
   {
    "duration": 3034,
    "start_time": "2023-11-13T17:22:56.266Z"
   },
   {
    "duration": 173177,
    "start_time": "2023-11-13T17:27:33.145Z"
   },
   {
    "duration": 76,
    "start_time": "2023-11-13T17:31:34.346Z"
   },
   {
    "duration": 1161,
    "start_time": "2023-11-13T17:31:52.055Z"
   },
   {
    "duration": 1136,
    "start_time": "2023-11-13T17:32:17.463Z"
   },
   {
    "duration": 1015,
    "start_time": "2023-11-13T17:33:38.820Z"
   },
   {
    "duration": 4,
    "start_time": "2023-11-13T17:33:44.103Z"
   },
   {
    "duration": 1073,
    "start_time": "2023-11-13T17:33:47.727Z"
   },
   {
    "duration": 1236,
    "start_time": "2023-11-13T22:27:57.459Z"
   },
   {
    "duration": 2872,
    "start_time": "2023-11-13T22:27:58.697Z"
   },
   {
    "duration": 131,
    "start_time": "2023-11-13T22:28:01.570Z"
   },
   {
    "duration": 474,
    "start_time": "2023-11-13T22:28:01.702Z"
   },
   {
    "duration": 835,
    "start_time": "2023-11-13T22:28:02.177Z"
   },
   {
    "duration": 44,
    "start_time": "2023-11-13T22:28:03.013Z"
   },
   {
    "duration": 88,
    "start_time": "2023-11-13T22:28:03.059Z"
   },
   {
    "duration": 86,
    "start_time": "2023-11-13T22:28:03.155Z"
   },
   {
    "duration": 88,
    "start_time": "2023-11-13T22:28:03.243Z"
   },
   {
    "duration": 97,
    "start_time": "2023-11-13T22:28:03.334Z"
   },
   {
    "duration": 117,
    "start_time": "2023-11-13T22:28:03.432Z"
   },
   {
    "duration": 29,
    "start_time": "2023-11-13T22:28:03.550Z"
   },
   {
    "duration": 30,
    "start_time": "2023-11-13T22:28:03.581Z"
   },
   {
    "duration": 100,
    "start_time": "2023-11-13T22:28:03.613Z"
   },
   {
    "duration": 59,
    "start_time": "2023-11-13T22:28:03.714Z"
   },
   {
    "duration": 648,
    "start_time": "2023-11-13T22:28:03.774Z"
   },
   {
    "duration": 209,
    "start_time": "2023-11-13T22:28:04.424Z"
   },
   {
    "duration": 301,
    "start_time": "2023-11-13T22:28:04.635Z"
   },
   {
    "duration": 3,
    "start_time": "2023-11-13T22:28:04.938Z"
   },
   {
    "duration": 15,
    "start_time": "2023-11-13T22:28:04.942Z"
   },
   {
    "duration": 5,
    "start_time": "2023-11-13T22:28:04.959Z"
   },
   {
    "duration": 5,
    "start_time": "2023-11-13T22:28:04.965Z"
   },
   {
    "duration": 3024,
    "start_time": "2023-11-13T22:28:04.971Z"
   },
   {
    "duration": 13,
    "start_time": "2023-11-13T22:28:07.996Z"
   },
   {
    "duration": 97,
    "start_time": "2023-11-13T22:28:08.011Z"
   },
   {
    "duration": 159,
    "start_time": "2023-11-13T22:28:08.110Z"
   },
   {
    "duration": 20,
    "start_time": "2023-11-13T22:28:08.271Z"
   },
   {
    "duration": 33,
    "start_time": "2023-11-13T22:28:08.293Z"
   },
   {
    "duration": 4936,
    "start_time": "2023-11-13T22:28:08.328Z"
   },
   {
    "duration": 7198,
    "start_time": "2023-11-13T22:28:13.266Z"
   },
   {
    "duration": 2392,
    "start_time": "2023-11-13T22:28:20.465Z"
   },
   {
    "duration": 2822,
    "start_time": "2023-11-13T22:28:22.858Z"
   },
   {
    "duration": 169337,
    "start_time": "2023-11-13T22:28:25.682Z"
   },
   {
    "duration": 1058,
    "start_time": "2023-11-13T22:31:15.020Z"
   },
   {
    "duration": 981,
    "start_time": "2023-11-13T22:31:16.079Z"
   },
   {
    "duration": 2664,
    "start_time": "2023-11-14T05:29:16.660Z"
   },
   {
    "duration": 1227,
    "start_time": "2023-11-14T10:51:41.926Z"
   },
   {
    "duration": 1233,
    "start_time": "2023-11-14T10:51:43.155Z"
   },
   {
    "duration": 165,
    "start_time": "2023-11-14T10:51:44.390Z"
   },
   {
    "duration": 530,
    "start_time": "2023-11-14T10:51:44.557Z"
   },
   {
    "duration": 1053,
    "start_time": "2023-11-14T10:51:45.088Z"
   },
   {
    "duration": 45,
    "start_time": "2023-11-14T10:51:46.142Z"
   },
   {
    "duration": 123,
    "start_time": "2023-11-14T10:51:46.189Z"
   },
   {
    "duration": 113,
    "start_time": "2023-11-14T10:51:46.313Z"
   },
   {
    "duration": 102,
    "start_time": "2023-11-14T10:51:46.427Z"
   },
   {
    "duration": 114,
    "start_time": "2023-11-14T10:51:46.533Z"
   },
   {
    "duration": 75,
    "start_time": "2023-11-14T10:51:46.648Z"
   },
   {
    "duration": 31,
    "start_time": "2023-11-14T10:51:46.725Z"
   },
   {
    "duration": 34,
    "start_time": "2023-11-14T10:51:46.758Z"
   },
   {
    "duration": 107,
    "start_time": "2023-11-14T10:51:46.810Z"
   },
   {
    "duration": 125,
    "start_time": "2023-11-14T10:51:46.918Z"
   },
   {
    "duration": 838,
    "start_time": "2023-11-14T10:51:47.045Z"
   },
   {
    "duration": 217,
    "start_time": "2023-11-14T10:51:47.885Z"
   },
   {
    "duration": 325,
    "start_time": "2023-11-14T10:51:48.104Z"
   },
   {
    "duration": 4,
    "start_time": "2023-11-14T10:51:48.431Z"
   },
   {
    "duration": 9,
    "start_time": "2023-11-14T10:51:48.437Z"
   },
   {
    "duration": 5,
    "start_time": "2023-11-14T10:51:48.448Z"
   },
   {
    "duration": 4,
    "start_time": "2023-11-14T10:51:48.455Z"
   },
   {
    "duration": 2991,
    "start_time": "2023-11-14T10:51:48.461Z"
   },
   {
    "duration": 15,
    "start_time": "2023-11-14T10:51:51.454Z"
   },
   {
    "duration": 107,
    "start_time": "2023-11-14T10:51:51.471Z"
   },
   {
    "duration": 193,
    "start_time": "2023-11-14T10:51:51.579Z"
   },
   {
    "duration": 22,
    "start_time": "2023-11-14T10:51:51.773Z"
   },
   {
    "duration": 38,
    "start_time": "2023-11-14T10:51:51.810Z"
   },
   {
    "duration": 329568,
    "start_time": "2023-11-14T10:51:51.849Z"
   },
   {
    "duration": 0,
    "start_time": "2023-11-14T11:04:37.928Z"
   },
   {
    "duration": 0,
    "start_time": "2023-11-14T11:04:37.930Z"
   },
   {
    "duration": 0,
    "start_time": "2023-11-14T11:04:37.931Z"
   },
   {
    "duration": 0,
    "start_time": "2023-11-14T11:04:37.932Z"
   },
   {
    "duration": 0,
    "start_time": "2023-11-14T11:04:37.933Z"
   },
   {
    "duration": 0,
    "start_time": "2023-11-14T11:04:37.934Z"
   },
   {
    "duration": 0,
    "start_time": "2023-11-14T11:04:37.935Z"
   },
   {
    "duration": 0,
    "start_time": "2023-11-14T11:04:37.936Z"
   },
   {
    "duration": 0,
    "start_time": "2023-11-14T11:04:37.937Z"
   },
   {
    "duration": 0,
    "start_time": "2023-11-14T11:04:37.938Z"
   },
   {
    "duration": 0,
    "start_time": "2023-11-14T11:04:37.940Z"
   },
   {
    "duration": 0,
    "start_time": "2023-11-14T11:04:37.941Z"
   },
   {
    "duration": 0,
    "start_time": "2023-11-14T11:04:37.942Z"
   },
   {
    "duration": 0,
    "start_time": "2023-11-14T11:04:37.944Z"
   },
   {
    "duration": 0,
    "start_time": "2023-11-14T11:04:37.945Z"
   },
   {
    "duration": 0,
    "start_time": "2023-11-14T11:04:37.946Z"
   },
   {
    "duration": 0,
    "start_time": "2023-11-14T11:04:37.947Z"
   },
   {
    "duration": 0,
    "start_time": "2023-11-14T11:04:37.948Z"
   },
   {
    "duration": 1,
    "start_time": "2023-11-14T11:04:37.949Z"
   },
   {
    "duration": 0,
    "start_time": "2023-11-14T11:04:37.951Z"
   },
   {
    "duration": 0,
    "start_time": "2023-11-14T11:04:37.952Z"
   },
   {
    "duration": 0,
    "start_time": "2023-11-14T11:04:37.953Z"
   },
   {
    "duration": 0,
    "start_time": "2023-11-14T11:04:37.954Z"
   },
   {
    "duration": 0,
    "start_time": "2023-11-14T11:04:37.955Z"
   },
   {
    "duration": 0,
    "start_time": "2023-11-14T11:04:37.956Z"
   },
   {
    "duration": 0,
    "start_time": "2023-11-14T11:04:38.011Z"
   },
   {
    "duration": 1,
    "start_time": "2023-11-14T11:04:38.012Z"
   },
   {
    "duration": 0,
    "start_time": "2023-11-14T11:04:38.014Z"
   },
   {
    "duration": 0,
    "start_time": "2023-11-14T11:04:38.015Z"
   },
   {
    "duration": 0,
    "start_time": "2023-11-14T11:04:38.016Z"
   },
   {
    "duration": 0,
    "start_time": "2023-11-14T11:04:38.017Z"
   },
   {
    "duration": 0,
    "start_time": "2023-11-14T11:04:38.018Z"
   },
   {
    "duration": 0,
    "start_time": "2023-11-14T11:04:38.019Z"
   },
   {
    "duration": 0,
    "start_time": "2023-11-14T11:04:38.020Z"
   },
   {
    "duration": 0,
    "start_time": "2023-11-14T11:04:38.021Z"
   },
   {
    "duration": 0,
    "start_time": "2023-11-14T11:04:38.021Z"
   },
   {
    "duration": 1275,
    "start_time": "2023-11-14T11:04:42.710Z"
   },
   {
    "duration": 1004,
    "start_time": "2023-11-14T11:04:52.335Z"
   },
   {
    "duration": 152,
    "start_time": "2023-11-14T11:04:54.647Z"
   },
   {
    "duration": 518,
    "start_time": "2023-11-14T11:04:55.775Z"
   },
   {
    "duration": 1106,
    "start_time": "2023-11-14T11:04:56.301Z"
   },
   {
    "duration": 41,
    "start_time": "2023-11-14T11:04:57.767Z"
   },
   {
    "duration": 112,
    "start_time": "2023-11-14T11:05:04.991Z"
   },
   {
    "duration": 102,
    "start_time": "2023-11-14T11:05:08.334Z"
   },
   {
    "duration": 96,
    "start_time": "2023-11-14T11:05:09.047Z"
   },
   {
    "duration": 101,
    "start_time": "2023-11-14T11:05:10.327Z"
   },
   {
    "duration": 138,
    "start_time": "2023-11-14T11:05:12.311Z"
   },
   {
    "duration": 32,
    "start_time": "2023-11-14T11:05:15.782Z"
   },
   {
    "duration": 54,
    "start_time": "2023-11-14T11:05:35.604Z"
   },
   {
    "duration": 24,
    "start_time": "2023-11-14T11:05:43.288Z"
   },
   {
    "duration": 115,
    "start_time": "2023-11-14T11:05:44.503Z"
   },
   {
    "duration": 4,
    "start_time": "2023-11-14T11:06:28.696Z"
   },
   {
    "duration": 928,
    "start_time": "2023-11-14T11:06:29.540Z"
   },
   {
    "duration": 154,
    "start_time": "2023-11-14T11:06:31.192Z"
   },
   {
    "duration": 427,
    "start_time": "2023-11-14T11:06:32.135Z"
   },
   {
    "duration": 964,
    "start_time": "2023-11-14T11:06:33.192Z"
   },
   {
    "duration": 31,
    "start_time": "2023-11-14T11:06:34.456Z"
   },
   {
    "duration": 97,
    "start_time": "2023-11-14T11:06:37.192Z"
   },
   {
    "duration": 115,
    "start_time": "2023-11-14T11:06:39.583Z"
   },
   {
    "duration": 104,
    "start_time": "2023-11-14T11:06:40.272Z"
   },
   {
    "duration": 101,
    "start_time": "2023-11-14T11:06:40.952Z"
   },
   {
    "duration": 64,
    "start_time": "2023-11-14T11:06:43.480Z"
   },
   {
    "duration": 23,
    "start_time": "2023-11-14T11:06:44.608Z"
   },
   {
    "duration": 36,
    "start_time": "2023-11-14T11:06:46.208Z"
   },
   {
    "duration": 101,
    "start_time": "2023-11-14T11:06:46.912Z"
   },
   {
    "duration": 4,
    "start_time": "2023-11-14T15:28:19.266Z"
   },
   {
    "duration": 958,
    "start_time": "2023-11-14T15:28:20.194Z"
   },
   {
    "duration": 174,
    "start_time": "2023-11-14T15:28:24.465Z"
   },
   {
    "duration": 468,
    "start_time": "2023-11-14T15:28:25.473Z"
   },
   {
    "duration": 998,
    "start_time": "2023-11-14T15:28:25.943Z"
   },
   {
    "duration": 39,
    "start_time": "2023-11-14T15:28:27.801Z"
   },
   {
    "duration": 111,
    "start_time": "2023-11-14T15:28:30.522Z"
   },
   {
    "duration": 107,
    "start_time": "2023-11-14T15:28:33.769Z"
   },
   {
    "duration": 112,
    "start_time": "2023-11-14T15:28:34.393Z"
   },
   {
    "duration": 121,
    "start_time": "2023-11-14T15:28:35.186Z"
   },
   {
    "duration": 65,
    "start_time": "2023-11-14T15:28:36.585Z"
   },
   {
    "duration": 24,
    "start_time": "2023-11-14T15:28:38.841Z"
   },
   {
    "duration": 115,
    "start_time": "2023-11-14T15:31:18.773Z"
   },
   {
    "duration": 25,
    "start_time": "2023-11-14T15:31:23.739Z"
   },
   {
    "duration": 99,
    "start_time": "2023-11-14T15:31:24.372Z"
   },
   {
    "duration": 121,
    "start_time": "2023-11-14T15:31:51.901Z"
   },
   {
    "duration": 114,
    "start_time": "2023-11-14T15:31:53.651Z"
   },
   {
    "duration": 80,
    "start_time": "2023-11-14T15:31:55.220Z"
   },
   {
    "duration": 108,
    "start_time": "2023-11-14T15:32:34.996Z"
   },
   {
    "duration": 75,
    "start_time": "2023-11-14T15:32:40.593Z"
   },
   {
    "duration": 40,
    "start_time": "2023-11-14T15:35:00.423Z"
   },
   {
    "duration": 35,
    "start_time": "2023-11-14T15:35:54.214Z"
   },
   {
    "duration": 38,
    "start_time": "2023-11-14T15:35:59.143Z"
   },
   {
    "duration": 5,
    "start_time": "2023-11-14T15:43:40.701Z"
   },
   {
    "duration": 16,
    "start_time": "2023-11-14T15:47:03.959Z"
   },
   {
    "duration": 150,
    "start_time": "2023-11-14T15:47:23.224Z"
   },
   {
    "duration": 784,
    "start_time": "2023-11-14T15:48:30.069Z"
   },
   {
    "duration": 5,
    "start_time": "2023-11-14T15:48:32.592Z"
   },
   {
    "duration": 462,
    "start_time": "2023-11-14T15:48:41.912Z"
   },
   {
    "duration": 21,
    "start_time": "2023-11-14T15:48:43.392Z"
   },
   {
    "duration": 35,
    "start_time": "2023-11-14T15:49:11.496Z"
   },
   {
    "duration": 4,
    "start_time": "2023-11-14T15:49:18.024Z"
   },
   {
    "duration": 4,
    "start_time": "2023-11-14T15:49:18.793Z"
   },
   {
    "duration": 4,
    "start_time": "2023-11-14T15:49:20.081Z"
   },
   {
    "duration": 4,
    "start_time": "2023-11-14T15:49:20.825Z"
   },
   {
    "duration": 4,
    "start_time": "2023-11-14T15:53:35.838Z"
   },
   {
    "duration": 18,
    "start_time": "2023-11-14T15:53:42.276Z"
   },
   {
    "duration": 116,
    "start_time": "2023-11-14T15:53:43.347Z"
   },
   {
    "duration": 231,
    "start_time": "2023-11-14T15:53:44.925Z"
   },
   {
    "duration": 37,
    "start_time": "2023-11-14T15:53:46.308Z"
   },
   {
    "duration": 43,
    "start_time": "2023-11-14T15:53:47.629Z"
   },
   {
    "duration": 4,
    "start_time": "2023-11-14T16:01:11.969Z"
   },
   {
    "duration": 7,
    "start_time": "2023-11-14T16:01:18.203Z"
   },
   {
    "duration": 1736,
    "start_time": "2023-11-14T16:05:33.633Z"
   },
   {
    "duration": 982,
    "start_time": "2023-11-14T16:05:35.371Z"
   },
   {
    "duration": 166,
    "start_time": "2023-11-14T16:05:36.355Z"
   },
   {
    "duration": 512,
    "start_time": "2023-11-14T16:05:36.523Z"
   },
   {
    "duration": 1068,
    "start_time": "2023-11-14T16:05:37.037Z"
   },
   {
    "duration": 48,
    "start_time": "2023-11-14T16:05:38.107Z"
   },
   {
    "duration": 116,
    "start_time": "2023-11-14T16:05:38.157Z"
   },
   {
    "duration": 117,
    "start_time": "2023-11-14T16:05:38.275Z"
   },
   {
    "duration": 117,
    "start_time": "2023-11-14T16:05:38.394Z"
   },
   {
    "duration": 138,
    "start_time": "2023-11-14T16:05:38.513Z"
   },
   {
    "duration": 135,
    "start_time": "2023-11-14T16:05:38.653Z"
   },
   {
    "duration": 37,
    "start_time": "2023-11-14T16:05:38.790Z"
   },
   {
    "duration": 34,
    "start_time": "2023-11-14T16:05:38.829Z"
   },
   {
    "duration": 186,
    "start_time": "2023-11-14T16:05:38.866Z"
   },
   {
    "duration": 101,
    "start_time": "2023-11-14T16:05:39.053Z"
   },
   {
    "duration": 92,
    "start_time": "2023-11-14T16:05:39.156Z"
   },
   {
    "duration": 39,
    "start_time": "2023-11-14T16:05:39.251Z"
   },
   {
    "duration": 49,
    "start_time": "2023-11-14T16:05:39.292Z"
   },
   {
    "duration": 3,
    "start_time": "2023-11-14T16:05:39.343Z"
   },
   {
    "duration": 17,
    "start_time": "2023-11-14T16:05:39.347Z"
   },
   {
    "duration": 714,
    "start_time": "2023-11-14T16:05:39.366Z"
   },
   {
    "duration": 2,
    "start_time": "2023-11-14T16:05:40.081Z"
   },
   {
    "duration": 40,
    "start_time": "2023-11-14T16:05:40.085Z"
   },
   {
    "duration": 3,
    "start_time": "2023-11-14T16:05:40.127Z"
   },
   {
    "duration": 8,
    "start_time": "2023-11-14T16:05:40.132Z"
   },
   {
    "duration": 4,
    "start_time": "2023-11-14T16:05:40.142Z"
   },
   {
    "duration": 6,
    "start_time": "2023-11-14T16:05:40.148Z"
   },
   {
    "duration": 9,
    "start_time": "2023-11-14T16:05:40.155Z"
   },
   {
    "duration": 18,
    "start_time": "2023-11-14T16:05:40.166Z"
   },
   {
    "duration": 159,
    "start_time": "2023-11-14T16:05:40.186Z"
   },
   {
    "duration": 194,
    "start_time": "2023-11-14T16:05:40.347Z"
   },
   {
    "duration": 22,
    "start_time": "2023-11-14T16:05:40.543Z"
   },
   {
    "duration": 59,
    "start_time": "2023-11-14T16:05:40.567Z"
   },
   {
    "duration": 1451,
    "start_time": "2023-11-14T16:25:59.296Z"
   },
   {
    "duration": 1041,
    "start_time": "2023-11-14T16:26:00.749Z"
   },
   {
    "duration": 173,
    "start_time": "2023-11-14T16:26:01.792Z"
   },
   {
    "duration": 520,
    "start_time": "2023-11-14T16:26:01.968Z"
   },
   {
    "duration": 1078,
    "start_time": "2023-11-14T16:26:02.490Z"
   },
   {
    "duration": 65,
    "start_time": "2023-11-14T16:26:03.570Z"
   },
   {
    "duration": 118,
    "start_time": "2023-11-14T16:26:03.638Z"
   },
   {
    "duration": 115,
    "start_time": "2023-11-14T16:26:03.757Z"
   },
   {
    "duration": 99,
    "start_time": "2023-11-14T16:26:03.874Z"
   },
   {
    "duration": 113,
    "start_time": "2023-11-14T16:26:03.977Z"
   },
   {
    "duration": 139,
    "start_time": "2023-11-14T16:26:04.091Z"
   },
   {
    "duration": 31,
    "start_time": "2023-11-14T16:26:04.232Z"
   },
   {
    "duration": 55,
    "start_time": "2023-11-14T16:26:04.264Z"
   },
   {
    "duration": 221,
    "start_time": "2023-11-14T16:26:04.320Z"
   },
   {
    "duration": 105,
    "start_time": "2023-11-14T16:26:04.543Z"
   },
   {
    "duration": 84,
    "start_time": "2023-11-14T16:26:04.650Z"
   },
   {
    "duration": 42,
    "start_time": "2023-11-14T16:26:04.736Z"
   },
   {
    "duration": 50,
    "start_time": "2023-11-14T16:26:04.780Z"
   },
   {
    "duration": 3,
    "start_time": "2023-11-14T16:26:04.831Z"
   },
   {
    "duration": 21,
    "start_time": "2023-11-14T16:26:04.836Z"
   },
   {
    "duration": 674,
    "start_time": "2023-11-14T16:26:04.858Z"
   },
   {
    "duration": 2,
    "start_time": "2023-11-14T16:26:05.534Z"
   },
   {
    "duration": 35,
    "start_time": "2023-11-14T16:26:05.538Z"
   },
   {
    "duration": 5,
    "start_time": "2023-11-14T16:26:05.575Z"
   },
   {
    "duration": 14,
    "start_time": "2023-11-14T16:26:05.581Z"
   },
   {
    "duration": 8,
    "start_time": "2023-11-14T16:26:05.612Z"
   },
   {
    "duration": 15,
    "start_time": "2023-11-14T16:26:05.622Z"
   },
   {
    "duration": 14,
    "start_time": "2023-11-14T16:26:05.640Z"
   },
   {
    "duration": 27,
    "start_time": "2023-11-14T16:26:05.656Z"
   },
   {
    "duration": 109,
    "start_time": "2023-11-14T16:26:05.685Z"
   },
   {
    "duration": 187,
    "start_time": "2023-11-14T16:26:05.796Z"
   },
   {
    "duration": 26,
    "start_time": "2023-11-14T16:26:05.985Z"
   },
   {
    "duration": 38,
    "start_time": "2023-11-14T16:26:06.012Z"
   },
   {
    "duration": 1356,
    "start_time": "2023-11-14T16:34:54.481Z"
   },
   {
    "duration": 1043,
    "start_time": "2023-11-14T16:34:55.839Z"
   },
   {
    "duration": 167,
    "start_time": "2023-11-14T16:34:56.884Z"
   },
   {
    "duration": 570,
    "start_time": "2023-11-14T16:34:57.053Z"
   },
   {
    "duration": 1173,
    "start_time": "2023-11-14T16:34:57.625Z"
   },
   {
    "duration": 59,
    "start_time": "2023-11-14T16:34:58.800Z"
   },
   {
    "duration": 110,
    "start_time": "2023-11-14T16:34:58.861Z"
   },
   {
    "duration": 126,
    "start_time": "2023-11-14T16:34:58.973Z"
   },
   {
    "duration": 116,
    "start_time": "2023-11-14T16:34:59.100Z"
   },
   {
    "duration": 123,
    "start_time": "2023-11-14T16:34:59.222Z"
   },
   {
    "duration": 142,
    "start_time": "2023-11-14T16:34:59.347Z"
   },
   {
    "duration": 38,
    "start_time": "2023-11-14T16:34:59.491Z"
   },
   {
    "duration": 34,
    "start_time": "2023-11-14T16:34:59.531Z"
   },
   {
    "duration": 200,
    "start_time": "2023-11-14T16:34:59.567Z"
   },
   {
    "duration": 105,
    "start_time": "2023-11-14T16:34:59.768Z"
   },
   {
    "duration": 82,
    "start_time": "2023-11-14T16:34:59.874Z"
   },
   {
    "duration": 41,
    "start_time": "2023-11-14T16:34:59.957Z"
   },
   {
    "duration": 49,
    "start_time": "2023-11-14T16:35:00.011Z"
   },
   {
    "duration": 2,
    "start_time": "2023-11-14T16:35:00.062Z"
   },
   {
    "duration": 62,
    "start_time": "2023-11-14T16:35:00.066Z"
   },
   {
    "duration": 737,
    "start_time": "2023-11-14T16:35:00.130Z"
   },
   {
    "duration": 4,
    "start_time": "2023-11-14T16:35:00.869Z"
   },
   {
    "duration": 168,
    "start_time": "2023-11-14T16:35:00.876Z"
   },
   {
    "duration": 6,
    "start_time": "2023-11-14T16:35:01.046Z"
   },
   {
    "duration": 68,
    "start_time": "2023-11-14T16:35:01.054Z"
   },
   {
    "duration": 59,
    "start_time": "2023-11-14T16:35:01.124Z"
   },
   {
    "duration": 29,
    "start_time": "2023-11-14T16:35:01.185Z"
   },
   {
    "duration": 42,
    "start_time": "2023-11-14T16:35:01.218Z"
   },
   {
    "duration": 39,
    "start_time": "2023-11-14T16:35:01.262Z"
   },
   {
    "duration": 131,
    "start_time": "2023-11-14T16:35:01.303Z"
   },
   {
    "duration": 199,
    "start_time": "2023-11-14T16:35:01.436Z"
   },
   {
    "duration": 35,
    "start_time": "2023-11-14T16:35:01.637Z"
   },
   {
    "duration": 84,
    "start_time": "2023-11-14T16:35:01.675Z"
   },
   {
    "duration": 1203,
    "start_time": "2023-11-14T16:35:24.238Z"
   },
   {
    "duration": 968,
    "start_time": "2023-11-14T16:35:25.444Z"
   },
   {
    "duration": 170,
    "start_time": "2023-11-14T16:35:26.413Z"
   },
   {
    "duration": 526,
    "start_time": "2023-11-14T16:35:26.586Z"
   },
   {
    "duration": 1136,
    "start_time": "2023-11-14T16:35:27.114Z"
   },
   {
    "duration": 44,
    "start_time": "2023-11-14T16:35:28.251Z"
   },
   {
    "duration": 120,
    "start_time": "2023-11-14T16:35:28.296Z"
   },
   {
    "duration": 131,
    "start_time": "2023-11-14T16:35:28.417Z"
   },
   {
    "duration": 137,
    "start_time": "2023-11-14T16:35:28.549Z"
   },
   {
    "duration": 121,
    "start_time": "2023-11-14T16:35:28.691Z"
   },
   {
    "duration": 154,
    "start_time": "2023-11-14T16:35:28.813Z"
   },
   {
    "duration": 43,
    "start_time": "2023-11-14T16:35:28.969Z"
   },
   {
    "duration": 2191,
    "start_time": "2023-11-14T16:35:29.014Z"
   },
   {
    "duration": 1540,
    "start_time": "2023-11-14T16:35:31.207Z"
   },
   {
    "duration": 107,
    "start_time": "2023-11-14T16:35:32.748Z"
   },
   {
    "duration": 85,
    "start_time": "2023-11-14T16:35:32.857Z"
   },
   {
    "duration": 40,
    "start_time": "2023-11-14T16:35:32.944Z"
   },
   {
    "duration": 60,
    "start_time": "2023-11-14T16:35:32.985Z"
   },
   {
    "duration": 12,
    "start_time": "2023-11-14T16:35:33.047Z"
   },
   {
    "duration": 35,
    "start_time": "2023-11-14T16:35:33.060Z"
   },
   {
    "duration": 740,
    "start_time": "2023-11-14T16:35:33.097Z"
   },
   {
    "duration": 2,
    "start_time": "2023-11-14T16:35:33.839Z"
   },
   {
    "duration": 35,
    "start_time": "2023-11-14T16:35:33.843Z"
   },
   {
    "duration": 4,
    "start_time": "2023-11-14T16:35:33.880Z"
   },
   {
    "duration": 26,
    "start_time": "2023-11-14T16:35:33.886Z"
   },
   {
    "duration": 5,
    "start_time": "2023-11-14T16:35:33.914Z"
   },
   {
    "duration": 4,
    "start_time": "2023-11-14T16:35:33.921Z"
   },
   {
    "duration": 3,
    "start_time": "2023-11-14T16:35:33.928Z"
   },
   {
    "duration": 22,
    "start_time": "2023-11-14T16:35:33.932Z"
   },
   {
    "duration": 131,
    "start_time": "2023-11-14T16:35:33.956Z"
   },
   {
    "duration": 194,
    "start_time": "2023-11-14T16:35:34.089Z"
   },
   {
    "duration": 31,
    "start_time": "2023-11-14T16:35:34.284Z"
   },
   {
    "duration": 41,
    "start_time": "2023-11-14T16:35:34.316Z"
   },
   {
    "duration": 1553862,
    "start_time": "2023-11-14T16:35:34.358Z"
   },
   {
    "duration": 4,
    "start_time": "2023-11-14T17:01:28.230Z"
   },
   {
    "duration": 7,
    "start_time": "2023-11-14T17:01:28.236Z"
   },
   {
    "duration": 5,
    "start_time": "2023-11-14T17:01:28.245Z"
   },
   {
    "duration": 60,
    "start_time": "2023-11-14T17:01:28.252Z"
   },
   {
    "duration": 5,
    "start_time": "2023-11-14T17:01:28.314Z"
   },
   {
    "duration": 6,
    "start_time": "2023-11-14T17:01:28.321Z"
   },
   {
    "duration": 3,
    "start_time": "2023-11-14T17:01:28.329Z"
   },
   {
    "duration": 6,
    "start_time": "2023-11-14T17:01:28.335Z"
   },
   {
    "duration": 4,
    "start_time": "2023-11-14T17:01:48.186Z"
   },
   {
    "duration": 110,
    "start_time": "2023-11-14T17:02:14.026Z"
   },
   {
    "duration": 4,
    "start_time": "2023-11-14T17:02:23.954Z"
   },
   {
    "duration": 77,
    "start_time": "2023-11-14T17:08:20.931Z"
   },
   {
    "duration": 10,
    "start_time": "2023-11-14T17:08:38.608Z"
   },
   {
    "duration": 123174,
    "start_time": "2023-11-14T17:08:45.879Z"
   },
   {
    "duration": 4,
    "start_time": "2023-11-14T17:10:52.033Z"
   },
   {
    "duration": 4,
    "start_time": "2023-11-14T17:10:53.242Z"
   },
   {
    "duration": 2,
    "start_time": "2023-11-14T17:13:25.698Z"
   },
   {
    "duration": 4,
    "start_time": "2023-11-14T17:13:28.692Z"
   },
   {
    "duration": 324870,
    "start_time": "2023-11-14T17:13:53.851Z"
   },
   {
    "duration": 616,
    "start_time": "2023-11-14T17:20:19.103Z"
   },
   {
    "duration": 5,
    "start_time": "2023-11-14T17:20:53.135Z"
   },
   {
    "duration": 36562,
    "start_time": "2023-11-14T17:21:45.712Z"
   },
   {
    "duration": 771,
    "start_time": "2023-11-14T17:22:25.897Z"
   },
   {
    "duration": 5,
    "start_time": "2023-11-14T17:22:35.705Z"
   },
   {
    "duration": 1258,
    "start_time": "2023-11-14T17:31:09.733Z"
   },
   {
    "duration": 1048,
    "start_time": "2023-11-14T17:31:10.993Z"
   },
   {
    "duration": 176,
    "start_time": "2023-11-14T17:31:12.043Z"
   },
   {
    "duration": 579,
    "start_time": "2023-11-14T17:31:12.221Z"
   },
   {
    "duration": 1106,
    "start_time": "2023-11-14T17:31:12.801Z"
   },
   {
    "duration": 46,
    "start_time": "2023-11-14T17:31:13.910Z"
   },
   {
    "duration": 111,
    "start_time": "2023-11-14T17:31:13.957Z"
   },
   {
    "duration": 112,
    "start_time": "2023-11-14T17:31:14.070Z"
   },
   {
    "duration": 105,
    "start_time": "2023-11-14T17:31:14.184Z"
   },
   {
    "duration": 118,
    "start_time": "2023-11-14T17:31:14.293Z"
   },
   {
    "duration": 131,
    "start_time": "2023-11-14T17:31:14.412Z"
   },
   {
    "duration": 30,
    "start_time": "2023-11-14T17:31:14.545Z"
   },
   {
    "duration": 52,
    "start_time": "2023-11-14T17:31:14.576Z"
   },
   {
    "duration": 216,
    "start_time": "2023-11-14T17:31:14.630Z"
   },
   {
    "duration": 106,
    "start_time": "2023-11-14T17:31:14.847Z"
   },
   {
    "duration": 82,
    "start_time": "2023-11-14T17:31:14.954Z"
   },
   {
    "duration": 39,
    "start_time": "2023-11-14T17:31:15.038Z"
   },
   {
    "duration": 66,
    "start_time": "2023-11-14T17:31:15.079Z"
   },
   {
    "duration": 3,
    "start_time": "2023-11-14T17:31:15.147Z"
   },
   {
    "duration": 36,
    "start_time": "2023-11-14T17:31:15.152Z"
   },
   {
    "duration": 728,
    "start_time": "2023-11-14T17:31:15.190Z"
   },
   {
    "duration": 2,
    "start_time": "2023-11-14T17:31:15.920Z"
   },
   {
    "duration": 52,
    "start_time": "2023-11-14T17:31:15.924Z"
   },
   {
    "duration": 5,
    "start_time": "2023-11-14T17:31:15.978Z"
   },
   {
    "duration": 7,
    "start_time": "2023-11-14T17:31:15.984Z"
   },
   {
    "duration": 5,
    "start_time": "2023-11-14T17:31:16.010Z"
   },
   {
    "duration": 19,
    "start_time": "2023-11-14T17:31:16.016Z"
   },
   {
    "duration": 2,
    "start_time": "2023-11-14T17:31:16.039Z"
   },
   {
    "duration": 18,
    "start_time": "2023-11-14T17:31:16.043Z"
   },
   {
    "duration": 114,
    "start_time": "2023-11-14T17:31:16.063Z"
   },
   {
    "duration": 199,
    "start_time": "2023-11-14T17:31:16.179Z"
   },
   {
    "duration": 31,
    "start_time": "2023-11-14T17:31:16.380Z"
   },
   {
    "duration": 42,
    "start_time": "2023-11-14T17:31:16.413Z"
   },
   {
    "duration": 781168,
    "start_time": "2023-11-14T17:31:16.456Z"
   },
   {
    "duration": 4,
    "start_time": "2023-11-14T17:44:17.626Z"
   },
   {
    "duration": 4,
    "start_time": "2023-11-14T17:44:17.632Z"
   },
   {
    "duration": 116591,
    "start_time": "2023-11-14T17:44:17.637Z"
   },
   {
    "duration": 4,
    "start_time": "2023-11-14T17:46:14.230Z"
   },
   {
    "duration": 24,
    "start_time": "2023-11-14T17:46:14.235Z"
   },
   {
    "duration": 5461,
    "start_time": "2023-11-14T17:46:14.261Z"
   },
   {
    "duration": 602,
    "start_time": "2023-11-14T17:46:19.723Z"
   },
   {
    "duration": 5,
    "start_time": "2023-11-14T17:46:20.327Z"
   },
   {
    "duration": 37906,
    "start_time": "2023-11-14T17:46:20.334Z"
   },
   {
    "duration": 770,
    "start_time": "2023-11-14T17:46:58.242Z"
   },
   {
    "duration": 5,
    "start_time": "2023-11-14T17:46:59.013Z"
   }
  ],
  "kernelspec": {
   "display_name": "Python 3 (ipykernel)",
   "language": "python",
   "name": "python3"
  },
  "language_info": {
   "codemirror_mode": {
    "name": "ipython",
    "version": 3
   },
   "file_extension": ".py",
   "mimetype": "text/x-python",
   "name": "python",
   "nbconvert_exporter": "python",
   "pygments_lexer": "ipython3",
   "version": "3.9.18"
  },
  "toc": {
   "base_numbering": 1,
   "nav_menu": {},
   "number_sections": true,
   "sideBar": true,
   "skip_h1_title": true,
   "title_cell": "Table of Contents",
   "title_sidebar": "Contents",
   "toc_cell": false,
   "toc_position": {},
   "toc_section_display": true,
   "toc_window_display": false
  }
 },
 "nbformat": 4,
 "nbformat_minor": 4
}
