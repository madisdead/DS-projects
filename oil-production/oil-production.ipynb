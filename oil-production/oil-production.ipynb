{
 "cells": [
  {
   "cell_type": "markdown",
   "metadata": {},
   "source": [
    "# Выбор локации для скважины"
   ]
  },
  {
   "cell_type": "markdown",
   "metadata": {},
   "source": [
    "Допустим, вы работаете в добывающей компании «ГлавРосГосНефть». Нужно решить, где бурить новую скважину.\n",
    "\n",
    "Вам предоставлены пробы нефти в трёх регионах: в каждом 10 000 месторождений, где измерили качество нефти и объём её запасов. Постройте модель машинного обучения, которая поможет определить регион, где добыча принесёт наибольшую прибыль. Проанализируйте возможную прибыль и риски техникой *Bootstrap.*\n",
    "\n",
    "Шаги для выбора локации:\n",
    "\n",
    "- В избранном регионе ищут месторождения, для каждого определяют значения признаков;\n",
    "- Строят модель и оценивают объём запасов;\n",
    "- Выбирают месторождения с самым высокими оценками значений. Количество месторождений зависит от бюджета компании и стоимости разработки одной скважины;\n",
    "- Прибыль равна суммарной прибыли отобранных месторождений."
   ]
  },
  {
   "cell_type": "markdown",
   "metadata": {},
   "source": [
    "Данные имеют вид:  \n",
    "1. id — уникальный идентификатор скважины;\n",
    "2. f0, f1, f2 — три признака точек (неважно, что они означают, но сами признаки значимы);\n",
    "3. product — объём запасов в скважине (тыс. баррелей).\n"
   ]
  },
  {
   "cell_type": "code",
   "execution_count": 1,
   "metadata": {},
   "outputs": [],
   "source": [
    "import pandas as pd\n",
    "import numpy as np\n",
    "from sklearn.model_selection import train_test_split\n",
    "from sklearn.linear_model import LinearRegression\n",
    "from sklearn.metrics import mean_squared_error\n",
    "from sklearn.preprocessing import StandardScaler\n",
    "from numpy.random import RandomState"
   ]
  },
  {
   "cell_type": "markdown",
   "metadata": {},
   "source": [
    "## Загрузка и подготовка данных"
   ]
  },
  {
   "cell_type": "code",
   "execution_count": 2,
   "metadata": {},
   "outputs": [],
   "source": [
    "data_geo_0 = pd.read_csv('/datasets/geo_data_0.csv')\n",
    "data_geo_1 = pd.read_csv('/datasets/geo_data_1.csv')\n",
    "data_geo_2 = pd.read_csv('/datasets/geo_data_2.csv')"
   ]
  },
  {
   "cell_type": "code",
   "execution_count": 3,
   "metadata": {},
   "outputs": [
    {
     "data": {
      "text/html": [
       "<div>\n",
       "<style scoped>\n",
       "    .dataframe tbody tr th:only-of-type {\n",
       "        vertical-align: middle;\n",
       "    }\n",
       "\n",
       "    .dataframe tbody tr th {\n",
       "        vertical-align: top;\n",
       "    }\n",
       "\n",
       "    .dataframe thead th {\n",
       "        text-align: right;\n",
       "    }\n",
       "</style>\n",
       "<table border=\"1\" class=\"dataframe\">\n",
       "  <thead>\n",
       "    <tr style=\"text-align: right;\">\n",
       "      <th></th>\n",
       "      <th>id</th>\n",
       "      <th>f0</th>\n",
       "      <th>f1</th>\n",
       "      <th>f2</th>\n",
       "      <th>product</th>\n",
       "    </tr>\n",
       "  </thead>\n",
       "  <tbody>\n",
       "    <tr>\n",
       "      <th>0</th>\n",
       "      <td>txEyH</td>\n",
       "      <td>0.705745</td>\n",
       "      <td>-0.497823</td>\n",
       "      <td>1.221170</td>\n",
       "      <td>105.280062</td>\n",
       "    </tr>\n",
       "    <tr>\n",
       "      <th>1</th>\n",
       "      <td>2acmU</td>\n",
       "      <td>1.334711</td>\n",
       "      <td>-0.340164</td>\n",
       "      <td>4.365080</td>\n",
       "      <td>73.037750</td>\n",
       "    </tr>\n",
       "    <tr>\n",
       "      <th>2</th>\n",
       "      <td>409Wp</td>\n",
       "      <td>1.022732</td>\n",
       "      <td>0.151990</td>\n",
       "      <td>1.419926</td>\n",
       "      <td>85.265647</td>\n",
       "    </tr>\n",
       "    <tr>\n",
       "      <th>3</th>\n",
       "      <td>iJLyR</td>\n",
       "      <td>-0.032172</td>\n",
       "      <td>0.139033</td>\n",
       "      <td>2.978566</td>\n",
       "      <td>168.620776</td>\n",
       "    </tr>\n",
       "    <tr>\n",
       "      <th>4</th>\n",
       "      <td>Xdl7t</td>\n",
       "      <td>1.988431</td>\n",
       "      <td>0.155413</td>\n",
       "      <td>4.751769</td>\n",
       "      <td>154.036647</td>\n",
       "    </tr>\n",
       "  </tbody>\n",
       "</table>\n",
       "</div>"
      ],
      "text/plain": [
       "      id        f0        f1        f2     product\n",
       "0  txEyH  0.705745 -0.497823  1.221170  105.280062\n",
       "1  2acmU  1.334711 -0.340164  4.365080   73.037750\n",
       "2  409Wp  1.022732  0.151990  1.419926   85.265647\n",
       "3  iJLyR -0.032172  0.139033  2.978566  168.620776\n",
       "4  Xdl7t  1.988431  0.155413  4.751769  154.036647"
      ]
     },
     "execution_count": 3,
     "metadata": {},
     "output_type": "execute_result"
    }
   ],
   "source": [
    "data_geo_0.head()"
   ]
  },
  {
   "cell_type": "code",
   "execution_count": 4,
   "metadata": {},
   "outputs": [
    {
     "name": "stdout",
     "output_type": "stream",
     "text": [
      "<class 'pandas.core.frame.DataFrame'>\n",
      "RangeIndex: 100000 entries, 0 to 99999\n",
      "Data columns (total 5 columns):\n",
      " #   Column   Non-Null Count   Dtype  \n",
      "---  ------   --------------   -----  \n",
      " 0   id       100000 non-null  object \n",
      " 1   f0       100000 non-null  float64\n",
      " 2   f1       100000 non-null  float64\n",
      " 3   f2       100000 non-null  float64\n",
      " 4   product  100000 non-null  float64\n",
      "dtypes: float64(4), object(1)\n",
      "memory usage: 3.8+ MB\n"
     ]
    }
   ],
   "source": [
    "data_geo_0.info()"
   ]
  },
  {
   "cell_type": "code",
   "execution_count": 5,
   "metadata": {},
   "outputs": [
    {
     "name": "stdout",
     "output_type": "stream",
     "text": [
      "<class 'pandas.core.frame.DataFrame'>\n",
      "RangeIndex: 100000 entries, 0 to 99999\n",
      "Data columns (total 5 columns):\n",
      " #   Column   Non-Null Count   Dtype  \n",
      "---  ------   --------------   -----  \n",
      " 0   id       100000 non-null  object \n",
      " 1   f0       100000 non-null  float64\n",
      " 2   f1       100000 non-null  float64\n",
      " 3   f2       100000 non-null  float64\n",
      " 4   product  100000 non-null  float64\n",
      "dtypes: float64(4), object(1)\n",
      "memory usage: 3.8+ MB\n"
     ]
    }
   ],
   "source": [
    "data_geo_1.info()"
   ]
  },
  {
   "cell_type": "code",
   "execution_count": 6,
   "metadata": {},
   "outputs": [
    {
     "name": "stdout",
     "output_type": "stream",
     "text": [
      "<class 'pandas.core.frame.DataFrame'>\n",
      "RangeIndex: 100000 entries, 0 to 99999\n",
      "Data columns (total 5 columns):\n",
      " #   Column   Non-Null Count   Dtype  \n",
      "---  ------   --------------   -----  \n",
      " 0   id       100000 non-null  object \n",
      " 1   f0       100000 non-null  float64\n",
      " 2   f1       100000 non-null  float64\n",
      " 3   f2       100000 non-null  float64\n",
      " 4   product  100000 non-null  float64\n",
      "dtypes: float64(4), object(1)\n",
      "memory usage: 3.8+ MB\n"
     ]
    }
   ],
   "source": [
    "data_geo_2.info()"
   ]
  },
  {
   "cell_type": "markdown",
   "metadata": {},
   "source": [
    "Пропущенных значений нет. Проверим на дубликаты."
   ]
  },
  {
   "cell_type": "code",
   "execution_count": 7,
   "metadata": {},
   "outputs": [
    {
     "data": {
      "text/plain": [
       "0"
      ]
     },
     "execution_count": 7,
     "metadata": {},
     "output_type": "execute_result"
    }
   ],
   "source": [
    "data_geo_0.duplicated().sum()"
   ]
  },
  {
   "cell_type": "code",
   "execution_count": 8,
   "metadata": {},
   "outputs": [
    {
     "data": {
      "text/plain": [
       "0"
      ]
     },
     "execution_count": 8,
     "metadata": {},
     "output_type": "execute_result"
    }
   ],
   "source": [
    "data_geo_1.duplicated().sum()"
   ]
  },
  {
   "cell_type": "code",
   "execution_count": 9,
   "metadata": {},
   "outputs": [
    {
     "data": {
      "text/plain": [
       "0"
      ]
     },
     "execution_count": 9,
     "metadata": {},
     "output_type": "execute_result"
    }
   ],
   "source": [
    "data_geo_2.duplicated().sum()"
   ]
  },
  {
   "cell_type": "markdown",
   "metadata": {},
   "source": [
    "Удалим признак идентефикатора. Для обучения моделей он нам не понадобиться."
   ]
  },
  {
   "cell_type": "code",
   "execution_count": 10,
   "metadata": {},
   "outputs": [
    {
     "data": {
      "text/html": [
       "<div>\n",
       "<style scoped>\n",
       "    .dataframe tbody tr th:only-of-type {\n",
       "        vertical-align: middle;\n",
       "    }\n",
       "\n",
       "    .dataframe tbody tr th {\n",
       "        vertical-align: top;\n",
       "    }\n",
       "\n",
       "    .dataframe thead th {\n",
       "        text-align: right;\n",
       "    }\n",
       "</style>\n",
       "<table border=\"1\" class=\"dataframe\">\n",
       "  <thead>\n",
       "    <tr style=\"text-align: right;\">\n",
       "      <th></th>\n",
       "      <th>f0</th>\n",
       "      <th>f1</th>\n",
       "      <th>f2</th>\n",
       "      <th>product</th>\n",
       "    </tr>\n",
       "  </thead>\n",
       "  <tbody>\n",
       "    <tr>\n",
       "      <th>0</th>\n",
       "      <td>0.705745</td>\n",
       "      <td>-0.497823</td>\n",
       "      <td>1.221170</td>\n",
       "      <td>105.280062</td>\n",
       "    </tr>\n",
       "    <tr>\n",
       "      <th>1</th>\n",
       "      <td>1.334711</td>\n",
       "      <td>-0.340164</td>\n",
       "      <td>4.365080</td>\n",
       "      <td>73.037750</td>\n",
       "    </tr>\n",
       "    <tr>\n",
       "      <th>2</th>\n",
       "      <td>1.022732</td>\n",
       "      <td>0.151990</td>\n",
       "      <td>1.419926</td>\n",
       "      <td>85.265647</td>\n",
       "    </tr>\n",
       "    <tr>\n",
       "      <th>3</th>\n",
       "      <td>-0.032172</td>\n",
       "      <td>0.139033</td>\n",
       "      <td>2.978566</td>\n",
       "      <td>168.620776</td>\n",
       "    </tr>\n",
       "    <tr>\n",
       "      <th>4</th>\n",
       "      <td>1.988431</td>\n",
       "      <td>0.155413</td>\n",
       "      <td>4.751769</td>\n",
       "      <td>154.036647</td>\n",
       "    </tr>\n",
       "  </tbody>\n",
       "</table>\n",
       "</div>"
      ],
      "text/plain": [
       "         f0        f1        f2     product\n",
       "0  0.705745 -0.497823  1.221170  105.280062\n",
       "1  1.334711 -0.340164  4.365080   73.037750\n",
       "2  1.022732  0.151990  1.419926   85.265647\n",
       "3 -0.032172  0.139033  2.978566  168.620776\n",
       "4  1.988431  0.155413  4.751769  154.036647"
      ]
     },
     "execution_count": 10,
     "metadata": {},
     "output_type": "execute_result"
    }
   ],
   "source": [
    "data_geo_0 = data_geo_0.drop(['id'], axis=1)\n",
    "data_geo_0.head()"
   ]
  },
  {
   "cell_type": "code",
   "execution_count": 11,
   "metadata": {},
   "outputs": [
    {
     "data": {
      "text/html": [
       "<div>\n",
       "<style scoped>\n",
       "    .dataframe tbody tr th:only-of-type {\n",
       "        vertical-align: middle;\n",
       "    }\n",
       "\n",
       "    .dataframe tbody tr th {\n",
       "        vertical-align: top;\n",
       "    }\n",
       "\n",
       "    .dataframe thead th {\n",
       "        text-align: right;\n",
       "    }\n",
       "</style>\n",
       "<table border=\"1\" class=\"dataframe\">\n",
       "  <thead>\n",
       "    <tr style=\"text-align: right;\">\n",
       "      <th></th>\n",
       "      <th>f0</th>\n",
       "      <th>f1</th>\n",
       "      <th>f2</th>\n",
       "      <th>product</th>\n",
       "    </tr>\n",
       "  </thead>\n",
       "  <tbody>\n",
       "    <tr>\n",
       "      <th>0</th>\n",
       "      <td>-15.001348</td>\n",
       "      <td>-8.276000</td>\n",
       "      <td>-0.005876</td>\n",
       "      <td>3.179103</td>\n",
       "    </tr>\n",
       "    <tr>\n",
       "      <th>1</th>\n",
       "      <td>14.272088</td>\n",
       "      <td>-3.475083</td>\n",
       "      <td>0.999183</td>\n",
       "      <td>26.953261</td>\n",
       "    </tr>\n",
       "    <tr>\n",
       "      <th>2</th>\n",
       "      <td>6.263187</td>\n",
       "      <td>-5.948386</td>\n",
       "      <td>5.001160</td>\n",
       "      <td>134.766305</td>\n",
       "    </tr>\n",
       "    <tr>\n",
       "      <th>3</th>\n",
       "      <td>-13.081196</td>\n",
       "      <td>-11.506057</td>\n",
       "      <td>4.999415</td>\n",
       "      <td>137.945408</td>\n",
       "    </tr>\n",
       "    <tr>\n",
       "      <th>4</th>\n",
       "      <td>12.702195</td>\n",
       "      <td>-8.147433</td>\n",
       "      <td>5.004363</td>\n",
       "      <td>134.766305</td>\n",
       "    </tr>\n",
       "  </tbody>\n",
       "</table>\n",
       "</div>"
      ],
      "text/plain": [
       "          f0         f1        f2     product\n",
       "0 -15.001348  -8.276000 -0.005876    3.179103\n",
       "1  14.272088  -3.475083  0.999183   26.953261\n",
       "2   6.263187  -5.948386  5.001160  134.766305\n",
       "3 -13.081196 -11.506057  4.999415  137.945408\n",
       "4  12.702195  -8.147433  5.004363  134.766305"
      ]
     },
     "execution_count": 11,
     "metadata": {},
     "output_type": "execute_result"
    }
   ],
   "source": [
    "data_geo_1 = data_geo_1.drop(['id'], axis=1)\n",
    "data_geo_1.head()"
   ]
  },
  {
   "cell_type": "code",
   "execution_count": 12,
   "metadata": {},
   "outputs": [
    {
     "data": {
      "text/html": [
       "<div>\n",
       "<style scoped>\n",
       "    .dataframe tbody tr th:only-of-type {\n",
       "        vertical-align: middle;\n",
       "    }\n",
       "\n",
       "    .dataframe tbody tr th {\n",
       "        vertical-align: top;\n",
       "    }\n",
       "\n",
       "    .dataframe thead th {\n",
       "        text-align: right;\n",
       "    }\n",
       "</style>\n",
       "<table border=\"1\" class=\"dataframe\">\n",
       "  <thead>\n",
       "    <tr style=\"text-align: right;\">\n",
       "      <th></th>\n",
       "      <th>f0</th>\n",
       "      <th>f1</th>\n",
       "      <th>f2</th>\n",
       "      <th>product</th>\n",
       "    </tr>\n",
       "  </thead>\n",
       "  <tbody>\n",
       "    <tr>\n",
       "      <th>0</th>\n",
       "      <td>-1.146987</td>\n",
       "      <td>0.963328</td>\n",
       "      <td>-0.828965</td>\n",
       "      <td>27.758673</td>\n",
       "    </tr>\n",
       "    <tr>\n",
       "      <th>1</th>\n",
       "      <td>0.262778</td>\n",
       "      <td>0.269839</td>\n",
       "      <td>-2.530187</td>\n",
       "      <td>56.069697</td>\n",
       "    </tr>\n",
       "    <tr>\n",
       "      <th>2</th>\n",
       "      <td>0.194587</td>\n",
       "      <td>0.289035</td>\n",
       "      <td>-5.586433</td>\n",
       "      <td>62.871910</td>\n",
       "    </tr>\n",
       "    <tr>\n",
       "      <th>3</th>\n",
       "      <td>2.236060</td>\n",
       "      <td>-0.553760</td>\n",
       "      <td>0.930038</td>\n",
       "      <td>114.572842</td>\n",
       "    </tr>\n",
       "    <tr>\n",
       "      <th>4</th>\n",
       "      <td>-0.515993</td>\n",
       "      <td>1.716266</td>\n",
       "      <td>5.899011</td>\n",
       "      <td>149.600746</td>\n",
       "    </tr>\n",
       "  </tbody>\n",
       "</table>\n",
       "</div>"
      ],
      "text/plain": [
       "         f0        f1        f2     product\n",
       "0 -1.146987  0.963328 -0.828965   27.758673\n",
       "1  0.262778  0.269839 -2.530187   56.069697\n",
       "2  0.194587  0.289035 -5.586433   62.871910\n",
       "3  2.236060 -0.553760  0.930038  114.572842\n",
       "4 -0.515993  1.716266  5.899011  149.600746"
      ]
     },
     "execution_count": 12,
     "metadata": {},
     "output_type": "execute_result"
    }
   ],
   "source": [
    "data_geo_2 = data_geo_2.drop(['id'], axis=1)\n",
    "data_geo_2.head()"
   ]
  },
  {
   "cell_type": "markdown",
   "metadata": {},
   "source": [
    "При подготовке данных мы избавились от ненужного нам столбца идентефикаторов, а так же проверели данные на пропуски и дубликаты."
   ]
  },
  {
   "cell_type": "code",
   "execution_count": 13,
   "metadata": {},
   "outputs": [
    {
     "data": {
      "text/html": [
       "<div>\n",
       "<style scoped>\n",
       "    .dataframe tbody tr th:only-of-type {\n",
       "        vertical-align: middle;\n",
       "    }\n",
       "\n",
       "    .dataframe tbody tr th {\n",
       "        vertical-align: top;\n",
       "    }\n",
       "\n",
       "    .dataframe thead th {\n",
       "        text-align: right;\n",
       "    }\n",
       "</style>\n",
       "<table border=\"1\" class=\"dataframe\">\n",
       "  <thead>\n",
       "    <tr style=\"text-align: right;\">\n",
       "      <th></th>\n",
       "      <th>f0</th>\n",
       "      <th>f1</th>\n",
       "      <th>f2</th>\n",
       "      <th>product</th>\n",
       "    </tr>\n",
       "  </thead>\n",
       "  <tbody>\n",
       "    <tr>\n",
       "      <th>f0</th>\n",
       "      <td>1.000000</td>\n",
       "      <td>-0.440723</td>\n",
       "      <td>-0.003153</td>\n",
       "      <td>0.143536</td>\n",
       "    </tr>\n",
       "    <tr>\n",
       "      <th>f1</th>\n",
       "      <td>-0.440723</td>\n",
       "      <td>1.000000</td>\n",
       "      <td>0.001724</td>\n",
       "      <td>-0.192356</td>\n",
       "    </tr>\n",
       "    <tr>\n",
       "      <th>f2</th>\n",
       "      <td>-0.003153</td>\n",
       "      <td>0.001724</td>\n",
       "      <td>1.000000</td>\n",
       "      <td>0.483663</td>\n",
       "    </tr>\n",
       "    <tr>\n",
       "      <th>product</th>\n",
       "      <td>0.143536</td>\n",
       "      <td>-0.192356</td>\n",
       "      <td>0.483663</td>\n",
       "      <td>1.000000</td>\n",
       "    </tr>\n",
       "  </tbody>\n",
       "</table>\n",
       "</div>"
      ],
      "text/plain": [
       "               f0        f1        f2   product\n",
       "f0       1.000000 -0.440723 -0.003153  0.143536\n",
       "f1      -0.440723  1.000000  0.001724 -0.192356\n",
       "f2      -0.003153  0.001724  1.000000  0.483663\n",
       "product  0.143536 -0.192356  0.483663  1.000000"
      ]
     },
     "execution_count": 13,
     "metadata": {},
     "output_type": "execute_result"
    }
   ],
   "source": [
    "data_geo_0.corr()"
   ]
  },
  {
   "cell_type": "code",
   "execution_count": 14,
   "metadata": {},
   "outputs": [
    {
     "data": {
      "text/html": [
       "<div>\n",
       "<style scoped>\n",
       "    .dataframe tbody tr th:only-of-type {\n",
       "        vertical-align: middle;\n",
       "    }\n",
       "\n",
       "    .dataframe tbody tr th {\n",
       "        vertical-align: top;\n",
       "    }\n",
       "\n",
       "    .dataframe thead th {\n",
       "        text-align: right;\n",
       "    }\n",
       "</style>\n",
       "<table border=\"1\" class=\"dataframe\">\n",
       "  <thead>\n",
       "    <tr style=\"text-align: right;\">\n",
       "      <th></th>\n",
       "      <th>f0</th>\n",
       "      <th>f1</th>\n",
       "      <th>f2</th>\n",
       "      <th>product</th>\n",
       "    </tr>\n",
       "  </thead>\n",
       "  <tbody>\n",
       "    <tr>\n",
       "      <th>f0</th>\n",
       "      <td>1.000000</td>\n",
       "      <td>0.182287</td>\n",
       "      <td>-0.001777</td>\n",
       "      <td>-0.030491</td>\n",
       "    </tr>\n",
       "    <tr>\n",
       "      <th>f1</th>\n",
       "      <td>0.182287</td>\n",
       "      <td>1.000000</td>\n",
       "      <td>-0.002595</td>\n",
       "      <td>-0.010155</td>\n",
       "    </tr>\n",
       "    <tr>\n",
       "      <th>f2</th>\n",
       "      <td>-0.001777</td>\n",
       "      <td>-0.002595</td>\n",
       "      <td>1.000000</td>\n",
       "      <td>0.999397</td>\n",
       "    </tr>\n",
       "    <tr>\n",
       "      <th>product</th>\n",
       "      <td>-0.030491</td>\n",
       "      <td>-0.010155</td>\n",
       "      <td>0.999397</td>\n",
       "      <td>1.000000</td>\n",
       "    </tr>\n",
       "  </tbody>\n",
       "</table>\n",
       "</div>"
      ],
      "text/plain": [
       "               f0        f1        f2   product\n",
       "f0       1.000000  0.182287 -0.001777 -0.030491\n",
       "f1       0.182287  1.000000 -0.002595 -0.010155\n",
       "f2      -0.001777 -0.002595  1.000000  0.999397\n",
       "product -0.030491 -0.010155  0.999397  1.000000"
      ]
     },
     "execution_count": 14,
     "metadata": {},
     "output_type": "execute_result"
    }
   ],
   "source": [
    "data_geo_1.corr()"
   ]
  },
  {
   "cell_type": "code",
   "execution_count": 15,
   "metadata": {},
   "outputs": [
    {
     "data": {
      "text/html": [
       "<div>\n",
       "<style scoped>\n",
       "    .dataframe tbody tr th:only-of-type {\n",
       "        vertical-align: middle;\n",
       "    }\n",
       "\n",
       "    .dataframe tbody tr th {\n",
       "        vertical-align: top;\n",
       "    }\n",
       "\n",
       "    .dataframe thead th {\n",
       "        text-align: right;\n",
       "    }\n",
       "</style>\n",
       "<table border=\"1\" class=\"dataframe\">\n",
       "  <thead>\n",
       "    <tr style=\"text-align: right;\">\n",
       "      <th></th>\n",
       "      <th>f0</th>\n",
       "      <th>f1</th>\n",
       "      <th>f2</th>\n",
       "      <th>product</th>\n",
       "    </tr>\n",
       "  </thead>\n",
       "  <tbody>\n",
       "    <tr>\n",
       "      <th>f0</th>\n",
       "      <td>1.000000</td>\n",
       "      <td>0.000528</td>\n",
       "      <td>-0.000448</td>\n",
       "      <td>-0.001987</td>\n",
       "    </tr>\n",
       "    <tr>\n",
       "      <th>f1</th>\n",
       "      <td>0.000528</td>\n",
       "      <td>1.000000</td>\n",
       "      <td>0.000779</td>\n",
       "      <td>-0.001012</td>\n",
       "    </tr>\n",
       "    <tr>\n",
       "      <th>f2</th>\n",
       "      <td>-0.000448</td>\n",
       "      <td>0.000779</td>\n",
       "      <td>1.000000</td>\n",
       "      <td>0.445871</td>\n",
       "    </tr>\n",
       "    <tr>\n",
       "      <th>product</th>\n",
       "      <td>-0.001987</td>\n",
       "      <td>-0.001012</td>\n",
       "      <td>0.445871</td>\n",
       "      <td>1.000000</td>\n",
       "    </tr>\n",
       "  </tbody>\n",
       "</table>\n",
       "</div>"
      ],
      "text/plain": [
       "               f0        f1        f2   product\n",
       "f0       1.000000  0.000528 -0.000448 -0.001987\n",
       "f1       0.000528  1.000000  0.000779 -0.001012\n",
       "f2      -0.000448  0.000779  1.000000  0.445871\n",
       "product -0.001987 -0.001012  0.445871  1.000000"
      ]
     },
     "execution_count": 15,
     "metadata": {},
     "output_type": "execute_result"
    }
   ],
   "source": [
    "data_geo_2.corr()"
   ]
  },
  {
   "cell_type": "markdown",
   "metadata": {},
   "source": [
    "Из таблиц корреляции самое важное что можем отметить это очень сильную корреляцию между f2 и product во втором регионе. Скорее всего имеет смысл даже удалить столбец f2 из второго датафрейма. Во всех остальных регионах все отлично."
   ]
  },
  {
   "cell_type": "markdown",
   "metadata": {},
   "source": [
    "## Обучение и проверка модели"
   ]
  },
  {
   "cell_type": "markdown",
   "metadata": {},
   "source": [
    "Напишем функцию для того, чтобы подготовить данные к обучению модели(разобьем данные на тестовую и валидационную выборку и произведем стандартизацию данных), а так же построим модель на основе этих данных и посчитаем RMSE."
   ]
  },
  {
   "cell_type": "code",
   "execution_count": 16,
   "metadata": {},
   "outputs": [],
   "source": [
    "def rmse_data(data):\n",
    "    features = data.drop('product', axis=1)\n",
    "    target = data['product']\n",
    "    \n",
    "    features_train, features_valid, target_train, target_valid = train_test_split(features, target, test_size=0.25, \n",
    "                                                                                  random_state=12345)\n",
    "    \n",
    "    scaler = StandardScaler()\n",
    "    scaler.fit(features_train)\n",
    "    features_train = pd.DataFrame(scaler.transform(features_train))\n",
    "    features_valid = pd.DataFrame(scaler.transform(features_valid))\n",
    "    target_train = target_train.reset_index(drop=True)\n",
    "    target_valid = target_valid.reset_index(drop=True)\n",
    "    \n",
    "    model = LinearRegression()\n",
    "    model.fit(features_train, target_train)\n",
    "    predicted_valid = model.predict(features_valid)\n",
    "    \n",
    "    return mean_squared_error(target_valid, predicted_valid) ** 0.5, predicted_valid, target_valid"
   ]
  },
  {
   "cell_type": "code",
   "execution_count": 17,
   "metadata": {},
   "outputs": [],
   "source": [
    "data_geo_0_rmse, data_geo_0_predicted, data_geo_0_target_valid = rmse_data(data_geo_0)\n",
    "data_geo_1_rmse, data_geo_1_predicted, data_geo_1_target_valid = rmse_data(data_geo_1)\n",
    "data_geo_2_rmse, data_geo_2_predicted, data_geo_2_target_valid = rmse_data(data_geo_2)"
   ]
  },
  {
   "cell_type": "code",
   "execution_count": 18,
   "metadata": {},
   "outputs": [],
   "source": [
    "data_geo_0_predicted = pd.Series(data_geo_0_predicted)\n",
    "data_geo_1_predicted = pd.Series(data_geo_1_predicted)\n",
    "data_geo_2_predicted = pd.Series(data_geo_2_predicted)"
   ]
  },
  {
   "cell_type": "code",
   "execution_count": 19,
   "metadata": {},
   "outputs": [
    {
     "name": "stdout",
     "output_type": "stream",
     "text": [
      "RMSE в первом регионе: 37.5794217150813\n",
      "Средний запас предсказанного сырья в первом регионе: 92.59256778438035\n"
     ]
    }
   ],
   "source": [
    "print('RMSE в первом регионе:', data_geo_0_rmse)\n",
    "print('Средний запас предсказанного сырья в первом регионе:', data_geo_0_predicted.mean())"
   ]
  },
  {
   "cell_type": "code",
   "execution_count": 20,
   "metadata": {},
   "outputs": [
    {
     "name": "stdout",
     "output_type": "stream",
     "text": [
      "RMSE во втором регионе: 0.893099286775617\n",
      "Средний запас предсказанного сырья во втором регионе: 68.728546895446\n"
     ]
    }
   ],
   "source": [
    "print('RMSE во втором регионе:', data_geo_1_rmse)\n",
    "print('Средний запас предсказанного сырья во втором регионе:', data_geo_1_predicted.mean())"
   ]
  },
  {
   "cell_type": "code",
   "execution_count": 21,
   "metadata": {},
   "outputs": [
    {
     "name": "stdout",
     "output_type": "stream",
     "text": [
      "RMSE в третьем регионе: 40.02970873393434\n",
      "Средний запас предсказанного сырья в третьем регионе: 94.96504596800489\n"
     ]
    }
   ],
   "source": [
    "print('RMSE в третьем регионе:', data_geo_2_rmse)\n",
    "print('Средний запас предсказанного сырья в третьем регионе:', data_geo_2_predicted.mean())"
   ]
  },
  {
   "cell_type": "markdown",
   "metadata": {},
   "source": [
    "RMSE в первом регионе ниже, чем в третьем, средний запас предсказанного сырья так же ниже, чем в третьем.  \n",
    "RMSE во втором регионе самое маленькое, однако и средний запас сырья в этом регионе ниже всего.  \n",
    "RMSE в третьем регионе самое высокое, и в тоже время и средний запас сырья выше, чем в других регионах."
   ]
  },
  {
   "cell_type": "markdown",
   "metadata": {},
   "source": [
    "## Подготовка к расчёту прибыли"
   ]
  },
  {
   "cell_type": "markdown",
   "metadata": {},
   "source": [
    "Создадим нужные нам константы"
   ]
  },
  {
   "cell_type": "code",
   "execution_count": 22,
   "metadata": {},
   "outputs": [],
   "source": [
    "best_points = 200\n",
    "total_points = 500\n",
    "budget = 10**10\n",
    "product_price = 450000\n",
    "quant = .025"
   ]
  },
  {
   "cell_type": "markdown",
   "metadata": {},
   "source": [
    "Посчитаем минимальное количество тыс. барралей для безубыточности."
   ]
  },
  {
   "cell_type": "code",
   "execution_count": 23,
   "metadata": {},
   "outputs": [
    {
     "data": {
      "text/plain": [
       "111.11111111111111"
      ]
     },
     "execution_count": 23,
     "metadata": {},
     "output_type": "execute_result"
    }
   ],
   "source": [
    "min_barrels = budget / product_price / best_points\n",
    "min_barrels"
   ]
  },
  {
   "cell_type": "markdown",
   "metadata": {},
   "source": [
    "Минимальное количство тысяч барралей для безубыточности проекта 111.11111111111111. Во всех наших трех регионах средний запас гораздо ниже. Ближе всего по запасу третий регион, где средний запас равен 94.96504596800489."
   ]
  },
  {
   "cell_type": "code",
   "execution_count": 24,
   "metadata": {},
   "outputs": [
    {
     "name": "stdout",
     "output_type": "stream",
     "text": [
      "Истинный средний запас первого региона равен 92.07859674082927\n",
      "Предсказанный средний запас первого регона 92.59256778438035\n"
     ]
    }
   ],
   "source": [
    "print('Истинный средний запас первого региона равен', data_geo_0_target_valid.mean())\n",
    "print('Предсказанный средний запас первого регона', data_geo_0_predicted.mean())"
   ]
  },
  {
   "cell_type": "code",
   "execution_count": 25,
   "metadata": {},
   "outputs": [
    {
     "name": "stdout",
     "output_type": "stream",
     "text": [
      "Истинный средний запас второго региона равен 68.72313602435997\n",
      "Предсказанный средний запас второго регона 68.728546895446\n"
     ]
    }
   ],
   "source": [
    "print('Истинный средний запас второго региона равен', data_geo_1_target_valid.mean())\n",
    "print('Предсказанный средний запас второго регона', data_geo_1_predicted.mean())"
   ]
  },
  {
   "cell_type": "code",
   "execution_count": 26,
   "metadata": {
    "scrolled": true
   },
   "outputs": [
    {
     "name": "stdout",
     "output_type": "stream",
     "text": [
      "Истинный средний запас третьего региона равен 94.88423280885438\n",
      "Предсказанный средний запас третьего регона 94.96504596800489\n"
     ]
    }
   ],
   "source": [
    "print('Истинный средний запас третьего региона равен', data_geo_2_target_valid.mean())\n",
    "print('Предсказанный средний запас третьего регона', data_geo_2_predicted.mean())"
   ]
  },
  {
   "cell_type": "markdown",
   "metadata": {},
   "source": [
    "Истинные и предсказанные средние очень близки друг к другу, однако RMSE второго региона гораздо ниже остальных. Изначально MSE это сумма квадратов ошибок объектов / кол-во объектов. Соотвественно средние значения и RMSE могут быть вообще не связаны, например у нас есть очень сильные ошибки в плюс и очень сильные ошибки в минус, при подсчете среднего они будут друг дурга компенсировать, а сумма квадратов ошибок при этом будет расти."
   ]
  },
  {
   "cell_type": "markdown",
   "metadata": {},
   "source": [
    "Рассмотрим предсказания только для лучших 200 шахт каждого региона. Возьмем среднее для них и сравним с минимальным количеством тысяч барралей."
   ]
  },
  {
   "cell_type": "code",
   "execution_count": 27,
   "metadata": {},
   "outputs": [
    {
     "data": {
      "text/plain": [
       "155.511654194057"
      ]
     },
     "execution_count": 27,
     "metadata": {},
     "output_type": "execute_result"
    }
   ],
   "source": [
    "data_geo_0_predicted.sort_values(ascending=False).head(best_points).mean()"
   ]
  },
  {
   "cell_type": "code",
   "execution_count": 28,
   "metadata": {},
   "outputs": [
    {
     "data": {
      "text/plain": [
       "138.73013391081716"
      ]
     },
     "execution_count": 28,
     "metadata": {},
     "output_type": "execute_result"
    }
   ],
   "source": [
    "data_geo_1_predicted.sort_values(ascending=False).head(best_points).mean()"
   ]
  },
  {
   "cell_type": "code",
   "execution_count": 29,
   "metadata": {},
   "outputs": [
    {
     "data": {
      "text/plain": [
       "148.01949329159174"
      ]
     },
     "execution_count": 29,
     "metadata": {},
     "output_type": "execute_result"
    }
   ],
   "source": [
    "data_geo_2_predicted.sort_values(ascending=False).head(best_points).mean()"
   ]
  },
  {
   "cell_type": "markdown",
   "metadata": {},
   "source": [
    "Для топ 200 шахт каждого региона, регион с самым большим средним предсказанным оказался первый, за ним идет третий и худший по среднему предсказанному - второй регион. В целом для топ 200 шахт все 3 региона оказались прибыльными, так как везде среднее выше порога для безубыточности."
   ]
  },
  {
   "cell_type": "code",
   "execution_count": 30,
   "metadata": {},
   "outputs": [],
   "source": [
    "def profit(target, predictions):\n",
    "    preds_sorted = predictions.sort_values(ascending=False)[:best_points]\n",
    "    selected = target[preds_sorted.index]\n",
    "    return selected.sum() * product_price - budget"
   ]
  },
  {
   "cell_type": "code",
   "execution_count": 31,
   "metadata": {},
   "outputs": [
    {
     "name": "stdout",
     "output_type": "stream",
     "text": [
      "Прибыль 200 лучших шахт первого региона составила: 3320826043.1398506\n",
      "Прибыль 200 лучших шахт второго региона составила: 2415086696.681511\n",
      "Прибыль 200 лучших шахт третьего региона составила: 2710349963.5998325\n"
     ]
    }
   ],
   "source": [
    "print('Прибыль 200 лучших шахт первого региона составила:', profit(data_geo_0_target_valid, data_geo_0_predicted))\n",
    "print('Прибыль 200 лучших шахт второго региона составила:', profit(data_geo_1_target_valid, data_geo_1_predicted))\n",
    "print('Прибыль 200 лучших шахт третьего региона составила:', profit(data_geo_2_target_valid, data_geo_2_predicted))"
   ]
  },
  {
   "cell_type": "markdown",
   "metadata": {},
   "source": [
    "## Расчёт прибыли и рисков "
   ]
  },
  {
   "cell_type": "code",
   "execution_count": 32,
   "metadata": {},
   "outputs": [],
   "source": [
    "state = np.random.RandomState(12345)"
   ]
  },
  {
   "cell_type": "code",
   "execution_count": 33,
   "metadata": {},
   "outputs": [],
   "source": [
    "def risk_and_profit(target, predictions):\n",
    "    values = []\n",
    "    for i in range(0, 1000):\n",
    "        sample = predictions.sample(n=total_points, replace=True, random_state=state)\n",
    "        values.append(profit(target, sample))\n",
    "    values = pd.Series(values)    \n",
    "    print('Средняя выручка в регионе', values.mean())\n",
    "    lower = values.quantile(quant)\n",
    "    upper = values.quantile(1-quant)\n",
    "    print('2.5%-квантиль:', lower)\n",
    "    print('97.5%-квантиль:', upper)\n",
    "    print('Вероятость убытка:', (values.values<0).mean()*100, '%')"
   ]
  },
  {
   "cell_type": "code",
   "execution_count": 34,
   "metadata": {},
   "outputs": [
    {
     "name": "stdout",
     "output_type": "stream",
     "text": [
      "Средняя выручка в регионе 396164984.8023711\n",
      "2.5%-квантиль: -111215545.89049526\n",
      "97.5%-квантиль: 909766941.5534226\n",
      "Вероятость убытка: 6.9 %\n"
     ]
    }
   ],
   "source": [
    "risk_and_profit(data_geo_0_target_valid, data_geo_0_predicted)"
   ]
  },
  {
   "cell_type": "code",
   "execution_count": 35,
   "metadata": {},
   "outputs": [
    {
     "name": "stdout",
     "output_type": "stream",
     "text": [
      "Средняя выручка в регионе 461155817.2772397\n",
      "2.5%-квантиль: 78050810.7517417\n",
      "97.5%-квантиль: 862952060.2637234\n",
      "Вероятость убытка: 0.7000000000000001 %\n"
     ]
    }
   ],
   "source": [
    "risk_and_profit(data_geo_1_target_valid, data_geo_1_predicted)"
   ]
  },
  {
   "cell_type": "code",
   "execution_count": 36,
   "metadata": {},
   "outputs": [
    {
     "name": "stdout",
     "output_type": "stream",
     "text": [
      "Средняя выручка в регионе 392950475.17060447\n",
      "2.5%-квантиль: -112227625.37857565\n",
      "97.5%-квантиль: 934562914.5511636\n",
      "Вероятость убытка: 6.5 %\n"
     ]
    }
   ],
   "source": [
    "risk_and_profit(data_geo_2_target_valid, data_geo_2_predicted)"
   ]
  },
  {
   "cell_type": "markdown",
   "metadata": {},
   "source": [
    "После оценки рисков предлагается выбрать 2 регион, где по результатам исследования наибольшая средняя выручка(461155817.2772397), а так же самая маленькая веротяность убытка - 0.7%. В первом регионе вероятность убытка 6.9%, а во втором 6.5%, что противоречит условию того, что вероятность риска должна быть менее 2.5%."
   ]
  },
  {
   "cell_type": "code",
   "execution_count": null,
   "metadata": {},
   "outputs": [],
   "source": []
  }
 ],
 "metadata": {
  "ExecuteTimeLog": [
   {
    "duration": 123,
    "start_time": "2023-10-15T11:49:05.516Z"
   },
   {
    "duration": 427,
    "start_time": "2023-10-15T11:49:09.484Z"
   },
   {
    "duration": 774,
    "start_time": "2023-10-15T11:49:53.492Z"
   },
   {
    "duration": 16,
    "start_time": "2023-10-15T11:50:04.557Z"
   },
   {
    "duration": 10,
    "start_time": "2023-10-15T11:50:14.517Z"
   },
   {
    "duration": 8,
    "start_time": "2023-10-15T11:50:15.302Z"
   },
   {
    "duration": 14,
    "start_time": "2023-10-15T11:51:03.717Z"
   },
   {
    "duration": 14,
    "start_time": "2023-10-15T11:51:33.437Z"
   },
   {
    "duration": 14,
    "start_time": "2023-10-15T11:51:34.374Z"
   },
   {
    "duration": 63,
    "start_time": "2023-10-15T11:55:54.683Z"
   },
   {
    "duration": 13,
    "start_time": "2023-10-15T11:55:58.250Z"
   },
   {
    "duration": 377,
    "start_time": "2023-10-15T11:56:10.638Z"
   },
   {
    "duration": 382,
    "start_time": "2023-10-15T11:56:11.017Z"
   },
   {
    "duration": 19,
    "start_time": "2023-10-15T11:56:11.400Z"
   },
   {
    "duration": 35,
    "start_time": "2023-10-15T11:56:11.422Z"
   },
   {
    "duration": 13,
    "start_time": "2023-10-15T11:56:11.459Z"
   },
   {
    "duration": 31,
    "start_time": "2023-10-15T11:56:11.474Z"
   },
   {
    "duration": 9,
    "start_time": "2023-10-15T11:56:11.507Z"
   },
   {
    "duration": 90,
    "start_time": "2023-10-15T11:56:26.299Z"
   },
   {
    "duration": 11,
    "start_time": "2023-10-15T11:56:30.650Z"
   },
   {
    "duration": 13,
    "start_time": "2023-10-15T11:56:41.854Z"
   },
   {
    "duration": 13,
    "start_time": "2023-10-15T11:56:43.330Z"
   },
   {
    "duration": 366,
    "start_time": "2023-10-15T15:11:38.354Z"
   },
   {
    "duration": 395,
    "start_time": "2023-10-15T15:11:38.723Z"
   },
   {
    "duration": 15,
    "start_time": "2023-10-15T15:11:39.120Z"
   },
   {
    "duration": 34,
    "start_time": "2023-10-15T15:11:39.137Z"
   },
   {
    "duration": 40,
    "start_time": "2023-10-15T15:11:39.173Z"
   },
   {
    "duration": 27,
    "start_time": "2023-10-15T15:11:39.214Z"
   },
   {
    "duration": 15,
    "start_time": "2023-10-15T15:11:39.243Z"
   },
   {
    "duration": 24,
    "start_time": "2023-10-15T15:11:39.259Z"
   },
   {
    "duration": 49,
    "start_time": "2023-10-15T15:11:39.284Z"
   },
   {
    "duration": 64,
    "start_time": "2023-10-15T15:13:44.334Z"
   },
   {
    "duration": 7,
    "start_time": "2023-10-15T15:13:52.406Z"
   },
   {
    "duration": 418,
    "start_time": "2023-10-15T15:14:12.498Z"
   },
   {
    "duration": 395,
    "start_time": "2023-10-15T15:14:12.918Z"
   },
   {
    "duration": 14,
    "start_time": "2023-10-15T15:14:13.315Z"
   },
   {
    "duration": 22,
    "start_time": "2023-10-15T15:14:13.331Z"
   },
   {
    "duration": 17,
    "start_time": "2023-10-15T15:14:13.355Z"
   },
   {
    "duration": 14,
    "start_time": "2023-10-15T15:14:13.373Z"
   },
   {
    "duration": 78,
    "start_time": "2023-10-15T15:14:13.389Z"
   },
   {
    "duration": 0,
    "start_time": "2023-10-15T15:14:13.469Z"
   },
   {
    "duration": 0,
    "start_time": "2023-10-15T15:14:13.470Z"
   },
   {
    "duration": 0,
    "start_time": "2023-10-15T15:14:13.471Z"
   },
   {
    "duration": 44,
    "start_time": "2023-10-15T15:15:42.071Z"
   },
   {
    "duration": 39,
    "start_time": "2023-10-15T15:15:58.039Z"
   },
   {
    "duration": 44,
    "start_time": "2023-10-15T15:15:58.751Z"
   },
   {
    "duration": 13,
    "start_time": "2023-10-15T15:16:01.527Z"
   },
   {
    "duration": 13,
    "start_time": "2023-10-15T15:16:02.543Z"
   },
   {
    "duration": 13,
    "start_time": "2023-10-15T15:16:04.031Z"
   },
   {
    "duration": 680,
    "start_time": "2023-10-15T15:19:33.018Z"
   },
   {
    "duration": 4,
    "start_time": "2023-10-15T15:27:18.888Z"
   },
   {
    "duration": 4,
    "start_time": "2023-10-15T15:28:54.625Z"
   },
   {
    "duration": 35,
    "start_time": "2023-10-15T15:30:22.818Z"
   },
   {
    "duration": 4,
    "start_time": "2023-10-15T15:30:32.586Z"
   },
   {
    "duration": 6,
    "start_time": "2023-10-15T15:31:19.563Z"
   },
   {
    "duration": 42,
    "start_time": "2023-10-15T15:31:20.604Z"
   },
   {
    "duration": 15,
    "start_time": "2023-10-15T15:31:21.379Z"
   },
   {
    "duration": 6,
    "start_time": "2023-10-15T15:31:36.866Z"
   },
   {
    "duration": 4,
    "start_time": "2023-10-15T15:31:53.179Z"
   },
   {
    "duration": 22,
    "start_time": "2023-10-15T15:31:55.002Z"
   },
   {
    "duration": 9,
    "start_time": "2023-10-15T15:31:55.652Z"
   },
   {
    "duration": 9,
    "start_time": "2023-10-15T15:32:00.844Z"
   },
   {
    "duration": 13,
    "start_time": "2023-10-15T15:32:17.211Z"
   },
   {
    "duration": 13,
    "start_time": "2023-10-15T15:32:20.739Z"
   },
   {
    "duration": 63,
    "start_time": "2023-10-15T15:32:48.380Z"
   },
   {
    "duration": 4,
    "start_time": "2023-10-15T15:38:54.440Z"
   },
   {
    "duration": 40,
    "start_time": "2023-10-15T15:39:54.217Z"
   },
   {
    "duration": 3,
    "start_time": "2023-10-15T15:40:00.385Z"
   },
   {
    "duration": 193,
    "start_time": "2023-10-15T15:40:01.217Z"
   },
   {
    "duration": 4,
    "start_time": "2023-10-15T15:40:12.506Z"
   },
   {
    "duration": 55,
    "start_time": "2023-10-15T15:40:13.153Z"
   },
   {
    "duration": 5,
    "start_time": "2023-10-15T15:40:27.593Z"
   },
   {
    "duration": 79,
    "start_time": "2023-10-15T15:40:28.137Z"
   },
   {
    "duration": 4,
    "start_time": "2023-10-15T15:40:34.754Z"
   },
   {
    "duration": 34,
    "start_time": "2023-10-15T15:40:35.898Z"
   },
   {
    "duration": 4,
    "start_time": "2023-10-15T15:40:46.058Z"
   },
   {
    "duration": 4,
    "start_time": "2023-10-15T15:41:00.338Z"
   },
   {
    "duration": 5,
    "start_time": "2023-10-15T15:41:09.978Z"
   },
   {
    "duration": 4,
    "start_time": "2023-10-15T15:41:10.922Z"
   },
   {
    "duration": 59,
    "start_time": "2023-10-15T15:41:12.649Z"
   },
   {
    "duration": 4,
    "start_time": "2023-10-15T15:41:15.233Z"
   },
   {
    "duration": 386,
    "start_time": "2023-10-15T15:41:34.330Z"
   },
   {
    "duration": 3,
    "start_time": "2023-10-15T15:42:48.547Z"
   },
   {
    "duration": 3,
    "start_time": "2023-10-15T15:43:23.620Z"
   },
   {
    "duration": 4,
    "start_time": "2023-10-15T15:43:24.235Z"
   },
   {
    "duration": 5,
    "start_time": "2023-10-15T15:45:12.131Z"
   },
   {
    "duration": 3,
    "start_time": "2023-10-15T15:45:12.812Z"
   },
   {
    "duration": 5,
    "start_time": "2023-10-15T15:45:13.603Z"
   },
   {
    "duration": 4,
    "start_time": "2023-10-15T15:45:14.212Z"
   },
   {
    "duration": 5,
    "start_time": "2023-10-15T15:46:08.652Z"
   },
   {
    "duration": 403,
    "start_time": "2023-10-15T15:46:09.517Z"
   },
   {
    "duration": 4,
    "start_time": "2023-10-15T15:46:10.164Z"
   },
   {
    "duration": 3,
    "start_time": "2023-10-15T15:46:10.692Z"
   },
   {
    "duration": 3,
    "start_time": "2023-10-15T15:46:11.525Z"
   },
   {
    "duration": 3,
    "start_time": "2023-10-15T15:58:37.333Z"
   },
   {
    "duration": 3,
    "start_time": "2023-10-15T16:05:25.817Z"
   },
   {
    "duration": 4,
    "start_time": "2023-10-15T16:05:34.640Z"
   },
   {
    "duration": 10,
    "start_time": "2023-10-15T16:08:02.874Z"
   },
   {
    "duration": 3,
    "start_time": "2023-10-15T16:08:20.242Z"
   },
   {
    "duration": 4,
    "start_time": "2023-10-15T16:08:22.682Z"
   },
   {
    "duration": 8,
    "start_time": "2023-10-15T16:08:49.178Z"
   },
   {
    "duration": 8,
    "start_time": "2023-10-15T16:09:08.763Z"
   },
   {
    "duration": 4,
    "start_time": "2023-10-15T16:09:55.323Z"
   },
   {
    "duration": 2,
    "start_time": "2023-10-15T16:10:38.852Z"
   },
   {
    "duration": 6,
    "start_time": "2023-10-15T16:10:43.052Z"
   },
   {
    "duration": 3,
    "start_time": "2023-10-15T16:11:06.564Z"
   },
   {
    "duration": 8,
    "start_time": "2023-10-15T16:11:19.413Z"
   },
   {
    "duration": 7,
    "start_time": "2023-10-15T16:11:40.300Z"
   },
   {
    "duration": 83,
    "start_time": "2023-10-15T16:12:20.189Z"
   },
   {
    "duration": 7,
    "start_time": "2023-10-15T16:12:28.605Z"
   },
   {
    "duration": 7,
    "start_time": "2023-10-15T16:12:29.292Z"
   },
   {
    "duration": 7,
    "start_time": "2023-10-15T16:12:48.925Z"
   },
   {
    "duration": 7,
    "start_time": "2023-10-15T16:12:49.645Z"
   },
   {
    "duration": 7,
    "start_time": "2023-10-15T16:12:50.285Z"
   },
   {
    "duration": 4,
    "start_time": "2023-10-15T16:38:12.378Z"
   },
   {
    "duration": 26,
    "start_time": "2023-10-15T16:39:44.834Z"
   },
   {
    "duration": 21,
    "start_time": "2023-10-15T16:40:06.674Z"
   },
   {
    "duration": 6,
    "start_time": "2023-10-15T16:40:25.610Z"
   },
   {
    "duration": 19,
    "start_time": "2023-10-15T16:40:26.331Z"
   },
   {
    "duration": 6,
    "start_time": "2023-10-15T16:40:51.091Z"
   },
   {
    "duration": 5,
    "start_time": "2023-10-15T16:40:58.731Z"
   },
   {
    "duration": 3,
    "start_time": "2023-10-15T16:41:26.579Z"
   },
   {
    "duration": 19,
    "start_time": "2023-10-15T16:41:27.995Z"
   },
   {
    "duration": 6,
    "start_time": "2023-10-15T16:41:29.403Z"
   },
   {
    "duration": 2,
    "start_time": "2023-10-15T16:41:48.013Z"
   },
   {
    "duration": 20,
    "start_time": "2023-10-15T16:41:50.188Z"
   },
   {
    "duration": 3,
    "start_time": "2023-10-15T16:41:54.578Z"
   },
   {
    "duration": 19,
    "start_time": "2023-10-15T16:41:55.940Z"
   },
   {
    "duration": 3,
    "start_time": "2023-10-15T16:42:22.170Z"
   },
   {
    "duration": 16,
    "start_time": "2023-10-15T16:42:24.013Z"
   },
   {
    "duration": 3,
    "start_time": "2023-10-15T16:42:37.219Z"
   },
   {
    "duration": 3,
    "start_time": "2023-10-15T16:42:37.900Z"
   },
   {
    "duration": 25,
    "start_time": "2023-10-15T16:42:38.474Z"
   },
   {
    "duration": 3,
    "start_time": "2023-10-15T16:42:48.116Z"
   },
   {
    "duration": 3,
    "start_time": "2023-10-15T16:42:49.176Z"
   },
   {
    "duration": 17,
    "start_time": "2023-10-15T16:42:50.280Z"
   },
   {
    "duration": 1138,
    "start_time": "2023-10-15T16:44:24.780Z"
   },
   {
    "duration": 428,
    "start_time": "2023-10-15T16:44:25.919Z"
   },
   {
    "duration": 20,
    "start_time": "2023-10-15T16:44:26.350Z"
   },
   {
    "duration": 19,
    "start_time": "2023-10-15T16:44:26.372Z"
   },
   {
    "duration": 16,
    "start_time": "2023-10-15T16:44:26.406Z"
   },
   {
    "duration": 23,
    "start_time": "2023-10-15T16:44:26.424Z"
   },
   {
    "duration": 60,
    "start_time": "2023-10-15T16:44:26.449Z"
   },
   {
    "duration": 42,
    "start_time": "2023-10-15T16:44:26.510Z"
   },
   {
    "duration": 61,
    "start_time": "2023-10-15T16:44:26.553Z"
   },
   {
    "duration": 11,
    "start_time": "2023-10-15T16:44:26.615Z"
   },
   {
    "duration": 21,
    "start_time": "2023-10-15T16:44:26.627Z"
   },
   {
    "duration": 18,
    "start_time": "2023-10-15T16:44:26.649Z"
   },
   {
    "duration": 23,
    "start_time": "2023-10-15T16:44:26.668Z"
   },
   {
    "duration": 432,
    "start_time": "2023-10-15T16:44:26.693Z"
   },
   {
    "duration": 4,
    "start_time": "2023-10-15T16:44:27.129Z"
   },
   {
    "duration": 99,
    "start_time": "2023-10-15T16:44:27.208Z"
   },
   {
    "duration": 4,
    "start_time": "2023-10-15T16:44:27.309Z"
   },
   {
    "duration": 8,
    "start_time": "2023-10-15T16:44:27.315Z"
   },
   {
    "duration": 18,
    "start_time": "2023-10-15T16:44:27.325Z"
   },
   {
    "duration": 5,
    "start_time": "2023-10-15T16:44:27.345Z"
   },
   {
    "duration": 7,
    "start_time": "2023-10-15T16:44:27.351Z"
   },
   {
    "duration": 11,
    "start_time": "2023-10-15T16:44:27.359Z"
   },
   {
    "duration": 7,
    "start_time": "2023-10-15T16:44:27.371Z"
   },
   {
    "duration": 3,
    "start_time": "2023-10-15T16:44:27.379Z"
   },
   {
    "duration": 131,
    "start_time": "2023-10-15T16:44:27.383Z"
   },
   {
    "duration": 6,
    "start_time": "2023-10-15T16:44:51.750Z"
   },
   {
    "duration": 5,
    "start_time": "2023-10-15T16:44:56.726Z"
   },
   {
    "duration": 2,
    "start_time": "2023-10-15T16:45:06.191Z"
   },
   {
    "duration": 8,
    "start_time": "2023-10-15T16:45:07.180Z"
   },
   {
    "duration": 3,
    "start_time": "2023-10-15T16:45:25.950Z"
   },
   {
    "duration": 8,
    "start_time": "2023-10-15T16:45:26.423Z"
   },
   {
    "duration": 9,
    "start_time": "2023-10-15T16:45:35.991Z"
   },
   {
    "duration": 8,
    "start_time": "2023-10-15T16:45:39.870Z"
   },
   {
    "duration": 3,
    "start_time": "2023-10-15T16:45:40.534Z"
   },
   {
    "duration": 7,
    "start_time": "2023-10-15T16:45:41.039Z"
   },
   {
    "duration": 15,
    "start_time": "2023-10-15T16:46:03.526Z"
   },
   {
    "duration": 8,
    "start_time": "2023-10-15T16:49:09.298Z"
   },
   {
    "duration": 3,
    "start_time": "2023-10-15T16:49:24.684Z"
   },
   {
    "duration": 2,
    "start_time": "2023-10-15T16:49:28.314Z"
   },
   {
    "duration": 4,
    "start_time": "2023-10-15T16:58:58.113Z"
   },
   {
    "duration": 653,
    "start_time": "2023-10-15T16:59:18.089Z"
   },
   {
    "duration": 4,
    "start_time": "2023-10-15T16:59:27.064Z"
   },
   {
    "duration": 625,
    "start_time": "2023-10-15T16:59:27.601Z"
   },
   {
    "duration": 746,
    "start_time": "2023-10-15T17:00:05.675Z"
   },
   {
    "duration": 710,
    "start_time": "2023-10-15T17:00:06.423Z"
   },
   {
    "duration": 4,
    "start_time": "2023-10-15T17:01:59.269Z"
   },
   {
    "duration": 657,
    "start_time": "2023-10-15T17:01:59.802Z"
   },
   {
    "duration": 671,
    "start_time": "2023-10-15T17:02:01.968Z"
   },
   {
    "duration": 625,
    "start_time": "2023-10-15T17:02:03.386Z"
   },
   {
    "duration": 4,
    "start_time": "2023-10-15T17:02:21.467Z"
   },
   {
    "duration": 637,
    "start_time": "2023-10-15T17:02:23.267Z"
   },
   {
    "duration": 633,
    "start_time": "2023-10-15T17:02:24.978Z"
   },
   {
    "duration": 669,
    "start_time": "2023-10-15T17:02:26.643Z"
   },
   {
    "duration": 3,
    "start_time": "2023-10-15T17:07:16.414Z"
   },
   {
    "duration": 1488,
    "start_time": "2023-10-15T17:08:45.326Z"
   },
   {
    "duration": 510,
    "start_time": "2023-10-15T17:08:46.816Z"
   },
   {
    "duration": 15,
    "start_time": "2023-10-15T17:08:47.328Z"
   },
   {
    "duration": 15,
    "start_time": "2023-10-15T17:08:47.345Z"
   },
   {
    "duration": 14,
    "start_time": "2023-10-15T17:08:47.362Z"
   },
   {
    "duration": 33,
    "start_time": "2023-10-15T17:08:47.377Z"
   },
   {
    "duration": 49,
    "start_time": "2023-10-15T17:08:47.411Z"
   },
   {
    "duration": 60,
    "start_time": "2023-10-15T17:08:47.462Z"
   },
   {
    "duration": 44,
    "start_time": "2023-10-15T17:08:47.523Z"
   },
   {
    "duration": 11,
    "start_time": "2023-10-15T17:08:47.568Z"
   },
   {
    "duration": 63,
    "start_time": "2023-10-15T17:08:47.580Z"
   },
   {
    "duration": 16,
    "start_time": "2023-10-15T17:08:47.645Z"
   },
   {
    "duration": 23,
    "start_time": "2023-10-15T17:08:47.662Z"
   },
   {
    "duration": 520,
    "start_time": "2023-10-15T17:08:47.687Z"
   },
   {
    "duration": 8,
    "start_time": "2023-10-15T17:08:48.210Z"
   },
   {
    "duration": 109,
    "start_time": "2023-10-15T17:08:48.220Z"
   },
   {
    "duration": 12,
    "start_time": "2023-10-15T17:08:48.331Z"
   },
   {
    "duration": 19,
    "start_time": "2023-10-15T17:08:48.344Z"
   },
   {
    "duration": 3,
    "start_time": "2023-10-15T17:08:48.364Z"
   },
   {
    "duration": 6,
    "start_time": "2023-10-15T17:08:48.368Z"
   },
   {
    "duration": 7,
    "start_time": "2023-10-15T17:08:48.375Z"
   },
   {
    "duration": 7,
    "start_time": "2023-10-15T17:08:48.383Z"
   },
   {
    "duration": 6,
    "start_time": "2023-10-15T17:08:48.391Z"
   },
   {
    "duration": 3,
    "start_time": "2023-10-15T17:08:48.406Z"
   },
   {
    "duration": 16,
    "start_time": "2023-10-15T17:08:48.410Z"
   },
   {
    "duration": 4,
    "start_time": "2023-10-15T17:08:48.428Z"
   },
   {
    "duration": 16,
    "start_time": "2023-10-15T17:08:48.434Z"
   },
   {
    "duration": 680,
    "start_time": "2023-10-15T17:08:48.451Z"
   },
   {
    "duration": 628,
    "start_time": "2023-10-15T17:08:49.133Z"
   },
   {
    "duration": 672,
    "start_time": "2023-10-15T17:08:49.763Z"
   },
   {
    "duration": 1099,
    "start_time": "2023-10-15T17:09:51.904Z"
   },
   {
    "duration": 401,
    "start_time": "2023-10-15T17:09:53.005Z"
   },
   {
    "duration": 16,
    "start_time": "2023-10-15T17:09:53.407Z"
   },
   {
    "duration": 20,
    "start_time": "2023-10-15T17:09:53.425Z"
   },
   {
    "duration": 13,
    "start_time": "2023-10-15T17:09:53.447Z"
   },
   {
    "duration": 13,
    "start_time": "2023-10-15T17:09:53.462Z"
   },
   {
    "duration": 84,
    "start_time": "2023-10-15T17:09:53.476Z"
   },
   {
    "duration": 54,
    "start_time": "2023-10-15T17:09:53.562Z"
   },
   {
    "duration": 47,
    "start_time": "2023-10-15T17:09:53.618Z"
   },
   {
    "duration": 12,
    "start_time": "2023-10-15T17:09:53.667Z"
   },
   {
    "duration": 34,
    "start_time": "2023-10-15T17:09:53.682Z"
   },
   {
    "duration": 46,
    "start_time": "2023-10-15T17:09:53.718Z"
   },
   {
    "duration": 20,
    "start_time": "2023-10-15T17:09:53.766Z"
   },
   {
    "duration": 426,
    "start_time": "2023-10-15T17:09:53.789Z"
   },
   {
    "duration": 7,
    "start_time": "2023-10-15T17:09:54.218Z"
   },
   {
    "duration": 113,
    "start_time": "2023-10-15T17:09:54.308Z"
   },
   {
    "duration": 10,
    "start_time": "2023-10-15T17:09:54.422Z"
   },
   {
    "duration": 15,
    "start_time": "2023-10-15T17:09:54.433Z"
   },
   {
    "duration": 33,
    "start_time": "2023-10-15T17:09:54.449Z"
   },
   {
    "duration": 17,
    "start_time": "2023-10-15T17:09:54.484Z"
   },
   {
    "duration": 12,
    "start_time": "2023-10-15T17:09:54.503Z"
   },
   {
    "duration": 8,
    "start_time": "2023-10-15T17:09:54.516Z"
   },
   {
    "duration": 21,
    "start_time": "2023-10-15T17:09:54.526Z"
   },
   {
    "duration": 17,
    "start_time": "2023-10-15T17:09:54.548Z"
   },
   {
    "duration": 24,
    "start_time": "2023-10-15T17:09:54.566Z"
   },
   {
    "duration": 4,
    "start_time": "2023-10-15T17:09:54.591Z"
   },
   {
    "duration": 12,
    "start_time": "2023-10-15T17:09:54.596Z"
   },
   {
    "duration": 729,
    "start_time": "2023-10-15T17:09:54.609Z"
   },
   {
    "duration": 759,
    "start_time": "2023-10-15T17:09:55.340Z"
   },
   {
    "duration": 704,
    "start_time": "2023-10-15T17:09:56.101Z"
   },
   {
    "duration": 1314,
    "start_time": "2023-10-15T18:52:47.259Z"
   },
   {
    "duration": 1732,
    "start_time": "2023-10-15T18:52:48.657Z"
   },
   {
    "duration": 16,
    "start_time": "2023-10-15T18:52:50.391Z"
   },
   {
    "duration": 15,
    "start_time": "2023-10-15T18:52:50.408Z"
   },
   {
    "duration": 13,
    "start_time": "2023-10-15T18:52:50.424Z"
   },
   {
    "duration": 13,
    "start_time": "2023-10-15T18:52:50.710Z"
   },
   {
    "duration": 52,
    "start_time": "2023-10-15T18:52:52.421Z"
   },
   {
    "duration": 47,
    "start_time": "2023-10-15T18:52:52.812Z"
   },
   {
    "duration": 42,
    "start_time": "2023-10-15T18:52:53.399Z"
   },
   {
    "duration": 10,
    "start_time": "2023-10-15T18:53:19.718Z"
   },
   {
    "duration": 13,
    "start_time": "2023-10-15T18:53:19.895Z"
   },
   {
    "duration": 12,
    "start_time": "2023-10-15T18:53:20.118Z"
   },
   {
    "duration": 5,
    "start_time": "2023-10-15T18:53:54.701Z"
   },
   {
    "duration": 399,
    "start_time": "2023-10-15T18:54:19.957Z"
   },
   {
    "duration": 85,
    "start_time": "2023-10-15T18:54:20.358Z"
   },
   {
    "duration": 100,
    "start_time": "2023-10-15T18:54:20.445Z"
   },
   {
    "duration": 9,
    "start_time": "2023-10-15T18:54:20.547Z"
   },
   {
    "duration": 4,
    "start_time": "2023-10-15T18:54:20.798Z"
   },
   {
    "duration": 2,
    "start_time": "2023-10-15T18:54:38.185Z"
   },
   {
    "duration": 4,
    "start_time": "2023-10-15T18:54:38.930Z"
   },
   {
    "duration": 7,
    "start_time": "2023-10-15T18:56:37.268Z"
   },
   {
    "duration": 7,
    "start_time": "2023-10-15T18:56:37.427Z"
   },
   {
    "duration": 8,
    "start_time": "2023-10-15T18:56:37.603Z"
   },
   {
    "duration": 3,
    "start_time": "2023-10-15T18:56:37.963Z"
   },
   {
    "duration": 13,
    "start_time": "2023-10-15T18:56:38.811Z"
   },
   {
    "duration": 7,
    "start_time": "2023-10-15T19:00:01.688Z"
   },
   {
    "duration": 7,
    "start_time": "2023-10-15T19:00:26.254Z"
   },
   {
    "duration": 56,
    "start_time": "2023-10-16T10:32:31.810Z"
   },
   {
    "duration": 1138,
    "start_time": "2023-10-16T10:32:55.267Z"
   },
   {
    "duration": 809,
    "start_time": "2023-10-16T10:32:56.407Z"
   },
   {
    "duration": 20,
    "start_time": "2023-10-16T10:32:57.218Z"
   },
   {
    "duration": 17,
    "start_time": "2023-10-16T10:32:57.240Z"
   },
   {
    "duration": 13,
    "start_time": "2023-10-16T10:32:57.259Z"
   },
   {
    "duration": 12,
    "start_time": "2023-10-16T10:32:57.274Z"
   },
   {
    "duration": 78,
    "start_time": "2023-10-16T10:32:57.287Z"
   },
   {
    "duration": 41,
    "start_time": "2023-10-16T10:32:57.366Z"
   },
   {
    "duration": 76,
    "start_time": "2023-10-16T10:32:57.408Z"
   },
   {
    "duration": 11,
    "start_time": "2023-10-16T10:32:57.486Z"
   },
   {
    "duration": 18,
    "start_time": "2023-10-16T10:32:57.498Z"
   },
   {
    "duration": 29,
    "start_time": "2023-10-16T10:32:57.518Z"
   },
   {
    "duration": 6,
    "start_time": "2023-10-16T10:32:57.549Z"
   },
   {
    "duration": 384,
    "start_time": "2023-10-16T10:32:57.557Z"
   },
   {
    "duration": 4,
    "start_time": "2023-10-16T10:32:57.942Z"
   },
   {
    "duration": 8,
    "start_time": "2023-10-16T10:32:57.947Z"
   },
   {
    "duration": 85,
    "start_time": "2023-10-16T10:32:57.956Z"
   },
   {
    "duration": 12,
    "start_time": "2023-10-16T10:32:58.043Z"
   },
   {
    "duration": 5,
    "start_time": "2023-10-16T10:32:58.056Z"
   },
   {
    "duration": 5,
    "start_time": "2023-10-16T10:32:58.062Z"
   },
   {
    "duration": 4,
    "start_time": "2023-10-16T10:32:58.069Z"
   },
   {
    "duration": 8,
    "start_time": "2023-10-16T10:32:58.075Z"
   },
   {
    "duration": 8,
    "start_time": "2023-10-16T10:32:58.084Z"
   },
   {
    "duration": 7,
    "start_time": "2023-10-16T10:32:58.093Z"
   },
   {
    "duration": 40,
    "start_time": "2023-10-16T10:32:58.101Z"
   },
   {
    "duration": 16,
    "start_time": "2023-10-16T10:32:58.142Z"
   },
   {
    "duration": 4,
    "start_time": "2023-10-16T10:32:58.160Z"
   },
   {
    "duration": 4,
    "start_time": "2023-10-16T10:32:58.166Z"
   },
   {
    "duration": 560,
    "start_time": "2023-10-16T10:32:58.172Z"
   },
   {
    "duration": 535,
    "start_time": "2023-10-16T10:32:58.734Z"
   },
   {
    "duration": 557,
    "start_time": "2023-10-16T10:32:59.271Z"
   },
   {
    "duration": 13,
    "start_time": "2023-10-16T10:32:59.830Z"
   },
   {
    "duration": 7,
    "start_time": "2023-10-16T10:32:59.844Z"
   },
   {
    "duration": 3,
    "start_time": "2023-10-16T10:34:11.768Z"
   },
   {
    "duration": 4,
    "start_time": "2023-10-16T10:34:17.305Z"
   },
   {
    "duration": 102,
    "start_time": "2023-10-16T10:34:49.601Z"
   },
   {
    "duration": 5,
    "start_time": "2023-10-16T10:35:02.393Z"
   },
   {
    "duration": 5,
    "start_time": "2023-10-16T10:35:30.673Z"
   },
   {
    "duration": 5,
    "start_time": "2023-10-16T10:35:31.321Z"
   },
   {
    "duration": 19,
    "start_time": "2023-10-16T10:49:01.495Z"
   },
   {
    "duration": 20,
    "start_time": "2023-10-16T10:49:20.741Z"
   },
   {
    "duration": 26,
    "start_time": "2023-10-16T10:49:21.926Z"
   },
   {
    "duration": 1040,
    "start_time": "2023-10-16T10:56:40.197Z"
   },
   {
    "duration": 367,
    "start_time": "2023-10-16T10:56:41.239Z"
   },
   {
    "duration": 21,
    "start_time": "2023-10-16T10:56:41.607Z"
   },
   {
    "duration": 30,
    "start_time": "2023-10-16T10:56:41.630Z"
   },
   {
    "duration": 18,
    "start_time": "2023-10-16T10:56:41.662Z"
   },
   {
    "duration": 18,
    "start_time": "2023-10-16T10:56:41.682Z"
   },
   {
    "duration": 70,
    "start_time": "2023-10-16T10:56:41.701Z"
   },
   {
    "duration": 40,
    "start_time": "2023-10-16T10:56:41.773Z"
   },
   {
    "duration": 67,
    "start_time": "2023-10-16T10:56:41.815Z"
   },
   {
    "duration": 10,
    "start_time": "2023-10-16T10:56:41.885Z"
   },
   {
    "duration": 11,
    "start_time": "2023-10-16T10:56:41.897Z"
   },
   {
    "duration": 11,
    "start_time": "2023-10-16T10:56:41.910Z"
   },
   {
    "duration": 41,
    "start_time": "2023-10-16T10:56:41.923Z"
   },
   {
    "duration": 13,
    "start_time": "2023-10-16T10:56:41.966Z"
   },
   {
    "duration": 14,
    "start_time": "2023-10-16T10:56:41.981Z"
   },
   {
    "duration": 8,
    "start_time": "2023-10-16T10:56:41.996Z"
   },
   {
    "duration": 450,
    "start_time": "2023-10-16T10:56:42.006Z"
   },
   {
    "duration": 7,
    "start_time": "2023-10-16T10:56:42.458Z"
   },
   {
    "duration": 82,
    "start_time": "2023-10-16T10:56:42.466Z"
   },
   {
    "duration": 26,
    "start_time": "2023-10-16T10:56:42.550Z"
   },
   {
    "duration": 5,
    "start_time": "2023-10-16T10:56:42.580Z"
   },
   {
    "duration": 55,
    "start_time": "2023-10-16T10:56:42.587Z"
   },
   {
    "duration": 10,
    "start_time": "2023-10-16T10:56:42.644Z"
   },
   {
    "duration": 10,
    "start_time": "2023-10-16T10:56:42.655Z"
   },
   {
    "duration": 4,
    "start_time": "2023-10-16T10:56:42.668Z"
   },
   {
    "duration": 6,
    "start_time": "2023-10-16T10:56:42.673Z"
   },
   {
    "duration": 8,
    "start_time": "2023-10-16T10:56:42.682Z"
   },
   {
    "duration": 10,
    "start_time": "2023-10-16T10:56:42.694Z"
   },
   {
    "duration": 37,
    "start_time": "2023-10-16T10:56:42.706Z"
   },
   {
    "duration": 13,
    "start_time": "2023-10-16T10:56:42.752Z"
   },
   {
    "duration": 21,
    "start_time": "2023-10-16T10:56:42.766Z"
   },
   {
    "duration": 4,
    "start_time": "2023-10-16T10:56:42.788Z"
   },
   {
    "duration": 6,
    "start_time": "2023-10-16T10:56:42.793Z"
   },
   {
    "duration": 554,
    "start_time": "2023-10-16T10:56:42.802Z"
   },
   {
    "duration": 544,
    "start_time": "2023-10-16T10:56:43.358Z"
   },
   {
    "duration": 569,
    "start_time": "2023-10-16T10:56:43.903Z"
   },
   {
    "duration": 8,
    "start_time": "2023-10-16T10:56:44.473Z"
   },
   {
    "duration": 6,
    "start_time": "2023-10-16T10:56:44.482Z"
   }
  ],
  "kernelspec": {
   "display_name": "Python 3 (ipykernel)",
   "language": "python",
   "name": "python3"
  },
  "language_info": {
   "codemirror_mode": {
    "name": "ipython",
    "version": 3
   },
   "file_extension": ".py",
   "mimetype": "text/x-python",
   "name": "python",
   "nbconvert_exporter": "python",
   "pygments_lexer": "ipython3",
   "version": "3.9.18"
  },
  "toc": {
   "base_numbering": 1,
   "nav_menu": {},
   "number_sections": true,
   "sideBar": true,
   "skip_h1_title": true,
   "title_cell": "Table of Contents",
   "title_sidebar": "Contents",
   "toc_cell": false,
   "toc_position": {},
   "toc_section_display": true,
   "toc_window_display": false
  }
 },
 "nbformat": 4,
 "nbformat_minor": 4
}
