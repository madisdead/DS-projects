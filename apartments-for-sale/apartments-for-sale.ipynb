{
 "cells": [
  {
   "cell_type": "markdown",
   "metadata": {},
   "source": [
    "# Исследование объявлений о продаже квартир\n",
    "\n",
    "В вашем распоряжении данные сервиса Яндекс.Недвижимость — архив объявлений о продаже квартир в Санкт-Петербурге и соседних населённых пунктов за несколько лет. Нужно научиться определять рыночную стоимость объектов недвижимости. Ваша задача — установить параметры. Это позволит построить автоматизированную систему: она отследит аномалии и мошенническую деятельность. \n",
    "\n",
    "По каждой квартире на продажу доступны два вида данных. Первые вписаны пользователем, вторые — получены автоматически на основе картографических данных. Например, расстояние до центра, аэропорта, ближайшего парка и водоёма. "
   ]
  },
  {
   "cell_type": "markdown",
   "metadata": {},
   "source": [
    "### Откройте файл с данными и изучите общую информацию. "
   ]
  },
  {
   "cell_type": "code",
   "execution_count": 1,
   "metadata": {},
   "outputs": [],
   "source": [
    "import pandas as pd\n",
    "import matplotlib.pyplot as plt"
   ]
  },
  {
   "cell_type": "code",
   "execution_count": 2,
   "metadata": {},
   "outputs": [
    {
     "data": {
      "text/html": [
       "<div>\n",
       "<style scoped>\n",
       "    .dataframe tbody tr th:only-of-type {\n",
       "        vertical-align: middle;\n",
       "    }\n",
       "\n",
       "    .dataframe tbody tr th {\n",
       "        vertical-align: top;\n",
       "    }\n",
       "\n",
       "    .dataframe thead th {\n",
       "        text-align: right;\n",
       "    }\n",
       "</style>\n",
       "<table border=\"1\" class=\"dataframe\">\n",
       "  <thead>\n",
       "    <tr style=\"text-align: right;\">\n",
       "      <th></th>\n",
       "      <th>total_images</th>\n",
       "      <th>last_price</th>\n",
       "      <th>total_area</th>\n",
       "      <th>first_day_exposition</th>\n",
       "      <th>rooms</th>\n",
       "      <th>ceiling_height</th>\n",
       "      <th>floors_total</th>\n",
       "      <th>living_area</th>\n",
       "      <th>floor</th>\n",
       "      <th>is_apartment</th>\n",
       "      <th>studio</th>\n",
       "      <th>open_plan</th>\n",
       "      <th>kitchen_area</th>\n",
       "      <th>balcony</th>\n",
       "      <th>locality_name</th>\n",
       "      <th>airports_nearest</th>\n",
       "      <th>cityCenters_nearest</th>\n",
       "      <th>parks_around3000</th>\n",
       "      <th>parks_nearest</th>\n",
       "      <th>ponds_around3000</th>\n",
       "      <th>ponds_nearest</th>\n",
       "      <th>days_exposition</th>\n",
       "    </tr>\n",
       "  </thead>\n",
       "  <tbody>\n",
       "    <tr>\n",
       "      <th>0</th>\n",
       "      <td>20</td>\n",
       "      <td>13000000.0</td>\n",
       "      <td>108.00</td>\n",
       "      <td>2019-03-07T00:00:00</td>\n",
       "      <td>3</td>\n",
       "      <td>2.70</td>\n",
       "      <td>16.0</td>\n",
       "      <td>51.00</td>\n",
       "      <td>8</td>\n",
       "      <td>NaN</td>\n",
       "      <td>False</td>\n",
       "      <td>False</td>\n",
       "      <td>25.00</td>\n",
       "      <td>NaN</td>\n",
       "      <td>Санкт-Петербург</td>\n",
       "      <td>18863.0</td>\n",
       "      <td>16028.0</td>\n",
       "      <td>1.0</td>\n",
       "      <td>482.0</td>\n",
       "      <td>2.0</td>\n",
       "      <td>755.0</td>\n",
       "      <td>NaN</td>\n",
       "    </tr>\n",
       "    <tr>\n",
       "      <th>1</th>\n",
       "      <td>7</td>\n",
       "      <td>3350000.0</td>\n",
       "      <td>40.40</td>\n",
       "      <td>2018-12-04T00:00:00</td>\n",
       "      <td>1</td>\n",
       "      <td>NaN</td>\n",
       "      <td>11.0</td>\n",
       "      <td>18.60</td>\n",
       "      <td>1</td>\n",
       "      <td>NaN</td>\n",
       "      <td>False</td>\n",
       "      <td>False</td>\n",
       "      <td>11.00</td>\n",
       "      <td>2.0</td>\n",
       "      <td>посёлок Шушары</td>\n",
       "      <td>12817.0</td>\n",
       "      <td>18603.0</td>\n",
       "      <td>0.0</td>\n",
       "      <td>NaN</td>\n",
       "      <td>0.0</td>\n",
       "      <td>NaN</td>\n",
       "      <td>81.0</td>\n",
       "    </tr>\n",
       "    <tr>\n",
       "      <th>2</th>\n",
       "      <td>10</td>\n",
       "      <td>5196000.0</td>\n",
       "      <td>56.00</td>\n",
       "      <td>2015-08-20T00:00:00</td>\n",
       "      <td>2</td>\n",
       "      <td>NaN</td>\n",
       "      <td>5.0</td>\n",
       "      <td>34.30</td>\n",
       "      <td>4</td>\n",
       "      <td>NaN</td>\n",
       "      <td>False</td>\n",
       "      <td>False</td>\n",
       "      <td>8.30</td>\n",
       "      <td>0.0</td>\n",
       "      <td>Санкт-Петербург</td>\n",
       "      <td>21741.0</td>\n",
       "      <td>13933.0</td>\n",
       "      <td>1.0</td>\n",
       "      <td>90.0</td>\n",
       "      <td>2.0</td>\n",
       "      <td>574.0</td>\n",
       "      <td>558.0</td>\n",
       "    </tr>\n",
       "    <tr>\n",
       "      <th>3</th>\n",
       "      <td>0</td>\n",
       "      <td>64900000.0</td>\n",
       "      <td>159.00</td>\n",
       "      <td>2015-07-24T00:00:00</td>\n",
       "      <td>3</td>\n",
       "      <td>NaN</td>\n",
       "      <td>14.0</td>\n",
       "      <td>NaN</td>\n",
       "      <td>9</td>\n",
       "      <td>NaN</td>\n",
       "      <td>False</td>\n",
       "      <td>False</td>\n",
       "      <td>NaN</td>\n",
       "      <td>0.0</td>\n",
       "      <td>Санкт-Петербург</td>\n",
       "      <td>28098.0</td>\n",
       "      <td>6800.0</td>\n",
       "      <td>2.0</td>\n",
       "      <td>84.0</td>\n",
       "      <td>3.0</td>\n",
       "      <td>234.0</td>\n",
       "      <td>424.0</td>\n",
       "    </tr>\n",
       "    <tr>\n",
       "      <th>4</th>\n",
       "      <td>2</td>\n",
       "      <td>10000000.0</td>\n",
       "      <td>100.00</td>\n",
       "      <td>2018-06-19T00:00:00</td>\n",
       "      <td>2</td>\n",
       "      <td>3.03</td>\n",
       "      <td>14.0</td>\n",
       "      <td>32.00</td>\n",
       "      <td>13</td>\n",
       "      <td>NaN</td>\n",
       "      <td>False</td>\n",
       "      <td>False</td>\n",
       "      <td>41.00</td>\n",
       "      <td>NaN</td>\n",
       "      <td>Санкт-Петербург</td>\n",
       "      <td>31856.0</td>\n",
       "      <td>8098.0</td>\n",
       "      <td>2.0</td>\n",
       "      <td>112.0</td>\n",
       "      <td>1.0</td>\n",
       "      <td>48.0</td>\n",
       "      <td>121.0</td>\n",
       "    </tr>\n",
       "    <tr>\n",
       "      <th>5</th>\n",
       "      <td>10</td>\n",
       "      <td>2890000.0</td>\n",
       "      <td>30.40</td>\n",
       "      <td>2018-09-10T00:00:00</td>\n",
       "      <td>1</td>\n",
       "      <td>NaN</td>\n",
       "      <td>12.0</td>\n",
       "      <td>14.40</td>\n",
       "      <td>5</td>\n",
       "      <td>NaN</td>\n",
       "      <td>False</td>\n",
       "      <td>False</td>\n",
       "      <td>9.10</td>\n",
       "      <td>NaN</td>\n",
       "      <td>городской посёлок Янино-1</td>\n",
       "      <td>NaN</td>\n",
       "      <td>NaN</td>\n",
       "      <td>NaN</td>\n",
       "      <td>NaN</td>\n",
       "      <td>NaN</td>\n",
       "      <td>NaN</td>\n",
       "      <td>55.0</td>\n",
       "    </tr>\n",
       "    <tr>\n",
       "      <th>6</th>\n",
       "      <td>6</td>\n",
       "      <td>3700000.0</td>\n",
       "      <td>37.30</td>\n",
       "      <td>2017-11-02T00:00:00</td>\n",
       "      <td>1</td>\n",
       "      <td>NaN</td>\n",
       "      <td>26.0</td>\n",
       "      <td>10.60</td>\n",
       "      <td>6</td>\n",
       "      <td>NaN</td>\n",
       "      <td>False</td>\n",
       "      <td>False</td>\n",
       "      <td>14.40</td>\n",
       "      <td>1.0</td>\n",
       "      <td>посёлок Парголово</td>\n",
       "      <td>52996.0</td>\n",
       "      <td>19143.0</td>\n",
       "      <td>0.0</td>\n",
       "      <td>NaN</td>\n",
       "      <td>0.0</td>\n",
       "      <td>NaN</td>\n",
       "      <td>155.0</td>\n",
       "    </tr>\n",
       "    <tr>\n",
       "      <th>7</th>\n",
       "      <td>5</td>\n",
       "      <td>7915000.0</td>\n",
       "      <td>71.60</td>\n",
       "      <td>2019-04-18T00:00:00</td>\n",
       "      <td>2</td>\n",
       "      <td>NaN</td>\n",
       "      <td>24.0</td>\n",
       "      <td>NaN</td>\n",
       "      <td>22</td>\n",
       "      <td>NaN</td>\n",
       "      <td>False</td>\n",
       "      <td>False</td>\n",
       "      <td>18.90</td>\n",
       "      <td>2.0</td>\n",
       "      <td>Санкт-Петербург</td>\n",
       "      <td>23982.0</td>\n",
       "      <td>11634.0</td>\n",
       "      <td>0.0</td>\n",
       "      <td>NaN</td>\n",
       "      <td>0.0</td>\n",
       "      <td>NaN</td>\n",
       "      <td>NaN</td>\n",
       "    </tr>\n",
       "    <tr>\n",
       "      <th>8</th>\n",
       "      <td>20</td>\n",
       "      <td>2900000.0</td>\n",
       "      <td>33.16</td>\n",
       "      <td>2018-05-23T00:00:00</td>\n",
       "      <td>1</td>\n",
       "      <td>NaN</td>\n",
       "      <td>27.0</td>\n",
       "      <td>15.43</td>\n",
       "      <td>26</td>\n",
       "      <td>NaN</td>\n",
       "      <td>False</td>\n",
       "      <td>False</td>\n",
       "      <td>8.81</td>\n",
       "      <td>NaN</td>\n",
       "      <td>посёлок Мурино</td>\n",
       "      <td>NaN</td>\n",
       "      <td>NaN</td>\n",
       "      <td>NaN</td>\n",
       "      <td>NaN</td>\n",
       "      <td>NaN</td>\n",
       "      <td>NaN</td>\n",
       "      <td>189.0</td>\n",
       "    </tr>\n",
       "    <tr>\n",
       "      <th>9</th>\n",
       "      <td>18</td>\n",
       "      <td>5400000.0</td>\n",
       "      <td>61.00</td>\n",
       "      <td>2017-02-26T00:00:00</td>\n",
       "      <td>3</td>\n",
       "      <td>2.50</td>\n",
       "      <td>9.0</td>\n",
       "      <td>43.60</td>\n",
       "      <td>7</td>\n",
       "      <td>NaN</td>\n",
       "      <td>False</td>\n",
       "      <td>False</td>\n",
       "      <td>6.50</td>\n",
       "      <td>2.0</td>\n",
       "      <td>Санкт-Петербург</td>\n",
       "      <td>50898.0</td>\n",
       "      <td>15008.0</td>\n",
       "      <td>0.0</td>\n",
       "      <td>NaN</td>\n",
       "      <td>0.0</td>\n",
       "      <td>NaN</td>\n",
       "      <td>289.0</td>\n",
       "    </tr>\n",
       "    <tr>\n",
       "      <th>10</th>\n",
       "      <td>5</td>\n",
       "      <td>5050000.0</td>\n",
       "      <td>39.60</td>\n",
       "      <td>2017-11-16T00:00:00</td>\n",
       "      <td>1</td>\n",
       "      <td>2.67</td>\n",
       "      <td>12.0</td>\n",
       "      <td>20.30</td>\n",
       "      <td>3</td>\n",
       "      <td>NaN</td>\n",
       "      <td>False</td>\n",
       "      <td>False</td>\n",
       "      <td>8.50</td>\n",
       "      <td>NaN</td>\n",
       "      <td>Санкт-Петербург</td>\n",
       "      <td>38357.0</td>\n",
       "      <td>13878.0</td>\n",
       "      <td>1.0</td>\n",
       "      <td>310.0</td>\n",
       "      <td>2.0</td>\n",
       "      <td>553.0</td>\n",
       "      <td>137.0</td>\n",
       "    </tr>\n",
       "    <tr>\n",
       "      <th>11</th>\n",
       "      <td>9</td>\n",
       "      <td>3300000.0</td>\n",
       "      <td>44.00</td>\n",
       "      <td>2018-08-27T00:00:00</td>\n",
       "      <td>2</td>\n",
       "      <td>NaN</td>\n",
       "      <td>5.0</td>\n",
       "      <td>31.00</td>\n",
       "      <td>4</td>\n",
       "      <td>False</td>\n",
       "      <td>False</td>\n",
       "      <td>False</td>\n",
       "      <td>6.00</td>\n",
       "      <td>1.0</td>\n",
       "      <td>Ломоносов</td>\n",
       "      <td>48252.0</td>\n",
       "      <td>51677.0</td>\n",
       "      <td>0.0</td>\n",
       "      <td>NaN</td>\n",
       "      <td>0.0</td>\n",
       "      <td>NaN</td>\n",
       "      <td>7.0</td>\n",
       "    </tr>\n",
       "    <tr>\n",
       "      <th>12</th>\n",
       "      <td>10</td>\n",
       "      <td>3890000.0</td>\n",
       "      <td>54.00</td>\n",
       "      <td>2016-06-30T00:00:00</td>\n",
       "      <td>2</td>\n",
       "      <td>NaN</td>\n",
       "      <td>5.0</td>\n",
       "      <td>30.00</td>\n",
       "      <td>5</td>\n",
       "      <td>NaN</td>\n",
       "      <td>False</td>\n",
       "      <td>False</td>\n",
       "      <td>9.00</td>\n",
       "      <td>0.0</td>\n",
       "      <td>Сертолово</td>\n",
       "      <td>NaN</td>\n",
       "      <td>NaN</td>\n",
       "      <td>NaN</td>\n",
       "      <td>NaN</td>\n",
       "      <td>NaN</td>\n",
       "      <td>NaN</td>\n",
       "      <td>90.0</td>\n",
       "    </tr>\n",
       "    <tr>\n",
       "      <th>13</th>\n",
       "      <td>20</td>\n",
       "      <td>3550000.0</td>\n",
       "      <td>42.80</td>\n",
       "      <td>2017-07-01T00:00:00</td>\n",
       "      <td>2</td>\n",
       "      <td>2.56</td>\n",
       "      <td>5.0</td>\n",
       "      <td>27.00</td>\n",
       "      <td>5</td>\n",
       "      <td>NaN</td>\n",
       "      <td>False</td>\n",
       "      <td>False</td>\n",
       "      <td>5.20</td>\n",
       "      <td>1.0</td>\n",
       "      <td>Петергоф</td>\n",
       "      <td>37868.0</td>\n",
       "      <td>33058.0</td>\n",
       "      <td>1.0</td>\n",
       "      <td>294.0</td>\n",
       "      <td>3.0</td>\n",
       "      <td>298.0</td>\n",
       "      <td>366.0</td>\n",
       "    </tr>\n",
       "    <tr>\n",
       "      <th>14</th>\n",
       "      <td>1</td>\n",
       "      <td>4400000.0</td>\n",
       "      <td>36.00</td>\n",
       "      <td>2016-06-23T00:00:00</td>\n",
       "      <td>1</td>\n",
       "      <td>NaN</td>\n",
       "      <td>6.0</td>\n",
       "      <td>17.00</td>\n",
       "      <td>1</td>\n",
       "      <td>NaN</td>\n",
       "      <td>False</td>\n",
       "      <td>False</td>\n",
       "      <td>8.00</td>\n",
       "      <td>0.0</td>\n",
       "      <td>Пушкин</td>\n",
       "      <td>20782.0</td>\n",
       "      <td>30759.0</td>\n",
       "      <td>0.0</td>\n",
       "      <td>NaN</td>\n",
       "      <td>1.0</td>\n",
       "      <td>96.0</td>\n",
       "      <td>203.0</td>\n",
       "    </tr>\n",
       "    <tr>\n",
       "      <th>15</th>\n",
       "      <td>16</td>\n",
       "      <td>4650000.0</td>\n",
       "      <td>39.00</td>\n",
       "      <td>2017-11-18T00:00:00</td>\n",
       "      <td>1</td>\n",
       "      <td>NaN</td>\n",
       "      <td>14.0</td>\n",
       "      <td>20.50</td>\n",
       "      <td>5</td>\n",
       "      <td>NaN</td>\n",
       "      <td>False</td>\n",
       "      <td>False</td>\n",
       "      <td>7.60</td>\n",
       "      <td>1.0</td>\n",
       "      <td>Санкт-Петербург</td>\n",
       "      <td>12900.0</td>\n",
       "      <td>14259.0</td>\n",
       "      <td>1.0</td>\n",
       "      <td>590.0</td>\n",
       "      <td>1.0</td>\n",
       "      <td>296.0</td>\n",
       "      <td>19.0</td>\n",
       "    </tr>\n",
       "    <tr>\n",
       "      <th>16</th>\n",
       "      <td>11</td>\n",
       "      <td>6700000.0</td>\n",
       "      <td>82.00</td>\n",
       "      <td>2017-11-23T00:00:00</td>\n",
       "      <td>3</td>\n",
       "      <td>3.05</td>\n",
       "      <td>5.0</td>\n",
       "      <td>55.60</td>\n",
       "      <td>1</td>\n",
       "      <td>NaN</td>\n",
       "      <td>False</td>\n",
       "      <td>False</td>\n",
       "      <td>9.00</td>\n",
       "      <td>NaN</td>\n",
       "      <td>Санкт-Петербург</td>\n",
       "      <td>22108.0</td>\n",
       "      <td>10698.0</td>\n",
       "      <td>3.0</td>\n",
       "      <td>420.0</td>\n",
       "      <td>0.0</td>\n",
       "      <td>NaN</td>\n",
       "      <td>397.0</td>\n",
       "    </tr>\n",
       "    <tr>\n",
       "      <th>17</th>\n",
       "      <td>6</td>\n",
       "      <td>4180000.0</td>\n",
       "      <td>36.00</td>\n",
       "      <td>2016-09-09T00:00:00</td>\n",
       "      <td>1</td>\n",
       "      <td>NaN</td>\n",
       "      <td>17.0</td>\n",
       "      <td>16.50</td>\n",
       "      <td>7</td>\n",
       "      <td>NaN</td>\n",
       "      <td>False</td>\n",
       "      <td>False</td>\n",
       "      <td>11.00</td>\n",
       "      <td>1.0</td>\n",
       "      <td>Санкт-Петербург</td>\n",
       "      <td>33564.0</td>\n",
       "      <td>14616.0</td>\n",
       "      <td>0.0</td>\n",
       "      <td>NaN</td>\n",
       "      <td>1.0</td>\n",
       "      <td>859.0</td>\n",
       "      <td>571.0</td>\n",
       "    </tr>\n",
       "    <tr>\n",
       "      <th>18</th>\n",
       "      <td>8</td>\n",
       "      <td>3250000.0</td>\n",
       "      <td>31.00</td>\n",
       "      <td>2017-01-27T00:00:00</td>\n",
       "      <td>1</td>\n",
       "      <td>2.50</td>\n",
       "      <td>5.0</td>\n",
       "      <td>19.40</td>\n",
       "      <td>2</td>\n",
       "      <td>NaN</td>\n",
       "      <td>False</td>\n",
       "      <td>False</td>\n",
       "      <td>5.60</td>\n",
       "      <td>1.0</td>\n",
       "      <td>Санкт-Петербург</td>\n",
       "      <td>44060.0</td>\n",
       "      <td>10842.0</td>\n",
       "      <td>1.0</td>\n",
       "      <td>759.0</td>\n",
       "      <td>0.0</td>\n",
       "      <td>NaN</td>\n",
       "      <td>168.0</td>\n",
       "    </tr>\n",
       "    <tr>\n",
       "      <th>19</th>\n",
       "      <td>16</td>\n",
       "      <td>14200000.0</td>\n",
       "      <td>121.00</td>\n",
       "      <td>2019-01-09T00:00:00</td>\n",
       "      <td>3</td>\n",
       "      <td>2.75</td>\n",
       "      <td>16.0</td>\n",
       "      <td>76.00</td>\n",
       "      <td>8</td>\n",
       "      <td>NaN</td>\n",
       "      <td>False</td>\n",
       "      <td>False</td>\n",
       "      <td>12.00</td>\n",
       "      <td>NaN</td>\n",
       "      <td>Санкт-Петербург</td>\n",
       "      <td>38900.0</td>\n",
       "      <td>12843.0</td>\n",
       "      <td>0.0</td>\n",
       "      <td>NaN</td>\n",
       "      <td>0.0</td>\n",
       "      <td>NaN</td>\n",
       "      <td>97.0</td>\n",
       "    </tr>\n",
       "  </tbody>\n",
       "</table>\n",
       "</div>"
      ],
      "text/plain": [
       "    total_images  last_price  total_area first_day_exposition  rooms  \\\n",
       "0             20  13000000.0      108.00  2019-03-07T00:00:00      3   \n",
       "1              7   3350000.0       40.40  2018-12-04T00:00:00      1   \n",
       "2             10   5196000.0       56.00  2015-08-20T00:00:00      2   \n",
       "3              0  64900000.0      159.00  2015-07-24T00:00:00      3   \n",
       "4              2  10000000.0      100.00  2018-06-19T00:00:00      2   \n",
       "5             10   2890000.0       30.40  2018-09-10T00:00:00      1   \n",
       "6              6   3700000.0       37.30  2017-11-02T00:00:00      1   \n",
       "7              5   7915000.0       71.60  2019-04-18T00:00:00      2   \n",
       "8             20   2900000.0       33.16  2018-05-23T00:00:00      1   \n",
       "9             18   5400000.0       61.00  2017-02-26T00:00:00      3   \n",
       "10             5   5050000.0       39.60  2017-11-16T00:00:00      1   \n",
       "11             9   3300000.0       44.00  2018-08-27T00:00:00      2   \n",
       "12            10   3890000.0       54.00  2016-06-30T00:00:00      2   \n",
       "13            20   3550000.0       42.80  2017-07-01T00:00:00      2   \n",
       "14             1   4400000.0       36.00  2016-06-23T00:00:00      1   \n",
       "15            16   4650000.0       39.00  2017-11-18T00:00:00      1   \n",
       "16            11   6700000.0       82.00  2017-11-23T00:00:00      3   \n",
       "17             6   4180000.0       36.00  2016-09-09T00:00:00      1   \n",
       "18             8   3250000.0       31.00  2017-01-27T00:00:00      1   \n",
       "19            16  14200000.0      121.00  2019-01-09T00:00:00      3   \n",
       "\n",
       "    ceiling_height  floors_total  living_area  floor is_apartment  studio  \\\n",
       "0             2.70          16.0        51.00      8          NaN   False   \n",
       "1              NaN          11.0        18.60      1          NaN   False   \n",
       "2              NaN           5.0        34.30      4          NaN   False   \n",
       "3              NaN          14.0          NaN      9          NaN   False   \n",
       "4             3.03          14.0        32.00     13          NaN   False   \n",
       "5              NaN          12.0        14.40      5          NaN   False   \n",
       "6              NaN          26.0        10.60      6          NaN   False   \n",
       "7              NaN          24.0          NaN     22          NaN   False   \n",
       "8              NaN          27.0        15.43     26          NaN   False   \n",
       "9             2.50           9.0        43.60      7          NaN   False   \n",
       "10            2.67          12.0        20.30      3          NaN   False   \n",
       "11             NaN           5.0        31.00      4        False   False   \n",
       "12             NaN           5.0        30.00      5          NaN   False   \n",
       "13            2.56           5.0        27.00      5          NaN   False   \n",
       "14             NaN           6.0        17.00      1          NaN   False   \n",
       "15             NaN          14.0        20.50      5          NaN   False   \n",
       "16            3.05           5.0        55.60      1          NaN   False   \n",
       "17             NaN          17.0        16.50      7          NaN   False   \n",
       "18            2.50           5.0        19.40      2          NaN   False   \n",
       "19            2.75          16.0        76.00      8          NaN   False   \n",
       "\n",
       "    open_plan  kitchen_area  balcony              locality_name  \\\n",
       "0       False         25.00      NaN            Санкт-Петербург   \n",
       "1       False         11.00      2.0             посёлок Шушары   \n",
       "2       False          8.30      0.0            Санкт-Петербург   \n",
       "3       False           NaN      0.0            Санкт-Петербург   \n",
       "4       False         41.00      NaN            Санкт-Петербург   \n",
       "5       False          9.10      NaN  городской посёлок Янино-1   \n",
       "6       False         14.40      1.0          посёлок Парголово   \n",
       "7       False         18.90      2.0            Санкт-Петербург   \n",
       "8       False          8.81      NaN             посёлок Мурино   \n",
       "9       False          6.50      2.0            Санкт-Петербург   \n",
       "10      False          8.50      NaN            Санкт-Петербург   \n",
       "11      False          6.00      1.0                  Ломоносов   \n",
       "12      False          9.00      0.0                  Сертолово   \n",
       "13      False          5.20      1.0                   Петергоф   \n",
       "14      False          8.00      0.0                     Пушкин   \n",
       "15      False          7.60      1.0            Санкт-Петербург   \n",
       "16      False          9.00      NaN            Санкт-Петербург   \n",
       "17      False         11.00      1.0            Санкт-Петербург   \n",
       "18      False          5.60      1.0            Санкт-Петербург   \n",
       "19      False         12.00      NaN            Санкт-Петербург   \n",
       "\n",
       "    airports_nearest  cityCenters_nearest  parks_around3000  parks_nearest  \\\n",
       "0            18863.0              16028.0               1.0          482.0   \n",
       "1            12817.0              18603.0               0.0            NaN   \n",
       "2            21741.0              13933.0               1.0           90.0   \n",
       "3            28098.0               6800.0               2.0           84.0   \n",
       "4            31856.0               8098.0               2.0          112.0   \n",
       "5                NaN                  NaN               NaN            NaN   \n",
       "6            52996.0              19143.0               0.0            NaN   \n",
       "7            23982.0              11634.0               0.0            NaN   \n",
       "8                NaN                  NaN               NaN            NaN   \n",
       "9            50898.0              15008.0               0.0            NaN   \n",
       "10           38357.0              13878.0               1.0          310.0   \n",
       "11           48252.0              51677.0               0.0            NaN   \n",
       "12               NaN                  NaN               NaN            NaN   \n",
       "13           37868.0              33058.0               1.0          294.0   \n",
       "14           20782.0              30759.0               0.0            NaN   \n",
       "15           12900.0              14259.0               1.0          590.0   \n",
       "16           22108.0              10698.0               3.0          420.0   \n",
       "17           33564.0              14616.0               0.0            NaN   \n",
       "18           44060.0              10842.0               1.0          759.0   \n",
       "19           38900.0              12843.0               0.0            NaN   \n",
       "\n",
       "    ponds_around3000  ponds_nearest  days_exposition  \n",
       "0                2.0          755.0              NaN  \n",
       "1                0.0            NaN             81.0  \n",
       "2                2.0          574.0            558.0  \n",
       "3                3.0          234.0            424.0  \n",
       "4                1.0           48.0            121.0  \n",
       "5                NaN            NaN             55.0  \n",
       "6                0.0            NaN            155.0  \n",
       "7                0.0            NaN              NaN  \n",
       "8                NaN            NaN            189.0  \n",
       "9                0.0            NaN            289.0  \n",
       "10               2.0          553.0            137.0  \n",
       "11               0.0            NaN              7.0  \n",
       "12               NaN            NaN             90.0  \n",
       "13               3.0          298.0            366.0  \n",
       "14               1.0           96.0            203.0  \n",
       "15               1.0          296.0             19.0  \n",
       "16               0.0            NaN            397.0  \n",
       "17               1.0          859.0            571.0  \n",
       "18               0.0            NaN            168.0  \n",
       "19               0.0            NaN             97.0  "
      ]
     },
     "execution_count": 2,
     "metadata": {},
     "output_type": "execute_result"
    }
   ],
   "source": [
    "\n",
    "pd.set_option('display.max_columns', None)\n",
    "data = pd.read_csv('/datasets/real_estate_data.csv', sep='\\t')\n",
    "\n",
    "data.head(20)"
   ]
  },
  {
   "cell_type": "code",
   "execution_count": 3,
   "metadata": {},
   "outputs": [
    {
     "name": "stdout",
     "output_type": "stream",
     "text": [
      "<class 'pandas.core.frame.DataFrame'>\n",
      "RangeIndex: 23699 entries, 0 to 23698\n",
      "Data columns (total 22 columns):\n",
      " #   Column                Non-Null Count  Dtype  \n",
      "---  ------                --------------  -----  \n",
      " 0   total_images          23699 non-null  int64  \n",
      " 1   last_price            23699 non-null  float64\n",
      " 2   total_area            23699 non-null  float64\n",
      " 3   first_day_exposition  23699 non-null  object \n",
      " 4   rooms                 23699 non-null  int64  \n",
      " 5   ceiling_height        14504 non-null  float64\n",
      " 6   floors_total          23613 non-null  float64\n",
      " 7   living_area           21796 non-null  float64\n",
      " 8   floor                 23699 non-null  int64  \n",
      " 9   is_apartment          2775 non-null   object \n",
      " 10  studio                23699 non-null  bool   \n",
      " 11  open_plan             23699 non-null  bool   \n",
      " 12  kitchen_area          21421 non-null  float64\n",
      " 13  balcony               12180 non-null  float64\n",
      " 14  locality_name         23650 non-null  object \n",
      " 15  airports_nearest      18157 non-null  float64\n",
      " 16  cityCenters_nearest   18180 non-null  float64\n",
      " 17  parks_around3000      18181 non-null  float64\n",
      " 18  parks_nearest         8079 non-null   float64\n",
      " 19  ponds_around3000      18181 non-null  float64\n",
      " 20  ponds_nearest         9110 non-null   float64\n",
      " 21  days_exposition       20518 non-null  float64\n",
      "dtypes: bool(2), float64(14), int64(3), object(3)\n",
      "memory usage: 3.7+ MB\n"
     ]
    }
   ],
   "source": [
    "data.info()"
   ]
  },
  {
   "cell_type": "markdown",
   "metadata": {},
   "source": [
    "**Можем увидеть, что у нас много пропущенных значений, а так же нужно поменять типа данных у некоторых столбцов, сделаем это ниже в предобработке данных**"
   ]
  },
  {
   "cell_type": "code",
   "execution_count": 4,
   "metadata": {
    "scrolled": true
   },
   "outputs": [
    {
     "data": {
      "image/png": "[encoded data removed]",
      "text/plain": [
       "<Figure size 1080x1440 with 20 Axes>"
      ]
     },
     "metadata": {
      "needs_background": "light"
     },
     "output_type": "display_data"
    }
   ],
   "source": [
    "data.hist(figsize=(15, 20));"
   ]
  },
  {
   "cell_type": "markdown",
   "metadata": {},
   "source": [
    "### Предобработка данных"
   ]
  },
  {
   "cell_type": "code",
   "execution_count": 5,
   "metadata": {},
   "outputs": [
    {
     "data": {
      "text/plain": [
       "total_images                0\n",
       "last_price                  0\n",
       "total_area                  0\n",
       "first_day_exposition        0\n",
       "rooms                       0\n",
       "ceiling_height           9195\n",
       "floors_total               86\n",
       "living_area              1903\n",
       "floor                       0\n",
       "is_apartment            20924\n",
       "studio                      0\n",
       "open_plan                   0\n",
       "kitchen_area             2278\n",
       "balcony                 11519\n",
       "locality_name              49\n",
       "airports_nearest         5542\n",
       "cityCenters_nearest      5519\n",
       "parks_around3000         5518\n",
       "parks_nearest           15620\n",
       "ponds_around3000         5518\n",
       "ponds_nearest           14589\n",
       "days_exposition          3181\n",
       "dtype: int64"
      ]
     },
     "execution_count": 5,
     "metadata": {},
     "output_type": "execute_result"
    }
   ],
   "source": [
    "data.isna().sum()"
   ]
  },
  {
   "cell_type": "code",
   "execution_count": 6,
   "metadata": {},
   "outputs": [],
   "source": [
    "#пропуски в балконах скорее всего обусловлены их отсутствием, поэтому меняем пропуски на нули\n",
    "data['balcony'] = data['balcony'].fillna(0)\n",
    "#сложно объяснить причину возникновения таких пропусков, но скорее всего при выставление объявления можно пропустить этот пункт\n",
    "data['is_apartment'] = data['is_apartment'].fillna(False)\n",
    "#заполним пропущенные данные о высоте потолка медианным значием\n",
    "data['ceiling_height'] = data['ceiling_height'].fillna(data['ceiling_height'].median())\n",
    "#так как всего 49 строк с неизвестным населенным пунктом и вряд ли они повлияют на результат для удобства заполним пустые\n",
    "# сторокой 'unknown'\n",
    "data['locality_name'] = data['locality_name'].fillna('unknown')\n",
    "# к сожалению заполнить пропсуки в floors_total, living_area, а так же других мы пока не можем"
   ]
  },
  {
   "cell_type": "code",
   "execution_count": 7,
   "metadata": {},
   "outputs": [
    {
     "data": {
      "text/plain": [
       "total_images                0\n",
       "last_price                  0\n",
       "total_area                  0\n",
       "first_day_exposition        0\n",
       "rooms                       0\n",
       "ceiling_height              0\n",
       "floors_total               86\n",
       "living_area              1903\n",
       "floor                       0\n",
       "is_apartment                0\n",
       "studio                      0\n",
       "open_plan                   0\n",
       "kitchen_area             2278\n",
       "balcony                     0\n",
       "locality_name               0\n",
       "airports_nearest         5542\n",
       "cityCenters_nearest      5519\n",
       "parks_around3000         5518\n",
       "parks_nearest           15620\n",
       "ponds_around3000         5518\n",
       "ponds_nearest           14589\n",
       "days_exposition          3181\n",
       "dtype: int64"
      ]
     },
     "execution_count": 7,
     "metadata": {},
     "output_type": "execute_result"
    }
   ],
   "source": [
    "data.isna().sum()"
   ]
  },
  {
   "cell_type": "code",
   "execution_count": 8,
   "metadata": {},
   "outputs": [],
   "source": [
    "# как мы заметили из info() нам нужно поменять типы данных у  некоторых столбцов, например количество балконов имеет\n",
    "# вещественный тип, изменим на int\n",
    "data['balcony'] = data['balcony'].astype('int')\n",
    "#так же цена у нас задана вещественным типом данных, меняем на int\n",
    "data['last_price'] = data['last_price'].astype('int')\n",
    "\n",
    "# теперь разберемся с датой. first_day_exposition задан типом object, изменим на datetime\n",
    "data['first_day_exposition'] = pd.to_datetime(data['first_day_exposition'], format='%Y-%m-%d')\n"
   ]
  },
  {
   "cell_type": "code",
   "execution_count": 9,
   "metadata": {},
   "outputs": [
    {
     "name": "stdout",
     "output_type": "stream",
     "text": [
      "<class 'pandas.core.frame.DataFrame'>\n",
      "RangeIndex: 23699 entries, 0 to 23698\n",
      "Data columns (total 22 columns):\n",
      " #   Column                Non-Null Count  Dtype         \n",
      "---  ------                --------------  -----         \n",
      " 0   total_images          23699 non-null  int64         \n",
      " 1   last_price            23699 non-null  int64         \n",
      " 2   total_area            23699 non-null  float64       \n",
      " 3   first_day_exposition  23699 non-null  datetime64[ns]\n",
      " 4   rooms                 23699 non-null  int64         \n",
      " 5   ceiling_height        23699 non-null  float64       \n",
      " 6   floors_total          23613 non-null  float64       \n",
      " 7   living_area           21796 non-null  float64       \n",
      " 8   floor                 23699 non-null  int64         \n",
      " 9   is_apartment          23699 non-null  bool          \n",
      " 10  studio                23699 non-null  bool          \n",
      " 11  open_plan             23699 non-null  bool          \n",
      " 12  kitchen_area          21421 non-null  float64       \n",
      " 13  balcony               23699 non-null  int64         \n",
      " 14  locality_name         23699 non-null  object        \n",
      " 15  airports_nearest      18157 non-null  float64       \n",
      " 16  cityCenters_nearest   18180 non-null  float64       \n",
      " 17  parks_around3000      18181 non-null  float64       \n",
      " 18  parks_nearest         8079 non-null   float64       \n",
      " 19  ponds_around3000      18181 non-null  float64       \n",
      " 20  ponds_nearest         9110 non-null   float64       \n",
      " 21  days_exposition       20518 non-null  float64       \n",
      "dtypes: bool(3), datetime64[ns](1), float64(12), int64(5), object(1)\n",
      "memory usage: 3.5+ MB\n"
     ]
    }
   ],
   "source": [
    "data.info()"
   ]
  },
  {
   "cell_type": "code",
   "execution_count": 10,
   "metadata": {},
   "outputs": [
    {
     "data": {
      "text/plain": [
       "array(['unknown', 'Бокситогорск', 'Волосово', 'Волхов', 'Всеволожск',\n",
       "       'Выборг', 'Высоцк', 'Гатчина', 'Зеленогорск', 'Ивангород',\n",
       "       'Каменногорск', 'Кингисепп', 'Кириши', 'Кировск', 'Колпино',\n",
       "       'Коммунар', 'Красное Село', 'Кронштадт', 'Кудрово',\n",
       "       'Лодейное Поле', 'Ломоносов', 'Луга', 'Любань', 'Мурино',\n",
       "       'Никольское', 'Новая Ладога', 'Отрадное', 'Павловск', 'Петергоф',\n",
       "       'Пикалёво', 'Подпорожье', 'Приморск', 'Приозерск', 'Пушкин',\n",
       "       'Санкт-Петербург', 'Светогорск', 'Сертолово', 'Сестрорецк',\n",
       "       'Сланцы', 'Сосновый Бор', 'Сясьстрой', 'Тихвин', 'Тосно',\n",
       "       'Шлиссельбург', 'городской поселок Большая Ижора',\n",
       "       'городской поселок Янино-1', 'городской посёлок Будогощь',\n",
       "       'городской посёлок Виллози', 'городской посёлок Лесогорский',\n",
       "       'городской посёлок Мга', 'городской посёлок Назия',\n",
       "       'городской посёлок Новоселье', 'городской посёлок Павлово',\n",
       "       'городской посёлок Рощино', 'городской посёлок Свирьстрой',\n",
       "       'городской посёлок Советский', 'городской посёлок Фёдоровское',\n",
       "       'городской посёлок Янино-1', 'деревня Агалатово', 'деревня Аро',\n",
       "       'деревня Батово', 'деревня Бегуницы', 'деревня Белогорка',\n",
       "       'деревня Большая Вруда', 'деревня Большая Пустомержа',\n",
       "       'деревня Большие Колпаны', 'деревня Большое Рейзино',\n",
       "       'деревня Большой Сабск', 'деревня Бор', 'деревня Борисова Грива',\n",
       "       'деревня Ваганово', 'деревня Вартемяги', 'деревня Вахнова Кара',\n",
       "       'деревня Выскатка', 'деревня Гарболово', 'деревня Глинка',\n",
       "       'деревня Горбунки', 'деревня Гостилицы', 'деревня Заклинье',\n",
       "       'деревня Заневка', 'деревня Зимитицы', 'деревня Извара',\n",
       "       'деревня Иссад', 'деревня Калитино', 'деревня Кальтино',\n",
       "       'деревня Камышовка', 'деревня Каськово', 'деревня Келози',\n",
       "       'деревня Кипень', 'деревня Кисельня', 'деревня Колтуши',\n",
       "       'деревня Коркино', 'деревня Котлы', 'деревня Кривко',\n",
       "       'деревня Кудрово', 'деревня Кузьмолово', 'деревня Курковицы',\n",
       "       'деревня Куровицы', 'деревня Куттузи', 'деревня Лаврики',\n",
       "       'деревня Лаголово', 'деревня Лампово', 'деревня Лесколово',\n",
       "       'деревня Лопухинка', 'деревня Лупполово',\n",
       "       'деревня Малая Романовка', 'деревня Малое Верево',\n",
       "       'деревня Малое Карлино', 'деревня Малые Колпаны',\n",
       "       'деревня Мануйлово', 'деревня Меньково', 'деревня Мины',\n",
       "       'деревня Мистолово', 'деревня Ненимяки', 'деревня Нижние Осельки',\n",
       "       'деревня Нижняя', 'деревня Низино', 'деревня Новое Девяткино',\n",
       "       'деревня Новолисино', 'деревня Нурма', 'деревня Оржицы',\n",
       "       'деревня Парицы', 'деревня Пельгора', 'деревня Пеники',\n",
       "       'деревня Пижма', 'деревня Пикколово', 'деревня Пудомяги',\n",
       "       'деревня Пустынка', 'деревня Пчева', 'деревня Рабитицы',\n",
       "       'деревня Разбегаево', 'деревня Раздолье', 'деревня Разметелево',\n",
       "       'деревня Рапполово', 'деревня Реброво', 'деревня Русско',\n",
       "       'деревня Сижно', 'деревня Снегирёвка', 'деревня Старая',\n",
       "       'деревня Старая Пустошь', 'деревня Старое Хинколово',\n",
       "       'деревня Старополье', 'деревня Старосиверская',\n",
       "       'деревня Старые Бегуницы', 'деревня Суоранда',\n",
       "       'деревня Сяськелево', 'деревня Тарасово', 'деревня Терпилицы',\n",
       "       'деревня Тихковицы', 'деревня Тойворово', 'деревня Торосово',\n",
       "       'деревня Торошковичи', 'деревня Трубников Бор',\n",
       "       'деревня Фалилеево', 'деревня Фёдоровское', 'деревня Хапо-Ое',\n",
       "       'деревня Хязельки', 'деревня Чудской Бор', 'деревня Шпаньково',\n",
       "       'деревня Щеглово', 'деревня Юкки', 'деревня Ялгино',\n",
       "       'деревня Яльгелево', 'деревня Ям-Тесово',\n",
       "       'коттеджный поселок Кивеннапа Север', 'коттеджный поселок Счастье',\n",
       "       'коттеджный посёлок Лесное', 'поселок Аннино', 'поселок Барышево',\n",
       "       'поселок Бугры', 'поселок Возрождение', 'поселок Войсковицы',\n",
       "       'поселок Володарское', 'поселок Гаврилово', 'поселок Гарболово',\n",
       "       'поселок Гладкое', 'поселок Глажево', 'поселок Глебычево',\n",
       "       'поселок Гончарово', 'поселок Громово', 'поселок Дружноселье',\n",
       "       'поселок Елизаветино', 'поселок Жилгородок', 'поселок Жилпосёлок',\n",
       "       'поселок Житково', 'поселок Заводской', 'поселок Запорожское',\n",
       "       'поселок Зимитицы', 'поселок Ильичёво', 'поселок Калитино',\n",
       "       'поселок Каложицы', 'поселок Кингисеппский', 'поселок Кирпичное',\n",
       "       'поселок Кобралово', 'поселок Кобринское', 'поселок Коммунары',\n",
       "       'поселок Коробицыно', 'поселок Котельский',\n",
       "       'поселок Красная Долина', 'поселок Красносельское',\n",
       "       'поселок Лесное', 'поселок Лисий Нос', 'поселок Лукаши',\n",
       "       'поселок Любань', 'поселок Мельниково', 'поселок Мичуринское',\n",
       "       'поселок Молодцово', 'поселок Мурино', 'поселок Новый Свет',\n",
       "       'поселок Новый Учхоз', 'поселок Оредеж',\n",
       "       'поселок Пансионат Зелёный Бор', 'поселок Первомайское',\n",
       "       'поселок Перово', 'поселок Петровское', 'поселок Победа',\n",
       "       'поселок Поляны', 'поселок Почап', 'поселок Починок',\n",
       "       'поселок Пушное', 'поселок Пчевжа', 'поселок Рабитицы',\n",
       "       'поселок Романовка', 'поселок Ромашки', 'поселок Рябово',\n",
       "       'поселок Севастьяново', 'поселок Селезнёво', 'поселок Сельцо',\n",
       "       'поселок Семиозерье', 'поселок Семрино', 'поселок Серебрянский',\n",
       "       'поселок Совхозный', 'поселок Старая Малукса',\n",
       "       'поселок Стеклянный', 'поселок Сумино', 'поселок Суходолье',\n",
       "       'поселок Тельмана', 'поселок Терволово', 'поселок Торковичи',\n",
       "       'поселок Тёсово-4', 'поселок Углово', 'поселок Усть-Луга',\n",
       "       'поселок Ушаки', 'поселок Цвелодубово', 'поселок Цвылёво',\n",
       "       'поселок городского типа Большая Ижора',\n",
       "       'поселок городского типа Вырица',\n",
       "       'поселок городского типа Дружная Горка',\n",
       "       'поселок городского типа Дубровка',\n",
       "       'поселок городского типа Ефимовский',\n",
       "       'поселок городского типа Кондратьево',\n",
       "       'поселок городского типа Красный Бор',\n",
       "       'поселок городского типа Кузьмоловский',\n",
       "       'поселок городского типа Лебяжье',\n",
       "       'поселок городского типа Лесогорский',\n",
       "       'поселок городского типа Назия',\n",
       "       'поселок городского типа Никольский',\n",
       "       'поселок городского типа Приладожский',\n",
       "       'поселок городского типа Рахья', 'поселок городского типа Рощино',\n",
       "       'поселок городского типа Рябово',\n",
       "       'поселок городского типа Синявино',\n",
       "       'поселок городского типа Советский',\n",
       "       'поселок городского типа Токсово',\n",
       "       'поселок городского типа Форносово',\n",
       "       'поселок городского типа имени Свердлова',\n",
       "       'поселок станции Вещево', 'поселок станции Корнево',\n",
       "       'поселок станции Лужайка', 'поселок станции Приветнинское',\n",
       "       'посёлок Александровская', 'посёлок Алексеевка', 'посёлок Аннино',\n",
       "       'посёлок Белоостров', 'посёлок Бугры', 'посёлок Возрождение',\n",
       "       'посёлок Войскорово', 'посёлок Высокоключевой',\n",
       "       'посёлок Гаврилово', 'посёлок Дзержинского', 'посёлок Жилгородок',\n",
       "       'посёлок Ильичёво', 'посёлок Кикерино', 'посёлок Кобралово',\n",
       "       'посёлок Коробицыно', 'посёлок Левашово', 'посёлок Ленинское',\n",
       "       'посёлок Лисий Нос', 'посёлок Мельниково', 'посёлок Металлострой',\n",
       "       'посёлок Мичуринское', 'посёлок Молодёжное', 'посёлок Мурино',\n",
       "       'посёлок Мыза-Ивановка', 'посёлок Новогорелово',\n",
       "       'посёлок Новый Свет', 'посёлок Пансионат Зелёный Бор',\n",
       "       'посёлок Парголово', 'посёлок Перово', 'посёлок Песочный',\n",
       "       'посёлок Петро-Славянка', 'посёлок Петровское',\n",
       "       'посёлок Платформа 69-й километр', 'посёлок Плодовое',\n",
       "       'посёлок Плоское', 'посёлок Победа', 'посёлок Поляны',\n",
       "       'посёлок Понтонный', 'посёлок Пригородный', 'посёлок Пудость',\n",
       "       'посёлок Репино', 'посёлок Ропша', 'посёлок Сапёрное',\n",
       "       'посёлок Сапёрный', 'посёлок Сосново', 'посёлок Старая Малукса',\n",
       "       'посёлок Стеклянный', 'посёлок Стрельна', 'посёлок Суйда',\n",
       "       'посёлок Сумино', 'посёлок Тельмана', 'посёлок Терволово',\n",
       "       'посёлок Торфяное', 'посёлок Усть-Ижора', 'посёлок Усть-Луга',\n",
       "       'посёлок Форт Красная Горка', 'посёлок Шугозеро', 'посёлок Шушары',\n",
       "       'посёлок Щеглово', 'посёлок городского типа Важины',\n",
       "       'посёлок городского типа Вознесенье',\n",
       "       'посёлок городского типа Вырица',\n",
       "       'посёлок городского типа Красный Бор',\n",
       "       'посёлок городского типа Кузнечное',\n",
       "       'посёлок городского типа Кузьмоловский',\n",
       "       'посёлок городского типа Лебяжье', 'посёлок городского типа Мга',\n",
       "       'посёлок городского типа Павлово',\n",
       "       'посёлок городского типа Рощино', 'посёлок городского типа Рябово',\n",
       "       'посёлок городского типа Сиверский',\n",
       "       'посёлок городского типа Тайцы', 'посёлок городского типа Токсово',\n",
       "       'посёлок городского типа Ульяновка',\n",
       "       'посёлок городского типа Форносово',\n",
       "       'посёлок городского типа имени Морозова',\n",
       "       'посёлок городского типа имени Свердлова',\n",
       "       'посёлок при железнодорожной станции Вещево',\n",
       "       'посёлок при железнодорожной станции Приветнинское',\n",
       "       'посёлок станции Громово', 'посёлок станции Свирь',\n",
       "       'садоводческое некоммерческое товарищество Лесная Поляна',\n",
       "       'садовое товарищество Новая Ропша',\n",
       "       'садовое товарищество Приладожский', 'садовое товарищество Рахья',\n",
       "       'садовое товарищество Садко', 'село Копорье', 'село Никольское',\n",
       "       'село Павлово', 'село Паша', 'село Путилово', 'село Рождествено',\n",
       "       'село Русско-Высоцкое', 'село Старая Ладога', 'село Шум'],\n",
       "      dtype=object)"
      ]
     },
     "execution_count": 10,
     "metadata": {},
     "output_type": "execute_result"
    }
   ],
   "source": [
    "data['locality_name'].sort_values().unique()"
   ]
  },
  {
   "cell_type": "code",
   "execution_count": 11,
   "metadata": {},
   "outputs": [
    {
     "data": {
      "text/plain": [
       "Санкт-Петербург      15721\n",
       "посёлок Мурино         522\n",
       "посёлок Шушары         440\n",
       "Всеволожск             398\n",
       "Пушкин                 369\n",
       "Колпино                338\n",
       "посёлок Парголово      327\n",
       "Гатчина                307\n",
       "деревня Кудрово        299\n",
       "Выборг                 237\n",
       "Name: locality_name, dtype: int64"
      ]
     },
     "execution_count": 11,
     "metadata": {},
     "output_type": "execute_result"
    }
   ],
   "source": [
    "data['locality_name'].value_counts().head(10)"
   ]
  },
  {
   "cell_type": "code",
   "execution_count": 12,
   "metadata": {},
   "outputs": [],
   "source": [
    "data['locality_name'] = (\n",
    "    data['locality_name']\n",
    "    .str.replace('ё', 'е')\n",
    "    .replace(['поселок Рябово'], 'поселок городского типа Рябово', regex=True)\n",
    "    .replace(['поселок Мурино'], 'Мурино', regex=True)\n",
    "    .replace(['деревня Кудрово'], 'Кудрово', regex=True)\n",
    ") "
   ]
  },
  {
   "cell_type": "code",
   "execution_count": 13,
   "metadata": {},
   "outputs": [
    {
     "data": {
      "text/plain": [
       "Санкт-Петербург      15721\n",
       "Мурино                 590\n",
       "Кудрово                472\n",
       "поселок Шушары         440\n",
       "Всеволожск             398\n",
       "Пушкин                 369\n",
       "Колпино                338\n",
       "поселок Парголово      327\n",
       "Гатчина                307\n",
       "Выборг                 237\n",
       "Name: locality_name, dtype: int64"
      ]
     },
     "execution_count": 13,
     "metadata": {},
     "output_type": "execute_result"
    }
   ],
   "source": [
    "data['locality_name'].value_counts().head(10)"
   ]
  },
  {
   "cell_type": "code",
   "execution_count": 14,
   "metadata": {},
   "outputs": [
    {
     "data": {
      "text/plain": [
       "array(['unknown', 'Бокситогорск', 'Волосово', 'Волхов', 'Всеволожск',\n",
       "       'Выборг', 'Высоцк', 'Гатчина', 'Зеленогорск', 'Ивангород',\n",
       "       'Каменногорск', 'Кингисепп', 'Кириши', 'Кировск', 'Колпино',\n",
       "       'Коммунар', 'Красное Село', 'Кронштадт', 'Кудрово',\n",
       "       'Лодейное Поле', 'Ломоносов', 'Луга', 'Любань', 'Мурино',\n",
       "       'Никольское', 'Новая Ладога', 'Отрадное', 'Павловск', 'Петергоф',\n",
       "       'Пикалево', 'Подпорожье', 'Приморск', 'Приозерск', 'Пушкин',\n",
       "       'Санкт-Петербург', 'Светогорск', 'Сертолово', 'Сестрорецк',\n",
       "       'Сланцы', 'Сосновый Бор', 'Сясьстрой', 'Тихвин', 'Тосно',\n",
       "       'Шлиссельбург', 'городской поселок Большая Ижора',\n",
       "       'городской поселок Будогощь', 'городской поселок Виллози',\n",
       "       'городской поселок Лесогорский', 'городской поселок Мга',\n",
       "       'городской поселок Назия', 'городской поселок Новоселье',\n",
       "       'городской поселок Павлово', 'городской поселок Рощино',\n",
       "       'городской поселок Свирьстрой', 'городской поселок Советский',\n",
       "       'городской поселок Федоровское', 'городской поселок Янино-1',\n",
       "       'деревня Агалатово', 'деревня Аро', 'деревня Батово',\n",
       "       'деревня Бегуницы', 'деревня Белогорка', 'деревня Большая Вруда',\n",
       "       'деревня Большая Пустомержа', 'деревня Большие Колпаны',\n",
       "       'деревня Большое Рейзино', 'деревня Большой Сабск', 'деревня Бор',\n",
       "       'деревня Борисова Грива', 'деревня Ваганово', 'деревня Вартемяги',\n",
       "       'деревня Вахнова Кара', 'деревня Выскатка', 'деревня Гарболово',\n",
       "       'деревня Глинка', 'деревня Горбунки', 'деревня Гостилицы',\n",
       "       'деревня Заклинье', 'деревня Заневка', 'деревня Зимитицы',\n",
       "       'деревня Извара', 'деревня Иссад', 'деревня Калитино',\n",
       "       'деревня Кальтино', 'деревня Камышовка', 'деревня Каськово',\n",
       "       'деревня Келози', 'деревня Кипень', 'деревня Кисельня',\n",
       "       'деревня Колтуши', 'деревня Коркино', 'деревня Котлы',\n",
       "       'деревня Кривко', 'деревня Кузьмолово', 'деревня Курковицы',\n",
       "       'деревня Куровицы', 'деревня Куттузи', 'деревня Лаврики',\n",
       "       'деревня Лаголово', 'деревня Лампово', 'деревня Лесколово',\n",
       "       'деревня Лопухинка', 'деревня Лупполово',\n",
       "       'деревня Малая Романовка', 'деревня Малое Верево',\n",
       "       'деревня Малое Карлино', 'деревня Малые Колпаны',\n",
       "       'деревня Мануйлово', 'деревня Меньково', 'деревня Мины',\n",
       "       'деревня Мистолово', 'деревня Ненимяки', 'деревня Нижние Осельки',\n",
       "       'деревня Нижняя', 'деревня Низино', 'деревня Новое Девяткино',\n",
       "       'деревня Новолисино', 'деревня Нурма', 'деревня Оржицы',\n",
       "       'деревня Парицы', 'деревня Пельгора', 'деревня Пеники',\n",
       "       'деревня Пижма', 'деревня Пикколово', 'деревня Пудомяги',\n",
       "       'деревня Пустынка', 'деревня Пчева', 'деревня Рабитицы',\n",
       "       'деревня Разбегаево', 'деревня Раздолье', 'деревня Разметелево',\n",
       "       'деревня Рапполово', 'деревня Реброво', 'деревня Русско',\n",
       "       'деревня Сижно', 'деревня Снегиревка', 'деревня Старая',\n",
       "       'деревня Старая Пустошь', 'деревня Старое Хинколово',\n",
       "       'деревня Старополье', 'деревня Старосиверская',\n",
       "       'деревня Старые Бегуницы', 'деревня Суоранда',\n",
       "       'деревня Сяськелево', 'деревня Тарасово', 'деревня Терпилицы',\n",
       "       'деревня Тихковицы', 'деревня Тойворово', 'деревня Торосово',\n",
       "       'деревня Торошковичи', 'деревня Трубников Бор',\n",
       "       'деревня Фалилеево', 'деревня Федоровское', 'деревня Хапо-Ое',\n",
       "       'деревня Хязельки', 'деревня Чудской Бор', 'деревня Шпаньково',\n",
       "       'деревня Щеглово', 'деревня Юкки', 'деревня Ялгино',\n",
       "       'деревня Яльгелево', 'деревня Ям-Тесово',\n",
       "       'коттеджный поселок Кивеннапа Север', 'коттеджный поселок Лесное',\n",
       "       'коттеджный поселок Счастье', 'поселок Александровская',\n",
       "       'поселок Алексеевка', 'поселок Аннино', 'поселок Барышево',\n",
       "       'поселок Белоостров', 'поселок Бугры', 'поселок Возрождение',\n",
       "       'поселок Войсковицы', 'поселок Войскорово', 'поселок Володарское',\n",
       "       'поселок Высокоключевой', 'поселок Гаврилово', 'поселок Гарболово',\n",
       "       'поселок Гладкое', 'поселок Глажево', 'поселок Глебычево',\n",
       "       'поселок Гончарово', 'поселок Громово', 'поселок Дзержинского',\n",
       "       'поселок Дружноселье', 'поселок Елизаветино', 'поселок Жилгородок',\n",
       "       'поселок Жилпоселок', 'поселок Житково', 'поселок Заводской',\n",
       "       'поселок Запорожское', 'поселок Зимитицы', 'поселок Ильичево',\n",
       "       'поселок Калитино', 'поселок Каложицы', 'поселок Кикерино',\n",
       "       'поселок Кингисеппский', 'поселок Кирпичное', 'поселок Кобралово',\n",
       "       'поселок Кобринское', 'поселок Коммунары', 'поселок Коробицыно',\n",
       "       'поселок Котельский', 'поселок Красная Долина',\n",
       "       'поселок Красносельское', 'поселок Левашово', 'поселок Ленинское',\n",
       "       'поселок Лесное', 'поселок Лисий Нос', 'поселок Лукаши',\n",
       "       'поселок Любань', 'поселок Мельниково', 'поселок Металлострой',\n",
       "       'поселок Мичуринское', 'поселок Молодежное', 'поселок Молодцово',\n",
       "       'поселок Мыза-Ивановка', 'поселок Новогорелово',\n",
       "       'поселок Новый Свет', 'поселок Новый Учхоз', 'поселок Оредеж',\n",
       "       'поселок Пансионат Зеленый Бор', 'поселок Парголово',\n",
       "       'поселок Первомайское', 'поселок Перово', 'поселок Песочный',\n",
       "       'поселок Петро-Славянка', 'поселок Петровское',\n",
       "       'поселок Платформа 69-й километр', 'поселок Плодовое',\n",
       "       'поселок Плоское', 'поселок Победа', 'поселок Поляны',\n",
       "       'поселок Понтонный', 'поселок Почап', 'поселок Починок',\n",
       "       'поселок Пригородный', 'поселок Пудость', 'поселок Пушное',\n",
       "       'поселок Пчевжа', 'поселок Рабитицы', 'поселок Репино',\n",
       "       'поселок Романовка', 'поселок Ромашки', 'поселок Ропша',\n",
       "       'поселок Саперное', 'поселок Саперный', 'поселок Севастьяново',\n",
       "       'поселок Селезнево', 'поселок Сельцо', 'поселок Семиозерье',\n",
       "       'поселок Семрино', 'поселок Серебрянский', 'поселок Совхозный',\n",
       "       'поселок Сосново', 'поселок Старая Малукса', 'поселок Стеклянный',\n",
       "       'поселок Стрельна', 'поселок Суйда', 'поселок Сумино',\n",
       "       'поселок Суходолье', 'поселок Тельмана', 'поселок Терволово',\n",
       "       'поселок Тесово-4', 'поселок Торковичи', 'поселок Торфяное',\n",
       "       'поселок Углово', 'поселок Усть-Ижора', 'поселок Усть-Луга',\n",
       "       'поселок Ушаки', 'поселок Форт Красная Горка',\n",
       "       'поселок Цвелодубово', 'поселок Цвылево', 'поселок Шугозеро',\n",
       "       'поселок Шушары', 'поселок Щеглово',\n",
       "       'поселок городского типа Большая Ижора',\n",
       "       'поселок городского типа Важины',\n",
       "       'поселок городского типа Вознесенье',\n",
       "       'поселок городского типа Вырица',\n",
       "       'поселок городского типа Дружная Горка',\n",
       "       'поселок городского типа Дубровка',\n",
       "       'поселок городского типа Ефимовский',\n",
       "       'поселок городского типа Кондратьево',\n",
       "       'поселок городского типа Красный Бор',\n",
       "       'поселок городского типа Кузнечное',\n",
       "       'поселок городского типа Кузьмоловский',\n",
       "       'поселок городского типа Лебяжье',\n",
       "       'поселок городского типа Лесогорский',\n",
       "       'поселок городского типа Мга', 'поселок городского типа Назия',\n",
       "       'поселок городского типа Никольский',\n",
       "       'поселок городского типа Павлово',\n",
       "       'поселок городского типа Приладожский',\n",
       "       'поселок городского типа Рахья', 'поселок городского типа Рощино',\n",
       "       'поселок городского типа Рябово',\n",
       "       'поселок городского типа Сиверский',\n",
       "       'поселок городского типа Синявино',\n",
       "       'поселок городского типа Советский',\n",
       "       'поселок городского типа Тайцы', 'поселок городского типа Токсово',\n",
       "       'поселок городского типа Ульяновка',\n",
       "       'поселок городского типа Форносово',\n",
       "       'поселок городского типа имени Морозова',\n",
       "       'поселок городского типа имени Свердлова',\n",
       "       'поселок при железнодорожной станции Вещево',\n",
       "       'поселок при железнодорожной станции Приветнинское',\n",
       "       'поселок станции Вещево', 'поселок станции Громово',\n",
       "       'поселок станции Корнево', 'поселок станции Лужайка',\n",
       "       'поселок станции Приветнинское', 'поселок станции Свирь',\n",
       "       'садоводческое некоммерческое товарищество Лесная Поляна',\n",
       "       'садовое товарищество Новая Ропша',\n",
       "       'садовое товарищество Приладожский', 'садовое товарищество Рахья',\n",
       "       'садовое товарищество Садко', 'село Копорье', 'село Никольское',\n",
       "       'село Павлово', 'село Паша', 'село Путилово', 'село Рождествено',\n",
       "       'село Русско-Высоцкое', 'село Старая Ладога', 'село Шум'],\n",
       "      dtype=object)"
      ]
     },
     "execution_count": 14,
     "metadata": {},
     "output_type": "execute_result"
    }
   ],
   "source": [
    "data['locality_name'].sort_values().unique()"
   ]
  },
  {
   "cell_type": "markdown",
   "metadata": {},
   "source": [
    "### Посчитайте и добавьте в таблицу новые столбцы"
   ]
  },
  {
   "cell_type": "code",
   "execution_count": 15,
   "metadata": {},
   "outputs": [],
   "source": [
    "data['price_per_square'] = round(data['last_price'] / data['total_area'], 2)\n",
    "data['exposition_day'] = data['first_day_exposition'].dt.weekday\n",
    "data['exposition_month'] = data['first_day_exposition'].dt.month\n",
    "data['exposition_year'] = data['first_day_exposition'].dt.year"
   ]
  },
  {
   "cell_type": "code",
   "execution_count": 16,
   "metadata": {},
   "outputs": [],
   "source": [
    "def type_of_floor(row):\n",
    "    if row['floor'] == 1:\n",
    "        return 'первый'\n",
    "    elif row['floor'] == row['floors_total']:\n",
    "        return 'последний'\n",
    "    return 'другой'"
   ]
  },
  {
   "cell_type": "code",
   "execution_count": 17,
   "metadata": {},
   "outputs": [],
   "source": [
    "data['floor_type'] = data.apply(type_of_floor, axis=1)"
   ]
  },
  {
   "cell_type": "code",
   "execution_count": 18,
   "metadata": {},
   "outputs": [],
   "source": [
    "data['km_to_center'] = round(data['cityCenters_nearest'] / 1000)"
   ]
  },
  {
   "cell_type": "code",
   "execution_count": 19,
   "metadata": {},
   "outputs": [
    {
     "data": {
      "text/plain": [
       "0        16.0\n",
       "1        19.0\n",
       "2        14.0\n",
       "3         7.0\n",
       "4         8.0\n",
       "         ... \n",
       "23694     4.0\n",
       "23695     NaN\n",
       "23696     NaN\n",
       "23697    10.0\n",
       "23698     NaN\n",
       "Name: km_to_center, Length: 23699, dtype: float64"
      ]
     },
     "execution_count": 19,
     "metadata": {},
     "output_type": "execute_result"
    }
   ],
   "source": [
    "data['km_to_center']"
   ]
  },
  {
   "cell_type": "code",
   "execution_count": 20,
   "metadata": {
    "scrolled": true
   },
   "outputs": [
    {
     "name": "stdout",
     "output_type": "stream",
     "text": [
      "<class 'pandas.core.frame.DataFrame'>\n",
      "RangeIndex: 23699 entries, 0 to 23698\n",
      "Data columns (total 28 columns):\n",
      " #   Column                Non-Null Count  Dtype         \n",
      "---  ------                --------------  -----         \n",
      " 0   total_images          23699 non-null  int64         \n",
      " 1   last_price            23699 non-null  int64         \n",
      " 2   total_area            23699 non-null  float64       \n",
      " 3   first_day_exposition  23699 non-null  datetime64[ns]\n",
      " 4   rooms                 23699 non-null  int64         \n",
      " 5   ceiling_height        23699 non-null  float64       \n",
      " 6   floors_total          23613 non-null  float64       \n",
      " 7   living_area           21796 non-null  float64       \n",
      " 8   floor                 23699 non-null  int64         \n",
      " 9   is_apartment          23699 non-null  bool          \n",
      " 10  studio                23699 non-null  bool          \n",
      " 11  open_plan             23699 non-null  bool          \n",
      " 12  kitchen_area          21421 non-null  float64       \n",
      " 13  balcony               23699 non-null  int64         \n",
      " 14  locality_name         23699 non-null  object        \n",
      " 15  airports_nearest      18157 non-null  float64       \n",
      " 16  cityCenters_nearest   18180 non-null  float64       \n",
      " 17  parks_around3000      18181 non-null  float64       \n",
      " 18  parks_nearest         8079 non-null   float64       \n",
      " 19  ponds_around3000      18181 non-null  float64       \n",
      " 20  ponds_nearest         9110 non-null   float64       \n",
      " 21  days_exposition       20518 non-null  float64       \n",
      " 22  price_per_square      23699 non-null  float64       \n",
      " 23  exposition_day        23699 non-null  int64         \n",
      " 24  exposition_month      23699 non-null  int64         \n",
      " 25  exposition_year       23699 non-null  int64         \n",
      " 26  floor_type            23699 non-null  object        \n",
      " 27  km_to_center          18180 non-null  float64       \n",
      "dtypes: bool(3), datetime64[ns](1), float64(14), int64(8), object(2)\n",
      "memory usage: 4.6+ MB\n"
     ]
    }
   ],
   "source": [
    "data.info()"
   ]
  },
  {
   "cell_type": "markdown",
   "metadata": {},
   "source": [
    "### Проведите исследовательский анализ данных"
   ]
  },
  {
   "cell_type": "code",
   "execution_count": 21,
   "metadata": {},
   "outputs": [
    {
     "data": {
      "text/plain": [
       "<AxesSubplot:>"
      ]
     },
     "execution_count": 21,
     "metadata": {},
     "output_type": "execute_result"
    },
    {
     "data": {
      "image/png": "[encoded data removed]",
      "text/plain": [
       "<Figure size 432x288 with 1 Axes>"
      ]
     },
     "metadata": {
      "needs_background": "light"
     },
     "output_type": "display_data"
    }
   ],
   "source": [
    "data['total_area'].hist(bins=50, range=(0,200))"
   ]
  },
  {
   "cell_type": "code",
   "execution_count": 22,
   "metadata": {},
   "outputs": [
    {
     "data": {
      "text/plain": [
       "count    23699.000000\n",
       "mean        60.348651\n",
       "std         35.654083\n",
       "min         12.000000\n",
       "25%         40.000000\n",
       "50%         52.000000\n",
       "75%         69.900000\n",
       "max        900.000000\n",
       "Name: total_area, dtype: float64"
      ]
     },
     "execution_count": 22,
     "metadata": {},
     "output_type": "execute_result"
    }
   ],
   "source": [
    "data['total_area'].describe()\n",
    "#есть вбросы, но не критичные"
   ]
  },
  {
   "cell_type": "code",
   "execution_count": 23,
   "metadata": {},
   "outputs": [
    {
     "data": {
      "text/plain": [
       "<AxesSubplot:>"
      ]
     },
     "execution_count": 23,
     "metadata": {},
     "output_type": "execute_result"
    },
    {
     "data": {
      "image/png": "[encoded data removed]",
      "text/plain": [
       "<Figure size 432x288 with 1 Axes>"
      ]
     },
     "metadata": {
      "needs_background": "light"
     },
     "output_type": "display_data"
    }
   ],
   "source": [
    "data['living_area'].hist(bins=50, range=(0,100))"
   ]
  },
  {
   "cell_type": "code",
   "execution_count": 24,
   "metadata": {},
   "outputs": [
    {
     "data": {
      "text/plain": [
       "count    21796.000000\n",
       "mean        34.457852\n",
       "std         22.030445\n",
       "min          2.000000\n",
       "25%         18.600000\n",
       "50%         30.000000\n",
       "75%         42.300000\n",
       "max        409.700000\n",
       "Name: living_area, dtype: float64"
      ]
     },
     "execution_count": 24,
     "metadata": {},
     "output_type": "execute_result"
    }
   ],
   "source": [
    "data['living_area'].describe()"
   ]
  },
  {
   "cell_type": "code",
   "execution_count": 25,
   "metadata": {},
   "outputs": [
    {
     "data": {
      "text/plain": [
       "<AxesSubplot:>"
      ]
     },
     "execution_count": 25,
     "metadata": {},
     "output_type": "execute_result"
    },
    {
     "data": {
      "image/png": "[encoded data removed]",
      "text/plain": [
       "<Figure size 432x288 with 1 Axes>"
      ]
     },
     "metadata": {
      "needs_background": "light"
     },
     "output_type": "display_data"
    }
   ],
   "source": [
    "data['kitchen_area'].hist(bins=50, range=(0,50))"
   ]
  },
  {
   "cell_type": "code",
   "execution_count": 26,
   "metadata": {},
   "outputs": [
    {
     "data": {
      "text/plain": [
       "count    21421.000000\n",
       "mean        10.569807\n",
       "std          5.905438\n",
       "min          1.300000\n",
       "25%          7.000000\n",
       "50%          9.100000\n",
       "75%         12.000000\n",
       "max        112.000000\n",
       "Name: kitchen_area, dtype: float64"
      ]
     },
     "execution_count": 26,
     "metadata": {},
     "output_type": "execute_result"
    }
   ],
   "source": [
    "data['kitchen_area'].describe()"
   ]
  },
  {
   "cell_type": "code",
   "execution_count": 27,
   "metadata": {},
   "outputs": [
    {
     "data": {
      "text/plain": [
       "<AxesSubplot:>"
      ]
     },
     "execution_count": 27,
     "metadata": {},
     "output_type": "execute_result"
    },
    {
     "data": {
      "image/png": "[encoded data removed]",
      "text/plain": [
       "<Figure size 432x288 with 1 Axes>"
      ]
     },
     "metadata": {
      "needs_background": "light"
     },
     "output_type": "display_data"
    }
   ],
   "source": [
    "(data['last_price']/1000000).hist(bins=50, range=(0,30))"
   ]
  },
  {
   "cell_type": "code",
   "execution_count": 28,
   "metadata": {},
   "outputs": [
    {
     "data": {
      "text/plain": [
       "count    2.369900e+04\n",
       "mean     6.541549e+06\n",
       "std      1.088701e+07\n",
       "min      1.219000e+04\n",
       "25%      3.400000e+06\n",
       "50%      4.650000e+06\n",
       "75%      6.800000e+06\n",
       "max      7.630000e+08\n",
       "Name: last_price, dtype: float64"
      ]
     },
     "execution_count": 28,
     "metadata": {},
     "output_type": "execute_result"
    }
   ],
   "source": [
    "data['last_price'].describe()"
   ]
  },
  {
   "cell_type": "code",
   "execution_count": 29,
   "metadata": {},
   "outputs": [
    {
     "data": {
      "text/plain": [
       "<AxesSubplot:>"
      ]
     },
     "execution_count": 29,
     "metadata": {},
     "output_type": "execute_result"
    },
    {
     "data": {
      "image/png": "[encoded data removed]",
      "text/plain": [
       "<Figure size 432x288 with 1 Axes>"
      ]
     },
     "metadata": {
      "needs_background": "light"
     },
     "output_type": "display_data"
    }
   ],
   "source": [
    "data['ceiling_height'].hist(bins=20, range=(2,4))"
   ]
  },
  {
   "cell_type": "code",
   "execution_count": 30,
   "metadata": {},
   "outputs": [
    {
     "data": {
      "text/plain": [
       "count    23699.000000\n",
       "mean         2.724358\n",
       "std          0.988298\n",
       "min          1.000000\n",
       "25%          2.600000\n",
       "50%          2.650000\n",
       "75%          2.700000\n",
       "max        100.000000\n",
       "Name: ceiling_height, dtype: float64"
      ]
     },
     "execution_count": 30,
     "metadata": {},
     "output_type": "execute_result"
    }
   ],
   "source": [
    "data['ceiling_height'].describe()"
   ]
  },
  {
   "cell_type": "code",
   "execution_count": 31,
   "metadata": {},
   "outputs": [
    {
     "data": {
      "text/plain": [
       "<AxesSubplot:>"
      ]
     },
     "execution_count": 31,
     "metadata": {},
     "output_type": "execute_result"
    },
    {
     "data": {
      "image/png": "[encoded data removed]",
      "text/plain": [
       "<Figure size 432x288 with 1 Axes>"
      ]
     },
     "metadata": {
      "needs_background": "light"
     },
     "output_type": "display_data"
    }
   ],
   "source": [
    "data['rooms'].hist(bins=10, range=(0,10))"
   ]
  },
  {
   "cell_type": "code",
   "execution_count": 32,
   "metadata": {},
   "outputs": [
    {
     "data": {
      "text/plain": [
       "count    23699.000000\n",
       "mean         2.070636\n",
       "std          1.078405\n",
       "min          0.000000\n",
       "25%          1.000000\n",
       "50%          2.000000\n",
       "75%          3.000000\n",
       "max         19.000000\n",
       "Name: rooms, dtype: float64"
      ]
     },
     "execution_count": 32,
     "metadata": {},
     "output_type": "execute_result"
    }
   ],
   "source": [
    "data['rooms'].describe()"
   ]
  },
  {
   "cell_type": "code",
   "execution_count": 33,
   "metadata": {},
   "outputs": [
    {
     "data": {
      "text/plain": [
       "<AxesSubplot:>"
      ]
     },
     "execution_count": 33,
     "metadata": {},
     "output_type": "execute_result"
    },
    {
     "data": {
      "image/png": "[encoded data removed]",
      "text/plain": [
       "<Figure size 432x288 with 1 Axes>"
      ]
     },
     "metadata": {
      "needs_background": "light"
     },
     "output_type": "display_data"
    }
   ],
   "source": [
    "data['floor_type'].hist(bins=3, range=(0,3))"
   ]
  },
  {
   "cell_type": "code",
   "execution_count": 34,
   "metadata": {},
   "outputs": [
    {
     "data": {
      "text/plain": [
       "<AxesSubplot:>"
      ]
     },
     "execution_count": 34,
     "metadata": {},
     "output_type": "execute_result"
    },
    {
     "data": {
      "image/png": "[encoded data removed]",
      "text/plain": [
       "<Figure size 432x288 with 1 Axes>"
      ]
     },
     "metadata": {
      "needs_background": "light"
     },
     "output_type": "display_data"
    }
   ],
   "source": [
    "data['floors_total'].hist(bins=15, range=(0,40))"
   ]
  },
  {
   "cell_type": "code",
   "execution_count": 35,
   "metadata": {},
   "outputs": [
    {
     "data": {
      "text/plain": [
       "count    23613.000000\n",
       "mean        10.673824\n",
       "std          6.597173\n",
       "min          1.000000\n",
       "25%          5.000000\n",
       "50%          9.000000\n",
       "75%         16.000000\n",
       "max         60.000000\n",
       "Name: floors_total, dtype: float64"
      ]
     },
     "execution_count": 35,
     "metadata": {},
     "output_type": "execute_result"
    }
   ],
   "source": [
    "data['floors_total'].describe()"
   ]
  },
  {
   "cell_type": "code",
   "execution_count": 36,
   "metadata": {},
   "outputs": [
    {
     "data": {
      "text/plain": [
       "<AxesSubplot:>"
      ]
     },
     "execution_count": 36,
     "metadata": {},
     "output_type": "execute_result"
    },
    {
     "data": {
      "image/png": "[encoded data removed]",
      "text/plain": [
       "<Figure size 432x288 with 1 Axes>"
      ]
     },
     "metadata": {
      "needs_background": "light"
     },
     "output_type": "display_data"
    }
   ],
   "source": [
    "data['cityCenters_nearest'].hist(bins=50, range=(0,50000))"
   ]
  },
  {
   "cell_type": "code",
   "execution_count": 37,
   "metadata": {},
   "outputs": [
    {
     "data": {
      "text/plain": [
       "count    18180.000000\n",
       "mean     14191.277833\n",
       "std       8608.386210\n",
       "min        181.000000\n",
       "25%       9238.000000\n",
       "50%      13098.500000\n",
       "75%      16293.000000\n",
       "max      65968.000000\n",
       "Name: cityCenters_nearest, dtype: float64"
      ]
     },
     "execution_count": 37,
     "metadata": {},
     "output_type": "execute_result"
    }
   ],
   "source": [
    "data['cityCenters_nearest'].describe()"
   ]
  },
  {
   "cell_type": "code",
   "execution_count": 38,
   "metadata": {},
   "outputs": [
    {
     "data": {
      "text/plain": [
       "<AxesSubplot:>"
      ]
     },
     "execution_count": 38,
     "metadata": {},
     "output_type": "execute_result"
    },
    {
     "data": {
      "image/png": "[encoded data removed]",
      "text/plain": [
       "<Figure size 432x288 with 1 Axes>"
      ]
     },
     "metadata": {
      "needs_background": "light"
     },
     "output_type": "display_data"
    }
   ],
   "source": [
    "data['parks_nearest'].hist(bins=30, range=(0,3000))"
   ]
  },
  {
   "cell_type": "code",
   "execution_count": 39,
   "metadata": {},
   "outputs": [
    {
     "data": {
      "text/plain": [
       "count    8079.000000\n",
       "mean      490.804555\n",
       "std       342.317995\n",
       "min         1.000000\n",
       "25%       288.000000\n",
       "50%       455.000000\n",
       "75%       612.000000\n",
       "max      3190.000000\n",
       "Name: parks_nearest, dtype: float64"
      ]
     },
     "execution_count": 39,
     "metadata": {},
     "output_type": "execute_result"
    }
   ],
   "source": [
    "data['parks_nearest'].describe()"
   ]
  },
  {
   "cell_type": "markdown",
   "metadata": {},
   "source": [
    "<div class=\"alert alert-info\">\n",
    "<h2> Вывод о параметрах </h2>\n",
    "    \n",
    "total_area - средняя площадь квартиры около 60 квадратных метров, медианная - 52. <br>\n",
    "living_area - средняя жилая площадь - 34, медианная - 30. <br>\n",
    "kitchen_area - средняя площадь кухни - 10, медианная - 9.1. <br>\n",
    "last_price - средняя цена квартиры - 6.5 миллионов, мелианная - 4.6 <br>\n",
    "ceiling_height - средняя высота потолков 2,69, медианная - 2.65 <br>\n",
    "rooms - среднее количество комнат около 2, медианное - 2. <br>\n",
    "floor_type - как и ожидалось больше всего квартир на других этажах, а на последнем и первом количство сопостовимое. <br>\n",
    "floors_total - среднее количество этажей в доме - 10.6, медианное - 9. <br>\n",
    "cityCenters_nearest - среднее расстояние от квартиры до центра - 14191 метр, медианное - 13098. <br>\n",
    "parks_nearest - среднее расстояние от квартиры до парка - 490, медианное - 455.\n",
    "\n",
    "</div>"
   ]
  },
  {
   "cell_type": "code",
   "execution_count": 40,
   "metadata": {},
   "outputs": [
    {
     "data": {
      "image/png": "[encoded data removed]",
      "text/plain": [
       "<Figure size 432x288 with 1 Axes>"
      ]
     },
     "metadata": {
      "needs_background": "light"
     },
     "output_type": "display_data"
    }
   ],
   "source": [
    "(data['last_price']/1000000).hist(bins=50, range=(0,30))\n",
    "data = data.query('last_price < 25000000')"
   ]
  },
  {
   "cell_type": "code",
   "execution_count": 41,
   "metadata": {},
   "outputs": [
    {
     "data": {
      "image/png": "[encoded data removed]",
      "text/plain": [
       "<Figure size 432x288 with 1 Axes>"
      ]
     },
     "metadata": {
      "needs_background": "light"
     },
     "output_type": "display_data"
    }
   ],
   "source": [
    "data['ceiling_height'].hist(bins=10, range=(2,4))\n",
    "data = data.query('ceiling_height > 2 and ceiling_height < 4')"
   ]
  },
  {
   "cell_type": "code",
   "execution_count": 42,
   "metadata": {},
   "outputs": [
    {
     "data": {
      "image/png": "[encoded data removed]",
      "text/plain": [
       "<Figure size 432x288 with 1 Axes>"
      ]
     },
     "metadata": {
      "needs_background": "light"
     },
     "output_type": "display_data"
    }
   ],
   "source": [
    "data['rooms'].hist(bins=30, range=(0,30))\n",
    "data['rooms'].describe()\n",
    "data = data.query('rooms > 0')"
   ]
  },
  {
   "cell_type": "code",
   "execution_count": 43,
   "metadata": {},
   "outputs": [
    {
     "data": {
      "image/png": "[encoded data removed]",
      "text/plain": [
       "<Figure size 432x288 with 1 Axes>"
      ]
     },
     "metadata": {
      "needs_background": "light"
     },
     "output_type": "display_data"
    }
   ],
   "source": [
    "data['total_area'].hist(bins=30, range=(0,300))\n",
    "data['total_area'].describe()\n",
    "data = data.query('total_area < 400')"
   ]
  },
  {
   "cell_type": "code",
   "execution_count": 44,
   "metadata": {},
   "outputs": [
    {
     "data": {
      "text/plain": [
       "<AxesSubplot:>"
      ]
     },
     "execution_count": 44,
     "metadata": {},
     "output_type": "execute_result"
    },
    {
     "data": {
      "image/png": "[encoded data removed]",
      "text/plain": [
       "<Figure size 432x288 with 1 Axes>"
      ]
     },
     "metadata": {
      "needs_background": "light"
     },
     "output_type": "display_data"
    }
   ],
   "source": [
    "data[data['days_exposition']!=0]['days_exposition'].hist(bins=40, range=(0,500))"
   ]
  },
  {
   "cell_type": "code",
   "execution_count": 45,
   "metadata": {},
   "outputs": [
    {
     "data": {
      "text/plain": [
       "count    19896.000000\n",
       "mean       179.072527\n",
       "std        217.422798\n",
       "min          1.000000\n",
       "25%         45.000000\n",
       "50%         95.000000\n",
       "75%        229.000000\n",
       "max       1580.000000\n",
       "Name: days_exposition, dtype: float64"
      ]
     },
     "execution_count": 45,
     "metadata": {},
     "output_type": "execute_result"
    }
   ],
   "source": [
    "data[data['days_exposition']!=0]['days_exposition'].describe()"
   ]
  },
  {
   "cell_type": "markdown",
   "metadata": {},
   "source": [
    "<div class=\"alert alert-info\">\n",
    "<h2> Вывод о времени продажи </h2>\n",
    "    Среднее количество дней, которое квартира висела на продаже, 180 дней, а медиана 95. <br>\n",
    "    Квартиры проданные за менее 45 дней мы можем считать быстро проданными, а за срок более 232 дней - необычно долгими\n",
    "\n",
    "</div>"
   ]
  },
  {
   "cell_type": "code",
   "execution_count": 46,
   "metadata": {},
   "outputs": [
    {
     "data": {
      "text/plain": [
       "<AxesSubplot:xlabel='total_area'>"
      ]
     },
     "execution_count": 46,
     "metadata": {},
     "output_type": "execute_result"
    },
    {
     "data": {
      "image/png": "[encoded data removed]",
      "text/plain": [
       "<Figure size 432x288 with 1 Axes>"
      ]
     },
     "metadata": {
      "needs_background": "light"
     },
     "output_type": "display_data"
    }
   ],
   "source": [
    "pivot_table_total_area = data.pivot_table(index='total_area', values='last_price')\n",
    "pivot_table_total_area.plot(style='o')"
   ]
  },
  {
   "cell_type": "code",
   "execution_count": 47,
   "metadata": {},
   "outputs": [
    {
     "data": {
      "text/plain": [
       "0.783230714558558"
      ]
     },
     "execution_count": 47,
     "metadata": {},
     "output_type": "execute_result"
    }
   ],
   "source": [
    "data['total_area'].corr(data['last_price'])"
   ]
  },
  {
   "cell_type": "markdown",
   "metadata": {},
   "source": [
    "**Как и ожидалось видим достаточно сильную зависимость от цены и общей площади квартиры**"
   ]
  },
  {
   "cell_type": "code",
   "execution_count": 48,
   "metadata": {},
   "outputs": [
    {
     "data": {
      "text/plain": [
       "<AxesSubplot:xlabel='living_area'>"
      ]
     },
     "execution_count": 48,
     "metadata": {},
     "output_type": "execute_result"
    },
    {
     "data": {
      "image/png": "[encoded data removed]",
      "text/plain": [
       "<Figure size 432x288 with 1 Axes>"
      ]
     },
     "metadata": {
      "needs_background": "light"
     },
     "output_type": "display_data"
    }
   ],
   "source": [
    "pivot_table_living_area = data.pivot_table(index='living_area', values='last_price')\n",
    "pivot_table_living_area.plot(style='o')"
   ]
  },
  {
   "cell_type": "code",
   "execution_count": 49,
   "metadata": {},
   "outputs": [
    {
     "data": {
      "text/plain": [
       "0.6783417022099887"
      ]
     },
     "execution_count": 49,
     "metadata": {},
     "output_type": "execute_result"
    }
   ],
   "source": [
    "data['living_area'].corr(data['last_price'])"
   ]
  },
  {
   "cell_type": "markdown",
   "metadata": {},
   "source": [
    "**С жилой площадью наблюдаем среднюю зависимость**"
   ]
  },
  {
   "cell_type": "code",
   "execution_count": 50,
   "metadata": {},
   "outputs": [
    {
     "data": {
      "text/plain": [
       "<AxesSubplot:xlabel='kitchen_area'>"
      ]
     },
     "execution_count": 50,
     "metadata": {},
     "output_type": "execute_result"
    },
    {
     "data": {
      "image/png": "[encoded data removed]",
      "text/plain": [
       "<Figure size 432x288 with 1 Axes>"
      ]
     },
     "metadata": {
      "needs_background": "light"
     },
     "output_type": "display_data"
    }
   ],
   "source": [
    "pivot_table_kitchen_area = data.pivot_table(index='kitchen_area', values='last_price')\n",
    "pivot_table_kitchen_area.plot(style='o')"
   ]
  },
  {
   "cell_type": "code",
   "execution_count": 51,
   "metadata": {},
   "outputs": [
    {
     "data": {
      "text/plain": [
       "0.5937863819665491"
      ]
     },
     "execution_count": 51,
     "metadata": {},
     "output_type": "execute_result"
    }
   ],
   "source": [
    "data['kitchen_area'].corr(data['last_price'])"
   ]
  },
  {
   "cell_type": "markdown",
   "metadata": {},
   "source": [
    "**Примерно такая же зависимость, как и от жилой площади**"
   ]
  },
  {
   "cell_type": "code",
   "execution_count": 52,
   "metadata": {},
   "outputs": [
    {
     "data": {
      "text/plain": [
       "<AxesSubplot:xlabel='rooms'>"
      ]
     },
     "execution_count": 52,
     "metadata": {},
     "output_type": "execute_result"
    },
    {
     "data": {
      "image/png": "[encoded data removed]",
      "text/plain": [
       "<Figure size 432x288 with 1 Axes>"
      ]
     },
     "metadata": {
      "needs_background": "light"
     },
     "output_type": "display_data"
    }
   ],
   "source": [
    "pivot_table_rooms = data.pivot_table(index='rooms', values='last_price')\n",
    "pivot_table_rooms.plot()"
   ]
  },
  {
   "cell_type": "code",
   "execution_count": 53,
   "metadata": {},
   "outputs": [
    {
     "data": {
      "text/plain": [
       "0.5172180469913893"
      ]
     },
     "execution_count": 53,
     "metadata": {},
     "output_type": "execute_result"
    }
   ],
   "source": [
    "data['rooms'].corr(data['last_price'])"
   ]
  },
  {
   "cell_type": "markdown",
   "metadata": {},
   "source": [
    "**Средняя\n",
    "зависимость от количества комнат и цены, сама зависимость скорее связана с тем, что у квартир с большей площадью - больше комнат**"
   ]
  },
  {
   "cell_type": "code",
   "execution_count": 54,
   "metadata": {},
   "outputs": [
    {
     "data": {
      "text/plain": [
       "<AxesSubplot:xlabel='floor_type'>"
      ]
     },
     "execution_count": 54,
     "metadata": {},
     "output_type": "execute_result"
    },
    {
     "data": {
      "image/png": "[encoded data removed]",
      "text/plain": [
       "<Figure size 432x288 with 1 Axes>"
      ]
     },
     "metadata": {
      "needs_background": "light"
     },
     "output_type": "display_data"
    }
   ],
   "source": [
    "pivot_table_floor_type = data.pivot_table(index='floor_type', values='last_price')\n",
    "pivot_table_floor_type.plot()"
   ]
  },
  {
   "cell_type": "code",
   "execution_count": 55,
   "metadata": {},
   "outputs": [
    {
     "data": {
      "text/html": [
       "<div>\n",
       "<style scoped>\n",
       "    .dataframe tbody tr th:only-of-type {\n",
       "        vertical-align: middle;\n",
       "    }\n",
       "\n",
       "    .dataframe tbody tr th {\n",
       "        vertical-align: top;\n",
       "    }\n",
       "\n",
       "    .dataframe thead tr th {\n",
       "        text-align: left;\n",
       "    }\n",
       "\n",
       "    .dataframe thead tr:last-of-type th {\n",
       "        text-align: right;\n",
       "    }\n",
       "</style>\n",
       "<table border=\"1\" class=\"dataframe\">\n",
       "  <thead>\n",
       "    <tr>\n",
       "      <th></th>\n",
       "      <th>count</th>\n",
       "      <th>mean</th>\n",
       "      <th>median</th>\n",
       "    </tr>\n",
       "    <tr>\n",
       "      <th></th>\n",
       "      <th>last_price</th>\n",
       "      <th>last_price</th>\n",
       "      <th>last_price</th>\n",
       "    </tr>\n",
       "    <tr>\n",
       "      <th>floor_type</th>\n",
       "      <th></th>\n",
       "      <th></th>\n",
       "      <th></th>\n",
       "    </tr>\n",
       "  </thead>\n",
       "  <tbody>\n",
       "    <tr>\n",
       "      <th>другой</th>\n",
       "      <td>16854</td>\n",
       "      <td>5.834316e+06</td>\n",
       "      <td>4800000</td>\n",
       "    </tr>\n",
       "    <tr>\n",
       "      <th>первый</th>\n",
       "      <td>2860</td>\n",
       "      <td>4.480079e+06</td>\n",
       "      <td>3900000</td>\n",
       "    </tr>\n",
       "    <tr>\n",
       "      <th>последний</th>\n",
       "      <td>3195</td>\n",
       "      <td>5.311418e+06</td>\n",
       "      <td>4250000</td>\n",
       "    </tr>\n",
       "  </tbody>\n",
       "</table>\n",
       "</div>"
      ],
      "text/plain": [
       "                count          mean     median\n",
       "           last_price    last_price last_price\n",
       "floor_type                                    \n",
       "другой          16854  5.834316e+06    4800000\n",
       "первый           2860  4.480079e+06    3900000\n",
       "последний        3195  5.311418e+06    4250000"
      ]
     },
     "execution_count": 55,
     "metadata": {},
     "output_type": "execute_result"
    }
   ],
   "source": [
    "data.pivot_table(index='floor_type', values='last_price', aggfunc=['count', 'mean', 'median'])"
   ]
  },
  {
   "cell_type": "markdown",
   "metadata": {},
   "source": [
    "**В следнем квартиры на последнем этаже стоят дороже, а на первом дешевле**"
   ]
  },
  {
   "cell_type": "code",
   "execution_count": 56,
   "metadata": {},
   "outputs": [
    {
     "data": {
      "text/plain": [
       "<AxesSubplot:xlabel='exposition_day'>"
      ]
     },
     "execution_count": 56,
     "metadata": {},
     "output_type": "execute_result"
    },
    {
     "data": {
      "image/png": "[encoded data removed]",
      "text/plain": [
       "<Figure size 432x288 with 1 Axes>"
      ]
     },
     "metadata": {
      "needs_background": "light"
     },
     "output_type": "display_data"
    }
   ],
   "source": [
    "pivot_table_exposition_day = data.pivot_table(index='exposition_day', values='last_price')\n",
    "pivot_table_exposition_day.plot()"
   ]
  },
  {
   "cell_type": "markdown",
   "metadata": {},
   "source": [
    "**Какая-либо зависимость отсутсвует**"
   ]
  },
  {
   "cell_type": "code",
   "execution_count": 57,
   "metadata": {},
   "outputs": [
    {
     "data": {
      "text/plain": [
       "<AxesSubplot:xlabel='exposition_month'>"
      ]
     },
     "execution_count": 57,
     "metadata": {},
     "output_type": "execute_result"
    },
    {
     "data": {
      "image/png": "[encoded data removed]",
      "text/plain": [
       "<Figure size 432x288 with 1 Axes>"
      ]
     },
     "metadata": {
      "needs_background": "light"
     },
     "output_type": "display_data"
    }
   ],
   "source": [
    "pivot_table_exposition_month = data.pivot_table(index='exposition_month', values='last_price')\n",
    "pivot_table_exposition_month.plot()"
   ]
  },
  {
   "cell_type": "markdown",
   "metadata": {},
   "source": [
    "**Зависимость отсутствует, однако мы видим, что в среднем самый дорогие квартиры выставляют в декабре**"
   ]
  },
  {
   "cell_type": "code",
   "execution_count": 58,
   "metadata": {},
   "outputs": [
    {
     "data": {
      "text/plain": [
       "<AxesSubplot:xlabel='exposition_year'>"
      ]
     },
     "execution_count": 58,
     "metadata": {},
     "output_type": "execute_result"
    },
    {
     "data": {
      "image/png": "[encoded data removed]",
      "text/plain": [
       "<Figure size 432x288 with 1 Axes>"
      ]
     },
     "metadata": {
      "needs_background": "light"
     },
     "output_type": "display_data"
    }
   ],
   "source": [
    "pivot_table_exposition_year = data.pivot_table(index='exposition_year', values='last_price')\n",
    "pivot_table_exposition_year.plot()"
   ]
  },
  {
   "cell_type": "markdown",
   "metadata": {},
   "source": [
    "**В среднем цена с 2014 года начала падать, но к концу 2018 снова пошла вверх**"
   ]
  },
  {
   "cell_type": "code",
   "execution_count": 59,
   "metadata": {},
   "outputs": [
    {
     "data": {
      "text/html": [
       "<div>\n",
       "<style scoped>\n",
       "    .dataframe tbody tr th:only-of-type {\n",
       "        vertical-align: middle;\n",
       "    }\n",
       "\n",
       "    .dataframe tbody tr th {\n",
       "        vertical-align: top;\n",
       "    }\n",
       "\n",
       "    .dataframe thead th {\n",
       "        text-align: right;\n",
       "    }\n",
       "</style>\n",
       "<table border=\"1\" class=\"dataframe\">\n",
       "  <thead>\n",
       "    <tr style=\"text-align: right;\">\n",
       "      <th></th>\n",
       "      <th>count</th>\n",
       "      <th>mean</th>\n",
       "    </tr>\n",
       "    <tr>\n",
       "      <th>locality_name</th>\n",
       "      <th></th>\n",
       "      <th></th>\n",
       "    </tr>\n",
       "  </thead>\n",
       "  <tbody>\n",
       "    <tr>\n",
       "      <th>Санкт-Петербург</th>\n",
       "      <td>15060</td>\n",
       "      <td>109369.017220</td>\n",
       "    </tr>\n",
       "    <tr>\n",
       "      <th>Мурино</th>\n",
       "      <td>561</td>\n",
       "      <td>85478.554082</td>\n",
       "    </tr>\n",
       "    <tr>\n",
       "      <th>Кудрово</th>\n",
       "      <td>450</td>\n",
       "      <td>95151.880622</td>\n",
       "    </tr>\n",
       "    <tr>\n",
       "      <th>поселок Шушары</th>\n",
       "      <td>436</td>\n",
       "      <td>78405.738532</td>\n",
       "    </tr>\n",
       "    <tr>\n",
       "      <th>Всеволожск</th>\n",
       "      <td>389</td>\n",
       "      <td>68579.740283</td>\n",
       "    </tr>\n",
       "    <tr>\n",
       "      <th>Пушкин</th>\n",
       "      <td>361</td>\n",
       "      <td>102080.093490</td>\n",
       "    </tr>\n",
       "    <tr>\n",
       "      <th>Колпино</th>\n",
       "      <td>337</td>\n",
       "      <td>75333.295816</td>\n",
       "    </tr>\n",
       "    <tr>\n",
       "      <th>поселок Парголово</th>\n",
       "      <td>323</td>\n",
       "      <td>90289.778019</td>\n",
       "    </tr>\n",
       "    <tr>\n",
       "      <th>Гатчина</th>\n",
       "      <td>305</td>\n",
       "      <td>68811.372590</td>\n",
       "    </tr>\n",
       "    <tr>\n",
       "      <th>Выборг</th>\n",
       "      <td>233</td>\n",
       "      <td>58250.660815</td>\n",
       "    </tr>\n",
       "  </tbody>\n",
       "</table>\n",
       "</div>"
      ],
      "text/plain": [
       "                   count           mean\n",
       "locality_name                          \n",
       "Санкт-Петербург    15060  109369.017220\n",
       "Мурино               561   85478.554082\n",
       "Кудрово              450   95151.880622\n",
       "поселок Шушары       436   78405.738532\n",
       "Всеволожск           389   68579.740283\n",
       "Пушкин               361  102080.093490\n",
       "Колпино              337   75333.295816\n",
       "поселок Парголово    323   90289.778019\n",
       "Гатчина              305   68811.372590\n",
       "Выборг               233   58250.660815"
      ]
     },
     "execution_count": 59,
     "metadata": {},
     "output_type": "execute_result"
    }
   ],
   "source": [
    "pivot_table_locality_name = data.pivot_table(index='locality_name', values='price_per_square', aggfunc=['count', 'mean'])\n",
    "pivot_table_locality_name.columns = ['count', 'mean']\n",
    "pivot_table_locality_name.sort_values('count', ascending=False).head(10)"
   ]
  },
  {
   "cell_type": "markdown",
   "metadata": {},
   "source": [
    "**Самая большая средняя стоимость квадратного метра в Санкт-Петербурге(114849 рублей), самая маленькая в Выборге(58141 рубль)**"
   ]
  },
  {
   "cell_type": "code",
   "execution_count": 60,
   "metadata": {},
   "outputs": [
    {
     "data": {
      "text/plain": [
       "<AxesSubplot:xlabel='km_to_center'>"
      ]
     },
     "execution_count": 60,
     "metadata": {},
     "output_type": "execute_result"
    },
    {
     "data": {
      "image/png": "[encoded data removed]",
      "text/plain": [
       "<Figure size 432x288 with 1 Axes>"
      ]
     },
     "metadata": {
      "needs_background": "light"
     },
     "output_type": "display_data"
    }
   ],
   "source": [
    "pivot_table_km_to_center = data.query('locality_name == \"Санкт-Петербург\"').pivot_table(index='km_to_center', values='price_per_square', aggfunc='mean') \n",
    "pivot_table_km_to_center.plot()"
   ]
  },
  {
   "cell_type": "markdown",
   "metadata": {},
   "source": [
    "**Чем ближе квартира к центру, тем больше ее стоимость. Подскоки на графики можно объяснить дорогими ЖК на окраине города**"
   ]
  },
  {
   "cell_type": "markdown",
   "metadata": {},
   "source": [
    "### Общий вывод"
   ]
  },
  {
   "cell_type": "markdown",
   "metadata": {},
   "source": [
    "Были проанализированы следующие параметры:\n",
    "\n",
    "total_area - средняя площадь квартиры около 60 квадратных метров, медианная - 52.\n",
    "living_area - средняя жилая площадь - 34, медианная - 30.\n",
    "kitchen_area - средняя площадь кухни - 10, медианная - 9.1.\n",
    "last_price - средняя цена квартиры - 6.5 миллионов, мелианная - 4.6\n",
    "ceiling_height - средняя высота потолков 2,69, медианная - 2.65\n",
    "rooms - среднее количество комнат около 2, медианное - 2.\n",
    "floor_type - как и ожидалось больше всего квартир на других этажах, а на последнем и первом количство сопостовимое.\n",
    "floors_total - среднее количество этажей в доме - 10.6, медианное - 9.\n",
    "cityCenters_nearest - среднее расстояние от квартиры до центра - 14191 метр, медианное - 13098.\n",
    "parks_nearest - среднее расстояние от квартиры до парка - 490, медианное - 455.\n",
    "\n",
    "По результатам анализа о времени продажи квартиры можно сделать следующий вывод:\n",
    "\n",
    "Среднее количество дней, которое квартира висела на продаже, 180 дней, а медиана 95.\n",
    "Квартиры проданные за менее 45 дней мы можем считать быстро проданными, а за срок более 232 дней - необычно долгими.\n",
    "\n",
    "Больше всего на стоимость объекта влияет площадь квартиры. Также мы можем заметить, что квартиры на последнем этаже ценятся выше. Что касается зависимости от даты продажи(дня, месяца, года), то можем заметить следующие: дорогие квартиры чаще всего выставляют на продажу по субботам, от месяца как таковой зависимости нет, в году можно увидеть, что средняя цена упала практически в 2 раза, но к концу 2018 года снова пошла вверх.\n",
    "\n",
    "Также были проанализорванны топ-10 населенных пунктов по количеству объявлений. Таким образом самым дорогим квадратным метром может похвастаться Санкт-Петербург(114849 рублей), а самым дешевым - Выборг(58141 рублей).\n",
    "\n",
    "Стоимость квартиры в Санкт-Петербурге напрямую зависит от удаленности от центра. Так, чем ближе квартира находится к центру, тем больше будет ее стоимасть и наоборот. Возможно, на подскоки в графике могут влиять цены в элитных ЖК на окраине города."
   ]
  },
  {
   "cell_type": "code",
   "execution_count": null,
   "metadata": {},
   "outputs": [],
   "source": []
  }
 ],
 "metadata": {
  "ExecuteTimeLog": [
   {
    "duration": 477,
    "start_time": "2023-09-04T18:07:39.234Z"
   },
   {
    "duration": 75,
    "start_time": "2023-09-04T18:08:16.595Z"
   },
   {
    "duration": 247,
    "start_time": "2023-09-04T18:08:24.259Z"
   },
   {
    "duration": 120,
    "start_time": "2023-09-04T18:08:35.787Z"
   },
   {
    "duration": 154,
    "start_time": "2023-09-04T18:08:57.662Z"
   },
   {
    "duration": 142,
    "start_time": "2023-09-04T18:09:40.609Z"
   },
   {
    "duration": 138,
    "start_time": "2023-09-04T18:09:48.993Z"
   },
   {
    "duration": 137,
    "start_time": "2023-09-04T18:09:51.017Z"
   },
   {
    "duration": 2360,
    "start_time": "2023-09-04T18:09:56.467Z"
   },
   {
    "duration": 2535,
    "start_time": "2023-09-04T18:10:26.313Z"
   },
   {
    "duration": 2393,
    "start_time": "2023-09-04T18:15:38.196Z"
   },
   {
    "duration": 2340,
    "start_time": "2023-09-04T18:15:55.540Z"
   },
   {
    "duration": 2367,
    "start_time": "2023-09-04T18:16:09.940Z"
   },
   {
    "duration": 2459,
    "start_time": "2023-09-04T18:16:18.270Z"
   },
   {
    "duration": 2328,
    "start_time": "2023-09-04T18:16:28.437Z"
   },
   {
    "duration": 2398,
    "start_time": "2023-09-04T18:16:38.300Z"
   },
   {
    "duration": 164,
    "start_time": "2023-09-04T18:17:30.116Z"
   },
   {
    "duration": 14,
    "start_time": "2023-09-04T18:17:46.605Z"
   },
   {
    "duration": 2657,
    "start_time": "2023-09-04T18:18:03.997Z"
   },
   {
    "duration": 24,
    "start_time": "2023-09-04T18:19:02.846Z"
   },
   {
    "duration": 48,
    "start_time": "2023-09-05T08:14:55.667Z"
   },
   {
    "duration": 748,
    "start_time": "2023-09-05T08:15:02.867Z"
   },
   {
    "duration": 12,
    "start_time": "2023-09-05T08:15:03.617Z"
   },
   {
    "duration": 2307,
    "start_time": "2023-09-05T08:15:03.913Z"
   },
   {
    "duration": 9,
    "start_time": "2023-09-05T08:15:06.222Z"
   },
   {
    "duration": 4,
    "start_time": "2023-09-05T08:15:06.436Z"
   },
   {
    "duration": 8,
    "start_time": "2023-09-05T08:15:19.363Z"
   },
   {
    "duration": 4,
    "start_time": "2023-09-05T08:16:49.602Z"
   },
   {
    "duration": 4,
    "start_time": "2023-09-05T08:16:52.026Z"
   },
   {
    "duration": 9,
    "start_time": "2023-09-05T08:16:57.563Z"
   },
   {
    "duration": 6,
    "start_time": "2023-09-05T08:20:27.422Z"
   },
   {
    "duration": 7,
    "start_time": "2023-09-05T08:20:30.934Z"
   },
   {
    "duration": 9,
    "start_time": "2023-09-05T09:38:32.347Z"
   },
   {
    "duration": 5,
    "start_time": "2023-09-05T10:11:44.505Z"
   },
   {
    "duration": 7,
    "start_time": "2023-09-05T10:12:20.547Z"
   },
   {
    "duration": 8,
    "start_time": "2023-09-05T10:12:22.202Z"
   },
   {
    "duration": 6,
    "start_time": "2023-09-05T10:12:48.567Z"
   },
   {
    "duration": 8,
    "start_time": "2023-09-05T10:15:49.451Z"
   },
   {
    "duration": 7,
    "start_time": "2023-09-05T10:17:12.553Z"
   },
   {
    "duration": 6,
    "start_time": "2023-09-05T10:21:37.400Z"
   },
   {
    "duration": 13,
    "start_time": "2023-09-05T10:21:38.912Z"
   },
   {
    "duration": 8,
    "start_time": "2023-09-05T10:22:34.011Z"
   },
   {
    "duration": 14,
    "start_time": "2023-09-05T10:22:35.664Z"
   },
   {
    "duration": 4,
    "start_time": "2023-09-05T10:23:21.810Z"
   },
   {
    "duration": 62,
    "start_time": "2023-09-05T10:23:41.922Z"
   },
   {
    "duration": 3,
    "start_time": "2023-09-05T10:24:13.004Z"
   },
   {
    "duration": 7,
    "start_time": "2023-09-05T10:24:28.915Z"
   },
   {
    "duration": 7,
    "start_time": "2023-09-05T10:25:00.974Z"
   },
   {
    "duration": 34,
    "start_time": "2023-09-05T10:25:14.716Z"
   },
   {
    "duration": 6,
    "start_time": "2023-09-05T10:26:50.413Z"
   },
   {
    "duration": 12,
    "start_time": "2023-09-05T10:26:51.500Z"
   },
   {
    "duration": 10,
    "start_time": "2023-09-05T10:29:31.477Z"
   },
   {
    "duration": 13,
    "start_time": "2023-09-05T10:29:32.369Z"
   },
   {
    "duration": 13,
    "start_time": "2023-09-05T10:29:39.887Z"
   },
   {
    "duration": 12,
    "start_time": "2023-09-05T10:29:41.260Z"
   },
   {
    "duration": 12,
    "start_time": "2023-09-05T10:29:42.518Z"
   },
   {
    "duration": 6,
    "start_time": "2023-09-05T10:31:30.549Z"
   },
   {
    "duration": 12,
    "start_time": "2023-09-05T10:31:34.384Z"
   },
   {
    "duration": 6,
    "start_time": "2023-09-05T10:32:26.689Z"
   },
   {
    "duration": 8,
    "start_time": "2023-09-05T10:39:57.972Z"
   },
   {
    "duration": 9,
    "start_time": "2023-09-05T10:40:03.430Z"
   },
   {
    "duration": 7,
    "start_time": "2023-09-05T10:40:09.622Z"
   },
   {
    "duration": 5,
    "start_time": "2023-09-05T10:40:21.244Z"
   },
   {
    "duration": 7,
    "start_time": "2023-09-05T10:40:36.903Z"
   },
   {
    "duration": 6,
    "start_time": "2023-09-05T10:40:41.571Z"
   },
   {
    "duration": 8,
    "start_time": "2023-09-05T10:43:49.963Z"
   },
   {
    "duration": 152,
    "start_time": "2023-09-05T10:44:10.833Z"
   },
   {
    "duration": 7,
    "start_time": "2023-09-05T10:44:14.123Z"
   },
   {
    "duration": 7,
    "start_time": "2023-09-05T10:44:28.090Z"
   },
   {
    "duration": 8,
    "start_time": "2023-09-05T10:44:33.401Z"
   },
   {
    "duration": 8,
    "start_time": "2023-09-05T10:44:40.756Z"
   },
   {
    "duration": 6,
    "start_time": "2023-09-05T10:45:20.585Z"
   },
   {
    "duration": 8,
    "start_time": "2023-09-05T10:45:34.794Z"
   },
   {
    "duration": 6,
    "start_time": "2023-09-05T10:45:49.874Z"
   },
   {
    "duration": 7,
    "start_time": "2023-09-05T10:52:05.308Z"
   },
   {
    "duration": 4,
    "start_time": "2023-09-05T10:52:36.754Z"
   },
   {
    "duration": 5,
    "start_time": "2023-09-05T10:52:39.745Z"
   },
   {
    "duration": 8,
    "start_time": "2023-09-05T10:53:53.872Z"
   },
   {
    "duration": 17,
    "start_time": "2023-09-05T10:54:08.854Z"
   },
   {
    "duration": 144,
    "start_time": "2023-09-05T11:07:13.018Z"
   },
   {
    "duration": 95,
    "start_time": "2023-09-05T11:07:19.529Z"
   },
   {
    "duration": 21,
    "start_time": "2023-09-05T11:07:33.681Z"
   },
   {
    "duration": 21,
    "start_time": "2023-09-05T11:07:38.561Z"
   },
   {
    "duration": 19,
    "start_time": "2023-09-05T11:07:57.769Z"
   },
   {
    "duration": 22,
    "start_time": "2023-09-05T11:08:02.474Z"
   },
   {
    "duration": 19,
    "start_time": "2023-09-05T11:08:16.722Z"
   },
   {
    "duration": 7,
    "start_time": "2023-09-05T11:09:29.267Z"
   },
   {
    "duration": 15,
    "start_time": "2023-09-05T11:09:37.523Z"
   },
   {
    "duration": 18,
    "start_time": "2023-09-05T11:09:46.557Z"
   },
   {
    "duration": 8,
    "start_time": "2023-09-05T11:10:52.173Z"
   },
   {
    "duration": 9,
    "start_time": "2023-09-05T11:11:05.981Z"
   },
   {
    "duration": 46,
    "start_time": "2023-09-05T11:14:28.653Z"
   },
   {
    "duration": 17,
    "start_time": "2023-09-05T11:14:33.776Z"
   },
   {
    "duration": 18,
    "start_time": "2023-09-05T11:15:02.260Z"
   },
   {
    "duration": 18,
    "start_time": "2023-09-05T11:15:48.303Z"
   },
   {
    "duration": 17,
    "start_time": "2023-09-05T11:16:38.868Z"
   },
   {
    "duration": 21,
    "start_time": "2023-09-05T11:16:56.201Z"
   },
   {
    "duration": 2,
    "start_time": "2023-09-05T11:17:38.510Z"
   },
   {
    "duration": 67,
    "start_time": "2023-09-05T11:18:08.396Z"
   },
   {
    "duration": 68,
    "start_time": "2023-09-05T11:18:13.593Z"
   },
   {
    "duration": 18,
    "start_time": "2023-09-05T11:18:27.512Z"
   },
   {
    "duration": 18,
    "start_time": "2023-09-05T11:18:30.959Z"
   },
   {
    "duration": 17,
    "start_time": "2023-09-05T11:18:47.817Z"
   },
   {
    "duration": 65,
    "start_time": "2023-09-05T11:18:53.019Z"
   },
   {
    "duration": 19,
    "start_time": "2023-09-05T11:18:53.657Z"
   },
   {
    "duration": 17,
    "start_time": "2023-09-05T11:18:58.160Z"
   },
   {
    "duration": 18,
    "start_time": "2023-09-05T11:19:10.129Z"
   },
   {
    "duration": 17,
    "start_time": "2023-09-05T11:19:20.941Z"
   },
   {
    "duration": 18,
    "start_time": "2023-09-05T11:19:28.298Z"
   },
   {
    "duration": 16,
    "start_time": "2023-09-05T11:19:40.803Z"
   },
   {
    "duration": 15,
    "start_time": "2023-09-05T11:19:43.530Z"
   },
   {
    "duration": 16,
    "start_time": "2023-09-05T11:19:51.322Z"
   },
   {
    "duration": 25,
    "start_time": "2023-09-05T11:19:57.682Z"
   },
   {
    "duration": 26,
    "start_time": "2023-09-05T11:20:02.214Z"
   },
   {
    "duration": 29,
    "start_time": "2023-09-05T11:20:49.979Z"
   },
   {
    "duration": 17,
    "start_time": "2023-09-05T11:20:56.522Z"
   },
   {
    "duration": 16,
    "start_time": "2023-09-05T11:21:07.627Z"
   },
   {
    "duration": 17,
    "start_time": "2023-09-05T11:21:08.730Z"
   },
   {
    "duration": 18,
    "start_time": "2023-09-05T11:21:20.523Z"
   },
   {
    "duration": 150,
    "start_time": "2023-09-05T11:21:26.057Z"
   },
   {
    "duration": 121,
    "start_time": "2023-09-05T11:21:28.619Z"
   },
   {
    "duration": 152,
    "start_time": "2023-09-05T11:21:29.092Z"
   },
   {
    "duration": 107,
    "start_time": "2023-09-05T11:21:29.515Z"
   },
   {
    "duration": 137,
    "start_time": "2023-09-05T11:21:30.061Z"
   },
   {
    "duration": 109,
    "start_time": "2023-09-05T11:21:30.605Z"
   },
   {
    "duration": 119,
    "start_time": "2023-09-05T11:21:31.084Z"
   },
   {
    "duration": 93,
    "start_time": "2023-09-05T11:21:31.552Z"
   },
   {
    "duration": 93,
    "start_time": "2023-09-05T11:21:32.060Z"
   },
   {
    "duration": 121,
    "start_time": "2023-09-05T11:21:32.596Z"
   },
   {
    "duration": 112,
    "start_time": "2023-09-05T11:21:33.648Z"
   },
   {
    "duration": 91,
    "start_time": "2023-09-05T11:21:34.165Z"
   },
   {
    "duration": 17,
    "start_time": "2023-09-05T11:21:36.427Z"
   },
   {
    "duration": 1726,
    "start_time": "2023-09-05T11:21:38.572Z"
   },
   {
    "duration": 9,
    "start_time": "2023-09-05T11:21:42.253Z"
   },
   {
    "duration": 11,
    "start_time": "2023-09-05T11:21:43.245Z"
   },
   {
    "duration": 9,
    "start_time": "2023-09-05T11:21:44.298Z"
   },
   {
    "duration": 11,
    "start_time": "2023-09-05T11:21:45.448Z"
   },
   {
    "duration": 18,
    "start_time": "2023-09-05T11:21:46.157Z"
   },
   {
    "duration": 18,
    "start_time": "2023-09-05T11:21:49.068Z"
   },
   {
    "duration": 24,
    "start_time": "2023-09-05T11:21:56.356Z"
   },
   {
    "duration": 32,
    "start_time": "2023-09-05T11:22:00.853Z"
   },
   {
    "duration": 20,
    "start_time": "2023-09-05T11:22:02.163Z"
   },
   {
    "duration": 17,
    "start_time": "2023-09-05T11:22:05.420Z"
   },
   {
    "duration": 50,
    "start_time": "2023-09-05T11:22:30.092Z"
   },
   {
    "duration": 19,
    "start_time": "2023-09-05T11:22:31.269Z"
   },
   {
    "duration": 26,
    "start_time": "2023-09-05T11:22:31.852Z"
   },
   {
    "duration": 28,
    "start_time": "2023-09-05T11:22:36.124Z"
   },
   {
    "duration": 36,
    "start_time": "2023-09-05T11:22:54.451Z"
   },
   {
    "duration": 26,
    "start_time": "2023-09-05T11:23:02.302Z"
   },
   {
    "duration": 19,
    "start_time": "2023-09-05T11:23:31.953Z"
   },
   {
    "duration": 16,
    "start_time": "2023-09-05T11:23:35.501Z"
   },
   {
    "duration": 64,
    "start_time": "2023-09-05T11:23:48.805Z"
   },
   {
    "duration": 17,
    "start_time": "2023-09-05T11:23:49.501Z"
   },
   {
    "duration": 18,
    "start_time": "2023-09-05T11:23:51.153Z"
   },
   {
    "duration": 17,
    "start_time": "2023-09-05T11:23:57.892Z"
   },
   {
    "duration": 18,
    "start_time": "2023-09-05T11:24:02.902Z"
   },
   {
    "duration": 17,
    "start_time": "2023-09-05T11:24:24.087Z"
   },
   {
    "duration": 17,
    "start_time": "2023-09-05T11:24:34.927Z"
   },
   {
    "duration": 16,
    "start_time": "2023-09-05T11:24:42.878Z"
   },
   {
    "duration": 24,
    "start_time": "2023-09-05T11:24:50.957Z"
   },
   {
    "duration": 107,
    "start_time": "2023-09-05T11:26:02.049Z"
   },
   {
    "duration": 18,
    "start_time": "2023-09-05T11:26:04.023Z"
   },
   {
    "duration": 148,
    "start_time": "2023-09-05T11:26:16.055Z"
   },
   {
    "duration": 17,
    "start_time": "2023-09-05T11:26:32.094Z"
   },
   {
    "duration": 19,
    "start_time": "2023-09-05T11:26:36.653Z"
   },
   {
    "duration": 18,
    "start_time": "2023-09-05T11:26:54.767Z"
   },
   {
    "duration": 10,
    "start_time": "2023-09-05T11:27:51.767Z"
   },
   {
    "duration": 7,
    "start_time": "2023-09-05T11:28:03.519Z"
   },
   {
    "duration": 8,
    "start_time": "2023-09-05T11:28:21.871Z"
   },
   {
    "duration": 111,
    "start_time": "2023-09-05T11:30:01.577Z"
   },
   {
    "duration": 27,
    "start_time": "2023-09-05T11:30:11.752Z"
   },
   {
    "duration": 132,
    "start_time": "2023-09-05T11:30:32.370Z"
   },
   {
    "duration": 50,
    "start_time": "2023-09-05T11:30:56.965Z"
   },
   {
    "duration": 18,
    "start_time": "2023-09-05T11:30:57.624Z"
   },
   {
    "duration": 128,
    "start_time": "2023-09-05T11:31:02.547Z"
   },
   {
    "duration": 20,
    "start_time": "2023-09-05T11:31:03.459Z"
   },
   {
    "duration": 1804,
    "start_time": "2023-09-05T11:31:04.113Z"
   },
   {
    "duration": 8,
    "start_time": "2023-09-05T11:31:05.992Z"
   },
   {
    "duration": 14,
    "start_time": "2023-09-05T11:31:06.863Z"
   },
   {
    "duration": 11,
    "start_time": "2023-09-05T11:31:07.488Z"
   },
   {
    "duration": 15,
    "start_time": "2023-09-05T11:31:08.365Z"
   },
   {
    "duration": 17,
    "start_time": "2023-09-05T11:31:09.000Z"
   },
   {
    "duration": 27,
    "start_time": "2023-09-05T11:31:09.792Z"
   },
   {
    "duration": 7,
    "start_time": "2023-09-05T11:31:10.720Z"
   },
   {
    "duration": 18,
    "start_time": "2023-09-05T11:31:12.358Z"
   },
   {
    "duration": 68,
    "start_time": "2023-09-05T11:31:18.647Z"
   },
   {
    "duration": 26,
    "start_time": "2023-09-05T11:31:19.655Z"
   },
   {
    "duration": 27,
    "start_time": "2023-09-05T11:31:21.025Z"
   },
   {
    "duration": 28,
    "start_time": "2023-09-05T11:31:50.202Z"
   },
   {
    "duration": 69,
    "start_time": "2023-09-05T11:32:22.877Z"
   },
   {
    "duration": 16,
    "start_time": "2023-09-05T11:32:23.823Z"
   },
   {
    "duration": 32,
    "start_time": "2023-09-05T11:32:34.522Z"
   },
   {
    "duration": 17,
    "start_time": "2023-09-05T11:32:45.684Z"
   },
   {
    "duration": 20,
    "start_time": "2023-09-05T11:32:50.201Z"
   },
   {
    "duration": 17,
    "start_time": "2023-09-05T11:32:55.143Z"
   },
   {
    "duration": 22,
    "start_time": "2023-09-05T11:33:00.873Z"
   },
   {
    "duration": 17,
    "start_time": "2023-09-05T11:33:05.920Z"
   },
   {
    "duration": 17,
    "start_time": "2023-09-05T11:33:10.161Z"
   },
   {
    "duration": 18,
    "start_time": "2023-09-05T11:33:15.429Z"
   },
   {
    "duration": 99,
    "start_time": "2023-09-05T11:33:40.009Z"
   },
   {
    "duration": 17,
    "start_time": "2023-09-05T11:33:40.705Z"
   },
   {
    "duration": 115,
    "start_time": "2023-09-05T11:34:04.305Z"
   },
   {
    "duration": 17,
    "start_time": "2023-09-05T11:34:05.203Z"
   },
   {
    "duration": 17,
    "start_time": "2023-09-05T11:34:41.708Z"
   },
   {
    "duration": 20,
    "start_time": "2023-09-05T11:34:46.503Z"
   },
   {
    "duration": 98,
    "start_time": "2023-09-05T11:35:20.571Z"
   },
   {
    "duration": 29,
    "start_time": "2023-09-05T11:35:21.266Z"
   },
   {
    "duration": 90,
    "start_time": "2023-09-05T11:35:22.563Z"
   },
   {
    "duration": 129,
    "start_time": "2023-09-05T11:35:30.524Z"
   },
   {
    "duration": 23,
    "start_time": "2023-09-05T11:35:32.157Z"
   },
   {
    "duration": 2076,
    "start_time": "2023-09-05T11:35:32.854Z"
   },
   {
    "duration": 12,
    "start_time": "2023-09-05T11:35:34.971Z"
   },
   {
    "duration": 11,
    "start_time": "2023-09-05T11:35:35.739Z"
   },
   {
    "duration": 9,
    "start_time": "2023-09-05T11:35:36.291Z"
   },
   {
    "duration": 12,
    "start_time": "2023-09-05T11:35:37.051Z"
   },
   {
    "duration": 17,
    "start_time": "2023-09-05T11:35:37.571Z"
   },
   {
    "duration": 34,
    "start_time": "2023-09-05T11:35:38.342Z"
   },
   {
    "duration": 8,
    "start_time": "2023-09-05T11:35:43.838Z"
   },
   {
    "duration": 17,
    "start_time": "2023-09-05T11:35:45.378Z"
   },
   {
    "duration": 113,
    "start_time": "2023-09-05T11:36:18.539Z"
   },
   {
    "duration": 19,
    "start_time": "2023-09-05T11:36:20.739Z"
   },
   {
    "duration": 26,
    "start_time": "2023-09-05T11:36:26.189Z"
   },
   {
    "duration": 22,
    "start_time": "2023-09-05T11:36:37.243Z"
   },
   {
    "duration": 25,
    "start_time": "2023-09-05T11:36:41.900Z"
   },
   {
    "duration": 9,
    "start_time": "2023-09-05T11:36:51.580Z"
   },
   {
    "duration": 18,
    "start_time": "2023-09-05T13:56:51.338Z"
   },
   {
    "duration": 5,
    "start_time": "2023-09-05T16:14:57.260Z"
   },
   {
    "duration": 6,
    "start_time": "2023-09-05T16:15:05.861Z"
   },
   {
    "duration": 7,
    "start_time": "2023-09-05T16:17:21.014Z"
   },
   {
    "duration": 5,
    "start_time": "2023-09-05T16:17:25.477Z"
   },
   {
    "duration": 10,
    "start_time": "2023-09-05T16:18:30.999Z"
   },
   {
    "duration": 5,
    "start_time": "2023-09-05T16:18:35.006Z"
   },
   {
    "duration": 13,
    "start_time": "2023-09-05T16:18:54.294Z"
   },
   {
    "duration": 5,
    "start_time": "2023-09-05T16:18:56.528Z"
   },
   {
    "duration": 20,
    "start_time": "2023-09-05T16:19:02.246Z"
   },
   {
    "duration": 3,
    "start_time": "2023-09-05T16:21:38.111Z"
   },
   {
    "duration": 406,
    "start_time": "2023-09-05T16:23:48.705Z"
   },
   {
    "duration": 7,
    "start_time": "2023-09-05T16:23:55.230Z"
   },
   {
    "duration": 7,
    "start_time": "2023-09-05T16:24:08.672Z"
   },
   {
    "duration": 15,
    "start_time": "2023-09-05T16:28:48.005Z"
   },
   {
    "duration": 5,
    "start_time": "2023-09-05T16:28:54.875Z"
   },
   {
    "duration": 6,
    "start_time": "2023-09-05T16:29:01.769Z"
   },
   {
    "duration": 15,
    "start_time": "2023-09-05T16:29:10.884Z"
   },
   {
    "duration": 6,
    "start_time": "2023-09-05T16:29:48.892Z"
   },
   {
    "duration": 16,
    "start_time": "2023-09-05T16:30:05.868Z"
   },
   {
    "duration": 122,
    "start_time": "2023-09-05T17:18:00.783Z"
   },
   {
    "duration": 12,
    "start_time": "2023-09-05T17:18:03.459Z"
   },
   {
    "duration": 1771,
    "start_time": "2023-09-05T17:18:04.462Z"
   },
   {
    "duration": 9,
    "start_time": "2023-09-05T17:18:07.153Z"
   },
   {
    "duration": 10,
    "start_time": "2023-09-05T17:18:07.806Z"
   },
   {
    "duration": 8,
    "start_time": "2023-09-05T17:18:08.691Z"
   },
   {
    "duration": 11,
    "start_time": "2023-09-05T17:18:08.886Z"
   },
   {
    "duration": 12,
    "start_time": "2023-09-05T17:18:09.934Z"
   },
   {
    "duration": 12,
    "start_time": "2023-09-05T17:18:10.782Z"
   },
   {
    "duration": 7,
    "start_time": "2023-09-05T17:18:11.762Z"
   },
   {
    "duration": 13,
    "start_time": "2023-09-05T17:18:12.598Z"
   },
   {
    "duration": 12,
    "start_time": "2023-09-05T17:18:13.335Z"
   },
   {
    "duration": 18,
    "start_time": "2023-09-05T17:18:13.902Z"
   },
   {
    "duration": 7,
    "start_time": "2023-09-05T17:18:14.458Z"
   },
   {
    "duration": 67,
    "start_time": "2023-09-05T17:18:15.007Z"
   },
   {
    "duration": 69,
    "start_time": "2023-09-05T17:18:15.842Z"
   },
   {
    "duration": 8,
    "start_time": "2023-09-05T17:18:17.102Z"
   },
   {
    "duration": 17,
    "start_time": "2023-09-05T17:18:18.119Z"
   },
   {
    "duration": 13,
    "start_time": "2023-09-05T17:18:20.087Z"
   },
   {
    "duration": 3,
    "start_time": "2023-09-05T17:18:21.127Z"
   },
   {
    "duration": 294,
    "start_time": "2023-09-05T17:18:21.702Z"
   },
   {
    "duration": 4,
    "start_time": "2023-09-05T17:18:22.860Z"
   },
   {
    "duration": 15,
    "start_time": "2023-09-05T17:18:23.566Z"
   },
   {
    "duration": 139,
    "start_time": "2023-09-05T17:19:06.575Z"
   },
   {
    "duration": 160,
    "start_time": "2023-09-05T17:19:27.327Z"
   },
   {
    "duration": 158,
    "start_time": "2023-09-05T17:19:32.807Z"
   },
   {
    "duration": 149,
    "start_time": "2023-09-05T17:19:41.456Z"
   },
   {
    "duration": 8,
    "start_time": "2023-09-05T17:21:03.577Z"
   },
   {
    "duration": 6,
    "start_time": "2023-09-05T17:22:50.883Z"
   },
   {
    "duration": 8,
    "start_time": "2023-09-05T17:26:06.476Z"
   },
   {
    "duration": 9,
    "start_time": "2023-09-05T17:26:19.476Z"
   },
   {
    "duration": 9,
    "start_time": "2023-09-05T17:26:28.589Z"
   },
   {
    "duration": 164,
    "start_time": "2023-09-05T17:26:43.629Z"
   },
   {
    "duration": 158,
    "start_time": "2023-09-05T17:26:52.269Z"
   },
   {
    "duration": 8,
    "start_time": "2023-09-05T17:27:41.390Z"
   },
   {
    "duration": 9,
    "start_time": "2023-09-05T17:27:55.259Z"
   },
   {
    "duration": 9,
    "start_time": "2023-09-05T17:28:00.139Z"
   },
   {
    "duration": 8,
    "start_time": "2023-09-05T17:28:03.447Z"
   },
   {
    "duration": 12,
    "start_time": "2023-09-05T17:28:55.553Z"
   },
   {
    "duration": 345,
    "start_time": "2023-09-05T17:32:10.665Z"
   },
   {
    "duration": 164,
    "start_time": "2023-09-05T17:32:28.765Z"
   },
   {
    "duration": 188,
    "start_time": "2023-09-05T17:32:35.647Z"
   },
   {
    "duration": 137,
    "start_time": "2023-09-05T17:32:57.426Z"
   },
   {
    "duration": 198,
    "start_time": "2023-09-05T17:33:02.563Z"
   },
   {
    "duration": 151,
    "start_time": "2023-09-05T17:33:11.661Z"
   },
   {
    "duration": 63,
    "start_time": "2023-09-06T08:47:42.549Z"
   },
   {
    "duration": 2058,
    "start_time": "2023-09-06T08:47:46.977Z"
   },
   {
    "duration": 24,
    "start_time": "2023-09-06T08:47:49.038Z"
   },
   {
    "duration": 2496,
    "start_time": "2023-09-06T08:47:49.064Z"
   },
   {
    "duration": 19,
    "start_time": "2023-09-06T08:47:51.572Z"
   },
   {
    "duration": 11,
    "start_time": "2023-09-06T08:47:51.593Z"
   },
   {
    "duration": 14,
    "start_time": "2023-09-06T08:47:51.606Z"
   },
   {
    "duration": 42,
    "start_time": "2023-09-06T08:47:51.622Z"
   },
   {
    "duration": 28,
    "start_time": "2023-09-06T08:47:51.666Z"
   },
   {
    "duration": 22,
    "start_time": "2023-09-06T08:47:51.697Z"
   },
   {
    "duration": 21,
    "start_time": "2023-09-06T08:47:51.722Z"
   },
   {
    "duration": 109,
    "start_time": "2023-09-06T08:47:51.754Z"
   },
   {
    "duration": 10,
    "start_time": "2023-09-06T08:47:51.865Z"
   },
   {
    "duration": 20,
    "start_time": "2023-09-06T08:47:52.299Z"
   },
   {
    "duration": 14,
    "start_time": "2023-09-06T08:47:53.391Z"
   },
   {
    "duration": 9,
    "start_time": "2023-09-06T08:47:53.773Z"
   },
   {
    "duration": 397,
    "start_time": "2023-09-06T08:47:54.175Z"
   },
   {
    "duration": 7,
    "start_time": "2023-09-06T08:47:54.577Z"
   },
   {
    "duration": 15,
    "start_time": "2023-09-06T08:47:55.404Z"
   },
   {
    "duration": 230,
    "start_time": "2023-09-06T08:47:56.300Z"
   },
   {
    "duration": 10,
    "start_time": "2023-09-06T08:47:56.776Z"
   },
   {
    "duration": 9,
    "start_time": "2023-09-06T08:47:57.396Z"
   },
   {
    "duration": 202,
    "start_time": "2023-09-06T08:47:58.573Z"
   },
   {
    "duration": 10,
    "start_time": "2023-09-06T08:47:59.269Z"
   },
   {
    "duration": 311,
    "start_time": "2023-09-06T08:48:00.273Z"
   },
   {
    "duration": 203,
    "start_time": "2023-09-06T08:48:11.175Z"
   },
   {
    "duration": 196,
    "start_time": "2023-09-06T08:48:42.051Z"
   },
   {
    "duration": 9,
    "start_time": "2023-09-06T08:48:43.780Z"
   },
   {
    "duration": 229,
    "start_time": "2023-09-06T08:48:46.517Z"
   },
   {
    "duration": 10,
    "start_time": "2023-09-06T08:48:56.776Z"
   },
   {
    "duration": 200,
    "start_time": "2023-09-06T08:49:25.397Z"
   },
   {
    "duration": 206,
    "start_time": "2023-09-06T08:49:36.576Z"
   },
   {
    "duration": 12,
    "start_time": "2023-09-06T08:49:51.472Z"
   },
   {
    "duration": 200,
    "start_time": "2023-09-06T08:50:47.171Z"
   },
   {
    "duration": 207,
    "start_time": "2023-09-06T08:50:58.676Z"
   },
   {
    "duration": 260,
    "start_time": "2023-09-06T08:51:02.281Z"
   },
   {
    "duration": 12,
    "start_time": "2023-09-06T08:51:13.677Z"
   },
   {
    "duration": 14,
    "start_time": "2023-09-06T08:52:24.081Z"
   },
   {
    "duration": 9,
    "start_time": "2023-09-06T08:52:37.883Z"
   },
   {
    "duration": 12,
    "start_time": "2023-09-06T08:53:27.488Z"
   },
   {
    "duration": 225,
    "start_time": "2023-09-06T08:54:26.385Z"
   },
   {
    "duration": 244,
    "start_time": "2023-09-06T08:54:31.897Z"
   },
   {
    "duration": 373,
    "start_time": "2023-09-06T08:54:36.610Z"
   },
   {
    "duration": 189,
    "start_time": "2023-09-06T08:54:40.574Z"
   },
   {
    "duration": 239,
    "start_time": "2023-09-06T08:54:46.297Z"
   },
   {
    "duration": 186,
    "start_time": "2023-09-06T08:55:03.440Z"
   },
   {
    "duration": 10,
    "start_time": "2023-09-06T08:55:12.874Z"
   },
   {
    "duration": 2266,
    "start_time": "2023-09-06T08:58:18.140Z"
   },
   {
    "duration": 145,
    "start_time": "2023-09-06T08:58:39.781Z"
   },
   {
    "duration": 177,
    "start_time": "2023-09-06T08:58:44.865Z"
   },
   {
    "duration": 151,
    "start_time": "2023-09-06T08:58:49.205Z"
   },
   {
    "duration": 2128,
    "start_time": "2023-09-06T08:59:26.754Z"
   },
   {
    "duration": 160,
    "start_time": "2023-09-06T08:59:30.659Z"
   },
   {
    "duration": 240,
    "start_time": "2023-09-06T08:59:36.510Z"
   },
   {
    "duration": 216,
    "start_time": "2023-09-06T08:59:41.599Z"
   },
   {
    "duration": 210,
    "start_time": "2023-09-06T08:59:47.502Z"
   },
   {
    "duration": 18,
    "start_time": "2023-09-06T09:00:03.142Z"
   },
   {
    "duration": 259,
    "start_time": "2023-09-06T09:00:47.944Z"
   },
   {
    "duration": 263,
    "start_time": "2023-09-06T09:00:52.925Z"
   },
   {
    "duration": 9,
    "start_time": "2023-09-06T09:01:04.192Z"
   },
   {
    "duration": 229,
    "start_time": "2023-09-06T09:01:36.688Z"
   },
   {
    "duration": 359,
    "start_time": "2023-09-06T09:01:41.075Z"
   },
   {
    "duration": 216,
    "start_time": "2023-09-06T09:01:45.172Z"
   },
   {
    "duration": 217,
    "start_time": "2023-09-06T09:01:48.372Z"
   },
   {
    "duration": 217,
    "start_time": "2023-09-06T09:01:53.575Z"
   },
   {
    "duration": 10,
    "start_time": "2023-09-06T09:02:04.712Z"
   },
   {
    "duration": 11,
    "start_time": "2023-09-06T09:14:51.669Z"
   },
   {
    "duration": 152,
    "start_time": "2023-09-06T15:24:46.104Z"
   },
   {
    "duration": 155,
    "start_time": "2023-09-06T15:24:52.002Z"
   },
   {
    "duration": 186,
    "start_time": "2023-09-06T15:24:55.794Z"
   },
   {
    "duration": 160,
    "start_time": "2023-09-06T15:25:04.770Z"
   },
   {
    "duration": 177,
    "start_time": "2023-09-06T15:25:30.259Z"
   },
   {
    "duration": 149,
    "start_time": "2023-09-06T15:25:37.915Z"
   },
   {
    "duration": 1424,
    "start_time": "2023-09-06T15:26:11.259Z"
   },
   {
    "duration": 180,
    "start_time": "2023-09-06T15:26:26.828Z"
   },
   {
    "duration": 140,
    "start_time": "2023-09-06T15:26:39.707Z"
   },
   {
    "duration": 140,
    "start_time": "2023-09-06T15:26:47.051Z"
   },
   {
    "duration": 222,
    "start_time": "2023-09-06T15:26:55.889Z"
   },
   {
    "duration": 8,
    "start_time": "2023-09-06T15:27:26.773Z"
   },
   {
    "duration": 179,
    "start_time": "2023-09-06T15:27:41.693Z"
   },
   {
    "duration": 364,
    "start_time": "2023-09-06T15:50:13.278Z"
   },
   {
    "duration": 12,
    "start_time": "2023-09-06T15:50:15.485Z"
   },
   {
    "duration": 52,
    "start_time": "2023-09-07T07:34:35.762Z"
   },
   {
    "duration": 1472,
    "start_time": "2023-09-07T07:34:41.744Z"
   },
   {
    "duration": 112,
    "start_time": "2023-09-07T07:34:43.776Z"
   },
   {
    "duration": 19,
    "start_time": "2023-09-07T07:34:44.295Z"
   },
   {
    "duration": 2183,
    "start_time": "2023-09-07T07:34:44.712Z"
   },
   {
    "duration": 11,
    "start_time": "2023-09-07T07:34:46.897Z"
   },
   {
    "duration": 13,
    "start_time": "2023-09-07T07:34:46.910Z"
   },
   {
    "duration": 9,
    "start_time": "2023-09-07T07:34:46.926Z"
   },
   {
    "duration": 17,
    "start_time": "2023-09-07T07:34:46.937Z"
   },
   {
    "duration": 14,
    "start_time": "2023-09-07T07:34:46.956Z"
   },
   {
    "duration": 30,
    "start_time": "2023-09-07T07:34:47.616Z"
   },
   {
    "duration": 11,
    "start_time": "2023-09-07T07:34:48.135Z"
   },
   {
    "duration": 93,
    "start_time": "2023-09-07T07:34:48.568Z"
   },
   {
    "duration": 9,
    "start_time": "2023-09-07T07:34:49.008Z"
   },
   {
    "duration": 22,
    "start_time": "2023-09-07T07:34:49.472Z"
   },
   {
    "duration": 18,
    "start_time": "2023-09-07T07:34:50.303Z"
   },
   {
    "duration": 7,
    "start_time": "2023-09-07T07:34:50.714Z"
   },
   {
    "duration": 369,
    "start_time": "2023-09-07T07:34:51.088Z"
   },
   {
    "duration": 4,
    "start_time": "2023-09-07T07:34:51.472Z"
   },
   {
    "duration": 16,
    "start_time": "2023-09-07T07:34:51.880Z"
   },
   {
    "duration": 217,
    "start_time": "2023-09-07T07:34:52.712Z"
   },
   {
    "duration": 13,
    "start_time": "2023-09-07T07:34:53.112Z"
   },
   {
    "duration": 193,
    "start_time": "2023-09-07T07:34:53.544Z"
   },
   {
    "duration": 11,
    "start_time": "2023-09-07T07:34:53.975Z"
   },
   {
    "duration": 186,
    "start_time": "2023-09-07T07:34:54.424Z"
   },
   {
    "duration": 10,
    "start_time": "2023-09-07T07:34:54.799Z"
   },
   {
    "duration": 293,
    "start_time": "2023-09-07T07:34:55.280Z"
   },
   {
    "duration": 9,
    "start_time": "2023-09-07T07:34:55.752Z"
   },
   {
    "duration": 159,
    "start_time": "2023-09-07T07:34:56.239Z"
   },
   {
    "duration": 9,
    "start_time": "2023-09-07T07:34:56.688Z"
   },
   {
    "duration": 11,
    "start_time": "2023-09-07T07:34:57.368Z"
   },
   {
    "duration": 164,
    "start_time": "2023-09-07T07:35:03.720Z"
   },
   {
    "duration": 10,
    "start_time": "2023-09-07T07:35:04.288Z"
   },
   {
    "duration": 131,
    "start_time": "2023-09-07T07:35:04.817Z"
   },
   {
    "duration": 184,
    "start_time": "2023-09-07T07:35:05.344Z"
   },
   {
    "duration": 10,
    "start_time": "2023-09-07T07:35:05.872Z"
   },
   {
    "duration": 191,
    "start_time": "2023-09-07T07:35:06.424Z"
   },
   {
    "duration": 9,
    "start_time": "2023-09-07T07:35:06.961Z"
   },
   {
    "duration": 181,
    "start_time": "2023-09-07T07:35:07.473Z"
   },
   {
    "duration": 11,
    "start_time": "2023-09-07T07:35:07.975Z"
   },
   {
    "duration": 184,
    "start_time": "2023-09-07T07:35:09.120Z"
   },
   {
    "duration": 15,
    "start_time": "2023-09-07T07:35:09.728Z"
   },
   {
    "duration": 13,
    "start_time": "2023-09-07T07:36:42.697Z"
   },
   {
    "duration": 169,
    "start_time": "2023-09-07T07:37:12.993Z"
   },
   {
    "duration": 8,
    "start_time": "2023-09-07T07:43:12.644Z"
   },
   {
    "duration": 158,
    "start_time": "2023-09-07T07:44:47.848Z"
   },
   {
    "duration": 7,
    "start_time": "2023-09-07T07:45:18.271Z"
   },
   {
    "duration": 139,
    "start_time": "2023-09-07T07:48:04.353Z"
   },
   {
    "duration": 7,
    "start_time": "2023-09-07T07:48:14.218Z"
   },
   {
    "duration": 7,
    "start_time": "2023-09-07T07:48:20.809Z"
   },
   {
    "duration": 238,
    "start_time": "2023-09-07T07:49:34.021Z"
   },
   {
    "duration": 10,
    "start_time": "2023-09-07T07:49:35.325Z"
   },
   {
    "duration": 176,
    "start_time": "2023-09-07T07:49:36.835Z"
   },
   {
    "duration": 7,
    "start_time": "2023-09-07T07:49:38.426Z"
   },
   {
    "duration": 170,
    "start_time": "2023-09-07T07:49:39.575Z"
   },
   {
    "duration": 7,
    "start_time": "2023-09-07T07:49:41.586Z"
   },
   {
    "duration": 154,
    "start_time": "2023-09-07T07:49:42.762Z"
   },
   {
    "duration": 186,
    "start_time": "2023-09-07T07:50:12.979Z"
   },
   {
    "duration": 41,
    "start_time": "2023-09-07T07:50:55.091Z"
   },
   {
    "duration": 249,
    "start_time": "2023-09-07T07:50:58.980Z"
   },
   {
    "duration": 194,
    "start_time": "2023-09-07T07:51:09.708Z"
   },
   {
    "duration": 195,
    "start_time": "2023-09-07T07:52:02.893Z"
   },
   {
    "duration": 174,
    "start_time": "2023-09-07T07:52:16.749Z"
   },
   {
    "duration": 155,
    "start_time": "2023-09-07T07:52:27.028Z"
   },
   {
    "duration": 195,
    "start_time": "2023-09-07T07:52:52.668Z"
   },
   {
    "duration": 387,
    "start_time": "2023-09-07T07:53:06.054Z"
   },
   {
    "duration": 163,
    "start_time": "2023-09-07T07:53:09.557Z"
   },
   {
    "duration": 48,
    "start_time": "2023-09-07T07:53:38.102Z"
   },
   {
    "duration": 46,
    "start_time": "2023-09-07T07:53:47.174Z"
   },
   {
    "duration": 185,
    "start_time": "2023-09-07T07:53:54.855Z"
   },
   {
    "duration": 159,
    "start_time": "2023-09-07T07:54:34.542Z"
   },
   {
    "duration": 11,
    "start_time": "2023-09-07T07:54:56.031Z"
   },
   {
    "duration": 5,
    "start_time": "2023-09-07T07:55:14.287Z"
   },
   {
    "duration": 146,
    "start_time": "2023-09-07T07:57:24.409Z"
   },
   {
    "duration": 495,
    "start_time": "2023-09-07T07:57:49.457Z"
   },
   {
    "duration": 391,
    "start_time": "2023-09-07T07:58:03.450Z"
   },
   {
    "duration": 31,
    "start_time": "2023-09-07T07:59:21.666Z"
   },
   {
    "duration": 163,
    "start_time": "2023-09-07T08:01:29.493Z"
   },
   {
    "duration": 6,
    "start_time": "2023-09-07T08:01:44.707Z"
   },
   {
    "duration": 161,
    "start_time": "2023-09-07T08:03:47.356Z"
   },
   {
    "duration": 5,
    "start_time": "2023-09-07T08:04:01.277Z"
   },
   {
    "duration": 150,
    "start_time": "2023-09-07T08:06:04.439Z"
   },
   {
    "duration": 6,
    "start_time": "2023-09-07T08:06:28.359Z"
   },
   {
    "duration": 12,
    "start_time": "2023-09-07T12:02:43.751Z"
   },
   {
    "duration": 26,
    "start_time": "2023-09-07T12:03:43.927Z"
   },
   {
    "duration": 26,
    "start_time": "2023-09-07T12:03:50.127Z"
   },
   {
    "duration": 30,
    "start_time": "2023-09-07T12:04:06.447Z"
   },
   {
    "duration": 5,
    "start_time": "2023-09-07T12:04:28.224Z"
   },
   {
    "duration": 29,
    "start_time": "2023-09-07T12:04:41.962Z"
   },
   {
    "duration": 28,
    "start_time": "2023-09-07T12:05:05.913Z"
   },
   {
    "duration": 25,
    "start_time": "2023-09-07T12:05:33.536Z"
   },
   {
    "duration": 16,
    "start_time": "2023-09-07T12:13:09.614Z"
   },
   {
    "duration": 6,
    "start_time": "2023-09-07T12:13:28.231Z"
   },
   {
    "duration": 43,
    "start_time": "2023-09-07T12:45:11.603Z"
   },
   {
    "duration": 36,
    "start_time": "2023-09-07T12:45:24.908Z"
   },
   {
    "duration": 25,
    "start_time": "2023-09-07T12:46:20.752Z"
   },
   {
    "duration": 47,
    "start_time": "2023-09-07T12:46:52.816Z"
   },
   {
    "duration": 33,
    "start_time": "2023-09-07T12:47:13.614Z"
   },
   {
    "duration": 34,
    "start_time": "2023-09-07T12:47:38.344Z"
   },
   {
    "duration": 48,
    "start_time": "2023-09-07T12:47:39.903Z"
   },
   {
    "duration": 41,
    "start_time": "2023-09-07T12:47:45.613Z"
   },
   {
    "duration": 20,
    "start_time": "2023-09-07T12:48:01.137Z"
   },
   {
    "duration": 31,
    "start_time": "2023-09-07T12:48:09.607Z"
   },
   {
    "duration": 194,
    "start_time": "2023-09-07T12:48:40.833Z"
   },
   {
    "duration": 52,
    "start_time": "2023-09-07T15:24:43.093Z"
   },
   {
    "duration": 1596,
    "start_time": "2023-09-07T15:24:47.567Z"
   },
   {
    "duration": 19,
    "start_time": "2023-09-07T15:24:49.164Z"
   },
   {
    "duration": 2139,
    "start_time": "2023-09-07T15:24:49.184Z"
   },
   {
    "duration": 10,
    "start_time": "2023-09-07T15:24:51.326Z"
   },
   {
    "duration": 13,
    "start_time": "2023-09-07T15:24:51.338Z"
   },
   {
    "duration": 20,
    "start_time": "2023-09-07T15:24:51.352Z"
   },
   {
    "duration": 15,
    "start_time": "2023-09-07T15:24:51.374Z"
   },
   {
    "duration": 15,
    "start_time": "2023-09-07T15:24:51.990Z"
   },
   {
    "duration": 26,
    "start_time": "2023-09-07T15:24:52.550Z"
   },
   {
    "duration": 9,
    "start_time": "2023-09-07T15:24:53.126Z"
   },
   {
    "duration": 83,
    "start_time": "2023-09-07T15:24:53.621Z"
   },
   {
    "duration": 9,
    "start_time": "2023-09-07T15:24:54.013Z"
   },
   {
    "duration": 19,
    "start_time": "2023-09-07T15:24:54.432Z"
   },
   {
    "duration": 18,
    "start_time": "2023-09-07T15:24:55.254Z"
   },
   {
    "duration": 3,
    "start_time": "2023-09-07T15:24:55.566Z"
   },
   {
    "duration": 342,
    "start_time": "2023-09-07T15:24:55.798Z"
   },
   {
    "duration": 5,
    "start_time": "2023-09-07T15:24:56.142Z"
   },
   {
    "duration": 6,
    "start_time": "2023-09-07T15:24:56.350Z"
   },
   {
    "duration": 16,
    "start_time": "2023-09-07T15:24:56.741Z"
   },
   {
    "duration": 197,
    "start_time": "2023-09-07T15:24:57.387Z"
   },
   {
    "duration": 9,
    "start_time": "2023-09-07T15:24:57.614Z"
   },
   {
    "duration": 200,
    "start_time": "2023-09-07T15:24:57.806Z"
   },
   {
    "duration": 10,
    "start_time": "2023-09-07T15:24:58.053Z"
   },
   {
    "duration": 186,
    "start_time": "2023-09-07T15:24:58.326Z"
   },
   {
    "duration": 9,
    "start_time": "2023-09-07T15:24:58.590Z"
   },
   {
    "duration": 275,
    "start_time": "2023-09-07T15:24:58.958Z"
   },
   {
    "duration": 10,
    "start_time": "2023-09-07T15:24:59.309Z"
   },
   {
    "duration": 171,
    "start_time": "2023-09-07T15:24:59.566Z"
   },
   {
    "duration": 11,
    "start_time": "2023-09-07T15:24:59.837Z"
   },
   {
    "duration": 11,
    "start_time": "2023-09-07T15:25:00.110Z"
   },
   {
    "duration": 162,
    "start_time": "2023-09-07T15:25:00.406Z"
   },
   {
    "duration": 11,
    "start_time": "2023-09-07T15:25:00.694Z"
   },
   {
    "duration": 133,
    "start_time": "2023-09-07T15:25:00.990Z"
   },
   {
    "duration": 174,
    "start_time": "2023-09-07T15:25:01.293Z"
   },
   {
    "duration": 10,
    "start_time": "2023-09-07T15:25:01.590Z"
   },
   {
    "duration": 202,
    "start_time": "2023-09-07T15:25:01.886Z"
   },
   {
    "duration": 10,
    "start_time": "2023-09-07T15:25:02.187Z"
   },
   {
    "duration": 228,
    "start_time": "2023-09-07T15:25:02.446Z"
   },
   {
    "duration": 10,
    "start_time": "2023-09-07T15:25:02.733Z"
   },
   {
    "duration": 188,
    "start_time": "2023-09-07T15:25:04.021Z"
   },
   {
    "duration": 18,
    "start_time": "2023-09-07T15:25:05.293Z"
   },
   {
    "duration": 152,
    "start_time": "2023-09-07T15:25:06.110Z"
   },
   {
    "duration": 6,
    "start_time": "2023-09-07T15:25:06.510Z"
   },
   {
    "duration": 156,
    "start_time": "2023-09-07T15:25:07.318Z"
   },
   {
    "duration": 6,
    "start_time": "2023-09-07T15:25:07.684Z"
   },
   {
    "duration": 145,
    "start_time": "2023-09-07T15:25:08.446Z"
   },
   {
    "duration": 6,
    "start_time": "2023-09-07T15:25:08.894Z"
   },
   {
    "duration": 250,
    "start_time": "2023-09-07T15:25:09.653Z"
   },
   {
    "duration": 6,
    "start_time": "2023-09-07T15:25:09.989Z"
   },
   {
    "duration": 137,
    "start_time": "2023-09-07T15:25:10.686Z"
   },
   {
    "duration": 31,
    "start_time": "2023-09-07T15:25:11.070Z"
   },
   {
    "duration": 169,
    "start_time": "2023-09-07T15:25:11.734Z"
   },
   {
    "duration": 5,
    "start_time": "2023-09-07T15:25:12.110Z"
   },
   {
    "duration": 204,
    "start_time": "2023-09-07T15:25:12.710Z"
   },
   {
    "duration": 6,
    "start_time": "2023-09-07T15:25:13.046Z"
   },
   {
    "duration": 168,
    "start_time": "2023-09-07T15:25:13.695Z"
   },
   {
    "duration": 6,
    "start_time": "2023-09-07T15:25:14.074Z"
   },
   {
    "duration": 30,
    "start_time": "2023-09-07T15:25:14.742Z"
   },
   {
    "duration": 187,
    "start_time": "2023-09-07T15:25:15.405Z"
   },
   {
    "duration": 149,
    "start_time": "2023-09-07T15:56:26.298Z"
   },
   {
    "duration": 27,
    "start_time": "2023-09-07T15:56:26.969Z"
   },
   {
    "duration": 2312,
    "start_time": "2023-09-07T15:56:27.937Z"
   },
   {
    "duration": 11,
    "start_time": "2023-09-07T15:56:30.252Z"
   },
   {
    "duration": 39,
    "start_time": "2023-09-07T15:56:30.265Z"
   },
   {
    "duration": 40,
    "start_time": "2023-09-07T15:56:30.307Z"
   },
   {
    "duration": 14,
    "start_time": "2023-09-07T15:56:30.754Z"
   },
   {
    "duration": 15,
    "start_time": "2023-09-07T15:56:31.337Z"
   },
   {
    "duration": 20,
    "start_time": "2023-09-07T15:56:31.985Z"
   },
   {
    "duration": 11,
    "start_time": "2023-09-07T15:56:32.531Z"
   },
   {
    "duration": 82,
    "start_time": "2023-09-07T15:56:33.090Z"
   },
   {
    "duration": 9,
    "start_time": "2023-09-07T15:56:33.601Z"
   },
   {
    "duration": 21,
    "start_time": "2023-09-07T15:56:34.755Z"
   },
   {
    "duration": 17,
    "start_time": "2023-09-07T15:56:35.107Z"
   },
   {
    "duration": 3,
    "start_time": "2023-09-07T15:56:35.650Z"
   },
   {
    "duration": 349,
    "start_time": "2023-09-07T15:56:36.145Z"
   },
   {
    "duration": 4,
    "start_time": "2023-09-07T15:56:36.633Z"
   },
   {
    "duration": 6,
    "start_time": "2023-09-07T15:56:37.138Z"
   },
   {
    "duration": 16,
    "start_time": "2023-09-07T15:56:37.634Z"
   },
   {
    "duration": 202,
    "start_time": "2023-09-07T15:56:38.584Z"
   },
   {
    "duration": 11,
    "start_time": "2023-09-07T15:56:39.049Z"
   },
   {
    "duration": 191,
    "start_time": "2023-09-07T15:56:39.587Z"
   },
   {
    "duration": 11,
    "start_time": "2023-09-07T15:56:40.097Z"
   },
   {
    "duration": 201,
    "start_time": "2023-09-07T15:56:40.583Z"
   },
   {
    "duration": 10,
    "start_time": "2023-09-07T15:56:41.122Z"
   },
   {
    "duration": 241,
    "start_time": "2023-09-07T15:56:41.642Z"
   },
   {
    "duration": 9,
    "start_time": "2023-09-07T15:56:42.114Z"
   },
   {
    "duration": 210,
    "start_time": "2023-09-07T15:56:42.610Z"
   },
   {
    "duration": 13,
    "start_time": "2023-09-07T15:56:43.116Z"
   },
   {
    "duration": 168,
    "start_time": "2023-09-07T15:56:43.618Z"
   },
   {
    "duration": 9,
    "start_time": "2023-09-07T15:56:44.125Z"
   },
   {
    "duration": 270,
    "start_time": "2023-09-07T15:56:44.561Z"
   },
   {
    "duration": 198,
    "start_time": "2023-09-07T15:56:45.218Z"
   },
   {
    "duration": 10,
    "start_time": "2023-09-07T15:56:45.698Z"
   },
   {
    "duration": 202,
    "start_time": "2023-09-07T15:56:46.530Z"
   },
   {
    "duration": 10,
    "start_time": "2023-09-07T15:56:47.130Z"
   },
   {
    "duration": 186,
    "start_time": "2023-09-07T15:56:47.602Z"
   },
   {
    "duration": 14,
    "start_time": "2023-09-07T15:56:48.065Z"
   },
   {
    "duration": 191,
    "start_time": "2023-09-07T15:56:49.224Z"
   },
   {
    "duration": 11,
    "start_time": "2023-09-07T15:56:57.667Z"
   },
   {
    "duration": 166,
    "start_time": "2023-09-07T15:56:58.514Z"
   },
   {
    "duration": 6,
    "start_time": "2023-09-07T15:56:59.018Z"
   },
   {
    "duration": 167,
    "start_time": "2023-09-07T15:56:59.945Z"
   },
   {
    "duration": 7,
    "start_time": "2023-09-07T15:57:00.529Z"
   },
   {
    "duration": 149,
    "start_time": "2023-09-07T15:57:01.337Z"
   },
   {
    "duration": 6,
    "start_time": "2023-09-07T15:57:01.850Z"
   },
   {
    "duration": 179,
    "start_time": "2023-09-07T15:57:02.649Z"
   },
   {
    "duration": 6,
    "start_time": "2023-09-07T15:57:03.087Z"
   },
   {
    "duration": 158,
    "start_time": "2023-09-07T15:57:03.825Z"
   },
   {
    "duration": 34,
    "start_time": "2023-09-07T15:57:04.194Z"
   },
   {
    "duration": 164,
    "start_time": "2023-09-07T15:57:04.915Z"
   },
   {
    "duration": 6,
    "start_time": "2023-09-07T15:57:05.273Z"
   },
   {
    "duration": 168,
    "start_time": "2023-09-07T15:57:06.034Z"
   },
   {
    "duration": 6,
    "start_time": "2023-09-07T15:57:06.387Z"
   },
   {
    "duration": 168,
    "start_time": "2023-09-07T15:57:07.104Z"
   },
   {
    "duration": 6,
    "start_time": "2023-09-07T15:57:07.449Z"
   },
   {
    "duration": 27,
    "start_time": "2023-09-07T15:57:08.162Z"
   },
   {
    "duration": 192,
    "start_time": "2023-09-07T15:57:08.883Z"
   },
   {
    "duration": 1173,
    "start_time": "2023-09-07T16:04:43.290Z"
   },
   {
    "duration": 16,
    "start_time": "2023-09-07T16:04:44.466Z"
   },
   {
    "duration": 2439,
    "start_time": "2023-09-07T16:04:44.484Z"
   },
   {
    "duration": 11,
    "start_time": "2023-09-07T16:04:46.929Z"
   },
   {
    "duration": 11,
    "start_time": "2023-09-07T16:04:46.943Z"
   },
   {
    "duration": 12,
    "start_time": "2023-09-07T16:04:46.956Z"
   },
   {
    "duration": 16,
    "start_time": "2023-09-07T16:04:46.969Z"
   },
   {
    "duration": 33,
    "start_time": "2023-09-07T16:04:46.987Z"
   },
   {
    "duration": 30,
    "start_time": "2023-09-07T16:04:47.022Z"
   },
   {
    "duration": 9,
    "start_time": "2023-09-07T16:04:47.054Z"
   },
   {
    "duration": 114,
    "start_time": "2023-09-07T16:04:47.065Z"
   },
   {
    "duration": 9,
    "start_time": "2023-09-07T16:04:47.181Z"
   },
   {
    "duration": 39,
    "start_time": "2023-09-07T16:04:47.203Z"
   },
   {
    "duration": 26,
    "start_time": "2023-09-07T16:04:47.245Z"
   },
   {
    "duration": 5,
    "start_time": "2023-09-07T16:04:47.273Z"
   },
   {
    "duration": 429,
    "start_time": "2023-09-07T16:04:47.280Z"
   },
   {
    "duration": 8,
    "start_time": "2023-09-07T16:04:47.711Z"
   },
   {
    "duration": 26,
    "start_time": "2023-09-07T16:04:47.723Z"
   },
   {
    "duration": 35,
    "start_time": "2023-09-07T16:04:47.751Z"
   },
   {
    "duration": 208,
    "start_time": "2023-09-07T16:04:47.789Z"
   },
   {
    "duration": 20,
    "start_time": "2023-09-07T16:04:48.000Z"
   },
   {
    "duration": 209,
    "start_time": "2023-09-07T16:04:48.023Z"
   },
   {
    "duration": 10,
    "start_time": "2023-09-07T16:04:48.234Z"
   },
   {
    "duration": 305,
    "start_time": "2023-09-07T16:04:48.246Z"
   },
   {
    "duration": 11,
    "start_time": "2023-09-07T16:04:48.553Z"
   },
   {
    "duration": 316,
    "start_time": "2023-09-07T16:04:48.567Z"
   },
   {
    "duration": 19,
    "start_time": "2023-09-07T16:04:48.885Z"
   },
   {
    "duration": 247,
    "start_time": "2023-09-07T16:04:48.906Z"
   },
   {
    "duration": 9,
    "start_time": "2023-09-07T16:04:49.155Z"
   },
   {
    "duration": 187,
    "start_time": "2023-09-07T16:04:49.166Z"
   },
   {
    "duration": 9,
    "start_time": "2023-09-07T16:04:49.355Z"
   },
   {
    "duration": 178,
    "start_time": "2023-09-07T16:04:49.366Z"
   },
   {
    "duration": 194,
    "start_time": "2023-09-07T16:04:49.546Z"
   },
   {
    "duration": 9,
    "start_time": "2023-09-07T16:04:49.741Z"
   },
   {
    "duration": 307,
    "start_time": "2023-09-07T16:04:49.752Z"
   },
   {
    "duration": 10,
    "start_time": "2023-09-07T16:04:50.061Z"
   },
   {
    "duration": 221,
    "start_time": "2023-09-07T16:04:50.073Z"
   },
   {
    "duration": 27,
    "start_time": "2023-09-07T16:04:50.296Z"
   },
   {
    "duration": 282,
    "start_time": "2023-09-07T16:04:50.330Z"
   },
   {
    "duration": 20,
    "start_time": "2023-09-07T16:04:50.613Z"
   },
   {
    "duration": 523,
    "start_time": "2023-09-07T16:04:50.637Z"
   },
   {
    "duration": 6,
    "start_time": "2023-09-07T16:04:51.162Z"
   },
   {
    "duration": 208,
    "start_time": "2023-09-07T16:04:51.170Z"
   },
   {
    "duration": 55,
    "start_time": "2023-09-07T16:04:51.380Z"
   },
   {
    "duration": 399,
    "start_time": "2023-09-07T16:04:51.437Z"
   },
   {
    "duration": 5,
    "start_time": "2023-09-07T16:04:51.838Z"
   },
   {
    "duration": 214,
    "start_time": "2023-09-07T16:04:51.845Z"
   },
   {
    "duration": 5,
    "start_time": "2023-09-07T16:04:52.061Z"
   },
   {
    "duration": 259,
    "start_time": "2023-09-07T16:04:52.067Z"
   },
   {
    "duration": 34,
    "start_time": "2023-09-07T16:04:52.330Z"
   },
   {
    "duration": 206,
    "start_time": "2023-09-07T16:04:52.366Z"
   },
   {
    "duration": 17,
    "start_time": "2023-09-07T16:04:52.575Z"
   },
   {
    "duration": 226,
    "start_time": "2023-09-07T16:04:52.594Z"
   },
   {
    "duration": 6,
    "start_time": "2023-09-07T16:04:52.821Z"
   },
   {
    "duration": 211,
    "start_time": "2023-09-07T16:04:52.830Z"
   },
   {
    "duration": 10,
    "start_time": "2023-09-07T16:04:53.043Z"
   },
   {
    "duration": 38,
    "start_time": "2023-09-07T16:04:53.055Z"
   },
   {
    "duration": 225,
    "start_time": "2023-09-07T16:04:53.095Z"
   },
   {
    "duration": 1764,
    "start_time": "2023-09-07T16:15:07.638Z"
   },
   {
    "duration": 31,
    "start_time": "2023-09-07T16:15:09.416Z"
   },
   {
    "duration": 5421,
    "start_time": "2023-09-07T16:15:09.449Z"
   },
   {
    "duration": 48,
    "start_time": "2023-09-07T16:15:14.872Z"
   },
   {
    "duration": 37,
    "start_time": "2023-09-07T16:15:14.924Z"
   },
   {
    "duration": 57,
    "start_time": "2023-09-07T16:15:14.967Z"
   },
   {
    "duration": 144,
    "start_time": "2023-09-07T16:15:15.026Z"
   },
   {
    "duration": 156,
    "start_time": "2023-09-07T16:15:15.172Z"
   },
   {
    "duration": 91,
    "start_time": "2023-09-07T16:15:15.335Z"
   },
   {
    "duration": 18,
    "start_time": "2023-09-07T16:15:15.436Z"
   },
   {
    "duration": 350,
    "start_time": "2023-09-07T16:15:15.462Z"
   },
   {
    "duration": 15,
    "start_time": "2023-09-07T16:15:15.814Z"
   },
   {
    "duration": 76,
    "start_time": "2023-09-07T16:15:15.831Z"
   },
   {
    "duration": 34,
    "start_time": "2023-09-07T16:15:15.911Z"
   },
   {
    "duration": 5,
    "start_time": "2023-09-07T16:15:15.948Z"
   },
   {
    "duration": 1104,
    "start_time": "2023-09-07T16:15:15.957Z"
   },
   {
    "duration": 18,
    "start_time": "2023-09-07T16:15:17.105Z"
   },
   {
    "duration": 22,
    "start_time": "2023-09-07T16:15:17.131Z"
   },
   {
    "duration": 90,
    "start_time": "2023-09-07T16:15:17.156Z"
   },
   {
    "duration": 588,
    "start_time": "2023-09-07T16:15:17.248Z"
   },
   {
    "duration": 12,
    "start_time": "2023-09-07T16:15:17.842Z"
   },
   {
    "duration": 370,
    "start_time": "2023-09-07T16:15:17.857Z"
   },
   {
    "duration": 316,
    "start_time": "2023-09-07T16:15:18.229Z"
   },
   {
    "duration": 479,
    "start_time": "2023-09-07T16:15:18.547Z"
   },
   {
    "duration": 29,
    "start_time": "2023-09-07T16:15:19.027Z"
   },
   {
    "duration": 477,
    "start_time": "2023-09-07T16:15:19.057Z"
   },
   {
    "duration": 19,
    "start_time": "2023-09-07T16:15:19.538Z"
   },
   {
    "duration": 441,
    "start_time": "2023-09-07T16:15:19.602Z"
   },
   {
    "duration": 15,
    "start_time": "2023-09-07T16:15:20.045Z"
   },
   {
    "duration": 355,
    "start_time": "2023-09-07T16:15:20.105Z"
   },
   {
    "duration": 47,
    "start_time": "2023-09-07T16:15:20.464Z"
   },
   {
    "duration": 624,
    "start_time": "2023-09-07T16:15:20.515Z"
   },
   {
    "duration": 464,
    "start_time": "2023-09-07T16:15:21.144Z"
   },
   {
    "duration": 19,
    "start_time": "2023-09-07T16:15:21.614Z"
   },
   {
    "duration": 773,
    "start_time": "2023-09-07T16:15:21.640Z"
   },
   {
    "duration": 22,
    "start_time": "2023-09-07T16:15:22.417Z"
   },
   {
    "duration": 493,
    "start_time": "2023-09-07T16:15:22.446Z"
   },
   {
    "duration": 75,
    "start_time": "2023-09-07T16:15:22.944Z"
   },
   {
    "duration": 506,
    "start_time": "2023-09-07T16:15:23.023Z"
   },
   {
    "duration": 19,
    "start_time": "2023-09-07T16:15:23.534Z"
   },
   {
    "duration": 462,
    "start_time": "2023-09-07T16:15:23.558Z"
   },
   {
    "duration": 12,
    "start_time": "2023-09-07T16:15:24.022Z"
   },
   {
    "duration": 491,
    "start_time": "2023-09-07T16:15:24.036Z"
   },
   {
    "duration": 7,
    "start_time": "2023-09-07T16:15:24.541Z"
   },
   {
    "duration": 762,
    "start_time": "2023-09-07T16:15:24.551Z"
   },
   {
    "duration": 9,
    "start_time": "2023-09-07T16:15:25.320Z"
   },
   {
    "duration": 430,
    "start_time": "2023-09-07T16:15:25.331Z"
   },
   {
    "duration": 57,
    "start_time": "2023-09-07T16:15:25.763Z"
   },
   {
    "duration": 433,
    "start_time": "2023-09-07T16:15:25.822Z"
   },
   {
    "duration": 105,
    "start_time": "2023-09-07T16:15:26.302Z"
   },
   {
    "duration": 407,
    "start_time": "2023-09-07T16:15:26.409Z"
   },
   {
    "duration": 16,
    "start_time": "2023-09-07T16:15:26.828Z"
   },
   {
    "duration": 405,
    "start_time": "2023-09-07T16:15:26.846Z"
   },
   {
    "duration": 72,
    "start_time": "2023-09-07T16:15:27.257Z"
   },
   {
    "duration": 477,
    "start_time": "2023-09-07T16:15:27.331Z"
   },
   {
    "duration": 8,
    "start_time": "2023-09-07T16:15:27.812Z"
   },
   {
    "duration": 84,
    "start_time": "2023-09-07T16:15:27.822Z"
   },
   {
    "duration": 495,
    "start_time": "2023-09-07T16:15:27.908Z"
   },
   {
    "duration": 31,
    "start_time": "2023-09-07T16:17:13.730Z"
   },
   {
    "duration": 119,
    "start_time": "2023-09-07T16:17:38.445Z"
   },
   {
    "duration": 130,
    "start_time": "2023-09-07T16:21:32.497Z"
   },
   {
    "duration": 143,
    "start_time": "2023-09-07T16:51:51.942Z"
   },
   {
    "duration": 2,
    "start_time": "2023-09-07T16:52:05.700Z"
   },
   {
    "duration": 140,
    "start_time": "2023-09-07T16:52:06.500Z"
   },
   {
    "duration": 110,
    "start_time": "2023-09-07T16:52:07.413Z"
   },
   {
    "duration": 147,
    "start_time": "2023-09-07T16:52:16.413Z"
   },
   {
    "duration": 143,
    "start_time": "2023-09-07T16:52:17.303Z"
   },
   {
    "duration": 135,
    "start_time": "2023-09-07T16:52:18.485Z"
   },
   {
    "duration": 130,
    "start_time": "2023-09-07T16:52:20.579Z"
   },
   {
    "duration": 2174,
    "start_time": "2023-09-07T16:57:56.840Z"
   },
   {
    "duration": 92,
    "start_time": "2023-09-07T16:59:44.641Z"
   },
   {
    "duration": 2,
    "start_time": "2023-09-07T17:05:53.612Z"
   },
   {
    "duration": 130,
    "start_time": "2023-09-07T17:05:54.062Z"
   },
   {
    "duration": 17,
    "start_time": "2023-09-07T17:05:56.508Z"
   },
   {
    "duration": 2021,
    "start_time": "2023-09-07T17:05:57.820Z"
   },
   {
    "duration": 11,
    "start_time": "2023-09-07T17:06:01.444Z"
   },
   {
    "duration": 17,
    "start_time": "2023-09-07T17:06:12.493Z"
   },
   {
    "duration": 78,
    "start_time": "2023-09-07T17:06:31.828Z"
   },
   {
    "duration": 12,
    "start_time": "2023-09-07T17:09:12.550Z"
   },
   {
    "duration": 49,
    "start_time": "2023-09-07T17:09:13.246Z"
   },
   {
    "duration": 12,
    "start_time": "2023-09-07T17:09:21.814Z"
   },
   {
    "duration": 14,
    "start_time": "2023-09-07T17:09:26.127Z"
   },
   {
    "duration": 21,
    "start_time": "2023-09-07T17:09:38.142Z"
   },
   {
    "duration": 8,
    "start_time": "2023-09-07T17:09:38.691Z"
   },
   {
    "duration": 85,
    "start_time": "2023-09-07T17:09:41.798Z"
   },
   {
    "duration": 11,
    "start_time": "2023-09-07T17:09:42.630Z"
   },
   {
    "duration": 19,
    "start_time": "2023-09-07T17:09:44.822Z"
   },
   {
    "duration": 16,
    "start_time": "2023-09-07T17:09:50.090Z"
   },
   {
    "duration": 3,
    "start_time": "2023-09-07T17:09:50.542Z"
   },
   {
    "duration": 562,
    "start_time": "2023-09-07T17:09:51.301Z"
   },
   {
    "duration": 4,
    "start_time": "2023-09-07T17:09:51.865Z"
   },
   {
    "duration": 6,
    "start_time": "2023-09-07T17:09:52.798Z"
   },
   {
    "duration": 16,
    "start_time": "2023-09-07T17:09:54.047Z"
   },
   {
    "duration": 195,
    "start_time": "2023-09-07T17:09:57.454Z"
   },
   {
    "duration": 10,
    "start_time": "2023-09-07T17:09:58.710Z"
   },
   {
    "duration": 183,
    "start_time": "2023-09-07T17:09:59.691Z"
   },
   {
    "duration": 11,
    "start_time": "2023-09-07T17:10:00.662Z"
   },
   {
    "duration": 187,
    "start_time": "2023-09-07T17:10:01.534Z"
   },
   {
    "duration": 14,
    "start_time": "2023-09-07T17:10:02.406Z"
   },
   {
    "duration": 182,
    "start_time": "2023-09-07T17:10:27.830Z"
   },
   {
    "duration": 187,
    "start_time": "2023-09-07T17:13:17.561Z"
   },
   {
    "duration": 10,
    "start_time": "2023-09-07T17:13:18.792Z"
   },
   {
    "duration": 155,
    "start_time": "2023-09-07T17:13:19.436Z"
   },
   {
    "duration": 9,
    "start_time": "2023-09-07T17:13:21.200Z"
   },
   {
    "duration": 141,
    "start_time": "2023-09-07T17:13:22.180Z"
   },
   {
    "duration": 9,
    "start_time": "2023-09-07T17:13:23.032Z"
   },
   {
    "duration": 117,
    "start_time": "2023-09-07T17:13:27.897Z"
   },
   {
    "duration": 164,
    "start_time": "2023-09-07T17:13:28.840Z"
   },
   {
    "duration": 9,
    "start_time": "2023-09-07T17:13:30.065Z"
   },
   {
    "duration": 193,
    "start_time": "2023-09-07T17:13:31.560Z"
   },
   {
    "duration": 11,
    "start_time": "2023-09-07T17:13:34.264Z"
   },
   {
    "duration": 166,
    "start_time": "2023-09-07T17:13:35.040Z"
   },
   {
    "duration": 10,
    "start_time": "2023-09-07T17:13:36.049Z"
   },
   {
    "duration": 95,
    "start_time": "2023-09-07T17:16:07.434Z"
   },
   {
    "duration": 110,
    "start_time": "2023-09-07T17:39:05.055Z"
   },
   {
    "duration": 106,
    "start_time": "2023-09-07T17:39:09.062Z"
   },
   {
    "duration": 99,
    "start_time": "2023-09-07T17:39:26.710Z"
   },
   {
    "duration": 106,
    "start_time": "2023-09-07T17:39:40.503Z"
   },
   {
    "duration": 98,
    "start_time": "2023-09-07T17:41:38.224Z"
   },
   {
    "duration": 263,
    "start_time": "2023-09-07T17:41:52.816Z"
   },
   {
    "duration": 112,
    "start_time": "2023-09-07T17:42:04.232Z"
   },
   {
    "duration": 112,
    "start_time": "2023-09-07T17:42:16.466Z"
   },
   {
    "duration": 163,
    "start_time": "2023-09-07T17:42:51.522Z"
   },
   {
    "duration": 193,
    "start_time": "2023-09-07T17:42:54.497Z"
   },
   {
    "duration": 202,
    "start_time": "2023-09-07T17:44:26.798Z"
   },
   {
    "duration": 547,
    "start_time": "2023-09-07T17:44:32.258Z"
   },
   {
    "duration": 196,
    "start_time": "2023-09-07T17:44:37.714Z"
   },
   {
    "duration": 195,
    "start_time": "2023-09-07T17:44:47.834Z"
   },
   {
    "duration": 297,
    "start_time": "2023-09-07T17:44:55.467Z"
   },
   {
    "duration": 213,
    "start_time": "2023-09-07T17:45:00.018Z"
   },
   {
    "duration": 199,
    "start_time": "2023-09-07T17:46:34.556Z"
   },
   {
    "duration": 193,
    "start_time": "2023-09-07T17:47:00.548Z"
   },
   {
    "duration": 184,
    "start_time": "2023-09-07T17:47:25.597Z"
   },
   {
    "duration": 207,
    "start_time": "2023-09-07T17:47:30.468Z"
   },
   {
    "duration": 194,
    "start_time": "2023-09-07T17:47:34.119Z"
   },
   {
    "duration": 196,
    "start_time": "2023-09-07T17:48:15.613Z"
   },
   {
    "duration": 194,
    "start_time": "2023-09-07T17:48:21.548Z"
   },
   {
    "duration": 166,
    "start_time": "2023-09-07T17:48:56.177Z"
   },
   {
    "duration": 162,
    "start_time": "2023-09-07T17:49:00.902Z"
   },
   {
    "duration": 201,
    "start_time": "2023-09-07T17:49:12.402Z"
   },
   {
    "duration": 182,
    "start_time": "2023-09-07T17:49:19.309Z"
   },
   {
    "duration": 180,
    "start_time": "2023-09-07T17:49:28.670Z"
   },
   {
    "duration": 199,
    "start_time": "2023-09-07T17:49:56.342Z"
   },
   {
    "duration": 426,
    "start_time": "2023-09-07T17:50:48.700Z"
   },
   {
    "duration": 166,
    "start_time": "2023-09-07T17:50:53.726Z"
   },
   {
    "duration": 158,
    "start_time": "2023-09-07T17:51:02.968Z"
   },
   {
    "duration": 165,
    "start_time": "2023-09-07T17:51:13.124Z"
   },
   {
    "duration": 195,
    "start_time": "2023-09-07T17:51:55.238Z"
   },
   {
    "duration": 175,
    "start_time": "2023-09-07T17:52:47.001Z"
   },
   {
    "duration": 13,
    "start_time": "2023-09-07T17:52:47.903Z"
   },
   {
    "duration": 162,
    "start_time": "2023-09-07T17:52:49.395Z"
   },
   {
    "duration": 5,
    "start_time": "2023-09-07T17:52:50.335Z"
   },
   {
    "duration": 143,
    "start_time": "2023-09-07T17:52:51.291Z"
   },
   {
    "duration": 6,
    "start_time": "2023-09-07T17:52:52.097Z"
   },
   {
    "duration": 155,
    "start_time": "2023-09-07T17:52:54.501Z"
   },
   {
    "duration": 6,
    "start_time": "2023-09-07T17:52:55.500Z"
   },
   {
    "duration": 156,
    "start_time": "2023-09-07T17:52:57.103Z"
   },
   {
    "duration": 5,
    "start_time": "2023-09-07T17:52:58.271Z"
   },
   {
    "duration": 153,
    "start_time": "2023-09-07T17:53:10.463Z"
   },
   {
    "duration": 46,
    "start_time": "2023-09-07T17:53:12.385Z"
   },
   {
    "duration": 156,
    "start_time": "2023-09-07T17:53:14.423Z"
   },
   {
    "duration": 147,
    "start_time": "2023-09-07T17:53:22.200Z"
   },
   {
    "duration": 149,
    "start_time": "2023-09-07T17:53:23.518Z"
   },
   {
    "duration": 25,
    "start_time": "2023-09-07T17:53:28.206Z"
   },
   {
    "duration": 170,
    "start_time": "2023-09-07T17:53:29.911Z"
   },
   {
    "duration": 1151,
    "start_time": "2023-09-08T06:26:32.513Z"
   },
   {
    "duration": 228,
    "start_time": "2023-09-08T06:26:33.666Z"
   },
   {
    "duration": 24,
    "start_time": "2023-09-08T06:26:33.945Z"
   },
   {
    "duration": 4307,
    "start_time": "2023-09-08T06:26:33.971Z"
   },
   {
    "duration": 16,
    "start_time": "2023-09-08T06:26:38.282Z"
   },
   {
    "duration": 16,
    "start_time": "2023-09-08T06:26:38.346Z"
   },
   {
    "duration": 11,
    "start_time": "2023-09-08T06:26:38.365Z"
   },
   {
    "duration": 73,
    "start_time": "2023-09-08T06:26:38.378Z"
   },
   {
    "duration": 15,
    "start_time": "2023-09-08T06:26:38.453Z"
   },
   {
    "duration": 80,
    "start_time": "2023-09-08T06:26:38.470Z"
   },
   {
    "duration": 9,
    "start_time": "2023-09-08T06:26:38.552Z"
   },
   {
    "duration": 185,
    "start_time": "2023-09-08T06:26:38.563Z"
   },
   {
    "duration": 9,
    "start_time": "2023-09-08T06:26:38.749Z"
   },
   {
    "duration": 20,
    "start_time": "2023-09-08T06:26:38.761Z"
   },
   {
    "duration": 75,
    "start_time": "2023-09-08T06:26:38.783Z"
   },
   {
    "duration": 3,
    "start_time": "2023-09-08T06:26:38.860Z"
   },
   {
    "duration": 689,
    "start_time": "2023-09-08T06:26:38.864Z"
   },
   {
    "duration": 5,
    "start_time": "2023-09-08T06:26:39.555Z"
   },
   {
    "duration": 33,
    "start_time": "2023-09-08T06:26:39.562Z"
   },
   {
    "duration": 70,
    "start_time": "2023-09-08T06:26:39.596Z"
   },
   {
    "duration": 421,
    "start_time": "2023-09-08T06:26:39.668Z"
   },
   {
    "duration": 64,
    "start_time": "2023-09-08T06:26:40.091Z"
   },
   {
    "duration": 525,
    "start_time": "2023-09-08T06:26:40.157Z"
   },
   {
    "duration": 67,
    "start_time": "2023-09-08T06:26:40.685Z"
   },
   {
    "duration": 596,
    "start_time": "2023-09-08T06:26:40.754Z"
   },
   {
    "duration": 13,
    "start_time": "2023-09-08T06:26:41.351Z"
   },
   {
    "duration": 484,
    "start_time": "2023-09-08T06:26:41.366Z"
   },
   {
    "duration": 8,
    "start_time": "2023-09-08T06:26:41.852Z"
   },
   {
    "duration": 326,
    "start_time": "2023-09-08T06:26:41.862Z"
   },
   {
    "duration": 10,
    "start_time": "2023-09-08T06:26:42.245Z"
   },
   {
    "duration": 324,
    "start_time": "2023-09-08T06:26:42.257Z"
   },
   {
    "duration": 65,
    "start_time": "2023-09-08T06:26:42.583Z"
   },
   {
    "duration": 230,
    "start_time": "2023-09-08T06:26:42.650Z"
   },
   {
    "duration": 377,
    "start_time": "2023-09-08T06:26:42.881Z"
   },
   {
    "duration": 9,
    "start_time": "2023-09-08T06:26:43.259Z"
   },
   {
    "duration": 409,
    "start_time": "2023-09-08T06:26:43.270Z"
   },
   {
    "duration": 10,
    "start_time": "2023-09-08T06:26:43.681Z"
   },
   {
    "duration": 326,
    "start_time": "2023-09-08T06:26:43.744Z"
   },
   {
    "duration": 12,
    "start_time": "2023-09-08T06:26:44.072Z"
   },
   {
    "duration": 436,
    "start_time": "2023-09-08T06:26:44.145Z"
   },
   {
    "duration": 362,
    "start_time": "2023-09-08T06:26:44.585Z"
   },
   {
    "duration": 417,
    "start_time": "2023-09-08T06:26:44.949Z"
   },
   {
    "duration": 517,
    "start_time": "2023-09-08T06:26:45.368Z"
   },
   {
    "duration": 462,
    "start_time": "2023-09-08T06:26:45.886Z"
   },
   {
    "duration": 17,
    "start_time": "2023-09-08T06:26:46.350Z"
   },
   {
    "duration": 576,
    "start_time": "2023-09-08T06:26:46.369Z"
   },
   {
    "duration": 6,
    "start_time": "2023-09-08T06:26:46.948Z"
   },
   {
    "duration": 505,
    "start_time": "2023-09-08T06:26:46.956Z"
   },
   {
    "duration": 82,
    "start_time": "2023-09-08T06:26:47.464Z"
   },
   {
    "duration": 427,
    "start_time": "2023-09-08T06:26:47.548Z"
   },
   {
    "duration": 6,
    "start_time": "2023-09-08T06:26:48.045Z"
   },
   {
    "duration": 327,
    "start_time": "2023-09-08T06:26:48.053Z"
   },
   {
    "duration": 63,
    "start_time": "2023-09-08T06:26:48.382Z"
   },
   {
    "duration": 242,
    "start_time": "2023-09-08T06:26:48.447Z"
   },
   {
    "duration": 28,
    "start_time": "2023-09-08T06:26:48.744Z"
   },
   {
    "duration": 308,
    "start_time": "2023-09-08T06:26:48.774Z"
   },
   {
    "duration": 363,
    "start_time": "2023-09-08T06:26:49.084Z"
   },
   {
    "duration": 530,
    "start_time": "2023-09-08T06:26:49.450Z"
   },
   {
    "duration": 75,
    "start_time": "2023-09-08T06:26:49.982Z"
   },
   {
    "duration": 312,
    "start_time": "2023-09-08T06:26:50.059Z"
   },
   {
    "duration": 86,
    "start_time": "2023-09-08T06:32:46.439Z"
   }
  ],
  "kernelspec": {
   "display_name": "Python 3 (ipykernel)",
   "language": "python",
   "name": "python3"
  },
  "language_info": {
   "codemirror_mode": {
    "name": "ipython",
    "version": 3
   },
   "file_extension": ".py",
   "mimetype": "text/x-python",
   "name": "python",
   "nbconvert_exporter": "python",
   "pygments_lexer": "ipython3",
   "version": "3.9.18"
  },
  "toc": {
   "base_numbering": 1,
   "nav_menu": {},
   "number_sections": true,
   "sideBar": true,
   "skip_h1_title": true,
   "title_cell": "Table of Contents",
   "title_sidebar": "Contents",
   "toc_cell": false,
   "toc_position": {},
   "toc_section_display": true,
   "toc_window_display": false
  }
 },
 "nbformat": 4,
 "nbformat_minor": 4
}
