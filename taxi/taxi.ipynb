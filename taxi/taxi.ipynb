{
 "cells": [
  {
   "cell_type": "markdown",
   "metadata": {},
   "source": [
    "#  Прогнозирование заказов такси"
   ]
  },
  {
   "cell_type": "markdown",
   "metadata": {},
   "source": [
    "Компания «Чётенькое такси» собрала исторические данные о заказах такси в аэропортах. Чтобы привлекать больше водителей в период пиковой нагрузки, нужно спрогнозировать количество заказов такси на следующий час. Постройте модель для такого предсказания.\n",
    "\n",
    "Значение метрики *RMSE* на тестовой выборке должно быть не больше 48.\n",
    "\n",
    "Вам нужно:\n",
    "\n",
    "1. Загрузить данные и выполнить их ресемплирование по одному часу.\n",
    "2. Проанализировать данные.\n",
    "3. Обучить разные модели с различными гиперпараметрами. Сделать тестовую выборку размером 10% от исходных данных.\n",
    "4. Проверить данные на тестовой выборке и сделать выводы.\n",
    "\n",
    "\n",
    "Данные лежат в файле `taxi.csv`. Количество заказов находится в столбце `num_orders` (от англ. *number of orders*, «число заказов»)."
   ]
  },
  {
   "cell_type": "code",
   "execution_count": 1,
   "metadata": {},
   "outputs": [],
   "source": [
    "import pandas as pd\n",
    "from statsmodels.tsa.seasonal import seasonal_decompose\n",
    "import matplotlib.pyplot as plt\n",
    "from sklearn.model_selection import train_test_split\n",
    "from sklearn.linear_model import LinearRegression\n",
    "from sklearn.ensemble import RandomForestRegressor\n",
    "from sklearn.model_selection import GridSearchCV\n",
    "import lightgbm as lgb\n",
    "from sklearn.metrics import mean_squared_error\n",
    "from catboost import CatBoostRegressor\n",
    "from sklearn.model_selection import TimeSeriesSplit\n",
    "from sklearn.preprocessing import StandardScaler"
   ]
  },
  {
   "cell_type": "markdown",
   "metadata": {},
   "source": [
    "## Подготовка"
   ]
  },
  {
   "cell_type": "code",
   "execution_count": 2,
   "metadata": {},
   "outputs": [
    {
     "data": {
      "text/html": [
       "<div>\n",
       "<style scoped>\n",
       "    .dataframe tbody tr th:only-of-type {\n",
       "        vertical-align: middle;\n",
       "    }\n",
       "\n",
       "    .dataframe tbody tr th {\n",
       "        vertical-align: top;\n",
       "    }\n",
       "\n",
       "    .dataframe thead th {\n",
       "        text-align: right;\n",
       "    }\n",
       "</style>\n",
       "<table border=\"1\" class=\"dataframe\">\n",
       "  <thead>\n",
       "    <tr style=\"text-align: right;\">\n",
       "      <th></th>\n",
       "      <th>num_orders</th>\n",
       "    </tr>\n",
       "    <tr>\n",
       "      <th>datetime</th>\n",
       "      <th></th>\n",
       "    </tr>\n",
       "  </thead>\n",
       "  <tbody>\n",
       "    <tr>\n",
       "      <th>2018-03-01 00:00:00</th>\n",
       "      <td>9</td>\n",
       "    </tr>\n",
       "    <tr>\n",
       "      <th>2018-03-01 00:10:00</th>\n",
       "      <td>14</td>\n",
       "    </tr>\n",
       "    <tr>\n",
       "      <th>2018-03-01 00:20:00</th>\n",
       "      <td>28</td>\n",
       "    </tr>\n",
       "    <tr>\n",
       "      <th>2018-03-01 00:30:00</th>\n",
       "      <td>20</td>\n",
       "    </tr>\n",
       "    <tr>\n",
       "      <th>2018-03-01 00:40:00</th>\n",
       "      <td>32</td>\n",
       "    </tr>\n",
       "  </tbody>\n",
       "</table>\n",
       "</div>"
      ],
      "text/plain": [
       "                     num_orders\n",
       "datetime                       \n",
       "2018-03-01 00:00:00           9\n",
       "2018-03-01 00:10:00          14\n",
       "2018-03-01 00:20:00          28\n",
       "2018-03-01 00:30:00          20\n",
       "2018-03-01 00:40:00          32"
      ]
     },
     "execution_count": 2,
     "metadata": {},
     "output_type": "execute_result"
    }
   ],
   "source": [
    "data = pd.read_csv('/datasets/taxi.csv', index_col='datetime', parse_dates=[0])\n",
    "data.head()"
   ]
  },
  {
   "cell_type": "code",
   "execution_count": 3,
   "metadata": {},
   "outputs": [
    {
     "name": "stdout",
     "output_type": "stream",
     "text": [
      "<class 'pandas.core.frame.DataFrame'>\n",
      "DatetimeIndex: 26496 entries, 2018-03-01 00:00:00 to 2018-08-31 23:50:00\n",
      "Data columns (total 1 columns):\n",
      " #   Column      Non-Null Count  Dtype\n",
      "---  ------      --------------  -----\n",
      " 0   num_orders  26496 non-null  int64\n",
      "dtypes: int64(1)\n",
      "memory usage: 414.0 KB\n"
     ]
    }
   ],
   "source": [
    "data.info()"
   ]
  },
  {
   "cell_type": "code",
   "execution_count": 4,
   "metadata": {},
   "outputs": [],
   "source": [
    "data = data.resample('1H').sum()"
   ]
  },
  {
   "cell_type": "markdown",
   "metadata": {},
   "source": [
    "data.info()"
   ]
  },
  {
   "cell_type": "markdown",
   "metadata": {},
   "source": [
    "## Анализ"
   ]
  },
  {
   "cell_type": "code",
   "execution_count": 5,
   "metadata": {},
   "outputs": [
    {
     "data": {
      "image/png": "[encoded data removed]",
      "text/plain": [
       "<Figure size 432x288 with 1 Axes>"
      ]
     },
     "metadata": {
      "needs_background": "light"
     },
     "output_type": "display_data"
    }
   ],
   "source": [
    "data.plot();"
   ]
  },
  {
   "cell_type": "markdown",
   "metadata": {},
   "source": [
    "Проанализируем последний месяц."
   ]
  },
  {
   "cell_type": "code",
   "execution_count": 6,
   "metadata": {},
   "outputs": [],
   "source": [
    "decomposed = seasonal_decompose(data)"
   ]
  },
  {
   "cell_type": "code",
   "execution_count": 7,
   "metadata": {},
   "outputs": [
    {
     "data": {
      "image/png": "[encoded data removed]",
      "text/plain": [
       "<Figure size 432x288 with 1 Axes>"
      ]
     },
     "metadata": {
      "needs_background": "light"
     },
     "output_type": "display_data"
    }
   ],
   "source": [
    "decomposed.trend.plot(ax=plt.gca())\n",
    "plt.title('Trend');"
   ]
  },
  {
   "cell_type": "code",
   "execution_count": 8,
   "metadata": {},
   "outputs": [
    {
     "data": {
      "image/png": "[encoded data removed]",
      "text/plain": [
       "<Figure size 1800x1080 with 1 Axes>"
      ]
     },
     "metadata": {
      "needs_background": "light"
     },
     "output_type": "display_data"
    }
   ],
   "source": [
    "plt.figure(figsize=(25, 15))\n",
    "decomposed.seasonal['2018-08-15':'2018-08-22'].plot(ax=plt.gca()) \n",
    "plt.title('Seasonality')\n",
    "plt.tight_layout()"
   ]
  },
  {
   "cell_type": "code",
   "execution_count": 9,
   "metadata": {},
   "outputs": [
    {
     "data": {
      "image/png": "[encoded data removed]",
      "text/plain": [
       "<Figure size 432x288 with 1 Axes>"
      ]
     },
     "metadata": {
      "needs_background": "light"
     },
     "output_type": "display_data"
    }
   ],
   "source": [
    "decomposed.resid.plot(ax=plt.gca()) \n",
    "plt.title('Residuals')\n",
    "plt.tight_layout()"
   ]
  },
  {
   "cell_type": "markdown",
   "metadata": {},
   "source": [
    "Как мы видим по графику тренда, количество заказов растет со временем. Распределение сезонности статичное, ночью мало заказов, наибольшее количество к вечеру. По графику шумов видим почти всегда среднее значение, однако есть всплески, которые можно объяснить выходными и праздниками."
   ]
  },
  {
   "cell_type": "markdown",
   "metadata": {},
   "source": [
    "## Обучение"
   ]
  },
  {
   "cell_type": "code",
   "execution_count": 10,
   "metadata": {},
   "outputs": [],
   "source": [
    "def make_features(data, max_lag, rolling_mean_size):\n",
    "    #data['year'] = data.index.year\n",
    "    #data['month'] = data.index.month\n",
    "    #data['day'] = data.index.day\n",
    "    data['dayofweek'] = data.index.dayofweek\n",
    "    data['hour'] = data.index.hour\n",
    "    \n",
    "    for lag in range(1, max_lag + 1):\n",
    "        data['lag_{}'.format(lag)] = data['num_orders'].shift(lag)\n",
    "\n",
    "    data['rolling_mean'] = data['num_orders'].shift().rolling(rolling_mean_size).mean()"
   ]
  },
  {
   "cell_type": "code",
   "execution_count": 11,
   "metadata": {},
   "outputs": [],
   "source": [
    "make_features(data, 24, 24)"
   ]
  },
  {
   "cell_type": "code",
   "execution_count": 12,
   "metadata": {},
   "outputs": [
    {
     "data": {
      "text/html": [
       "<div>\n",
       "<style scoped>\n",
       "    .dataframe tbody tr th:only-of-type {\n",
       "        vertical-align: middle;\n",
       "    }\n",
       "\n",
       "    .dataframe tbody tr th {\n",
       "        vertical-align: top;\n",
       "    }\n",
       "\n",
       "    .dataframe thead th {\n",
       "        text-align: right;\n",
       "    }\n",
       "</style>\n",
       "<table border=\"1\" class=\"dataframe\">\n",
       "  <thead>\n",
       "    <tr style=\"text-align: right;\">\n",
       "      <th></th>\n",
       "      <th>num_orders</th>\n",
       "      <th>dayofweek</th>\n",
       "      <th>hour</th>\n",
       "      <th>lag_1</th>\n",
       "      <th>lag_2</th>\n",
       "      <th>lag_3</th>\n",
       "      <th>lag_4</th>\n",
       "      <th>lag_5</th>\n",
       "      <th>lag_6</th>\n",
       "      <th>lag_7</th>\n",
       "      <th>...</th>\n",
       "      <th>lag_16</th>\n",
       "      <th>lag_17</th>\n",
       "      <th>lag_18</th>\n",
       "      <th>lag_19</th>\n",
       "      <th>lag_20</th>\n",
       "      <th>lag_21</th>\n",
       "      <th>lag_22</th>\n",
       "      <th>lag_23</th>\n",
       "      <th>lag_24</th>\n",
       "      <th>rolling_mean</th>\n",
       "    </tr>\n",
       "    <tr>\n",
       "      <th>datetime</th>\n",
       "      <th></th>\n",
       "      <th></th>\n",
       "      <th></th>\n",
       "      <th></th>\n",
       "      <th></th>\n",
       "      <th></th>\n",
       "      <th></th>\n",
       "      <th></th>\n",
       "      <th></th>\n",
       "      <th></th>\n",
       "      <th></th>\n",
       "      <th></th>\n",
       "      <th></th>\n",
       "      <th></th>\n",
       "      <th></th>\n",
       "      <th></th>\n",
       "      <th></th>\n",
       "      <th></th>\n",
       "      <th></th>\n",
       "      <th></th>\n",
       "      <th></th>\n",
       "    </tr>\n",
       "  </thead>\n",
       "  <tbody>\n",
       "    <tr>\n",
       "      <th>2018-03-01 00:00:00</th>\n",
       "      <td>124</td>\n",
       "      <td>3</td>\n",
       "      <td>0</td>\n",
       "      <td>NaN</td>\n",
       "      <td>NaN</td>\n",
       "      <td>NaN</td>\n",
       "      <td>NaN</td>\n",
       "      <td>NaN</td>\n",
       "      <td>NaN</td>\n",
       "      <td>NaN</td>\n",
       "      <td>...</td>\n",
       "      <td>NaN</td>\n",
       "      <td>NaN</td>\n",
       "      <td>NaN</td>\n",
       "      <td>NaN</td>\n",
       "      <td>NaN</td>\n",
       "      <td>NaN</td>\n",
       "      <td>NaN</td>\n",
       "      <td>NaN</td>\n",
       "      <td>NaN</td>\n",
       "      <td>NaN</td>\n",
       "    </tr>\n",
       "    <tr>\n",
       "      <th>2018-03-01 01:00:00</th>\n",
       "      <td>85</td>\n",
       "      <td>3</td>\n",
       "      <td>1</td>\n",
       "      <td>124.0</td>\n",
       "      <td>NaN</td>\n",
       "      <td>NaN</td>\n",
       "      <td>NaN</td>\n",
       "      <td>NaN</td>\n",
       "      <td>NaN</td>\n",
       "      <td>NaN</td>\n",
       "      <td>...</td>\n",
       "      <td>NaN</td>\n",
       "      <td>NaN</td>\n",
       "      <td>NaN</td>\n",
       "      <td>NaN</td>\n",
       "      <td>NaN</td>\n",
       "      <td>NaN</td>\n",
       "      <td>NaN</td>\n",
       "      <td>NaN</td>\n",
       "      <td>NaN</td>\n",
       "      <td>NaN</td>\n",
       "    </tr>\n",
       "    <tr>\n",
       "      <th>2018-03-01 02:00:00</th>\n",
       "      <td>71</td>\n",
       "      <td>3</td>\n",
       "      <td>2</td>\n",
       "      <td>85.0</td>\n",
       "      <td>124.0</td>\n",
       "      <td>NaN</td>\n",
       "      <td>NaN</td>\n",
       "      <td>NaN</td>\n",
       "      <td>NaN</td>\n",
       "      <td>NaN</td>\n",
       "      <td>...</td>\n",
       "      <td>NaN</td>\n",
       "      <td>NaN</td>\n",
       "      <td>NaN</td>\n",
       "      <td>NaN</td>\n",
       "      <td>NaN</td>\n",
       "      <td>NaN</td>\n",
       "      <td>NaN</td>\n",
       "      <td>NaN</td>\n",
       "      <td>NaN</td>\n",
       "      <td>NaN</td>\n",
       "    </tr>\n",
       "    <tr>\n",
       "      <th>2018-03-01 03:00:00</th>\n",
       "      <td>66</td>\n",
       "      <td>3</td>\n",
       "      <td>3</td>\n",
       "      <td>71.0</td>\n",
       "      <td>85.0</td>\n",
       "      <td>124.0</td>\n",
       "      <td>NaN</td>\n",
       "      <td>NaN</td>\n",
       "      <td>NaN</td>\n",
       "      <td>NaN</td>\n",
       "      <td>...</td>\n",
       "      <td>NaN</td>\n",
       "      <td>NaN</td>\n",
       "      <td>NaN</td>\n",
       "      <td>NaN</td>\n",
       "      <td>NaN</td>\n",
       "      <td>NaN</td>\n",
       "      <td>NaN</td>\n",
       "      <td>NaN</td>\n",
       "      <td>NaN</td>\n",
       "      <td>NaN</td>\n",
       "    </tr>\n",
       "    <tr>\n",
       "      <th>2018-03-01 04:00:00</th>\n",
       "      <td>43</td>\n",
       "      <td>3</td>\n",
       "      <td>4</td>\n",
       "      <td>66.0</td>\n",
       "      <td>71.0</td>\n",
       "      <td>85.0</td>\n",
       "      <td>124.0</td>\n",
       "      <td>NaN</td>\n",
       "      <td>NaN</td>\n",
       "      <td>NaN</td>\n",
       "      <td>...</td>\n",
       "      <td>NaN</td>\n",
       "      <td>NaN</td>\n",
       "      <td>NaN</td>\n",
       "      <td>NaN</td>\n",
       "      <td>NaN</td>\n",
       "      <td>NaN</td>\n",
       "      <td>NaN</td>\n",
       "      <td>NaN</td>\n",
       "      <td>NaN</td>\n",
       "      <td>NaN</td>\n",
       "    </tr>\n",
       "  </tbody>\n",
       "</table>\n",
       "<p>5 rows × 28 columns</p>\n",
       "</div>"
      ],
      "text/plain": [
       "                     num_orders  dayofweek  hour  lag_1  lag_2  lag_3  lag_4  \\\n",
       "datetime                                                                       \n",
       "2018-03-01 00:00:00         124          3     0    NaN    NaN    NaN    NaN   \n",
       "2018-03-01 01:00:00          85          3     1  124.0    NaN    NaN    NaN   \n",
       "2018-03-01 02:00:00          71          3     2   85.0  124.0    NaN    NaN   \n",
       "2018-03-01 03:00:00          66          3     3   71.0   85.0  124.0    NaN   \n",
       "2018-03-01 04:00:00          43          3     4   66.0   71.0   85.0  124.0   \n",
       "\n",
       "                     lag_5  lag_6  lag_7  ...  lag_16  lag_17  lag_18  lag_19  \\\n",
       "datetime                                  ...                                   \n",
       "2018-03-01 00:00:00    NaN    NaN    NaN  ...     NaN     NaN     NaN     NaN   \n",
       "2018-03-01 01:00:00    NaN    NaN    NaN  ...     NaN     NaN     NaN     NaN   \n",
       "2018-03-01 02:00:00    NaN    NaN    NaN  ...     NaN     NaN     NaN     NaN   \n",
       "2018-03-01 03:00:00    NaN    NaN    NaN  ...     NaN     NaN     NaN     NaN   \n",
       "2018-03-01 04:00:00    NaN    NaN    NaN  ...     NaN     NaN     NaN     NaN   \n",
       "\n",
       "                     lag_20  lag_21  lag_22  lag_23  lag_24  rolling_mean  \n",
       "datetime                                                                   \n",
       "2018-03-01 00:00:00     NaN     NaN     NaN     NaN     NaN           NaN  \n",
       "2018-03-01 01:00:00     NaN     NaN     NaN     NaN     NaN           NaN  \n",
       "2018-03-01 02:00:00     NaN     NaN     NaN     NaN     NaN           NaN  \n",
       "2018-03-01 03:00:00     NaN     NaN     NaN     NaN     NaN           NaN  \n",
       "2018-03-01 04:00:00     NaN     NaN     NaN     NaN     NaN           NaN  \n",
       "\n",
       "[5 rows x 28 columns]"
      ]
     },
     "execution_count": 12,
     "metadata": {},
     "output_type": "execute_result"
    }
   ],
   "source": [
    "data.head()"
   ]
  },
  {
   "cell_type": "code",
   "execution_count": 13,
   "metadata": {},
   "outputs": [],
   "source": [
    "train, test = train_test_split(data, shuffle=False, test_size=0.1, random_state=12345)"
   ]
  },
  {
   "cell_type": "code",
   "execution_count": 14,
   "metadata": {},
   "outputs": [],
   "source": [
    "train = train.dropna()"
   ]
  },
  {
   "cell_type": "code",
   "execution_count": 15,
   "metadata": {},
   "outputs": [],
   "source": [
    "features_train = train.drop('num_orders', axis=1)\n",
    "features_test = test.drop('num_orders', axis=1)\n",
    "target_train = train['num_orders']\n",
    "target_test = test['num_orders']"
   ]
  },
  {
   "cell_type": "code",
   "execution_count": 16,
   "metadata": {},
   "outputs": [
    {
     "data": {
      "text/plain": [
       "(3950, 27)"
      ]
     },
     "execution_count": 16,
     "metadata": {},
     "output_type": "execute_result"
    }
   ],
   "source": [
    "features_train.shape"
   ]
  },
  {
   "cell_type": "code",
   "execution_count": 17,
   "metadata": {},
   "outputs": [
    {
     "data": {
      "text/plain": [
       "3950"
      ]
     },
     "execution_count": 17,
     "metadata": {},
     "output_type": "execute_result"
    }
   ],
   "source": [
    "len(target_train)"
   ]
  },
  {
   "cell_type": "code",
   "execution_count": 18,
   "metadata": {},
   "outputs": [
    {
     "data": {
      "text/plain": [
       "(3950, 27)"
      ]
     },
     "execution_count": 18,
     "metadata": {},
     "output_type": "execute_result"
    }
   ],
   "source": [
    "features_train.shape"
   ]
  },
  {
   "cell_type": "code",
   "execution_count": 19,
   "metadata": {},
   "outputs": [
    {
     "data": {
      "text/plain": [
       "442"
      ]
     },
     "execution_count": 19,
     "metadata": {},
     "output_type": "execute_result"
    }
   ],
   "source": [
    "len(target_test)"
   ]
  },
  {
   "cell_type": "code",
   "execution_count": 20,
   "metadata": {
    "scrolled": true
   },
   "outputs": [
    {
     "data": {
      "text/html": [
       "<div>\n",
       "<style scoped>\n",
       "    .dataframe tbody tr th:only-of-type {\n",
       "        vertical-align: middle;\n",
       "    }\n",
       "\n",
       "    .dataframe tbody tr th {\n",
       "        vertical-align: top;\n",
       "    }\n",
       "\n",
       "    .dataframe thead th {\n",
       "        text-align: right;\n",
       "    }\n",
       "</style>\n",
       "<table border=\"1\" class=\"dataframe\">\n",
       "  <thead>\n",
       "    <tr style=\"text-align: right;\">\n",
       "      <th></th>\n",
       "      <th>dayofweek</th>\n",
       "      <th>hour</th>\n",
       "      <th>lag_1</th>\n",
       "      <th>lag_2</th>\n",
       "      <th>lag_3</th>\n",
       "      <th>lag_4</th>\n",
       "      <th>lag_5</th>\n",
       "      <th>lag_6</th>\n",
       "      <th>lag_7</th>\n",
       "      <th>lag_8</th>\n",
       "      <th>...</th>\n",
       "      <th>lag_16</th>\n",
       "      <th>lag_17</th>\n",
       "      <th>lag_18</th>\n",
       "      <th>lag_19</th>\n",
       "      <th>lag_20</th>\n",
       "      <th>lag_21</th>\n",
       "      <th>lag_22</th>\n",
       "      <th>lag_23</th>\n",
       "      <th>lag_24</th>\n",
       "      <th>rolling_mean</th>\n",
       "    </tr>\n",
       "    <tr>\n",
       "      <th>datetime</th>\n",
       "      <th></th>\n",
       "      <th></th>\n",
       "      <th></th>\n",
       "      <th></th>\n",
       "      <th></th>\n",
       "      <th></th>\n",
       "      <th></th>\n",
       "      <th></th>\n",
       "      <th></th>\n",
       "      <th></th>\n",
       "      <th></th>\n",
       "      <th></th>\n",
       "      <th></th>\n",
       "      <th></th>\n",
       "      <th></th>\n",
       "      <th></th>\n",
       "      <th></th>\n",
       "      <th></th>\n",
       "      <th></th>\n",
       "      <th></th>\n",
       "      <th></th>\n",
       "    </tr>\n",
       "  </thead>\n",
       "  <tbody>\n",
       "    <tr>\n",
       "      <th>2018-03-02 00:00:00</th>\n",
       "      <td>4</td>\n",
       "      <td>0</td>\n",
       "      <td>58.0</td>\n",
       "      <td>113.0</td>\n",
       "      <td>66.0</td>\n",
       "      <td>61.0</td>\n",
       "      <td>45.0</td>\n",
       "      <td>73.0</td>\n",
       "      <td>44.0</td>\n",
       "      <td>43.0</td>\n",
       "      <td>...</td>\n",
       "      <td>34.0</td>\n",
       "      <td>15.0</td>\n",
       "      <td>12.0</td>\n",
       "      <td>6.0</td>\n",
       "      <td>43.0</td>\n",
       "      <td>66.0</td>\n",
       "      <td>71.0</td>\n",
       "      <td>85.0</td>\n",
       "      <td>124.0</td>\n",
       "      <td>56.833333</td>\n",
       "    </tr>\n",
       "    <tr>\n",
       "      <th>2018-03-02 01:00:00</th>\n",
       "      <td>4</td>\n",
       "      <td>1</td>\n",
       "      <td>90.0</td>\n",
       "      <td>58.0</td>\n",
       "      <td>113.0</td>\n",
       "      <td>66.0</td>\n",
       "      <td>61.0</td>\n",
       "      <td>45.0</td>\n",
       "      <td>73.0</td>\n",
       "      <td>44.0</td>\n",
       "      <td>...</td>\n",
       "      <td>69.0</td>\n",
       "      <td>34.0</td>\n",
       "      <td>15.0</td>\n",
       "      <td>12.0</td>\n",
       "      <td>6.0</td>\n",
       "      <td>43.0</td>\n",
       "      <td>66.0</td>\n",
       "      <td>71.0</td>\n",
       "      <td>85.0</td>\n",
       "      <td>55.416667</td>\n",
       "    </tr>\n",
       "    <tr>\n",
       "      <th>2018-03-02 02:00:00</th>\n",
       "      <td>4</td>\n",
       "      <td>2</td>\n",
       "      <td>120.0</td>\n",
       "      <td>90.0</td>\n",
       "      <td>58.0</td>\n",
       "      <td>113.0</td>\n",
       "      <td>66.0</td>\n",
       "      <td>61.0</td>\n",
       "      <td>45.0</td>\n",
       "      <td>73.0</td>\n",
       "      <td>...</td>\n",
       "      <td>64.0</td>\n",
       "      <td>69.0</td>\n",
       "      <td>34.0</td>\n",
       "      <td>15.0</td>\n",
       "      <td>12.0</td>\n",
       "      <td>6.0</td>\n",
       "      <td>43.0</td>\n",
       "      <td>66.0</td>\n",
       "      <td>71.0</td>\n",
       "      <td>56.875000</td>\n",
       "    </tr>\n",
       "    <tr>\n",
       "      <th>2018-03-02 03:00:00</th>\n",
       "      <td>4</td>\n",
       "      <td>3</td>\n",
       "      <td>75.0</td>\n",
       "      <td>120.0</td>\n",
       "      <td>90.0</td>\n",
       "      <td>58.0</td>\n",
       "      <td>113.0</td>\n",
       "      <td>66.0</td>\n",
       "      <td>61.0</td>\n",
       "      <td>45.0</td>\n",
       "      <td>...</td>\n",
       "      <td>96.0</td>\n",
       "      <td>64.0</td>\n",
       "      <td>69.0</td>\n",
       "      <td>34.0</td>\n",
       "      <td>15.0</td>\n",
       "      <td>12.0</td>\n",
       "      <td>6.0</td>\n",
       "      <td>43.0</td>\n",
       "      <td>66.0</td>\n",
       "      <td>57.041667</td>\n",
       "    </tr>\n",
       "    <tr>\n",
       "      <th>2018-03-02 04:00:00</th>\n",
       "      <td>4</td>\n",
       "      <td>4</td>\n",
       "      <td>64.0</td>\n",
       "      <td>75.0</td>\n",
       "      <td>120.0</td>\n",
       "      <td>90.0</td>\n",
       "      <td>58.0</td>\n",
       "      <td>113.0</td>\n",
       "      <td>66.0</td>\n",
       "      <td>61.0</td>\n",
       "      <td>...</td>\n",
       "      <td>30.0</td>\n",
       "      <td>96.0</td>\n",
       "      <td>64.0</td>\n",
       "      <td>69.0</td>\n",
       "      <td>34.0</td>\n",
       "      <td>15.0</td>\n",
       "      <td>12.0</td>\n",
       "      <td>6.0</td>\n",
       "      <td>43.0</td>\n",
       "      <td>56.958333</td>\n",
       "    </tr>\n",
       "  </tbody>\n",
       "</table>\n",
       "<p>5 rows × 27 columns</p>\n",
       "</div>"
      ],
      "text/plain": [
       "                     dayofweek  hour  lag_1  lag_2  lag_3  lag_4  lag_5  \\\n",
       "datetime                                                                  \n",
       "2018-03-02 00:00:00          4     0   58.0  113.0   66.0   61.0   45.0   \n",
       "2018-03-02 01:00:00          4     1   90.0   58.0  113.0   66.0   61.0   \n",
       "2018-03-02 02:00:00          4     2  120.0   90.0   58.0  113.0   66.0   \n",
       "2018-03-02 03:00:00          4     3   75.0  120.0   90.0   58.0  113.0   \n",
       "2018-03-02 04:00:00          4     4   64.0   75.0  120.0   90.0   58.0   \n",
       "\n",
       "                     lag_6  lag_7  lag_8  ...  lag_16  lag_17  lag_18  lag_19  \\\n",
       "datetime                                  ...                                   \n",
       "2018-03-02 00:00:00   73.0   44.0   43.0  ...    34.0    15.0    12.0     6.0   \n",
       "2018-03-02 01:00:00   45.0   73.0   44.0  ...    69.0    34.0    15.0    12.0   \n",
       "2018-03-02 02:00:00   61.0   45.0   73.0  ...    64.0    69.0    34.0    15.0   \n",
       "2018-03-02 03:00:00   66.0   61.0   45.0  ...    96.0    64.0    69.0    34.0   \n",
       "2018-03-02 04:00:00  113.0   66.0   61.0  ...    30.0    96.0    64.0    69.0   \n",
       "\n",
       "                     lag_20  lag_21  lag_22  lag_23  lag_24  rolling_mean  \n",
       "datetime                                                                   \n",
       "2018-03-02 00:00:00    43.0    66.0    71.0    85.0   124.0     56.833333  \n",
       "2018-03-02 01:00:00     6.0    43.0    66.0    71.0    85.0     55.416667  \n",
       "2018-03-02 02:00:00    12.0     6.0    43.0    66.0    71.0     56.875000  \n",
       "2018-03-02 03:00:00    15.0    12.0     6.0    43.0    66.0     57.041667  \n",
       "2018-03-02 04:00:00    34.0    15.0    12.0     6.0    43.0     56.958333  \n",
       "\n",
       "[5 rows x 27 columns]"
      ]
     },
     "execution_count": 20,
     "metadata": {},
     "output_type": "execute_result"
    }
   ],
   "source": [
    "features_train.head()"
   ]
  },
  {
   "cell_type": "code",
   "execution_count": 21,
   "metadata": {},
   "outputs": [],
   "source": [
    "scaler = StandardScaler()\n",
    "scaler.fit(features_train)\n",
    "features_train_scal = pd.DataFrame(scaler.transform(features_train))"
   ]
  },
  {
   "cell_type": "markdown",
   "metadata": {},
   "source": [
    "Обучим линейную регрессию."
   ]
  },
  {
   "cell_type": "code",
   "execution_count": 22,
   "metadata": {},
   "outputs": [
    {
     "name": "stdout",
     "output_type": "stream",
     "text": [
      "Fitting 3 folds for each of 1 candidates, totalling 3 fits\n",
      "[CV 1/3] END ................................., score=-24.920 total time=   0.0s\n",
      "[CV 2/3] END ................................., score=-26.135 total time=   0.1s\n",
      "[CV 3/3] END ................................., score=-32.264 total time=   0.3s\n"
     ]
    },
    {
     "data": {
      "text/html": [
       "<style>#sk-container-id-1 {color: black;}#sk-container-id-1 pre{padding: 0;}#sk-container-id-1 div.sk-toggleable {background-color: white;}#sk-container-id-1 label.sk-toggleable__label {cursor: pointer;display: block;width: 100%;margin-bottom: 0;padding: 0.3em;box-sizing: border-box;text-align: center;}#sk-container-id-1 label.sk-toggleable__label-arrow:before {content: \"▸\";float: left;margin-right: 0.25em;color: #696969;}#sk-container-id-1 label.sk-toggleable__label-arrow:hover:before {color: black;}#sk-container-id-1 div.sk-estimator:hover label.sk-toggleable__label-arrow:before {color: black;}#sk-container-id-1 div.sk-toggleable__content {max-height: 0;max-width: 0;overflow: hidden;text-align: left;background-color: #f0f8ff;}#sk-container-id-1 div.sk-toggleable__content pre {margin: 0.2em;color: black;border-radius: 0.25em;background-color: #f0f8ff;}#sk-container-id-1 input.sk-toggleable__control:checked~div.sk-toggleable__content {max-height: 200px;max-width: 100%;overflow: auto;}#sk-container-id-1 input.sk-toggleable__control:checked~label.sk-toggleable__label-arrow:before {content: \"▾\";}#sk-container-id-1 div.sk-estimator input.sk-toggleable__control:checked~label.sk-toggleable__label {background-color: #d4ebff;}#sk-container-id-1 div.sk-label input.sk-toggleable__control:checked~label.sk-toggleable__label {background-color: #d4ebff;}#sk-container-id-1 input.sk-hidden--visually {border: 0;clip: rect(1px 1px 1px 1px);clip: rect(1px, 1px, 1px, 1px);height: 1px;margin: -1px;overflow: hidden;padding: 0;position: absolute;width: 1px;}#sk-container-id-1 div.sk-estimator {font-family: monospace;background-color: #f0f8ff;border: 1px dotted black;border-radius: 0.25em;box-sizing: border-box;margin-bottom: 0.5em;}#sk-container-id-1 div.sk-estimator:hover {background-color: #d4ebff;}#sk-container-id-1 div.sk-parallel-item::after {content: \"\";width: 100%;border-bottom: 1px solid gray;flex-grow: 1;}#sk-container-id-1 div.sk-label:hover label.sk-toggleable__label {background-color: #d4ebff;}#sk-container-id-1 div.sk-serial::before {content: \"\";position: absolute;border-left: 1px solid gray;box-sizing: border-box;top: 0;bottom: 0;left: 50%;z-index: 0;}#sk-container-id-1 div.sk-serial {display: flex;flex-direction: column;align-items: center;background-color: white;padding-right: 0.2em;padding-left: 0.2em;position: relative;}#sk-container-id-1 div.sk-item {position: relative;z-index: 1;}#sk-container-id-1 div.sk-parallel {display: flex;align-items: stretch;justify-content: center;background-color: white;position: relative;}#sk-container-id-1 div.sk-item::before, #sk-container-id-1 div.sk-parallel-item::before {content: \"\";position: absolute;border-left: 1px solid gray;box-sizing: border-box;top: 0;bottom: 0;left: 50%;z-index: -1;}#sk-container-id-1 div.sk-parallel-item {display: flex;flex-direction: column;z-index: 1;position: relative;background-color: white;}#sk-container-id-1 div.sk-parallel-item:first-child::after {align-self: flex-end;width: 50%;}#sk-container-id-1 div.sk-parallel-item:last-child::after {align-self: flex-start;width: 50%;}#sk-container-id-1 div.sk-parallel-item:only-child::after {width: 0;}#sk-container-id-1 div.sk-dashed-wrapped {border: 1px dashed gray;margin: 0 0.4em 0.5em 0.4em;box-sizing: border-box;padding-bottom: 0.4em;background-color: white;}#sk-container-id-1 div.sk-label label {font-family: monospace;font-weight: bold;display: inline-block;line-height: 1.2em;}#sk-container-id-1 div.sk-label-container {text-align: center;}#sk-container-id-1 div.sk-container {/* jupyter's `normalize.less` sets `[hidden] { display: none; }` but bootstrap.min.css set `[hidden] { display: none !important; }` so we also need the `!important` here to be able to override the default hidden behavior on the sphinx rendered scikit-learn.org. See: https://github.com/scikit-learn/scikit-learn/issues/21755 */display: inline-block !important;position: relative;}#sk-container-id-1 div.sk-text-repr-fallback {display: none;}</style><div id=\"sk-container-id-1\" class=\"sk-top-container\"><div class=\"sk-text-repr-fallback\"><pre>GridSearchCV(cv=TimeSeriesSplit(gap=0, max_train_size=None, n_splits=3, test_size=None),\n",
       "             estimator=LinearRegression(), param_grid={},\n",
       "             scoring=&#x27;neg_root_mean_squared_error&#x27;, verbose=3)</pre><b>In a Jupyter environment, please rerun this cell to show the HTML representation or trust the notebook. <br />On GitHub, the HTML representation is unable to render, please try loading this page with nbviewer.org.</b></div><div class=\"sk-container\" hidden><div class=\"sk-item sk-dashed-wrapped\"><div class=\"sk-label-container\"><div class=\"sk-label sk-toggleable\"><input class=\"sk-toggleable__control sk-hidden--visually\" id=\"sk-estimator-id-1\" type=\"checkbox\" ><label for=\"sk-estimator-id-1\" class=\"sk-toggleable__label sk-toggleable__label-arrow\">GridSearchCV</label><div class=\"sk-toggleable__content\"><pre>GridSearchCV(cv=TimeSeriesSplit(gap=0, max_train_size=None, n_splits=3, test_size=None),\n",
       "             estimator=LinearRegression(), param_grid={},\n",
       "             scoring=&#x27;neg_root_mean_squared_error&#x27;, verbose=3)</pre></div></div></div><div class=\"sk-parallel\"><div class=\"sk-parallel-item\"><div class=\"sk-item\"><div class=\"sk-label-container\"><div class=\"sk-label sk-toggleable\"><input class=\"sk-toggleable__control sk-hidden--visually\" id=\"sk-estimator-id-2\" type=\"checkbox\" ><label for=\"sk-estimator-id-2\" class=\"sk-toggleable__label sk-toggleable__label-arrow\">estimator: LinearRegression</label><div class=\"sk-toggleable__content\"><pre>LinearRegression()</pre></div></div></div><div class=\"sk-serial\"><div class=\"sk-item\"><div class=\"sk-estimator sk-toggleable\"><input class=\"sk-toggleable__control sk-hidden--visually\" id=\"sk-estimator-id-3\" type=\"checkbox\" ><label for=\"sk-estimator-id-3\" class=\"sk-toggleable__label sk-toggleable__label-arrow\">LinearRegression</label><div class=\"sk-toggleable__content\"><pre>LinearRegression()</pre></div></div></div></div></div></div></div></div></div></div>"
      ],
      "text/plain": [
       "GridSearchCV(cv=TimeSeriesSplit(gap=0, max_train_size=None, n_splits=3, test_size=None),\n",
       "             estimator=LinearRegression(), param_grid={},\n",
       "             scoring='neg_root_mean_squared_error', verbose=3)"
      ]
     },
     "execution_count": 22,
     "metadata": {},
     "output_type": "execute_result"
    }
   ],
   "source": [
    "model_lin = LinearRegression()\n",
    "tscv = TimeSeriesSplit(n_splits=3)\n",
    "m_l = GridSearchCV(estimator=model_lin, param_grid={}, scoring='neg_root_mean_squared_error', cv=tscv, verbose=3)\n",
    "m_l.fit(features_train_scal, target_train)"
   ]
  },
  {
   "cell_type": "code",
   "execution_count": 23,
   "metadata": {},
   "outputs": [
    {
     "data": {
      "text/html": [
       "<style>#sk-container-id-2 {color: black;}#sk-container-id-2 pre{padding: 0;}#sk-container-id-2 div.sk-toggleable {background-color: white;}#sk-container-id-2 label.sk-toggleable__label {cursor: pointer;display: block;width: 100%;margin-bottom: 0;padding: 0.3em;box-sizing: border-box;text-align: center;}#sk-container-id-2 label.sk-toggleable__label-arrow:before {content: \"▸\";float: left;margin-right: 0.25em;color: #696969;}#sk-container-id-2 label.sk-toggleable__label-arrow:hover:before {color: black;}#sk-container-id-2 div.sk-estimator:hover label.sk-toggleable__label-arrow:before {color: black;}#sk-container-id-2 div.sk-toggleable__content {max-height: 0;max-width: 0;overflow: hidden;text-align: left;background-color: #f0f8ff;}#sk-container-id-2 div.sk-toggleable__content pre {margin: 0.2em;color: black;border-radius: 0.25em;background-color: #f0f8ff;}#sk-container-id-2 input.sk-toggleable__control:checked~div.sk-toggleable__content {max-height: 200px;max-width: 100%;overflow: auto;}#sk-container-id-2 input.sk-toggleable__control:checked~label.sk-toggleable__label-arrow:before {content: \"▾\";}#sk-container-id-2 div.sk-estimator input.sk-toggleable__control:checked~label.sk-toggleable__label {background-color: #d4ebff;}#sk-container-id-2 div.sk-label input.sk-toggleable__control:checked~label.sk-toggleable__label {background-color: #d4ebff;}#sk-container-id-2 input.sk-hidden--visually {border: 0;clip: rect(1px 1px 1px 1px);clip: rect(1px, 1px, 1px, 1px);height: 1px;margin: -1px;overflow: hidden;padding: 0;position: absolute;width: 1px;}#sk-container-id-2 div.sk-estimator {font-family: monospace;background-color: #f0f8ff;border: 1px dotted black;border-radius: 0.25em;box-sizing: border-box;margin-bottom: 0.5em;}#sk-container-id-2 div.sk-estimator:hover {background-color: #d4ebff;}#sk-container-id-2 div.sk-parallel-item::after {content: \"\";width: 100%;border-bottom: 1px solid gray;flex-grow: 1;}#sk-container-id-2 div.sk-label:hover label.sk-toggleable__label {background-color: #d4ebff;}#sk-container-id-2 div.sk-serial::before {content: \"\";position: absolute;border-left: 1px solid gray;box-sizing: border-box;top: 0;bottom: 0;left: 50%;z-index: 0;}#sk-container-id-2 div.sk-serial {display: flex;flex-direction: column;align-items: center;background-color: white;padding-right: 0.2em;padding-left: 0.2em;position: relative;}#sk-container-id-2 div.sk-item {position: relative;z-index: 1;}#sk-container-id-2 div.sk-parallel {display: flex;align-items: stretch;justify-content: center;background-color: white;position: relative;}#sk-container-id-2 div.sk-item::before, #sk-container-id-2 div.sk-parallel-item::before {content: \"\";position: absolute;border-left: 1px solid gray;box-sizing: border-box;top: 0;bottom: 0;left: 50%;z-index: -1;}#sk-container-id-2 div.sk-parallel-item {display: flex;flex-direction: column;z-index: 1;position: relative;background-color: white;}#sk-container-id-2 div.sk-parallel-item:first-child::after {align-self: flex-end;width: 50%;}#sk-container-id-2 div.sk-parallel-item:last-child::after {align-self: flex-start;width: 50%;}#sk-container-id-2 div.sk-parallel-item:only-child::after {width: 0;}#sk-container-id-2 div.sk-dashed-wrapped {border: 1px dashed gray;margin: 0 0.4em 0.5em 0.4em;box-sizing: border-box;padding-bottom: 0.4em;background-color: white;}#sk-container-id-2 div.sk-label label {font-family: monospace;font-weight: bold;display: inline-block;line-height: 1.2em;}#sk-container-id-2 div.sk-label-container {text-align: center;}#sk-container-id-2 div.sk-container {/* jupyter's `normalize.less` sets `[hidden] { display: none; }` but bootstrap.min.css set `[hidden] { display: none !important; }` so we also need the `!important` here to be able to override the default hidden behavior on the sphinx rendered scikit-learn.org. See: https://github.com/scikit-learn/scikit-learn/issues/21755 */display: inline-block !important;position: relative;}#sk-container-id-2 div.sk-text-repr-fallback {display: none;}</style><div id=\"sk-container-id-2\" class=\"sk-top-container\"><div class=\"sk-text-repr-fallback\"><pre>LinearRegression()</pre><b>In a Jupyter environment, please rerun this cell to show the HTML representation or trust the notebook. <br />On GitHub, the HTML representation is unable to render, please try loading this page with nbviewer.org.</b></div><div class=\"sk-container\" hidden><div class=\"sk-item\"><div class=\"sk-estimator sk-toggleable\"><input class=\"sk-toggleable__control sk-hidden--visually\" id=\"sk-estimator-id-4\" type=\"checkbox\" checked><label for=\"sk-estimator-id-4\" class=\"sk-toggleable__label sk-toggleable__label-arrow\">LinearRegression</label><div class=\"sk-toggleable__content\"><pre>LinearRegression()</pre></div></div></div></div></div>"
      ],
      "text/plain": [
       "LinearRegression()"
      ]
     },
     "execution_count": 23,
     "metadata": {},
     "output_type": "execute_result"
    }
   ],
   "source": [
    "m_l.best_estimator_"
   ]
  },
  {
   "cell_type": "code",
   "execution_count": 24,
   "metadata": {},
   "outputs": [
    {
     "data": {
      "text/plain": [
       "-27.772949148293964"
      ]
     },
     "execution_count": 24,
     "metadata": {},
     "output_type": "execute_result"
    }
   ],
   "source": [
    "m_l.best_score_"
   ]
  },
  {
   "cell_type": "markdown",
   "metadata": {},
   "source": [
    "Обучим лес."
   ]
  },
  {
   "cell_type": "code",
   "execution_count": 25,
   "metadata": {
    "scrolled": true
   },
   "outputs": [
    {
     "data": {
      "text/html": [
       "<style>#sk-container-id-3 {color: black;}#sk-container-id-3 pre{padding: 0;}#sk-container-id-3 div.sk-toggleable {background-color: white;}#sk-container-id-3 label.sk-toggleable__label {cursor: pointer;display: block;width: 100%;margin-bottom: 0;padding: 0.3em;box-sizing: border-box;text-align: center;}#sk-container-id-3 label.sk-toggleable__label-arrow:before {content: \"▸\";float: left;margin-right: 0.25em;color: #696969;}#sk-container-id-3 label.sk-toggleable__label-arrow:hover:before {color: black;}#sk-container-id-3 div.sk-estimator:hover label.sk-toggleable__label-arrow:before {color: black;}#sk-container-id-3 div.sk-toggleable__content {max-height: 0;max-width: 0;overflow: hidden;text-align: left;background-color: #f0f8ff;}#sk-container-id-3 div.sk-toggleable__content pre {margin: 0.2em;color: black;border-radius: 0.25em;background-color: #f0f8ff;}#sk-container-id-3 input.sk-toggleable__control:checked~div.sk-toggleable__content {max-height: 200px;max-width: 100%;overflow: auto;}#sk-container-id-3 input.sk-toggleable__control:checked~label.sk-toggleable__label-arrow:before {content: \"▾\";}#sk-container-id-3 div.sk-estimator input.sk-toggleable__control:checked~label.sk-toggleable__label {background-color: #d4ebff;}#sk-container-id-3 div.sk-label input.sk-toggleable__control:checked~label.sk-toggleable__label {background-color: #d4ebff;}#sk-container-id-3 input.sk-hidden--visually {border: 0;clip: rect(1px 1px 1px 1px);clip: rect(1px, 1px, 1px, 1px);height: 1px;margin: -1px;overflow: hidden;padding: 0;position: absolute;width: 1px;}#sk-container-id-3 div.sk-estimator {font-family: monospace;background-color: #f0f8ff;border: 1px dotted black;border-radius: 0.25em;box-sizing: border-box;margin-bottom: 0.5em;}#sk-container-id-3 div.sk-estimator:hover {background-color: #d4ebff;}#sk-container-id-3 div.sk-parallel-item::after {content: \"\";width: 100%;border-bottom: 1px solid gray;flex-grow: 1;}#sk-container-id-3 div.sk-label:hover label.sk-toggleable__label {background-color: #d4ebff;}#sk-container-id-3 div.sk-serial::before {content: \"\";position: absolute;border-left: 1px solid gray;box-sizing: border-box;top: 0;bottom: 0;left: 50%;z-index: 0;}#sk-container-id-3 div.sk-serial {display: flex;flex-direction: column;align-items: center;background-color: white;padding-right: 0.2em;padding-left: 0.2em;position: relative;}#sk-container-id-3 div.sk-item {position: relative;z-index: 1;}#sk-container-id-3 div.sk-parallel {display: flex;align-items: stretch;justify-content: center;background-color: white;position: relative;}#sk-container-id-3 div.sk-item::before, #sk-container-id-3 div.sk-parallel-item::before {content: \"\";position: absolute;border-left: 1px solid gray;box-sizing: border-box;top: 0;bottom: 0;left: 50%;z-index: -1;}#sk-container-id-3 div.sk-parallel-item {display: flex;flex-direction: column;z-index: 1;position: relative;background-color: white;}#sk-container-id-3 div.sk-parallel-item:first-child::after {align-self: flex-end;width: 50%;}#sk-container-id-3 div.sk-parallel-item:last-child::after {align-self: flex-start;width: 50%;}#sk-container-id-3 div.sk-parallel-item:only-child::after {width: 0;}#sk-container-id-3 div.sk-dashed-wrapped {border: 1px dashed gray;margin: 0 0.4em 0.5em 0.4em;box-sizing: border-box;padding-bottom: 0.4em;background-color: white;}#sk-container-id-3 div.sk-label label {font-family: monospace;font-weight: bold;display: inline-block;line-height: 1.2em;}#sk-container-id-3 div.sk-label-container {text-align: center;}#sk-container-id-3 div.sk-container {/* jupyter's `normalize.less` sets `[hidden] { display: none; }` but bootstrap.min.css set `[hidden] { display: none !important; }` so we also need the `!important` here to be able to override the default hidden behavior on the sphinx rendered scikit-learn.org. See: https://github.com/scikit-learn/scikit-learn/issues/21755 */display: inline-block !important;position: relative;}#sk-container-id-3 div.sk-text-repr-fallback {display: none;}</style><div id=\"sk-container-id-3\" class=\"sk-top-container\"><div class=\"sk-text-repr-fallback\"><pre>GridSearchCV(cv=TimeSeriesSplit(gap=0, max_train_size=None, n_splits=3, test_size=None),\n",
       "             estimator=RandomForestRegressor(random_state=12345),\n",
       "             param_grid={&#x27;max_depth&#x27;: range(5, 10),\n",
       "                         &#x27;n_estimators&#x27;: range(25, 101, 25)},\n",
       "             scoring=&#x27;neg_root_mean_squared_error&#x27;)</pre><b>In a Jupyter environment, please rerun this cell to show the HTML representation or trust the notebook. <br />On GitHub, the HTML representation is unable to render, please try loading this page with nbviewer.org.</b></div><div class=\"sk-container\" hidden><div class=\"sk-item sk-dashed-wrapped\"><div class=\"sk-label-container\"><div class=\"sk-label sk-toggleable\"><input class=\"sk-toggleable__control sk-hidden--visually\" id=\"sk-estimator-id-5\" type=\"checkbox\" ><label for=\"sk-estimator-id-5\" class=\"sk-toggleable__label sk-toggleable__label-arrow\">GridSearchCV</label><div class=\"sk-toggleable__content\"><pre>GridSearchCV(cv=TimeSeriesSplit(gap=0, max_train_size=None, n_splits=3, test_size=None),\n",
       "             estimator=RandomForestRegressor(random_state=12345),\n",
       "             param_grid={&#x27;max_depth&#x27;: range(5, 10),\n",
       "                         &#x27;n_estimators&#x27;: range(25, 101, 25)},\n",
       "             scoring=&#x27;neg_root_mean_squared_error&#x27;)</pre></div></div></div><div class=\"sk-parallel\"><div class=\"sk-parallel-item\"><div class=\"sk-item\"><div class=\"sk-label-container\"><div class=\"sk-label sk-toggleable\"><input class=\"sk-toggleable__control sk-hidden--visually\" id=\"sk-estimator-id-6\" type=\"checkbox\" ><label for=\"sk-estimator-id-6\" class=\"sk-toggleable__label sk-toggleable__label-arrow\">estimator: RandomForestRegressor</label><div class=\"sk-toggleable__content\"><pre>RandomForestRegressor(random_state=12345)</pre></div></div></div><div class=\"sk-serial\"><div class=\"sk-item\"><div class=\"sk-estimator sk-toggleable\"><input class=\"sk-toggleable__control sk-hidden--visually\" id=\"sk-estimator-id-7\" type=\"checkbox\" ><label for=\"sk-estimator-id-7\" class=\"sk-toggleable__label sk-toggleable__label-arrow\">RandomForestRegressor</label><div class=\"sk-toggleable__content\"><pre>RandomForestRegressor(random_state=12345)</pre></div></div></div></div></div></div></div></div></div></div>"
      ],
      "text/plain": [
       "GridSearchCV(cv=TimeSeriesSplit(gap=0, max_train_size=None, n_splits=3, test_size=None),\n",
       "             estimator=RandomForestRegressor(random_state=12345),\n",
       "             param_grid={'max_depth': range(5, 10),\n",
       "                         'n_estimators': range(25, 101, 25)},\n",
       "             scoring='neg_root_mean_squared_error')"
      ]
     },
     "execution_count": 25,
     "metadata": {},
     "output_type": "execute_result"
    }
   ],
   "source": [
    "model_forest = RandomForestRegressor(random_state=12345)\n",
    "tscv = TimeSeriesSplit(n_splits=3)\n",
    "params = {'max_depth': range(5,10), 'n_estimators': range(25, 101, 25)}\n",
    "m_f = GridSearchCV(estimator=model_forest, param_grid=params, scoring='neg_root_mean_squared_error', cv=tscv)\n",
    "m_f.fit(features_train, target_train)"
   ]
  },
  {
   "cell_type": "code",
   "execution_count": 26,
   "metadata": {},
   "outputs": [
    {
     "data": {
      "text/html": [
       "<style>#sk-container-id-4 {color: black;}#sk-container-id-4 pre{padding: 0;}#sk-container-id-4 div.sk-toggleable {background-color: white;}#sk-container-id-4 label.sk-toggleable__label {cursor: pointer;display: block;width: 100%;margin-bottom: 0;padding: 0.3em;box-sizing: border-box;text-align: center;}#sk-container-id-4 label.sk-toggleable__label-arrow:before {content: \"▸\";float: left;margin-right: 0.25em;color: #696969;}#sk-container-id-4 label.sk-toggleable__label-arrow:hover:before {color: black;}#sk-container-id-4 div.sk-estimator:hover label.sk-toggleable__label-arrow:before {color: black;}#sk-container-id-4 div.sk-toggleable__content {max-height: 0;max-width: 0;overflow: hidden;text-align: left;background-color: #f0f8ff;}#sk-container-id-4 div.sk-toggleable__content pre {margin: 0.2em;color: black;border-radius: 0.25em;background-color: #f0f8ff;}#sk-container-id-4 input.sk-toggleable__control:checked~div.sk-toggleable__content {max-height: 200px;max-width: 100%;overflow: auto;}#sk-container-id-4 input.sk-toggleable__control:checked~label.sk-toggleable__label-arrow:before {content: \"▾\";}#sk-container-id-4 div.sk-estimator input.sk-toggleable__control:checked~label.sk-toggleable__label {background-color: #d4ebff;}#sk-container-id-4 div.sk-label input.sk-toggleable__control:checked~label.sk-toggleable__label {background-color: #d4ebff;}#sk-container-id-4 input.sk-hidden--visually {border: 0;clip: rect(1px 1px 1px 1px);clip: rect(1px, 1px, 1px, 1px);height: 1px;margin: -1px;overflow: hidden;padding: 0;position: absolute;width: 1px;}#sk-container-id-4 div.sk-estimator {font-family: monospace;background-color: #f0f8ff;border: 1px dotted black;border-radius: 0.25em;box-sizing: border-box;margin-bottom: 0.5em;}#sk-container-id-4 div.sk-estimator:hover {background-color: #d4ebff;}#sk-container-id-4 div.sk-parallel-item::after {content: \"\";width: 100%;border-bottom: 1px solid gray;flex-grow: 1;}#sk-container-id-4 div.sk-label:hover label.sk-toggleable__label {background-color: #d4ebff;}#sk-container-id-4 div.sk-serial::before {content: \"\";position: absolute;border-left: 1px solid gray;box-sizing: border-box;top: 0;bottom: 0;left: 50%;z-index: 0;}#sk-container-id-4 div.sk-serial {display: flex;flex-direction: column;align-items: center;background-color: white;padding-right: 0.2em;padding-left: 0.2em;position: relative;}#sk-container-id-4 div.sk-item {position: relative;z-index: 1;}#sk-container-id-4 div.sk-parallel {display: flex;align-items: stretch;justify-content: center;background-color: white;position: relative;}#sk-container-id-4 div.sk-item::before, #sk-container-id-4 div.sk-parallel-item::before {content: \"\";position: absolute;border-left: 1px solid gray;box-sizing: border-box;top: 0;bottom: 0;left: 50%;z-index: -1;}#sk-container-id-4 div.sk-parallel-item {display: flex;flex-direction: column;z-index: 1;position: relative;background-color: white;}#sk-container-id-4 div.sk-parallel-item:first-child::after {align-self: flex-end;width: 50%;}#sk-container-id-4 div.sk-parallel-item:last-child::after {align-self: flex-start;width: 50%;}#sk-container-id-4 div.sk-parallel-item:only-child::after {width: 0;}#sk-container-id-4 div.sk-dashed-wrapped {border: 1px dashed gray;margin: 0 0.4em 0.5em 0.4em;box-sizing: border-box;padding-bottom: 0.4em;background-color: white;}#sk-container-id-4 div.sk-label label {font-family: monospace;font-weight: bold;display: inline-block;line-height: 1.2em;}#sk-container-id-4 div.sk-label-container {text-align: center;}#sk-container-id-4 div.sk-container {/* jupyter's `normalize.less` sets `[hidden] { display: none; }` but bootstrap.min.css set `[hidden] { display: none !important; }` so we also need the `!important` here to be able to override the default hidden behavior on the sphinx rendered scikit-learn.org. See: https://github.com/scikit-learn/scikit-learn/issues/21755 */display: inline-block !important;position: relative;}#sk-container-id-4 div.sk-text-repr-fallback {display: none;}</style><div id=\"sk-container-id-4\" class=\"sk-top-container\"><div class=\"sk-text-repr-fallback\"><pre>RandomForestRegressor(max_depth=9, random_state=12345)</pre><b>In a Jupyter environment, please rerun this cell to show the HTML representation or trust the notebook. <br />On GitHub, the HTML representation is unable to render, please try loading this page with nbviewer.org.</b></div><div class=\"sk-container\" hidden><div class=\"sk-item\"><div class=\"sk-estimator sk-toggleable\"><input class=\"sk-toggleable__control sk-hidden--visually\" id=\"sk-estimator-id-8\" type=\"checkbox\" checked><label for=\"sk-estimator-id-8\" class=\"sk-toggleable__label sk-toggleable__label-arrow\">RandomForestRegressor</label><div class=\"sk-toggleable__content\"><pre>RandomForestRegressor(max_depth=9, random_state=12345)</pre></div></div></div></div></div>"
      ],
      "text/plain": [
       "RandomForestRegressor(max_depth=9, random_state=12345)"
      ]
     },
     "execution_count": 26,
     "metadata": {},
     "output_type": "execute_result"
    }
   ],
   "source": [
    "m_f.best_estimator_"
   ]
  },
  {
   "cell_type": "code",
   "execution_count": 27,
   "metadata": {
    "scrolled": true
   },
   "outputs": [
    {
     "data": {
      "text/plain": [
       "-27.24125967718682"
      ]
     },
     "execution_count": 27,
     "metadata": {},
     "output_type": "execute_result"
    }
   ],
   "source": [
    "m_f.best_score_"
   ]
  },
  {
   "cell_type": "markdown",
   "metadata": {},
   "source": [
    "Обучим LightGBM."
   ]
  },
  {
   "cell_type": "code",
   "execution_count": 28,
   "metadata": {},
   "outputs": [
    {
     "name": "stdout",
     "output_type": "stream",
     "text": [
      "Fitting 3 folds for each of 1 candidates, totalling 3 fits\n",
      "[CV 1/3] END ................................., score=-24.383 total time=  12.5s\n",
      "[CV 2/3] END ................................., score=-24.284 total time=   6.8s\n",
      "[CV 3/3] END ................................., score=-31.386 total time=   9.8s\n"
     ]
    },
    {
     "data": {
      "text/html": [
       "<style>#sk-container-id-5 {color: black;}#sk-container-id-5 pre{padding: 0;}#sk-container-id-5 div.sk-toggleable {background-color: white;}#sk-container-id-5 label.sk-toggleable__label {cursor: pointer;display: block;width: 100%;margin-bottom: 0;padding: 0.3em;box-sizing: border-box;text-align: center;}#sk-container-id-5 label.sk-toggleable__label-arrow:before {content: \"▸\";float: left;margin-right: 0.25em;color: #696969;}#sk-container-id-5 label.sk-toggleable__label-arrow:hover:before {color: black;}#sk-container-id-5 div.sk-estimator:hover label.sk-toggleable__label-arrow:before {color: black;}#sk-container-id-5 div.sk-toggleable__content {max-height: 0;max-width: 0;overflow: hidden;text-align: left;background-color: #f0f8ff;}#sk-container-id-5 div.sk-toggleable__content pre {margin: 0.2em;color: black;border-radius: 0.25em;background-color: #f0f8ff;}#sk-container-id-5 input.sk-toggleable__control:checked~div.sk-toggleable__content {max-height: 200px;max-width: 100%;overflow: auto;}#sk-container-id-5 input.sk-toggleable__control:checked~label.sk-toggleable__label-arrow:before {content: \"▾\";}#sk-container-id-5 div.sk-estimator input.sk-toggleable__control:checked~label.sk-toggleable__label {background-color: #d4ebff;}#sk-container-id-5 div.sk-label input.sk-toggleable__control:checked~label.sk-toggleable__label {background-color: #d4ebff;}#sk-container-id-5 input.sk-hidden--visually {border: 0;clip: rect(1px 1px 1px 1px);clip: rect(1px, 1px, 1px, 1px);height: 1px;margin: -1px;overflow: hidden;padding: 0;position: absolute;width: 1px;}#sk-container-id-5 div.sk-estimator {font-family: monospace;background-color: #f0f8ff;border: 1px dotted black;border-radius: 0.25em;box-sizing: border-box;margin-bottom: 0.5em;}#sk-container-id-5 div.sk-estimator:hover {background-color: #d4ebff;}#sk-container-id-5 div.sk-parallel-item::after {content: \"\";width: 100%;border-bottom: 1px solid gray;flex-grow: 1;}#sk-container-id-5 div.sk-label:hover label.sk-toggleable__label {background-color: #d4ebff;}#sk-container-id-5 div.sk-serial::before {content: \"\";position: absolute;border-left: 1px solid gray;box-sizing: border-box;top: 0;bottom: 0;left: 50%;z-index: 0;}#sk-container-id-5 div.sk-serial {display: flex;flex-direction: column;align-items: center;background-color: white;padding-right: 0.2em;padding-left: 0.2em;position: relative;}#sk-container-id-5 div.sk-item {position: relative;z-index: 1;}#sk-container-id-5 div.sk-parallel {display: flex;align-items: stretch;justify-content: center;background-color: white;position: relative;}#sk-container-id-5 div.sk-item::before, #sk-container-id-5 div.sk-parallel-item::before {content: \"\";position: absolute;border-left: 1px solid gray;box-sizing: border-box;top: 0;bottom: 0;left: 50%;z-index: -1;}#sk-container-id-5 div.sk-parallel-item {display: flex;flex-direction: column;z-index: 1;position: relative;background-color: white;}#sk-container-id-5 div.sk-parallel-item:first-child::after {align-self: flex-end;width: 50%;}#sk-container-id-5 div.sk-parallel-item:last-child::after {align-self: flex-start;width: 50%;}#sk-container-id-5 div.sk-parallel-item:only-child::after {width: 0;}#sk-container-id-5 div.sk-dashed-wrapped {border: 1px dashed gray;margin: 0 0.4em 0.5em 0.4em;box-sizing: border-box;padding-bottom: 0.4em;background-color: white;}#sk-container-id-5 div.sk-label label {font-family: monospace;font-weight: bold;display: inline-block;line-height: 1.2em;}#sk-container-id-5 div.sk-label-container {text-align: center;}#sk-container-id-5 div.sk-container {/* jupyter's `normalize.less` sets `[hidden] { display: none; }` but bootstrap.min.css set `[hidden] { display: none !important; }` so we also need the `!important` here to be able to override the default hidden behavior on the sphinx rendered scikit-learn.org. See: https://github.com/scikit-learn/scikit-learn/issues/21755 */display: inline-block !important;position: relative;}#sk-container-id-5 div.sk-text-repr-fallback {display: none;}</style><div id=\"sk-container-id-5\" class=\"sk-top-container\"><div class=\"sk-text-repr-fallback\"><pre>GridSearchCV(cv=TimeSeriesSplit(gap=0, max_train_size=None, n_splits=3, test_size=None),\n",
       "             estimator=LGBMRegressor(random_state=12345), param_grid={},\n",
       "             scoring=&#x27;neg_root_mean_squared_error&#x27;, verbose=3)</pre><b>In a Jupyter environment, please rerun this cell to show the HTML representation or trust the notebook. <br />On GitHub, the HTML representation is unable to render, please try loading this page with nbviewer.org.</b></div><div class=\"sk-container\" hidden><div class=\"sk-item sk-dashed-wrapped\"><div class=\"sk-label-container\"><div class=\"sk-label sk-toggleable\"><input class=\"sk-toggleable__control sk-hidden--visually\" id=\"sk-estimator-id-9\" type=\"checkbox\" ><label for=\"sk-estimator-id-9\" class=\"sk-toggleable__label sk-toggleable__label-arrow\">GridSearchCV</label><div class=\"sk-toggleable__content\"><pre>GridSearchCV(cv=TimeSeriesSplit(gap=0, max_train_size=None, n_splits=3, test_size=None),\n",
       "             estimator=LGBMRegressor(random_state=12345), param_grid={},\n",
       "             scoring=&#x27;neg_root_mean_squared_error&#x27;, verbose=3)</pre></div></div></div><div class=\"sk-parallel\"><div class=\"sk-parallel-item\"><div class=\"sk-item\"><div class=\"sk-label-container\"><div class=\"sk-label sk-toggleable\"><input class=\"sk-toggleable__control sk-hidden--visually\" id=\"sk-estimator-id-10\" type=\"checkbox\" ><label for=\"sk-estimator-id-10\" class=\"sk-toggleable__label sk-toggleable__label-arrow\">estimator: LGBMRegressor</label><div class=\"sk-toggleable__content\"><pre>LGBMRegressor(random_state=12345)</pre></div></div></div><div class=\"sk-serial\"><div class=\"sk-item\"><div class=\"sk-estimator sk-toggleable\"><input class=\"sk-toggleable__control sk-hidden--visually\" id=\"sk-estimator-id-11\" type=\"checkbox\" ><label for=\"sk-estimator-id-11\" class=\"sk-toggleable__label sk-toggleable__label-arrow\">LGBMRegressor</label><div class=\"sk-toggleable__content\"><pre>LGBMRegressor(random_state=12345)</pre></div></div></div></div></div></div></div></div></div></div>"
      ],
      "text/plain": [
       "GridSearchCV(cv=TimeSeriesSplit(gap=0, max_train_size=None, n_splits=3, test_size=None),\n",
       "             estimator=LGBMRegressor(random_state=12345), param_grid={},\n",
       "             scoring='neg_root_mean_squared_error', verbose=3)"
      ]
     },
     "execution_count": 28,
     "metadata": {},
     "output_type": "execute_result"
    }
   ],
   "source": [
    "model_lgb = lgb.LGBMRegressor(random_state=12345)\n",
    "tscv = TimeSeriesSplit(n_splits=3)\n",
    "m_lgb = GridSearchCV(estimator=model_lgb, param_grid={}, scoring='neg_root_mean_squared_error', cv=tscv, verbose=3)\n",
    "m_lgb.fit(features_train, target_train)"
   ]
  },
  {
   "cell_type": "code",
   "execution_count": 29,
   "metadata": {},
   "outputs": [
    {
     "data": {
      "text/plain": [
       "-26.684675194548007"
      ]
     },
     "execution_count": 29,
     "metadata": {},
     "output_type": "execute_result"
    }
   ],
   "source": [
    "m_lgb.best_score_"
   ]
  },
  {
   "cell_type": "markdown",
   "metadata": {},
   "source": [
    "И наконец CatBoost."
   ]
  },
  {
   "cell_type": "code",
   "execution_count": 30,
   "metadata": {},
   "outputs": [
    {
     "name": "stdout",
     "output_type": "stream",
     "text": [
      "Fitting 3 folds for each of 1 candidates, totalling 3 fits\n",
      "[CV 1/3] END ................................., score=-23.453 total time=   4.2s\n",
      "[CV 2/3] END ................................., score=-23.474 total time=   5.0s\n",
      "[CV 3/3] END ................................., score=-30.534 total time=   5.4s\n"
     ]
    },
    {
     "data": {
      "text/html": [
       "<style>#sk-container-id-6 {color: black;}#sk-container-id-6 pre{padding: 0;}#sk-container-id-6 div.sk-toggleable {background-color: white;}#sk-container-id-6 label.sk-toggleable__label {cursor: pointer;display: block;width: 100%;margin-bottom: 0;padding: 0.3em;box-sizing: border-box;text-align: center;}#sk-container-id-6 label.sk-toggleable__label-arrow:before {content: \"▸\";float: left;margin-right: 0.25em;color: #696969;}#sk-container-id-6 label.sk-toggleable__label-arrow:hover:before {color: black;}#sk-container-id-6 div.sk-estimator:hover label.sk-toggleable__label-arrow:before {color: black;}#sk-container-id-6 div.sk-toggleable__content {max-height: 0;max-width: 0;overflow: hidden;text-align: left;background-color: #f0f8ff;}#sk-container-id-6 div.sk-toggleable__content pre {margin: 0.2em;color: black;border-radius: 0.25em;background-color: #f0f8ff;}#sk-container-id-6 input.sk-toggleable__control:checked~div.sk-toggleable__content {max-height: 200px;max-width: 100%;overflow: auto;}#sk-container-id-6 input.sk-toggleable__control:checked~label.sk-toggleable__label-arrow:before {content: \"▾\";}#sk-container-id-6 div.sk-estimator input.sk-toggleable__control:checked~label.sk-toggleable__label {background-color: #d4ebff;}#sk-container-id-6 div.sk-label input.sk-toggleable__control:checked~label.sk-toggleable__label {background-color: #d4ebff;}#sk-container-id-6 input.sk-hidden--visually {border: 0;clip: rect(1px 1px 1px 1px);clip: rect(1px, 1px, 1px, 1px);height: 1px;margin: -1px;overflow: hidden;padding: 0;position: absolute;width: 1px;}#sk-container-id-6 div.sk-estimator {font-family: monospace;background-color: #f0f8ff;border: 1px dotted black;border-radius: 0.25em;box-sizing: border-box;margin-bottom: 0.5em;}#sk-container-id-6 div.sk-estimator:hover {background-color: #d4ebff;}#sk-container-id-6 div.sk-parallel-item::after {content: \"\";width: 100%;border-bottom: 1px solid gray;flex-grow: 1;}#sk-container-id-6 div.sk-label:hover label.sk-toggleable__label {background-color: #d4ebff;}#sk-container-id-6 div.sk-serial::before {content: \"\";position: absolute;border-left: 1px solid gray;box-sizing: border-box;top: 0;bottom: 0;left: 50%;z-index: 0;}#sk-container-id-6 div.sk-serial {display: flex;flex-direction: column;align-items: center;background-color: white;padding-right: 0.2em;padding-left: 0.2em;position: relative;}#sk-container-id-6 div.sk-item {position: relative;z-index: 1;}#sk-container-id-6 div.sk-parallel {display: flex;align-items: stretch;justify-content: center;background-color: white;position: relative;}#sk-container-id-6 div.sk-item::before, #sk-container-id-6 div.sk-parallel-item::before {content: \"\";position: absolute;border-left: 1px solid gray;box-sizing: border-box;top: 0;bottom: 0;left: 50%;z-index: -1;}#sk-container-id-6 div.sk-parallel-item {display: flex;flex-direction: column;z-index: 1;position: relative;background-color: white;}#sk-container-id-6 div.sk-parallel-item:first-child::after {align-self: flex-end;width: 50%;}#sk-container-id-6 div.sk-parallel-item:last-child::after {align-self: flex-start;width: 50%;}#sk-container-id-6 div.sk-parallel-item:only-child::after {width: 0;}#sk-container-id-6 div.sk-dashed-wrapped {border: 1px dashed gray;margin: 0 0.4em 0.5em 0.4em;box-sizing: border-box;padding-bottom: 0.4em;background-color: white;}#sk-container-id-6 div.sk-label label {font-family: monospace;font-weight: bold;display: inline-block;line-height: 1.2em;}#sk-container-id-6 div.sk-label-container {text-align: center;}#sk-container-id-6 div.sk-container {/* jupyter's `normalize.less` sets `[hidden] { display: none; }` but bootstrap.min.css set `[hidden] { display: none !important; }` so we also need the `!important` here to be able to override the default hidden behavior on the sphinx rendered scikit-learn.org. See: https://github.com/scikit-learn/scikit-learn/issues/21755 */display: inline-block !important;position: relative;}#sk-container-id-6 div.sk-text-repr-fallback {display: none;}</style><div id=\"sk-container-id-6\" class=\"sk-top-container\"><div class=\"sk-text-repr-fallback\"><pre>GridSearchCV(cv=TimeSeriesSplit(gap=0, max_train_size=None, n_splits=3, test_size=None),\n",
       "             estimator=&lt;catboost.core.CatBoostRegressor object at 0x7f4cb46b0b50&gt;,\n",
       "             param_grid={}, scoring=&#x27;neg_root_mean_squared_error&#x27;, verbose=3)</pre><b>In a Jupyter environment, please rerun this cell to show the HTML representation or trust the notebook. <br />On GitHub, the HTML representation is unable to render, please try loading this page with nbviewer.org.</b></div><div class=\"sk-container\" hidden><div class=\"sk-item sk-dashed-wrapped\"><div class=\"sk-label-container\"><div class=\"sk-label sk-toggleable\"><input class=\"sk-toggleable__control sk-hidden--visually\" id=\"sk-estimator-id-12\" type=\"checkbox\" ><label for=\"sk-estimator-id-12\" class=\"sk-toggleable__label sk-toggleable__label-arrow\">GridSearchCV</label><div class=\"sk-toggleable__content\"><pre>GridSearchCV(cv=TimeSeriesSplit(gap=0, max_train_size=None, n_splits=3, test_size=None),\n",
       "             estimator=&lt;catboost.core.CatBoostRegressor object at 0x7f4cb46b0b50&gt;,\n",
       "             param_grid={}, scoring=&#x27;neg_root_mean_squared_error&#x27;, verbose=3)</pre></div></div></div><div class=\"sk-parallel\"><div class=\"sk-parallel-item\"><div class=\"sk-item\"><div class=\"sk-label-container\"><div class=\"sk-label sk-toggleable\"><input class=\"sk-toggleable__control sk-hidden--visually\" id=\"sk-estimator-id-13\" type=\"checkbox\" ><label for=\"sk-estimator-id-13\" class=\"sk-toggleable__label sk-toggleable__label-arrow\">estimator: CatBoostRegressor</label><div class=\"sk-toggleable__content\"><pre>&lt;catboost.core.CatBoostRegressor object at 0x7f4cb46b0b50&gt;</pre></div></div></div><div class=\"sk-serial\"><div class=\"sk-item\"><div class=\"sk-estimator sk-toggleable\"><input class=\"sk-toggleable__control sk-hidden--visually\" id=\"sk-estimator-id-14\" type=\"checkbox\" ><label for=\"sk-estimator-id-14\" class=\"sk-toggleable__label sk-toggleable__label-arrow\">CatBoostRegressor</label><div class=\"sk-toggleable__content\"><pre>&lt;catboost.core.CatBoostRegressor object at 0x7f4cb46b0b50&gt;</pre></div></div></div></div></div></div></div></div></div></div>"
      ],
      "text/plain": [
       "GridSearchCV(cv=TimeSeriesSplit(gap=0, max_train_size=None, n_splits=3, test_size=None),\n",
       "             estimator=<catboost.core.CatBoostRegressor object at 0x7f4cb46b0b50>,\n",
       "             param_grid={}, scoring='neg_root_mean_squared_error', verbose=3)"
      ]
     },
     "execution_count": 30,
     "metadata": {},
     "output_type": "execute_result"
    }
   ],
   "source": [
    "model_cat = CatBoostRegressor(loss_function=\"RMSE\", verbose=False, random_state=12345)\n",
    "tscv = TimeSeriesSplit(n_splits=3)\n",
    "m_cat = GridSearchCV(estimator=model_cat, param_grid={}, scoring='neg_root_mean_squared_error', cv=tscv, verbose=3)\n",
    "m_cat.fit(features_train, target_train)"
   ]
  },
  {
   "cell_type": "code",
   "execution_count": 31,
   "metadata": {},
   "outputs": [
    {
     "data": {
      "text/plain": [
       "-25.820281366648782"
      ]
     },
     "execution_count": 31,
     "metadata": {},
     "output_type": "execute_result"
    }
   ],
   "source": [
    "m_cat.best_score_"
   ]
  },
  {
   "cell_type": "markdown",
   "metadata": {},
   "source": [
    "Для всех моделей получили RMSE < 48, что удовлетворяет условию задачи. На всех моделях RMSE примерно равный."
   ]
  },
  {
   "cell_type": "markdown",
   "metadata": {},
   "source": [
    "## Тестирование"
   ]
  },
  {
   "cell_type": "markdown",
   "metadata": {},
   "source": [
    "Проверим RMSE на лучшей модели CatBoost."
   ]
  },
  {
   "cell_type": "code",
   "execution_count": 32,
   "metadata": {},
   "outputs": [
    {
     "data": {
      "text/plain": [
       "40.97105193240247"
      ]
     },
     "execution_count": 32,
     "metadata": {},
     "output_type": "execute_result"
    }
   ],
   "source": [
    "predictions_cat = m_cat.predict(features_test)\n",
    "mean_squared_error(target_test, predictions_cat)**0.5"
   ]
  },
  {
   "cell_type": "markdown",
   "metadata": {},
   "source": [
    "Получили удовлетворяющее нас RMSE < 48."
   ]
  },
  {
   "cell_type": "markdown",
   "metadata": {},
   "source": []
  }
 ],
 "metadata": {
  "ExecuteTimeLog": [
   {
    "duration": 411,
    "start_time": "2023-11-17T11:01:54.457Z"
   },
   {
    "duration": 146,
    "start_time": "2023-11-17T11:02:34.362Z"
   },
   {
    "duration": 54,
    "start_time": "2023-11-17T11:02:56.990Z"
   },
   {
    "duration": 52,
    "start_time": "2023-11-17T11:03:03.225Z"
   },
   {
    "duration": 10,
    "start_time": "2023-11-17T11:03:16.682Z"
   },
   {
    "duration": 10,
    "start_time": "2023-11-17T11:03:47.162Z"
   },
   {
    "duration": 10,
    "start_time": "2023-11-17T11:03:51.866Z"
   },
   {
    "duration": 10,
    "start_time": "2023-11-17T11:04:13.691Z"
   },
   {
    "duration": 613,
    "start_time": "2023-11-17T13:14:30.534Z"
   },
   {
    "duration": 52,
    "start_time": "2023-11-17T13:14:32.268Z"
   },
   {
    "duration": 9,
    "start_time": "2023-11-17T13:14:33.420Z"
   },
   {
    "duration": 6,
    "start_time": "2023-11-17T13:14:34.275Z"
   },
   {
    "duration": 9,
    "start_time": "2023-11-17T13:14:35.307Z"
   },
   {
    "duration": 14,
    "start_time": "2023-11-17T13:14:45.059Z"
   },
   {
    "duration": 405,
    "start_time": "2023-11-17T13:15:10.605Z"
   },
   {
    "duration": 205,
    "start_time": "2023-11-17T13:15:19.620Z"
   },
   {
    "duration": 64,
    "start_time": "2023-11-17T13:15:23.820Z"
   },
   {
    "duration": 181,
    "start_time": "2023-11-17T13:15:26.044Z"
   },
   {
    "duration": 197,
    "start_time": "2023-11-17T13:15:46.684Z"
   },
   {
    "duration": 194,
    "start_time": "2023-11-17T13:15:49.732Z"
   },
   {
    "duration": 199,
    "start_time": "2023-11-17T13:16:04.965Z"
   },
   {
    "duration": 149,
    "start_time": "2023-11-17T13:16:15.340Z"
   },
   {
    "duration": 210,
    "start_time": "2023-11-17T13:16:21.661Z"
   },
   {
    "duration": 383,
    "start_time": "2023-11-17T13:16:49.164Z"
   },
   {
    "duration": 361,
    "start_time": "2023-11-17T13:16:55.221Z"
   },
   {
    "duration": 103,
    "start_time": "2023-11-17T13:17:20.454Z"
   },
   {
    "duration": 180,
    "start_time": "2023-11-17T13:17:36.021Z"
   },
   {
    "duration": 235,
    "start_time": "2023-11-17T13:17:40.893Z"
   },
   {
    "duration": 180,
    "start_time": "2023-11-17T13:17:43.678Z"
   },
   {
    "duration": 196,
    "start_time": "2023-11-17T13:17:47.525Z"
   },
   {
    "duration": 180,
    "start_time": "2023-11-17T13:17:54.733Z"
   },
   {
    "duration": 1130,
    "start_time": "2023-11-17T13:18:52.086Z"
   },
   {
    "duration": 783,
    "start_time": "2023-11-17T13:18:57.942Z"
   },
   {
    "duration": 4,
    "start_time": "2023-11-17T13:20:34.424Z"
   },
   {
    "duration": 1140,
    "start_time": "2023-11-17T13:22:07.873Z"
   },
   {
    "duration": 4,
    "start_time": "2023-11-17T13:22:30.385Z"
   },
   {
    "duration": 12,
    "start_time": "2023-11-17T13:22:30.953Z"
   },
   {
    "duration": 23,
    "start_time": "2023-11-17T13:22:34.986Z"
   },
   {
    "duration": 248,
    "start_time": "2023-11-17T13:23:15.313Z"
   },
   {
    "duration": 6,
    "start_time": "2023-11-17T13:23:54.018Z"
   },
   {
    "duration": 6,
    "start_time": "2023-11-17T13:24:09.370Z"
   },
   {
    "duration": 22,
    "start_time": "2023-11-17T13:24:14.483Z"
   },
   {
    "duration": 3,
    "start_time": "2023-11-17T13:24:17.715Z"
   },
   {
    "duration": 3,
    "start_time": "2023-11-17T13:24:24.498Z"
   },
   {
    "duration": 4,
    "start_time": "2023-11-17T13:25:25.836Z"
   },
   {
    "duration": 5,
    "start_time": "2023-11-17T13:26:03.804Z"
   },
   {
    "duration": 56,
    "start_time": "2023-11-17T13:27:33.734Z"
   },
   {
    "duration": 4,
    "start_time": "2023-11-17T13:27:39.910Z"
   },
   {
    "duration": 4,
    "start_time": "2023-11-17T13:27:43.413Z"
   },
   {
    "duration": 3,
    "start_time": "2023-11-17T13:27:54.685Z"
   },
   {
    "duration": 4,
    "start_time": "2023-11-17T13:28:07.771Z"
   },
   {
    "duration": 3,
    "start_time": "2023-11-17T13:28:08.446Z"
   },
   {
    "duration": 93,
    "start_time": "2023-11-17T13:30:33.272Z"
   },
   {
    "duration": 3,
    "start_time": "2023-11-17T13:31:29.784Z"
   },
   {
    "duration": 31,
    "start_time": "2023-11-17T13:32:38.352Z"
   },
   {
    "duration": 15,
    "start_time": "2023-11-17T13:32:45.625Z"
   },
   {
    "duration": 22,
    "start_time": "2023-11-17T13:33:00.032Z"
   },
   {
    "duration": 32,
    "start_time": "2023-11-17T13:33:06.665Z"
   },
   {
    "duration": 1378,
    "start_time": "2023-11-17T13:33:17.581Z"
   },
   {
    "duration": 57,
    "start_time": "2023-11-17T13:33:18.960Z"
   },
   {
    "duration": 9,
    "start_time": "2023-11-17T13:33:19.019Z"
   },
   {
    "duration": 16,
    "start_time": "2023-11-17T13:33:19.029Z"
   },
   {
    "duration": 53,
    "start_time": "2023-11-17T13:33:19.047Z"
   },
   {
    "duration": 22,
    "start_time": "2023-11-17T13:33:19.102Z"
   },
   {
    "duration": 229,
    "start_time": "2023-11-17T13:33:19.125Z"
   },
   {
    "duration": 801,
    "start_time": "2023-11-17T13:33:19.355Z"
   },
   {
    "duration": 404,
    "start_time": "2023-11-17T13:33:20.158Z"
   },
   {
    "duration": 4,
    "start_time": "2023-11-17T13:33:20.563Z"
   },
   {
    "duration": 34,
    "start_time": "2023-11-17T13:33:20.568Z"
   },
   {
    "duration": 48,
    "start_time": "2023-11-17T13:33:20.604Z"
   },
   {
    "duration": 19,
    "start_time": "2023-11-17T13:33:20.653Z"
   },
   {
    "duration": 151,
    "start_time": "2023-11-17T13:33:20.674Z"
   },
   {
    "duration": 0,
    "start_time": "2023-11-17T13:33:20.826Z"
   },
   {
    "duration": 0,
    "start_time": "2023-11-17T13:33:20.828Z"
   },
   {
    "duration": 0,
    "start_time": "2023-11-17T13:33:20.828Z"
   },
   {
    "duration": 0,
    "start_time": "2023-11-17T13:33:20.829Z"
   },
   {
    "duration": 0,
    "start_time": "2023-11-17T13:33:20.830Z"
   },
   {
    "duration": 0,
    "start_time": "2023-11-17T13:33:20.831Z"
   },
   {
    "duration": 0,
    "start_time": "2023-11-17T13:33:20.832Z"
   },
   {
    "duration": 7,
    "start_time": "2023-11-17T13:33:48.889Z"
   },
   {
    "duration": 11,
    "start_time": "2023-11-17T13:33:56.969Z"
   },
   {
    "duration": 1324,
    "start_time": "2023-11-17T13:36:48.117Z"
   },
   {
    "duration": 58,
    "start_time": "2023-11-17T13:36:49.443Z"
   },
   {
    "duration": 10,
    "start_time": "2023-11-17T13:36:49.502Z"
   },
   {
    "duration": 7,
    "start_time": "2023-11-17T13:36:49.514Z"
   },
   {
    "duration": 8,
    "start_time": "2023-11-17T13:36:49.523Z"
   },
   {
    "duration": 15,
    "start_time": "2023-11-17T13:36:49.532Z"
   },
   {
    "duration": 194,
    "start_time": "2023-11-17T13:36:49.548Z"
   },
   {
    "duration": 801,
    "start_time": "2023-11-17T13:36:49.743Z"
   },
   {
    "duration": 367,
    "start_time": "2023-11-17T13:36:50.545Z"
   },
   {
    "duration": 3,
    "start_time": "2023-11-17T13:36:50.915Z"
   },
   {
    "duration": 39,
    "start_time": "2023-11-17T13:36:50.919Z"
   },
   {
    "duration": 31,
    "start_time": "2023-11-17T13:36:50.959Z"
   },
   {
    "duration": 5,
    "start_time": "2023-11-17T13:36:50.991Z"
   },
   {
    "duration": 14,
    "start_time": "2023-11-17T13:36:50.997Z"
   },
   {
    "duration": 22,
    "start_time": "2023-11-17T13:36:51.013Z"
   },
   {
    "duration": 34,
    "start_time": "2023-11-17T13:36:51.036Z"
   },
   {
    "duration": 29,
    "start_time": "2023-11-17T13:36:51.071Z"
   },
   {
    "duration": 7,
    "start_time": "2023-11-17T13:36:51.101Z"
   },
   {
    "duration": 8,
    "start_time": "2023-11-17T13:36:51.109Z"
   },
   {
    "duration": 28,
    "start_time": "2023-11-17T13:36:51.118Z"
   },
   {
    "duration": 14,
    "start_time": "2023-11-17T13:36:51.148Z"
   },
   {
    "duration": 41,
    "start_time": "2023-11-17T13:37:34.716Z"
   },
   {
    "duration": 18424,
    "start_time": "2023-11-17T13:42:17.240Z"
   },
   {
    "duration": 4,
    "start_time": "2023-11-17T13:42:49.191Z"
   },
   {
    "duration": 4,
    "start_time": "2023-11-17T13:43:03.735Z"
   },
   {
    "duration": 15,
    "start_time": "2023-11-17T13:43:19.905Z"
   },
   {
    "duration": 53664,
    "start_time": "2023-11-17T13:44:18.000Z"
   },
   {
    "duration": 4,
    "start_time": "2023-11-17T13:45:31.249Z"
   },
   {
    "duration": 5,
    "start_time": "2023-11-17T13:45:31.961Z"
   },
   {
    "duration": 7,
    "start_time": "2023-11-17T13:48:05.333Z"
   },
   {
    "duration": 25,
    "start_time": "2023-11-17T13:48:37.780Z"
   },
   {
    "duration": 11,
    "start_time": "2023-11-17T13:49:05.980Z"
   },
   {
    "duration": 797,
    "start_time": "2023-11-17T13:50:17.764Z"
   },
   {
    "duration": 11,
    "start_time": "2023-11-17T13:50:36.757Z"
   },
   {
    "duration": 62,
    "start_time": "2023-11-17T13:53:51.895Z"
   },
   {
    "duration": 108,
    "start_time": "2023-11-17T13:54:42.369Z"
   },
   {
    "duration": 4408,
    "start_time": "2023-11-17T13:54:47.001Z"
   },
   {
    "duration": 6,
    "start_time": "2023-11-17T13:55:14.929Z"
   },
   {
    "duration": 3779,
    "start_time": "2023-11-17T13:57:34.827Z"
   },
   {
    "duration": 6,
    "start_time": "2023-11-17T13:57:44.498Z"
   },
   {
    "duration": 5,
    "start_time": "2023-11-17T13:57:45.338Z"
   },
   {
    "duration": 24238,
    "start_time": "2023-11-17T13:58:13.883Z"
   },
   {
    "duration": 9,
    "start_time": "2023-11-17T13:58:47.036Z"
   },
   {
    "duration": 24046,
    "start_time": "2023-11-17T13:59:16.211Z"
   },
   {
    "duration": 8,
    "start_time": "2023-11-17T13:59:43.429Z"
   },
   {
    "duration": 2660,
    "start_time": "2023-11-17T13:59:47.980Z"
   },
   {
    "duration": 5,
    "start_time": "2023-11-17T13:59:53.884Z"
   },
   {
    "duration": 2070,
    "start_time": "2023-11-17T14:00:00.244Z"
   },
   {
    "duration": 5,
    "start_time": "2023-11-17T14:00:06.476Z"
   },
   {
    "duration": 979,
    "start_time": "2023-11-17T14:00:14.412Z"
   },
   {
    "duration": 14134,
    "start_time": "2023-11-17T14:00:21.244Z"
   },
   {
    "duration": 5288,
    "start_time": "2023-11-17T14:00:44.516Z"
   },
   {
    "duration": 7,
    "start_time": "2023-11-17T14:00:53.084Z"
   },
   {
    "duration": 4073,
    "start_time": "2023-11-17T14:00:57.670Z"
   },
   {
    "duration": 7,
    "start_time": "2023-11-17T14:01:04.540Z"
   },
   {
    "duration": 8778,
    "start_time": "2023-11-17T14:01:08.638Z"
   },
   {
    "duration": 8,
    "start_time": "2023-11-17T14:01:20.821Z"
   },
   {
    "duration": 15751,
    "start_time": "2023-11-17T14:01:24.941Z"
   },
   {
    "duration": 8,
    "start_time": "2023-11-17T14:01:43.133Z"
   },
   {
    "duration": 13,
    "start_time": "2023-11-17T14:03:42.134Z"
   },
   {
    "duration": 1253,
    "start_time": "2023-11-17T14:03:51.759Z"
   },
   {
    "duration": 6,
    "start_time": "2023-11-17T14:03:57.839Z"
   },
   {
    "duration": 4130,
    "start_time": "2023-11-17T14:04:05.342Z"
   },
   {
    "duration": 17,
    "start_time": "2023-11-17T14:04:12.166Z"
   },
   {
    "duration": 6,
    "start_time": "2023-11-17T14:04:13.951Z"
   },
   {
    "duration": 970,
    "start_time": "2023-11-17T14:04:18.183Z"
   },
   {
    "duration": 2280,
    "start_time": "2023-11-17T14:05:53.488Z"
   },
   {
    "duration": 6,
    "start_time": "2023-11-17T14:05:59.600Z"
   },
   {
    "duration": 6992,
    "start_time": "2023-11-17T14:06:04.345Z"
   },
   {
    "duration": 7,
    "start_time": "2023-11-17T14:06:16.096Z"
   },
   {
    "duration": 15974,
    "start_time": "2023-11-17T14:06:20.785Z"
   },
   {
    "duration": 10,
    "start_time": "2023-11-17T14:06:39.602Z"
   },
   {
    "duration": 31994,
    "start_time": "2023-11-17T14:06:51.730Z"
   },
   {
    "duration": 11,
    "start_time": "2023-11-17T14:07:26.603Z"
   },
   {
    "duration": 61203,
    "start_time": "2023-11-17T14:07:33.210Z"
   },
   {
    "duration": 4477,
    "start_time": "2023-11-17T14:08:36.676Z"
   },
   {
    "duration": 15586,
    "start_time": "2023-11-17T14:09:00.820Z"
   },
   {
    "duration": 9,
    "start_time": "2023-11-17T14:09:18.516Z"
   },
   {
    "duration": 11123,
    "start_time": "2023-11-17T14:09:24.067Z"
   },
   {
    "duration": 9,
    "start_time": "2023-11-17T14:09:37.572Z"
   },
   {
    "duration": 6429,
    "start_time": "2023-11-17T14:09:41.987Z"
   },
   {
    "duration": 8,
    "start_time": "2023-11-17T14:09:50.259Z"
   },
   {
    "duration": 117505,
    "start_time": "2023-11-17T14:09:52.899Z"
   },
   {
    "duration": 19,
    "start_time": "2023-11-17T14:11:55.108Z"
   },
   {
    "duration": 23630,
    "start_time": "2023-11-17T14:12:01.141Z"
   },
   {
    "duration": 13,
    "start_time": "2023-11-17T14:27:00.248Z"
   },
   {
    "duration": 23813,
    "start_time": "2023-11-17T14:32:21.141Z"
   },
   {
    "duration": 10,
    "start_time": "2023-11-17T14:32:48.086Z"
   },
   {
    "duration": 1634,
    "start_time": "2023-11-19T20:24:05.956Z"
   },
   {
    "duration": 149,
    "start_time": "2023-11-19T20:24:07.592Z"
   },
   {
    "duration": 10,
    "start_time": "2023-11-19T20:24:07.742Z"
   },
   {
    "duration": 7,
    "start_time": "2023-11-19T20:24:07.754Z"
   },
   {
    "duration": 11,
    "start_time": "2023-11-19T20:24:07.763Z"
   },
   {
    "duration": 11,
    "start_time": "2023-11-19T20:24:07.775Z"
   },
   {
    "duration": 228,
    "start_time": "2023-11-19T20:24:07.787Z"
   },
   {
    "duration": 885,
    "start_time": "2023-11-19T20:24:08.016Z"
   },
   {
    "duration": 305,
    "start_time": "2023-11-19T20:24:08.902Z"
   },
   {
    "duration": 4,
    "start_time": "2023-11-19T20:24:09.208Z"
   },
   {
    "duration": 29,
    "start_time": "2023-11-19T20:24:09.213Z"
   },
   {
    "duration": 24,
    "start_time": "2023-11-19T20:24:09.244Z"
   },
   {
    "duration": 4,
    "start_time": "2023-11-19T20:24:09.270Z"
   },
   {
    "duration": 5,
    "start_time": "2023-11-19T20:24:09.277Z"
   },
   {
    "duration": 5,
    "start_time": "2023-11-19T20:24:09.283Z"
   },
   {
    "duration": 7,
    "start_time": "2023-11-19T20:24:09.289Z"
   },
   {
    "duration": 7,
    "start_time": "2023-11-19T20:24:09.297Z"
   },
   {
    "duration": 10,
    "start_time": "2023-11-19T20:24:09.305Z"
   },
   {
    "duration": 4,
    "start_time": "2023-11-19T20:24:09.337Z"
   },
   {
    "duration": 35,
    "start_time": "2023-11-19T20:24:09.343Z"
   },
   {
    "duration": 60,
    "start_time": "2023-11-19T20:24:09.379Z"
   },
   {
    "duration": 19842,
    "start_time": "2023-11-19T20:24:09.441Z"
   },
   {
    "duration": 4,
    "start_time": "2023-11-19T20:24:29.284Z"
   },
   {
    "duration": 6,
    "start_time": "2023-11-19T20:24:29.289Z"
   },
   {
    "duration": 1052,
    "start_time": "2023-11-19T20:24:29.296Z"
   },
   {
    "duration": 2,
    "start_time": "2023-11-19T20:24:30.350Z"
   },
   {
    "duration": 88,
    "start_time": "2023-11-19T20:24:30.353Z"
   },
   {
    "duration": 73,
    "start_time": "2023-11-19T20:24:30.443Z"
   },
   {
    "duration": 29,
    "start_time": "2023-11-19T20:24:30.518Z"
   },
   {
    "duration": 160,
    "start_time": "2023-11-19T20:24:30.549Z"
   },
   {
    "duration": 1608,
    "start_time": "2023-11-20T20:22:58.704Z"
   },
   {
    "duration": 147,
    "start_time": "2023-11-20T20:23:00.314Z"
   },
   {
    "duration": 9,
    "start_time": "2023-11-20T20:23:00.462Z"
   },
   {
    "duration": 58,
    "start_time": "2023-11-20T20:23:00.473Z"
   },
   {
    "duration": 22,
    "start_time": "2023-11-20T20:23:00.532Z"
   },
   {
    "duration": 35,
    "start_time": "2023-11-20T20:23:00.556Z"
   },
   {
    "duration": 252,
    "start_time": "2023-11-20T20:23:00.592Z"
   },
   {
    "duration": 929,
    "start_time": "2023-11-20T20:23:00.846Z"
   },
   {
    "duration": 308,
    "start_time": "2023-11-20T20:23:01.776Z"
   },
   {
    "duration": 3,
    "start_time": "2023-11-20T20:23:02.087Z"
   },
   {
    "duration": 34,
    "start_time": "2023-11-20T20:23:02.091Z"
   },
   {
    "duration": 28,
    "start_time": "2023-11-20T20:23:02.127Z"
   },
   {
    "duration": 5,
    "start_time": "2023-11-20T20:23:02.157Z"
   },
   {
    "duration": 24,
    "start_time": "2023-11-20T20:23:02.163Z"
   },
   {
    "duration": 33,
    "start_time": "2023-11-20T20:23:02.189Z"
   },
   {
    "duration": 32,
    "start_time": "2023-11-20T20:23:02.223Z"
   },
   {
    "duration": 22,
    "start_time": "2023-11-20T20:23:02.256Z"
   },
   {
    "duration": 23,
    "start_time": "2023-11-20T20:23:02.279Z"
   },
   {
    "duration": 13,
    "start_time": "2023-11-20T20:23:02.303Z"
   },
   {
    "duration": 63,
    "start_time": "2023-11-20T20:23:02.317Z"
   },
   {
    "duration": 53,
    "start_time": "2023-11-20T20:23:02.381Z"
   },
   {
    "duration": 28295,
    "start_time": "2023-11-20T20:23:02.526Z"
   },
   {
    "duration": 3,
    "start_time": "2023-11-20T20:23:30.825Z"
   },
   {
    "duration": 33,
    "start_time": "2023-11-20T20:23:30.830Z"
   },
   {
    "duration": 1065,
    "start_time": "2023-11-20T20:23:30.865Z"
   },
   {
    "duration": 2,
    "start_time": "2023-11-20T20:23:31.931Z"
   },
   {
    "duration": 36,
    "start_time": "2023-11-20T20:23:31.934Z"
   },
   {
    "duration": 102,
    "start_time": "2023-11-20T20:23:32.024Z"
   },
   {
    "duration": 32,
    "start_time": "2023-11-20T20:23:32.127Z"
   },
   {
    "duration": 137,
    "start_time": "2023-11-20T20:23:32.161Z"
   },
   {
    "duration": 5614,
    "start_time": "2023-11-20T20:23:51.001Z"
   },
   {
    "duration": 7,
    "start_time": "2023-11-20T20:23:58.893Z"
   },
   {
    "duration": 461,
    "start_time": "2023-11-20T20:25:56.910Z"
   },
   {
    "duration": 428,
    "start_time": "2023-11-20T20:26:10.902Z"
   },
   {
    "duration": 713,
    "start_time": "2023-11-20T20:26:18.782Z"
   },
   {
    "duration": 21,
    "start_time": "2023-11-20T20:33:59.164Z"
   },
   {
    "duration": 17,
    "start_time": "2023-11-20T20:34:13.548Z"
   },
   {
    "duration": 19,
    "start_time": "2023-11-20T20:34:30.500Z"
   },
   {
    "duration": 1378,
    "start_time": "2023-11-20T20:34:36.957Z"
   },
   {
    "duration": 53,
    "start_time": "2023-11-20T20:34:38.337Z"
   },
   {
    "duration": 10,
    "start_time": "2023-11-20T20:34:38.391Z"
   },
   {
    "duration": 9,
    "start_time": "2023-11-20T20:34:38.402Z"
   },
   {
    "duration": 18,
    "start_time": "2023-11-20T20:34:38.412Z"
   },
   {
    "duration": 48,
    "start_time": "2023-11-20T20:34:38.431Z"
   },
   {
    "duration": 204,
    "start_time": "2023-11-20T20:34:38.481Z"
   },
   {
    "duration": 531,
    "start_time": "2023-11-20T20:34:38.687Z"
   },
   {
    "duration": 264,
    "start_time": "2023-11-20T20:34:39.220Z"
   },
   {
    "duration": 4,
    "start_time": "2023-11-20T20:34:39.486Z"
   },
   {
    "duration": 34,
    "start_time": "2023-11-20T20:34:39.491Z"
   },
   {
    "duration": 33,
    "start_time": "2023-11-20T20:34:39.526Z"
   },
   {
    "duration": 4,
    "start_time": "2023-11-20T20:34:39.561Z"
   },
   {
    "duration": 7,
    "start_time": "2023-11-20T20:34:39.567Z"
   },
   {
    "duration": 8,
    "start_time": "2023-11-20T20:34:39.576Z"
   },
   {
    "duration": 14,
    "start_time": "2023-11-20T20:34:39.586Z"
   },
   {
    "duration": 10,
    "start_time": "2023-11-20T20:34:39.601Z"
   },
   {
    "duration": 15,
    "start_time": "2023-11-20T20:34:39.612Z"
   },
   {
    "duration": 9,
    "start_time": "2023-11-20T20:34:39.629Z"
   },
   {
    "duration": 50,
    "start_time": "2023-11-20T20:34:39.640Z"
   },
   {
    "duration": 141,
    "start_time": "2023-11-20T20:34:39.691Z"
   },
   {
    "duration": 1427,
    "start_time": "2023-11-20T20:35:05.889Z"
   },
   {
    "duration": 53,
    "start_time": "2023-11-20T20:35:07.317Z"
   },
   {
    "duration": 8,
    "start_time": "2023-11-20T20:35:07.372Z"
   },
   {
    "duration": 17,
    "start_time": "2023-11-20T20:35:07.382Z"
   },
   {
    "duration": 8,
    "start_time": "2023-11-20T20:35:07.401Z"
   },
   {
    "duration": 12,
    "start_time": "2023-11-20T20:35:07.411Z"
   },
   {
    "duration": 188,
    "start_time": "2023-11-20T20:35:07.424Z"
   },
   {
    "duration": 609,
    "start_time": "2023-11-20T20:35:07.613Z"
   },
   {
    "duration": 311,
    "start_time": "2023-11-20T20:35:08.224Z"
   },
   {
    "duration": 4,
    "start_time": "2023-11-20T20:35:08.537Z"
   },
   {
    "duration": 38,
    "start_time": "2023-11-20T20:35:08.542Z"
   },
   {
    "duration": 30,
    "start_time": "2023-11-20T20:35:08.581Z"
   },
   {
    "duration": 6,
    "start_time": "2023-11-20T20:35:08.612Z"
   },
   {
    "duration": 35,
    "start_time": "2023-11-20T20:35:08.619Z"
   },
   {
    "duration": 5,
    "start_time": "2023-11-20T20:35:08.655Z"
   },
   {
    "duration": 15,
    "start_time": "2023-11-20T20:35:08.661Z"
   },
   {
    "duration": 6,
    "start_time": "2023-11-20T20:35:08.677Z"
   },
   {
    "duration": 13,
    "start_time": "2023-11-20T20:35:08.684Z"
   },
   {
    "duration": 9,
    "start_time": "2023-11-20T20:35:08.698Z"
   },
   {
    "duration": 36,
    "start_time": "2023-11-20T20:35:08.709Z"
   },
   {
    "duration": 88,
    "start_time": "2023-11-20T20:35:08.746Z"
   },
   {
    "duration": 28311,
    "start_time": "2023-11-20T20:35:08.926Z"
   },
   {
    "duration": 5,
    "start_time": "2023-11-20T20:35:37.238Z"
   },
   {
    "duration": 8,
    "start_time": "2023-11-20T20:35:37.244Z"
   },
   {
    "duration": 1389,
    "start_time": "2023-11-20T20:39:42.238Z"
   },
   {
    "duration": 53,
    "start_time": "2023-11-20T20:39:43.629Z"
   },
   {
    "duration": 9,
    "start_time": "2023-11-20T20:39:43.683Z"
   },
   {
    "duration": 8,
    "start_time": "2023-11-20T20:39:43.693Z"
   },
   {
    "duration": 11,
    "start_time": "2023-11-20T20:39:43.702Z"
   },
   {
    "duration": 15,
    "start_time": "2023-11-20T20:39:43.714Z"
   },
   {
    "duration": 196,
    "start_time": "2023-11-20T20:39:43.731Z"
   },
   {
    "duration": 691,
    "start_time": "2023-11-20T20:39:43.928Z"
   },
   {
    "duration": 312,
    "start_time": "2023-11-20T20:39:44.620Z"
   },
   {
    "duration": 4,
    "start_time": "2023-11-20T20:39:44.934Z"
   },
   {
    "duration": 24,
    "start_time": "2023-11-20T20:39:44.940Z"
   },
   {
    "duration": 36,
    "start_time": "2023-11-20T20:39:44.966Z"
   },
   {
    "duration": 25,
    "start_time": "2023-11-20T20:39:45.003Z"
   },
   {
    "duration": 43,
    "start_time": "2023-11-20T20:39:45.030Z"
   },
   {
    "duration": 17,
    "start_time": "2023-11-20T20:39:45.074Z"
   },
   {
    "duration": 6,
    "start_time": "2023-11-20T20:39:45.093Z"
   },
   {
    "duration": 6,
    "start_time": "2023-11-20T20:39:45.100Z"
   },
   {
    "duration": 13,
    "start_time": "2023-11-20T20:39:45.107Z"
   },
   {
    "duration": 7,
    "start_time": "2023-11-20T20:39:45.121Z"
   },
   {
    "duration": 32,
    "start_time": "2023-11-20T20:39:45.129Z"
   },
   {
    "duration": 163,
    "start_time": "2023-11-20T20:39:45.163Z"
   },
   {
    "duration": 28759,
    "start_time": "2023-11-20T20:39:45.328Z"
   },
   {
    "duration": 4,
    "start_time": "2023-11-20T20:40:14.089Z"
   },
   {
    "duration": 4,
    "start_time": "2023-11-20T20:40:14.095Z"
   },
   {
    "duration": 268943,
    "start_time": "2023-11-20T20:40:14.101Z"
   },
   {
    "duration": 5494,
    "start_time": "2023-11-20T20:44:43.046Z"
   },
   {
    "duration": 7,
    "start_time": "2023-11-20T20:44:48.541Z"
   },
   {
    "duration": 79,
    "start_time": "2023-11-20T20:44:48.551Z"
   },
   {
    "duration": 106,
    "start_time": "2023-11-20T20:44:48.632Z"
   },
   {
    "duration": 9,
    "start_time": "2023-11-20T20:44:48.740Z"
   },
   {
    "duration": 48,
    "start_time": "2023-11-22T11:50:59.297Z"
   },
   {
    "duration": 1662,
    "start_time": "2023-11-22T11:51:04.328Z"
   },
   {
    "duration": 113,
    "start_time": "2023-11-22T11:51:05.992Z"
   },
   {
    "duration": 12,
    "start_time": "2023-11-22T11:51:07.160Z"
   },
   {
    "duration": 9,
    "start_time": "2023-11-22T11:51:08.280Z"
   },
   {
    "duration": 10,
    "start_time": "2023-11-22T11:51:09.273Z"
   },
   {
    "duration": 243,
    "start_time": "2023-11-22T11:51:12.209Z"
   },
   {
    "duration": 284,
    "start_time": "2023-11-22T11:51:19.003Z"
   },
   {
    "duration": 87,
    "start_time": "2023-11-22T11:51:36.641Z"
   },
   {
    "duration": 215,
    "start_time": "2023-11-22T11:51:48.778Z"
   },
   {
    "duration": 99,
    "start_time": "2023-11-22T11:52:35.802Z"
   },
   {
    "duration": 7,
    "start_time": "2023-11-22T11:53:54.139Z"
   },
   {
    "duration": 205,
    "start_time": "2023-11-22T11:53:55.571Z"
   },
   {
    "duration": 829,
    "start_time": "2023-11-22T11:53:57.715Z"
   },
   {
    "duration": 645,
    "start_time": "2023-11-22T11:54:08.799Z"
   },
   {
    "duration": 544,
    "start_time": "2023-11-22T11:54:30.908Z"
   },
   {
    "duration": 554,
    "start_time": "2023-11-22T11:54:47.748Z"
   },
   {
    "duration": 4,
    "start_time": "2023-11-22T11:57:22.393Z"
   },
   {
    "duration": 4,
    "start_time": "2023-11-22T11:58:50.855Z"
   },
   {
    "duration": 4,
    "start_time": "2023-11-22T11:59:02.719Z"
   },
   {
    "duration": 7,
    "start_time": "2023-11-22T12:02:02.448Z"
   },
   {
    "duration": 4,
    "start_time": "2023-11-22T12:02:10.809Z"
   },
   {
    "duration": 22,
    "start_time": "2023-11-22T12:02:12.169Z"
   },
   {
    "duration": 25,
    "start_time": "2023-11-22T12:02:13.666Z"
   },
   {
    "duration": 5,
    "start_time": "2023-11-22T12:02:27.506Z"
   },
   {
    "duration": 6,
    "start_time": "2023-11-22T12:02:28.737Z"
   },
   {
    "duration": 6,
    "start_time": "2023-11-22T12:02:29.153Z"
   },
   {
    "duration": 4,
    "start_time": "2023-11-22T12:02:29.554Z"
   },
   {
    "duration": 4,
    "start_time": "2023-11-22T12:02:29.930Z"
   },
   {
    "duration": 4,
    "start_time": "2023-11-22T12:02:31.169Z"
   },
   {
    "duration": 4,
    "start_time": "2023-11-22T12:02:34.417Z"
   },
   {
    "duration": 25,
    "start_time": "2023-11-22T12:02:40.425Z"
   },
   {
    "duration": 26,
    "start_time": "2023-11-22T12:02:46.978Z"
   },
   {
    "duration": 83,
    "start_time": "2023-11-22T12:17:05.285Z"
   },
   {
    "duration": 345,
    "start_time": "2023-11-22T12:23:17.419Z"
   },
   {
    "duration": 585,
    "start_time": "2023-11-22T12:23:31.874Z"
   },
   {
    "duration": 4,
    "start_time": "2023-11-22T12:23:46.953Z"
   },
   {
    "duration": 4,
    "start_time": "2023-11-22T12:23:58.601Z"
   },
   {
    "duration": 9,
    "start_time": "2023-11-22T12:25:52.875Z"
   },
   {
    "duration": 4,
    "start_time": "2023-11-22T12:25:59.595Z"
   },
   {
    "duration": 9,
    "start_time": "2023-11-22T12:26:04.803Z"
   },
   {
    "duration": 25,
    "start_time": "2023-11-22T12:26:08.420Z"
   },
   {
    "duration": 713,
    "start_time": "2023-11-22T12:26:24.052Z"
   },
   {
    "duration": 4,
    "start_time": "2023-11-22T12:26:25.868Z"
   },
   {
    "duration": 4,
    "start_time": "2023-11-22T12:26:26.899Z"
   },
   {
    "duration": 8,
    "start_time": "2023-11-22T12:26:33.788Z"
   },
   {
    "duration": 558,
    "start_time": "2023-11-22T12:26:34.308Z"
   },
   {
    "duration": 4,
    "start_time": "2023-11-22T12:26:35.763Z"
   },
   {
    "duration": 4,
    "start_time": "2023-11-22T12:26:36.780Z"
   },
   {
    "duration": 36,
    "start_time": "2023-11-22T12:27:36.006Z"
   },
   {
    "duration": 54269,
    "start_time": "2023-11-22T12:28:00.477Z"
   },
   {
    "duration": 1574,
    "start_time": "2023-11-22T12:31:23.304Z"
   },
   {
    "duration": 62,
    "start_time": "2023-11-22T12:31:24.880Z"
   },
   {
    "duration": 12,
    "start_time": "2023-11-22T12:31:24.947Z"
   },
   {
    "duration": 10,
    "start_time": "2023-11-22T12:31:24.960Z"
   },
   {
    "duration": 271,
    "start_time": "2023-11-22T12:31:24.972Z"
   },
   {
    "duration": 17,
    "start_time": "2023-11-22T12:31:25.245Z"
   },
   {
    "duration": 234,
    "start_time": "2023-11-22T12:31:25.263Z"
   },
   {
    "duration": 660,
    "start_time": "2023-11-22T12:31:25.499Z"
   },
   {
    "duration": 368,
    "start_time": "2023-11-22T12:31:26.163Z"
   },
   {
    "duration": 4,
    "start_time": "2023-11-22T12:31:26.533Z"
   },
   {
    "duration": 35,
    "start_time": "2023-11-22T12:31:26.538Z"
   },
   {
    "duration": 25,
    "start_time": "2023-11-22T12:31:26.575Z"
   },
   {
    "duration": 7,
    "start_time": "2023-11-22T12:31:26.601Z"
   },
   {
    "duration": 6,
    "start_time": "2023-11-22T12:31:26.610Z"
   },
   {
    "duration": 5,
    "start_time": "2023-11-22T12:31:26.618Z"
   },
   {
    "duration": 33,
    "start_time": "2023-11-22T12:31:26.625Z"
   },
   {
    "duration": 4,
    "start_time": "2023-11-22T12:31:26.660Z"
   },
   {
    "duration": 5,
    "start_time": "2023-11-22T12:31:26.666Z"
   },
   {
    "duration": 5,
    "start_time": "2023-11-22T12:31:26.672Z"
   },
   {
    "duration": 27,
    "start_time": "2023-11-22T12:31:26.678Z"
   },
   {
    "duration": 11,
    "start_time": "2023-11-22T12:31:26.707Z"
   },
   {
    "duration": 652,
    "start_time": "2023-11-22T12:31:26.719Z"
   },
   {
    "duration": 100,
    "start_time": "2023-11-22T12:31:27.458Z"
   },
   {
    "duration": 6,
    "start_time": "2023-11-22T12:31:27.560Z"
   },
   {
    "duration": 54799,
    "start_time": "2023-11-22T12:31:27.567Z"
   },
   {
    "duration": 4,
    "start_time": "2023-11-22T12:32:22.368Z"
   },
   {
    "duration": 35,
    "start_time": "2023-11-22T12:32:22.375Z"
   },
   {
    "duration": 2349,
    "start_time": "2023-11-22T12:32:22.411Z"
   },
   {
    "duration": 7665,
    "start_time": "2023-11-22T12:32:24.761Z"
   },
   {
    "duration": 118,
    "start_time": "2023-11-22T12:32:32.427Z"
   },
   {
    "duration": 0,
    "start_time": "2023-11-22T12:32:32.546Z"
   },
   {
    "duration": 0,
    "start_time": "2023-11-22T12:32:32.547Z"
   },
   {
    "duration": 0,
    "start_time": "2023-11-22T12:32:32.548Z"
   },
   {
    "duration": 4993,
    "start_time": "2023-11-22T12:33:44.385Z"
   },
   {
    "duration": 4,
    "start_time": "2023-11-22T12:34:00.273Z"
   },
   {
    "duration": 25625,
    "start_time": "2023-11-22T12:34:43.186Z"
   },
   {
    "duration": 4,
    "start_time": "2023-11-22T12:35:10.034Z"
   },
   {
    "duration": 9,
    "start_time": "2023-11-22T12:35:26.722Z"
   },
   {
    "duration": 1498,
    "start_time": "2023-11-22T12:36:12.123Z"
   },
   {
    "duration": 55,
    "start_time": "2023-11-22T12:36:13.623Z"
   },
   {
    "duration": 10,
    "start_time": "2023-11-22T12:36:13.680Z"
   },
   {
    "duration": 8,
    "start_time": "2023-11-22T12:36:13.692Z"
   },
   {
    "duration": 241,
    "start_time": "2023-11-22T12:36:13.702Z"
   },
   {
    "duration": 16,
    "start_time": "2023-11-22T12:36:13.945Z"
   },
   {
    "duration": 209,
    "start_time": "2023-11-22T12:36:13.962Z"
   },
   {
    "duration": 574,
    "start_time": "2023-11-22T12:36:14.173Z"
   },
   {
    "duration": 336,
    "start_time": "2023-11-22T12:36:14.748Z"
   },
   {
    "duration": 3,
    "start_time": "2023-11-22T12:36:15.087Z"
   },
   {
    "duration": 21,
    "start_time": "2023-11-22T12:36:15.092Z"
   },
   {
    "duration": 45,
    "start_time": "2023-11-22T12:36:15.114Z"
   },
   {
    "duration": 7,
    "start_time": "2023-11-22T12:36:15.162Z"
   },
   {
    "duration": 6,
    "start_time": "2023-11-22T12:36:15.171Z"
   },
   {
    "duration": 5,
    "start_time": "2023-11-22T12:36:15.179Z"
   },
   {
    "duration": 7,
    "start_time": "2023-11-22T12:36:15.185Z"
   },
   {
    "duration": 4,
    "start_time": "2023-11-22T12:36:15.193Z"
   },
   {
    "duration": 4,
    "start_time": "2023-11-22T12:36:15.199Z"
   },
   {
    "duration": 5,
    "start_time": "2023-11-22T12:36:15.204Z"
   },
   {
    "duration": 61,
    "start_time": "2023-11-22T12:36:15.210Z"
   },
   {
    "duration": 9,
    "start_time": "2023-11-22T12:36:15.273Z"
   },
   {
    "duration": 478,
    "start_time": "2023-11-22T12:36:15.284Z"
   },
   {
    "duration": 95,
    "start_time": "2023-11-22T12:36:15.764Z"
   },
   {
    "duration": 9,
    "start_time": "2023-11-22T12:36:15.861Z"
   },
   {
    "duration": 54538,
    "start_time": "2023-11-22T12:36:15.872Z"
   },
   {
    "duration": 4,
    "start_time": "2023-11-22T12:37:10.412Z"
   },
   {
    "duration": 16,
    "start_time": "2023-11-22T12:37:10.417Z"
   },
   {
    "duration": 5226,
    "start_time": "2023-11-22T12:37:10.436Z"
   },
   {
    "duration": 4,
    "start_time": "2023-11-22T12:37:15.664Z"
   },
   {
    "duration": 23804,
    "start_time": "2023-11-22T12:37:15.670Z"
   },
   {
    "duration": 5,
    "start_time": "2023-11-22T12:37:39.476Z"
   },
   {
    "duration": 9,
    "start_time": "2023-11-22T12:37:39.482Z"
   },
   {
    "duration": 1318,
    "start_time": "2023-11-22T20:52:52.581Z"
   },
   {
    "duration": 153,
    "start_time": "2023-11-22T20:52:53.900Z"
   },
   {
    "duration": 9,
    "start_time": "2023-11-22T20:52:54.055Z"
   },
   {
    "duration": 8,
    "start_time": "2023-11-22T20:52:54.066Z"
   },
   {
    "duration": 209,
    "start_time": "2023-11-22T20:52:54.075Z"
   },
   {
    "duration": 16,
    "start_time": "2023-11-22T20:52:54.285Z"
   },
   {
    "duration": 192,
    "start_time": "2023-11-22T20:52:54.303Z"
   },
   {
    "duration": 448,
    "start_time": "2023-11-22T20:52:54.498Z"
   },
   {
    "duration": 415,
    "start_time": "2023-11-22T20:52:54.947Z"
   },
   {
    "duration": 3,
    "start_time": "2023-11-22T20:52:55.365Z"
   },
   {
    "duration": 70,
    "start_time": "2023-11-22T20:52:55.369Z"
   },
   {
    "duration": 36,
    "start_time": "2023-11-22T20:52:55.440Z"
   },
   {
    "duration": 19,
    "start_time": "2023-11-22T20:52:55.478Z"
   },
   {
    "duration": 31,
    "start_time": "2023-11-22T20:52:55.498Z"
   },
   {
    "duration": 26,
    "start_time": "2023-11-22T20:52:55.531Z"
   },
   {
    "duration": 27,
    "start_time": "2023-11-22T20:52:55.558Z"
   },
   {
    "duration": 21,
    "start_time": "2023-11-22T20:52:55.586Z"
   },
   {
    "duration": 28,
    "start_time": "2023-11-22T20:52:55.608Z"
   },
   {
    "duration": 14,
    "start_time": "2023-11-22T20:52:55.638Z"
   },
   {
    "duration": 41,
    "start_time": "2023-11-22T20:52:55.653Z"
   },
   {
    "duration": 32,
    "start_time": "2023-11-22T20:52:55.696Z"
   },
   {
    "duration": 671,
    "start_time": "2023-11-22T20:52:55.730Z"
   },
   {
    "duration": 95,
    "start_time": "2023-11-22T20:52:56.404Z"
   },
   {
    "duration": 17,
    "start_time": "2023-11-22T20:52:56.501Z"
   },
   {
    "duration": 63611,
    "start_time": "2023-11-22T20:52:56.520Z"
   },
   {
    "duration": 4,
    "start_time": "2023-11-22T20:54:00.200Z"
   },
   {
    "duration": 95,
    "start_time": "2023-11-22T20:54:00.206Z"
   },
   {
    "duration": 30404,
    "start_time": "2023-11-22T20:54:00.305Z"
   },
   {
    "duration": 3,
    "start_time": "2023-11-22T20:54:30.711Z"
   },
   {
    "duration": 20820,
    "start_time": "2023-11-22T20:54:30.716Z"
   },
   {
    "duration": 4,
    "start_time": "2023-11-22T20:54:51.538Z"
   },
   {
    "duration": 22,
    "start_time": "2023-11-22T20:54:51.543Z"
   }
  ],
  "kernelspec": {
   "display_name": "Python 3 (ipykernel)",
   "language": "python",
   "name": "python3"
  },
  "language_info": {
   "codemirror_mode": {
    "name": "ipython",
    "version": 3
   },
   "file_extension": ".py",
   "mimetype": "text/x-python",
   "name": "python",
   "nbconvert_exporter": "python",
   "pygments_lexer": "ipython3",
   "version": "3.9.18"
  },
  "toc": {
   "base_numbering": 1,
   "nav_menu": {},
   "number_sections": true,
   "sideBar": true,
   "skip_h1_title": true,
   "title_cell": "Содержание",
   "title_sidebar": "Contents",
   "toc_cell": true,
   "toc_position": {},
   "toc_section_display": true,
   "toc_window_display": true
  }
 },
 "nbformat": 4,
 "nbformat_minor": 4
}
