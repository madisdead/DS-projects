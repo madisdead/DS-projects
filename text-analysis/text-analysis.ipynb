{
 "cells": [
  {
   "cell_type": "markdown",
   "metadata": {},
   "source": [
    "# Проект для «Викишоп»"
   ]
  },
  {
   "cell_type": "markdown",
   "metadata": {},
   "source": [
    "Интернет-магазин «Викишоп» запускает новый сервис. Теперь пользователи могут редактировать и дополнять описания товаров, как в вики-сообществах. То есть клиенты предлагают свои правки и комментируют изменения других. Магазину нужен инструмент, который будет искать токсичные комментарии и отправлять их на модерацию. \n",
    "\n",
    "Обучите модель классифицировать комментарии на позитивные и негативные. В вашем распоряжении набор данных с разметкой о токсичности правок.\n",
    "\n",
    "Постройте модель со значением метрики качества *F1* не меньше 0.75. \n",
    "\n",
    "**Инструкция по выполнению проекта**\n",
    "\n",
    "1. Загрузите и подготовьте данные.\n",
    "2. Обучите разные модели. \n",
    "3. Сделайте выводы.\n",
    "\n",
    "Для выполнения проекта применять *BERT* необязательно, но вы можете попробовать.\n",
    "\n",
    "**Описание данных**\n",
    "\n",
    "Данные находятся в файле `toxic_comments.csv`. Столбец *text* в нём содержит текст комментария, а *toxic* — целевой признак."
   ]
  },
  {
   "cell_type": "code",
   "execution_count": 1,
   "metadata": {},
   "outputs": [
    {
     "name": "stderr",
     "output_type": "stream",
     "text": [
      "[nltk_data] Downloading package stopwords to /home/jovyan/nltk_data...\n",
      "[nltk_data]   Package stopwords is already up-to-date!\n",
      "[nltk_data] Downloading package averaged_perceptron_tagger to\n",
      "[nltk_data]     /home/jovyan/nltk_data...\n",
      "[nltk_data]   Package averaged_perceptron_tagger is already up-to-\n",
      "[nltk_data]       date!\n"
     ]
    },
    {
     "data": {
      "text/plain": [
       "True"
      ]
     },
     "execution_count": 1,
     "metadata": {},
     "output_type": "execute_result"
    }
   ],
   "source": [
    "import pandas as pd\n",
    "import numpy as np\n",
    "from pymystem3 import Mystem\n",
    "import re\n",
    "import nltk\n",
    "nltk.download('stopwords')\n",
    "from nltk.corpus import stopwords as nltk_stopwords\n",
    "from sklearn.feature_extraction.text import TfidfVectorizer\n",
    "from sklearn.linear_model import LogisticRegression\n",
    "from sklearn.ensemble import RandomForestClassifier\n",
    "from sklearn.metrics import f1_score\n",
    "from sklearn.model_selection import train_test_split\n",
    "from sklearn.model_selection import GridSearchCV\n",
    "from tqdm.notebook import tqdm\n",
    "from nltk.stem import WordNetLemmatizer\n",
    "from nltk import pos_tag\n",
    "from nltk.tokenize import word_tokenize\n",
    "nltk.download('averaged_perceptron_tagger')"
   ]
  },
  {
   "cell_type": "markdown",
   "metadata": {},
   "source": [
    "## Подготовка"
   ]
  },
  {
   "cell_type": "code",
   "execution_count": 2,
   "metadata": {},
   "outputs": [
    {
     "data": {
      "text/html": [
       "<div>\n",
       "<style scoped>\n",
       "    .dataframe tbody tr th:only-of-type {\n",
       "        vertical-align: middle;\n",
       "    }\n",
       "\n",
       "    .dataframe tbody tr th {\n",
       "        vertical-align: top;\n",
       "    }\n",
       "\n",
       "    .dataframe thead th {\n",
       "        text-align: right;\n",
       "    }\n",
       "</style>\n",
       "<table border=\"1\" class=\"dataframe\">\n",
       "  <thead>\n",
       "    <tr style=\"text-align: right;\">\n",
       "      <th></th>\n",
       "      <th>Unnamed: 0</th>\n",
       "      <th>text</th>\n",
       "      <th>toxic</th>\n",
       "    </tr>\n",
       "  </thead>\n",
       "  <tbody>\n",
       "    <tr>\n",
       "      <th>0</th>\n",
       "      <td>0</td>\n",
       "      <td>Explanation\\nWhy the edits made under my usern...</td>\n",
       "      <td>0</td>\n",
       "    </tr>\n",
       "    <tr>\n",
       "      <th>1</th>\n",
       "      <td>1</td>\n",
       "      <td>D'aww! He matches this background colour I'm s...</td>\n",
       "      <td>0</td>\n",
       "    </tr>\n",
       "    <tr>\n",
       "      <th>2</th>\n",
       "      <td>2</td>\n",
       "      <td>Hey man, I'm really not trying to edit war. It...</td>\n",
       "      <td>0</td>\n",
       "    </tr>\n",
       "    <tr>\n",
       "      <th>3</th>\n",
       "      <td>3</td>\n",
       "      <td>\"\\nMore\\nI can't make any real suggestions on ...</td>\n",
       "      <td>0</td>\n",
       "    </tr>\n",
       "    <tr>\n",
       "      <th>4</th>\n",
       "      <td>4</td>\n",
       "      <td>You, sir, are my hero. Any chance you remember...</td>\n",
       "      <td>0</td>\n",
       "    </tr>\n",
       "  </tbody>\n",
       "</table>\n",
       "</div>"
      ],
      "text/plain": [
       "   Unnamed: 0                                               text  toxic\n",
       "0           0  Explanation\\nWhy the edits made under my usern...      0\n",
       "1           1  D'aww! He matches this background colour I'm s...      0\n",
       "2           2  Hey man, I'm really not trying to edit war. It...      0\n",
       "3           3  \"\\nMore\\nI can't make any real suggestions on ...      0\n",
       "4           4  You, sir, are my hero. Any chance you remember...      0"
      ]
     },
     "execution_count": 2,
     "metadata": {},
     "output_type": "execute_result"
    }
   ],
   "source": [
    "data = pd.read_csv('/datasets/toxic_comments.csv')\n",
    "data.head()"
   ]
  },
  {
   "cell_type": "code",
   "execution_count": 3,
   "metadata": {},
   "outputs": [
    {
     "name": "stdout",
     "output_type": "stream",
     "text": [
      "<class 'pandas.core.frame.DataFrame'>\n",
      "RangeIndex: 159292 entries, 0 to 159291\n",
      "Data columns (total 3 columns):\n",
      " #   Column      Non-Null Count   Dtype \n",
      "---  ------      --------------   ----- \n",
      " 0   Unnamed: 0  159292 non-null  int64 \n",
      " 1   text        159292 non-null  object\n",
      " 2   toxic       159292 non-null  int64 \n",
      "dtypes: int64(2), object(1)\n",
      "memory usage: 3.6+ MB\n"
     ]
    }
   ],
   "source": [
    "data.info()"
   ]
  },
  {
   "cell_type": "markdown",
   "metadata": {},
   "source": [
    "Избавимся от лишних символов."
   ]
  },
  {
   "cell_type": "code",
   "execution_count": 4,
   "metadata": {},
   "outputs": [],
   "source": [
    "def clear_text(text):\n",
    "    text = re.sub(r'[^a-zA-Z]', ' ', text)\n",
    "    text = text.lower()\n",
    "    return text"
   ]
  },
  {
   "cell_type": "code",
   "execution_count": 5,
   "metadata": {},
   "outputs": [],
   "source": [
    "data['text'] = data['text'].apply(clear_text)"
   ]
  },
  {
   "cell_type": "code",
   "execution_count": 6,
   "metadata": {},
   "outputs": [
    {
     "data": {
      "text/html": [
       "<div>\n",
       "<style scoped>\n",
       "    .dataframe tbody tr th:only-of-type {\n",
       "        vertical-align: middle;\n",
       "    }\n",
       "\n",
       "    .dataframe tbody tr th {\n",
       "        vertical-align: top;\n",
       "    }\n",
       "\n",
       "    .dataframe thead th {\n",
       "        text-align: right;\n",
       "    }\n",
       "</style>\n",
       "<table border=\"1\" class=\"dataframe\">\n",
       "  <thead>\n",
       "    <tr style=\"text-align: right;\">\n",
       "      <th></th>\n",
       "      <th>Unnamed: 0</th>\n",
       "      <th>text</th>\n",
       "      <th>toxic</th>\n",
       "    </tr>\n",
       "  </thead>\n",
       "  <tbody>\n",
       "    <tr>\n",
       "      <th>0</th>\n",
       "      <td>0</td>\n",
       "      <td>explanation why the edits made under my userna...</td>\n",
       "      <td>0</td>\n",
       "    </tr>\n",
       "    <tr>\n",
       "      <th>1</th>\n",
       "      <td>1</td>\n",
       "      <td>d aww  he matches this background colour i m s...</td>\n",
       "      <td>0</td>\n",
       "    </tr>\n",
       "    <tr>\n",
       "      <th>2</th>\n",
       "      <td>2</td>\n",
       "      <td>hey man  i m really not trying to edit war  it...</td>\n",
       "      <td>0</td>\n",
       "    </tr>\n",
       "    <tr>\n",
       "      <th>3</th>\n",
       "      <td>3</td>\n",
       "      <td>more i can t make any real suggestions on im...</td>\n",
       "      <td>0</td>\n",
       "    </tr>\n",
       "    <tr>\n",
       "      <th>4</th>\n",
       "      <td>4</td>\n",
       "      <td>you  sir  are my hero  any chance you remember...</td>\n",
       "      <td>0</td>\n",
       "    </tr>\n",
       "  </tbody>\n",
       "</table>\n",
       "</div>"
      ],
      "text/plain": [
       "   Unnamed: 0                                               text  toxic\n",
       "0           0  explanation why the edits made under my userna...      0\n",
       "1           1  d aww  he matches this background colour i m s...      0\n",
       "2           2  hey man  i m really not trying to edit war  it...      0\n",
       "3           3    more i can t make any real suggestions on im...      0\n",
       "4           4  you  sir  are my hero  any chance you remember...      0"
      ]
     },
     "execution_count": 6,
     "metadata": {},
     "output_type": "execute_result"
    }
   ],
   "source": [
    "data.head()"
   ]
  },
  {
   "cell_type": "code",
   "execution_count": 7,
   "metadata": {},
   "outputs": [],
   "source": [
    "#data['text'] = data['text'].astype('U')"
   ]
  },
  {
   "cell_type": "markdown",
   "metadata": {},
   "source": [
    "Проведем лемматизацию"
   ]
  },
  {
   "cell_type": "code",
   "execution_count": 8,
   "metadata": {},
   "outputs": [],
   "source": [
    "lemmatizer = WordNetLemmatizer()\n",
    "#def lemmatize(text):\n",
    "    #return ''.join(m.lemmatize(text))\n",
    "def penn2morphy(penntag):\n",
    "    morphy_tag = {'NN':'n', 'JJ':'a',\n",
    "                  'VB':'v', 'RB':'r'}\n",
    "    try:\n",
    "        return morphy_tag[penntag[:2]]\n",
    "    except:\n",
    "        return 'n' \n",
    "\n",
    "def lemmatize(text): \n",
    "    return [lemmatizer.lemmatize(word.lower(), pos=penn2morphy(tag)) \n",
    "            for word, tag in pos_tag(word_tokenize(text))]\n",
    "def join_list(array):\n",
    "    return ' '.join(array)"
   ]
  },
  {
   "cell_type": "code",
   "execution_count": 9,
   "metadata": {},
   "outputs": [
    {
     "data": {
      "application/vnd.jupyter.widget-view+json": {
       "model_id": "0c2d8d17fc094ac29d8867aa9f98b9f1",
       "version_major": 2,
       "version_minor": 0
      },
      "text/plain": [
       "  0%|          | 0/159292 [00:00<?, ?it/s]"
      ]
     },
     "metadata": {},
     "output_type": "display_data"
    }
   ],
   "source": [
    "tqdm.pandas()\n",
    "\n",
    "data['text'] = data['text'].progress_apply(lemmatize)"
   ]
  },
  {
   "cell_type": "code",
   "execution_count": 10,
   "metadata": {},
   "outputs": [],
   "source": [
    "data['text'] = data['text'].apply(join_list)"
   ]
  },
  {
   "cell_type": "code",
   "execution_count": 11,
   "metadata": {},
   "outputs": [
    {
     "data": {
      "text/plain": [
       "0         explanation why the edits make under my userna...\n",
       "1         d aww he match this background colour i m seem...\n",
       "2         hey man i m really not try to edit war it s ju...\n",
       "3         more i can t make any real suggestion on impro...\n",
       "4         you sir be my hero any chance you remember wha...\n",
       "                                ...                        \n",
       "159287    and for the second time of ask when your view ...\n",
       "159288    you should be ashamed of yourself that be a ho...\n",
       "159289    spitzer umm theres no actual article for prost...\n",
       "159290    and it look like it be actually you who put on...\n",
       "159291    and i really don t think you understand i come...\n",
       "Name: text, Length: 159292, dtype: object"
      ]
     },
     "execution_count": 11,
     "metadata": {},
     "output_type": "execute_result"
    }
   ],
   "source": [
    "data['text']"
   ]
  },
  {
   "cell_type": "markdown",
   "metadata": {},
   "source": [
    "## Обучение"
   ]
  },
  {
   "cell_type": "markdown",
   "metadata": {},
   "source": [
    "Подготовим стоп слова."
   ]
  },
  {
   "cell_type": "code",
   "execution_count": 12,
   "metadata": {},
   "outputs": [],
   "source": [
    "stopwords = set(nltk_stopwords.words('english'))"
   ]
  },
  {
   "cell_type": "markdown",
   "metadata": {},
   "source": [
    "Разделим данные на выборки"
   ]
  },
  {
   "cell_type": "code",
   "execution_count": 13,
   "metadata": {},
   "outputs": [],
   "source": [
    "features = data['text']\n",
    "target = data['toxic']"
   ]
  },
  {
   "cell_type": "code",
   "execution_count": 14,
   "metadata": {},
   "outputs": [],
   "source": [
    "features_train, features_test, target_train, target_test = train_test_split(features, target, test_size = 0.25)"
   ]
  },
  {
   "cell_type": "code",
   "execution_count": 15,
   "metadata": {},
   "outputs": [
    {
     "data": {
      "text/plain": [
       "(119469,)"
      ]
     },
     "execution_count": 15,
     "metadata": {},
     "output_type": "execute_result"
    }
   ],
   "source": [
    "features_train.shape"
   ]
  },
  {
   "cell_type": "code",
   "execution_count": 16,
   "metadata": {},
   "outputs": [
    {
     "data": {
      "text/plain": [
       "119469"
      ]
     },
     "execution_count": 16,
     "metadata": {},
     "output_type": "execute_result"
    }
   ],
   "source": [
    "len(target_train)"
   ]
  },
  {
   "cell_type": "code",
   "execution_count": 17,
   "metadata": {},
   "outputs": [
    {
     "data": {
      "text/plain": [
       "(39823,)"
      ]
     },
     "execution_count": 17,
     "metadata": {},
     "output_type": "execute_result"
    }
   ],
   "source": [
    "features_test.shape"
   ]
  },
  {
   "cell_type": "code",
   "execution_count": 18,
   "metadata": {},
   "outputs": [
    {
     "data": {
      "text/plain": [
       "39823"
      ]
     },
     "execution_count": 18,
     "metadata": {},
     "output_type": "execute_result"
    }
   ],
   "source": [
    "len(target_test)"
   ]
  },
  {
   "cell_type": "markdown",
   "metadata": {},
   "source": [
    "Векторизация"
   ]
  },
  {
   "cell_type": "code",
   "execution_count": 19,
   "metadata": {},
   "outputs": [],
   "source": [
    "count_tf_idf = TfidfVectorizer(stop_words=stopwords)"
   ]
  },
  {
   "cell_type": "code",
   "execution_count": 20,
   "metadata": {},
   "outputs": [],
   "source": [
    "tfidf_train = count_tf_idf.fit_transform(features_train)\n",
    "tfidf_test = count_tf_idf.transform(features_test)"
   ]
  },
  {
   "cell_type": "markdown",
   "metadata": {},
   "source": [
    "Обучим логистическую регрессию."
   ]
  },
  {
   "cell_type": "code",
   "execution_count": 21,
   "metadata": {},
   "outputs": [
    {
     "name": "stdout",
     "output_type": "stream",
     "text": [
      "Fitting 3 folds for each of 1 candidates, totalling 3 fits\n",
      "[CV 1/3] END ................................................ total time=   0.8s\n",
      "[CV 2/3] END ................................................ total time=   0.8s\n",
      "[CV 3/3] END ................................................ total time=   0.8s\n"
     ]
    },
    {
     "data": {
      "text/plain": [
       "GridSearchCV(cv=3,\n",
       "             estimator=LogisticRegression(max_iter=5000, penalty='l1',\n",
       "                                          random_state=12345,\n",
       "                                          solver='liblinear'),\n",
       "             param_grid={}, scoring='f1', verbose=3)"
      ]
     },
     "execution_count": 21,
     "metadata": {},
     "output_type": "execute_result"
    }
   ],
   "source": [
    "model_lin = LogisticRegression(solver='liblinear', random_state=12345, max_iter=5000, penalty='l1')\n",
    "m_l = GridSearchCV(estimator=model_lin, param_grid={}, scoring='f1', cv=3, verbose=3)\n",
    "m_l.fit(tfidf_train, target_train)"
   ]
  },
  {
   "cell_type": "code",
   "execution_count": 22,
   "metadata": {},
   "outputs": [
    {
     "data": {
      "text/plain": [
       "LogisticRegression(max_iter=5000, penalty='l1', random_state=12345,\n",
       "                   solver='liblinear')"
      ]
     },
     "execution_count": 22,
     "metadata": {},
     "output_type": "execute_result"
    }
   ],
   "source": [
    "m_l.best_estimator_"
   ]
  },
  {
   "cell_type": "code",
   "execution_count": 23,
   "metadata": {},
   "outputs": [
    {
     "data": {
      "text/plain": [
       "0.7539468391331615"
      ]
     },
     "execution_count": 23,
     "metadata": {},
     "output_type": "execute_result"
    }
   ],
   "source": [
    "m_l.best_score_"
   ]
  },
  {
   "cell_type": "markdown",
   "metadata": {},
   "source": [
    "Получили нужный нам f1_score. Посмотрим, что с другими моделями."
   ]
  },
  {
   "cell_type": "markdown",
   "metadata": {},
   "source": [
    "Теперь обучим случайный лес."
   ]
  },
  {
   "cell_type": "code",
   "execution_count": 24,
   "metadata": {
    "scrolled": true
   },
   "outputs": [
    {
     "name": "stdout",
     "output_type": "stream",
     "text": [
      "Fitting 3 folds for each of 10 candidates, totalling 30 fits\n",
      "[CV 1/3] END ...................max_depth=5, n_estimators=25; total time=   2.0s\n",
      "[CV 2/3] END ...................max_depth=5, n_estimators=25; total time=   1.9s\n",
      "[CV 3/3] END ...................max_depth=5, n_estimators=25; total time=   1.9s\n",
      "[CV 1/3] END ...................max_depth=5, n_estimators=50; total time=   3.7s\n",
      "[CV 2/3] END ...................max_depth=5, n_estimators=50; total time=   3.6s\n",
      "[CV 3/3] END ...................max_depth=5, n_estimators=50; total time=   3.7s\n",
      "[CV 1/3] END ...................max_depth=6, n_estimators=25; total time=   2.2s\n",
      "[CV 2/3] END ...................max_depth=6, n_estimators=25; total time=   2.2s\n",
      "[CV 3/3] END ...................max_depth=6, n_estimators=25; total time=   2.2s\n",
      "[CV 1/3] END ...................max_depth=6, n_estimators=50; total time=   4.3s\n",
      "[CV 2/3] END ...................max_depth=6, n_estimators=50; total time=   4.3s\n",
      "[CV 3/3] END ...................max_depth=6, n_estimators=50; total time=   4.4s\n",
      "[CV 1/3] END ...................max_depth=7, n_estimators=25; total time=   2.6s\n",
      "[CV 2/3] END ...................max_depth=7, n_estimators=25; total time=   2.6s\n",
      "[CV 3/3] END ...................max_depth=7, n_estimators=25; total time=   2.5s\n",
      "[CV 1/3] END ...................max_depth=7, n_estimators=50; total time=   5.0s\n",
      "[CV 2/3] END ...................max_depth=7, n_estimators=50; total time=   4.9s\n",
      "[CV 3/3] END ...................max_depth=7, n_estimators=50; total time=   5.0s\n",
      "[CV 1/3] END ...................max_depth=8, n_estimators=25; total time=   2.9s\n",
      "[CV 2/3] END ...................max_depth=8, n_estimators=25; total time=   2.9s\n",
      "[CV 3/3] END ...................max_depth=8, n_estimators=25; total time=   2.8s\n",
      "[CV 1/3] END ...................max_depth=8, n_estimators=50; total time=   5.6s\n",
      "[CV 2/3] END ...................max_depth=8, n_estimators=50; total time=   5.6s\n",
      "[CV 3/3] END ...................max_depth=8, n_estimators=50; total time=   5.6s\n",
      "[CV 1/3] END ...................max_depth=9, n_estimators=25; total time=   3.1s\n",
      "[CV 2/3] END ...................max_depth=9, n_estimators=25; total time=   3.2s\n",
      "[CV 3/3] END ...................max_depth=9, n_estimators=25; total time=   3.2s\n",
      "[CV 1/3] END ...................max_depth=9, n_estimators=50; total time=   6.4s\n",
      "[CV 2/3] END ...................max_depth=9, n_estimators=50; total time=   6.4s\n",
      "[CV 3/3] END ...................max_depth=9, n_estimators=50; total time=   6.3s\n"
     ]
    },
    {
     "data": {
      "text/plain": [
       "GridSearchCV(cv=3, estimator=RandomForestClassifier(random_state=12345),\n",
       "             param_grid={'max_depth': range(5, 10),\n",
       "                         'n_estimators': range(25, 51, 25)},\n",
       "             scoring='f1', verbose=3)"
      ]
     },
     "execution_count": 24,
     "metadata": {},
     "output_type": "execute_result"
    }
   ],
   "source": [
    "model_forest = RandomForestClassifier(random_state=12345)\n",
    "params = {'max_depth': range(5,10), 'n_estimators': range(25, 51, 25)}\n",
    "m_f = GridSearchCV(estimator=model_forest, param_grid=params, scoring='f1', cv=3, verbose=3)\n",
    "m_f.fit(tfidf_train, target_train)"
   ]
  },
  {
   "cell_type": "code",
   "execution_count": 25,
   "metadata": {},
   "outputs": [
    {
     "data": {
      "text/plain": [
       "RandomForestClassifier(max_depth=5, n_estimators=25, random_state=12345)"
      ]
     },
     "execution_count": 25,
     "metadata": {},
     "output_type": "execute_result"
    }
   ],
   "source": [
    "m_f.best_estimator_"
   ]
  },
  {
   "cell_type": "code",
   "execution_count": 26,
   "metadata": {},
   "outputs": [
    {
     "data": {
      "text/plain": [
       "0.0"
      ]
     },
     "execution_count": 26,
     "metadata": {},
     "output_type": "execute_result"
    }
   ],
   "source": [
    "m_f.best_score_"
   ]
  },
  {
   "cell_type": "markdown",
   "metadata": {},
   "source": [
    "## Тестирование"
   ]
  },
  {
   "cell_type": "markdown",
   "metadata": {},
   "source": [
    "Посчитаем f1_score модели логистической регрессии на тестовой выборке"
   ]
  },
  {
   "cell_type": "code",
   "execution_count": 27,
   "metadata": {},
   "outputs": [
    {
     "data": {
      "text/plain": [
       "0.7745387973524855"
      ]
     },
     "execution_count": 27,
     "metadata": {},
     "output_type": "execute_result"
    }
   ],
   "source": [
    "f1_score(target_test, m_l.best_estimator_.predict(tfidf_test))"
   ]
  },
  {
   "cell_type": "markdown",
   "metadata": {},
   "source": [
    "Получили нужное нам значение метрики f1_score = 0.7745387973524855"
   ]
  },
  {
   "cell_type": "markdown",
   "metadata": {},
   "source": [
    "## Вывод"
   ]
  },
  {
   "cell_type": "markdown",
   "metadata": {},
   "source": [
    "Вывод.  \n",
    "1. Данные были загружены.\n",
    "2. Данные были обработаны с помощью регулярных выражений и лемматизации.\n",
    "3. Данные разделены на выборки(тренировочную и тестовую)\n",
    "4. Была произведена векторизациия данных.\n",
    "5. Были обучены модели и найдена лучшая LogisticRegression.\n",
    "6. На тестовой выборке с моделью LogisticRegression был получен нужный нам f1_score(> 0.75) 0.7745387973524855"
   ]
  }
 ],
 "metadata": {
  "ExecuteTimeLog": [
   {
    "duration": 394,
    "start_time": "2023-11-27T15:15:02.119Z"
   },
   {
    "duration": 2279,
    "start_time": "2023-11-27T15:15:32.161Z"
   },
   {
    "duration": 8,
    "start_time": "2023-11-27T15:32:40.270Z"
   },
   {
    "duration": 4,
    "start_time": "2023-11-27T15:34:10.759Z"
   },
   {
    "duration": 3,
    "start_time": "2023-11-27T15:37:19.426Z"
   },
   {
    "duration": 3,
    "start_time": "2023-11-27T15:37:48.089Z"
   },
   {
    "duration": 3977,
    "start_time": "2023-11-27T15:37:48.769Z"
   },
   {
    "duration": 10,
    "start_time": "2023-11-27T15:37:58.098Z"
   },
   {
    "duration": 423,
    "start_time": "2023-11-27T15:38:18.148Z"
   },
   {
    "duration": 872,
    "start_time": "2023-11-27T15:38:18.573Z"
   },
   {
    "duration": 4,
    "start_time": "2023-11-27T15:38:19.447Z"
   },
   {
    "duration": 4106,
    "start_time": "2023-11-27T15:38:19.453Z"
   },
   {
    "duration": 14,
    "start_time": "2023-11-27T15:38:23.561Z"
   },
   {
    "duration": 7,
    "start_time": "2023-11-27T15:38:33.642Z"
   },
   {
    "duration": 31,
    "start_time": "2023-11-27T15:39:56.883Z"
   },
   {
    "duration": 35,
    "start_time": "2023-11-27T15:40:02.164Z"
   },
   {
    "duration": 4,
    "start_time": "2023-11-27T15:40:11.108Z"
   },
   {
    "duration": 37,
    "start_time": "2023-11-27T15:40:22.723Z"
   },
   {
    "duration": 3,
    "start_time": "2023-11-27T15:40:54.988Z"
   },
   {
    "duration": 18,
    "start_time": "2023-11-27T15:41:29.637Z"
   },
   {
    "duration": 4,
    "start_time": "2023-11-27T15:42:25.037Z"
   },
   {
    "duration": 715,
    "start_time": "2023-11-27T15:43:33.847Z"
   },
   {
    "duration": 5,
    "start_time": "2023-11-27T15:43:46.494Z"
   },
   {
    "duration": 4,
    "start_time": "2023-11-27T15:44:02.839Z"
   },
   {
    "duration": 21,
    "start_time": "2023-11-27T15:44:30.199Z"
   },
   {
    "duration": 3,
    "start_time": "2023-11-27T15:51:13.701Z"
   },
   {
    "duration": 434,
    "start_time": "2023-11-27T15:52:03.437Z"
   },
   {
    "duration": 872,
    "start_time": "2023-11-27T15:52:03.873Z"
   },
   {
    "duration": 30,
    "start_time": "2023-11-27T15:52:04.746Z"
   },
   {
    "duration": 9,
    "start_time": "2023-11-27T15:52:04.778Z"
   },
   {
    "duration": 42,
    "start_time": "2023-11-27T15:52:04.788Z"
   },
   {
    "duration": 395,
    "start_time": "2023-11-27T15:53:02.283Z"
   },
   {
    "duration": 905,
    "start_time": "2023-11-27T15:53:02.680Z"
   },
   {
    "duration": 32,
    "start_time": "2023-11-27T15:53:03.586Z"
   },
   {
    "duration": 10,
    "start_time": "2023-11-27T15:53:03.620Z"
   },
   {
    "duration": 446,
    "start_time": "2023-11-27T15:55:41.939Z"
   },
   {
    "duration": 913,
    "start_time": "2023-11-27T15:55:42.387Z"
   },
   {
    "duration": 34,
    "start_time": "2023-11-27T15:55:43.302Z"
   },
   {
    "duration": 8,
    "start_time": "2023-11-27T15:55:43.339Z"
   },
   {
    "duration": 2,
    "start_time": "2023-11-27T15:55:43.366Z"
   },
   {
    "duration": 3,
    "start_time": "2023-11-27T15:56:03.440Z"
   },
   {
    "duration": 67,
    "start_time": "2023-11-27T15:57:15.577Z"
   },
   {
    "duration": 3152,
    "start_time": "2023-11-27T15:57:19.448Z"
   },
   {
    "duration": 2739,
    "start_time": "2023-11-27T15:57:40.353Z"
   },
   {
    "duration": 2,
    "start_time": "2023-11-27T15:58:34.770Z"
   },
   {
    "duration": 9,
    "start_time": "2023-11-27T15:59:07.451Z"
   },
   {
    "duration": 4,
    "start_time": "2023-11-27T15:59:18.978Z"
   },
   {
    "duration": 908,
    "start_time": "2023-11-27T15:59:19.915Z"
   },
   {
    "duration": 5,
    "start_time": "2023-11-27T15:59:27.930Z"
   },
   {
    "duration": 5,
    "start_time": "2023-11-27T15:59:32.947Z"
   },
   {
    "duration": 4,
    "start_time": "2023-11-27T15:59:43.300Z"
   },
   {
    "duration": 3,
    "start_time": "2023-11-27T15:59:52.091Z"
   },
   {
    "duration": 386,
    "start_time": "2023-11-27T15:59:58.007Z"
   },
   {
    "duration": 892,
    "start_time": "2023-11-27T15:59:58.395Z"
   },
   {
    "duration": 32,
    "start_time": "2023-11-27T15:59:59.289Z"
   },
   {
    "duration": 25,
    "start_time": "2023-11-27T15:59:59.323Z"
   },
   {
    "duration": 3192,
    "start_time": "2023-11-27T15:59:59.349Z"
   },
   {
    "duration": 2227,
    "start_time": "2023-11-27T16:00:02.543Z"
   },
   {
    "duration": 23,
    "start_time": "2023-11-27T16:00:04.771Z"
   },
   {
    "duration": 26,
    "start_time": "2023-11-27T16:00:04.796Z"
   },
   {
    "duration": 827,
    "start_time": "2023-11-27T16:00:04.824Z"
   },
   {
    "duration": 5,
    "start_time": "2023-11-27T16:00:05.654Z"
   },
   {
    "duration": 1312,
    "start_time": "2023-11-27T16:02:25.077Z"
   },
   {
    "duration": 1535,
    "start_time": "2023-11-27T16:03:15.848Z"
   },
   {
    "duration": 2341,
    "start_time": "2023-11-27T16:03:17.385Z"
   },
   {
    "duration": 33,
    "start_time": "2023-11-27T16:03:19.728Z"
   },
   {
    "duration": 4,
    "start_time": "2023-11-27T16:03:19.766Z"
   },
   {
    "duration": 3188,
    "start_time": "2023-11-27T16:03:19.772Z"
   },
   {
    "duration": 51,
    "start_time": "2023-11-27T16:03:31.046Z"
   },
   {
    "duration": 1593,
    "start_time": "2023-11-27T16:03:36.886Z"
   },
   {
    "duration": 2294,
    "start_time": "2023-11-27T16:03:38.481Z"
   },
   {
    "duration": 31,
    "start_time": "2023-11-27T16:03:40.776Z"
   },
   {
    "duration": 3,
    "start_time": "2023-11-27T16:03:40.810Z"
   },
   {
    "duration": 3136,
    "start_time": "2023-11-27T16:03:40.816Z"
   },
   {
    "duration": 24,
    "start_time": "2023-11-27T16:03:43.954Z"
   },
   {
    "duration": 81,
    "start_time": "2023-11-27T16:03:43.979Z"
   },
   {
    "duration": 152,
    "start_time": "2023-11-27T16:03:44.062Z"
   },
   {
    "duration": 11,
    "start_time": "2023-11-27T16:03:52.422Z"
   },
   {
    "duration": 1530,
    "start_time": "2023-11-27T16:04:50.153Z"
   },
   {
    "duration": 930,
    "start_time": "2023-11-27T16:04:51.685Z"
   },
   {
    "duration": 35,
    "start_time": "2023-11-27T16:04:52.618Z"
   },
   {
    "duration": 88,
    "start_time": "2023-11-27T16:04:52.667Z"
   },
   {
    "duration": 3216,
    "start_time": "2023-11-27T16:04:52.757Z"
   },
   {
    "duration": 8,
    "start_time": "2023-11-27T16:04:55.975Z"
   },
   {
    "duration": 42,
    "start_time": "2023-11-27T16:04:55.985Z"
   },
   {
    "duration": 14,
    "start_time": "2023-11-27T16:04:56.029Z"
   },
   {
    "duration": 66580,
    "start_time": "2023-11-27T16:04:56.048Z"
   },
   {
    "duration": 21,
    "start_time": "2023-11-27T16:06:02.631Z"
   },
   {
    "duration": 4,
    "start_time": "2023-11-27T16:11:32.676Z"
   },
   {
    "duration": 3,
    "start_time": "2023-11-27T16:12:01.364Z"
   },
   {
    "duration": 28,
    "start_time": "2023-11-27T16:14:45.566Z"
   },
   {
    "duration": 5,
    "start_time": "2023-11-27T16:14:55.895Z"
   },
   {
    "duration": 4,
    "start_time": "2023-11-27T16:15:13.222Z"
   },
   {
    "duration": 4,
    "start_time": "2023-11-27T16:15:13.870Z"
   },
   {
    "duration": 4,
    "start_time": "2023-11-27T16:15:14.590Z"
   },
   {
    "duration": 3,
    "start_time": "2023-11-27T16:18:29.169Z"
   },
   {
    "duration": 7208,
    "start_time": "2023-11-27T16:25:27.735Z"
   },
   {
    "duration": 5,
    "start_time": "2023-11-27T16:25:57.317Z"
   },
   {
    "duration": 32,
    "start_time": "2023-11-27T16:26:42.390Z"
   },
   {
    "duration": 125,
    "start_time": "2023-11-27T16:29:19.760Z"
   },
   {
    "duration": 162268,
    "start_time": "2023-11-27T16:29:33.104Z"
   },
   {
    "duration": 4,
    "start_time": "2023-11-27T16:32:17.651Z"
   },
   {
    "duration": 4,
    "start_time": "2023-11-27T16:32:18.586Z"
   },
   {
    "duration": 29816,
    "start_time": "2023-11-27T16:33:08.563Z"
   },
   {
    "duration": 4,
    "start_time": "2023-11-27T16:33:39.387Z"
   },
   {
    "duration": 4,
    "start_time": "2023-11-27T16:33:40.755Z"
   },
   {
    "duration": 4,
    "start_time": "2023-11-27T16:33:42.051Z"
   },
   {
    "duration": 33183,
    "start_time": "2023-11-27T16:33:56.003Z"
   },
   {
    "duration": 4,
    "start_time": "2023-11-27T16:34:30.427Z"
   },
   {
    "duration": 4,
    "start_time": "2023-11-27T16:34:31.244Z"
   },
   {
    "duration": 3,
    "start_time": "2023-11-27T16:34:32.180Z"
   },
   {
    "duration": 32429,
    "start_time": "2023-11-27T16:34:37.356Z"
   },
   {
    "duration": 3,
    "start_time": "2023-11-27T16:35:09.787Z"
   },
   {
    "duration": 19,
    "start_time": "2023-11-27T16:37:14.175Z"
   },
   {
    "duration": 31970,
    "start_time": "2023-11-27T16:37:33.014Z"
   },
   {
    "duration": 4,
    "start_time": "2023-11-27T16:38:06.655Z"
   },
   {
    "duration": 4,
    "start_time": "2023-11-27T16:38:08.511Z"
   },
   {
    "duration": 21,
    "start_time": "2023-11-27T16:38:09.511Z"
   },
   {
    "duration": 19,
    "start_time": "2023-11-27T16:38:10.295Z"
   },
   {
    "duration": 4,
    "start_time": "2023-11-27T16:38:10.854Z"
   },
   {
    "duration": 1648,
    "start_time": "2023-11-27T16:38:15.870Z"
   },
   {
    "duration": 960,
    "start_time": "2023-11-27T16:38:17.519Z"
   },
   {
    "duration": 35,
    "start_time": "2023-11-27T16:38:18.481Z"
   },
   {
    "duration": 4,
    "start_time": "2023-11-27T16:38:18.519Z"
   },
   {
    "duration": 3077,
    "start_time": "2023-11-27T16:38:18.525Z"
   },
   {
    "duration": 8,
    "start_time": "2023-11-27T16:38:21.604Z"
   },
   {
    "duration": 25,
    "start_time": "2023-11-27T16:38:21.614Z"
   },
   {
    "duration": 26,
    "start_time": "2023-11-27T16:38:21.641Z"
   },
   {
    "duration": 63916,
    "start_time": "2023-11-27T16:38:21.668Z"
   },
   {
    "duration": 8,
    "start_time": "2023-11-27T16:39:25.588Z"
   },
   {
    "duration": 6,
    "start_time": "2023-11-27T16:39:25.598Z"
   },
   {
    "duration": 3,
    "start_time": "2023-11-27T16:39:25.606Z"
   },
   {
    "duration": 63,
    "start_time": "2023-11-27T16:39:25.611Z"
   },
   {
    "duration": 5,
    "start_time": "2023-11-27T16:39:25.676Z"
   },
   {
    "duration": 8,
    "start_time": "2023-11-27T16:39:25.683Z"
   },
   {
    "duration": 5,
    "start_time": "2023-11-27T16:39:25.692Z"
   },
   {
    "duration": 6,
    "start_time": "2023-11-27T16:39:25.699Z"
   },
   {
    "duration": 7,
    "start_time": "2023-11-27T16:39:25.707Z"
   },
   {
    "duration": 7177,
    "start_time": "2023-11-27T16:39:25.715Z"
   },
   {
    "duration": 30392,
    "start_time": "2023-11-27T16:39:32.894Z"
   },
   {
    "duration": 4,
    "start_time": "2023-11-27T16:40:03.288Z"
   },
   {
    "duration": 9,
    "start_time": "2023-11-27T16:40:03.293Z"
   },
   {
    "duration": 35,
    "start_time": "2023-11-27T16:40:03.304Z"
   },
   {
    "duration": 3921,
    "start_time": "2023-11-27T16:42:25.794Z"
   },
   {
    "duration": 4,
    "start_time": "2023-11-27T16:42:32.914Z"
   },
   {
    "duration": 4,
    "start_time": "2023-11-27T16:42:34.330Z"
   },
   {
    "duration": 17,
    "start_time": "2023-11-27T16:42:35.146Z"
   },
   {
    "duration": 18,
    "start_time": "2023-11-27T16:43:12.523Z"
   },
   {
    "duration": 129,
    "start_time": "2023-11-27T16:43:39.307Z"
   },
   {
    "duration": 1447,
    "start_time": "2023-11-27T16:50:00.913Z"
   },
   {
    "duration": 961,
    "start_time": "2023-11-27T16:50:02.362Z"
   },
   {
    "duration": 30,
    "start_time": "2023-11-27T16:50:03.324Z"
   },
   {
    "duration": 10,
    "start_time": "2023-11-27T16:50:03.356Z"
   },
   {
    "duration": 3129,
    "start_time": "2023-11-27T16:50:03.368Z"
   },
   {
    "duration": 7,
    "start_time": "2023-11-27T16:50:06.499Z"
   },
   {
    "duration": 24,
    "start_time": "2023-11-27T16:50:06.508Z"
   },
   {
    "duration": 3,
    "start_time": "2023-11-27T16:50:06.534Z"
   },
   {
    "duration": 61554,
    "start_time": "2023-11-27T16:50:06.566Z"
   },
   {
    "duration": 7,
    "start_time": "2023-11-27T16:51:08.123Z"
   },
   {
    "duration": 39,
    "start_time": "2023-11-27T16:51:08.131Z"
   },
   {
    "duration": 15,
    "start_time": "2023-11-27T16:51:08.171Z"
   },
   {
    "duration": 54,
    "start_time": "2023-11-27T16:51:08.187Z"
   },
   {
    "duration": 5,
    "start_time": "2023-11-27T16:51:08.243Z"
   },
   {
    "duration": 20,
    "start_time": "2023-11-27T16:51:08.250Z"
   },
   {
    "duration": 19,
    "start_time": "2023-11-27T16:51:08.272Z"
   },
   {
    "duration": 12,
    "start_time": "2023-11-27T16:51:08.292Z"
   },
   {
    "duration": 30,
    "start_time": "2023-11-27T16:51:08.305Z"
   },
   {
    "duration": 6785,
    "start_time": "2023-11-27T16:51:08.336Z"
   },
   {
    "duration": 3906,
    "start_time": "2023-11-27T16:51:15.123Z"
   },
   {
    "duration": 4,
    "start_time": "2023-11-27T16:51:19.031Z"
   },
   {
    "duration": 9,
    "start_time": "2023-11-27T16:51:19.036Z"
   },
   {
    "duration": 1451,
    "start_time": "2023-11-27T16:52:08.987Z"
   },
   {
    "duration": 904,
    "start_time": "2023-11-27T16:52:10.439Z"
   },
   {
    "duration": 37,
    "start_time": "2023-11-27T16:52:11.345Z"
   },
   {
    "duration": 3,
    "start_time": "2023-11-27T16:52:11.384Z"
   },
   {
    "duration": 3096,
    "start_time": "2023-11-27T16:52:11.388Z"
   },
   {
    "duration": 7,
    "start_time": "2023-11-27T16:52:14.485Z"
   },
   {
    "duration": 39,
    "start_time": "2023-11-27T16:52:14.494Z"
   },
   {
    "duration": 2,
    "start_time": "2023-11-27T16:52:14.535Z"
   },
   {
    "duration": 62159,
    "start_time": "2023-11-27T16:52:14.539Z"
   },
   {
    "duration": 8,
    "start_time": "2023-11-27T16:53:16.702Z"
   },
   {
    "duration": 7,
    "start_time": "2023-11-27T16:53:16.711Z"
   },
   {
    "duration": 8,
    "start_time": "2023-11-27T16:53:16.719Z"
   },
   {
    "duration": 56,
    "start_time": "2023-11-27T16:53:16.728Z"
   },
   {
    "duration": 4,
    "start_time": "2023-11-27T16:53:16.786Z"
   },
   {
    "duration": 6,
    "start_time": "2023-11-27T16:53:16.792Z"
   },
   {
    "duration": 5,
    "start_time": "2023-11-27T16:53:16.800Z"
   },
   {
    "duration": 5,
    "start_time": "2023-11-27T16:53:16.806Z"
   },
   {
    "duration": 4,
    "start_time": "2023-11-27T16:53:16.812Z"
   },
   {
    "duration": 7025,
    "start_time": "2023-11-27T16:53:16.817Z"
   },
   {
    "duration": 3841,
    "start_time": "2023-11-27T16:53:23.844Z"
   },
   {
    "duration": 4,
    "start_time": "2023-11-27T16:53:27.687Z"
   },
   {
    "duration": 10,
    "start_time": "2023-11-27T16:53:27.692Z"
   },
   {
    "duration": 59023,
    "start_time": "2023-11-27T16:53:27.703Z"
   },
   {
    "duration": 18,
    "start_time": "2023-11-27T16:54:26.728Z"
   },
   {
    "duration": 5,
    "start_time": "2023-11-27T16:54:44.394Z"
   },
   {
    "duration": 4,
    "start_time": "2023-11-27T16:54:45.115Z"
   },
   {
    "duration": 20,
    "start_time": "2023-11-27T16:55:39.210Z"
   },
   {
    "duration": 168,
    "start_time": "2023-11-27T19:56:24.825Z"
   },
   {
    "duration": 5,
    "start_time": "2023-11-27T19:57:26.146Z"
   },
   {
    "duration": 5,
    "start_time": "2023-11-27T19:59:38.659Z"
   },
   {
    "duration": 4,
    "start_time": "2023-11-27T20:05:43.232Z"
   },
   {
    "duration": 465,
    "start_time": "2023-11-27T20:05:56.472Z"
   },
   {
    "duration": 5,
    "start_time": "2023-11-27T20:06:14.849Z"
   },
   {
    "duration": 391,
    "start_time": "2023-11-27T20:06:18.225Z"
   },
   {
    "duration": 446,
    "start_time": "2023-11-27T20:06:41.584Z"
   },
   {
    "duration": 5,
    "start_time": "2023-11-27T20:06:45.729Z"
   },
   {
    "duration": 1504,
    "start_time": "2023-11-27T20:07:07.437Z"
   },
   {
    "duration": 924,
    "start_time": "2023-11-27T20:07:08.942Z"
   },
   {
    "duration": 33,
    "start_time": "2023-11-27T20:07:09.870Z"
   },
   {
    "duration": 3,
    "start_time": "2023-11-27T20:07:09.904Z"
   },
   {
    "duration": 3186,
    "start_time": "2023-11-27T20:07:09.908Z"
   },
   {
    "duration": 6,
    "start_time": "2023-11-27T20:07:13.096Z"
   },
   {
    "duration": 3,
    "start_time": "2023-11-27T20:07:13.104Z"
   },
   {
    "duration": 19,
    "start_time": "2023-11-27T20:07:13.109Z"
   },
   {
    "duration": 1671,
    "start_time": "2023-11-27T20:08:00.130Z"
   },
   {
    "duration": 925,
    "start_time": "2023-11-27T20:08:01.803Z"
   },
   {
    "duration": 43,
    "start_time": "2023-11-27T20:08:02.729Z"
   },
   {
    "duration": 4,
    "start_time": "2023-11-27T20:08:02.775Z"
   },
   {
    "duration": 3144,
    "start_time": "2023-11-27T20:08:02.780Z"
   },
   {
    "duration": 9,
    "start_time": "2023-11-27T20:08:05.926Z"
   },
   {
    "duration": 5,
    "start_time": "2023-11-27T20:08:05.936Z"
   },
   {
    "duration": 10,
    "start_time": "2023-11-27T20:08:05.943Z"
   },
   {
    "duration": 1522,
    "start_time": "2023-11-27T20:08:57.702Z"
   },
   {
    "duration": 832,
    "start_time": "2023-11-27T20:08:59.226Z"
   },
   {
    "duration": 34,
    "start_time": "2023-11-27T20:09:00.060Z"
   },
   {
    "duration": 14,
    "start_time": "2023-11-27T20:09:00.096Z"
   },
   {
    "duration": 3144,
    "start_time": "2023-11-27T20:09:00.111Z"
   },
   {
    "duration": 10,
    "start_time": "2023-11-27T20:09:03.257Z"
   },
   {
    "duration": 26,
    "start_time": "2023-11-27T20:09:03.268Z"
   },
   {
    "duration": 32,
    "start_time": "2023-11-27T20:09:03.296Z"
   },
   {
    "duration": 523437,
    "start_time": "2023-11-27T20:09:03.329Z"
   },
   {
    "duration": 7,
    "start_time": "2023-11-27T20:17:46.769Z"
   },
   {
    "duration": 14,
    "start_time": "2023-11-27T20:17:46.777Z"
   },
   {
    "duration": 3,
    "start_time": "2023-11-27T20:17:46.792Z"
   },
   {
    "duration": 7,
    "start_time": "2023-11-27T20:17:46.796Z"
   },
   {
    "duration": 44,
    "start_time": "2023-11-27T20:17:46.804Z"
   },
   {
    "duration": 3,
    "start_time": "2023-11-27T20:17:46.865Z"
   },
   {
    "duration": 13,
    "start_time": "2023-11-27T20:17:46.870Z"
   },
   {
    "duration": 7,
    "start_time": "2023-11-27T20:17:46.884Z"
   },
   {
    "duration": 12,
    "start_time": "2023-11-27T20:17:46.892Z"
   },
   {
    "duration": 4,
    "start_time": "2023-11-27T20:17:46.905Z"
   },
   {
    "duration": 137,
    "start_time": "2023-11-27T20:17:46.910Z"
   },
   {
    "duration": 0,
    "start_time": "2023-11-27T20:17:47.048Z"
   },
   {
    "duration": 0,
    "start_time": "2023-11-27T20:17:47.050Z"
   },
   {
    "duration": 0,
    "start_time": "2023-11-27T20:17:47.051Z"
   },
   {
    "duration": 0,
    "start_time": "2023-11-27T20:17:47.051Z"
   },
   {
    "duration": 0,
    "start_time": "2023-11-27T20:17:47.052Z"
   },
   {
    "duration": 0,
    "start_time": "2023-11-27T20:17:47.065Z"
   },
   {
    "duration": 0,
    "start_time": "2023-11-27T20:17:47.066Z"
   },
   {
    "duration": 4,
    "start_time": "2023-11-27T20:18:32.106Z"
   },
   {
    "duration": 341,
    "start_time": "2023-11-27T20:18:33.984Z"
   },
   {
    "duration": 4,
    "start_time": "2023-11-27T20:19:48.443Z"
   },
   {
    "duration": 384,
    "start_time": "2023-11-27T20:19:51.180Z"
   },
   {
    "duration": 10,
    "start_time": "2023-11-27T20:20:52.276Z"
   },
   {
    "duration": 8,
    "start_time": "2023-11-27T20:20:57.771Z"
   },
   {
    "duration": 1186,
    "start_time": "2023-11-27T20:21:01.476Z"
   },
   {
    "duration": 8,
    "start_time": "2023-11-27T20:21:09.931Z"
   },
   {
    "duration": 15,
    "start_time": "2023-11-27T20:21:22.163Z"
   },
   {
    "duration": 4,
    "start_time": "2023-11-27T20:21:34.284Z"
   },
   {
    "duration": 8,
    "start_time": "2023-11-27T20:21:45.748Z"
   },
   {
    "duration": 3,
    "start_time": "2023-11-27T20:22:03.452Z"
   },
   {
    "duration": 4,
    "start_time": "2023-11-27T20:22:06.668Z"
   },
   {
    "duration": 2,
    "start_time": "2023-11-27T20:22:11.277Z"
   },
   {
    "duration": 4,
    "start_time": "2023-11-27T20:22:12.460Z"
   },
   {
    "duration": 5,
    "start_time": "2023-11-27T20:22:24.380Z"
   },
   {
    "duration": 4,
    "start_time": "2023-11-27T20:22:25.789Z"
   },
   {
    "duration": 352,
    "start_time": "2023-11-27T20:22:26.957Z"
   },
   {
    "duration": 33,
    "start_time": "2023-11-27T20:22:36.821Z"
   },
   {
    "duration": 7,
    "start_time": "2023-11-27T20:23:54.703Z"
   },
   {
    "duration": 291,
    "start_time": "2023-11-27T20:24:44.039Z"
   },
   {
    "duration": 5,
    "start_time": "2023-11-27T20:24:48.615Z"
   },
   {
    "duration": 930,
    "start_time": "2023-11-27T20:24:50.918Z"
   },
   {
    "duration": 5,
    "start_time": "2023-11-27T20:24:51.850Z"
   },
   {
    "duration": 4,
    "start_time": "2023-11-27T20:25:52.216Z"
   },
   {
    "duration": 4,
    "start_time": "2023-11-27T20:26:00.895Z"
   },
   {
    "duration": 1547,
    "start_time": "2023-11-27T20:26:08.424Z"
   },
   {
    "duration": 903,
    "start_time": "2023-11-27T20:26:09.972Z"
   },
   {
    "duration": 31,
    "start_time": "2023-11-27T20:26:10.879Z"
   },
   {
    "duration": 6,
    "start_time": "2023-11-27T20:26:10.912Z"
   },
   {
    "duration": 3067,
    "start_time": "2023-11-27T20:26:10.920Z"
   },
   {
    "duration": 8,
    "start_time": "2023-11-27T20:26:13.989Z"
   },
   {
    "duration": 6,
    "start_time": "2023-11-27T20:26:13.998Z"
   },
   {
    "duration": 10,
    "start_time": "2023-11-27T20:26:14.005Z"
   },
   {
    "duration": 1541,
    "start_time": "2023-11-27T20:27:21.832Z"
   },
   {
    "duration": 869,
    "start_time": "2023-11-27T20:27:23.376Z"
   },
   {
    "duration": 38,
    "start_time": "2023-11-27T20:27:24.247Z"
   },
   {
    "duration": 38,
    "start_time": "2023-11-27T20:27:24.286Z"
   },
   {
    "duration": 3174,
    "start_time": "2023-11-27T20:27:24.326Z"
   },
   {
    "duration": 7,
    "start_time": "2023-11-27T20:27:27.502Z"
   },
   {
    "duration": 16,
    "start_time": "2023-11-27T20:27:27.510Z"
   },
   {
    "duration": 55,
    "start_time": "2023-11-27T20:27:27.528Z"
   },
   {
    "duration": 522915,
    "start_time": "2023-11-27T20:27:27.584Z"
   },
   {
    "duration": 609,
    "start_time": "2023-11-27T20:36:10.502Z"
   },
   {
    "duration": 5,
    "start_time": "2023-11-27T20:36:11.113Z"
   },
   {
    "duration": 5,
    "start_time": "2023-11-27T20:36:11.120Z"
   },
   {
    "duration": 7,
    "start_time": "2023-11-27T20:36:11.127Z"
   },
   {
    "duration": 43,
    "start_time": "2023-11-27T20:36:11.135Z"
   },
   {
    "duration": 3,
    "start_time": "2023-11-27T20:36:11.180Z"
   },
   {
    "duration": 10,
    "start_time": "2023-11-27T20:36:11.184Z"
   },
   {
    "duration": 7,
    "start_time": "2023-11-27T20:36:11.196Z"
   },
   {
    "duration": 8,
    "start_time": "2023-11-27T20:36:11.204Z"
   },
   {
    "duration": 3,
    "start_time": "2023-11-27T20:36:11.214Z"
   },
   {
    "duration": 6514,
    "start_time": "2023-11-27T20:36:11.218Z"
   },
   {
    "duration": 3717,
    "start_time": "2023-11-27T20:36:17.733Z"
   },
   {
    "duration": 4,
    "start_time": "2023-11-27T20:36:21.452Z"
   },
   {
    "duration": 17,
    "start_time": "2023-11-27T20:36:21.457Z"
   },
   {
    "duration": 113813,
    "start_time": "2023-11-27T20:36:21.476Z"
   },
   {
    "duration": 4,
    "start_time": "2023-11-27T20:38:15.291Z"
   },
   {
    "duration": 45,
    "start_time": "2023-11-27T20:38:15.296Z"
   },
   {
    "duration": 36,
    "start_time": "2023-11-27T20:38:15.343Z"
   }
  ],
  "kernelspec": {
   "display_name": "Python 3 (ipykernel)",
   "language": "python",
   "name": "python3"
  },
  "language_info": {
   "codemirror_mode": {
    "name": "ipython",
    "version": 3
   },
   "file_extension": ".py",
   "mimetype": "text/x-python",
   "name": "python",
   "nbconvert_exporter": "python",
   "pygments_lexer": "ipython3",
   "version": "3.9.18"
  },
  "toc": {
   "base_numbering": 1,
   "nav_menu": {},
   "number_sections": true,
   "sideBar": true,
   "skip_h1_title": true,
   "title_cell": "Содержание",
   "title_sidebar": "Contents",
   "toc_cell": true,
   "toc_position": {
    "height": "calc(100% - 180px)",
    "left": "10px",
    "top": "150px",
    "width": "302.391px"
   },
   "toc_section_display": true,
   "toc_window_display": false
  }
 },
 "nbformat": 4,
 "nbformat_minor": 4
}
