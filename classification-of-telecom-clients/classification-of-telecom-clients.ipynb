{
 "cells": [
  {
   "cell_type": "markdown",
   "metadata": {},
   "source": [
    "# Рекомендация тарифов"
   ]
  },
  {
   "cell_type": "markdown",
   "metadata": {},
   "source": [
    "В вашем распоряжении данные о поведении клиентов, которые уже перешли на эти тарифы (из проекта курса «Статистический анализ данных»). Нужно построить модель для задачи классификации, которая выберет подходящий тариф. Предобработка данных не понадобится — вы её уже сделали.\n",
    "\n",
    "Постройте модель с максимально большим значением *accuracy*. Чтобы сдать проект успешно, нужно довести долю правильных ответов по крайней мере до 0.75. Проверьте *accuracy* на тестовой выборке самостоятельно."
   ]
  },
  {
   "cell_type": "markdown",
   "metadata": {},
   "source": [
    "Описание данных.  \n",
    "  \n",
    "1. сalls — количество звонков\n",
    "2. minutes — суммарная длительность звонков в минутах\n",
    "3. messages — количество sms-сообщений\n",
    "4. mb_used — израсходованный интернет-трафик в Мб\n",
    "5. is_ultra — каким тарифом пользовался в течение месяца («Ультра» — 1, «Смарт» — 0)"
   ]
  },
  {
   "cell_type": "code",
   "execution_count": 1,
   "metadata": {},
   "outputs": [],
   "source": [
    "import pandas as pd\n",
    "import numpy as np\n",
    "from sklearn.ensemble import RandomForestClassifier\n",
    "from sklearn.tree import DecisionTreeClassifier\n",
    "from sklearn.linear_model import LogisticRegression\n",
    "from sklearn.model_selection import train_test_split\n",
    "from sklearn.metrics import accuracy_score\n",
    "from sklearn.dummy import DummyClassifier\n",
    "\n",
    "pd.set_option('display.max_columns', None)"
   ]
  },
  {
   "cell_type": "markdown",
   "metadata": {},
   "source": [
    "## Откройте и изучите файл"
   ]
  },
  {
   "cell_type": "code",
   "execution_count": 2,
   "metadata": {},
   "outputs": [
    {
     "data": {
      "text/html": [
       "<div>\n",
       "<style scoped>\n",
       "    .dataframe tbody tr th:only-of-type {\n",
       "        vertical-align: middle;\n",
       "    }\n",
       "\n",
       "    .dataframe tbody tr th {\n",
       "        vertical-align: top;\n",
       "    }\n",
       "\n",
       "    .dataframe thead th {\n",
       "        text-align: right;\n",
       "    }\n",
       "</style>\n",
       "<table border=\"1\" class=\"dataframe\">\n",
       "  <thead>\n",
       "    <tr style=\"text-align: right;\">\n",
       "      <th></th>\n",
       "      <th>calls</th>\n",
       "      <th>minutes</th>\n",
       "      <th>messages</th>\n",
       "      <th>mb_used</th>\n",
       "      <th>is_ultra</th>\n",
       "    </tr>\n",
       "  </thead>\n",
       "  <tbody>\n",
       "    <tr>\n",
       "      <th>0</th>\n",
       "      <td>40.0</td>\n",
       "      <td>311.90</td>\n",
       "      <td>83.0</td>\n",
       "      <td>19915.42</td>\n",
       "      <td>0</td>\n",
       "    </tr>\n",
       "    <tr>\n",
       "      <th>1</th>\n",
       "      <td>85.0</td>\n",
       "      <td>516.75</td>\n",
       "      <td>56.0</td>\n",
       "      <td>22696.96</td>\n",
       "      <td>0</td>\n",
       "    </tr>\n",
       "    <tr>\n",
       "      <th>2</th>\n",
       "      <td>77.0</td>\n",
       "      <td>467.66</td>\n",
       "      <td>86.0</td>\n",
       "      <td>21060.45</td>\n",
       "      <td>0</td>\n",
       "    </tr>\n",
       "    <tr>\n",
       "      <th>3</th>\n",
       "      <td>106.0</td>\n",
       "      <td>745.53</td>\n",
       "      <td>81.0</td>\n",
       "      <td>8437.39</td>\n",
       "      <td>1</td>\n",
       "    </tr>\n",
       "    <tr>\n",
       "      <th>4</th>\n",
       "      <td>66.0</td>\n",
       "      <td>418.74</td>\n",
       "      <td>1.0</td>\n",
       "      <td>14502.75</td>\n",
       "      <td>0</td>\n",
       "    </tr>\n",
       "    <tr>\n",
       "      <th>5</th>\n",
       "      <td>58.0</td>\n",
       "      <td>344.56</td>\n",
       "      <td>21.0</td>\n",
       "      <td>15823.37</td>\n",
       "      <td>0</td>\n",
       "    </tr>\n",
       "    <tr>\n",
       "      <th>6</th>\n",
       "      <td>57.0</td>\n",
       "      <td>431.64</td>\n",
       "      <td>20.0</td>\n",
       "      <td>3738.90</td>\n",
       "      <td>1</td>\n",
       "    </tr>\n",
       "    <tr>\n",
       "      <th>7</th>\n",
       "      <td>15.0</td>\n",
       "      <td>132.40</td>\n",
       "      <td>6.0</td>\n",
       "      <td>21911.60</td>\n",
       "      <td>0</td>\n",
       "    </tr>\n",
       "    <tr>\n",
       "      <th>8</th>\n",
       "      <td>7.0</td>\n",
       "      <td>43.39</td>\n",
       "      <td>3.0</td>\n",
       "      <td>2538.67</td>\n",
       "      <td>1</td>\n",
       "    </tr>\n",
       "    <tr>\n",
       "      <th>9</th>\n",
       "      <td>90.0</td>\n",
       "      <td>665.41</td>\n",
       "      <td>38.0</td>\n",
       "      <td>17358.61</td>\n",
       "      <td>0</td>\n",
       "    </tr>\n",
       "    <tr>\n",
       "      <th>10</th>\n",
       "      <td>82.0</td>\n",
       "      <td>560.51</td>\n",
       "      <td>20.0</td>\n",
       "      <td>9619.53</td>\n",
       "      <td>1</td>\n",
       "    </tr>\n",
       "    <tr>\n",
       "      <th>11</th>\n",
       "      <td>45.0</td>\n",
       "      <td>344.32</td>\n",
       "      <td>13.0</td>\n",
       "      <td>19898.81</td>\n",
       "      <td>0</td>\n",
       "    </tr>\n",
       "    <tr>\n",
       "      <th>12</th>\n",
       "      <td>51.0</td>\n",
       "      <td>437.13</td>\n",
       "      <td>61.0</td>\n",
       "      <td>21523.58</td>\n",
       "      <td>0</td>\n",
       "    </tr>\n",
       "    <tr>\n",
       "      <th>13</th>\n",
       "      <td>56.0</td>\n",
       "      <td>433.07</td>\n",
       "      <td>16.0</td>\n",
       "      <td>16702.36</td>\n",
       "      <td>0</td>\n",
       "    </tr>\n",
       "    <tr>\n",
       "      <th>14</th>\n",
       "      <td>108.0</td>\n",
       "      <td>587.90</td>\n",
       "      <td>0.0</td>\n",
       "      <td>14406.50</td>\n",
       "      <td>1</td>\n",
       "    </tr>\n",
       "    <tr>\n",
       "      <th>15</th>\n",
       "      <td>6.0</td>\n",
       "      <td>22.13</td>\n",
       "      <td>0.0</td>\n",
       "      <td>2710.09</td>\n",
       "      <td>0</td>\n",
       "    </tr>\n",
       "    <tr>\n",
       "      <th>16</th>\n",
       "      <td>2.0</td>\n",
       "      <td>18.73</td>\n",
       "      <td>0.0</td>\n",
       "      <td>588.89</td>\n",
       "      <td>0</td>\n",
       "    </tr>\n",
       "    <tr>\n",
       "      <th>17</th>\n",
       "      <td>26.0</td>\n",
       "      <td>163.62</td>\n",
       "      <td>4.0</td>\n",
       "      <td>16870.34</td>\n",
       "      <td>0</td>\n",
       "    </tr>\n",
       "    <tr>\n",
       "      <th>18</th>\n",
       "      <td>79.0</td>\n",
       "      <td>532.62</td>\n",
       "      <td>90.0</td>\n",
       "      <td>19908.31</td>\n",
       "      <td>0</td>\n",
       "    </tr>\n",
       "    <tr>\n",
       "      <th>19</th>\n",
       "      <td>49.0</td>\n",
       "      <td>341.67</td>\n",
       "      <td>81.0</td>\n",
       "      <td>11770.28</td>\n",
       "      <td>1</td>\n",
       "    </tr>\n",
       "  </tbody>\n",
       "</table>\n",
       "</div>"
      ],
      "text/plain": [
       "    calls  minutes  messages   mb_used  is_ultra\n",
       "0    40.0   311.90      83.0  19915.42         0\n",
       "1    85.0   516.75      56.0  22696.96         0\n",
       "2    77.0   467.66      86.0  21060.45         0\n",
       "3   106.0   745.53      81.0   8437.39         1\n",
       "4    66.0   418.74       1.0  14502.75         0\n",
       "5    58.0   344.56      21.0  15823.37         0\n",
       "6    57.0   431.64      20.0   3738.90         1\n",
       "7    15.0   132.40       6.0  21911.60         0\n",
       "8     7.0    43.39       3.0   2538.67         1\n",
       "9    90.0   665.41      38.0  17358.61         0\n",
       "10   82.0   560.51      20.0   9619.53         1\n",
       "11   45.0   344.32      13.0  19898.81         0\n",
       "12   51.0   437.13      61.0  21523.58         0\n",
       "13   56.0   433.07      16.0  16702.36         0\n",
       "14  108.0   587.90       0.0  14406.50         1\n",
       "15    6.0    22.13       0.0   2710.09         0\n",
       "16    2.0    18.73       0.0    588.89         0\n",
       "17   26.0   163.62       4.0  16870.34         0\n",
       "18   79.0   532.62      90.0  19908.31         0\n",
       "19   49.0   341.67      81.0  11770.28         1"
      ]
     },
     "execution_count": 2,
     "metadata": {},
     "output_type": "execute_result"
    }
   ],
   "source": [
    "df = pd.read_csv('/datasets/users_behavior.csv')\n",
    "df.head(20)"
   ]
  },
  {
   "cell_type": "code",
   "execution_count": 3,
   "metadata": {},
   "outputs": [
    {
     "name": "stdout",
     "output_type": "stream",
     "text": [
      "<class 'pandas.core.frame.DataFrame'>\n",
      "RangeIndex: 3214 entries, 0 to 3213\n",
      "Data columns (total 5 columns):\n",
      " #   Column    Non-Null Count  Dtype  \n",
      "---  ------    --------------  -----  \n",
      " 0   calls     3214 non-null   float64\n",
      " 1   minutes   3214 non-null   float64\n",
      " 2   messages  3214 non-null   float64\n",
      " 3   mb_used   3214 non-null   float64\n",
      " 4   is_ultra  3214 non-null   int64  \n",
      "dtypes: float64(4), int64(1)\n",
      "memory usage: 125.7 KB\n"
     ]
    }
   ],
   "source": [
    "df.info()"
   ]
  },
  {
   "cell_type": "code",
   "execution_count": 4,
   "metadata": {},
   "outputs": [
    {
     "data": {
      "text/plain": [
       "calls       0\n",
       "minutes     0\n",
       "messages    0\n",
       "mb_used     0\n",
       "is_ultra    0\n",
       "dtype: int64"
      ]
     },
     "execution_count": 4,
     "metadata": {},
     "output_type": "execute_result"
    }
   ],
   "source": [
    "df.isna().sum()"
   ]
  },
  {
   "cell_type": "code",
   "execution_count": 5,
   "metadata": {},
   "outputs": [
    {
     "data": {
      "text/plain": [
       "0"
      ]
     },
     "execution_count": 5,
     "metadata": {},
     "output_type": "execute_result"
    }
   ],
   "source": [
    "df.duplicated().sum()"
   ]
  },
  {
   "cell_type": "markdown",
   "metadata": {},
   "source": [
    "Данные не нуждаются в предобработке. Пустых значений нет, дубликатов нет, все столбцы имеют правильный тип данных. "
   ]
  },
  {
   "cell_type": "markdown",
   "metadata": {},
   "source": [
    "## Разбейте данные на выборки"
   ]
  },
  {
   "cell_type": "code",
   "execution_count": 6,
   "metadata": {},
   "outputs": [],
   "source": [
    "df_train, df_test = train_test_split(df, test_size=0.4, random_state=12345)"
   ]
  },
  {
   "cell_type": "markdown",
   "metadata": {},
   "source": [
    "Разобьем данные на 2 выборки сначала. Одну для обучния, вторую разделим на валидационную и тестовую."
   ]
  },
  {
   "cell_type": "code",
   "execution_count": 7,
   "metadata": {},
   "outputs": [],
   "source": [
    "df_valid, df_test = train_test_split(df_test, test_size=0.5, random_state=12345)"
   ]
  },
  {
   "cell_type": "code",
   "execution_count": 8,
   "metadata": {},
   "outputs": [
    {
     "name": "stdout",
     "output_type": "stream",
     "text": [
      "<class 'pandas.core.frame.DataFrame'>\n",
      "Int64Index: 1928 entries, 3027 to 482\n",
      "Data columns (total 5 columns):\n",
      " #   Column    Non-Null Count  Dtype  \n",
      "---  ------    --------------  -----  \n",
      " 0   calls     1928 non-null   float64\n",
      " 1   minutes   1928 non-null   float64\n",
      " 2   messages  1928 non-null   float64\n",
      " 3   mb_used   1928 non-null   float64\n",
      " 4   is_ultra  1928 non-null   int64  \n",
      "dtypes: float64(4), int64(1)\n",
      "memory usage: 90.4 KB\n"
     ]
    }
   ],
   "source": [
    "df_train.info()"
   ]
  },
  {
   "cell_type": "code",
   "execution_count": 9,
   "metadata": {},
   "outputs": [
    {
     "name": "stdout",
     "output_type": "stream",
     "text": [
      "<class 'pandas.core.frame.DataFrame'>\n",
      "Int64Index: 643 entries, 1386 to 3197\n",
      "Data columns (total 5 columns):\n",
      " #   Column    Non-Null Count  Dtype  \n",
      "---  ------    --------------  -----  \n",
      " 0   calls     643 non-null    float64\n",
      " 1   minutes   643 non-null    float64\n",
      " 2   messages  643 non-null    float64\n",
      " 3   mb_used   643 non-null    float64\n",
      " 4   is_ultra  643 non-null    int64  \n",
      "dtypes: float64(4), int64(1)\n",
      "memory usage: 30.1 KB\n"
     ]
    }
   ],
   "source": [
    "df_valid.info()"
   ]
  },
  {
   "cell_type": "code",
   "execution_count": 10,
   "metadata": {},
   "outputs": [
    {
     "name": "stdout",
     "output_type": "stream",
     "text": [
      "<class 'pandas.core.frame.DataFrame'>\n",
      "Int64Index: 643 entries, 160 to 2313\n",
      "Data columns (total 5 columns):\n",
      " #   Column    Non-Null Count  Dtype  \n",
      "---  ------    --------------  -----  \n",
      " 0   calls     643 non-null    float64\n",
      " 1   minutes   643 non-null    float64\n",
      " 2   messages  643 non-null    float64\n",
      " 3   mb_used   643 non-null    float64\n",
      " 4   is_ultra  643 non-null    int64  \n",
      "dtypes: float64(4), int64(1)\n",
      "memory usage: 30.1 KB\n"
     ]
    }
   ],
   "source": [
    "df_test.info()"
   ]
  },
  {
   "cell_type": "markdown",
   "metadata": {},
   "source": [
    "Разбили данные на три выборки: обучающую, валидационную и тестовую в соотношении 3:1:1 соответственно."
   ]
  },
  {
   "cell_type": "markdown",
   "metadata": {},
   "source": [
    "## Исследуйте модели"
   ]
  },
  {
   "cell_type": "markdown",
   "metadata": {},
   "source": [
    "Для начала исследуем модель решающего дерева."
   ]
  },
  {
   "cell_type": "code",
   "execution_count": 11,
   "metadata": {},
   "outputs": [],
   "source": [
    "features_train = df_train.drop(['is_ultra'], axis=1)\n",
    "target_train = df_train['is_ultra']\n",
    "features_valid = df_valid.drop(['is_ultra'], axis=1)\n",
    "target_valid = df_valid['is_ultra']"
   ]
  },
  {
   "cell_type": "code",
   "execution_count": 12,
   "metadata": {},
   "outputs": [
    {
     "name": "stdout",
     "output_type": "stream",
     "text": [
      "max_depth =  1 : 0.7542768273716952\n",
      "max_depth =  2 : 0.7822706065318819\n",
      "max_depth =  3 : 0.7853810264385692\n",
      "max_depth =  4 : 0.7791601866251944\n",
      "max_depth =  5 : 0.7791601866251944\n"
     ]
    }
   ],
   "source": [
    "for depth in range(1,6):\n",
    "    model = DecisionTreeClassifier(random_state=12345, max_depth=depth)\n",
    "    model.fit(features_train, target_train)\n",
    "    predictions_valid = model.predict(features_valid)\n",
    "    \n",
    "    print('max_depth = ', depth, ': ', end='')\n",
    "    print(accuracy_score(target_valid, predictions_valid))"
   ]
  },
  {
   "cell_type": "markdown",
   "metadata": {},
   "source": [
    "Наибольшее качество наблюдается при глубине дерева 3, а именно 0.785. Наименьшее при глубине 1 - 0.754."
   ]
  },
  {
   "cell_type": "markdown",
   "metadata": {},
   "source": [
    "Теперь исследуем модель случайный лес."
   ]
  },
  {
   "cell_type": "code",
   "execution_count": 13,
   "metadata": {},
   "outputs": [
    {
     "name": "stdout",
     "output_type": "stream",
     "text": [
      "Accuracy лучшей модели на валидационной выборке: 0.8087091757387247 Количество деревьев: 40 Максимальная глубина: 8\n"
     ]
    }
   ],
   "source": [
    "best_model = None\n",
    "best_accuracy = 0\n",
    "best_est = 0\n",
    "best_depth = 0\n",
    "for est in range(10, 51, 10):\n",
    "    for depth in range(1, 11):\n",
    "        model = RandomForestClassifier(random_state=12345, n_estimators=est, max_depth=depth)\n",
    "        model.fit(features_train, target_train)\n",
    "        predictions_valid = model.predict(features_valid)\n",
    "        accuracy = accuracy_score(target_valid, predictions_valid)\n",
    "        if accuracy > best_accuracy:\n",
    "            best_model = model\n",
    "            best_accuracy = accuracy\n",
    "            best_est = est\n",
    "            best_depth = depth\n",
    "print(\"Accuracy лучшей модели на валидационной выборке:\", best_accuracy, \"Количество деревьев:\",\n",
    "      best_est, \"Максимальная глубина:\", best_depth)        "
   ]
  },
  {
   "cell_type": "markdown",
   "metadata": {},
   "source": [
    "Accuracy у случайного леса получилась выше(как и ожидалось), чем у решающего дерева."
   ]
  },
  {
   "cell_type": "markdown",
   "metadata": {},
   "source": [
    "Теперь рассмотрим логистическую регрессию."
   ]
  },
  {
   "cell_type": "code",
   "execution_count": 14,
   "metadata": {},
   "outputs": [
    {
     "name": "stdout",
     "output_type": "stream",
     "text": [
      "Accuracy логистической регрессии: 0.7107309486780715\n"
     ]
    }
   ],
   "source": [
    "model_log = LogisticRegression(random_state=12345, solver='lbfgs', max_iter=1000)\n",
    "model_log.fit(features_train, target_train)\n",
    "predictions_valid_log = model_log.predict(features_valid)\n",
    "print(\"Accuracy логистической регрессии:\", accuracy_score(target_valid, predictions_valid_log))"
   ]
  },
  {
   "cell_type": "markdown",
   "metadata": {},
   "source": [
    "Мы изучили 3 модели и можем сделать вывод о том, что лучшей accuracy обладает модель случайного леса с количеством дереьев 40 и максимальной глубиной 8. Худшая accuracy у логистической регресии, но и работает она намного быстрее других. Для тестовых данных будем использовать лучшую модель случайного леса."
   ]
  },
  {
   "cell_type": "markdown",
   "metadata": {},
   "source": [
    "## Проверьте модель на тестовой выборке"
   ]
  },
  {
   "cell_type": "code",
   "execution_count": 15,
   "metadata": {},
   "outputs": [
    {
     "data": {
      "text/plain": [
       "RandomForestClassifier(max_depth=8, n_estimators=40, random_state=12345)"
      ]
     },
     "execution_count": 15,
     "metadata": {},
     "output_type": "execute_result"
    }
   ],
   "source": [
    "features = pd.concat([features_valid, features_train])\n",
    "target = pd.concat([target_valid, target_train])\n",
    "best_model.fit(features, target)"
   ]
  },
  {
   "cell_type": "code",
   "execution_count": 16,
   "metadata": {},
   "outputs": [],
   "source": [
    "features_test = df_test.drop(['is_ultra'], axis=1)\n",
    "target_test = df_test['is_ultra']"
   ]
  },
  {
   "cell_type": "code",
   "execution_count": 17,
   "metadata": {},
   "outputs": [
    {
     "name": "stdout",
     "output_type": "stream",
     "text": [
      "Качество выбранной модели случайного леса для тестовой выборки равно: 0.7993779160186625\n"
     ]
    }
   ],
   "source": [
    "predictions_test = best_model.predict(features_test)\n",
    "accuracy_test = accuracy_score(target_test, predictions_test)\n",
    "print(\"Качество выбранной модели случайного леса для тестовой выборки равно:\", accuracy_test)"
   ]
  },
  {
   "cell_type": "markdown",
   "metadata": {},
   "source": [
    "## (бонус) Проверьте модели на адекватность"
   ]
  },
  {
   "cell_type": "markdown",
   "metadata": {},
   "source": [
    "Для проверки на адекватность используем DummyClassifier. Это более простая модель по сравнению с теми, что мы использовали. Сравним его результаты с результатами нашей модели."
   ]
  },
  {
   "cell_type": "code",
   "execution_count": 18,
   "metadata": {},
   "outputs": [
    {
     "name": "stdout",
     "output_type": "stream",
     "text": [
      "Качество данной модели получилось 0.6842923794712286\n"
     ]
    }
   ],
   "source": [
    "model_dummy = DummyClassifier()\n",
    "model_dummy.fit(features_train, target_train)\n",
    "predictions_dummy = model_dummy.predict(features_test)\n",
    "print(\"Качество данной модели получилось\", accuracy_score(target_test, predictions_dummy))"
   ]
  },
  {
   "cell_type": "markdown",
   "metadata": {},
   "source": [
    "Как мы видим качество данной модели получилось ниже, чем любое другое, которое мы получали при использовании других моделей с разными гиперпараметрами."
   ]
  },
  {
   "cell_type": "markdown",
   "metadata": {},
   "source": []
  }
 ],
 "metadata": {
  "ExecuteTimeLog": [
   {
    "duration": 416,
    "start_time": "2023-10-02T12:24:21.931Z"
   },
   {
    "duration": 141,
    "start_time": "2023-10-02T12:24:23.187Z"
   },
   {
    "duration": 15,
    "start_time": "2023-10-02T12:24:37.871Z"
   },
   {
    "duration": 809,
    "start_time": "2023-10-02T12:26:08.329Z"
   },
   {
    "duration": 44,
    "start_time": "2023-10-02T12:26:10.589Z"
   },
   {
    "duration": 17,
    "start_time": "2023-10-02T12:26:12.520Z"
   },
   {
    "duration": 6,
    "start_time": "2023-10-02T12:27:37.442Z"
   },
   {
    "duration": 7,
    "start_time": "2023-10-02T12:28:17.473Z"
   },
   {
    "duration": 4,
    "start_time": "2023-10-02T12:29:23.578Z"
   },
   {
    "duration": 42,
    "start_time": "2023-10-02T12:29:24.351Z"
   },
   {
    "duration": 26,
    "start_time": "2023-10-02T12:29:25.307Z"
   },
   {
    "duration": 42,
    "start_time": "2023-10-02T12:29:26.187Z"
   },
   {
    "duration": 11,
    "start_time": "2023-10-02T12:29:26.515Z"
   },
   {
    "duration": 6,
    "start_time": "2023-10-02T12:29:27.194Z"
   },
   {
    "duration": 7,
    "start_time": "2023-10-02T12:29:27.651Z"
   },
   {
    "duration": 102,
    "start_time": "2023-10-02T12:29:28.763Z"
   },
   {
    "duration": 107,
    "start_time": "2023-10-02T12:30:13.028Z"
   },
   {
    "duration": 6,
    "start_time": "2023-10-02T12:33:00.518Z"
   },
   {
    "duration": 12,
    "start_time": "2023-10-02T12:33:24.038Z"
   },
   {
    "duration": 5,
    "start_time": "2023-10-02T12:33:38.943Z"
   },
   {
    "duration": 5,
    "start_time": "2023-10-02T12:34:36.957Z"
   },
   {
    "duration": 5,
    "start_time": "2023-10-02T12:34:37.768Z"
   },
   {
    "duration": 16,
    "start_time": "2023-10-02T12:34:46.895Z"
   },
   {
    "duration": 12,
    "start_time": "2023-10-02T12:34:51.836Z"
   },
   {
    "duration": 9,
    "start_time": "2023-10-02T12:34:55.152Z"
   },
   {
    "duration": 12,
    "start_time": "2023-10-02T12:35:01.215Z"
   },
   {
    "duration": 10,
    "start_time": "2023-10-02T12:35:12.280Z"
   },
   {
    "duration": 12,
    "start_time": "2023-10-02T12:35:20.311Z"
   },
   {
    "duration": 11,
    "start_time": "2023-10-02T12:35:29.880Z"
   },
   {
    "duration": 5,
    "start_time": "2023-10-03T00:59:13.409Z"
   },
   {
    "duration": 15,
    "start_time": "2023-10-03T00:59:17.777Z"
   },
   {
    "duration": 4,
    "start_time": "2023-10-03T00:59:41.489Z"
   },
   {
    "duration": 5,
    "start_time": "2023-10-03T01:00:58.250Z"
   },
   {
    "duration": 3,
    "start_time": "2023-10-03T01:01:45.763Z"
   },
   {
    "duration": 1141,
    "start_time": "2023-10-03T01:01:53.212Z"
   },
   {
    "duration": 50,
    "start_time": "2023-10-03T01:01:54.355Z"
   },
   {
    "duration": 13,
    "start_time": "2023-10-03T01:01:54.407Z"
   },
   {
    "duration": 19,
    "start_time": "2023-10-03T01:01:54.422Z"
   },
   {
    "duration": 14,
    "start_time": "2023-10-03T01:01:54.443Z"
   },
   {
    "duration": 28,
    "start_time": "2023-10-03T01:01:54.458Z"
   },
   {
    "duration": 17,
    "start_time": "2023-10-03T01:01:54.487Z"
   },
   {
    "duration": 14,
    "start_time": "2023-10-03T01:01:54.506Z"
   },
   {
    "duration": 11,
    "start_time": "2023-10-03T01:01:54.522Z"
   },
   {
    "duration": 11,
    "start_time": "2023-10-03T01:01:54.535Z"
   },
   {
    "duration": 21,
    "start_time": "2023-10-03T01:01:54.548Z"
   },
   {
    "duration": 115,
    "start_time": "2023-10-03T01:05:00.997Z"
   },
   {
    "duration": 19,
    "start_time": "2023-10-03T01:05:18.373Z"
   },
   {
    "duration": 4,
    "start_time": "2023-10-03T01:05:31.797Z"
   },
   {
    "duration": 39,
    "start_time": "2023-10-03T01:06:30.622Z"
   },
   {
    "duration": 11,
    "start_time": "2023-10-03T01:11:08.796Z"
   },
   {
    "duration": 292,
    "start_time": "2023-10-03T01:11:15.697Z"
   },
   {
    "duration": 33,
    "start_time": "2023-10-03T01:11:40.104Z"
   },
   {
    "duration": 303,
    "start_time": "2023-10-03T01:11:44.994Z"
   },
   {
    "duration": 30,
    "start_time": "2023-10-03T01:13:04.155Z"
   },
   {
    "duration": 334,
    "start_time": "2023-10-03T01:15:25.197Z"
   },
   {
    "duration": 293,
    "start_time": "2023-10-03T01:15:32.533Z"
   },
   {
    "duration": 321,
    "start_time": "2023-10-03T01:15:37.965Z"
   },
   {
    "duration": 1127,
    "start_time": "2023-10-03T11:14:38.335Z"
   },
   {
    "duration": 190,
    "start_time": "2023-10-03T11:14:39.464Z"
   },
   {
    "duration": 10,
    "start_time": "2023-10-03T11:14:39.658Z"
   },
   {
    "duration": 11,
    "start_time": "2023-10-03T11:14:39.669Z"
   },
   {
    "duration": 7,
    "start_time": "2023-10-03T11:14:39.681Z"
   },
   {
    "duration": 11,
    "start_time": "2023-10-03T11:14:39.689Z"
   },
   {
    "duration": 5,
    "start_time": "2023-10-03T11:14:39.701Z"
   },
   {
    "duration": 10,
    "start_time": "2023-10-03T11:14:39.707Z"
   },
   {
    "duration": 9,
    "start_time": "2023-10-03T11:14:39.719Z"
   },
   {
    "duration": 27,
    "start_time": "2023-10-03T11:14:39.730Z"
   },
   {
    "duration": 12,
    "start_time": "2023-10-03T11:14:39.759Z"
   },
   {
    "duration": 31,
    "start_time": "2023-10-03T11:14:39.772Z"
   },
   {
    "duration": 275,
    "start_time": "2023-10-03T11:14:39.805Z"
   },
   {
    "duration": 3355,
    "start_time": "2023-10-03T11:22:51.287Z"
   },
   {
    "duration": 3,
    "start_time": "2023-10-03T11:25:31.478Z"
   },
   {
    "duration": 24,
    "start_time": "2023-10-03T11:29:32.796Z"
   },
   {
    "duration": 91,
    "start_time": "2023-10-03T11:33:12.376Z"
   },
   {
    "duration": 4,
    "start_time": "2023-10-03T11:33:56.208Z"
   },
   {
    "duration": 11,
    "start_time": "2023-10-03T11:33:57.077Z"
   },
   {
    "duration": 11,
    "start_time": "2023-10-03T11:34:38.200Z"
   },
   {
    "duration": 4,
    "start_time": "2023-10-03T11:46:24.943Z"
   },
   {
    "duration": 5,
    "start_time": "2023-10-03T11:48:54.143Z"
   },
   {
    "duration": 5,
    "start_time": "2023-10-03T11:49:17.742Z"
   },
   {
    "duration": 1085,
    "start_time": "2023-10-03T11:53:52.485Z"
   },
   {
    "duration": 45,
    "start_time": "2023-10-03T11:53:53.572Z"
   },
   {
    "duration": 11,
    "start_time": "2023-10-03T11:53:53.619Z"
   },
   {
    "duration": 26,
    "start_time": "2023-10-03T11:53:53.632Z"
   },
   {
    "duration": 33,
    "start_time": "2023-10-03T11:53:53.660Z"
   },
   {
    "duration": 23,
    "start_time": "2023-10-03T11:53:53.695Z"
   },
   {
    "duration": 10,
    "start_time": "2023-10-03T11:53:53.720Z"
   },
   {
    "duration": 45,
    "start_time": "2023-10-03T11:53:53.732Z"
   },
   {
    "duration": 32,
    "start_time": "2023-10-03T11:53:53.778Z"
   },
   {
    "duration": 27,
    "start_time": "2023-10-03T11:53:53.812Z"
   },
   {
    "duration": 30,
    "start_time": "2023-10-03T11:53:53.840Z"
   },
   {
    "duration": 38,
    "start_time": "2023-10-03T11:53:53.871Z"
   },
   {
    "duration": 3442,
    "start_time": "2023-10-03T11:53:53.911Z"
   },
   {
    "duration": 23,
    "start_time": "2023-10-03T11:53:57.354Z"
   },
   {
    "duration": 23,
    "start_time": "2023-10-03T11:53:57.378Z"
   },
   {
    "duration": 51,
    "start_time": "2023-10-03T11:53:57.402Z"
   },
   {
    "duration": 9,
    "start_time": "2023-10-03T11:53:57.455Z"
   },
   {
    "duration": 7800,
    "start_time": "2023-10-03T12:11:39.661Z"
   },
   {
    "duration": 396,
    "start_time": "2023-10-03T12:11:47.464Z"
   },
   {
    "duration": 90,
    "start_time": "2023-10-03T12:11:47.863Z"
   },
   {
    "duration": 13,
    "start_time": "2023-10-03T12:11:47.959Z"
   },
   {
    "duration": 86,
    "start_time": "2023-10-03T12:11:47.974Z"
   },
   {
    "duration": 81,
    "start_time": "2023-10-03T12:11:48.065Z"
   },
   {
    "duration": 21,
    "start_time": "2023-10-03T12:11:48.150Z"
   },
   {
    "duration": 102,
    "start_time": "2023-10-03T12:11:48.248Z"
   },
   {
    "duration": 102,
    "start_time": "2023-10-03T12:11:48.355Z"
   },
   {
    "duration": 18,
    "start_time": "2023-10-03T12:11:48.543Z"
   },
   {
    "duration": 90,
    "start_time": "2023-10-03T12:11:48.568Z"
   },
   {
    "duration": 295,
    "start_time": "2023-10-03T12:11:48.660Z"
   },
   {
    "duration": 26695,
    "start_time": "2023-10-03T12:11:48.961Z"
   },
   {
    "duration": 193,
    "start_time": "2023-10-03T12:12:15.659Z"
   },
   {
    "duration": 191,
    "start_time": "2023-10-03T12:12:15.854Z"
   },
   {
    "duration": 104,
    "start_time": "2023-10-03T12:12:16.047Z"
   },
   {
    "duration": 92,
    "start_time": "2023-10-03T12:12:16.157Z"
   },
   {
    "duration": 124,
    "start_time": "2023-10-03T12:24:46.581Z"
   },
   {
    "duration": 14,
    "start_time": "2023-10-03T12:25:00.339Z"
   },
   {
    "duration": 5,
    "start_time": "2023-10-03T12:25:09.524Z"
   },
   {
    "duration": 21,
    "start_time": "2023-10-03T12:27:33.492Z"
   },
   {
    "duration": 5,
    "start_time": "2023-10-03T12:27:40.108Z"
   },
   {
    "duration": 16,
    "start_time": "2023-10-03T12:51:22.959Z"
   },
   {
    "duration": 3,
    "start_time": "2023-10-03T12:52:07.424Z"
   },
   {
    "duration": 13,
    "start_time": "2023-10-03T12:52:11.168Z"
   },
   {
    "duration": 10,
    "start_time": "2023-10-03T12:52:15.828Z"
   },
   {
    "duration": 12,
    "start_time": "2023-10-03T12:52:21.128Z"
   },
   {
    "duration": 4,
    "start_time": "2023-10-03T12:52:51.696Z"
   },
   {
    "duration": 8,
    "start_time": "2023-10-03T12:52:56.953Z"
   },
   {
    "duration": 13,
    "start_time": "2023-10-03T12:53:01.295Z"
   },
   {
    "duration": 7,
    "start_time": "2023-10-03T12:53:10.487Z"
   },
   {
    "duration": 143,
    "start_time": "2023-10-03T12:53:27.784Z"
   },
   {
    "duration": 4,
    "start_time": "2023-10-03T12:53:33.840Z"
   },
   {
    "duration": 13,
    "start_time": "2023-10-03T12:53:35.025Z"
   },
   {
    "duration": 8992,
    "start_time": "2023-10-03T14:09:39.462Z"
   },
   {
    "duration": 207,
    "start_time": "2023-10-03T14:09:48.459Z"
   },
   {
    "duration": 103,
    "start_time": "2023-10-03T14:09:48.754Z"
   },
   {
    "duration": 103,
    "start_time": "2023-10-03T14:09:48.865Z"
   },
   {
    "duration": 78,
    "start_time": "2023-10-03T14:09:48.976Z"
   },
   {
    "duration": 105,
    "start_time": "2023-10-03T14:09:49.058Z"
   },
   {
    "duration": 808,
    "start_time": "2023-10-03T14:09:49.164Z"
   },
   {
    "duration": 0,
    "start_time": "2023-10-03T14:09:50.061Z"
   },
   {
    "duration": 0,
    "start_time": "2023-10-03T14:09:50.143Z"
   },
   {
    "duration": 0,
    "start_time": "2023-10-03T14:09:50.155Z"
   },
   {
    "duration": 0,
    "start_time": "2023-10-03T14:09:50.162Z"
   },
   {
    "duration": 0,
    "start_time": "2023-10-03T14:09:50.255Z"
   },
   {
    "duration": 0,
    "start_time": "2023-10-03T14:09:50.268Z"
   },
   {
    "duration": 0,
    "start_time": "2023-10-03T14:09:50.355Z"
   },
   {
    "duration": 0,
    "start_time": "2023-10-03T14:09:50.356Z"
   },
   {
    "duration": 0,
    "start_time": "2023-10-03T14:09:50.362Z"
   },
   {
    "duration": 0,
    "start_time": "2023-10-03T14:09:50.446Z"
   },
   {
    "duration": 0,
    "start_time": "2023-10-03T14:09:50.454Z"
   },
   {
    "duration": 1175,
    "start_time": "2024-02-14T15:56:54.763Z"
   },
   {
    "duration": 134,
    "start_time": "2024-02-14T15:56:55.940Z"
   },
   {
    "duration": 11,
    "start_time": "2024-02-14T15:56:56.076Z"
   },
   {
    "duration": 18,
    "start_time": "2024-02-14T15:56:56.090Z"
   },
   {
    "duration": 16,
    "start_time": "2024-02-14T15:56:56.110Z"
   },
   {
    "duration": 8,
    "start_time": "2024-02-14T15:56:56.128Z"
   },
   {
    "duration": 15,
    "start_time": "2024-02-14T15:56:56.137Z"
   },
   {
    "duration": 22,
    "start_time": "2024-02-14T15:56:56.153Z"
   },
   {
    "duration": 15,
    "start_time": "2024-02-14T15:56:56.176Z"
   },
   {
    "duration": 15,
    "start_time": "2024-02-14T15:56:56.193Z"
   },
   {
    "duration": 5,
    "start_time": "2024-02-14T15:56:56.209Z"
   },
   {
    "duration": 34,
    "start_time": "2024-02-14T15:56:56.215Z"
   },
   {
    "duration": 4040,
    "start_time": "2024-02-14T15:56:56.250Z"
   },
   {
    "duration": 27,
    "start_time": "2024-02-14T15:57:00.292Z"
   },
   {
    "duration": 167,
    "start_time": "2024-02-14T15:57:00.320Z"
   },
   {
    "duration": 3,
    "start_time": "2024-02-14T15:57:00.489Z"
   },
   {
    "duration": 33,
    "start_time": "2024-02-14T15:57:00.494Z"
   },
   {
    "duration": 24,
    "start_time": "2024-02-14T15:57:00.528Z"
   }
  ],
  "kernelspec": {
   "display_name": "Python 3 (ipykernel)",
   "language": "python",
   "name": "python3"
  },
  "language_info": {
   "codemirror_mode": {
    "name": "ipython",
    "version": 3
   },
   "file_extension": ".py",
   "mimetype": "text/x-python",
   "name": "python",
   "nbconvert_exporter": "python",
   "pygments_lexer": "ipython3",
   "version": "3.9.18"
  },
  "toc": {
   "base_numbering": 1,
   "nav_menu": {},
   "number_sections": true,
   "sideBar": true,
   "skip_h1_title": true,
   "title_cell": "Table of Contents",
   "title_sidebar": "Contents",
   "toc_cell": false,
   "toc_position": {},
   "toc_section_display": true,
   "toc_window_display": false
  }
 },
 "nbformat": 4,
 "nbformat_minor": 4
}
