{
 "cells": [
  {
   "cell_type": "markdown",
   "metadata": {},
   "source": [
    "# Защита персональных данных клиентов"
   ]
  },
  {
   "cell_type": "markdown",
   "metadata": {},
   "source": [
    "Вам нужно защитить данные клиентов страховой компании «Хоть потоп». Разработайте такой метод преобразования данных, чтобы по ним было сложно восстановить персональную информацию. Обоснуйте корректность его работы.\n",
    "\n",
    "Нужно защитить данные, чтобы при преобразовании качество моделей машинного обучения не ухудшилось. Подбирать наилучшую модель не требуется."
   ]
  },
  {
   "cell_type": "code",
   "execution_count": 1,
   "metadata": {},
   "outputs": [],
   "source": [
    "import pandas as pd\n",
    "import numpy as np\n",
    "import matplotlib.pyplot as plt\n",
    "from sklearn.model_selection import train_test_split\n",
    "from sklearn.preprocessing import StandardScaler\n",
    "from sklearn.metrics import r2_score\n",
    "import warnings\n",
    "\n",
    "warnings.filterwarnings('ignore')"
   ]
  },
  {
   "cell_type": "markdown",
   "metadata": {},
   "source": [
    "## Загрузка данных"
   ]
  },
  {
   "cell_type": "code",
   "execution_count": 2,
   "metadata": {},
   "outputs": [
    {
     "data": {
      "text/html": [
       "<div>\n",
       "<style scoped>\n",
       "    .dataframe tbody tr th:only-of-type {\n",
       "        vertical-align: middle;\n",
       "    }\n",
       "\n",
       "    .dataframe tbody tr th {\n",
       "        vertical-align: top;\n",
       "    }\n",
       "\n",
       "    .dataframe thead th {\n",
       "        text-align: right;\n",
       "    }\n",
       "</style>\n",
       "<table border=\"1\" class=\"dataframe\">\n",
       "  <thead>\n",
       "    <tr style=\"text-align: right;\">\n",
       "      <th></th>\n",
       "      <th>Пол</th>\n",
       "      <th>Возраст</th>\n",
       "      <th>Зарплата</th>\n",
       "      <th>Члены семьи</th>\n",
       "      <th>Страховые выплаты</th>\n",
       "    </tr>\n",
       "  </thead>\n",
       "  <tbody>\n",
       "    <tr>\n",
       "      <th>0</th>\n",
       "      <td>1</td>\n",
       "      <td>41.0</td>\n",
       "      <td>49600.0</td>\n",
       "      <td>1</td>\n",
       "      <td>0</td>\n",
       "    </tr>\n",
       "    <tr>\n",
       "      <th>1</th>\n",
       "      <td>0</td>\n",
       "      <td>46.0</td>\n",
       "      <td>38000.0</td>\n",
       "      <td>1</td>\n",
       "      <td>1</td>\n",
       "    </tr>\n",
       "    <tr>\n",
       "      <th>2</th>\n",
       "      <td>0</td>\n",
       "      <td>29.0</td>\n",
       "      <td>21000.0</td>\n",
       "      <td>0</td>\n",
       "      <td>0</td>\n",
       "    </tr>\n",
       "    <tr>\n",
       "      <th>3</th>\n",
       "      <td>0</td>\n",
       "      <td>21.0</td>\n",
       "      <td>41700.0</td>\n",
       "      <td>2</td>\n",
       "      <td>0</td>\n",
       "    </tr>\n",
       "    <tr>\n",
       "      <th>4</th>\n",
       "      <td>1</td>\n",
       "      <td>28.0</td>\n",
       "      <td>26100.0</td>\n",
       "      <td>0</td>\n",
       "      <td>0</td>\n",
       "    </tr>\n",
       "  </tbody>\n",
       "</table>\n",
       "</div>"
      ],
      "text/plain": [
       "   Пол  Возраст  Зарплата  Члены семьи  Страховые выплаты\n",
       "0    1     41.0   49600.0            1                  0\n",
       "1    0     46.0   38000.0            1                  1\n",
       "2    0     29.0   21000.0            0                  0\n",
       "3    0     21.0   41700.0            2                  0\n",
       "4    1     28.0   26100.0            0                  0"
      ]
     },
     "execution_count": 2,
     "metadata": {},
     "output_type": "execute_result"
    }
   ],
   "source": [
    "data = pd.read_csv('/datasets/insurance.csv')\n",
    "data.head()"
   ]
  },
  {
   "cell_type": "code",
   "execution_count": 3,
   "metadata": {},
   "outputs": [
    {
     "name": "stdout",
     "output_type": "stream",
     "text": [
      "<class 'pandas.core.frame.DataFrame'>\n",
      "RangeIndex: 5000 entries, 0 to 4999\n",
      "Data columns (total 5 columns):\n",
      " #   Column             Non-Null Count  Dtype  \n",
      "---  ------             --------------  -----  \n",
      " 0   Пол                5000 non-null   int64  \n",
      " 1   Возраст            5000 non-null   float64\n",
      " 2   Зарплата           5000 non-null   float64\n",
      " 3   Члены семьи        5000 non-null   int64  \n",
      " 4   Страховые выплаты  5000 non-null   int64  \n",
      "dtypes: float64(2), int64(3)\n",
      "memory usage: 195.4 KB\n"
     ]
    }
   ],
   "source": [
    "data.info()"
   ]
  },
  {
   "cell_type": "markdown",
   "metadata": {},
   "source": [
    "Данные загружены, пропусков нет."
   ]
  },
  {
   "cell_type": "code",
   "execution_count": 4,
   "metadata": {},
   "outputs": [
    {
     "data": {
      "text/html": [
       "<div>\n",
       "<style scoped>\n",
       "    .dataframe tbody tr th:only-of-type {\n",
       "        vertical-align: middle;\n",
       "    }\n",
       "\n",
       "    .dataframe tbody tr th {\n",
       "        vertical-align: top;\n",
       "    }\n",
       "\n",
       "    .dataframe thead th {\n",
       "        text-align: right;\n",
       "    }\n",
       "</style>\n",
       "<table border=\"1\" class=\"dataframe\">\n",
       "  <thead>\n",
       "    <tr style=\"text-align: right;\">\n",
       "      <th></th>\n",
       "      <th>Пол</th>\n",
       "      <th>Возраст</th>\n",
       "      <th>Зарплата</th>\n",
       "      <th>Члены семьи</th>\n",
       "      <th>Страховые выплаты</th>\n",
       "    </tr>\n",
       "  </thead>\n",
       "  <tbody>\n",
       "    <tr>\n",
       "      <th>count</th>\n",
       "      <td>5000.000000</td>\n",
       "      <td>5000.000000</td>\n",
       "      <td>5000.000000</td>\n",
       "      <td>5000.000000</td>\n",
       "      <td>5000.000000</td>\n",
       "    </tr>\n",
       "    <tr>\n",
       "      <th>mean</th>\n",
       "      <td>0.499000</td>\n",
       "      <td>30.952800</td>\n",
       "      <td>39916.360000</td>\n",
       "      <td>1.194200</td>\n",
       "      <td>0.148000</td>\n",
       "    </tr>\n",
       "    <tr>\n",
       "      <th>std</th>\n",
       "      <td>0.500049</td>\n",
       "      <td>8.440807</td>\n",
       "      <td>9900.083569</td>\n",
       "      <td>1.091387</td>\n",
       "      <td>0.463183</td>\n",
       "    </tr>\n",
       "    <tr>\n",
       "      <th>min</th>\n",
       "      <td>0.000000</td>\n",
       "      <td>18.000000</td>\n",
       "      <td>5300.000000</td>\n",
       "      <td>0.000000</td>\n",
       "      <td>0.000000</td>\n",
       "    </tr>\n",
       "    <tr>\n",
       "      <th>25%</th>\n",
       "      <td>0.000000</td>\n",
       "      <td>24.000000</td>\n",
       "      <td>33300.000000</td>\n",
       "      <td>0.000000</td>\n",
       "      <td>0.000000</td>\n",
       "    </tr>\n",
       "    <tr>\n",
       "      <th>50%</th>\n",
       "      <td>0.000000</td>\n",
       "      <td>30.000000</td>\n",
       "      <td>40200.000000</td>\n",
       "      <td>1.000000</td>\n",
       "      <td>0.000000</td>\n",
       "    </tr>\n",
       "    <tr>\n",
       "      <th>75%</th>\n",
       "      <td>1.000000</td>\n",
       "      <td>37.000000</td>\n",
       "      <td>46600.000000</td>\n",
       "      <td>2.000000</td>\n",
       "      <td>0.000000</td>\n",
       "    </tr>\n",
       "    <tr>\n",
       "      <th>max</th>\n",
       "      <td>1.000000</td>\n",
       "      <td>65.000000</td>\n",
       "      <td>79000.000000</td>\n",
       "      <td>6.000000</td>\n",
       "      <td>5.000000</td>\n",
       "    </tr>\n",
       "  </tbody>\n",
       "</table>\n",
       "</div>"
      ],
      "text/plain": [
       "               Пол      Возраст      Зарплата  Члены семьи  Страховые выплаты\n",
       "count  5000.000000  5000.000000   5000.000000  5000.000000        5000.000000\n",
       "mean      0.499000    30.952800  39916.360000     1.194200           0.148000\n",
       "std       0.500049     8.440807   9900.083569     1.091387           0.463183\n",
       "min       0.000000    18.000000   5300.000000     0.000000           0.000000\n",
       "25%       0.000000    24.000000  33300.000000     0.000000           0.000000\n",
       "50%       0.000000    30.000000  40200.000000     1.000000           0.000000\n",
       "75%       1.000000    37.000000  46600.000000     2.000000           0.000000\n",
       "max       1.000000    65.000000  79000.000000     6.000000           5.000000"
      ]
     },
     "execution_count": 4,
     "metadata": {},
     "output_type": "execute_result"
    }
   ],
   "source": [
    "data.describe()"
   ]
  },
  {
   "cell_type": "code",
   "execution_count": 5,
   "metadata": {},
   "outputs": [
    {
     "data": {
      "image/png": "[encoded data removed]",
      "text/plain": [
       "<Figure size 432x288 with 1 Axes>"
      ]
     },
     "metadata": {},
     "output_type": "display_data"
    }
   ],
   "source": [
    "data.groupby(['Пол']).count().plot(kind='pie', y='Возраст', autopct='%.2f', labels=['Мужской', 'Женский'])\n",
    "plt.ylabel('Распределние полов');"
   ]
  },
  {
   "cell_type": "code",
   "execution_count": 6,
   "metadata": {},
   "outputs": [
    {
     "data": {
      "image/png": "[encoded data removed]",
      "text/plain": [
       "<Figure size 432x288 with 1 Axes>"
      ]
     },
     "metadata": {},
     "output_type": "display_data"
    }
   ],
   "source": [
    "data.groupby(['Члены семьи']).count().plot(kind='pie', y='Возраст', autopct='%.2f')\n",
    "plt.ylabel('Распределние по членам семьи');"
   ]
  },
  {
   "cell_type": "code",
   "execution_count": 7,
   "metadata": {},
   "outputs": [
    {
     "data": {
      "image/png": "[encoded data removed]",
      "text/plain": [
       "<Figure size 432x288 with 1 Axes>"
      ]
     },
     "metadata": {},
     "output_type": "display_data"
    }
   ],
   "source": [
    "data.groupby(['Страховые выплаты']).count().plot(kind='pie', y='Возраст', autopct='%.2f')\n",
    "plt.ylabel('По кол-ву страховых выплат');"
   ]
  },
  {
   "cell_type": "code",
   "execution_count": 8,
   "metadata": {},
   "outputs": [
    {
     "data": {
      "image/png": "[encoded data removed]",
      "text/plain": [
       "<Figure size 432x288 with 1 Axes>"
      ]
     },
     "metadata": {
      "needs_background": "light"
     },
     "output_type": "display_data"
    }
   ],
   "source": [
    "data['Зарплата'].hist();"
   ]
  },
  {
   "cell_type": "code",
   "execution_count": 9,
   "metadata": {},
   "outputs": [
    {
     "data": {
      "image/png": "[encoded data removed]",
      "text/plain": [
       "<Figure size 432x288 with 1 Axes>"
      ]
     },
     "metadata": {
      "needs_background": "light"
     },
     "output_type": "display_data"
    }
   ],
   "source": [
    "data['Возраст'].hist();"
   ]
  },
  {
   "attachments": {
    "image.png": {
     "image/png": "[encoded data removed]"
    }
   },
   "cell_type": "markdown",
   "metadata": {},
   "source": [
    "![image.png](attachment:image.png)"
   ]
  },
  {
   "cell_type": "markdown",
   "metadata": {},
   "source": []
  },
  {
   "cell_type": "markdown",
   "metadata": {},
   "source": [
    "## Умножение матриц"
   ]
  },
  {
   "cell_type": "markdown",
   "metadata": {},
   "source": [
    "В этом задании вы можете записывать формулы в *Jupyter Notebook.*\n",
    "\n",
    "Чтобы записать формулу внутри текста, окружите её символами доллара \\\\$; если снаружи —  двойными символами \\\\$\\\\$. Эти формулы записываются на языке вёрстки *LaTeX.* \n",
    "\n",
    "Для примера мы записали формулы линейной регрессии. Можете их скопировать и отредактировать, чтобы решить задачу.\n",
    "\n",
    "Работать в *LaTeX* необязательно."
   ]
  },
  {
   "cell_type": "markdown",
   "metadata": {},
   "source": [
    "Обозначения:\n",
    "\n",
    "- $X$ — матрица признаков (нулевой столбец состоит из единиц)\n",
    "\n",
    "- $y$ — вектор целевого признака\n",
    "\n",
    "- $P$ — матрица, на которую умножаются признаки\n",
    "\n",
    "- $w$ — вектор весов линейной регрессии (нулевой элемент равен сдвигу)"
   ]
  },
  {
   "cell_type": "markdown",
   "metadata": {},
   "source": [
    "Предсказания:\n",
    "\n",
    "$$\n",
    "a = Xw\n",
    "$$\n",
    "\n",
    "Задача обучения:\n",
    "\n",
    "$$\n",
    "w = \\arg\\min_w MSE(Xw, y)\n",
    "$$\n",
    "\n",
    "Формула обучения:\n",
    "\n",
    "$$\n",
    "w = (X^T X)^{-1} X^T y\n",
    "$$"
   ]
  },
  {
   "cell_type": "markdown",
   "metadata": {},
   "source": [
    " Признаки умножают на обратимую матрицу. Изменится ли качество линейной регрессии?"
   ]
  },
  {
   "cell_type": "markdown",
   "metadata": {},
   "source": [
    "**Ответ:** нет\n",
    "\n",
    "**Обоснование:** Пусть $A$ - случайная обратимая матрица, тогда получим:  \n",
    "\n",
    "$$\n",
    "a_{1} = X_{1}w_{1}\n",
    "$$\n",
    "\n",
    "Где:  \n",
    "\n",
    "$$\n",
    "X_{1} = XA\n",
    "$$\n",
    "\n",
    "Тогда:\n",
    "\n",
    "$$\n",
    "w_{1} = (X_{1}^T X_{1})^{-1} X_{1}^T y\n",
    "$$\n",
    "\n",
    "$$\n",
    "w_{1} = ((XA)^T(XA))^{-1}(XA)^T y\n",
    "$$\n",
    "\n",
    "$$\n",
    "w_{1} = (A^TX^TXA)^{-1}A^TX^T y\n",
    "$$\n",
    "\n",
    "$$\n",
    "w_{1} = (A^TX^TXA)^{-1}A^TX^T y\n",
    "$$\n",
    "\n",
    "$$\n",
    "w_{1} = A^{-1}(X^TX)^{-1}(A^T)^{-1}A^TX^T y\n",
    "$$\n",
    "\n",
    "Т.к. $(A^T)^{-1}A^T = E$, получим:  \n",
    "\n",
    "$$\n",
    "w_{1} = A^{-1}(X^TX)^{-1}X^T y\n",
    "$$\n",
    "\n",
    "$(X^TX)^{-1}X^T y = w$, следовательно:\n",
    "\n",
    "$$\n",
    "w_{1} = A^{-1}w\n",
    "$$\n",
    "\n",
    "Посмотрим, что у нас получилось:  \n",
    "\n",
    "$$\n",
    "a_{1} = X_{1}w_{1}\n",
    "$$\n",
    "\n",
    "$$\n",
    "a_{1} =  XAA^{-1}w\n",
    "$$\n",
    "\n",
    "$$\n",
    "a_{1} = Xw\n",
    "$$\n",
    "\n",
    "Ч. и т. д."
   ]
  },
  {
   "cell_type": "markdown",
   "metadata": {},
   "source": [
    "## Алгоритм преобразования"
   ]
  },
  {
   "cell_type": "markdown",
   "metadata": {},
   "source": [
    "**Алгоритм**\n",
    "\n",
    "Будем умножать матрицу наших признаков на случайную обратимую матрицу.  Для ее проверки на обратимость будем проверять значение ее определителя(для обратимой матрице он должен быть не равен 0).\n",
    "\n",
    "В методе fit() создаем обратимую матрицу, умножим матрицу признаков на случайную матрицу, добавим единичный столбец, создадим переменные w и w0. В методе predict() умножим тестовые признаки на случайную матрицу и вернем произведение, получившегося результата, на w, в сумме с w0. "
   ]
  },
  {
   "cell_type": "markdown",
   "metadata": {},
   "source": [
    "**Обоснование**\n",
    "\n",
    "На основе предыдущего пункта, можем с уверенностью сказать, что умножение на случайную обратимую матрицу наших выборок, не изменит качества линейной регрессии."
   ]
  },
  {
   "cell_type": "markdown",
   "metadata": {},
   "source": [
    "## Проверка алгоритма"
   ]
  },
  {
   "cell_type": "markdown",
   "metadata": {},
   "source": [
    "Для проверки создадим 2 алгоритма: с защитой данных и без."
   ]
  },
  {
   "cell_type": "code",
   "execution_count": 10,
   "metadata": {},
   "outputs": [],
   "source": [
    "class LinearRegression_def:\n",
    "    def fit(self, train_features, train_target):\n",
    "        length = len(train_features.columns)\n",
    "        det = 0\n",
    "        while(det == 0):\n",
    "            self.A = np.random.normal(size=(length, length))\n",
    "            det = np.linalg.det(self.A)\n",
    "        X = train_features @ self.A\n",
    "        X = np.concatenate((np.ones((X.shape[0], 1)), X), axis=1)\n",
    "        y = train_target\n",
    "        w = (np.linalg.inv(X.T.dot(X)).dot(X.T)).dot(y)\n",
    "        self.w = w[1:]\n",
    "        self.w0 = w[0]\n",
    "\n",
    "    def predict(self, test_features):\n",
    "        B = test_features @ self.A\n",
    "        return B.dot(self.w) + self.w0"
   ]
  },
  {
   "cell_type": "code",
   "execution_count": 11,
   "metadata": {},
   "outputs": [],
   "source": [
    "class LinearRegression:\n",
    "    def fit(self, train_features, train_target):\n",
    "        X = np.concatenate((np.ones((train_features.shape[0], 1)), train_features), axis=1)\n",
    "        y = train_target\n",
    "        w = (np.linalg.inv(X.T.dot(X)).dot(X.T)).dot(y)\n",
    "        self.w = w[1:]\n",
    "        self.w0 = w[0]\n",
    "\n",
    "    def predict(self, test_features):\n",
    "        return test_features.dot(self.w) + self.w0"
   ]
  },
  {
   "cell_type": "markdown",
   "metadata": {},
   "source": [
    "Проверим алгоритм. Но для начала подготовим данные. Разделим их на обучающие и тестовые выборки."
   ]
  },
  {
   "cell_type": "code",
   "execution_count": 12,
   "metadata": {},
   "outputs": [],
   "source": [
    "features = data.drop('Страховые выплаты', axis=1)\n",
    "target = data['Страховые выплаты']"
   ]
  },
  {
   "cell_type": "code",
   "execution_count": 13,
   "metadata": {},
   "outputs": [],
   "source": [
    "features_train, features_test, target_train, target_test = train_test_split(features, target,\n",
    "                                                                           test_size=0.25, random_state=12345)"
   ]
  },
  {
   "cell_type": "code",
   "execution_count": 14,
   "metadata": {},
   "outputs": [
    {
     "name": "stdout",
     "output_type": "stream",
     "text": [
      "<class 'pandas.core.frame.DataFrame'>\n",
      "Int64Index: 3750 entries, 3369 to 4578\n",
      "Data columns (total 4 columns):\n",
      " #   Column       Non-Null Count  Dtype  \n",
      "---  ------       --------------  -----  \n",
      " 0   Пол          3750 non-null   int64  \n",
      " 1   Возраст      3750 non-null   float64\n",
      " 2   Зарплата     3750 non-null   float64\n",
      " 3   Члены семьи  3750 non-null   int64  \n",
      "dtypes: float64(2), int64(2)\n",
      "memory usage: 146.5 KB\n"
     ]
    }
   ],
   "source": [
    "features_train.info()"
   ]
  },
  {
   "cell_type": "code",
   "execution_count": 15,
   "metadata": {},
   "outputs": [
    {
     "data": {
      "text/plain": [
       "3750"
      ]
     },
     "execution_count": 15,
     "metadata": {},
     "output_type": "execute_result"
    }
   ],
   "source": [
    "len(target_train)"
   ]
  },
  {
   "cell_type": "code",
   "execution_count": 16,
   "metadata": {},
   "outputs": [
    {
     "name": "stdout",
     "output_type": "stream",
     "text": [
      "<class 'pandas.core.frame.DataFrame'>\n",
      "Int64Index: 1250 entries, 3183 to 1205\n",
      "Data columns (total 4 columns):\n",
      " #   Column       Non-Null Count  Dtype  \n",
      "---  ------       --------------  -----  \n",
      " 0   Пол          1250 non-null   int64  \n",
      " 1   Возраст      1250 non-null   float64\n",
      " 2   Зарплата     1250 non-null   float64\n",
      " 3   Члены семьи  1250 non-null   int64  \n",
      "dtypes: float64(2), int64(2)\n",
      "memory usage: 48.8 KB\n"
     ]
    }
   ],
   "source": [
    "features_test.info()"
   ]
  },
  {
   "cell_type": "code",
   "execution_count": 17,
   "metadata": {},
   "outputs": [
    {
     "data": {
      "text/plain": [
       "1250"
      ]
     },
     "execution_count": 17,
     "metadata": {},
     "output_type": "execute_result"
    }
   ],
   "source": [
    "len(target_test)"
   ]
  },
  {
   "cell_type": "markdown",
   "metadata": {},
   "source": [
    "Маштабируем признаки."
   ]
  },
  {
   "cell_type": "code",
   "execution_count": 18,
   "metadata": {},
   "outputs": [
    {
     "data": {
      "text/html": [
       "<div>\n",
       "<style scoped>\n",
       "    .dataframe tbody tr th:only-of-type {\n",
       "        vertical-align: middle;\n",
       "    }\n",
       "\n",
       "    .dataframe tbody tr th {\n",
       "        vertical-align: top;\n",
       "    }\n",
       "\n",
       "    .dataframe thead th {\n",
       "        text-align: right;\n",
       "    }\n",
       "</style>\n",
       "<table border=\"1\" class=\"dataframe\">\n",
       "  <thead>\n",
       "    <tr style=\"text-align: right;\">\n",
       "      <th></th>\n",
       "      <th>Пол</th>\n",
       "      <th>Возраст</th>\n",
       "      <th>Зарплата</th>\n",
       "      <th>Члены семьи</th>\n",
       "    </tr>\n",
       "  </thead>\n",
       "  <tbody>\n",
       "    <tr>\n",
       "      <th>3369</th>\n",
       "      <td>1</td>\n",
       "      <td>43.0</td>\n",
       "      <td>36200.0</td>\n",
       "      <td>1</td>\n",
       "    </tr>\n",
       "    <tr>\n",
       "      <th>1441</th>\n",
       "      <td>1</td>\n",
       "      <td>34.0</td>\n",
       "      <td>57600.0</td>\n",
       "      <td>0</td>\n",
       "    </tr>\n",
       "    <tr>\n",
       "      <th>571</th>\n",
       "      <td>0</td>\n",
       "      <td>32.0</td>\n",
       "      <td>41100.0</td>\n",
       "      <td>1</td>\n",
       "    </tr>\n",
       "    <tr>\n",
       "      <th>225</th>\n",
       "      <td>0</td>\n",
       "      <td>36.0</td>\n",
       "      <td>45100.0</td>\n",
       "      <td>1</td>\n",
       "    </tr>\n",
       "    <tr>\n",
       "      <th>2558</th>\n",
       "      <td>0</td>\n",
       "      <td>33.0</td>\n",
       "      <td>50600.0</td>\n",
       "      <td>2</td>\n",
       "    </tr>\n",
       "    <tr>\n",
       "      <th>...</th>\n",
       "      <td>...</td>\n",
       "      <td>...</td>\n",
       "      <td>...</td>\n",
       "      <td>...</td>\n",
       "    </tr>\n",
       "    <tr>\n",
       "      <th>3497</th>\n",
       "      <td>0</td>\n",
       "      <td>42.0</td>\n",
       "      <td>32100.0</td>\n",
       "      <td>0</td>\n",
       "    </tr>\n",
       "    <tr>\n",
       "      <th>3492</th>\n",
       "      <td>0</td>\n",
       "      <td>28.0</td>\n",
       "      <td>22700.0</td>\n",
       "      <td>4</td>\n",
       "    </tr>\n",
       "    <tr>\n",
       "      <th>2177</th>\n",
       "      <td>1</td>\n",
       "      <td>41.0</td>\n",
       "      <td>44700.0</td>\n",
       "      <td>1</td>\n",
       "    </tr>\n",
       "    <tr>\n",
       "      <th>3557</th>\n",
       "      <td>0</td>\n",
       "      <td>22.0</td>\n",
       "      <td>50100.0</td>\n",
       "      <td>4</td>\n",
       "    </tr>\n",
       "    <tr>\n",
       "      <th>4578</th>\n",
       "      <td>0</td>\n",
       "      <td>19.0</td>\n",
       "      <td>40800.0</td>\n",
       "      <td>0</td>\n",
       "    </tr>\n",
       "  </tbody>\n",
       "</table>\n",
       "<p>3750 rows × 4 columns</p>\n",
       "</div>"
      ],
      "text/plain": [
       "      Пол  Возраст  Зарплата  Члены семьи\n",
       "3369    1     43.0   36200.0            1\n",
       "1441    1     34.0   57600.0            0\n",
       "571     0     32.0   41100.0            1\n",
       "225     0     36.0   45100.0            1\n",
       "2558    0     33.0   50600.0            2\n",
       "...   ...      ...       ...          ...\n",
       "3497    0     42.0   32100.0            0\n",
       "3492    0     28.0   22700.0            4\n",
       "2177    1     41.0   44700.0            1\n",
       "3557    0     22.0   50100.0            4\n",
       "4578    0     19.0   40800.0            0\n",
       "\n",
       "[3750 rows x 4 columns]"
      ]
     },
     "execution_count": 18,
     "metadata": {},
     "output_type": "execute_result"
    }
   ],
   "source": [
    "features_train"
   ]
  },
  {
   "cell_type": "code",
   "execution_count": 19,
   "metadata": {},
   "outputs": [],
   "source": [
    "numerical = ['Возраст', 'Зарплата', 'Члены семьи']\n",
    "scaler = StandardScaler()\n",
    "scaler.fit(features_train[numerical])\n",
    "features_train[numerical] = scaler.transform(features_train[numerical])\n",
    "features_test[numerical] = scaler.transform(features_test[numerical])"
   ]
  },
  {
   "cell_type": "markdown",
   "metadata": {},
   "source": [
    "Обучим модели и проверим их на метрике R2"
   ]
  },
  {
   "cell_type": "code",
   "execution_count": 20,
   "metadata": {},
   "outputs": [
    {
     "name": "stdout",
     "output_type": "stream",
     "text": [
      "R2 модели без защиты данных равен 0.4352275712702667\n"
     ]
    }
   ],
   "source": [
    "model = LinearRegression()\n",
    "model.fit(features_train, target_train)\n",
    "predcitions = model.predict(features_test)\n",
    "print('R2 модели без защиты данных равен', r2_score(target_test, predcitions))"
   ]
  },
  {
   "cell_type": "code",
   "execution_count": 21,
   "metadata": {},
   "outputs": [
    {
     "name": "stdout",
     "output_type": "stream",
     "text": [
      "R2 модели с защитой данных равен 0.4352275712702667\n"
     ]
    }
   ],
   "source": [
    "model_def = LinearRegression_def()\n",
    "model_def.fit(features_train, target_train)\n",
    "predcitions_def = model_def.predict(features_test)\n",
    "print('R2 модели с защитой данных равен', r2_score(target_test, predcitions_def))"
   ]
  },
  {
   "cell_type": "markdown",
   "metadata": {},
   "source": [
    "R2 моделей с защитой данных и без практически равны. Качество не изменилось, следовательно уместно осуществлять защиту данных с помощью случайной обратимой матрицы."
   ]
  },
  {
   "cell_type": "code",
   "execution_count": null,
   "metadata": {},
   "outputs": [],
   "source": []
  }
 ],
 "metadata": {
  "ExecuteTimeLog": [
   {
    "duration": 539,
    "start_time": "2023-11-06T09:36:27.241Z"
   },
   {
    "duration": 2,
    "start_time": "2023-11-06T09:36:31.681Z"
   },
   {
    "duration": 93,
    "start_time": "2023-11-06T09:37:01.857Z"
   },
   {
    "duration": 12,
    "start_time": "2023-11-06T09:37:12.913Z"
   },
   {
    "duration": 807,
    "start_time": "2023-11-06T10:33:52.198Z"
   },
   {
    "duration": 4,
    "start_time": "2023-11-06T10:36:11.490Z"
   },
   {
    "duration": 3,
    "start_time": "2023-11-06T10:59:15.615Z"
   },
   {
    "duration": 3,
    "start_time": "2023-11-06T10:59:18.526Z"
   },
   {
    "duration": 4,
    "start_time": "2023-11-06T10:59:24.981Z"
   },
   {
    "duration": 6,
    "start_time": "2023-11-06T10:59:30.389Z"
   },
   {
    "duration": 5,
    "start_time": "2023-11-06T11:04:38.646Z"
   },
   {
    "duration": 4,
    "start_time": "2023-11-06T11:07:04.472Z"
   },
   {
    "duration": 6,
    "start_time": "2023-11-06T11:07:15.951Z"
   },
   {
    "duration": 5,
    "start_time": "2023-11-06T11:07:17.467Z"
   },
   {
    "duration": 3,
    "start_time": "2023-11-06T11:08:01.795Z"
   },
   {
    "duration": 4,
    "start_time": "2023-11-06T11:08:52.188Z"
   },
   {
    "duration": 6,
    "start_time": "2023-11-06T11:09:54.855Z"
   },
   {
    "duration": 13,
    "start_time": "2023-11-06T11:10:07.989Z"
   },
   {
    "duration": 50,
    "start_time": "2023-11-06T11:10:21.606Z"
   },
   {
    "duration": 5,
    "start_time": "2023-11-06T11:10:24.166Z"
   },
   {
    "duration": 3,
    "start_time": "2023-11-06T11:10:32.118Z"
   },
   {
    "duration": 11,
    "start_time": "2023-11-06T11:10:41.373Z"
   },
   {
    "duration": 5,
    "start_time": "2023-11-06T11:10:52.325Z"
   },
   {
    "duration": 2,
    "start_time": "2023-11-06T11:14:17.041Z"
   },
   {
    "duration": 10,
    "start_time": "2023-11-06T11:15:37.081Z"
   },
   {
    "duration": 11,
    "start_time": "2023-11-06T11:15:46.392Z"
   },
   {
    "duration": 12,
    "start_time": "2023-11-06T11:15:54.563Z"
   },
   {
    "duration": 63,
    "start_time": "2023-11-06T11:18:06.986Z"
   },
   {
    "duration": 6,
    "start_time": "2023-11-06T11:18:32.183Z"
   },
   {
    "duration": 13,
    "start_time": "2023-11-06T11:19:03.051Z"
   },
   {
    "duration": 5,
    "start_time": "2023-11-06T11:19:19.803Z"
   },
   {
    "duration": 14,
    "start_time": "2023-11-06T11:19:21.979Z"
   },
   {
    "duration": 13,
    "start_time": "2023-11-06T11:19:23.355Z"
   },
   {
    "duration": 5,
    "start_time": "2023-11-06T11:19:47.212Z"
   },
   {
    "duration": 7,
    "start_time": "2023-11-06T11:19:49.043Z"
   },
   {
    "duration": 8,
    "start_time": "2023-11-06T11:20:26.652Z"
   },
   {
    "duration": 1135,
    "start_time": "2023-11-06T11:21:39.621Z"
   },
   {
    "duration": 44,
    "start_time": "2023-11-06T11:21:40.758Z"
   },
   {
    "duration": 11,
    "start_time": "2023-11-06T11:21:40.804Z"
   },
   {
    "duration": 5,
    "start_time": "2023-11-06T11:21:40.818Z"
   },
   {
    "duration": 15,
    "start_time": "2023-11-06T11:21:40.825Z"
   },
   {
    "duration": 22,
    "start_time": "2023-11-06T11:21:40.842Z"
   },
   {
    "duration": 24,
    "start_time": "2023-11-06T11:21:40.866Z"
   },
   {
    "duration": 26,
    "start_time": "2023-11-06T11:21:40.892Z"
   },
   {
    "duration": 21,
    "start_time": "2023-11-06T11:21:40.920Z"
   },
   {
    "duration": 33,
    "start_time": "2023-11-06T11:21:40.943Z"
   },
   {
    "duration": 40,
    "start_time": "2023-11-06T11:21:40.977Z"
   },
   {
    "duration": 23,
    "start_time": "2023-11-06T11:21:41.019Z"
   },
   {
    "duration": 38,
    "start_time": "2023-11-06T11:21:41.044Z"
   },
   {
    "duration": 68,
    "start_time": "2023-11-06T11:21:41.084Z"
   },
   {
    "duration": 1182,
    "start_time": "2023-11-06T11:22:14.806Z"
   },
   {
    "duration": 45,
    "start_time": "2023-11-06T11:22:15.990Z"
   },
   {
    "duration": 14,
    "start_time": "2023-11-06T11:22:16.039Z"
   },
   {
    "duration": 6,
    "start_time": "2023-11-06T11:22:16.055Z"
   },
   {
    "duration": 15,
    "start_time": "2023-11-06T11:22:16.062Z"
   },
   {
    "duration": 14,
    "start_time": "2023-11-06T11:22:16.079Z"
   },
   {
    "duration": 19,
    "start_time": "2023-11-06T11:22:16.095Z"
   },
   {
    "duration": 26,
    "start_time": "2023-11-06T11:22:16.116Z"
   },
   {
    "duration": 6,
    "start_time": "2023-11-06T11:22:16.145Z"
   },
   {
    "duration": 23,
    "start_time": "2023-11-06T11:22:16.154Z"
   },
   {
    "duration": 7,
    "start_time": "2023-11-06T11:22:16.179Z"
   },
   {
    "duration": 14,
    "start_time": "2023-11-06T11:22:16.188Z"
   },
   {
    "duration": 8,
    "start_time": "2023-11-06T11:22:16.203Z"
   },
   {
    "duration": 9,
    "start_time": "2023-11-06T11:22:16.247Z"
   },
   {
    "duration": 1136,
    "start_time": "2023-11-06T11:22:28.042Z"
   },
   {
    "duration": 43,
    "start_time": "2023-11-06T11:22:29.181Z"
   },
   {
    "duration": 11,
    "start_time": "2023-11-06T11:22:29.225Z"
   },
   {
    "duration": 13,
    "start_time": "2023-11-06T11:22:29.238Z"
   },
   {
    "duration": 6,
    "start_time": "2023-11-06T11:22:29.252Z"
   },
   {
    "duration": 5,
    "start_time": "2023-11-06T11:22:29.259Z"
   },
   {
    "duration": 6,
    "start_time": "2023-11-06T11:22:29.266Z"
   },
   {
    "duration": 10,
    "start_time": "2023-11-06T11:22:29.273Z"
   },
   {
    "duration": 23,
    "start_time": "2023-11-06T11:22:29.284Z"
   },
   {
    "duration": 11,
    "start_time": "2023-11-06T11:22:29.309Z"
   },
   {
    "duration": 4,
    "start_time": "2023-11-06T11:22:29.323Z"
   },
   {
    "duration": 28,
    "start_time": "2023-11-06T11:22:29.329Z"
   },
   {
    "duration": 13,
    "start_time": "2023-11-06T11:22:29.360Z"
   },
   {
    "duration": 10,
    "start_time": "2023-11-06T11:22:29.446Z"
   },
   {
    "duration": 2463,
    "start_time": "2023-11-06T11:41:01.112Z"
   },
   {
    "duration": 97,
    "start_time": "2023-11-06T11:41:03.577Z"
   },
   {
    "duration": 5,
    "start_time": "2023-11-06T11:46:03.373Z"
   },
   {
    "duration": 4,
    "start_time": "2023-11-06T11:46:06.405Z"
   },
   {
    "duration": 4,
    "start_time": "2023-11-06T11:49:09.526Z"
   },
   {
    "duration": 5,
    "start_time": "2023-11-06T11:49:10.303Z"
   },
   {
    "duration": 13,
    "start_time": "2023-11-06T11:49:11.986Z"
   },
   {
    "duration": 4,
    "start_time": "2023-11-06T11:49:13.765Z"
   },
   {
    "duration": 9,
    "start_time": "2023-11-06T11:49:18.232Z"
   },
   {
    "duration": 4,
    "start_time": "2023-11-06T11:49:18.825Z"
   },
   {
    "duration": 9,
    "start_time": "2023-11-06T11:49:23.905Z"
   },
   {
    "duration": 10,
    "start_time": "2023-11-06T11:49:59.622Z"
   },
   {
    "duration": 5,
    "start_time": "2023-11-06T11:50:05.630Z"
   },
   {
    "duration": 11,
    "start_time": "2023-11-06T11:50:06.287Z"
   },
   {
    "duration": 3,
    "start_time": "2023-11-06T11:50:06.882Z"
   },
   {
    "duration": 10,
    "start_time": "2023-11-06T11:50:07.421Z"
   },
   {
    "duration": 4,
    "start_time": "2023-11-06T11:50:07.852Z"
   },
   {
    "duration": 12,
    "start_time": "2023-11-06T11:50:09.335Z"
   },
   {
    "duration": 9,
    "start_time": "2023-11-06T11:52:13.249Z"
   },
   {
    "duration": 7,
    "start_time": "2023-11-06T11:52:13.986Z"
   },
   {
    "duration": 812,
    "start_time": "2023-11-06T12:25:19.410Z"
   },
   {
    "duration": 115,
    "start_time": "2023-11-06T12:25:29.825Z"
   },
   {
    "duration": 463,
    "start_time": "2023-11-06T12:26:13.043Z"
   },
   {
    "duration": 1508,
    "start_time": "2023-11-06T12:27:41.075Z"
   },
   {
    "duration": 1785,
    "start_time": "2023-11-06T12:27:49.555Z"
   },
   {
    "duration": 1664,
    "start_time": "2023-11-06T12:28:03.650Z"
   },
   {
    "duration": 1366,
    "start_time": "2023-11-06T12:28:26.483Z"
   },
   {
    "duration": 10,
    "start_time": "2023-11-06T12:30:02.221Z"
   },
   {
    "duration": 394,
    "start_time": "2023-11-06T12:30:06.109Z"
   },
   {
    "duration": 357,
    "start_time": "2023-11-06T12:30:22.532Z"
   },
   {
    "duration": 400,
    "start_time": "2023-11-06T12:30:29.381Z"
   },
   {
    "duration": 13,
    "start_time": "2023-11-06T12:31:09.468Z"
   },
   {
    "duration": 13,
    "start_time": "2023-11-06T12:31:13.421Z"
   },
   {
    "duration": 29773,
    "start_time": "2023-11-06T12:31:26.629Z"
   },
   {
    "duration": 10,
    "start_time": "2023-11-06T12:32:47.950Z"
   },
   {
    "duration": 13,
    "start_time": "2023-11-06T12:33:08.431Z"
   },
   {
    "duration": 12,
    "start_time": "2023-11-06T12:33:17.143Z"
   },
   {
    "duration": 12,
    "start_time": "2023-11-06T12:34:36.975Z"
   },
   {
    "duration": 1325,
    "start_time": "2023-11-06T12:34:42.112Z"
   },
   {
    "duration": 3,
    "start_time": "2023-11-06T12:35:18.680Z"
   },
   {
    "duration": 11,
    "start_time": "2023-11-06T12:35:31.608Z"
   },
   {
    "duration": 19026,
    "start_time": "2023-11-06T12:36:23.849Z"
   },
   {
    "duration": 146,
    "start_time": "2023-11-06T12:37:44.481Z"
   },
   {
    "duration": 9,
    "start_time": "2023-11-06T12:39:17.699Z"
   },
   {
    "duration": 9,
    "start_time": "2023-11-06T12:39:30.426Z"
   },
   {
    "duration": 10,
    "start_time": "2023-11-06T12:40:06.204Z"
   },
   {
    "duration": 9521,
    "start_time": "2023-11-06T12:40:17.780Z"
   },
   {
    "duration": 160,
    "start_time": "2023-11-06T12:40:54.076Z"
   },
   {
    "duration": 147,
    "start_time": "2023-11-06T12:41:01.636Z"
   },
   {
    "duration": 25,
    "start_time": "2023-11-06T12:41:12.716Z"
   },
   {
    "duration": 137,
    "start_time": "2023-11-06T12:44:17.934Z"
   },
   {
    "duration": 142,
    "start_time": "2023-11-06T12:44:30.646Z"
   },
   {
    "duration": 126,
    "start_time": "2023-11-06T12:44:34.303Z"
   },
   {
    "duration": 124,
    "start_time": "2023-11-06T12:44:40.743Z"
   },
   {
    "duration": 155,
    "start_time": "2023-11-06T12:44:46.350Z"
   },
   {
    "duration": 111,
    "start_time": "2023-11-06T12:46:49.256Z"
   },
   {
    "duration": 73,
    "start_time": "2023-11-06T12:46:58.920Z"
   },
   {
    "duration": 82,
    "start_time": "2023-11-06T12:47:23.640Z"
   },
   {
    "duration": 108,
    "start_time": "2023-11-06T12:47:51.609Z"
   },
   {
    "duration": 112,
    "start_time": "2023-11-06T12:47:55.017Z"
   },
   {
    "duration": 5,
    "start_time": "2023-11-06T12:48:07.377Z"
   },
   {
    "duration": 10,
    "start_time": "2023-11-06T12:48:19.233Z"
   },
   {
    "duration": 9,
    "start_time": "2023-11-06T12:48:24.473Z"
   },
   {
    "duration": 12,
    "start_time": "2023-11-06T12:49:10.454Z"
   },
   {
    "duration": 10,
    "start_time": "2023-11-06T12:49:16.410Z"
   },
   {
    "duration": 10,
    "start_time": "2023-11-06T12:49:27.666Z"
   },
   {
    "duration": 9,
    "start_time": "2023-11-06T12:49:28.634Z"
   },
   {
    "duration": 9,
    "start_time": "2023-11-06T12:49:30.554Z"
   },
   {
    "duration": 122,
    "start_time": "2023-11-06T12:49:40.978Z"
   },
   {
    "duration": 120,
    "start_time": "2023-11-06T12:50:11.810Z"
   },
   {
    "duration": 130,
    "start_time": "2023-11-06T12:50:29.282Z"
   },
   {
    "duration": 152,
    "start_time": "2023-11-06T12:50:42.034Z"
   },
   {
    "duration": 135,
    "start_time": "2023-11-06T12:51:01.082Z"
   },
   {
    "duration": 228,
    "start_time": "2023-11-06T12:51:42.900Z"
   },
   {
    "duration": 129,
    "start_time": "2023-11-06T12:51:59.852Z"
   },
   {
    "duration": 157,
    "start_time": "2023-11-06T12:52:10.971Z"
   },
   {
    "duration": 231,
    "start_time": "2023-11-06T12:52:29.310Z"
   },
   {
    "duration": 250,
    "start_time": "2023-11-06T12:52:59.773Z"
   },
   {
    "duration": 251,
    "start_time": "2023-11-06T12:53:12.629Z"
   },
   {
    "duration": 247,
    "start_time": "2023-11-06T12:53:24.854Z"
   },
   {
    "duration": 302,
    "start_time": "2023-11-06T12:53:29.725Z"
   },
   {
    "duration": 239,
    "start_time": "2023-11-06T12:53:49.109Z"
   },
   {
    "duration": 14,
    "start_time": "2023-11-06T12:57:03.967Z"
   },
   {
    "duration": 1429,
    "start_time": "2023-11-06T12:57:21.061Z"
   },
   {
    "duration": 40,
    "start_time": "2023-11-06T12:57:22.492Z"
   },
   {
    "duration": 12,
    "start_time": "2023-11-06T12:57:22.533Z"
   },
   {
    "duration": 40,
    "start_time": "2023-11-06T12:57:22.547Z"
   },
   {
    "duration": 154,
    "start_time": "2023-11-06T12:57:22.589Z"
   },
   {
    "duration": 240,
    "start_time": "2023-11-06T12:57:22.746Z"
   },
   {
    "duration": 254,
    "start_time": "2023-11-06T12:57:22.988Z"
   },
   {
    "duration": 156,
    "start_time": "2023-11-06T12:57:23.243Z"
   },
   {
    "duration": 139,
    "start_time": "2023-11-06T12:57:23.400Z"
   },
   {
    "duration": 5,
    "start_time": "2023-11-06T12:57:23.546Z"
   },
   {
    "duration": 29,
    "start_time": "2023-11-06T12:57:23.553Z"
   },
   {
    "duration": 29,
    "start_time": "2023-11-06T12:57:23.583Z"
   },
   {
    "duration": 23,
    "start_time": "2023-11-06T12:57:23.614Z"
   },
   {
    "duration": 28,
    "start_time": "2023-11-06T12:57:23.638Z"
   },
   {
    "duration": 8,
    "start_time": "2023-11-06T12:57:23.667Z"
   },
   {
    "duration": 18,
    "start_time": "2023-11-06T12:57:23.677Z"
   },
   {
    "duration": 20,
    "start_time": "2023-11-06T12:57:23.698Z"
   },
   {
    "duration": 23,
    "start_time": "2023-11-06T12:57:23.720Z"
   },
   {
    "duration": 40,
    "start_time": "2023-11-06T12:57:23.745Z"
   },
   {
    "duration": 259,
    "start_time": "2023-11-06T12:57:23.787Z"
   },
   {
    "duration": 0,
    "start_time": "2023-11-06T12:57:24.048Z"
   },
   {
    "duration": 13,
    "start_time": "2023-11-06T12:57:51.079Z"
   },
   {
    "duration": 1349,
    "start_time": "2023-11-06T12:58:16.604Z"
   },
   {
    "duration": 39,
    "start_time": "2023-11-06T12:58:17.955Z"
   },
   {
    "duration": 11,
    "start_time": "2023-11-06T12:58:17.996Z"
   },
   {
    "duration": 28,
    "start_time": "2023-11-06T12:58:18.009Z"
   },
   {
    "duration": 153,
    "start_time": "2023-11-06T12:58:18.039Z"
   },
   {
    "duration": 239,
    "start_time": "2023-11-06T12:58:18.194Z"
   },
   {
    "duration": 245,
    "start_time": "2023-11-06T12:58:18.435Z"
   },
   {
    "duration": 161,
    "start_time": "2023-11-06T12:58:18.682Z"
   },
   {
    "duration": 134,
    "start_time": "2023-11-06T12:58:18.847Z"
   },
   {
    "duration": 5,
    "start_time": "2023-11-06T12:58:18.984Z"
   },
   {
    "duration": 12,
    "start_time": "2023-11-06T12:58:18.991Z"
   },
   {
    "duration": 15,
    "start_time": "2023-11-06T12:58:19.005Z"
   },
   {
    "duration": 18,
    "start_time": "2023-11-06T12:58:19.022Z"
   },
   {
    "duration": 14,
    "start_time": "2023-11-06T12:58:19.041Z"
   },
   {
    "duration": 15,
    "start_time": "2023-11-06T12:58:19.057Z"
   },
   {
    "duration": 38,
    "start_time": "2023-11-06T12:58:19.073Z"
   },
   {
    "duration": 22,
    "start_time": "2023-11-06T12:58:19.113Z"
   },
   {
    "duration": 23,
    "start_time": "2023-11-06T12:58:19.137Z"
   },
   {
    "duration": 26,
    "start_time": "2023-11-06T12:58:19.162Z"
   },
   {
    "duration": 6,
    "start_time": "2023-11-06T12:58:19.189Z"
   },
   {
    "duration": 54,
    "start_time": "2023-11-06T12:58:19.197Z"
   },
   {
    "duration": 16,
    "start_time": "2023-11-06T12:58:37.457Z"
   },
   {
    "duration": 4,
    "start_time": "2023-11-06T12:59:48.994Z"
   },
   {
    "duration": 1444,
    "start_time": "2023-11-06T12:59:52.246Z"
   },
   {
    "duration": 39,
    "start_time": "2023-11-06T12:59:53.692Z"
   },
   {
    "duration": 13,
    "start_time": "2023-11-06T12:59:53.733Z"
   },
   {
    "duration": 32,
    "start_time": "2023-11-06T12:59:53.749Z"
   },
   {
    "duration": 178,
    "start_time": "2023-11-06T12:59:53.783Z"
   },
   {
    "duration": 253,
    "start_time": "2023-11-06T12:59:53.963Z"
   },
   {
    "duration": 256,
    "start_time": "2023-11-06T12:59:54.219Z"
   },
   {
    "duration": 159,
    "start_time": "2023-11-06T12:59:54.477Z"
   },
   {
    "duration": 135,
    "start_time": "2023-11-06T12:59:54.638Z"
   },
   {
    "duration": 5,
    "start_time": "2023-11-06T12:59:54.777Z"
   },
   {
    "duration": 5,
    "start_time": "2023-11-06T12:59:54.785Z"
   },
   {
    "duration": 14,
    "start_time": "2023-11-06T12:59:54.792Z"
   },
   {
    "duration": 10,
    "start_time": "2023-11-06T12:59:54.807Z"
   },
   {
    "duration": 12,
    "start_time": "2023-11-06T12:59:54.818Z"
   },
   {
    "duration": 5,
    "start_time": "2023-11-06T12:59:54.847Z"
   },
   {
    "duration": 18,
    "start_time": "2023-11-06T12:59:54.854Z"
   },
   {
    "duration": 8,
    "start_time": "2023-11-06T12:59:54.874Z"
   },
   {
    "duration": 17,
    "start_time": "2023-11-06T12:59:54.884Z"
   },
   {
    "duration": 17,
    "start_time": "2023-11-06T12:59:54.903Z"
   },
   {
    "duration": 28,
    "start_time": "2023-11-06T12:59:54.921Z"
   },
   {
    "duration": 95,
    "start_time": "2023-11-06T12:59:54.952Z"
   },
   {
    "duration": 1386,
    "start_time": "2023-11-06T13:00:53.581Z"
   },
   {
    "duration": 38,
    "start_time": "2023-11-06T13:00:54.970Z"
   },
   {
    "duration": 12,
    "start_time": "2023-11-06T13:00:55.010Z"
   },
   {
    "duration": 28,
    "start_time": "2023-11-06T13:00:55.025Z"
   },
   {
    "duration": 160,
    "start_time": "2023-11-06T13:00:55.054Z"
   },
   {
    "duration": 295,
    "start_time": "2023-11-06T13:00:55.216Z"
   },
   {
    "duration": 245,
    "start_time": "2023-11-06T13:00:55.514Z"
   },
   {
    "duration": 159,
    "start_time": "2023-11-06T13:00:55.761Z"
   },
   {
    "duration": 138,
    "start_time": "2023-11-06T13:00:55.922Z"
   },
   {
    "duration": 6,
    "start_time": "2023-11-06T13:00:56.062Z"
   },
   {
    "duration": 41,
    "start_time": "2023-11-06T13:00:56.069Z"
   },
   {
    "duration": 7,
    "start_time": "2023-11-06T13:00:56.112Z"
   },
   {
    "duration": 16,
    "start_time": "2023-11-06T13:00:56.121Z"
   },
   {
    "duration": 22,
    "start_time": "2023-11-06T13:00:56.138Z"
   },
   {
    "duration": 45,
    "start_time": "2023-11-06T13:00:56.162Z"
   },
   {
    "duration": 26,
    "start_time": "2023-11-06T13:00:56.208Z"
   },
   {
    "duration": 19,
    "start_time": "2023-11-06T13:00:56.236Z"
   },
   {
    "duration": 24,
    "start_time": "2023-11-06T13:00:56.257Z"
   },
   {
    "duration": 32,
    "start_time": "2023-11-06T13:00:56.283Z"
   },
   {
    "duration": 8,
    "start_time": "2023-11-06T13:00:56.317Z"
   },
   {
    "duration": 99,
    "start_time": "2023-11-06T13:00:56.348Z"
   }
  ],
  "kernelspec": {
   "display_name": "Python 3 (ipykernel)",
   "language": "python",
   "name": "python3"
  },
  "language_info": {
   "codemirror_mode": {
    "name": "ipython",
    "version": 3
   },
   "file_extension": ".py",
   "mimetype": "text/x-python",
   "name": "python",
   "nbconvert_exporter": "python",
   "pygments_lexer": "ipython3",
   "version": "3.9.18"
  },
  "toc": {
   "base_numbering": 1,
   "nav_menu": {},
   "number_sections": true,
   "sideBar": true,
   "skip_h1_title": true,
   "title_cell": "Содержание",
   "title_sidebar": "Contents",
   "toc_cell": true,
   "toc_position": {
    "height": "calc(100% - 180px)",
    "left": "10px",
    "top": "150px",
    "width": "349px"
   },
   "toc_section_display": true,
   "toc_window_display": true
  }
 },
 "nbformat": 4,
 "nbformat_minor": 4
}
